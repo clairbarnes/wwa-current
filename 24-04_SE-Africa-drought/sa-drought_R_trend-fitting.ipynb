{
 "cells": [
  {
   "cell_type": "code",
   "execution_count": 1,
   "id": "6166c414-93b0-451f-bc36-9eba696101bb",
   "metadata": {},
   "outputs": [
    {
     "name": "stderr",
     "output_type": "stream",
     "text": [
      "Loading required package: extRemes\n",
      "\n",
      "Loading required package: Lmoments\n",
      "\n",
      "Loading required package: distillery\n",
      "\n",
      "\n",
      "Attaching package: ‘extRemes’\n",
      "\n",
      "\n",
      "The following objects are masked from ‘package:stats’:\n",
      "\n",
      "    qqnorm, qqplot\n",
      "\n",
      "\n",
      "Loading required package: plyr\n",
      "\n",
      "\n",
      "Attaching package: ‘plyr’\n",
      "\n",
      "\n",
      "The following object is masked from ‘package:distillery’:\n",
      "\n",
      "    is.formula\n",
      "\n",
      "\n"
     ]
    }
   ],
   "source": [
    "library(rwwa)"
   ]
  },
  {
   "cell_type": "markdown",
   "id": "d23938d5-0fb6-4eea-85ae-d7f5e4b6405a",
   "metadata": {
    "tags": []
   },
   "source": [
    "## Per grid cell"
   ]
  },
  {
   "cell_type": "code",
   "execution_count": 2,
   "id": "db2af970-a39e-4e78-b50a-76f9c428c5d5",
   "metadata": {},
   "outputs": [],
   "source": [
    "gmst <- read.table(\"gmst.dat\", col.names = c(\"year\", \"gmst\"))\n",
    "gmst$gmst <- gmst$gmst - gmst$gmst[gmst$year == 2023]\n",
    "\n",
    "nino <- read.csv(\"nino34_djf.csv\", col.names = c(\"year\", \"nino\"))\n",
    "\n",
    "cov_2023 <- data.frame(gmst = gmst$gmst[gmst$year == 2023], nino = nino$nino[nino$year == 2023])\n",
    "cov_cf <- rbind(\"hist\" = cov_2023 - c(1.2, 0),\n",
    "                \"neut\" = c(cov_2023$gmst, 0))"
   ]
  },
  {
   "cell_type": "code",
   "execution_count": null,
   "id": "625fe05a-de7e-47da-9e9b-1275bd2d9acf",
   "metadata": {},
   "outputs": [],
   "source": [
    "fl = list.files(pattern = \"tamsat_pr-djf_flattened\")\n",
    "\n",
    "for(fnm in fl) {\n",
    "    df <- read.csv(fnm, skip = 3, header = F)\n",
    "    colnames(df)[1] <- \"year\"\n",
    "    df <- merge(merge(nino, gmst), df)\n",
    "    \n",
    "    # fit nonstationary model to all grid cells\n",
    "    models <- sapply(colnames(df)[-(1:3)], function(cnm) {\n",
    "        df_c <- df[,c(\"year\", \"gmst\", \"nino\", cnm)]\n",
    "        fit_ns(\"norm\", \"fixeddisp\", df_c, cnm, c(\"gmst\", \"nino\"), lower = T)\n",
    "    }, simplify = F)\n",
    "    \n",
    "    # get all model results & save as .csv to be reconstructed & plotted in python\n",
    "    fitted_res <- sapply(models, mdl_ests, cov_f = cov_2023, cov_cf = cov_cf)\n",
    "    fitted_res <- rbind(fitted_res, rp_neut = sapply(models, function(mdl) return_period(mdl, x = mdl$ev, fixed_cov = cov_cf[\"neut\",,drop=F])))\n",
    "    write.csv(fitted_res, gsub(\"flattened\", \"fitted\", fnm))\n",
    "}"
   ]
  },
  {
   "cell_type": "code",
   "execution_count": null,
   "id": "7a1b8db6-6fdc-4e6b-b28d-90e01f84aaf7",
   "metadata": {},
   "outputs": [],
   "source": []
  }
 ],
 "metadata": {
  "kernelspec": {
   "display_name": "R [conda env:r_env]",
   "language": "R",
   "name": "conda-env-r_env-r"
  },
  "language_info": {
   "codemirror_mode": "r",
   "file_extension": ".r",
   "mimetype": "text/x-r-source",
   "name": "R",
   "pygments_lexer": "r",
   "version": "4.2.3"
  }
 },
 "nbformat": 4,
 "nbformat_minor": 5
}
