{
 "cells": [
  {
   "cell_type": "code",
   "execution_count": 1,
   "metadata": {},
   "outputs": [],
   "source": [
    "import cdsapi, os\n",
    "from IPython.display import clear_output\n",
    "\n",
    "c = cdsapi.Client()\n",
    "xn,xx,yn,yx = [105,160,-10,45]\n",
    "\n",
    "outpath = \"/rds/general/user/cb2714/home/99_ephemera/pi_era5/\""
   ]
  },
  {
   "cell_type": "markdown",
   "metadata": {},
   "source": [
    "# Download variables"
   ]
  },
  {
   "cell_type": "code",
   "execution_count": null,
   "metadata": {},
   "outputs": [],
   "source": [
    "# for y in range(2023,1978,-1):\n",
    "#     new_fnm = outpath+\"sst_era5_\"+str(y)+\".nc\"\n",
    "#     if os.path.exists(new_fnm): continue\n",
    "        \n",
    "#     print(y)\n",
    "        \n",
    "#     c.retrieve(\"reanalysis-era5-single-levels\",\n",
    "#                {'product_type': ['reanalysis'],\n",
    "#                 'variable': ['sea_surface_temperature'],\n",
    "#                 'year': [str(y)],\n",
    "#                 'month': ['01', '02', '03', '04', '05', '06', '07', '08', '09', '10', '11', '12'],\n",
    "#                 'day': ['01', '02', '03', '04', '05', '06', '07', '08', '09', '10', '11', '12', '13', '14', '15', '16', '17', '18', '19', '20', '21', '22', '23', '24', '25', '26', '27', '28', '29', '30', '31'],\n",
    "#                 'time': ['00:00', '01:00', '02:00', '03:00', '04:00', '05:00', '06:00', '07:00', '08:00', '09:00', '10:00', '11:00', '12:00', '13:00', '14:00', '15:00', '16:00', '17:00', '18:00', '19:00', '20:00', '21:00', '22:00', '23:00'],\n",
    "#                 'data_format': 'netcdf',\n",
    "#                 'download_format': 'unarchived',\n",
    "#                 'area': [yx,xn,yn,xx]\n",
    "#                }, new_fnm)\n",
    "#     clear_output(wait = False)"
   ]
  },
  {
   "cell_type": "code",
   "execution_count": null,
   "metadata": {},
   "outputs": [
    {
     "name": "stdout",
     "output_type": "stream",
     "text": [
      "2023\n",
      "2022\n",
      "2021\n",
      "2020\n",
      "2019\n",
      "2018\n",
      "2017\n",
      "2016\n"
     ]
    },
    {
     "name": "stderr",
     "output_type": "stream",
     "text": [
      "2024-08-15 17:05:32,176 INFO Request ID is 43c8999e-4157-44f4-84a2-0c531b6a6473\n",
      "2024-08-15 17:05:32,236 INFO status has been updated to accepted\n",
      "2024-08-15 17:05:33,797 INFO status has been updated to running\n",
      "2024-08-15 17:05:36,111 INFO status has been updated to successful\n",
      "d1fd3598e594fa18e2d824f00b6ba452.nc:   7%|▋         | 252M/3.41G [04:09<56:03, 1.01MB/s]"
     ]
    }
   ],
   "source": [
    "for y in range(2023,1978,-1):\n",
    "    \n",
    "    print(y)\n",
    "    \n",
    "    new_fnm = outpath+\"hus_era5_\"+str(y)+\".nc\"\n",
    "    if not os.path.exists(new_fnm): \n",
    "        \n",
    "        c.retrieve(\"reanalysis-era5-pressure-levels\",\n",
    "                   {'product_type': ['reanalysis'],\n",
    "                    'variable': ['specific_humidity'],\n",
    "                    'year': ['2024'],\n",
    "                    'month': ['01', '02', '03', '04', '05', '06', '07'],\n",
    "                    'day': ['01', '02', '03', '04', '05', '06', '07', '08', '09', '10', '11', '12', '13', '14', '15', '16', '17', '18', '19', '20', '21', '22', '23', '24', '25', '26', '27', '28', '29', '30', '31'],\n",
    "                    'time': ['00:00', '01:00', '02:00', '03:00', '04:00', '05:00', '06:00', '07:00', '08:00', '09:00', '10:00', '11:00', '12:00', '13:00', '14:00', '15:00', '16:00', '17:00', '18:00', '19:00', '20:00', '21:00', '22:00', '23:00'],\n",
    "                    'pressure_level': ['10', '50', '100', '250', '500', '700', '850', '1000'],\n",
    "                    'data_format': 'netcdf',\n",
    "                    'download_format': 'unarchived',\n",
    "                    'area': [yx,xn,yn,xx]\n",
    "                   }, new_fnm)\n",
    "\n",
    "        print(\"hus complete\")\n",
    "    \n",
    "    new_fnm = outpath+\"ta_era5_\"+str(y)+\".nc\"\n",
    "    if not os.path.exists(new_fnm): \n",
    "\n",
    "        c.retrieve(\"reanalysis-era5-pressure-levels\",\n",
    "                   {'product_type': ['reanalysis'],\n",
    "                    'variable': ['temperature'],\n",
    "                    'year': ['2024'],\n",
    "                    'month': ['01', '02', '03', '04', '05', '06', '07'],\n",
    "                    'day': ['01', '02', '03', '04', '05', '06', '07', '08', '09', '10', '11', '12', '13', '14', '15', '16', '17', '18', '19', '20', '21', '22', '23', '24', '25', '26', '27', '28', '29', '30', '31'],\n",
    "                    'time': ['00:00', '01:00', '02:00', '03:00', '04:00', '05:00', '06:00', '07:00', '08:00', '09:00', '10:00', '11:00', '12:00', '13:00', '14:00', '15:00', '16:00', '17:00', '18:00', '19:00', '20:00', '21:00', '22:00', '23:00'],\n",
    "                    'pressure_level': ['10', '50', '100', '250', '500', '700', '850', '1000'],\n",
    "                    'data_format': 'netcdf',\n",
    "                    'download_format': 'unarchived',\n",
    "                    'area': [45, 105, -10, 160]\n",
    "                   }, new_fnm)\n",
    "\n",
    "        print(\"ta complete\")\n",
    "    \n",
    "    new_fnm = outpath+\"mslp_era5_\"+str(y)+\".nc\"\n",
    "    if not os.path.exists(new_fnm): \n",
    "        \n",
    "        c.retrieve(\"reanalysis-era5-single-levels\",\n",
    "                   {'product_type': ['reanalysis'],\n",
    "                    'variable': ['mean_sea_level_pressure'],\n",
    "                    'year': ['2024'],\n",
    "                    'month': ['01', '02', '03', '04', '05', '06', '07'],\n",
    "                    'day': ['01', '02', '03', '04', '05', '06', '07', '08', '09', '10', '11', '12', '13', '14', '15', '16', '17', '18', '19', '20', '21', '22', '23', '24', '25', '26', '27', '28', '29', '30', '31'],\n",
    "                    'time': ['00:00', '01:00', '02:00', '03:00', '04:00', '05:00', '06:00', '07:00', '08:00', '09:00', '10:00', '11:00', '12:00', '13:00', '14:00', '15:00', '16:00', '17:00', '18:00', '19:00', '20:00', '21:00', '22:00', '23:00'],\n",
    "                    'data_format': 'netcdf',\n",
    "                    'download_format': 'unarchived',\n",
    "                    'area': [yx,xn,yn,xx]\n",
    "                   }, new_fnm)\n",
    "\n",
    "        clear_output(wait = False)"
   ]
  },
  {
   "cell_type": "code",
   "execution_count": null,
   "metadata": {},
   "outputs": [],
   "source": [
    "dataset = \"reanalysis-era5-single-levels-monthly-means\"\n",
    "request = {\n",
    "    'product_type': ['monthly_averaged_reanalysis'],\n",
    "    'variable': ['mean_sea_level_pressure', 'sea_surface_temperature'],\n",
    "    'year': ['1940', '1941', '1942', '1943', '1944', '1945', '1946', '1947', '1948', '1949', '1950', '1951', '1952', '1953', '1954', '1955', '1956', '1957', '1958', '1959', '1960', '1961', '1962', '1963', '1964', '1965', '1966', '1967', '1968', '1969', '1970', '1971', '1972', '1973', '1974', '1975', '1976', '1977', '1978', '1979', '1980', '1981', '1982', '1983', '1984', '1985', '1986', '1987', '1988', '1989', '1990', '1991', '1992', '1993', '1994', '1995', '1996', '1997', '1998', '1999', '2000', '2001', '2002', '2003', '2004', '2005', '2006', '2007', '2008', '2009', '2010', '2011', '2012', '2013', '2014', '2015', '2016', '2017', '2018', '2019', '2020', '2021', '2022', '2023', '2024'],\n",
    "    'month': ['01', '02', '03', '04', '05', '06', '07', '08', '09', '10', '11', '12'],\n",
    "    'time': ['00:00'],\n",
    "    'data_format': 'grib',\n",
    "    'download_format': 'unarchived',\n",
    "    'area': [90, -180, -90, 180]\n",
    "}\n",
    "\n",
    "client = cdsapi.Client()\n",
    "client.retrieve(dataset, request).download()"
   ]
  },
  {
   "cell_type": "code",
   "execution_count": 4,
   "metadata": {},
   "outputs": [
    {
     "name": "stderr",
     "output_type": "stream",
     "text": [
      "2024-08-17 09:42:08,674 INFO Request ID is 5f6cb218-1668-4ca5-86e7-376bb123c683\n",
      "2024-08-17 09:42:08,739 INFO status has been updated to accepted\n",
      "2024-08-17 09:42:10,313 INFO status has been updated to running\n",
      "2024-08-17 09:42:16,056 INFO Creating download object as as_source with files:\n",
      "['data_0.nc']\n",
      "2024-08-17 09:42:21,185 INFO status has been updated to successful\n"
     ]
    },
    {
     "data": {
      "text/plain": [
       "'/rds/general/user/cb2714/home/99_ephemera/pi_era5/monthly-mslp-sst_era5_2024.nc'"
      ]
     },
     "execution_count": 4,
     "metadata": {},
     "output_type": "execute_result"
    }
   ],
   "source": [
    "new_fnm = outpath+\"monthly-mslp-sst_era5_2024.nc\"\n",
    "\n",
    "c.retrieve(\"reanalysis-era5-single-levels-monthly-means\",\n",
    "                   {'product_type': ['monthly_averaged_reanalysis'],\n",
    "                    'variable': ['mean_sea_level_pressure', 'sea_surface_temperature'],\n",
    "                    'year': ['2024'],\n",
    "                    'month': ['01', '02', '03', '04', '05', '06', '07', '08', '09', '10', '11', '12'],\n",
    "                    'time': ['00:00'],\n",
    "                    'data_format': 'netcdf',\n",
    "                    'download_format': 'unarchived',\n",
    "                    'area': [yx,xn,yn,xx]\n",
    "                   }, new_fnm)"
   ]
  },
  {
   "cell_type": "code",
   "execution_count": null,
   "metadata": {},
   "outputs": [],
   "source": []
  }
 ],
 "metadata": {
  "kernelspec": {
   "display_name": "wwa",
   "language": "python",
   "name": "wwa"
  },
  "language_info": {
   "codemirror_mode": {
    "name": "ipython",
    "version": 3
   },
   "file_extension": ".py",
   "mimetype": "text/x-python",
   "name": "python",
   "nbconvert_exporter": "python",
   "pygments_lexer": "ipython3",
   "version": "3.10.8"
  }
 },
 "nbformat": 4,
 "nbformat_minor": 2
}
