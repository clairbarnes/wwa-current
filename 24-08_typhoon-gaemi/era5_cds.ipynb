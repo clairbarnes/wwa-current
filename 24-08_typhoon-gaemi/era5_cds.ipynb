{
 "cells": [
  {
   "cell_type": "code",
   "execution_count": 1,
   "metadata": {},
   "outputs": [],
   "source": [
    "import cdsapi, os\n",
    "from IPython.display import clear_output\n",
    "\n",
    "c = cdsapi.Client()\n",
    "xn,xx,yn,yx = [105,160,-10,45]\n",
    "\n",
    "outpath = \"/rds/general/user/cb2714/home/99_ephemera/pi_era5/\""
   ]
  },
  {
   "cell_type": "markdown",
   "metadata": {},
   "source": [
    "# Download variables"
   ]
  },
  {
   "cell_type": "code",
   "execution_count": null,
   "metadata": {},
   "outputs": [],
   "source": [
    "# for y in range(2023,1978,-1):\n",
    "#     new_fnm = outpath+\"sst_era5_\"+str(y)+\".nc\"\n",
    "#     if os.path.exists(new_fnm): continue\n",
    "        \n",
    "#     print(y)\n",
    "        \n",
    "#     c.retrieve(\"reanalysis-era5-single-levels\",\n",
    "#                {'product_type': ['reanalysis'],\n",
    "#                 'variable': ['sea_surface_temperature'],\n",
    "#                 'year': [str(y)],\n",
    "#                 'month': ['01', '02', '03', '04', '05', '06', '07', '08', '09', '10', '11', '12'],\n",
    "#                 'day': ['01', '02', '03', '04', '05', '06', '07', '08', '09', '10', '11', '12', '13', '14', '15', '16', '17', '18', '19', '20', '21', '22', '23', '24', '25', '26', '27', '28', '29', '30', '31'],\n",
    "#                 'time': ['00:00', '01:00', '02:00', '03:00', '04:00', '05:00', '06:00', '07:00', '08:00', '09:00', '10:00', '11:00', '12:00', '13:00', '14:00', '15:00', '16:00', '17:00', '18:00', '19:00', '20:00', '21:00', '22:00', '23:00'],\n",
    "#                 'data_format': 'netcdf',\n",
    "#                 'download_format': 'unarchived',\n",
    "#                 'area': [yx,xn,yn,xx]\n",
    "#                }, new_fnm)\n",
    "#     clear_output(wait = False)"
   ]
  },
  {
   "cell_type": "code",
   "execution_count": null,
   "metadata": {},
   "outputs": [
    {
     "name": "stdout",
     "output_type": "stream",
     "text": [
      "2023\n",
      "2022\n",
      "2021\n",
      "2020\n",
      "2019\n",
      "2018\n",
      "2017\n",
      "2016\n"
     ]
    },
    {
     "name": "stderr",
     "output_type": "stream",
     "text": [
      "2024-08-15 17:05:32,176 INFO Request ID is 43c8999e-4157-44f4-84a2-0c531b6a6473\n",
      "2024-08-15 17:05:32,236 INFO status has been updated to accepted\n",
      "2024-08-15 17:05:33,797 INFO status has been updated to running\n",
      "2024-08-15 17:05:36,111 INFO status has been updated to successful\n",
      "d1fd3598e594fa18e2d824f00b6ba452.nc:   7%|▋         | 252M/3.41G [04:09<56:03, 1.01MB/s]"
     ]
    }
   ],
   "source": [
    "for y in range(2023,1978,-1):\n",
    "    \n",
    "    print(y)\n",
    "    \n",
    "    new_fnm = outpath+\"hus_era5_\"+str(y)+\".nc\"\n",
    "    if not os.path.exists(new_fnm): \n",
    "        \n",
    "        c.retrieve(\"reanalysis-era5-pressure-levels\",\n",
    "                   {'product_type': ['reanalysis'],\n",
    "                    'variable': ['specific_humidity'],\n",
    "                    'year': ['2024'],\n",
    "                    'month': ['01', '02', '03', '04', '05', '06', '07'],\n",
    "                    'day': ['01', '02', '03', '04', '05', '06', '07', '08', '09', '10', '11', '12', '13', '14', '15', '16', '17', '18', '19', '20', '21', '22', '23', '24', '25', '26', '27', '28', '29', '30', '31'],\n",
    "                    'time': ['00:00', '01:00', '02:00', '03:00', '04:00', '05:00', '06:00', '07:00', '08:00', '09:00', '10:00', '11:00', '12:00', '13:00', '14:00', '15:00', '16:00', '17:00', '18:00', '19:00', '20:00', '21:00', '22:00', '23:00'],\n",
    "                    'pressure_level': ['10', '50', '100', '250', '500', '700', '850', '1000'],\n",
    "                    'data_format': 'netcdf',\n",
    "                    'download_format': 'unarchived',\n",
    "                    'area': [yx,xn,yn,xx]\n",
    "                   }, new_fnm)\n",
    "\n",
    "        print(\"hus complete\")\n",
    "    \n",
    "    new_fnm = outpath+\"ta_era5_\"+str(y)+\".nc\"\n",
    "    if not os.path.exists(new_fnm): \n",
    "\n",
    "        c.retrieve(\"reanalysis-era5-pressure-levels\",\n",
    "                   {'product_type': ['reanalysis'],\n",
    "                    'variable': ['temperature'],\n",
    "                    'year': ['2024'],\n",
    "                    'month': ['01', '02', '03', '04', '05', '06', '07'],\n",
    "                    'day': ['01', '02', '03', '04', '05', '06', '07', '08', '09', '10', '11', '12', '13', '14', '15', '16', '17', '18', '19', '20', '21', '22', '23', '24', '25', '26', '27', '28', '29', '30', '31'],\n",
    "                    'time': ['00:00', '01:00', '02:00', '03:00', '04:00', '05:00', '06:00', '07:00', '08:00', '09:00', '10:00', '11:00', '12:00', '13:00', '14:00', '15:00', '16:00', '17:00', '18:00', '19:00', '20:00', '21:00', '22:00', '23:00'],\n",
    "                    'pressure_level': ['10', '50', '100', '250', '500', '700', '850', '1000'],\n",
    "                    'data_format': 'netcdf',\n",
    "                    'download_format': 'unarchived',\n",
    "                    'area': [45, 105, -10, 160]\n",
    "                   }, new_fnm)\n",
    "\n",
    "        print(\"ta complete\")\n",
    "    \n",
    "    new_fnm = outpath+\"mslp_era5_\"+str(y)+\".nc\"\n",
    "    if nto os.path.exists(new_fnm): \n",
    "        \n",
    "        c.retrieve(\"reanalysis-era5-single-levels\",\n",
    "                   {'product_type': ['reanalysis'],\n",
    "                    'variable': ['mean_sea_level_pressure'],\n",
    "                    'year': ['2024'],\n",
    "                    'month': ['01', '02', '03', '04', '05', '06', '07'],\n",
    "                    'day': ['01', '02', '03', '04', '05', '06', '07', '08', '09', '10', '11', '12', '13', '14', '15', '16', '17', '18', '19', '20', '21', '22', '23', '24', '25', '26', '27', '28', '29', '30', '31'],\n",
    "                    'time': ['00:00', '01:00', '02:00', '03:00', '04:00', '05:00', '06:00', '07:00', '08:00', '09:00', '10:00', '11:00', '12:00', '13:00', '14:00', '15:00', '16:00', '17:00', '18:00', '19:00', '20:00', '21:00', '22:00', '23:00'],\n",
    "                    'data_format': 'netcdf',\n",
    "                    'download_format': 'unarchived',\n",
    "                    'area': [yx,xn,yn,xx]\n",
    "                   }, new_fnm)\n",
    "\n",
    "        clear_output(wait = False)"
   ]
  },
  {
   "cell_type": "code",
   "execution_count": null,
   "metadata": {},
   "outputs": [],
   "source": []
  }
 ],
 "metadata": {
  "kernelspec": {
   "display_name": "wwa",
   "language": "python",
   "name": "wwa"
  },
  "language_info": {
   "codemirror_mode": {
    "name": "ipython",
    "version": 3
   },
   "file_extension": ".py",
   "mimetype": "text/x-python",
   "name": "python",
   "nbconvert_exporter": "python",
   "pygments_lexer": "ipython3",
   "version": "3.10.8"
  }
 },
 "nbformat": 4,
 "nbformat_minor": 2
}
