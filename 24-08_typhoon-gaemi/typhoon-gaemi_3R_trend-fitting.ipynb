{
 "cells": [
  {
   "cell_type": "code",
   "execution_count": 1,
   "metadata": {},
   "outputs": [],
   "source": [
    "suppressMessages(library(\"rwwa\"))"
   ]
  },
  {
   "cell_type": "code",
   "execution_count": 2,
   "metadata": {},
   "outputs": [],
   "source": [
    "overlay_dnorm <- function(ts, x = seq(50,100,0.1), ...) lines(x, dnorm(x, mean(ts), sd(ts)), ...)"
   ]
  },
  {
   "cell_type": "markdown",
   "metadata": {},
   "source": [
    "# SSTs"
   ]
  },
  {
   "cell_type": "markdown",
   "metadata": {},
   "source": [
    "## Choose distribution"
   ]
  },
  {
   "cell_type": "code",
   "execution_count": 48,
   "metadata": {},
   "outputs": [],
   "source": [
    "nc = 3; dpi = 360\n",
    "for (fnm in list.files(\"ts\", pattern = \"sst\", full.names = T)) {\n",
    "    \n",
    "    mdl = strsplit(gsub(\".csv\",\"\",fnm),\"_\")[[1]][3]\n",
    "    df = read.csv(fnm)\n",
    "    \n",
    "    gmst = load_ts(paste0(\"ts/SGSAT2023.\",mdl,\"_r1i1p1f1.hssp585.dat\"), col.names = c(\"year\", \"gmst\"))\n",
    "    df <- merge(gmst, df)\n",
    "    \n",
    "    png(paste0(\"fig/cmodels/dist_\",substr(fnm,4,nchar(fnm)-4),\".png\"), width = dpi*nc, height = dpi); {\n",
    "        prep_window(c(1,nc), oma = c(0,0,2,0))\n",
    "\n",
    "        plot(df$year, df$jjas_1d, type = \"l\", ylab = \"Mean SST (degC)\", xlab = \"\", main = \"Annual time series\")\n",
    "        lines(df$year, df$jjas_7d, col = \"blue2\")\n",
    "        lines(df$year, df$jjas_m, col = \"red3\")\n",
    "        legend(\"topleft\", legend = c(\"1day\", \"7day\", \"Monthly\"), lty = 1, col = c(\"black\", \"blue2\", \"red3\"))\n",
    "\n",
    "        plot(density(df$jjas_m), col = \"red3\", xlab = \"Mean SST (degC)\", main = \"Distribution of temps\")\n",
    "        lines(density(df$jjas_7d), col = \"blue2\")\n",
    "        lines(density(df$jjas_1d))\n",
    "        legend(\"topright\", legend = c(\"1day\", \"7day\", \"Monthly\"), lty = 1, col = c(\"black\", \"blue2\", \"red3\"))\n",
    "    \n",
    "        plot(density(resid(lm(jjas_m ~ gmst, df))), col = \"red3\", xlab = \"Residual\", main = \"Residuals after GMST accounted for\", ylim = c(0,1.5))\n",
    "        overlay_dnorm(resid(lm(jjas_m ~ gmst, df)), col = \"red3\", x = seq(-1,1,0.01), lty = 2)\n",
    "        lines(density(resid(lm(jjas_7d ~ gmst, df))), col = \"blue2\")\n",
    "        overlay_dnorm(resid(lm(jjas_7d ~ gmst, df)), col = \"blue2\", x = seq(-1,1,0.01), lty = 2)\n",
    "        lines(density(resid(lm(jjas_1d ~ gmst, df))))\n",
    "        overlay_dnorm(resid(lm(jjas_1d ~ gmst, df)), x = seq(-1,1,0.01), lty = 2)\n",
    "        legend(\"topright\", legend = c(\"1day\", \"7day\", \"Monthly\"), lty = 1, col = c(\"black\", \"blue2\", \"red3\"))\n",
    "    \n",
    "        mtext(mdl, outer = T, font = 2)\n",
    "    }; dev.off()\n",
    "}"
   ]
  },
  {
   "cell_type": "markdown",
   "metadata": {},
   "source": [
    "## Model fitting"
   ]
  },
  {
   "cell_type": "markdown",
   "metadata": {},
   "source": [
    "### GMST only"
   ]
  },
  {
   "cell_type": "code",
   "execution_count": 138,
   "metadata": {},
   "outputs": [
    {
     "name": "stdout",
     "output_type": "stream",
     "text": [
      "[1] \"WARNING: Event year not in data, no event value recorded\"\n",
      "[1] \"WARNING: Event year not in data, no event value recorded\"\n",
      "[1] \"WARNING: Event year not in data, no event value recorded\"\n"
     ]
    }
   ],
   "source": [
    "nsamp <- 1000\n",
    "vars <- c(\"jjas_1d\", \"jjas_7d\", \"jjas_m\")\n",
    "\n",
    "for (fnm in list.files(\"ts\", pattern = \"sst\", full.names = T)) {\n",
    "    \n",
    "    mnm <- strsplit(gsub(\".csv\",\"\",fnm),\"_\")[[1]][3]\n",
    "\n",
    "    gmst <- load_ts(list.files(\"ts\", pattern = paste0(\"SGSAT2023.\",mnm), full.names = T), col.names = c(\"year\", \"gmst\"))\n",
    "    nino <- read.csv(paste0(\"ts/cmip6_nino34det_\",mnm,\"_r1i1p1f1.csv\"), col.names = c(\"year\", \"nino34\"))\n",
    "    df <- merge(merge(gmst, nino), read.csv(fnm))\n",
    "    \n",
    "    cov_2024 <- gmst[gmst$year == 2024,,drop = F]\n",
    "    cov_cf <- rbind(\"pi\" = cov_2024 - 1.3)\n",
    "    \n",
    "    for (varnm in vars) {\n",
    "        \n",
    "        mdl <- fit_ns(\"norm\", \"shift\", df, varnm, \"gmst\", lower = F, ev_year = 2024)\n",
    "        \n",
    "        # get bootstrapped intervals\n",
    "        res_fnm <- paste0(\"res/cmip6_sst-\",varnm,\"_gmst-only_\",mnm,\".csv\")\n",
    "        \n",
    "        \n",
    "        res <- boot_ci(mdl, cov_f = cov_2024, cov_cf = cov_cf, nsamp = nsamp)\n",
    "\n",
    "        # get correlation between Nino3.4 and SSTs\n",
    "        set.seed(42)\n",
    "        nino_corr <- c(cor(df$nino34, df[,varnm]), quantile(sapply(1:nsamp, function(i) cor(df[sample(1:nrow(df), replace = T), c(\"nino34\", varnm)])[1,2]), c(0.025, 0.975)))\n",
    "\n",
    "        write.csv(rbind(res, nino_corr), res_fnm)\n",
    "    }\n",
    "}"
   ]
  },
  {
   "cell_type": "markdown",
   "metadata": {},
   "source": [
    "#### Compare parameter estimates"
   ]
  },
  {
   "cell_type": "code",
   "execution_count": 169,
   "metadata": {},
   "outputs": [],
   "source": [
    "# load all bootstrapped results\n",
    "res_all <- abind::abind(sapply(vars, function(varnm) abind::abind(sapply(list.files(\"res\", pattern = paste0(\"sst-\",varnm,\"_gmst-only\"), full.names = T), function(fnm) {\n",
    "    read.csv(fnm, row.names = \"X\")\n",
    "#     unlist(lapply(rownames(res), function(cnm) setNames(res[cnm,], paste(gsub(\"_\", \"-\", cnm), c(\"est\", \"lower\", \"upper\"), sep = \"_\"))))\n",
    "}, simplify = F), rev.along = 0), simplify = F), rev.along = 0)\n",
    "dimnames(res_all)[[3]] <- sapply(strsplit(gsub(\".csv\", \"\", dimnames(res_all)[[3]]), \"_\"), \"[\", 5)\n",
    "                               \n",
    "vars <- dimnames(res_all)[[3]]\n",
    "n_vars <- length(vars)\n",
    "\n",
    "r <- \"sigma0\" # alpha_gmst; PR; nino_corr\n",
    "\n",
    "dpi = 360\n",
    "png(paste0(\"fig/cmodels/pars_cmip6_sst_\",gsub(\"_\",\"-\",r),\".png\"), height = dpi, width = dpi /3 * n_vars); {\n",
    "    prep_window(c(1,n_vars), mar = c(4,3,3,1), oma = c(0,0,2,0))\n",
    "\n",
    "    for (varnm in vars) {\n",
    "        res <- t(res_all[r,,varnm,])\n",
    "        ylim = range(pretty(res_all[r,,,]))\n",
    "        \n",
    "        n_obs <- nrow(res)\n",
    "        logaxs = \"\"\n",
    "        h = 0\n",
    "\n",
    "        if(grepl(\"PR\", r)) {\n",
    "            h = 1\n",
    "            logaxs = \"y\"\n",
    "            ylim = exp(range(pretty(log(res_all[\"PR\",,,]))))\n",
    "        }\n",
    "        \n",
    "        plot(1, type = \"n\", ylim = ylim, xlim = c(0,n_obs+1), main = varnm, xaxt = \"n\", xlab = \"\", ylab = \"\", log = logaxs)\n",
    "        axis(1, at = 1:n_obs, labels = rownames(res), las = 2)\n",
    "        segments(x0 = 1:n_obs, y0 = res[,\"X2.5.\"], y1 = res[,\"X97.5.\"], lwd = 8, col = adjustcolor(c(\"blue\"), alpha = 0.4))\n",
    "        points(1:n_obs, res[,\"est\"], pch = 20, cex = 2)\n",
    "        abline(h = h, lty = 2)\n",
    "    }\n",
    "    mtext(paste0(\"SST \", r), outer = T, font = 2)\n",
    "}; dev.off()"
   ]
  },
  {
   "cell_type": "markdown",
   "metadata": {},
   "source": [
    "---\n",
    "# Potential intensity"
   ]
  },
  {
   "cell_type": "markdown",
   "metadata": {},
   "source": [
    "## Choose distribution"
   ]
  },
  {
   "cell_type": "code",
   "execution_count": 82,
   "metadata": {},
   "outputs": [],
   "source": [
    "nc = 2; dpi = 360\n",
    "for (fnm in list.files(\"ts\", pattern = \"pi\", full.names = T)) {\n",
    "    \n",
    "    mdl = strsplit(gsub(\".csv\",\"\",fnm),\"_\")[[1]][3]\n",
    "    df = read.csv(fnm)\n",
    "    \n",
    "    png(paste0(\"fig/cmodels/dist_\",substr(fnm,4,nchar(fnm)-4),\".png\"), width = dpi*nc, height = dpi); {\n",
    "        prep_window(c(1,nc), oma = c(0,0,2,0))\n",
    "\n",
    "        plot(df$year, df$jjas_1d, type = \"l\", ylab = \"Mean potential intensity\", xlab = \"\", main = \"Annual time series\")\n",
    "        lines(df$year, df$jjas_7d, col = \"blue2\")\n",
    "        lines(df$year, df$jjas_7d, col = \"red3\")\n",
    "        legend(\"topleft\", legend = c(\"1day\", \"7day\", \"Monthly\"), lty = 1, col = c(\"black\", \"blue2\", \"red3\"))\n",
    "        \n",
    "        # overlay with a normal distribution - looks OK in most cases\n",
    "        plot(density(df$jjas_m), col = \"red3\", xlab = \"Mean potential intensity\", main = \"Distribution of PI\", ylim = c(0,0.15))\n",
    "        ndist(df$jjas_m, col = \"red3\", lty = 2)\n",
    "        lines(density(df$jjas_7d), col = \"blue2\")\n",
    "        ndist(df$jjas_7d, col = \"blue2\", lty = 2)\n",
    "        lines(density(df$jjas_1d))\n",
    "        ndist(df$jjas_1d, lty = 2)\n",
    "        legend(\"topleft\", legend = c(\"1day\", \"7day\", \"Monthly\"), lty = 1, col = c(\"black\", \"blue2\", \"red3\"))\n",
    "\n",
    "        mtext(mdl, outer = T, font = 2)\n",
    "    }; dev.off()\n",
    "}"
   ]
  },
  {
   "cell_type": "markdown",
   "metadata": {},
   "source": [
    "## Model fitting"
   ]
  },
  {
   "cell_type": "markdown",
   "metadata": {},
   "source": [
    "### GMST only"
   ]
  },
  {
   "cell_type": "code",
   "execution_count": 171,
   "metadata": {},
   "outputs": [],
   "source": [
    "nsamp <- 1000\n",
    "vars <- c(\"jjas_1d\", \"jjas_7d\", \"jjas_m\")\n",
    "\n",
    "for (fnm in list.files(\"ts\", pattern = \"pi\", full.names = T)) {\n",
    "    \n",
    "    mnm <- strsplit(gsub(\".csv\",\"\",fnm),\"_\")[[1]][3]\n",
    "\n",
    "    gmst <- load_ts(list.files(\"ts\", pattern = paste0(\"SGSAT2023.\",mnm), full.names = T), col.names = c(\"year\", \"gmst\"))\n",
    "    nino <- read.csv(paste0(\"ts/cmip6_nino34det_\",mnm,\"_r1i1p1f1.csv\"), col.names = c(\"year\", \"nino34\"))\n",
    "    df <- merge(merge(gmst, nino), read.csv(fnm))\n",
    "    \n",
    "    cov_2024 <- gmst[gmst$year == 2024,,drop = F]\n",
    "    cov_cf <- rbind(\"pi\" = cov_2024 - 1.3)\n",
    "    \n",
    "    for (varnm in vars) {\n",
    "        \n",
    "        mdl <- fit_ns(\"norm\", \"shift\", df, varnm, \"gmst\", lower = F, ev_year = 2024)\n",
    "        \n",
    "        # get bootstrapped intervals\n",
    "        res_fnm <- paste0(\"res/cmip6_pi-\",varnm,\"_gmst-only_\",mnm,\".csv\")\n",
    "        \n",
    "        \n",
    "        res <- boot_ci(mdl, cov_f = cov_2024, cov_cf = cov_cf, nsamp = nsamp)\n",
    "\n",
    "        # get correlation between Nino3.4 and SSTs\n",
    "        set.seed(42)\n",
    "        nino_corr <- c(cor(df$nino34, df[,varnm]), quantile(sapply(1:nsamp, function(i) cor(df[sample(1:nrow(df), replace = T), c(\"nino34\", varnm)])[1,2]), c(0.025, 0.975)))\n",
    "\n",
    "        write.csv(rbind(res, nino_corr), res_fnm)\n",
    "    }\n",
    "}"
   ]
  },
  {
   "cell_type": "markdown",
   "metadata": {},
   "source": [
    "#### Compare parameter estimates"
   ]
  },
  {
   "cell_type": "code",
   "execution_count": 187,
   "metadata": {},
   "outputs": [],
   "source": [
    "# load all bootstrapped results\n",
    "res_all <- abind::abind(sapply(vars, function(varnm) abind::abind(sapply(list.files(\"res\", pattern = paste0(\"pi-\",varnm,\"_gmst-only\"), full.names = T), function(fnm) {\n",
    "    read.csv(fnm, row.names = \"X\")\n",
    "#     unlist(lapply(rownames(res), function(cnm) setNames(res[cnm,], paste(gsub(\"_\", \"-\", cnm), c(\"est\", \"lower\", \"upper\"), sep = \"_\"))))\n",
    "}, simplify = F), rev.along = 0), simplify = F), rev.along = 0)\n",
    "dimnames(res_all)[[3]] <- sapply(strsplit(gsub(\".csv\", \"\", dimnames(res_all)[[3]]), \"_\"), \"[\", 5)\n",
    "                               \n",
    "mnames <- dimnames(res_all)[[3]]\n",
    "n_vars <- length(mnames)\n",
    "dpi = 360"
   ]
  },
  {
   "cell_type": "code",
   "execution_count": 189,
   "metadata": {},
   "outputs": [
    {
     "ename": "ERROR",
     "evalue": "Error in res_all[r, , varnm, ]: subscript out of bounds\n",
     "output_type": "error",
     "traceback": [
      "Error in res_all[r, , varnm, ]: subscript out of bounds\nTraceback:\n"
     ]
    }
   ],
   "source": [
    "for (r in c(\"alpha_gmst\", \"sigma0\", \"PR\", \"nino_corr\")) {\n",
    "    png(paste0(\"fig/cmodels/pars_cmip6_pi_\",gsub(\"_\",\"-\",r),\".png\"), height = dpi, width = dpi /3 * n_vars); {\n",
    "        prep_window(c(1,n_vars), mar = c(4,3,3,1), oma = c(0,0,2,0))\n",
    "\n",
    "        for (varnm in vars) {\n",
    "            res <- t(res_all[r,,varnm,])\n",
    "            ylim = range(pretty(res_all[r,,,]))\n",
    "\n",
    "            n_obs <- nrow(res)\n",
    "            logaxs = \"\"\n",
    "            h = 0\n",
    "\n",
    "            if(grepl(\"PR\", r)) {\n",
    "                h = 1\n",
    "                logaxs = \"y\"\n",
    "                ylim = exp(range(pretty(log(res_all[\"PR\",,,]))))\n",
    "            }\n",
    "\n",
    "            plot(1, type = \"n\", ylim = ylim, xlim = c(0,n_obs+1), main = varnm, xaxt = \"n\", xlab = \"\", ylab = \"\", log = logaxs)\n",
    "            axis(1, at = 1:n_obs, labels = rownames(res), las = 2)\n",
    "            segments(x0 = 1:n_obs, y0 = res[,\"X2.5.\"], y1 = res[,\"X97.5.\"], lwd = 8, col = adjustcolor(c(\"blue\"), alpha = 0.4))\n",
    "            points(1:n_obs, res[,\"est\"], pch = 20, cex = 2)\n",
    "            abline(h = h, lty = 2)\n",
    "        }\n",
    "        mtext(paste0(\"PI \", r), outer = T, font = 2)\n",
    "    }; dev.off()\n",
    "}"
   ]
  },
  {
   "cell_type": "code",
   "execution_count": 190,
   "metadata": {},
   "outputs": [
    {
     "data": {
      "text/html": [
       "<table class=\"dataframe\">\n",
       "<caption>A matrix: 3 × 3 of type dbl</caption>\n",
       "<thead>\n",
       "\t<tr><th></th><th scope=col>est</th><th scope=col>X2.5.</th><th scope=col>X97.5.</th></tr>\n",
       "</thead>\n",
       "<tbody>\n",
       "\t<tr><th scope=row>jjas_1d</th><td>-0.1339951</td><td>-0.2464460</td><td>-0.009782186</td></tr>\n",
       "\t<tr><th scope=row>jjas_7d</th><td>-0.1438395</td><td>-0.2592055</td><td>-0.023516149</td></tr>\n",
       "\t<tr><th scope=row>jjas_m</th><td>-0.1619971</td><td>-0.2798170</td><td>-0.035050257</td></tr>\n",
       "</tbody>\n",
       "</table>\n"
      ],
      "text/latex": [
       "A matrix: 3 × 3 of type dbl\n",
       "\\begin{tabular}{r|lll}\n",
       "  & est & X2.5. & X97.5.\\\\\n",
       "\\hline\n",
       "\tjjas\\_1d & -0.1339951 & -0.2464460 & -0.009782186\\\\\n",
       "\tjjas\\_7d & -0.1438395 & -0.2592055 & -0.023516149\\\\\n",
       "\tjjas\\_m & -0.1619971 & -0.2798170 & -0.035050257\\\\\n",
       "\\end{tabular}\n"
      ],
      "text/markdown": [
       "\n",
       "A matrix: 3 × 3 of type dbl\n",
       "\n",
       "| <!--/--> | est | X2.5. | X97.5. |\n",
       "|---|---|---|---|\n",
       "| jjas_1d | -0.1339951 | -0.2464460 | -0.009782186 |\n",
       "| jjas_7d | -0.1438395 | -0.2592055 | -0.023516149 |\n",
       "| jjas_m | -0.1619971 | -0.2798170 | -0.035050257 |\n",
       "\n"
      ],
      "text/plain": [
       "        est        X2.5.      X97.5.      \n",
       "jjas_1d -0.1339951 -0.2464460 -0.009782186\n",
       "jjas_7d -0.1438395 -0.2592055 -0.023516149\n",
       "jjas_m  -0.1619971 -0.2798170 -0.035050257"
      ]
     },
     "metadata": {},
     "output_type": "display_data"
    }
   ],
   "source": [
    "res"
   ]
  },
  {
   "cell_type": "code",
   "execution_count": null,
   "metadata": {},
   "outputs": [],
   "source": []
  }
 ],
 "metadata": {
  "kernelspec": {
   "display_name": "R [conda env:r_env]",
   "language": "R",
   "name": "conda-env-r_env-r"
  },
  "language_info": {
   "codemirror_mode": "r",
   "file_extension": ".r",
   "mimetype": "text/x-r-source",
   "name": "R",
   "pygments_lexer": "r",
   "version": "4.2.2"
  }
 },
 "nbformat": 4,
 "nbformat_minor": 2
}
