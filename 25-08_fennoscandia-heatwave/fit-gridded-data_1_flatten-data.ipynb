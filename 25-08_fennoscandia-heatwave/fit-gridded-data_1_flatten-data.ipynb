{
 "cells": [
  {
   "cell_type": "markdown",
   "metadata": {},
   "source": [
    "# Flatten gridded data for trend fitting"
   ]
  },
  {
   "cell_type": "code",
   "execution_count": null,
   "metadata": {},
   "outputs": [],
   "source": [
    "# import sys; sys.path.append('/rds/general/user/cb2714/home/wwa'); from wwa import *\n",
    "import xarray as xr, regionmask, numpy as np"
   ]
  },
  {
   "cell_type": "code",
   "execution_count": null,
   "metadata": {},
   "outputs": [],
   "source": [
    "ds_nm = \"era5\"\n",
    "ndays = 29\n",
    "varnm = \"tn\"\n",
    "\n",
    "\n",
    "# load daily data\n",
    "if ds_nm == \"eobs\":\n",
    "    fnm = \"/rds/general/user/cb2714/home/00_WWA_project_folder/ephemeral/FS_heat/\"+ds_nm+\"_\"+varnm+\"_0.25deg.nc\"\n",
    "elif ds_nm == \"era5\":\n",
    "    vnm = {\"tn\" : \"tmin\", \"tx\" : \"tmax\"}[varnm]\n",
    "    fnm = \"/rds/general/user/cb2714/home/00_WWA_project_folder/ephemeral/FS_heat/\"+ds_nm+\"_\"+vnm+\"_daily_eu_extended_0-35E_55-75N_-999-lastyear.nc\"\n",
    "\n",
    "#~~~~~~~~~~~~~~~~~~~~~~~~~~~~~~~~~~~~~~~~~~~~~~~~~~~~~~~~~~~~~~~~~~~\n",
    "\n",
    "varnm = varnm+str(ndays)+\"x\"\n",
    "\n",
    "da = xr.open_dataset(fnm)\n",
    "da = da[list(da.data_vars)[0]]\n",
    "\n",
    "if \"longitude\" in da.dims: da = da.rename(longitude = \"lon\", latitude = \"lat\")\n",
    "\n",
    "# mask land only\n",
    "rm = regionmask.defined_regions.natural_earth_v5_0_0.land_10.mask(da.lon, da.lat)\n",
    "da = da.where(rm == 0)\n",
    "\n",
    "# resample to annual\n",
    "da = da.rolling(time = ndays).mean().resample(time = \"AS\").max()\n",
    "\n",
    "# relabel dates as years\n",
    "da = da.assign_coords(time = da.time.dt.year).rename(time = \"year\")\n",
    "\n",
    "# save the map for easier reconstruction later\n",
    "da.mean(\"year\").to_netcdf(\"map-tmplt_\"+varnm+\"_\"+ds_nm+\".nc\")\n",
    "\n",
    "# flatten & convert to data.frame\n",
    "df = da.stack(xy = [\"lat\", \"lon\"]).dropna(\"xy\", \"all\").to_pandas()\n",
    "\n",
    "# save data.frame as .csv (split into chunks if really large)\n",
    "ncols = 2500\n",
    "if df.shape[1] > ncols:\n",
    "    for i in range(int(np.ceil(df.shape[1] / ncols))):\n",
    "        df.iloc[:,slice(i*ncols,(i+1)*ncols)].to_csv(\"flattened/\"+varnm+\"-flattened_\"+ds_nm+\"_\"+str(i+1).rjust(2,\"0\")+\".csv\")\n",
    "else:\n",
    "    df.to_csv(\"flattened/\"+varnm+\"-flattened_\"+ds_nm+\".csv\")"
   ]
  },
  {
   "cell_type": "code",
   "execution_count": null,
   "metadata": {},
   "outputs": [],
   "source": []
  }
 ],
 "metadata": {
  "kernelspec": {
   "display_name": "wwa",
   "language": "python",
   "name": "wwa"
  },
  "language_info": {
   "codemirror_mode": {
    "name": "ipython",
    "version": 3
   },
   "file_extension": ".py",
   "mimetype": "text/x-python",
   "name": "python",
   "nbconvert_exporter": "python",
   "pygments_lexer": "ipython3",
   "version": "3.10.8"
  }
 },
 "nbformat": 4,
 "nbformat_minor": 4
}
