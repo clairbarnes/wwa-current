{
 "cells": [
  {
   "cell_type": "code",
   "execution_count": 25,
   "metadata": {},
   "outputs": [],
   "source": [
    "import sys; sys.path.append(\"../../wwa\"); from wwa import *\n",
    "\n",
    "mapproj = cartopy.crs.AlbersEqualArea(central_longitude = 1.0, central_latitude = 47.0)\n",
    "\n",
    "fpath = \"/rds/general/user/cb2714/home/00_WWA_project_folder/ephemeral/FS_heat/\"\n",
    "\n",
    "Xn,Xx,Yn,Yx = [0,35,55,75]\n",
    "xn,xx,yn,yx = [4,30,60,72]\n",
    "\n",
    "sf = gpd.read_file(\"sf_fennoscandia\")"
   ]
  },
  {
   "cell_type": "markdown",
   "metadata": {},
   "source": [
    "# Shapefile for study region"
   ]
  },
  {
   "cell_type": "code",
   "execution_count": null,
   "metadata": {},
   "outputs": [],
   "source": [
    "sf = regionmask.defined_regions.natural_earth_v5_0_0.countries_50.to_geodataframe().set_index(\"names\").loc[[\"Sweden\", \"Norway\", \"Finland\"]]\n",
    "sf = main_polygon(sf.dissolve())\n",
    "sf.to_file(\"sf_fennoscandia\")"
   ]
  },
  {
   "cell_type": "markdown",
   "metadata": {},
   "source": [
    "# Get gridded obs "
   ]
  },
  {
   "cell_type": "markdown",
   "metadata": {},
   "source": [
    "## ERA5"
   ]
  },
  {
   "cell_type": "code",
   "execution_count": 29,
   "metadata": {},
   "outputs": [
    {
     "name": "stdout",
     "output_type": "stream",
     "text": [
      "--2025-08-09 10:15:47--  https://climexp.knmi.nl/data/era5_tmax_daily_eu_extended_0-40E_40-75N_-999-lastyear_su.nc\n",
      "Resolving climexp.knmi.nl (climexp.knmi.nl)... 2a0c:5bc0:4c:ff::9126:ce95, 145.38.206.149\n",
      "Connecting to climexp.knmi.nl (climexp.knmi.nl)|2a0c:5bc0:4c:ff::9126:ce95|:443... connected.\n",
      "HTTP request sent, awaiting response... 200 OK\n",
      "Length: 1705228938 (1.6G) [application/x-netcdf]\n",
      "Saving to: ‘/rds/general/user/cb2714/home/00_WWA_project_folder/ephemeral/FS_heat//era5-tmax-daily_0-40E_40-75N.nc’\n",
      "\n",
      "/rds/general/user/c 100%[===================>]   1.59G  48.2MB/s    in 27s     \n",
      "\n",
      "2025-08-09 10:16:14 (60.5 MB/s) - ‘/rds/general/user/cb2714/home/00_WWA_project_folder/ephemeral/FS_heat//era5-tmax-daily_0-40E_40-75N.nc’ saved [1705228938/1705228938]\n",
      "\n",
      "--2025-08-09 10:16:14--  https://climexp.knmi.nl/data/era5_tmin_daily_eu_extended_0-40E_40-75N_-999-lastyear_su.nc\n",
      "Resolving climexp.knmi.nl (climexp.knmi.nl)... 2a0c:5bc0:4c:ff::9126:ce95, 145.38.206.149\n",
      "Connecting to climexp.knmi.nl (climexp.knmi.nl)|2a0c:5bc0:4c:ff::9126:ce95|:443... connected.\n",
      "HTTP request sent, awaiting response... 200 OK\n",
      "Length: 1729059190 (1.6G) [application/x-netcdf]\n",
      "Saving to: ‘/rds/general/user/cb2714/home/00_WWA_project_folder/ephemeral/FS_heat//era5-tmin-daily_0-40E_40-75N.nc’\n",
      "\n",
      "/rds/general/user/c 100%[===================>]   1.61G  50.3MB/s    in 35s     \n",
      "\n",
      "2025-08-09 10:16:49 (47.0 MB/s) - ‘/rds/general/user/cb2714/home/00_WWA_project_folder/ephemeral/FS_heat//era5-tmin-daily_0-40E_40-75N.nc’ saved [1729059190/1729059190]\n",
      "\n"
     ]
    }
   ],
   "source": [
    "# ! wget https://climexp.knmi.nl/data/era5_tmax_daily_eu_extended_0-40E_40-75N_-999-lastyear_su.nc -O $fpath/era5-tmax-daily_0-40E_40-75N.nc\n",
    "# ! wget https://climexp.knmi.nl/data/era5_tmin_daily_eu_extended_0-40E_40-75N_-999-lastyear_su.nc -O $fpath/era5-tmin-daily_0-40E_40-75N.nc"
   ]
  },
  {
   "cell_type": "code",
   "execution_count": null,
   "metadata": {},
   "outputs": [],
   "source": [
    "lsm = xr.open_dataset(fpath+\"era5_000000_lsm_eu.nc\").lsm.squeeze(drop = True).rename(latitude = \"lat\", longitude = \"lon\")"
   ]
  },
  {
   "cell_type": "code",
   "execution_count": null,
   "metadata": {},
   "outputs": [],
   "source": [
    "for varnm in [\"tmin\", \"tmax\"]:\n",
    "    da = xr.open_dataset(fpath+\"era5-\"+varnm+\"-daily_eu_extended_0-35E_55-75N_-999-lastyear.nc\")[varnm]\n",
    "\n",
    "    da = da.where(lsm.sel(lon = da.lon, lat = da.lat) >= 0.5, drop = True)\n",
    "    da.to_netcdf(\"data/era5_\"+varnm+\"_daily_land_0-35E_55-75N.nc\")"
   ]
  },
  {
   "cell_type": "markdown",
   "metadata": {},
   "source": [
    "# Wider region for plotting purposes"
   ]
  },
  {
   "cell_type": "code",
   "execution_count": 2,
   "metadata": {},
   "outputs": [],
   "source": [
    "for varnm in [\"tmin\", \"tmax\"]:\n",
    "    da = xr.open_dataset(\"data/era5-\"+varnm+\"-daily_0-40E_40-75N.nc\")[varnm].sel(lat = slice(None,50))\n",
    "    rm = regionmask.defined_regions.natural_earth_v5_0_0.land_110.mask(da)\n",
    "    da = da.where(rm == 0, drop = True)\n",
    "    da.to_netcdf(fpath+\"era5_\"+varnm+\"_daily_land_0-40E_50-75N.nc\")"
   ]
  },
  {
   "cell_type": "markdown",
   "metadata": {},
   "source": [
    "## E-Obs"
   ]
  },
  {
   "cell_type": "code",
   "execution_count": null,
   "metadata": {},
   "outputs": [],
   "source": [
    "# lower-res data from Climate Explorer\n",
    "! cd $fpath; wget https://climexp.knmi.nl/data/tx_0.25deg_reg_v31.0eu_0-35E_55-71.88N_firstyear-lastyear.nc\n",
    "! cd $fpath; wget https://climexp.knmi.nl/data/tn_0.25deg_reg_v31.0eu_0-35E_55-71.88N_-999-lastyear.nc"
   ]
  },
  {
   "cell_type": "markdown",
   "metadata": {},
   "source": [
    "### Retrieve latest from Copernicus (both resolutions for now, in case of gaps)"
   ]
  },
  {
   "cell_type": "code",
   "execution_count": null,
   "metadata": {},
   "outputs": [],
   "source": [
    "! cd $fpath; wget https://knmi-ecad-assets-prd.s3.amazonaws.com/ensembles/data/Grid_0.1deg_reg_ensemble/tx_ens_mean_0.1deg_reg_v31.0e.nc\n",
    "! cd $fpath; wget https://knmi-ecad-assets-prd.s3.amazonaws.com/ensembles/data/Grid_0.1deg_reg_ensemble/tn_ens_mean_0.1deg_reg_v31.0e.nc"
   ]
  },
  {
   "cell_type": "code",
   "execution_count": null,
   "metadata": {},
   "outputs": [],
   "source": [
    "# historic data\n",
    "! cd $fpath; wget https://knmi-ecad-assets-prd.s3.amazonaws.com/ensembles/data/Grid_0.25deg_reg_ensemble/tx_ens_mean_0.25deg_reg_v31.0e.nc\n",
    "! cd $fpath; wget https://knmi-ecad-assets-prd.s3.amazonaws.com/ensembles/data/Grid_0.25deg_reg_ensemble/tn_ens_mean_0.25deg_reg_v31.0e.nc"
   ]
  },
  {
   "cell_type": "code",
   "execution_count": null,
   "metadata": {},
   "outputs": [],
   "source": [
    "! cd $fpath; wget https://knmi-ecad-assets-prd.s3.amazonaws.com/ensembles/data/months/ens/tx_0.25deg_day_2025_grid_ensmean.nc\n",
    "! cd $fpath; wget https://knmi-ecad-assets-prd.s3.amazonaws.com/ensembles/data/months/ens/tn_0.25deg_day_2025_grid_ensmean.nc"
   ]
  },
  {
   "cell_type": "markdown",
   "metadata": {},
   "source": [
    "### Extract wider region"
   ]
  },
  {
   "cell_type": "code",
   "execution_count": 2,
   "metadata": {},
   "outputs": [],
   "source": [
    "varnm = \"tn\"\n",
    "res = \"0.25\""
   ]
  },
  {
   "cell_type": "code",
   "execution_count": null,
   "metadata": {},
   "outputs": [],
   "source": [
    "ds_2025 = xr.open_dataset(fpath+varnm+\"_\"+res+\"deg_day_2025_grid_ensmean.nc\").dropna(\"time\", \"all\").sel(longitude = slice(Xn,Xx), latitude = slice(Yn,Yx))"
   ]
  },
  {
   "cell_type": "code",
   "execution_count": null,
   "metadata": {},
   "outputs": [],
   "source": [
    "ds_hist = xr.open_dataset(fpath+varnm+\"_ens_mean_\"+res+\"deg_reg_v31.0e.nc\").dropna(\"time\", \"all\").sel(longitude = slice(Xn,Xx), latitude = slice(Yn,Yx))"
   ]
  },
  {
   "cell_type": "code",
   "execution_count": null,
   "metadata": {},
   "outputs": [],
   "source": [
    "ds = xr.merge([ds_hist, ds_2025], \"time\")"
   ]
  },
  {
   "cell_type": "code",
   "execution_count": null,
   "metadata": {},
   "outputs": [],
   "source": [
    "ds = xr.open_mfdataset([fnm for fnm in glob.glob(fpath+varnm+\"*\"+res+\"*.nc\") if not \"lastyear\" in fnm])\n",
    "ds = ds[list(ds.data_vars)[0]].sel(longitude = slice(Xn,Xx), latitude = slice(Yn,Yx))\n",
    "ds = ds.dropna(\"time\", \"all\")"
   ]
  },
  {
   "cell_type": "code",
   "execution_count": null,
   "metadata": {},
   "outputs": [],
   "source": [
    "ds.to_netcdf(fpath+\"eobs_\"+varnm+\"_\"+res+\"deg.nc\")"
   ]
  },
  {
   "cell_type": "markdown",
   "metadata": {},
   "source": [
    "## CPC"
   ]
  },
  {
   "cell_type": "code",
   "execution_count": 26,
   "metadata": {},
   "outputs": [
    {
     "name": "stdout",
     "output_type": "stream",
     "text": [
      "--2025-08-11 10:00:03--  https://climexp.knmi.nl/data/tmax_cpc_daily_0-35E_55-75N_-999-lastyear_su.nc\n",
      "Resolving climexp.knmi.nl (climexp.knmi.nl)... 2a0c:5bc0:4c:ff::9126:ce95, 145.38.206.149\n",
      "Connecting to climexp.knmi.nl (climexp.knmi.nl)|2a0c:5bc0:4c:ff::9126:ce95|:443... connected.\n",
      "HTTP request sent, awaiting response... 200 OK\n",
      "Length: 92157433 (88M) [application/x-netcdf]\n",
      "Saving to: ‘tmax_cpc_daily_0-35E_55-75N_-999-lastyear_su.nc’\n",
      "\n",
      "tmax_cpc_daily_0-35 100%[===================>]  87.89M   148MB/s    in 0.6s    \n",
      "\n",
      "2025-08-11 10:00:04 (148 MB/s) - ‘tmax_cpc_daily_0-35E_55-75N_-999-lastyear_su.nc’ saved [92157433/92157433]\n",
      "\n",
      "--2025-08-11 10:00:04--  https://climexp.knmi.nl/data/tmin_cpc_daily_0-35E_55-75N_-999-lastyear_su.nc\n",
      "Resolving climexp.knmi.nl (climexp.knmi.nl)... 2a0c:5bc0:4c:ff::9126:ce95, 145.38.206.149\n",
      "Connecting to climexp.knmi.nl (climexp.knmi.nl)|2a0c:5bc0:4c:ff::9126:ce95|:443... connected.\n",
      "HTTP request sent, awaiting response... 200 OK\n",
      "Length: 93413016 (89M) [application/x-netcdf]\n",
      "Saving to: ‘tmin_cpc_daily_0-35E_55-75N_-999-lastyear_su.nc’\n",
      "\n",
      "tmin_cpc_daily_0-35 100%[===================>]  89.08M   200MB/s    in 0.4s    \n",
      "\n",
      "2025-08-11 10:00:05 (200 MB/s) - ‘tmin_cpc_daily_0-35E_55-75N_-999-lastyear_su.nc’ saved [93413016/93413016]\n",
      "\n"
     ]
    }
   ],
   "source": [
    "! cd $fpath; wget https://climexp.knmi.nl/data/tmax_cpc_daily_0-35E_55-75N_-999-lastyear_su.nc -O tmax_cpc_daily_0-35E_55-75N_-999-lastyear_su.nc\n",
    "! cd $fpath; wget https://climexp.knmi.nl/data/tmin_cpc_daily_0-35E_55-75N_-999-lastyear_su.nc -O tmin_cpc_daily_0-35E_55-75N_-999-lastyear_su.nc"
   ]
  },
  {
   "cell_type": "markdown",
   "metadata": {},
   "source": [
    "## MSWX"
   ]
  },
  {
   "cell_type": "code",
   "execution_count": 2,
   "metadata": {},
   "outputs": [],
   "source": [
    "outpath = \"/rds/general/user/cb2714/home/99_ephemera/mswx_fs/\""
   ]
  },
  {
   "cell_type": "code",
   "execution_count": null,
   "metadata": {},
   "outputs": [],
   "source": [
    "for y in range(2025,1978,-1):\n",
    "\n",
    "    print(y)\n",
    "    new_fnm = outpath+\"tmax_mswx_\"+str(y)+\".nc\"\n",
    "    if os.path.exists(new_fnm): continue\n",
    "        \n",
    "    ds = xr.open_mfdataset(\"/rds/general/user/cb2714/home/00_WWA_project_folder/live/data/mswx/Tmax/\"+str(y)+\"/*.nc\")\n",
    "    ds = ds.sel(lon = slice(Xn,Xx), lat = slice(Yx,Yn)).rename(air_temperature = \"tmax\")\n",
    "    ds.to_netcdf(new_fnm)"
   ]
  },
  {
   "cell_type": "code",
   "execution_count": null,
   "metadata": {},
   "outputs": [],
   "source": [
    "# compile & save\n",
    "wrap_lon(xr.open_mfdataset(outpath+\"*.nc\")).to_netcdf(\"data/tmax_mswx.nc\")"
   ]
  },
  {
   "cell_type": "markdown",
   "metadata": {},
   "source": [
    "# Climate model data"
   ]
  },
  {
   "cell_type": "markdown",
   "metadata": {},
   "source": [
    "## CMIP6"
   ]
  },
  {
   "cell_type": "code",
   "execution_count": 4,
   "metadata": {},
   "outputs": [
    {
     "name": "stdout",
     "output_type": "stream",
     "text": [
      "Done.\n"
     ]
    }
   ],
   "source": [
    "varnm = \"tasmax\"\n",
    "fl = sorted(glob.glob(\"data/cmip6/\"+varnm+\"_day_*\"))\n",
    "for fnm in fl:\n",
    "\n",
    "    print(fnm)\n",
    "    if os.path.exists(re.sub(varnm, varnm+\"-sc\", fnm)): continue\n",
    "    \n",
    "    da = convert_units_to(xr.open_dataset(fnm)[varnm], \"degC\")\n",
    "\n",
    "    if \"height\" in da.coords: da = da.reset_coords(\"height\", drop = True)\n",
    "\n",
    "    # spatial patterns for evaluation\n",
    "    da_sp = da.sel(time = slice(\"1990\",\"2020\")).groupby(\"time.month\").mean()\n",
    "    da_sp.to_netcdf(re.sub(varnm, varnm+\"-sp\", fnm[:-21]+\".nc\"))\n",
    "    \n",
    "    # daily timeseries over study region\n",
    "    rm = regionmask.mask_geopandas(sf, da.lon, da.lat)\n",
    "    ts = da.where(rm == 0, drop = True).mean([\"lat\", \"lon\"])\n",
    "    ts.to_netcdf(re.sub(varnm, varnm+\"-fs\", fnm))\n",
    "    \n",
    "    # seasonal cycle for evaluation\n",
    "    sc = ts.sel(time = slice(\"1990\",\"2020\")).groupby(\"time.dayofyear\").mean()\n",
    "    sc.to_netcdf(re.sub(varnm, varnm+\"-sc\", fnm[:-21]+\".nc\"))\n",
    "    \n",
    "clear_output(wait = False)\n",
    "print(\"Done.\")"
   ]
  },
  {
   "cell_type": "markdown",
   "metadata": {},
   "source": [
    "## CORDEX"
   ]
  },
  {
   "cell_type": "code",
   "execution_count": null,
   "metadata": {
    "scrolled": true
   },
   "outputs": [
    {
     "name": "stdout",
     "output_type": "stream",
     "text": [
      "/rds/general/user/cb2714/home/00_WWA_project_folder/ephemeral/FS_heat/cordex/tasmin_EUR-11_CNRM-CM5_r1i1p1_ALADIN53_19500101-20501231.nc\n",
      "/rds/general/user/cb2714/home/00_WWA_project_folder/ephemeral/FS_heat/cordex/tasmin_EUR-11_CNRM-CM5_r1i1p1_ALADIN63_19510101-20501231.nc\n",
      "/rds/general/user/cb2714/home/00_WWA_project_folder/ephemeral/FS_heat/cordex/tasmin_EUR-11_CNRM-CM5_r1i1p1_CCLM4-8-17_19500101-20501231.nc\n",
      "/rds/general/user/cb2714/home/00_WWA_project_folder/ephemeral/FS_heat/cordex/tasmin_EUR-11_CNRM-CM5_r1i1p1_HIRHAM5_19510101-20501231.nc\n",
      "/rds/general/user/cb2714/home/00_WWA_project_folder/ephemeral/FS_heat/cordex/tasmin_EUR-11_CNRM-CM5_r1i1p1_HadREM3-GA7-05_19511201-20501231.nc\n",
      "/rds/general/user/cb2714/home/00_WWA_project_folder/ephemeral/FS_heat/cordex/tasmin_EUR-11_CNRM-CM5_r1i1p1_RACMO22E_19500101-20501231.nc\n",
      "/rds/general/user/cb2714/home/00_WWA_project_folder/ephemeral/FS_heat/cordex/tasmin_EUR-11_CNRM-CM5_r1i1p1_RCA4_19700101-20501231.nc\n",
      "/rds/general/user/cb2714/home/00_WWA_project_folder/ephemeral/FS_heat/cordex/tasmin_EUR-11_CNRM-CM5_r1i1p1_REMO2015_19500102-20501231.nc\n",
      "/rds/general/user/cb2714/home/00_WWA_project_folder/ephemeral/FS_heat/cordex/tasmin_EUR-11_CanESM2_r1i1p1_CCLM4-8-17_19500101-20501231.nc\n",
      "/rds/general/user/cb2714/home/00_WWA_project_folder/ephemeral/FS_heat/cordex/tasmin_EUR-11_CanESM2_r1i1p1_REMO2015_19500102-20501231.nc\n",
      "/rds/general/user/cb2714/home/00_WWA_project_folder/ephemeral/FS_heat/cordex/tasmin_EUR-11_EC-EARTH_r12i1p1_CCLM4-8-17_19491201-20501231.nc\n",
      "/rds/general/user/cb2714/home/00_WWA_project_folder/ephemeral/FS_heat/cordex/tasmin_EUR-11_EC-EARTH_r12i1p1_COSMO-crCLIM-v1-1_19500101-20501231.nc\n"
     ]
    }
   ],
   "source": [
    "varnm = \"tasmin\"\n",
    "fl = sorted(glob.glob(\"/rds/general/user/cb2714/home/00_WWA_project_folder/ephemeral/FS_heat/cordex/\"+varnm+\"_EUR-11_*\"))\n",
    "\n",
    "for fnm in fl:\n",
    "\n",
    "    print(fnm)\n",
    "#     if os.path.exists(\"data/cordex/\"+re.sub(varnm, varnm+\"-sc\", fnm.split(\"/\")[-1][:-21]+\".nc\")): continue\n",
    "        \n",
    "    if fnm in [\"/rds/general/user/cb2714/home/00_WWA_project_folder/ephemeral/FS_heat/cordex/tasmin_EUR-11_CanESM2_r1i1p1_CCLM4-8-17_19500101-20501231.nc\",\n",
    "               \"/rds/general/user/cb2714/home/00_WWA_project_folder/ephemeral/FS_heat/cordex/tasmin_EUR-11_CanESM2_r1i1p1_REMO2015_19500102-20501231.nc\",\n",
    "               \"/rds/general/user/cb2714/home/00_WWA_project_folder/ephemeral/FS_heat/cordex/tasmin_EUR-11_EC-EARTH_r12i1p1_CCLM4-8-17_19491201-20501231.nc\"]:\n",
    "        continue\n",
    "    \n",
    "    da = xr.open_dataset(fnm)\n",
    "    if \"height\" in da.coords: da = da.reset_coords(\"height\", drop = True)\n",
    "    if \"longitude\" in da.data_vars: da = da.rename(longitude = \"lon\", latitude = \"lat\")\n",
    "    rm = regionmask.mask_geopandas(sf, da.lon, da.lat)\n",
    "    \n",
    "    if \"lon\" in da.data_vars: da = da.assign_coords(lon = da.lon, lat = da.lat)\n",
    "    \n",
    "    if \"x\" in da.dims:\n",
    "        xdim,ydim = [\"x\", \"y\"]\n",
    "    elif \"rlat\" in da.dims:\n",
    "        xdim,ydim = [\"rlon\", \"rlat\"]\n",
    "\n",
    "    # spatial patterns for evaluation\n",
    "    da_sp = da.sel(time = slice(\"1990\",\"2020\")).groupby(\"time.month\").mean()\n",
    "    da_sp.to_netcdf(\"data/cordex/\"+re.sub(varnm, varnm+\"-sp\", fnm.split(\"/\")[-1][:-21]+\".nc\"))\n",
    "    \n",
    "#     da = convert_units_to(da[varnm], \"degC\")\n",
    "\n",
    "#     # daily timeseries over study region\n",
    "#     ts = da.where(rm == 0, drop = True).mean([xdim, ydim])\n",
    "#     ts.to_netcdf(\"data/cordex/\"+re.sub(varnm, varnm+\"-fs\", fnm.split(\"/\")[-1]))\n",
    "\n",
    "#     # seasonal cycle for evaluation\n",
    "#     sc = ts.sel(time = slice(\"1990\",\"2020\")).groupby(\"time.dayofyear\").mean()\n",
    "#     sc.to_netcdf(\"data/cordex/\"+re.sub(varnm, varnm+\"-sc\", fnm.split(\"/\")[-1][:-21]+\".nc\"))\n",
    "clear_output(wait = False)\n",
    "print(\"Done.\")"
   ]
  },
  {
   "cell_type": "markdown",
   "metadata": {},
   "source": [
    "# Time series & spatial pattern over study region"
   ]
  },
  {
   "cell_type": "code",
   "execution_count": 15,
   "metadata": {},
   "outputs": [],
   "source": [
    "sf = gpd.read_file(\"sf_fennoscandia\")\n",
    "\n",
    "ndays = 14"
   ]
  },
  {
   "cell_type": "markdown",
   "metadata": {},
   "source": [
    "## Obs products"
   ]
  },
  {
   "cell_type": "code",
   "execution_count": 27,
   "metadata": {},
   "outputs": [],
   "source": [
    "tx_list = {\n",
    "           # \"era5\" : \"era5_tmax_daily_land_0-40E_40-75N.nc\",\n",
    "           # \"eobs\" : \"tx_0.25deg_reg_v31.0eu_0-35E_55-71.88N_firstyear-lastyear.nc\",\n",
    "           \"cpc\" : \"tmax_cpc_daily_0-35E_55-75N_-999-lastyear_su.nc\"\n",
    "          }\n",
    "\n",
    "tn_list = {\n",
    "           # \"era5\" : \"era5_tmin_daily_land_0-40E_40-75N.nc\",\n",
    "           # \"eobs\" : \"tn_0.25deg_reg_v31.0eu_0-35E_55-71.88N_-999-lastyear.nc\",\n",
    "           \"cpc\" : \"tmin_cpc_daily_0-35E_55-75N_-999-lastyear_su.nc\"\n",
    "          }"
   ]
  },
  {
   "cell_type": "code",
   "execution_count": 28,
   "metadata": {},
   "outputs": [
    {
     "name": "stdout",
     "output_type": "stream",
     "text": [
      "tmax_cpc_daily_0-35E_55-75N_-999-lastyear_su.nc\n",
      "tmin_cpc_daily_0-35E_55-75N_-999-lastyear_su.nc\n"
     ]
    }
   ],
   "source": [
    "for varnm in [\"tx\", \"tn\"]:\n",
    "    vnm = {\"tx\" : \"max\", \"tn\" : \"min\"}[varnm]\n",
    "\n",
    "    ds_list = eval(varnm+\"_list\")\n",
    "    \n",
    "    for ds_nm, fnm in ds_list.items():\n",
    "\n",
    "        print(fnm)\n",
    "    \n",
    "        da = wrap_lon(xr.open_dataset(fpath+fnm))\n",
    "        da = da[list(da.data_vars)[0]]\n",
    "\n",
    "        if \"longitude\" in da.dims:\n",
    "            da = da.rename(longitude = \"lon\", latitude = \"lat\")\n",
    "            \n",
    "\n",
    "        da_sp = da.sel(time = slice(\"1990\",\"2020\")).groupby(\"time.month\").mean().rename(\"tas\"+vnm)\n",
    "        da_sp.to_netcdf(\"data/\"+varnm+\"-sp_\"+ds_nm+\".nc\")\n",
    "\n",
    "        rm = regionmask.mask_geopandas(sf, da)\n",
    "\n",
    "        ts = da.where(rm == 0).mean([\"lat\", \"lon\"])\n",
    "        ts.to_dataframe().to_csv(\"data/\"+varnm+\"-fs-daily_\"+ds_nm+\".csv\")\n",
    "\n",
    "        if ds_nm == \"eobs\":\n",
    "            ts = ts.sel(time = slice(None, \"2024\"))\n",
    "            \n",
    "        # create annual time series for Climate Explorer\n",
    "        txnx = ts.rolling(time = ndays, center = False).mean().resample(time = \"AS\").max()\n",
    "        df = txnx.assign_coords(time = txnx.time.dt.year).rename(time = \"year\").to_dataframe()\n",
    "\n",
    "        csv_fnm = \"fs-heatwave_\"+varnm+str(ndays)+\"x_\"+ds_nm\n",
    "        csv_fullpath = \"ts/\"+csv_fnm+\".dat\"\n",
    "        if len(csv_fnm) > 61: print(\"! Filename too long: \", csv_fnm)\n",
    "        \n",
    "        # create header lines for upload to Climate Explorer \n",
    "        str1 = \"# contact :: \"+ds_nm.upper()+\" \"+varnm+str(ndays)+\"x over Norway, Sweden and Finland - Fennoscandia heatwave, c.barnes22@imperial.ac.uk\"\n",
    "        str2 = \"# \"+varnm+str(ndays)+\"x [degC] - annual maximum of \"+str(ndays)+\"-day average of daily \"+vnm+\"imum temperatures averaged over Norway, Sweden and Finland at \"+csv_fnm+\".dat\"\n",
    "        head = \"# year \"+varnm+str(ndays)+\"x\"\n",
    "\n",
    "        # make .dat file\n",
    "        ! echo \"$str1 \" > $csv_fullpath\n",
    "        ! echo \"$str2\" >> $csv_fullpath\n",
    "        ! echo \"$head\" >> $csv_fullpath\n",
    "        df.to_csv(csv_fullpath, sep = \" \", mode = \"a\", header = False)"
   ]
  },
  {
   "cell_type": "markdown",
   "metadata": {},
   "source": [
    "## Climate models\n"
   ]
  },
  {
   "cell_type": "code",
   "execution_count": 10,
   "metadata": {},
   "outputs": [
    {
     "name": "stdout",
     "output_type": "stream",
     "text": [
      "Done.\n"
     ]
    }
   ],
   "source": [
    "framing = \"cordex\"\n",
    "varnm = \"tasmin\"\n",
    "ndays = 14\n",
    "\n",
    "vnm = \"t\"+varnm[-1]+str(ndays)+\"x\"\n",
    "fl = glob.glob(\"data/\"+framing+\"/\"+varnm+\"-fs*.nc\")\n",
    "for fnm in fl:\n",
    "\n",
    "    print(fnm)\n",
    "    mdl = \"_\".join(fnm.split(\"_\")[2:-1])\n",
    "\n",
    "    # create annual time series for Climate Explorer\n",
    "    ts = xr.open_dataset(fnm)[varnm]\n",
    "    txnx = ts.rolling(time = ndays, center = False).mean().resample(time = \"AS\").max()\n",
    "    df = txnx.assign_coords(time = txnx.time.dt.year).rename(time = \"year\").to_dataframe()\n",
    "\n",
    "    csv_fnm = \"fs-heatwave_\"+vnm+\"_\"+framing+\"_\"+mdl\n",
    "    csv_fullpath = \"ts/\"+csv_fnm+\".dat\"\n",
    "    if len(csv_fnm) > 61: print(\"! Filename too long: \", csv_fnm)\n",
    "\n",
    "    framing_l = framing.upper()\n",
    "    if framing == \"cordex\": framing_l = framing_l +\" EUR-11\"\n",
    "    \n",
    "    # create header lines for upload to Climate Explorer \n",
    "    str1 = \"# contact :: \"+framing_l+\" \"+mdl+\" \"+vnm+\" over Norway, Sweden and Finland - Fennoscandia heatwave, c.barnes22@imperial.ac.uk\"\n",
    "    str2 = \"# \"+vnm+\" [degC] - annual maximum of \"+str(ndays)+\"-day average of daily \"+vnm+\"imum temperatures averaged over Norway, Sweden and Finland at \"+csv_fnm+\".dat\"\n",
    "    head = \"# year \"+vnm\n",
    "\n",
    "    # make .dat file\n",
    "    ! echo \"$str1 \" > $csv_fullpath\n",
    "    ! echo \"$str2\" >> $csv_fullpath\n",
    "    ! echo \"$head\" >> $csv_fullpath\n",
    "    df.to_csv(csv_fullpath, sep = \" \", mode = \"a\", header = False)\n",
    "\n",
    "clear_output(wait = False)\n",
    "print(\"Done.\")"
   ]
  },
  {
   "cell_type": "markdown",
   "metadata": {},
   "source": [
    "# Station data"
   ]
  },
  {
   "cell_type": "markdown",
   "metadata": {},
   "source": [
    "## Norway"
   ]
  },
  {
   "cell_type": "code",
   "execution_count": 3,
   "metadata": {},
   "outputs": [
    {
     "data": {
      "text/plain": [
       "<matplotlib.collections.QuadMesh at 0x150dd70c67d0>"
      ]
     },
     "execution_count": 3,
     "metadata": {},
     "output_type": "execute_result"
    },
    {
     "data": {
      "image/png": "[encoded data removed]",
      "text/plain": [
       "<Figure size 640x480 with 1 Axes>"
      ]
     },
     "metadata": {},
     "output_type": "display_data"
    }
   ],
   "source": [
    "varnm = \"tx\"\n",
    "\n",
    "fl = sorted(glob.glob(\"stations/stations_amalie/\"+varnm+\"*\"))\n",
    "\n",
    "da_list = [xr.open_dataset(fnm)[varnm] for fnm in fl]\n",
    "stn_data = pd.DataFrame([da.attrs for da in da_list])\n",
    "stn_data.to_csv(\"stations/stations-NO_metadata.csv\")\n",
    "\n",
    "stn_ts = xr.concat([da.expand_dims(stn = [da.station_id]) for da in da_list], \"stn\")\n",
    "stn_counts = stn_ts.sel(time = stn_ts.time.dt.month.isin([6,7,8])).resample(time = \"AS\").count()\n",
    "plt.pcolormesh(stn_counts)"
   ]
  },
  {
   "cell_type": "code",
   "execution_count": 4,
   "metadata": {},
   "outputs": [
    {
     "data": {
      "text/plain": [
       "<matplotlib.collections.QuadMesh at 0x150dcefbdf00>"
      ]
     },
     "execution_count": 4,
     "metadata": {},
     "output_type": "execute_result"
    },
    {
     "data": {
      "image/png": "[encoded data removed]",
      "text/plain": [
       "<Figure size 640x480 with 1 Axes>"
      ]
     },
     "metadata": {},
     "output_type": "display_data"
    }
   ],
   "source": [
    "# filter two stations with a lot of missing data\n",
    "stn_ts = stn_ts.sel(stn = ((stn_counts > 90).sum(\"time\") > 50))\n",
    "stn_counts = stn_ts.sel(time = stn_ts.time.dt.month.isin([6,7,8])).resample(time = \"AS\").count()\n",
    "plt.pcolormesh(stn_counts)"
   ]
  },
  {
   "cell_type": "code",
   "execution_count": 5,
   "metadata": {},
   "outputs": [
    {
     "data": {
      "text/plain": [
       "<matplotlib.collections.QuadMesh at 0x150dcee2f7c0>"
      ]
     },
     "execution_count": 5,
     "metadata": {},
     "output_type": "execute_result"
    },
    {
     "data": {
      "image/png": "[encoded data removed]",
      "text/plain": [
       "<Figure size 640x480 with 1 Axes>"
      ]
     },
     "metadata": {},
     "output_type": "display_data"
    }
   ],
   "source": [
    "# convert to data.frame (easier to reassign values)\n",
    "stn_df = stn_ts.to_pandas().transpose()\n",
    "\n",
    "# truncate to only continuous records\n",
    "if varnm == \"tx\":\n",
    "    stn_df.loc[slice(None, \"1947\"),[\"SN98550\",\"SN39100\"]] = np.nan\n",
    "\n",
    "plt.pcolormesh(stn_df.loc[stn_df.index.month.isin([6,7,8])].resample(\"AS\").count().transpose())"
   ]
  },
  {
   "cell_type": "code",
   "execution_count": 6,
   "metadata": {},
   "outputs": [],
   "source": [
    "# get tx14x & filter to remove years with missing data\n",
    "nobs = stn_df.loc[stn_df.index.month.isin([6,7,8])].resample(\"AS\").count()\n",
    "nobs.loc[\"2025\"] = nobs.loc[\"2025\"]+25 # fudge to pick up 2025 as long as all days are available"
   ]
  },
  {
   "cell_type": "code",
   "execution_count": 7,
   "metadata": {},
   "outputs": [],
   "source": [
    "stn_tx14x = stn_df.rolling(14, center = False).mean().resample(\"AS\").max()\n",
    "stn_tx14x = stn_tx14x.where(nobs > 90).dropna(axis = 0, how = \"all\")"
   ]
  },
  {
   "cell_type": "code",
   "execution_count": 8,
   "metadata": {},
   "outputs": [
    {
     "data": {
      "text/plain": [
       "<AxesSubplot: xlabel='time'>"
      ]
     },
     "execution_count": 8,
     "metadata": {},
     "output_type": "execute_result"
    },
    {
     "data": {
      "image/png": "[encoded data removed]",
      "text/plain": [
       "<Figure size 640x480 with 1 Axes>"
      ]
     },
     "metadata": {},
     "output_type": "display_data"
    }
   ],
   "source": [
    "stn_tx14x.plot(drawstyle = \"steps-mid\", legend = None)"
   ]
  },
  {
   "cell_type": "code",
   "execution_count": 9,
   "metadata": {},
   "outputs": [],
   "source": [
    "stn_tx14x.index = stn_tx14x.index.year\n",
    "stn_tx14x.index.name = \"year\"\n",
    "stn_tx14x.to_csv(\"stations/stations-NO_\"+varnm+\"14x.csv\")"
   ]
  },
  {
   "cell_type": "markdown",
   "metadata": {},
   "source": [
    "## Sweden"
   ]
  },
  {
   "cell_type": "code",
   "execution_count": 37,
   "metadata": {},
   "outputs": [],
   "source": [
    "df1 = pd.read_excel(\"stations/stations_other/Haparanda-combined.xlsx\", skiprows = 4, index_col = \"Representativt dygn\", parse_dates = [\"Representativt dygn\"])\n",
    "df2 = pd.read_excel(\"stations/stations_other/Piteå-combined.xlsx\", skiprows = 4, index_col = \"Representativt dygn\", parse_dates = [\"Representativt dygn\"])\n",
    "\n",
    "# df1 = df1.rename(columns = {\"Lufttemperatur\" : \"tmin\", \"Lufttemperatur.1\" : \"tmax\"})[[\"tmax\", \"tmin\"]]\n",
    "# df2 = df2.rename(columns = {\"Lufttemperatur\" : \"tmin\", \"Lufttemperatur.1\" : \"tmax\"})[[\"tmax\", \"tmin\"]]"
   ]
  },
  {
   "cell_type": "code",
   "execution_count": null,
   "metadata": {},
   "outputs": [],
   "source": [
    "tmin = merge_byindex([df1[[\"Lufttemperatur\"]].rename(columns = {\"Lufttemperatur\" : \"haparanda\"}), df2[[\"Lufttemperatur\"]].rename(columns = {\"Lufttemperatur\" : \"pitea\"})])\n",
    "tmax = merge_byindex([df1[[\"Lufttemperatur.1\"]].rename(columns = {\"Lufttemperatur.1\" : \"haparanda\"}), df2[[\"Lufttemperatur.1\"]].rename(columns = {\"Lufttemperatur.1\" : \"pitea\"})])"
   ]
  },
  {
   "cell_type": "code",
   "execution_count": 64,
   "metadata": {},
   "outputs": [],
   "source": [
    "tn14x = tmin.rolling(14).mean().resample(\"AS\").max()\n",
    "tx14x = tmax.rolling(14).mean().resample(\"AS\").max()\n",
    "\n",
    "tn14x.index = tn14x.index.year\n",
    "tx14x.index = tx14x.index.year"
   ]
  },
  {
   "cell_type": "code",
   "execution_count": 70,
   "metadata": {},
   "outputs": [],
   "source": [
    "tx14x.to_csv(\"stations/stations-SE_tx14x.csv\")\n",
    "tn14x.to_csv(\"stations/stations-SE_tn14x.csv\")"
   ]
  },
  {
   "cell_type": "markdown",
   "metadata": {},
   "source": [
    "## Finland"
   ]
  },
  {
   "cell_type": "code",
   "execution_count": 110,
   "metadata": {},
   "outputs": [],
   "source": [
    "df = pd.read_csv(\"stations/stations_other/Sodankylä Tähtelä_ 1.1.1908 - 7.8.2025.csv\", parse_dates = {\"Date\":[\"Day\",\"Month\",\"Year\"]}, dayfirst = True, index_col = \"Date\", na_values = \"-\")\n",
    "df = df.rename(columns = {\"Average temperature [°C]\" : \"tmean\", \"Maximum temperature [°C]\": \"tmax\", \"Minimum temperature [°C]\": \"tmin\"})"
   ]
  },
  {
   "cell_type": "code",
   "execution_count": 111,
   "metadata": {},
   "outputs": [
    {
     "data": {
      "text/plain": [
       "<matplotlib.collections.QuadMesh at 0x150dc7168e20>"
      ]
     },
     "execution_count": 111,
     "metadata": {},
     "output_type": "execute_result"
    },
    {
     "data": {
      "image/png": "[encoded data removed]",
      "text/plain": [
       "<Figure size 640x480 with 1 Axes>"
      ]
     },
     "metadata": {},
     "output_type": "display_data"
    }
   ],
   "source": [
    "plt.pcolormesh(df.loc[df.index.month.isin([6,7,8])].resample(\"AS\").count())"
   ]
  },
  {
   "cell_type": "code",
   "execution_count": null,
   "metadata": {},
   "outputs": [],
   "source": [
    "tx14x = df[[\"tmax\"]].rolling(14).mean().resample(\"AS\").max()\n",
    "tx14x.index = tx14x.index.year\n",
    "tx14x.index.name = \"year\"\n",
    "tx14x.to_csv(\"stations/stations-FI_tx14x.csv\")"
   ]
  },
  {
   "cell_type": "code",
   "execution_count": 116,
   "metadata": {},
   "outputs": [],
   "source": [
    "tn14x = df[[\"tmin\"]].rolling(14).mean().resample(\"AS\").max()\n",
    "tn14x.index = tn14x.index.year\n",
    "tn14x.index.name = \"year\"\n",
    "tn14x.to_csv(\"stations/stations-FI_tn14x.csv\")"
   ]
  },
  {
   "cell_type": "code",
   "execution_count": null,
   "metadata": {},
   "outputs": [],
   "source": []
  }
 ],
 "metadata": {
  "kernelspec": {
   "display_name": "wwa",
   "language": "python",
   "name": "wwa"
  },
  "language_info": {
   "codemirror_mode": {
    "name": "ipython",
    "version": 3
   },
   "file_extension": ".py",
   "mimetype": "text/x-python",
   "name": "python",
   "nbconvert_exporter": "python",
   "pygments_lexer": "ipython3",
   "version": "3.10.8"
  }
 },
 "nbformat": 4,
 "nbformat_minor": 4
}
