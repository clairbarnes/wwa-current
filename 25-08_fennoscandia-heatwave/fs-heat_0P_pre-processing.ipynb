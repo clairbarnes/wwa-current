{
 "cells": [
  {
   "cell_type": "code",
   "execution_count": 1,
   "metadata": {},
   "outputs": [],
   "source": [
    "import sys; sys.path.append(\"../../wwa\"); from wwa import *\n",
    "\n",
    "mapproj = cartopy.crs.PlateCarree()\n",
    "\n",
    "fpath = \"/rds/general/user/cb2714/home/00_WWA_project_folder/ephemeral/FS_heat/\"\n",
    "\n",
    "Xn,Xx,Yn,Yx = [0,35,55,75]\n",
    "xn,xx,yn,yx = [4,30,60,72]"
   ]
  },
  {
   "cell_type": "markdown",
   "metadata": {},
   "source": [
    "# ERA5"
   ]
  },
  {
   "cell_type": "code",
   "execution_count": null,
   "metadata": {},
   "outputs": [],
   "source": [
    "era5_fpath = fpath+\"era5_tmax_daily_eu_extended_0-35E_55-75N_-999-lastyear.nc\"\n",
    "! wget https://climexp.knmi.nl/data/era5_tmax_daily_eu_extended_0-35E_55-75N_-999-lastyear_su.nc -O $era5_fpath\n",
    "\n",
    "era5_fpath = fpath+\"era5_tmin_daily_eu_extended_0-35E_55-75N_-999-lastyear.nc\"\n",
    "! wget https://climexp.knmi.nl/data/era5_tmin_daily_eu_extended_0-35E_55-75N_-999-lastyear_su.nc -O $era5_fpath"
   ]
  },
  {
   "cell_type": "code",
   "execution_count": 37,
   "metadata": {},
   "outputs": [],
   "source": [
    "da = xr.open_dataset(fpath+\"era5_tmax_daily_eu_extended_0-35E_55-75N_-999-lastyear.nc\").tmax.where(lsm >= 0.5)\n",
    "rm = regionmask.defined_regions.natural_earth_v5_0_0.land_50.mask(da.lon, da.lat)\n",
    "da.where(rm == 0).to_netcdf(fpath+\"era5_tmax_daily_land_0-35E_55-75N.nc\")"
   ]
  },
  {
   "cell_type": "code",
   "execution_count": 38,
   "metadata": {},
   "outputs": [],
   "source": [
    "da = xr.open_dataset(fpath+\"era5_tmin_daily_eu_extended_0-35E_55-75N_-999-lastyear.nc\").tmin.where(lsm >= 0.5)\n",
    "rm = regionmask.defined_regions.natural_earth_v5_0_0.land_50.mask(da.lon, da.lat)\n",
    "da.where(rm == 0).to_netcdf(fpath+\"era5_tmin_daily_land_0-35E_55-75N.nc\")"
   ]
  },
  {
   "cell_type": "markdown",
   "metadata": {},
   "source": [
    "# E-Obs"
   ]
  },
  {
   "cell_type": "markdown",
   "metadata": {},
   "source": [
    "## Retrieve latest (both resolutions for now, in case of gaps)"
   ]
  },
  {
   "cell_type": "code",
   "execution_count": 28,
   "metadata": {},
   "outputs": [],
   "source": [
    "eobs_path = fpath+\"tx_ens_mean_0.1deg_reg_v31.0e.nc\"\n",
    "! wget https://knmi-ecad-assets-prd.s3.amazonaws.com/ensembles/data/Grid_0.1deg_reg_ensemble/tx_ens_mean_0.1deg_reg_v31.0e.nc -O $eobs_path"
   ]
  },
  {
   "cell_type": "code",
   "execution_count": 25,
   "metadata": {},
   "outputs": [],
   "source": [
    "eobs_path = fpath+\"tx_ens_mean_0.25deg_reg_v31.0e.nc\"\n",
    "! wget https://knmi-ecad-assets-prd.s3.amazonaws.com/ensembles/data/Grid_0.25deg_reg_ensemble/tx_ens_mean_0.25deg_reg_v31.0e.nc -O $eobs_path\n",
    "\n",
    "#~~~~~~~~~~~~~~~~~~~~~~~~~~~~~~~~~~~~~~~~~~~~~~~~~~~~~~~~~~~~~~~~~~~\n",
    "eobs_path = fpath+\"tx_0.25deg_day_2025_grid_ensmean.nc\"\n",
    "! wget https://knmi-ecad-assets-prd.s3.amazonaws.com/ensembles/data/months/ens/tx_0.25deg_day_2025_grid_ensmean.nc -O $eobs_path"
   ]
  },
  {
   "cell_type": "code",
   "execution_count": null,
   "metadata": {},
   "outputs": [],
   "source": [
    "eobs_path = fpath+\"tn_ens_mean_0.25deg_reg_v31.0e.nc\"\n",
    "! wget https://knmi-ecad-assets-prd.s3.amazonaws.com/ensembles/data/Grid_0.25deg_reg_ensemble/tn_ens_mean_0.25deg_reg_v31.0e.nc -O $eobs_path"
   ]
  },
  {
   "cell_type": "code",
   "execution_count": null,
   "metadata": {},
   "outputs": [],
   "source": [
    "eobs_path = fpath+\"tn_ens_mean_0.1deg_reg_v31.0e.nc\"\n",
    "! wget https://knmi-ecad-assets-prd.s3.amazonaws.com/ensembles/data/Grid_0.1deg_reg_ensemble/tn_ens_mean_0.1deg_reg_v31.0e.nc -O $eobs_path"
   ]
  },
  {
   "cell_type": "markdown",
   "metadata": {},
   "source": [
    "## Extract wider region"
   ]
  },
  {
   "cell_type": "code",
   "execution_count": 2,
   "metadata": {},
   "outputs": [],
   "source": [
    "varnm = \"tn\"\n",
    "res = \"0.25\""
   ]
  },
  {
   "cell_type": "code",
   "execution_count": 3,
   "metadata": {},
   "outputs": [],
   "source": [
    "ds = xr.open_mfdataset([fnm for fnm in glob.glob(fpath+varnm+\"*\"+res+\"*.nc\") if not \"lastyear\" in fnm])\n",
    "ds = ds[list(ds.data_vars)[0]].sel(longitude = slice(Xn,Xx), latitude = slice(Yn,Yx))\n",
    "ds = ds.dropna(\"time\", \"all\")"
   ]
  },
  {
   "cell_type": "code",
   "execution_count": 4,
   "metadata": {},
   "outputs": [],
   "source": [
    "ds.to_netcdf(fpath+\"eobs_\"+varnm+\"_\"+res+\"deg.nc\")"
   ]
  },
  {
   "cell_type": "markdown",
   "metadata": {},
   "source": [
    "# CPC"
   ]
  },
  {
   "cell_type": "code",
   "execution_count": null,
   "metadata": {},
   "outputs": [],
   "source": [
    "! cd $fpath; wget https://climexp.knmi.nl/data/tmin_cpc_daily_0-35E_55-75N_-999-lastyear_su.nc\n",
    "! cd $fpath; wget https://climexp.knmi.nl/data/tmax_cpc_daily_0-35E_55-75N_-999-lastyear_su.nc"
   ]
  },
  {
   "cell_type": "markdown",
   "metadata": {},
   "source": [
    "# MSWX"
   ]
  },
  {
   "cell_type": "code",
   "execution_count": 2,
   "metadata": {},
   "outputs": [],
   "source": [
    "outpath = \"/rds/general/user/cb2714/home/99_ephemera/mswx_fs/\""
   ]
  },
  {
   "cell_type": "code",
   "execution_count": null,
   "metadata": {},
   "outputs": [],
   "source": [
    "for y in range(2025,1978,-1):\n",
    "\n",
    "    print(y)\n",
    "    new_fnm = outpath+\"tmax_mswx_\"+str(y)+\".nc\"\n",
    "    if os.path.exists(new_fnm): continue\n",
    "        \n",
    "    ds = xr.open_mfdataset(\"/rds/general/user/cb2714/home/00_WWA_project_folder/live/data/mswx/Tmax/\"+str(y)+\"/*.nc\")\n",
    "    ds = ds.sel(lon = slice(Xn,Xx), lat = slice(Yx,Yn)).rename(air_temperature = \"tmax\")\n",
    "    ds.to_netcdf(new_fnm)"
   ]
  },
  {
   "cell_type": "code",
   "execution_count": 23,
   "metadata": {},
   "outputs": [],
   "source": [
    "# compile & save\n",
    "wrap_lon(xr.open_mfdataset(outpath+\"*.nc\")).to_netcdf(\"data/tmax_mswx.nc\")"
   ]
  },
  {
   "cell_type": "code",
   "execution_count": null,
   "metadata": {},
   "outputs": [],
   "source": []
  }
 ],
 "metadata": {
  "kernelspec": {
   "display_name": "wwa",
   "language": "python",
   "name": "wwa"
  },
  "language_info": {
   "codemirror_mode": {
    "name": "ipython",
    "version": 3
   },
   "file_extension": ".py",
   "mimetype": "text/x-python",
   "name": "python",
   "nbconvert_exporter": "python",
   "pygments_lexer": "ipython3",
   "version": "3.10.8"
  }
 },
 "nbformat": 4,
 "nbformat_minor": 4
}
