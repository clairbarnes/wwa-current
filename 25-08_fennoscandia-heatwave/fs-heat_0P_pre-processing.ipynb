{
 "cells": [
  {
   "cell_type": "code",
   "execution_count": 1,
   "metadata": {},
   "outputs": [],
   "source": [
    "import sys; sys.path.append(\"../../wwa\"); from wwa import *\n",
    "\n",
    "mapproj = cartopy.crs.PlateCarree()\n",
    "\n",
    "fpath = \"/rds/general/user/cb2714/home/00_WWA_project_folder/ephemeral/FS_heat/\"\n",
    "\n",
    "Xn,Xx,Yn,Yx = [0,35,55,75]\n",
    "xn,xx,yn,yx = [4,30,60,72]"
   ]
  },
  {
   "cell_type": "markdown",
   "metadata": {},
   "source": [
    "# Shapefile for study region"
   ]
  },
  {
   "cell_type": "code",
   "execution_count": 16,
   "metadata": {},
   "outputs": [],
   "source": [
    "sf = regionmask.defined_regions.natural_earth_v5_0_0.countries_50.to_geodataframe().set_index(\"names\").loc[[\"Sweden\", \"Norway\", \"Finland\"]]\n",
    "sf = main_polygon(sf.dissolve())\n",
    "sf.to_file(\"sf_fennoscandia\")"
   ]
  },
  {
   "cell_type": "markdown",
   "metadata": {},
   "source": [
    "# Get gridded data"
   ]
  },
  {
   "cell_type": "markdown",
   "metadata": {},
   "source": [
    "## ERA5"
   ]
  },
  {
   "cell_type": "code",
   "execution_count": null,
   "metadata": {},
   "outputs": [],
   "source": [
    "era5_fpath = fpath+\"era5_tmax_daily_eu_extended_0-35E_55-75N_-999-lastyear.nc\"\n",
    "! wget https://climexp.knmi.nl/data/era5_tmax_daily_eu_extended_0-35E_55-75N_-999-lastyear_su.nc -O $era5_fpath\n",
    "\n",
    "era5_fpath = fpath+\"era5_tmin_daily_eu_extended_0-35E_55-75N_-999-lastyear.nc\"\n",
    "! wget https://climexp.knmi.nl/data/era5_tmin_daily_eu_extended_0-35E_55-75N_-999-lastyear_su.nc -O $era5_fpath"
   ]
  },
  {
   "cell_type": "code",
   "execution_count": 20,
   "metadata": {},
   "outputs": [],
   "source": [
    "varnm = \"tmin\"\n",
    "\n",
    "lsm = xr.open_dataset(fpath+\"era5_000000_lsm_eu.nc\").lsm.squeeze(drop = True).rename(latitude = \"lat\", longitude = \"lon\")\n",
    "\n",
    "da = xr.open_dataset(fpath+\"era5_\"+varnm+\"_daily_eu_extended_0-35E_55-75N_-999-lastyear.nc\")[varnm]\n",
    "da = da.where(lsm.sel(lon = da.lon, lat = da.lat) >= 0.5, drop = True)\n",
    "da.to_netcdf(fpath+\"era5_\"+varnm+\"_daily_land_0-35E_55-75N.nc\")"
   ]
  },
  {
   "cell_type": "markdown",
   "metadata": {},
   "source": [
    "## E-Obs"
   ]
  },
  {
   "cell_type": "code",
   "execution_count": null,
   "metadata": {},
   "outputs": [],
   "source": [
    "# lower-res data from Climate Explorer\n",
    "! cd $fpath; wget https://climexp.knmi.nl/data/tx_0.25deg_reg_v31.0eu_0-35E_55-71.88N_firstyear-lastyear.nc\n",
    "! cd $fpath; wget https://climexp.knmi.nl/data/tn_0.25deg_reg_v31.0eu_0-35E_55-71.88N_-999-lastyear.nc"
   ]
  },
  {
   "cell_type": "markdown",
   "metadata": {},
   "source": [
    "### Retrieve latest from Copernicus (both resolutions for now, in case of gaps)"
   ]
  },
  {
   "cell_type": "code",
   "execution_count": null,
   "metadata": {},
   "outputs": [],
   "source": [
    "! cd $fpath; wget https://knmi-ecad-assets-prd.s3.amazonaws.com/ensembles/data/Grid_0.1deg_reg_ensemble/tx_ens_mean_0.1deg_reg_v31.0e.nc\n",
    "! cd $fpath; wget https://knmi-ecad-assets-prd.s3.amazonaws.com/ensembles/data/Grid_0.1deg_reg_ensemble/tn_ens_mean_0.1deg_reg_v31.0e.nc"
   ]
  },
  {
   "cell_type": "code",
   "execution_count": null,
   "metadata": {},
   "outputs": [],
   "source": [
    "# historic data\n",
    "! cd $fpath; wget https://knmi-ecad-assets-prd.s3.amazonaws.com/ensembles/data/Grid_0.25deg_reg_ensemble/tx_ens_mean_0.25deg_reg_v31.0e.nc\n",
    "! cd $fpath; wget https://knmi-ecad-assets-prd.s3.amazonaws.com/ensembles/data/Grid_0.25deg_reg_ensemble/tn_ens_mean_0.25deg_reg_v31.0e.nc"
   ]
  },
  {
   "cell_type": "code",
   "execution_count": null,
   "metadata": {},
   "outputs": [],
   "source": [
    "! cd $fpath; wget https://knmi-ecad-assets-prd.s3.amazonaws.com/ensembles/data/months/ens/tx_0.25deg_day_2025_grid_ensmean.nc\n",
    "! cd $fpath; wget https://knmi-ecad-assets-prd.s3.amazonaws.com/ensembles/data/months/ens/tn_0.25deg_day_2025_grid_ensmean.nc"
   ]
  },
  {
   "cell_type": "markdown",
   "metadata": {},
   "source": [
    "### Extract wider region"
   ]
  },
  {
   "cell_type": "code",
   "execution_count": 2,
   "metadata": {},
   "outputs": [],
   "source": [
    "varnm = \"tn\"\n",
    "res = \"0.25\""
   ]
  },
  {
   "cell_type": "code",
   "execution_count": null,
   "metadata": {},
   "outputs": [],
   "source": [
    "ds_2025 = xr.open_dataset(fpath+varnm+\"_\"+res+\"deg_day_2025_grid_ensmean.nc\").dropna(\"time\", \"all\").sel(longitude = slice(Xn,Xx), latitude = slice(Yn,Yx))"
   ]
  },
  {
   "cell_type": "code",
   "execution_count": null,
   "metadata": {},
   "outputs": [],
   "source": [
    "ds_hist = xr.open_dataset(fpath+varnm+\"_ens_mean_\"+res+\"deg_reg_v31.0e.nc\").dropna(\"time\", \"all\").sel(longitude = slice(Xn,Xx), latitude = slice(Yn,Yx))"
   ]
  },
  {
   "cell_type": "code",
   "execution_count": null,
   "metadata": {},
   "outputs": [],
   "source": [
    "ds = xr.merge([ds_hist, ds_2025], \"time\")"
   ]
  },
  {
   "cell_type": "code",
   "execution_count": 7,
   "metadata": {},
   "outputs": [
    {
     "name": "stderr",
     "output_type": "stream",
     "text": [
      "/rds/general/user/cb2714/home/anaconda3/envs/wwa/lib/python3.10/site-packages/xarray/core/indexing.py:1379: PerformanceWarning: Slicing is producing a large chunk. To accept the large\n",
      "chunk and silence this warning, set the option\n",
      "    >>> with dask.config.set(**{'array.slicing.split_large_chunks': False}):\n",
      "    ...     array[indexer]\n",
      "\n",
      "To avoid creating the large chunks, set the option\n",
      "    >>> with dask.config.set(**{'array.slicing.split_large_chunks': True}):\n",
      "    ...     array[indexer]\n",
      "  return self.array[key]\n"
     ]
    }
   ],
   "source": [
    "ds = xr.open_mfdataset([fnm for fnm in glob.glob(fpath+varnm+\"*\"+res+\"*.nc\") if not \"lastyear\" in fnm])\n",
    "ds = ds[list(ds.data_vars)[0]].sel(longitude = slice(Xn,Xx), latitude = slice(Yn,Yx))\n",
    "ds = ds.dropna(\"time\", \"all\")"
   ]
  },
  {
   "cell_type": "code",
   "execution_count": null,
   "metadata": {},
   "outputs": [],
   "source": [
    "ds.to_netcdf(fpath+\"eobs_\"+varnm+\"_\"+res+\"deg.nc\")"
   ]
  },
  {
   "cell_type": "code",
   "execution_count": 6,
   "metadata": {},
   "outputs": [
    {
     "ename": "TypeError",
     "evalue": "unsupported type for timedelta days component: numpy.int64",
     "output_type": "error",
     "traceback": [
      "\u001b[0;31m---------------------------------------------------------------------------\u001b[0m",
      "\u001b[0;31mTypeError\u001b[0m                                 Traceback (most recent call last)",
      "Cell \u001b[0;32mIn[6], line 1\u001b[0m\n\u001b[0;32m----> 1\u001b[0m \u001b[43mdecode_times\u001b[49m\u001b[43m(\u001b[49m\u001b[43mxr\u001b[49m\u001b[38;5;241;43m.\u001b[39;49m\u001b[43mopen_dataset\u001b[49m\u001b[43m(\u001b[49m\u001b[43mfpath\u001b[49m\u001b[38;5;241;43m+\u001b[39;49m\u001b[38;5;124;43m\"\u001b[39;49m\u001b[38;5;124;43meobs_\u001b[39;49m\u001b[38;5;124;43m\"\u001b[39;49m\u001b[38;5;241;43m+\u001b[39;49m\u001b[43mvarnm\u001b[49m\u001b[38;5;241;43m+\u001b[39;49m\u001b[38;5;124;43m\"\u001b[39;49m\u001b[38;5;124;43m_\u001b[39;49m\u001b[38;5;124;43m\"\u001b[39;49m\u001b[38;5;241;43m+\u001b[39;49m\u001b[43mres\u001b[49m\u001b[38;5;241;43m+\u001b[39;49m\u001b[38;5;124;43m\"\u001b[39;49m\u001b[38;5;124;43mdeg.nc\u001b[39;49m\u001b[38;5;124;43m\"\u001b[39;49m\u001b[43m,\u001b[49m\u001b[43m \u001b[49m\u001b[43mdecode_times\u001b[49m\u001b[43m \u001b[49m\u001b[38;5;241;43m=\u001b[39;49m\u001b[43m \u001b[49m\u001b[38;5;28;43;01mFalse\u001b[39;49;00m\u001b[43m)\u001b[49m\u001b[43m)\u001b[49m\n",
      "File \u001b[0;32m~/wwa/25-08_fennoscandia-heatwave/../../wwa/wwa.py:321\u001b[0m, in \u001b[0;36mdecode_times\u001b[0;34m(ts)\u001b[0m\n\u001b[1;32m    319\u001b[0m     new_times \u001b[38;5;241m=\u001b[39m [np\u001b[38;5;241m.\u001b[39mdatetime64(startdate \u001b[38;5;241m+\u001b[39m relativedelta(months \u001b[38;5;241m=\u001b[39m i)) \u001b[38;5;28;01mfor\u001b[39;00m i \u001b[38;5;129;01min\u001b[39;00m ts\u001b[38;5;241m.\u001b[39mtime\u001b[38;5;241m.\u001b[39mvalues]\n\u001b[1;32m    320\u001b[0m \u001b[38;5;28;01melif\u001b[39;00m inc \u001b[38;5;241m==\u001b[39m \u001b[38;5;124m\"\u001b[39m\u001b[38;5;124mdays\u001b[39m\u001b[38;5;124m\"\u001b[39m:\n\u001b[0;32m--> 321\u001b[0m     new_times \u001b[38;5;241m=\u001b[39m [np\u001b[38;5;241m.\u001b[39mdatetime64(startdate \u001b[38;5;241m+\u001b[39m relativedelta(days \u001b[38;5;241m=\u001b[39m i)) \u001b[38;5;28;01mfor\u001b[39;00m i \u001b[38;5;129;01min\u001b[39;00m ts\u001b[38;5;241m.\u001b[39mtime\u001b[38;5;241m.\u001b[39mvalues]\n\u001b[1;32m    322\u001b[0m \u001b[38;5;28;01melif\u001b[39;00m inc \u001b[38;5;241m==\u001b[39m \u001b[38;5;124m\"\u001b[39m\u001b[38;5;124mhours\u001b[39m\u001b[38;5;124m\"\u001b[39m:\n\u001b[1;32m    323\u001b[0m     new_times \u001b[38;5;241m=\u001b[39m [np\u001b[38;5;241m.\u001b[39mdatetime64(startdate \u001b[38;5;241m+\u001b[39m relativedelta(hours \u001b[38;5;241m=\u001b[39m i)) \u001b[38;5;28;01mfor\u001b[39;00m i \u001b[38;5;129;01min\u001b[39;00m ts\u001b[38;5;241m.\u001b[39mtime\u001b[38;5;241m.\u001b[39mvalues]\n",
      "File \u001b[0;32m~/wwa/25-08_fennoscandia-heatwave/../../wwa/wwa.py:321\u001b[0m, in \u001b[0;36m<listcomp>\u001b[0;34m(.0)\u001b[0m\n\u001b[1;32m    319\u001b[0m     new_times \u001b[38;5;241m=\u001b[39m [np\u001b[38;5;241m.\u001b[39mdatetime64(startdate \u001b[38;5;241m+\u001b[39m relativedelta(months \u001b[38;5;241m=\u001b[39m i)) \u001b[38;5;28;01mfor\u001b[39;00m i \u001b[38;5;129;01min\u001b[39;00m ts\u001b[38;5;241m.\u001b[39mtime\u001b[38;5;241m.\u001b[39mvalues]\n\u001b[1;32m    320\u001b[0m \u001b[38;5;28;01melif\u001b[39;00m inc \u001b[38;5;241m==\u001b[39m \u001b[38;5;124m\"\u001b[39m\u001b[38;5;124mdays\u001b[39m\u001b[38;5;124m\"\u001b[39m:\n\u001b[0;32m--> 321\u001b[0m     new_times \u001b[38;5;241m=\u001b[39m [np\u001b[38;5;241m.\u001b[39mdatetime64(\u001b[43mstartdate\u001b[49m\u001b[43m \u001b[49m\u001b[38;5;241;43m+\u001b[39;49m\u001b[43m \u001b[49m\u001b[43mrelativedelta\u001b[49m\u001b[43m(\u001b[49m\u001b[43mdays\u001b[49m\u001b[43m \u001b[49m\u001b[38;5;241;43m=\u001b[39;49m\u001b[43m \u001b[49m\u001b[43mi\u001b[49m\u001b[43m)\u001b[49m) \u001b[38;5;28;01mfor\u001b[39;00m i \u001b[38;5;129;01min\u001b[39;00m ts\u001b[38;5;241m.\u001b[39mtime\u001b[38;5;241m.\u001b[39mvalues]\n\u001b[1;32m    322\u001b[0m \u001b[38;5;28;01melif\u001b[39;00m inc \u001b[38;5;241m==\u001b[39m \u001b[38;5;124m\"\u001b[39m\u001b[38;5;124mhours\u001b[39m\u001b[38;5;124m\"\u001b[39m:\n\u001b[1;32m    323\u001b[0m     new_times \u001b[38;5;241m=\u001b[39m [np\u001b[38;5;241m.\u001b[39mdatetime64(startdate \u001b[38;5;241m+\u001b[39m relativedelta(hours \u001b[38;5;241m=\u001b[39m i)) \u001b[38;5;28;01mfor\u001b[39;00m i \u001b[38;5;129;01min\u001b[39;00m ts\u001b[38;5;241m.\u001b[39mtime\u001b[38;5;241m.\u001b[39mvalues]\n",
      "File \u001b[0;32m~/anaconda3/envs/wwa/lib/python3.10/site-packages/dateutil/relativedelta.py:405\u001b[0m, in \u001b[0;36mrelativedelta.__radd__\u001b[0;34m(self, other)\u001b[0m\n\u001b[1;32m    404\u001b[0m \u001b[38;5;28;01mdef\u001b[39;00m \u001b[38;5;21m__radd__\u001b[39m(\u001b[38;5;28mself\u001b[39m, other):\n\u001b[0;32m--> 405\u001b[0m     \u001b[38;5;28;01mreturn\u001b[39;00m \u001b[38;5;28;43mself\u001b[39;49m\u001b[38;5;241;43m.\u001b[39;49m\u001b[38;5;21;43m__add__\u001b[39;49m\u001b[43m(\u001b[49m\u001b[43mother\u001b[49m\u001b[43m)\u001b[49m\n",
      "File \u001b[0;32m~/anaconda3/envs/wwa/lib/python3.10/site-packages/dateutil/relativedelta.py:388\u001b[0m, in \u001b[0;36mrelativedelta.__add__\u001b[0;34m(self, other)\u001b[0m\n\u001b[1;32m    385\u001b[0m \u001b[38;5;28;01mif\u001b[39;00m \u001b[38;5;28mself\u001b[39m\u001b[38;5;241m.\u001b[39mleapdays \u001b[38;5;129;01mand\u001b[39;00m month \u001b[38;5;241m>\u001b[39m \u001b[38;5;241m2\u001b[39m \u001b[38;5;129;01mand\u001b[39;00m calendar\u001b[38;5;241m.\u001b[39misleap(year):\n\u001b[1;32m    386\u001b[0m     days \u001b[38;5;241m+\u001b[39m\u001b[38;5;241m=\u001b[39m \u001b[38;5;28mself\u001b[39m\u001b[38;5;241m.\u001b[39mleapdays\n\u001b[1;32m    387\u001b[0m ret \u001b[38;5;241m=\u001b[39m (other\u001b[38;5;241m.\u001b[39mreplace(\u001b[38;5;241m*\u001b[39m\u001b[38;5;241m*\u001b[39mrepl)\n\u001b[0;32m--> 388\u001b[0m        \u001b[38;5;241m+\u001b[39m \u001b[43mdatetime\u001b[49m\u001b[38;5;241;43m.\u001b[39;49m\u001b[43mtimedelta\u001b[49m\u001b[43m(\u001b[49m\u001b[43mdays\u001b[49m\u001b[38;5;241;43m=\u001b[39;49m\u001b[43mdays\u001b[49m\u001b[43m,\u001b[49m\n\u001b[1;32m    389\u001b[0m \u001b[43m                            \u001b[49m\u001b[43mhours\u001b[49m\u001b[38;5;241;43m=\u001b[39;49m\u001b[38;5;28;43mself\u001b[39;49m\u001b[38;5;241;43m.\u001b[39;49m\u001b[43mhours\u001b[49m\u001b[43m,\u001b[49m\n\u001b[1;32m    390\u001b[0m \u001b[43m                            \u001b[49m\u001b[43mminutes\u001b[49m\u001b[38;5;241;43m=\u001b[39;49m\u001b[38;5;28;43mself\u001b[39;49m\u001b[38;5;241;43m.\u001b[39;49m\u001b[43mminutes\u001b[49m\u001b[43m,\u001b[49m\n\u001b[1;32m    391\u001b[0m \u001b[43m                            \u001b[49m\u001b[43mseconds\u001b[49m\u001b[38;5;241;43m=\u001b[39;49m\u001b[38;5;28;43mself\u001b[39;49m\u001b[38;5;241;43m.\u001b[39;49m\u001b[43mseconds\u001b[49m\u001b[43m,\u001b[49m\n\u001b[1;32m    392\u001b[0m \u001b[43m                            \u001b[49m\u001b[43mmicroseconds\u001b[49m\u001b[38;5;241;43m=\u001b[39;49m\u001b[38;5;28;43mself\u001b[39;49m\u001b[38;5;241;43m.\u001b[39;49m\u001b[43mmicroseconds\u001b[49m\u001b[43m)\u001b[49m)\n\u001b[1;32m    393\u001b[0m \u001b[38;5;28;01mif\u001b[39;00m \u001b[38;5;28mself\u001b[39m\u001b[38;5;241m.\u001b[39mweekday:\n\u001b[1;32m    394\u001b[0m     weekday, nth \u001b[38;5;241m=\u001b[39m \u001b[38;5;28mself\u001b[39m\u001b[38;5;241m.\u001b[39mweekday\u001b[38;5;241m.\u001b[39mweekday, \u001b[38;5;28mself\u001b[39m\u001b[38;5;241m.\u001b[39mweekday\u001b[38;5;241m.\u001b[39mn \u001b[38;5;129;01mor\u001b[39;00m \u001b[38;5;241m1\u001b[39m\n",
      "\u001b[0;31mTypeError\u001b[0m: unsupported type for timedelta days component: numpy.int64"
     ]
    }
   ],
   "source": []
  },
  {
   "cell_type": "markdown",
   "metadata": {},
   "source": [
    "## CPC"
   ]
  },
  {
   "cell_type": "code",
   "execution_count": null,
   "metadata": {},
   "outputs": [],
   "source": [
    "! cd $fpath; wget https://climexp.knmi.nl/data/tmin_cpc_daily_0-35E_55-75N_-999-lastyear_su.nc\n",
    "! cd $fpath; wget https://climexp.knmi.nl/data/tmax_cpc_daily_0-35E_55-75N_-999-lastyear_su.nc"
   ]
  },
  {
   "cell_type": "markdown",
   "metadata": {},
   "source": [
    "## MSWX"
   ]
  },
  {
   "cell_type": "code",
   "execution_count": 2,
   "metadata": {},
   "outputs": [],
   "source": [
    "outpath = \"/rds/general/user/cb2714/home/99_ephemera/mswx_fs/\""
   ]
  },
  {
   "cell_type": "code",
   "execution_count": null,
   "metadata": {},
   "outputs": [],
   "source": [
    "for y in range(2025,1978,-1):\n",
    "\n",
    "    print(y)\n",
    "    new_fnm = outpath+\"tmax_mswx_\"+str(y)+\".nc\"\n",
    "    if os.path.exists(new_fnm): continue\n",
    "        \n",
    "    ds = xr.open_mfdataset(\"/rds/general/user/cb2714/home/00_WWA_project_folder/live/data/mswx/Tmax/\"+str(y)+\"/*.nc\")\n",
    "    ds = ds.sel(lon = slice(Xn,Xx), lat = slice(Yx,Yn)).rename(air_temperature = \"tmax\")\n",
    "    ds.to_netcdf(new_fnm)"
   ]
  },
  {
   "cell_type": "code",
   "execution_count": 23,
   "metadata": {},
   "outputs": [],
   "source": [
    "# compile & save\n",
    "wrap_lon(xr.open_mfdataset(outpath+\"*.nc\")).to_netcdf(\"data/tmax_mswx.nc\")"
   ]
  },
  {
   "cell_type": "markdown",
   "metadata": {},
   "source": [
    "# Time series over study region"
   ]
  },
  {
   "cell_type": "code",
   "execution_count": 34,
   "metadata": {},
   "outputs": [],
   "source": [
    "sf = gpd.read_file(\"sf_fennoscandia\")\n",
    "\n",
    "ndays = 14\n",
    "\n",
    "tx_list = {\"era5\" : \"era5_tmax_daily_land_0-35E_55-75N.nc\",\n",
    "           \"eobs\" : \"tx_0.25deg_reg_v31.0eu_0-35E_55-71.88N_firstyear-lastyear.nc\",\n",
    "           \"cpc\" : \"tmax_cpc_daily_0-35E_55-75N_-999-lastyear_su.nc\"}\n",
    "\n",
    "tn_list = {\"era5\" : \"era5_tmin_daily_land_0-35E_55-75N.nc\",\n",
    "           \"eobs\" : \"tn_0.25deg_reg_v31.0eu_0-35E_55-71.88N_-999-lastyear.nc\",\n",
    "           \"cpc\" : \"tmin_cpc_daily_0-35E_55-75N_-999-lastyear_su.nc\"}"
   ]
  },
  {
   "cell_type": "code",
   "execution_count": 35,
   "metadata": {},
   "outputs": [
    {
     "name": "stdout",
     "output_type": "stream",
     "text": [
      "era5_tmax_daily_land_0-35E_55-75N.nc\n",
      "tx_0.25deg_reg_v31.0eu_0-35E_55-71.88N_firstyear-lastyear.nc\n",
      "tmax_cpc_daily_0-35E_55-75N_-999-lastyear_su.nc\n",
      "era5_tmin_daily_land_0-35E_55-75N.nc\n",
      "tn_0.25deg_reg_v31.0eu_0-35E_55-71.88N_-999-lastyear.nc\n",
      "tmin_cpc_daily_0-35E_55-75N_-999-lastyear_su.nc\n"
     ]
    }
   ],
   "source": [
    "for varnm in [\"tx\", \"tn\"]:\n",
    "    vnm = {\"tx\" : \"max\", \"tn\" : \"min\"}[varnm]\n",
    "\n",
    "    ds_list = eval(varnm+\"_list\")\n",
    "    \n",
    "    for ds_nm, fnm in ds_list.items():\n",
    "\n",
    "        print(fnm)\n",
    "    \n",
    "        da = wrap_lon(xr.open_dataset(fpath+fnm))\n",
    "        da = da[list(da.data_vars)[0]]\n",
    "        \n",
    "        if \"longitude\" in da.dims:\n",
    "            da = da.rename(longitude = \"lon\", latitude = \"lat\")\n",
    "\n",
    "        rm = regionmask.mask_geopandas(sf, da)\n",
    "\n",
    "        ts = da.where(rm == 0).mean([\"lat\", \"lon\"])\n",
    "        ts.to_dataframe().to_csv(\"data/\"+varnm+\"-fs-daily_\"+ds_nm+\".csv\")\n",
    "\n",
    "        if ds_nm == \"eobs\":\n",
    "            ts = ts.sel(time = slice(None, \"2024\"))\n",
    "            \n",
    "        # create annual time series for Climate Explorer\n",
    "        txnx = ts.rolling(time = ndays, center = False).mean().resample(time = \"AS\").max()\n",
    "        df = txnx.assign_coords(time = txnx.time.dt.year).rename(time = \"year\").to_dataframe()\n",
    "\n",
    "        csv_fnm = \"fs-heatwave_\"+varnm+str(ndays)+\"x_\"+ds_nm\n",
    "        csv_fullpath = \"ts/\"+csv_fnm+\".dat\"\n",
    "        if len(csv_fnm) > 61: print(\"! Filename too long: \", csv_fnm)\n",
    "        \n",
    "        # create header lines for upload to Climate Explorer \n",
    "        str1 = \"# contact :: \"+ds_nm.upper()+\" \"+varnm+str(ndays)+\"x over Norway, Sweden and Finland - Fennoscandia heatwave, c.barnes22@imperial.ac.uk\"\n",
    "        str2 = \"# \"+varnm+str(ndays)+\"x [degC] - annual maximum of \"+str(ndays)+\"-day average of daily \"+vnm+\"imum temperatures averaged over Norway, Sweden and Finland at \"+csv_fnm+\".dat\"\n",
    "        head = \"# year \"+varnm+str(ndays)+\"x\"\n",
    "\n",
    "        # make .dat file\n",
    "        ! echo \"$str1 \" > $csv_fullpath\n",
    "        ! echo \"$str2\" >> $csv_fullpath\n",
    "        ! echo \"$head\" >> $csv_fullpath\n",
    "        df.to_csv(csv_fullpath, sep = \" \", mode = \"a\", header = False)"
   ]
  },
  {
   "cell_type": "code",
   "execution_count": null,
   "metadata": {},
   "outputs": [],
   "source": []
  }
 ],
 "metadata": {
  "kernelspec": {
   "display_name": "wwa",
   "language": "python",
   "name": "wwa"
  },
  "language_info": {
   "codemirror_mode": {
    "name": "ipython",
    "version": 3
   },
   "file_extension": ".py",
   "mimetype": "text/x-python",
   "name": "python",
   "nbconvert_exporter": "python",
   "pygments_lexer": "ipython3",
   "version": "3.10.8"
  }
 },
 "nbformat": 4,
 "nbformat_minor": 4
}
