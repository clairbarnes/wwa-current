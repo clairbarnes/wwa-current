{
 "cells": [
  {
   "cell_type": "code",
   "execution_count": 2,
   "metadata": {},
   "outputs": [],
   "source": [
    "import sys; sys.path.append(\"../../wwa\"); from wwa import *\n",
    "\n",
    "mapproj = cartopy.crs.PlateCarree()\n",
    "\n",
    "fpath = \"/rds/general/user/cb2714/home/00_WWA_project_folder/ephemeral/FS_heat/\"\n",
    "\n",
    "Xn,Xx,Yn,Yx = [0,35,55,75]\n",
    "xn,xx,yn,yx = [4,30,60,72]"
   ]
  },
  {
   "cell_type": "markdown",
   "metadata": {},
   "source": [
    "# Get E-Obs data"
   ]
  },
  {
   "cell_type": "markdown",
   "metadata": {},
   "source": [
    "## Retrieve latest (both resolutions for now, in case of gaps)"
   ]
  },
  {
   "cell_type": "code",
   "execution_count": 28,
   "metadata": {},
   "outputs": [],
   "source": [
    "eobs_path = fpath+\"tx_ens_mean_0.1deg_reg_v31.0e.nc\"\n",
    "! wget https://knmi-ecad-assets-prd.s3.amazonaws.com/ensembles/data/Grid_0.1deg_reg_ensemble/tx_ens_mean_0.1deg_reg_v31.0e.nc -O $eobs_path"
   ]
  },
  {
   "cell_type": "code",
   "execution_count": 25,
   "metadata": {},
   "outputs": [],
   "source": [
    "eobs_path = fpath+\"tx_ens_mean_0.25deg_reg_v31.0e.nc\"\n",
    "! wget https://knmi-ecad-assets-prd.s3.amazonaws.com/ensembles/data/Grid_0.25deg_reg_ensemble/tx_ens_mean_0.25deg_reg_v31.0e.nc -O $eobs_path\n",
    "\n",
    "#~~~~~~~~~~~~~~~~~~~~~~~~~~~~~~~~~~~~~~~~~~~~~~~~~~~~~~~~~~~~~~~~~~~\n",
    "eobs_path = fpath+\"tx_0.25deg_day_2025_grid_ensmean.nc\"\n",
    "! wget https://knmi-ecad-assets-prd.s3.amazonaws.com/ensembles/data/months/ens/tx_0.25deg_day_2025_grid_ensmean.nc -O $eobs_path"
   ]
  },
  {
   "cell_type": "code",
   "execution_count": null,
   "metadata": {},
   "outputs": [],
   "source": [
    "eobs_path = fpath+\"tn_ens_mean_0.25deg_reg_v31.0e.nc\"\n",
    "! wget https://knmi-ecad-assets-prd.s3.amazonaws.com/ensembles/data/Grid_0.25deg_reg_ensemble/tn_ens_mean_0.25deg_reg_v31.0e.nc -O $eobs_path"
   ]
  },
  {
   "cell_type": "code",
   "execution_count": 6,
   "metadata": {},
   "outputs": [],
   "source": [
    "eobs_path = fpath+\"tn_ens_mean_0.1deg_reg_v31.0e.nc\"\n",
    "! wget https://knmi-ecad-assets-prd.s3.amazonaws.com/ensembles/data/Grid_0.1deg_reg_ensemble/tn_ens_mean_0.1deg_reg_v31.0e.nc -O $eobs_path"
   ]
  },
  {
   "cell_type": "markdown",
   "metadata": {},
   "source": [
    "## Extract wider region"
   ]
  },
  {
   "cell_type": "code",
   "execution_count": 27,
   "metadata": {},
   "outputs": [],
   "source": [
    "varnm = \"tn\"\n",
    "res = \"0.25\""
   ]
  },
  {
   "cell_type": "code",
   "execution_count": 41,
   "metadata": {},
   "outputs": [],
   "source": [
    "ds = xr.open_mfdataset([fnm for fnm in glob.glob(fpath+varnm+\"*\"+res+\"*.nc\") if not \"lastyear\" in fnm])\n",
    "ds = ds[list(ds.data_vars)[0]].sel(longitude = slice(Xn,Xx), latitude = slice(Yn,Yx))\n",
    "ds = ds.dropna(\"time\", \"all\")"
   ]
  },
  {
   "cell_type": "code",
   "execution_count": 46,
   "metadata": {},
   "outputs": [],
   "source": [
    "ds.to_netcdf(fpath+\"eobs_\"+varnm+\"_\"+res+\"deg.nc\")"
   ]
  },
  {
   "cell_type": "code",
   "execution_count": null,
   "metadata": {},
   "outputs": [],
   "source": []
  }
 ],
 "metadata": {
  "kernelspec": {
   "display_name": "wwa",
   "language": "python",
   "name": "wwa"
  },
  "language_info": {
   "codemirror_mode": {
    "name": "ipython",
    "version": 3
   },
   "file_extension": ".py",
   "mimetype": "text/x-python",
   "name": "python",
   "nbconvert_exporter": "python",
   "pygments_lexer": "ipython3",
   "version": "3.10.8"
  }
 },
 "nbformat": 4,
 "nbformat_minor": 2
}
