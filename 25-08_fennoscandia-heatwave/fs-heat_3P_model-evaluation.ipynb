{
 "cells": [
  {
   "cell_type": "code",
   "execution_count": 2,
   "id": "c4ac8f70-8483-4bbc-9474-9ce1af4d5e05",
   "metadata": {},
   "outputs": [],
   "source": [
    "import sys; sys.path.append(\"../../wwa\"); from wwa import *\n",
    "\n",
    "mapproj = cartopy.crs.PlateCarree()\n",
    "\n",
    "sf = gpd.read_file(\"sf_fennoscandia\")\n",
    "\n",
    "def seasonal_cycle(ts, sm = 1):\n",
    "    \n",
    "    # (possibly smoothed) climatology from 1990-2020, excluding day 366 (can lead to weird jumps in the series)\n",
    "    sc = ts.rolling(time = sm, center = True).mean().sel(time = slice(\"1990\",\"2020\")).groupby(\"time.dayofyear\").mean()\n",
    "    \n",
    "    return sc\n",
    "\n",
    "def scale(ts): return (ts - ts.mean()) / ts.std()"
   ]
  },
  {
   "cell_type": "markdown",
   "id": "d0365208-3b91-4c0e-8dd3-0e2c093b25b6",
   "metadata": {},
   "source": [
    "# Seasonal cycle"
   ]
  },
  {
   "cell_type": "code",
   "execution_count": 25,
   "id": "5a7e7fe0-7748-412d-8008-77c41cf85821",
   "metadata": {},
   "outputs": [],
   "source": [
    "# framing = \"princeton\"\n",
    "# varnm = \"pr\"\n",
    "# ndays = 15\n",
    "\n",
    "# # load obs\n",
    "# if varnm[:2] == \"pr\":\n",
    "#     ts = xr.open_dataset(\"daily-ts/pr_era5_195001-202503_\"+rnm+\".nc\")\n",
    "# else:\n",
    "#     ts = xr.open_dataset(sorted(glob.glob(\"daily-ts/\"+varnm+\"*era5land*\"+rnm+\".nc\"))[-1])\n",
    "# ts = ts[list(ts.data_vars)[0]]\n",
    "# sc_obs = seasonal_cycle(ts, ndays)\n",
    "\n",
    "# # list models & set up figures\n",
    "# fl = sorted(glob.glob(\"daily-ts/\"+framing+\"/\"+varnm+\"*\"))\n",
    "# # if framing == \"cmip6\": fl = glob.glob('daily-ts/local-hires/'+varnm+'*_kr.nc')  + fl\n",
    "\n",
    "# nc = min(4, len(fl)); nr = int(np.ceil(len(fl)/nc))\n",
    "# y_ttl = {\"cmip6\" : 0.93, \"highressst\" : 0.93, \"princeton\" : 1}[framing]\n",
    "\n",
    "# days = pd.date_range(start = \"2020-01-01\", end = \"2021-01-01\")\n",
    "# labelticks = [i+1 for i in range(len(days)) if (days[i].day) == 15]\n",
    "# labels = [days[i].strftime(\"%b\")[0] for i in range(len(days)) if (days[i].day) == 15]\n",
    "\n",
    "# col = {\"hdwi-from-hursmin\" : \"tab:orange\", \"hdwi\" : \"tab:orange\", \"tasmax\" : \"firebrick\", \"hursmin\" : \"tab:green\", \"sfcWindmax\" : \"powderblue\", \"pr\" : \"tab:blue\"}[varnm]\n",
    "\n",
    "# if varnm[:2] == \"pr\": \n",
    "#     d_start = ts.sel(time = \"2025-02-01\").time.dt.dayofyear.values\n",
    "#     d_width = 59\n",
    "# else:\n",
    "#     d_start = ts.sel(time = \"2025-03-01\").time.dt.dayofyear.values\n",
    "#     d_width = 31"
   ]
  },
  {
   "cell_type": "code",
   "execution_count": null,
   "id": "3509ccd7-9742-45a4-ae13-2bd4249fcb7d",
   "metadata": {},
   "outputs": [],
   "source": []
  }
 ],
 "metadata": {
  "kernelspec": {
   "display_name": "wwa",
   "language": "python",
   "name": "wwa"
  },
  "language_info": {
   "codemirror_mode": {
    "name": "ipython",
    "version": 3
   },
   "file_extension": ".py",
   "mimetype": "text/x-python",
   "name": "python",
   "nbconvert_exporter": "python",
   "pygments_lexer": "ipython3",
   "version": "3.10.8"
  }
 },
 "nbformat": 4,
 "nbformat_minor": 5
}
