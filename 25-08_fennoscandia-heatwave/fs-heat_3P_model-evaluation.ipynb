{
 "cells": [
  {
   "cell_type": "code",
   "execution_count": null,
   "id": "c4ac8f70-8483-4bbc-9474-9ce1af4d5e05",
   "metadata": {},
   "outputs": [],
   "source": [
    "import sys; sys.path.append(\"../../wwa\"); from wwa import *\n",
    "\n",
    "mapproj = cartopy.crs.PlateCarree()\n",
    "\n",
    "xn,xx,yn,yx = [4,30,60,72]"
   ]
  }
 ],
 "metadata": {
  "kernelspec": {
   "display_name": "wwa",
   "language": "python",
   "name": "wwa"
  },
  "language_info": {
   "codemirror_mode": {
    "name": "ipython",
    "version": 3
   },
   "file_extension": ".py",
   "mimetype": "text/x-python",
   "name": "python",
   "nbconvert_exporter": "python",
   "pygments_lexer": "ipython3",
   "version": "3.10.8"
  }
 },
 "nbformat": 4,
 "nbformat_minor": 5
}
