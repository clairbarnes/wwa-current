{
 "cells": [
  {
   "cell_type": "code",
   "execution_count": 5,
   "metadata": {},
   "outputs": [],
   "source": [
    "suppressMessages(library(rwwa))\n",
    "# invisible(sapply(list.files(\"~/wwa/rwwa\", full.names = T), source))"
   ]
  },
  {
   "cell_type": "markdown",
   "metadata": {},
   "source": [
    "---\n",
    "# Fit linear model to gridded data"
   ]
  },
  {
   "cell_type": "code",
   "execution_count": 10,
   "metadata": {},
   "outputs": [],
   "source": [
    "# load covariate data\n",
    "gmst = read.table(\"ts/gmst.txt\", col.names = c(\"year\", \"gmst\"))\n",
    "gmst$gmst <- gmst$gmst - gmst$gmst[gmst$year == 2025]\n",
    "\n",
    "# define factual & counterfactual covariates\n",
    "cov_2024 <- gmst[gmst$year == 2025,\"gmst\", drop = F]\n",
    "cov_cf <- rbind(\"pi\" = cov_2024 - 1.3)"
   ]
  },
  {
   "cell_type": "code",
   "execution_count": 11,
   "metadata": {
    "tags": []
   },
   "outputs": [],
   "source": [
    "# loop over all flattened data & fit nonstationary model to each - NB no bootstrapping\n",
    "fl = list.files(\"flattened\", full.names = T)\n",
    "for(fnm in fl) {\n",
    "    \n",
    "    res_fnm <- gsub(\"flattened\", \"flattened-res\", fnm)\n",
    "    \n",
    "    if (!file.exists(res_fnm)) {\n",
    "        \n",
    "        # load the .csv and \n",
    "        df <- read.csv(fnm, skip = 3, header = F)\n",
    "        colnames(df)[1] <- \"year\"\n",
    "        df <- merge(gmst, df)\n",
    "        \n",
    "        # fit nonstationary model to all columns\n",
    "        models <- sapply(colnames(df)[grepl(\"V\", colnames(df))], function(cnm) {\n",
    "            df_c <- df[,c(\"year\", \"gmst\", cnm)]\n",
    "            tryCatch({\n",
    "                fit_ns(\"gev\", \"shift\", df_c, cnm, c(\"gmst\"), lower = F)\n",
    "            }, error = function(cond) { return(NULL) })\n",
    "        }, simplify = F)\n",
    "\n",
    "        # get all model results & save as .csv to be reconstructed & plotted in python\n",
    "        fitted_res <- sapply(models, function(mdl) {\n",
    "            if(!is.null(unlist(mdl)[1])) {\n",
    "                mdl_ests(mdl, cov_f = cov_2024, cov_cf = cov_cf )\n",
    "            } else {\n",
    "                rep(NA, 11)\n",
    "            }})\n",
    "        write.csv(fitted_res, res_fnm)\n",
    "    }\n",
    "}"
   ]
  },
  {
   "cell_type": "code",
   "execution_count": null,
   "metadata": {},
   "outputs": [],
   "source": []
  }
 ],
 "metadata": {
  "kernelspec": {
   "display_name": "R [conda env:r_env]",
   "language": "R",
   "name": "conda-env-r_env-r"
  },
  "language_info": {
   "codemirror_mode": "r",
   "file_extension": ".r",
   "mimetype": "text/x-r-source",
   "name": "R",
   "pygments_lexer": "r",
   "version": "4.2.3"
  }
 },
 "nbformat": 4,
 "nbformat_minor": 4
}
