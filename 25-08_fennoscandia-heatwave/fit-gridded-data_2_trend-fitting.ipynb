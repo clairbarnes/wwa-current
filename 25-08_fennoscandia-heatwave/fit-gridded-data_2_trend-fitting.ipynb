{
 "cells": [
  {
   "cell_type": "code",
   "execution_count": 3,
   "metadata": {},
   "outputs": [
    {
     "ename": "ERROR",
     "evalue": "Error in library(\"extRemes\"): there is no package called ‘extRemes’\n",
     "output_type": "error",
     "traceback": [
      "Error in library(\"extRemes\"): there is no package called ‘extRemes’\nTraceback:\n",
      "1. sapply(list.files(\"~/wwa/rwwa\", full.names = T), source)",
      "2. lapply(X = X, FUN = FUN, ...)",
      "3. FUN(X[[i]], ...)",
      "4. withVisible(eval(ei, envir))",
      "5. eval(ei, envir)",
      "6. eval(ei, envir)",
      "7. suppressMessages({\n .     library(\"extRemes\")\n .     library(\"plyr\")\n . })",
      "8. withCallingHandlers(expr, message = function(c) if (inherits(c, \n .     classes)) tryInvokeRestart(\"muffleMessage\"))",
      "9. library(\"extRemes\")"
     ]
    }
   ],
   "source": [
    "# suppressMessages(library(rwwa))\n",
    "invisible(sapply(list.files(\"~/wwa/rwwa\", full.names = T), source))"
   ]
  },
  {
   "cell_type": "markdown",
   "metadata": {},
   "source": [
    "---\n",
    "# Fit linear model to gridded data"
   ]
  },
  {
   "cell_type": "code",
   "execution_count": 7,
   "metadata": {},
   "outputs": [],
   "source": [
    "# load covariate data\n",
    "gmst = read.table(\"gmst.txt\", col.names = c(\"year\", \"gmst\"))\n",
    "gmst$gmst <- gmst$gmst - gmst$gmst[gmst$year == 2025]\n",
    "\n",
    "# define factual & counterfactual covariates\n",
    "cov_2024 <- gmst[gmst$year == 2025,\"gmst\", drop = F]\n",
    "cov_cf <- rbind(\"pi\" = cov_2024 - 1.3)"
   ]
  },
  {
   "cell_type": "code",
   "execution_count": 8,
   "metadata": {
    "tags": []
   },
   "outputs": [],
   "source": [
    "# loop over all flattened data & fit nonstationary model to each - NB no bootstrapping\n",
    "fl = list.files(\"flattened\", full.names = T)\n",
    "for(fnm in fl) {\n",
    "    \n",
    "    res_fnm <- gsub(\"flattened\", \"flattened-res\", fnm)\n",
    "    \n",
    "    if (!file.exists(res_fnm)) {\n",
    "        \n",
    "        # load the .csv and \n",
    "        df <- read.csv(fnm, skip = 3, header = F)\n",
    "        colnames(df)[1] <- \"year\"\n",
    "        df <- merge(gmst, df)\n",
    "\n",
    "        # fit nonstationary model to all columns\n",
    "        models <- sapply(colnames(df)[grepl(\"V\", colnames(df))], function(cnm) {\n",
    "            df_c <- df[,c(\"year\", \"gmst\", cnm)]\n",
    "            tryCatch({\n",
    "                fit_ns(\"gev\", \"shift\", df_c, cnm, c(\"gmst\"), lower = F)\n",
    "            }, error = function(cond) { return(NULL) })\n",
    "        }, simplify = F)\n",
    "\n",
    "        # get all model results & save as .csv to be reconstructed & plotted in python\n",
    "        fitted_res <- sapply(models, function(mdl) {\n",
    "            if(!is.null(unlist(mdl)[1])) {\n",
    "                mdl_ests(mdl, cov_f = cov_2024, cov_cf = cov_cf)\n",
    "            } else {\n",
    "                rep(NA, 11)\n",
    "            }})\n",
    "        write.csv(fitted_res, res_fnm)\n",
    "    }\n",
    "}"
   ]
  },
  {
   "cell_type": "code",
   "execution_count": null,
   "metadata": {},
   "outputs": [],
   "source": []
  }
 ],
 "metadata": {
  "kernelspec": {
   "display_name": "R",
   "language": "R",
   "name": "ir"
  },
  "language_info": {
   "codemirror_mode": "r",
   "file_extension": ".r",
   "mimetype": "text/x-r-source",
   "name": "R",
   "pygments_lexer": "r",
   "version": "4.1.3"
  }
 },
 "nbformat": 4,
 "nbformat_minor": 4
}
