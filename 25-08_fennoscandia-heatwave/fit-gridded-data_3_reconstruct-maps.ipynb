{
 "cells": [
  {
   "cell_type": "markdown",
   "metadata": {},
   "source": [
    "# Maps of trend per grid cell"
   ]
  },
  {
   "cell_type": "code",
   "execution_count": 12,
   "metadata": {},
   "outputs": [],
   "source": [
    "# import sys; sys.path.append('/rds/general/user/cb2714/home/wwa'); from wwa import *\n",
    "import xarray as xr, numpy as np, pandas as pd, glob\n",
    "\n",
    "import warnings; warnings.filterwarnings(\"ignore\", category = FutureWarning) # otherwise there will be a LOT of warnings\n",
    "\n",
    "import matplotlib, matplotlib.pyplot as plt\n",
    "\n",
    "varnm = \"tn14x\"\n",
    "ds_nm = \"eobs\"\n",
    "\n",
    "def vec2map(x, mask):\n",
    "    \n",
    "    # reconstruct vector into map\n",
    "    # create an empty map with NA in same cells as masks\n",
    "    arr = mask.where(np.isnan(mask), 0)\n",
    "    \n",
    "    # get coordinates of non-empty cells\n",
    "    px = np.argwhere(~np.isnan(mask.values))\n",
    "    \n",
    "    # Transfer vector values into non-empty cells in array\n",
    "    if len(px) == len(x):\n",
    "        for i in list(range(len(px))): arr[px[i,0], px[i,1]] = x[i]\n",
    "        return arr\n",
    "    else:\n",
    "        print(str(len(x))+\" values, but \"+str(len(px))+\" cells\")\n",
    "        return"
   ]
  },
  {
   "cell_type": "markdown",
   "metadata": {},
   "source": [
    "## Reshape dataframe into maps"
   ]
  },
  {
   "cell_type": "code",
   "execution_count": 14,
   "metadata": {},
   "outputs": [],
   "source": [
    "# load target map showing original shape of data\n",
    "tmplt = xr.open_dataset(\"map-tmplt_\"+varnm+\"_\"+ds_nm+\".nc\")\n",
    "tmplt = tmplt[list(tmplt.data_vars)[0]]\n",
    "\n",
    "# load all the flattened results and compile into a single dataframe\n",
    "df = pd.concat([pd.read_csv(fnm, index_col = 0) for fnm in sorted(glob.glob(\"flattened-res/\"+varnm+\"*\"+ds_nm+\"*\"))], axis = 1)\n",
    "\n",
    "# reconstruct map\n",
    "res = xr.merge([vec2map(df.loc[r], tmplt).rename(r) for r in df.index])\n",
    "\n",
    "# replace infinite values with very high value\n",
    "res[\"PR\"] = res.PR.where(np.isfinite(res.PR), 100).where(~np.isnan(res.PR))\n",
    "\n",
    "# save\n",
    "res.to_netcdf(\"gridded-trend_\"+varnm+\"_\"+ds_nm+\".nc\")"
   ]
  },
  {
   "cell_type": "code",
   "execution_count": null,
   "metadata": {},
   "outputs": [],
   "source": []
  }
 ],
 "metadata": {
  "kernelspec": {
   "display_name": "wwa",
   "language": "python",
   "name": "wwa"
  },
  "language_info": {
   "codemirror_mode": {
    "name": "ipython",
    "version": 3
   },
   "file_extension": ".py",
   "mimetype": "text/x-python",
   "name": "python",
   "nbconvert_exporter": "python",
   "pygments_lexer": "ipython3",
   "version": "3.10.8"
  }
 },
 "nbformat": 4,
 "nbformat_minor": 4
}
