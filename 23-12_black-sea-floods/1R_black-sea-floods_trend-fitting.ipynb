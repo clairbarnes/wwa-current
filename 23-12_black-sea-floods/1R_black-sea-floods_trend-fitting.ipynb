{
 "cells": [
  {
   "cell_type": "markdown",
   "id": "781def5c-c8bb-485a-8056-277b42de6370",
   "metadata": {},
   "source": [
    "# **Fitted trend in wsx3day**"
   ]
  },
  {
   "cell_type": "code",
   "execution_count": 1,
   "id": "b6b0fbb7-f1bd-496e-868e-0b4d9894fa5f",
   "metadata": {},
   "outputs": [],
   "source": [
    "source(\"../wwa_model-fitting.R\")"
   ]
  },
  {
   "cell_type": "markdown",
   "id": "f6d2f9e4-e2d8-4af3-ba5d-cb03e9c936c1",
   "metadata": {
    "tags": []
   },
   "source": [
    "---\n",
    "## **EUR-11**"
   ]
  },
  {
   "cell_type": "code",
   "execution_count": 37,
   "id": "5b924c5e-f8b3-4ab3-9c55-b1bafe2561a6",
   "metadata": {},
   "outputs": [
    {
     "name": "stdout",
     "output_type": "stream",
     "text": [
      "[1] \"ts/blacksea-floods_wsx3day_EUR-11_CNRM-CM5_r1_ALADIN63.dat\"\n",
      "[1] \"ts/blacksea-floods_wsx3day_EUR-11_CNRM-CM5_r1_CCLM4-8-17.dat\"\n",
      "[1] \"ts/blacksea-floods_wsx3day_EUR-11_CNRM-CM5_r1_COSMO-crCLIM-.dat\"\n",
      "[1] \"ts/blacksea-floods_wsx3day_EUR-11_CNRM-CM5_r1_HadREM3-GA7-05.dat\"\n",
      "[1] \"ts/blacksea-floods_wsx3day_EUR-11_CNRM-CM5_r1_HIRHAM5.dat\"\n",
      "[1] \"ts/blacksea-floods_wsx3day_EUR-11_CNRM-CM5_r1_RACMO22E.dat\"\n",
      "[1] \"ts/blacksea-floods_wsx3day_EUR-11_CNRM-CM5_r1_RCA4.dat\"\n",
      "[1] \"ts/blacksea-floods_wsx3day_EUR-11_CNRM-CM5_r1_RegCM4-6.dat\"\n",
      "[1] \"ts/blacksea-floods_wsx3day_EUR-11_CNRM-CM5_r1_REMO2015.dat\"\n",
      "[1] \"ts/blacksea-floods_wsx3day_EUR-11_CNRM-CM5_r1_WRF381P.dat\"\n",
      "[1] \"ts/blacksea-floods_wsx3day_EUR-11_EC-EARTH_r1_COSMO-crCLIM-.dat\"\n",
      "[1] \"ts/blacksea-floods_wsx3day_EUR-11_EC-EARTH_r1_HIRHAM5.dat\"\n",
      "[1] \"ts/blacksea-floods_wsx3day_EUR-11_EC-EARTH_r1_RACMO22E.dat\"\n",
      "[1] \"ts/blacksea-floods_wsx3day_EUR-11_EC-EARTH_r1_RCA4.dat\"\n",
      "[1] \"ts/blacksea-floods_wsx3day_EUR-11_EC-EARTH_r12_CCLM4-8-17.dat\"\n",
      "[1] \"ts/blacksea-floods_wsx3day_EUR-11_EC-EARTH_r12_COSMO-crCLIM-.dat\"\n",
      "[1] \"ts/blacksea-floods_wsx3day_EUR-11_EC-EARTH_r12_HadREM3-GA7-05.dat\"\n",
      "[1] \"ts/blacksea-floods_wsx3day_EUR-11_EC-EARTH_r12_HIRHAM5.dat\"\n",
      "[1] \"ts/blacksea-floods_wsx3day_EUR-11_EC-EARTH_r12_RACMO22E.dat\"\n",
      "[1] \"ts/blacksea-floods_wsx3day_EUR-11_EC-EARTH_r12_RCA4.dat\"\n",
      "[1] \"ts/blacksea-floods_wsx3day_EUR-11_EC-EARTH_r12_RegCM4-6.dat\"\n",
      "[1] \"ts/blacksea-floods_wsx3day_EUR-11_EC-EARTH_r12_WRF381P.dat\"\n",
      "[1] \"ts/blacksea-floods_wsx3day_EUR-11_EC-EARTH_r3_COSMO-crCLIM-.dat\"\n",
      "[1] \"ts/blacksea-floods_wsx3day_EUR-11_EC-EARTH_r3_HIRHAM5.dat\"\n",
      "[1] \"ts/blacksea-floods_wsx3day_EUR-11_EC-EARTH_r3_RACMO22E.dat\"\n",
      "[1] \"ts/blacksea-floods_wsx3day_EUR-11_EC-EARTH_r3_RCA4.dat\"\n",
      "[1] \"ts/blacksea-floods_wsx3day_EUR-11_HadGEM2-ES_r1_ALADIN63.dat\"\n",
      "[1] \"ts/blacksea-floods_wsx3day_EUR-11_HadGEM2-ES_r1_CCLM4-8-17.dat\"\n",
      "[1] \"ts/blacksea-floods_wsx3day_EUR-11_HadGEM2-ES_r1_COSMO-crCLIM-.dat\"\n",
      "[1] \"ts/blacksea-floods_wsx3day_EUR-11_HadGEM2-ES_r1_HadREM3-GA7-05.dat\"\n",
      "[1] \"ts/blacksea-floods_wsx3day_EUR-11_HadGEM2-ES_r1_HIRHAM5.dat\"\n",
      "[1] \"ts/blacksea-floods_wsx3day_EUR-11_HadGEM2-ES_r1_RACMO22E.dat\"\n",
      "[1] \"ts/blacksea-floods_wsx3day_EUR-11_HadGEM2-ES_r1_RCA4.dat\"\n",
      "[1] \"ts/blacksea-floods_wsx3day_EUR-11_HadGEM2-ES_r1_WRF381P.dat\"\n",
      "[1] \"ts/blacksea-floods_wsx3day_EUR-11_IPSL-CM5A-MR_r1_HIRHAM5.dat\"\n",
      "[1] \"ts/blacksea-floods_wsx3day_EUR-11_IPSL-CM5A-MR_r1_RACMO22E.dat\"\n",
      "[1] \"ts/blacksea-floods_wsx3day_EUR-11_IPSL-CM5A-MR_r1_RCA4.dat\"\n",
      "[1] \"ts/blacksea-floods_wsx3day_EUR-11_IPSL-CM5A-MR_r1_REMO2015.dat\"\n",
      "[1] \"ts/blacksea-floods_wsx3day_EUR-11_IPSL-CM5A-MR_r1_WRF381P.dat\"\n",
      "[1] \"ts/blacksea-floods_wsx3day_EUR-11_MPI-ESM-LR_r1_ALADIN63.dat\"\n",
      "[1] \"ts/blacksea-floods_wsx3day_EUR-11_MPI-ESM-LR_r1_CCLM4-8-17.dat\"\n",
      "[1] \"ts/blacksea-floods_wsx3day_EUR-11_MPI-ESM-LR_r1_COSMO-crCLIM-.dat\"\n",
      "[1] \"ts/blacksea-floods_wsx3day_EUR-11_MPI-ESM-LR_r1_HadREM3-GA7-05.dat\"\n",
      "[1] \"ts/blacksea-floods_wsx3day_EUR-11_MPI-ESM-LR_r1_HIRHAM5.dat\"\n",
      "[1] \"ts/blacksea-floods_wsx3day_EUR-11_MPI-ESM-LR_r1_RACMO22E.dat\"\n",
      "[1] \"ts/blacksea-floods_wsx3day_EUR-11_MPI-ESM-LR_r1_RCA4.dat\"\n",
      "[1] \"ts/blacksea-floods_wsx3day_EUR-11_MPI-ESM-LR_r1_RegCM4-6.dat\"\n",
      "[1] \"ts/blacksea-floods_wsx3day_EUR-11_MPI-ESM-LR_r1_REMO2009.dat\"\n",
      "[1] \"ts/blacksea-floods_wsx3day_EUR-11_MPI-ESM-LR_r2_COSMO-crCLIM-.dat\"\n",
      "[1] \"ts/blacksea-floods_wsx3day_EUR-11_MPI-ESM-LR_r2_RCA4.dat\"\n",
      "[1] \"ts/blacksea-floods_wsx3day_EUR-11_MPI-ESM-LR_r2_REMO2009.dat\"\n",
      "[1] \"ts/blacksea-floods_wsx3day_EUR-11_MPI-ESM-LR_r3_COSMO-crCLIM-.dat\"\n",
      "[1] \"ts/blacksea-floods_wsx3day_EUR-11_MPI-ESM-LR_r3_RCA4.dat\"\n",
      "[1] \"ts/blacksea-floods_wsx3day_EUR-11_MPI-ESM-LR_r3_REMO2015.dat\"\n",
      "[1] \"ts/blacksea-floods_wsx3day_EUR-11_NorESM1-M_r1_ALADIN63.dat\"\n",
      "[1] \"ts/blacksea-floods_wsx3day_EUR-11_NorESM1-M_r1_COSMO-crCLIM-.dat\"\n",
      "[1] \"ts/blacksea-floods_wsx3day_EUR-11_NorESM1-M_r1_HadREM3-GA7-05.dat\"\n",
      "[1] \"ts/blacksea-floods_wsx3day_EUR-11_NorESM1-M_r1_HIRHAM5.dat\"\n",
      "[1] \"ts/blacksea-floods_wsx3day_EUR-11_NorESM1-M_r1_RACMO22E.dat\"\n",
      "[1] \"ts/blacksea-floods_wsx3day_EUR-11_NorESM1-M_r1_RCA4.dat\"\n",
      "[1] \"ts/blacksea-floods_wsx3day_EUR-11_NorESM1-M_r1_RegCM4-6.dat\"\n",
      "[1] \"ts/blacksea-floods_wsx3day_EUR-11_NorESM1-M_r1_REMO2015.dat\"\n",
      "[1] \"ts/blacksea-floods_wsx3day_EUR-11_NorESM1-M_r1_WRF381P.dat\"\n"
     ]
    }
   ],
   "source": [
    "invisible(sapply(list.files(\"ts\", pattern = \"wsx3day_EUR-11\", full.names = T), function(fnm) {\n",
    "    res_fnm <- paste0(\"res/res_\",gsub(\"ts/\", \"\", gsub(\".dat\", \"\", fnm)), \".csv\")\n",
    "    print(fnm)\n",
    "    if(!file.exists(res_fnm)) {   # won't replace any files that already exist - have to delete manually first\n",
    "        \n",
    "        # identify the correct GMST file\n",
    "        gmst_fnm <- list.files(\"ts\", paste0(\"smoothed-gsat_\", paste0(strsplit(fnm, \"_\")[[1]][4:5], collapse = \"_rcp85_\"), \".dat\"), full.names = T)\n",
    "\n",
    "        # load data & merge into single dataframe\n",
    "        var <- read.csv(fnm, comment.char = \"#\", sep = \" \", header = F, col.names = c(\"year\", \"var\"))\n",
    "        gmst <- read.csv(gmst_fnm, comment.char = \"#\", sep = \" \", header = F, col.names = c(\"year\", \"gmst\"))\n",
    "        df <- merge(gmst, var)\n",
    "        \n",
    "        #~~~~~~~~~~~~~~~~~~~~~~~~~~~~~~~~~~~~~~~~~~~~~~~~~~~~~~~~~~~~~~~~~~~~~~~~~~~~~~~~~~~~~~~~~~~~~~~~~~~~~~~~~~~~~~~~~~~~~~~~~\n",
    "        # SPECIFY MODEL TO BE ANALYSED\n",
    "        \n",
    "        # return period of event\n",
    "        rp <- 3\n",
    "        \n",
    "        # value of covariate in present/factual climate\n",
    "        event_cov <- df[df$year == 2023, \"gmst\"]\n",
    "        \n",
    "        # fit the model - this is used as a template for the attribution\n",
    "        mdl <- fit_ns(\"gev\", \"shift\", df, \"var\", \"gmst\", lower = F, mintemps = F, event_index = which(df$year == 2023))\n",
    "        \n",
    "        #~~~~~~~~~~~~~~~~~~~~~~~~~~~~~~~~~~~~~~~~~~~~~~~~~~~~~~~~~~~~~~~~~~~~~~~~~~~~~~~~~~~~~~~~~~~~~~~~~~~~~~~~~~~~~~~~~~~~~~~~~\n",
    "        \n",
    "        # get model results & save as .csv\n",
    "        res_df <- cmodel_results(mdl, rp = rp, cov_pres = event_cov, nsamp = 500, y_start = 1950, y_now = 2023, y_fut = 2050)\n",
    "        rownames(res_df) <- gsub(\".dat\", \"\", paste0(strsplit(fnm, \"_\")[[1]][4:5], collapse = \"_\"))\n",
    "        write.csv(res_df, res_fnm)\n",
    "    }\n",
    "}))"
   ]
  },
  {
   "cell_type": "code",
   "execution_count": 39,
   "id": "4057b023-32ec-4d34-b2b0-a9f1a88a465c",
   "metadata": {},
   "outputs": [],
   "source": [
    "# compile into single file \n",
    "res <- do.call(\"rbind\", sapply(list.files(\"res\", pattern = \"wsx3day_EUR-11\", full.names = T), read.csv, row.names = 1, simplify = F))\n",
    "rownames(res) <- sapply(rownames(res), function(rnm) gsub(\".csv\", \"\", paste0(strsplit(rnm, \"_\")[[1]][5:7], collapse = \"_\")))\n",
    "write.csv(res, \"model-results_wsx3day_EUR-11.csv\")"
   ]
  },
  {
   "cell_type": "code",
   "execution_count": null,
   "id": "70388df8-3a11-45d1-a77b-01d904216321",
   "metadata": {},
   "outputs": [],
   "source": []
  }
 ],
 "metadata": {
  "kernelspec": {
   "display_name": "R [conda env:r_env]",
   "language": "R",
   "name": "conda-env-r_env-r"
  },
  "language_info": {
   "codemirror_mode": "r",
   "file_extension": ".r",
   "mimetype": "text/x-r-source",
   "name": "R",
   "pygments_lexer": "r",
   "version": "4.2.2"
  }
 },
 "nbformat": 4,
 "nbformat_minor": 5
}
