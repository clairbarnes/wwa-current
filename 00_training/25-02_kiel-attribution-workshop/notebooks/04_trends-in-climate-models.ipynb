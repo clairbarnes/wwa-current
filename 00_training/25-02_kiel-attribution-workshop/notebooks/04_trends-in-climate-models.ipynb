{
 "cells": [
  {
   "cell_type": "code",
   "execution_count": 9,
   "id": "18b32427-74bd-48e2-975d-f9272f027cd7",
   "metadata": {
    "scrolled": true
   },
   "outputs": [
    {
     "name": "stderr",
     "output_type": "stream",
     "text": [
      "Loading required package: Lmoments\n",
      "\n",
      "Loading required package: distillery\n",
      "\n",
      "\n",
      "Attaching package: ‘extRemes’\n",
      "\n",
      "\n",
      "The following objects are masked from ‘package:stats’:\n",
      "\n",
      "    qqnorm, qqplot\n",
      "\n",
      "\n"
     ]
    }
   ],
   "source": [
    "# load the necessary functions\n",
    "for (fnm in list.files(\"/home/jovyan/shared_materials/rwwa\", full.names = T)) source(fnm)\n",
    "library(extRemes)"
   ]
  },
  {
   "cell_type": "markdown",
   "id": "edbc8a31-9882-452c-976f-fe4be23db89b",
   "metadata": {},
   "source": [
    "# Specify the return period of the event"
   ]
  },
  {
   "cell_type": "code",
   "execution_count": 10,
   "id": "8e3b6c60-c6ee-4f8d-9e00-9470c106cfff",
   "metadata": {},
   "outputs": [],
   "source": [
    "rp <- 20"
   ]
  },
  {
   "cell_type": "markdown",
   "id": "4e55affc-ef7f-4549-bc9a-f02a32499113",
   "metadata": {},
   "source": [
    "# Fit the same statistical model to all CORDEX time series"
   ]
  },
  {
   "cell_type": "code",
   "execution_count": 11,
   "id": "821815cf-00c0-4c86-84c9-2f5d70d3283e",
   "metadata": {},
   "outputs": [],
   "source": [
    "fl = list.files(\".\", pattern = \"ts-annual_tasmax_EUR-11\", full.names = T)"
   ]
  },
  {
   "cell_type": "code",
   "execution_count": 13,
   "id": "49f3424f-b2b7-4a52-9e56-769580d10c61",
   "metadata": {},
   "outputs": [],
   "source": [
    "for(fnm in fl) {\n",
    "\n",
    "    # if your file name has a different format, you'll need to change these expressions\n",
    "    gcm <- strsplit(fnm, \"_\")[[1]][4]\n",
    "    rcm <- strsplit(fnm, \"_\")[[1]][5]\n",
    "\n",
    "    # construct the new filename\n",
    "    res_fnm <- paste0(\"res-cordex_tasmax_EUR-11_\",gcm,\"_\",rcm)\n",
    "\n",
    "    # if the file hasn't already been processed...\n",
    "    if(!file.exists(res_fnm)) {\n",
    "\n",
    "        # get the filename of the GCM's GMST\n",
    "        gmst_fnm <- list.files(\"/home/jovyan/shared_materials/CMIP5_GSAT\", pattern = gcm, full.names = T)\n",
    "\n",
    "        # make sure the file name has picked up correctly - if not, skip\n",
    "        if (length(gmst_fnm) == 0) { next }\n",
    "\n",
    "        # load the data\n",
    "        df <- merge(load_ts(gmst_fnm, col.names = c(\"year\", \"gmst\")),\n",
    "                    read.csv(fnm)[,c(\"year\", \"tasmax\")])       # rename the columns if necessary\n",
    "\n",
    "        # fit the same statistical model that you used for the observations\n",
    "        mdl <- fit_ns(dist = \"gev\", type = \"shift\", data = df, varnm = \"tasmax\", covnm = \"gmst\", lower = F)\n",
    "        \n",
    "        # use model's 2025 GMST to define factual climate        \n",
    "        cov_now <- df[df$year == 2025,\"gmst\",drop = F]\n",
    "\n",
    "        # we want a historic counterfactual climate that's 1.3C cooler, and a future that's 1.3C warmer\n",
    "        cov_hist <- cov_now - 1.3\n",
    "        cov_fut <- cov_now + 1.3\n",
    "\n",
    "        # bootstrap results\n",
    "        #   y_now should be the current (factual) year\n",
    "        #   y_start should correspond to the first year of your observations\n",
    "        #   y_fut determines how far into the future to look - no further than 2070\n",
    "        #   if using precip (relative changes in intensity), set `di_relative = T` - otherwise leave as F\n",
    "        res <- cmodel_results(mdl, rp = rp, cov_f = cov_now, cov_hist = cov_hist, cov_fut = cov_fut, \n",
    "                              y_now = 2025, y_start = 1940, y_fut = 2070, di_relative = F)\n",
    "\n",
    "        # save the results as a data.frame\n",
    "        write.csv(res, res_fnm)\n",
    "        \n",
    "        # quick return level plots to check fit\n",
    "        rlplot_fnm <- gsub(\"csv\", \"png\", paste0(\"mdl-eval_\", res_fnm))\n",
    "        if(!file.exists(rlplot_fnm)) {\n",
    "            png(rlplot_fnm, h = 360, w = 480); par(cex.main = 1.4); {\n",
    "                plot_returnlevels(mdl, cov_f = cov_now, cov_cf = cov_hist, ev = res[,\"rp_value\"], nsamp = 100, main = strsplit(fnm, \"/\")[[1]])\n",
    "            }; dev.off()\n",
    "        }\n",
    "    }\n",
    "}"
   ]
  },
  {
   "cell_type": "markdown",
   "id": "5b2fddb1-376f-415a-8e65-c5c9cbb7025d",
   "metadata": {},
   "source": [
    "## Compile all the model results into one .csv"
   ]
  },
  {
   "cell_type": "code",
   "execution_count": 14,
   "id": "009ce9ef-b1d7-4aa0-b286-36c3690d9f6f",
   "metadata": {},
   "outputs": [
    {
     "data": {
      "text/html": [
       "<style>\n",
       ".list-inline {list-style: none; margin:0; padding: 0}\n",
       ".list-inline>li {display: inline-block}\n",
       ".list-inline>li:not(:last-child)::after {content: \"\\00b7\"; padding: 0 .5ex}\n",
       "</style>\n",
       "<ol class=list-inline><li>'CCCma-CanESM2_CLMcom-CCLM4-8-17'</li><li>'CNRM-CERFACS-CNRM-CM5_CNRM-ALADIN63'</li><li>'IPSL-IPSL-CM5A-MR_DMI-HIRHAM5'</li><li>'MOHC-HadGEM2-ES_KNMI-RACMO22E'</li><li>'MOHC-HadGEM2-ES_MOHC-HadREM3-GA7-05'</li><li>'MPI-M-MPI-ESM-LR_DMI-HIRHAM5'</li><li>'MPI-M-MPI-ESM-LR_MPI-CSC-REMO2009'</li><li>'NCC-NorESM1-M_SMHI-RCA4'</li></ol>\n"
      ],
      "text/latex": [
       "\\begin{enumerate*}\n",
       "\\item 'CCCma-CanESM2\\_CLMcom-CCLM4-8-17'\n",
       "\\item 'CNRM-CERFACS-CNRM-CM5\\_CNRM-ALADIN63'\n",
       "\\item 'IPSL-IPSL-CM5A-MR\\_DMI-HIRHAM5'\n",
       "\\item 'MOHC-HadGEM2-ES\\_KNMI-RACMO22E'\n",
       "\\item 'MOHC-HadGEM2-ES\\_MOHC-HadREM3-GA7-05'\n",
       "\\item 'MPI-M-MPI-ESM-LR\\_DMI-HIRHAM5'\n",
       "\\item 'MPI-M-MPI-ESM-LR\\_MPI-CSC-REMO2009'\n",
       "\\item 'NCC-NorESM1-M\\_SMHI-RCA4'\n",
       "\\end{enumerate*}\n"
      ],
      "text/markdown": [
       "1. 'CCCma-CanESM2_CLMcom-CCLM4-8-17'\n",
       "2. 'CNRM-CERFACS-CNRM-CM5_CNRM-ALADIN63'\n",
       "3. 'IPSL-IPSL-CM5A-MR_DMI-HIRHAM5'\n",
       "4. 'MOHC-HadGEM2-ES_KNMI-RACMO22E'\n",
       "5. 'MOHC-HadGEM2-ES_MOHC-HadREM3-GA7-05'\n",
       "6. 'MPI-M-MPI-ESM-LR_DMI-HIRHAM5'\n",
       "7. 'MPI-M-MPI-ESM-LR_MPI-CSC-REMO2009'\n",
       "8. 'NCC-NorESM1-M_SMHI-RCA4'\n",
       "\n",
       "\n"
      ],
      "text/plain": [
       "[1] \"CCCma-CanESM2_CLMcom-CCLM4-8-17\"     \"CNRM-CERFACS-CNRM-CM5_CNRM-ALADIN63\"\n",
       "[3] \"IPSL-IPSL-CM5A-MR_DMI-HIRHAM5\"       \"MOHC-HadGEM2-ES_KNMI-RACMO22E\"      \n",
       "[5] \"MOHC-HadGEM2-ES_MOHC-HadREM3-GA7-05\" \"MPI-M-MPI-ESM-LR_DMI-HIRHAM5\"       \n",
       "[7] \"MPI-M-MPI-ESM-LR_MPI-CSC-REMO2009\"   \"NCC-NorESM1-M_SMHI-RCA4\"            "
      ]
     },
     "metadata": {},
     "output_type": "display_data"
    }
   ],
   "source": [
    "# load all results and compile into a single data.frame\n",
    "res <- t(sapply(list.files(\".\", pattern = \"^res-cordex_tasmax_EUR-11\", full.names = T), read.csv, row.names = \"X\"))\n",
    "\n",
    "# relabel the rows with just the model name\n",
    "rownames(res) <- sapply(rownames(res), function(r) gsub(\".csv\",\"\",paste0(strsplit(r, \"_\")[[1]][c(4:5)], collapse = \"_\")))\n",
    "\n",
    "# check that the rownames are right\n",
    "unname(rownames(res))"
   ]
  },
  {
   "cell_type": "code",
   "execution_count": 15,
   "id": "049a967a-4290-4fc2-a383-d6d22861dff5",
   "metadata": {},
   "outputs": [],
   "source": [
    "# save as a .csv\n",
    "write.csv(res, \"res-models_cordex.csv\")"
   ]
  },
  {
   "cell_type": "markdown",
   "id": "6ad4f179-6e22-4df0-8f1a-f424ac751323",
   "metadata": {},
   "source": [
    "## Compile all the observational results into one .csv"
   ]
  },
  {
   "cell_type": "code",
   "execution_count": 16,
   "id": "a4267cad-f94e-44af-bc5e-a49534a24a76",
   "metadata": {},
   "outputs": [],
   "source": [
    "# loop over the observational results, unfold the data.frame of results\n",
    "obs_res <- t(sapply(list.files(\".\", pattern = \"^res-obs\", full.names = T), function (fnm) {\n",
    "    res <- read.csv(fnm, row.names = \"X\")\n",
    "    unlist(lapply(rownames(res), function(cnm) setNames(res[cnm,], paste(gsub(\"_\", \"-\", cnm), c(\"est\", \"lower\", \"upper\"), sep = \"_\"))))\n",
    "}))\n",
    "\n",
    "# clean up the row names (you could set these manually if preferred)\n",
    "rownames(obs_res) <- sapply(rownames(obs_res), function(r) gsub(\".csv\",\"\",strsplit(r, \"_\")[[1]][2]))\n",
    "write.csv(obs_res, \"res-obs.csv\")"
   ]
  },
  {
   "cell_type": "markdown",
   "id": "c8cf53d1-248e-422c-8922-ed4eac82685c",
   "metadata": {},
   "source": [
    "# Next steps\n",
    "\n",
    "Take a copy of the results spreadsheet: https://docs.google.com/spreadsheets/d/1jMRnVECUbFKjCR-ueMXEzrqM8oKHQmOQL6HCrdMBiPI/edit?gid=1887990833#gid=1887990833\n",
    "\n",
    "Copy and paste the results from the obs and models into the spreadsheet\n",
    "\n",
    "Model evaluation\n",
    "- do the models capture the spatial pattern of the relevant index?\n",
    "- do the models capture the seasonal cycle of the relevant index?\n",
    "- do the ranges of parameter estimates from the models overlap with the ranges from the observations?\n",
    "- decide which models will be included in the final synthesis\n",
    "\n",
    "**Next: synthesise the results from the observations and selected climate models**"
   ]
  },
  {
   "cell_type": "code",
   "execution_count": null,
   "id": "acae5f5b-52f8-4768-ad96-d8559f679fec",
   "metadata": {},
   "outputs": [],
   "source": []
  }
 ],
 "metadata": {
  "kernelspec": {
   "display_name": "R",
   "language": "R",
   "name": "ir"
  },
  "language_info": {
   "codemirror_mode": "r",
   "file_extension": ".r",
   "mimetype": "text/x-r-source",
   "name": "R",
   "pygments_lexer": "r",
   "version": "4.4.2"
  }
 },
 "nbformat": 4,
 "nbformat_minor": 5
}
