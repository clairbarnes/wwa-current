{
 "cells": [
  {
   "cell_type": "code",
   "execution_count": 1,
   "id": "03509fec-b602-47fb-acef-dd747a4a2ec3",
   "metadata": {},
   "outputs": [],
   "source": [
    "import xarray as xr, pandas as pd, numpy as np, xoak\n",
    "from statsmodels.nonparametric.smoothers_lowess import lowess\n",
    "\n",
    "import cartopy, regionmask, geopandas as gpd\n",
    "from shapely.geometry import Polygon\n",
    "\n",
    "import glob, re\n",
    "from matplotlib import pyplot as plt\n",
    "\n",
    "my_dir = \"/home/jovyan/my_materials/\"\n",
    "\n",
    "\n",
    "# method to wrap longitude from (0,360) to (-180,180)\n",
    "def wrap_lon(ds):\n",
    "    \n",
    "    if \"longitude\" in ds.coords:\n",
    "        lon = \"longitude\"\n",
    "        lat = \"latitude\"\n",
    "    elif \"lon\" in ds.coords:\n",
    "        lon = \"lon\"\n",
    "        lat = \"lat\"\n",
    "    else: \n",
    "        # can only wrap longitude\n",
    "        return ds\n",
    "    \n",
    "    if ds[lon].max() > 180:\n",
    "        ds[lon] = (ds[lon].dims, (((ds[lon].values + 180) % 360) - 180), ds[lon].attrs)\n",
    "        \n",
    "    if lon in ds.dims:\n",
    "        ds = ds.reindex({ lon : np.sort(ds[lon]) })\n",
    "        ds = ds.reindex({ lat : np.sort(ds[lat]) })\n",
    "    return ds"
   ]
  },
  {
   "cell_type": "markdown",
   "id": "771ccacb-a326-4abe-b3b8-461d7c991e06",
   "metadata": {},
   "source": [
    "# Download data from the Climate Explorer  "
   ]
  },
  {
   "cell_type": "markdown",
   "id": "aaa30aaf-466f-46cc-95af-b5909b3aa4b9",
   "metadata": {},
   "source": [
    "We can get observations from [KNMI's Climate Explorer tool](https://climexp.knmi.nl/start.cgi?id=someone@somewhere)\n",
    "- sign in to save your searches\n",
    "- go to 'daily fields' > ERA5 0.25°\n",
    "- enter the lat/lon bounds of a large region including the area you want to study\n",
    "- select 'subset of the field' and 'convert to Celsius' / 'convert to mm/day'\n",
    "- click 'create'\n",
    "- download the file by copying the link into the cell below"
   ]
  },
  {
   "cell_type": "code",
   "execution_count": 2,
   "id": "50fd246a-97b0-4b96-b5ba-574d238a466c",
   "metadata": {},
   "outputs": [
    {
     "name": "stdout",
     "output_type": "stream",
     "text": [
      "--2025-02-10 10:28:14--  https://climexp.knmi.nl/data/era5_tmax_daily_eu_5-20E_40-55N_firstyear-lastyear_su.nc\n",
      "Resolving proxy.geomar.de (proxy.geomar.de)... 193.174.124.200\n",
      "Connecting to proxy.geomar.de (proxy.geomar.de)|193.174.124.200|:8080... connected.\n",
      "Proxy request sent, awaiting response... 200 OK\n",
      "Length: 281782710 (269M) [application/x-netcdf]\n",
      "Saving to: ‘era5_tmax_daily_eu_5-20E_40-55N_firstyear-lastyear_su.nc.1’\n",
      "\n",
      "era5_tmax_daily_eu_ 100%[===================>] 268.73M  58.3MB/s    in 4.4s    \n",
      "\n",
      "2025-02-10 10:28:19 (60.9 MB/s) - ‘era5_tmax_daily_eu_5-20E_40-55N_firstyear-lastyear_su.nc.1’ saved [281782710/281782710]\n",
      "\n"
     ]
    }
   ],
   "source": [
    "! cd $my_dir; wget https://climexp.knmi.nl/data/era5_tmax_daily_eu_5-20E_40-55N_firstyear-lastyear_su.nc"
   ]
  },
  {
   "cell_type": "markdown",
   "id": "c61e82a3-92da-4c8b-85bc-8a52d69d038c",
   "metadata": {},
   "source": [
    "# Choosing the region"
   ]
  },
  {
   "cell_type": "markdown",
   "id": "c85d7c63-4ea0-4faf-9ec9-49824960658f",
   "metadata": {},
   "source": [
    "## Large-scale maps of the 'event'\n",
    "\n",
    "Start by looking at observations to get an idea of the right region"
   ]
  },
  {
   "cell_type": "code",
   "execution_count": 3,
   "id": "c1458cf9-b764-44c0-8089-fccc6a7f2d90",
   "metadata": {},
   "outputs": [],
   "source": [
    "da = wrap_lon(xr.open_dataset(my_dir+\"era5_tmax_daily_eu_5-20E_40-55N_firstyear-lastyear_su.nc\").tmax)\n",
    "\n",
    "# cut out just the time slice we're interested in\n",
    "da_event = da.sel(time = slice(\"2024-07-01\",\"2024-07-10\"))"
   ]
  },
  {
   "cell_type": "code",
   "execution_count": null,
   "id": "37a778d2-ebac-44be-b03f-08cb0cf511c5",
   "metadata": {},
   "outputs": [],
   "source": [
    "fig = da_event.plot(cmap = \"YlOrRd\",      # set the colourmap\n",
    "                    col = \"time\",         # plot each day in a separate column\n",
    "                    col_wrap = 5,         # plot 5 panels per row\n",
    "                    subplot_kws = {\"projection\" : cartopy.crs.PlateCarree()})    # set geographic projection so we can add geographic features\n",
    "\n",
    "# add box around area of interest\n",
    "xn, xx, yn, yx = [8,12,48,52]\n",
    "\n",
    "# add coastlines and borders\n",
    "for ax in fig.axs.flat:\n",
    "    ax.coastlines()\n",
    "    ax.add_feature(cartopy.feature.BORDERS, alpha = 0.5, ls = \"--\")\n",
    "    ax.gridlines(color = \"k\", alpha = 0.1, draw_labels = [\"bottom\", \"left\"])\n",
    "\n",
    "    ax.plot([xn,xn,xx,xx,xn], [yn,yx,yx,yn,yn], color = \"blue\", lw = 2, alpha = 0.5)"
   ]
  },
  {
   "cell_type": "markdown",
   "id": "60489c46-d7c5-466a-8e75-3d48558c6c74",
   "metadata": {},
   "source": [
    "## Define the study region"
   ]
  },
  {
   "cell_type": "markdown",
   "id": "ed7c1593-d3b3-43a7-abd9-aaf737f14d9f",
   "metadata": {},
   "source": [
    "**Questions to consider**\n",
    "\n",
    "- where did the impacts actually occur?\n",
    "- how far did the associated weather system extend?\n",
    "- is the proposed region relatively homogeneous in terms of topography?\n",
    "- is the proposed region relatively homogeneous in terms of climatology?"
   ]
  },
  {
   "cell_type": "markdown",
   "id": "29304879-2020-45fa-87f8-fcee07c82187",
   "metadata": {},
   "source": [
    "### Rectangular region"
   ]
  },
  {
   "cell_type": "code",
   "execution_count": null,
   "id": "44630974-d41f-421e-b6cf-087ec8a3babd",
   "metadata": {},
   "outputs": [],
   "source": [
    "# set the lons & lats to define the edges of the region\n",
    "xn, xx, yn, yx = [8,12,48,52]\n",
    "\n",
    "# create a GeoDataFrame with the area we're interested in\n",
    "gdf = gpd.GeoDataFrame(index=[0], crs='epsg:4326', geometry = [Polygon(zip([xn,xn,xx,xx,xn], [yn,yx,yx,yn,yn]))])\n",
    "\n",
    "# save as a shapefile to use for the models\n",
    "gdf.to_file(my_dir+\"sf_studyregion\")"
   ]
  },
  {
   "cell_type": "markdown",
   "id": "8913ba67-976d-4b13-9957-253a1d3045c6",
   "metadata": {},
   "source": [
    "### Pre-defined region (eg country)"
   ]
  },
  {
   "cell_type": "code",
   "execution_count": null,
   "id": "511668a9-9827-4417-b373-cec2d2e54ba7",
   "metadata": {
    "scrolled": true
   },
   "outputs": [],
   "source": [
    "gdf = regionmask.defined_regions.natural_earth_v5_1_2.countries_50.to_geodataframe().set_crs(\"epsg:4326\")\n",
    "gdf = gdf.loc[gdf.names == \"Austria\"]\n",
    "\n",
    "# save as a shapefile to use for the models\n",
    "gdf.to_file(my_dir+\"sf_studyregion\")"
   ]
  },
  {
   "cell_type": "markdown",
   "id": "64445685-386a-44bc-ad7d-67a80a7ec711",
   "metadata": {},
   "source": [
    "### Load a shapefile\n",
    "\n",
    "eg. river basins: https://www.hydrosheds.org/products/hydrobasins"
   ]
  },
  {
   "cell_type": "code",
   "execution_count": null,
   "id": "25438fe9-2b3d-4427-abfa-7b547b03bd7f",
   "metadata": {},
   "outputs": [],
   "source": [
    "gdf = gpd.read_file(my_dir+\"your_shapefile_name\")"
   ]
  },
  {
   "cell_type": "markdown",
   "id": "16fcca73-5622-4570-8d4c-cb3bc1613236",
   "metadata": {},
   "source": [
    "## Event maps with study region"
   ]
  },
  {
   "cell_type": "code",
   "execution_count": null,
   "id": "13d4f5e1-315d-405d-8164-ff6b15edb62e",
   "metadata": {},
   "outputs": [],
   "source": [
    "fig = da_event.plot(cmap = \"YlOrRd\",      # set the colourmap (YlGnBu is good for precip, RdBu_r or YlOrRd for temperature)\n",
    "                    col = \"time\",         # plot each day in a separate column\n",
    "                    col_wrap = 5,         # plot 5 panels per row\n",
    "                    subplot_kws = {\"projection\" : cartopy.crs.PlateCarree()})    # set geographic projection so we can add geographic features\n",
    "\n",
    "# add coastlines and borders\n",
    "for ax in fig.axs.flat:\n",
    "    ax.coastlines()\n",
    "    ax.add_feature(cartopy.feature.BORDERS, alpha = 0.5, ls = \"--\")\n",
    "    ax.gridlines(color = \"k\", alpha = 0.1, draw_labels = [\"bottom\", \"left\"])\n",
    "\n",
    "    gdf.boundary.plot(ax = ax, color = \"blue\")"
   ]
  },
  {
   "cell_type": "markdown",
   "id": "6540e1a0-03d8-47ff-b7fa-a01f0e19fded",
   "metadata": {},
   "source": [
    "## Check physical geography\n",
    "\n",
    "Source data: http://research.jisao.washington.edu/data_sets/elevation/"
   ]
  },
  {
   "cell_type": "code",
   "execution_count": 7,
   "id": "1aa83685-9034-4eb9-a516-6586aef83feb",
   "metadata": {},
   "outputs": [
    {
     "name": "stdout",
     "output_type": "stream",
     "text": [
      "--2025-02-10 10:29:07--  http://research.jisao.washington.edu/data_sets/elevation/elev.0.25-deg.nc\n",
      "Resolving proxy.geomar.de (proxy.geomar.de)... 193.174.124.200\n",
      "Connecting to proxy.geomar.de (proxy.geomar.de)|193.174.124.200|:8080... connected.\n",
      "Proxy request sent, awaiting response... 200 OK\n",
      "Length: 2083492 (2.0M) [application/x-netcdf]\n",
      "Saving to: ‘elev.0.25-deg.nc’\n",
      "\n",
      "elev.0.25-deg.nc    100%[===================>]   1.99M  1.77MB/s    in 1.1s    \n",
      "\n",
      "2025-02-10 10:29:08 (1.77 MB/s) - ‘elev.0.25-deg.nc’ saved [2083492/2083492]\n",
      "\n"
     ]
    }
   ],
   "source": [
    "!wget http://research.jisao.washington.edu/data_sets/elevation/elev.0.25-deg.nc"
   ]
  },
  {
   "cell_type": "code",
   "execution_count": 1,
   "id": "b49cdd84-7c60-4729-bc5d-f14964113826",
   "metadata": {},
   "outputs": [
    {
     "ename": "NameError",
     "evalue": "name 'wrap_lon' is not defined",
     "output_type": "error",
     "traceback": [
      "\u001b[0;31m---------------------------------------------------------------------------\u001b[0m",
      "\u001b[0;31mNameError\u001b[0m                                 Traceback (most recent call last)",
      "Cell \u001b[0;32mIn[1], line 1\u001b[0m\n\u001b[0;32m----> 1\u001b[0m elev \u001b[38;5;241m=\u001b[39m \u001b[43mwrap_lon\u001b[49m(xr\u001b[38;5;241m.\u001b[39mopen_dataset(my_dir\u001b[38;5;241m+\u001b[39m\u001b[38;5;124m\"\u001b[39m\u001b[38;5;124melev.0.25-deg.nc\u001b[39m\u001b[38;5;124m\"\u001b[39m, decode_times \u001b[38;5;241m=\u001b[39m \u001b[38;5;28;01mFalse\u001b[39;00m)\u001b[38;5;241m.\u001b[39mdata\u001b[38;5;241m.\u001b[39msqueeze(drop \u001b[38;5;241m=\u001b[39m \u001b[38;5;28;01mTrue\u001b[39;00m))\n",
      "\u001b[0;31mNameError\u001b[0m: name 'wrap_lon' is not defined"
     ]
    }
   ],
   "source": [
    "elev = wrap_lon(xr.open_dataset(my_dir+\"elev.0.25-deg.nc\", decode_times = False).data.squeeze(drop = True))"
   ]
  },
  {
   "cell_type": "code",
   "execution_count": null,
   "id": "5a80dc34-66e6-4b45-a799-a63829b7c97c",
   "metadata": {},
   "outputs": [],
   "source": [
    "fig, ax = plt.subplots(subplot_kw = {\"projection\" : cartopy.crs.PlateCarree(),\n",
    "                                     \"extent\" : (da.lon.min(),da.lon.max(),da.lat.min(),da.lat.max())})\n",
    "elev_kwargs = {\"cmap\" : \"terrain\",\n",
    "               \"vmin\" : -250, \n",
    "               \"vmax\" : 1000}    # aim to keep vmin:vmax at 1:4 ratio to change from blue to green at zero\n",
    "\n",
    "elev.plot(ax = ax, **elev_kwargs)\n",
    "\n",
    "ax.gridlines(crs=cartopy.crs.PlateCarree(), linewidth=0.5, color='black', draw_labels=[\"bottom\", \"left\"], alpha=0.2)\n",
    "ax.coastlines()\n",
    "ax.add_feature(cartopy.feature.BORDERS, lw = 1, alpha = 0.7, ls = \"--\", zorder = 99)\n",
    "\n",
    "# add box around area of interest\n",
    "gdf.boundary.plot(ax = ax, color = \"blue\")"
   ]
  },
  {
   "cell_type": "markdown",
   "id": "dc1b99ff-adc1-4570-9533-f701bfc672cc",
   "metadata": {},
   "source": [
    "## Extract daily time series\n",
    "\n",
    "Once you're happy with the study region, we need to extract a time series of the average temp/precip over the area"
   ]
  },
  {
   "cell_type": "code",
   "execution_count": 10,
   "id": "37d20f74-6a0e-4a27-8393-f53baba1ea37",
   "metadata": {},
   "outputs": [],
   "source": [
    "# identify cells with centres inside the defined region\n",
    "rm = regionmask.mask_geopandas(gdf, da)\n",
    "\n",
    "# average all values over the selected region and save as a netcdf\n",
    "ts = da.where(~np.isnan(rm)).mean([\"lat\", \"lon\"])\n",
    "ts.to_netcdf(my_dir+\"era5_tmax_daily.nc\")"
   ]
  },
  {
   "cell_type": "markdown",
   "id": "9b64087e-baa8-4dff-ab6a-93c9aedbb935",
   "metadata": {},
   "source": [
    "# Choosing the duration & season"
   ]
  },
  {
   "cell_type": "markdown",
   "id": "53d64088-3b44-4d7a-bb55-d6204136f0d9",
   "metadata": {},
   "source": [
    "**Questions to consider**\n",
    "\n",
    "- did the impacts arise from a short-term event or was the whole month/season unusual?\n",
    "- was the event unusual only for a given time of year? For a particular month(s) or season?"
   ]
  },
  {
   "cell_type": "code",
   "execution_count": 11,
   "id": "cb0c6e46-996d-418c-a7b5-687024276e77",
   "metadata": {},
   "outputs": [],
   "source": [
    "# define axis labels for DOY plotting\n",
    "days = pd.date_range(start = \"2020-01-01\", end = \"2021-01-01\")\n",
    "labelticks = [i+1 for i in range(366) if (days[i].day) == 15]\n",
    "labels = [days[i].strftime(\"%b\") for i in range(366) if (days[i].day) == 15]"
   ]
  },
  {
   "cell_type": "code",
   "execution_count": null,
   "id": "eef37125-5006-41ff-8f0a-8ebcc5c4064f",
   "metadata": {},
   "outputs": [],
   "source": [
    "# How unusual was this year?\n",
    "\n",
    "fig, ax = plt.subplots(ncols = 1, figsize = (5,3), dpi = 100)\n",
    "\n",
    "# loop over each year & plot the annual time series\n",
    "for y in np.unique(ts.time.dt.year):\n",
    "    ts_y = ts.sel(time = str(y))\n",
    "    ax.plot(ts_y.time.dt.dayofyear, ts_y, color = \"tab:blue\", alpha = 0.3)\n",
    "\n",
    "# make nicer x-axis labels\n",
    "[ax.axvline(i, alpha = 0.1) for i in range(367) if (days[i].day) == 1]\n",
    "ax.set_xticks(labelticks)\n",
    "ax.set_xticklabels(labels)\n",
    "\n",
    "# add the event year in a different colour\n",
    "ts_y = ts.sel(time = \"2024\")\n",
    "ax.plot(ts_y.time.dt.dayofyear, ts_y, color = \"k\")"
   ]
  },
  {
   "cell_type": "code",
   "execution_count": null,
   "id": "50caf8c2-0662-40ed-8fc9-726061deb7af",
   "metadata": {},
   "outputs": [],
   "source": [
    "# Compare a few accumulations\n",
    "\n",
    "fig, axs = plt.subplots(ncols = 4, figsize = (20,3), dpi = 100, sharey = True)\n",
    "\n",
    "# loop over each year & plot the annual time series\n",
    "for i in range(4):\n",
    "    ax = axs[i]\n",
    "    ndays = [1,3,5,11][i]     # change the numbers of days to compare different accumulations\n",
    "    \n",
    "    ts_nday = ts.rolling(time = ndays, center = False).mean()\n",
    "    \n",
    "    for y in np.unique(ts.time.dt.year):\n",
    "        ts_y = ts_nday.sel(time = str(y))\n",
    "        ax.plot(ts_y.time.dt.dayofyear, ts_y, color = \"tab:blue\", alpha = 0.3)\n",
    "        \n",
    "    ax.set_xticks(labelticks)\n",
    "    ax.set_xticklabels(labels)\n",
    "    [ax.axvline(i, alpha = 0.1) for i in range(367) if (days[i].day) == 1]\n",
    "    \n",
    "    ax.set_title(str(ndays)+\"-day average\")\n",
    "    \n",
    "    # # add a rectangle shading the time period of interest (get & set ylims to avoid resizing the plot)\n",
    "    # ylim = ax.get_ylim()\n",
    "    # ax.add_patch(Rectangle((pr_ts.sel(time = \"2023-07-01\").time.dt.dayofyear.values,-5), 20, 300, color = \"gold\", alpha = 0.3)) # 20-day period starting from July 1st\n",
    "    # ax.set_ylim(ylim)\n",
    "    \n",
    "    # add this year in a different colour\n",
    "    ts_y = ts_nday.sel(time = \"2024\")\n",
    "    ax.plot(ts_y.time.dt.dayofyear, ts_y, color = \"k\") "
   ]
  },
  {
   "cell_type": "markdown",
   "id": "ab46fad5-704d-43ea-acba-fa28c934f545",
   "metadata": {},
   "source": [
    "# Computing the final time series"
   ]
  },
  {
   "cell_type": "code",
   "execution_count": 14,
   "id": "72000303-063b-4565-b456-697e502f8bff",
   "metadata": {},
   "outputs": [],
   "source": [
    "# compute the selected n-day average\n",
    "ts_nday = ts.rolling(time = 1, center = False).mean()\n",
    "\n",
    "# choose which months to include in the analysis\n",
    "ts_nday = ts_nday.sel(time = ts_nday.time.dt.month.isin([9]))\n",
    "\n",
    "# get the annual maximum\n",
    "ts_annual = ts_nday.resample(time = \"YS-JAN\").max()\n",
    "\n",
    "# relabel dates as years\n",
    "ts_annual = ts_annual.assign_coords(time = ts_annual.time.dt.year).rename(time = \"year\")"
   ]
  },
  {
   "cell_type": "code",
   "execution_count": 15,
   "id": "56249495-c8f5-4a06-8b5d-d542ffbdf820",
   "metadata": {},
   "outputs": [],
   "source": [
    "# save as a .csv to import into R for further analysis\n",
    "ts_annual.to_dataframe().to_csv(my_dir+\"ts_era5.csv\")"
   ]
  },
  {
   "cell_type": "code",
   "execution_count": null,
   "id": "b2f0bb6f-60ad-4d69-a60c-215ad2e999ea",
   "metadata": {},
   "outputs": [],
   "source": [
    "# quick plot - what does the time series look like?\n",
    "ts_annual.plot(drawstyle = \"steps-mid\", color = \"k\")"
   ]
  },
  {
   "cell_type": "markdown",
   "id": "d48920b8-f068-4206-b750-149bf28f662d",
   "metadata": {},
   "source": [
    "# Next steps"
   ]
  },
  {
   "cell_type": "markdown",
   "id": "71e49ff7-5a31-4ebb-a027-c9a90df0713e",
   "metadata": {},
   "source": [
    "Repeat for more observational datasets\n",
    "- CPC (global, temperature & precipitation)\n",
    "- E-Obs (Europe, temperature & precipitation)\n",
    "- CHIRPS (Global up to 60N, precipitation)\n",
    "- You may be able to find other datasets for specific regions\n",
    "\n",
    "Do all datasets show similar trends?\n",
    "\n",
    "**Next: load the data in R and do some statistical analysis**"
   ]
  },
  {
   "cell_type": "code",
   "execution_count": null,
   "id": "cc5806b4-ac46-4940-969c-d69fa1bc0712",
   "metadata": {},
   "outputs": [],
   "source": []
  }
 ],
 "metadata": {
  "kernelspec": {
   "display_name": "Python 3 (ipykernel)",
   "language": "python",
   "name": "python3"
  },
  "language_info": {
   "codemirror_mode": {
    "name": "ipython",
    "version": 3
   },
   "file_extension": ".py",
   "mimetype": "text/x-python",
   "name": "python",
   "nbconvert_exporter": "python",
   "pygments_lexer": "ipython3",
   "version": "3.12.8"
  }
 },
 "nbformat": 4,
 "nbformat_minor": 5
}
