{
 "cells": [
  {
   "cell_type": "markdown",
   "id": "49cc80b4-3ac3-465e-bb10-acfda4e45ba2",
   "metadata": {},
   "source": [
    "# Grids of changing occurrences"
   ]
  },
  {
   "cell_type": "code",
   "execution_count": null,
   "id": "5f17b702-0ccf-478a-99ee-2c91b94df729",
   "metadata": {},
   "outputs": [],
   "source": [
    "# set the size of the grid of years to look at\n",
    "n_years = 100\n",
    "\n",
    "# specify your return periods in the past, present & future climate\n",
    "rp_hist = 100\n",
    "rp_now = 10\n",
    "rp_fut = 1"
   ]
  },
  {
   "cell_type": "code",
   "execution_count": null,
   "id": "ac1f074b-6fa3-4331-af35-f50a9d7dba53",
   "metadata": {},
   "outputs": [],
   "source": [
    "# sample the occurrences\n",
    "years_hist <- sample(n_years, size = n_years / rp_hist, replace = F)\n",
    "years_now <- sample(n_years, size = n_years / rp_now, replace = F)\n",
    "years_fut <- sample(n_years, size = n_years / rp_fut, replace = F)"
   ]
  },
  {
   "cell_type": "code",
   "execution_count": null,
   "id": "bce4ae24-fb38-4833-a62c-88d1c1350b19",
   "metadata": {},
   "outputs": [],
   "source": [
    "# make the figures\n",
    "\n",
    "# arrange three plots next to each others\n",
    "prep_window(c(1,3))\n",
    "\n",
    "# loop over the points in the grid, draw a dot, fill in if it appears on the list of sampled years\n",
    "plot(0, type = \"n\", xlim = c(0,sqrt(n_years)), ylim = c(0, sqrt(n_years)))\n",
    "for(i in (1:sqrt(n_years))-1) {\n",
    "    for(j in 1:sqrt(n_years)) {\n",
    "        points(i,j, pch = 1, col = \"orange\")\n",
    "        if(((i*10)+j) %in% years_hist) points(i,j,pch=20) \n",
    "    }\n",
    "}\n",
    "\n",
    "plot(0, type = \"n\", xlim = c(0,sqrt(n_years)), ylim = c(0, sqrt(n_years)))\n",
    "for(i in (1:sqrt(n_years))-1) {\n",
    "    for(j in 1:sqrt(n_years)) {\n",
    "        points(i,j, pch = 1, col = \"orange\")\n",
    "        if(((i*10)+j) %in% years_now) points(i,j,pch=20) \n",
    "    }\n",
    "}\n",
    "\n",
    "plot(0, type = \"n\", xlim = c(0,sqrt(n_years)), ylim = c(0, sqrt(n_years)))\n",
    "for(i in (1:sqrt(n_years))-1) {\n",
    "    for(j in 1:sqrt(n_years)) {\n",
    "        points(i,j, pch = 1, col = \"orange\")\n",
    "        if(((i*10)+j) %in% years_fut) points(i,j,pch=20) \n",
    "    }\n",
    "}"
   ]
  }
 ],
 "metadata": {
  "kernelspec": {
   "display_name": "Python 3 (ipykernel)",
   "language": "python",
   "name": "python3"
  },
  "language_info": {
   "codemirror_mode": {
    "name": "ipython",
    "version": 3
   },
   "file_extension": ".py",
   "mimetype": "text/x-python",
   "name": "python",
   "nbconvert_exporter": "python",
   "pygments_lexer": "ipython3",
   "version": "3.12.8"
  }
 },
 "nbformat": 4,
 "nbformat_minor": 5
}
