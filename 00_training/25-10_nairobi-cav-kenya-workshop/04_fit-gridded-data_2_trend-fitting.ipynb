{
 "cells": [
  {
   "cell_type": "code",
   "execution_count": 2,
   "metadata": {},
   "outputs": [],
   "source": [
    "suppressMessages(library(rwwa))"
   ]
  },
  {
   "cell_type": "markdown",
   "metadata": {},
   "source": [
    "# Fit linear model to gridded data"
   ]
  },
  {
   "cell_type": "markdown",
   "metadata": {},
   "source": [
    "## Edit this cell to load the correct data and define the model you want to fit"
   ]
  },
  {
   "cell_type": "code",
   "execution_count": 6,
   "metadata": {},
   "outputs": [],
   "source": [
    "# use the same filename from the last workbook\n",
    "fnm_root = \"tx30x-era5\"\n",
    "\n",
    "# set the event year and warming level you're interested in\n",
    "ev_year <- 2024\n",
    "gmst_change <- 1.3\n",
    "\n",
    "# specify the statistical model you want to fit (should be the same as for your main event definition)\n",
    "dist <- \"gev\"\n",
    "fittype <- \"shift\"\n",
    "cov_nm <- \"gmst\"\n",
    "lower = F            # use T to look at high extremes, F to look at low extremes"
   ]
  },
  {
   "cell_type": "markdown",
   "metadata": {
    "tags": []
   },
   "source": [
    "## Run these cells with no changes to fit the model at each grid cell"
   ]
  },
  {
   "cell_type": "code",
   "execution_count": 7,
   "metadata": {},
   "outputs": [],
   "source": [
    "# load covariate data\n",
    "gmst = read.table(\"gmst.txt\", col.names = c(\"year\", \"gmst\"))\n",
    "gmst$gmst <- gmst$gmst - gmst$gmst[gmst$year == ev_year]\n",
    "\n",
    "# define factual & counterfactual covariates\n",
    "cov_f <- gmst[gmst$year == ev_year,\"gmst\", drop = F]\n",
    "cov_cf <- rbind(\"pi\" = cov_f - gmst_change)"
   ]
  },
  {
   "cell_type": "code",
   "execution_count": 8,
   "metadata": {
    "tags": []
   },
   "outputs": [],
   "source": [
    "# loop over all flattened data & fit nonstationary model to each - NB no bootstrapping\n",
    "fl = list.files(\"flattened\", full.names = T)\n",
    "for(fnm in fl) {\n",
    "    \n",
    "    res_fnm <- gsub(\"flattened\", \"flattened-res\", fnm)\n",
    "    \n",
    "    if (!file.exists(res_fnm)) {\n",
    "        \n",
    "        # load the .csv and \n",
    "        df <- read.csv(fnm, skip = 3, header = F)\n",
    "        colnames(df)[1] <- \"year\"\n",
    "        df <- merge(gmst, df)\n",
    "\n",
    "        # fit nonstationary model to all columns\n",
    "        models <- sapply(colnames(df)[grepl(\"V\", colnames(df))], function(cnm) {\n",
    "            df_c <- df[,c(\"year\", \"gmst\", cnm)]\n",
    "            tryCatch({\n",
    "                fit_ns(dist, fittype, df_c, cnm, cov_nm, lower = lower, ev_year = ev_year)\n",
    "            }, error = function(cond) { return(NULL) })\n",
    "        }, simplify = F)\n",
    "\n",
    "        # get all model results & save as .csv to be reconstructed & plotted in python\n",
    "        fitted_res <- sapply(models, function(mdl) {\n",
    "            if(!is.null(unlist(mdl)[1])) {\n",
    "                mdl_ests(mdl, cov_f = cov_f, cov_cf = cov_cf)\n",
    "            } else {\n",
    "                rep(NA, 11)\n",
    "            }})\n",
    "        write.csv(fitted_res, res_fnm)\n",
    "    }\n",
    "}"
   ]
  },
  {
   "cell_type": "markdown",
   "metadata": {},
   "source": [
    "**Now open the next workbook (using python) to reconstruct the fitted results into a map**"
   ]
  },
  {
   "cell_type": "code",
   "execution_count": null,
   "metadata": {},
   "outputs": [],
   "source": []
  }
 ],
 "metadata": {
  "kernelspec": {
   "display_name": "R 4.4.3 (main R env)",
   "language": "R",
   "name": "r_443"
  },
  "language_info": {
   "codemirror_mode": "r",
   "file_extension": ".r",
   "mimetype": "text/x-r-source",
   "name": "R",
   "pygments_lexer": "r",
   "version": "4.4.3"
  }
 },
 "nbformat": 4,
 "nbformat_minor": 4
}
