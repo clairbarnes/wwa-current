{
 "cells": [
  {
   "cell_type": "code",
   "execution_count": 1,
   "id": "ef0b26bd-d2c9-45c5-90b3-dcd065b732af",
   "metadata": {},
   "outputs": [],
   "source": [
    "import xarray as xr, pandas as pd, numpy as np\n",
    "\n",
    "import cartopy, regionmask, geopandas as gpd\n",
    "\n",
    "import glob, re\n",
    "from matplotlib import pyplot as plt\n",
    "\n",
    "\n",
    "# method to wrap longitude from (0,360) to (-180,180)\n",
    "def wrap_lon(ds):\n",
    "    \n",
    "    if \"longitude\" in ds.coords:\n",
    "        lon = \"longitude\"\n",
    "        lat = \"latitude\"\n",
    "    elif \"lon\" in ds.coords:\n",
    "        lon = \"lon\"\n",
    "        lat = \"lat\"\n",
    "    else: \n",
    "        # can only wrap longitude\n",
    "        return ds\n",
    "    \n",
    "    if ds[lon].max() > 180:\n",
    "        ds[lon] = (ds[lon].dims, (((ds[lon].values + 180) % 360) - 180), ds[lon].attrs)\n",
    "        \n",
    "    if lon in ds.dims:\n",
    "        ds = ds.reindex({ lon : np.sort(ds[lon]) })\n",
    "        ds = ds.reindex({ lat : np.sort(ds[lat]) })\n",
    "    return ds"
   ]
  },
  {
   "cell_type": "code",
   "execution_count": null,
   "id": "e174da04-9fd6-445a-9771-644e21a2adf7",
   "metadata": {},
   "outputs": [],
   "source": []
  }
 ],
 "metadata": {
  "kernelspec": {
   "display_name": "Python [conda env:wwa]",
   "language": "python",
   "name": "conda-env-wwa-py"
  },
  "language_info": {
   "codemirror_mode": {
    "name": "ipython",
    "version": 3
   },
   "file_extension": ".py",
   "mimetype": "text/x-python",
   "name": "python",
   "nbconvert_exporter": "python",
   "pygments_lexer": "ipython3",
   "version": "3.13.5"
  }
 },
 "nbformat": 4,
 "nbformat_minor": 5
}
