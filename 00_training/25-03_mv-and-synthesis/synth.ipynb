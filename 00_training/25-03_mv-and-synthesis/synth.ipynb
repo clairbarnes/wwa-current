{
 "cells": [
  {
   "cell_type": "code",
   "execution_count": 20,
   "id": "9e0099d4-0bd4-4fc6-ac82-836ce377465e",
   "metadata": {},
   "outputs": [
    {
     "name": "stderr",
     "output_type": "stream",
     "text": [
      "Loading required package: extRemes\n",
      "\n",
      "Loading required package: Lmoments\n",
      "\n",
      "Loading required package: distillery\n",
      "\n",
      "\n",
      "Attaching package: ‘extRemes’\n",
      "\n",
      "\n",
      "The following objects are masked from ‘package:stats’:\n",
      "\n",
      "    qqnorm, qqplot\n",
      "\n",
      "\n",
      "Loading required package: plyr\n",
      "\n",
      "\n",
      "Attaching package: ‘plyr’\n",
      "\n",
      "\n",
      "The following object is masked from ‘package:distillery’:\n",
      "\n",
      "    is.formula\n",
      "\n",
      "\n",
      "Loading required package: copula\n",
      "\n",
      "Loading required package: MASS\n",
      "\n"
     ]
    }
   ],
   "source": [
    "library(\"rwwa\")"
   ]
  },
  {
   "cell_type": "code",
   "execution_count": 29,
   "id": "a718ca1b-5850-4d45-8924-e8586612e6de",
   "metadata": {},
   "outputs": [],
   "source": [
    "datasets <- c(\"era5\")\n",
    "\n",
    "obs_res <- data.frame(t(sapply(datasets, function(ds) {\n",
    "    res <- read.csv(paste0(\"res-obs_dc-doy-wrapped_\",ds,\".csv\"), row.names = \"X\")\n",
    "    unlist(lapply(rownames(res), function(cnm) setNames(res[cnm,], paste(gsub(\"_\", \"-\", cnm), c(\"est\", \"lower\", \"upper\"), sep = \"_\"))))\n",
    "})))\n",
    "\n",
    "# select the critical columns & save as a single .csv\n",
    "write.csv(obs_res[,rowSums(sapply(c(\"disp\", \"nino.corr\", \"event.magnitude_est\",\"return.period\", \"PR\", \"dI.abs\"), grepl, colnames(obs_res))) == 1],\n",
    "          \"res-obs_dc7-doy-wrapped_gmst.csv\")"
   ]
  },
  {
   "cell_type": "code",
   "execution_count": 30,
   "id": "cf69e8f4-8425-4d06-9e23-f765e0b1f022",
   "metadata": {},
   "outputs": [],
   "source": [
    "df_obs <- read.csv(\"res-obs_dc7-doy-wrapped_gmst.csv\", row.names = \"X\")"
   ]
  },
  {
   "cell_type": "code",
   "execution_count": 15,
   "id": "835a9a67-eb69-4570-bf72-a250a7492aa8",
   "metadata": {},
   "outputs": [],
   "source": [
    "df_models <- read.csv(\"res-models_dc7-doy-wrapped_gmst.csv\", row.names = \"X\")"
   ]
  },
  {
   "cell_type": "code",
   "execution_count": 16,
   "id": "e05e324b-a336-4f2f-b38e-0fb84cefdf1e",
   "metadata": {},
   "outputs": [],
   "source": [
    "# filter to retain only the models that passed model evaluation\n",
    "df_models <- df_models[df_models$Include == \"y\",]"
   ]
  },
  {
   "cell_type": "code",
   "execution_count": 37,
   "id": "0a79a47c-980d-483c-bbd8-cbf45c94ba55",
   "metadata": {},
   "outputs": [],
   "source": [
    "# if looking at temperature data / 'shift' fit, use \"abs\"; if looking at precipitation / 'fixeddisp', use \"rel\"\n",
    "synthesis_type <- \"abs\""
   ]
  },
  {
   "cell_type": "code",
   "execution_count": 45,
   "id": "6cdbb7ac-ac5e-4d3d-8350-4b848b40f8a4",
   "metadata": {},
   "outputs": [],
   "source": [
    "# change in intensity from past-present\n",
    "synth_dI_attr <- synthesis(obs_in = df_obs[,grepl(paste0(\"dI.\", synthesis_type,\".pi\"), colnames(df_obs))], \n",
    "                           models_in = df_models[,grepl(\"attr_dI\", colnames(df_models))], \n",
    "                           synth_type = synthesis_type)"
   ]
  },
  {
   "cell_type": "code",
   "execution_count": null,
   "id": "65dc617b-bed4-4d86-b258-233897d81576",
   "metadata": {},
   "outputs": [],
   "source": [
    "# change in likelihood from past-present\n",
    "synth_PR_attr <- synthesis(obs_in = df_obs[,grepl(\"PR.pi\", colnames(df_obs))], \n",
    "                           models_in = df_models[,grepl(\"attr_PR\", colnames(df_models))], \n",
    "                           synth_type = \"PR\")"
   ]
  },
  {
   "cell_type": "code",
   "execution_count": null,
   "id": "e31e9507-e70e-4071-abf2-bbe1331a4adb",
   "metadata": {},
   "outputs": [],
   "source": [
    "# change in intensity from present-future\n",
    "synth_dI_proj <- synthesis(obs_in = NA, \n",
    "                           models_in = df_models[,grepl(\"proj_dI\", colnames(df_models))], \n",
    "                           synth_type = synthesis_type)\n",
    "\n",
    "# change in intensity from present-future\n",
    "synth_PR_proj <- synthesis(obs_in = NA, \n",
    "                           models_in = df_models[,grepl(\"proj_PR\", colnames(df_models))], \n",
    "                           synth_type = \"PR\")"
   ]
  },
  {
   "cell_type": "code",
   "execution_count": null,
   "id": "39f3a686-a85c-43af-a3f2-1168138784e5",
   "metadata": {},
   "outputs": [],
   "source": [
    "png(\"synth_both_proj.png\", height = 360, width = 570); {\n",
    "    prep_window(c(1,2), oma = c(0,13,0,0), mar = c(3,0.5,3,0.5))\n",
    "\n",
    "    plot_synthesis(synth_dI_proj, main = \"Change in intensity\", add_space = F)\n",
    "    plot_synthesis(synth_PR_proj, main = \"Probability ratio\", hide_labels = T, add_space = F)\n",
    "}; dev.off()"
   ]
  },
  {
   "cell_type": "code",
   "execution_count": 104,
   "id": "de63db6e-9b11-474d-8849-c7bf76febadd",
   "metadata": {},
   "outputs": [
    {
     "ename": "ERROR",
     "evalue": "Error in xy.coords(x, y): 'x' and 'y' lengths differ\n",
     "output_type": "error",
     "traceback": [
      "Error in xy.coords(x, y): 'x' and 'y' lengths differ\nTraceback:\n",
      "1. plot_synthesis(synth_dI_proj, main = \"Change in intensity\")   # at line 4 of file <text>",
      "2. points(synth$est, yy, pch = 21, bg = gcols, lwd = 2, cex = lwd/10)",
      "3. points.default(synth$est, yy, pch = 21, bg = gcols, lwd = 2, \n .     cex = lwd/10)",
      "4. plot.xy(xy.coords(x, y), type = type, ...)",
      "5. xy.coords(x, y)",
      "6. stop(\"'x' and 'y' lengths differ\")"
     ]
    },
    {
     "data": {
      "text/html": [
       "<strong>png:</strong> 2"
      ],
      "text/latex": [
       "\\textbf{png:} 2"
      ],
      "text/markdown": [
       "**png:** 2"
      ],
      "text/plain": [
       "png \n",
       "  2 "
      ]
     },
     "metadata": {},
     "output_type": "display_data"
    }
   ],
   "source": [
    "png(\"synth_both_proj.png\", height = 360, width = 570); {\n",
    "    prep_window(c(1,2), oma = c(0,13,0,0), mar = c(3,0.5,3,0.5))\n",
    "\n",
    "    plot_synthesis(synth_dI_proj, main = \"Change in intensity\")\n",
    "    plot_synthesis(synth_PR_proj, main = \"Probability ratio\", hide_labels = T)\n",
    "}; dev.off()"
   ]
  },
  {
   "cell_type": "code",
   "execution_count": 81,
   "id": "ff9c58f8-8713-43ec-8075-74465c0b3527",
   "metadata": {},
   "outputs": [
    {
     "data": {
      "text/html": [
       "<strong>png:</strong> 2"
      ],
      "text/latex": [
       "\\textbf{png:} 2"
      ],
      "text/markdown": [
       "**png:** 2"
      ],
      "text/plain": [
       "png \n",
       "  2 "
      ]
     },
     "metadata": {},
     "output_type": "display_data"
    }
   ],
   "source": [
    "png(\"synth_attr.png\", height = 360, width = 570); {\n",
    "    par(oma = c(0,13,0,0), mar = c(3,2,3,1))\n",
    "    plot_synthesis(synth_dI_attr, main = \"Change in intensity\")\n",
    "}; dev.off()"
   ]
  },
  {
   "cell_type": "code",
   "execution_count": 93,
   "id": "d9645d93-43e7-449b-aefe-8fc1816914fc",
   "metadata": {},
   "outputs": [
    {
     "data": {
      "text/html": [
       "<strong>png:</strong> 2"
      ],
      "text/latex": [
       "\\textbf{png:} 2"
      ],
      "text/markdown": [
       "**png:** 2"
      ],
      "text/plain": [
       "png \n",
       "  2 "
      ]
     },
     "metadata": {},
     "output_type": "display_data"
    }
   ],
   "source": [
    "png(\"synth_both.png\", height = 360, width = 570); {\n",
    "    prep_window(c(1,2), oma = c(0,13,0,0), mar = c(3,0.5,3,0.5))\n",
    "\n",
    "    plot_synthesis(synth_dI_attr, main = \"Change in intensity\")\n",
    "    plot_synthesis(synth_PR_attr, main = \"Probability ratio\", hide_labels = T)\n",
    "}; dev.off()"
   ]
  },
  {
   "cell_type": "code",
   "execution_count": null,
   "id": "2968b523-2377-4b10-8be7-0d9b5fbbd9ea",
   "metadata": {},
   "outputs": [],
   "source": []
  }
 ],
 "metadata": {
  "kernelspec": {
   "display_name": "R [conda env:r_env]",
   "language": "R",
   "name": "conda-env-r_env-r"
  },
  "language_info": {
   "codemirror_mode": "r",
   "file_extension": ".r",
   "mimetype": "text/x-r-source",
   "name": "R",
   "pygments_lexer": "r",
   "version": "4.2.3"
  }
 },
 "nbformat": 4,
 "nbformat_minor": 5
}
