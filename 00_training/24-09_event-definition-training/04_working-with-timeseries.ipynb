{
 "cells": [
  {
   "cell_type": "markdown",
   "id": "007f8fd1-53af-4a4e-9437-454c74f943ff",
   "metadata": {},
   "source": [
    "# Useful links\n",
    "\n",
    "- [List of named colours for plotting time series](https://matplotlib.org/stable/gallery/color/named_colors.html)"
   ]
  },
  {
   "cell_type": "markdown",
   "id": "27ae72c5-84eb-47ec-bae8-86aa9b787ead",
   "metadata": {},
   "source": [
    "# Import required packages"
   ]
  },
  {
   "cell_type": "code",
   "execution_count": null,
   "id": "16413807-99ad-4f03-a593-222b08eac2da",
   "metadata": {},
   "outputs": [],
   "source": [
    "import xarray as xr                                                  # handles gridded data\n",
    "import numpy as np                                                   # numerical functions etc\n",
    "import pandas as pd                                                  # handles tables of data (.csv, spreadsheets etc)\n",
    "import re                                                            # allows manipulation of text strings\n",
    "\n",
    "import matplotlib                                                    # plotting functions generally\n",
    "import matplotlib.pyplot as plt                                      # specific plotting function we'll use a lot, so we'll give it a shorter name\n",
    "from matplotlib.patches import Rectangle                             # specific plotting function with an annoyingly long name\n",
    "\n",
    "import statsmodels.nonparametric.smoothers_lowess as sm_lowess       # nonparametric smoother\n",
    "\n",
    "import cartopy                                                       # plotting geographical features\n",
    "import regionmask                                                    # convert shapefile to binary 0,1 mask\n",
    "import geopandas as gpd                                              # shapefiles\n",
    "\n",
    "from geopy.geocoders import Nominatim                                # get lat & lon coordinates from a place name\n",
    "from dateutil.relativedelta import relativedelta                     # calculate differences in times (needed to decode weird timestamps)\n",
    "\n",
    "# filter out any annoying user warnings\n",
    "import warnings\n",
    "warnings.filterwarnings(\"ignore\", category = UserWarning)\n",
    "\n",
    "# you might get an error like 'ERROR 1: PROJ: proj_create_from_database: Open of /rds/general/user/cb2714/home/anaconda3/envs/wwa/share/proj failed' - you can ignore this!"
   ]
  },
  {
   "cell_type": "markdown",
   "id": "9738fe1e-15fc-4c05-83e6-b0efa7e150e3",
   "metadata": {},
   "source": [
    "# Useful functions"
   ]
  },
  {
   "cell_type": "code",
   "execution_count": null,
   "id": "dd15ec21-09a4-46b7-a941-b00bc65bb9a9",
   "metadata": {},
   "outputs": [],
   "source": [
    "def wrap_lon(ds):\n",
    "    \n",
    "    # 'wrap' longitudes from (0,360) to (-180,180) & sort into ascending order\n",
    "    \n",
    "    if \"longitude\" in ds.coords:\n",
    "        lon = \"longitude\"\n",
    "        lat = \"latitude\"\n",
    "    elif \"lon\" in ds.coords:\n",
    "        lon = \"lon\"\n",
    "        lat = \"lat\"\n",
    "    else: \n",
    "        # can only wrap longitude\n",
    "        return ds\n",
    "    \n",
    "    if ds[lon].max() > 180:\n",
    "        ds[lon] = (ds[lon].dims, (((ds[lon].values + 180) % 360) - 180), ds[lon].attrs)\n",
    "        \n",
    "    if lon in ds.dims:\n",
    "        ds = ds.reindex({ lon : np.sort(ds[lon]) })\n",
    "        ds = ds.reindex({ lat : np.sort(ds[lat]) })\n",
    "    return ds\n",
    "\n",
    "#~~~~~~~~~~~~~~~~~~~~~~~~~~~~~~~~~~~~~~~~~~~~~~~~~~~~~~~~~~~~~~~~~~~~~~~~~~~~~~~~~~~~~~~~~~~~~~~~~~~~~~~~~~\n",
    "def decode_times(ts):\n",
    "    \n",
    "    # manually decode times\n",
    "    \n",
    "    inc = re.sub(\" .+\", \"\", ts.time.units)\n",
    "    startdate = pd.Timestamp(re.sub(\".+since \", \"\", ts.time.units)+' 00:00:00.000000').to_pydatetime()\n",
    "    \n",
    "    if inc == \"years\":\n",
    "        new_times = [np.datetime64(startdate + relativedelta(years = i)) for i in ts.time.values]\n",
    "    elif inc == \"months\":\n",
    "        new_times = [np.datetime64(startdate + relativedelta(months = i)) for i in ts.time.values]\n",
    "    elif inc == \"days\":\n",
    "        new_times = [np.datetime64(startdate + relativedelta(days = i)) for i in ts.time.values]\n",
    "    elif inc == \"hours\":\n",
    "        new_times = [np.datetime64(startdate + relativedelta(hours = i)) for i in ts.time.values]\n",
    "    else:\n",
    "        print(\"TBD: \" +inc)\n",
    "        return\n",
    "        \n",
    "    ts = ts.assign_coords(time = new_times)\n",
    "    \n",
    "    return ts\n",
    "\n",
    "#~~~~~~~~~~~~~~~~~~~~~~~~~~~~~~~~~~~~~~~~~~~~~~~~~~~~~~~~~~~~~~~~~~~~~~~~~~~~~~~~~~~~~~~~~~~~~~~~~~~~~~~~~~\n",
    "def get_latlon(city):\n",
    "    \n",
    "    # retrieve lat & lon for given place name\n",
    "    location = Nominatim(user_agent=\"GetLoc\").geocode(city)\n",
    "    if location is None:\n",
    "        return {\"lon\" : None, \"lat\" : None}\n",
    "    else:\n",
    "        return {\"lon\" : location.longitude, \"lat\" : location.latitude}\n",
    "        \n",
    "#~~~~~~~~~~~~~~~~~~~~~~~~~~~~~~~~~~~~~~~~~~~~~~~~~~~~~~~~~~~~~~~~~~~~~~~~~~~~~~~~~~~~~~~~~~~~~~~~~~~~~~~~~~\n",
    "def doy_axes(ax = None):\n",
    "\n",
    "    # make nicer axis labels when you're plotting against day of year\n",
    "    if ax is None: ax = plt.gca()\n",
    "    \n",
    "    # define axis labels for DOY plotting\n",
    "    days = pd.date_range(start = \"2020-01-01\", end = \"2020-12-31\")\n",
    "    lineticks = [i+1 for i in range(366) if (days[i].day) == 1]\n",
    "    labelticks = [i+1 for i in range(366) if (days[i].day) == 16]\n",
    "    labels = [days[i].strftime(\"%b\") for i in range(366) if (days[i].day) == 16]\n",
    "\n",
    "    # actually draw the axes & gridlines\n",
    "    ax.set_xticks(labelticks)\n",
    "    ax.set_xticklabels(labels)\n",
    "    [ax.axvline(x, color = \"k\", alpha = 0.1, lw = 1) for x in lineticks]\n",
    "    ax.set_xlabel(\"\")"
   ]
  },
  {
   "cell_type": "markdown",
   "id": "bf26be5e-5c2f-4d6e-84e4-4b9f99abc992",
   "metadata": {},
   "source": [
    "# Load & plot time series data"
   ]
  },
  {
   "cell_type": "code",
   "execution_count": null,
   "id": "7281de35-fbdd-4983-9891-d9655bd88393",
   "metadata": {},
   "outputs": [],
   "source": [
    "# first, load the time series\n",
    "ts = xr.open_dataset(\"timeseries_pr-box.nc\").tp"
   ]
  },
  {
   "cell_type": "code",
   "execution_count": null,
   "id": "f79470e0-bc22-44f3-8d43-1a9c4cd31c65",
   "metadata": {},
   "outputs": [],
   "source": [
    "# if you see an error message \"Failed to decode variable 'time'\", you'll need to decode the time steps manually like this:\n",
    "# gmst = decode_times(xr.open_dataset(\"igiss_al_gl_a_4yrlo.nc\", decode_times = False))"
   ]
  },
  {
   "cell_type": "markdown",
   "id": "aa4aeb73-7013-436b-9813-1763badd1d8c",
   "metadata": {},
   "source": [
    "## Smoothed seasonal cycle"
   ]
  },
  {
   "cell_type": "code",
   "execution_count": null,
   "id": "e0f6f503-184f-44b4-b03b-c0570ea86890",
   "metadata": {},
   "outputs": [],
   "source": [
    "# first smooth the daily time series (mainly for precipitation - for temperatures you could use a shorter window, or even no smoothing, by setting sm_days = 1)\n",
    "sm_days = 15\n",
    "ts_sm = ts.rolling(time = sm_days, center = True).mean()\n",
    "\n",
    "ts_clim = ts_sm.sel(time = slice(\"1990\", \"2020\"))                   # select the time period to compute the climatology\n",
    "mean_by_doy = ts_clim.groupby(\"time.dayofyear\").mean()              # then average over each day of the year and plot\n",
    "\n",
    "q05_by_doy = ts_clim.groupby(\"time.dayofyear\").quantile(0.05)       # also get the central 90% of values for each day of the year\n",
    "q95_by_doy = ts_clim.groupby(\"time.dayofyear\").quantile(0.95)"
   ]
  },
  {
   "cell_type": "code",
   "execution_count": null,
   "id": "284ba06b-4a15-4e6a-861c-66e2f3e8d34e",
   "metadata": {},
   "outputs": [],
   "source": [
    "# plot the mean & quantiles\n",
    "mean_by_doy.plot()\n",
    "q05_by_doy.plot(color = \"tab:blue\", alpha = 0.5)   # lower bound of the central 95%\n",
    "q95_by_doy.plot(color = \"tab:blue\", alpha = 0.5)   # upper bound of the central 95%\n",
    "\n",
    "# add nicer axis labels and title\n",
    "ax = plt.gca()                                            # give a name to the axis so that we can add more elements to it below\n",
    "doy_axes()                                                # add nicer labels using user-defined function\n",
    "ax.set_title(\"Seasonal cycle of precipitation\")           # give a more meaningful title\n",
    "ax.set_ylabel(\"Precipitation (mm/day)\")                   # give proper units to y-axis"
   ]
  },
  {
   "cell_type": "markdown",
   "id": "401c61f4-561e-4ee0-ab11-5294de2df528",
   "metadata": {},
   "source": [
    "## Plot n-day average compared to previous years\n",
    "\n",
    "Plot different accumulations to determine how long the extreme event lasted for"
   ]
  },
  {
   "cell_type": "code",
   "execution_count": null,
   "id": "f6cd6469-cae7-476d-b455-28e50587fb3a",
   "metadata": {
    "tags": []
   },
   "outputs": [],
   "source": [
    "# first, take the rolling average of the data (set ndays to 1 to see daily)\n",
    "ndays = 30\n",
    "ts_nday = ts.rolling(time = ndays, center = False).mean()\n",
    "\n",
    "# plot just this year to start with\n",
    "ts_y = ts_nday.sel(time = \"2024\")\n",
    "plt.plot(ts_y.time.dt.dayofyear, ts_y, color = \"k\", zorder = 9)       # 'zorder' sets the order the elements appear in the plot - higher zorders are on top of lower zorders\n",
    "\n",
    "# add the climatological mean for reference\n",
    "ts_nday_mean = ts_nday.sel(time = slice(\"1990\", \"2020\")).groupby(\"time.dayofyear\").mean()\n",
    "plt.plot(ts_nday_mean.dayofyear, ts_nday_mean, color = \"darkblue\", alpha = 0.7, zorder = 5)\n",
    "\n",
    "# loop over the other years & plot the annual time series\n",
    "for y in np.unique(ts_nday.time.dt.year):\n",
    "    ts_y = ts_nday.sel(time = str(y))\n",
    "    plt.plot(ts_y.time.dt.dayofyear, ts_y, color = \"tab:blue\", alpha = 0.3)\n",
    "    \n",
    "# add nicer axis labels and title\n",
    "ax = plt.gca()                                            # give a name to the axis so that we can add more elements to it below\n",
    "doy_axes()                                                # add nicer labels using user-defined function\n",
    "ax.set_title(str(ndays)+\"-day precipitation\")           # give a more meaningful title\n",
    "ax.set_ylabel(\"Precipitation (mm/day)\")                   # give proper units to y-axis"
   ]
  },
  {
   "cell_type": "markdown",
   "id": "79000745-0497-4532-add4-2c4612201c29",
   "metadata": {},
   "source": [
    "# Creating an annual time series"
   ]
  },
  {
   "cell_type": "markdown",
   "id": "dd3c0e23-051d-46d3-bfa1-a9a75ffbf930",
   "metadata": {},
   "source": [
    "## Annual maximum/minimum/mean\n",
    "The easiest way to get an annual time series is to simply take the highest value per year  \n",
    "Note: you could also do this on a gridded dataset"
   ]
  },
  {
   "cell_type": "code",
   "execution_count": null,
   "id": "dd2dda71-acfe-4653-b8f6-d8c672646b82",
   "metadata": {},
   "outputs": [],
   "source": [
    "# get the annual maximum (could also use min/mean in place of max)\n",
    "ts_amax = ts_nday.resample(time = \"YS-JAN\").max()         # this starts the year in January but you could use eg. \"YS-JUL\" to start in July and and in June"
   ]
  },
  {
   "cell_type": "markdown",
   "id": "789be7d5-061c-41f7-a30d-226118ec9cd6",
   "metadata": {},
   "source": [
    "## Annual maximum over selected months\n",
    "If the event is unusual partly because of the time of year when it occurred, then you might want to look at only a specific month (or months)"
   ]
  },
  {
   "cell_type": "code",
   "execution_count": null,
   "id": "aaa47047-9849-452f-a812-66a1634adea9",
   "metadata": {},
   "outputs": [],
   "source": [
    "# first we choose just the months we're interested in - for example, we might only want to look at the wet season\n",
    "ts_subset = ts_nday.sel(time = ts_nday.time.dt.month.isin([5,6,7,8,9]))\n",
    "\n",
    "# then take the annual maximum like we did before\n",
    "ts_smax = ts_subset.resample(time = \"YS-JAN\").max()"
   ]
  },
  {
   "cell_type": "markdown",
   "id": "899bce0f-8e34-499c-ae37-3e57ff198361",
   "metadata": {},
   "source": [
    "## Selecting a single calendar date from each year\n",
    "\n",
    "To select a particular calendar date, we need to identify all days with a given month and day of the month"
   ]
  },
  {
   "cell_type": "code",
   "execution_count": null,
   "id": "32937a84-6513-44b5-9561-cbe2c3aeaec3",
   "metadata": {},
   "outputs": [],
   "source": [
    "ts_doy = ts.sel(time = ((ts.time.dt.month == 10) & (ts.time.dt.day == 31)))"
   ]
  },
  {
   "cell_type": "markdown",
   "id": "c913bc74-b714-4c07-b4ee-2d561162af71",
   "metadata": {},
   "source": [
    "# Looking at trends"
   ]
  },
  {
   "cell_type": "markdown",
   "id": "7f64ed6f-fc62-4290-8855-1aa978a428b7",
   "metadata": {},
   "source": [
    "## Rolling mean\n",
    "\n",
    "We can put a simple running mean on top of the data to see what the trends look like over time"
   ]
  },
  {
   "cell_type": "code",
   "execution_count": null,
   "id": "51ce124a-5884-47e8-bc54-256b5f1e5a13",
   "metadata": {},
   "outputs": [],
   "source": [
    "# compute the 15-year running mean\n",
    "ts_amax_sm = ts_amax.rolling(time = 15, center = True).mean()"
   ]
  },
  {
   "cell_type": "code",
   "execution_count": null,
   "id": "2df0ddb1-20ca-4e7a-b414-be1257580b87",
   "metadata": {},
   "outputs": [],
   "source": [
    "ts_amax.plot(drawstyle = \"steps-mid\")\n",
    "ts_amax_sm.plot(color = \"darkblue\", lw = 2)"
   ]
  },
  {
   "cell_type": "markdown",
   "id": "2f025272-7663-4baf-9de5-073d22fd7c33",
   "metadata": {},
   "source": [
    "\n",
    "## Nonparametric smoothed trend\n",
    "\n",
    "This is a local nonparametric smoother called a lowess smoother - basically it's a bit like a rolling average but smoother, and you don't have gaps at either end of the series  "
   ]
  },
  {
   "cell_type": "code",
   "execution_count": null,
   "id": "83948f6a-cc81-46d9-880f-f2ebf917b593",
   "metadata": {},
   "outputs": [],
   "source": [
    "# get the smoothed values: we want to smooth the values over time\n",
    "ts_amax_np = sm_lowess.lowess(ts_amax, ts_amax.time.dt.year, frac = 2/3)    # 'frac' determines the fraction of the data used to smooth each point - smaller frac means wigglier data (default is 2/3)\n",
    "\n",
    "# turn the smoothed values back into a dataarray so they're easier to plot\n",
    "ts_amax_np = xr.DataArray(data = ts_amax_np[:,1], dims = [\"time\"], name = \"z\", coords = dict(ts_amax.coords))"
   ]
  },
  {
   "cell_type": "code",
   "execution_count": null,
   "id": "71e544eb-ef21-4b68-9814-65cf3da4118f",
   "metadata": {},
   "outputs": [],
   "source": [
    "# we can plot both to compare them, and add labels\n",
    "ts_amax.plot(drawstyle = \"steps-mid\")\n",
    "ts_amax_sm.plot(color = \"darkblue\", label = \"Rolling mean\")\n",
    "ts_amax_np.plot(color = \"darkgreen\", lw = 2, label = \"Smoothed\")\n",
    "\n",
    "plt.legend()"
   ]
  },
  {
   "cell_type": "markdown",
   "id": "c2d7cd23-eb67-4057-9e13-f7cd373e2f73",
   "metadata": {},
   "source": [
    "## Linear trend over time\n",
    "It's always useful to compare the fitted trend to the nonparametric smoother, to check if the observed & fitted trends are similar"
   ]
  },
  {
   "cell_type": "code",
   "execution_count": null,
   "id": "8886c14c-0bb1-42d5-91de-ecac2fac0cbb",
   "metadata": {},
   "outputs": [],
   "source": [
    "# fit a linear trend through the data\n",
    "linear_coeffs = ts_amax.polyfit(\"time\", deg = 1).polyfit_coefficients\n",
    "\n",
    "# we can use the estimated coefficients to get the expected temperature in each year, and plot them\n",
    "fitted_values = xr.polyval(ts_amax.time, linear_coeffs)\n",
    "\n",
    "ts_amax.plot(drawstyle = \"steps-mid\")\n",
    "fitted_values.plot(color = \"k\", lw = 2, label = \"Linear trend over time\")\n",
    "ts_amax_np.plot(color = \"darkgreen\", lw = 2, label = \"Smoothed\")\n",
    "\n",
    "plt.legend()"
   ]
  },
  {
   "cell_type": "markdown",
   "id": "1ec9022c-d8de-46a8-9669-d7c292fb72ac",
   "metadata": {},
   "source": [
    "### Check the fit through a shorter time period\n",
    "If the trend changes over time, it might be useful to fit a line to a shorter time period, to see how different they are  \n",
    "If the most recent value is particularly extreme, it's also important to check that the trend doesn't change too much when we include/exclude it"
   ]
  },
  {
   "cell_type": "code",
   "execution_count": null,
   "id": "ea06ce1e-f54f-438e-80d3-31c89bf0220a",
   "metadata": {},
   "outputs": [],
   "source": [
    "# fit linear trend without 2024 to check how much of a difference this very high value makes\n",
    "ts_excl2024 = ts_amax.sel(time = slice(None, \"2023\"))\n",
    "lc_excl2024 = ts_excl2024.polyfit(\"time\", deg = 1).polyfit_coefficients\n",
    "fv_excl2024 = xr.polyval(ts_excl2024.time, lc_excl2024)\n",
    "\n",
    "ts_amax.plot(drawstyle = \"steps-mid\")\n",
    "fitted_values.plot(color = \"k\", lw = 2, alpha = 0.7, label = \"Linear trend over time\")\n",
    "fv_excl2024.plot(color = \"darkred\", lw = 2, label = \"Linear trend excluding 2024\")\n",
    "ts_amax_np.plot(color = \"darkgreen\", lw = 2, label = \"Nonparametric smoothesmoothed\")\n",
    "\n",
    "plt.legend()"
   ]
  },
  {
   "cell_type": "markdown",
   "id": "cef16418-bd94-443e-a05d-c4f2a47b0cba",
   "metadata": {},
   "source": [
    "## Linear trend dependent on GMST\n",
    "\n",
    "Unless you're looking at a fairly short period, it's unlikely that any trend will be linear over time (that implies that it changes at a constant rate each year)  \n",
    "Instead, we can look at how our time series changes as the global mean surface temperature changes\n",
    "\n",
    "The latest 4-year smoothed GMST time series can be downloaded from https://climexp.knmi.nl/data/igiss_al_gl_a_4yrlo.nc"
   ]
  },
  {
   "cell_type": "code",
   "execution_count": null,
   "id": "2ee56a0a-368e-4ba9-8bde-5a7c51c2cf7a",
   "metadata": {},
   "outputs": [],
   "source": [
    "# first, load the GMST time series and select just the period we're interested in\n",
    "# annual data from the Climate Explorer has weirdly formatted times so we need to decode them manually\n",
    "gmst = decode_times(xr.open_dataset(\"igiss_al_gl_a_4yrlo.nc\", decode_times = False)).Ta\n",
    "\n",
    "# select the same years that are in our annual time series\n",
    "gmst = gmst.sel(time = gmst.time.dt.year.isin(ts_amax.time.dt.year))\n",
    "\n",
    "# fit a linear trend to GMST by replacing time with gmst values\n",
    "gmst_coeffs = ts_amax.assign_coords(time = gmst.values).polyfit(\"time\", deg = 1).polyfit_coefficients\n",
    "\n",
    "# use the estimated coefficients to get the expected temperature in each year\n",
    "gmst_fitted = xr.polyval(gmst, gmst_coeffs)\n",
    "\n",
    "print(\"Change per 1deg GMST increase: \", gmst_coeffs.sel(degree = 1).round(2).values)"
   ]
  },
  {
   "cell_type": "code",
   "execution_count": null,
   "id": "25f8596c-25ea-41e4-98c4-5509cdbd5dbb",
   "metadata": {
    "scrolled": true
   },
   "outputs": [],
   "source": [
    "# plot the fitted trend against the obs to see if it makes sense (also useful to compare to the nonparametric smoother to see if they look similar)\n",
    "ts_amax.plot(drawstyle = \"steps-mid\")\n",
    "ts_amax_np.plot(color = \"darkgreen\", lw = 2, label = \"Nonparametric smoother\")\n",
    "gmst_fitted.plot(color = \"k\", lw = 2, label = \"GMST trend\")\n",
    "\n",
    "plt.legend()"
   ]
  },
  {
   "cell_type": "markdown",
   "id": "a87ede33-c000-43b5-88eb-3feb656bce3d",
   "metadata": {},
   "source": [
    "# Other interesting questions"
   ]
  },
  {
   "cell_type": "markdown",
   "id": "c01ae64f-1edb-4ec4-8c95-13054dab94e1",
   "metadata": {},
   "source": [
    "## Was this the wettest day on record?"
   ]
  },
  {
   "cell_type": "code",
   "execution_count": null,
   "id": "6c2d554a-51f1-4188-8f19-0db19287fee0",
   "metadata": {
    "scrolled": true
   },
   "outputs": [],
   "source": [
    "# we can sort the daily values into ascending order and see when the most extreme events occurred\n",
    "ts_sorted = ts.sortby(ts, ascending = False)\n",
    "\n",
    "# then we can look at the times when the 10 wettest events occurred\n",
    "# convert to a dataframe to see the times & values together in a table\n",
    "ts_sorted[:10].to_dataframe()"
   ]
  },
  {
   "cell_type": "markdown",
   "id": "a5ab08c9-7962-4af8-b578-8c3707889678",
   "metadata": {},
   "source": [
    "## How many times have we exceeded a particular threshold, and when?"
   ]
  },
  {
   "cell_type": "code",
   "execution_count": null,
   "id": "2e81ab39-a270-41e9-9e79-0f606d5a0747",
   "metadata": {},
   "outputs": [],
   "source": [
    "# select just those days that exceed some threshold of interest\n",
    "wet_days = ts.where(ts >= 10).dropna(\"time\", how = \"any\")"
   ]
  },
  {
   "cell_type": "code",
   "execution_count": null,
   "id": "f21f6079-fe95-4e08-acd0-fb3081a0c68e",
   "metadata": {},
   "outputs": [],
   "source": [
    "# we can plot how much rain fell on the wettest days\n",
    "wet_days.plot(ls = \"\", marker = \".\")"
   ]
  },
  {
   "cell_type": "code",
   "execution_count": null,
   "id": "7f775b24-da24-4b3c-9b49-00d40f215bb4",
   "metadata": {
    "scrolled": true
   },
   "outputs": [],
   "source": [
    "# we can also look at counts of wet days each year\n",
    "n_wetdays = wet_days.resample(time = \"YS-JAN\").count()    \n",
    "\n",
    "# to make a bar plot we have to give both the x coordinate (in this case, the year) and the height of the bar\n",
    "plt.bar(x = n_wetdays.time.dt.year, height = n_wetdays)"
   ]
  },
  {
   "cell_type": "markdown",
   "id": "76b63b44-a50a-42c6-8ea9-984ef589f70d",
   "metadata": {},
   "source": [
    "# Save an annual time series for uploade to the climate explorer\n",
    "\n",
    "If you want to use the Climate Explorer's tools to analyse an annual time series, you can upload your own data, but it needs to be in a particular format.\n",
    "\n",
    "- the first line should start '# year' (and then a variable name)\n",
    "- each row should have a year and one value, with a space in between\n",
    "- it has to be years, dates won't work"
   ]
  },
  {
   "cell_type": "code",
   "execution_count": null,
   "id": "5ca1e68d-0b99-456a-ab58-2df85782ce4f",
   "metadata": {},
   "outputs": [],
   "source": [
    "# this line will save your data in the correct format\n",
    "ts_amax.assign_coords(time = ts_amax.time.dt.year).rename(time = \"#year\").to_dataframe().to_csv(\"annual-time-series-for-climexp.csv\", sep = \" \")"
   ]
  },
  {
   "attachments": {
    "6c00ae62-c0be-4adf-8bd8-884ed0875ccf.png": {
     "image/png": "[encoded data removed]"
    }
   },
   "cell_type": "markdown",
   "id": "8e3e766e-de2a-47fa-8bf2-5806e5132cd7",
   "metadata": {},
   "source": [
    "Now find the file in the file explorer on the left and 'open with editor', select all & copy\n",
    "\n",
    "![image.png](attachment:6c00ae62-c0be-4adf-8bd8-884ed0875ccf.png)"
   ]
  },
  {
   "cell_type": "markdown",
   "id": "11d13a3d-9a51-47cb-994f-4a8b32f67069",
   "metadata": {},
   "source": [
    "Now sign in to the climate explorer, go to 'view, upload your time series' in the right-hand menu  \n",
    "Delete the text in the big box in the 'upload text data' section, and paste your data in instead  \n",
    "Give it a meaningful name in the box above so you can find it later  \n",
    "Press 'upload' - now you can work with your time series as if you'd created it directly in the climate explorer"
   ]
  },
  {
   "cell_type": "code",
   "execution_count": null,
   "id": "f8341ebe-6cc9-4c71-adf0-5c209dbdad69",
   "metadata": {},
   "outputs": [],
   "source": []
  }
 ],
 "metadata": {
  "kernelspec": {
   "display_name": "Python 3 (ipykernel)",
   "language": "python",
   "name": "python3"
  },
  "language_info": {
   "codemirror_mode": {
    "name": "ipython",
    "version": 3
   },
   "file_extension": ".py",
   "mimetype": "text/x-python",
   "name": "python",
   "nbconvert_exporter": "python",
   "pygments_lexer": "ipython3",
   "version": "3.12.5"
  }
 },
 "nbformat": 4,
 "nbformat_minor": 5
}
