{
 "cells": [
  {
   "cell_type": "markdown",
   "id": "83dea078-c0ee-4e8f-b47e-742e5b63f6c1",
   "metadata": {},
   "source": [
    "# Useful links\n",
    "\n",
    "- [Choosing colourmaps for plotting gridded data](https://matplotlib.org/stable/users/explain/colors/colormaps.html) - you can reverse a colourmap by adding '_r' to its name, eg. 'RdBu_r'\n",
    "- [List of named colours for plotting time series](https://matplotlib.org/stable/gallery/color/named_colors.html)"
   ]
  },
  {
   "cell_type": "markdown",
   "id": "deb901e0-c7dd-46af-8295-71c435b52e60",
   "metadata": {},
   "source": [
    "# Import required packages"
   ]
  },
  {
   "cell_type": "code",
   "execution_count": null,
   "id": "b3e13e40-cbcf-46ae-9846-aa3ec75ce657",
   "metadata": {},
   "outputs": [],
   "source": [
    "import xarray as xr                                                  # handles gridded data\n",
    "import numpy as np                                                   # numerical functions etc\n",
    "import pandas as pd                                                  # handles tables of data (.csv, spreadsheets etc)\n",
    "import re                                                            # allows manipulation of text strings\n",
    "\n",
    "import matplotlib                                                    # plotting functions generally\n",
    "import matplotlib.pyplot as plt                                      # specific plotting function we'll use a lot, so we'll give it a shorter name\n",
    "from matplotlib.patches import Rectangle                             # specific plotting function with an annoyingly long name\n",
    "\n",
    "import statsmodels.nonparametric.smoothers_lowess as sm_lowess       # nonparametric smoother\n",
    "\n",
    "import cartopy                                                       # plotting geographical features\n",
    "import regionmask                                                    # convert shapefile to binary 0,1 mask\n",
    "import geopandas as gpd                                              # shapefiles\n",
    "\n",
    "from geopy.geocoders import Nominatim                                # get lat & lon coordinates from a place name\n",
    "from dateutil.relativedelta import relativedelta                     # calculate differences in times (needed to decode weird timestamps)\n",
    "\n",
    "# filter out any annoying user warnings\n",
    "import warnings\n",
    "warnings.filterwarnings(\"ignore\", category = UserWarning)\n",
    "\n",
    "# you might get an error like 'ERROR 1: PROJ: proj_create_from_database: Open of /rds/general/user/cb2714/home/anaconda3/envs/wwa/share/proj failed' - you can ignore this!"
   ]
  },
  {
   "cell_type": "markdown",
   "id": "2e030e2e-1909-41c1-b6f9-e96b5ce8e00c",
   "metadata": {},
   "source": [
    "# Useful functions"
   ]
  },
  {
   "cell_type": "code",
   "execution_count": null,
   "id": "bf0b07aa-68ac-4742-928c-1d25b988ed45",
   "metadata": {},
   "outputs": [],
   "source": [
    "def wrap_lon(ds):\n",
    "    \n",
    "    # 'wrap' longitudes from (0,360) to (-180,180) & sort into ascending order\n",
    "    \n",
    "    if \"longitude\" in ds.coords:\n",
    "        lon = \"longitude\"\n",
    "        lat = \"latitude\"\n",
    "    elif \"lon\" in ds.coords:\n",
    "        lon = \"lon\"\n",
    "        lat = \"lat\"\n",
    "    else: \n",
    "        # can only wrap longitude\n",
    "        return ds\n",
    "    \n",
    "    if ds[lon].max() > 180:\n",
    "        ds[lon] = (ds[lon].dims, (((ds[lon].values + 180) % 360) - 180), ds[lon].attrs)\n",
    "        \n",
    "    if lon in ds.dims:\n",
    "        ds = ds.reindex({ lon : np.sort(ds[lon]) })\n",
    "        ds = ds.reindex({ lat : np.sort(ds[lat]) })\n",
    "    return ds\n",
    "\n",
    "#~~~~~~~~~~~~~~~~~~~~~~~~~~~~~~~~~~~~~~~~~~~~~~~~~~~~~~~~~~~~~~~~~~~~~~~~~~~~~~~~~~~~~~~~~~~~~~~~~~~~~~~~~~\n",
    "def decode_times(ts):\n",
    "    \n",
    "    # manually decode times\n",
    "    \n",
    "    inc = re.sub(\" .+\", \"\", ts.time.units)\n",
    "    startdate = pd.Timestamp(re.sub(\".+since \", \"\", ts.time.units)+' 00:00:00.000000').to_pydatetime()\n",
    "    \n",
    "    if inc == \"years\":\n",
    "        new_times = [np.datetime64(startdate + relativedelta(years = i)) for i in ts.time.values]\n",
    "    elif inc == \"months\":\n",
    "        new_times = [np.datetime64(startdate + relativedelta(months = i)) for i in ts.time.values]\n",
    "    elif inc == \"days\":\n",
    "        new_times = [np.datetime64(startdate + relativedelta(days = i)) for i in ts.time.values]\n",
    "    elif inc == \"hours\":\n",
    "        new_times = [np.datetime64(startdate + relativedelta(hours = i)) for i in ts.time.values]\n",
    "    else:\n",
    "        print(\"TBD: \" +inc)\n",
    "        return\n",
    "        \n",
    "    ts = ts.assign_coords(time = new_times)\n",
    "    \n",
    "    return ts\n",
    "\n",
    "#~~~~~~~~~~~~~~~~~~~~~~~~~~~~~~~~~~~~~~~~~~~~~~~~~~~~~~~~~~~~~~~~~~~~~~~~~~~~~~~~~~~~~~~~~~~~~~~~~~~~~~~~~~\n",
    "def get_latlon(city):\n",
    "    \n",
    "    # retrieve lat & lon for given place name\n",
    "    location = Nominatim(user_agent=\"GetLoc\").geocode(city)\n",
    "    if location is None:\n",
    "        return {\"lon\" : None, \"lat\" : None}\n",
    "    else:\n",
    "        return {\"lon\" : location.longitude, \"lat\" : location.latitude}\n",
    "        \n",
    "#~~~~~~~~~~~~~~~~~~~~~~~~~~~~~~~~~~~~~~~~~~~~~~~~~~~~~~~~~~~~~~~~~~~~~~~~~~~~~~~~~~~~~~~~~~~~~~~~~~~~~~~~~~\n",
    "def doy_axes(ax = None):\n",
    "\n",
    "    # make nicer axis labels when you're plotting against day of year\n",
    "    if ax is None: ax = plt.gca()\n",
    "    \n",
    "    # define axis labels for DOY plotting\n",
    "    days = pd.date_range(start = \"2020-01-01\", end = \"2020-12-31\")\n",
    "    lineticks = [i+1 for i in range(366) if (days[i].day) == 1]\n",
    "    labelticks = [i+1 for i in range(366) if (days[i].day) == 16]\n",
    "    labels = [days[i].strftime(\"%b\") for i in range(366) if (days[i].day) == 16]\n",
    "\n",
    "    # actually draw the axes & gridlines\n",
    "    ax.set_xticks(labelticks)\n",
    "    ax.set_xticklabels(labels)\n",
    "    [ax.axvline(x, color = \"k\", alpha = 0.1, lw = 1) for x in lineticks]\n",
    "    ax.set_xlabel(\"\")"
   ]
  },
  {
   "cell_type": "markdown",
   "id": "527e05e7-9a9d-41bb-9201-3211ff16f373",
   "metadata": {},
   "source": [
    "# Load & plot gridded data"
   ]
  },
  {
   "cell_type": "markdown",
   "id": "f2f7bfed-f94f-4d4b-9b0c-fb45c8524b6d",
   "metadata": {},
   "source": [
    "## Load a netcdf (.nc) file"
   ]
  },
  {
   "cell_type": "code",
   "execution_count": null,
   "id": "f72c197b-10f7-472e-b55f-4f659145fefe",
   "metadata": {},
   "outputs": [],
   "source": [
    "# open a dataset and clean up the lats & lons\n",
    "ds = wrap_lon(xr.open_dataset(\"era5_tp_daily_eu_extended_10.7-25E_46-52.3N_1950-2024_su.nc\"))    # change filename to use different data\n",
    "\n",
    "# sometimes you'll try to load data with a date format that python can't decode (ie. annual data from the climate explorer) - in that case, try\n",
    "# ds = decode_times(xr.open_dataset(\"\"era5_tp_daily_eu_extended_10.7-25E_46-52.3N_1950-2024_su.nc\", decode_times = False)).tp\n",
    "\n",
    "# select the variable you're interested in (even though there may only be one in the dataset)\n",
    "ds = ds.tp"
   ]
  },
  {
   "cell_type": "markdown",
   "id": "6c69773e-466c-48f3-8ec4-a51d6c76a997",
   "metadata": {},
   "source": [
    "## Select only land cells\n",
    "\n",
    "If your chosen area contains both land and sea, you usually only want to look at values over the land.  \n",
    "The `regionmask` package provides predefined shapefiles for coastlines, which can be used to select only the land surface."
   ]
  },
  {
   "cell_type": "code",
   "execution_count": null,
   "id": "81224038-34ee-4899-a7fe-66125413b211",
   "metadata": {},
   "outputs": [],
   "source": [
    "# create a mask where all points in the sea are NA\n",
    "rm = regionmask.defined_regions.natural_earth_v5_0_0.land_50.mask(ds.lon, ds.lat)\n",
    "\n",
    "# mask out any values that aren't on land\n",
    "ds = ds.where(rm == 0)"
   ]
  },
  {
   "cell_type": "markdown",
   "id": "6457f164-8717-4469-a005-cbc35124a134",
   "metadata": {},
   "source": [
    "## Plot a single day"
   ]
  },
  {
   "cell_type": "code",
   "execution_count": null,
   "id": "f56bafab-cc08-4df7-84e8-11f2e4aabd98",
   "metadata": {},
   "outputs": [],
   "source": [
    "# select a single day of data to plot\n",
    "ds_event = ds.sel(time = \"2024-09-14\")\n",
    "\n",
    "# get the max & min lat & lon so we can fix the plotting area\n",
    "data_area = (ds.lon.min(), ds.lon.max(), ds.lat.min(), ds.lat.max())\n",
    "\n",
    "# MAKE THE {PLOT}\n",
    "fig = ds_event.plot(cmap = \"YlGnBu\",                                                       # colour scheme to use for plotting\n",
    "                    vmin = 0, vmax = 100,                                                  # set min & max values for colour scale\n",
    "                    subplot_kws = {\"projection\" : cartopy.crs.PlateCarree(),               # tell it which projection to use\n",
    "                                   \"extent\" : data_area                                    # only plot the area covered by the data\n",
    "                                  },     \n",
    "                    cbar_kwargs = {\"location\" : \"bottom\",                                  # move the colourbar (scale bar) to the bottom\n",
    "                                   \"label\" : \"Precipitation (mm/day)\"})                    # relabel the colourbar\n",
    "\n",
    "\n",
    "# Add some extra labels to the plot\n",
    "ax = fig.axes                                                                          # give a name to the figure axes so that we can add extra elements\n",
    "ax.add_feature(cartopy.feature.BORDERS, ls = \"--\", alpha = 0.6)                            # add national borders\n",
    "ax.gridlines(color = \"k\", alpha = 0.1, draw_labels = [\"bottom\", \"left\"])                   # add gridlines\n",
    "ax.coastlines(color = \"k\")                                                                 # add coastlines\n",
    "\n",
    "# save the figure for later use\n",
    "plt.savefig(\"example-plot.png\", bbox_inches = \"tight\")                                     # bbox_inches removes any white space around the edges of the plot"
   ]
  },
  {
   "cell_type": "markdown",
   "id": "b35f7a82-1741-40d3-9fb2-57238ee125fc",
   "metadata": {},
   "source": [
    "## Plot several days together"
   ]
  },
  {
   "cell_type": "code",
   "execution_count": null,
   "id": "027baaac-f6d3-4b5c-b3ba-23bbf4ef9995",
   "metadata": {
    "scrolled": true
   },
   "outputs": [],
   "source": [
    "# select a range of dates to plot (not too many or the plots will be tiny!)\n",
    "ds_event = ds.sel(time = slice(\"2024-09-12\", \"2024-09-16\"))\n",
    "\n",
    "# get the extent of the data (this will help to avoid messy plots when we add geographic features)\n",
    "data_area = (ds.lon.min(), ds.lon.max(), ds.lat.min(), ds.lat.max())\n",
    "\n",
    "fig = ds_event.plot(col = \"time\",                                       # each panel should show a different time\n",
    "                    col_wrap = 3,                                       # number of panels to show per row\n",
    "                    cmap = \"YlGnBu\",                                    # colour scheme to use for plotting\n",
    "                    vmin = 0, vmax = 100,                               # set min & max values for colour scale\n",
    "                    # specify the projection for each panel\n",
    "                    subplot_kws = {\n",
    "                        \"projection\" : cartopy.crs.PlateCarree(),       # map projection so that we can add geographic features\n",
    "                        \"extent\" : data_area                            # only plot the area covered by the data\n",
    "                    },     \n",
    "                    # specify how the colour bar should look\n",
    "                    cbar_kwargs = {\n",
    "                        \"location\" : \"bottom\",                          # move the colourbar (scale bar) to the bottom\n",
    "                        \"label\" : \"Precipitation (mm/day)\",             # relabel the colourbar\n",
    "                        \"fraction\" : 0.025,                             # how big the colourbar should be\n",
    "                        \"pad\" : 0.1                                     # how much space between the colourbar and the panels\n",
    "                    })            \n",
    "\n",
    "# this time, we have to add the borders and gridlines to each panel individually\n",
    "for ax in fig.axs.flat:\n",
    "    ax.add_feature(cartopy.feature.BORDERS, ls = \"--\", alpha = 0.6)                # add national borders\n",
    "    ax.gridlines(color = \"k\", alpha = 0.1)                                         # add gridlines but don't draw the labels\n",
    "    ax.coastlines(color = \"k\")                                                     # add coastlines\n",
    "    \n",
    "for ax in fig.axs[:,0]: ax.gridlines(alpha = 0, draw_labels = [\"left\"])            # y-labels on leftmost column\n",
    "for ax in fig.axs[-1,:]: ax.gridlines(alpha = 0, draw_labels = [\"bottom\"])         # x-labels on the bottom row \n",
    "\n",
    "# Optional: manually set the title of each panel (make sure you make as many titles as there are panels!)\n",
    "# titles = [\"Day 1\", \"Day 2\", \"Day 3\", \"Day 4\", \"Day 5\"]\n",
    "# for ax, title in zip(fig.axs.flat, titles):\n",
    "#     ax.set_title(title)"
   ]
  },
  {
   "cell_type": "markdown",
   "id": "099f3564-3e86-4de2-9377-65214aab3541",
   "metadata": {},
   "source": [
    "## Add sites where impacts occurred"
   ]
  },
  {
   "cell_type": "code",
   "execution_count": null,
   "id": "6f03b489-a860-4534-bb51-df29442b26c6",
   "metadata": {},
   "outputs": [],
   "source": [
    "# make a list of the locations where impacts were reported \n",
    "# these could be a village, city, state, or country - just has to be a real place\n",
    "# you may need to specify the country if more than one place exists with the same name, eg. \"Vienna, Austria\"\n",
    "affected_sites = [\"Vienna\", \"Graz\", \"Glucholazy\", \"Litovel\", \"Lower Austria\"]\n",
    "\n",
    "# use user-defined function to get the coordinates and turn into a table\n",
    "px = pd.DataFrame([get_latlon(s) for s in affected_sites])"
   ]
  },
  {
   "cell_type": "code",
   "execution_count": null,
   "id": "70e6adcf-8c6b-4270-9854-d254385868ac",
   "metadata": {},
   "outputs": [],
   "source": [
    "# replicate the plot that we made above\n",
    "fig = ds_event.plot(col = \"time\",                                       # each panel should show a different time\n",
    "                    col_wrap = 3,                                       # number of panels to show per row\n",
    "                    cmap = \"YlGnBu\",                                    # colour scheme to use for plotting\n",
    "                    vmin = 0, vmax = 100,                               # set min & max values for colour scale\n",
    "                    # specify the projection for each panel\n",
    "                    subplot_kws = {\n",
    "                        \"projection\" : cartopy.crs.PlateCarree(),       # map projection so that we can add geographic features\n",
    "                        \"extent\" : data_area                            # only plot the area covered by the data\n",
    "                    },     \n",
    "                    # specify how the colour bar should look\n",
    "                    cbar_kwargs = {\n",
    "                        \"location\" : \"bottom\",                          # move the colourbar (scale bar) to the bottom\n",
    "                        \"label\" : \"Precipitation (mm/day)\",             # relabel the colourbar\n",
    "                        \"fraction\" : 0.025,                             # how big the colourbar should be\n",
    "                        \"pad\" : 0.1                                     # how much space between the colourbar and the panels\n",
    "                    })            \n",
    "\n",
    "# this time, we have to add the borders and gridlines to each panel individually\n",
    "for ax in fig.axs.flat:\n",
    "    ax.add_feature(cartopy.feature.BORDERS, ls = \"--\", alpha = 0.6)                # add national borders\n",
    "    ax.gridlines(color = \"k\", alpha = 0.1)                                         # add gridlines but don't draw the labels\n",
    "    ax.coastlines(color = \"k\")                                                     # add coastlines\n",
    "    ax.scatter(px.lon, px.lat, marker = \"x\", color = \"red\")                        # **NEW ELEMENT** add points where impacts were reported\n",
    "    \n",
    "for ax in fig.axs[:,0]: ax.gridlines(alpha = 0, draw_labels = [\"left\"])            # y-labels on leftmost column\n",
    "for ax in fig.axs[-1,:]: ax.gridlines(alpha = 0, draw_labels = [\"bottom\"])         # x-labels on the bottom row \n",
    "\n",
    "# Optional: manually set the title of each panel (make sure you make as many titles as there are panels!)\n",
    "# titles = [\"Day 1\", \"Day 2\", \"Day 3\", \"Day 4\", \"Day 5\"]\n",
    "# for ax, title in zip(fig.axs.flat, titles):\n",
    "#     ax.set_title(title)"
   ]
  },
  {
   "cell_type": "markdown",
   "id": "d11ef261-b338-4cec-b900-368adb270b82",
   "metadata": {},
   "source": [
    "# Daily anomalies"
   ]
  },
  {
   "cell_type": "markdown",
   "id": "3ef29f30-ed57-419c-8558-e1140e159689",
   "metadata": {},
   "source": [
    "## Calculate daily anomalies"
   ]
  },
  {
   "cell_type": "code",
   "execution_count": null,
   "id": "7721ef20-ead5-431a-8fc6-ece3f47dd431",
   "metadata": {},
   "outputs": [],
   "source": [
    "# select only the period that we want to compare (could be the whole year, could be just selected months)\n",
    "ds_subset = ds.sel(time = ds.time.dt.month.isin([5,6,7,8,9]))\n",
    "\n",
    "# calculate the mean daily rainfall during those months from 1990-2020 (standard climatology period)\n",
    "ds_clim = ds_subset.sel(time = slice(\"1990\", \"2020\")).mean(\"time\")\n",
    "\n",
    "# calculate the daily anomalies with respect to this climatology\n",
    "ds_anom = ds_subset - ds_clim"
   ]
  },
  {
   "cell_type": "markdown",
   "id": "df1a53a4-c80f-41c5-b32e-3f54944c1b0c",
   "metadata": {},
   "source": [
    "## Plot daily anomalies"
   ]
  },
  {
   "cell_type": "code",
   "execution_count": null,
   "id": "2d5a34b2-f9d5-434d-849e-e06df9cd84c0",
   "metadata": {},
   "outputs": [],
   "source": [
    "# select just the dates we're interested in plotting\n",
    "ds_event_anom = ds_anom.sel(time = slice(\"2024-09-12\", \"2024-09-16\"))\n",
    "\n",
    "# replicate the plot that we made above, but this time we should use a DIVERGENT colour scheme and set the vmin and vmax to be symmetric about zero\n",
    "fig = ds_event_anom.plot(col = \"time\",                                       # each panel should show a different time\n",
    "                         col_wrap = 3,                                       # number of panels to show per row\n",
    "                         cmap = \"BrBG\",                                    # colour scheme to use for plotting\n",
    "                         vmin = -100, vmax = 100,                               # set min & max values for colour scale\n",
    "                         # specify the projection for each panel\n",
    "                         subplot_kws = {\n",
    "                             \"projection\" : cartopy.crs.PlateCarree(),       # map projection so that we can add geographic features\n",
    "                             \"extent\" : data_area                            # only plot the area covered by the data\n",
    "                         },     \n",
    "                         # specify how the colour bar should look\n",
    "                         cbar_kwargs = {\n",
    "                             \"location\" : \"bottom\",                          # move the colourbar (scale bar) to the bottom\n",
    "                             \"label\" : \"Precipitation (mm/day)\",             # relabel the colourbar\n",
    "                             \"fraction\" : 0.025,                             # how big the colourbar should be\n",
    "                             \"pad\" : 0.1                                     # how much space between the colourbar and the panels\n",
    "                         })     \n",
    "\n",
    "# this time, we have to add the borders and gridlines to each panel individually\n",
    "for ax in fig.axs.flat:\n",
    "    ax.add_feature(cartopy.feature.BORDERS, ls = \"--\", alpha = 0.6)                # add national borders\n",
    "    ax.gridlines(color = \"k\", alpha = 0.1)                                         # add gridlines but don't draw the labels\n",
    "    ax.coastlines(color = \"k\")                                                     # add coastlines\n",
    "    ax.scatter(px.lon, px.lat, marker = \"x\", color = \"red\")                        # **NEW ELEMENT** add points where impacts were reported\n",
    "    \n",
    "for ax in fig.axs[:,0]: ax.gridlines(alpha = 0, draw_labels = [\"left\"])            # y-labels on leftmost column\n",
    "for ax in fig.axs[-1,:]: ax.gridlines(alpha = 0, draw_labels = [\"bottom\"])         # x-labels on the bottom row "
   ]
  },
  {
   "cell_type": "markdown",
   "id": "b1a3cb3e-9536-4cc7-aa34-c5bf0ed6c981",
   "metadata": {},
   "source": [
    "# Maps of accumulations (the 'event map')"
   ]
  },
  {
   "cell_type": "code",
   "execution_count": null,
   "id": "01afac2e-39d9-4de8-bc8c-ad6c2a96d2a1",
   "metadata": {},
   "outputs": [],
   "source": [
    "# how many days to accumulate? (how long did the event last)\n",
    "ndays = 4\n",
    "\n",
    "# get the n-day rolling mean (could also use the sum for precipitation, if preferred)\n",
    "ds_nday = ds.rolling(time = ndays, center = False).mean()"
   ]
  },
  {
   "cell_type": "code",
   "execution_count": null,
   "id": "9047820e-61c1-48a5-a7cc-4f9fb7ab81cf",
   "metadata": {},
   "outputs": [],
   "source": [
    "# select the date on which the event finished\n",
    "nday_event = ds_nday.sel(time = \"2024-09-16\")\n",
    "\n",
    "# plot the n-day event\n",
    "fig = nday_event.plot(cmap = \"YlGnBu\",                                    # colour scheme to use for plotting\n",
    "                      vmin = 0, vmax = 75,                               # set min & max values for colour scale\n",
    "                      # specify the projection for each panel\n",
    "                      subplot_kws = {\n",
    "                          \"projection\" : cartopy.crs.PlateCarree(),       # map projection so that we can add geographic features\n",
    "                          \"extent\" : data_area                            # only plot the area covered by the data\n",
    "                      },     \n",
    "                      # specify how the colour bar should look\n",
    "                      cbar_kwargs = {\n",
    "                          \"location\" : \"bottom\",                          # move the colourbar (scale bar) to the bottom\n",
    "                          \"label\" : \"Precipitation (mm/day)\",             # relabel the colourbar\n",
    "                          \"fraction\" : 0.025,                             # how big the colourbar should be\n",
    "                          \"pad\" : 0.1                                     # how much space between the colourbar and the panels\n",
    "                      })            \n",
    "\n",
    "ax = fig.axes\n",
    "ax.add_feature(cartopy.feature.BORDERS, ls = \"--\", alpha = 0.6)            # add national borders\n",
    "ax.gridlines(color = \"k\", alpha = 0.1, draw_labels = [\"bottom\", \"left\"])   # add gridlines\n",
    "ax.coastlines(color = \"k\")                                                 # add coastlines\n",
    "ax.scatter(px.lon, px.lat, marker = \"x\", color = \"red\")                    # add points where impacts were reported\n",
    "\n",
    "# give this panel a better title\n",
    "ax.set_title(\"Average daily rainfall from September 13th-16th\")"
   ]
  },
  {
   "cell_type": "markdown",
   "id": "4117e298-ba7d-48cd-9d3f-46d1dce568dd",
   "metadata": {},
   "source": [
    "# Averaging over an area"
   ]
  },
  {
   "cell_type": "markdown",
   "id": "e8aec17d-7f6c-488c-a705-0f183ba979ee",
   "metadata": {},
   "source": [
    "## Square/rectangular area\n",
    "\n",
    "\n",
    "If you're looking at a region with both land and sea, remember to mask out the land first (see below)"
   ]
  },
  {
   "cell_type": "code",
   "execution_count": null,
   "id": "64b7d7d7-026a-4ef0-be9f-d268f69fbbd7",
   "metadata": {},
   "outputs": [],
   "source": [
    "# set the region we want to draw a box around\n",
    "xn,xx,yn,yx = [14,18,47,51]"
   ]
  },
  {
   "cell_type": "code",
   "execution_count": null,
   "id": "e6e247cb-e363-43e7-831d-fc29a5055948",
   "metadata": {},
   "outputs": [],
   "source": [
    "# check the region by adding it to the plot\n",
    "fig = nday_event.plot(cmap = \"YlGnBu\",                                    # colour scheme to use for plotting\n",
    "                      vmin = 0, vmax = 75,                               # set min & max values for colour scale\n",
    "                      # specify the projection for each panel\n",
    "                      subplot_kws = {\n",
    "                          \"projection\" : cartopy.crs.PlateCarree(),       # map projection so that we can add geographic features\n",
    "                          \"extent\" : data_area                            # only plot the area covered by the data\n",
    "                      },     \n",
    "                      # specify how the colour bar should look\n",
    "                      cbar_kwargs = {\n",
    "                          \"location\" : \"bottom\",                          # move the colourbar (scale bar) to the bottom\n",
    "                          \"label\" : \"Precipitation (mm/day)\",             # relabel the colourbar\n",
    "                          \"fraction\" : 0.025,                             # how big the colourbar should be\n",
    "                          \"pad\" : 0.1                                     # how much space between the colourbar and the panels\n",
    "                      })            \n",
    "\n",
    "ax = fig.axes\n",
    "ax.add_feature(cartopy.feature.BORDERS, ls = \"--\", alpha = 0.6)            # add national borders\n",
    "ax.gridlines(color = \"k\", alpha = 0.1, draw_labels = [\"bottom\", \"left\"])   # add gridlines\n",
    "ax.coastlines(color = \"k\")                                                 # add coastlines\n",
    "ax.scatter(px.lon, px.lat, marker = \"x\", color = \"red\")                    # add points where impacts were reported\n",
    "\n",
    "# draw the box on the map\n",
    "ax.plot([xn,xn,xx,xx,xn], [yn,yx,yx,yn,yn], color = \"darkred\", lw = 2, alpha = 0.5)\n",
    "\n",
    "# give this panel a better title\n",
    "ax.set_title(\"Average daily rainfall from September 13th-16th\")"
   ]
  },
  {
   "cell_type": "code",
   "execution_count": null,
   "id": "eeac2cda-add4-40f7-91aa-557af6d51302",
   "metadata": {},
   "outputs": [],
   "source": [
    "# extract the data over this smaller region only\n",
    "ds_box = ds.sel(lon = slice(xn,xx), lat = slice(yn,yx))\n",
    "\n",
    "# compute spatial average\n",
    "ts_box = ds_box.mean([\"lat\", \"lon\"])\n",
    "\n",
    "# save the data we've extracted\n",
    "ts_box.to_netcdf(\"timeseries_pr-box.nc\")"
   ]
  },
  {
   "cell_type": "markdown",
   "id": "c6c5e5a1-e508-4aec-89d0-a4b1f0474b90",
   "metadata": {},
   "source": [
    "## Pre-loaded regions\n",
    "\n",
    "The `regionmask` package also provides predefined shapefiles for countries and US states.  \n",
    "To use a different regionmask, replace `countries_50` with `us_states_50`"
   ]
  },
  {
   "cell_type": "code",
   "execution_count": null,
   "id": "1f18b734-a5c4-4443-8c76-32e3c9a4bdd2",
   "metadata": {},
   "outputs": [],
   "source": [
    "# load the regionmask so that we can manipulate it\n",
    "sf = regionmask.defined_regions.natural_earth_v5_0_0.countries_50.to_geodataframe()\n",
    "\n",
    "# we'll need to filter the shapefile to idenfity the region(s) of interest\n",
    "# look at the shapefile to see which column we should filter on\n",
    "sf"
   ]
  },
  {
   "cell_type": "code",
   "execution_count": null,
   "id": "9f2a34a8-6bb4-40eb-9fdb-598cd6798b8e",
   "metadata": {},
   "outputs": [],
   "source": [
    "# then we can select a single country, or a list of countries\n",
    "sf_subset = sf.loc[sf.names.isin([\"Austria\", \"Czechia\"])]\n",
    "sf_subset.plot()"
   ]
  },
  {
   "cell_type": "code",
   "execution_count": null,
   "id": "fd1f7fb7-6f6c-4b46-a9b9-6d4c36c8daf2",
   "metadata": {},
   "outputs": [],
   "source": [
    "# we can use this to create a regionmask for the dataset `ds` by selecting only points that lie within the selected region\n",
    "rm = regionmask.mask_geopandas(sf_subset, ds.lon, ds.lat)\n",
    "\n",
    "# coloured points will be included in the selected area\n",
    "rm.plot()"
   ]
  },
  {
   "cell_type": "code",
   "execution_count": null,
   "id": "5ec827f7-6348-4e03-96dc-162f82880b97",
   "metadata": {},
   "outputs": [],
   "source": [
    "# Finally, we can select just the region(s) we're interested in, and average over that\n",
    "ts_countries = ds.where(~np.isnan(rm)).mean([\"lat\", \"lon\"])\n",
    "\n",
    "# save the data we've extracted\n",
    "ts_countries.to_netcdf(\"timeseries_pr-countries.nc\")"
   ]
  },
  {
   "cell_type": "markdown",
   "id": "9151f94f-05e3-4004-be4c-9ce74a8c47be",
   "metadata": {},
   "source": [
    "## Shapefiles from other sources"
   ]
  },
  {
   "cell_type": "markdown",
   "id": "28a35a35-9baf-49ca-abf9-d18ea241c6df",
   "metadata": {},
   "source": [
    "A 'shapefile' is just a collection of points and shapes defining a region, stored as a set of specific files that have to be loaded together.  \n",
    "When you download a shapefile, put all the files into a single folder and tell Python to open that folder.\n",
    "\n",
    "Handy sources for shapefiles:\n",
    "- [The Humanitarian Data Exchange](https://data.humdata.org/dataset?ext_subnational=1&ext_administrative_divisions=1&q=&sort=if(gt(last_modified%2Creview_date)%2Clast_modified%2Creview_date)%20desc&ext_page_size=25) has shapefiles for lots of administrative regions in different countries\n",
    "- [Hydrobasins](https://www.hydrosheds.org/products/hydrobasins) provides nested river basins - you'll have to play around to figure out which 'layer' you need, I usually start at 4 (scroll right down to the bottom to download per continent and start with levels 1-6, the files are much smaller)\n",
    "- [Natural Earth](https://www.naturalearthdata.com/features/) has both political and physical shapefiles\n"
   ]
  },
  {
   "cell_type": "code",
   "execution_count": null,
   "id": "aeccdfd1-cb3f-4ee0-a6f9-23f9c7ff2669",
   "metadata": {},
   "outputs": [],
   "source": [
    "# load the shapefile by loading the directory that contains the files\n",
    "sf = gpd.read_file(\"sf_hybas04/\")\n",
    "\n",
    "# if your shapefile covers a larger area than your data, clip the shapefile to show only the same area\n",
    "data_area = (ds.lon.min().values.item(), ds.lat.min().values.item(), ds.lon.max().values.item(),  ds.lat.max().values.item())\n",
    "sf = sf.clip(data_area)\n",
    "\n",
    "# plot the edge of each shape\n",
    "sf.boundary.plot()"
   ]
  },
  {
   "cell_type": "code",
   "execution_count": null,
   "id": "a8419db8-020b-475e-8f43-add05415534f",
   "metadata": {},
   "outputs": [],
   "source": [
    "# we can shade just one of the shapes at a time to decide which one(s) we want to use\n",
    "fig = sf.boundary.plot()\n",
    "sf.iloc[[12]].plot(ax = fig.axes)"
   ]
  },
  {
   "cell_type": "code",
   "execution_count": null,
   "id": "31b9aa18-c506-46d3-8218-a8352963da84",
   "metadata": {},
   "outputs": [],
   "source": [
    "# once you've chosen a region, we select just that subset of the data\n",
    "sf_subset = sf.iloc[[10,12]]"
   ]
  },
  {
   "cell_type": "code",
   "execution_count": null,
   "id": "5e60fa2c-29aa-433b-899f-eec30ad0758c",
   "metadata": {},
   "outputs": [],
   "source": [
    "# create a regionmask as we did before\n",
    "rm = regionmask.mask_geopandas(sf_subset, ds.lon, ds.lat)\n",
    "\n",
    "# coloured points will be included in the selected area\n",
    "rm.plot()"
   ]
  },
  {
   "cell_type": "code",
   "execution_count": null,
   "id": "f8f22aea-a197-4f4b-8050-28a361139114",
   "metadata": {},
   "outputs": [],
   "source": [
    "# Finally, we can select just the region(s) we're interested in, and average over that\n",
    "ts_sf = ds.where(~np.isnan(rm)).mean([\"lat\", \"lon\"])\n",
    "\n",
    "# save the data we've extracted\n",
    "ts_sf.to_netcdf(\"timeseries_pr-shapefile.nc\")"
   ]
  }
 ],
 "metadata": {
  "kernelspec": {
   "display_name": "Python 3 (ipykernel)",
   "language": "python",
   "name": "python3"
  },
  "language_info": {
   "codemirror_mode": {
    "name": "ipython",
    "version": 3
   },
   "file_extension": ".py",
   "mimetype": "text/x-python",
   "name": "python",
   "nbconvert_exporter": "python",
   "pygments_lexer": "ipython3",
   "version": "3.12.5"
  }
 },
 "nbformat": 4,
 "nbformat_minor": 5
}
