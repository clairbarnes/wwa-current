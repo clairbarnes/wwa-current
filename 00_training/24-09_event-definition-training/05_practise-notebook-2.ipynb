{
 "cells": [
  {
   "cell_type": "markdown",
   "id": "dd8ab424-e3b1-45df-b7eb-958291451a9a",
   "metadata": {},
   "source": [
    "# Import required packages"
   ]
  },
  {
   "cell_type": "code",
   "execution_count": null,
   "id": "1fde74a6-daac-44af-b4fd-277f5107abc1",
   "metadata": {},
   "outputs": [],
   "source": [
    "import xarray as xr                                                  # handles gridded data\n",
    "import numpy as np                                                   # numerical functions etc\n",
    "import pandas as pd                                                  # handles tables of data (.csv, spreadsheets etc)\n",
    "import re                                                            # allows manipulation of text strings\n",
    "\n",
    "import matplotlib                                                    # plotting functions generally\n",
    "import matplotlib.pyplot as plt                                      # specific plotting function we'll use a lot, so we'll give it a shorter name\n",
    "from matplotlib.patches import Rectangle                             # specific plotting function with an annoyingly long name\n",
    "\n",
    "import statsmodels.nonparametric.smoothers_lowess as sm_lowess       # nonparametric smoother\n",
    "\n",
    "import cartopy                                                       # plotting geographical features\n",
    "import regionmask                                                    # convert shapefile to binary 0,1 mask\n",
    "import geopandas as gpd                                              # shapefiles\n",
    "\n",
    "from geopy.geocoders import Nominatim                                # get lat & lon coordinates from a place name\n",
    "from dateutil.relativedelta import relativedelta                     # calculate differences in times (needed to decode weird timestamps)\n",
    "\n",
    "# filter out any annoying user warnings\n",
    "import warnings\n",
    "warnings.filterwarnings(\"ignore\", category = UserWarning)\n",
    "\n",
    "# you might get an error like 'ERROR 1: PROJ: proj_create_from_database: Open of /rds/general/user/cb2714/home/anaconda3/envs/wwa/share/proj failed' - you can ignore this!"
   ]
  },
  {
   "cell_type": "markdown",
   "id": "87f76ba4-c05c-4162-82a6-0afcf5555869",
   "metadata": {},
   "source": [
    "# Useful functions"
   ]
  },
  {
   "cell_type": "code",
   "execution_count": null,
   "id": "5592ceb9-2ceb-44b1-8ee3-e77f3e8fac1f",
   "metadata": {},
   "outputs": [],
   "source": [
    "def wrap_lon(ds):\n",
    "    \n",
    "    # 'wrap' longitudes from (0,360) to (-180,180) & sort into ascending order\n",
    "    \n",
    "    if \"longitude\" in ds.coords:\n",
    "        lon = \"longitude\"\n",
    "        lat = \"latitude\"\n",
    "    elif \"lon\" in ds.coords:\n",
    "        lon = \"lon\"\n",
    "        lat = \"lat\"\n",
    "    else: \n",
    "        # can only wrap longitude\n",
    "        return ds\n",
    "    \n",
    "    if ds[lon].max() > 180:\n",
    "        ds[lon] = (ds[lon].dims, (((ds[lon].values + 180) % 360) - 180), ds[lon].attrs)\n",
    "        \n",
    "    if lon in ds.dims:\n",
    "        ds = ds.reindex({ lon : np.sort(ds[lon]) })\n",
    "        ds = ds.reindex({ lat : np.sort(ds[lat]) })\n",
    "    return ds\n",
    "\n",
    "#~~~~~~~~~~~~~~~~~~~~~~~~~~~~~~~~~~~~~~~~~~~~~~~~~~~~~~~~~~~~~~~~~~~~~~~~~~~~~~~~~~~~~~~~~~~~~~~~~~~~~~~~~~\n",
    "def decode_times(ts):\n",
    "    \n",
    "    # manually decode times\n",
    "    \n",
    "    inc = re.sub(\" .+\", \"\", ts.time.units)\n",
    "    startdate = pd.Timestamp(re.sub(\".+since \", \"\", ts.time.units)+' 00:00:00.000000').to_pydatetime()\n",
    "    \n",
    "    if inc == \"years\":\n",
    "        new_times = [np.datetime64(startdate + relativedelta(years = i)) for i in ts.time.values]\n",
    "    elif inc == \"months\":\n",
    "        new_times = [np.datetime64(startdate + relativedelta(months = i)) for i in ts.time.values]\n",
    "    elif inc == \"days\":\n",
    "        new_times = [np.datetime64(startdate + relativedelta(days = i)) for i in ts.time.values]\n",
    "    elif inc == \"hours\":\n",
    "        new_times = [np.datetime64(startdate + relativedelta(hours = i)) for i in ts.time.values]\n",
    "    else:\n",
    "        print(\"TBD: \" +inc)\n",
    "        return\n",
    "        \n",
    "    ts = ts.assign_coords(time = new_times)\n",
    "    \n",
    "    return ts\n",
    "\n",
    "#~~~~~~~~~~~~~~~~~~~~~~~~~~~~~~~~~~~~~~~~~~~~~~~~~~~~~~~~~~~~~~~~~~~~~~~~~~~~~~~~~~~~~~~~~~~~~~~~~~~~~~~~~~\n",
    "def get_latlon(city):\n",
    "    \n",
    "    # retrieve lat & lon for given place name\n",
    "    location = Nominatim(user_agent=\"GetLoc\").geocode(city)\n",
    "    if location is None:\n",
    "        return {\"lon\" : None, \"lat\" : None}\n",
    "    else:\n",
    "        return {\"lon\" : location.longitude, \"lat\" : location.latitude}\n",
    "        \n",
    "#~~~~~~~~~~~~~~~~~~~~~~~~~~~~~~~~~~~~~~~~~~~~~~~~~~~~~~~~~~~~~~~~~~~~~~~~~~~~~~~~~~~~~~~~~~~~~~~~~~~~~~~~~~\n",
    "def doy_axes(ax = None):\n",
    "\n",
    "    # make nicer axis labels when you're plotting against day of year\n",
    "    if ax is None: ax = plt.gca()\n",
    "    \n",
    "    # define axis labels for DOY plotting\n",
    "    days = pd.date_range(start = \"2020-01-01\", end = \"2020-12-31\")\n",
    "    lineticks = [i+1 for i in range(366) if (days[i].day) == 1]\n",
    "    labelticks = [i+1 for i in range(366) if (days[i].day) == 16]\n",
    "    labels = [days[i].strftime(\"%b\") for i in range(366) if (days[i].day) == 16]\n",
    "\n",
    "    # actually draw the axes & gridlines\n",
    "    ax.set_xticks(labelticks)\n",
    "    ax.set_xticklabels(labels)\n",
    "    [ax.axvline(x, color = \"k\", alpha = 0.1, lw = 1) for x in lineticks]\n",
    "    ax.set_xlabel(\"\")"
   ]
  },
  {
   "cell_type": "markdown",
   "id": "c91697ca-a832-4dce-88ac-409a2a23ef15",
   "metadata": {},
   "source": [
    "# Exercises with gridded data"
   ]
  },
  {
   "cell_type": "code",
   "execution_count": null,
   "id": "1ae1827a-1970-472a-9e66-e7add764af2b",
   "metadata": {},
   "outputs": [],
   "source": [
    "# load the data, call it 'ds'\n",
    "ds = wrap_lon(xr.open_dataset(\"era5_tp_daily_eu_extended_10.7-25E_46-52.3N_1950-2024_su.nc\"))\n",
    "\n",
    "# select just the 'total precipitation' variable (tp)\n",
    "ds = ds.tp"
   ]
  },
  {
   "cell_type": "markdown",
   "id": "cf24f88f-07ca-4a61-a37a-dc85b25ab92b",
   "metadata": {},
   "source": [
    "## Making a map for a single day\n",
    "\n",
    "The `xarray` package can produce nice maps without much user input, but you can also customise them to show the features you're most interested in.  \n",
    "- Modify the code below to show one of the days during Storm Boris in mid-September\n",
    "- Choose a colour scheme and range of values that highlights the severity of the event\n",
    "- Modify the label on the scale bar to say 'Precipitation (mm/day)'."
   ]
  },
  {
   "cell_type": "code",
   "execution_count": null,
   "id": "6aa795b7-1eae-4ba3-b254-935e22ebce0f",
   "metadata": {},
   "outputs": [],
   "source": [
    "# select a single day of data to plot\n",
    "ds_event = ds.sel(time = \"2024-09-01\")\n",
    "\n",
    "# get the max & min lat & lon so we can fix the plotting area\n",
    "data_area = (ds.lon.min(), ds.lon.max(), ds.lat.min(), ds.lat.max())\n",
    "\n",
    "# MAKE THE PLOT\n",
    "fig = ds_event.plot(cmap = \"YlGnBu\",                                                       # colour scheme to use for plotting\n",
    "                    vmin = 0, vmax = 100,                                                  # set min & max values for colour scale\n",
    "                    subplot_kws = {\"projection\" : cartopy.crs.PlateCarree(),               # tell it which projection to use\n",
    "                                   \"extent\" : data_area                                    # only plot the area covered by the data\n",
    "                                  },     \n",
    "                    cbar_kwargs = {\"location\" : \"bottom\",                                  # move the colourbar (scale bar) to the bottom\n",
    "                                   \"label\" : \"precipitation (mmday)\"})                     # relabel the colourbar\n",
    "\n",
    "# Add some extra details to the figure\n",
    "ax = fig.axes                                                                              # give a name to the figure axes so that we can add extra elements\n",
    "ax.add_feature(cartopy.feature.BORDERS, ls = \"--\", alpha = 0.6)                            # add national borders\n",
    "ax.gridlines(color = \"k\", alpha = 0.1, draw_labels = [\"bottom\", \"left\"])                   # add gridlines\n",
    "ax.coastlines(color = \"k\")                                                                 # add coastlines"
   ]
  },
  {
   "cell_type": "markdown",
   "id": "d8a7f9d0-b681-4c37-b090-3105272f229f",
   "metadata": {},
   "source": [
    "## Plotting several days \n",
    "\n",
    "We've been looking at Storm Boris but there was also extensive flooding in the same area in July 1997.  \n",
    "- Modify the code to identify the 4 wettest days in July 1997 and customise the plot as you did above.  \n",
    "- Modify the code to show 4 panels on each row, not 3\n",
    "- Give each panel a title\n",
    "- If you're feeling brave, try resizing the colourbar by modifying the 'fraction' and 'pad' values in cbar_kwargs"
   ]
  },
  {
   "cell_type": "code",
   "execution_count": null,
   "id": "8e722327-0366-49e7-b0eb-0fe80a3d21db",
   "metadata": {},
   "outputs": [],
   "source": [
    "# select a range of dates to plot (not too many or the plots will be tiny!)\n",
    "ds_event = ds.sel(time = slice(\"2024-09-12\", \"2024-09-16\"))\n",
    "\n",
    "# get the extent of the data (this will help to avoid messy plots when we add geographic features)\n",
    "data_area = (ds.lon.min(), ds.lon.max(), ds.lat.min(), ds.lat.max())\n",
    "\n",
    "# MAKE THE PLOT\n",
    "fig = ds_event.plot(col = \"time\",                                       # each panel should show a different time\n",
    "                    col_wrap = 3,                                       # number of panels to show per row\n",
    "                    cmap = \"YlGnBu\",                                    # colour scheme to use for plotting\n",
    "                    vmin = 0, vmax = 100,                               # set min & max values for colour scale\n",
    "                    # specify the projection for each panel\n",
    "                    subplot_kws = {\n",
    "                        \"projection\" : cartopy.crs.PlateCarree(),       # map projection so that we can add geographic features\n",
    "                        \"extent\" : data_area                            # only plot the area covered by the data\n",
    "                    },     \n",
    "                    # specify how the colour bar should look\n",
    "                    cbar_kwargs = {\n",
    "                        \"location\" : \"bottom\",                          # move the colourbar (scale bar) to the bottom\n",
    "                        \"label\" : \"Precipitation (mm/day)\",             # relabel the colourbar\n",
    "                        \"fraction\" : 0.025,                             # how big the colourbar should be\n",
    "                        \"pad\" : 0.1                                     # how much space between the colourbar and the panels\n",
    "                    })            \n",
    "\n",
    "# this time, we have to add the borders and gridlines to each panel individually\n",
    "for ax in fig.axs.flat:\n",
    "    ax.add_feature(cartopy.feature.BORDERS, ls = \"--\", alpha = 0.6)                # add national borders\n",
    "    ax.gridlines(color = \"k\", alpha = 0.1)                                         # add gridlines but don't draw the labels\n",
    "    ax.coastlines(color = \"k\")                                                     # add coastlines\n",
    "    \n",
    "for ax in fig.axs[:,0]: ax.gridlines(alpha = 0, draw_labels = [\"left\"])            # y-labels on leftmost column\n",
    "for ax in fig.axs[-1,:]: ax.gridlines(alpha = 0, draw_labels = [\"bottom\"])         # x-labels on the bottom row \n",
    "\n",
    "# manually set the title of each panel (make sure you make as many titles as there are panels!)\n",
    "titles = [\"Day 1\", \"Day 2\", \"Day 3\", \"Day 4\", \"Day 5\"]\n",
    "for ax, title in zip(fig.axs.flat, titles):\n",
    "    ax.set_title(title)"
   ]
  },
  {
   "cell_type": "markdown",
   "id": "2963c458-47bb-415f-9c11-efdf5ab90557",
   "metadata": {},
   "source": [
    "## Plotting an anomaly\n",
    "\n",
    "We might also want to see how the event compares to the average rainfall during the wet season (approx. May-September in this region).  \n",
    "- Modify the definition of 'ds_rainyseason' to include all months from May-September\n",
    "- Change the climatology period to 1990-2020\n"
   ]
  },
  {
   "cell_type": "code",
   "execution_count": null,
   "id": "f5b4b46c-ae38-4a5a-9098-acab40f3b0d2",
   "metadata": {},
   "outputs": [],
   "source": [
    "# select just the months of the rainy season\n",
    "ds_rainyseason = ds.sel(time = ds.time.dt.month.isin([6,7,8]))\n",
    "\n",
    "# calculate the mean daily rainfall from 1990-2020\n",
    "ds_clim = ds_rainyseason.sel(time = slice(\"1980\", \"2010\")).mean(\"time\")\n",
    "\n",
    "# calculate the daily anomalies with respect to this climatology\n",
    "ds_anom = ds - ds_clim"
   ]
  },
  {
   "cell_type": "markdown",
   "id": "a1416e3c-7e1b-4c66-805d-3eee22772160",
   "metadata": {},
   "source": [
    "Now plot the anomalies during Storm Boris (you'll need to customise the plots as before)\n",
    "\n",
    "- Change the colourmap ('cmap') to one centred at zero (['diverging colourmaps'](https://matplotlib.org/stable/users/explain/colors/colormaps.html#diverging))\n",
    "- Change vmin and vmax so that the scale is centred at zero\n",
    "- Change the panel titles"
   ]
  },
  {
   "cell_type": "code",
   "execution_count": null,
   "id": "339a9203-5da5-4c73-bca7-9aebefda4807",
   "metadata": {},
   "outputs": [],
   "source": [
    "# select a range of dates to plot (not too many or the plots will be tiny!)\n",
    "ds_event = ds_anom.sel(time = slice(\"2024-09-12\", \"2024-09-16\"))\n",
    "\n",
    "# get the extent of the data (this will help to avoid messy plots when we add geographic features)\n",
    "data_area = (ds.lon.min(), ds.lon.max(), ds.lat.min(), ds.lat.max())\n",
    "\n",
    "# MAKE THE PLOT\n",
    "fig = ds_event.plot(col = \"time\",                                       # each panel should show a different time\n",
    "                    col_wrap = 3,                                       # number of panels to show per row\n",
    "                    cmap = \"YlGnBu\",                                    # colour scheme to use for plotting\n",
    "                    vmin = 0, vmax = 100,                               # set min & max values for colour scale\n",
    "                    # specify the projection for each panel\n",
    "                    subplot_kws = {\n",
    "                        \"projection\" : cartopy.crs.PlateCarree(),       # map projection so that we can add geographic features\n",
    "                        \"extent\" : data_area                            # only plot the area covered by the data\n",
    "                    },     \n",
    "                    # specify how the colour bar should look\n",
    "                    cbar_kwargs = {\n",
    "                        \"location\" : \"bottom\",                          # move the colourbar (scale bar) to the bottom\n",
    "                        \"label\" : \"Precipitation (mm/day)\",             # relabel the colourbar\n",
    "                        \"fraction\" : 0.025,                             # how big the colourbar should be\n",
    "                        \"pad\" : 0.1                                     # how much space between the colourbar and the panels\n",
    "                    })            \n",
    "\n",
    "# this time, we have to add the borders and gridlines to each panel individually\n",
    "for ax in fig.axs.flat:\n",
    "    ax.add_feature(cartopy.feature.BORDERS, ls = \"--\", alpha = 0.6)                # add national borders\n",
    "    ax.gridlines(color = \"k\", alpha = 0.1)                                         # add gridlines but don't draw the labels\n",
    "    ax.coastlines(color = \"k\")                                                     # add coastlines\n",
    "    \n",
    "for ax in fig.axs[:,0]: ax.gridlines(alpha = 0, draw_labels = [\"left\"])            # y-labels on leftmost column\n",
    "for ax in fig.axs[-1,:]: ax.gridlines(alpha = 0, draw_labels = [\"bottom\"])         # x-labels on the bottom row \n",
    "\n",
    "# manually set the title of each panel (make sure you make as many titles as there are panels!)\n",
    "titles = [\"Day 1\", \"Day 2\", \"Day 3\", \"Day 4\", \"Day 5\"]\n",
    "for ax, title in zip(fig.axs.flat, titles):\n",
    "    ax.set_title(title)"
   ]
  },
  {
   "cell_type": "markdown",
   "id": "8183fe35-fe29-4835-a2ba-23c90db36604",
   "metadata": {},
   "source": [
    "Now make a copy of the cell above and do the same for the 1997 storm"
   ]
  },
  {
   "attachments": {},
   "cell_type": "markdown",
   "id": "94b88e2c-4553-46d7-97de-723f7cc63c8c",
   "metadata": {},
   "source": [
    "## Get the daily mean over a rectangular region\n",
    "\n",
    "To choose an area, redraw the plots from above, including the box\n",
    "- (optional) add some more place names where impacts were reported (or just towns/cities in the region)\n",
    "- move and resize the box until it captures the impacts and/or worst rainfall during the storm"
   ]
  },
  {
   "cell_type": "code",
   "execution_count": null,
   "id": "91981881-1ce2-4b47-a637-66f53f2fa8f3",
   "metadata": {},
   "outputs": [],
   "source": [
    "# make a list of the locations where impacts were reported \n",
    "affected_sites = [\"Vienna\", \"Graz\", \"Glucholazy\", \"Litovel\", \"Lower Austria\"]\n",
    "\n",
    "px = pd.DataFrame([get_latlon(s) for s in affected_sites])         # get the coordinates and turn into a table"
   ]
  },
  {
   "cell_type": "code",
   "execution_count": null,
   "id": "ba8ef613-de79-4c30-9d15-0a364b23f709",
   "metadata": {},
   "outputs": [],
   "source": [
    "# set the region we want to draw a box around\n",
    "xn,xx,yn,yx = [14,18,47,51]\n",
    "# xn,xx,yn,yx = [20,24,50,52]\n",
    "\n",
    "# select a range of dates to plot (not too many or the plots will be tiny!)\n",
    "ds_event = ds.sel(time = slice(\"2024-09-12\", \"2024-09-16\"))\n",
    "\n",
    "# get the extent of the data (this will help to avoid messy plots when we add geographic features)\n",
    "data_area = (ds.lon.min(), ds.lon.max(), ds.lat.min(), ds.lat.max())\n",
    "\n",
    "# MAKE THE PLOT\n",
    "fig = ds_event.plot(col = \"time\",                                       # each panel should show a different time\n",
    "                    col_wrap = 3,                                       # number of panels to show per row\n",
    "                    cmap = \"YlGnBu\",                                    # colour scheme to use for plotting\n",
    "                    vmin = 0, vmax = 100,                               # set min & max values for colour scale\n",
    "                    # specify the projection for each panel\n",
    "                    subplot_kws = {\n",
    "                        \"projection\" : cartopy.crs.PlateCarree(),       # map projection so that we can add geographic features\n",
    "                        \"extent\" : data_area                            # only plot the area covered by the data\n",
    "                    },     \n",
    "                    # specify how the colour bar should look\n",
    "                    cbar_kwargs = {\n",
    "                        \"location\" : \"bottom\",                          # move the colourbar (scale bar) to the bottom\n",
    "                        \"label\" : \"Precipitation (mm/day)\",             # relabel the colourbar\n",
    "                        \"fraction\" : 0.025,                             # how big the colourbar should be\n",
    "                        \"pad\" : 0.1                                     # how much space between the colourbar and the panels\n",
    "                    })            \n",
    "\n",
    "# this time, we have to add the borders and gridlines to each panel individually\n",
    "for ax in fig.axs.flat:\n",
    "    ax.add_feature(cartopy.feature.BORDERS, ls = \"--\", alpha = 0.6)                          # add national borders\n",
    "    ax.gridlines(color = \"k\", alpha = 0.1)                                                   # add gridlines but don't draw the labels\n",
    "    ax.coastlines(color = \"k\")                                                               # add coastlines\n",
    "    ax.plot([xn,xn,xx,xx,xn], [yn,yx,yx,yn,yn], color = \"darkred\", lw = 2, alpha = 0.5)      # draw the box\n",
    "    \n",
    "for ax in fig.axs[:,0]: ax.gridlines(alpha = 0, draw_labels = [\"left\"])                      # y-labels on leftmost column\n",
    "for ax in fig.axs[-1,:]: ax.gridlines(alpha = 0, draw_labels = [\"bottom\"])                   # x-labels on the bottom row "
   ]
  },
  {
   "cell_type": "markdown",
   "id": "fa4ac539-1332-45f8-95d9-ac39a1d9b9b3",
   "metadata": {},
   "source": [
    "Once you're happy with the selected region, get the daily mean and save as a separate file"
   ]
  },
  {
   "cell_type": "code",
   "execution_count": null,
   "id": "d44bd475-3dff-44c0-ab4e-cee9570a9ad2",
   "metadata": {},
   "outputs": [],
   "source": [
    "# extract the data over this smaller region only\n",
    "ds_box = ds.sel(lon = slice(xn,xx), lat = slice(yn,yx))\n",
    "\n",
    "# compute spatial average\n",
    "ts = ds_box.mean([\"lat\", \"lon\"])\n",
    "\n",
    "# save the data we've extracted\n",
    "ts.to_netcdf(\"timeseries_box.nc\")"
   ]
  },
  {
   "cell_type": "markdown",
   "id": "450bc0d9-4bb0-47e0-8f97-24a589d4154c",
   "metadata": {},
   "source": [
    "# Exercises with time series"
   ]
  },
  {
   "cell_type": "code",
   "execution_count": null,
   "id": "55d14872-91a6-41d2-9c1a-0c92bbd2dcd6",
   "metadata": {},
   "outputs": [],
   "source": [
    "# load the time series data and select the 'tp' variable\n",
    "ts = xr.open_dataset(\"timeseries_box.nc\").tp"
   ]
  },
  {
   "cell_type": "markdown",
   "id": "1bccff88-06d1-4ef7-b102-d547291f19c4",
   "metadata": {},
   "source": [
    "## Plot the seasonal cycle\n",
    "First, it's useful to check the seasonal cycle\n",
    "\n",
    "- Change `sm_days` to calculate a 15-day smoothed seasonal cycle\n",
    "- Change the climatology period to 1990-2020\n",
    "- Give the plot a title"
   ]
  },
  {
   "cell_type": "code",
   "execution_count": null,
   "id": "1310bb9e-e0c7-4f9d-b4fa-9579038b522b",
   "metadata": {},
   "outputs": [],
   "source": [
    "# first smooth the daily time series (mainly for precipitation - for temperatures you could use a shorter window, or even no smoothing, by setting sm_days = 1)\n",
    "sm_days = 1\n",
    "ts_sm = ts.rolling(time = sm_days, center = True).mean()\n",
    "\n",
    "ts_clim = ts_sm.sel(time = slice(\"1980\", \"2010\"))                   # select the time period to compute the climatology\n",
    "mean_by_doy = ts_clim.groupby(\"time.dayofyear\").mean()              # then average over each day of the year and plot\n",
    "\n",
    "# plot the mean & quantiles\n",
    "mean_by_doy.plot()\n",
    "\n",
    "# add nicer axis labels and title\n",
    "ax = plt.gca()                                            # give a name to the axis so that we can add more elements to it below\n",
    "doy_axes()                                                # add nicer labels using user-defined function\n",
    "ax.set_title(\"\")           # give a more meaningful title\n",
    "ax.set_ylabel(\"Precipitation (mm/day)\")                   # give proper units to y-axis"
   ]
  },
  {
   "cell_type": "markdown",
   "id": "19ddc45e-603d-4189-977a-f436209b8780",
   "metadata": {},
   "source": [
    "## Compare 2024 to previous years\n",
    "Now we check how unusual the n-day average was, compared to previous years\n",
    "- We start by checking the daily data. Check whether the 3-day, 5-day and 9-day rolling mean were also unusual.\n",
    "- Make the previous years' rainfall more transparent by reducing `alpha`\n",
    "- Instead of a rolling mean, calculate the rolling sum. What difference does this make?"
   ]
  },
  {
   "cell_type": "code",
   "execution_count": null,
   "id": "e80bfdf0-e677-42c0-b234-b7a87ed615b8",
   "metadata": {
    "scrolled": true,
    "tags": []
   },
   "outputs": [],
   "source": [
    "# first, take the rolling average of the data (set ndays to 1 to see daily)\n",
    "ndays = 1\n",
    "ts_nday = ts.rolling(time = ndays, center = False).mean()\n",
    "\n",
    "# plot just this year to start with\n",
    "ts_y = ts_nday.sel(time = \"2024\")\n",
    "plt.plot(ts_y.time.dt.dayofyear, ts_y, color = \"k\", zorder = 9)       # 'zorder' sets the order the elements appear in the plot - higher zorders are on top of lower zorders\n",
    "\n",
    "# add the climatological mean for reference\n",
    "ts_nday_mean = ts_nday.sel(time = slice(\"1990\", \"2020\")).groupby(\"time.dayofyear\").mean()\n",
    "plt.plot(ts_nday_mean.dayofyear, ts_nday_mean, color = \"darkblue\", alpha = 0.7, zorder = 5)\n",
    "\n",
    "# loop over the other years & plot the annual time series\n",
    "for y in np.unique(ts_nday.time.dt.year):\n",
    "    ts_y = ts_nday.sel(time = str(y))\n",
    "    plt.plot(ts_y.time.dt.dayofyear, ts_y, color = \"tab:blue\", alpha = 1)\n",
    "    \n",
    "# add nicer axis labels and title\n",
    "ax = plt.gca()                                            # give a name to the axis so that we can add more elements to it below\n",
    "doy_axes()                                                # add nicer labels using user-defined function\n",
    "ax.set_title(str(ndays)+\"-day precipitation\")             # give a more meaningful title\n",
    "ax.set_ylabel(\"Precipitation (mm/day)\")                   # give proper units to y-axis"
   ]
  },
  {
   "cell_type": "markdown",
   "id": "c6fc5a2f-26f0-435c-9120-dc000bdcf2b1",
   "metadata": {},
   "source": [
    "## Annual maximum over selected months\n",
    "If the event is unusual partly because of the time of year when it occurred, then you might want to look at only a specific month (or months)\n",
    "- Make a series of the 4-day rolling mean\n",
    "- Modify the definition of 'ts_rainyseason' to include all months from May-September\n",
    "- Change the 5-year running mean to a 15-year running mean - which is easier to "
   ]
  },
  {
   "cell_type": "code",
   "execution_count": null,
   "id": "9dda1059-9e85-4e7a-8453-7e9cabf6fd72",
   "metadata": {},
   "outputs": [],
   "source": [
    "# first, take the rolling average of the data\n",
    "ndays = 1\n",
    "ts_nday = ts.rolling(time = ndays, center = False).mean()\n",
    "\n",
    "# first we choose just the months we're interested in - for example, we might only want to look at the wet season\n",
    "ts_rainyseason = ts_nday.sel(time = ts_nday.time.dt.month.isin([7,8]))\n",
    "\n",
    "# then take the annual maximum\n",
    "ts_max = ts_rainyseason.resample(time = \"YS-JAN\").max()"
   ]
  },
  {
   "cell_type": "markdown",
   "id": "c6c93be7-328e-43af-8c37-df9ed7e309a8",
   "metadata": {},
   "source": [
    "When we plot the data it's useful to include a running mean so that we can more clearly see trends over time\n",
    "- Change the 5-year running mean to a 15-year running mean - which is easier to read?\n",
    "- Change the colour of the running mean to dark blue ([available colours](https://matplotlib.org/stable/gallery/color/named_colors.html#css-colors))\n",
    "- Change the line width of the running mean to 2\n",
    "- Change the label on the running mean to '15-year running mean'"
   ]
  },
  {
   "cell_type": "code",
   "execution_count": null,
   "id": "797a1102-9d6c-4685-8f5b-7d11ad9f6735",
   "metadata": {
    "scrolled": true
   },
   "outputs": [],
   "source": [
    "# compute the running mean of the annual datas\n",
    "ts_sm = ts_max.rolling(time = 5, center = True).mean()\n",
    "\n",
    "# plot the annual data with the running mean\n",
    "ts_max.plot(drawstyle = \"steps-mid\")\n",
    "ts_sm.plot(color = \"tab:blue\", lw = 1, label = \"running mean\")\n",
    "\n",
    "plt.legend()"
   ]
  },
  {
   "cell_type": "markdown",
   "id": "d39654e8-4ef7-4239-bade-aa4a586fa3b5",
   "metadata": {},
   "source": [
    "## Plot a linear trend dependent on GMST"
   ]
  },
  {
   "cell_type": "markdown",
   "id": "d2551a6b-2010-4553-a731-8ed0504b4828",
   "metadata": {},
   "source": [
    "To say anything about the effect of climate change, we have to estimate the strength of the relationship between GMST and our data"
   ]
  },
  {
   "cell_type": "code",
   "execution_count": null,
   "id": "73a03525-63a6-4310-ab1b-3a7534c6d8f7",
   "metadata": {},
   "outputs": [],
   "source": [
    "# first, load the GMST time series and select just the period we're interested in\n",
    "gmst = decode_times(xr.open_dataset(\"igiss_al_gl_a_4yrlo.nc\", decode_times = False)).Ta\n",
    "\n",
    "# select the same years that are in our annual time series\n",
    "gmst = gmst.sel(time = gmst.time.dt.year.isin(ts_max.time.dt.year))\n",
    "\n",
    "# fit a linear trend to GMST by replacing time with gmst values\n",
    "gmst_coeffs = ts_max.assign_coords(time = gmst.values).polyfit(\"time\", deg = 1).polyfit_coefficients\n",
    "\n",
    "# use the estimated coefficients to get the expected temperature in each year\n",
    "gmst_fitted = xr.polyval(gmst, gmst_coeffs)\n",
    "\n",
    "# print the change in annual maxima for each 1 degree of global warming\n",
    "print(\"Change per 1deg GMST increase: \", gmst_coeffs.sel(degree = 1).round(2).values)"
   ]
  },
  {
   "cell_type": "markdown",
   "id": "781affda-b554-4edd-a0b4-36e170819e72",
   "metadata": {},
   "source": [
    "It's useful to compare this to a nonparametric smoother: if the GMST trend is similar to the nonparametric trend, it's likely that GMST is having an effect\n",
    "- Try changing `frac` (the fraction of data included in the smoothing) to understand how the value affects the wiggliness of the line"
   ]
  },
  {
   "cell_type": "code",
   "execution_count": null,
   "id": "9ac923f1-74a0-44b7-a772-fcc819885e92",
   "metadata": {},
   "outputs": [],
   "source": [
    "# get the smoothed values: we want to smooth the values over time\n",
    "ts_np = sm_lowess.lowess(ts_max, ts_max.time.dt.year, frac = 2/3)    # 'frac' determines the fraction of the data used to smooth each point - smaller frac means wigglier line (default is 2/3)\n",
    "\n",
    "# turn the smoothed values back into a dataarray so they're easier to plot\n",
    "ts_np = xr.DataArray(data = ts_np[:,1], dims = [\"time\"], name = \"z\", coords = dict(ts_max.coords))"
   ]
  },
  {
   "cell_type": "markdown",
   "id": "9ec415c7-d6cd-4b64-90f1-5b37cdf10068",
   "metadata": {},
   "source": [
    "Now we can plot the data with the GMST trend and the nonparametric trend\n",
    "- Change the colour of the nonparametric smoother or the GMST trend, so that the contrast between the two is stronger\n",
    "- Do you think the GMST trend fits the data well in this case?"
   ]
  },
  {
   "cell_type": "code",
   "execution_count": null,
   "id": "765c581a-381b-4659-a9ac-bba6f8d97280",
   "metadata": {},
   "outputs": [],
   "source": [
    "# plot the fitted trend against the obs to see if it makes sense (also useful to compare to the nonparametric smoother to see if they look similar)\n",
    "ts_max.plot(drawstyle = \"steps-mid\")\n",
    "ts_np.plot(color = \"darkgreen\", lw = 2, label = \"Nonparametric smoother\")\n",
    "gmst_fitted.plot(color = \"k\", lw = 2, label = \"GMST trend\")\n",
    "\n",
    "plt.legend()"
   ]
  },
  {
   "cell_type": "markdown",
   "id": "d59e616d-7f16-4b98-a55b-947d691a5b82",
   "metadata": {},
   "source": [
    "**Now make a copy of this notebook, download some new data from the Climate Explorer, and try to come up with some useful visualisations!**"
   ]
  },
  {
   "cell_type": "code",
   "execution_count": null,
   "id": "0592f3ee-dd7c-4a1e-ae22-5f64cd9efb45",
   "metadata": {},
   "outputs": [],
   "source": []
  }
 ],
 "metadata": {
  "kernelspec": {
   "display_name": "Python 3 (ipykernel)",
   "language": "python",
   "name": "python3"
  },
  "language_info": {
   "codemirror_mode": {
    "name": "ipython",
    "version": 3
   },
   "file_extension": ".py",
   "mimetype": "text/x-python",
   "name": "python",
   "nbconvert_exporter": "python",
   "pygments_lexer": "ipython3",
   "version": "3.12.5"
  }
 },
 "nbformat": 4,
 "nbformat_minor": 5
}
