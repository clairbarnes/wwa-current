{
 "cells": [
  {
   "cell_type": "markdown",
   "id": "f1844723-f63d-48ea-a46b-8dcfc7cdfe76",
   "metadata": {},
   "source": [
    "# Import required packages"
   ]
  },
  {
   "cell_type": "code",
   "execution_count": null,
   "id": "d1567329-c6e2-4d7a-bb2c-3798377f8f70",
   "metadata": {},
   "outputs": [],
   "source": [
    "import xarray as xr                                                  # handles gridded data\n",
    "import numpy as np                                                   # numerical functions etc\n",
    "import pandas as pd                                                  # handles tables of data (.csv, spreadsheets etc)\n",
    "import re                                                            # allows manipulation of text strings\n",
    "\n",
    "import matplotlib                                                    # plotting functions generally\n",
    "import matplotlib.pyplot as plt                                      # specific plotting function we'll use a lot, so we'll give it a shorter name\n",
    "from matplotlib.patches import Rectangle                             # specific plotting function with an annoyingly long name\n",
    "\n",
    "import statsmodels.nonparametric.smoothers_lowess as sm_lowess       # nonparametric smoother\n",
    "\n",
    "import cartopy                                                       # plotting geographical features\n",
    "import regionmask                                                    # convert shapefile to binary 0,1 mask\n",
    "import geopandas as gpd                                              # shapefiles\n",
    "\n",
    "from geopy.geocoders import Nominatim                                # get lat & lon coordinates from a place name\n",
    "from dateutil.relativedelta import relativedelta                     # calculate differences in times (needed to decode weird timestamps)\n",
    "\n",
    "# you might get an error like 'ERROR 1: PROJ: proj_create_from_database: Open of /rds/general/user/cb2714/home/anaconda3/envs/wwa/share/proj failed' - you can ignore this!"
   ]
  },
  {
   "cell_type": "markdown",
   "id": "1165a3d3-5fd0-4872-a291-498f3ba9dc15",
   "metadata": {},
   "source": [
    "# Useful functions"
   ]
  },
  {
   "cell_type": "code",
   "execution_count": null,
   "id": "4250fb1c-4137-49cb-b760-3f6cd92905d0",
   "metadata": {},
   "outputs": [],
   "source": [
    "def wrap_lon(ds):\n",
    "    \n",
    "    # 'wrap' longitudes from (0,360) to (-180,180) & sort into ascending order\n",
    "    \n",
    "    if \"longitude\" in ds.coords:\n",
    "        lon = \"longitude\"\n",
    "        lat = \"latitude\"\n",
    "    elif \"lon\" in ds.coords:\n",
    "        lon = \"lon\"\n",
    "        lat = \"lat\"\n",
    "    else: \n",
    "        # can only wrap longitude\n",
    "        return ds\n",
    "    \n",
    "    if ds[lon].max() > 180:\n",
    "        ds[lon] = (ds[lon].dims, (((ds[lon].values + 180) % 360) - 180), ds[lon].attrs)\n",
    "        \n",
    "    if lon in ds.dims:\n",
    "        ds = ds.reindex({ lon : np.sort(ds[lon]) })\n",
    "        ds = ds.reindex({ lat : np.sort(ds[lat]) })\n",
    "    return ds\n",
    "\n",
    "#~~~~~~~~~~~~~~~~~~~~~~~~~~~~~~~~~~~~~~~~~~~~~~~~~~~~~~~~~~~~~~~~~~~~~~~~~~~~~~~~~~~~~~~~~~~~~~~~~~~~~~~~~~\n",
    "def decode_times(ts):\n",
    "    \n",
    "    # manually decode times\n",
    "    \n",
    "    inc = re.sub(\" .+\", \"\", ts.time.units)\n",
    "    startdate = pd.Timestamp(re.sub(\".+since \", \"\", ts.time.units)+' 00:00:00.000000').to_pydatetime()\n",
    "    \n",
    "    if inc == \"years\":\n",
    "        new_times = [np.datetime64(startdate + relativedelta(years = i)) for i in ts.time.values]\n",
    "    elif inc == \"months\":\n",
    "        new_times = [np.datetime64(startdate + relativedelta(months = i)) for i in ts.time.values]\n",
    "    elif inc == \"days\":\n",
    "        new_times = [np.datetime64(startdate + relativedelta(days = i)) for i in ts.time.values]\n",
    "    elif inc == \"hours\":\n",
    "        new_times = [np.datetime64(startdate + relativedelta(hours = i)) for i in ts.time.values]\n",
    "    else:\n",
    "        print(\"TBD: \" +inc)\n",
    "        return\n",
    "        \n",
    "    ts = ts.assign_coords(time = new_times)\n",
    "    \n",
    "    return ts\n",
    "\n",
    "#~~~~~~~~~~~~~~~~~~~~~~~~~~~~~~~~~~~~~~~~~~~~~~~~~~~~~~~~~~~~~~~~~~~~~~~~~~~~~~~~~~~~~~~~~~~~~~~~~~~~~~~~~~\n",
    "def get_latlon(city):\n",
    "    \n",
    "    # retrieve lat & lon for given place name\n",
    "    location = Nominatim(user_agent=\"GetLoc\").geocode(city)\n",
    "    if location is None:\n",
    "        return {\"lon\" : None, \"lat\" : None}\n",
    "    else:\n",
    "        return {\"lon\" : location.longitude, \"lat\" : location.latitude}\n",
    "        \n",
    "#~~~~~~~~~~~~~~~~~~~~~~~~~~~~~~~~~~~~~~~~~~~~~~~~~~~~~~~~~~~~~~~~~~~~~~~~~~~~~~~~~~~~~~~~~~~~~~~~~~~~~~~~~~\n",
    "def doy_axes(ax = None):\n",
    "\n",
    "    # make nicer axis labels when you're plotting against day of year\n",
    "    if ax is None: ax = plt.gca()\n",
    "    \n",
    "    # define axis labels for DOY plotting\n",
    "    days = pd.date_range(start = \"2020-01-01\", end = \"2020-12-31\")\n",
    "    lineticks = [i+1 for i in range(366) if (days[i].day) == 1]\n",
    "    labelticks = [i+1 for i in range(366) if (days[i].day) == 16]\n",
    "    labels = [days[i].strftime(\"%b\") for i in range(366) if (days[i].day) == 16]\n",
    "\n",
    "    # actually draw the axes & gridlines\n",
    "    ax.set_xticks(labelticks)\n",
    "    ax.set_xticklabels(labels)\n",
    "    [ax.axvline(x, color = \"k\", alpha = 0.1, lw = 1) for x in lineticks]\n",
    "    ax.set_xlabel(\"\")"
   ]
  },
  {
   "cell_type": "markdown",
   "id": "0071368e-2622-4718-a69a-1c039887fc3a",
   "metadata": {},
   "source": [
    "# Load & plot gridded data"
   ]
  },
  {
   "cell_type": "code",
   "execution_count": null,
   "id": "1d8c32c5-09c7-431b-9e8d-dea46a8b4ce1",
   "metadata": {},
   "outputs": [],
   "source": [
    "# open a dataset\n",
    "xr.open_dataset(\"era5_tp_daily_eu_extended_10.7-25E_46-52.3N_1950-2024_su.nc\")"
   ]
  },
  {
   "cell_type": "code",
   "execution_count": null,
   "id": "42155f4a-3c90-4953-a9c9-d37738378f8a",
   "metadata": {},
   "outputs": [],
   "source": [
    "# load the data and select just the total precipitation (tp), call it 'ds'\n",
    "ds = xr.open_dataset(\"era5_tp_daily_eu_extended_10.7-25E_46-52.3N_1950-2024_su.nc\").tp"
   ]
  },
  {
   "cell_type": "markdown",
   "id": "884f1f6e-aaa1-4a87-acc9-575837224f4e",
   "metadata": {},
   "source": [
    "## Plot a single day"
   ]
  },
  {
   "cell_type": "markdown",
   "id": "c19e23ce-4e4a-4136-a2b4-e32d75f7765c",
   "metadata": {},
   "source": [
    "We can use the inbuilt plotting function to get a quick overview of the data"
   ]
  },
  {
   "cell_type": "code",
   "execution_count": null,
   "id": "85bd4378-254d-403e-aa97-bc8deb1203b0",
   "metadata": {},
   "outputs": [],
   "source": [
    "ds.sel(time = \"2024-09-16\").plot()"
   ]
  },
  {
   "cell_type": "markdown",
   "id": "530c42de-74a1-477b-82c6-84d244fb1589",
   "metadata": {},
   "source": [
    "We can change the colour mapping to suit that hazard that we're looking at (https://matplotlib.org/stable/users/explain/colors/colormaps.html)  \n",
    "For example, `RdBu_r` (Red-blue reversed) is good for temperatures\n",
    "`YlGnBu` (Yellow-green) is good for precipitation"
   ]
  },
  {
   "cell_type": "code",
   "execution_count": null,
   "id": "16d52505-d23d-42fe-98c9-e24e2d9f0562",
   "metadata": {},
   "outputs": [],
   "source": [
    "ds.sel(time = \"2024-09-14\").plot(cmap = \"YlGnBu\")"
   ]
  },
  {
   "cell_type": "code",
   "execution_count": null,
   "id": "5374eafa-8246-4674-9458-1ee52e5135e9",
   "metadata": {},
   "outputs": [],
   "source": [
    "# we can add country borders and gridlines to get a better sense of the area that we're looking at\n",
    "# first we need to specify which map projection we want to plot on, and call the figure 'fig' so that we can add elements to it\n",
    "fig = ds.sel(time = \"2024-09-14\").plot(cmap = \"YlGnBu\", \n",
    "                                       subplot_kws = {\"projection\" : cartopy.crs.PlateCarree()})\n",
    "\n",
    "# then add borders & gridlines\n",
    "fig.axes.add_feature(cartopy.feature.BORDERS)\n",
    "fig.axes.gridlines(color = \"k\", alpha = 0.1, draw_labels = [\"bottom\", \"left\"])"
   ]
  },
  {
   "cell_type": "code",
   "execution_count": null,
   "id": "1e530e7f-ae0a-4143-b553-c28e377cde52",
   "metadata": {},
   "outputs": [],
   "source": [
    "# we can change the opacity & style of the national boundaries\n",
    "fig = ds.sel(time = \"2024-09-14\").plot(cmap = \"YlGnBu\", \n",
    "                                       subplot_kws = {\"projection\" : cartopy.crs.PlateCarree()})\n",
    "\n",
    "fig.axes.add_feature(cartopy.feature.BORDERS, ls = \"--\", alpha = 0.6)\n",
    "fig.axes.gridlines(color = \"k\", alpha = 0.1, draw_labels = [\"bottom\", \"left\"])"
   ]
  },
  {
   "cell_type": "code",
   "execution_count": null,
   "id": "cd4ccae8-db37-437d-ac5b-0e98ae5b7525",
   "metadata": {},
   "outputs": [],
   "source": [
    "# we can also move the scale bar to somewhere more aesthetically pleasing\n",
    "fig = ds.sel(time = \"2024-09-14\").plot(cmap = \"YlGnBu\", \n",
    "                                       subplot_kws = {\"projection\" : cartopy.crs.PlateCarree()},\n",
    "                                       cbar_kwargs = {\"location\" : \"bottom\"})\n",
    "\n",
    "fig.axes.add_feature(cartopy.feature.BORDERS, ls = \"--\", alpha = 0.6)\n",
    "fig.axes.gridlines(color = \"k\", alpha = 0.1, draw_labels = [\"bottom\", \"left\"])"
   ]
  },
  {
   "cell_type": "code",
   "execution_count": null,
   "id": "b4e896b2-f1af-4e06-9eb6-c5d2b522bce9",
   "metadata": {
    "scrolled": true
   },
   "outputs": [],
   "source": [
    "# we can change the min & max values on the scale to highlight the event more strongly\n",
    "fig = ds.sel(time = \"2024-09-14\").plot(cmap = \"YlGnBu\", \n",
    "                                       subplot_kws = {\"projection\" : cartopy.crs.PlateCarree()}, \n",
    "                                       cbar_kwargs = {\"location\" : \"bottom\"},\n",
    "                                       vmin = 0, vmax = 100)\n",
    "\n",
    "fig.axes.add_feature(cartopy.feature.BORDERS, ls = \"--\", alpha = 0.6)\n",
    "fig.axes.gridlines(color = \"k\", alpha = 0.1, draw_labels = [\"bottom\", \"left\"])"
   ]
  },
  {
   "cell_type": "code",
   "execution_count": null,
   "id": "10e9b29b-8e55-4753-9c98-c7611f8d8bbb",
   "metadata": {},
   "outputs": [],
   "source": [
    "# when we're happy with the plot, we can save it as a .png file\n",
    "fig = ds.sel(time = \"2024-09-14\").plot(cmap = \"YlGnBu\",\n",
    "                                       subplot_kws = {\"projection\" : cartopy.crs.PlateCarree()}, \n",
    "                                       cbar_kwargs = {\"location\" : \"bottom\"},\n",
    "                                       vmin = 0, vmax = 100)\n",
    "\n",
    "fig.axes.add_feature(cartopy.feature.BORDERS, ls = \"--\", alpha = 0.6)\n",
    "fig.axes.gridlines(color = \"k\", alpha = 0.1, draw_labels = [\"bottom\", \"left\"])\n",
    "\n",
    "plt.savefig(\"era5-rainfall-sep14.png\", bbox_inches = \"tight\")"
   ]
  },
  {
   "cell_type": "markdown",
   "id": "d015615a-4aa6-46a4-9db3-e9ddc3bf6bf1",
   "metadata": {},
   "source": [
    "## Add country labels"
   ]
  },
  {
   "cell_type": "code",
   "execution_count": null,
   "id": "3b611f05-d447-4ec6-b63a-cb59f535d76c",
   "metadata": {},
   "outputs": [],
   "source": [
    "# define the region that we want to look at\n",
    "xn,xx,yn,yx = [10.7,25,46,52.3]\n",
    "\n",
    "# get dataframe of countries (predefined with 'regionmask' package)\n",
    "gdf = regionmask.defined_regions.natural_earth_v5_0_0.countries_110.to_geodataframe()\n",
    "\n",
    "# replace country outlines with central point\n",
    "gdf.geometry = gdf.representative_point()\n",
    "\n",
    "# clip countries to the study area\n",
    "gdf = gdf.clip((xn,yn,xx,yx))"
   ]
  },
  {
   "cell_type": "code",
   "execution_count": null,
   "id": "35e26bc7-8bdc-4173-a112-9043f6f001d2",
   "metadata": {},
   "outputs": [],
   "source": [
    "fig = ds.sel(time = \"2024-09-14\").plot(cmap = \"YlGnBu\",\n",
    "                                       subplot_kws = {\"projection\" : cartopy.crs.PlateCarree()}, \n",
    "                                       cbar_kwargs = {\"location\" : \"bottom\"},\n",
    "                                       vmin = 0, vmax = 100)\n",
    "\n",
    "fig.axes.add_feature(cartopy.feature.BORDERS, ls = \"--\", alpha = 0.6)\n",
    "fig.axes.gridlines(color = \"k\", alpha = 0.1, draw_labels = [\"bottom\", \"left\"])\n",
    "\n",
    "# we have to loop over the rows in the list of points & country names\n",
    "for idx, r in gdf.iterrows():\n",
    "     fig.axes.annotate(text = r['names'], xy = (r.geometry.x, r.geometry.y), horizontalalignment = 'center')"
   ]
  },
  {
   "cell_type": "markdown",
   "id": "3621d4a4-5189-42db-bca6-ff76f1b56ed3",
   "metadata": {},
   "source": [
    "## Plot several days"
   ]
  },
  {
   "cell_type": "markdown",
   "id": "3dc70301-5b33-4782-83ea-aaedb30215da",
   "metadata": {},
   "source": [
    "We can also plot a series of days in one go:"
   ]
  },
  {
   "cell_type": "code",
   "execution_count": null,
   "id": "0e1de8e7-4949-4887-be6b-fa6fad0487f6",
   "metadata": {},
   "outputs": [],
   "source": [
    "fig = ds.sel(time = slice(\"2024-09-12\", None)).plot(cmap = \"YlGnBu\",\n",
    "                                                    subplot_kws = {\"projection\" : cartopy.crs.PlateCarree()}, \n",
    "                                                    cbar_kwargs = {\"location\" : \"bottom\"},\n",
    "                                                    vmin = 0, vmax = 100,\n",
    "                                                    col = \"time\")     # we have to tell Python which axis to display\n",
    "\n",
    "# this time, we have to add the orders and gridlines to each panel individually\n",
    "for ax in fig.axs.flat:\n",
    "    ax.add_feature(cartopy.feature.BORDERS, ls = \"--\", alpha = 0.6)\n",
    "    ax.gridlines(color = \"k\", alpha = 0.1, draw_labels = [\"bottom\", \"left\"])"
   ]
  },
  {
   "cell_type": "markdown",
   "id": "26d0b349-8f88-4cd7-8350-532220cf21e3",
   "metadata": {},
   "source": [
    "These figures are very small - we can rearrange to make them larger"
   ]
  },
  {
   "cell_type": "code",
   "execution_count": null,
   "id": "7e7541c5-0da7-4ca9-bd94-409b56c9e6cc",
   "metadata": {},
   "outputs": [],
   "source": [
    "fig = ds.sel(time = slice(\"2024-09-12\", None)).plot(cmap = \"YlGnBu\",\n",
    "                                                    subplot_kws = {\"projection\" : cartopy.crs.PlateCarree()}, \n",
    "                                                    cbar_kwargs = {\"location\" : \"bottom\"},\n",
    "                                                    vmin = 0, vmax = 100,\n",
    "                                                    col = \"time\",\n",
    "                                                    col_wrap = 3)     # only put 3 panels on each row\n",
    "\n",
    "for ax in fig.axs.flat:\n",
    "    ax.add_feature(cartopy.feature.BORDERS, ls = \"--\", alpha = 0.6)\n",
    "    ax.gridlines(color = \"k\", alpha = 0.1, draw_labels = [\"bottom\", \"left\"])"
   ]
  },
  {
   "cell_type": "markdown",
   "id": "0584ad8a-d84c-48b1-9a85-2b6ef78fdf0f",
   "metadata": {},
   "source": [
    "Now the labels are overlapping - we can fix this too!"
   ]
  },
  {
   "cell_type": "code",
   "execution_count": null,
   "id": "5bc0a2dd-dd63-4428-a382-e0a6525d8d65",
   "metadata": {},
   "outputs": [],
   "source": [
    "fig = ds.sel(time = slice(\"2024-09-12\", None)).plot(cmap = \"YlGnBu\",\n",
    "                                                    subplot_kws = {\"projection\" : cartopy.crs.PlateCarree()}, \n",
    "                                                    cbar_kwargs = {\"location\" : \"bottom\"},\n",
    "                                                    vmin = 0, vmax = 100,\n",
    "                                                    col = \"time\",\n",
    "                                                    col_wrap = 3)\n",
    "\n",
    "for ax in fig.axs.flat:\n",
    "    ax.add_feature(cartopy.feature.BORDERS, ls = \"--\", alpha = 0.6)\n",
    "    ax.gridlines(color = \"k\", alpha = 0.1)\n",
    "\n",
    "\n",
    "# only put the y-labels on the leftmost column (Python indexing starts at 0)\n",
    "for ax in fig.axs[:,0]: ax.gridlines(alpha = 0, draw_labels = [\"left\"])\n",
    "    \n",
    "# only put the x-labels on the bottom row (item -1 is the last item in a list)\n",
    "for ax in fig.axs[-1,:]: ax.gridlines(alpha = 0, draw_labels = [\"bottom\"])"
   ]
  },
  {
   "cell_type": "markdown",
   "id": "c48f0818-26c8-4378-a132-2820d18f670e",
   "metadata": {},
   "source": [
    "We can also resize the plot scale"
   ]
  },
  {
   "cell_type": "code",
   "execution_count": null,
   "id": "22cb4ac8-668d-4539-adb8-bf90a7a94929",
   "metadata": {},
   "outputs": [],
   "source": [
    "fig = ds.sel(time = slice(\"2024-09-12\", None)).plot(cmap = \"YlGnBu\",\n",
    "                                                    subplot_kws = {\"projection\" : cartopy.crs.PlateCarree()}, \n",
    "                                                    cbar_kwargs = {\"location\" : \"bottom\", \"fraction\" : 0.025, \"pad\" : 0.05}, # 'fraction' changes the size of the scale bar, 'pad' changes the distance to the plots\n",
    "                                                    vmin = 0, vmax = 100,\n",
    "                                                    col = \"time\",\n",
    "                                                    col_wrap = 3,\n",
    "                                                    size = 3)\n",
    "\n",
    "for ax in fig.axs.flat:\n",
    "    ax.add_feature(cartopy.feature.BORDERS, ls = \"--\", alpha = 0.6)\n",
    "    ax.gridlines(color = \"k\", alpha = 0.1)\n",
    "\n",
    "for ax in fig.axs[:,0]: ax.gridlines(alpha = 0, draw_labels = [\"left\"])\n",
    "for ax in fig.axs[-1,:]: ax.gridlines(alpha = 0, draw_labels = [\"bottom\"])"
   ]
  },
  {
   "cell_type": "markdown",
   "id": "915fe815-11b4-4b17-95d2-36356015ba81",
   "metadata": {},
   "source": [
    "## Add sites where impacts occurred"
   ]
  },
  {
   "cell_type": "code",
   "execution_count": null,
   "id": "c5171dbc-5522-4c7e-a988-c853f695f68c",
   "metadata": {},
   "outputs": [],
   "source": [
    "# make a list of the locations where impacts were reported\n",
    "affected_sites = [\"Vienna\", \"Graz\", \"Glucholazy\", \"Litovel\", \"Lower Austria\"]\n",
    "px = pd.DataFrame([get_latlon(s) for s in affected_sites])"
   ]
  },
  {
   "cell_type": "code",
   "execution_count": null,
   "id": "fbbd6c43-e29e-4123-b188-1b6d29eeb7c0",
   "metadata": {},
   "outputs": [],
   "source": [
    "fig = ds.sel(time = slice(\"2024-09-12\", None)).plot(cmap = \"YlGnBu\",\n",
    "                                                    subplot_kws = {\"projection\" : cartopy.crs.PlateCarree()}, \n",
    "                                                    cbar_kwargs = {\"location\" : \"bottom\", \"fraction\" : 0.04, \"pad\" : 0.1}, # 'fraction' changes the size of the scale bar, 'pad' changes the distance to the plots\n",
    "                                                    vmin = 0, vmax = 100,\n",
    "                                                    col = \"time\",\n",
    "                                                    col_wrap = 3)\n",
    "\n",
    "for ax in fig.axs.flat:\n",
    "    ax.add_feature(cartopy.feature.BORDERS, ls = \"--\", alpha = 0.6)\n",
    "    ax.gridlines(color = \"k\", alpha = 0.1)\n",
    "\n",
    "    ax.scatter(px.lon, px.lat, marker = \"x\", color = \"red\")               # add points where impacts were reported\n",
    "\n",
    "for ax in fig.axs[:,0]: ax.gridlines(alpha = 0, draw_labels = [\"left\"])\n",
    "for ax in fig.axs[-1,:]: ax.gridlines(alpha = 0, draw_labels = [\"bottom\"])"
   ]
  },
  {
   "cell_type": "markdown",
   "id": "1d440b44-d6bc-4d7c-ad21-da1b0384c38a",
   "metadata": {},
   "source": [
    "# Other features to consider"
   ]
  },
  {
   "cell_type": "markdown",
   "id": "89c9960b-03a2-4f29-8202-643b6db0c4ea",
   "metadata": {},
   "source": [
    "## Elevation\n",
    "Source data: http://research.jisao.washington.edu/data_sets/elevation/"
   ]
  },
  {
   "cell_type": "code",
   "execution_count": null,
   "id": "0218169d-d4a7-4d63-bfab-c32364ddcda5",
   "metadata": {},
   "outputs": [],
   "source": [
    "# load the elevation data\n",
    "elev = xr.open_dataset(\"elev.0.25-deg.nc\", decode_times = False).squeeze(drop = True).data\n",
    "\n",
    "# convert longitudes from 0:360 to -180:180\n",
    "elev = wrap_lon(elev)\n",
    "\n",
    "# define the region we want to look at\n",
    "study_region = {\"lon\" : slice(10.7, 24), \"lat\" : slice(46, 52.3)}\n",
    "\n",
    "# trim the elevation data to just that region\n",
    "elev = elev.sel(study_region)"
   ]
  },
  {
   "cell_type": "code",
   "execution_count": null,
   "id": "2d73606b-b0d5-48e6-a623-801c3167457c",
   "metadata": {
    "scrolled": true
   },
   "outputs": [],
   "source": [
    "# we can plot the elevation data to match the precipitation data\n",
    "fig = elev.plot(cmap = \"terrain\", vmin = -375, vmax = 1500,                      # aim to keep vmin:vmax at -1:4 ratio to keep change from blue to green at zero\n",
    "                subplot_kws = {\"projection\" : cartopy.crs.PlateCarree()},\n",
    "                cbar_kwargs = {\"location\" : \"bottom\", \"fraction\" : 0.04, \"pad\" : 0.1, \"label\" : \"Elevation (m above sea level)\"})    # can also relabel scale bar\n",
    "\n",
    "# add borders & gridlines as before\n",
    "fig.axes.add_feature(cartopy.feature.BORDERS, ls = \"--\", alpha = 0.6)\n",
    "fig.axes.gridlines(color = \"k\", alpha = 0.1, draw_labels = [\"bottom\", \"left\"])"
   ]
  },
  {
   "cell_type": "markdown",
   "id": "82897802-41fd-4339-a3f8-33bd403f693f",
   "metadata": {},
   "source": [
    "## Koppen-Geiger climatology\n",
    "\n",
    "Standard classification of climatologies. Source data: https://www.gloh2o.org/koppen/"
   ]
  },
  {
   "cell_type": "code",
   "execution_count": null,
   "id": "1480a54b-6933-4956-a09b-45c9566d8221",
   "metadata": {},
   "outputs": [],
   "source": [
    "# we can load the data and select the study region in a single\n",
    "kg = xr.open_dataset(\"kg_classifications.nc\").kg_cat.sel(study_region)"
   ]
  },
  {
   "cell_type": "code",
   "execution_count": null,
   "id": "716fccea-0a9e-427a-b2ea-a2023f3bf16a",
   "metadata": {},
   "outputs": [],
   "source": [
    "fig = kg.plot(subplot_kws = {\"projection\" : cartopy.crs.PlateCarree()},\n",
    "              cbar_kwargs = {\"location\" : \"bottom\", \"fraction\" : 0.04, \"pad\" : 0.1})\n",
    "\n",
    "# add borders & gridlines as before\n",
    "fig.axes.add_feature(cartopy.feature.BORDERS, ls = \"--\", alpha = 0.6)\n",
    "fig.axes.gridlines(color = \"k\", alpha = 0.1, draw_labels = [\"bottom\", \"left\"])"
   ]
  },
  {
   "cell_type": "code",
   "execution_count": null,
   "id": "f7cc7a93-b49b-455d-bd4c-474d098a9f4b",
   "metadata": {
    "scrolled": true
   },
   "outputs": [],
   "source": [
    "# check what these classifications mean\n",
    "kg_cats = pd.read_csv(\"kg_legend.csv\", index_col = \"cat\")\n",
    "cats_on_map = np.unique(kg.values).tolist()\n",
    "kg_cats.loc[cats_on_map]"
   ]
  },
  {
   "cell_type": "markdown",
   "id": "60bb7183-cd65-4131-b4f0-a54935046aaa",
   "metadata": {},
   "source": [
    "# Identify the region we want to look at"
   ]
  },
  {
   "cell_type": "markdown",
   "id": "37e0ed53-c39e-4721-9be5-8986dfb996c7",
   "metadata": {},
   "source": [
    "## Plot daily anomalies"
   ]
  },
  {
   "cell_type": "code",
   "execution_count": null,
   "id": "3026aada-0bdf-4ada-9dfd-dae2c694dc15",
   "metadata": {},
   "outputs": [],
   "source": [
    "# select September rainfall only\n",
    "ds_sep = ds.groupby(\"time.month\")[9]\n",
    "\n",
    "# calculate the mean daily rainfall during September from 1990-2020\n",
    "ds_clim = ds_sep.sel(time = slice(\"1990\", \"2020\")).mean(\"time\")"
   ]
  },
  {
   "cell_type": "code",
   "execution_count": null,
   "id": "10cb9886-f928-4eaa-8c76-15cd71b6943b",
   "metadata": {},
   "outputs": [],
   "source": [
    "# calculate the 2024 daily anomalies with respect to September climatology\n",
    "ds_anom = ds.sel(time = \"2024\") - ds_clim"
   ]
  },
  {
   "cell_type": "code",
   "execution_count": null,
   "id": "1e3fb0df-7a5f-498f-9482-22025eee0d92",
   "metadata": {},
   "outputs": [],
   "source": [
    "# the colour scale above isn't a great choice for anomalies - we should use a divergent colourmap (Python will suggest a default)\n",
    "fig = ds_anom.sel(time = slice(\"2024-09-12\", \"2024-09-17\")).plot(#cmap = \"YlGnBu\",\n",
    "                                                    subplot_kws = {\"projection\" : cartopy.crs.PlateCarree()}, \n",
    "                                                    cbar_kwargs = {\"location\" : \"bottom\", \"fraction\" : 0.04, \"pad\" : 0.1}, # 'fraction' changes the size of the scale bar, 'pad' changes the distance to the plots\n",
    "                                                    #vmin = 0, vmax = 100,\n",
    "                                                    col = \"time\",\n",
    "                                                    col_wrap = 3)\n",
    "\n",
    "for ax in fig.axs.flat:\n",
    "    ax.add_feature(cartopy.feature.BORDERS, ls = \"--\", alpha = 0.6)\n",
    "    ax.gridlines(color = \"k\", alpha = 0.1)\n",
    "\n",
    "    # ax.scatter(px.lon, px.lat, marker = \"x\", color = \"red\")               # add points where impacts were reported\n",
    "\n",
    "for ax in fig.axs[:,0]: ax.gridlines(alpha = 0, draw_labels = [\"left\"])\n",
    "for ax in fig.axs[-1,:]: ax.gridlines(alpha = 0, draw_labels = [\"bottom\"])"
   ]
  },
  {
   "cell_type": "code",
   "execution_count": null,
   "id": "fddf2bc6-b9d6-4368-a74f-34662b842dee",
   "metadata": {},
   "outputs": [],
   "source": [
    "# or we can choose our own colour scheme (and also add a meaningful label to the scale)\n",
    "fig = ds_anom.sel(time = slice(\"2024-09-12\", \"2024-09-17\")).plot(cmap = \"BrBG\",\n",
    "                                                    subplot_kws = {\"projection\" : cartopy.crs.PlateCarree()}, \n",
    "                                                    cbar_kwargs = {\"location\" : \"bottom\", \"fraction\" : 0.04, \"pad\" : 0.1, \"label\" : \"Precipitation anomaly (mm/day)\"},\n",
    "                                                    vmin = -100, vmax = 100,\n",
    "                                                    col = \"time\",\n",
    "                                                    col_wrap = 3)\n",
    "\n",
    "for ax in fig.axs.flat:\n",
    "    ax.add_feature(cartopy.feature.BORDERS, ls = \"--\", alpha = 0.6)\n",
    "    ax.gridlines(color = \"k\", alpha = 0.1)\n",
    "\n",
    "    ax.scatter(px.lon, px.lat, marker = \"x\", color = \"darkred\")               # add points where impacts were reported\n",
    "\n",
    "for ax in fig.axs[:,0]: ax.gridlines(alpha = 0, draw_labels = [\"left\"])\n",
    "for ax in fig.axs[-1,:]: ax.gridlines(alpha = 0, draw_labels = [\"bottom\"])"
   ]
  },
  {
   "cell_type": "code",
   "execution_count": null,
   "id": "7e8cbba7-2e45-4fdd-aee6-37ae6906fb68",
   "metadata": {},
   "outputs": [],
   "source": [
    "ds_3day = ds.rolling(time = 3).mean() # 3-day rolling mean\n",
    "\n",
    "fig = ds_3day.sel(time = slice(\"2024-09-12\", \"2024-09-17\")).plot(cmap = \"YlGnBu\",\n",
    "                                                    subplot_kws = {\"projection\" : cartopy.crs.PlateCarree()}, \n",
    "                                                    cbar_kwargs = {\"location\" : \"bottom\", \"fraction\" : 0.04, \"pad\" : 0.1}, # 'fraction' changes the size of the scale bar, 'pad' changes the distance to the plots\n",
    "                                                    vmin = 0, vmax = 100,\n",
    "                                                    col = \"time\",\n",
    "                                                    col_wrap = 3)\n",
    "\n",
    "for ax in fig.axs.flat:\n",
    "    ax.add_feature(cartopy.feature.BORDERS, ls = \"--\", alpha = 0.6)\n",
    "    ax.gridlines(color = \"k\", alpha = 0.1)\n",
    "\n",
    "for ax in fig.axs[:,0]: ax.gridlines(alpha = 0, draw_labels = [\"left\"])\n",
    "for ax in fig.axs[-1,:]: ax.gridlines(alpha = 0, draw_labels = [\"bottom\"])"
   ]
  },
  {
   "cell_type": "markdown",
   "id": "7e937cd0-eab3-4a63-a686-3dec56f75f86",
   "metadata": {},
   "source": [
    "## Plot accumulated rainfall"
   ]
  },
  {
   "cell_type": "code",
   "execution_count": null,
   "id": "792f054f-7944-4536-b041-60eb1c4caf9e",
   "metadata": {},
   "outputs": [],
   "source": [
    "ds_3day = ds.rolling(time = 3).mean() # 3-day rolling mean\n",
    "\n",
    "fig = ds_3day.sel(time = slice(\"2024-09-12\", \"2024-09-17\")).plot(cmap = \"YlGnBu\",\n",
    "                                                    subplot_kws = {\"projection\" : cartopy.crs.PlateCarree()}, \n",
    "                                                    cbar_kwargs = {\"location\" : \"bottom\", \"fraction\" : 0.04, \"pad\" : 0.1}, # 'fraction' changes the size of the scale bar, 'pad' changes the distance to the plots\n",
    "                                                    vmin = 0, vmax = 100,\n",
    "                                                    col = \"time\",\n",
    "                                                    col_wrap = 3)\n",
    "\n",
    "for ax in fig.axs.flat:\n",
    "    ax.add_feature(cartopy.feature.BORDERS, ls = \"--\", alpha = 0.6)\n",
    "    ax.gridlines(color = \"k\", alpha = 0.1)\n",
    "\n",
    "for ax in fig.axs[:,0]: ax.gridlines(alpha = 0, draw_labels = [\"left\"])\n",
    "for ax in fig.axs[-1,:]: ax.gridlines(alpha = 0, draw_labels = [\"bottom\"])"
   ]
  },
  {
   "cell_type": "code",
   "execution_count": null,
   "id": "3012b310-a9bd-432c-b839-ba6e6ad13915",
   "metadata": {
    "scrolled": true
   },
   "outputs": [],
   "source": [
    "# let's add a title so we remember that this is the 3-day average\n",
    "ds_3day = ds.rolling(time = 3).mean()\n",
    "\n",
    "fig = ds_3day.sel(time = slice(\"2024-09-12\", \"2024-09-17\")).plot(cmap = \"YlGnBu\",\n",
    "                                                    subplot_kws = {\"projection\" : cartopy.crs.PlateCarree()}, \n",
    "                                                    cbar_kwargs = {\"location\" : \"bottom\", \"fraction\" : 0.04, \"pad\" : 0.1}, # 'fraction' changes the size of the scale bar, 'pad' changes the distance to the plots\n",
    "                                                    vmin = 0, vmax = 100,\n",
    "                                                    col = \"time\",\n",
    "                                                    col_wrap = 3)\n",
    "\n",
    "for ax in fig.axs.flat:\n",
    "    ax.add_feature(cartopy.feature.BORDERS, ls = \"--\", alpha = 0.6)\n",
    "    ax.gridlines(color = \"k\", alpha = 0.1)\n",
    "\n",
    "for ax in fig.axs[:,0]: ax.gridlines(alpha = 0, draw_labels = [\"left\"])\n",
    "for ax in fig.axs[-1,:]: ax.gridlines(alpha = 0, draw_labels = [\"bottom\"])\n",
    "\n",
    "plt.suptitle(\"3-day rolling average of daily rainfall\", fontweight = \"bold\", y = 0.85)"
   ]
  },
  {
   "cell_type": "markdown",
   "id": "8ac07734-4c47-4a47-a0e4-0355f7ec7778",
   "metadata": {
    "scrolled": true
   },
   "source": [
    "## Choose the area we want to average over"
   ]
  },
  {
   "cell_type": "code",
   "execution_count": null,
   "id": "4c0059bf-b9de-49d5-ae9c-03221a3238cd",
   "metadata": {
    "scrolled": true
   },
   "outputs": [],
   "source": [
    "# add points where impacts were reported\n",
    "\n",
    "ds_3day = ds.rolling(time = 3).mean()\n",
    "\n",
    "fig = ds_3day.sel(time = slice(\"2024-09-12\", \"2024-09-17\")).plot(cmap = \"YlGnBu\",\n",
    "                                                    subplot_kws = {\"projection\" : cartopy.crs.PlateCarree()}, \n",
    "                                                    cbar_kwargs = {\"location\" : \"bottom\", \"fraction\" : 0.04, \"pad\" : 0.1}, # 'fraction' changes the size of the scale bar, 'pad' changes the distance to the plots\n",
    "                                                    vmin = 0, vmax = 50,\n",
    "                                                    col = \"time\",\n",
    "                                                    col_wrap = 3)\n",
    "\n",
    "for ax in fig.axs.flat:\n",
    "    ax.add_feature(cartopy.feature.BORDERS, ls = \"--\", alpha = 0.6)\n",
    "    ax.gridlines(color = \"k\", alpha = 0.1)\n",
    "    ax.scatter(px.lon, px.lat, marker = \"x\", color = \"red\")\n",
    "\n",
    "for ax in fig.axs[:,0]: ax.gridlines(alpha = 0, draw_labels = [\"left\"])\n",
    "for ax in fig.axs[-1,:]: ax.gridlines(alpha = 0, draw_labels = [\"bottom\"])\n",
    "\n",
    "plt.suptitle(\"3-day rolling average of daily rainfall\", fontweight = \"bold\", y = 0.85)"
   ]
  },
  {
   "cell_type": "code",
   "execution_count": null,
   "id": "4ae05ffc-ef13-4e84-8db5-b06623df0e86",
   "metadata": {},
   "outputs": [],
   "source": [
    "# we can draw a smaller box around the wettest region\n",
    "xn,xx,yn,yx = [14,18,47,51]\n",
    "\n",
    "ds_3day = ds.rolling(time = 3).mean()\n",
    "\n",
    "fig = ds_3day.sel(time = slice(\"2024-09-12\", \"2024-09-17\")).plot(cmap = \"YlGnBu\",\n",
    "                                                    subplot_kws = {\"projection\" : cartopy.crs.PlateCarree()}, \n",
    "                                                    cbar_kwargs = {\"location\" : \"bottom\", \"fraction\" : 0.04, \"pad\" : 0.1}, # 'fraction' changes the size of the scale bar, 'pad' changes the distance to the plots\n",
    "                                                    vmin = 0, vmax = 50,\n",
    "                                                    col = \"time\",\n",
    "                                                    col_wrap = 3)\n",
    "\n",
    "for ax in fig.axs.flat:\n",
    "    ax.add_feature(cartopy.feature.BORDERS, ls = \"--\", alpha = 0.6)\n",
    "    ax.gridlines(color = \"k\", alpha = 0.1)\n",
    "    ax.scatter(px.lon, px.lat, marker = \"x\", color = \"red\")\n",
    "    ax.plot([xn,xn,xx,xx,xn], [yn,yx,yx,yn,yn], color = \"darkred\", lw = 2, alpha = 0.5)\n",
    "\n",
    "for ax in fig.axs[:,0]: ax.gridlines(alpha = 0, draw_labels = [\"left\"])\n",
    "for ax in fig.axs[-1,:]: ax.gridlines(alpha = 0, draw_labels = [\"bottom\"])\n",
    "\n",
    "plt.suptitle(\"3-day rolling average of daily rainfall\", fontweight = \"bold\", y = 0.85)"
   ]
  },
  {
   "cell_type": "markdown",
   "id": "4558ed7b-f498-46de-bd03-285d2e84a919",
   "metadata": {},
   "source": [
    "## Average the precip over the whole box"
   ]
  },
  {
   "cell_type": "code",
   "execution_count": null,
   "id": "80e5d986-477d-4e0f-991c-162d42a06b52",
   "metadata": {},
   "outputs": [],
   "source": [
    "# extract the chosen region and compute spatial average\n",
    "pr_subset = ds.sel(lon = slice(xn,xx), lat = slice(yn,yx))\n",
    "pr_subset"
   ]
  },
  {
   "cell_type": "code",
   "execution_count": null,
   "id": "d71e9cbe-4625-45bb-a0d4-371f032adeb6",
   "metadata": {},
   "outputs": [],
   "source": [
    "# the data from the Climate Explorer has latitudes in descending order - we can fix this\n",
    "ds = wrap_lon(ds)"
   ]
  },
  {
   "cell_type": "code",
   "execution_count": null,
   "id": "7d485a25-925d-4f8d-bc4b-e062fc37d65b",
   "metadata": {},
   "outputs": [],
   "source": [
    "# extract the chosen region and compute spatial average\n",
    "ts = ds.sel(lon = slice(xn,xx), lat = slice(yn,yx)).mean([\"lat\", \"lon\"])\n",
    "ts"
   ]
  },
  {
   "cell_type": "code",
   "execution_count": null,
   "id": "421fe016-89fa-4632-a125-1986a1cd819b",
   "metadata": {},
   "outputs": [],
   "source": [
    "# python can also automatically plot this data for us\n",
    "ts.plot()"
   ]
  },
  {
   "cell_type": "code",
   "execution_count": null,
   "id": "5696f7ba-346b-4d39-ad8b-722818c695c0",
   "metadata": {},
   "outputs": [],
   "source": [
    "# let's save the time series before we go any further\n",
    "ts.to_netcdf(\"pr-timeseries.nc\")"
   ]
  },
  {
   "cell_type": "markdown",
   "id": "c5e690d6-8a91-4c62-ac3d-eb87e7cd91fb",
   "metadata": {},
   "source": [
    "# Other ways to select a region"
   ]
  },
  {
   "cell_type": "markdown",
   "id": "a635731e-08fb-4374-b58c-18c39cc04153",
   "metadata": {},
   "source": [
    "## Using a predefined region"
   ]
  },
  {
   "cell_type": "markdown",
   "id": "2843de00-8c2f-483e-947b-d6d39de2b6ae",
   "metadata": {},
   "source": [
    "The `regionmask` package provides predefined shapefiles for countries, US states and coastlines - we can use these to create a mask that allows us to select just one country, for example"
   ]
  },
  {
   "cell_type": "code",
   "execution_count": null,
   "id": "bd9d4200-db11-46c3-9342-b7b9a9371bb5",
   "metadata": {},
   "outputs": [],
   "source": [
    "# first, we load the regionmask so that we can manipulate it\n",
    "gdf = regionmask.defined_regions.natural_earth_v5_0_0.countries_50.to_geodataframe()\n",
    "gdf"
   ]
  },
  {
   "cell_type": "code",
   "execution_count": null,
   "id": "e1ad5a21-53f0-4fa0-99fe-940c29a10fc1",
   "metadata": {},
   "outputs": [],
   "source": [
    "# then we can select a single country\n",
    "gdf_A = gdf.loc[gdf.names == \"Austria\"]\n",
    "gdf_A.plot()"
   ]
  },
  {
   "cell_type": "code",
   "execution_count": null,
   "id": "6167d028-11db-4bf4-a1e0-b5afb61d1208",
   "metadata": {},
   "outputs": [],
   "source": [
    "# and we can use this to create a regionmask for our dataset `ds` by selecting only points that lie within the selected region\n",
    "rm = regionmask.mask_geopandas(gdf_A, ds.lon, ds.lat)\n",
    "rm.plot()"
   ]
  },
  {
   "cell_type": "code",
   "execution_count": null,
   "id": "fdfc4e0c-0b03-4174-b950-2b3c58e49d9e",
   "metadata": {},
   "outputs": [],
   "source": [
    "# Finally, we can select just the country we're interested in, and average over that\n",
    "ts_A = ds.where(~np.isnan(rm)).mean([\"lat\", \"lon\"])\n",
    "ts_A.plot()"
   ]
  },
  {
   "cell_type": "markdown",
   "id": "795f0c87-b501-49e6-8f74-c77e8106ec39",
   "metadata": {},
   "source": [
    "## Using a shapefile"
   ]
  },
  {
   "cell_type": "markdown",
   "id": "3f09242b-26c1-4db0-9276-7829877e2fe0",
   "metadata": {},
   "source": [
    "A 'shapefile' is just a collection of points and shapes defining a region, stored as a set of specific files that have to be loaded together.  \n",
    "Fortunately, Python can handle this for us as long as we remember to download all the bits of the shapefile.\n",
    "\n",
    "Handy sources for shapefiles (or you can find almost anything if you google for long enough):\n",
    "- [The Humanitarian Data Exchange](https://data.humdata.org/dataset?ext_subnational=1&ext_administrative_divisions=1&q=&sort=if(gt(last_modified%2Creview_date)%2Clast_modified%2Creview_date)%20desc&ext_page_size=25) has shapefiles for lots of administrative regions in different countries\n",
    "- [Hydrobasins](https://www.hydrosheds.org/products/hydrobasins) provides nested river basins - you'll have to play around to figure out which 'layer' you need, I usually start at 4 (scroll right down to the bottom to download per continent and start with levels 1-6, the files are much smaller)\n",
    "- [Natural Earth](https://www.naturalearthdata.com/features/) has both political and physical shapefiles\n",
    "\n",
    "When you download a shapefile, put all the files into a single folder and tell Python to open that folder."
   ]
  },
  {
   "cell_type": "code",
   "execution_count": null,
   "id": "cf2eb9b4-a892-4714-8e5b-b1e969e77378",
   "metadata": {},
   "outputs": [],
   "source": [
    "xn,xx,yn,yx = [10.7,25,46,52.3]"
   ]
  },
  {
   "cell_type": "code",
   "execution_count": null,
   "id": "9edb44d1-8fb6-4eb2-8fda-f3e232591cf4",
   "metadata": {},
   "outputs": [],
   "source": [
    "sf_hybas05 = gpd.read_file(\"sf_hybas05/\").clip((xn,yn,xx,yx))\n",
    "sf_hybas05.boundary.plot()"
   ]
  },
  {
   "cell_type": "code",
   "execution_count": null,
   "id": "bf403937-bae7-4ba4-b903-ea2da53e1133",
   "metadata": {},
   "outputs": [],
   "source": [
    "sf_hybas04 = gpd.read_file(\"sf_hybas04/\").clip((xn,yn,xx,yx))\n",
    "fig = sf_hybas04.boundary.plot()\n",
    "\n",
    "# we can plot just one of the shapes at a time to decide which one we want to use\n",
    "sf_hybas04.iloc[[12]].plot(ax = fig.axes)"
   ]
  },
  {
   "cell_type": "code",
   "execution_count": null,
   "id": "4cc9b590-8a69-4dbf-a4a1-7ab69fa08b30",
   "metadata": {},
   "outputs": [],
   "source": [
    "sf_hybas04 = gpd.read_file(\"sf_hybas04/\").clip((xn,yn,xx,yx))\n",
    "fig = sf_hybas04.boundary.plot()\n",
    "\n",
    "# we can plot just one of the shapes at a time to decide which one(s) we want to use\n",
    "sf_hybas04.iloc[[12]].plot(ax = fig.axes)"
   ]
  },
  {
   "cell_type": "code",
   "execution_count": null,
   "id": "8c64648b-c818-4728-9968-f2c912b328e8",
   "metadata": {},
   "outputs": [],
   "source": [
    "# select the regions we're interested in\n",
    "sf = sf_hybas04.iloc[[10,12]]"
   ]
  },
  {
   "cell_type": "code",
   "execution_count": null,
   "id": "a00ae0ad-e6c0-4549-a804-041840c65582",
   "metadata": {},
   "outputs": [],
   "source": [
    "# we can turn these into a single polygon if we want to\n",
    "sf = sf.dissolve().boundary\n",
    "sf.plot()"
   ]
  },
  {
   "cell_type": "markdown",
   "id": "21896c2a-470f-4473-b5c7-b108b56b4ed5",
   "metadata": {},
   "source": [
    "# Working with time series"
   ]
  },
  {
   "cell_type": "code",
   "execution_count": null,
   "id": "cef87291-37cc-4af7-81d3-b1bda64ca685",
   "metadata": {},
   "outputs": [],
   "source": [
    "# remember that time series we created from the box?\n",
    "ts = xr.open_dataset(\"pr-timeseries.nc\").tp\n",
    "ts"
   ]
  },
  {
   "cell_type": "markdown",
   "id": "207a5968-a29a-4626-8224-7a5702e0695a",
   "metadata": {},
   "source": [
    "## Smoothed seasonal cycle"
   ]
  },
  {
   "cell_type": "code",
   "execution_count": null,
   "id": "5b44026c-8c76-49d4-8440-14b6a003273c",
   "metadata": {},
   "outputs": [],
   "source": [
    "# first we smooth the daily time series (for temperatures you could use a shorter window, or even no smoothing)\n",
    "sm_days = 15\n",
    "ts_sm = ts.rolling(time = sm_days, center = True).mean()"
   ]
  },
  {
   "cell_type": "code",
   "execution_count": null,
   "id": "6a9e407c-a1de-4be4-8f89-b4d13c6bcf55",
   "metadata": {},
   "outputs": [],
   "source": [
    "# then we select the time period to compute the climatology\n",
    "ts_clim = ts_sm.sel(time = slice(\"1990\", \"2020\"))"
   ]
  },
  {
   "cell_type": "code",
   "execution_count": null,
   "id": "10b66b2a-86f4-44e6-bfdd-ee498f634d3f",
   "metadata": {},
   "outputs": [],
   "source": [
    "# then average over each day of the year and plot\n",
    "ts_clim.groupby(\"time.dayofyear\").mean().plot()"
   ]
  },
  {
   "cell_type": "code",
   "execution_count": null,
   "id": "83375b0f-069c-4c70-a41c-c70e8d04b2f0",
   "metadata": {},
   "outputs": [],
   "source": [
    "# we can also add quantiles\n",
    "ts_clim.groupby(\"time.dayofyear\").mean().plot()\n",
    "ts_clim.groupby(\"time.dayofyear\").quantile(0.025).plot(color = \"tab:blue\", alpha = 0.5)   # lower bound of the central 95%\n",
    "ts_clim.groupby(\"time.dayofyear\").quantile(0.975).plot(color = \"tab:blue\", alpha = 0.5)   # lower bound of the central 95%"
   ]
  },
  {
   "cell_type": "code",
   "execution_count": null,
   "id": "2d30ca5e-4b9d-449f-ab33-22df03d44502",
   "metadata": {},
   "outputs": [],
   "source": [
    "# clean up the axes\n",
    "ts_clim.groupby(\"time.dayofyear\").mean().plot()\n",
    "ts_clim.groupby(\"time.dayofyear\").quantile(0.025).plot(color = \"tab:blue\", alpha = 0.5)   # lower bound of the central 95%\n",
    "ts_clim.groupby(\"time.dayofyear\").quantile(0.975).plot(color = \"tab:blue\", alpha = 0.5)   # lower bound of the central 95%\n",
    "\n",
    "ax = plt.gca()                                            # identify the current axes so we can add things to them\n",
    "doy_axes()                                                # add nicer labels using user-defined function\n",
    "ax.set_title(\"Seasonal cycle of precipitation\")           # give a more meaningful title\n",
    "ax.set_ylabel(\"Precipitation (mm/day)\")                   # give proper units to y-axis"
   ]
  },
  {
   "cell_type": "markdown",
   "id": "1081d98e-fa85-4371-9061-8e6be7497e55",
   "metadata": {},
   "source": [
    "## Compare this year to previous years"
   ]
  },
  {
   "cell_type": "code",
   "execution_count": null,
   "id": "cb83351f-35c8-4223-ac08-ce1b0a86bdc3",
   "metadata": {
    "tags": []
   },
   "outputs": [],
   "source": [
    "# this time we need to plot each year individually, so we need to make a 'frame' for each line we want to add\n",
    "fig, ax = plt.subplots(ncols = 1, figsize = (5,3), dpi = 100)\n",
    "\n",
    "# loop over each year & plot the annual time series\n",
    "for y in np.unique(ts.time.dt.year):\n",
    "    ts_y = ts.sel(time = str(y))\n",
    "    ax.plot(ts_y.time.dt.dayofyear, ts_y, color = \"tab:blue\", alpha = 0.3)\n",
    "\n",
    "# add this year in a different colour\n",
    "ts_y = ts.sel(time = \"2024\")\n",
    "ax.plot(ts_y.time.dt.dayofyear, ts_y, color = \"k\")\n",
    "\n",
    "doy_axes()"
   ]
  },
  {
   "cell_type": "markdown",
   "id": "39f7c23a-125b-4940-b128-08c2366ae0f2",
   "metadata": {},
   "source": [
    "## How long did the extreme event last for?"
   ]
  },
  {
   "cell_type": "code",
   "execution_count": null,
   "id": "f9c10023-3129-4557-ab98-77e28ba788c2",
   "metadata": {
    "scrolled": true,
    "tags": []
   },
   "outputs": [],
   "source": [
    "ndays = 3\n",
    "\n",
    "ts_nday = ts.rolling(time = ndays, center = False).sum()"
   ]
  },
  {
   "cell_type": "code",
   "execution_count": null,
   "id": "ffba878c-ac59-491d-a796-1baf0197b312",
   "metadata": {
    "tags": []
   },
   "outputs": [],
   "source": [
    "# repeat the plotting per year\n",
    "fig, ax = plt.subplots(ncols = 1, figsize = (5,3), dpi = 100)\n",
    "\n",
    "# loop over each year & plot the annual time series\n",
    "for y in np.unique(ts_nday.time.dt.year):\n",
    "    ts_y = ts_nday.sel(time = str(y))\n",
    "    ax.plot(ts_y.time.dt.dayofyear, ts_y, color = \"tab:blue\", alpha = 0.3)\n",
    "\n",
    "# add this year in a different colour\n",
    "ts_y = ts_nday.sel(time = \"2024\")\n",
    "ax.plot(ts_y.time.dt.dayofyear, ts_y, color = \"k\")\n",
    "\n",
    "doy_axes()"
   ]
  },
  {
   "cell_type": "code",
   "execution_count": null,
   "id": "34a9314a-76c8-4433-9346-2e999fa3790f",
   "metadata": {
    "scrolled": true,
    "tags": []
   },
   "outputs": [],
   "source": [
    "# add a title so we remember that we're looking at a running sum\n",
    "fig, ax = plt.subplots(ncols = 1, figsize = (5,3), dpi = 100)\n",
    "\n",
    "# loop over each year & plot the annual time series\n",
    "for y in np.unique(ts_nday.time.dt.year):\n",
    "    ts_y = ts_nday.sel(time = str(y))\n",
    "    ax.plot(ts_y.time.dt.dayofyear, ts_y, color = \"tab:blue\", alpha = 0.3)\n",
    "\n",
    "# add this year in a different colour\n",
    "ts_y = ts_nday.sel(time = \"2024\")\n",
    "ax.plot(ts_y.time.dt.dayofyear, ts_y, color = \"k\")\n",
    "\n",
    "doy_axes(ax)\n",
    "ax.set_title(str(ndays) + \"-day running mean\")"
   ]
  },
  {
   "cell_type": "markdown",
   "id": "975232ac-c3cb-44f9-88e9-4da5ce970aca",
   "metadata": {},
   "source": [
    "## Creating an annual time series"
   ]
  },
  {
   "cell_type": "markdown",
   "id": "c11386b1-891e-480f-a87c-e47eafe07d22",
   "metadata": {},
   "source": [
    "### Annual maximum\n",
    "The easiest way to get an annual time series is to simply take the highest (or in some cases, the lowest) value per year"
   ]
  },
  {
   "cell_type": "code",
   "execution_count": null,
   "id": "134c5700-75d4-4919-82e2-66e8c2912ad7",
   "metadata": {
    "scrolled": true,
    "tags": []
   },
   "outputs": [],
   "source": [
    "# recalculate the 3-day running total\n",
    "ts_nday = ts.rolling(time = 3, center = False).sum()"
   ]
  },
  {
   "cell_type": "code",
   "execution_count": null,
   "id": "5312fcbb-0ef8-4494-b0d5-63f2d2a66ee3",
   "metadata": {},
   "outputs": [],
   "source": [
    "# get the annual maximum\n",
    "ts_amax = ts_nday.resample(time = \"YS-JAN\").max()         # this starts the year in January but you could use eg. \"YS-JUL\" to start in July and and in June"
   ]
  },
  {
   "cell_type": "code",
   "execution_count": null,
   "id": "173ebf9f-8996-4500-8db5-388afba63db9",
   "metadata": {},
   "outputs": [],
   "source": [
    "# plot\n",
    "ts_amax.plot(drawstyle = \"steps-mid\")"
   ]
  },
  {
   "cell_type": "markdown",
   "id": "d8c86583-8a9c-4390-8a32-594564cefd56",
   "metadata": {},
   "source": [
    "### Annual maximum over selected months\n",
    "If the event is unusual partly because of the time of year when it occurred, then you might want to look at only a specific month (or months)"
   ]
  },
  {
   "cell_type": "code",
   "execution_count": null,
   "id": "f2fc3355-6d5e-4f8e-9d38-8fa0b9b81904",
   "metadata": {},
   "outputs": [],
   "source": [
    "# first we choose just the months we're interested in - for example, we might only want to look at the wet season\n",
    "ts_subset = ts_nday.sel(time = ts_nday.time.dt.month.isin([5,6,7,8,9]))"
   ]
  },
  {
   "cell_type": "code",
   "execution_count": null,
   "id": "e0607e79-415c-4b3a-b815-1184c19cf39d",
   "metadata": {},
   "outputs": [],
   "source": [
    "# then we can get the annual maximum like we did before\n",
    "ts_smax = ts_nday.resample(time = \"YS-JAN\").max()\n",
    "\n",
    "ts_smax.plot(drawstyle = \"steps-mid\")"
   ]
  },
  {
   "cell_type": "markdown",
   "id": "1cd0d1cb-30b7-4c0b-a0f1-cd8a9800d3ad",
   "metadata": {},
   "source": [
    "# Looking at trends"
   ]
  },
  {
   "cell_type": "markdown",
   "id": "24cc0515-284e-471a-a388-7bdf488239a1",
   "metadata": {},
   "source": [
    "## Rolling mean\n",
    "\n",
    "We can put a running mean on top of the data to see what the trends look like over time"
   ]
  },
  {
   "cell_type": "code",
   "execution_count": null,
   "id": "94d3cad5-5b21-4e16-941a-3c315b709f52",
   "metadata": {},
   "outputs": [],
   "source": [
    "# compute the 15-year running mean\n",
    "ts_amax_sm = ts_amax.rolling(time = 15, center = True).mean()"
   ]
  },
  {
   "cell_type": "code",
   "execution_count": null,
   "id": "8d50cad8-aa77-41e3-9d28-21f815504918",
   "metadata": {},
   "outputs": [],
   "source": [
    "ts_amax.plot(drawstyle = \"steps-mid\")\n",
    "ts_amax_sm.plot(color = \"darkblue\", lw = 2)"
   ]
  },
  {
   "cell_type": "markdown",
   "id": "1a087847-8b72-492c-96d3-e5be287be96d",
   "metadata": {},
   "source": [
    "## Nonparametric smoothed trend\n",
    "\n",
    "This is a local nonparametric smoother called a lowess smoother - basically it's a bit like a rolling average but smoother, and you don't have gaps at either end of the series\n",
    "\n",
    "To get the full range of colours you can use for plotting, look at https://matplotlib.org/stable/gallery/color/named_colors.html"
   ]
  },
  {
   "cell_type": "code",
   "execution_count": null,
   "id": "f394eb4e-4b37-4a9f-b37f-f0fc05352939",
   "metadata": {},
   "outputs": [],
   "source": [
    "# get the smoothed values: we want to smooth the values over time\n",
    "ts_amax_np = sm_lowess.lowess(ts_amax, ts_amax.time.dt.year, frac = 2/3)    # 'frac' determines the fraction of the data used to smooth each point - smaller frac means wigglier data (default is 2/3)\n",
    "\n",
    "# turn the smoothed values back into a dataarray so they're easier to plot\n",
    "ts_amax_np = xr.DataArray(data = ts_amax_np[:,1], dims = [\"time\"], name = \"z\", coords = dict(ts_amax.coords))"
   ]
  },
  {
   "cell_type": "code",
   "execution_count": null,
   "id": "3c65dfe2-820a-4e70-850b-e37ce62518f9",
   "metadata": {},
   "outputs": [],
   "source": [
    "# we can plot both to compare them\n",
    "ts_amax.plot(drawstyle = \"steps-mid\")\n",
    "ts_amax_sm.plot(color = \"darkblue\")\n",
    "ts_amax_np.plot(color = \"darkgreen\", lw = 2)"
   ]
  },
  {
   "cell_type": "markdown",
   "id": "a42ef680-4500-4dd1-8023-6fcd802321cc",
   "metadata": {},
   "source": [
    "## Linear trend over time"
   ]
  },
  {
   "cell_type": "code",
   "execution_count": null,
   "id": "8d03657c-5cdb-4146-9c5c-4c2410119a48",
   "metadata": {},
   "outputs": [],
   "source": [
    "# fit a linear trend through the data\n",
    "linear_coeffs = ts_amax.polyfit(\"time\", deg = 1).polyfit_coefficients"
   ]
  },
  {
   "cell_type": "code",
   "execution_count": null,
   "id": "131bd209-bfde-4e5a-9310-cbb4fb4751ff",
   "metadata": {},
   "outputs": [],
   "source": [
    "# we can use the estimated coefficients to get the expected temperature in each year, and plot them\n",
    "fitted_values = xr.polyval(ts_amax.time, linear_coeffs)\n",
    "\n",
    "ts_amax.plot(drawstyle = \"steps-mid\")\n",
    "fitted_values.plot(color = \"k\", lw = 2)"
   ]
  },
  {
   "cell_type": "code",
   "execution_count": null,
   "id": "2e223509-0b89-49f9-9fa4-2a2bb189772c",
   "metadata": {},
   "outputs": [],
   "source": [
    "# let's just make sure this isn't just because the 2024 value is really really high\n",
    "lc_excl2024 = ts_amax.sel(time = slice(None, \"2023\")).polyfit(\"time\", deg = 1).polyfit_coefficients\n",
    "fv_excl2024 = xr.polyval(ts_amax.time, lc_excl2024)\n",
    "\n",
    "ts_amax.plot(drawstyle = \"steps-mid\")\n",
    "fitted_values.plot(color = \"k\", lw = 2, alpha = 0.7)\n",
    "fv_excl2024.plot(color = \"darkred\", lw = 2) # still an increasing trend, but lower"
   ]
  },
  {
   "cell_type": "code",
   "execution_count": null,
   "id": "15d3949e-9598-4086-8945-df8fdb358758",
   "metadata": {},
   "outputs": [],
   "source": [
    "# what if we look at a shorter time period (eg. 1970 onwards)\n",
    "ts_1970_2023 = ts_amax.sel(time = slice(\"1970\", \"2023\"))\n",
    "lc_1970_2023 = ts_1970_2023.polyfit(\"time\", deg = 1).polyfit_coefficients\n",
    "fv_1970_2023 = xr.polyval(ts_1970_2023.time, lc_1970_2023)\n",
    "\n",
    "ts_amax.plot(drawstyle = \"steps-mid\")\n",
    "fitted_values.plot(color = \"k\", lw = 2, alpha = 0.7)\n",
    "fv_excl2024.plot(color = \"darkred\", lw = 2)              # still an increasing trend, but lower\n",
    "fv_1970_2023.plot(color = \"orange\", lw = 2)              # almost no trend over the last 50 years"
   ]
  },
  {
   "cell_type": "code",
   "execution_count": null,
   "id": "60754a2a-40ef-42d9-8293-abcc93f6f595",
   "metadata": {},
   "outputs": [],
   "source": [
    "# add a legend so we can tell which line is which\n",
    "ts_1970_2023 = ts_amax.sel(time = slice(\"1970\", \"2023\"))\n",
    "lc_1970_2023 = ts_1970_2023.polyfit(\"time\", deg = 1).polyfit_coefficients\n",
    "fv_1970_2023 = xr.polyval(ts_1970_2023.time, lc_1970_2023)\n",
    "\n",
    "# we can add a label to each individual line\n",
    "ts_amax.plot(drawstyle = \"steps-mid\")\n",
    "fitted_values.plot(color = \"k\", lw = 2, alpha = 0.7, label = \"1950-2024\")\n",
    "fv_excl2024.plot(color = \"darkred\", lw = 2, label = \"1950-2023\")\n",
    "fv_1970_2023.plot(color = \"orange\", lw = 2, label = \"1970-2023\")\n",
    "\n",
    "ts_amax_sm.plot(color = \"darkblue\", label = \"15-year running mean\")\n",
    "ts_amax_np.plot(color = \"darkgreen\", lw = 2, label = \"Nonparametric smoother\")\n",
    "\n",
    "# and add a legend showing all the labels\n",
    "plt.legend()"
   ]
  },
  {
   "cell_type": "markdown",
   "id": "a0ba64f9-81e2-40b4-b568-e39ac0821f61",
   "metadata": {},
   "source": [
    "## Trend dependent on GMST\n",
    "\n",
    "Unless you're looking at a fairly short period, it's unlikely that any trend will be linear over time (that implies that it changes at a constant rate each year)  \n",
    "Instead, we can look at how our time series changes as the global mean surface temperature changes\n",
    "\n",
    "GMST time series can be downloaded from https://climexp.knmi.nl/data/igiss_al_gl_a_4yrlo.nc"
   ]
  },
  {
   "cell_type": "code",
   "execution_count": null,
   "id": "9da08d1e-b15c-4344-8b83-8bc2819707c0",
   "metadata": {},
   "outputs": [],
   "source": [
    "# first, load the GMST time series and select just the period we're interested in\n",
    "# annual data from the Climate Explorer has weirdly formatted times so we need to decode them manually\n",
    "gmst = decode_times(xr.open_dataset(\"igiss_al_gl_a_4yrlo.nc\", decode_times = False)).sel(time = slice(\"1950\", \"2024\")).Ta\n",
    "gmst.plot()"
   ]
  },
  {
   "cell_type": "code",
   "execution_count": null,
   "id": "93fa94f1-fa5f-4fe9-9b8d-3055cb3120b5",
   "metadata": {},
   "outputs": [],
   "source": [
    "# fit a linear trend to GMST by replacing time with gmst values\n",
    "gmst_coeffs = ts_amax.assign_coords(time = gmst.values).polyfit(\"time\", deg = 1).polyfit_coefficients\n",
    "\n",
    "print(\"Change per 1deg GMST increase: \", gmst_coeffs.sel(degree = 1).round(2).values)"
   ]
  },
  {
   "cell_type": "code",
   "execution_count": null,
   "id": "233c656c-ab05-475a-807d-2520ed522d23",
   "metadata": {},
   "outputs": [],
   "source": [
    "# again, we use the estimated coefficients to get the expected temperature in each year, and plot them\n",
    "gmst_fitted = xr.polyval(gmst, gmst_coeffs)"
   ]
  },
  {
   "cell_type": "code",
   "execution_count": null,
   "id": "1bf49e76-d377-45e5-a6ff-2fb90333cacf",
   "metadata": {},
   "outputs": [],
   "source": [
    "# plot the fitted trend against the obs to see if it makes sense\n",
    "ts_amax.plot(drawstyle = \"steps-mid\")\n",
    "ts_amax_np.plot(color = \"darkgreen\", lw = 2, label = \"Nonparametric smoother\")\n",
    "gmst_fitted.plot(color = \"k\", lw = 2, label = \"GMST trend\")"
   ]
  },
  {
   "cell_type": "markdown",
   "id": "1464d9ee-d981-4d31-9f93-f40726577b1f",
   "metadata": {},
   "source": [
    "# Other questions you might want to answer"
   ]
  },
  {
   "cell_type": "markdown",
   "id": "f42b3926-a360-42b6-8576-e727ed0744b3",
   "metadata": {},
   "source": [
    "## Was this the wettest day on record?"
   ]
  },
  {
   "cell_type": "code",
   "execution_count": null,
   "id": "48dd35dc-bb72-46bd-aa36-1f9b7dcc674d",
   "metadata": {
    "scrolled": true
   },
   "outputs": [],
   "source": [
    "# we can sort the values into ascending order and see when the most extreme events occurred\n",
    "ts_sorted = ts.sortby(ts, ascending = False)\n",
    "\n",
    "# then we can look at the times when the 10 wettest events occurred\n",
    "ts_sorted[:10].time"
   ]
  },
  {
   "cell_type": "markdown",
   "id": "2857a0b2-465e-4ac3-b9d7-24ebf6b1c05f",
   "metadata": {},
   "source": [
    "## How many times have we exceeded a particular threshold, and when?"
   ]
  },
  {
   "cell_type": "code",
   "execution_count": null,
   "id": "ae7d94dc-7ec8-40bc-bd5f-cd9e9f07e64a",
   "metadata": {},
   "outputs": [],
   "source": [
    "# select just those days that exceed some threshold of interest\n",
    "wet_days = ts.where(ts >= 10).dropna(\"time\", how = \"any\")\n",
    "\n",
    "# the default plot is... not helpful\n",
    "wet_days.plot()"
   ]
  },
  {
   "cell_type": "code",
   "execution_count": null,
   "id": "89cffdc6-bdb6-4270-896d-0362f6d84525",
   "metadata": {},
   "outputs": [],
   "source": [
    "# try plotting as points instead\n",
    "wet_days.plot(ls = \"\", marker = \".\")"
   ]
  },
  {
   "cell_type": "code",
   "execution_count": null,
   "id": "43be6175-942f-4448-92e1-6a5be5879c65",
   "metadata": {},
   "outputs": [],
   "source": [
    "# we can also look at counts of exceedances each year\n",
    "n_wetdays = wet_days.resample(time = \"YS-JAN\").count()\n",
    "\n",
    "plt.bar(x = n_wetdays.time.dt.year, height = n_wetdays)"
   ]
  },
  {
   "cell_type": "code",
   "execution_count": null,
   "id": "548bf043-1e98-491f-8736-0d10d2a061a1",
   "metadata": {},
   "outputs": [],
   "source": []
  }
 ],
 "metadata": {
  "kernelspec": {
   "display_name": "Python 3 (ipykernel)",
   "language": "python",
   "name": "python3"
  },
  "language_info": {
   "codemirror_mode": {
    "name": "ipython",
    "version": 3
   },
   "file_extension": ".py",
   "mimetype": "text/x-python",
   "name": "python",
   "nbconvert_exporter": "python",
   "pygments_lexer": "ipython3",
   "version": "3.12.5"
  }
 },
 "nbformat": 4,
 "nbformat_minor": 5
}
