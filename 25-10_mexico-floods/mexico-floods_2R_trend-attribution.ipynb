{
 "cells": [
  {
   "cell_type": "code",
   "execution_count": 6,
   "id": "e970e59f-9215-4305-b37c-4624241ba5de",
   "metadata": {
    "scrolled": true
   },
   "outputs": [],
   "source": [
    "suppressMessages(library(rwwa))\n",
    "\n",
    "varnm <- \"rx3day\"\n",
    "nsamp <- 1000\n",
    "\n",
    "rp <- switch(varnm, \"rx3day\" = 10, \"pr-jjaso\" = 20)\n",
    "\n",
    "mdl_args <- list(\"rx3day\" = list(dist = \"gev\", type = \"fixeddisp\"),\n",
    "                 \"pr-jjaso\" = list(dist = \"norm\", type = \"fixeddisp\"))[[varnm]]"
   ]
  },
  {
   "cell_type": "markdown",
   "id": "23c09915-bfc5-4b1c-96bc-93b9bad93b76",
   "metadata": {},
   "source": [
    "## CORDEX"
   ]
  },
  {
   "cell_type": "code",
   "execution_count": null,
   "id": "f302de52-57e3-447e-83c9-16c7c3634033",
   "metadata": {},
   "outputs": [
    {
     "name": "stdout",
     "output_type": "stream",
     "text": [
      "[1] \"CanESM2_r1i1p1_CRCM5\"\n"
     ]
    }
   ],
   "source": [
    "for (fnm in list.files(\"ts\", pattern = paste0(varnm,\"_CAM\"), full.names = T)) {\n",
    "\n",
    "    gcm <- gsub(\"_\", \"_rcp85_\", gsub(\"i1p1\",\"\",paste0(strsplit(fnm, \"_\")[[1]][3:4], collapse = \"_\")))\n",
    "    mdl <- gsub(\".dat\",\"\",paste0(strsplit(fnm, \"_\")[[1]][3:5], collapse = \"_\"))\n",
    "    print(mdl)\n",
    "    # if (mdl %in% c(\"CNRM-CM5_r1i1p1_ALADIN53\",\"HadGEM2-ES_r1i1p1_HadREM3-GA7-05\")) next\n",
    "                \n",
    "    res_fnm <- gsub(\"ts/\", \"res-mdl-gmstonly/res-cordex_\", gsub(\".nc\", \".csv\", fnm))\n",
    "    if (file.exists(res_fnm)) next\n",
    "     \n",
    "    gmst_fnm <- list.files(\"~/00_WWA_project_folder/live/data/cmip5_gmsts/\",\n",
    "                           pattern = paste0(gcm), full.names = T)\n",
    "    if(length(gmst_fnm) == 0) next\n",
    "\n",
    "    # load all the data\n",
    "    ts <- load_ts(fnm, col.names = c(\"year\", \"x\"))\n",
    "    gmst <- load_ts(gmst_fnm, col.names = c(\"year\", \"gmst\"))\n",
    "    df <- merge(gmst, ts)\n",
    "    df <- df[df$year <= 2070,]\n",
    "    df$x <- as.numeric(df$x)\n",
    "    df <- df[!is.na(df$x),]\n",
    "    if (nrow(df) < 75) { next }\n",
    "    \n",
    "    # pick up model to be fitted depending on variable\n",
    "    mdl <- tryCatch({\n",
    "            do.call(fit_ns, append(mdl_args, list(\"data\" = df, \"varnm\" = \"x\", covnm = \"gmst\", lower = F)))\n",
    "        }, error = function(cond) {\n",
    "            return(NULL)\n",
    "        })\n",
    "    if (is.null(mdl)) { \n",
    "        mdl <- do.call(fit_ns, append(mdl_args, list(\"data\" = df, \"varnm\" = \"x\", covnm = \"gmst\", lower = F, \"method\" = \"Nelder-Mead\")))\n",
    "    }\n",
    "    \n",
    "    # use model's 2025 GMST to define factual climate        \n",
    "    cov_now <- df[df$year == 2025,\"gmst\",drop = F]\n",
    "    cov_hist <- cov_now - 1.3\n",
    "    cov_fut <- cov_now + 1.3\n",
    "\n",
    "    # bootstrap results\n",
    "    res <- cmodel_results(mdl, rp = rp, cov_f = cov_now, cov_hist = cov_hist, cov_fut = cov_fut,\n",
    "                          y_now = 2025, y_start = 1950, y_fut = 2070, nsamp = nsamp)\n",
    "    res <- cbind(res, data.frame(\"ystart\" = min(df$year), \"yend\" = max(df$year)))\n",
    "    write.csv(res, res_fnm)\n",
    "\n",
    "    # quick return level plots to check fit\n",
    "    rlplot_fnm <- gsub(\"csv\", \"png\", gsub(\"res.+/res\", \"mdl-eval/rlplot\", res_fnm))\n",
    "    if(!file.exists(rlplot_fnm)) {\n",
    "        png(rlplot_fnm, h = 360, w = 480); par(cex.main = 1.4); {\n",
    "            plot_returnlevels(mdl, cov_f = cov_now, cov_cf = cov_hist, nsamp = 100, main = gsub(\"ts/\", \"\", gsub(\".csv\", \"\", fnm)))\n",
    "        }; dev.off()\n",
    "    }\n",
    "}\n",
    "print(\"Done.\")"
   ]
  },
  {
   "cell_type": "markdown",
   "id": "a41275db-9c86-45be-ae23-82a8143bee94",
   "metadata": {},
   "source": [
    "## HighResMIP"
   ]
  },
  {
   "cell_type": "code",
   "execution_count": null,
   "id": "f8827767-a4ac-44db-a21b-c9f85cdd8aa5",
   "metadata": {},
   "outputs": [],
   "source": [
    "for(fnm in list.files(\"ts\", pattern = paste0(varnm,\"_day\"), full.names = T)) {\n",
    "    \n",
    "    gcm <- gsub(\"_highresSST\",\"\",paste0(strsplit(fnm, \"_\")[[1]][3:5], collapse = \"_\"))\n",
    "    \n",
    "    res_fnm <- paste0(\"res-mdl-gmstonly/res-highresmip_\",varnm,\"_\",gcm,\".csv\")\n",
    "    \n",
    "    if(!file.exists(res_fnm)) {\n",
    "        ts <- read.table(fnm, col.names = c(\"year\", \"x\"))\n",
    "\n",
    "        gmst_fnm <- list.files(\"~/00_WWA_project_folder/live/data/highresmip/GSAT\", pattern = gcm, full.names = T)\n",
    "        if(length(gmst_fnm) == 0) next\n",
    "        \n",
    "        gmst <- load_ts(gmst_fnm, col.names = c(\"year\", \"gmst\"))\n",
    "        df <- merge(ts, gmst)\n",
    "        df$x <- as.numeric(df$x)\n",
    "        df <- df[!is.na(df$x),]\n",
    "        if (nrow(df) < 75) { next }\n",
    "        \n",
    "        # pick up model to be fitted depending on variable\n",
    "        mdl <- tryCatch({\n",
    "                do.call(fit_ns, append(mdl_args, list(\"data\" = df, \"varnm\" = \"x\", covnm = \"gmst\", lower = F)))\n",
    "            }, error = function(cond) {\n",
    "                return(NULL)\n",
    "            })\n",
    "        if (is.null(mdl)) { \n",
    "            mdl <- do.call(fit_ns, append(mdl_args, list(\"data\" = df, \"varnm\" = \"x\", covnm = \"gmst\", lower = F, \"method\" = \"Nelder-Mead\")))\n",
    "        }\n",
    "        \n",
    "        # use model's 2025 GMST to define factual climate        \n",
    "        cov_now <- df[df$year == 2025,\"gmst\",drop = F]\n",
    "        cov_hist <- cov_now - 1.3\n",
    "        cov_fut <- cov_now + 1.3\n",
    "    \n",
    "        # bootstrap results\n",
    "        res <- cmodel_results(mdl, rp = rp, cov_f = cov_now, cov_hist = cov_hist, cov_fut = cov_fut,\n",
    "                              y_now = 2025, y_start = 1950, y_fut = 2070, nsamp = nsamp)\n",
    "        res <- cbind(res, data.frame(\"ystart\" = min(df$year), \"yend\" = max(df$year)))\n",
    "        write.csv(res, res_fnm)\n",
    "\n",
    "        # quick return level plots to check fit\n",
    "        rlplot_fnm <- gsub(\"csv\", \"png\", gsub(\"res.+/res\", \"mdl-eval/rlplot\", res_fnm))\n",
    "        if(!file.exists(rlplot_fnm)) {\n",
    "            png(rlplot_fnm, h = 360, w = 480); par(cex.main = 1.4); {\n",
    "                plot_returnlevels(mdl, cov_f = cov_now, cov_cf = cov_hist, nsamp = 100, main = gsub(\"ts/\", \"\", gsub(\".csv\", \"\", fnm)))\n",
    "            }; dev.off()\n",
    "        }\n",
    "    }\n",
    "}"
   ]
  },
  {
   "cell_type": "markdown",
   "id": "4ab0d229-bc2a-4d44-9db4-7ef2144f4617",
   "metadata": {},
   "source": [
    "## Compile models"
   ]
  },
  {
   "cell_type": "code",
   "execution_count": null,
   "id": "ce3b9ab2-9a52-43c5-bfb0-39b30b2057de",
   "metadata": {},
   "outputs": [],
   "source": [
    "for (framing %in% c(\"cordex\", \"highresmip\")) {\n",
    "    mdl_res <- t(sapply(list.files(\"res-mdl-gmstonly\", pattern = paste0(framing,\".+\",varnm), full.names = T), read.csv))\n",
    "    rownames(mdl_res) <- apply(sapply(strsplit(gsub(\".csv\",\"\",rownames(mdl_res)), \"_\"), \"[\", 3:6), 2, paste0, collapse = \"_\")\n",
    "    write.csv(mdl_res, paste0(\"res-\",framing,\"_\",varnm,\"_gmst-only.csv\"))\n",
    "}"
   ]
  },
  {
   "cell_type": "code",
   "execution_count": null,
   "id": "6d02ea95-dea6-4bef-b823-e95d5937a2db",
   "metadata": {},
   "outputs": [],
   "source": []
  }
 ],
 "metadata": {
  "kernelspec": {
   "display_name": "R 4.4.3 (main R env)",
   "language": "R",
   "name": "r_443"
  },
  "language_info": {
   "codemirror_mode": "r",
   "file_extension": ".r",
   "mimetype": "text/x-r-source",
   "name": "R",
   "pygments_lexer": "r",
   "version": "4.4.3"
  }
 },
 "nbformat": 4,
 "nbformat_minor": 5
}
