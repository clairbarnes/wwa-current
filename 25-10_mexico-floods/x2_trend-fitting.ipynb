{
 "cells": [
  {
   "cell_type": "code",
   "execution_count": 1,
   "id": "01859593-1a7c-494c-a485-210809825be2",
   "metadata": {},
   "outputs": [],
   "source": [
    "suppressMessages(library(rwwa))"
   ]
  },
  {
   "cell_type": "code",
   "execution_count": 2,
   "id": "f11f866f-4ed8-4cfd-9d41-4b68bb227989",
   "metadata": {},
   "outputs": [],
   "source": [
    "nsamp = 1000\n",
    "\n",
    "varnm = \"rx3day\"\n",
    "\n",
    "rp <- list(\"rx3day\" = 10, \"pr-jjaso\" = 10)[[varnm]]\n",
    "mdl_args <- list(\"rx3day\" = list(\"dist\" = \"gev\", \"type\" = \"fixeddisp\"),\n",
    "                 \"pr-jjaso\" = list(\"dist\" = \"norm\", \"type\" = \"fixeddisp\"))[[varnm]]"
   ]
  },
  {
   "cell_type": "code",
   "execution_count": 3,
   "id": "0edbb737-4d9b-4453-9394-06b3ee064d1d",
   "metadata": {},
   "outputs": [],
   "source": [
    "# standardise observed Nino to have mean 0 and sd 1 over 1979-2023\n",
    "nino_obs <- load_ts(\"ts/mexico-floods_nino3.4-sep.dat\", col.names = c(\"year\", \"nino\"))\n",
    "nino_obs <- rbind(nino_obs, c(2025, 26.0))\n",
    "\n",
    "nino_1979 <- nino_obs$nino[nino_obs$year >= 1979]\n",
    "nino_std <- data.frame(\"year\" = nino_obs$year, \"nino\" = (nino_obs$nino - mean(nino_1979)) / sd(nino_1979))\n",
    "\n",
    "# use 2025 standardised Nino as covariate\n",
    "nino_2025 <- nino_std$nino[nino_std$year == 2025]"
   ]
  },
  {
   "cell_type": "markdown",
   "id": "fae2c313-49e2-4a8f-a75b-a05c9b5fa255",
   "metadata": {},
   "source": [
    "## CORDEX - trend with ENSO"
   ]
  },
  {
   "cell_type": "code",
   "execution_count": 6,
   "id": "e4d32b81-11e8-44ca-9543-1426eba885c5",
   "metadata": {},
   "outputs": [
    {
     "name": "stdout",
     "output_type": "stream",
     "text": [
      "[1] \"ts/pr-rx3day_CAM-22_CanESM2_r1i1p1_CRCM5_19500101-20701231.nc\"\n",
      "[1] \"ts/pr-rx3day_CAM-22_GFDL-ESM2M_r1i1p1_CRCM5_19500101-20701231.nc\"\n",
      "[1] \"ts/pr-rx3day_CAM-22_GFDL-ESM2M_r1i1p1_RegCM4-7_19700101-20691231.nc\"\n",
      "[1] \"ts/pr-rx3day_CAM-22_HadGEM2-ES_r1i1p1_RegCM4-7_19700101-20691230.nc\"\n",
      "[1] \"ts/pr-rx3day_CAM-22_HadGEM2-ES_r1i1p1_REMO2015_19700101-20701230.nc\"\n",
      "[1] \"ts/pr-rx3day_CAM-22_MPI-ESM-LR_r1i1p1_REMO2015_19700101-20701231.nc\"\n",
      "[1] \"ts/pr-rx3day_CAM-22_MPI-ESM-MR_r1i1p1_RegCM4-7_19700101-20691231.nc\"\n"
     ]
    }
   ],
   "source": [
    "fl <- list.files(\"ts\", pattern = paste0(varnm, \"_CAM\"), full.names = T)\n",
    "\n",
    "for (fnm in fl) {\n",
    "    print(fnm)\n",
    "\n",
    "    res_fnm <- gsub(\".nc\", \".csv\", gsub(\"ts\", \"res-nino\", fnm))\n",
    "    if (exists(res_fnm)) next\n",
    "\n",
    "    gcm <- paste0(strsplit(fnm, \"_\")[[1]][3:4], collapse = \"_\")\n",
    "    \n",
    "    nino_fnm <- list.files(\"ts\", paste0(\"nino3.4-sep_\", gcm), full.names = T)\n",
    "    if (length(nino_fnm) == 0) next\n",
    "\n",
    "    gmst_fnm <- list.files(\"ts\", gsub(\"_\", \"_rcp85_\", paste0(gsub(\"i1p1\", \"\", gcm), \".dat\")), full.names = T)\n",
    "    if (length(gmst_fnm) == 0) next\n",
    "\n",
    "    nino <- load_ts(nino_fnm, col.names = c(\"year\", \"nino34\"))\n",
    "    gmst <- load_ts(gmst_fnm, col.names = c(\"year\", \"gmst\"))\n",
    "    ts <- load_ts(fnm, col.names = c(\"year\", \"pr\"))\n",
    "    df <- data.frame(apply(merge(merge(nino, gmst), ts), 2, as.numeric))\n",
    "\n",
    "    # add standardised Nino covariate\n",
    "    nino_clim <- df[(df$year >= 1979) & (df$year <= 2025), c(\"nino34\", \"pr\")]\n",
    "    df$nino_std <- (df$nino - mean(nino_clim$nino34)) / sd(nino_clim$nino34)\n",
    "\n",
    "    # trend fitting\n",
    "    mdl <- do.call(fit_ns, append(mdl_args, list(\"data\" = df, \"varnm\" = \"pr\", \"covnm\" = c(\"gmst\", \"nino_std\"), \"lower\" = F)))\n",
    "\n",
    "    # use model's 2023 GMST & observed Nino to define factual climate\n",
    "    gmst_2025 <- df$gmst[df$year == 2025]\n",
    "    \n",
    "    cov_2025 <- data.frame(gmst = gmst_2025, nino_std = nino_2025)\n",
    "    cov_cf <- rbind(\"pi\" = data.frame(\"gmst\" = gmst_2025 - 1.3, \"nino_std\" = nino_2025), \n",
    "                    \"neut\" = data.frame(\"gmst\" = gmst_2025, \"nino_std\" = 0))\n",
    "    cov_fut <- data.frame(gmst = gmst_2025 + 1.3, nino_std = nino_2025)\n",
    "\n",
    "    # bootstrap results\n",
    "    res <- cmodel_results(mdl, rp = rp, cov_f = cov_2025, cov_hist = cov_cf, cov_fut = cov_fut,\n",
    "                         y_now = 2025, y_start = 1979, y_fut = 2070, nsamp = nsamp)\n",
    "\n",
    "    # bootstrap Nino amplitude & correlation between Nino & precip in this region\n",
    "    set.seed(42)\n",
    "\n",
    "    nino_boot <- sapply(1:nsamp, function(i) {\n",
    "        boot_df <- nino_clim[sample(1:nrow(nino_clim), replace = T), ]\n",
    "        c(\"nino_cor\" = cor(boot_df$nino34, boot_df$pr), \"nino_sd\" = sd(boot_df$nino34))\n",
    "    })\n",
    "    nino_qq <- rbind(\"est\" = c(cor(df$nino34, df$pr), sd(df$nino34)), apply(nino_boot,1,quantile,c(0.025, 0.975)))\n",
    "    nino_qq <- t(data.frame(unlist(sapply(colnames(nino_qq), function(cnm) {\n",
    "        setNames(nino_qq[,cnm], paste0(cnm,\"_\", c(\"est\", \"lower\", \"upper\")))\n",
    "    }, simplify = F, USE.NAMES = F))))\n",
    "                                       \n",
    "    res <- cbind(res, nino_qq)\n",
    "    write.csv(res, res_fnm)\n",
    "\n",
    "    # quick return level plots to check fit\n",
    "    rlplot_fnm <- gsub(\"csv\", \"png\", gsub(\"res-nino/\", \"mdl-eval/rlplot-nino_\", res_fnm))\n",
    "    if(!file.exists(rlplot_fnm)) {\n",
    "        png(rlplot_fnm, h = 480, w = 480 * 2); par(cex.main = 1.4, mfrow = c(1,2), oma = c(0,0,2,0)); {\n",
    "            plot_returnlevels(mdl, cov_f = cov_2025, cov_cf = cov_cf[\"pi\",,drop = F], nsamp = 100, main = \"Present vs PI\")\n",
    "            plot_returnlevels(mdl, cov_f = cov_2025, cov_cf = cov_cf[\"neut\",,drop = F], nsamp = 100, main =\"Present vs neutral Nino3.4\")\n",
    "            mtext(outer = T, gsub(\".dat\",\"\",paste0(strsplit(fnm, \"_\")[[1]][3:5], collapse = \"_\")), font = 2, cex = 1.5)\n",
    "        }; dev.off()\n",
    "    }\n",
    "}"
   ]
  },
  {
   "cell_type": "code",
   "execution_count": null,
   "id": "cb32d818-8f07-4509-a08e-dc05a061a7a1",
   "metadata": {},
   "outputs": [],
   "source": []
  }
 ],
 "metadata": {
  "kernelspec": {
   "display_name": "R 4.4.3 (main R env)",
   "language": "R",
   "name": "r_443"
  },
  "language_info": {
   "codemirror_mode": "r",
   "file_extension": ".r",
   "mimetype": "text/x-r-source",
   "name": "R",
   "pygments_lexer": "r",
   "version": "4.4.3"
  }
 },
 "nbformat": 4,
 "nbformat_minor": 5
}
