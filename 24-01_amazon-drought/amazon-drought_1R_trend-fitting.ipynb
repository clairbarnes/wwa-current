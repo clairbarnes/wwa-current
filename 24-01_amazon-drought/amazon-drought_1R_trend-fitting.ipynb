{
 "cells": [
  {
   "cell_type": "code",
   "execution_count": 1,
   "metadata": {},
   "outputs": [
    {
     "ename": "ERROR",
     "evalue": "Error in library(extRemes): there is no package called ‘extRemes’\n",
     "output_type": "error",
     "traceback": [
      "Error in library(extRemes): there is no package called ‘extRemes’\nTraceback:\n",
      "1. source(\"../00_model-fitting-dev/multivariate/model-fitting_multi-covariate.R\")",
      "2. withVisible(eval(ei, envir))",
      "3. eval(ei, envir)",
      "4. eval(ei, envir)",
      "5. suppressWarnings(suppressMessages({\n .     library(extRemes)\n .     library(abind)\n .     library(shape)\n . }))",
      "6. withCallingHandlers(expr, warning = function(w) if (inherits(w, \n .     classes)) tryInvokeRestart(\"muffleWarning\"))",
      "7. suppressMessages({\n .     library(extRemes)\n .     library(abind)\n .     library(shape)\n . })",
      "8. withCallingHandlers(expr, message = function(c) if (inherits(c, \n .     classes)) tryInvokeRestart(\"muffleMessage\"))",
      "9. library(extRemes)"
     ]
    }
   ],
   "source": [
    "source(\"../00_model-fitting-dev/multivariate/model-fitting_multi-covariate.R\")"
   ]
  },
  {
   "cell_type": "code",
   "execution_count": null,
   "metadata": {},
   "outputs": [],
   "source": []
  }
 ],
 "metadata": {
  "kernelspec": {
   "display_name": "R [conda env:wwa_R]",
   "language": "R",
   "name": "conda-env-wwa_R-r"
  },
  "language_info": {
   "codemirror_mode": "r",
   "file_extension": ".r",
   "mimetype": "text/x-r-source",
   "name": "R",
   "pygments_lexer": "r",
   "version": "4.1.3"
  }
 },
 "nbformat": 4,
 "nbformat_minor": 2
}
