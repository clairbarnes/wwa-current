{
 "cells": [
  {
   "cell_type": "code",
   "execution_count": 1,
   "metadata": {},
   "outputs": [],
   "source": [
    "import sys; sys.path.append('../../wwa/'); from wwa import *\n",
    "\n",
    "# broader region for plotting\n",
    "Xn,Xx,Yn,Yx = [-18,52,0,35]\n",
    "\n",
    "# region for West Africa time series analysis\n",
    "xn, xx, yn, yx = [-16,20,10,17]\n",
    "box_str = \"_\".join([str(i) for i in [xn, xx, yn, yx]])\n",
    "\n",
    "# shapefile\n",
    "sf = gpd.read_file(\"sf_malibf\")\n",
    "\n",
    "mapproj = cartopy.crs.PlateCarree()\n",
    "\n",
    "bamako = get_latlon(\"Bamako, Mali\")\n",
    "\n",
    "fpath = \"../../00_WWA_project_folder/ephemeral/00_Sahel-heat/\""
   ]
  },
  {
   "cell_type": "markdown",
   "metadata": {},
   "source": [
    "# CMIP6 on JASMIN"
   ]
  },
  {
   "cell_type": "code",
   "execution_count": null,
   "metadata": {},
   "outputs": [],
   "source": [
    "import xarray as xr\n",
    "import numpy as np\n",
    "import glob\n",
    "import re\n",
    "import geopandas as gpd\n",
    "import regionmask\n",
    "import os\n",
    "\n",
    "os.chdir(\"/home/users/clairb/00_notebooks/24-04_sahel-heat\")\n",
    "\n",
    "import dask; dask.config.set(**{'array.slicing.split_large_chunks': True})\n",
    "\n",
    "# broader region for plotting\n",
    "Xn,Xx,Yn,Yx = [-18,52,0,35]\n",
    "\n",
    "# region for West Africa time series analysis\n",
    "xn, xx, yn, yx = [-10,20,10,17]\n",
    "box_str = \"_\".join([str(i) for i in [xn, xx, yn, yx]])\n",
    "\n",
    "# shapefile\n"
   ]
  },
  {
   "cell_type": "code",
   "execution_count": null,
   "metadata": {},
   "outputs": [],
   "source": [
    "def wrap_lon(ds):\n",
    "    \n",
    "    # method to wrap longitude from (0,360) to (-180,180)\n",
    "    \n",
    "    if \"longitude\" in ds.coords:\n",
    "        lon = \"longitude\"\n",
    "        lat = \"latitude\"\n",
    "    elif \"lon\" in ds.coords:\n",
    "        lon = \"lon\"\n",
    "        lat = \"lat\"\n",
    "    else: \n",
    "        # can only wrap longitude\n",
    "        return ds\n",
    "    \n",
    "    if ds[lon].max() > 180:\n",
    "        ds[lon] = (ds[lon].dims, (((ds[lon].values + 180) % 360) - 180), ds[lon].attrs)\n",
    "        \n",
    "    if lon in ds.dims:\n",
    "        ds = ds.reindex({ lon : np.sort(ds[lon]) })\n",
    "        ds = ds.reindex({ lat : np.sort(ds[lat]) })\n",
    "    return ds"
   ]
  },
  {
   "cell_type": "markdown",
   "metadata": {},
   "source": [
    "## Identify models with both historical & SSP data"
   ]
  },
  {
   "cell_type": "code",
   "execution_count": 2,
   "metadata": {},
   "outputs": [],
   "source": [
    "varnm = \"tasmin\"\n",
    "\n",
    "# list all models with available historical data\n",
    "fl_hist = glob.glob('/badc/cmip6/data/CMIP6/CMIP/*/*/historical/*/day/'+varnm)\n",
    "mdl_hist = [re.sub(\"_historical\", \"\", \"_\".join(fnm.split(\"/\")[6:10])) for fnm in fl_hist]\n",
    "\n",
    "# list all models with available SSP585 data\n",
    "fl_ssp = glob.glob('/badc/cmip6/data/CMIP6/ScenarioMIP/*/*/ssp585/*/day/'+varnm)\n",
    "mdl_ssp = [re.sub(\"_ssp585\", \"\", \"_\".join(fnm.split(\"/\")[6:10])) for fnm in fl_ssp]\n",
    "\n",
    "# list all model variants for which both historical & SSP are available\n",
    "model_vars = sorted([m for m in mdl_hist if m in mdl_ssp])\n",
    "\n",
    "# identify unique models & get first ensemble member for each\n",
    "models = list(set([\"_\".join(m.split(\"_\")[:2]) for m in model_vars]))\n",
    "models = [[v for v in model_vars if m in v][0] for m in models]"
   ]
  },
  {
   "cell_type": "code",
   "execution_count": null,
   "metadata": {},
   "outputs": [],
   "source": [
    "# filter out any models already processed on HPC\n",
    "synda_models = ['ACCESS-CM2',\n",
    "                 'ACCESS-ESM1-5',\n",
    "                 'AWI-CM-1-1-MR',\n",
    "                 'CanESM5',\n",
    "                 'E3SM-1-0',\n",
    "                 'EC-Earth3',\n",
    "                 'EC-Earth3-Veg',\n",
    "                 'EC-Earth3-Veg-LR',\n",
    "                 'INM-CM4-8',\n",
    "                 'INM-CM5-0',\n",
    "                 'MIROC6',\n",
    "                 'MPI-ESM1-2-HR',\n",
    "                 'MPI-ESM1-2-LR',\n",
    "                 'MRI-ESM2-0',\n",
    "                 'NESM3',\n",
    "                 'NorESM2-LM',\n",
    "                 'NorESM2-MM']\n",
    "models = [m for m in models if not m.split(\"_\")[1] in synda_models]"
   ]
  },
  {
   "cell_type": "code",
   "execution_count": null,
   "metadata": {},
   "outputs": [],
   "source": [
    "# cut out time series & spatial pattern for individual files\n",
    "for mdl in models:\n",
    "\n",
    "    print(mdl, end = \"\")\n",
    "    inst, gcm, em = mdl.split(\"_\")\n",
    "\n",
    "    sp_fnm = \"spatial/\"+varnm+\"_\"+mdl+\"_\"+box_str+\"_spatial-monthly.nc\"\n",
    "    box_fnm = \"daily/\"+varnm+\"_\"+mdl+\"_\"+box_str+\"_daily.nc\"\n",
    "    sf_fnm = \"daily/\"+varnm+\"_\"+mdl+\"_\"+sf_str+\"_daily.nc\"\n",
    "\n",
    "    # if os.path.exists(sp_fnm) and os.path.exists(box_fnm) and os.path.exists(sf_fnm): \n",
    "    if os.path.exists(sf_fnm): \n",
    "        print(\"Already processed\")\n",
    "        continue\n",
    "\n",
    "    # list all relevant files (not including anything past 2050 at the moment)\n",
    "    fl_h = glob.glob(\"/badc/cmip6/data/CMIP6/CMIP/\"+inst+\"/\"+gcm+\"/historical/\"+em+\"/day/\"+varnm+\"/*/latest/*.nc\")\n",
    "    fl_s = glob.glob(\"/badc/cmip6/data/CMIP6/ScenarioMIP/\"+inst+\"/\"+gcm+\"/ssp585/\"+em+\"/day/\"+varnm+\"/*/latest/*.nc\")\n",
    "    fl_s = [fnm for fnm in fl_s if int(fnm[-20:-16]) <= 2050]\n",
    "\n",
    "    fl = fl_h + fl_s\n",
    "    if(len(fl) == 0): continue\n",
    "\n",
    "    for fnm in fl:\n",
    "        \n",
    "        # load the data\n",
    "    \n",
    "        # can't convert units or calendar on Jasmin so will have to handle that later\n",
    "\n",
    "        # # monthly spatial pattern\n",
    "        # sp = da.groupby(\"time.month\").mean()\n",
    "        # sp.to_netcdf(\"cmip6/\"+re.sub(\"day\", \"spatial\", fnm.split(\"/\")[-1]))\n",
    "\n",
    "        # # get daily time series over rectangular region\n",
    "        # ts_box = da.sel(lon = slice(xn,xx), lat = slice(yn,yx)).mean([\"lat\", \"lon\"])\n",
    "        # ts_box.to_netcdf(\"cmip6/\"+re.sub(\"day\", \"daily-box\", fnm.split(\"/\")[-1]))\n",
    "\n",
    "        # get daily time series over shapefile region\n",
    "        rm = regionmask.mask_3D_geopandas(sf, da.lon, da.lat).sum(\"region\")\n",
    "        ts_sf = da.where(rm == 1).mean([\"lat\", \"lon\"])\n",
    "        ts_sf.to_netcdf(\"cmip6/\"+re.sub(\"day\", \"daily-sf\", fnm.split(\"/\")[-1]))\n",
    "\n",
    "        print(\".\", end = \"\")\n",
    "    print(\"\")"
   ]
  },
  {
   "cell_type": "markdown",
   "metadata": {},
   "source": [
    "# CMIP6 on HPC"
   ]
  },
  {
   "cell_type": "markdown",
   "metadata": {},
   "source": [
    "## Extract subset of model data using cdo"
   ]
  },
  {
   "cell_type": "code",
   "execution_count": 3,
   "metadata": {},
   "outputs": [],
   "source": [
    "jasmin_models = ['AS-RCEC_TaiESM1_r1i1p1f1',\n",
    "                 'AWI_AWI-CM-1-1-MR_r1i1p1f1',\n",
    "                 'BCC_BCC-CSM2-MR_r1i1p1f1',\n",
    "                 'CAMS_CAMS-CSM1-0_r2i1p1f1',\n",
    "                 'CAS_FGOALS-g3_r1i1p1f1',\n",
    "                 'CCCma_CanESM5_r10i1p1f1',\n",
    "                 'CMCC_CMCC-CM2-SR5_r1i1p1f1',\n",
    "                 'CNRM-CERFACS_CNRM-CM6-1-HR_r1i1p1f2',\n",
    "                 'CNRM-CERFACS_CNRM-CM6-1-HR_r1i1p1f2',\n",
    "                 'CNRM-CERFACS_CNRM-ESM2-1_r1i1p1f2',\n",
    "                 'CSIRO-ARCCSS_ACCESS-CM2_r1i1p1f1',\n",
    "                 'CSIRO_ACCESS-ESM1-5_r1i1p1f1',\n",
    "                 'EC-Earth-Consortium_EC-Earth3-CC_r1i1p1f1',\n",
    "                 'EC-Earth-Consortium_EC-Earth3-Veg-LR_r1i1p1f1',\n",
    "                 'EC-Earth-Consortium_EC-Earth3-Veg-LR_r1i1p1f1',\n",
    "                 'INM_INM-CM4-8_r1i1p1f1',\n",
    "                 'INM_INM-CM5-0_r1i1p1f1',\n",
    "                 'IPSL_IPSL-CM6A-LR_r1i1p1f1',\n",
    "                 'KIOST_KIOST-ESM_r1i1p1f1',\n",
    "                 'MIROC_MIROC-ES2L_r1i1p1f2',\n",
    "                 'MIROC_MIROC6_r10i1p1f1',\n",
    "                 'MOHC_UKESM1-0-LL_r1i1p1f2',\n",
    "                 'MPI-M_MPI-ESM1-2-LR_r1i1p1f1',\n",
    "                 'MRI_MRI-ESM2-0_r1i1p1f1',\n",
    "                 'NCC_NorESM2-LM_r1i1p1f1',\n",
    "                 'NCC_NorESM2-MM_r1i1p1f1',\n",
    "                 'NIMS-KMA_KACE-1-0-G_r1i1p1f1',\n",
    "                 'NIMS-KMA_UKESM1-0-LL_r14i1p1f2',\n",
    "                 'NUIST_NESM3_r1i1p1f1']\n",
    "\n",
    "jasmin_models = sorted([m.split(\"_\")[1] for m in jasmin_models])"
   ]
  },
  {
   "cell_type": "code",
   "execution_count": 4,
   "metadata": {},
   "outputs": [],
   "source": [
    "varnm = \"tasmin\"\n",
    "\n",
    "# identify models with full range of required data\n",
    "synda_path = \"/rds/general/user/cb2714/home/00_WWA_project_folder/ephemeral/synda_clair/data/CMIP6/\"\n",
    "all_models = sorted([m.split(\"/\")[-1] for m in glob.glob(synda_path+\"*\")])\n",
    "models = []\n",
    "for m in all_models:\n",
    "    \n",
    "    fl = sorted(glob.glob(synda_path+m+\"/\"+varnm+\"/*\"))\n",
    "    fl = [fnm for fnm in fl if \"day\" in fnm]  # filter out legacy monthly data\n",
    "    \n",
    "    if len(fl) == 0: continue\n",
    "    if int(fl[0][-20:-16]) <= 1950 and int(fl[-1][-20:-16]) >= 2050: models.append(m)"
   ]
  },
  {
   "cell_type": "code",
   "execution_count": null,
   "metadata": {},
   "outputs": [
    {
     "name": "stdout",
     "output_type": "stream",
     "text": [
      "/bin/bash: which: line 1: syntax error: unexpected end of file\n",
      "/bin/bash: error importing function definition for `which'\n",
      "/bin/bash: module: line 1: syntax error: unexpected end of file\n",
      "/bin/bash: error importing function definition for `module'\n",
      "/bin/bash: scl: line 1: syntax error: unexpected end of file\n",
      "/bin/bash: error importing function definition for `scl'\n",
      "/bin/bash: ml: line 1: syntax error: unexpected end of file\n",
      "/bin/bash: error importing function definition for `ml'\n"
     ]
    }
   ],
   "source": [
    "# extract subset of daily data\n",
    "outpath = \"/rds/general/user/cb2714/home/00_WWA_project_folder/ephemeral/00_Sahel-heat/cmip6/raw/\"\n",
    "for mdl in models:\n",
    "    fl = sorted(glob.glob(synda_path+mdl+\"/\"+varnm+\"/*.nc\"))\n",
    "    fl = [fnm for fnm in fl if int(fnm[-20:-16]) <= 2050]\n",
    "    \n",
    "    for fnm in fl:\n",
    "        new_fnm = re.sub(\"_day\", \"_africa-mam_day\", outpath+fnm.split(\"/\")[-1])\n",
    "        if not os.path.exists(new_fnm):\n",
    "            ! module load cdo; cdo -s -f nc -selseason,MAM -sellonlatbox,$Xn,$Xx,$Yn,$Yx $fnm $new_fnm\n",
    "            clear_output(wait = False)"
   ]
  },
  {
   "cell_type": "markdown",
   "metadata": {},
   "source": [
    "## Compile individual models"
   ]
  },
  {
   "cell_type": "code",
   "execution_count": 48,
   "metadata": {},
   "outputs": [],
   "source": [
    "varnm = \"tasmax\"\n",
    "outpath = \"/rds/general/user/cb2714/home/00_WWA_project_folder/ephemeral/00_Sahel-heat/cmip6/raw/\""
   ]
  },
  {
   "cell_type": "code",
   "execution_count": 58,
   "metadata": {},
   "outputs": [],
   "source": [
    "models = list(set([re.sub(\"historical\", \"ssp585\", \"_\".join(fnm.split(\"_\")[7:-1])) for fnm in glob.glob(outpath+varnm+\"*.nc\")]))\n",
    "for mdl in models:\n",
    "    \n",
    "    fl = sorted(glob.glob(outpath+varnm+\"*\"+re.sub(\"ssp585\", \"*\", mdl)+\"*.nc\"))\n",
    "    \n",
    "    new_fnm = re.sub(\"historical_\",\"\",re.sub(\"raw/\",\"\",fl[0][:-11])+fl[-1][-11:])\n",
    "    \n",
    "    # load all the data\n",
    "    da = convert_units_to(wrap_lon(xr.open_mfdataset(fl))[varnm].reset_coords(drop = True), \"degC\")\n",
    "    \n",
    "    # monthly spatial pattern\n",
    "    sp_fnm = re.sub(\"africa-mam_day\", \"spatial\", new_fnm)[:-20]+\"1980-2024.nc\"\n",
    "    if not os.path.exists(sp_fnm):\n",
    "        sp = da.sel(time = slice(\"1980\", \"2024\")).groupby(\"time.month\").mean()\n",
    "        sp.to_netcdf(sp_fnm)\n",
    "    \n",
    "    # get daily time series over rectangular region\n",
    "    box_fnm = re.sub(\"africa-mam_day\", \"ts\"+re.sub(\"_\",\"-\",box_str), new_fnm)\n",
    "    if not os.path.exists(box_fnm):\n",
    "        rm = regionmask.defined_regions.natural_earth_v5_0_0.countries_110.mask_3D(da.lon, da.lat).sum(\"region\")\n",
    "        ts_box = da.sel(lon = slice(xn,xx), lat = slice(yn,yx)).where(rm == 1).mean([\"lat\", \"lon\"])\n",
    "        ts_box.to_netcdf(box_fnm)\n",
    "    \n",
    "    # get daily time series over shapefile region\n",
    "    sf_fnm = re.sub(\"africa-mam_day\", \"ts-sf\", new_fnm)\n",
    "    if not os.path.exists(sf_fnm):\n",
    "        rm = regionmask.mask_3D_geopandas(sf, da.lon, da.lat).sum(\"region\")\n",
    "        ts_sf = da.where(rm == 1).mean([\"lat\", \"lon\"])\n",
    "        ts_sf.to_netcdf(sf_fnm)"
   ]
  },
  {
   "cell_type": "markdown",
   "metadata": {},
   "source": [
    "## Time series for climate explorer"
   ]
  },
  {
   "cell_type": "code",
   "execution_count": 61,
   "metadata": {},
   "outputs": [],
   "source": [
    "varnm = \"tasmin\"\n",
    "ndays = 5"
   ]
  },
  {
   "cell_type": "code",
   "execution_count": 39,
   "metadata": {},
   "outputs": [],
   "source": [
    "for fnm in glob.glob(\"/rds/general/user/cb2714/home/00_WWA_project_folder/ephemeral/00_Sahel-heat/cmip6/\"+varnm+\"*ts-sf*\"):\n",
    "    \n",
    "    mdl = \"_\".join(fnm.split(\"_\")[6:8])\n",
    "    \n",
    "    ts = xr.open_dataset(fnm)[varnm].rolling(time = ndays).mean().groupby(\"time.month\")[4].resample(time = \"AS-JAN\").max()\n",
    "    ts = ts.assign_coords(time = ts.time.dt.year).rename(time = \"year\").to_dataframe()\n",
    "    \n",
    "    csv_fnm = \"sahel-heat_cmip6_\"+varnm[0]+varnm[-1]+str(ndays)+\"x-april_mali-bf_\"+mdl\n",
    "    csv_fullpath = \"ts/\"+csv_fnm+\".dat\"\n",
    "    if len(csv_fnm) > 61: print(\"! Filename too long: \", csv_fnm)\n",
    "        \n",
    "    # create extra header lines for upload to Climate Explorer \n",
    "    str1 = \"# contact :: CMIP6 \"+mdl+\" April maxima of \"+str(ndays)+\"-day \"+varnm+\" - Sahel heat 2024, c.barnes22@imperial.ac.uk\"\n",
    "    str2 = \"# \"+varnm+\" [degC] April maximum of \"+str(ndays)+\"-day \"+varnm[-3:]+\"imum temperatures in southern Mali & Burkina Faso at \"+csv_fnm+\".dat\"\n",
    "    head = \"# year \"+varnm\n",
    "    \n",
    "    # make .dat file\n",
    "    ! echo \"$str1 \" > $csv_fullpath\n",
    "    ! echo \"$str2\" >> $csv_fullpath\n",
    "    ! echo \"$head\" >> $csv_fullpath\n",
    "    ts.to_csv(csv_fullpath, sep = \" \", mode = \"a\", header = False)\n",
    "\n",
    "    clear_output(wait = False)"
   ]
  },
  {
   "cell_type": "code",
   "execution_count": 62,
   "metadata": {},
   "outputs": [],
   "source": [
    "for fnm in glob.glob(\"/rds/general/user/cb2714/home/00_WWA_project_folder/ephemeral/00_Sahel-heat/cmip6/\"+varnm+\"_ts\"+re.sub(\"_\",\"-\",box_str)+\"*\"):\n",
    "    \n",
    "    mdl = \"_\".join(fnm.split(\"_\")[6:8])\n",
    "    \n",
    "    ts = xr.open_dataset(fnm)[varnm].rolling(time = ndays).mean().groupby(\"time.month\")[4].resample(time = \"AS-JAN\").max()\n",
    "    ts = ts.assign_coords(time = ts.time.dt.year).rename(time = \"year\").to_dataframe()\n",
    "    \n",
    "    csv_fnm = \"sahel-heat_cmip6_\"+varnm[0]+varnm[-1]+str(ndays)+\"x-april_\"+box_str+\"_\"+mdl\n",
    "    csv_fullpath = \"ts/\"+csv_fnm+\".dat\"\n",
    "    if len(csv_fnm) > 61: print(\"! Filename too long: \", csv_fnm)\n",
    "        \n",
    "    # create extra header lines for upload to Climate Explorer \n",
    "    str1 = \"# contact :: CMIP6 \"+mdl+\" April maxima of \"+str(ndays)+\"-day \"+varnm+\" - Sahel heat 2024, c.barnes22@imperial.ac.uk\"\n",
    "    str2 = \"# \"+varnm+\" [degC] April maximum of \"+str(ndays)+\"-day \"+varnm[-3:]+\"imum temperatures in Sahel region at \"+csv_fnm+\".dat\"\n",
    "    head = \"# year \"+varnm\n",
    "    \n",
    "    # make .dat file\n",
    "    ! echo \"$str1 \" > $csv_fullpath\n",
    "    ! echo \"$str2\" >> $csv_fullpath\n",
    "    ! echo \"$head\" >> $csv_fullpath\n",
    "    ts.to_csv(csv_fullpath, sep = \" \", mode = \"a\", header = False)\n",
    "\n",
    "    clear_output(wait = False)"
   ]
  },
  {
   "cell_type": "markdown",
   "metadata": {},
   "source": [
    "# Check spatial patterns\n"
   ]
  },
  {
   "cell_type": "markdown",
   "metadata": {},
   "source": [
    "## Observed spatial patterns"
   ]
  },
  {
   "cell_type": "code",
   "execution_count": 67,
   "metadata": {},
   "outputs": [],
   "source": [
    "# MSWX\n",
    "for varnm in [\"tmax\",\"tmin\"]:\n",
    "\n",
    "    fl = sorted(glob.glob(fpath+\"mswx/\"+varnm+\"_*.nc\"))\n",
    "    da = xr.open_mfdataset(fl)[varnm].groupby(\"time.month\").mean()\n",
    "    da.to_netcdf(\"data/spatial_\"+varnm+\"_mswx.nc\")"
   ]
  },
  {
   "cell_type": "code",
   "execution_count": 2,
   "metadata": {},
   "outputs": [],
   "source": [
    "# ERA5\n",
    "for varnm in [\"tmax\", \"tmin\"]:\n",
    "    \n",
    "    da = wrap_lon(xr.open_dataset(fpath+\"era5_\"+varnm+\"_daily_af_extended_-18-52E_0-35N_su.nc\"))[varnm].sel(time = slice(\"1989\", \"2024\")).groupby(\"time.month\").mean()\n",
    "    da.to_netcdf(\"data/spatial_\"+varnm+\"_era5.nc\")"
   ]
  },
  {
   "cell_type": "code",
   "execution_count": 2,
   "metadata": {},
   "outputs": [],
   "source": [
    "# CPC\n",
    "for varnm in [\"tmax\", \"tmin\"]:\n",
    "    \n",
    "    da = wrap_lon(xr.open_mfdataset(\"../../00_WWA_project_folder/live/data/cpc/\"+varnm+\"*.nc\"))[varnm].groupby(\"time.month\").mean().sel(lon = slice(Xn,Xx), lat = slice(Yn,Yx))\n",
    "    da.to_netcdf(\"data/spatial_\"+varnm+\"_cpc.nc\")"
   ]
  },
  {
   "cell_type": "markdown",
   "metadata": {},
   "source": [
    "## Plots of spatial patterns"
   ]
  },
  {
   "cell_type": "code",
   "execution_count": 83,
   "metadata": {},
   "outputs": [],
   "source": [
    "varnm = \"tmax\"\n",
    "datasets = [\"cpc\", \"era5\", \"mswx\"]\n",
    "obs = {ds : xr.open_dataset(\"data/spatial_\"+varnm+\"_\"+ds+\".nc\")[varnm].sel(month = 4) for ds in datasets}\n",
    "\n",
    "vrange = {\"tmax\" : {\"vmin\" : 10, \"vmax\" : 40}, \"tmin\" : {\"vmin\" : 5, \"vmax\" : 30}}[varnm]"
   ]
  },
  {
   "cell_type": "code",
   "execution_count": null,
   "metadata": {},
   "outputs": [],
   "source": [
    "fig, axs = plt.subplots(ncols = 3, figsize = (12,4), dpi = 100, subplot_kw = {\"projection\" : mapproj})\n",
    "\n",
    "for i in range(3):\n",
    "    ax = axs[i]\n",
    "    ds = list(obs.keys())[i]\n",
    "    da = obs[ds]\n",
    "    cbar = da.plot(ax = ax, **vrange, cmap = \"YlOrRd\", add_colorbar = False)\n",
    "    ax.set_title(ds.upper())\n",
    "    ax.coastlines()\n",
    "    ax.add_feature(cartopy.feature.BORDERS, color = \"k\", alpha = 0.5, ls = \"--\")\n",
    "    ax.plot([xn,xn,xx,xx,xn], [yn,yx,yx,yn,yn], color = \"k\", lw = 1.5)\n",
    "\n",
    "plt.colorbar(cbar, ax = axs, location = \"bottom\", fraction = 0.07, pad = 0.07, label = \"Temperature (°C)\", extend = \"both\")\n",
    "plt.suptitle(\"Spatial pattern of April \"+varnm+\" in observational datasets\", y = 0.7, fontweight = \"bold\")\n",
    "\n",
    "plt.savefig(\"fig/spatial-pattern_t\"+varnm[-1]+\"5x_obs.png\")"
   ]
  },
  {
   "cell_type": "code",
   "execution_count": 68,
   "metadata": {},
   "outputs": [],
   "source": [
    "varnm = \"tasmax\" \n",
    "fl = sorted(glob.glob(\"/rds/general/user/cb2714/home/00_WWA_project_folder/ephemeral/00_Sahel-heat/cmip6/\"+varnm+\"_spatial*\"))"
   ]
  },
  {
   "cell_type": "code",
   "execution_count": 69,
   "metadata": {},
   "outputs": [],
   "source": [
    "sp = {}\n",
    "for fnm in fl:\n",
    "    mdl = fnm.split(\"_\")[6]\n",
    "    da = xr.open_dataset(fnm)[varnm]\n",
    "    rm = regionmask.defined_regions.natural_earth_v5_0_0.countries_110.mask_3D(da.lon, da.lat).sum(\"region\")\n",
    "    da = da.where(rm == 1)\n",
    "    sp[mdl] = da"
   ]
  },
  {
   "cell_type": "code",
   "execution_count": null,
   "metadata": {},
   "outputs": [],
   "source": [
    "fig, axs = plt.subplots(ncols = 5, nrows = 4, figsize = (20,14), dpi = 100, subplot_kw = {\"projection\" : mapproj})\n",
    "\n",
    "for i in range(len(fl)):\n",
    "    ax = fig.axes[i]\n",
    "    ds = list(sp.keys())[i]\n",
    "    \n",
    "    da = sp[ds].sel(month = 4)\n",
    "    da.plot(ax = ax, cmap = \"YlOrRd\", cbar_kwargs = {\"location\" : \"bottom\", \"label\" : \"Temperature (°C)\", \"pad\" : 0.07})\n",
    "    ax.set_title(ds)\n",
    "    ax.coastlines()\n",
    "    ax.add_feature(cartopy.feature.BORDERS, color = \"k\", alpha = 0.5, ls = \"--\")\n",
    "    ax.plot([xn,xn,xx,xx,xn], [yn,yx,yx,yn,yn], color = \"k\", lw = 1.5)\n",
    "    \n",
    "for i in range(len(fl), 20): fig.axes[i].set_axis_off()\n",
    "    \n",
    "plt.suptitle(\"Spatial pattern of April t\"+varnm[-3:]+\" in CMIP6 climate models\", y = 0.9, fontweight = \"bold\")\n",
    "    \n",
    "plt.savefig(\"fig/spatial-pattern_t\"+varnm[-1]+\"5x_cmip6.png\")"
   ]
  },
  {
   "cell_type": "markdown",
   "metadata": {},
   "source": [
    "# Check seasonal cycle\n"
   ]
  },
  {
   "cell_type": "code",
   "execution_count": 58,
   "metadata": {},
   "outputs": [
    {
     "data": {
      "image/png": "[encoded data removed]",
      "text/plain": [
       "<Figure size 640x480 with 1 Axes>"
      ]
     },
     "metadata": {},
     "output_type": "display_data"
    }
   ],
   "source": [
    "varnm = \"tasmin\"\n",
    "obs_sc = xr.concat([xr.open_dataset(fnm).groupby(\"time.dayofyear\").mean()[\"t\"+varnm[-3:]].expand_dims(ds = [fnm.split(\"_\")[1]]) for fnm in sorted(glob.glob(\"data/t\"+varnm[-3:]+\"_*_mali*.nc\"))], \"ds\")\n",
    "\n",
    "for i in range(3):\n",
    "    obs_sc.isel(ds = i).plot()\n",
    "# all obs have similar seasonal cycle"
   ]
  },
  {
   "cell_type": "code",
   "execution_count": null,
   "metadata": {},
   "outputs": [],
   "source": [
    "obs_sc = xr.open_dataset(\"data/t\"+varnm[-3:]+\"_mswx_mali-burkinafaso.nc\")[\"t\"+varnm[-3:]].groupby(\"time.dayofyear\").mean()\n",
    "\n",
    "fl = sorted(glob.glob(\"/rds/general/user/cb2714/home/00_WWA_project_folder/ephemeral/00_Sahel-heat/cmip6/\"+varnm+\"_ts-16*\"))\n",
    "cmip6_sc = xr.concat([xr.open_dataset(fnm).sel(time = slice(\"1979\", \"2024\")).groupby(\"time.dayofyear\").mean()[varnm].expand_dims(ds = [fnm.split(\"_\")[-4]]) for fnm in fl], \"ds\")\n",
    "\n",
    "fig, axs = plt.subplots(ncols = 5, nrows = 4, figsize = (20,10), dpi = 100, sharex = True)\n",
    "plt.subplots_adjust(hspace = 0.35)\n",
    "\n",
    "for i in range(len(fl)):\n",
    "    ax = fig.axes[i]\n",
    "    da = cmip6_sc.isel(ds = i)\n",
    "    \n",
    "    ax.plot(da.dayofyear, da)\n",
    "    ax.plot(obs_sc.dayofyear, obs_sc, color = \"k\")\n",
    "    ax.set_title(da.ds.values)\n",
    "    [ax.axvline(x, color = \"darkred\", alpha = 0.2) for x in [91,121]]\n",
    "    \n",
    "for i in range(len(fl), 20): fig.axes[i].set_axis_off()\n",
    "    \n",
    "plt.suptitle(\"MAM seasonal cycle of t\"+varnm[-3:]+\" over Sahel region in CMIP6 climate models (blue) & MSWX\", y = 0.97, fontweight = \"bold\")\n",
    "    \n",
    "plt.savefig(\"fig/seasonal-cycle_t\"+varnm[-1]+\"5x_cmip6.png\")"
   ]
  },
  {
   "cell_type": "code",
   "execution_count": null,
   "metadata": {},
   "outputs": [],
   "source": []
  }
 ],
 "metadata": {
  "kernelspec": {
   "display_name": "Python [conda env:wwa]",
   "language": "python",
   "name": "conda-env-wwa-py"
  },
  "language_info": {
   "codemirror_mode": {
    "name": "ipython",
    "version": 3
   },
   "file_extension": ".py",
   "mimetype": "text/x-python",
   "name": "python",
   "nbconvert_exporter": "python",
   "pygments_lexer": "ipython3",
   "version": "3.10.8"
  }
 },
 "nbformat": 4,
 "nbformat_minor": 5
}
