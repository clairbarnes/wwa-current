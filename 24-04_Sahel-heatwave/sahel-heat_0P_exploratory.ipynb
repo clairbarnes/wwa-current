{
 "cells": [
  {
   "cell_type": "markdown",
   "id": "d861536d-5256-48a4-aa44-5d17aceaefe7",
   "metadata": {},
   "source": [
    "# Sahel heatwave\n",
    "\n",
    "- ERA5 tmax & tmin downloaded - extended version not yet available - also unclear whether we can trust - but we can talk about trends based on the data that is available\n",
    "- CMIP6 tmax & tmin currently downloading from Synda\n",
    "- check seasonal cycle: do we need to split the region out at all?  \n",
    "&nbsp;\n",
    "- fit gridded model across Sahel region: local return periods as well as regional (although can we rely on ERA5 analysis for this?)  \n",
    "&nbsp;\n",
    "- will need to delay Panama key messages call\n"
   ]
  },
  {
   "cell_type": "code",
   "execution_count": null,
   "id": "12d3c0e8-89c9-4599-9087-460489a1015d",
   "metadata": {},
   "outputs": [],
   "source": [
    "# Download ERA5 data from climate explorer\n",
    "! cd /rds/general/user/cb2714/home/00_WWA_project_folder/ephemeral/00_Sahel-heat; wget https://climexp.knmi.nl/data/era5_tmax_daily_af_extended_-18-52E_0-35N_su.nc\n",
    "! cd /rds/general/user/cb2714/home/00_WWA_project_folder/ephemeral/00_Sahel-heat; wget https://climexp.knmi.nl/data/era5_tmin_daily_af_extended_-18-52E_0-35N_su.nc"
   ]
  },
  {
   "cell_type": "markdown",
   "id": "2da34837-929e-4e89-92de-e010cee47902",
   "metadata": {},
   "source": [
    "!pwd"
   ]
  },
  {
   "cell_type": "code",
   "execution_count": null,
   "id": "e3bbad89-d7b7-4be7-80a6-482190d7999e",
   "metadata": {},
   "outputs": [],
   "source": []
  }
 ],
 "metadata": {
  "kernelspec": {
   "display_name": "Python [conda env:wwa]",
   "language": "python",
   "name": "conda-env-wwa-py"
  },
  "language_info": {
   "codemirror_mode": {
    "name": "ipython",
    "version": 3
   },
   "file_extension": ".py",
   "mimetype": "text/x-python",
   "name": "python",
   "nbconvert_exporter": "python",
   "pygments_lexer": "ipython3",
   "version": "3.10.8"
  }
 },
 "nbformat": 4,
 "nbformat_minor": 5
}
