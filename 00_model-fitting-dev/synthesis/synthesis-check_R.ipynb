{
 "cells": [
  {
   "cell_type": "code",
   "execution_count": 1,
   "metadata": {},
   "outputs": [],
   "source": [
    "suppressMessages(library(\"rwwa\"))"
   ]
  },
  {
   "cell_type": "markdown",
   "metadata": {},
   "source": [
    "# Revert synthesis functions to match climate explorer"
   ]
  },
  {
   "cell_type": "code",
   "execution_count": 4,
   "metadata": {},
   "outputs": [],
   "source": [
    "getsynmean_cx <- function(data, sig_mod = 0) {\n",
    "\n",
    "  # calculate weight for each model based on inverse variance\n",
    "  w = 1/(((data$upper - data$lower))^2 + (2*sig_mod)^2)     # w = 1/(((data$upper - data$lower)/(2*1.96))^2 + sig_mod^2)\n",
    "  w1 = sum(w)\n",
    "    \n",
    "    print(w)\n",
    "\n",
    "  # weighted sum of squares & bounds\n",
    "  s1 <- sum(w*data$est) / w1\n",
    "  ss2 <- apply(data[,c(\"est\", \"lower\", \"upper\")], 2, function(b) sum((w*(data$est - b))^2))\n",
    "  ss2 <- sqrt(ss2) / w1\n",
    "\n",
    "  # if non-zero model representation error, extend 95% intervals accordingly\n",
    "  if (sig_mod > 0) {\n",
    "      ss2 <- sqrt(ss2^2 + (2*sig_mod)^2)     # ss2 <- sqrt(ss2^2 + (1.96*sig_mod)^2)\n",
    "  }\n",
    "\n",
    "  return(s1 + (ss2 * c(0,-1,1)))\n",
    "}"
   ]
  },
  {
   "cell_type": "code",
   "execution_count": 5,
   "metadata": {},
   "outputs": [],
   "source": [
    "getsynchi2_cx <- function(data, sig_mod = 0) {\n",
    "\n",
    "  # function to be minimized by finding sig_mod such that chi^2/mdof ~= 1\n",
    "\n",
    "  # get best estimate of weighted mean\n",
    "  s1 <- getsynmean_cx(data, sig_mod)[\"est\"]\n",
    "\n",
    "  # compute chi2 by converting model intervals to standard deviations & adding sig_mod adjustment\n",
    "  chi2 <- sum(apply(data[,c(\"est\", \"lower\", \"upper\")], 1, function(x) {\n",
    "    if(x[\"est\"] > s1) {\n",
    "      (x[\"est\"] - s1)^2 / (((x[\"est\"] - x[\"lower\"]))^2 + sig_mod^2)     # (x[\"est\"] - s1)^2 / (((x[\"est\"] - x[\"lower\"])/1.96)^2 + sig_mod^2)\n",
    "    } else {\n",
    "      (x[\"est\"] - s1)^2 / (((x[\"est\"] - x[\"upper\"]))^2 + sig_mod^2)     # (x[\"est\"] - s1)^2 / (((x[\"est\"] - x[\"upper\"])/1.96)^2 + sig_mod^2)\n",
    "    }\n",
    "  }))\n",
    "  return(chi2*4)\n",
    "}"
   ]
  },
  {
   "cell_type": "code",
   "execution_count": 6,
   "metadata": {},
   "outputs": [],
   "source": [
    "getsynchi2_cb <- function(data, sig_mod = 0) {\n",
    "\n",
    "  # function to be minimized by finding sig_mod such that chi^2/mdof ~= 1\n",
    "\n",
    "  # get best estimate of weighted mean\n",
    "  s1 <- getsynmean_cx(data, sig_mod)[\"est\"]\n",
    "\n",
    "  # compute chi2 by converting model intervals to standard deviations & adding sig_mod adjustment\n",
    "  chi2 <- sum(apply(data[,c(\"est\", \"lower\", \"upper\")], 1, function(x) {\n",
    "    if(x[\"est\"] > s1) {\n",
    "      (x[\"est\"] - s1)^2 / (((x[\"est\"] - x[\"lower\"])/2)^2 + sig_mod^2)     # (x[\"est\"] - s1)^2 / (((x[\"est\"] - x[\"lower\"])/1.96)^2 + sig_mod^2)\n",
    "    } else {\n",
    "      (x[\"est\"] - s1)^2 / (((x[\"est\"] - x[\"upper\"])/2)^2 + sig_mod^2)     # (x[\"est\"] - s1)^2 / (((x[\"est\"] - x[\"upper\"])/1.96)^2 + sig_mod^2)\n",
    "    }\n",
    "  }))\n",
    "  return(chi2)\n",
    "}"
   ]
  },
  {
   "cell_type": "code",
   "execution_count": 7,
   "metadata": {},
   "outputs": [],
   "source": [
    "synthesis_cx <- function(obs_in = NA, models_in, synth_type = \"abs\") {\n",
    "\n",
    "  if(is.na(unlist(obs_in))[1]) {\n",
    "    no_obs <- T\n",
    "    # create a dummy dataframe to avoid having to rewrite everything twice\n",
    "    obs_in <- data.frame(\"est\" = 0, \"lower\" = 0, \"upper\" = 0)\n",
    "    rownames(obs_in) <- \"dummy\"\n",
    "  } else {\n",
    "    no_obs <- F\n",
    "  }\n",
    "\n",
    "  # relabel the data for easier reference later\n",
    "  colnames(obs_in) <- colnames(models_in) <- c(\"est\", \"lower\", \"upper\")\n",
    "\n",
    "  if(!(\"model\" %in% colnames(obs_in))) obs_in$model <- rownames(obs_in)\n",
    "  if(!(\"model\" %in% colnames(models_in))) models_in$model <- rownames(models_in)\n",
    "\n",
    "  #~~~~~~~~~~~~~~~~~~~~~~~~~~~~~~~~~~~~~~~~~~~~~~~~~~~~~~~~~~~~~~~~~~~~~~~~~~~~~~~~~~~~~~\n",
    "\n",
    "  if(!synth_type %in% c(\"abs\", \"rel\", \"PR\")) {\n",
    "    cat(paste0(\"Synthesis type '\",synth_type,\"' not implemented - must be abs, rel or PR\"), \"\\n\")\n",
    "  }\n",
    "\n",
    "  if(synth_type == \"PR\") {\n",
    "    obs_in[,c(\"est\", \"lower\", \"upper\")] <- log(obs_in[,c(\"est\", \"lower\", \"upper\")])\n",
    "    models_in[,c(\"est\", \"lower\", \"upper\")] <- log(models_in[,c(\"est\", \"lower\", \"upper\")])\n",
    "  } else if(synth_type == \"rel\") {\n",
    "    obs_in[,c(\"est\", \"lower\", \"upper\")] <- log(1+obs_in[,c(\"est\", \"lower\", \"upper\")]/100)\n",
    "    models_in[,c(\"est\", \"lower\", \"upper\")] <- log(1+models_in[,c(\"est\", \"lower\", \"upper\")]/100)\n",
    "  }\n",
    "\n",
    "  #~~~~~~~~~~~~~~~~~~~~~~~~~~~~~~~~~~~~~~~~~~~~~~~~~~~~~~~~~~~~~~~~~~~~~~~~~~~~~~~~~~~~~~\n",
    "  # get mean of intervals to estimate natural variability component\n",
    "\n",
    "  # compute representation error from scatter of mean ($\\sigma_{rep}$ in the paper)\n",
    "  nobs = nrow(obs_in)\n",
    "  obs <- apply(obs_in[,c(\"est\", \"lower\", \"upper\"),drop = F], 2, mean)\n",
    "  if(nobs == 1) {\n",
    "    sig_obs = 0\n",
    "  } else {\n",
    "    s2 = sum((obs_in$est - obs[1])^2)\n",
    "    sig_obs = 2 * sqrt(s2/(nobs-1))     # sig_obs = sqrt(s2/(nobs-1))\n",
    "  }\n",
    "\n",
    "  # add representation error to individual observations\n",
    "  obs_in$l_wb <- obs_in$est - sqrt((obs_in$est - obs_in$lower)**2 + (sig_obs)**2)     # obs_in$l_wb <- obs_in$est - sqrt((obs_in$est - obs_in$lower)**2 + (1.96*sig_obs)**2)\n",
    "  obs_in$u_wb <- obs_in$est + sqrt((obs_in$est - obs_in$upper)**2 + (sig_obs)**2)     # obs_in$u_wb <- obs_in$est + sqrt((obs_in$est - obs_in$upper)**2 + (1.96*sig_obs)**2)\n",
    "\n",
    "  # apply representation error to obs synthesis\n",
    "  # we're working with confidence intervals here, so we extend them by adding (1.96sig_obs)^2 in quadrature\n",
    "  obs[2] <- obs[1] - sqrt( (obs[1] - obs[2])**2 + (sig_obs)**2 )     # obs[2] <- obs[1] - sqrt( (obs[1] - obs[2])**2 + (1.96*sig_obs)**2 )\n",
    "  obs[3] <- obs[1] + sqrt( (obs[1] - obs[3])**2 + (sig_obs)**2 )     # obs[3] <- obs[1] + sqrt( (obs[1] - obs[3])**2 + (1.96*sig_obs)**2 )\n",
    "\n",
    "  #~~~~~~~~~~~~~~~~~~~~~~~~~~~~~~~~~~~~~~~~~~~~~~~~~~~~~~~~~~~~~~~~~~~~~~~~~~~~~~~~~~~~~~\n",
    "  # get initial estimate of model mean & calculate chi^2\n",
    "  chi2 <- getsynchi2_cx(models_in, sig_mod = 0)\n",
    "  mdof <- nrow(models_in)-1\n",
    "\n",
    "  if ( chi2/mdof > 1 ) {\n",
    "    # find sig_mod such that chi^2/dof = 1\n",
    "    sig_mod <- optim(0, function(x) {\n",
    "        (getsynchi2_cx(models_in, sig_mod = x) - (nrow(models_in)-1))^2},\n",
    "                     method = \"Brent\", lower = 0, upper = 5)$par\n",
    "      } else {\n",
    "        sig_mod <- 0\n",
    "      }\n",
    "    cat(\"sig_mod: \", sig_mod,\"\\n\")\n",
    "\n",
    "  # get weighted model mean\n",
    "  models <- getsynmean_cx(models_in, sig_mod = sig_mod)\n",
    "\n",
    "  # add representation error to individual models\n",
    "  models_in$l_wb <- models_in$est - sqrt((models_in$est - models_in$lower)**2 + (2*sig_mod)**2)     # models_in$l_wb <- models_in$est - sqrt((models_in$est - models_in$lower)**2 + (2*sig_mod)**2)\n",
    "  models_in$u_wb <- models_in$est + sqrt((models_in$est - models_in$upper)**2 + (2*sig_mod)**2)     # models_in$u_wb <- models_in$est + sqrt((models_in$est - models_in$upper)**2 + (2*sig_mod)**2)\n",
    "\n",
    "  #~~~~~~~~~~~~~~~~~~~~~~~~~~~~~~~~~~~~~~~~~~~~~~~~~~~~~~~~~~~~~~~~~~~~~~~~~~~~~~~~~~~~~~\n",
    "  # weighted mean of models & obs (coloured bar)\n",
    "  w_obs <- unname((obs[\"upper\"] - obs[\"lower\"])^{-2})\n",
    "  w_mod <- unname((models[\"upper\"] - models[\"lower\"])^{-2})\n",
    "\n",
    "  wmean <- (w_obs * obs[\"est\"] + w_mod * models[\"est\"]) / (w_obs + w_mod)\n",
    "  synth <- setNames(c(wmean,\n",
    "                      wmean - sqrt( (w_obs*(obs[\"est\"]-obs[\"lower\"]))^2 + (w_mod*(models[\"est\"]-models[\"lower\"]))^2 )/(w_obs+w_mod),\n",
    "                      wmean + sqrt( (w_obs*(obs[\"est\"]-obs[\"upper\"]))^2 + (w_mod*(models[\"est\"]-models[\"upper\"]))^2 )/(w_obs+w_mod)),\n",
    "                    c(\"est\", \"lower\", \"upper\"))\n",
    "\n",
    "\n",
    "  # unweighted mean of obs and models\n",
    "  umean <- (obs[\"est\"] +  models[\"est\"]) / 2\n",
    "  synth[\"l_wb\"] <- umean - sqrt((obs[\"est\"]-obs[\"lower\"])^2 + (models[\"est\"]-models[\"lower\"])^2)/2\n",
    "  synth[\"u_wb\"] <- umean + sqrt((obs[\"est\"]-obs[\"upper\"])^2 + (models[\"est\"]-models[\"upper\"])^2)/2\n",
    "\n",
    "  #~~~~~~~~~~~~~~~~~~~~~~~~~~~~~~~~~~~~~~~~~~~~~~~~~~~~~~~~~~~~~~~~~~~~~~~~~~~~~~~~~~~~~~\n",
    "  # add group labels for easier plotting\n",
    "  obs_in <- cbind(obs_in, \"group\" = \"obs\")\n",
    "  obs <- data.frame(t(c(\"model\" = \"Observations\", \"group\" = \"obs_synth\", obs)))\n",
    "  models_in <- cbind(models_in, \"group\" = \"models\")\n",
    "  models <- data.frame(t(c(\"model\" = \"Models\", \"group\" = \"model_synth\", models)))\n",
    "  synth <- data.frame(t(c(\"model\" = \"Synthesis\", \"group\" = \"synth\", synth)))\n",
    "\n",
    "  # combine all the data together in one dataframe\n",
    "  res <- rbind.fill(obs_in, obs, models_in, models, synth)[,c(\"group\", \"model\", \"est\", \"lower\", \"upper\", \"l_wb\", \"u_wb\")]\n",
    "  for(cnm in c(\"est\", \"lower\", \"upper\", \"l_wb\", \"u_wb\")) { res[,cnm] <- as.numeric(res[,cnm]) }\n",
    "\n",
    "  # if only dummy obs, remove\n",
    "  if(no_obs) {\n",
    "    # drop all rows that don't relate to models\n",
    "    res <- res[grepl(\"model\", res$group),]\n",
    "    sig_obs <- NA\n",
    "  }\n",
    "\n",
    "  #~~~~~~~~~~~~~~~~~~~~~~~~~~~~~~~~~~~~~~~~~~~~~~~~~~~~~~~~~~~~~~~~~~~~~~~~~~~~~~~~~~~~~~\n",
    "  # reverse any transformations applied\n",
    "  if(synth_type == \"PR\") {\n",
    "    res[,c(\"est\", \"lower\", \"upper\", \"l_wb\", \"u_wb\")] <- exp(res[,c(\"est\", \"lower\", \"upper\", \"l_wb\", \"u_wb\")])\n",
    "    sig_obs <- exp(sig_obs)\n",
    "    sig_mod <- exp(sig_mod)\n",
    "    umean <- exp(umean)\n",
    "  } else if(synth_type == \"rel\") {\n",
    "    res[,c(\"est\", \"lower\", \"upper\", \"l_wb\", \"u_wb\")] <- 100*(exp(res[,c(\"est\", \"lower\", \"upper\", \"l_wb\", \"u_wb\")])-1)\n",
    "    sig_obs <- 100*(exp(sig_obs)-1)\n",
    "    sig_mod <- 100*(exp(sig_mod)-1)\n",
    "    umean <- 100*(exp(umean)-1)\n",
    "  }\n",
    "\n",
    "  return(list(synth_type = synth_type, sig_obs = sig_obs, \"chi2/dof\" = chi2 / mdof, df = res, uw_mean = umean))\n",
    "}"
   ]
  },
  {
   "cell_type": "code",
   "execution_count": 8,
   "metadata": {},
   "outputs": [],
   "source": [
    "df = read.csv(\"dI_sahel-tx5x-future.txt\", sep = \"\\t\", row.names = \"model\")"
   ]
  },
  {
   "cell_type": "code",
   "execution_count": 9,
   "metadata": {},
   "outputs": [
    {
     "name": "stdout",
     "output_type": "stream",
     "text": [
      " [1] 16.935088 22.461310 22.675737 36.730946 25.767219 25.000000 20.108991\n",
      " [8] 11.037406 11.809024  2.768542  7.344247\n",
      " [1] 0.06826473 0.06833250 0.06833447 0.06841336 0.06835918 0.06835362\n",
      " [7] 0.06830819 0.06811801 0.06814549 0.06688514 0.06790727\n",
      " [1] 0.02613993 0.02614986 0.02615015 0.02616169 0.02615377 0.02615295\n",
      " [7] 0.02614630 0.02611839 0.02612243 0.02593509 0.02608735\n",
      " [1] 0.1775613 0.1780205 0.1780339 0.1785703 0.1782017 0.1781639 0.1778556\n",
      " [8] 0.1765721 0.1767568 0.1685201 0.1751629\n",
      " [1] 0.4571068 0.4601627 0.4602518 0.4638545 0.4613754 0.4611220 0.4590625\n",
      " [8] 0.4506078 0.4518131 0.4016347 0.4415431\n",
      " [1] 1.1466432 1.1660681 1.1666408 1.1900698 1.1738868 1.1722479 1.1590294\n",
      " [8] 1.1066074 1.1139047 0.8515981 1.0534934\n",
      " [1] 2.705547 2.816243 2.819586 2.960445 2.862287 2.852562 2.775534 2.492752\n",
      " [9] 2.530089 1.488620 2.238524\n",
      " [1] 5.628313 6.129512 6.145370 6.856400 6.351903 6.304211 5.939896 4.779541\n",
      " [9] 4.918715 2.084093 3.924876\n",
      " [1] 4.549196 4.871133 4.881143 5.319288 5.010545 4.980822 4.750615 3.978183\n",
      " [9] 4.074132 1.915815 3.367785\n",
      " [1] 3.925202 4.162575 4.169882 4.485513 4.263957 4.242413 4.074250 3.492645\n",
      " [9] 3.566385 1.795603 3.013174\n",
      " [1] 4.247205 4.526506 4.535148 4.910989 4.646647 4.621073 4.422255 3.745305\n",
      " [9] 3.830229 1.860116 3.199376\n",
      " [1] 4.257774 4.538513 4.547201 4.925126 4.659300 4.633588 4.433715 3.753521\n",
      " [9] 3.838823 1.862140 3.205370\n",
      " [1] 4.270199 4.552633 4.561376 4.941759 4.674183 4.648307 4.447190 3.763174\n",
      " [9] 3.848920 1.864513 3.212406\n",
      " [1] 4.271636 4.554267 4.563015 4.943683 4.675905 4.650010 4.448748 3.764290\n",
      " [9] 3.850088 1.864787 3.213220\n",
      " [1] 4.271583 4.554206 4.562954 4.943612 4.675841 4.649946 4.448690 3.764249\n",
      " [9] 3.850044 1.864777 3.213189\n",
      " [1] 4.271580 4.554203 4.562951 4.943608 4.675838 4.649943 4.448687 3.764247\n",
      " [9] 3.850042 1.864776 3.213188\n",
      " [1] 4.271580 4.554203 4.562951 4.943608 4.675838 4.649943 4.448688 3.764247\n",
      " [9] 3.850042 1.864776 3.213188\n",
      " [1] 4.271580 4.554202 4.562951 4.943608 4.675838 4.649942 4.448687 3.764246\n",
      " [9] 3.850042 1.864776 3.213188\n",
      " [1] 4.271580 4.554203 4.562951 4.943608 4.675838 4.649943 4.448687 3.764247\n",
      " [9] 3.850042 1.864776 3.213188\n",
      "sig_mod:  0.2091987 \n",
      " [1] 4.271580 4.554203 4.562951 4.943608 4.675838 4.649943 4.448687 3.764247\n",
      " [9] 3.850042 1.864776 3.213188\n"
     ]
    },
    {
     "data": {
      "text/html": [
       "3.71572967348589"
      ],
      "text/latex": [
       "3.71572967348589"
      ],
      "text/markdown": [
       "3.71572967348589"
      ],
      "text/plain": [
       "[1] 3.71573"
      ]
     },
     "metadata": {},
     "output_type": "display_data"
    },
    {
     "data": {
      "text/html": [
       "<table class=\"dataframe\">\n",
       "<caption>A data.frame: 12 × 7</caption>\n",
       "<thead>\n",
       "\t<tr><th></th><th scope=col>group</th><th scope=col>model</th><th scope=col>est</th><th scope=col>lower</th><th scope=col>upper</th><th scope=col>l_wb</th><th scope=col>u_wb</th></tr>\n",
       "\t<tr><th></th><th scope=col>&lt;chr&gt;</th><th scope=col>&lt;chr&gt;</th><th scope=col>&lt;dbl&gt;</th><th scope=col>&lt;dbl&gt;</th><th scope=col>&lt;dbl&gt;</th><th scope=col>&lt;dbl&gt;</th><th scope=col>&lt;dbl&gt;</th></tr>\n",
       "</thead>\n",
       "<tbody>\n",
       "\t<tr><th scope=row>3</th><td>models     </td><td>ACCESS-CM2_r1i1p1f1      </td><td>1.0270000</td><td>0.9060000</td><td>1.14900</td><td>0.5914573</td><td>1.462822</td></tr>\n",
       "\t<tr><th scope=row>4</th><td>models     </td><td>ACCESS-ESM1-5_r1i1p1f1   </td><td>0.9930000</td><td>0.8910000</td><td>1.10200</td><td>0.5623489</td><td>1.425363</td></tr>\n",
       "\t<tr><th scope=row>5</th><td>models     </td><td>AWI-CM-1-1-MR_r1i1p1f1   </td><td>0.8260000</td><td>0.7240000</td><td>0.93400</td><td>0.3953489</td><td>1.258112</td></tr>\n",
       "\t<tr><th scope=row>6</th><td>models     </td><td>EC-Earth3_r1i1p1f1       </td><td>0.9610000</td><td>0.8780000</td><td>1.04300</td><td>0.5344494</td><td>1.387357</td></tr>\n",
       "\t<tr><th scope=row>7</th><td>models     </td><td>EC-Earth3-Veg_r1i1p1f1   </td><td>1.0430000</td><td>0.9480000</td><td>1.14500</td><td>0.6139529</td><td>1.473651</td></tr>\n",
       "\t<tr><th scope=row>8</th><td>models     </td><td>EC-Earth3-Veg-LR_r1i1p1f1</td><td>1.1320000</td><td>1.0300000</td><td>1.23000</td><td>0.7013489</td><td>1.561721</td></tr>\n",
       "\t<tr><th scope=row>9</th><td>models     </td><td>INM-CM5-0_r1i1p1f1       </td><td>0.8550000</td><td>0.7360000</td><td>0.95900</td><td>0.4200087</td><td>1.286129</td></tr>\n",
       "\t<tr><th scope=row>10</th><td>models     </td><td>MPI-ESM1-2-HR_r1i1p1f1   </td><td>0.9050000</td><td>0.7470000</td><td>1.04800</td><td>0.4577636</td><td>1.347160</td></tr>\n",
       "\t<tr><th scope=row>11</th><td>models     </td><td>MPI-ESM1-2-LR_r1i1p1f1   </td><td>0.8750000</td><td>0.7300000</td><td>1.02100</td><td>0.4321892</td><td>1.318139</td></tr>\n",
       "\t<tr><th scope=row>12</th><td>models     </td><td>NorESM2-LM_r1i1p1f1      </td><td>0.9800000</td><td>0.6350000</td><td>1.23600</td><td>0.4377073</td><td>1.470502</td></tr>\n",
       "\t<tr><th scope=row>13</th><td>models     </td><td>NorESM2-MM_r1i1p1f1      </td><td>1.2610000</td><td>1.0690000</td><td>1.43800</td><td>0.8006519</td><td>1.715297</td></tr>\n",
       "\t<tr><th scope=row>14</th><td>model_synth</td><td>Models                   </td><td>0.9827894</td><td>0.5625914</td><td>1.40281</td><td>       NA</td><td>      NA</td></tr>\n",
       "</tbody>\n",
       "</table>\n"
      ],
      "text/latex": [
       "A data.frame: 12 × 7\n",
       "\\begin{tabular}{r|lllllll}\n",
       "  & group & model & est & lower & upper & l\\_wb & u\\_wb\\\\\n",
       "  & <chr> & <chr> & <dbl> & <dbl> & <dbl> & <dbl> & <dbl>\\\\\n",
       "\\hline\n",
       "\t3 & models      & ACCESS-CM2\\_r1i1p1f1       & 1.0270000 & 0.9060000 & 1.14900 & 0.5914573 & 1.462822\\\\\n",
       "\t4 & models      & ACCESS-ESM1-5\\_r1i1p1f1    & 0.9930000 & 0.8910000 & 1.10200 & 0.5623489 & 1.425363\\\\\n",
       "\t5 & models      & AWI-CM-1-1-MR\\_r1i1p1f1    & 0.8260000 & 0.7240000 & 0.93400 & 0.3953489 & 1.258112\\\\\n",
       "\t6 & models      & EC-Earth3\\_r1i1p1f1        & 0.9610000 & 0.8780000 & 1.04300 & 0.5344494 & 1.387357\\\\\n",
       "\t7 & models      & EC-Earth3-Veg\\_r1i1p1f1    & 1.0430000 & 0.9480000 & 1.14500 & 0.6139529 & 1.473651\\\\\n",
       "\t8 & models      & EC-Earth3-Veg-LR\\_r1i1p1f1 & 1.1320000 & 1.0300000 & 1.23000 & 0.7013489 & 1.561721\\\\\n",
       "\t9 & models      & INM-CM5-0\\_r1i1p1f1        & 0.8550000 & 0.7360000 & 0.95900 & 0.4200087 & 1.286129\\\\\n",
       "\t10 & models      & MPI-ESM1-2-HR\\_r1i1p1f1    & 0.9050000 & 0.7470000 & 1.04800 & 0.4577636 & 1.347160\\\\\n",
       "\t11 & models      & MPI-ESM1-2-LR\\_r1i1p1f1    & 0.8750000 & 0.7300000 & 1.02100 & 0.4321892 & 1.318139\\\\\n",
       "\t12 & models      & NorESM2-LM\\_r1i1p1f1       & 0.9800000 & 0.6350000 & 1.23600 & 0.4377073 & 1.470502\\\\\n",
       "\t13 & models      & NorESM2-MM\\_r1i1p1f1       & 1.2610000 & 1.0690000 & 1.43800 & 0.8006519 & 1.715297\\\\\n",
       "\t14 & model\\_synth & Models                    & 0.9827894 & 0.5625914 & 1.40281 &        NA &       NA\\\\\n",
       "\\end{tabular}\n"
      ],
      "text/markdown": [
       "\n",
       "A data.frame: 12 × 7\n",
       "\n",
       "| <!--/--> | group &lt;chr&gt; | model &lt;chr&gt; | est &lt;dbl&gt; | lower &lt;dbl&gt; | upper &lt;dbl&gt; | l_wb &lt;dbl&gt; | u_wb &lt;dbl&gt; |\n",
       "|---|---|---|---|---|---|---|---|\n",
       "| 3 | models      | ACCESS-CM2_r1i1p1f1       | 1.0270000 | 0.9060000 | 1.14900 | 0.5914573 | 1.462822 |\n",
       "| 4 | models      | ACCESS-ESM1-5_r1i1p1f1    | 0.9930000 | 0.8910000 | 1.10200 | 0.5623489 | 1.425363 |\n",
       "| 5 | models      | AWI-CM-1-1-MR_r1i1p1f1    | 0.8260000 | 0.7240000 | 0.93400 | 0.3953489 | 1.258112 |\n",
       "| 6 | models      | EC-Earth3_r1i1p1f1        | 0.9610000 | 0.8780000 | 1.04300 | 0.5344494 | 1.387357 |\n",
       "| 7 | models      | EC-Earth3-Veg_r1i1p1f1    | 1.0430000 | 0.9480000 | 1.14500 | 0.6139529 | 1.473651 |\n",
       "| 8 | models      | EC-Earth3-Veg-LR_r1i1p1f1 | 1.1320000 | 1.0300000 | 1.23000 | 0.7013489 | 1.561721 |\n",
       "| 9 | models      | INM-CM5-0_r1i1p1f1        | 0.8550000 | 0.7360000 | 0.95900 | 0.4200087 | 1.286129 |\n",
       "| 10 | models      | MPI-ESM1-2-HR_r1i1p1f1    | 0.9050000 | 0.7470000 | 1.04800 | 0.4577636 | 1.347160 |\n",
       "| 11 | models      | MPI-ESM1-2-LR_r1i1p1f1    | 0.8750000 | 0.7300000 | 1.02100 | 0.4321892 | 1.318139 |\n",
       "| 12 | models      | NorESM2-LM_r1i1p1f1       | 0.9800000 | 0.6350000 | 1.23600 | 0.4377073 | 1.470502 |\n",
       "| 13 | models      | NorESM2-MM_r1i1p1f1       | 1.2610000 | 1.0690000 | 1.43800 | 0.8006519 | 1.715297 |\n",
       "| 14 | model_synth | Models                    | 0.9827894 | 0.5625914 | 1.40281 |        NA |       NA |\n",
       "\n"
      ],
      "text/plain": [
       "   group       model                     est       lower     upper   l_wb     \n",
       "3  models      ACCESS-CM2_r1i1p1f1       1.0270000 0.9060000 1.14900 0.5914573\n",
       "4  models      ACCESS-ESM1-5_r1i1p1f1    0.9930000 0.8910000 1.10200 0.5623489\n",
       "5  models      AWI-CM-1-1-MR_r1i1p1f1    0.8260000 0.7240000 0.93400 0.3953489\n",
       "6  models      EC-Earth3_r1i1p1f1        0.9610000 0.8780000 1.04300 0.5344494\n",
       "7  models      EC-Earth3-Veg_r1i1p1f1    1.0430000 0.9480000 1.14500 0.6139529\n",
       "8  models      EC-Earth3-Veg-LR_r1i1p1f1 1.1320000 1.0300000 1.23000 0.7013489\n",
       "9  models      INM-CM5-0_r1i1p1f1        0.8550000 0.7360000 0.95900 0.4200087\n",
       "10 models      MPI-ESM1-2-HR_r1i1p1f1    0.9050000 0.7470000 1.04800 0.4577636\n",
       "11 models      MPI-ESM1-2-LR_r1i1p1f1    0.8750000 0.7300000 1.02100 0.4321892\n",
       "12 models      NorESM2-LM_r1i1p1f1       0.9800000 0.6350000 1.23600 0.4377073\n",
       "13 models      NorESM2-MM_r1i1p1f1       1.2610000 1.0690000 1.43800 0.8006519\n",
       "14 model_synth Models                    0.9827894 0.5625914 1.40281        NA\n",
       "   u_wb    \n",
       "3  1.462822\n",
       "4  1.425363\n",
       "5  1.258112\n",
       "6  1.387357\n",
       "7  1.473651\n",
       "8  1.561721\n",
       "9  1.286129\n",
       "10 1.347160\n",
       "11 1.318139\n",
       "12 1.470502\n",
       "13 1.715297\n",
       "14       NA"
      ]
     },
     "metadata": {},
     "output_type": "display_data"
    }
   ],
   "source": [
    "synth <- synthesis_cx(models_in = df)\n",
    "synth$\"chi2/dof\"     # CX has chi2/dof = 3.716\n",
    "\n",
    "synth$df\n",
    "# 3.71572967348589"
   ]
  },
  {
   "cell_type": "code",
   "execution_count": 10,
   "metadata": {},
   "outputs": [
    {
     "data": {
      "text/html": [
       "15.3664"
      ],
      "text/latex": [
       "15.3664"
      ],
      "text/markdown": [
       "15.3664"
      ],
      "text/plain": [
       "[1] 15.3664"
      ]
     },
     "metadata": {},
     "output_type": "display_data"
    }
   ],
   "source": [
    "(2*1.96)^2"
   ]
  },
  {
   "cell_type": "code",
   "execution_count": 11,
   "metadata": {},
   "outputs": [
    {
     "name": "stdout",
     "output_type": "stream",
     "text": [
      " [1] 0.06826473 0.06833250 0.06833447 0.06841336 0.06835918 0.06835362\n",
      " [7] 0.06830819 0.06811801 0.06814549 0.06688514 0.06790727\n",
      " [1] 0.02613993 0.02614986 0.02615015 0.02616169 0.02615377 0.02615295\n",
      " [7] 0.02614630 0.02611839 0.02612243 0.02593509 0.02608735\n",
      " [1] 0.1775613 0.1780205 0.1780339 0.1785703 0.1782017 0.1781639 0.1778556\n",
      " [8] 0.1765721 0.1767568 0.1685201 0.1751629\n",
      " [1] 0.4571068 0.4601627 0.4602518 0.4638545 0.4613754 0.4611220 0.4590625\n",
      " [8] 0.4506078 0.4518131 0.4016347 0.4415431\n",
      " [1] 1.1466432 1.1660681 1.1666408 1.1900698 1.1738868 1.1722479 1.1590294\n",
      " [8] 1.1066074 1.1139047 0.8515981 1.0534934\n",
      " [1] 2.705547 2.816243 2.819586 2.960445 2.862287 2.852562 2.775534 2.492752\n",
      " [9] 2.530089 1.488620 2.238524\n",
      " [1] 5.628313 6.129512 6.145370 6.856400 6.351903 6.304211 5.939896 4.779541\n",
      " [9] 4.918715 2.084093 3.924876\n",
      " [1] 4.549196 4.871133 4.881143 5.319288 5.010545 4.980822 4.750615 3.978183\n",
      " [9] 4.074132 1.915815 3.367785\n",
      " [1] 3.925202 4.162575 4.169882 4.485513 4.263957 4.242413 4.074250 3.492645\n",
      " [9] 3.566385 1.795603 3.013174\n",
      " [1] 4.247205 4.526506 4.535148 4.910989 4.646647 4.621073 4.422255 3.745305\n",
      " [9] 3.830229 1.860116 3.199376\n",
      " [1] 4.257774 4.538513 4.547201 4.925126 4.659300 4.633588 4.433715 3.753521\n",
      " [9] 3.838823 1.862140 3.205370\n",
      " [1] 4.270199 4.552633 4.561376 4.941759 4.674183 4.648307 4.447190 3.763174\n",
      " [9] 3.848920 1.864513 3.212406\n",
      " [1] 4.271636 4.554267 4.563015 4.943683 4.675905 4.650010 4.448748 3.764290\n",
      " [9] 3.850088 1.864787 3.213220\n",
      " [1] 4.271583 4.554206 4.562954 4.943612 4.675841 4.649946 4.448690 3.764249\n",
      " [9] 3.850044 1.864777 3.213189\n",
      " [1] 4.271580 4.554203 4.562951 4.943608 4.675838 4.649943 4.448687 3.764247\n",
      " [9] 3.850042 1.864776 3.213188\n",
      " [1] 4.271580 4.554203 4.562951 4.943608 4.675838 4.649943 4.448688 3.764247\n",
      " [9] 3.850042 1.864776 3.213188\n",
      " [1] 4.271580 4.554202 4.562951 4.943608 4.675838 4.649942 4.448687 3.764246\n",
      " [9] 3.850042 1.864776 3.213188\n",
      " [1] 4.271580 4.554203 4.562951 4.943608 4.675838 4.649943 4.448687 3.764247\n",
      " [9] 3.850042 1.864776 3.213188\n"
     ]
    },
    {
     "data": {
      "text/html": [
       "0.209198715735568"
      ],
      "text/latex": [
       "0.209198715735568"
      ],
      "text/markdown": [
       "0.209198715735568"
      ],
      "text/plain": [
       "[1] 0.2091987"
      ]
     },
     "metadata": {},
     "output_type": "display_data"
    },
    {
     "name": "stdout",
     "output_type": "stream",
     "text": [
      " [1] 0.06826473 0.06833250 0.06833447 0.06841336 0.06835918 0.06835362\n",
      " [7] 0.06830819 0.06811801 0.06814549 0.06688514 0.06790727\n",
      " [1] 0.02613993 0.02614986 0.02615015 0.02616169 0.02615377 0.02615295\n",
      " [7] 0.02614630 0.02611839 0.02612243 0.02593509 0.02608735\n",
      " [1] 0.1775613 0.1780205 0.1780339 0.1785703 0.1782017 0.1781639 0.1778556\n",
      " [8] 0.1765721 0.1767568 0.1685201 0.1751629\n",
      " [1] 0.4571068 0.4601627 0.4602518 0.4638545 0.4613754 0.4611220 0.4590625\n",
      " [8] 0.4506078 0.4518131 0.4016347 0.4415431\n",
      " [1] 1.1466432 1.1660681 1.1666408 1.1900698 1.1738868 1.1722479 1.1590294\n",
      " [8] 1.1066074 1.1139047 0.8515981 1.0534934\n",
      " [1] 2.705547 2.816243 2.819586 2.960445 2.862287 2.852562 2.775534 2.492752\n",
      " [9] 2.530089 1.488620 2.238524\n",
      " [1] 5.628313 6.129512 6.145370 6.856400 6.351903 6.304211 5.939896 4.779541\n",
      " [9] 4.918715 2.084093 3.924876\n",
      " [1]  9.582272 11.131967 11.184383 13.786375 11.887866 11.721902 10.521954\n",
      " [8]  7.357735  7.692817  2.459956  5.510511\n",
      " [1] 13.096543 16.173895 16.284781 22.455748 17.820221 17.449867 14.917352\n",
      " [8]  9.267151  9.805072  2.641952  6.516015\n",
      " [1]  8.146546  9.240145  9.276231 10.997784  9.755012  9.642978  8.815901\n",
      " [8]  6.480738  6.739298  2.353476  5.003417\n",
      " [1] 10.857471 12.890837 12.961178 16.589668 13.915467 13.688602 12.079851\n",
      " [8]  8.087050  8.493688  2.536433  5.909660\n",
      " [1]  9.522160 11.050922 11.102576 13.662287 11.795487 11.632075 10.449519\n",
      " [8]  7.322242  7.654027  2.455975  5.490578\n",
      " [1]  9.689271 11.276634 11.330425 14.008949 12.052993 11.882420 10.651109\n",
      " [8]  7.420658  7.761629  2.466949  5.545729\n",
      " [1] 10.123924 11.869728 11.929341 14.936090 12.733026 12.542814 11.178689\n",
      " [8]  7.672953  8.038073  2.494214  5.685439\n",
      " [1]  9.730732 11.332833 11.387163 14.095786 12.117219 11.944836 10.701232\n",
      " [8]  7.444953  7.788211  2.469629  5.559287\n",
      " [1]  9.726358 11.326900 11.381172 14.086608 12.110436 11.938244 10.695941\n",
      " [8]  7.442392  7.785409  2.469347  5.557859\n",
      " [1]  9.725842 11.326200 11.380466 14.085526 12.109636 11.937467 10.695317\n",
      " [8]  7.442090  7.785078  2.469313  5.557690\n",
      " [1]  9.725864 11.326230 11.380496 14.085572 12.109670 11.937500 10.695344\n",
      " [8]  7.442102  7.785092  2.469315  5.557697\n",
      " [1]  9.725863 11.326229 11.380495 14.085571 12.109669 11.937499 10.695343\n",
      " [8]  7.442102  7.785092  2.469315  5.557697\n",
      " [1]  9.725864 11.326231 11.380497 14.085573 12.109671 11.937501 10.695344\n",
      " [8]  7.442103  7.785092  2.469315  5.557698\n",
      " [1]  9.725864 11.326230 11.380496 14.085572 12.109670 11.937500 10.695344\n",
      " [8]  7.442102  7.785092  2.469315  5.557697\n"
     ]
    },
    {
     "data": {
      "text/html": [
       "0.104605966287485"
      ],
      "text/latex": [
       "0.104605966287485"
      ],
      "text/markdown": [
       "0.104605966287485"
      ],
      "text/plain": [
       "[1] 0.104606"
      ]
     },
     "metadata": {},
     "output_type": "display_data"
    }
   ],
   "source": [
    "optim(0, function(x) {(getsynchi2_cx(df, sig_mod = x) - (nrow(df)-1))^2}, method = \"Brent\", lower = 0, upper = 5)$par\n",
    "optim(0, function(x) {(getsynchi2_cb(df, sig_mod = x) - (nrow(df)-1))^2}, method = \"Brent\", lower = 0, upper = 5)$par"
   ]
  },
  {
   "cell_type": "code",
   "execution_count": 12,
   "metadata": {},
   "outputs": [],
   "source": [
    "cx <- read.table(\"cxsynth_dI_sahel-tx5x-future.txt\", col.names = c(\"y1\", \"y2\", \"est\", \"lower\", \"upper\", \"l_wb\", \"u_wb\", \"group\", \"model\"))"
   ]
  },
  {
   "cell_type": "code",
   "execution_count": 13,
   "metadata": {},
   "outputs": [
    {
     "data": {
      "text/html": [
       "<table class=\"dataframe\">\n",
       "<caption>A matrix: 2 × 12 of type dbl</caption>\n",
       "<tbody>\n",
       "\t<tr><td>1.030</td><td>0.993</td><td>0.826</td><td>0.961</td><td>1.040</td><td>1.130</td><td>0.855</td><td>0.905</td><td>0.875</td><td>0.98</td><td>1.260</td><td>0.9830000</td></tr>\n",
       "\t<tr><td>1.027</td><td>0.993</td><td>0.826</td><td>0.961</td><td>1.043</td><td>1.132</td><td>0.855</td><td>0.905</td><td>0.875</td><td>0.98</td><td>1.261</td><td>0.9827894</td></tr>\n",
       "</tbody>\n",
       "</table>\n"
      ],
      "text/latex": [
       "A matrix: 2 × 12 of type dbl\n",
       "\\begin{tabular}{llllllllllll}\n",
       "\t 1.030 & 0.993 & 0.826 & 0.961 & 1.040 & 1.130 & 0.855 & 0.905 & 0.875 & 0.98 & 1.260 & 0.9830000\\\\\n",
       "\t 1.027 & 0.993 & 0.826 & 0.961 & 1.043 & 1.132 & 0.855 & 0.905 & 0.875 & 0.98 & 1.261 & 0.9827894\\\\\n",
       "\\end{tabular}\n"
      ],
      "text/markdown": [
       "\n",
       "A matrix: 2 × 12 of type dbl\n",
       "\n",
       "| 1.030 | 0.993 | 0.826 | 0.961 | 1.040 | 1.130 | 0.855 | 0.905 | 0.875 | 0.98 | 1.260 | 0.9830000 |\n",
       "| 1.027 | 0.993 | 0.826 | 0.961 | 1.043 | 1.132 | 0.855 | 0.905 | 0.875 | 0.98 | 1.261 | 0.9827894 |\n",
       "\n"
      ],
      "text/plain": [
       "     [,1]  [,2]  [,3]  [,4]  [,5]  [,6]  [,7]  [,8]  [,9]  [,10] [,11]\n",
       "[1,] 1.030 0.993 0.826 0.961 1.040 1.130 0.855 0.905 0.875 0.98  1.260\n",
       "[2,] 1.027 0.993 0.826 0.961 1.043 1.132 0.855 0.905 0.875 0.98  1.261\n",
       "     [,12]    \n",
       "[1,] 0.9830000\n",
       "[2,] 0.9827894"
      ]
     },
     "metadata": {},
     "output_type": "display_data"
    }
   ],
   "source": [
    "rbind(cx$est, synth$df$est)"
   ]
  },
  {
   "cell_type": "code",
   "execution_count": 14,
   "metadata": {},
   "outputs": [
    {
     "data": {
      "text/html": [
       "<table class=\"dataframe\">\n",
       "<caption>A matrix: 2 × 12 of type dbl</caption>\n",
       "<tbody>\n",
       "\t<tr><td>0.906</td><td>0.891</td><td>0.724</td><td>0.878</td><td>0.948</td><td>1.03</td><td>0.736</td><td>0.747</td><td>0.73</td><td>0.635</td><td>1.070</td><td>0.7700000</td></tr>\n",
       "\t<tr><td>0.906</td><td>0.891</td><td>0.724</td><td>0.878</td><td>0.948</td><td>1.03</td><td>0.736</td><td>0.747</td><td>0.73</td><td>0.635</td><td>1.069</td><td>0.5625914</td></tr>\n",
       "</tbody>\n",
       "</table>\n"
      ],
      "text/latex": [
       "A matrix: 2 × 12 of type dbl\n",
       "\\begin{tabular}{llllllllllll}\n",
       "\t 0.906 & 0.891 & 0.724 & 0.878 & 0.948 & 1.03 & 0.736 & 0.747 & 0.73 & 0.635 & 1.070 & 0.7700000\\\\\n",
       "\t 0.906 & 0.891 & 0.724 & 0.878 & 0.948 & 1.03 & 0.736 & 0.747 & 0.73 & 0.635 & 1.069 & 0.5625914\\\\\n",
       "\\end{tabular}\n"
      ],
      "text/markdown": [
       "\n",
       "A matrix: 2 × 12 of type dbl\n",
       "\n",
       "| 0.906 | 0.891 | 0.724 | 0.878 | 0.948 | 1.03 | 0.736 | 0.747 | 0.73 | 0.635 | 1.070 | 0.7700000 |\n",
       "| 0.906 | 0.891 | 0.724 | 0.878 | 0.948 | 1.03 | 0.736 | 0.747 | 0.73 | 0.635 | 1.069 | 0.5625914 |\n",
       "\n"
      ],
      "text/plain": [
       "     [,1]  [,2]  [,3]  [,4]  [,5]  [,6] [,7]  [,8]  [,9] [,10] [,11] [,12]    \n",
       "[1,] 0.906 0.891 0.724 0.878 0.948 1.03 0.736 0.747 0.73 0.635 1.070 0.7700000\n",
       "[2,] 0.906 0.891 0.724 0.878 0.948 1.03 0.736 0.747 0.73 0.635 1.069 0.5625914"
      ]
     },
     "metadata": {},
     "output_type": "display_data"
    }
   ],
   "source": [
    "rbind(cx$lower, synth$df$lower)"
   ]
  },
  {
   "cell_type": "code",
   "execution_count": 15,
   "metadata": {},
   "outputs": [
    {
     "data": {
      "text/html": [
       "<table class=\"dataframe\">\n",
       "<caption>A matrix: 2 × 12 of type dbl</caption>\n",
       "<tbody>\n",
       "\t<tr><td>1.150</td><td>1.100</td><td>0.934</td><td>1.040</td><td>1.140</td><td>1.23</td><td>0.959</td><td>1.050</td><td>1.020</td><td>1.240</td><td>1.440</td><td>1.20000</td></tr>\n",
       "\t<tr><td>1.149</td><td>1.102</td><td>0.934</td><td>1.043</td><td>1.145</td><td>1.23</td><td>0.959</td><td>1.048</td><td>1.021</td><td>1.236</td><td>1.438</td><td>1.40281</td></tr>\n",
       "</tbody>\n",
       "</table>\n"
      ],
      "text/latex": [
       "A matrix: 2 × 12 of type dbl\n",
       "\\begin{tabular}{llllllllllll}\n",
       "\t 1.150 & 1.100 & 0.934 & 1.040 & 1.140 & 1.23 & 0.959 & 1.050 & 1.020 & 1.240 & 1.440 & 1.20000\\\\\n",
       "\t 1.149 & 1.102 & 0.934 & 1.043 & 1.145 & 1.23 & 0.959 & 1.048 & 1.021 & 1.236 & 1.438 & 1.40281\\\\\n",
       "\\end{tabular}\n"
      ],
      "text/markdown": [
       "\n",
       "A matrix: 2 × 12 of type dbl\n",
       "\n",
       "| 1.150 | 1.100 | 0.934 | 1.040 | 1.140 | 1.23 | 0.959 | 1.050 | 1.020 | 1.240 | 1.440 | 1.20000 |\n",
       "| 1.149 | 1.102 | 0.934 | 1.043 | 1.145 | 1.23 | 0.959 | 1.048 | 1.021 | 1.236 | 1.438 | 1.40281 |\n",
       "\n"
      ],
      "text/plain": [
       "     [,1]  [,2]  [,3]  [,4]  [,5]  [,6] [,7]  [,8]  [,9]  [,10] [,11] [,12]  \n",
       "[1,] 1.150 1.100 0.934 1.040 1.140 1.23 0.959 1.050 1.020 1.240 1.440 1.20000\n",
       "[2,] 1.149 1.102 0.934 1.043 1.145 1.23 0.959 1.048 1.021 1.236 1.438 1.40281"
      ]
     },
     "metadata": {},
     "output_type": "display_data"
    }
   ],
   "source": [
    "rbind(cx$upper, synth$df$upper)"
   ]
  },
  {
   "cell_type": "code",
   "execution_count": 16,
   "metadata": {},
   "outputs": [
    {
     "data": {
      "text/html": [
       "<table class=\"dataframe\">\n",
       "<caption>A matrix: 2 × 12 of type dbl</caption>\n",
       "<tbody>\n",
       "\t<tr><td>0.7850000</td><td>0.7600000</td><td>0.5930000</td><td>0.7360000</td><td>0.8130000</td><td>0.8990000</td><td>0.6140000</td><td>0.6430000</td><td>0.6200000</td><td>0.5770000</td><td>0.9770000</td><td>0.77</td></tr>\n",
       "\t<tr><td>0.5914573</td><td>0.5623489</td><td>0.3953489</td><td>0.5344494</td><td>0.6139529</td><td>0.7013489</td><td>0.4200087</td><td>0.4577636</td><td>0.4321892</td><td>0.4377073</td><td>0.8006519</td><td>  NA</td></tr>\n",
       "</tbody>\n",
       "</table>\n"
      ],
      "text/latex": [
       "A matrix: 2 × 12 of type dbl\n",
       "\\begin{tabular}{llllllllllll}\n",
       "\t 0.7850000 & 0.7600000 & 0.5930000 & 0.7360000 & 0.8130000 & 0.8990000 & 0.6140000 & 0.6430000 & 0.6200000 & 0.5770000 & 0.9770000 & 0.77\\\\\n",
       "\t 0.5914573 & 0.5623489 & 0.3953489 & 0.5344494 & 0.6139529 & 0.7013489 & 0.4200087 & 0.4577636 & 0.4321892 & 0.4377073 & 0.8006519 &   NA\\\\\n",
       "\\end{tabular}\n"
      ],
      "text/markdown": [
       "\n",
       "A matrix: 2 × 12 of type dbl\n",
       "\n",
       "| 0.7850000 | 0.7600000 | 0.5930000 | 0.7360000 | 0.8130000 | 0.8990000 | 0.6140000 | 0.6430000 | 0.6200000 | 0.5770000 | 0.9770000 | 0.77 |\n",
       "| 0.5914573 | 0.5623489 | 0.3953489 | 0.5344494 | 0.6139529 | 0.7013489 | 0.4200087 | 0.4577636 | 0.4321892 | 0.4377073 | 0.8006519 |   NA |\n",
       "\n"
      ],
      "text/plain": [
       "     [,1]      [,2]      [,3]      [,4]      [,5]      [,6]      [,7]     \n",
       "[1,] 0.7850000 0.7600000 0.5930000 0.7360000 0.8130000 0.8990000 0.6140000\n",
       "[2,] 0.5914573 0.5623489 0.3953489 0.5344494 0.6139529 0.7013489 0.4200087\n",
       "     [,8]      [,9]      [,10]     [,11]     [,12]\n",
       "[1,] 0.6430000 0.6200000 0.5770000 0.9770000 0.77 \n",
       "[2,] 0.4577636 0.4321892 0.4377073 0.8006519   NA "
      ]
     },
     "metadata": {},
     "output_type": "display_data"
    }
   ],
   "source": [
    "rbind(cx$l_wb, synth$df$l_wb)"
   ]
  },
  {
   "cell_type": "code",
   "execution_count": 17,
   "metadata": {},
   "outputs": [
    {
     "data": {
      "text/html": [
       "<table class=\"dataframe\">\n",
       "<caption>A matrix: 2 × 12 of type dbl</caption>\n",
       "<tbody>\n",
       "\t<tr><td>1.270000</td><td>1.230000</td><td>1.060000</td><td>1.190000</td><td>1.280000</td><td>1.360000</td><td>1.090000</td><td>1.16000</td><td>1.130000</td><td>1.310000</td><td>1.540000</td><td>1.2</td></tr>\n",
       "\t<tr><td>1.462822</td><td>1.425363</td><td>1.258112</td><td>1.387357</td><td>1.473651</td><td>1.561721</td><td>1.286129</td><td>1.34716</td><td>1.318139</td><td>1.470502</td><td>1.715297</td><td> NA</td></tr>\n",
       "</tbody>\n",
       "</table>\n"
      ],
      "text/latex": [
       "A matrix: 2 × 12 of type dbl\n",
       "\\begin{tabular}{llllllllllll}\n",
       "\t 1.270000 & 1.230000 & 1.060000 & 1.190000 & 1.280000 & 1.360000 & 1.090000 & 1.16000 & 1.130000 & 1.310000 & 1.540000 & 1.2\\\\\n",
       "\t 1.462822 & 1.425363 & 1.258112 & 1.387357 & 1.473651 & 1.561721 & 1.286129 & 1.34716 & 1.318139 & 1.470502 & 1.715297 &  NA\\\\\n",
       "\\end{tabular}\n"
      ],
      "text/markdown": [
       "\n",
       "A matrix: 2 × 12 of type dbl\n",
       "\n",
       "| 1.270000 | 1.230000 | 1.060000 | 1.190000 | 1.280000 | 1.360000 | 1.090000 | 1.16000 | 1.130000 | 1.310000 | 1.540000 | 1.2 |\n",
       "| 1.462822 | 1.425363 | 1.258112 | 1.387357 | 1.473651 | 1.561721 | 1.286129 | 1.34716 | 1.318139 | 1.470502 | 1.715297 |  NA |\n",
       "\n"
      ],
      "text/plain": [
       "     [,1]     [,2]     [,3]     [,4]     [,5]     [,6]     [,7]     [,8]   \n",
       "[1,] 1.270000 1.230000 1.060000 1.190000 1.280000 1.360000 1.090000 1.16000\n",
       "[2,] 1.462822 1.425363 1.258112 1.387357 1.473651 1.561721 1.286129 1.34716\n",
       "     [,9]     [,10]    [,11]    [,12]\n",
       "[1,] 1.130000 1.310000 1.540000 1.2  \n",
       "[2,] 1.318139 1.470502 1.715297  NA  "
      ]
     },
     "metadata": {},
     "output_type": "display_data"
    }
   ],
   "source": [
    "rbind(cx$u_wb, synth$df$u_wb)"
   ]
  },
  {
   "cell_type": "markdown",
   "metadata": {},
   "source": [
    "# Check equations"
   ]
  },
  {
   "cell_type": "markdown",
   "metadata": {},
   "source": [
    "## Equal means, equal variances\n",
    "\n",
    "The more models we add, the more we shrink toward the mean. This is not how we handle the obs - which do we want to do?"
   ]
  },
  {
   "cell_type": "code",
   "execution_count": 56,
   "metadata": {},
   "outputs": [
    {
     "data": {
      "image/png": "[encoded data removed]",
      "text/plain": [
       "Plot with title “”"
      ]
     },
     "metadata": {
      "image/png": {
       "height": 420,
       "width": 420
      }
     },
     "output_type": "display_data"
    }
   ],
   "source": [
    "# specify model parameters\n",
    "n = 3\n",
    "mu = rep(5,n)\n",
    "sigma = (10 - mu) / qnorm(0.975)\n",
    "sig_mod = 0\n",
    "\n",
    "# turn variances into bounds and run through synthesis\n",
    "sim_bounds <- data.frame(t(sapply(1:length(mu), function(j) setNames(c(mu[j], qnorm(c(0.025, 0.975), mu[j], sigma[j]+sig_mod)), c(\"est\", \"lower\", \"upper\")))),\n",
    "                         row.names = letters[1:length(mu)])\n",
    "\n",
    "zz = synthesis(obs_in = sim_bounds, models_in = sim_bounds)\n",
    "plot_synthesis(zz, add_space = F)"
   ]
  },
  {
   "cell_type": "code",
   "execution_count": 57,
   "metadata": {},
   "outputs": [
    {
     "data": {
      "text/html": [
       "<strong>upper:</strong> 3"
      ],
      "text/latex": [
       "\\textbf{upper:} 3"
      ],
      "text/markdown": [
       "**upper:** 3"
      ],
      "text/plain": [
       "upper \n",
       "    3 "
      ]
     },
     "metadata": {},
     "output_type": "display_data"
    }
   ],
   "source": [
    "# width of obs interval\n",
    "int_obs = diff(unlist(zz$df[zz$df$group == \"obs_synth\",c(\"est\", \"upper\")])) \n",
    "int_mdl = diff(unlist(zz$df[zz$df$group == \"model_synth\",c(\"est\", \"upper\")]))\n",
    "\n",
    "# ratio of model interval to obs interval is sqrt(n)\n",
    "(int_obs / int_mdl)^2"
   ]
  },
  {
   "cell_type": "markdown",
   "metadata": {},
   "source": [
    "### Obs synthesis"
   ]
  },
  {
   "cell_type": "code",
   "execution_count": 58,
   "metadata": {},
   "outputs": [
    {
     "data": {
      "text/html": [
       "10"
      ],
      "text/latex": [
       "10"
      ],
      "text/markdown": [
       "10"
      ],
      "text/plain": [
       "[1] 10"
      ]
     },
     "metadata": {},
     "output_type": "display_data"
    }
   ],
   "source": [
    "mu_obs = 1/n * sum(mu)\n",
    "\n",
    "# check width of obs interval\n",
    "sig_obs = 1/n * sum(sigma)\n",
    "mu_obs + qnorm(0.975) * sig_obs"
   ]
  },
  {
   "cell_type": "markdown",
   "metadata": {},
   "source": [
    "### Model synthesis"
   ]
  },
  {
   "cell_type": "markdown",
   "metadata": {},
   "source": [
    "The individual model weights are\n",
    "$\\begin{align}\n",
    "&w_j = \\frac{k}{\\sigma_j^2}\n",
    "\\end{align}$ where $k = \\left(2 \\times 1.96\\right)^{-2}$.\n"
   ]
  },
  {
   "cell_type": "code",
   "execution_count": 59,
   "metadata": {},
   "outputs": [
    {
     "data": {
      "text/html": [
       "<style>\n",
       ".list-inline {list-style: none; margin:0; padding: 0}\n",
       ".list-inline>li {display: inline-block}\n",
       ".list-inline>li:not(:last-child)::after {content: \"\\00b7\"; padding: 0 .5ex}\n",
       "</style>\n",
       "<ol class=list-inline><li>0.01</li><li>0.01</li><li>0.01</li></ol>\n"
      ],
      "text/latex": [
       "\\begin{enumerate*}\n",
       "\\item 0.01\n",
       "\\item 0.01\n",
       "\\item 0.01\n",
       "\\end{enumerate*}\n"
      ],
      "text/markdown": [
       "1. 0.01\n",
       "2. 0.01\n",
       "3. 0.01\n",
       "\n",
       "\n"
      ],
      "text/plain": [
       "[1] 0.01 0.01 0.01"
      ]
     },
     "metadata": {},
     "output_type": "display_data"
    }
   ],
   "source": [
    "# calculate weights from sigma - should match print when running synthesis\n",
    "w = round(1/(((2*1.96)^2) * sigma^2), 2)\n",
    "w"
   ]
  },
  {
   "cell_type": "markdown",
   "metadata": {},
   "source": [
    "The upper bound of the dark red bar is \n",
    "$\\begin{align}\\mu_{mod} + \\frac{1.96}{\\sqrt{\\sum_j \\sigma_j^{-2}}}\n",
    "\\end{align}$"
   ]
  },
  {
   "cell_type": "code",
   "execution_count": 60,
   "metadata": {},
   "outputs": [
    {
     "data": {
      "text/html": [
       "1.47285938349809"
      ],
      "text/latex": [
       "1.47285938349809"
      ],
      "text/markdown": [
       "1.47285938349809"
      ],
      "text/plain": [
       "[1] 1.472859"
      ]
     },
     "metadata": {},
     "output_type": "display_data"
    },
    {
     "data": {
      "text/html": [
       "1.47285938349809"
      ],
      "text/latex": [
       "1.47285938349809"
      ],
      "text/markdown": [
       "1.47285938349809"
      ],
      "text/plain": [
       "[1] 1.472859"
      ]
     },
     "metadata": {},
     "output_type": "display_data"
    }
   ],
   "source": [
    "# model mean\n",
    "mu_mod = sum(w*mu)/sum(w)\n",
    "\n",
    "# model SD\n",
    "sqrt(sum((w*sigma)^2)) / sum(w)\n",
    "\n",
    "# and again, but this time using sum of precisions directly\n",
    "sig_mod = 1/sqrt(sum(1/sigma^2))\n",
    "sig_mod"
   ]
  },
  {
   "cell_type": "code",
   "execution_count": 61,
   "metadata": {},
   "outputs": [
    {
     "data": {
      "text/html": [
       "7.88675134594813"
      ],
      "text/latex": [
       "7.88675134594813"
      ],
      "text/markdown": [
       "7.88675134594813"
      ],
      "text/plain": [
       "[1] 7.886751"
      ]
     },
     "metadata": {},
     "output_type": "display_data"
    },
    {
     "data": {
      "text/html": [
       "7.88675134594813"
      ],
      "text/latex": [
       "7.88675134594813"
      ],
      "text/markdown": [
       "7.88675134594813"
      ],
      "text/plain": [
       "[1] 7.886751"
      ]
     },
     "metadata": {},
     "output_type": "display_data"
    }
   ],
   "source": [
    "# check the upper limit of the interval\n",
    "mu_mod + qnorm(0.975) * sig_mod\n",
    "zz$df[zz$df$group == \"model_synth\", \"upper\"]"
   ]
  },
  {
   "cell_type": "markdown",
   "metadata": {},
   "source": [
    "### Overall synthesis"
   ]
  },
  {
   "cell_type": "code",
   "execution_count": 62,
   "metadata": {},
   "outputs": [],
   "source": [
    "# compute weights\n",
    "k = (2*1.96)^2\n",
    "w_obs = k / sig_obs^2\n",
    "w_mod = k / sig_mod^2"
   ]
  },
  {
   "cell_type": "code",
   "execution_count": 63,
   "metadata": {},
   "outputs": [],
   "source": [
    "# compute synthesised mean\n",
    "mu_synth = mean(mu_mod, mu_obs)\n",
    "\n",
    "# synthesised variance\n",
    "sig_synth = 1/sqrt(sig_obs^{-2} + sig_mod^{-2})"
   ]
  },
  {
   "cell_type": "code",
   "execution_count": 64,
   "metadata": {},
   "outputs": [
    {
     "data": {
      "text/html": [
       "7.5"
      ],
      "text/latex": [
       "7.5"
      ],
      "text/markdown": [
       "7.5"
      ],
      "text/plain": [
       "[1] 7.5"
      ]
     },
     "metadata": {},
     "output_type": "display_data"
    },
    {
     "data": {
      "text/html": [
       "7.5"
      ],
      "text/latex": [
       "7.5"
      ],
      "text/markdown": [
       "7.5"
      ],
      "text/plain": [
       "[1] 7.5"
      ]
     },
     "metadata": {},
     "output_type": "display_data"
    }
   ],
   "source": [
    "# check bounds\n",
    "mu_synth + qnorm(0.975) * sig_synth\n",
    "zz$df[zz$df$group == \"synth\",\"upper\"]"
   ]
  },
  {
   "cell_type": "markdown",
   "metadata": {},
   "source": [
    "## All obs agree, all models agree but are biased\n",
    "\n",
    "Still heavily prioritising the models even though the same number of obs are also in full agreement"
   ]
  },
  {
   "cell_type": "code",
   "execution_count": 55,
   "metadata": {},
   "outputs": [
    {
     "data": {
      "image/png": "[encoded data removed]",
      "text/plain": [
       "Plot with title “”"
      ]
     },
     "metadata": {
      "image/png": {
       "height": 420,
       "width": 420
      }
     },
     "output_type": "display_data"
    }
   ],
   "source": [
    "# specify model parameters\n",
    "n = 3\n",
    "mu_obs = rep(5, n)\n",
    "mu_mod = rep(10,n)\n",
    "\n",
    "sigma_obs = rep(5, n)\n",
    "sigma_mod = rep(5, n)\n",
    "\n",
    "# turn variances into bounds and run through synthesis\n",
    "obs_bounds <- data.frame(t(sapply(1:length(mu_obs), function(j) setNames(c(mu_obs[j], qnorm(c(0.025, 0.975), mu_obs[j], sigma_obs[j])), c(\"est\", \"lower\", \"upper\")))),\n",
    "                         row.names = letters[1:length(mu_obs)])\n",
    "                           \n",
    "mdl_bounds <- data.frame(t(sapply(1:length(mu_mod), function(j) setNames(c(mu_mod[j], qnorm(c(0.025, 0.975), mu_mod[j], sigma_mod[j])), c(\"est\", \"lower\", \"upper\")))),\n",
    "                         row.names = letters[1:length(mu_mod)])\n",
    "\n",
    "zz = synthesis(obs_in = obs_bounds, models_in = mdl_bounds)\n",
    "plot_synthesis(zz, add_space = F)"
   ]
  },
  {
   "cell_type": "markdown",
   "metadata": {},
   "source": [
    "---\n",
    "# Modified synthesis functions\n",
    "Modifications to match version in paper:"
   ]
  },
  {
   "cell_type": "code",
   "execution_count": 65,
   "metadata": {},
   "outputs": [],
   "source": [
    "getsynmean_cx <- function(data, sig_mod = 0) {\n",
    "\n",
    "  # calculate weight for each model based on inverse variance\n",
    "  w = 1/(((data$upper - data$lower))^2 + (2*sig_mod)^2)     # w = 1/(((data$upper - data$lower)/(2*1.96))^2 + sig_mod^2)\n",
    "  w1 = sum(w)\n",
    "    \n",
    "  print(w)\n",
    "\n",
    "  # weighted sum of squares & bounds\n",
    "  s1 <- sum(w*data$est) / w1\n",
    "  ss2 <- apply(data[,c(\"est\", \"lower\", \"upper\")], 2, function(b) sum((w*(data$est - b))^2))\n",
    "  ss2 <- sqrt(ss2) / w1\n",
    "\n",
    "  # if non-zero model representation error, extend 95% intervals accordingly\n",
    "  if (sig_mod > 0) {\n",
    "      ss2 <- sqrt(ss2^2 + (2*sig_mod)^2)     # ss2 <- sqrt(ss2^2 + (1.96*sig_mod)^2)\n",
    "  }\n",
    "\n",
    "  return(s1 + (ss2 * c(0,-1,1)))\n",
    "}"
   ]
  },
  {
   "cell_type": "code",
   "execution_count": 5,
   "metadata": {},
   "outputs": [],
   "source": [
    "getsynchi2_cx <- function(data, sig_mod = 0) {\n",
    "\n",
    "  # function to be minimized by finding sig_mod such that chi^2/mdof ~= 1\n",
    "\n",
    "  # get best estimate of weighted mean\n",
    "  s1 <- getsynmean_cx(data, sig_mod)[\"est\"]\n",
    "\n",
    "  # compute chi2 by converting model intervals to standard deviations & adding sig_mod adjustment\n",
    "  chi2 <- sum(apply(data[,c(\"est\", \"lower\", \"upper\")], 1, function(x) {\n",
    "    if(x[\"est\"] > s1) {\n",
    "      (x[\"est\"] - s1)^2 / (((x[\"est\"] - x[\"lower\"]))^2 + sig_mod^2)     # (x[\"est\"] - s1)^2 / (((x[\"est\"] - x[\"lower\"])/1.96)^2 + sig_mod^2)\n",
    "    } else {\n",
    "      (x[\"est\"] - s1)^2 / (((x[\"est\"] - x[\"upper\"]))^2 + sig_mod^2)     # (x[\"est\"] - s1)^2 / (((x[\"est\"] - x[\"upper\"])/1.96)^2 + sig_mod^2)\n",
    "    }\n",
    "  }))\n",
    "  return(chi2*4)\n",
    "}"
   ]
  },
  {
   "cell_type": "code",
   "execution_count": 6,
   "metadata": {},
   "outputs": [],
   "source": [
    "getsynchi2_cb <- function(data, sig_mod = 0) {\n",
    "\n",
    "  # function to be minimized by finding sig_mod such that chi^2/mdof ~= 1\n",
    "\n",
    "  # get best estimate of weighted mean\n",
    "  s1 <- getsynmean_cx(data, sig_mod)[\"est\"]\n",
    "\n",
    "  # compute chi2 by converting model intervals to standard deviations & adding sig_mod adjustment\n",
    "  chi2 <- sum(apply(data[,c(\"est\", \"lower\", \"upper\")], 1, function(x) {\n",
    "    if(x[\"est\"] > s1) {\n",
    "      (x[\"est\"] - s1)^2 / (((x[\"est\"] - x[\"lower\"])/2)^2 + sig_mod^2)     # (x[\"est\"] - s1)^2 / (((x[\"est\"] - x[\"lower\"])/1.96)^2 + sig_mod^2)\n",
    "    } else {\n",
    "      (x[\"est\"] - s1)^2 / (((x[\"est\"] - x[\"upper\"])/2)^2 + sig_mod^2)     # (x[\"est\"] - s1)^2 / (((x[\"est\"] - x[\"upper\"])/1.96)^2 + sig_mod^2)\n",
    "    }\n",
    "  }))\n",
    "  return(chi2)\n",
    "}"
   ]
  },
  {
   "cell_type": "code",
   "execution_count": 7,
   "metadata": {},
   "outputs": [],
   "source": [
    "synthesis_cx <- function(obs_in = NA, models_in, synth_type = \"abs\") {\n",
    "\n",
    "  if(is.na(unlist(obs_in))[1]) {\n",
    "    no_obs <- T\n",
    "    # create a dummy dataframe to avoid having to rewrite everything twice\n",
    "    obs_in <- data.frame(\"est\" = 0, \"lower\" = 0, \"upper\" = 0)\n",
    "    rownames(obs_in) <- \"dummy\"\n",
    "  } else {\n",
    "    no_obs <- F\n",
    "  }\n",
    "\n",
    "  # relabel the data for easier reference later\n",
    "  colnames(obs_in) <- colnames(models_in) <- c(\"est\", \"lower\", \"upper\")\n",
    "\n",
    "  if(!(\"model\" %in% colnames(obs_in))) obs_in$model <- rownames(obs_in)\n",
    "  if(!(\"model\" %in% colnames(models_in))) models_in$model <- rownames(models_in)\n",
    "\n",
    "  #~~~~~~~~~~~~~~~~~~~~~~~~~~~~~~~~~~~~~~~~~~~~~~~~~~~~~~~~~~~~~~~~~~~~~~~~~~~~~~~~~~~~~~\n",
    "\n",
    "  if(!synth_type %in% c(\"abs\", \"rel\", \"PR\")) {\n",
    "    cat(paste0(\"Synthesis type '\",synth_type,\"' not implemented - must be abs, rel or PR\"), \"\\n\")\n",
    "  }\n",
    "\n",
    "  if(synth_type == \"PR\") {\n",
    "    obs_in[,c(\"est\", \"lower\", \"upper\")] <- log(obs_in[,c(\"est\", \"lower\", \"upper\")])\n",
    "    models_in[,c(\"est\", \"lower\", \"upper\")] <- log(models_in[,c(\"est\", \"lower\", \"upper\")])\n",
    "  } else if(synth_type == \"rel\") {\n",
    "    obs_in[,c(\"est\", \"lower\", \"upper\")] <- log(1+obs_in[,c(\"est\", \"lower\", \"upper\")]/100)\n",
    "    models_in[,c(\"est\", \"lower\", \"upper\")] <- log(1+models_in[,c(\"est\", \"lower\", \"upper\")]/100)\n",
    "  }\n",
    "\n",
    "  #~~~~~~~~~~~~~~~~~~~~~~~~~~~~~~~~~~~~~~~~~~~~~~~~~~~~~~~~~~~~~~~~~~~~~~~~~~~~~~~~~~~~~~\n",
    "  # get mean of intervals to estimate natural variability component\n",
    "\n",
    "  # compute representation error from scatter of mean ($\\sigma_{rep}$ in the paper)\n",
    "  nobs = nrow(obs_in)\n",
    "  obs <- apply(obs_in[,c(\"est\", \"lower\", \"upper\"),drop = F], 2, mean)\n",
    "  if(nobs == 1) {\n",
    "    sig_obs = 0\n",
    "  } else {\n",
    "    s2 = sum((obs_in$est - obs[1])^2)\n",
    "    sig_obs = 2 * sqrt(s2/(nobs-1))     # sig_obs = sqrt(s2/(nobs-1))\n",
    "  }\n",
    "\n",
    "  # add representation error to individual observations\n",
    "  obs_in$l_wb <- obs_in$est - sqrt((obs_in$est - obs_in$lower)**2 + (sig_obs)**2)     # obs_in$l_wb <- obs_in$est - sqrt((obs_in$est - obs_in$lower)**2 + (1.96*sig_obs)**2)\n",
    "  obs_in$u_wb <- obs_in$est + sqrt((obs_in$est - obs_in$upper)**2 + (sig_obs)**2)     # obs_in$u_wb <- obs_in$est + sqrt((obs_in$est - obs_in$upper)**2 + (1.96*sig_obs)**2)\n",
    "\n",
    "  # apply representation error to obs synthesis\n",
    "  # we're working with confidence intervals here, so we extend them by adding (1.96sig_obs)^2 in quadrature\n",
    "  obs[2] <- obs[1] - sqrt( (obs[1] - obs[2])**2 + (sig_obs)**2 )     # obs[2] <- obs[1] - sqrt( (obs[1] - obs[2])**2 + (1.96*sig_obs)**2 )\n",
    "  obs[3] <- obs[1] + sqrt( (obs[1] - obs[3])**2 + (sig_obs)**2 )     # obs[3] <- obs[1] + sqrt( (obs[1] - obs[3])**2 + (1.96*sig_obs)**2 )\n",
    "\n",
    "  #~~~~~~~~~~~~~~~~~~~~~~~~~~~~~~~~~~~~~~~~~~~~~~~~~~~~~~~~~~~~~~~~~~~~~~~~~~~~~~~~~~~~~~\n",
    "  # get initial estimate of model mean & calculate chi^2\n",
    "  chi2 <- getsynchi2_cx(models_in, sig_mod = 0)\n",
    "  mdof <- nrow(models_in)-1\n",
    "\n",
    "  if ( chi2/mdof > 1 ) {\n",
    "    # find sig_mod such that chi^2/dof = 1\n",
    "    sig_mod <- optim(0, function(x) {\n",
    "        (getsynchi2_cx(models_in, sig_mod = x) - (nrow(models_in)-1))^2},\n",
    "                     method = \"Brent\", lower = 0, upper = 5)$par\n",
    "      } else {\n",
    "        sig_mod <- 0\n",
    "      }\n",
    "    cat(\"sig_mod: \", sig_mod,\"\\n\")\n",
    "\n",
    "  # get weighted model mean\n",
    "  models <- getsynmean_cx(models_in, sig_mod = sig_mod)\n",
    "\n",
    "  # add representation error to individual models\n",
    "  models_in$l_wb <- models_in$est - sqrt((models_in$est - models_in$lower)**2 + (2*sig_mod)**2)     # models_in$l_wb <- models_in$est - sqrt((models_in$est - models_in$lower)**2 + (2*sig_mod)**2)\n",
    "  models_in$u_wb <- models_in$est + sqrt((models_in$est - models_in$upper)**2 + (2*sig_mod)**2)     # models_in$u_wb <- models_in$est + sqrt((models_in$est - models_in$upper)**2 + (2*sig_mod)**2)\n",
    "\n",
    "  #~~~~~~~~~~~~~~~~~~~~~~~~~~~~~~~~~~~~~~~~~~~~~~~~~~~~~~~~~~~~~~~~~~~~~~~~~~~~~~~~~~~~~~\n",
    "  # weighted mean of models & obs (coloured bar)\n",
    "  w_obs <- unname((obs[\"upper\"] - obs[\"lower\"])^{-2})\n",
    "  w_mod <- unname((models[\"upper\"] - models[\"lower\"])^{-2})\n",
    "\n",
    "  wmean <- (w_obs * obs[\"est\"] + w_mod * models[\"est\"]) / (w_obs + w_mod)\n",
    "  synth <- setNames(c(wmean,\n",
    "                      wmean - sqrt( (w_obs*(obs[\"est\"]-obs[\"lower\"]))^2 + (w_mod*(models[\"est\"]-models[\"lower\"]))^2 )/(w_obs+w_mod),\n",
    "                      wmean + sqrt( (w_obs*(obs[\"est\"]-obs[\"upper\"]))^2 + (w_mod*(models[\"est\"]-models[\"upper\"]))^2 )/(w_obs+w_mod)),\n",
    "                    c(\"est\", \"lower\", \"upper\"))\n",
    "\n",
    "\n",
    "  # unweighted mean of obs and models\n",
    "  umean <- (obs[\"est\"] +  models[\"est\"]) / 2\n",
    "  synth[\"l_wb\"] <- umean - sqrt((obs[\"est\"]-obs[\"lower\"])^2 + (models[\"est\"]-models[\"lower\"])^2)/2\n",
    "  synth[\"u_wb\"] <- umean + sqrt((obs[\"est\"]-obs[\"upper\"])^2 + (models[\"est\"]-models[\"upper\"])^2)/2\n",
    "\n",
    "  #~~~~~~~~~~~~~~~~~~~~~~~~~~~~~~~~~~~~~~~~~~~~~~~~~~~~~~~~~~~~~~~~~~~~~~~~~~~~~~~~~~~~~~\n",
    "  # add group labels for easier plotting\n",
    "  obs_in <- cbind(obs_in, \"group\" = \"obs\")\n",
    "  obs <- data.frame(t(c(\"model\" = \"Observations\", \"group\" = \"obs_synth\", obs)))\n",
    "  models_in <- cbind(models_in, \"group\" = \"models\")\n",
    "  models <- data.frame(t(c(\"model\" = \"Models\", \"group\" = \"model_synth\", models)))\n",
    "  synth <- data.frame(t(c(\"model\" = \"Synthesis\", \"group\" = \"synth\", synth)))\n",
    "\n",
    "  # combine all the data together in one dataframe\n",
    "  res <- rbind.fill(obs_in, obs, models_in, models, synth)[,c(\"group\", \"model\", \"est\", \"lower\", \"upper\", \"l_wb\", \"u_wb\")]\n",
    "  for(cnm in c(\"est\", \"lower\", \"upper\", \"l_wb\", \"u_wb\")) { res[,cnm] <- as.numeric(res[,cnm]) }\n",
    "\n",
    "  # if only dummy obs, remove\n",
    "  if(no_obs) {\n",
    "    # drop all rows that don't relate to models\n",
    "    res <- res[grepl(\"model\", res$group),]\n",
    "    sig_obs <- NA\n",
    "  }\n",
    "\n",
    "  #~~~~~~~~~~~~~~~~~~~~~~~~~~~~~~~~~~~~~~~~~~~~~~~~~~~~~~~~~~~~~~~~~~~~~~~~~~~~~~~~~~~~~~\n",
    "  # reverse any transformations applied\n",
    "  if(synth_type == \"PR\") {\n",
    "    res[,c(\"est\", \"lower\", \"upper\", \"l_wb\", \"u_wb\")] <- exp(res[,c(\"est\", \"lower\", \"upper\", \"l_wb\", \"u_wb\")])\n",
    "    sig_obs <- exp(sig_obs)\n",
    "    sig_mod <- exp(sig_mod)\n",
    "    umean <- exp(umean)\n",
    "  } else if(synth_type == \"rel\") {\n",
    "    res[,c(\"est\", \"lower\", \"upper\", \"l_wb\", \"u_wb\")] <- 100*(exp(res[,c(\"est\", \"lower\", \"upper\", \"l_wb\", \"u_wb\")])-1)\n",
    "    sig_obs <- 100*(exp(sig_obs)-1)\n",
    "    sig_mod <- 100*(exp(sig_mod)-1)\n",
    "    umean <- 100*(exp(umean)-1)\n",
    "  }\n",
    "\n",
    "  return(list(synth_type = synth_type, sig_obs = sig_obs, \"chi2/dof\" = chi2 / mdof, df = res, uw_mean = umean))\n",
    "}"
   ]
  },
  {
   "cell_type": "code",
   "execution_count": null,
   "metadata": {},
   "outputs": [],
   "source": []
  },
  {
   "cell_type": "markdown",
   "metadata": {},
   "source": [
    "---\n",
    "# Real examples"
   ]
  },
  {
   "cell_type": "markdown",
   "metadata": {},
   "source": [
    "## Sahel heatwave"
   ]
  },
  {
   "cell_type": "code",
   "execution_count": null,
   "metadata": {},
   "outputs": [],
   "source": []
  }
 ],
 "metadata": {
  "kernelspec": {
   "display_name": "R [conda env:r_env]",
   "language": "R",
   "name": "conda-env-r_env-r"
  },
  "language_info": {
   "codemirror_mode": "r",
   "file_extension": ".r",
   "mimetype": "text/x-r-source",
   "name": "R",
   "pygments_lexer": "r",
   "version": "4.2.2"
  }
 },
 "nbformat": 4,
 "nbformat_minor": 2
}
