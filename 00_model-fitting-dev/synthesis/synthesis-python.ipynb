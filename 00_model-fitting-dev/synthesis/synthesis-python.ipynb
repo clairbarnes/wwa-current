{
 "cells": [
  {
   "cell_type": "markdown",
   "id": "d88688e7-5256-437a-ad50-63d19b5144e2",
   "metadata": {},
   "source": [
    "# **Methods for WWA synthesis & plotting**\n",
    "\n",
    "- some modifications still needed to handle logs"
   ]
  },
  {
   "cell_type": "code",
   "execution_count": 1,
   "id": "59bec752-c4ae-48d6-90b6-a7d3871b9292",
   "metadata": {},
   "outputs": [],
   "source": [
    "import pandas as pd\n",
    "import numpy as np\n",
    "import re\n",
    "from scipy.optimize import brent\n",
    "from math import log, exp\n",
    "\n",
    "import matplotlib.pyplot as plt\n",
    "from matplotlib.patches import Rectangle"
   ]
  },
  {
   "cell_type": "code",
   "execution_count": 2,
   "id": "bee8d1e5-c95a-45ba-a05c-f8013853ee09",
   "metadata": {},
   "outputs": [],
   "source": [
    "df_in = pd.read_table(\"minisynth_in.txt\", skiprows = 1, sep = \" \", names = [\"y0\",\"y1\",\"est\", \"lower\", \"upper\", \"ci\", \"model\", \"m2\", \"m3\"])\n",
    "\n",
    "obs_in = df_in.iloc[:3]\n",
    "models_in = df_in.iloc[3:]"
   ]
  },
  {
   "cell_type": "markdown",
   "id": "d97dd6e1-7471-4fd0-8929-7f4e6414fde1",
   "metadata": {},
   "source": [
    "## **Methods**"
   ]
  },
  {
   "cell_type": "code",
   "execution_count": 3,
   "id": "9e5728c2-fcf2-49b6-8c4a-2c55d638af86",
   "metadata": {},
   "outputs": [],
   "source": [
    "def model_mean(models, sig_mod = 0):\n",
    "\n",
    "    # calculate weight for each model (based on width of confidence interval)\n",
    "    w = 1/((models.upper - models.lower)**2 + (2*sig_mod)**2)\n",
    "    w1 = sum(w)\n",
    "    \n",
    "    s1 = sum(models.est * w) / w1\n",
    "    \n",
    "    # inner bounds (coloured box, internal variability only)\n",
    "    lower = np.sqrt(sum((w*(models.est - models.lower))**2)) / w1\n",
    "    upper = np.sqrt(sum((w*(models.est - models.upper))**2)) / w1\n",
    "    \n",
    "    # outer bounds(white box, includes representation error via sig_mod)\n",
    "    l_wb = np.sqrt(lower**2 + sig_mod**2)\n",
    "    u_wb = np.sqrt(upper**2 + sig_mod**2)\n",
    "    \n",
    "    return pd.Series({\"est\" : s1,\n",
    "                      \"lower\" : s1 - lower,\n",
    "                      \"upper\" : s1 + upper,\n",
    "                      \"l_wb\" : s1 - l_wb,\n",
    "                      \"u_wb\" : s1 + u_wb})\n",
    "    "
   ]
  },
  {
   "cell_type": "code",
   "execution_count": 4,
   "id": "e866c696-23b8-4234-a6b9-1c0037b2999f",
   "metadata": {},
   "outputs": [],
   "source": [
    "def model_chi2(models_in, sig_mod = 0):\n",
    "\n",
    "    # get best estimate using current value of sig_mod\n",
    "    s1 = model_mean(models_in, sig_mod)[\"est\"]\n",
    "    \n",
    "    # identify whether to use upper or lower bound to compute chi^2\n",
    "    bounds = pd.Series([r.lower if r.est > s1 else r.upper for k,r in models_in.iterrows()], index=models_in.index)\n",
    "    \n",
    "    # compute chi^2\n",
    "    chi2 = sum((models_in.est - s1)**2 / ((models_in.est - bounds)**2 + sig_mod**2))\n",
    "    chi2 = chi2 * 4 # transform to give 95%~2sigma CIs\n",
    "    \n",
    "    return chi2"
   ]
  },
  {
   "cell_type": "code",
   "execution_count": 5,
   "id": "fffc888f-9b20-4b71-bcc7-45a16d8d2553",
   "metadata": {},
   "outputs": [],
   "source": [
    "def synthesis(obs_in, models_in, cx_format = False, take_logs = False):\n",
    "\n",
    "    if take_logs:\n",
    "        obs_in, models_in = [pd.merge(df[[c for c in df.columns if not c in [\"est\", \"lower\", \"upper\"]]],\n",
    "                                      np.log(df[[\"est\", \"lower\", \"upper\"]]), left_index = True, right_index = True)\n",
    "                             for df in [obs_in, models_in]]\n",
    "    \n",
    "    # and now, the actual synthesis\n",
    "    \n",
    "    ##~~~~~~~~~~~~~~~~~~~~~~~~~~~~~~~~~~~~~~~~~~~~~~~~~~~~~~~~~~~~~~~~~~~~~~~~~~~~~~~~~~~~~~\n",
    "    ## OBSERVATIONS\n",
    "    # get mean of intervals to estimate natural variability component\n",
    "    obs_synth = obs_in[[\"est\", \"lower\", \"upper\"]].mean(axis = 0)\n",
    "    \n",
    "    # compute representation error from scatter of mean\n",
    "    nobs = len(obs_in)\n",
    "\n",
    "    if nobs == 1:\n",
    "        # can't estimate representation uncertainty, so just use the lower & upper bounds from the bootstrap\n",
    "        sig_obs = 0\n",
    "        obs_out = pd.merge(obs_in, pd.DataFrame({\"l_wb\" : obs_in.lower, \"u_wb\" : obs_in.upper}).set_index(obs_in.index),\n",
    "                          left_index = True, right_index = True)\n",
    "        \n",
    "    else:\n",
    "        # add representation error to observations\n",
    "        sig_obs = 2 * np.sqrt(sum((obs_in.est - obs_synth[\"est\"])**2) / (nobs-1))\n",
    "    \n",
    "        obs_out = pd.merge(obs_in, \n",
    "                          pd.DataFrame({\"l_wb\" : obs_in.est - np.sqrt((obs_in.est - obs_in.lower)**2 + sig_obs**2),\n",
    "                                        \"u_wb\" : obs_in.est + np.sqrt((obs_in.est - obs_in.upper)**2 + sig_obs**2)}).set_index(obs_in.index),\n",
    "                          left_index = True, right_index = True)\n",
    "        \n",
    "    # add representation error to model synthesis\n",
    "    obs_synth[\"l_wb\"] = obs_synth.est - np.sqrt((obs_synth.est - obs_synth.lower)**2 + sig_obs**2)\n",
    "    obs_synth[\"u_wb\"] = obs_synth.est + np.sqrt((obs_synth.est - obs_synth.upper)**2 + sig_obs**2)\n",
    "    \n",
    "    ##~~~~~~~~~~~~~~~~~~~~~~~~~~~~~~~~~~~~~~~~~~~~~~~~~~~~~~~~~~~~~~~~~~~~~~~~~~~~~~~~~~~~~~\n",
    "    ## MODELS\n",
    "    \n",
    "    # estimate the ratio between \n",
    "    chi2 = model_chi2(models_in, sig_mod = 0)\n",
    "    mdof = len(models_in) - 1\n",
    "    \n",
    "    # numerically optimise sig_mod such that chi^2/dof = 1        \n",
    "    ## NB. no bounds are provided for the search, unlike in the original Fortran code\n",
    "    sigmod = brent(lambda x : (model_chi2(models_in, sig_mod = x) - mdof)**2)\n",
    "    \n",
    "    # store model weights for later reference\n",
    "    model_weights = 1/((models_in.upper - models_in.lower)**2 + (2*sigmod)**2)\n",
    "    model_weights = model_weights / sum(model_weights)\n",
    "    \n",
    "    # synthesise the models\n",
    "    models_synth = model_mean(models_in, sig_mod = sigmod)\n",
    "    \n",
    "    # add representation error to individual models\n",
    "    models_out = pd.merge(models_in, \n",
    "                      pd.DataFrame({\"l_wb\" : models_in.est - np.sqrt((models_in.est - models_in.lower)**2 + sigmod**2),\n",
    "                                    \"u_wb\" : models_in.est + np.sqrt((models_in.est - models_in.upper)**2 + sigmod**2)}).set_index(models_in.index),\n",
    "                      left_index = True, right_index = True)\n",
    "    \n",
    "    ##~~~~~~~~~~~~~~~~~~~~~~~~~~~~~~~~~~~~~~~~~~~~~~~~~~~~~~~~~~~~~~~~~~~~~~~~~~~~~~~~~~~~~~\n",
    "    ## COMBINE MODELS AND OBSERVATIONS\n",
    "    \n",
    "    # weighted mean of models & obs (weighted by total precision of each estimate)\n",
    "    w_obs = 1 / np.sqrt((obs_synth[\"u_wb\"] - obs_synth[\"l_wb\"]))\n",
    "    w_mod = 1 / np.sqrt((models_synth[\"u_wb\"] - models_synth[\"l_wb\"]))\n",
    "    tw = w_obs + w_mod\n",
    "\n",
    "    wmean = (w_obs * obs_synth[\"est\"] + w_mod * models_synth[\"est\"]) / (w_obs + w_mod)\n",
    "    \n",
    "    # get weighted intervals above & below best estimate\n",
    "    bounds = np.sqrt(w_obs*(obs_synth.est - obs_synth)**2 + w_mod*(models_synth.est - models_synth)**2) / (w_obs + w_mod)\n",
    "    \n",
    "    # add weighted intervals to weighted mean\n",
    "    synth_w = wmean + (bounds * np.sign(obs_synth - obs_synth.est))\n",
    "    \n",
    "    #~~~~~~~~~~~~~~~~~~~~~~~~~~~~~~~~~~~~~~~~~~~~\n",
    "    # unweighted mean of observations & models\n",
    "    umean = (obs_synth.est + models_synth.est) / 2 \n",
    "    \n",
    "    ubounds = np.sqrt((obs_synth.est - obs_synth)**2 + (models_synth.est - models_synth)**2) / 2\n",
    "    synth_uw = umean + (ubounds * np.sign(obs_synth - obs_synth.est))\n",
    "    \n",
    "    ##~~~~~~~~~~~~~~~~~~~~~~~~~~~~~~~~~~~~~~~~~~~~~~~~~~~~~~~~~~~~~~~~~~~~~~~~~~~~~~~~~~~~~~\n",
    "    ## RETURN RESULTS\n",
    "    \n",
    "    # assign groups & labels for easier plotting later\n",
    "    obs_out = obs_out.assign(group = \"obs\", weight = 1/nobs)\n",
    "    obs_synth = pd.DataFrame(pd.concat([pd.Series({\"model\" : \"Observations\", \"group\" : \"obs_synth\", \"weight\" : w_obs / tw}), obs_synth])).transpose()\n",
    "    models_out = models_out.assign(group = \"models\", weight = model_weights)\n",
    "    models_synth = pd.DataFrame(pd.concat([pd.Series({\"model\" : \"Models\", \"group\" : \"models_synth\", \"weight\" : w_mod / tw}), models_synth])).transpose()\n",
    "    synth_w = pd.DataFrame(pd.concat([pd.Series({\"model\" : \"Synthesis\", \"group\" : \"synthesis\"}), synth_w])).transpose()\n",
    "    synth_uw = pd.DataFrame(pd.concat([pd.Series({\"model\" : \"Unweighted\", \"group\" : \"synth_uw\"}), synth_uw])).transpose()\n",
    "    \n",
    "    if cx_format:\n",
    "        # to replicate standard climate explorer plots, need to modify to correct format\n",
    "        # only outer bounds showing total variance are plotted\n",
    "        obs_synth[[\"lower\", \"upper\"]] = obs_synth[[\"l_wb\", \"u_wb\"]]\n",
    "        models_synth[[\"lower\", \"upper\"]] = models_synth[[\"l_wb\", \"u_wb\"]]\n",
    "\n",
    "        # unweighted synthesis provides outer bounds for main synthesis, doesn't appear as a separate row\n",
    "        synth_w[[\"l_wb\", \"u_wb\"]] = synth_uw[[\"l_wb\", \"u_wb\"]]\n",
    "        synth_res = pd.concat([obs_out, obs_synth, models_out, models_synth, synth_w])\n",
    "        \n",
    "    else:\n",
    "        # output everything together\n",
    "        synth_res = pd.concat([obs_out, obs_synth, models_out, models_synth, synth_w, synth_uw])\n",
    "\n",
    "    # if only one set of observations, remove the synthesis\n",
    "    if nobs == 1: \n",
    "        synth_res = synth_res.loc[synth_res.group != \"obs_synth\"]\n",
    "        synth_res.loc[synth_res.group == \"obs\", \"group\"] = \"obs_synth\"\n",
    "        \n",
    "    # clean up indexing\n",
    "    synth_res = synth_res.reset_index(drop = True)\n",
    "\n",
    "    ##~~~~~~~~~~~~~~~~~~~~~~~~~~~~~~~~~~~~~~~~~~~~~~~~~~~~~~~~~~~~~~~~~~~~~~~~~~~~~~~~~~~~~~\n",
    "    ## REVERSE THE LOG-TRANSFORMATION, IF NECESSARY\n",
    "    if take_logs:\n",
    "        synth_res = pd.merge(synth_res[[c for c in synth_res.columns if not c in [\"est\", \"lower\", \"upper\", \"l_wb\", \"u_wb\"]]],\n",
    "                             np.exp(synth_res[[\"est\", \"lower\", \"upper\", \"l_wb\", \"u_wb\"]].apply(pd.to_numeric, errors='coerce')), left_index = True, right_index = True)\n",
    "        sig_obs = np.exp(sig_obs)\n",
    "        sigmod = np.exp(sigmod)\n",
    "        \n",
    "    return {\"sig_rep\" : sig_obs, \"chi2dof\" : chi2 / mdof, \"sig_mrep\" : sigmod, \"df\" : synth_res, \"logged\" : True}"
   ]
  },
  {
   "cell_type": "markdown",
   "id": "0e16f7b3-981b-4725-bfd8-d60da5f594c8",
   "metadata": {},
   "source": [
    "## **Plotting**"
   ]
  },
  {
   "cell_type": "code",
   "execution_count": 11,
   "id": "6788cb31-3c52-4f2d-97a1-1069c5430bfe",
   "metadata": {},
   "outputs": [],
   "source": [
    "def plot_synthesis(synth, ax = None, logged = False, add_space = True):\n",
    "\n",
    "    # should also check in case df is passed directly\n",
    "    df = synth[\"df\"]\n",
    "    \n",
    "    # print results rounded to 3sf\n",
    "    # [print(v+\": \", round(synth[v], -int(np.floor(np.log(np.abs(synth[v]))))+2)) for v in [\"sig_rep\", \"chi2dof\", \"sig_mrep\"]]\n",
    "    \n",
    "    # specify colours to be used\n",
    "    gcols = {\"obs\" : \"blue\", \n",
    "             \"obs_synth\" : \"blue\", \n",
    "             \"models\" : \"red\", \n",
    "             \"models_synth\" : \"red\",\n",
    "             \"synthesis\" : \"magenta\",\n",
    "             \"synth_uw\" : \"slateblue\",\n",
    "             \"\" : \"white\"}\n",
    "    \n",
    "    # add dummy rows for nicer spacing\n",
    "    # if add_space:\n",
    "    #     df = df.reset_index(drop=True)\n",
    "    #     df.loc[list(df.model).index(\"Observations\")+0.5] = [\"\" if c in [\"group\", \"model\"] else np.NaN for c in df.columns]\n",
    "    #     df.loc[list(df.model).index(\"Models\")+0.5] = [\"\" if c in [\"group\", \"model\"] else np.NaN for c in df.columns]\n",
    "    #     df = df.sort_index().reset_index(drop=True)\n",
    "    #     df\n",
    "\n",
    "    # create a new figure if no axis is passed\n",
    "    if not ax: fig, ax = plt.subplots(dpi = 100)\n",
    "\n",
    "    # gridlines & ticks\n",
    "    ax.grid(axis = \"x\", color = \"k\", alpha = 0.1, ls = \"-\", zorder = -99)\n",
    "    ax.set_yticks(range(0, -len(df), -1))\n",
    "    ax.set_yticklabels(df.model)\n",
    "    \n",
    "    if logged:\n",
    "        ax.set_xscale('log')\n",
    "        ax.axvline(1, ls = \"--\", color = \"k\", zorder = -99)\n",
    "    else:\n",
    "        ax.axvline(0, ls = \"--\", color = \"k\", zorder = -99)\n",
    "        \n",
    "    for k in range(len(df)):\n",
    "        \n",
    "        r = df.iloc[k]\n",
    "        ax.add_patch(Rectangle((r.lower,-k-0.4), r.upper - r.lower, 0.8, facecolor = gcols[r.group], alpha = 0.5 + 0.5*(\"synth\" in r.group)))\n",
    "        ax.add_patch(Rectangle((r.l_wb,-k-0.4), r.u_wb - r.l_wb, 0.8, edgecolor = \"k\", facecolor = \"none\", lw = 1.5))\n",
    "        \n",
    "        ax.plot(r.est, -k, color = \"k\", marker = \"v\")  "
   ]
  },
  {
   "cell_type": "code",
   "execution_count": 12,
   "id": "daf7b449-8592-4fc4-a828-21fa6251bb81",
   "metadata": {},
   "outputs": [
    {
     "name": "stderr",
     "output_type": "stream",
     "text": [
      "/home/cb2714/miniconda3/envs/wwa/lib/python3.10/site-packages/pandas/core/internals/blocks.py:351: RuntimeWarning: invalid value encountered in log\n",
      "  result = func(self.values, **kwargs)\n",
      "/home/cb2714/miniconda3/envs/wwa/lib/python3.10/site-packages/pandas/core/internals/blocks.py:351: RuntimeWarning: invalid value encountered in log\n",
      "  result = func(self.values, **kwargs)\n"
     ]
    },
    {
     "data": {
      "image/png": "[encoded data removed]",
      "text/plain": [
       "<Figure size 1200x400 with 2 Axes>"
      ]
     },
     "metadata": {},
     "output_type": "display_data"
    }
   ],
   "source": [
    "fig, axs = plt.subplots(ncols = 2, sharey = True, sharex = True, figsize = (12,4))\n",
    "\n",
    "# can either print with the weighted & unweighted synthesis split out, and natural/representation uncertainty split\n",
    "plot_synthesis(synthesis(obs_in, models_in, cx_format = False, take_logs = True), ax = axs[0])\n",
    "\n",
    "# or use the format that comes out of the Climate Explorer\n",
    "plot_synthesis(synthesis(obs_in, models_in, cx_format = True), ax = axs[1])"
   ]
  },
  {
   "cell_type": "markdown",
   "id": "ae67db7d-3165-4130-b9ed-02131a497b92",
   "metadata": {},
   "source": [
    "### **Quickly plot Climate Explorer output**"
   ]
  },
  {
   "cell_type": "code",
   "execution_count": 13,
   "id": "efd75400-f8d5-4f66-8e73-ef80165e5e4f",
   "metadata": {},
   "outputs": [],
   "source": [
    "def plot_from_cx(fnm, ax = None, logged = False):\n",
    "    \n",
    "    df = pd.read_fwf(fnm, comment = \"#\", header = None, widths = [5,5,12,12,12,12,12,4,99], \n",
    "                     names = [\"y0\", \"y1\", \"est\", \"lower\", \"upper\", \"l_wb\", \"u_wb\", \"group\", \"model\"], index_col = \"model\")\n",
    "    \n",
    "    if not ax: fig, ax = plt.subplots(dpi = 100)\n",
    "    \n",
    "    gcols = [\"blue\", \"blue\", \"red\", \"red\", \"magenta\"]\n",
    "    galpha = [0.5,1,0.5,1,1]\n",
    "    \n",
    "    ax.grid(axis = \"x\", color = \"k\", alpha = 0.1, ls = \"-\", zorder = -99)\n",
    "            \n",
    "    for k in range(len(df)):\n",
    "        \n",
    "        r = df.iloc[k]\n",
    "        ax.add_patch(Rectangle((r.lower,-k-0.4), r.upper - r.lower, 0.8, facecolor = gcols[int(r.group)-1], alpha = galpha[int(r.group)-1]))\n",
    "        ax.add_patch(Rectangle((r.l_wb,-k-0.4), r.u_wb - r.l_wb, 0.8, edgecolor = \"k\", facecolor = \"none\", lw = 1.5))\n",
    "\n",
    "        ax.plot(r.est, -k, color = \"k\", marker = \"v\")  \n",
    "    \n",
    "    if logged:\n",
    "        ax.set_xscale('log') \n",
    "        ax.axvline(1, ls = \"--\", color = \"k\", lw = 1, zorder = -99)\n",
    "    else:\n",
    "        ax.axvline(0, ls = \"--\", color = \"k\", lw = 1, zorder = -99)\n",
    "    \n",
    "    ax.set_yticks(range(0, -len(df), -1))\n",
    "    ax.set_yticklabels([re.sub('\"', '', r).strip() for r in df.index])"
   ]
  },
  {
   "cell_type": "markdown",
   "id": "f06d3a3b-ef94-411d-8e34-0cf2487f9c22",
   "metadata": {},
   "source": [
    "## **Modification for logged data**"
   ]
  },
  {
   "cell_type": "code",
   "execution_count": 313,
   "id": "da50510d-21f1-4f61-977e-f45fbc42be6f",
   "metadata": {},
   "outputs": [],
   "source": [
    "synth_fnm = \"toy\"\n",
    "\n",
    "df_in = pd.read_table(synth_fnm+\"_in.txt\", skiprows = 1, sep = \" \", names = [\"y0\",\"y1\",\"est\", \"lower\", \"upper\", \"ci\", \"model\", \"m2\", \"m3\"])\n",
    "\n",
    "obs_in = df_in.iloc[:1]\n",
    "models_in = df_in.iloc[2:]\n",
    "\n",
    "df_out = pd.read_fwf(synth_fnm+\"_out.txt\", comment = \"#\", header = None, widths = [5,5,12,12,12,12,12,4,99], \n",
    "                     names = [\"y0\", \"y1\", \"est\", \"lower\", \"upper\", \"l_wb\", \"u_wb\", \"group\", \"model\"], index_col = \"model\")"
   ]
  },
  {
   "cell_type": "code",
   "execution_count": 314,
   "id": "d230e6d4-c79f-45a6-9a10-71358ccbcb57",
   "metadata": {},
   "outputs": [
    {
     "ename": "TypeError",
     "evalue": "must be real number, not DataFrame",
     "output_type": "error",
     "traceback": [
      "\u001b[0;31m---------------------------------------------------------------------------\u001b[0m",
      "\u001b[0;31mTypeError\u001b[0m                                 Traceback (most recent call last)",
      "Cell \u001b[0;32mIn[314], line 1\u001b[0m\n\u001b[0;32m----> 1\u001b[0m res \u001b[38;5;241m=\u001b[39m \u001b[43msynthesis\u001b[49m\u001b[43m(\u001b[49m\u001b[43mobs_in\u001b[49m\u001b[43m,\u001b[49m\u001b[43m \u001b[49m\u001b[43mmodels_in\u001b[49m\u001b[43m,\u001b[49m\u001b[43m \u001b[49m\u001b[43mcx_format\u001b[49m\u001b[43m \u001b[49m\u001b[38;5;241;43m=\u001b[39;49m\u001b[43m \u001b[49m\u001b[38;5;28;43;01mTrue\u001b[39;49;00m\u001b[43m,\u001b[49m\u001b[43m \u001b[49m\u001b[43mtake_logs\u001b[49m\u001b[43m \u001b[49m\u001b[38;5;241;43m=\u001b[39;49m\u001b[43m \u001b[49m\u001b[38;5;28;43;01mTrue\u001b[39;49;00m\u001b[43m)\u001b[49m\n",
      "Cell \u001b[0;32mIn[309], line 4\u001b[0m, in \u001b[0;36msynthesis\u001b[0;34m(obs_in, models_in, cx_format, take_logs)\u001b[0m\n\u001b[1;32m      1\u001b[0m \u001b[38;5;28;01mdef\u001b[39;00m \u001b[38;5;21msynthesis\u001b[39m(obs_in, models_in, cx_format \u001b[38;5;241m=\u001b[39m \u001b[38;5;28;01mFalse\u001b[39;00m, take_logs \u001b[38;5;241m=\u001b[39m \u001b[38;5;28;01mFalse\u001b[39;00m):\n\u001b[1;32m      3\u001b[0m     \u001b[38;5;28;01mif\u001b[39;00m take_logs:\n\u001b[0;32m----> 4\u001b[0m         obs_in, models_in \u001b[38;5;241m=\u001b[39m [pd\u001b[38;5;241m.\u001b[39mmerge(df[[c \u001b[38;5;28;01mfor\u001b[39;00m c \u001b[38;5;129;01min\u001b[39;00m df\u001b[38;5;241m.\u001b[39mcolumns \u001b[38;5;28;01mif\u001b[39;00m \u001b[38;5;129;01mnot\u001b[39;00m c \u001b[38;5;129;01min\u001b[39;00m [\u001b[38;5;124m\"\u001b[39m\u001b[38;5;124mest\u001b[39m\u001b[38;5;124m\"\u001b[39m, \u001b[38;5;124m\"\u001b[39m\u001b[38;5;124mlower\u001b[39m\u001b[38;5;124m\"\u001b[39m, \u001b[38;5;124m\"\u001b[39m\u001b[38;5;124mupper\u001b[39m\u001b[38;5;124m\"\u001b[39m]]],\n\u001b[1;32m      5\u001b[0m                                       log(df[[\u001b[38;5;124m\"\u001b[39m\u001b[38;5;124mest\u001b[39m\u001b[38;5;124m\"\u001b[39m, \u001b[38;5;124m\"\u001b[39m\u001b[38;5;124mlower\u001b[39m\u001b[38;5;124m\"\u001b[39m, \u001b[38;5;124m\"\u001b[39m\u001b[38;5;124mupper\u001b[39m\u001b[38;5;124m\"\u001b[39m]]), left_index \u001b[38;5;241m=\u001b[39m \u001b[38;5;28;01mTrue\u001b[39;00m, right_index \u001b[38;5;241m=\u001b[39m \u001b[38;5;28;01mTrue\u001b[39;00m)\n\u001b[1;32m      6\u001b[0m                              \u001b[38;5;28;01mfor\u001b[39;00m df \u001b[38;5;129;01min\u001b[39;00m [obs_in, models_in]]\n\u001b[1;32m      8\u001b[0m     \u001b[38;5;66;03m# and now, the actual synthesis\u001b[39;00m\n\u001b[1;32m      9\u001b[0m     \n\u001b[1;32m     10\u001b[0m     \u001b[38;5;66;03m##~~~~~~~~~~~~~~~~~~~~~~~~~~~~~~~~~~~~~~~~~~~~~~~~~~~~~~~~~~~~~~~~~~~~~~~~~~~~~~~~~~~~~~\u001b[39;00m\n\u001b[1;32m     11\u001b[0m     \u001b[38;5;66;03m## OBSERVATIONS\u001b[39;00m\n\u001b[1;32m     12\u001b[0m     \u001b[38;5;66;03m# get mean of intervals to estimate natural variability component\u001b[39;00m\n\u001b[1;32m     13\u001b[0m     obs_synth \u001b[38;5;241m=\u001b[39m obs_in[[\u001b[38;5;124m\"\u001b[39m\u001b[38;5;124mest\u001b[39m\u001b[38;5;124m\"\u001b[39m, \u001b[38;5;124m\"\u001b[39m\u001b[38;5;124mlower\u001b[39m\u001b[38;5;124m\"\u001b[39m, \u001b[38;5;124m\"\u001b[39m\u001b[38;5;124mupper\u001b[39m\u001b[38;5;124m\"\u001b[39m]]\u001b[38;5;241m.\u001b[39mmean(axis \u001b[38;5;241m=\u001b[39m \u001b[38;5;241m0\u001b[39m)\n",
      "Cell \u001b[0;32mIn[309], line 5\u001b[0m, in \u001b[0;36m<listcomp>\u001b[0;34m(.0)\u001b[0m\n\u001b[1;32m      1\u001b[0m \u001b[38;5;28;01mdef\u001b[39;00m \u001b[38;5;21msynthesis\u001b[39m(obs_in, models_in, cx_format \u001b[38;5;241m=\u001b[39m \u001b[38;5;28;01mFalse\u001b[39;00m, take_logs \u001b[38;5;241m=\u001b[39m \u001b[38;5;28;01mFalse\u001b[39;00m):\n\u001b[1;32m      3\u001b[0m     \u001b[38;5;28;01mif\u001b[39;00m take_logs:\n\u001b[1;32m      4\u001b[0m         obs_in, models_in \u001b[38;5;241m=\u001b[39m [pd\u001b[38;5;241m.\u001b[39mmerge(df[[c \u001b[38;5;28;01mfor\u001b[39;00m c \u001b[38;5;129;01min\u001b[39;00m df\u001b[38;5;241m.\u001b[39mcolumns \u001b[38;5;28;01mif\u001b[39;00m \u001b[38;5;129;01mnot\u001b[39;00m c \u001b[38;5;129;01min\u001b[39;00m [\u001b[38;5;124m\"\u001b[39m\u001b[38;5;124mest\u001b[39m\u001b[38;5;124m\"\u001b[39m, \u001b[38;5;124m\"\u001b[39m\u001b[38;5;124mlower\u001b[39m\u001b[38;5;124m\"\u001b[39m, \u001b[38;5;124m\"\u001b[39m\u001b[38;5;124mupper\u001b[39m\u001b[38;5;124m\"\u001b[39m]]],\n\u001b[0;32m----> 5\u001b[0m                                       \u001b[43mlog\u001b[49m\u001b[43m(\u001b[49m\u001b[43mdf\u001b[49m\u001b[43m[\u001b[49m\u001b[43m[\u001b[49m\u001b[38;5;124;43m\"\u001b[39;49m\u001b[38;5;124;43mest\u001b[39;49m\u001b[38;5;124;43m\"\u001b[39;49m\u001b[43m,\u001b[49m\u001b[43m \u001b[49m\u001b[38;5;124;43m\"\u001b[39;49m\u001b[38;5;124;43mlower\u001b[39;49m\u001b[38;5;124;43m\"\u001b[39;49m\u001b[43m,\u001b[49m\u001b[43m \u001b[49m\u001b[38;5;124;43m\"\u001b[39;49m\u001b[38;5;124;43mupper\u001b[39;49m\u001b[38;5;124;43m\"\u001b[39;49m\u001b[43m]\u001b[49m\u001b[43m]\u001b[49m\u001b[43m)\u001b[49m, left_index \u001b[38;5;241m=\u001b[39m \u001b[38;5;28;01mTrue\u001b[39;00m, right_index \u001b[38;5;241m=\u001b[39m \u001b[38;5;28;01mTrue\u001b[39;00m)\n\u001b[1;32m      6\u001b[0m                              \u001b[38;5;28;01mfor\u001b[39;00m df \u001b[38;5;129;01min\u001b[39;00m [obs_in, models_in]]\n\u001b[1;32m      8\u001b[0m     \u001b[38;5;66;03m# and now, the actual synthesis\u001b[39;00m\n\u001b[1;32m      9\u001b[0m     \n\u001b[1;32m     10\u001b[0m     \u001b[38;5;66;03m##~~~~~~~~~~~~~~~~~~~~~~~~~~~~~~~~~~~~~~~~~~~~~~~~~~~~~~~~~~~~~~~~~~~~~~~~~~~~~~~~~~~~~~\u001b[39;00m\n\u001b[1;32m     11\u001b[0m     \u001b[38;5;66;03m## OBSERVATIONS\u001b[39;00m\n\u001b[1;32m     12\u001b[0m     \u001b[38;5;66;03m# get mean of intervals to estimate natural variability component\u001b[39;00m\n\u001b[1;32m     13\u001b[0m     obs_synth \u001b[38;5;241m=\u001b[39m obs_in[[\u001b[38;5;124m\"\u001b[39m\u001b[38;5;124mest\u001b[39m\u001b[38;5;124m\"\u001b[39m, \u001b[38;5;124m\"\u001b[39m\u001b[38;5;124mlower\u001b[39m\u001b[38;5;124m\"\u001b[39m, \u001b[38;5;124m\"\u001b[39m\u001b[38;5;124mupper\u001b[39m\u001b[38;5;124m\"\u001b[39m]]\u001b[38;5;241m.\u001b[39mmean(axis \u001b[38;5;241m=\u001b[39m \u001b[38;5;241m0\u001b[39m)\n",
      "\u001b[0;31mTypeError\u001b[0m: must be real number, not DataFrame"
     ]
    }
   ],
   "source": [
    "res = synthesis(obs_in, models_in, cx_format = True, take_logs = True)"
   ]
  },
  {
   "cell_type": "code",
   "execution_count": null,
   "id": "a71f1f69-34ad-4476-9734-dde15336fe73",
   "metadata": {},
   "outputs": [],
   "source": [
    "fig, axs = plt.subplots(ncols = 2, sharey = True, sharex = True, figsize = (12,4))\n",
    "\n",
    "plot_synthesis(res, logged = True, ax = axs[0], add_space = False)\n",
    "axs[0].set_title(\"My attempt\")\n",
    "\n",
    "plot_from_cx(synth_fnm+\"_out.txt\", logged = True, ax = axs[1])\n",
    "axs[1].set_title(\"Output from Climate Explorer\")"
   ]
  },
  {
   "cell_type": "code",
   "execution_count": 218,
   "id": "8c432df3-3b67-4e3f-933c-eb56070edf90",
   "metadata": {},
   "outputs": [
    {
     "data": {
      "image/png": "[encoded data removed]",
      "text/plain": [
       "<Figure size 640x480 with 1 Axes>"
      ]
     },
     "metadata": {},
     "output_type": "display_data"
    }
   ],
   "source": [
    "gcols = {\"obs\" : \"blue\", \n",
    "             \"obs_synth\" : \"blue\", \n",
    "             \"models\" : \"red\", \n",
    "             \"models_synth\" : \"red\",\n",
    "             \"synthesis\" : \"magenta\",\n",
    "             \"synth_uw\" : \"slateblue\",\n",
    "             \"\" : \"white\"}\n",
    "\n",
    "synth_res = res[\"df\"]\n",
    "plt.scatter(synth_res.loc[:,[\"est\", \"lower\", \"upper\", \"l_wb\", \"u_wb\"]],\n",
    "            df_out.loc[:,[\"est\", \"lower\", \"upper\", \"l_wb\", \"u_wb\"]], color = \"w\", zorder = -99)\n",
    "ax = plt.gca()\n",
    "for g in [\"obs\", \"obs_synth\", \"models\", \"models_synth\", \"synthesis\"]:\n",
    "    ax.scatter(synth_res.loc[synth_res.group == g, [\"est\", \"lower\", \"upper\", \"l_wb\", \"u_wb\"]],\n",
    "                df_out.loc[df_out.group == [\"obs\", \"obs_synth\", \"models\", \"models_synth\", \"synthesis\"].index(g)+1, [\"est\", \"lower\", \"upper\", \"l_wb\", \"u_wb\"]],\n",
    "    facecolor = gcols[g], edgecolor = \"k\")\n",
    "ax.set_xscale('log') \n",
    "ax.set_yscale('log') "
   ]
  },
  {
   "cell_type": "markdown",
   "id": "5567e14f-1265-4b8e-8e4c-0c7b6c934cb5",
   "metadata": {},
   "source": [
    "## **Check possible rounding error in synthesis**"
   ]
  },
  {
   "cell_type": "code",
   "execution_count": 345,
   "id": "1d8abbfd-9e71-43d1-b949-3039a7f73f11",
   "metadata": {},
   "outputs": [
    {
     "name": "stdout",
     "output_type": "stream",
     "text": [
      "2.302585092994046\n"
     ]
    },
    {
     "ename": "TypeError",
     "evalue": "ufunc 'bitwise_xor' not supported for the input types, and the inputs could not be safely coerced to any supported types according to the casting rule ''safe''",
     "output_type": "error",
     "traceback": [
      "\u001b[0;31m---------------------------------------------------------------------------\u001b[0m",
      "\u001b[0;31mTypeError\u001b[0m                                 Traceback (most recent call last)",
      "Cell \u001b[0;32mIn[345], line 29\u001b[0m\n\u001b[1;32m     25\u001b[0m         synth_w \u001b[38;5;241m=\u001b[39m \u001b[38;5;28mround\u001b[39m(synth_w, dp)\n\u001b[1;32m     27\u001b[0m     \u001b[38;5;28;01mreturn\u001b[39;00m np\u001b[38;5;241m.\u001b[39mexp(synth_w)\n\u001b[0;32m---> 29\u001b[0m \u001b[43mqsynth\u001b[49m\u001b[43m(\u001b[49m\u001b[43mobs_synth\u001b[49m\u001b[43m,\u001b[49m\u001b[43m \u001b[49m\u001b[43mmodels_synth\u001b[49m\u001b[43m)\u001b[49m\n",
      "Cell \u001b[0;32mIn[345], line 11\u001b[0m, in \u001b[0;36mqsynth\u001b[0;34m(o, m, dp)\u001b[0m\n\u001b[1;32m      7\u001b[0m o, m \u001b[38;5;241m=\u001b[39m [np\u001b[38;5;241m.\u001b[39mlog(x) \u001b[38;5;28;01mfor\u001b[39;00m x \u001b[38;5;129;01min\u001b[39;00m [o,m]]\n\u001b[1;32m      9\u001b[0m \u001b[38;5;28mprint\u001b[39m((o[\u001b[38;5;124m\"\u001b[39m\u001b[38;5;124mu_wb\u001b[39m\u001b[38;5;124m\"\u001b[39m] \u001b[38;5;241m-\u001b[39m o[\u001b[38;5;124m\"\u001b[39m\u001b[38;5;124ml_wb\u001b[39m\u001b[38;5;124m\"\u001b[39m]))\n\u001b[0;32m---> 11\u001b[0m w_obs \u001b[38;5;241m=\u001b[39m \u001b[43m(\u001b[49m\u001b[43mo\u001b[49m\u001b[43m[\u001b[49m\u001b[38;5;124;43m\"\u001b[39;49m\u001b[38;5;124;43mu_wb\u001b[39;49m\u001b[38;5;124;43m\"\u001b[39;49m\u001b[43m]\u001b[49m\u001b[43m \u001b[49m\u001b[38;5;241;43m-\u001b[39;49m\u001b[43m \u001b[49m\u001b[43mo\u001b[49m\u001b[43m[\u001b[49m\u001b[38;5;124;43m\"\u001b[39;49m\u001b[38;5;124;43ml_wb\u001b[39;49m\u001b[38;5;124;43m\"\u001b[39;49m\u001b[43m]\u001b[49m\u001b[43m)\u001b[49m\u001b[38;5;241;43m^\u001b[39;49m\u001b[43m(\u001b[49m\u001b[38;5;241;43m-\u001b[39;49m\u001b[38;5;241;43m2\u001b[39;49m\u001b[43m)\u001b[49m\n\u001b[1;32m     12\u001b[0m w_mod \u001b[38;5;241m=\u001b[39m (m[\u001b[38;5;124m\"\u001b[39m\u001b[38;5;124mu_wb\u001b[39m\u001b[38;5;124m\"\u001b[39m] \u001b[38;5;241m-\u001b[39m m[\u001b[38;5;124m\"\u001b[39m\u001b[38;5;124ml_wb\u001b[39m\u001b[38;5;124m\"\u001b[39m])\u001b[38;5;241m^\u001b[39m(\u001b[38;5;241m-\u001b[39m\u001b[38;5;241m2\u001b[39m)\n\u001b[1;32m     14\u001b[0m tw \u001b[38;5;241m=\u001b[39m w_obs \u001b[38;5;241m+\u001b[39m w_mod\n",
      "\u001b[0;31mTypeError\u001b[0m: ufunc 'bitwise_xor' not supported for the input types, and the inputs could not be safely coerced to any supported types according to the casting rule ''safe''"
     ]
    }
   ],
   "source": [
    "# weighted mean of models & obs (weighted by total precision of each estimate)\n",
    "obs_synth = synth_res.loc[synth_res.group == \"obs_synth\", [\"est\", \"lower\", \"upper\", \"l_wb\", \"u_wb\"]].squeeze()\n",
    "models_synth = synth_res.loc[synth_res.group == \"models_synth\", [\"est\", \"lower\", \"upper\", \"l_wb\", \"u_wb\"]].squeeze()\n",
    "\n",
    "def qsynth(o, m, dp = None):\n",
    "\n",
    "    o, m = [np.log(x) for x in [o,m]]\n",
    "\n",
    "    print((o[\"u_wb\"] - o[\"l_wb\"]))\n",
    "\n",
    "    w_obs = (o[\"u_wb\"] - o[\"l_wb\"])^(-2)\n",
    "    w_mod = (m[\"u_wb\"] - m[\"l_wb\"])^(-2)\n",
    "\n",
    "    tw = w_obs + w_mod\n",
    "    \n",
    "    wmean = (w_obs * o[\"est\"] + w_mod * m[\"est\"]) / (w_obs + w_mod)\n",
    "    \n",
    "    # get weighted intervals above & below best estimate\n",
    "    bounds = np.sqrt(w_obs*(o.est - o)**2 + w_mod*(m.est - m)**2) / (w_obs + w_mod)\n",
    "    \n",
    "    # add weighted intervals to weighted mean\n",
    "    synth_w = wmean + (bounds * np.sign(o - o.est))\n",
    "\n",
    "    if dp is not None:\n",
    "        synth_w = round(synth_w, dp)\n",
    "\n",
    "    return np.exp(synth_w)\n",
    "\n",
    "qsynth(obs_synth, models_synth)"
   ]
  },
  {
   "cell_type": "code",
   "execution_count": 335,
   "id": "1558f354-1569-4276-84ec-e8637334afb6",
   "metadata": {},
   "outputs": [
    {
     "data": {
      "text/plain": [
       "est       78.297353\n",
       "lower     52.474382\n",
       "upper    116.827969\n",
       "l_wb      52.474382\n",
       "u_wb     116.827969\n",
       "Name: 4, dtype: float64"
      ]
     },
     "execution_count": 335,
     "metadata": {},
     "output_type": "execute_result"
    }
   ],
   "source": [
    "models_synth"
   ]
  },
  {
   "cell_type": "code",
   "execution_count": null,
   "id": "953c5b96-a552-4593-9365-4227f0e9cf50",
   "metadata": {},
   "outputs": [],
   "source": []
  },
  {
   "cell_type": "code",
   "execution_count": null,
   "id": "510e89d4-9c11-438d-8914-f66ea4a475a9",
   "metadata": {},
   "outputs": [],
   "source": []
  },
  {
   "cell_type": "code",
   "execution_count": 300,
   "id": "31ae4f93-9afc-424b-a370-9c4e72de2930",
   "metadata": {},
   "outputs": [
    {
     "data": {
      "text/plain": [
       "[<matplotlib.lines.Line2D at 0x7fc5ccdc6650>]"
      ]
     },
     "execution_count": 300,
     "metadata": {},
     "output_type": "execute_result"
    },
    {
     "data": {
      "image/png": "[encoded data removed]",
      "text/plain": [
       "<Figure size 640x480 with 1 Axes>"
      ]
     },
     "metadata": {},
     "output_type": "display_data"
    }
   ],
   "source": [
    "cx_synth = df_out.loc[df_out.group == 5, [\"est\", \"lower\", \"upper\", \"l_wb\", \"u_wb\"]]\n",
    "\n",
    "synth_exact = qsynth(obs_synth, models_synth)\n",
    "synth_10dp = qsynth(obs_synth, models_synth, dp = 10)\n",
    "synth_5dp = qsynth(obs_synth, models_synth, dp = 5)\n",
    "\n",
    "plt.scatter(synth_exact, cx_synth)\n",
    "plt.scatter(synth_10dp, cx_synth, color = \"tab:orange\", marker = \".\")\n",
    "plt.scatter(synth_5dp, cx_synth, color = \"tab:green\", marker = \"x\")\n",
    "\n",
    "ax = plt.gca()\n",
    "# ax.set_xscale('log') \n",
    "# ax.set_yscale('log') \n",
    "ax.plot((0,200), (0,200), color = \"k\", lw = 0.5, ls = \"--\")\n",
    "\n"
   ]
  },
  {
   "cell_type": "code",
   "execution_count": 306,
   "id": "35eb59c7-8f66-4d10-bd49-d74124a2cebc",
   "metadata": {},
   "outputs": [
    {
     "data": {
      "text/plain": [
       "{'sig_rep': 1.0,\n",
       " 'chi2dof': 0.5460080740467956,\n",
       " 'sig_mrep': 0.9999999998195588,\n",
       " 'df':        y0      y1    ci                       model   m2  m3         group  \\\n",
       " 0  1900.0  2020.0  95.0                        ERA5  NaN NaN     obs_synth   \n",
       " 1  1900.0  2020.0  95.0  MPI-ESM-LR_r1i1p1_REMO2015   () NaN        models   \n",
       " 2  1900.0  2020.0  95.0  MPI-ESM-LR_r1i1p1_REMO2016   () NaN        models   \n",
       " 3  1900.0  2020.0  95.0  MPI-ESM-LR_r1i1p1_REMO2017   () NaN        models   \n",
       " 4     NaN     NaN   NaN                      Models  NaN NaN  models_synth   \n",
       " 5     NaN     NaN   NaN                   Synthesis  NaN NaN     synthesis   \n",
       " \n",
       "      weight         est      lower       upper       l_wb        u_wb  \n",
       " 0       1.0   50.000000  10.000000  100.000000  10.000000  100.000000  \n",
       " 1  0.333333   60.000000  30.000000  120.000000  30.000000  120.000000  \n",
       " 2  0.333333   80.000000  40.000000  160.000000  40.000000  160.000000  \n",
       " 3  0.333333  100.000000  50.000000  200.000000  50.000000  200.000000  \n",
       " 4  0.629099   78.297353  52.474382  116.827969  52.474382  116.827969  \n",
       " 5       NaN   66.298547  30.607202   98.533641  27.304340   93.359451  ,\n",
       " 'logged': True}"
      ]
     },
     "execution_count": 306,
     "metadata": {},
     "output_type": "execute_result"
    }
   ],
   "source": [
    "res"
   ]
  },
  {
   "cell_type": "code",
   "execution_count": 307,
   "id": "056317f6-fe65-431d-aec4-f4c22ccd7500",
   "metadata": {},
   "outputs": [
    {
     "data": {
      "text/plain": [
       "\u001b[0;31mCall signature:\u001b[0m  \u001b[0mnp\u001b[0m\u001b[0;34m.\u001b[0m\u001b[0mlog\u001b[0m\u001b[0;34m(\u001b[0m\u001b[0;34m*\u001b[0m\u001b[0margs\u001b[0m\u001b[0;34m,\u001b[0m \u001b[0;34m**\u001b[0m\u001b[0mkwargs\u001b[0m\u001b[0;34m)\u001b[0m\u001b[0;34m\u001b[0m\u001b[0;34m\u001b[0m\u001b[0m\n",
       "\u001b[0;31mType:\u001b[0m            ufunc\n",
       "\u001b[0;31mString form:\u001b[0m     <ufunc 'log'>\n",
       "\u001b[0;31mFile:\u001b[0m            ~/miniconda3/envs/wwa/lib/python3.10/site-packages/numpy/__init__.py\n",
       "\u001b[0;31mDocstring:\u001b[0m      \n",
       "log(x, /, out=None, *, where=True, casting='same_kind', order='K', dtype=None, subok=True[, signature, extobj])\n",
       "\n",
       "Natural logarithm, element-wise.\n",
       "\n",
       "The natural logarithm `log` is the inverse of the exponential function,\n",
       "so that `log(exp(x)) = x`. The natural logarithm is logarithm in base\n",
       "`e`.\n",
       "\n",
       "Parameters\n",
       "----------\n",
       "x : array_like\n",
       "    Input value.\n",
       "out : ndarray, None, or tuple of ndarray and None, optional\n",
       "    A location into which the result is stored. If provided, it must have\n",
       "    a shape that the inputs broadcast to. If not provided or None,\n",
       "    a freshly-allocated array is returned. A tuple (possible only as a\n",
       "    keyword argument) must have length equal to the number of outputs.\n",
       "where : array_like, optional\n",
       "    This condition is broadcast over the input. At locations where the\n",
       "    condition is True, the `out` array will be set to the ufunc result.\n",
       "    Elsewhere, the `out` array will retain its original value.\n",
       "    Note that if an uninitialized `out` array is created via the default\n",
       "    ``out=None``, locations within it where the condition is False will\n",
       "    remain uninitialized.\n",
       "**kwargs\n",
       "    For other keyword-only arguments, see the\n",
       "    :ref:`ufunc docs <ufuncs.kwargs>`.\n",
       "\n",
       "Returns\n",
       "-------\n",
       "y : ndarray\n",
       "    The natural logarithm of `x`, element-wise.\n",
       "    This is a scalar if `x` is a scalar.\n",
       "\n",
       "See Also\n",
       "--------\n",
       "log10, log2, log1p, emath.log\n",
       "\n",
       "Notes\n",
       "-----\n",
       "Logarithm is a multivalued function: for each `x` there is an infinite\n",
       "number of `z` such that `exp(z) = x`. The convention is to return the\n",
       "`z` whose imaginary part lies in `[-pi, pi]`.\n",
       "\n",
       "For real-valued input data types, `log` always returns real output. For\n",
       "each value that cannot be expressed as a real number or infinity, it\n",
       "yields ``nan`` and sets the `invalid` floating point error flag.\n",
       "\n",
       "For complex-valued input, `log` is a complex analytical function that\n",
       "has a branch cut `[-inf, 0]` and is continuous from above on it. `log`\n",
       "handles the floating-point negative zero as an infinitesimal negative\n",
       "number, conforming to the C99 standard.\n",
       "\n",
       "References\n",
       "----------\n",
       ".. [1] M. Abramowitz and I.A. Stegun, \"Handbook of Mathematical Functions\",\n",
       "       10th printing, 1964, pp. 67.\n",
       "       https://personal.math.ubc.ca/~cbm/aands/page_67.htm\n",
       ".. [2] Wikipedia, \"Logarithm\". https://en.wikipedia.org/wiki/Logarithm\n",
       "\n",
       "Examples\n",
       "--------\n",
       ">>> np.log([1, np.e, np.e**2, 0])\n",
       "array([  0.,   1.,   2., -Inf])\n",
       "\u001b[0;31mClass docstring:\u001b[0m\n",
       "Functions that operate element by element on whole arrays.\n",
       "\n",
       "To see the documentation for a specific ufunc, use `info`.  For\n",
       "example, ``np.info(np.sin)``.  Because ufuncs are written in C\n",
       "(for speed) and linked into Python with NumPy's ufunc facility,\n",
       "Python's help() function finds this page whenever help() is called\n",
       "on a ufunc.\n",
       "\n",
       "A detailed explanation of ufuncs can be found in the docs for :ref:`ufuncs`.\n",
       "\n",
       "**Calling ufuncs:** ``op(*x[, out], where=True, **kwargs)``\n",
       "\n",
       "Apply `op` to the arguments `*x` elementwise, broadcasting the arguments.\n",
       "\n",
       "The broadcasting rules are:\n",
       "\n",
       "* Dimensions of length 1 may be prepended to either array.\n",
       "* Arrays may be repeated along dimensions of length 1.\n",
       "\n",
       "Parameters\n",
       "----------\n",
       "*x : array_like\n",
       "    Input arrays.\n",
       "out : ndarray, None, or tuple of ndarray and None, optional\n",
       "    Alternate array object(s) in which to put the result; if provided, it\n",
       "    must have a shape that the inputs broadcast to. A tuple of arrays\n",
       "    (possible only as a keyword argument) must have length equal to the\n",
       "    number of outputs; use None for uninitialized outputs to be\n",
       "    allocated by the ufunc.\n",
       "where : array_like, optional\n",
       "    This condition is broadcast over the input. At locations where the\n",
       "    condition is True, the `out` array will be set to the ufunc result.\n",
       "    Elsewhere, the `out` array will retain its original value.\n",
       "    Note that if an uninitialized `out` array is created via the default\n",
       "    ``out=None``, locations within it where the condition is False will\n",
       "    remain uninitialized.\n",
       "**kwargs\n",
       "    For other keyword-only arguments, see the :ref:`ufunc docs <ufuncs.kwargs>`.\n",
       "\n",
       "Returns\n",
       "-------\n",
       "r : ndarray or tuple of ndarray\n",
       "    `r` will have the shape that the arrays in `x` broadcast to; if `out` is\n",
       "    provided, it will be returned. If not, `r` will be allocated and\n",
       "    may contain uninitialized values. If the function has more than one\n",
       "    output, then the result will be a tuple of arrays."
      ]
     },
     "metadata": {},
     "output_type": "display_data"
    }
   ],
   "source": [
    "?np.log"
   ]
  },
  {
   "cell_type": "code",
   "execution_count": null,
   "id": "f425d860-0e17-422b-836f-b706f0d25463",
   "metadata": {},
   "outputs": [],
   "source": []
  }
 ],
 "metadata": {
  "kernelspec": {
   "display_name": "Python [conda env:wwa]",
   "language": "python",
   "name": "conda-env-wwa-py"
  },
  "language_info": {
   "codemirror_mode": {
    "name": "ipython",
    "version": 3
   },
   "file_extension": ".py",
   "mimetype": "text/x-python",
   "name": "python",
   "nbconvert_exporter": "python",
   "pygments_lexer": "ipython3",
   "version": "3.10.8"
  }
 },
 "nbformat": 4,
 "nbformat_minor": 5
}
