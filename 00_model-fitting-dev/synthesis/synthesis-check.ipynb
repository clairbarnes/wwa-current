{
 "cells": [
  {
   "cell_type": "code",
   "execution_count": 98,
   "metadata": {},
   "outputs": [],
   "source": [
    "suppressMessages(library(\"rwwa\"))"
   ]
  },
  {
   "cell_type": "markdown",
   "metadata": {},
   "source": [
    "# Revert synthesis functions to match climate explorer"
   ]
  },
  {
   "cell_type": "code",
   "execution_count": 99,
   "metadata": {},
   "outputs": [],
   "source": [
    "getsynmean_cx <- function(data, sig_mod = 0) {\n",
    "\n",
    "  # calculate weight for each model based on inverse variance\n",
    "  w = 1/(((data$upper - data$lower))^2 + (2*sig_mod)^2)     # w = 1/(((data$upper - data$lower)/(2*1.96))^2 + sig_mod^2)\n",
    "  w1 = sum(w)\n",
    "    \n",
    "#     print(w)\n",
    "\n",
    "  # weighted sum of squares & bounds\n",
    "  s1 <- sum(w*data$est) / w1\n",
    "  ss2 <- apply(data[,c(\"est\", \"lower\", \"upper\")], 2, function(b) sum((w*(data$est - b))^2))\n",
    "  ss2 <- sqrt(ss2) / w1\n",
    "\n",
    "  # if non-zero model representation error, extend 95% intervals accordingly\n",
    "  if (sig_mod > 0) {\n",
    "      ss2 <- sqrt(ss2^2 + (2*sig_mod)^2)     # ss2 <- sqrt(ss2^2 + (1.96*sig_mod)^2)\n",
    "  }\n",
    "\n",
    "  return(s1 + (ss2 * c(0,-1,1)))\n",
    "}"
   ]
  },
  {
   "cell_type": "code",
   "execution_count": 100,
   "metadata": {},
   "outputs": [],
   "source": [
    "getsynchi2_cx <- function(data, sig_mod = 0) {\n",
    "\n",
    "  # function to be minimized by finding sig_mod such that chi^2/mdof ~= 1\n",
    "\n",
    "  # get best estimate of weighted mean\n",
    "  s1 <- getsynmean_cx(data, sig_mod)[\"est\"]\n",
    "\n",
    "  # compute chi2 by converting model intervals to standard deviations & adding sig_mod adjustment\n",
    "  chi2 <- sum(apply(data[,c(\"est\", \"lower\", \"upper\")], 1, function(x) {\n",
    "    if(x[\"est\"] > s1) {\n",
    "      (x[\"est\"] - s1)^2 / (((x[\"est\"] - x[\"lower\"]))^2 + sig_mod^2)     # (x[\"est\"] - s1)^2 / (((x[\"est\"] - x[\"lower\"])/1.96)^2 + sig_mod^2)\n",
    "    } else {\n",
    "      (x[\"est\"] - s1)^2 / (((x[\"est\"] - x[\"upper\"]))^2 + sig_mod^2)     # (x[\"est\"] - s1)^2 / (((x[\"est\"] - x[\"upper\"])/1.96)^2 + sig_mod^2)\n",
    "    }\n",
    "  }))\n",
    "  return(chi2*4)\n",
    "}"
   ]
  },
  {
   "cell_type": "code",
   "execution_count": 101,
   "metadata": {},
   "outputs": [],
   "source": [
    "synthesis_cx <- function(obs_in = NA, models_in, synth_type = \"abs\") {\n",
    "\n",
    "  if(is.na(unlist(obs_in))[1]) {\n",
    "    no_obs <- T\n",
    "    # create a dummy dataframe to avoid having to rewrite everything twice\n",
    "    obs_in <- data.frame(\"est\" = 0, \"lower\" = 0, \"upper\" = 0)\n",
    "    rownames(obs_in) <- \"dummy\"\n",
    "  } else {\n",
    "    no_obs <- F\n",
    "  }\n",
    "\n",
    "  # relabel the data for easier reference later\n",
    "  colnames(obs_in) <- colnames(models_in) <- c(\"est\", \"lower\", \"upper\")\n",
    "\n",
    "  if(!(\"model\" %in% colnames(obs_in))) obs_in$model <- rownames(obs_in)\n",
    "  if(!(\"model\" %in% colnames(models_in))) models_in$model <- rownames(models_in)\n",
    "\n",
    "  #~~~~~~~~~~~~~~~~~~~~~~~~~~~~~~~~~~~~~~~~~~~~~~~~~~~~~~~~~~~~~~~~~~~~~~~~~~~~~~~~~~~~~~\n",
    "\n",
    "  if(!synth_type %in% c(\"abs\", \"rel\", \"PR\")) {\n",
    "    cat(paste0(\"Synthesis type '\",synth_type,\"' not implemented - must be abs, rel or PR\"), \"\\n\")\n",
    "  }\n",
    "\n",
    "  if(synth_type == \"PR\") {\n",
    "    obs_in[,c(\"est\", \"lower\", \"upper\")] <- log(obs_in[,c(\"est\", \"lower\", \"upper\")])\n",
    "    models_in[,c(\"est\", \"lower\", \"upper\")] <- log(models_in[,c(\"est\", \"lower\", \"upper\")])\n",
    "  } else if(synth_type == \"rel\") {\n",
    "    obs_in[,c(\"est\", \"lower\", \"upper\")] <- log(1+obs_in[,c(\"est\", \"lower\", \"upper\")]/100)\n",
    "    models_in[,c(\"est\", \"lower\", \"upper\")] <- log(1+models_in[,c(\"est\", \"lower\", \"upper\")]/100)\n",
    "  }\n",
    "\n",
    "  #~~~~~~~~~~~~~~~~~~~~~~~~~~~~~~~~~~~~~~~~~~~~~~~~~~~~~~~~~~~~~~~~~~~~~~~~~~~~~~~~~~~~~~\n",
    "  # get mean of intervals to estimate natural variability component\n",
    "\n",
    "  # compute representation error from scatter of mean ($\\sigma_{rep}$ in the paper)\n",
    "  nobs = nrow(obs_in)\n",
    "  obs <- apply(obs_in[,c(\"est\", \"lower\", \"upper\"),drop = F], 2, mean)\n",
    "  if(nobs == 1) {\n",
    "    sig_obs = 0\n",
    "  } else {\n",
    "    s2 = sum((obs_in$est - obs[1])^2)\n",
    "    sig_obs = 2 * sqrt(s2/(nobs-1))     # sig_obs = sqrt(s2/(nobs-1))\n",
    "  }\n",
    "\n",
    "  # add representation error to individual observations\n",
    "  obs_in$l_wb <- obs_in$est - sqrt((obs_in$est - obs_in$lower)**2 + (sig_obs)**2)     # obs_in$l_wb <- obs_in$est - sqrt((obs_in$est - obs_in$lower)**2 + (1.96*sig_obs)**2)\n",
    "  obs_in$u_wb <- obs_in$est + sqrt((obs_in$est - obs_in$upper)**2 + (sig_obs)**2)     # obs_in$u_wb <- obs_in$est + sqrt((obs_in$est - obs_in$upper)**2 + (1.96*sig_obs)**2)\n",
    "\n",
    "  # apply representation error to obs synthesis\n",
    "  # we're working with confidence intervals here, so we extend them by adding (1.96sig_obs)^2 in quadrature\n",
    "  obs[2] <- obs[1] - sqrt( (obs[1] - obs[2])**2 + (sig_obs)**2 )     # obs[2] <- obs[1] - sqrt( (obs[1] - obs[2])**2 + (1.96*sig_obs)**2 )\n",
    "  obs[3] <- obs[1] + sqrt( (obs[1] - obs[3])**2 + (sig_obs)**2 )     # obs[3] <- obs[1] + sqrt( (obs[1] - obs[3])**2 + (1.96*sig_obs)**2 )\n",
    "\n",
    "  #~~~~~~~~~~~~~~~~~~~~~~~~~~~~~~~~~~~~~~~~~~~~~~~~~~~~~~~~~~~~~~~~~~~~~~~~~~~~~~~~~~~~~~\n",
    "  # get initial estimate of model mean & calculate chi^2\n",
    "  chi2 <- getsynchi2_cx(models_in, sig_mod = 0)\n",
    "  mdof <- nrow(models_in)-1\n",
    "\n",
    "  if ( chi2/mdof > 1 ) {\n",
    "    # find sig_mod such that chi^2/dof = 1\n",
    "    sig_mod <- optim(0, function(x) {\n",
    "        (getsynchi2_cx(models_in, sig_mod = x) - (nrow(models_in)-1))^2},\n",
    "                     method = \"Brent\", lower = 0, upper = 5)$par\n",
    "      } else {\n",
    "        sig_mod <- 0\n",
    "      }\n",
    "    cat(\"sig_mod: \", sig_mod,\"\\n\")\n",
    "\n",
    "  # get weighted model mean\n",
    "  models <- getsynmean_cx(models_in, sig_mod = sig_mod)\n",
    "\n",
    "  # add representation error to individual models\n",
    "  models_in$l_wb <- models_in$est - sqrt((models_in$est - models_in$lower)**2 + (2*sig_mod)**2)     # models_in$l_wb <- models_in$est - sqrt((models_in$est - models_in$lower)**2 + (2*sig_mod)**2)\n",
    "  models_in$u_wb <- models_in$est + sqrt((models_in$est - models_in$upper)**2 + (2*sig_mod)**2)     # models_in$u_wb <- models_in$est + sqrt((models_in$est - models_in$upper)**2 + (2*sig_mod)**2)\n",
    "\n",
    "  #~~~~~~~~~~~~~~~~~~~~~~~~~~~~~~~~~~~~~~~~~~~~~~~~~~~~~~~~~~~~~~~~~~~~~~~~~~~~~~~~~~~~~~\n",
    "  # weighted mean of models & obs (coloured bar)\n",
    "  w_obs <- unname((obs[\"upper\"] - obs[\"lower\"])^{-2})\n",
    "  w_mod <- unname((models[\"upper\"] - models[\"lower\"])^{-2})\n",
    "\n",
    "  wmean <- (w_obs * obs[\"est\"] + w_mod * models[\"est\"]) / (w_obs + w_mod)\n",
    "  synth <- setNames(c(wmean,\n",
    "                      wmean - sqrt( (w_obs*(obs[\"est\"]-obs[\"lower\"]))^2 + (w_mod*(models[\"est\"]-models[\"lower\"]))^2 )/(w_obs+w_mod),\n",
    "                      wmean + sqrt( (w_obs*(obs[\"est\"]-obs[\"upper\"]))^2 + (w_mod*(models[\"est\"]-models[\"upper\"]))^2 )/(w_obs+w_mod)),\n",
    "                    c(\"est\", \"lower\", \"upper\"))\n",
    "\n",
    "\n",
    "  # unweighted mean of obs and models\n",
    "  umean <- (obs[\"est\"] +  models[\"est\"]) / 2\n",
    "  synth[\"l_wb\"] <- umean - sqrt((obs[\"est\"]-obs[\"lower\"])^2 + (models[\"est\"]-models[\"lower\"])^2)/2\n",
    "  synth[\"u_wb\"] <- umean + sqrt((obs[\"est\"]-obs[\"upper\"])^2 + (models[\"est\"]-models[\"upper\"])^2)/2\n",
    "\n",
    "  #~~~~~~~~~~~~~~~~~~~~~~~~~~~~~~~~~~~~~~~~~~~~~~~~~~~~~~~~~~~~~~~~~~~~~~~~~~~~~~~~~~~~~~\n",
    "  # add group labels for easier plotting\n",
    "  obs_in <- cbind(obs_in, \"group\" = \"obs\")\n",
    "  obs <- data.frame(t(c(\"model\" = \"Observations\", \"group\" = \"obs_synth\", obs)))\n",
    "  models_in <- cbind(models_in, \"group\" = \"models\")\n",
    "  models <- data.frame(t(c(\"model\" = \"Models\", \"group\" = \"model_synth\", models)))\n",
    "  synth <- data.frame(t(c(\"model\" = \"Synthesis\", \"group\" = \"synth\", synth)))\n",
    "\n",
    "  # combine all the data together in one dataframe\n",
    "  res <- rbind.fill(obs_in, obs, models_in, models, synth)[,c(\"group\", \"model\", \"est\", \"lower\", \"upper\", \"l_wb\", \"u_wb\")]\n",
    "  for(cnm in c(\"est\", \"lower\", \"upper\", \"l_wb\", \"u_wb\")) { res[,cnm] <- as.numeric(res[,cnm]) }\n",
    "\n",
    "  # if only dummy obs, remove\n",
    "  if(no_obs) {\n",
    "    # drop all rows that don't relate to models\n",
    "    res <- res[grepl(\"model\", res$group),]\n",
    "    sig_obs <- NA\n",
    "  }\n",
    "\n",
    "  #~~~~~~~~~~~~~~~~~~~~~~~~~~~~~~~~~~~~~~~~~~~~~~~~~~~~~~~~~~~~~~~~~~~~~~~~~~~~~~~~~~~~~~\n",
    "  # reverse any transformations applied\n",
    "  if(synth_type == \"PR\") {\n",
    "    res[,c(\"est\", \"lower\", \"upper\", \"l_wb\", \"u_wb\")] <- exp(res[,c(\"est\", \"lower\", \"upper\", \"l_wb\", \"u_wb\")])\n",
    "    sig_obs <- exp(sig_obs)\n",
    "    sig_mod <- exp(sig_mod)\n",
    "    umean <- exp(umean)\n",
    "  } else if(synth_type == \"rel\") {\n",
    "    res[,c(\"est\", \"lower\", \"upper\", \"l_wb\", \"u_wb\")] <- 100*(exp(res[,c(\"est\", \"lower\", \"upper\", \"l_wb\", \"u_wb\")])-1)\n",
    "    sig_obs <- 100*(exp(sig_obs)-1)\n",
    "    sig_mod <- 100*(exp(sig_mod)-1)\n",
    "    umean <- 100*(exp(umean)-1)\n",
    "  }\n",
    "\n",
    "  return(list(synth_type = synth_type, sig_obs = sig_obs, \"chi2/dof\" = chi2 / mdof, df = res, uw_mean = umean))\n",
    "}"
   ]
  },
  {
   "cell_type": "code",
   "execution_count": 102,
   "metadata": {},
   "outputs": [],
   "source": [
    "df = read.csv(\"dI_sahel-tx5x-future.txt\", sep = \"\\t\", row.names = \"model\")"
   ]
  },
  {
   "cell_type": "code",
   "execution_count": 103,
   "metadata": {},
   "outputs": [
    {
     "name": "stdout",
     "output_type": "stream",
     "text": [
      "sig_mod:  0.2091987 \n"
     ]
    },
    {
     "data": {
      "text/html": [
       "3.71572967348589"
      ],
      "text/latex": [
       "3.71572967348589"
      ],
      "text/markdown": [
       "3.71572967348589"
      ],
      "text/plain": [
       "[1] 3.71573"
      ]
     },
     "metadata": {},
     "output_type": "display_data"
    },
    {
     "data": {
      "text/html": [
       "<table class=\"dataframe\">\n",
       "<caption>A data.frame: 12 × 7</caption>\n",
       "<thead>\n",
       "\t<tr><th></th><th scope=col>group</th><th scope=col>model</th><th scope=col>est</th><th scope=col>lower</th><th scope=col>upper</th><th scope=col>l_wb</th><th scope=col>u_wb</th></tr>\n",
       "\t<tr><th></th><th scope=col>&lt;chr&gt;</th><th scope=col>&lt;chr&gt;</th><th scope=col>&lt;dbl&gt;</th><th scope=col>&lt;dbl&gt;</th><th scope=col>&lt;dbl&gt;</th><th scope=col>&lt;dbl&gt;</th><th scope=col>&lt;dbl&gt;</th></tr>\n",
       "</thead>\n",
       "<tbody>\n",
       "\t<tr><th scope=row>3</th><td>models     </td><td>ACCESS-CM2_r1i1p1f1      </td><td>1.0270000</td><td>0.9060000</td><td>1.14900</td><td>0.5914573</td><td>1.462822</td></tr>\n",
       "\t<tr><th scope=row>4</th><td>models     </td><td>ACCESS-ESM1-5_r1i1p1f1   </td><td>0.9930000</td><td>0.8910000</td><td>1.10200</td><td>0.5623489</td><td>1.425363</td></tr>\n",
       "\t<tr><th scope=row>5</th><td>models     </td><td>AWI-CM-1-1-MR_r1i1p1f1   </td><td>0.8260000</td><td>0.7240000</td><td>0.93400</td><td>0.3953489</td><td>1.258112</td></tr>\n",
       "\t<tr><th scope=row>6</th><td>models     </td><td>EC-Earth3_r1i1p1f1       </td><td>0.9610000</td><td>0.8780000</td><td>1.04300</td><td>0.5344494</td><td>1.387357</td></tr>\n",
       "\t<tr><th scope=row>7</th><td>models     </td><td>EC-Earth3-Veg_r1i1p1f1   </td><td>1.0430000</td><td>0.9480000</td><td>1.14500</td><td>0.6139529</td><td>1.473651</td></tr>\n",
       "\t<tr><th scope=row>8</th><td>models     </td><td>EC-Earth3-Veg-LR_r1i1p1f1</td><td>1.1320000</td><td>1.0300000</td><td>1.23000</td><td>0.7013489</td><td>1.561721</td></tr>\n",
       "\t<tr><th scope=row>9</th><td>models     </td><td>INM-CM5-0_r1i1p1f1       </td><td>0.8550000</td><td>0.7360000</td><td>0.95900</td><td>0.4200087</td><td>1.286129</td></tr>\n",
       "\t<tr><th scope=row>10</th><td>models     </td><td>MPI-ESM1-2-HR_r1i1p1f1   </td><td>0.9050000</td><td>0.7470000</td><td>1.04800</td><td>0.4577636</td><td>1.347160</td></tr>\n",
       "\t<tr><th scope=row>11</th><td>models     </td><td>MPI-ESM1-2-LR_r1i1p1f1   </td><td>0.8750000</td><td>0.7300000</td><td>1.02100</td><td>0.4321892</td><td>1.318139</td></tr>\n",
       "\t<tr><th scope=row>12</th><td>models     </td><td>NorESM2-LM_r1i1p1f1      </td><td>0.9800000</td><td>0.6350000</td><td>1.23600</td><td>0.4377073</td><td>1.470502</td></tr>\n",
       "\t<tr><th scope=row>13</th><td>models     </td><td>NorESM2-MM_r1i1p1f1      </td><td>1.2610000</td><td>1.0690000</td><td>1.43800</td><td>0.8006519</td><td>1.715297</td></tr>\n",
       "\t<tr><th scope=row>14</th><td>model_synth</td><td>Models                   </td><td>0.9827894</td><td>0.5625914</td><td>1.40281</td><td>       NA</td><td>      NA</td></tr>\n",
       "</tbody>\n",
       "</table>\n"
      ],
      "text/latex": [
       "A data.frame: 12 × 7\n",
       "\\begin{tabular}{r|lllllll}\n",
       "  & group & model & est & lower & upper & l\\_wb & u\\_wb\\\\\n",
       "  & <chr> & <chr> & <dbl> & <dbl> & <dbl> & <dbl> & <dbl>\\\\\n",
       "\\hline\n",
       "\t3 & models      & ACCESS-CM2\\_r1i1p1f1       & 1.0270000 & 0.9060000 & 1.14900 & 0.5914573 & 1.462822\\\\\n",
       "\t4 & models      & ACCESS-ESM1-5\\_r1i1p1f1    & 0.9930000 & 0.8910000 & 1.10200 & 0.5623489 & 1.425363\\\\\n",
       "\t5 & models      & AWI-CM-1-1-MR\\_r1i1p1f1    & 0.8260000 & 0.7240000 & 0.93400 & 0.3953489 & 1.258112\\\\\n",
       "\t6 & models      & EC-Earth3\\_r1i1p1f1        & 0.9610000 & 0.8780000 & 1.04300 & 0.5344494 & 1.387357\\\\\n",
       "\t7 & models      & EC-Earth3-Veg\\_r1i1p1f1    & 1.0430000 & 0.9480000 & 1.14500 & 0.6139529 & 1.473651\\\\\n",
       "\t8 & models      & EC-Earth3-Veg-LR\\_r1i1p1f1 & 1.1320000 & 1.0300000 & 1.23000 & 0.7013489 & 1.561721\\\\\n",
       "\t9 & models      & INM-CM5-0\\_r1i1p1f1        & 0.8550000 & 0.7360000 & 0.95900 & 0.4200087 & 1.286129\\\\\n",
       "\t10 & models      & MPI-ESM1-2-HR\\_r1i1p1f1    & 0.9050000 & 0.7470000 & 1.04800 & 0.4577636 & 1.347160\\\\\n",
       "\t11 & models      & MPI-ESM1-2-LR\\_r1i1p1f1    & 0.8750000 & 0.7300000 & 1.02100 & 0.4321892 & 1.318139\\\\\n",
       "\t12 & models      & NorESM2-LM\\_r1i1p1f1       & 0.9800000 & 0.6350000 & 1.23600 & 0.4377073 & 1.470502\\\\\n",
       "\t13 & models      & NorESM2-MM\\_r1i1p1f1       & 1.2610000 & 1.0690000 & 1.43800 & 0.8006519 & 1.715297\\\\\n",
       "\t14 & model\\_synth & Models                    & 0.9827894 & 0.5625914 & 1.40281 &        NA &       NA\\\\\n",
       "\\end{tabular}\n"
      ],
      "text/markdown": [
       "\n",
       "A data.frame: 12 × 7\n",
       "\n",
       "| <!--/--> | group &lt;chr&gt; | model &lt;chr&gt; | est &lt;dbl&gt; | lower &lt;dbl&gt; | upper &lt;dbl&gt; | l_wb &lt;dbl&gt; | u_wb &lt;dbl&gt; |\n",
       "|---|---|---|---|---|---|---|---|\n",
       "| 3 | models      | ACCESS-CM2_r1i1p1f1       | 1.0270000 | 0.9060000 | 1.14900 | 0.5914573 | 1.462822 |\n",
       "| 4 | models      | ACCESS-ESM1-5_r1i1p1f1    | 0.9930000 | 0.8910000 | 1.10200 | 0.5623489 | 1.425363 |\n",
       "| 5 | models      | AWI-CM-1-1-MR_r1i1p1f1    | 0.8260000 | 0.7240000 | 0.93400 | 0.3953489 | 1.258112 |\n",
       "| 6 | models      | EC-Earth3_r1i1p1f1        | 0.9610000 | 0.8780000 | 1.04300 | 0.5344494 | 1.387357 |\n",
       "| 7 | models      | EC-Earth3-Veg_r1i1p1f1    | 1.0430000 | 0.9480000 | 1.14500 | 0.6139529 | 1.473651 |\n",
       "| 8 | models      | EC-Earth3-Veg-LR_r1i1p1f1 | 1.1320000 | 1.0300000 | 1.23000 | 0.7013489 | 1.561721 |\n",
       "| 9 | models      | INM-CM5-0_r1i1p1f1        | 0.8550000 | 0.7360000 | 0.95900 | 0.4200087 | 1.286129 |\n",
       "| 10 | models      | MPI-ESM1-2-HR_r1i1p1f1    | 0.9050000 | 0.7470000 | 1.04800 | 0.4577636 | 1.347160 |\n",
       "| 11 | models      | MPI-ESM1-2-LR_r1i1p1f1    | 0.8750000 | 0.7300000 | 1.02100 | 0.4321892 | 1.318139 |\n",
       "| 12 | models      | NorESM2-LM_r1i1p1f1       | 0.9800000 | 0.6350000 | 1.23600 | 0.4377073 | 1.470502 |\n",
       "| 13 | models      | NorESM2-MM_r1i1p1f1       | 1.2610000 | 1.0690000 | 1.43800 | 0.8006519 | 1.715297 |\n",
       "| 14 | model_synth | Models                    | 0.9827894 | 0.5625914 | 1.40281 |        NA |       NA |\n",
       "\n"
      ],
      "text/plain": [
       "   group       model                     est       lower     upper   l_wb     \n",
       "3  models      ACCESS-CM2_r1i1p1f1       1.0270000 0.9060000 1.14900 0.5914573\n",
       "4  models      ACCESS-ESM1-5_r1i1p1f1    0.9930000 0.8910000 1.10200 0.5623489\n",
       "5  models      AWI-CM-1-1-MR_r1i1p1f1    0.8260000 0.7240000 0.93400 0.3953489\n",
       "6  models      EC-Earth3_r1i1p1f1        0.9610000 0.8780000 1.04300 0.5344494\n",
       "7  models      EC-Earth3-Veg_r1i1p1f1    1.0430000 0.9480000 1.14500 0.6139529\n",
       "8  models      EC-Earth3-Veg-LR_r1i1p1f1 1.1320000 1.0300000 1.23000 0.7013489\n",
       "9  models      INM-CM5-0_r1i1p1f1        0.8550000 0.7360000 0.95900 0.4200087\n",
       "10 models      MPI-ESM1-2-HR_r1i1p1f1    0.9050000 0.7470000 1.04800 0.4577636\n",
       "11 models      MPI-ESM1-2-LR_r1i1p1f1    0.8750000 0.7300000 1.02100 0.4321892\n",
       "12 models      NorESM2-LM_r1i1p1f1       0.9800000 0.6350000 1.23600 0.4377073\n",
       "13 models      NorESM2-MM_r1i1p1f1       1.2610000 1.0690000 1.43800 0.8006519\n",
       "14 model_synth Models                    0.9827894 0.5625914 1.40281        NA\n",
       "   u_wb    \n",
       "3  1.462822\n",
       "4  1.425363\n",
       "5  1.258112\n",
       "6  1.387357\n",
       "7  1.473651\n",
       "8  1.561721\n",
       "9  1.286129\n",
       "10 1.347160\n",
       "11 1.318139\n",
       "12 1.470502\n",
       "13 1.715297\n",
       "14       NA"
      ]
     },
     "metadata": {},
     "output_type": "display_data"
    }
   ],
   "source": [
    "synth <- synthesis_cx(models_in = df)\n",
    "synth$\"chi2/dof\"     # CX has chi2/dof = 3.716\n",
    "\n",
    "synth$df\n",
    "# 3.71572967348589"
   ]
  },
  {
   "cell_type": "code",
   "execution_count": 104,
   "metadata": {},
   "outputs": [
    {
     "data": {
      "text/html": [
       "15.3664"
      ],
      "text/latex": [
       "15.3664"
      ],
      "text/markdown": [
       "15.3664"
      ],
      "text/plain": [
       "[1] 15.3664"
      ]
     },
     "metadata": {},
     "output_type": "display_data"
    }
   ],
   "source": [
    "(2*1.96)^2"
   ]
  },
  {
   "cell_type": "code",
   "execution_count": 105,
   "metadata": {},
   "outputs": [
    {
     "data": {
      "text/html": [
       "0.209198715735568"
      ],
      "text/latex": [
       "0.209198715735568"
      ],
      "text/markdown": [
       "0.209198715735568"
      ],
      "text/plain": [
       "[1] 0.2091987"
      ]
     },
     "metadata": {},
     "output_type": "display_data"
    }
   ],
   "source": [
    "optim(0, function(x) {(getsynchi2_cx(df, sig_mod = x) - (nrow(df)-1))^2}, method = \"Brent\", lower = 0, upper = 5)$par"
   ]
  },
  {
   "cell_type": "code",
   "execution_count": 106,
   "metadata": {},
   "outputs": [],
   "source": [
    "cx <- read.table(\"cxsynth_dI_sahel-tx5x-future.txt\", col.names = c(\"y1\", \"y2\", \"est\", \"lower\", \"upper\", \"l_wb\", \"u_wb\", \"group\", \"model\"))"
   ]
  },
  {
   "cell_type": "code",
   "execution_count": 107,
   "metadata": {},
   "outputs": [
    {
     "data": {
      "text/html": [
       "<table class=\"dataframe\">\n",
       "<caption>A matrix: 2 × 12 of type dbl</caption>\n",
       "<tbody>\n",
       "\t<tr><td>1.030</td><td>0.993</td><td>0.826</td><td>0.961</td><td>1.040</td><td>1.130</td><td>0.855</td><td>0.905</td><td>0.875</td><td>0.98</td><td>1.260</td><td>0.9830000</td></tr>\n",
       "\t<tr><td>1.027</td><td>0.993</td><td>0.826</td><td>0.961</td><td>1.043</td><td>1.132</td><td>0.855</td><td>0.905</td><td>0.875</td><td>0.98</td><td>1.261</td><td>0.9827894</td></tr>\n",
       "</tbody>\n",
       "</table>\n"
      ],
      "text/latex": [
       "A matrix: 2 × 12 of type dbl\n",
       "\\begin{tabular}{llllllllllll}\n",
       "\t 1.030 & 0.993 & 0.826 & 0.961 & 1.040 & 1.130 & 0.855 & 0.905 & 0.875 & 0.98 & 1.260 & 0.9830000\\\\\n",
       "\t 1.027 & 0.993 & 0.826 & 0.961 & 1.043 & 1.132 & 0.855 & 0.905 & 0.875 & 0.98 & 1.261 & 0.9827894\\\\\n",
       "\\end{tabular}\n"
      ],
      "text/markdown": [
       "\n",
       "A matrix: 2 × 12 of type dbl\n",
       "\n",
       "| 1.030 | 0.993 | 0.826 | 0.961 | 1.040 | 1.130 | 0.855 | 0.905 | 0.875 | 0.98 | 1.260 | 0.9830000 |\n",
       "| 1.027 | 0.993 | 0.826 | 0.961 | 1.043 | 1.132 | 0.855 | 0.905 | 0.875 | 0.98 | 1.261 | 0.9827894 |\n",
       "\n"
      ],
      "text/plain": [
       "     [,1]  [,2]  [,3]  [,4]  [,5]  [,6]  [,7]  [,8]  [,9]  [,10] [,11]\n",
       "[1,] 1.030 0.993 0.826 0.961 1.040 1.130 0.855 0.905 0.875 0.98  1.260\n",
       "[2,] 1.027 0.993 0.826 0.961 1.043 1.132 0.855 0.905 0.875 0.98  1.261\n",
       "     [,12]    \n",
       "[1,] 0.9830000\n",
       "[2,] 0.9827894"
      ]
     },
     "metadata": {},
     "output_type": "display_data"
    }
   ],
   "source": [
    "rbind(cx$est, synth$df$est)"
   ]
  },
  {
   "cell_type": "code",
   "execution_count": 108,
   "metadata": {},
   "outputs": [
    {
     "data": {
      "text/html": [
       "<table class=\"dataframe\">\n",
       "<caption>A matrix: 2 × 12 of type dbl</caption>\n",
       "<tbody>\n",
       "\t<tr><td>0.906</td><td>0.891</td><td>0.724</td><td>0.878</td><td>0.948</td><td>1.03</td><td>0.736</td><td>0.747</td><td>0.73</td><td>0.635</td><td>1.070</td><td>0.7700000</td></tr>\n",
       "\t<tr><td>0.906</td><td>0.891</td><td>0.724</td><td>0.878</td><td>0.948</td><td>1.03</td><td>0.736</td><td>0.747</td><td>0.73</td><td>0.635</td><td>1.069</td><td>0.5625914</td></tr>\n",
       "</tbody>\n",
       "</table>\n"
      ],
      "text/latex": [
       "A matrix: 2 × 12 of type dbl\n",
       "\\begin{tabular}{llllllllllll}\n",
       "\t 0.906 & 0.891 & 0.724 & 0.878 & 0.948 & 1.03 & 0.736 & 0.747 & 0.73 & 0.635 & 1.070 & 0.7700000\\\\\n",
       "\t 0.906 & 0.891 & 0.724 & 0.878 & 0.948 & 1.03 & 0.736 & 0.747 & 0.73 & 0.635 & 1.069 & 0.5625914\\\\\n",
       "\\end{tabular}\n"
      ],
      "text/markdown": [
       "\n",
       "A matrix: 2 × 12 of type dbl\n",
       "\n",
       "| 0.906 | 0.891 | 0.724 | 0.878 | 0.948 | 1.03 | 0.736 | 0.747 | 0.73 | 0.635 | 1.070 | 0.7700000 |\n",
       "| 0.906 | 0.891 | 0.724 | 0.878 | 0.948 | 1.03 | 0.736 | 0.747 | 0.73 | 0.635 | 1.069 | 0.5625914 |\n",
       "\n"
      ],
      "text/plain": [
       "     [,1]  [,2]  [,3]  [,4]  [,5]  [,6] [,7]  [,8]  [,9] [,10] [,11] [,12]    \n",
       "[1,] 0.906 0.891 0.724 0.878 0.948 1.03 0.736 0.747 0.73 0.635 1.070 0.7700000\n",
       "[2,] 0.906 0.891 0.724 0.878 0.948 1.03 0.736 0.747 0.73 0.635 1.069 0.5625914"
      ]
     },
     "metadata": {},
     "output_type": "display_data"
    }
   ],
   "source": [
    "rbind(cx$lower, synth$df$lower)"
   ]
  },
  {
   "cell_type": "code",
   "execution_count": 109,
   "metadata": {},
   "outputs": [
    {
     "data": {
      "text/html": [
       "<table class=\"dataframe\">\n",
       "<caption>A matrix: 2 × 12 of type dbl</caption>\n",
       "<tbody>\n",
       "\t<tr><td>1.150</td><td>1.100</td><td>0.934</td><td>1.040</td><td>1.140</td><td>1.23</td><td>0.959</td><td>1.050</td><td>1.020</td><td>1.240</td><td>1.440</td><td>1.20000</td></tr>\n",
       "\t<tr><td>1.149</td><td>1.102</td><td>0.934</td><td>1.043</td><td>1.145</td><td>1.23</td><td>0.959</td><td>1.048</td><td>1.021</td><td>1.236</td><td>1.438</td><td>1.40281</td></tr>\n",
       "</tbody>\n",
       "</table>\n"
      ],
      "text/latex": [
       "A matrix: 2 × 12 of type dbl\n",
       "\\begin{tabular}{llllllllllll}\n",
       "\t 1.150 & 1.100 & 0.934 & 1.040 & 1.140 & 1.23 & 0.959 & 1.050 & 1.020 & 1.240 & 1.440 & 1.20000\\\\\n",
       "\t 1.149 & 1.102 & 0.934 & 1.043 & 1.145 & 1.23 & 0.959 & 1.048 & 1.021 & 1.236 & 1.438 & 1.40281\\\\\n",
       "\\end{tabular}\n"
      ],
      "text/markdown": [
       "\n",
       "A matrix: 2 × 12 of type dbl\n",
       "\n",
       "| 1.150 | 1.100 | 0.934 | 1.040 | 1.140 | 1.23 | 0.959 | 1.050 | 1.020 | 1.240 | 1.440 | 1.20000 |\n",
       "| 1.149 | 1.102 | 0.934 | 1.043 | 1.145 | 1.23 | 0.959 | 1.048 | 1.021 | 1.236 | 1.438 | 1.40281 |\n",
       "\n"
      ],
      "text/plain": [
       "     [,1]  [,2]  [,3]  [,4]  [,5]  [,6] [,7]  [,8]  [,9]  [,10] [,11] [,12]  \n",
       "[1,] 1.150 1.100 0.934 1.040 1.140 1.23 0.959 1.050 1.020 1.240 1.440 1.20000\n",
       "[2,] 1.149 1.102 0.934 1.043 1.145 1.23 0.959 1.048 1.021 1.236 1.438 1.40281"
      ]
     },
     "metadata": {},
     "output_type": "display_data"
    }
   ],
   "source": [
    "rbind(cx$upper, synth$df$upper)"
   ]
  },
  {
   "cell_type": "code",
   "execution_count": 110,
   "metadata": {},
   "outputs": [
    {
     "data": {
      "text/html": [
       "<table class=\"dataframe\">\n",
       "<caption>A matrix: 2 × 12 of type dbl</caption>\n",
       "<tbody>\n",
       "\t<tr><td>0.7850000</td><td>0.7600000</td><td>0.5930000</td><td>0.7360000</td><td>0.8130000</td><td>0.8990000</td><td>0.6140000</td><td>0.6430000</td><td>0.6200000</td><td>0.5770000</td><td>0.9770000</td><td>0.77</td></tr>\n",
       "\t<tr><td>0.5914573</td><td>0.5623489</td><td>0.3953489</td><td>0.5344494</td><td>0.6139529</td><td>0.7013489</td><td>0.4200087</td><td>0.4577636</td><td>0.4321892</td><td>0.4377073</td><td>0.8006519</td><td>  NA</td></tr>\n",
       "</tbody>\n",
       "</table>\n"
      ],
      "text/latex": [
       "A matrix: 2 × 12 of type dbl\n",
       "\\begin{tabular}{llllllllllll}\n",
       "\t 0.7850000 & 0.7600000 & 0.5930000 & 0.7360000 & 0.8130000 & 0.8990000 & 0.6140000 & 0.6430000 & 0.6200000 & 0.5770000 & 0.9770000 & 0.77\\\\\n",
       "\t 0.5914573 & 0.5623489 & 0.3953489 & 0.5344494 & 0.6139529 & 0.7013489 & 0.4200087 & 0.4577636 & 0.4321892 & 0.4377073 & 0.8006519 &   NA\\\\\n",
       "\\end{tabular}\n"
      ],
      "text/markdown": [
       "\n",
       "A matrix: 2 × 12 of type dbl\n",
       "\n",
       "| 0.7850000 | 0.7600000 | 0.5930000 | 0.7360000 | 0.8130000 | 0.8990000 | 0.6140000 | 0.6430000 | 0.6200000 | 0.5770000 | 0.9770000 | 0.77 |\n",
       "| 0.5914573 | 0.5623489 | 0.3953489 | 0.5344494 | 0.6139529 | 0.7013489 | 0.4200087 | 0.4577636 | 0.4321892 | 0.4377073 | 0.8006519 |   NA |\n",
       "\n"
      ],
      "text/plain": [
       "     [,1]      [,2]      [,3]      [,4]      [,5]      [,6]      [,7]     \n",
       "[1,] 0.7850000 0.7600000 0.5930000 0.7360000 0.8130000 0.8990000 0.6140000\n",
       "[2,] 0.5914573 0.5623489 0.3953489 0.5344494 0.6139529 0.7013489 0.4200087\n",
       "     [,8]      [,9]      [,10]     [,11]     [,12]\n",
       "[1,] 0.6430000 0.6200000 0.5770000 0.9770000 0.77 \n",
       "[2,] 0.4577636 0.4321892 0.4377073 0.8006519   NA "
      ]
     },
     "metadata": {},
     "output_type": "display_data"
    }
   ],
   "source": [
    "rbind(cx$l_wb, synth$df$l_wb)"
   ]
  },
  {
   "cell_type": "code",
   "execution_count": 111,
   "metadata": {},
   "outputs": [
    {
     "data": {
      "text/html": [
       "<table class=\"dataframe\">\n",
       "<caption>A matrix: 2 × 12 of type dbl</caption>\n",
       "<tbody>\n",
       "\t<tr><td>1.270000</td><td>1.230000</td><td>1.060000</td><td>1.190000</td><td>1.280000</td><td>1.360000</td><td>1.090000</td><td>1.16000</td><td>1.130000</td><td>1.310000</td><td>1.540000</td><td>1.2</td></tr>\n",
       "\t<tr><td>1.462822</td><td>1.425363</td><td>1.258112</td><td>1.387357</td><td>1.473651</td><td>1.561721</td><td>1.286129</td><td>1.34716</td><td>1.318139</td><td>1.470502</td><td>1.715297</td><td> NA</td></tr>\n",
       "</tbody>\n",
       "</table>\n"
      ],
      "text/latex": [
       "A matrix: 2 × 12 of type dbl\n",
       "\\begin{tabular}{llllllllllll}\n",
       "\t 1.270000 & 1.230000 & 1.060000 & 1.190000 & 1.280000 & 1.360000 & 1.090000 & 1.16000 & 1.130000 & 1.310000 & 1.540000 & 1.2\\\\\n",
       "\t 1.462822 & 1.425363 & 1.258112 & 1.387357 & 1.473651 & 1.561721 & 1.286129 & 1.34716 & 1.318139 & 1.470502 & 1.715297 &  NA\\\\\n",
       "\\end{tabular}\n"
      ],
      "text/markdown": [
       "\n",
       "A matrix: 2 × 12 of type dbl\n",
       "\n",
       "| 1.270000 | 1.230000 | 1.060000 | 1.190000 | 1.280000 | 1.360000 | 1.090000 | 1.16000 | 1.130000 | 1.310000 | 1.540000 | 1.2 |\n",
       "| 1.462822 | 1.425363 | 1.258112 | 1.387357 | 1.473651 | 1.561721 | 1.286129 | 1.34716 | 1.318139 | 1.470502 | 1.715297 |  NA |\n",
       "\n"
      ],
      "text/plain": [
       "     [,1]     [,2]     [,3]     [,4]     [,5]     [,6]     [,7]     [,8]   \n",
       "[1,] 1.270000 1.230000 1.060000 1.190000 1.280000 1.360000 1.090000 1.16000\n",
       "[2,] 1.462822 1.425363 1.258112 1.387357 1.473651 1.561721 1.286129 1.34716\n",
       "     [,9]     [,10]    [,11]    [,12]\n",
       "[1,] 1.130000 1.310000 1.540000 1.2  \n",
       "[2,] 1.318139 1.470502 1.715297  NA  "
      ]
     },
     "metadata": {},
     "output_type": "display_data"
    }
   ],
   "source": [
    "rbind(cx$u_wb, synth$df$u_wb)"
   ]
  },
  {
   "cell_type": "markdown",
   "metadata": {},
   "source": [
    "# Check equations"
   ]
  },
  {
   "cell_type": "markdown",
   "metadata": {},
   "source": [
    "## Equal means, equal variances\n",
    "\n",
    "The more models we add, the more we shrink toward the mean. This is not how we handle the obs - which do we want to do?"
   ]
  },
  {
   "cell_type": "code",
   "execution_count": 112,
   "metadata": {},
   "outputs": [
    {
     "data": {
      "image/png": "[encoded data removed]",
      "text/plain": [
       "Plot with title “”"
      ]
     },
     "metadata": {
      "image/png": {
       "height": 420,
       "width": 420
      }
     },
     "output_type": "display_data"
    }
   ],
   "source": [
    "# specify model parameters\n",
    "n = 3\n",
    "mu = rep(5,n)\n",
    "sigma = (10 - mu) / qnorm(0.975)\n",
    "sig_mod = 0\n",
    "\n",
    "# turn variances into bounds and run through synthesis\n",
    "sim_bounds <- data.frame(t(sapply(1:length(mu), function(j) setNames(c(mu[j], qnorm(c(0.025, 0.975), mu[j], sigma[j]+sig_mod)), c(\"est\", \"lower\", \"upper\")))),\n",
    "                         row.names = letters[1:length(mu)])\n",
    "\n",
    "zz = synthesis(obs_in = sim_bounds, models_in = sim_bounds)\n",
    "plot_synthesis(zz, add_space = F)"
   ]
  },
  {
   "cell_type": "code",
   "execution_count": 113,
   "metadata": {},
   "outputs": [
    {
     "data": {
      "text/html": [
       "<strong>upper:</strong> 1"
      ],
      "text/latex": [
       "\\textbf{upper:} 1"
      ],
      "text/markdown": [
       "**upper:** 1"
      ],
      "text/plain": [
       "upper \n",
       "    1 "
      ]
     },
     "metadata": {},
     "output_type": "display_data"
    }
   ],
   "source": [
    "# width of obs interval\n",
    "int_obs = diff(unlist(zz$df[zz$df$group == \"obs_synth\",c(\"est\", \"upper\")])) \n",
    "int_mdl = diff(unlist(zz$df[zz$df$group == \"model_synth\",c(\"est\", \"upper\")]))\n",
    "\n",
    "# ratio of model interval to obs interval is sqrt(n)\n",
    "(int_obs / int_mdl)^2"
   ]
  },
  {
   "cell_type": "markdown",
   "metadata": {},
   "source": [
    "### Obs synthesis"
   ]
  },
  {
   "cell_type": "code",
   "execution_count": 114,
   "metadata": {},
   "outputs": [
    {
     "data": {
      "text/html": [
       "10"
      ],
      "text/latex": [
       "10"
      ],
      "text/markdown": [
       "10"
      ],
      "text/plain": [
       "[1] 10"
      ]
     },
     "metadata": {},
     "output_type": "display_data"
    }
   ],
   "source": [
    "mu_obs = 1/n * sum(mu)\n",
    "\n",
    "# check width of obs interval\n",
    "sig_obs = 1/n * sum(sigma)\n",
    "mu_obs + qnorm(0.975) * sig_obs"
   ]
  },
  {
   "cell_type": "markdown",
   "metadata": {},
   "source": [
    "### Model synthesis"
   ]
  },
  {
   "cell_type": "markdown",
   "metadata": {},
   "source": [
    "The individual model weights are\n",
    "$\\begin{align}\n",
    "&w_j = \\frac{k}{\\sigma_j^2}\n",
    "\\end{align}$ where $k = \\left(2 \\times 1.96\\right)^{-2}$.\n"
   ]
  },
  {
   "cell_type": "code",
   "execution_count": 115,
   "metadata": {},
   "outputs": [
    {
     "data": {
      "text/html": [
       "<style>\n",
       ".list-inline {list-style: none; margin:0; padding: 0}\n",
       ".list-inline>li {display: inline-block}\n",
       ".list-inline>li:not(:last-child)::after {content: \"\\00b7\"; padding: 0 .5ex}\n",
       "</style>\n",
       "<ol class=list-inline><li>0.01</li><li>0.01</li><li>0.01</li></ol>\n"
      ],
      "text/latex": [
       "\\begin{enumerate*}\n",
       "\\item 0.01\n",
       "\\item 0.01\n",
       "\\item 0.01\n",
       "\\end{enumerate*}\n"
      ],
      "text/markdown": [
       "1. 0.01\n",
       "2. 0.01\n",
       "3. 0.01\n",
       "\n",
       "\n"
      ],
      "text/plain": [
       "[1] 0.01 0.01 0.01"
      ]
     },
     "metadata": {},
     "output_type": "display_data"
    }
   ],
   "source": [
    "# calculate weights from sigma - should match print when running synthesis\n",
    "w = round(1/(((2*1.96)^2) * sigma^2), 2)\n",
    "w"
   ]
  },
  {
   "cell_type": "markdown",
   "metadata": {},
   "source": [
    "The upper bound of the dark red bar is \n",
    "$\\begin{align}\\mu_{mod} + \\frac{1.96}{\\sqrt{\\sum_j \\sigma_j^{-2}}}\n",
    "\\end{align}$"
   ]
  },
  {
   "cell_type": "code",
   "execution_count": 116,
   "metadata": {},
   "outputs": [
    {
     "data": {
      "text/html": [
       "1.47285938349809"
      ],
      "text/latex": [
       "1.47285938349809"
      ],
      "text/markdown": [
       "1.47285938349809"
      ],
      "text/plain": [
       "[1] 1.472859"
      ]
     },
     "metadata": {},
     "output_type": "display_data"
    },
    {
     "data": {
      "text/html": [
       "1.47285938349809"
      ],
      "text/latex": [
       "1.47285938349809"
      ],
      "text/markdown": [
       "1.47285938349809"
      ],
      "text/plain": [
       "[1] 1.472859"
      ]
     },
     "metadata": {},
     "output_type": "display_data"
    }
   ],
   "source": [
    "# model mean\n",
    "mu_mod = sum(w*mu)/sum(w)\n",
    "\n",
    "# model SD\n",
    "sqrt(sum((w*sigma)^2)) / sum(w)\n",
    "\n",
    "# and again, but this time using sum of precisions directly\n",
    "sig_mod = 1/sqrt(sum(1/sigma^2))\n",
    "sig_mod"
   ]
  },
  {
   "cell_type": "code",
   "execution_count": 117,
   "metadata": {},
   "outputs": [
    {
     "data": {
      "text/html": [
       "7.88675134594813"
      ],
      "text/latex": [
       "7.88675134594813"
      ],
      "text/markdown": [
       "7.88675134594813"
      ],
      "text/plain": [
       "[1] 7.886751"
      ]
     },
     "metadata": {},
     "output_type": "display_data"
    },
    {
     "data": {
      "text/html": [
       "10"
      ],
      "text/latex": [
       "10"
      ],
      "text/markdown": [
       "10"
      ],
      "text/plain": [
       "[1] 10"
      ]
     },
     "metadata": {},
     "output_type": "display_data"
    }
   ],
   "source": [
    "# check the upper limit of the interval\n",
    "mu_mod + qnorm(0.975) * sig_mod\n",
    "zz$df[zz$df$group == \"model_synth\", \"upper\"]"
   ]
  },
  {
   "cell_type": "markdown",
   "metadata": {},
   "source": [
    "### Overall synthesis"
   ]
  },
  {
   "cell_type": "code",
   "execution_count": 118,
   "metadata": {},
   "outputs": [],
   "source": [
    "# compute weights\n",
    "k = (2*1.96)^2\n",
    "w_obs = k / sig_obs^2\n",
    "w_mod = k / sig_mod^2"
   ]
  },
  {
   "cell_type": "code",
   "execution_count": 119,
   "metadata": {},
   "outputs": [],
   "source": [
    "# compute synthesised mean\n",
    "mu_synth = mean(mu_mod, mu_obs)\n",
    "\n",
    "# synthesised variance\n",
    "sig_synth = 1/sqrt(sig_obs^{-2} + sig_mod^{-2})"
   ]
  },
  {
   "cell_type": "code",
   "execution_count": 120,
   "metadata": {},
   "outputs": [
    {
     "data": {
      "text/html": [
       "7.5"
      ],
      "text/latex": [
       "7.5"
      ],
      "text/markdown": [
       "7.5"
      ],
      "text/plain": [
       "[1] 7.5"
      ]
     },
     "metadata": {},
     "output_type": "display_data"
    },
    {
     "data": {
      "text/html": [
       "10"
      ],
      "text/latex": [
       "10"
      ],
      "text/markdown": [
       "10"
      ],
      "text/plain": [
       "[1] 10"
      ]
     },
     "metadata": {},
     "output_type": "display_data"
    }
   ],
   "source": [
    "# check bounds\n",
    "mu_synth + qnorm(0.975) * sig_synth\n",
    "zz$df[zz$df$group == \"synth\",\"upper\"]"
   ]
  },
  {
   "cell_type": "markdown",
   "metadata": {},
   "source": [
    "## All obs agree, all models agree but are biased\n",
    "\n",
    "Still heavily prioritising the models even though the same number of obs are also in full agreement"
   ]
  },
  {
   "cell_type": "code",
   "execution_count": 121,
   "metadata": {},
   "outputs": [
    {
     "data": {
      "image/png": "[encoded data removed]",
      "text/plain": [
       "Plot with title “”"
      ]
     },
     "metadata": {
      "image/png": {
       "height": 420,
       "width": 420
      }
     },
     "output_type": "display_data"
    }
   ],
   "source": [
    "# specify model parameters\n",
    "n = 3\n",
    "mu_obs = rep(5, n)\n",
    "mu_mod = rep(10,n)\n",
    "\n",
    "sigma_obs = rep(5, n)\n",
    "sigma_mod = rep(5, n)\n",
    "\n",
    "# turn variances into bounds and run through synthesis\n",
    "obs_bounds <- data.frame(t(sapply(1:length(mu_obs), function(j) setNames(c(mu_obs[j], qnorm(c(0.025, 0.975), mu_obs[j], sigma_obs[j])), c(\"est\", \"lower\", \"upper\")))),\n",
    "                         row.names = letters[1:length(mu_obs)])\n",
    "                           \n",
    "mdl_bounds <- data.frame(t(sapply(1:length(mu_mod), function(j) setNames(c(mu_mod[j], qnorm(c(0.025, 0.975), mu_mod[j], sigma_mod[j])), c(\"est\", \"lower\", \"upper\")))),\n",
    "                         row.names = letters[1:length(mu_mod)])\n",
    "\n",
    "zz = synthesis(obs_in = obs_bounds, models_in = mdl_bounds)\n",
    "plot_synthesis(zz, add_space = F)"
   ]
  },
  {
   "cell_type": "markdown",
   "metadata": {},
   "source": [
    "---\n",
    "# Modified synthesis functions"
   ]
  },
  {
   "cell_type": "markdown",
   "metadata": {},
   "source": [
    "## v1 - correction to `sig_mod` ($\\sigma_{mrep}$)\n",
    "`getsynmean`\n",
    "- weights corrected (was mixing interval width & SD)\n",
    "- add interval based on sig_mod, rather than just sig_mod  \n",
    "\n",
    "`getsynchi2`\n",
    "- convert interval width to standard deviation"
   ]
  },
  {
   "cell_type": "code",
   "execution_count": 122,
   "metadata": {},
   "outputs": [],
   "source": [
    "v1_desc <- \"V1: model uncertainty updated\""
   ]
  },
  {
   "cell_type": "code",
   "execution_count": 123,
   "metadata": {},
   "outputs": [],
   "source": [
    "getsynmean_v1 <- function(data, sig_mod = 0) {\n",
    "\n",
    "  # calculate weight for each model based on inverse variance\n",
    "  w = 1/(((data$upper - data$lower)/(2*1.96))^2 + (sig_mod)^2)                                             # updated to match eq 9 in paper\n",
    "  w1 = sum(w)\n",
    "    \n",
    "#   print(w)\n",
    "\n",
    "  # weighted sum of squares & bounds\n",
    "  s1 <- sum(w*data$est) / w1\n",
    "  ss2 <- apply(data[,c(\"est\", \"lower\", \"upper\")], 2, function(b) sum((w*(data$est - b))^2))                # no change yet - working with squared interval widths \n",
    "  ss2 <- sqrt(ss2) / w1\n",
    "\n",
    "  # if non-zero model representation error, extend 95% intervals accordingly\n",
    "  if (sig_mod > 0) {\n",
    "      ss2 <- sqrt(ss2^2 + (1.96*sig_mod)^2)                                                                # add mrep to interval width\n",
    "  }\n",
    "\n",
    "  return(s1 + (ss2 * c(0,-1,1)))\n",
    "}"
   ]
  },
  {
   "cell_type": "code",
   "execution_count": 124,
   "metadata": {},
   "outputs": [],
   "source": [
    "getsynchi2_v1 <- function(data, sig_mod = 0) {\n",
    "\n",
    "  # function to be minimized by finding sig_mod such that chi^2/mdof ~= 1\n",
    "\n",
    "  # get best estimate of weighted mean\n",
    "  s1 <- getsynmean_v1(data, sig_mod)[\"est\"]\n",
    "\n",
    "  # compute chi2 by converting model intervals to standard deviations & adding sig_mod adjustment\n",
    "  chi2 <- sum(apply(data[,c(\"est\", \"lower\", \"upper\")], 1, function(x) {\n",
    "    if(x[\"est\"] > s1) {\n",
    "      (x[\"est\"] - s1)^2 / (((x[\"est\"] - x[\"lower\"])/1.96)^2 + sig_mod^2)              # convert interval width to standard deviation\n",
    "    } else {\n",
    "      (x[\"est\"] - s1)^2 / (((x[\"est\"] - x[\"upper\"])/1.96)^2 + sig_mod^2)              # convert interval width to standard deviation\n",
    "    }\n",
    "  }))\n",
    "  return(chi2)                                                                        # no longer necessary to multiply by 4\n",
    "}"
   ]
  },
  {
   "cell_type": "code",
   "execution_count": 125,
   "metadata": {},
   "outputs": [],
   "source": [
    "synthesis_v1 <- function(obs_in = NA, models_in, synth_type = \"abs\") {\n",
    "\n",
    "  if(is.na(unlist(obs_in))[1]) {\n",
    "    no_obs <- T\n",
    "    # create a dummy dataframe to avoid having to rewrite everything twice\n",
    "    obs_in <- data.frame(\"est\" = 0, \"lower\" = 0, \"upper\" = 0)\n",
    "    rownames(obs_in) <- \"dummy\"\n",
    "  } else {\n",
    "    no_obs <- F\n",
    "  }\n",
    "\n",
    "  # relabel the data for easier reference later\n",
    "  colnames(obs_in) <- colnames(models_in) <- c(\"est\", \"lower\", \"upper\")\n",
    "\n",
    "  if(!(\"model\" %in% colnames(obs_in))) obs_in$model <- rownames(obs_in)\n",
    "  if(!(\"model\" %in% colnames(models_in))) models_in$model <- rownames(models_in)\n",
    "\n",
    "  #~~~~~~~~~~~~~~~~~~~~~~~~~~~~~~~~~~~~~~~~~~~~~~~~~~~~~~~~~~~~~~~~~~~~~~~~~~~~~~~~~~~~~~\n",
    "\n",
    "  if(!synth_type %in% c(\"abs\", \"rel\", \"PR\")) {\n",
    "    cat(paste0(\"Synthesis type '\",synth_type,\"' not implemented - must be abs, rel or PR\"), \"\\n\")\n",
    "  }\n",
    "\n",
    "  if(synth_type == \"PR\") {\n",
    "    obs_in[,c(\"est\", \"lower\", \"upper\")] <- log(obs_in[,c(\"est\", \"lower\", \"upper\")])\n",
    "    models_in[,c(\"est\", \"lower\", \"upper\")] <- log(models_in[,c(\"est\", \"lower\", \"upper\")])\n",
    "  } else if(synth_type == \"rel\") {\n",
    "    obs_in[,c(\"est\", \"lower\", \"upper\")] <- log(1+obs_in[,c(\"est\", \"lower\", \"upper\")]/100)\n",
    "    models_in[,c(\"est\", \"lower\", \"upper\")] <- log(1+models_in[,c(\"est\", \"lower\", \"upper\")]/100)\n",
    "  }\n",
    "\n",
    "  #~~~~~~~~~~~~~~~~~~~~~~~~~~~~~~~~~~~~~~~~~~~~~~~~~~~~~~~~~~~~~~~~~~~~~~~~~~~~~~~~~~~~~~\n",
    "  # get mean of intervals to estimate natural variability component\n",
    "\n",
    "  # compute representation error from scatter of mean ($\\sigma_{rep}$ in the paper)\n",
    "  nobs = nrow(obs_in)\n",
    "  obs <- apply(obs_in[,c(\"est\", \"lower\", \"upper\"),drop = F], 2, mean)\n",
    "  if(nobs == 1) {\n",
    "    sig_obs = 0\n",
    "  } else {\n",
    "    s2 = sum((obs_in$est - obs[1])^2)\n",
    "    sig_obs = 2 * sqrt(s2/(nobs-1))     # sig_obs = sqrt(s2/(nobs-1))\n",
    "  }\n",
    "\n",
    "  # add representation error to individual observations\n",
    "  obs_in$l_wb <- obs_in$est - sqrt((obs_in$est - obs_in$lower)**2 + (sig_obs)**2)\n",
    "  obs_in$u_wb <- obs_in$est + sqrt((obs_in$est - obs_in$upper)**2 + (sig_obs)**2)\n",
    "\n",
    "  # apply representation error to obs synthesis\n",
    "  # we're working with confidence intervals here, so we extend them by adding (1.96sig_obs)^2 in quadrature\n",
    "  obs[2] <- obs[1] - sqrt( (obs[1] - obs[2])**2 + (sig_obs)**2 )\n",
    "  obs[3] <- obs[1] + sqrt( (obs[1] - obs[3])**2 + (sig_obs)**2 )\n",
    "\n",
    "  #~~~~~~~~~~~~~~~~~~~~~~~~~~~~~~~~~~~~~~~~~~~~~~~~~~~~~~~~~~~~~~~~~~~~~~~~~~~~~~~~~~~~~~\n",
    "  # get initial estimate of model mean & calculate chi^2\n",
    "  chi2 <- getsynchi2_v1(models_in, sig_mod = 0)\n",
    "  mdof <- nrow(models_in)-1\n",
    "\n",
    "  if ( chi2/mdof > 1 ) {\n",
    "    # find sig_mod such that chi^2/dof = 1\n",
    "    sig_mod <- optim(0, function(x) {\n",
    "        (getsynchi2_v1(models_in, sig_mod = x) - (nrow(models_in)-1))^2},\n",
    "                     method = \"Brent\", lower = 0, upper = 5)$par\n",
    "      } else {\n",
    "        sig_mod <- 0\n",
    "      }\n",
    "    cat(\"sig_mod: \", sig_mod,\"\\n\")\n",
    "\n",
    "  # get weighted model mean\n",
    "  models <- getsynmean_v1(models_in, sig_mod = sig_mod)\n",
    "\n",
    "  # add representation error to individual models\n",
    "  models_in$l_wb <- models_in$est - sqrt((models_in$est - models_in$lower)**2 + (1.96*sig_mod)**2)     # updated from 2x to 1.96x for consistency\n",
    "  models_in$u_wb <- models_in$est + sqrt((models_in$est - models_in$upper)**2 + (1.96*sig_mod)**2)     # updated from 2x to 1.96x for consistency\n",
    "\n",
    "  #~~~~~~~~~~~~~~~~~~~~~~~~~~~~~~~~~~~~~~~~~~~~~~~~~~~~~~~~~~~~~~~~~~~~~~~~~~~~~~~~~~~~~~\n",
    "  # weighted mean of models & obs (coloured bar)\n",
    "  w_obs <- unname((obs[\"upper\"] - obs[\"lower\"])^{-2})\n",
    "  w_mod <- unname((models[\"upper\"] - models[\"lower\"])^{-2})\n",
    "\n",
    "  wmean <- (w_obs * obs[\"est\"] + w_mod * models[\"est\"]) / (w_obs + w_mod)\n",
    "  synth <- setNames(c(wmean,\n",
    "                      wmean - sqrt( (w_obs*(obs[\"est\"]-obs[\"lower\"]))^2 + (w_mod*(models[\"est\"]-models[\"lower\"]))^2 )/(w_obs+w_mod),\n",
    "                      wmean + sqrt( (w_obs*(obs[\"est\"]-obs[\"upper\"]))^2 + (w_mod*(models[\"est\"]-models[\"upper\"]))^2 )/(w_obs+w_mod)),\n",
    "                    c(\"est\", \"lower\", \"upper\"))\n",
    "\n",
    "\n",
    "  # unweighted mean of obs and models\n",
    "  umean <- (obs[\"est\"] +  models[\"est\"]) / 2\n",
    "  synth[\"l_wb\"] <- umean - sqrt((obs[\"est\"]-obs[\"lower\"])^2 + (models[\"est\"]-models[\"lower\"])^2)/2\n",
    "  synth[\"u_wb\"] <- umean + sqrt((obs[\"est\"]-obs[\"upper\"])^2 + (models[\"est\"]-models[\"upper\"])^2)/2\n",
    "\n",
    "  #~~~~~~~~~~~~~~~~~~~~~~~~~~~~~~~~~~~~~~~~~~~~~~~~~~~~~~~~~~~~~~~~~~~~~~~~~~~~~~~~~~~~~~\n",
    "  # add group labels for easier plotting\n",
    "  obs_in <- cbind(obs_in, \"group\" = \"obs\")\n",
    "  obs <- data.frame(t(c(\"model\" = \"Observations\", \"group\" = \"obs_synth\", obs)))\n",
    "  models_in <- cbind(models_in, \"group\" = \"models\")\n",
    "  models <- data.frame(t(c(\"model\" = \"Models\", \"group\" = \"model_synth\", models)))\n",
    "  synth <- data.frame(t(c(\"model\" = \"Synthesis\", \"group\" = \"synth\", synth)))\n",
    "\n",
    "  # combine all the data together in one dataframe\n",
    "  res <- rbind.fill(obs_in, obs, models_in, models, synth)[,c(\"group\", \"model\", \"est\", \"lower\", \"upper\", \"l_wb\", \"u_wb\")]\n",
    "  for(cnm in c(\"est\", \"lower\", \"upper\", \"l_wb\", \"u_wb\")) { res[,cnm] <- as.numeric(res[,cnm]) }\n",
    "\n",
    "  # if only dummy obs, remove\n",
    "  if(no_obs) {\n",
    "    # drop all rows that don't relate to models\n",
    "    res <- res[grepl(\"model\", res$group),]\n",
    "    sig_obs <- NA\n",
    "  }\n",
    "\n",
    "  #~~~~~~~~~~~~~~~~~~~~~~~~~~~~~~~~~~~~~~~~~~~~~~~~~~~~~~~~~~~~~~~~~~~~~~~~~~~~~~~~~~~~~~\n",
    "  # reverse any transformations applied\n",
    "  if(synth_type == \"PR\") {\n",
    "    res[,c(\"est\", \"lower\", \"upper\", \"l_wb\", \"u_wb\")] <- exp(res[,c(\"est\", \"lower\", \"upper\", \"l_wb\", \"u_wb\")])\n",
    "    sig_obs <- exp(sig_obs)\n",
    "    sig_mod <- exp(sig_mod)\n",
    "    umean <- exp(umean)\n",
    "  } else if(synth_type == \"rel\") {\n",
    "    res[,c(\"est\", \"lower\", \"upper\", \"l_wb\", \"u_wb\")] <- 100*(exp(res[,c(\"est\", \"lower\", \"upper\", \"l_wb\", \"u_wb\")])-1)\n",
    "    sig_obs <- 100*(exp(sig_obs)-1)\n",
    "    sig_mod <- 100*(exp(sig_mod)-1)\n",
    "    umean <- 100*(exp(umean)-1)\n",
    "  }\n",
    "\n",
    "  return(list(synth_type = synth_type, sig_obs = sig_obs, \"chi2/dof\" = chi2 / mdof, df = res, uw_mean = umean))\n",
    "}"
   ]
  },
  {
   "cell_type": "markdown",
   "metadata": {},
   "source": [
    "## v2 - take weighted average of model uncertainty, rather than precision"
   ]
  },
  {
   "cell_type": "code",
   "execution_count": 126,
   "metadata": {},
   "outputs": [],
   "source": [
    "v2_desc <- \"V2: weighted mean of model variances\""
   ]
  },
  {
   "cell_type": "code",
   "execution_count": 127,
   "metadata": {},
   "outputs": [],
   "source": [
    "getsynmean_v2 <- function(data, sig_mod = 0) {\n",
    "\n",
    "  # calculate weight for each model based on inverse variance\n",
    "  w = 1/(((data$upper - data$lower)/(2*1.96))^2 + (sig_mod)^2)                                             # v1: updated to match eq 9 in paper\n",
    "  w1 = sum(w)\n",
    "\n",
    "  # weighted mean\n",
    "  s1 <- sum(w*data$est) / w1\n",
    "  \n",
    "  # get weighted interval by adding variances                                                              # v2: get interval as in equation 5, by averaging variances\n",
    "  sig_lower = 1.96 * sqrt(sum(w * (((data$est - data$lower)/1.96)^2 + sig_mod^2)) / w1)\n",
    "  sig_upper = 1.96 * sqrt(sum(w * (((data$est - data$upper)/1.96)^2 + sig_mod^2)) / w1)\n",
    " \n",
    "  return(setNames(s1 + c(0, -1.96*sig_lower, +1.96*sig_upper), c(\"est\", \"lower\", \"upper\")))\n",
    "}"
   ]
  },
  {
   "cell_type": "code",
   "execution_count": 128,
   "metadata": {},
   "outputs": [],
   "source": [
    "getsynmean_v2cx <- function(data, sig_mod = 0) {\n",
    "\n",
    "  # calculate weight for each model based on inverse variance\n",
    "  w = 1/(((data$upper - data$lower)/(2*1.96))^2 + (sig_mod)^2)                                             # v1: updated to match eq 9 in paper\n",
    "  w1 = sum(w)\n",
    "\n",
    "  # weighted sum of squares & bounds\n",
    "  s1 <- sum(w*data$est) / w1\n",
    "  ss2 <- apply(data[,c(\"est\", \"lower\", \"upper\")], 2, function(b) sum(w*(data$est - b)/1.96)^2)                # v2: get interval as in equation 5, by averaging variances\n",
    "  ss2 <- sqrt(ss2) / w1\n",
    "\n",
    "  # if non-zero model representation error, extend 95% intervals accordingly\n",
    "  if (sig_mod > 0) {\n",
    "      ss2 <- sqrt(ss2^2 + (1.96*sig_mod)^2)                                                                # add mrep to interval width\n",
    "  }\n",
    "\n",
    "  return(s1 + (ss2 * c(0,-1,1)))\n",
    "}"
   ]
  },
  {
   "cell_type": "code",
   "execution_count": 129,
   "metadata": {},
   "outputs": [],
   "source": [
    "getsynchi2_v2 <- function(data, sig_mod = 0) {\n",
    "\n",
    "  # function to be minimized by finding sig_mod such that chi^2/mdof ~= 1\n",
    "\n",
    "  # get best estimate of weighted mean\n",
    "  s1 <- getsynmean_v2(data, sig_mod)[\"est\"]\n",
    "\n",
    "  # compute chi2 by converting model intervals to standard deviations & adding sig_mod adjustment\n",
    "  chi2 <- sum(apply(data[,c(\"est\", \"lower\", \"upper\")], 1, function(x) {\n",
    "    if(x[\"est\"] > s1) {\n",
    "      (x[\"est\"] - s1)^2 / (((x[\"est\"] - x[\"lower\"])/1.96)^2 + sig_mod^2)              # v1: convert interval width to standard deviation\n",
    "    } else {\n",
    "      (x[\"est\"] - s1)^2 / (((x[\"est\"] - x[\"upper\"])/1.96)^2 + sig_mod^2)              # v1: convert interval width to standard deviation\n",
    "    }\n",
    "  }))\n",
    "  return(chi2)                                                                        # v1: no longer necessary to multiply by 4\n",
    "}"
   ]
  },
  {
   "cell_type": "code",
   "execution_count": 130,
   "metadata": {},
   "outputs": [],
   "source": [
    "synthesis_v2 <- function(obs_in = NA, models_in, synth_type = \"abs\") {\n",
    "\n",
    "  if(is.na(unlist(obs_in))[1]) {\n",
    "    no_obs <- T\n",
    "    # create a dummy dataframe to avoid having to rewrite everything twice\n",
    "    obs_in <- data.frame(\"est\" = 0, \"lower\" = 0, \"upper\" = 0)\n",
    "    rownames(obs_in) <- \"dummy\"\n",
    "  } else {\n",
    "    no_obs <- F\n",
    "  }\n",
    "\n",
    "  # relabel the data for easier reference later\n",
    "  colnames(obs_in) <- colnames(models_in) <- c(\"est\", \"lower\", \"upper\")\n",
    "\n",
    "  if(!(\"model\" %in% colnames(obs_in))) obs_in$model <- rownames(obs_in)\n",
    "  if(!(\"model\" %in% colnames(models_in))) models_in$model <- rownames(models_in)\n",
    "\n",
    "  #~~~~~~~~~~~~~~~~~~~~~~~~~~~~~~~~~~~~~~~~~~~~~~~~~~~~~~~~~~~~~~~~~~~~~~~~~~~~~~~~~~~~~~\n",
    "\n",
    "  if(!synth_type %in% c(\"abs\", \"rel\", \"PR\")) {\n",
    "    cat(paste0(\"Synthesis type '\",synth_type,\"' not implemented - must be abs, rel or PR\"), \"\\n\")\n",
    "  }\n",
    "\n",
    "  if(synth_type == \"PR\") {\n",
    "    obs_in[,c(\"est\", \"lower\", \"upper\")] <- log(obs_in[,c(\"est\", \"lower\", \"upper\")])\n",
    "    models_in[,c(\"est\", \"lower\", \"upper\")] <- log(models_in[,c(\"est\", \"lower\", \"upper\")])\n",
    "  } else if(synth_type == \"rel\") {\n",
    "    obs_in[,c(\"est\", \"lower\", \"upper\")] <- log(1+obs_in[,c(\"est\", \"lower\", \"upper\")]/100)\n",
    "    models_in[,c(\"est\", \"lower\", \"upper\")] <- log(1+models_in[,c(\"est\", \"lower\", \"upper\")]/100)\n",
    "  }\n",
    "\n",
    "  #~~~~~~~~~~~~~~~~~~~~~~~~~~~~~~~~~~~~~~~~~~~~~~~~~~~~~~~~~~~~~~~~~~~~~~~~~~~~~~~~~~~~~~\n",
    "  # get mean of intervals to estimate natural variability component\n",
    "\n",
    "  # compute representation error from scatter of mean ($\\sigma_{rep}$ in the paper)\n",
    "  nobs = nrow(obs_in)\n",
    "  obs <- apply(obs_in[,c(\"est\", \"lower\", \"upper\"),drop = F], 2, mean)\n",
    "  if(nobs == 1) {\n",
    "    sig_obs = 0\n",
    "  } else {\n",
    "    s2 = sum((obs_in$est - obs[1])^2)\n",
    "    sig_obs = 2 * sqrt(s2/(nobs-1))     # sig_obs = sqrt(s2/(nobs-1))\n",
    "  }\n",
    "\n",
    "  # add representation error to individual observations\n",
    "  obs_in$l_wb <- obs_in$est - sqrt((obs_in$est - obs_in$lower)**2 + (sig_obs)**2)\n",
    "  obs_in$u_wb <- obs_in$est + sqrt((obs_in$est - obs_in$upper)**2 + (sig_obs)**2)\n",
    "\n",
    "  # apply representation error to obs synthesis\n",
    "  # we're working with confidence intervals here, so we extend them by adding (1.96sig_obs)^2 in quadrature\n",
    "  obs[2] <- obs[1] - sqrt( (obs[1] - obs[2])**2 + (sig_obs)**2 )\n",
    "  obs[3] <- obs[1] + sqrt( (obs[1] - obs[3])**2 + (sig_obs)**2 )\n",
    "\n",
    "  #~~~~~~~~~~~~~~~~~~~~~~~~~~~~~~~~~~~~~~~~~~~~~~~~~~~~~~~~~~~~~~~~~~~~~~~~~~~~~~~~~~~~~~\n",
    "  # get initial estimate of model mean & calculate chi^2\n",
    "  chi2 <- getsynchi2_v2(models_in, sig_mod = 0)\n",
    "  mdof <- nrow(models_in)-1\n",
    "\n",
    "  if ( chi2/mdof > 1 ) {\n",
    "    # find sig_mod such that chi^2/dof = 1\n",
    "    sig_mod <- optim(0, function(x) {\n",
    "        (getsynchi2_v2(models_in, sig_mod = x) - (nrow(models_in)-1))^2},\n",
    "                     method = \"Brent\", lower = 0, upper = 5)$par\n",
    "      } else {\n",
    "        sig_mod <- 0\n",
    "      }\n",
    "    cat(\"sig_mod: \", sig_mod,\"\\n\")\n",
    "\n",
    "  # get weighted model mean\n",
    "  models <- getsynmean_v2(models_in, sig_mod = sig_mod)\n",
    "\n",
    "  # add representation error to individual models\n",
    "  models_in$l_wb <- models_in$est - sqrt((models_in$est - models_in$lower)**2 + (1.96*sig_mod)**2)     # v1: updated from 2x to 1.96x for consistency\n",
    "  models_in$u_wb <- models_in$est + sqrt((models_in$est - models_in$upper)**2 + (1.96*sig_mod)**2)     # v1: updated from 2x to 1.96x for consistency\n",
    "\n",
    "  #~~~~~~~~~~~~~~~~~~~~~~~~~~~~~~~~~~~~~~~~~~~~~~~~~~~~~~~~~~~~~~~~~~~~~~~~~~~~~~~~~~~~~~\n",
    "  # weighted mean of models & obs (coloured bar)\n",
    "  w_obs <- unname((obs[\"upper\"] - obs[\"lower\"])^{-2})\n",
    "  w_mod <- unname((models[\"upper\"] - models[\"lower\"])^{-2})\n",
    "\n",
    "  wmean <- (w_obs * obs[\"est\"] + w_mod * models[\"est\"]) / (w_obs + w_mod)\n",
    "  synth <- setNames(c(wmean,\n",
    "                      wmean - sqrt( (w_obs*(obs[\"est\"]-obs[\"lower\"]))^2 + (w_mod*(models[\"est\"]-models[\"lower\"]))^2 )/(w_obs+w_mod),\n",
    "                      wmean + sqrt( (w_obs*(obs[\"est\"]-obs[\"upper\"]))^2 + (w_mod*(models[\"est\"]-models[\"upper\"]))^2 )/(w_obs+w_mod)),\n",
    "                    c(\"est\", \"lower\", \"upper\"))\n",
    "\n",
    "\n",
    "  # unweighted mean of obs and models\n",
    "  umean <- (obs[\"est\"] +  models[\"est\"]) / 2\n",
    "  synth[\"l_wb\"] <- umean - sqrt((obs[\"est\"]-obs[\"lower\"])^2 + (models[\"est\"]-models[\"lower\"])^2)/2\n",
    "  synth[\"u_wb\"] <- umean + sqrt((obs[\"est\"]-obs[\"upper\"])^2 + (models[\"est\"]-models[\"upper\"])^2)/2\n",
    "\n",
    "  #~~~~~~~~~~~~~~~~~~~~~~~~~~~~~~~~~~~~~~~~~~~~~~~~~~~~~~~~~~~~~~~~~~~~~~~~~~~~~~~~~~~~~~\n",
    "  # add group labels for easier plotting\n",
    "  obs_in <- cbind(obs_in, \"group\" = \"obs\")\n",
    "  obs <- data.frame(t(c(\"model\" = \"Observations\", \"group\" = \"obs_synth\", obs)))\n",
    "  models_in <- cbind(models_in, \"group\" = \"models\")\n",
    "  models <- data.frame(t(c(\"model\" = \"Models\", \"group\" = \"model_synth\", models)))\n",
    "  synth <- data.frame(t(c(\"model\" = \"Synthesis\", \"group\" = \"synth\", synth)))\n",
    "\n",
    "  # combine all the data together in one dataframe\n",
    "  res <- rbind.fill(obs_in, obs, models_in, models, synth)[,c(\"group\", \"model\", \"est\", \"lower\", \"upper\", \"l_wb\", \"u_wb\")]\n",
    "  for(cnm in c(\"est\", \"lower\", \"upper\", \"l_wb\", \"u_wb\")) { res[,cnm] <- as.numeric(res[,cnm]) }\n",
    "\n",
    "  # if only dummy obs, remove\n",
    "  if(no_obs) {\n",
    "    # drop all rows that don't relate to models\n",
    "    res <- res[grepl(\"model\", res$group),]\n",
    "    sig_obs <- NA\n",
    "  }\n",
    "\n",
    "  #~~~~~~~~~~~~~~~~~~~~~~~~~~~~~~~~~~~~~~~~~~~~~~~~~~~~~~~~~~~~~~~~~~~~~~~~~~~~~~~~~~~~~~\n",
    "  # reverse any transformations applied\n",
    "  if(synth_type == \"PR\") {\n",
    "    res[,c(\"est\", \"lower\", \"upper\", \"l_wb\", \"u_wb\")] <- exp(res[,c(\"est\", \"lower\", \"upper\", \"l_wb\", \"u_wb\")])\n",
    "    sig_obs <- exp(sig_obs)\n",
    "    sig_mod <- exp(sig_mod)\n",
    "    umean <- exp(umean)\n",
    "  } else if(synth_type == \"rel\") {\n",
    "    res[,c(\"est\", \"lower\", \"upper\", \"l_wb\", \"u_wb\")] <- 100*(exp(res[,c(\"est\", \"lower\", \"upper\", \"l_wb\", \"u_wb\")])-1)\n",
    "    sig_obs <- 100*(exp(sig_obs)-1)\n",
    "    sig_mod <- 100*(exp(sig_mod)-1)\n",
    "    umean <- 100*(exp(umean)-1)\n",
    "  }\n",
    "\n",
    "  return(list(synth_type = synth_type, sig_obs = sig_obs, \"chi2/dof\" = chi2 / mdof, df = res, uw_mean = umean))\n",
    "}"
   ]
  },
  {
   "cell_type": "markdown",
   "metadata": {},
   "source": [
    "## v3"
   ]
  },
  {
   "cell_type": "code",
   "execution_count": 131,
   "metadata": {},
   "outputs": [],
   "source": [
    "v3_desc <- \"V3: synthesised variance is weighted mean\""
   ]
  },
  {
   "cell_type": "code",
   "execution_count": 132,
   "metadata": {},
   "outputs": [],
   "source": [
    "getsynmean_v3 <- function(data, sig_mod = 0) {\n",
    "\n",
    "  # calculate weight for each model based on inverse variance\n",
    "  w = 1/(((data$upper - data$lower)/(2*1.96))^2 + (sig_mod)^2)                                             # v1: updated to match eq 9 in paper\n",
    "  w1 = sum(w)\n",
    "    \n",
    "#   print(w)\n",
    "\n",
    "  # weighted mean\n",
    "  s1 <- sum(w*data$est) / w1\n",
    "  \n",
    "  # get weighted interval by adding variances                                                              # v2: get interval as in equation 5, by averaging variances\n",
    "  sig_lower = sqrt(sum(w * (((data$est - data$lower)/1.96)^2 + sig_mod^2)) / w1)\n",
    "  sig_upper = sqrt(sum(w * (((data$est - data$upper)/1.96)^2 + sig_mod^2)) / w1)\n",
    " \n",
    "  return(setNames(s1 + c(0, -1.96*sig_lower, +1.96*sig_upper), c(\"est\", \"lower\", \"upper\")))\n",
    "}"
   ]
  },
  {
   "cell_type": "code",
   "execution_count": 133,
   "metadata": {},
   "outputs": [],
   "source": [
    "getsynchi2_v3 <- function(data, sig_mod = 0) {\n",
    "\n",
    "  # function to be minimized by finding sig_mod such that chi^2/mdof ~= 1\n",
    "\n",
    "  # get best estimate of weighted mean\n",
    "  s1 <- getsynmean_v3(data, sig_mod)[\"est\"]\n",
    "\n",
    "  # compute chi2 by converting model intervals to standard deviations & adding sig_mod adjustment\n",
    "  chi2 <- sum(apply(data[,c(\"est\", \"lower\", \"upper\")], 1, function(x) {\n",
    "    if(x[\"est\"] > s1) {\n",
    "      (x[\"est\"] - s1)^2 / (((x[\"est\"] - x[\"lower\"])/1.96)^2 + sig_mod^2)              # v1: convert interval width to standard deviation\n",
    "    } else {\n",
    "      (x[\"est\"] - s1)^2 / (((x[\"est\"] - x[\"upper\"])/1.96)^2 + sig_mod^2)              # v1: convert interval width to standard deviation\n",
    "    }\n",
    "  }))\n",
    "  return(chi2)                                                                        # v1: no longer necessary to multiply by 4\n",
    "}"
   ]
  },
  {
   "cell_type": "code",
   "execution_count": 134,
   "metadata": {},
   "outputs": [],
   "source": [
    "synthesis_v3 <- function(obs_in = NA, models_in, synth_type = \"abs\") {\n",
    "\n",
    "  if(is.na(unlist(obs_in))[1]) {\n",
    "    no_obs <- T\n",
    "    # create a dummy dataframe to avoid having to rewrite everything twice\n",
    "    obs_in <- data.frame(\"est\" = 0, \"lower\" = 0, \"upper\" = 0)\n",
    "    rownames(obs_in) <- \"dummy\"\n",
    "  } else {\n",
    "    no_obs <- F\n",
    "  }\n",
    "\n",
    "  # relabel the data for easier reference later\n",
    "  colnames(obs_in) <- colnames(models_in) <- c(\"est\", \"lower\", \"upper\")\n",
    "\n",
    "  if(!(\"model\" %in% colnames(obs_in))) obs_in$model <- rownames(obs_in)\n",
    "  if(!(\"model\" %in% colnames(models_in))) models_in$model <- rownames(models_in)\n",
    "\n",
    "  #~~~~~~~~~~~~~~~~~~~~~~~~~~~~~~~~~~~~~~~~~~~~~~~~~~~~~~~~~~~~~~~~~~~~~~~~~~~~~~~~~~~~~~\n",
    "\n",
    "  if(!synth_type %in% c(\"abs\", \"rel\", \"PR\")) {\n",
    "    cat(paste0(\"Synthesis type '\",synth_type,\"' not implemented - must be abs, rel or PR\"), \"\\n\")\n",
    "  }\n",
    "\n",
    "  if(synth_type == \"PR\") {\n",
    "    obs_in[,c(\"est\", \"lower\", \"upper\")] <- log(obs_in[,c(\"est\", \"lower\", \"upper\")])\n",
    "    models_in[,c(\"est\", \"lower\", \"upper\")] <- log(models_in[,c(\"est\", \"lower\", \"upper\")])\n",
    "  } else if(synth_type == \"rel\") {\n",
    "    obs_in[,c(\"est\", \"lower\", \"upper\")] <- log(1+obs_in[,c(\"est\", \"lower\", \"upper\")]/100)\n",
    "    models_in[,c(\"est\", \"lower\", \"upper\")] <- log(1+models_in[,c(\"est\", \"lower\", \"upper\")]/100)\n",
    "  }\n",
    "\n",
    "  #~~~~~~~~~~~~~~~~~~~~~~~~~~~~~~~~~~~~~~~~~~~~~~~~~~~~~~~~~~~~~~~~~~~~~~~~~~~~~~~~~~~~~~\n",
    "  # get mean of intervals to estimate natural variability component\n",
    "\n",
    "  # compute representation error from scatter of mean ($\\sigma_{rep}$ in the paper)\n",
    "  nobs = nrow(obs_in)\n",
    "  obs <- apply(obs_in[,c(\"est\", \"lower\", \"upper\"),drop = F], 2, mean)\n",
    "  if(nobs == 1) {\n",
    "    sig_obs = 0\n",
    "  } else {\n",
    "    s2 = sum((obs_in$est - obs[1])^2)\n",
    "    sig_obs = 2 * sqrt(s2/(nobs-1))     # sig_obs = sqrt(s2/(nobs-1))\n",
    "  }\n",
    "\n",
    "  # add representation error to individual observations\n",
    "  obs_in$l_wb <- obs_in$est - sqrt((obs_in$est - obs_in$lower)**2 + (sig_obs)**2)\n",
    "  obs_in$u_wb <- obs_in$est + sqrt((obs_in$est - obs_in$upper)**2 + (sig_obs)**2)\n",
    "\n",
    "  # apply representation error to obs synthesis\n",
    "  # we're working with confidence intervals here, so we extend them by adding (1.96sig_obs)^2 in quadrature\n",
    "  obs[2] <- obs[1] - sqrt( (obs[1] - obs[2])**2 + (sig_obs)**2 )\n",
    "  obs[3] <- obs[1] + sqrt( (obs[1] - obs[3])**2 + (sig_obs)**2 )\n",
    "\n",
    "  #~~~~~~~~~~~~~~~~~~~~~~~~~~~~~~~~~~~~~~~~~~~~~~~~~~~~~~~~~~~~~~~~~~~~~~~~~~~~~~~~~~~~~~\n",
    "  # get initial estimate of model mean & calculate chi^2\n",
    "  chi2 <- getsynchi2_v3(models_in, sig_mod = 0)\n",
    "  mdof <- nrow(models_in)-1\n",
    "\n",
    "  if ( chi2/mdof > 1 ) {\n",
    "    # find sig_mod such that chi^2/dof = 1\n",
    "    sig_mod <- optim(0, function(x) {\n",
    "        (getsynchi2_v3(models_in, sig_mod = x) - (nrow(models_in)-1))^2},\n",
    "                     method = \"Brent\", lower = 0, upper = 5)$par\n",
    "      } else {\n",
    "        sig_mod <- 0\n",
    "      }\n",
    "    cat(\"sig_mod: \", sig_mod,\"\\n\")\n",
    "\n",
    "  # get weighted model mean\n",
    "  models <- getsynmean_v3(models_in, sig_mod = sig_mod)\n",
    "\n",
    "  # add representation error to individual models\n",
    "  models_in$l_wb <- models_in$est - sqrt((models_in$est - models_in$lower)**2 + (1.96*sig_mod)**2)     # v1: updated from 2x to 1.96x for consistency\n",
    "  models_in$u_wb <- models_in$est + sqrt((models_in$est - models_in$upper)**2 + (1.96*sig_mod)**2)     # v1: updated from 2x to 1.96x for consistency\n",
    "\n",
    "  #~~~~~~~~~~~~~~~~~~~~~~~~~~~~~~~~~~~~~~~~~~~~~~~~~~~~~~~~~~~~~~~~~~~~~~~~~~~~~~~~~~~~~~\n",
    "  # weighted mean of models & obs (coloured bar)\n",
    "  w_obs <- unname((obs[\"upper\"] - obs[\"lower\"])^{-2})\n",
    "  w_mod <- unname((models[\"upper\"] - models[\"lower\"])^{-2})\n",
    "\n",
    "  wmean <- (w_obs * obs[\"est\"] + w_mod * models[\"est\"]) / (w_obs + w_mod)\n",
    "    \n",
    "  # get weighted interval by adding variances                                                              # v3: get interval as in unnumbered equation on p163, by averaging variances\n",
    "  sig_lower = sqrt((w_obs * ((obs[\"est\"] - obs[\"lower\"])/1.96)^2 + w_mod * ((models[\"est\"] - models[\"lower\"])/1.96)^2) / (w_obs + w_mod))\n",
    "  sig_upper = sqrt((w_obs * ((obs[\"est\"] - obs[\"upper\"])/1.96)^2 + w_mod * ((models[\"est\"] - models[\"upper\"])/1.96)^2) / (w_obs + w_mod))\n",
    "    \n",
    "#   synth <- setNames(c(wmean,\n",
    "#                       wmean - sqrt( (w_obs*(obs[\"est\"]-obs[\"lower\"]))^2 + (w_mod*(models[\"est\"]-models[\"lower\"]))^2 )/(w_obs+w_mod),\n",
    "#                       wmean + sqrt( (w_obs*(obs[\"est\"]-obs[\"upper\"]))^2 + (w_mod*(models[\"est\"]-models[\"upper\"]))^2 )/(w_obs+w_mod)),\n",
    "#                     c(\"est\", \"lower\", \"upper\"))\n",
    "    synth <- setNames(c(wmean, wmean - 1.96*sig_lower, wmean + 1.96*sig_upper), c(\"est\", \"lower\", \"upper\"))\n",
    "\n",
    "\n",
    "  # unweighted mean of obs and models\n",
    "  umean <- (obs[\"est\"] +  models[\"est\"]) / 2\n",
    "  synth[\"l_wb\"] <- umean - sqrt((obs[\"est\"]-obs[\"lower\"])^2 + (models[\"est\"]-models[\"lower\"])^2)/2\n",
    "  synth[\"u_wb\"] <- umean + sqrt((obs[\"est\"]-obs[\"upper\"])^2 + (models[\"est\"]-models[\"upper\"])^2)/2\n",
    "\n",
    "  #~~~~~~~~~~~~~~~~~~~~~~~~~~~~~~~~~~~~~~~~~~~~~~~~~~~~~~~~~~~~~~~~~~~~~~~~~~~~~~~~~~~~~~\n",
    "  # add group labels for easier plotting\n",
    "  obs_in <- cbind(obs_in, \"group\" = \"obs\")\n",
    "  obs <- data.frame(t(c(\"model\" = \"Observations\", \"group\" = \"obs_synth\", obs)))\n",
    "  models_in <- cbind(models_in, \"group\" = \"models\")\n",
    "  models <- data.frame(t(c(\"model\" = \"Models\", \"group\" = \"model_synth\", models)))\n",
    "  synth <- data.frame(t(c(\"model\" = \"Synthesis\", \"group\" = \"synth\", synth)))\n",
    "\n",
    "  # combine all the data together in one dataframe\n",
    "  res <- rbind.fill(obs_in, obs, models_in, models, synth)[,c(\"group\", \"model\", \"est\", \"lower\", \"upper\", \"l_wb\", \"u_wb\")]\n",
    "  for(cnm in c(\"est\", \"lower\", \"upper\", \"l_wb\", \"u_wb\")) { res[,cnm] <- as.numeric(res[,cnm]) }\n",
    "\n",
    "  # if only dummy obs, remove\n",
    "  if(no_obs) {\n",
    "    # drop all rows that don't relate to models\n",
    "    res <- res[grepl(\"model\", res$group),]\n",
    "    sig_obs <- NA\n",
    "  }\n",
    "\n",
    "  #~~~~~~~~~~~~~~~~~~~~~~~~~~~~~~~~~~~~~~~~~~~~~~~~~~~~~~~~~~~~~~~~~~~~~~~~~~~~~~~~~~~~~~\n",
    "  # reverse any transformations applied\n",
    "  if(synth_type == \"PR\") {\n",
    "    res[,c(\"est\", \"lower\", \"upper\", \"l_wb\", \"u_wb\")] <- exp(res[,c(\"est\", \"lower\", \"upper\", \"l_wb\", \"u_wb\")])\n",
    "    sig_obs <- exp(sig_obs)\n",
    "    sig_mod <- exp(sig_mod)\n",
    "    umean <- exp(umean)\n",
    "  } else if(synth_type == \"rel\") {\n",
    "    res[,c(\"est\", \"lower\", \"upper\", \"l_wb\", \"u_wb\")] <- 100*(exp(res[,c(\"est\", \"lower\", \"upper\", \"l_wb\", \"u_wb\")])-1)\n",
    "    sig_obs <- 100*(exp(sig_obs)-1)\n",
    "    sig_mod <- 100*(exp(sig_mod)-1)\n",
    "    umean <- 100*(exp(umean)-1)\n",
    "  }\n",
    "\n",
    "  return(list(synth_type = synth_type, sig_obs = sig_obs, \"chi2/dof\" = chi2 / mdof, df = res, uw_mean = umean))\n",
    "}"
   ]
  },
  {
   "cell_type": "code",
   "execution_count": 135,
   "metadata": {},
   "outputs": [],
   "source": [
    "synthesis_v3_2 <- function(obs_in = NA, models_in, synth_type = \"abs\") {\n",
    "\n",
    "  if(is.na(unlist(obs_in))[1]) {\n",
    "    no_obs <- T\n",
    "    # create a dummy dataframe to avoid having to rewrite everything twice\n",
    "    obs_in <- data.frame(\"est\" = 0, \"lower\" = 0, \"upper\" = 0)\n",
    "    rownames(obs_in) <- \"dummy\"\n",
    "  } else {\n",
    "    no_obs <- F\n",
    "  }\n",
    "\n",
    "  # relabel the data for easier reference later\n",
    "  colnames(obs_in) <- colnames(models_in) <- c(\"est\", \"lower\", \"upper\")\n",
    "\n",
    "  if(!(\"model\" %in% colnames(obs_in))) obs_in$model <- rownames(obs_in)\n",
    "  if(!(\"model\" %in% colnames(models_in))) models_in$model <- rownames(models_in)\n",
    "\n",
    "  #~~~~~~~~~~~~~~~~~~~~~~~~~~~~~~~~~~~~~~~~~~~~~~~~~~~~~~~~~~~~~~~~~~~~~~~~~~~~~~~~~~~~~~\n",
    "\n",
    "  if(!synth_type %in% c(\"abs\", \"rel\", \"PR\")) {\n",
    "    cat(paste0(\"Synthesis type '\",synth_type,\"' not implemented - must be abs, rel or PR\"), \"\\n\")\n",
    "  }\n",
    "\n",
    "  if(synth_type == \"PR\") {\n",
    "    obs_in[,c(\"est\", \"lower\", \"upper\")] <- log(obs_in[,c(\"est\", \"lower\", \"upper\")])\n",
    "    models_in[,c(\"est\", \"lower\", \"upper\")] <- log(models_in[,c(\"est\", \"lower\", \"upper\")])\n",
    "  } else if(synth_type == \"rel\") {\n",
    "    obs_in[,c(\"est\", \"lower\", \"upper\")] <- log(1+obs_in[,c(\"est\", \"lower\", \"upper\")]/100)\n",
    "    models_in[,c(\"est\", \"lower\", \"upper\")] <- log(1+models_in[,c(\"est\", \"lower\", \"upper\")]/100)\n",
    "  }\n",
    "\n",
    "  #~~~~~~~~~~~~~~~~~~~~~~~~~~~~~~~~~~~~~~~~~~~~~~~~~~~~~~~~~~~~~~~~~~~~~~~~~~~~~~~~~~~~~~\n",
    "  # get mean of intervals to estimate natural variability component\n",
    "\n",
    "  # compute representation error from scatter of mean ($\\sigma_{rep}$ in the paper)\n",
    "  nobs = nrow(obs_in)\n",
    "  obs <- apply(obs_in[,c(\"est\", \"lower\", \"upper\"),drop = F], 2, mean)\n",
    "  if(nobs == 1) {\n",
    "    sig_obs = 0\n",
    "  } else {\n",
    "    s2 = sum((obs_in$est - obs[1])^2)\n",
    "    sig_obs = 2 * sqrt(s2/(nobs-1))     # sig_obs = sqrt(s2/(nobs-1))\n",
    "  }\n",
    "\n",
    "  # add representation error to individual observations\n",
    "  obs_in$l_wb <- obs_in$est - sqrt((obs_in$est - obs_in$lower)**2 + (sig_obs)**2)\n",
    "  obs_in$u_wb <- obs_in$est + sqrt((obs_in$est - obs_in$upper)**2 + (sig_obs)**2)\n",
    "\n",
    "  # apply representation error to obs synthesis\n",
    "  # we're working with confidence intervals here, so we extend them by adding (1.96sig_obs)^2 in quadrature\n",
    "  obs[2] <- obs[1] - sqrt( (obs[1] - obs[2])**2 + (sig_obs)**2 )\n",
    "  obs[3] <- obs[1] + sqrt( (obs[1] - obs[3])**2 + (sig_obs)**2 )\n",
    "\n",
    "  #~~~~~~~~~~~~~~~~~~~~~~~~~~~~~~~~~~~~~~~~~~~~~~~~~~~~~~~~~~~~~~~~~~~~~~~~~~~~~~~~~~~~~~\n",
    "  # get initial estimate of model mean & calculate chi^2\n",
    "  chi2 <- getsynchi2_v3(models_in, sig_mod = 0)\n",
    "  mdof <- nrow(models_in)-1\n",
    "\n",
    "  if ( chi2/mdof > 1 ) {\n",
    "    # find sig_mod such that chi^2/dof = 1\n",
    "    sig_mod <- optim(0, function(x) {\n",
    "        (getsynchi2_v3(models_in, sig_mod = x) - (nrow(models_in)-1))^2},\n",
    "                     method = \"Brent\", lower = 0, upper = 5)$par\n",
    "      } else {\n",
    "        sig_mod <- 0\n",
    "      }\n",
    "    cat(\"sig_mod: \", sig_mod,\"\\n\")\n",
    "\n",
    "  # get weighted model mean\n",
    "  models <- getsynmean_v3(models_in, sig_mod = sig_mod)\n",
    "\n",
    "  # add representation error to individual models\n",
    "  models_in$l_wb <- models_in$est - sqrt((models_in$est - models_in$lower)**2 + (1.96*sig_mod)**2)     # v1: updated from 2x to 1.96x for consistency\n",
    "  models_in$u_wb <- models_in$est + sqrt((models_in$est - models_in$upper)**2 + (1.96*sig_mod)**2)     # v1: updated from 2x to 1.96x for consistency\n",
    "\n",
    "  #~~~~~~~~~~~~~~~~~~~~~~~~~~~~~~~~~~~~~~~~~~~~~~~~~~~~~~~~~~~~~~~~~~~~~~~~~~~~~~~~~~~~~~\n",
    "  # weighted mean of models & obs (coloured bar)\n",
    "  w_obs <- unname(((obs[\"upper\"] - obs[\"lower\"])/1.96)^{-2})\n",
    "  w_mod <- unname(((models[\"upper\"] - models[\"lower\"])/1.96)^{-2})\n",
    "\n",
    "  wmean <- (w_obs * obs[\"est\"] + w_mod * models[\"est\"]) / (w_obs + w_mod)\n",
    "    \n",
    "  # get weighted interval by adding variances                                                              # v3: get interval as in unnumbered equation on p163, by averaging variances\n",
    "  sig_lower = sqrt((w_obs * ((obs[\"est\"] - obs[\"lower\"]))^2 + w_mod * ((models[\"est\"] - models[\"lower\"]))^2) / (w_obs + w_mod))\n",
    "  sig_upper = sqrt((w_obs * ((obs[\"est\"] - obs[\"upper\"]))^2 + w_mod * ((models[\"est\"] - models[\"upper\"]))^2) / (w_obs + w_mod))\n",
    "    \n",
    "#   synth <- setNames(c(wmean,\n",
    "#                       wmean - sqrt( (w_obs*(obs[\"est\"]-obs[\"lower\"]))^2 + (w_mod*(models[\"est\"]-models[\"lower\"]))^2 )/(w_obs+w_mod),\n",
    "#                       wmean + sqrt( (w_obs*(obs[\"est\"]-obs[\"upper\"]))^2 + (w_mod*(models[\"est\"]-models[\"upper\"]))^2 )/(w_obs+w_mod)),\n",
    "#                     c(\"est\", \"lower\", \"upper\"))\n",
    "    synth <- setNames(c(wmean, wmean - sig_lower, wmean + sig_upper), c(\"est\", \"lower\", \"upper\"))\n",
    "\n",
    "\n",
    "  # unweighted mean of obs and models\n",
    "  umean <- (obs[\"est\"] +  models[\"est\"]) / 2\n",
    "  synth[\"l_wb\"] <- umean - sqrt(((obs[\"est\"]-obs[\"lower\"])^2 + (models[\"est\"]-models[\"lower\"])^2)/2)\n",
    "  synth[\"u_wb\"] <- umean + sqrt(((obs[\"est\"]-obs[\"upper\"])^2 + (models[\"est\"]-models[\"upper\"])^2)/2)\n",
    "\n",
    "  #~~~~~~~~~~~~~~~~~~~~~~~~~~~~~~~~~~~~~~~~~~~~~~~~~~~~~~~~~~~~~~~~~~~~~~~~~~~~~~~~~~~~~~\n",
    "  # add group labels for easier plotting\n",
    "  obs_in <- cbind(obs_in, \"group\" = \"obs\")\n",
    "  obs <- data.frame(t(c(\"model\" = \"Observations\", \"group\" = \"obs_synth\", obs)))\n",
    "  models_in <- cbind(models_in, \"group\" = \"models\")\n",
    "  models <- data.frame(t(c(\"model\" = \"Models\", \"group\" = \"model_synth\", models)))\n",
    "  synth <- data.frame(t(c(\"model\" = \"Synthesis\", \"group\" = \"synth\", synth)))\n",
    "\n",
    "  # combine all the data together in one dataframe\n",
    "  res <- rbind.fill(obs_in, obs, models_in, models, synth)[,c(\"group\", \"model\", \"est\", \"lower\", \"upper\", \"l_wb\", \"u_wb\")]\n",
    "  for(cnm in c(\"est\", \"lower\", \"upper\", \"l_wb\", \"u_wb\")) { res[,cnm] <- as.numeric(res[,cnm]) }\n",
    "\n",
    "  # if only dummy obs, remove\n",
    "  if(no_obs) {\n",
    "    # drop all rows that don't relate to models\n",
    "    res <- res[grepl(\"model\", res$group),]\n",
    "    sig_obs <- NA\n",
    "  }\n",
    "\n",
    "  #~~~~~~~~~~~~~~~~~~~~~~~~~~~~~~~~~~~~~~~~~~~~~~~~~~~~~~~~~~~~~~~~~~~~~~~~~~~~~~~~~~~~~~\n",
    "  # reverse any transformations applied\n",
    "  if(synth_type == \"PR\") {\n",
    "    res[,c(\"est\", \"lower\", \"upper\", \"l_wb\", \"u_wb\")] <- exp(res[,c(\"est\", \"lower\", \"upper\", \"l_wb\", \"u_wb\")])\n",
    "    sig_obs <- exp(sig_obs)\n",
    "    sig_mod <- exp(sig_mod)\n",
    "    umean <- exp(umean)\n",
    "  } else if(synth_type == \"rel\") {\n",
    "    res[,c(\"est\", \"lower\", \"upper\", \"l_wb\", \"u_wb\")] <- 100*(exp(res[,c(\"est\", \"lower\", \"upper\", \"l_wb\", \"u_wb\")])-1)\n",
    "    sig_obs <- 100*(exp(sig_obs)-1)\n",
    "    sig_mod <- 100*(exp(sig_mod)-1)\n",
    "    umean <- 100*(exp(umean)-1)\n",
    "  }\n",
    "\n",
    "  return(list(synth_type = synth_type, sig_obs = sig_obs, \"chi2/dof\" = chi2 / mdof, df = res, uw_mean = umean))\n",
    "}"
   ]
  },
  {
   "cell_type": "markdown",
   "metadata": {},
   "source": [
    "---\n",
    "# Real examples"
   ]
  },
  {
   "cell_type": "code",
   "execution_count": 172,
   "metadata": {},
   "outputs": [],
   "source": [
    "fnm <- \"data/afghanistan_pr-am_PR.csv\""
   ]
  },
  {
   "cell_type": "code",
   "execution_count": 173,
   "metadata": {},
   "outputs": [
    {
     "name": "stdout",
     "output_type": "stream",
     "text": [
      "sig_mod:  1.305142 \n",
      "sig_mod:  0.6426384 \n",
      "sig_mod:  0.6426384 \n",
      "sig_mod:  0.6426384 \n",
      "sig_mod:  0.6426384 \n",
      "Spread of model means: 6.5 \n",
      "Width of 95% interval from SD: 6.73 \n",
      "Width of red bar: 7.08 1.76 40.96 4.62 \n",
      "Width of purple bar: 10.31 1.96 69.51 13.83 \n"
     ]
    },
    {
     "data": {
      "text/html": [
       "<strong>png:</strong> 2"
      ],
      "text/latex": [
       "\\textbf{png:} 2"
      ],
      "text/markdown": [
       "**png:** 2"
      ],
      "text/plain": [
       "png \n",
       "  2 "
      ]
     },
     "metadata": {},
     "output_type": "display_data"
    }
   ],
   "source": [
    "res <- read.csv(fnm, row.names = 2)\n",
    "obs = res[res$src == \"obs\",-1]\n",
    "models = res[res$src == \"models\",-1]\n",
    "\n",
    "stype <- switch(strsplit(gsub(\".csv\",\"\",fnm), \"_\")[[1]][3], \"PR\" = \"PR\", \"dI-abs\" = \"abs\", \"dI-rel\" = \"rel\")\n",
    "\n",
    "synth_org = synthesis_cx(obs, models, synth_type = stype)      # original code from Climate Explorer\n",
    "synth_v1 = synthesis_v1(obs, models, synth_type = stype)       # modified to use variances instead of mixing intervals & variances\n",
    "synth_v2 = synthesis_v2(obs, models, synth_type = stype)       # model variances averaged rather than summing precisions\n",
    "synth_v3 = synthesis_v3(obs, models, synth_type = stype)       \n",
    "synth_v3_2 = synthesis_v3_2(obs, models, synth_type = stype)       \n",
    "\n",
    "cat(\"Spread of model means:\",round(diff(range(models$est)),2),\"\\n\")\n",
    "cat(\"Width of 95% interval from SD:\", round(2*1.96*sd(models$est), 2),\"\\n\")\n",
    "\n",
    "cat(\"Width of red bar:\", sapply(c(\"org\", \"v1\", \"v2\", \"v3\"), function(v) {\n",
    "    paste0(round(diff(unlist(get(paste0(\"synth_\",v))$df[get(paste0(\"synth_\",v))$df$group == \"model_synth\", c(\"lower\", \"upper\")])),2))\n",
    "}), \"\\n\")\n",
    "cat(\"Width of purple bar:\", sapply(c(\"org\", \"v1\", \"v2\", \"v3\"), function(v) {\n",
    "    paste0(round(diff(unlist(get(paste0(\"synth_\",v))$df[get(paste0(\"synth_\",v))$df$group == \"synth\", c(\"lower\", \"upper\")])),2))\n",
    "}), \"\\n\")\n",
    "\n",
    "#~~~~~~~~~~~~~~~~~~~~~~~~~~~~~~~~~~~~~~~~~~~~~~~~~~~~~~~~~~~~~~~~~~~~~~~~~~~~~~~~~~~~~~~~~~~~~~~~~~~~~~~~~~\n",
    "png(gsub(\"data\",\"fig\",gsub(\"csv\",\"png\",fnm)), height = max(20 * nrow(res)+3, 240), width = 360 * 5); {\n",
    "    prep_window(c(1,5), h = 6, w = 5, mar = c(3,0.5,2,0.5), oma = c(0,10,2,0))\n",
    "    plot_synthesis(synth_org, main = \"Original synthesis method\")\n",
    "    plot_synthesis(synth_v1, main = v1_desc, hide_labels = T)\n",
    "    plot_synthesis(synth_v2, main = v2_desc, hide_labels = T)\n",
    "    plot_synthesis(synth_v3, main = v3_desc, hide_labels = T)\n",
    "    plot_synthesis(synth_v3_2, main = \"Intervals\", hide_labels = T)\n",
    "\n",
    "    mtext(gsub(\"data/\",\"\",gsub(\".csv\",\"\",fnm)), side = 3, outer = T, font = 2)\n",
    "}; dev.off()"
   ]
  },
  {
   "cell_type": "code",
   "execution_count": 138,
   "metadata": {},
   "outputs": [
    {
     "data": {
      "text/html": [
       "<style>\n",
       ".dl-inline {width: auto; margin:0; padding: 0}\n",
       ".dl-inline>dt, .dl-inline>dd {float: none; width: auto; display: inline-block}\n",
       ".dl-inline>dt::after {content: \":\\0020\"; padding-right: .5ex}\n",
       ".dl-inline>dt:not(:first-of-type) {padding-left: .5ex}\n",
       "</style><dl class=dl-inline><dt>3</dt><dd>2.67729835657776</dd><dt>4</dt><dd>2.49074158262014</dd><dt>5</dt><dd>2.39132638187882</dd><dt>6</dt><dd>2.72186860317826</dd><dt>7</dt><dd>2.87311735583801</dd></dl>\n"
      ],
      "text/latex": [
       "\\begin{description*}\n",
       "\\item[3] 2.67729835657776\n",
       "\\item[4] 2.49074158262014\n",
       "\\item[5] 2.39132638187882\n",
       "\\item[6] 2.72186860317826\n",
       "\\item[7] 2.87311735583801\n",
       "\\end{description*}\n"
      ],
      "text/markdown": [
       "3\n",
       ":   2.677298356577764\n",
       ":   2.490741582620145\n",
       ":   2.391326381878826\n",
       ":   2.721868603178267\n",
       ":   2.87311735583801\n",
       "\n"
      ],
      "text/plain": [
       "       3        4        5        6        7 \n",
       "2.677298 2.490742 2.391326 2.721869 2.873117 "
      ]
     },
     "metadata": {},
     "output_type": "display_data"
    }
   ],
   "source": [
    "apply(synth_org$df[synth_org$df$group == \"models\",c(\"l_wb\", \"lower\")], 1, diff) / apply(synth_v1$df[synth_v1$df$group == \"models\",c(\"l_wb\", \"lower\")], 1, diff)"
   ]
  },
  {
   "cell_type": "code",
   "execution_count": 139,
   "metadata": {},
   "outputs": [
    {
     "name": "stdout",
     "output_type": "stream",
     "text": [
      "sig_mod:  1.43629 \n"
     ]
    }
   ],
   "source": [
    "synth_v3_2 = synthesis_v3_2(obs, models, synth_type = stype)       \n"
   ]
  },
  {
   "cell_type": "code",
   "execution_count": 140,
   "metadata": {},
   "outputs": [
    {
     "data": {
      "text/html": [
       "<table class=\"dataframe\">\n",
       "<caption>A data.frame: 9 × 7</caption>\n",
       "<thead>\n",
       "\t<tr><th scope=col>group</th><th scope=col>model</th><th scope=col>est</th><th scope=col>lower</th><th scope=col>upper</th><th scope=col>l_wb</th><th scope=col>u_wb</th></tr>\n",
       "\t<tr><th scope=col>&lt;chr&gt;</th><th scope=col>&lt;chr&gt;</th><th scope=col>&lt;dbl&gt;</th><th scope=col>&lt;dbl&gt;</th><th scope=col>&lt;dbl&gt;</th><th scope=col>&lt;dbl&gt;</th><th scope=col>&lt;dbl&gt;</th></tr>\n",
       "</thead>\n",
       "<tbody>\n",
       "\t<tr><td>obs        </td><td>ERA5        </td><td>4.260000</td><td>0.8100000</td><td>7.280000</td><td> 0.8100000</td><td>7.280000</td></tr>\n",
       "\t<tr><td>obs_synth  </td><td>Observations</td><td>4.260000</td><td>0.8100000</td><td>7.280000</td><td>        NA</td><td>      NA</td></tr>\n",
       "\t<tr><td>models     </td><td>BCC-CSM2-MR </td><td>5.419148</td><td>3.8235710</td><td>6.907285</td><td> 2.1832849</td><td>8.603405</td></tr>\n",
       "\t<tr><td>models     </td><td>CanESM5     </td><td>2.308114</td><td>1.1902060</td><td>3.267051</td><td>-0.7208565</td><td>5.282085</td></tr>\n",
       "\t<tr><td>models     </td><td>CMCC-ESM2   </td><td>2.399358</td><td>1.5296180</td><td>3.318917</td><td>-0.5470621</td><td>5.360867</td></tr>\n",
       "\t<tr><td>models     </td><td>NorESM2-LM  </td><td>5.635606</td><td>3.9218090</td><td>7.212483</td><td> 2.3398445</td><td>8.862289</td></tr>\n",
       "\t<tr><td>models     </td><td>NorESM2-MM  </td><td>4.066910</td><td>1.9335990</td><td>5.871118</td><td> 0.5347775</td><td>7.410577</td></tr>\n",
       "\t<tr><td>model_synth</td><td>Models      </td><td>3.852237</td><td>0.6605273</td><td>6.977410</td><td>        NA</td><td>      NA</td></tr>\n",
       "\t<tr><td>synth      </td><td>Synthesis   </td><td>4.051237</td><td>0.7309629</td><td>7.125532</td><td> 1.7061446</td><td>6.229084</td></tr>\n",
       "</tbody>\n",
       "</table>\n"
      ],
      "text/latex": [
       "A data.frame: 9 × 7\n",
       "\\begin{tabular}{lllllll}\n",
       " group & model & est & lower & upper & l\\_wb & u\\_wb\\\\\n",
       " <chr> & <chr> & <dbl> & <dbl> & <dbl> & <dbl> & <dbl>\\\\\n",
       "\\hline\n",
       "\t obs         & ERA5         & 4.260000 & 0.8100000 & 7.280000 &  0.8100000 & 7.280000\\\\\n",
       "\t obs\\_synth   & Observations & 4.260000 & 0.8100000 & 7.280000 &         NA &       NA\\\\\n",
       "\t models      & BCC-CSM2-MR  & 5.419148 & 3.8235710 & 6.907285 &  2.1832849 & 8.603405\\\\\n",
       "\t models      & CanESM5      & 2.308114 & 1.1902060 & 3.267051 & -0.7208565 & 5.282085\\\\\n",
       "\t models      & CMCC-ESM2    & 2.399358 & 1.5296180 & 3.318917 & -0.5470621 & 5.360867\\\\\n",
       "\t models      & NorESM2-LM   & 5.635606 & 3.9218090 & 7.212483 &  2.3398445 & 8.862289\\\\\n",
       "\t models      & NorESM2-MM   & 4.066910 & 1.9335990 & 5.871118 &  0.5347775 & 7.410577\\\\\n",
       "\t model\\_synth & Models       & 3.852237 & 0.6605273 & 6.977410 &         NA &       NA\\\\\n",
       "\t synth       & Synthesis    & 4.051237 & 0.7309629 & 7.125532 &  1.7061446 & 6.229084\\\\\n",
       "\\end{tabular}\n"
      ],
      "text/markdown": [
       "\n",
       "A data.frame: 9 × 7\n",
       "\n",
       "| group &lt;chr&gt; | model &lt;chr&gt; | est &lt;dbl&gt; | lower &lt;dbl&gt; | upper &lt;dbl&gt; | l_wb &lt;dbl&gt; | u_wb &lt;dbl&gt; |\n",
       "|---|---|---|---|---|---|---|\n",
       "| obs         | ERA5         | 4.260000 | 0.8100000 | 7.280000 |  0.8100000 | 7.280000 |\n",
       "| obs_synth   | Observations | 4.260000 | 0.8100000 | 7.280000 |         NA |       NA |\n",
       "| models      | BCC-CSM2-MR  | 5.419148 | 3.8235710 | 6.907285 |  2.1832849 | 8.603405 |\n",
       "| models      | CanESM5      | 2.308114 | 1.1902060 | 3.267051 | -0.7208565 | 5.282085 |\n",
       "| models      | CMCC-ESM2    | 2.399358 | 1.5296180 | 3.318917 | -0.5470621 | 5.360867 |\n",
       "| models      | NorESM2-LM   | 5.635606 | 3.9218090 | 7.212483 |  2.3398445 | 8.862289 |\n",
       "| models      | NorESM2-MM   | 4.066910 | 1.9335990 | 5.871118 |  0.5347775 | 7.410577 |\n",
       "| model_synth | Models       | 3.852237 | 0.6605273 | 6.977410 |         NA |       NA |\n",
       "| synth       | Synthesis    | 4.051237 | 0.7309629 | 7.125532 |  1.7061446 | 6.229084 |\n",
       "\n"
      ],
      "text/plain": [
       "  group       model        est      lower     upper    l_wb       u_wb    \n",
       "1 obs         ERA5         4.260000 0.8100000 7.280000  0.8100000 7.280000\n",
       "2 obs_synth   Observations 4.260000 0.8100000 7.280000         NA       NA\n",
       "3 models      BCC-CSM2-MR  5.419148 3.8235710 6.907285  2.1832849 8.603405\n",
       "4 models      CanESM5      2.308114 1.1902060 3.267051 -0.7208565 5.282085\n",
       "5 models      CMCC-ESM2    2.399358 1.5296180 3.318917 -0.5470621 5.360867\n",
       "6 models      NorESM2-LM   5.635606 3.9218090 7.212483  2.3398445 8.862289\n",
       "7 models      NorESM2-MM   4.066910 1.9335990 5.871118  0.5347775 7.410577\n",
       "8 model_synth Models       3.852237 0.6605273 6.977410         NA       NA\n",
       "9 synth       Synthesis    4.051237 0.7309629 7.125532  1.7061446 6.229084"
      ]
     },
     "metadata": {},
     "output_type": "display_data"
    },
    {
     "data": {
      "text/html": [
       "<table class=\"dataframe\">\n",
       "<caption>A data.frame: 9 × 7</caption>\n",
       "<thead>\n",
       "\t<tr><th scope=col>group</th><th scope=col>model</th><th scope=col>est</th><th scope=col>lower</th><th scope=col>upper</th><th scope=col>l_wb</th><th scope=col>u_wb</th></tr>\n",
       "\t<tr><th scope=col>&lt;chr&gt;</th><th scope=col>&lt;chr&gt;</th><th scope=col>&lt;dbl&gt;</th><th scope=col>&lt;dbl&gt;</th><th scope=col>&lt;dbl&gt;</th><th scope=col>&lt;dbl&gt;</th><th scope=col>&lt;dbl&gt;</th></tr>\n",
       "</thead>\n",
       "<tbody>\n",
       "\t<tr><td>obs        </td><td>ERA5        </td><td>4.260000</td><td>0.8100000</td><td>7.280000</td><td> 0.8100000</td><td>7.280000</td></tr>\n",
       "\t<tr><td>obs_synth  </td><td>Observations</td><td>4.260000</td><td>0.8100000</td><td>7.280000</td><td>        NA</td><td>      NA</td></tr>\n",
       "\t<tr><td>models     </td><td>BCC-CSM2-MR </td><td>5.419148</td><td>3.8235710</td><td>6.907285</td><td> 2.1832849</td><td>8.603405</td></tr>\n",
       "\t<tr><td>models     </td><td>CanESM5     </td><td>2.308114</td><td>1.1902060</td><td>3.267051</td><td>-0.7208565</td><td>5.282085</td></tr>\n",
       "\t<tr><td>models     </td><td>CMCC-ESM2   </td><td>2.399358</td><td>1.5296180</td><td>3.318917</td><td>-0.5470621</td><td>5.360867</td></tr>\n",
       "\t<tr><td>models     </td><td>NorESM2-LM  </td><td>5.635606</td><td>3.9218090</td><td>7.212483</td><td> 2.3398445</td><td>8.862289</td></tr>\n",
       "\t<tr><td>models     </td><td>NorESM2-MM  </td><td>4.066910</td><td>1.9335990</td><td>5.871118</td><td> 0.5347775</td><td>7.410577</td></tr>\n",
       "\t<tr><td>model_synth</td><td>Models      </td><td>3.852237</td><td>0.6605273</td><td>6.977410</td><td>        NA</td><td>      NA</td></tr>\n",
       "\t<tr><td>synth      </td><td>Synthesis   </td><td>4.051237</td><td>0.7309629</td><td>7.125532</td><td> 0.7327534</td><td>7.129155</td></tr>\n",
       "</tbody>\n",
       "</table>\n"
      ],
      "text/latex": [
       "A data.frame: 9 × 7\n",
       "\\begin{tabular}{lllllll}\n",
       " group & model & est & lower & upper & l\\_wb & u\\_wb\\\\\n",
       " <chr> & <chr> & <dbl> & <dbl> & <dbl> & <dbl> & <dbl>\\\\\n",
       "\\hline\n",
       "\t obs         & ERA5         & 4.260000 & 0.8100000 & 7.280000 &  0.8100000 & 7.280000\\\\\n",
       "\t obs\\_synth   & Observations & 4.260000 & 0.8100000 & 7.280000 &         NA &       NA\\\\\n",
       "\t models      & BCC-CSM2-MR  & 5.419148 & 3.8235710 & 6.907285 &  2.1832849 & 8.603405\\\\\n",
       "\t models      & CanESM5      & 2.308114 & 1.1902060 & 3.267051 & -0.7208565 & 5.282085\\\\\n",
       "\t models      & CMCC-ESM2    & 2.399358 & 1.5296180 & 3.318917 & -0.5470621 & 5.360867\\\\\n",
       "\t models      & NorESM2-LM   & 5.635606 & 3.9218090 & 7.212483 &  2.3398445 & 8.862289\\\\\n",
       "\t models      & NorESM2-MM   & 4.066910 & 1.9335990 & 5.871118 &  0.5347775 & 7.410577\\\\\n",
       "\t model\\_synth & Models       & 3.852237 & 0.6605273 & 6.977410 &         NA &       NA\\\\\n",
       "\t synth       & Synthesis    & 4.051237 & 0.7309629 & 7.125532 &  0.7327534 & 7.129155\\\\\n",
       "\\end{tabular}\n"
      ],
      "text/markdown": [
       "\n",
       "A data.frame: 9 × 7\n",
       "\n",
       "| group &lt;chr&gt; | model &lt;chr&gt; | est &lt;dbl&gt; | lower &lt;dbl&gt; | upper &lt;dbl&gt; | l_wb &lt;dbl&gt; | u_wb &lt;dbl&gt; |\n",
       "|---|---|---|---|---|---|---|\n",
       "| obs         | ERA5         | 4.260000 | 0.8100000 | 7.280000 |  0.8100000 | 7.280000 |\n",
       "| obs_synth   | Observations | 4.260000 | 0.8100000 | 7.280000 |         NA |       NA |\n",
       "| models      | BCC-CSM2-MR  | 5.419148 | 3.8235710 | 6.907285 |  2.1832849 | 8.603405 |\n",
       "| models      | CanESM5      | 2.308114 | 1.1902060 | 3.267051 | -0.7208565 | 5.282085 |\n",
       "| models      | CMCC-ESM2    | 2.399358 | 1.5296180 | 3.318917 | -0.5470621 | 5.360867 |\n",
       "| models      | NorESM2-LM   | 5.635606 | 3.9218090 | 7.212483 |  2.3398445 | 8.862289 |\n",
       "| models      | NorESM2-MM   | 4.066910 | 1.9335990 | 5.871118 |  0.5347775 | 7.410577 |\n",
       "| model_synth | Models       | 3.852237 | 0.6605273 | 6.977410 |         NA |       NA |\n",
       "| synth       | Synthesis    | 4.051237 | 0.7309629 | 7.125532 |  0.7327534 | 7.129155 |\n",
       "\n"
      ],
      "text/plain": [
       "  group       model        est      lower     upper    l_wb       u_wb    \n",
       "1 obs         ERA5         4.260000 0.8100000 7.280000  0.8100000 7.280000\n",
       "2 obs_synth   Observations 4.260000 0.8100000 7.280000         NA       NA\n",
       "3 models      BCC-CSM2-MR  5.419148 3.8235710 6.907285  2.1832849 8.603405\n",
       "4 models      CanESM5      2.308114 1.1902060 3.267051 -0.7208565 5.282085\n",
       "5 models      CMCC-ESM2    2.399358 1.5296180 3.318917 -0.5470621 5.360867\n",
       "6 models      NorESM2-LM   5.635606 3.9218090 7.212483  2.3398445 8.862289\n",
       "7 models      NorESM2-MM   4.066910 1.9335990 5.871118  0.5347775 7.410577\n",
       "8 model_synth Models       3.852237 0.6605273 6.977410         NA       NA\n",
       "9 synth       Synthesis    4.051237 0.7309629 7.125532  0.7327534 7.129155"
      ]
     },
     "metadata": {},
     "output_type": "display_data"
    }
   ],
   "source": [
    "synth_v3$df\n",
    "synth_v3_2$df"
   ]
  },
  {
   "cell_type": "markdown",
   "metadata": {},
   "source": [
    "# Check updated methods on GitHub"
   ]
  },
  {
   "cell_type": "code",
   "execution_count": 141,
   "metadata": {},
   "outputs": [],
   "source": [
    "fnm <- \"data/helene_potint_dI-abs.csv\""
   ]
  },
  {
   "cell_type": "code",
   "execution_count": 142,
   "metadata": {},
   "outputs": [
    {
     "name": "stdout",
     "output_type": "stream",
     "text": [
      "sig_mod:  2.885292 \n",
      "sig_mod:  1.43629 \n",
      "sig_mod:  1.43629 \n",
      "sig_mod:  1.43629 \n",
      "Spread of model means: 3.33 \n",
      "Width of 95% interval from SD: 6.23 \n",
      "Width of red bar: 11.61 5.77 12.38 6.32 6.32 \n",
      "Width of purple bar: 5.65 4.31 5.74 6.39 6.39 \n"
     ]
    },
    {
     "data": {
      "image/png": "[encoded data removed]",
      "text/plain": [
       "Plot with title “Currently installed”"
      ]
     },
     "metadata": {
      "image/png": {
       "height": 600,
       "width": 2500
      }
     },
     "output_type": "display_data"
    }
   ],
   "source": [
    "res <- read.csv(fnm, row.names = 2)\n",
    "obs = res[res$src == \"obs\",-1]\n",
    "models = res[res$src == \"models\",-1]\n",
    "\n",
    "stype <- switch(strsplit(gsub(\".csv\",\"\",fnm), \"_\")[[1]][3], \"PR\" = \"PR\", \"dI-abs\" = \"abs\", \"dI-rel\" = \"rel\")\n",
    "\n",
    "synth_org = synthesis_cx(obs, models, synth_type = stype)      # original code from Climate Explorer\n",
    "synth_v1 = synthesis_v1(obs, models, synth_type = stype)       # modified to use variances instead of mixing intervals & variances\n",
    "synth_v2 = synthesis_v2(obs, models, synth_type = stype)       # model variances averaged rather than summing precisions\n",
    "synth_v3 = synthesis_v3(obs, models, synth_type = stype)       \n",
    "synth_v0 = synthesis(obs, models, synth_type = stype)             # version currently installed on GitHub\n",
    "\n",
    "cat(\"Spread of model means:\",round(diff(range(models$est)),2),\"\\n\")\n",
    "cat(\"Width of 95% interval from SD:\", round(2*1.96*sd(models$est), 2),\"\\n\")\n",
    "\n",
    "cat(\"Width of red bar:\", sapply(c(\"org\", \"v1\", \"v2\", \"v3\", \"v0\"), function(v) {\n",
    "    paste0(round(diff(unlist(get(paste0(\"synth_\",v))$df[get(paste0(\"synth_\",v))$df$group == \"model_synth\", c(\"lower\", \"upper\")])),2))\n",
    "}), \"\\n\")\n",
    "cat(\"Width of purple bar:\", sapply(c(\"org\", \"v1\", \"v2\", \"v3\", \"v0\"), function(v) {\n",
    "    paste0(round(diff(unlist(get(paste0(\"synth_\",v))$df[get(paste0(\"synth_\",v))$df$group == \"synth\", c(\"lower\", \"upper\")])),2))\n",
    "}), \"\\n\")\n",
    "\n",
    "#~~~~~~~~~~~~~~~~~~~~~~~~~~~~~~~~~~~~~~~~~~~~~~~~~~~~~~~~~~~~~~~~~~~~~~~~~~~~~~~~~~~~~~~~~~~~~~~~~~~~~~~~~~\n",
    "# png(gsub(\"data\",\"fig\",gsub(\"csv\",\"png\",fnm)), height = max(20 * nrow(res)+3, 240), width = 360 * 4); {\n",
    "    prep_window(c(1,5), h = 6, w = 5, mar = c(3,0.5,2,0.5), oma = c(0,10,2,0))\n",
    "    plot_synthesis(synth_org, main = \"Original synthesis method\")\n",
    "    plot_synthesis(synth_v1, main = v1_desc, hide_labels = T)\n",
    "    plot_synthesis(synth_v2, main = v2_desc, hide_labels = T)\n",
    "    plot_synthesis(synth_v3, main = v3_desc, hide_labels = T)\n",
    "    plot_synthesis(synth_v0, main = \"Currently installed\", hide_labels = T)\n",
    "\n",
    "    mtext(gsub(\"data/\",\"\",gsub(\".csv\",\"\",fnm)), side = 3, outer = T, font = 2)\n",
    "# }; dev.off()"
   ]
  },
  {
   "cell_type": "markdown",
   "metadata": {},
   "source": [
    "# Check Fortran updates"
   ]
  },
  {
   "cell_type": "markdown",
   "metadata": {},
   "source": [
    "## Original synthesis functions"
   ]
  },
  {
   "cell_type": "code",
   "execution_count": 143,
   "metadata": {},
   "outputs": [],
   "source": [
    "getsynmean <- function(data, sig_mod = 0) {\n",
    "\n",
    "  # calculate weight for each model based on inverse variance\n",
    "  w = 1/(((data$upper - data$lower))^2 + (2*sig_mod)^2)\n",
    "  w1 = sum(w)\n",
    "\n",
    "  # weighted sum of squares & bounds\n",
    "  s1 <- sum(w*data$est) / w1\n",
    "  ss2 <- apply(data[,c(\"est\", \"lower\", \"upper\")], 2, function(b) sum((w*(data$est - b))^2))\n",
    "  ss2 <- sqrt(ss2) / w1\n",
    "\n",
    "  # if non-zero model representation error, extend 95% intervals accordingly\n",
    "  if (sig_mod > 0) { ss2 <- sqrt(ss2^2 + (sig_mod)^2) }\n",
    "\n",
    "  return(s1 + (ss2 * c(0,-1,1)))\n",
    "}\n",
    "\n",
    "\n",
    "################################################################################################################################\n",
    "getsynchi2 <- function(data, sig_mod = 0) {\n",
    "\n",
    "  # function to be minimized by finding sig_mod such that chi^2/mdof ~= 1\n",
    "\n",
    "  # get best estimate of weighted mean\n",
    "  s1 <- getsynmean(data, sig_mod)[\"est\"]\n",
    "\n",
    "  # compute chi2 by converting model intervals to standard deviations & adding sig_mod adjustment\n",
    "  chi2 <- sum(apply(data[,c(\"est\", \"lower\", \"upper\")], 1, function(x) {\n",
    "    if(x[\"est\"] > s1) {\n",
    "      (x[\"est\"] - s1)^2 / (((x[\"est\"] - x[\"lower\"]))^2 + (sig_mod)^2)\n",
    "    } else {\n",
    "      (x[\"est\"] - s1)^2 / (((x[\"est\"] - x[\"upper\"]))^2 + (sig_mod)^2)\n",
    "    }\n",
    "  }))\n",
    "  return(chi2*4)\n",
    "}\n",
    "\n",
    "\n",
    "################################################################################################################################\n",
    "synthesis <- function(obs_in = NA, models_in, synth_type = \"abs\") {\n",
    "\n",
    "  if(is.na(unlist(obs_in))[1]) {\n",
    "    no_obs <- T\n",
    "    # create a dummy dataframe to avoid having to rewrite everything twice\n",
    "    obs_in <- data.frame(\"est\" = 0, \"lower\" = 0, \"upper\" = 0)\n",
    "    rownames(obs_in) <- \"dummy\"\n",
    "  } else {\n",
    "    no_obs <- F\n",
    "  }\n",
    "\n",
    "  # relabel the data for easier reference later\n",
    "  colnames(obs_in) <- colnames(models_in) <- c(\"est\", \"lower\", \"upper\")\n",
    "\n",
    "  if(!(\"model\" %in% colnames(obs_in))) obs_in$model <- rownames(obs_in)\n",
    "  if(!(\"model\" %in% colnames(models_in))) models_in$model <- rownames(models_in)\n",
    "\n",
    "  #~~~~~~~~~~~~~~~~~~~~~~~~~~~~~~~~~~~~~~~~~~~~~~~~~~~~~~~~~~~~~~~~~~~~~~~~~~~~~~~~~~~~~~\n",
    "\n",
    "  if(!synth_type %in% c(\"abs\", \"rel\", \"PR\")) {\n",
    "    cat(paste0(\"Synthesis type '\",synth_type,\"' not implemented - must be abs, rel or PR\"), \"\\n\")\n",
    "  }\n",
    "\n",
    "  if(synth_type == \"PR\") {\n",
    "    obs_in[,c(\"est\", \"lower\", \"upper\")] <- log(obs_in[,c(\"est\", \"lower\", \"upper\")])\n",
    "    models_in[,c(\"est\", \"lower\", \"upper\")] <- log(models_in[,c(\"est\", \"lower\", \"upper\")])\n",
    "  } else if(synth_type == \"rel\") {\n",
    "    obs_in[,c(\"est\", \"lower\", \"upper\")] <- log(1+obs_in[,c(\"est\", \"lower\", \"upper\")]/100)\n",
    "    models_in[,c(\"est\", \"lower\", \"upper\")] <- log(1+models_in[,c(\"est\", \"lower\", \"upper\")]/100)\n",
    "  }\n",
    "\n",
    "  #~~~~~~~~~~~~~~~~~~~~~~~~~~~~~~~~~~~~~~~~~~~~~~~~~~~~~~~~~~~~~~~~~~~~~~~~~~~~~~~~~~~~~~\n",
    "  # get mean of intervals to estimate natural variability component\n",
    "\n",
    "  # compute representation error from scatter of mean ($\\sigma_{rep}$ in the paper)\n",
    "  nobs = nrow(obs_in)\n",
    "  obs <- apply(obs_in[,c(\"est\", \"lower\", \"upper\"),drop = F], 2, mean)\n",
    "  if(nobs == 1) {\n",
    "    sig_obs = 0\n",
    "  } else {\n",
    "    s2 = sum((obs_in$est - obs[1])^2)\n",
    "    sig_obs = sqrt(s2/(nobs-1))\n",
    "  }\n",
    "\n",
    "  # add representation error to individual observations\n",
    "  obs_in$l_wb <- obs_in$est - sqrt((obs_in$est - obs_in$lower)**2 + (1.96*sig_obs)**2)\n",
    "  obs_in$u_wb <- obs_in$est + sqrt((obs_in$est - obs_in$upper)**2 + (1.96*sig_obs)**2)\n",
    "\n",
    "  # apply representation error to obs synthesis\n",
    "  # we're working with confidence intervals here, so we extend them by adding (1.96sig_obs)^2 in quadrature\n",
    "  obs[2] <- obs[1] - sqrt( (obs[1] - obs[2])**2 + (1.96*sig_obs)**2 )\n",
    "  obs[3] <- obs[1] + sqrt( (obs[1] - obs[3])**2 + (1.96*sig_obs)**2 )\n",
    "\n",
    "  #~~~~~~~~~~~~~~~~~~~~~~~~~~~~~~~~~~~~~~~~~~~~~~~~~~~~~~~~~~~~~~~~~~~~~~~~~~~~~~~~~~~~~~\n",
    "  # get initial estimate of model mean & calculate chi^2\n",
    "  chi2 <- getsynchi2(models_in, sig_mod = 0)\n",
    "  mdof <- nrow(models_in)-1\n",
    "\n",
    "  if ( chi2/mdof > 1 ) {\n",
    "    # find sig_mod such that chi^2/dof = 1\n",
    "    sig_mod <- optim(0, function(x) {(getsynchi2(models_in, sig_mod = x) - (nrow(models_in)-1))^2},\n",
    "                     method = \"Brent\", lower = 0, upper = 5)$par\n",
    "  } else {\n",
    "    sig_mod <- 0\n",
    "  }\n",
    "\n",
    "  # get weighted model mean\n",
    "  models <- getsynmean(models_in, sig_mod = sig_mod)\n",
    "\n",
    "  # add representation error to individual models\n",
    "  models_in$l_wb <- models_in$est - sqrt((models_in$est - models_in$lower)**2 + (1.96*sig_mod)**2)\n",
    "  models_in$u_wb <- models_in$est + sqrt((models_in$est - models_in$upper)**2 + (1.96*sig_mod)**2)\n",
    "\n",
    "  #~~~~~~~~~~~~~~~~~~~~~~~~~~~~~~~~~~~~~~~~~~~~~~~~~~~~~~~~~~~~~~~~~~~~~~~~~~~~~~~~~~~~~~\n",
    "  # weighted mean of models & obs (coloured bar)\n",
    "  w_obs <- unname((obs[\"upper\"] - obs[\"lower\"])^{-2})\n",
    "  w_mod <- unname((models[\"upper\"] - models[\"lower\"])^{-2})\n",
    "\n",
    "  wmean <- (w_obs * obs[\"est\"] + w_mod * models[\"est\"]) / (w_obs + w_mod)\n",
    "  synth <- setNames(c(wmean,\n",
    "                      wmean - sqrt( (w_obs*(obs[\"est\"]-obs[\"lower\"]))^2 + (w_mod*(models[\"est\"]-models[\"lower\"]))^2 )/(w_obs+w_mod),\n",
    "                      wmean + sqrt( (w_obs*(obs[\"est\"]-obs[\"upper\"]))^2 + (w_mod*(models[\"est\"]-models[\"upper\"]))^2 )/(w_obs+w_mod)),\n",
    "                    c(\"est\", \"lower\", \"upper\"))\n",
    "\n",
    "\n",
    "  # unweighted mean of obs and models\n",
    "  umean <- (obs[\"est\"] +  models[\"est\"]) / 2\n",
    "  synth[\"l_wb\"] <- umean - sqrt((obs[\"est\"]-obs[\"lower\"])^2 + (models[\"est\"]-models[\"lower\"])^2)/2\n",
    "  synth[\"u_wb\"] <- umean + sqrt((obs[\"est\"]-obs[\"upper\"])^2 + (models[\"est\"]-models[\"upper\"])^2)/2\n",
    "\n",
    "  #~~~~~~~~~~~~~~~~~~~~~~~~~~~~~~~~~~~~~~~~~~~~~~~~~~~~~~~~~~~~~~~~~~~~~~~~~~~~~~~~~~~~~~\n",
    "  # add group labels for easier plotting\n",
    "  obs_in <- cbind(obs_in, \"group\" = \"obs\")\n",
    "  obs <- data.frame(t(c(\"model\" = \"Observations\", \"group\" = \"obs_synth\", obs)))\n",
    "  models_in <- cbind(models_in, \"group\" = \"models\")\n",
    "  models <- data.frame(t(c(\"model\" = \"Models\", \"group\" = \"model_synth\", models)))\n",
    "  synth <- data.frame(t(c(\"model\" = \"Synthesis\", \"group\" = \"synth\", synth)))\n",
    "\n",
    "  # combine all the data together in one dataframe\n",
    "  res <- rbind.fill(obs_in, obs, models_in, models, synth)[,c(\"group\", \"model\", \"est\", \"lower\", \"upper\", \"l_wb\", \"u_wb\")]\n",
    "  for(cnm in c(\"est\", \"lower\", \"upper\", \"l_wb\", \"u_wb\")) { res[,cnm] <- as.numeric(res[,cnm]) }\n",
    "\n",
    "  # if only dummy obs, remove\n",
    "  if(no_obs) {\n",
    "    # drop all rows that don't relate to models\n",
    "    res <- res[grepl(\"model\", res$group),]\n",
    "    sig_obs <- NA\n",
    "  }\n",
    "\n",
    "  #~~~~~~~~~~~~~~~~~~~~~~~~~~~~~~~~~~~~~~~~~~~~~~~~~~~~~~~~~~~~~~~~~~~~~~~~~~~~~~~~~~~~~~\n",
    "  # reverse any transformations applied\n",
    "  if(synth_type == \"PR\") {\n",
    "    res[,c(\"est\", \"lower\", \"upper\", \"l_wb\", \"u_wb\")] <- exp(res[,c(\"est\", \"lower\", \"upper\", \"l_wb\", \"u_wb\")])\n",
    "    sig_obs <- exp(sig_obs)\n",
    "    sig_mod <- exp(sig_mod)\n",
    "    umean <- exp(umean)\n",
    "  } else if(synth_type == \"rel\") {\n",
    "    res[,c(\"est\", \"lower\", \"upper\", \"l_wb\", \"u_wb\")] <- 100*(exp(res[,c(\"est\", \"lower\", \"upper\", \"l_wb\", \"u_wb\")])-1)\n",
    "    sig_obs <- 100*(exp(sig_obs)-1)\n",
    "    sig_mod <- 100*(exp(sig_mod)-1)\n",
    "    umean <- 100*(exp(umean)-1)\n",
    "  }\n",
    "\n",
    "  return(list(synth_type = synth_type, sig_obs = sig_obs, \"chi2/dof\" = chi2 / mdof, df = res, uw_mean = umean))\n",
    "}"
   ]
  },
  {
   "cell_type": "markdown",
   "metadata": {},
   "source": [
    "## Revised getsynchi2"
   ]
  },
  {
   "cell_type": "code",
   "execution_count": 144,
   "metadata": {},
   "outputs": [],
   "source": [
    "getsynmean_rev1 <- function(data, sig_mod = 0) {\n",
    "\n",
    "  # calculate weight for each model based on inverse variance\n",
    "  w = 1/(((data$upper - data$lower))^2 + (2*sig_mod)^2)\n",
    "  w1 = sum(w)\n",
    "\n",
    "  # weighted sum of squares & bounds\n",
    "  s1 <- sum(w*data$est) / w1\n",
    "  ss2 <- apply(data[,c(\"est\", \"lower\", \"upper\")], 2, function(b) sum((w*(data$est - b))^2))\n",
    "  ss2 <- sqrt(ss2) / w1\n",
    "\n",
    "  # if non-zero model representation error, extend 95% intervals accordingly\n",
    "  if (sig_mod > 0) { ss2 <- sqrt(ss2^2 + (sig_mod)^2) }\n",
    "\n",
    "  return(s1 + (ss2 * c(0,-1,1)))\n",
    "}\n",
    "\n",
    "\n",
    "################################################################################################################################\n",
    "getsynchi2_rev1 <- function(data, sig_mod = 0) {\n",
    "\n",
    "  # function to be minimized by finding sig_mod such that chi^2/mdof ~= 1\n",
    "\n",
    "  # get best estimate of weighted mean\n",
    "  s1 <- getsynmean_rev1(data, sig_mod)[\"est\"]\n",
    "\n",
    "  # compute chi2 by converting model intervals to standard deviations & adding sig_mod adjustment\n",
    "  chi2 <- sum(apply(data[,c(\"est\", \"lower\", \"upper\")], 1, function(x) {\n",
    "    if(x[\"est\"] > s1) {\n",
    "      (x[\"est\"] - s1)^2 / (((x[\"est\"] - x[\"lower\"])/2)^2 + (sig_mod)^2)    # MODIFIED\n",
    "    } else {\n",
    "      (x[\"est\"] - s1)^2 / (((x[\"est\"] - x[\"upper\"])/2)^2 + (sig_mod)^2)    # MODIFIED\n",
    "    }\n",
    "  }))\n",
    "  return(chi2)\n",
    "}\n",
    "\n",
    "\n",
    "################################################################################################################################\n",
    "synthesis_rev1 <- function(obs_in = NA, models_in, synth_type = \"abs\") {\n",
    "\n",
    "  if(is.na(unlist(obs_in))[1]) {\n",
    "    no_obs <- T\n",
    "    # create a dummy dataframe to avoid having to rewrite everything twice\n",
    "    obs_in <- data.frame(\"est\" = 0, \"lower\" = 0, \"upper\" = 0)\n",
    "    rownames(obs_in) <- \"dummy\"\n",
    "  } else {\n",
    "    no_obs <- F\n",
    "  }\n",
    "\n",
    "  # relabel the data for easier reference later\n",
    "  colnames(obs_in) <- colnames(models_in) <- c(\"est\", \"lower\", \"upper\")\n",
    "\n",
    "  if(!(\"model\" %in% colnames(obs_in))) obs_in$model <- rownames(obs_in)\n",
    "  if(!(\"model\" %in% colnames(models_in))) models_in$model <- rownames(models_in)\n",
    "\n",
    "  #~~~~~~~~~~~~~~~~~~~~~~~~~~~~~~~~~~~~~~~~~~~~~~~~~~~~~~~~~~~~~~~~~~~~~~~~~~~~~~~~~~~~~~\n",
    "\n",
    "  if(!synth_type %in% c(\"abs\", \"rel\", \"PR\")) {\n",
    "    cat(paste0(\"Synthesis type '\",synth_type,\"' not implemented - must be abs, rel or PR\"), \"\\n\")\n",
    "  }\n",
    "\n",
    "  if(synth_type == \"PR\") {\n",
    "    obs_in[,c(\"est\", \"lower\", \"upper\")] <- log(obs_in[,c(\"est\", \"lower\", \"upper\")])\n",
    "    models_in[,c(\"est\", \"lower\", \"upper\")] <- log(models_in[,c(\"est\", \"lower\", \"upper\")])\n",
    "  } else if(synth_type == \"rel\") {\n",
    "    obs_in[,c(\"est\", \"lower\", \"upper\")] <- log(1+obs_in[,c(\"est\", \"lower\", \"upper\")]/100)\n",
    "    models_in[,c(\"est\", \"lower\", \"upper\")] <- log(1+models_in[,c(\"est\", \"lower\", \"upper\")]/100)\n",
    "  }\n",
    "\n",
    "  #~~~~~~~~~~~~~~~~~~~~~~~~~~~~~~~~~~~~~~~~~~~~~~~~~~~~~~~~~~~~~~~~~~~~~~~~~~~~~~~~~~~~~~\n",
    "  # get mean of intervals to estimate natural variability component\n",
    "\n",
    "  # compute representation error from scatter of mean ($\\sigma_{rep}$ in the paper)\n",
    "  nobs = nrow(obs_in)\n",
    "  obs <- apply(obs_in[,c(\"est\", \"lower\", \"upper\"),drop = F], 2, mean)\n",
    "  if(nobs == 1) {\n",
    "    sig_obs = 0\n",
    "  } else {\n",
    "    s2 = sum((obs_in$est - obs[1])^2)\n",
    "    sig_obs = sqrt(s2/(nobs-1))\n",
    "  }\n",
    "\n",
    "  # add representation error to individual observations\n",
    "  obs_in$l_wb <- obs_in$est - sqrt((obs_in$est - obs_in$lower)**2 + (1.96*sig_obs)**2)\n",
    "  obs_in$u_wb <- obs_in$est + sqrt((obs_in$est - obs_in$upper)**2 + (1.96*sig_obs)**2)\n",
    "\n",
    "  # apply representation error to obs synthesis\n",
    "  # we're working with confidence intervals here, so we extend them by adding (1.96sig_obs)^2 in quadrature\n",
    "  obs[2] <- obs[1] - sqrt( (obs[1] - obs[2])**2 + (1.96*sig_obs)**2 )\n",
    "  obs[3] <- obs[1] + sqrt( (obs[1] - obs[3])**2 + (1.96*sig_obs)**2 )\n",
    "\n",
    "  #~~~~~~~~~~~~~~~~~~~~~~~~~~~~~~~~~~~~~~~~~~~~~~~~~~~~~~~~~~~~~~~~~~~~~~~~~~~~~~~~~~~~~~\n",
    "  # get initial estimate of model mean & calculate chi^2\n",
    "  chi2 <- getsynchi2_rev1(models_in, sig_mod = 0)\n",
    "  mdof <- nrow(models_in)-1\n",
    "\n",
    "  if ( chi2/mdof > 1 ) {\n",
    "    # find sig_mod such that chi^2/dof = 1\n",
    "    sig_mod <- optim(0, function(x) {(getsynchi2_rev1(models_in, sig_mod = x) - (nrow(models_in)-1))^2},\n",
    "                     method = \"Brent\", lower = 0, upper = 5)$par\n",
    "  } else {\n",
    "    sig_mod <- 0\n",
    "  }\n",
    "\n",
    "  # get weighted model mean\n",
    "  models <- getsynmean_rev1(models_in, sig_mod = sig_mod)\n",
    "\n",
    "  # add representation error to individual models\n",
    "  models_in$l_wb <- models_in$est - sqrt((models_in$est - models_in$lower)**2 + (1.96*sig_mod)**2)\n",
    "  models_in$u_wb <- models_in$est + sqrt((models_in$est - models_in$upper)**2 + (1.96*sig_mod)**2)\n",
    "\n",
    "  #~~~~~~~~~~~~~~~~~~~~~~~~~~~~~~~~~~~~~~~~~~~~~~~~~~~~~~~~~~~~~~~~~~~~~~~~~~~~~~~~~~~~~~\n",
    "  # weighted mean of models & obs (coloured bar)\n",
    "  w_obs <- unname((obs[\"upper\"] - obs[\"lower\"])^{-2})\n",
    "  w_mod <- unname((models[\"upper\"] - models[\"lower\"])^{-2})\n",
    "\n",
    "  wmean <- (w_obs * obs[\"est\"] + w_mod * models[\"est\"]) / (w_obs + w_mod)\n",
    "  synth <- setNames(c(wmean,\n",
    "                      wmean - sqrt( (w_obs*(obs[\"est\"]-obs[\"lower\"]))^2 + (w_mod*(models[\"est\"]-models[\"lower\"]))^2 )/(w_obs+w_mod),\n",
    "                      wmean + sqrt( (w_obs*(obs[\"est\"]-obs[\"upper\"]))^2 + (w_mod*(models[\"est\"]-models[\"upper\"]))^2 )/(w_obs+w_mod)),\n",
    "                    c(\"est\", \"lower\", \"upper\"))\n",
    "\n",
    "\n",
    "  # unweighted mean of obs and models\n",
    "  umean <- (obs[\"est\"] +  models[\"est\"]) / 2\n",
    "  synth[\"l_wb\"] <- umean - sqrt((obs[\"est\"]-obs[\"lower\"])^2 + (models[\"est\"]-models[\"lower\"])^2)/2\n",
    "  synth[\"u_wb\"] <- umean + sqrt((obs[\"est\"]-obs[\"upper\"])^2 + (models[\"est\"]-models[\"upper\"])^2)/2\n",
    "\n",
    "  #~~~~~~~~~~~~~~~~~~~~~~~~~~~~~~~~~~~~~~~~~~~~~~~~~~~~~~~~~~~~~~~~~~~~~~~~~~~~~~~~~~~~~~\n",
    "  # add group labels for easier plotting\n",
    "  obs_in <- cbind(obs_in, \"group\" = \"obs\")\n",
    "  obs <- data.frame(t(c(\"model\" = \"Observations\", \"group\" = \"obs_synth\", obs)))\n",
    "  models_in <- cbind(models_in, \"group\" = \"models\")\n",
    "  models <- data.frame(t(c(\"model\" = \"Models\", \"group\" = \"model_synth\", models)))\n",
    "  synth <- data.frame(t(c(\"model\" = \"Synthesis\", \"group\" = \"synth\", synth)))\n",
    "\n",
    "  # combine all the data together in one dataframe\n",
    "  res <- rbind.fill(obs_in, obs, models_in, models, synth)[,c(\"group\", \"model\", \"est\", \"lower\", \"upper\", \"l_wb\", \"u_wb\")]\n",
    "  for(cnm in c(\"est\", \"lower\", \"upper\", \"l_wb\", \"u_wb\")) { res[,cnm] <- as.numeric(res[,cnm]) }\n",
    "\n",
    "  # if only dummy obs, remove\n",
    "  if(no_obs) {\n",
    "    # drop all rows that don't relate to models\n",
    "    res <- res[grepl(\"model\", res$group),]\n",
    "    sig_obs <- NA\n",
    "  }\n",
    "\n",
    "  #~~~~~~~~~~~~~~~~~~~~~~~~~~~~~~~~~~~~~~~~~~~~~~~~~~~~~~~~~~~~~~~~~~~~~~~~~~~~~~~~~~~~~~\n",
    "  # reverse any transformations applied\n",
    "  if(synth_type == \"PR\") {\n",
    "    res[,c(\"est\", \"lower\", \"upper\", \"l_wb\", \"u_wb\")] <- exp(res[,c(\"est\", \"lower\", \"upper\", \"l_wb\", \"u_wb\")])\n",
    "    sig_obs <- exp(sig_obs)\n",
    "    sig_mod <- exp(sig_mod)\n",
    "    umean <- exp(umean)\n",
    "  } else if(synth_type == \"rel\") {\n",
    "    res[,c(\"est\", \"lower\", \"upper\", \"l_wb\", \"u_wb\")] <- 100*(exp(res[,c(\"est\", \"lower\", \"upper\", \"l_wb\", \"u_wb\")])-1)\n",
    "    sig_obs <- 100*(exp(sig_obs)-1)\n",
    "    sig_mod <- 100*(exp(sig_mod)-1)\n",
    "    umean <- 100*(exp(umean)-1)\n",
    "  }\n",
    "\n",
    "  return(list(synth_type = synth_type, sig_obs = sig_obs, \"chi2/dof\" = chi2 / mdof, df = res, uw_mean = umean))\n",
    "}"
   ]
  },
  {
   "cell_type": "code",
   "execution_count": 145,
   "metadata": {},
   "outputs": [],
   "source": [
    "fnm <- \"data/helene_potint_dI-abs.csv\"\n",
    "res <- read.csv(fnm, row.names = 2)\n",
    "obs = res[res$src == \"obs\",-1]\n",
    "models = res[res$src == \"models\",-1]\n",
    "\n",
    "stype <- switch(strsplit(gsub(\".csv\",\"\",fnm), \"_\")[[1]][3], \"PR\" = \"PR\", \"dI-abs\" = \"abs\", \"dI-rel\" = \"rel\")\n",
    "\n",
    "synth_vx = synthesis(obs, models, synth_type = stype)             # should match current Climate Explorer code\n",
    "synth_rev1 = synthesis_rev1(obs, models, synth_type = stype)             # should match current Climate Explorer code"
   ]
  },
  {
   "cell_type": "code",
   "execution_count": 146,
   "metadata": {},
   "outputs": [
    {
     "data": {
      "text/html": [
       "<dl>\n",
       "\t<dt>$synth_type</dt>\n",
       "\t\t<dd>'abs'</dd>\n",
       "\t<dt>$sig_obs</dt>\n",
       "\t\t<dd>0</dd>\n",
       "\t<dt>$`chi2/dof`</dt>\n",
       "\t\t<dd>5.76227977101413</dd>\n",
       "\t<dt>$df</dt>\n",
       "\t\t<dd><table class=\"dataframe\">\n",
       "<caption>A data.frame: 9 × 7</caption>\n",
       "<thead>\n",
       "\t<tr><th scope=col>group</th><th scope=col>model</th><th scope=col>est</th><th scope=col>lower</th><th scope=col>upper</th><th scope=col>l_wb</th><th scope=col>u_wb</th></tr>\n",
       "\t<tr><th scope=col>&lt;chr&gt;</th><th scope=col>&lt;chr&gt;</th><th scope=col>&lt;dbl&gt;</th><th scope=col>&lt;dbl&gt;</th><th scope=col>&lt;dbl&gt;</th><th scope=col>&lt;dbl&gt;</th><th scope=col>&lt;dbl&gt;</th></tr>\n",
       "</thead>\n",
       "<tbody>\n",
       "\t<tr><td>obs        </td><td>ERA5        </td><td>4.260000</td><td>0.810000</td><td>7.280000</td><td> 0.8100000</td><td>7.280000</td></tr>\n",
       "\t<tr><td>obs_synth  </td><td>Observations</td><td>4.260000</td><td>0.810000</td><td>7.280000</td><td>        NA</td><td>      NA</td></tr>\n",
       "\t<tr><td>models     </td><td>BCC-CSM2-MR </td><td>5.419148</td><td>3.823571</td><td>6.907285</td><td> 2.1521897</td><td>8.635000</td></tr>\n",
       "\t<tr><td>models     </td><td>CanESM5     </td><td>2.308114</td><td>1.190206</td><td>3.267051</td><td>-0.7540533</td><td>5.315889</td></tr>\n",
       "\t<tr><td>models     </td><td>CMCC-ESM2   </td><td>2.399358</td><td>1.529618</td><td>3.318917</td><td>-0.5811785</td><td>5.394811</td></tr>\n",
       "\t<tr><td>models     </td><td>NorESM2-LM  </td><td>5.635606</td><td>3.921809</td><td>7.212483</td><td> 2.3093092</td><td>8.893472</td></tr>\n",
       "\t<tr><td>models     </td><td>NorESM2-MM  </td><td>4.066910</td><td>1.933599</td><td>5.871118</td><td> 0.5062687</td><td>7.440679</td></tr>\n",
       "\t<tr><td>model_synth</td><td>Models      </td><td>3.670778</td><td>2.092219</td><td>5.230303</td><td>        NA</td><td>      NA</td></tr>\n",
       "\t<tr><td>synth      </td><td>Synthesis   </td><td>3.782992</td><td>2.346050</td><td>5.170346</td><td> 2.0683948</td><td>5.664839</td></tr>\n",
       "</tbody>\n",
       "</table>\n",
       "</dd>\n",
       "\t<dt>$uw_mean</dt>\n",
       "\t\t<dd><strong>est:</strong> 3.9653892475539</dd>\n",
       "</dl>\n"
      ],
      "text/latex": [
       "\\begin{description}\n",
       "\\item[\\$synth\\_type] 'abs'\n",
       "\\item[\\$sig\\_obs] 0\n",
       "\\item[\\$`chi2/dof`] 5.76227977101413\n",
       "\\item[\\$df] A data.frame: 9 × 7\n",
       "\\begin{tabular}{lllllll}\n",
       " group & model & est & lower & upper & l\\_wb & u\\_wb\\\\\n",
       " <chr> & <chr> & <dbl> & <dbl> & <dbl> & <dbl> & <dbl>\\\\\n",
       "\\hline\n",
       "\t obs         & ERA5         & 4.260000 & 0.810000 & 7.280000 &  0.8100000 & 7.280000\\\\\n",
       "\t obs\\_synth   & Observations & 4.260000 & 0.810000 & 7.280000 &         NA &       NA\\\\\n",
       "\t models      & BCC-CSM2-MR  & 5.419148 & 3.823571 & 6.907285 &  2.1521897 & 8.635000\\\\\n",
       "\t models      & CanESM5      & 2.308114 & 1.190206 & 3.267051 & -0.7540533 & 5.315889\\\\\n",
       "\t models      & CMCC-ESM2    & 2.399358 & 1.529618 & 3.318917 & -0.5811785 & 5.394811\\\\\n",
       "\t models      & NorESM2-LM   & 5.635606 & 3.921809 & 7.212483 &  2.3093092 & 8.893472\\\\\n",
       "\t models      & NorESM2-MM   & 4.066910 & 1.933599 & 5.871118 &  0.5062687 & 7.440679\\\\\n",
       "\t model\\_synth & Models       & 3.670778 & 2.092219 & 5.230303 &         NA &       NA\\\\\n",
       "\t synth       & Synthesis    & 3.782992 & 2.346050 & 5.170346 &  2.0683948 & 5.664839\\\\\n",
       "\\end{tabular}\n",
       "\n",
       "\\item[\\$uw\\_mean] \\textbf{est:} 3.9653892475539\n",
       "\\end{description}\n"
      ],
      "text/markdown": [
       "$synth_type\n",
       ":   'abs'\n",
       "$sig_obs\n",
       ":   0\n",
       "$`chi2/dof`\n",
       ":   5.76227977101413\n",
       "$df\n",
       ":   \n",
       "A data.frame: 9 × 7\n",
       "\n",
       "| group &lt;chr&gt; | model &lt;chr&gt; | est &lt;dbl&gt; | lower &lt;dbl&gt; | upper &lt;dbl&gt; | l_wb &lt;dbl&gt; | u_wb &lt;dbl&gt; |\n",
       "|---|---|---|---|---|---|---|\n",
       "| obs         | ERA5         | 4.260000 | 0.810000 | 7.280000 |  0.8100000 | 7.280000 |\n",
       "| obs_synth   | Observations | 4.260000 | 0.810000 | 7.280000 |         NA |       NA |\n",
       "| models      | BCC-CSM2-MR  | 5.419148 | 3.823571 | 6.907285 |  2.1521897 | 8.635000 |\n",
       "| models      | CanESM5      | 2.308114 | 1.190206 | 3.267051 | -0.7540533 | 5.315889 |\n",
       "| models      | CMCC-ESM2    | 2.399358 | 1.529618 | 3.318917 | -0.5811785 | 5.394811 |\n",
       "| models      | NorESM2-LM   | 5.635606 | 3.921809 | 7.212483 |  2.3093092 | 8.893472 |\n",
       "| models      | NorESM2-MM   | 4.066910 | 1.933599 | 5.871118 |  0.5062687 | 7.440679 |\n",
       "| model_synth | Models       | 3.670778 | 2.092219 | 5.230303 |         NA |       NA |\n",
       "| synth       | Synthesis    | 3.782992 | 2.346050 | 5.170346 |  2.0683948 | 5.664839 |\n",
       "\n",
       "\n",
       "$uw_mean\n",
       ":   **est:** 3.9653892475539\n",
       "\n",
       "\n"
      ],
      "text/plain": [
       "$synth_type\n",
       "[1] \"abs\"\n",
       "\n",
       "$sig_obs\n",
       "[1] 0\n",
       "\n",
       "$`chi2/dof`\n",
       "[1] 5.76228\n",
       "\n",
       "$df\n",
       "        group        model      est    lower    upper       l_wb     u_wb\n",
       "1         obs         ERA5 4.260000 0.810000 7.280000  0.8100000 7.280000\n",
       "2   obs_synth Observations 4.260000 0.810000 7.280000         NA       NA\n",
       "3      models  BCC-CSM2-MR 5.419148 3.823571 6.907285  2.1521897 8.635000\n",
       "4      models      CanESM5 2.308114 1.190206 3.267051 -0.7540533 5.315889\n",
       "5      models    CMCC-ESM2 2.399358 1.529618 3.318917 -0.5811785 5.394811\n",
       "6      models   NorESM2-LM 5.635606 3.921809 7.212483  2.3093092 8.893472\n",
       "7      models   NorESM2-MM 4.066910 1.933599 5.871118  0.5062687 7.440679\n",
       "8 model_synth       Models 3.670778 2.092219 5.230303         NA       NA\n",
       "9       synth    Synthesis 3.782992 2.346050 5.170346  2.0683948 5.664839\n",
       "\n",
       "$uw_mean\n",
       "     est \n",
       "3.965389 \n"
      ]
     },
     "metadata": {},
     "output_type": "display_data"
    }
   ],
   "source": [
    "# modified getsynchi2 to remove scaling by factor of 4 - chi2/dof is same but white boxes are slightly different\n",
    "synth_rev1"
   ]
  },
  {
   "cell_type": "code",
   "execution_count": 147,
   "metadata": {},
   "outputs": [],
   "source": [
    "# # Generated by synthesis version synthesis\n",
    "# # synthesis update 2021-12-15\n",
    "# # Change in intensity, past-present, RX1day, Earth, 2 yr\n",
    "# # model chi2/dof =      5.762    \n",
    "# # model uncertainty (2&sigma;)     2.89    \n",
    "#  1900 2024    4.26       0.810        7.28       0.810        7.28      2 \"ERA5 \"\n",
    "#  1900 2024    5.42        3.82        6.91        2.12        8.67      3 \"BCC-CSM2-MR (1) \"\n",
    "#  1900 2024    2.31        1.19        3.27      -0.786        5.35      3 \"CanESM5 (1) \"\n",
    "#  1900 2024    2.40        1.53        3.32      -0.614        5.43      3 \"CMCC-ESM2 (1) \"\n",
    "#  1900 2024    5.64        3.92        7.21        2.28        8.92      3 \"NorESM2-LM (1) \"\n",
    "#  1900 2024    4.07        1.93        5.87       0.479        7.47      3 \"NorESM2-MM (1) \"\n",
    "#  1900 2024    3.86       0.898        6.80       0.898        6.80      4 \"models \"\n",
    "#  1900 2024    4.04        1.79        6.15        1.79        6.17      5 \"synthesis \""
   ]
  },
  {
   "cell_type": "code",
   "execution_count": 148,
   "metadata": {},
   "outputs": [
    {
     "data": {
      "text/html": [
       "0.49"
      ],
      "text/latex": [
       "0.49"
      ],
      "text/markdown": [
       "0.49"
      ],
      "text/plain": [
       "[1] 0.49"
      ]
     },
     "metadata": {},
     "output_type": "display_data"
    }
   ],
   "source": [
    ".7**2"
   ]
  },
  {
   "cell_type": "code",
   "execution_count": 149,
   "metadata": {},
   "outputs": [
    {
     "data": {
      "text/html": [
       "1.44"
      ],
      "text/latex": [
       "1.44"
      ],
      "text/markdown": [
       "1.44"
      ],
      "text/plain": [
       "[1] 1.44"
      ]
     },
     "metadata": {},
     "output_type": "display_data"
    }
   ],
   "source": [
    "1.2^2"
   ]
  },
  {
   "cell_type": "code",
   "execution_count": 150,
   "metadata": {},
   "outputs": [
    {
     "data": {
      "text/html": [
       "1.93"
      ],
      "text/latex": [
       "1.93"
      ],
      "text/markdown": [
       "1.93"
      ],
      "text/plain": [
       "[1] 1.93"
      ]
     },
     "metadata": {},
     "output_type": "display_data"
    }
   ],
   "source": [
    ".49+1.44"
   ]
  },
  {
   "cell_type": "code",
   "execution_count": 151,
   "metadata": {},
   "outputs": [
    {
     "data": {
      "text/html": [
       "1.38924439894498"
      ],
      "text/latex": [
       "1.38924439894498"
      ],
      "text/markdown": [
       "1.38924439894498"
      ],
      "text/plain": [
       "[1] 1.389244"
      ]
     },
     "metadata": {},
     "output_type": "display_data"
    }
   ],
   "source": [
    "sqrt(1.93)"
   ]
  },
  {
   "cell_type": "code",
   "execution_count": 152,
   "metadata": {},
   "outputs": [
    {
     "data": {
      "text/html": [
       "1.42857142857143"
      ],
      "text/latex": [
       "1.42857142857143"
      ],
      "text/markdown": [
       "1.42857142857143"
      ],
      "text/plain": [
       "[1] 1.428571"
      ]
     },
     "metadata": {},
     "output_type": "display_data"
    }
   ],
   "source": [
    "1/.7"
   ]
  },
  {
   "cell_type": "code",
   "execution_count": 153,
   "metadata": {},
   "outputs": [],
   "source": [
    "sig_obs = 0.7\n",
    "sig_mod = 1.2\n",
    "\n",
    "w_obs = 1/sig_obs^2\n",
    "w_mod = 1/sig_mod^2"
   ]
  },
  {
   "cell_type": "code",
   "execution_count": 154,
   "metadata": {},
   "outputs": [
    {
     "data": {
      "text/html": [
       "0.731191709844559"
      ],
      "text/latex": [
       "0.731191709844559"
      ],
      "text/markdown": [
       "0.731191709844559"
      ],
      "text/plain": [
       "[1] 0.7311917"
      ]
     },
     "metadata": {},
     "output_type": "display_data"
    },
    {
     "data": {
      "text/html": [
       "0.731191709844559"
      ],
      "text/latex": [
       "0.731191709844559"
      ],
      "text/markdown": [
       "0.731191709844559"
      ],
      "text/plain": [
       "[1] 0.7311917"
      ]
     },
     "metadata": {},
     "output_type": "display_data"
    }
   ],
   "source": [
    "# theoretical synthesised variance\n",
    "sig2_synth <- ((w_obs * sig_obs^2) + (w_mod * sig_mod^2)) / (w_obs + w_mod)\n",
    "sig2_synth\n",
    "\n",
    "# check against simplified version\n",
    "2 / (w_obs + w_mod)"
   ]
  },
  {
   "cell_type": "code",
   "execution_count": 155,
   "metadata": {},
   "outputs": [
    {
     "data": {
      "text/html": [
       "1.67599107173602"
      ],
      "text/latex": [
       "1.67599107173602"
      ],
      "text/markdown": [
       "1.67599107173602"
      ],
      "text/plain": [
       "[1] 1.675991"
      ]
     },
     "metadata": {},
     "output_type": "display_data"
    }
   ],
   "source": [
    "# expected interval width\n",
    "1.96*sqrt(2/(w_obs + w_mod))"
   ]
  },
  {
   "cell_type": "code",
   "execution_count": 156,
   "metadata": {},
   "outputs": [],
   "source": [
    "# use interval widths to estimate sigma\n",
    "mu_obs <- 0\n",
    "qu_obs <- mu_obs + qnorm(.975, mu_obs, sig_obs)\n",
    "sighat_obs <- (qu_obs - mu_obs) / 1.96\n",
    "\n",
    "mu_mod <- 0\n",
    "qu_mod <- mu_mod + qnorm(.975, mu_mod, sig_mod)\n",
    "sighat_mod <- (qu_mod - mu_mod) / 1.96"
   ]
  },
  {
   "cell_type": "code",
   "execution_count": 157,
   "metadata": {},
   "outputs": [
    {
     "data": {
      "text/html": [
       "0.731164838452937"
      ],
      "text/latex": [
       "0.731164838452937"
      ],
      "text/markdown": [
       "0.731164838452937"
      ],
      "text/plain": [
       "[1] 0.7311648"
      ]
     },
     "metadata": {},
     "output_type": "display_data"
    }
   ],
   "source": [
    "# estimate the overall variance\n",
    "(w_obs * sighat_obs^2 + w_mod * sighat_mod^2) / (w_obs + w_mod)"
   ]
  },
  {
   "cell_type": "code",
   "execution_count": 158,
   "metadata": {},
   "outputs": [
    {
     "data": {
      "text/html": [
       "1.67596027500678"
      ],
      "text/latex": [
       "1.67596027500678"
      ],
      "text/markdown": [
       "1.67596027500678"
      ],
      "text/plain": [
       "[1] 1.67596"
      ]
     },
     "metadata": {},
     "output_type": "display_data"
    }
   ],
   "source": [
    "# estimate the interval width\n",
    "1.96 * sqrt((w_obs * sighat_obs^2 + w_mod * sighat_mod^2) / (w_obs + w_mod))"
   ]
  },
  {
   "cell_type": "code",
   "execution_count": 159,
   "metadata": {},
   "outputs": [
    {
     "data": {
      "text/html": [
       "1.92539450503007"
      ],
      "text/latex": [
       "1.92539450503007"
      ],
      "text/markdown": [
       "1.92539450503007"
      ],
      "text/plain": [
       "[1] 1.925395"
      ]
     },
     "metadata": {},
     "output_type": "display_data"
    }
   ],
   "source": [
    "# unweighted variance\n",
    "uvar <- ((.5 * sig_obs^2) + (.5 * sig_mod^2))\n",
    "\n",
    "# interval from unweighted variance\n",
    "1.96*sqrt(uvar)"
   ]
  },
  {
   "cell_type": "code",
   "execution_count": 160,
   "metadata": {},
   "outputs": [
    {
     "data": {
      "text/html": [
       "1.92535912545422"
      ],
      "text/latex": [
       "1.92535912545422"
      ],
      "text/markdown": [
       "1.92535912545422"
      ],
      "text/plain": [
       "[1] 1.925359"
      ]
     },
     "metadata": {},
     "output_type": "display_data"
    }
   ],
   "source": [
    "# unweighted interval\n",
    "1.96 * sqrt((0.5 * sighat_obs^2 + 0.5 * sighat_mod^2) / (0.5 + 0.5))"
   ]
  },
  {
   "cell_type": "markdown",
   "metadata": {},
   "source": [
    "---\n",
    "The weighted variance is \n",
    "\n",
    "$\\begin{align}\n",
    "\\sigma^2_{synth} = \\frac{w_{obs}\\hat{\\sigma}_{obs}^2 + w_{mod}\\hat{\\sigma}_{mod}^2}{w_{obs} + w_{mod}}\n",
    "\\end{align}$\n",
    "\n",
    "where for the upper interval, the SD is estimated as\n",
    "$\\begin{align}\n",
    "\\hat{\\sigma}_{obs} = \\left(q_{obs}^{(u)} - \\mu_{obs}\\right) / 1.96.\n",
    "\\end{align}$\n",
    "\n",
    "The weighted variance based on the upper bound is therefore\n",
    "\n",
    "$\\begin{align}\n",
    "\\hat{\\sigma}_{synth}^2\n",
    "= \\frac{w_{obs}\\left(\\frac{q_{obs}^{(u)} - \\mu_{obs}}{1.96}\\right)^2 + w_{mod}\\left(\\frac{q_{mod}^{(u)} - \\mu_{mod}}{1.96}\\right)^2}{w_{obs} + w_{mod}}\n",
    "= \\frac{w_{obs}\\left(q_{obs}^{(u)} - \\mu_{obs}\\right)^2 + w_{mod}\\left(q_{mod}^{(u)} - \\mu_{mod}\\right)^2}{1.96^2\\left(w_{obs} + w_{mod}\\right)}\n",
    "\\end{align}$\n",
    "\n",
    "and the width of the upper part of the associated 95% confidence interval is\n",
    "\n",
    "$\\begin{align}\n",
    "q^{(u)}_{synth} = 1.96\\sqrt{\\hat{\\sigma}_{synth}^2}\n",
    "= 1.96\\sqrt{\\frac{w_{obs}\\left(q_{obs}^{(u)} - \\mu_{obs}\\right)^2 + w_{mod}\\left(q_{mod}^{(u)} - \\mu_{mod}\\right)^2}{1.96^2\\left(w_{obs} + w_{mod}\\right)}}\n",
    "= \\sqrt{\\frac{w_{obs}\\left(q_{obs}^{(u)} - \\mu_{obs}\\right)^2 + w_{mod}\\left(q_{mod}^{(u)} - \\mu_{mod}\\right)^2}{w_{obs} + w_{mod}}}\n",
    "\\end{align}$"
   ]
  },
  {
   "cell_type": "code",
   "execution_count": 161,
   "metadata": {},
   "outputs": [],
   "source": [
    "sigu_obs <- 0.8; sigl_obs <- 0.8; mu_obs <- 0\n",
    "sigu_mod <- 0.8; sigl_mod <- 0.8; mu_mod <- 0"
   ]
  },
  {
   "cell_type": "code",
   "execution_count": 162,
   "metadata": {},
   "outputs": [],
   "source": [
    "# get the interval bounds (the quantities we would actually be working with)\n",
    "ql_obs <- qnorm(0.025, mu_obs, sigl_obs)\n",
    "qu_obs <- qnorm(0.975, mu_obs, sigu_obs)\n",
    "\n",
    "ql_mod <- qnorm(0.025, mu_mod, sigl_mod)\n",
    "qu_mod <- qnorm(0.975, mu_mod, sigu_mod)\n",
    "\n",
    "# compute weights (based on total interval width, even when asymmetric)\n",
    "w_obs <- ((qu_obs - ql_obs) / 3.92)^2\n",
    "w_mod <- ((qu_mod - ql_mod) / 3.92)^2"
   ]
  },
  {
   "cell_type": "code",
   "execution_count": 163,
   "metadata": {},
   "outputs": [],
   "source": [
    "# get the weighted bounds\n",
    "qu_synth <- sqrt((w_obs * (qu_obs - mu_obs)^2 + w_mod * (qu_obs - mu_obs)^2) / (w_obs + w_mod))\n",
    "ql_synth <- sqrt((w_obs * (ql_obs - mu_obs)^2 + w_mod * (ql_obs - mu_obs)^2) / (w_obs + w_mod))"
   ]
  },
  {
   "cell_type": "code",
   "execution_count": 164,
   "metadata": {},
   "outputs": [
    {
     "data": {
      "text/html": [
       "0.639976479915723"
      ],
      "text/latex": [
       "0.639976479915723"
      ],
      "text/markdown": [
       "0.639976479915723"
      ],
      "text/plain": [
       "[1] 0.6399765"
      ]
     },
     "metadata": {},
     "output_type": "display_data"
    }
   ],
   "source": [
    "w_obs"
   ]
  },
  {
   "cell_type": "code",
   "execution_count": null,
   "metadata": {},
   "outputs": [],
   "source": []
  }
 ],
 "metadata": {
  "kernelspec": {
   "display_name": "R [conda env:r_env]",
   "language": "R",
   "name": "conda-env-r_env-r"
  },
  "language_info": {
   "codemirror_mode": "r",
   "file_extension": ".r",
   "mimetype": "text/x-r-source",
   "name": "R",
   "pygments_lexer": "r",
   "version": "4.2.2"
  }
 },
 "nbformat": 4,
 "nbformat_minor": 2
}
