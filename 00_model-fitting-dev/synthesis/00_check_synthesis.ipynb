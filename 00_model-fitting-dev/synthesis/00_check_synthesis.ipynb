{
 "cells": [
  {
   "cell_type": "code",
   "execution_count": 14,
   "id": "f0bb4494-35d6-460a-9388-192d67c9e8d3",
   "metadata": {},
   "outputs": [],
   "source": [
    "prep_window <- function(rc = c(1,1), w = 4, h = 4, ...) { options(repr.plot.width = rc[2]*w, repr.plot.height = rc[1]*h, repr.plot.res = 200); par(mfrow = rc, pch = 20, ...) }\n",
    "\n",
    "gcols = c(\"obs\" = adjustcolor(\"blue\", 0.5),\n",
    "          \"obs_synth\" = \"blue\",\n",
    "          \"models\" = adjustcolor(\"red\", 0.5),\n",
    "          \"model_synth\" = \"red\",\n",
    "          \"synth\" = \"magenta\")"
   ]
  },
  {
   "cell_type": "markdown",
   "id": "4f94fcf7-7bff-4fe8-8dc1-87e9112fd25b",
   "metadata": {},
   "source": [
    "## Load data"
   ]
  },
  {
   "cell_type": "code",
   "execution_count": 29,
   "id": "d309380e-67bf-4b0a-b6c5-777d1bef75fc",
   "metadata": {},
   "outputs": [],
   "source": [
    "fnm <- \"minisynth\"\n",
    "\n",
    "# load data\n",
    "df_in = read.csv(paste0(fnm,\"_in.txt\"), comment.char = \"#\", header = F, sep = \" \")\n",
    "colnames(df_in) <- c(\"y0\", \"y1\", \"est\", \"lower\", \"upper\", \"ci\", \"model\", \"m2\", \"m3\")\n",
    "obs_in = df_in[1:3,]\n",
    "models_in = df_in[4:nrow(df_in),]\n",
    "\n",
    "# also load synthesis produced by Climate Explorer for comparison\n",
    "df_out <- read.fwf(paste0(fnm,\"_out.txt\"), comment.char = \"#\", header = F, widths = c(5,5,12,12,12,12,13,2,99))\n",
    "df_out <- df_out[!is.na(df_out$V8),]\n",
    "colnames(df_out) <- c(\"y0\", \"y1\", \"est\", \"lower\", \"upper\", \"l_wb\", \"u_wb\", \"group\", \"model\")\n",
    "\n",
    "obs_out <- df_out[df_out$group == 1,]\n",
    "obs_synth <- df_out[df_out$group == 2,]\n",
    "models_out <- df_out[df_out$group == 3,]\n",
    "models_synth <- df_out[df_out$group == 4,]\n",
    "overall_synth <- df_out[df_out$group == 5,]\n",
    "\n",
    "nobs <- nrow(obs_in)\n",
    "nmod <- nrow(models_in)\n",
    "\n",
    "rep_unc <- 0.681\n",
    "chi2_dof <- switch(fnm, \"synthesis\" = 11.85, \"minisynth\" = 44.28)         \n",
    "mdl_unc <- switch(fnm, \"synthesis\" = 2.09, \"minisynth\" = 3.97)"
   ]
  },
  {
   "cell_type": "markdown",
   "id": "566f3008-90a6-4ba2-a643-818b24159609",
   "metadata": {},
   "source": [
    "## Mean & uncertainties of observations"
   ]
  },
  {
   "cell_type": "markdown",
   "id": "b1783bd0-ebda-4e82-9882-16741bfdb416",
   "metadata": {
    "tags": []
   },
   "source": [
    "Original Fortran code:\n",
    "```fortran\n",
    "!   compute mean & uncertainties of observations\n",
    "!\n",
    "    if ( nobs > 0 ) then\n",
    "!       natural variability: assume 100% correlated\n",
    "        do j=1,3\n",
    "            s1 = 0\n",
    "            do i=1,nobs\n",
    "                s1 = s1 + data(j,i)\n",
    "            end do\n",
    "            obs(j) = s1/nobs\n",
    "        end do\n",
    "\n",
    "!       representation error from scatter of mean\n",
    "        if ( nobs > 1 .and. lweighted ) then\n",
    "            s2 = 0\n",
    "            do i=1,nobs\n",
    "                s2 = s2 + (data(1,i)-obs(1))**2\n",
    "            end do\n",
    "            sig_obs = 2*sqrt(s2/(nobs-1)) ! added factor 2; sig_obs now 2*std to represent 2sigma\n",
    "            obs(2) = obs(1) - sqrt( (obs(1)-obs(2))**2 + sig_obs**2 ) \n",
    "            obs(3) = obs(1) + sqrt( (obs(3)-obs(1))**2 + sig_obs**2 )\n",
    "        else\n",
    "            sig_obs = 0 ! cannot estimate it from one point...\n",
    "        end if\n",
    "        do i=1,nobs\n",
    "            data(4,i) = data(1,i) - sqrt( (data(1,i)-data(2,i))**2 + sig_obs**2 )\n",
    "            data(5,i) = data(1,i) + sqrt( (data(3,i)-data(1,i))**2 + sig_obs**2 )\n",
    "        end do\n",
    "        obs(4) = obs(2)\n",
    "        obs(5) = obs(3)\n",
    "        if ( lwrite ) print *,'found combined observational estimate ',obs\n",
    "        if ( sig_obs > 0 ) then\n",
    "            if ( llog ) then\n",
    "                print '(a,g12.3)','# representation uncertainty (2&sigma;) factor ',exp(sig_obs)\n",
    "            else if ( lperc ) then\n",
    "                print '(a,g12.3,a)','# representation uncertainty (2&sigma;) ',100*(-1+exp(sig_obs)),'%'\n",
    "            else\n",
    "                print '(a,g12.3)','# representation uncertainty (2&sigma;) ',sig_obs\n",
    "            end if\n",
    "        end if\n",
    "    end if\n",
    "```"
   ]
  },
  {
   "cell_type": "markdown",
   "id": "03c31dc6-e749-4ff7-abc2-39244e856f41",
   "metadata": {
    "tags": []
   },
   "source": [
    "Suppose that the measure derived from the $i$th observation (out of a total of $n$ observational datasets) is normally distributed with mean $\\mu_i$ and variance $\\sigma_i^2$. Then we have\n",
    "\\begin{align}\n",
    "\\bar{\\mu} &= \\frac{1}{n}\\sum_i \\mu_i  && \\text{Overall best estimate}\n",
    "\\\\\n",
    "\\sigma^2_{nat} &= \\frac{1}{n}\\sum_i \\sigma_i  && \\text{Natural variability}\n",
    "\\\\\n",
    "\\sigma^2_{obs} &= \\frac{\\sum_i \\left(\\mu_i - \\bar{\\mu}\\right)^2}{n-1} && \\text{Spread of best estimates - representation error}\n",
    "\\\\\n",
    "\\sigma^2_{tot} &= \\sigma^2_{nat} + \\sigma_{obs}^2 && \\text{Synthesised spread of all observations, including representation error}\n",
    "\\end{align}\n",
    "\n",
    "&nbsp;\n",
    "\n",
    "In practice, we work with confidence bounds ($\\omega$, say) rather than with standard deviations, so that the $i$th dataset has best estimate $\\mu_i$ and confidence bound $\\omega_i$. Then we have\n",
    "\\begin{align}\n",
    "\\omega_{nat} &= \\frac{1}{n}\\sum_i \\omega_i  && \\text{Natural variability} \n",
    "\\\\\n",
    "\\omega_{tot} &= \\bar{\\mu} \\pm \\sqrt{\\left(\\omega_{nat} - \\bar{\\mu}\\right)^2 + \\sigma_{obs}^2} && \\text{Total uncertainty, including representation error}\n",
    "\\\\\n",
    "\\omega_i &= \\mu_i \\pm \\sqrt{\\left(\\omega_{i} - \\mu_i\\right)^2 + \\sigma_{obs}^2} && \\text{Total uncertainty for observational dataset $i$}\n",
    "\\end{align}\n",
    "&nbsp;"
   ]
  },
  {
   "cell_type": "code",
   "execution_count": 31,
   "id": "ba2073bb-9035-42f7-9014-5bb248a8cd05",
   "metadata": {},
   "outputs": [],
   "source": [
    "# get mean of intervals to estimate natural variability component\n",
    "obs = apply(obs_in[,c(\"est\", \"lower\", \"upper\")], 2, mean)\n",
    "\n",
    "# compute representation error from scatter of mean\n",
    "nobs = nrow(obs_in)\n",
    "s2 = sum((obs_in$est - obs[1])^2)\n",
    "sig_obs = 2*sqrt(s2/(nobs-1))            # add 2 SDs to either side - representation uncertainty\n",
    "\n",
    "# apply representation error to obs synthesis\n",
    "obs[2] <- obs[1] - sqrt( (obs[1] - obs[2])**2 + sig_obs**2 )\n",
    "obs[3] <- obs[1] + sqrt( (obs[1] - obs[3])**2 + sig_obs**2 )\n",
    "\n",
    "# add representation error to observations\n",
    "obs_in$l_wb <- obs_in$est - sqrt((obs_in$est - obs_in$lower)**2 + sig_obs**2)\n",
    "obs_in$u_wb <- obs_in$est + sqrt((obs_in$est - obs_in$upper)**2 + sig_obs**2)"
   ]
  },
  {
   "cell_type": "markdown",
   "id": "a69b0c74-65c6-49ee-9367-96e2f4dfe8c8",
   "metadata": {},
   "source": [
    "### No changes required to Fortran for observations\n",
    "_(unless we want to use 1.96sd instead of 2sd)_"
   ]
  },
  {
   "cell_type": "code",
   "execution_count": 48,
   "id": "8582b552-2c88-4996-8cb2-1415a6450852",
   "metadata": {},
   "outputs": [
    {
     "data": {
      "image/png": "[encoded data removed]",
      "text/plain": [
       "Plot with title “Calculated in R”"
      ]
     },
     "metadata": {
      "image/png": {
       "height": 300,
       "width": 800
      }
     },
     "output_type": "display_data"
    }
   ],
   "source": [
    "yy = 0:nobs\n",
    "\n",
    "prep_window(c(1,2), h = 3, mar = c(3,7,3,1))\n",
    "\n",
    "#~~~~~~~~~~~~~~~~~~~~~~~~~~~~~~~~~~~~~~~~~~~~~~~~~~~~~~~~~~~~~~~~~~~~~~~~~~~~~~~~~~~~~~~~~~~~~~~~~~~~~~~~\n",
    "\n",
    "plot(0, type = \"n\", xlim = range(obs_in[,c(\"l_wb\", \"u_wb\")]), ylim = range(yy) + 0.5*c(-1,1), \n",
    "     xlab = \"\", ylab = \"\", yaxt = \"n\", main = \"From climate explorer\")\n",
    "\n",
    "segments(y0 = 1:nobs, x0 = obs_out$l_wb, x1 = obs_out$u_wb, lwd = 10, col = \"black\", lend = 2)\n",
    "segments(y0 = 1:nobs, x0 = obs_out$l_wb, x1 = obs_out$u_wb, lwd = 8, col = \"white\", lend = 2)\n",
    "segments(y0 = 1:nobs, x0 = obs_out$lower, x1 = obs_out$upper, lwd = 8, col = gcols[\"obs\"], lend = 1)\n",
    "points(obs_out$est, 1:nobs, pch = 21, bg = gcols[\"obs\"], lwd = 2)\n",
    "\n",
    "segments(y0 = 0, x0 = obs[\"lower\"], x1 = obs[\"upper\"], lwd = 10, col = gcols[\"obs_synth\"], lend = 2)\n",
    "points(obs[\"est\"], 0, pch = 21, bg = gcols[\"obs_synth\"], lwd = 2)\n",
    "\n",
    "\n",
    "axis(2, at = yy, labels = c(\"Observations\", obs_out$model), las = 1)    \n",
    "\n",
    "#~~~~~~~~~~~~~~~~~~~~~~~~~~~~~~~~~~~~~~~~~~~~~~~~~~~~~~~~~~~~~~~~~~~~~~~~~~~~~~~~~~~~~~~~~~~~~~~~~~~~~~~~\n",
    "\n",
    "plot(0, type = \"n\", xlim = range(obs_in[,c(\"l_wb\", \"u_wb\")]), ylim = range(yy) + 0.5*c(-1,1), \n",
    "     xlab = \"\", ylab = \"\", yaxt = \"n\", main = \"Calculated in R\")\n",
    "\n",
    "segments(y0 = 1:nobs, x0 = obs_in$l_wb, x1 = obs_in$u_wb, lwd = 10, col = \"black\", lend = 2)\n",
    "segments(y0 = 1:nobs, x0 = obs_in$l_wb, x1 = obs_in$u_wb, lwd = 8, col = \"white\", lend = 2)\n",
    "segments(y0 = 1:nobs, x0 = obs_in$lower, x1 = obs_in$upper, lwd = 8, col = gcols[\"obs\"], lend = 1)\n",
    "points(obs_in$est, 1:nobs, pch = 21, bg = gcols[\"obs\"], lwd = 2)\n",
    "\n",
    "segments(y0 = 0, x0 = obs_synth$l_wb, x1 = obs_synth$u_wb, lwd = 10, col = gcols[\"obs_synth\"], lend = 2)\n",
    "points(obs_synth[\"est\"], 0, pch = 21, bg = gcols[\"obs_synth\"], lwd = 2)\n",
    "\n",
    "axis(2, at = yy, labels = c(\"Observations\", obs_in$model), las = 1)"
   ]
  },
  {
   "cell_type": "markdown",
   "id": "449679e4-64d0-45e6-a8ba-4315256047c4",
   "metadata": {},
   "source": [
    "## Mean & uncertainties of models"
   ]
  },
  {
   "cell_type": "markdown",
   "id": "a9f423ec-b7a3-4a9a-ba75-c79583426abb",
   "metadata": {},
   "source": [
    "Original Fortran code:\n",
    "```fortran\n",
    "\n",
    "!   compute mean & uncertainties of models\n",
    "!\n",
    "    call getsynmean(lweighted,data,n,nobs,sig_mod)\n",
    "    if ( lwrite ) print *,'first guess of model mean is ',data(:,n+1)\n",
    "    call getsynchi2(data,n,nobs,sig_mod,chi2)\n",
    "    if ( lweighted ) then\n",
    "        print '(a,g14.4)','# model chi2/dof = ',chi2/(n-nobs-1)\n",
    "    end if\n",
    "    if ( lweighted .and. .not.lnoave .and. chi2/(n-nobs-1) > 1 .and. sig_mod < 0 ) then\n",
    "        ! compute sig_mod to make chi2/dof = 1\n",
    "        syn_n = n ! copy to common as I am a F77 programmer and do not feel comfortable with f90 global variables\n",
    "        syn_nobs = nobs\n",
    "        syn_data(:,1:n) = data(:,1:n)\n",
    "        s1 = 0\n",
    "        s2 = data(3,n+1) - data(2,n+1)\n",
    "        if ( syn_func(s1) <= 0 ) then\n",
    "            write(0,*) 'synthesis: internal error: syn_func(0) should be > 0, not ',syn_func(s1)\n",
    "            call exit(-1)\n",
    "        end if\n",
    "        s = syn_func(s2)\n",
    "        do while ( s2 < 1e10 )\n",
    "            s2 = 2*s2\n",
    "            if ( s2 > 1e10 ) then\n",
    "                write(0,*) 'synthesis: error: cannot find zero: ',s2\n",
    "                call exit(-1)\n",
    "            end if\n",
    "            s = syn_func(s2)\n",
    "            if ( s < 0 ) exit\n",
    "        end do\n",
    "        if ( lwrite ) print *,'bracketed sig_mod by ',s1,s2,', calling Brent'\n",
    "        sig_mod = zbrent(syn_func,s1,s2,1e-4)\n",
    "        !!!write(names(n)(len_trim(names(n))+1:),'(a,f4.2)') ' added ',sig_mod\n",
    "        ! copy results back\n",
    "        mod(1:3) = syn_data(1:3,n+1)\n",
    "    else\n",
    "        sig_mod = 0\n",
    "        mod(1:3) = data(1:3,n+1)\n",
    "    end if\n",
    "    mod(4) = mod(2)\n",
    "    mod(5) = mod(3)\n",
    "    do i=nobs+1,n\n",
    "        data(4,i) = data(1,i) - sqrt( (data(1,i)-data(2,i))**2 + sig_mod**2 )     !CB! CORRECTION NEEDED - SHOULD BE (2*sig_mod)**2\n",
    "        data(5,i) = data(1,i) + sqrt( (data(3,i)-data(1,i))**2 + sig_mod**2 )\n",
    "    end do\n",
    "    if ( lwrite ) print *,'found combined model estimate ',mod\n",
    "```\n"
   ]
  },
  {
   "cell_type": "markdown",
   "id": "25070bfd-5d9d-4ab5-8746-55657af2f4bf",
   "metadata": {
    "tags": []
   },
   "source": [
    "Subroutines:\n",
    "```fortran\n",
    "subroutine getsynmean(lweighted,data,n,nobs,sig_mod)\n",
    "!\n",
    "!   compute the mean of model data, either weighted with model error or unweighted\n",
    "!   n is the number of input points, ..(n) denotes the average.\n",
    "!\n",
    "    implicit none\n",
    "    logical,intent(in) :: lweighted\n",
    "    integer,intent(in) :: n,nobs\n",
    "    real,intent(in) :: sig_mod\n",
    "    real,intent(inout) :: data(5,n+1)\n",
    "    integer :: i,j\n",
    "    real s1,ss2(3),w,w1\n",
    "!\n",
    "    s1 = 0\n",
    "    ss2 = 0\n",
    "    w1 = 0\n",
    "    do i=nobs+1,n\n",
    "        if ( lweighted ) then\n",
    "            if ( abs(data(3,i) - data(2,i)) < 1e-6 ) then\n",
    "                write(0,*) 'synthesis: error: upper and lower bound are equal: ',i,data(2,i),data(3,i)\n",
    "                call exit(-1)\n",
    "            end if\n",
    "            if ( sig_mod > 0 ) then\n",
    "                w = 1/((data(3,i) - data(2,i))**2 + (2*sig_mod)**2) ! factor 2 for sig_mod transforms from 2sigma to 4sigma      !CB! Ideally these weights would be inverse variances, not interval widths\n",
    "            else\n",
    "                w = 1/(data(3,i) - data(2,i))**2\n",
    "            end if\n",
    "        else\n",
    "            w = 1\n",
    "        end if\n",
    "        w1 = w1 + w\n",
    "        s1 = s1 + w*data(1,i)\n",
    "        do j=2,3\n",
    "            ss2(j) = ss2(j) + (w*(data(1,i)-data(j,i)))**2\n",
    "        end do\n",
    "    end do\n",
    "    s1 = s1/w1\n",
    "    do j=2,3\n",
    "        ss2(j) = sqrt(ss2(j))/w1\n",
    "        if ( sig_mod > 0 ) then\n",
    "            ss2(j) = sqrt(ss2(j)**2 + sig_mod**2)     !CB! CORRECTION NEEDED - SHOULD BE (2*sig_mod)^2\n",
    "        end if\n",
    "    end do\n",
    "    data(1,n+1) = s1\n",
    "    data(2,n+1) = s1 - ss2(2)\n",
    "    data(3,n+1) = s1 + ss2(3)\n",
    "end subroutine getsynmean\n",
    "\n",
    "subroutine getsynchi2(data,n,nobs,sig_mod,chi2)\n",
    "!\n",
    "!   compute chi2\n",
    "!\n",
    "    implicit none\n",
    "    integer,intent(in) :: n,nobs\n",
    "    real,intent(in) :: data(5,n+1)\n",
    "    real,intent(out) :: sig_mod,chi2\n",
    "    integer :: i\n",
    "    real :: s1\n",
    "\n",
    "    chi2 = 0\n",
    "    s1 = data(1,n+1)\n",
    "    do i=nobs+1,n\n",
    "        if ( sig_mod > 0 ) then\n",
    "            if ( data(1,i) > s1 ) then\n",
    "                chi2 = chi2 + (data(1,i)-s1)**2/((data(1,i)-data(2,i))**2 + sig_mod**2)     !CB! CORRECTION NEEDED (FORM TBD)\n",
    "            else\n",
    "                chi2 = chi2 + (s1-data(1,i))**2/((data(3,i)-data(1,i))**2 + sig_mod**2)\n",
    "            end if\n",
    "        else\n",
    "            if ( data(1,i) > s1 ) then\n",
    "                chi2 = chi2 + ((data(1,i)-s1)/(data(1,i)-data(2,i)))**2\n",
    "            else\n",
    "                chi2 = chi2 + ((s1-data(1,i))/(data(3,i)-data(1,i)))**2\n",
    "            end if\n",
    "        end if\n",
    "    end do\n",
    "    chi2 = chi2*4 ! transformed to use 95%~2sigma CIs                                       !CB! REMEMBER TO REMOVE WHEN FIXING CHI^2 CALCULATION\n",
    "end subroutine getsynchi2\n",
    "```"
   ]
  },
  {
   "cell_type": "markdown",
   "id": "35fa18a3-f35c-4e77-a756-9a859b8de0a3",
   "metadata": {},
   "source": [
    "### Replicate climate explorer output\n",
    "\n",
    "Original functions, no changes made"
   ]
  },
  {
   "cell_type": "code",
   "execution_count": 152,
   "id": "1213887d-246b-43f9-98e5-c25ca4246712",
   "metadata": {},
   "outputs": [],
   "source": [
    "getsynmean <- function(data, sig_mod = -1) {    \n",
    "    \n",
    "    # calculate weight for each model (based on width of confidence interval)\n",
    "    if ( sig_mod > 0 ) {\n",
    "        w = 1/((data$upper - data$lower)^2 + (2*sig_mod)^2) # factor 2 for sig_mod transforms from 2sigma to 4sigma\n",
    "    } else {\n",
    "        w = 1/(data$upper - data$lower)^2\n",
    "    }\n",
    "    w1 = sum(w)\n",
    "\n",
    "    # weighted sum of squares & bounds\n",
    "    s1 <- sum(w*data$est) / w1\n",
    "    ss2 <- apply(data[,c(\"est\", \"lower\", \"upper\")], 2, function(b) sum((w*(data$est - b))^2))\n",
    "    ss2 <- sqrt(ss2) / w1\n",
    "                 \n",
    "    if (sig_mod > 0) { ss2 <- sqrt(ss2^2 + sig_mod^2) }\n",
    "    \n",
    "    return(s1 + (ss2 * c(0,-1,1)))\n",
    "}"
   ]
  },
  {
   "cell_type": "code",
   "execution_count": 153,
   "id": "73dade6d-d812-4e46-9a7f-88175244ba16",
   "metadata": {},
   "outputs": [],
   "source": [
    "getsynchi2 <- function(data, sig_mod) {\n",
    "    \n",
    "    # get best estimate of weighted mean\n",
    "    s1 <- getsynmean(data, sig_mod)[\"est\"]\n",
    "    \n",
    "    # determine adjustment to sigma, if any\n",
    "    if(sig_mod < 0) {sig_adj = 0} else {sig_adj = sig_mod}\n",
    "    \n",
    "    # compute chi2 based on model intervals & sigma adjustment\n",
    "    chi2 <- sum(apply(data[,c(\"est\", \"lower\", \"upper\")], 1, function(x) {\n",
    "        if(x[\"est\"] > s1) {\n",
    "            (x[\"est\"] - s1)^2 / ((x[\"est\"] - x[\"lower\"])^2 + sig_adj^2)\n",
    "        } else {\n",
    "            (x[\"est\"] - s1)^2 / ((x[\"est\"] - x[\"upper\"])^2 + sig_adj^2)\n",
    "        }\n",
    "    }))\n",
    "    chi2 = chi2 * 4 # transform to give 95%~2sigma CIs\n",
    "    return(chi2)\n",
    "}"
   ]
  },
  {
   "cell_type": "code",
   "execution_count": 154,
   "id": "12c77900-6508-4856-a99d-fa3b08fe92fd",
   "metadata": {},
   "outputs": [],
   "source": [
    "modelsynth <- function(models_in) {\n",
    "    \n",
    "    # get initial estimate of model mean & calculate chi^2\n",
    "    mmean_1 <- getsynmean(models_in, sig_mod = 0)\n",
    "    chi2 <- getsynchi2(models_in, sig_mod = 0)\n",
    "    mdof <- nrow(models_in)-1\n",
    "    \n",
    "    # estimate sig_mod such that chi^2/dof = 1\n",
    "    sigmod <- optim(0, function(x) {(getsynchi2(models_in, sig_mod = x) - (nrow(models_in)-1))^2}, method = \"Brent\", lower = 0, upper = 5)$par\n",
    "    \n",
    "    # weighted model mean\n",
    "    models <- getsynmean(models_in, sig_mod = sigmod)\n",
    "    \n",
    "    # add representation error to individual models\n",
    "    models_in$l_wb <- models_in$est - sqrt((models_in$est - models_in$lower)**2 + sigmod**2)\n",
    "    models_in$u_wb <- models_in$est + sqrt((models_in$est - models_in$upper)**2 + sigmod**2)\n",
    "    \n",
    "    return(list(models = models_in, models_synth = models, chi2dof = chi2/mdof, sigmod = sigmod))\n",
    "}"
   ]
  },
  {
   "cell_type": "markdown",
   "id": "0addbcbd-6d33-4a76-8a09-4231cd2f8145",
   "metadata": {},
   "source": [
    "### Correct interval widths in model weighting\n",
    "\n",
    "- add factor of 2 to sigmod when estimating upper & lower bounds"
   ]
  },
  {
   "cell_type": "code",
   "execution_count": 155,
   "id": "c72b76e2-10b0-4d1a-91a0-3aada98acbb6",
   "metadata": {},
   "outputs": [],
   "source": [
    "getsynmean_fixwidth <- function(data, sig_mod = 0) {    \n",
    "    \n",
    "    # calculate weight for each model (based on width of confidence interval)\n",
    "    if ( sig_mod > 0 ) {\n",
    "        w = 1/((data$upper - data$lower)^2 + (2*sig_mod)^2) # factor 2 for sig_mod transforms from 2sigma to 4sigma\n",
    "    } else {\n",
    "        w = 1/(data$upper - data$lower)^2\n",
    "    }\n",
    "    w1 = sum(w)\n",
    "\n",
    "    # weighted sum of squares & bounds\n",
    "    s1 <- sum(w*data$est) / w1\n",
    "    ss2 <- apply(data[,c(\"est\", \"lower\", \"upper\")], 2, function(b) sum((w*(data$est - b))^2))\n",
    "    ss2 <- sqrt(ss2) / w1\n",
    "                 \n",
    "    if (sig_mod > 0) { ss2 <- sqrt(ss2^2 + (2*sig_mod)^2) }  ## CORRECTION - THIS SHOULD BE (2*sig_mod)^2\n",
    "    \n",
    "    return(s1 + (ss2 * c(0,-1,1)))\n",
    "}"
   ]
  },
  {
   "cell_type": "code",
   "execution_count": 156,
   "id": "a12d376c-1b4b-44d7-a440-00e5e4559198",
   "metadata": {},
   "outputs": [],
   "source": [
    "modelsynth_fixwidth <- function(models_in) {\n",
    "    \n",
    "    # get initial estimate of model mean & calculate chi^2\n",
    "    mmean_1 <- getsynmean_fixwidth(models_in, sig_mod = 0)\n",
    "    chi2 <- getsynchi2(models_in, sig_mod = 0)\n",
    "    mdof <- nrow(models_in)-1\n",
    "    \n",
    "    # estimate sig_mod such that chi^2/dof = 1\n",
    "    sigmod <- optim(0, function(x) {(getsynchi2(models_in, sig_mod = x) - (nrow(models_in)-1))^2}, method = \"Brent\", lower = 0, upper = 5)$par\n",
    "    \n",
    "    # weighted model mean\n",
    "    models <- getsynmean_fixwidth(models_in, sig_mod = sigmod)\n",
    "    \n",
    "    # add representation error to observations\n",
    "    models_in$l_wb <- models_in$est - sqrt((models_in$est - models_in$lower)**2 + sigmod**2)\n",
    "    models_in$u_wb <- models_in$est + sqrt((models_in$est - models_in$upper)**2 + sigmod**2)\n",
    "    \n",
    "    return(list(models = models_in, models_synth = models, chi2dof = chi2/mdof, sigmod = sigmod))\n",
    "}"
   ]
  },
  {
   "cell_type": "markdown",
   "id": "7ebfb02c-0f16-4efc-9217-0b44ed95f1a2",
   "metadata": {},
   "source": [
    "### $\\chi^2$ is missing factor of 2 to convert sigmod to interval\n",
    "\n",
    "- don't recommend doing this one - better to use variances and so replicated the intended equation"
   ]
  },
  {
   "cell_type": "code",
   "execution_count": 161,
   "id": "f3563277-d175-473c-ad36-8d2210223129",
   "metadata": {},
   "outputs": [],
   "source": [
    "getsynchi2_fixchi2interval <- function(data, sig_mod) {\n",
    "    \n",
    "    # get best estimate of weighted mean\n",
    "    s1 <- getsynmean(data, sig_mod)[\"est\"]\n",
    "    \n",
    "    # determine adjustment to sigma, if any\n",
    "    if(sig_mod < 0) {sig_adj = 0} else {sig_adj = sig_mod}\n",
    "    \n",
    "    # compute chi2 based on model intervals & sigma adjustment\n",
    "    chi2 <- sum(apply(data[,c(\"est\", \"lower\", \"upper\")], 1, function(x) {\n",
    "        if(x[\"est\"] > s1) {\n",
    "            (x[\"est\"] - s1)^2 / ((x[\"est\"] - x[\"lower\"])^2 + (2*sig_adj)^2)\n",
    "        } else {\n",
    "            (x[\"est\"] - s1)^2 / ((x[\"est\"] - x[\"upper\"])^2 + (2*sig_adj)^2)\n",
    "        }\n",
    "    }))\n",
    "    chi2 = chi2 * 4 # transform to give 95%~2sigma CIs\n",
    "    return(chi2)\n",
    "}"
   ]
  },
  {
   "cell_type": "code",
   "execution_count": 162,
   "id": "a9ca8779-fc99-4e8e-a542-e810fd92362d",
   "metadata": {},
   "outputs": [],
   "source": [
    "modelsynth_fixchi2interval <- function(models_in) {\n",
    "    \n",
    "    # get initial estimate of model mean & calculate chi^2\n",
    "    mmean_1 <- getsynmean(models_in, sig_mod = 0)\n",
    "    chi2 <- getsynchi2_fixchi2interval(models_in, sig_mod = 0)\n",
    "    mdof <- nrow(models_in)-1\n",
    "    \n",
    "    # estimate sig_mod such that chi^2/dof = 1\n",
    "    sigmod <- optim(0, function(x) {(getsynchi2_fixchi2interval(models_in, sig_mod = x) - (nrow(models_in)-1))^2}, method = \"Brent\", lower = 0, upper = 5)$par\n",
    "    \n",
    "    # weighted model mean\n",
    "    models <- getsynmean(models_in, sig_mod = sigmod)\n",
    "    \n",
    "    # add representation error to individual models\n",
    "    models_in$l_wb <- models_in$est - sqrt((models_in$est - models_in$lower)**2 + sigmod**2)\n",
    "    models_in$u_wb <- models_in$est + sqrt((models_in$est - models_in$upper)**2 + sigmod**2)\n",
    "    \n",
    "    return(list(models = models_in, models_synth = models, chi2dof = chi2/mdof, sigmod = sigmod))\n",
    "}"
   ]
  },
  {
   "cell_type": "markdown",
   "id": "d5cc4e7c-7c08-4e1b-8d8f-67b4c7ded06e",
   "metadata": {},
   "source": [
    "### $\\chi^2$ should use variances, not intervals\n",
    "- my preferred approach to estimating $chi^2$, since it means this is a ratio of two variances, rather than a variance and an interval as it currently is"
   ]
  },
  {
   "cell_type": "code",
   "execution_count": 175,
   "id": "15d00380-0289-408c-8a12-1092e81a9b52",
   "metadata": {},
   "outputs": [],
   "source": [
    "getsynchi2_usevariances <- function(data, sig_mod) {\n",
    "    \n",
    "    # get best estimate of weighted mean\n",
    "    s1 <- getsynmean(data, sig_mod)[\"est\"]\n",
    "       \n",
    "    # # compute chi2 based on model intervals & sigma adjustment\n",
    "    # chi2 <- sum(apply(data[,c(\"est\", \"lower\", \"upper\")], 1, function(x) {\n",
    "    #     if(x[\"est\"] > s1) {\n",
    "    #         (x[\"est\"] - s1)^2 / ((x[\"est\"] - x[\"lower\"])^2 + sig_mod^2)\n",
    "    #     } else {\n",
    "    #         (x[\"est\"] - s1)^2 / ((x[\"est\"] - x[\"upper\"])^2 + sig_mod^2)\n",
    "    #     }\n",
    "    # }))\n",
    "    # chi2 = chi2 * 4 # transform to give 95%~2sigma CIs \n",
    "    \n",
    "    # compute chi2 based on variances rather than intervals & sigma adjustment\n",
    "    chi2 <- sum(apply(data[,c(\"est\", \"lower\", \"upper\")], 1, function(x) {\n",
    "        if(x[\"est\"] > s1) {\n",
    "            (x[\"est\"] - s1)^2 / (((x[\"est\"] - x[\"lower\"])/1.96)^2 + sig_mod^2)\n",
    "        } else {\n",
    "            (x[\"est\"] - s1)^2 / (((x[\"est\"] - x[\"upper\"])/1.96)^2 + sig_mod^2)\n",
    "        }\n",
    "    }))\n",
    "    # no longer necessary to inflate by 4\n",
    "    return(chi2)\n",
    "}"
   ]
  },
  {
   "cell_type": "code",
   "execution_count": 164,
   "id": "fb1fe3b1-3ef5-4796-9679-29179499d590",
   "metadata": {},
   "outputs": [],
   "source": [
    "modelsynth_usevariances <- function(models_in) {\n",
    "    \n",
    "    # get initial estimate of model mean & calculate chi^2\n",
    "    mmean_1 <- getsynmean(models_in, sig_mod = 0)\n",
    "    chi2 <- getsynchi2_usevariances(models_in, sig_mod = 0)\n",
    "    mdof <- nrow(models_in)-1\n",
    "    \n",
    "    # estimate sig_mod such that chi^2/dof = 1\n",
    "    sigmod <- optim(0, function(x) {(getsynchi2_usevariances(models_in, sig_mod = x) - (nrow(models_in)-1))^2}, method = \"Brent\", lower = 0, upper = 5)$par\n",
    "    \n",
    "    # weighted model mean\n",
    "    models <- getsynmean(models_in, sig_mod = sigmod)\n",
    "    \n",
    "    # add representation error to observations\n",
    "    models_in$l_wb <- models_in$est - sqrt((models_in$est - models_in$lower)**2 + sigmod**2)\n",
    "    models_in$u_wb <- models_in$est + sqrt((models_in$est - models_in$upper)**2 + sigmod**2)\n",
    "    \n",
    "    return(list(models = models_in, models_synth = models, chi2dof = chi2/mdof, sigmod = sigmod))\n",
    "}"
   ]
  },
  {
   "cell_type": "markdown",
   "id": "bc0bf69d-860e-41d9-89e8-4619f9450b05",
   "metadata": {},
   "source": [
    "### Necessary modifications"
   ]
  },
  {
   "cell_type": "code",
   "execution_count": 219,
   "id": "bf144c29-c100-46de-9581-532d5e1b837c",
   "metadata": {},
   "outputs": [],
   "source": [
    "getsynmean_necessary <- function(data, sig_mod = -1) {    \n",
    "    \n",
    "    # calculate weight for each model (based on width of confidence interval)\n",
    "    if ( sig_mod > 0 ) {\n",
    "        w = 1/((data$upper - data$lower)^2 + (2*sig_mod)^2) # factor 2 for sig_mod transforms from 2sigma to 4sigma\n",
    "    } else {\n",
    "        w = 1/(data$upper - data$lower)^2\n",
    "    }\n",
    "    w1 = sum(w)\n",
    "\n",
    "    # weighted sum of squares & bounds\n",
    "    s1 <- sum(w*data$est) / w1\n",
    "    ss2 <- apply(data[,c(\"est\", \"lower\", \"upper\")], 2, function(b) sum((w*(data$est - b))^2))\n",
    "    ss2 <- sqrt(ss2) / w1\n",
    "                 \n",
    "    if (sig_mod > 0) { ss2 <- sqrt(ss2^2 + (2*sig_mod)^2) }\n",
    "    \n",
    "    return(s1 + (ss2 * c(0,-1,1)))\n",
    "}"
   ]
  },
  {
   "cell_type": "code",
   "execution_count": 220,
   "id": "a3cf6e86-086b-4d44-a0a4-5b89d66dcf08",
   "metadata": {},
   "outputs": [],
   "source": [
    "getsynchi2_necessary <- function(data, sig_mod) {\n",
    "    \n",
    "    # get best estimate of weighted mean\n",
    "    s1 <- getsynmean_necessary(data, sig_mod)[\"est\"]\n",
    "       \n",
    "    # # compute chi2 based on model intervals & sigma adjustment\n",
    "    # chi2 <- sum(apply(data[,c(\"est\", \"lower\", \"upper\")], 1, function(x) {\n",
    "    #     if(x[\"est\"] > s1) {\n",
    "    #         (x[\"est\"] - s1)^2 / ((x[\"est\"] - x[\"lower\"])^2 + sig_mod^2)\n",
    "    #     } else {\n",
    "    #         (x[\"est\"] - s1)^2 / ((x[\"est\"] - x[\"upper\"])^2 + sig_mod^2)\n",
    "    #     }\n",
    "    # }))\n",
    "    # chi2 = chi2 * 4 # transform to give 95%~2sigma CIs \n",
    "    \n",
    "    # compute chi2 based on variances rather than intervals & sigma adjustment\n",
    "    chi2 <- sum(apply(data[,c(\"est\", \"lower\", \"upper\")], 1, function(x) {\n",
    "        if(x[\"est\"] > s1) {\n",
    "            (x[\"est\"] - s1)^2 / (((x[\"est\"] - x[\"lower\"])/1.96)^2 + sig_mod^2)\n",
    "        } else {\n",
    "            (x[\"est\"] - s1)^2 / (((x[\"est\"] - x[\"upper\"])/1.96)^2 + sig_mod^2)\n",
    "        }\n",
    "    }))\n",
    "    # no longer necessary to inflate by 4\n",
    "    return(chi2)\n",
    "}"
   ]
  },
  {
   "cell_type": "code",
   "execution_count": 221,
   "id": "32363ecd-ab82-4d14-8ecf-441f16dcb46f",
   "metadata": {},
   "outputs": [],
   "source": [
    "modelsynth_necessary <- function(models_in) {\n",
    "    \n",
    "    # get initial estimate of model mean & calculate chi^2\n",
    "    mmean_1 <- getsynmean_necessary(models_in, sig_mod = 0)\n",
    "    chi2 <- getsynchi2_necessary(models_in, sig_mod = 0)\n",
    "    mdof <- nrow(models_in)-1\n",
    "    \n",
    "    # estimate sig_mod such that chi^2/dof = 1\n",
    "    sigmod <- optim(0, function(x) {(getsynchi2_necessary(models_in, sig_mod = x) - (nrow(models_in)-1))^2}, method = \"Brent\", lower = 0, upper = 5)$par\n",
    "    \n",
    "    # weighted model mean\n",
    "    models <- getsynmean_necessary(models_in, sig_mod = sigmod)\n",
    "    \n",
    "    # add representation error to individual models\n",
    "    models_in$l_wb <- models_in$est - sqrt((models_in$est - models_in$lower)**2 + sigmod**2)\n",
    "    models_in$u_wb <- models_in$est + sqrt((models_in$est - models_in$upper)**2 + sigmod**2)\n",
    "    \n",
    "    return(list(models = models_in, models_synth = models, chi2dof = chi2/mdof, sigmod = sigmod))\n",
    "}"
   ]
  },
  {
   "cell_type": "markdown",
   "id": "894e43f2-9ee7-47b2-af14-7e337097e53a",
   "metadata": {},
   "source": [
    "### Query: use optimum weighting instead of interval weighting?"
   ]
  },
  {
   "cell_type": "code",
   "execution_count": 242,
   "id": "4f7c0ca5-4b28-4117-89bc-3f329a1d817d",
   "metadata": {},
   "outputs": [],
   "source": [
    "getsynmean_optweights <- function(data, sig_mod = 0) {    \n",
    "    \n",
    "    # # calculate weight for each model (based on width of confidence interval)\n",
    "    # if ( sig_mod > 0 ) {\n",
    "    #     w = 1/((data$upper - data$lower)^2 + (2*sig_mod)^2) # factor 2 for sig_mod transforms from 2sigma to 4sigma\n",
    "    # } else {\n",
    "    #     w = 1/(data$upper - data$lower)^2\n",
    "    # }\n",
    "    # calculate weight for each model (based on inverse variances)\n",
    "    if ( sig_mod > 0 ) {\n",
    "        w = 1/(((data$upper - data$lower)/(2*1.96))^2 + sig_mod^2)\n",
    "    } else {\n",
    "        w = 1/((data$upper - data$lower)/(2*1.96))^2\n",
    "    }\n",
    "    w1 = sum(w)\n",
    "\n",
    "    # weighted sum of squares & bounds\n",
    "    s1 <- sum(w*data$est) / w1\n",
    "    ss2 <- apply(data[,c(\"est\", \"lower\", \"upper\")], 2, function(b) sum((w*(data$est - b))^2))\n",
    "    ss2 <- sqrt(ss2) / w1\n",
    "                 \n",
    "    if (sig_mod > 0) { ss2 <- sqrt(ss2^2 + sig_mod^2) }\n",
    "    \n",
    "    return(s1 + (ss2 * c(0,-1,1)))\n",
    "}"
   ]
  },
  {
   "cell_type": "code",
   "execution_count": 223,
   "id": "5943744f-40c1-4de1-a9da-04d53e5db84b",
   "metadata": {},
   "outputs": [],
   "source": [
    "modelsynth_optweights <- function(models_in) {\n",
    "    \n",
    "    # get initial estimate of model mean & calculate chi^2\n",
    "    mmean_1 <- getsynmean_optweights(models_in, sig_mod = 0)\n",
    "    chi2 <- getsynchi2(models_in, sig_mod = 0)\n",
    "    mdof <- nrow(models_in)-1\n",
    "    \n",
    "    # estimate sig_mod such that chi^2/dof = 1\n",
    "    sigmod <- optim(0, function(x) {(getsynchi2(models_in, sig_mod = x) - (nrow(models_in)-1))^2}, method = \"Brent\", lower = 0, upper = 5)$par\n",
    "    \n",
    "    # weighted model mean\n",
    "    models <- getsynmean_optweights(models_in, sig_mod = sigmod)\n",
    "    \n",
    "    # add representation error to individual models\n",
    "    models_in$l_wb <- models_in$est - sqrt((models_in$est - models_in$lower)**2 + sigmod**2)\n",
    "    models_in$u_wb <- models_in$est + sqrt((models_in$est - models_in$upper)**2 + sigmod**2)\n",
    "    \n",
    "    return(list(models = models_in, models_synth = models, chi2dof = chi2/mdof, sigmod = sigmod))\n",
    "}"
   ]
  },
  {
   "cell_type": "markdown",
   "id": "1242755e-c11f-4abe-b143-ee8bd4afd62b",
   "metadata": {},
   "source": [
    "### Suggested corrections\n",
    "- add factor of 2 to sigmod when estimating upper & lower bounds\n",
    "- calculate $\\chi^2$ based on ratio of variances, rather than ratio of variance to interval\n",
    "- model weights based on inverse variances, rather than inverse confidence intervals"
   ]
  },
  {
   "cell_type": "code",
   "execution_count": 224,
   "id": "b404ef61-7701-4c8d-bb69-f9a7397b0a92",
   "metadata": {},
   "outputs": [],
   "source": [
    "getsynmean_suggested <- function(data, sig_mod = 0) {    \n",
    "    \n",
    "    # calculate weight for each model (based on inverse variances)\n",
    "    if ( sig_mod > 0 ) {\n",
    "        w = 1/(((data$upper - data$lower)/(1.96*2))^2 + sig_mod^2)\n",
    "    } else {\n",
    "        w = 1/((data$upper - data$lower)/(1.96*2))^2\n",
    "    }\n",
    "    w1 = sum(w)\n",
    "\n",
    "    # weighted sum of squares & bounds\n",
    "    s1 <- sum(w*data$est) / w1\n",
    "    ss2 <- apply(data[,c(\"est\", \"lower\", \"upper\")], 2, function(b) sum((w*(data$est - b))^2))\n",
    "    ss2 <- sqrt(ss2) / w1\n",
    "                     \n",
    "    if (sig_mod > 0) { ss2 <- sqrt(ss2^2 + (2*sig_mod)^2) }  ## CORRECTION - THIS SHOULD BE (2*sig_mod)^2\n",
    "    \n",
    "    return(s1 + (ss2 * c(0,-1,1)))\n",
    "}"
   ]
  },
  {
   "cell_type": "code",
   "execution_count": 225,
   "id": "bc696d00-dbd6-416a-9248-27e8c4f7a45e",
   "metadata": {},
   "outputs": [],
   "source": [
    "getsynchi2_suggested <- function(data, sig_mod) {\n",
    "    \n",
    "    # get best estimate of weighted mean\n",
    "    s1 <- getsynmean_suggested(data, sig_mod)[\"est\"]\n",
    "    \n",
    "    # determine adjustment to sigma, if any\n",
    "    if(sig_mod < 0) {sig_adj = 0} else {sig_adj = sig_mod}\n",
    "    \n",
    "    # compute chi2 based on variances rather than intervals & sigma adjustment\n",
    "    chi2 <- sum(apply(data[,c(\"est\", \"lower\", \"upper\")], 1, function(x) {\n",
    "        if(x[\"est\"] > s1) {\n",
    "            (x[\"est\"] - s1)^2 / (((x[\"est\"] - x[\"lower\"])/1.96)^2 + sig_mod^2)\n",
    "        } else {\n",
    "            (x[\"est\"] - s1)^2 / (((x[\"est\"] - x[\"upper\"])/1.96)^2 + sig_mod^2)\n",
    "        }\n",
    "    }))\n",
    "    return(chi2)\n",
    "}"
   ]
  },
  {
   "cell_type": "code",
   "execution_count": 244,
   "id": "95c2da30-2fc6-494f-a529-d31a7cdc7955",
   "metadata": {},
   "outputs": [],
   "source": [
    "modelsynth_suggested <- function(models_in) {\n",
    "    \n",
    "    # get initial estimate of model mean & calculate chi^2\n",
    "    mmean_1 <- getsynmean_suggested(models_in, sig_mod = 0)\n",
    "    chi2 <- getsynchi2_suggested(models_in, sig_mod = 0)\n",
    "    mdof <- nrow(models_in)-1\n",
    "    \n",
    "    # estimate sig_mod such that chi^2/dof = 1\n",
    "    sigmod <- optim(0, function(x) {(getsynchi2_suggested(models_in, sig_mod = x) - (nrow(models_in)-1))^2}, method = \"Brent\", lower = 0, upper = 5)$par\n",
    "    \n",
    "    # weighted model mean\n",
    "    models <- getsynmean_suggested(models_in, sig_mod = sigmod)\n",
    "    \n",
    "    # add representation error to individual models\n",
    "    models_in$l_wb <- models_in$est - sqrt((models_in$est - models_in$lower)**2 + (2*sigmod)**2)     ## ALSO NEED TO CORRECT THIS TO ADD (2*sigmod)^2\n",
    "    models_in$u_wb <- models_in$est + sqrt((models_in$est - models_in$upper)**2 + (2*sigmod)**2)     ## ALSO NEED TO CORRECT THIS TO ADD (2*sigmod)^2\n",
    "    \n",
    "    return(list(models = models_in, models_synth = models, chi2dof = chi2/mdof, sigmod = sigmod))\n",
    "}"
   ]
  },
  {
   "cell_type": "markdown",
   "id": "e8b1622c-77ca-41dc-bae3-7affb9dc7767",
   "metadata": {},
   "source": [
    "### Compare results\n",
    "- most important thing is to fix the weighting interval in `getsynmean`, which is currently underestimated by $2\\sigma_{obs}^2$\n",
    "- also need to fix chi^2 interval somehow - both approaches produce similar results but suggest converting to variance, removes need for 'fudge factor'\n",
    "- using optimal model weights has very little effect in this example - but does also change the best estiate"
   ]
  },
  {
   "cell_type": "code",
   "execution_count": 245,
   "id": "12d2886d-7cc5-4907-9789-bc6a47a719b3",
   "metadata": {},
   "outputs": [],
   "source": [
    "models_climexp <- modelsynth(models_in)                           # standard method, no adjustments to ClimExp code\n",
    "models_fixwidth <- modelsynth_fixwidth(models_in)                 # necessary: correct interval widths in model weighting\n",
    "\n",
    "models_fixchi2interval <- modelsynth_fixchi2interval(models_in)   # not recommended to fix chi^2 interval: add factor of 2 in chi^2 but don't use variances\n",
    "models_usevariances <- modelsynth_usevariances(models_in)         # necessary in some form to fix chi^2 interval: correct interval widths in model weighting\n",
    "\n",
    "models_necessary <- modelsynth_necessary(models_in)               # both necessary changes: fix interval used in synmean weighting and in chi^2 calculation\n",
    "\n",
    "models_optweights <- modelsynth_optweights(models_in)             # suggested: use variances to weight models instead of interval widths\n",
    "models_suggested <- modelsynth_suggested(models_in)               # suggested: use variances to weight models instead of interval widths, use variances for chi^2, and fix interval used in synmean weighting"
   ]
  },
  {
   "cell_type": "code",
   "execution_count": 246,
   "id": "b971b87c-8789-4874-9651-d041cd077678",
   "metadata": {},
   "outputs": [
    {
     "data": {
      "text/html": [
       "<table class=\"dataframe\">\n",
       "<caption>A matrix: 3 × 7 of type dbl</caption>\n",
       "<thead>\n",
       "\t<tr><th></th><th scope=col>Suggested</th><th scope=col>Optimal weights</th><th scope=col>Necessary changes</th><th scope=col>Use variances in chi2</th><th scope=col>Adjust chi2 interval</th><th scope=col>Fix weight interval</th><th scope=col>ClimExp</th></tr>\n",
       "</thead>\n",
       "<tbody>\n",
       "\t<tr><th scope=row>est</th><td>-1.644204</td><td>-1.650799</td><td>-1.620930</td><td>-1.6209295</td><td>-1.6209591</td><td>-1.644555</td><td>-1.644555</td></tr>\n",
       "\t<tr><th scope=row>lower</th><td>-5.626199</td><td>-5.634807</td><td>-5.603085</td><td>-3.6294479</td><td>-3.6304530</td><td>-9.594621</td><td>-5.628508</td></tr>\n",
       "\t<tr><th scope=row>upper</th><td> 2.338718</td><td> 2.334136</td><td> 2.362146</td><td> 0.3894124</td><td> 0.3903574</td><td> 6.305975</td><td> 2.340323</td></tr>\n",
       "</tbody>\n",
       "</table>\n"
      ],
      "text/latex": [
       "A matrix: 3 × 7 of type dbl\n",
       "\\begin{tabular}{r|lllllll}\n",
       "  & Suggested & Optimal weights & Necessary changes & Use variances in chi2 & Adjust chi2 interval & Fix weight interval & ClimExp\\\\\n",
       "\\hline\n",
       "\test & -1.644204 & -1.650799 & -1.620930 & -1.6209295 & -1.6209591 & -1.644555 & -1.644555\\\\\n",
       "\tlower & -5.626199 & -5.634807 & -5.603085 & -3.6294479 & -3.6304530 & -9.594621 & -5.628508\\\\\n",
       "\tupper &  2.338718 &  2.334136 &  2.362146 &  0.3894124 &  0.3903574 &  6.305975 &  2.340323\\\\\n",
       "\\end{tabular}\n"
      ],
      "text/markdown": [
       "\n",
       "A matrix: 3 × 7 of type dbl\n",
       "\n",
       "| <!--/--> | Suggested | Optimal weights | Necessary changes | Use variances in chi2 | Adjust chi2 interval | Fix weight interval | ClimExp |\n",
       "|---|---|---|---|---|---|---|---|\n",
       "| est | -1.644204 | -1.650799 | -1.620930 | -1.6209295 | -1.6209591 | -1.644555 | -1.644555 |\n",
       "| lower | -5.626199 | -5.634807 | -5.603085 | -3.6294479 | -3.6304530 | -9.594621 | -5.628508 |\n",
       "| upper |  2.338718 |  2.334136 |  2.362146 |  0.3894124 |  0.3903574 |  6.305975 |  2.340323 |\n",
       "\n"
      ],
      "text/plain": [
       "      Suggested Optimal weights Necessary changes Use variances in chi2\n",
       "est   -1.644204 -1.650799       -1.620930         -1.6209295           \n",
       "lower -5.626199 -5.634807       -5.603085         -3.6294479           \n",
       "upper  2.338718  2.334136        2.362146          0.3894124           \n",
       "      Adjust chi2 interval Fix weight interval ClimExp  \n",
       "est   -1.6209591           -1.644555           -1.644555\n",
       "lower -3.6304530           -9.594621           -5.628508\n",
       "upper  0.3903574            6.305975            2.340323"
      ]
     },
     "metadata": {},
     "output_type": "display_data"
    }
   ],
   "source": [
    "models_synth <- sapply(rev(list(\"ClimExp\" = models_climexp, \"Fix weight interval\" = models_fixwidth, \"Adjust chi2 interval\" = models_fixchi2interval,\n",
    "                                \"Use variances in chi2\" = models_usevariances, \"Necessary changes\" = models_necessary,\n",
    "                                \"Optimal weights\" = models_optweights, \"Suggested\" = models_suggested)), \"[[\", \"models_synth\")\n",
    "models_synth"
   ]
  },
  {
   "cell_type": "code",
   "execution_count": 247,
   "id": "5de48e47-3d8a-4f29-b0f0-47d28c6ce886",
   "metadata": {},
   "outputs": [
    {
     "data": {
      "image/png": "[encoded data removed]",
      "text/plain": [
       "plot without title"
      ]
     },
     "metadata": {
      "image/png": {
       "height": 400,
       "width": 400
      }
     },
     "output_type": "display_data"
    }
   ],
   "source": [
    "prep_window(c(1,1), mar = c(3,10,3,1))\n",
    "\n",
    "plot(0, type = \"n\", xlim = range(models_synth), ylim = c(1, ncol(models_synth)), xlab = \"\", ylab = \"\", yaxt = \"n\")\n",
    "segments(y0 = 1:ncol(models_synth), x0 = models_synth[\"lower\",], x1 = models_synth[\"upper\",], lwd = 8, col = \"red3\", lend = 1)\n",
    "points(models_synth[\"est\",], 1:ncol(models_synth))\n",
    "\n",
    "\n",
    "axis(2, at = 1:ncol(models_synth), labels = colnames(models_synth), las = 1)"
   ]
  },
  {
   "cell_type": "markdown",
   "id": "6ef1a560-93e3-49b7-ae2b-17a82685d4d9",
   "metadata": {},
   "source": [
    "## Synthesis"
   ]
  },
  {
   "cell_type": "markdown",
   "id": "10088bf4-c35f-4a01-a36a-38e1ae8a9f6d",
   "metadata": {},
   "source": [
    "```fortran\n",
    "!   compute synthesis: weighted average of obervations and models\n",
    "!\n",
    "    if ( nobs > 0 ) then\n",
    "        if ( obs(2) >= obs(3) ) then\n",
    "            write(0,*) 'synthesis: internal error: obs = ',obs\n",
    "            call exit(-1)\n",
    "        end if\n",
    "        if ( mod(2) >= mod(3) ) then\n",
    "            write(0,*) 'synthesis: internal error: mod = ',mod\n",
    "            call exit(-1)\n",
    "        end if\n",
    "        if ( lweighted ) then\n",
    "            ! weighted mean coloured\n",
    "            w1 = 1/(obs(3)-obs(2))**2\n",
    "            w2 = 1/(mod(3)-mod(2))**2\n",
    "            syn(1) = (w1*obs(1) + w2*mod(1))/(w1+w2)\n",
    "            syn(2) = syn(1) - sqrt( (w1*(obs(1)-obs(2)))**2 + (w2*(mod(1)-mod(2)))**2 )/(w1+w2)\n",
    "            syn(3) = syn(1) + sqrt( (w1*(obs(3)-obs(1)))**2 + (w2*(mod(3)-mod(1)))**2 )/(w1+w2)\n",
    "            ! unweighted mean of observations and models box\n",
    "            s1 = (obs(1) + mod(1))/2\n",
    "            syn(4) = s1 - sqrt( (obs(1)-obs(2))**2 + (mod(1)-mod(2))**2 )/2\n",
    "            syn(5) = s1 + sqrt( (obs(3)-obs(1))**2 + (mod(3)-mod(1))**2 )/2\n",
    "        else\n",
    "            call getsynmean(lweighted,data,n,0,sig_mod)\n",
    "            syn(1:3) = data(1:3,n+1)\n",
    "            syn(4) = syn(2)\n",
    "            syn(5) = syn(3)\n",
    "        end if\n",
    "        if ( lwrite ) print *,'found synthesised estimate ',syn\n",
    "    end if\n",
    "```\n"
   ]
  },
  {
   "cell_type": "markdown",
   "id": "a1e6ea3f-d550-40e3-ab5d-b122536ec642",
   "metadata": {},
   "source": [
    "### Replicate climate explorer output\n",
    "\n",
    "Original functions, no changes made"
   ]
  },
  {
   "cell_type": "code",
   "execution_count": 231,
   "id": "4cb40c83-2a31-4a6b-aabb-c5c15e4f5960",
   "metadata": {},
   "outputs": [],
   "source": [
    "synth_climexp <- function(obs, models) {\n",
    "    # weighted mean of models & obs (coloured bar)\n",
    "    w_obs <- unname((obs[\"upper\"] - obs[\"lower\"])^{-2})\n",
    "    w_mod <- unname((models[\"upper\"] - models[\"lower\"])^{-2})\n",
    "\n",
    "    wmean <- (w_obs * obs[\"est\"] + w_mod * models[\"est\"]) / (w_obs + w_mod)\n",
    "    synth <- setNames(c(wmean, \n",
    "                        wmean - sqrt( (w_obs*(obs[\"est\"]-obs[\"lower\"]))^2 + (w_mod*(models[\"est\"]-models[\"lower\"]))^2 )/(w_obs+w_mod),\n",
    "                        wmean + sqrt( (w_obs*(obs[\"est\"]-obs[\"upper\"]))^2 + (w_mod*(models[\"est\"]-models[\"upper\"]))^2 )/(w_obs+w_mod)), c(\"est\", \"lower\", \"upper\"))\n",
    "\n",
    "    # unweighted mean of obs and models\n",
    "    umean <- (obs[\"est\"] +  models[\"est\"]) / 2\n",
    "    synth[\"l_wb\"] <- umean - sqrt((obs[\"est\"]-obs[\"lower\"])^2 + (models[\"est\"]-models[\"lower\"])^2)/2\n",
    "    synth[\"u_wb\"] <- umean + sqrt((obs[\"est\"]-obs[\"upper\"])^2 + (models[\"est\"]-models[\"upper\"])^2)/2\n",
    "    \n",
    "    return(synth)\n",
    "}"
   ]
  },
  {
   "cell_type": "code",
   "execution_count": 232,
   "id": "0f2348a7-7139-4961-83b8-328a5faa3dc6",
   "metadata": {},
   "outputs": [],
   "source": [
    "synth_variances <- function(obs, models) {\n",
    "    \n",
    "    # weighted mean of models & obs (coloured bar)\n",
    "    w_obs <- unname(((obs[\"upper\"] - obs[\"lower\"])/1.96*2)^{-2})\n",
    "    w_mod <- unname(((models[\"upper\"] - models[\"lower\"])/1.96*2)^{-2})\n",
    "\n",
    "    wmean <- (w_obs * obs[\"est\"] + w_mod * models[\"est\"]) / (w_obs + w_mod)\n",
    "    synth <- setNames(c(wmean, \n",
    "                        wmean - sqrt( (w_obs*(obs[\"est\"]-obs[\"lower\"]))^2 + (w_mod*(models[\"est\"]-models[\"lower\"]))^2 )/(w_obs+w_mod),\n",
    "                        wmean + sqrt( (w_obs*(obs[\"est\"]-obs[\"upper\"]))^2 + (w_mod*(models[\"est\"]-models[\"upper\"]))^2 )/(w_obs+w_mod)), c(\"est\", \"lower\", \"upper\"))\n",
    "\n",
    "    # unweighted mean of obs and models\n",
    "    umean <- (obs[\"est\"] +  models[\"est\"]) / 2\n",
    "    synth[\"l_wb\"] <- umean - sqrt((obs[\"est\"]-obs[\"lower\"])^2 + (models[\"est\"]-models[\"lower\"])^2)/2\n",
    "    synth[\"u_wb\"] <- umean + sqrt((obs[\"est\"]-obs[\"upper\"])^2 + (models[\"est\"]-models[\"upper\"])^2)/2\n",
    "    \n",
    "    return(synth)\n",
    "}"
   ]
  },
  {
   "cell_type": "code",
   "execution_count": 233,
   "id": "567e1b54-bb7b-487f-9c58-14114733d5a0",
   "metadata": {},
   "outputs": [
    {
     "data": {
      "text/html": [
       "<style>\n",
       ".dl-inline {width: auto; margin:0; padding: 0}\n",
       ".dl-inline>dt, .dl-inline>dd {float: none; width: auto; display: inline-block}\n",
       ".dl-inline>dt::after {content: \":\\0020\"; padding-right: .5ex}\n",
       ".dl-inline>dt:not(:first-of-type) {padding-left: .5ex}\n",
       "</style><dl class=dl-inline><dt>est</dt><dd>-1.79610910624382</dd><dt>lower</dt><dd>-2.64309571823461</dd><dt>upper</dt><dd>-0.943306935429204</dd><dt>l_wb</dt><dd>-3.76252370683619</dd><dt>u_wb</dt><dd>0.315751542999886</dd></dl>\n"
      ],
      "text/latex": [
       "\\begin{description*}\n",
       "\\item[est] -1.79610910624382\n",
       "\\item[lower] -2.64309571823461\n",
       "\\item[upper] -0.943306935429204\n",
       "\\item[l\\textbackslash{}\\_wb] -3.76252370683619\n",
       "\\item[u\\textbackslash{}\\_wb] 0.315751542999886\n",
       "\\end{description*}\n"
      ],
      "text/markdown": [
       "est\n",
       ":   -1.79610910624382lower\n",
       ":   -2.64309571823461upper\n",
       ":   -0.943306935429204l_wb\n",
       ":   -3.76252370683619u_wb\n",
       ":   0.315751542999886\n",
       "\n"
      ],
      "text/plain": [
       "       est      lower      upper       l_wb       u_wb \n",
       "-1.7961091 -2.6430957 -0.9433069 -3.7625237  0.3157515 "
      ]
     },
     "metadata": {},
     "output_type": "display_data"
    },
    {
     "data": {
      "text/html": [
       "<style>\n",
       ".dl-inline {width: auto; margin:0; padding: 0}\n",
       ".dl-inline>dt, .dl-inline>dd {float: none; width: auto; display: inline-block}\n",
       ".dl-inline>dt::after {content: \":\\0020\"; padding-right: .5ex}\n",
       ".dl-inline>dt:not(:first-of-type) {padding-left: .5ex}\n",
       "</style><dl class=dl-inline><dt>est</dt><dd>-1.79610910624382</dd><dt>lower</dt><dd>-2.64309571823461</dd><dt>upper</dt><dd>-0.943306935429205</dd><dt>l_wb</dt><dd>-3.76252370683619</dd><dt>u_wb</dt><dd>0.315751542999886</dd></dl>\n"
      ],
      "text/latex": [
       "\\begin{description*}\n",
       "\\item[est] -1.79610910624382\n",
       "\\item[lower] -2.64309571823461\n",
       "\\item[upper] -0.943306935429205\n",
       "\\item[l\\textbackslash{}\\_wb] -3.76252370683619\n",
       "\\item[u\\textbackslash{}\\_wb] 0.315751542999886\n",
       "\\end{description*}\n"
      ],
      "text/markdown": [
       "est\n",
       ":   -1.79610910624382lower\n",
       ":   -2.64309571823461upper\n",
       ":   -0.943306935429205l_wb\n",
       ":   -3.76252370683619u_wb\n",
       ":   0.315751542999886\n",
       "\n"
      ],
      "text/plain": [
       "       est      lower      upper       l_wb       u_wb \n",
       "-1.7961091 -2.6430957 -0.9433069 -3.7625237  0.3157515 "
      ]
     },
     "metadata": {},
     "output_type": "display_data"
    }
   ],
   "source": [
    "# identical results - don't think we need to change anything here\n",
    "synth_climexp(obs, models_climexp$models_synth)\n",
    "synth_variances(obs, models_climexp$models_synth)"
   ]
  },
  {
   "cell_type": "code",
   "execution_count": null,
   "id": "a8078123-25dc-473e-addf-37d72e7a9ec0",
   "metadata": {},
   "outputs": [],
   "source": []
  }
 ],
 "metadata": {
  "kernelspec": {
   "display_name": "R [conda env:r_env]",
   "language": "R",
   "name": "conda-env-r_env-r"
  },
  "language_info": {
   "codemirror_mode": "r",
   "file_extension": ".r",
   "mimetype": "text/x-r-source",
   "name": "R",
   "pygments_lexer": "r",
   "version": "4.2.3"
  }
 },
 "nbformat": 4,
 "nbformat_minor": 5
}
