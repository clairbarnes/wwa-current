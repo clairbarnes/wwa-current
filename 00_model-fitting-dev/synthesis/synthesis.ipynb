{
 "cells": [
  {
   "cell_type": "markdown",
   "metadata": {},
   "source": [
    "# **WWA synthesis**\n",
    "\n",
    "Climate Explorer code: https://gitlab.com/KNMI-OSS/climexp/climexp_numerical/-/blob/master/src/synthesis.f90?ref_type%24=%24heads\n",
    "\n",
    "- test that CX code (which works on 95% confidence intervals) translates correctly into the equations in the paper"
   ]
  },
  {
   "cell_type": "code",
   "execution_count": 1,
   "metadata": {},
   "outputs": [],
   "source": [
    "prep_window <- function(rc = c(1,1), w = 4, h = 4, ...) { options(repr.plot.width = rc[2]*w, repr.plot.height = rc[1]*h, repr.plot.res = 200); par(mfrow = rc, pch = 20, ...) }"
   ]
  },
  {
   "cell_type": "code",
   "execution_count": 2,
   "metadata": {},
   "outputs": [],
   "source": [
    "df_in = read.csv(\"synthesis_in.txt\", comment.char = \"#\", header = F, sep = \" \")\n",
    "colnames(df_in) <- c(\"y0\", \"y1\", \"est\", \"lower\", \"upper\", \"ci\", \"model\", \"m2\", \"m3\")\n",
    "obs_in = df_in[1:3,]\n",
    "models_in = df_in[4:nrow(df_in),]"
   ]
  },
  {
   "cell_type": "code",
   "execution_count": 3,
   "metadata": {},
   "outputs": [
    {
     "name": "stderr",
     "output_type": "stream",
     "text": [
      "Warning message in readLines(file, n = thisblock):\n",
      "“incomplete final line found on 'synthesis_out.txt'”\n"
     ]
    }
   ],
   "source": [
    "# load \n",
    "df_out <- read.fwf(\"synthesis_out.txt\", comment.char = \"#\", header = F, widths = c(5,5,12,12,12,12,13,2,99))\n",
    "df_out <- df_out[!is.na(df_out$V8),]\n",
    "colnames(df_out) <- c(\"y0\", \"y1\", \"est\", \"lower\", \"upper\", \"l_wb\", \"u_wb\", \"group\", \"model\")\n",
    "\n",
    "obs_out <- df_out[df_out$group == 1,]\n",
    "obs_synth <- df_out[df_out$group == 2,]\n",
    "models_out <- df_out[df_out$group == 3,]\n",
    "models_synth <- df_out[df_out$group == 4,]\n",
    "overall_synth <- df_out[df_out$group == 5,]\n",
    "rep_unc <- 0.681\n",
    "chi2_dof <- 11.85\n",
    "mdl_unc <- 2.09"
   ]
  },
  {
   "cell_type": "markdown",
   "metadata": {},
   "source": [
    "## **Mean & uncertainties of observations**"
   ]
  },
  {
   "cell_type": "markdown",
   "metadata": {
    "jupyter": {
     "source_hidden": true
    },
    "tags": []
   },
   "source": [
    "Original Fortran code:\n",
    "```\n",
    "!   compute mean & uncertainties of observations\n",
    "!\n",
    "    if ( nobs > 0 ) then\n",
    "!       natural variability: assume 100% correlated\n",
    "        do j=1,3\n",
    "            s1 = 0\n",
    "            do i=1,nobs\n",
    "                s1 = s1 + data(j,i)\n",
    "            end do\n",
    "            obs(j) = s1/nobs\n",
    "        end do\n",
    "\n",
    "!       representation error from scatter of mean\n",
    "        if ( nobs > 1 .and. lweighted ) then\n",
    "            s2 = 0\n",
    "            do i=1,nobs\n",
    "                s2 = s2 + (data(1,i)-obs(1))**2\n",
    "            end do\n",
    "            sig_obs = 2*sqrt(s2/(nobs-1)) ! added factor 2; sig_obs now 2*std to represent 2sigma\n",
    "            obs(2) = obs(1) - sqrt( (obs(1)-obs(2))**2 + sig_obs**2 ) \n",
    "            obs(3) = obs(1) + sqrt( (obs(3)-obs(1))**2 + sig_obs**2 )\n",
    "        else\n",
    "            sig_obs = 0 ! cannot estimate it from one point...\n",
    "        end if\n",
    "        do i=1,nobs\n",
    "            data(4,i) = data(1,i) - sqrt( (data(1,i)-data(2,i))**2 + sig_obs**2 )\n",
    "            data(5,i) = data(1,i) + sqrt( (data(3,i)-data(1,i))**2 + sig_obs**2 )\n",
    "        end do\n",
    "        obs(4) = obs(2)\n",
    "        obs(5) = obs(3)\n",
    "        if ( lwrite ) print *,'found combined observational estimate ',obs\n",
    "        if ( sig_obs > 0 ) then\n",
    "            if ( llog ) then\n",
    "                print '(a,g12.3)','# representation uncertainty (2&sigma;) factor ',exp(sig_obs)\n",
    "            else if ( lperc ) then\n",
    "                print '(a,g12.3,a)','# representation uncertainty (2&sigma;) ',100*(-1+exp(sig_obs)),'%'\n",
    "            else\n",
    "                print '(a,g12.3)','# representation uncertainty (2&sigma;) ',sig_obs\n",
    "            end if\n",
    "        end if\n",
    "    end if\n",
    "```"
   ]
  },
  {
   "cell_type": "markdown",
   "metadata": {
    "jupyter": {
     "source_hidden": true
    },
    "tags": []
   },
   "source": [
    "Suppose that the measure derived from the $i$th observation (out of a total of $n$ observational datasets) is normally distributed with mean $\\mu_i$ and variance $\\sigma_i^2$. Then we have\n",
    "\\begin{align}\n",
    "\\bar{\\mu} &= \\frac{1}{n}\\sum_i \\mu_i  && \\text{Overall best estimate}\n",
    "\\\\\n",
    "\\sigma^2_{nat} &= \\frac{1}{n}\\sum_i \\sigma_i  && \\text{Natural variability}\n",
    "\\\\\n",
    "\\sigma^2_{obs} &= \\frac{\\sum_i \\left(\\mu_i - \\bar{\\mu}\\right)^2}{n-1} && \\text{Spread of best estimates - representation error (add $2\\sigma_{obs}$ to upper & lower bounds)}\n",
    "\\\\\n",
    "\\sigma^2_{tot} &= \\sigma^2_{nat} + 2\\sigma_{obs}^2 && \\text{Synthesised spread of all observations, including representation error}\n",
    "\\end{align}\n",
    "&nbsp;\n",
    "\n",
    "In practice, we work with confidence bounds ($\\omega$, say) rather than with standard deviations, so that the $i$th dataset has best estimate $\\mu_i$ and confidence bound $\\omega_i$. Then we have\n",
    "\\begin{align}\n",
    "\\omega_{nat} &= \\frac{1}{n}\\sum_i \\omega_i  && \\text{Natural variability} \n",
    "\\\\\n",
    "\\omega_{tot} &= \\bar{\\mu} \\pm \\sqrt{\\left(\\omega_{nat} - \\bar{\\mu}\\right)^2 + \\sigma_{obs}^2} && \\text{Total uncertainty, including representation error}\n",
    "\\\\\n",
    "\\omega_i &= \\mu_i \\pm \\sqrt{\\left(\\omega_{i} - \\mu_i\\right)^2 + \\sigma_{obs}^2} && \\text{Total uncertainty for observational dataset $i$}\n",
    "\\end{align}\n",
    "&nbsp;\n",
    "\n",
    "- **Confirm that these two are indeed equivalent**"
   ]
  },
  {
   "cell_type": "code",
   "execution_count": 198,
   "metadata": {},
   "outputs": [],
   "source": [
    "# get mean of intervals to estimate natural variability component\n",
    "obs = apply(obs_in[,c(\"est\", \"lower\", \"upper\")], 2, mean)\n",
    "\n",
    "# compute representation error from scatter of mean\n",
    "nobs = nrow(obs_in)\n",
    "s2 = sum((obs_in$est - obs[1])^2)\n",
    "sig_obs = 2*sqrt(s2/(nobs-1))            # add 2 SDs to either side - representation uncertainty\n",
    "\n",
    "# apply representation error to synthesis\n",
    "obs[2] <- obs[1] - sqrt( (obs[1] - obs[2])**2 + sig_obs**2 )\n",
    "obs[3] <- obs[1] + sqrt( (obs[1] - obs[3])**2 + sig_obs**2 )\n",
    "\n",
    "# add representation error to observations\n",
    "obs_in$l_wb <- obs_in$est - sqrt((obs_in$est - obs_in$lower)**2 + sig_obs**2)\n",
    "obs_in$u_wb <- obs_in$est + sqrt((obs_in$est - obs_in$upper)**2 + sig_obs**2)"
   ]
  },
  {
   "cell_type": "code",
   "execution_count": 208,
   "metadata": {},
   "outputs": [
    {
     "data": {
      "image/png": "[encoded data removed]",
      "text/plain": [
       "plot without title"
      ]
     },
     "metadata": {
      "image/png": {
       "height": 400,
       "width": 800
      }
     },
     "output_type": "display_data"
    }
   ],
   "source": [
    "# check that my code does produce the same results as the Climate Explorer\n",
    "prep_window(c(1,2))\n",
    "\n",
    "#~~~~~~~~~~~~~~~~~~~~~~~~~~~~~~~~~~~~~~~~~~~~~~~~~~~~~~~~~~~~~~~~~~~~~~~~~~~~~~~~~~~~~~~~~~~~~~~~~~~~~~~~~~~~~~~~~~~~\n",
    "# plot estimated quantities\n",
    "plot(obs, unlist(obs_synth[,c(\"est\", \"lower\", \"upper\")]), col = \"blue\", pch = 16, ylim = c(-3.5, 1), asp = 1,\n",
    "     xlab = \"Computed manually\", ylab = \"From Climate Explorer\")\n",
    "points(c(obs_in$l_wb, obs_in$u_wb), c(obs_out$l_wb, obs_out$u_wb), col = \"blue\", pch = 1, lwd = 2)\n",
    "points(sig_obs, rep_unc, pch = 0, col = \"darkgoldenrod2\", lwd = 2)\n",
    "abline(0,1, lty = 2)\n",
    "\n",
    "#~~~~~~~~~~~~~~~~~~~~~~~~~~~~~~~~~~~~~~~~~~~~~~~~~~~~~~~~~~~~~~~~~~~~~~~~~~~~~~~~~~~~~~~~~~~~~~~~~~~~~~~~~~~~~~~~~~~~\n",
    "# synthesis plot\n",
    "plot(0, type = \"n\", xlim = range(pretty(c(unlist(obs_in[,10:11])))), ylim = c(-0.5,4.5))\n",
    "\n",
    "segments(y0 = 2:4, x0 = obs_in$l_wb, x1 = obs_in$u_wb, lwd = 11, col = \"black\", lend = 2)\n",
    "segments(y0 = 2:4, x0 = obs_in$l_wb, x1 = obs_in$u_wb, lwd = 10, col = \"white\", lend = 1)\n",
    "segments(y0 = 2:4, x0 = obs_in$lower, x1 = obs_in$upper, lwd = 10, col = adjustcolor(\"blue\", 0.5), lend = 1)\n",
    "points(obs_in$est, 2:4, pch = 21, bg = \"blue\", lwd = 2)\n",
    "\n",
    "lines(obs[2:3], rep(0.5,2), col = \"blue\", lwd = 10, lend = 1)\n",
    "points(obs[\"est\"], 0.5, pch = 21, bg = \"blue\", lwd = 2)"
   ]
  },
  {
   "cell_type": "markdown",
   "metadata": {},
   "source": [
    "## **Mean & uncertainties of models**"
   ]
  },
  {
   "cell_type": "markdown",
   "metadata": {},
   "source": [
    "Original Fortran code:\n",
    "```\n",
    "\n",
    "!   compute mean & uncertainties of models\n",
    "!\n",
    "    call getsynmean(lweighted,data,n,nobs,sig_mod)\n",
    "    if ( lwrite ) print *,'first guess of model mean is ',data(:,n+1)\n",
    "    call getsynchi2(data,n,nobs,sig_mod,chi2)\n",
    "    if ( lweighted ) then\n",
    "        print '(a,g14.4)','# model chi2/dof = ',chi2/(n-nobs-1)\n",
    "    end if\n",
    "    if ( lweighted .and. .not.lnoave .and. chi2/(n-nobs-1) > 1 .and. sig_mod < 0 ) then\n",
    "        ! compute sig_mod to make chi2/dof = 1\n",
    "        syn_n = n ! copy to common as I am a F77 programmer and do not feel comfortable with f90 global variables\n",
    "        syn_nobs = nobs\n",
    "        syn_data(:,1:n) = data(:,1:n)\n",
    "        s1 = 0\n",
    "        s2 = data(3,n+1) - data(2,n+1)\n",
    "        if ( syn_func(s1) <= 0 ) then\n",
    "            write(0,*) 'synthesis: internal error: syn_func(0) should be > 0, not ',syn_func(s1)\n",
    "            call exit(-1)\n",
    "        end if\n",
    "        s = syn_func(s2)\n",
    "        do while ( s2 < 1e10 )\n",
    "            s2 = 2*s2\n",
    "            if ( s2 > 1e10 ) then\n",
    "                write(0,*) 'synthesis: error: cannot find zero: ',s2\n",
    "                call exit(-1)\n",
    "            end if\n",
    "            s = syn_func(s2)\n",
    "            if ( s < 0 ) exit\n",
    "        end do\n",
    "        if ( lwrite ) print *,'bracketed sig_mod by ',s1,s2,', calling Brent'\n",
    "        sig_mod = zbrent(syn_func,s1,s2,1e-4)\n",
    "        !!!write(names(n)(len_trim(names(n))+1:),'(a,f4.2)') ' added ',sig_mod\n",
    "        ! copy results back\n",
    "        mod(1:3) = syn_data(1:3,n+1)\n",
    "    else\n",
    "        sig_mod = 0\n",
    "        mod(1:3) = data(1:3,n+1)\n",
    "    end if\n",
    "    mod(4) = mod(2)\n",
    "    mod(5) = mod(3)\n",
    "    do i=nobs+1,n\n",
    "        data(4,i) = data(1,i) - sqrt( (data(1,i)-data(2,i))**2 + sig_mod**2 )\n",
    "        data(5,i) = data(1,i) + sqrt( (data(3,i)-data(1,i))**2 + sig_mod**2 )\n",
    "    end do\n",
    "    if ( lwrite ) print *,'found combined model estimate ',mod\n",
    "```"
   ]
  },
  {
   "cell_type": "markdown",
   "metadata": {},
   "source": [
    "Subroutines:\n",
    "```\n",
    "subroutine getsynmean(lweighted,data,n,nobs,sig_mod)\n",
    "!\n",
    "!   compute the mean of model data, either weighted with model error or unweighted\n",
    "!   n is the number of input points, ..(n) denotes the average.\n",
    "!\n",
    "    implicit none\n",
    "    logical,intent(in) :: lweighted\n",
    "    integer,intent(in) :: n,nobs\n",
    "    real,intent(in) :: sig_mod\n",
    "    real,intent(inout) :: data(5,n+1)\n",
    "    integer :: i,j\n",
    "    real s1,ss2(3),w,w1\n",
    "!\n",
    "    s1 = 0\n",
    "    ss2 = 0\n",
    "    w1 = 0\n",
    "    do i=nobs+1,n\n",
    "        if ( lweighted ) then\n",
    "            if ( abs(data(3,i) - data(2,i)) < 1e-6 ) then\n",
    "                write(0,*) 'synthesis: error: upper and lower bound are equal: ',i,data(2,i),data(3,i)\n",
    "                call exit(-1)\n",
    "            end if\n",
    "            if ( sig_mod > 0 ) then\n",
    "                w = 1/((data(3,i) - data(2,i))**2 + (2*sig_mod)**2) ! factor 2 for sig_mod transforms from 2sigma to 4sigma\n",
    "            else\n",
    "                w = 1/(data(3,i) - data(2,i))**2\n",
    "            end if\n",
    "        else\n",
    "            w = 1\n",
    "        end if\n",
    "        w1 = w1 + w\n",
    "        s1 = s1 + w*data(1,i)\n",
    "        do j=2,3\n",
    "            ss2(j) = ss2(j) + (w*(data(1,i)-data(j,i)))**2\n",
    "        end do\n",
    "    end do\n",
    "    s1 = s1/w1\n",
    "    do j=2,3\n",
    "        ss2(j) = sqrt(ss2(j))/w1\n",
    "        if ( sig_mod > 0 ) then\n",
    "            ss2(j) = sqrt(ss2(j)**2 + sig_mod**2)\n",
    "        end if\n",
    "    end do\n",
    "    data(1,n+1) = s1\n",
    "    data(2,n+1) = s1 - ss2(2)\n",
    "    data(3,n+1) = s1 + ss2(3)\n",
    "end subroutine getsynmean\n",
    "\n",
    "subroutine getsynchi2(data,n,nobs,sig_mod,chi2)\n",
    "!\n",
    "!   compute chi2\n",
    "!\n",
    "    implicit none\n",
    "    integer,intent(in) :: n,nobs\n",
    "    real,intent(in) :: data(5,n+1)\n",
    "    real,intent(out) :: sig_mod,chi2\n",
    "    integer :: i\n",
    "    real :: s1\n",
    "\n",
    "    chi2 = 0\n",
    "    s1 = data(1,n+1)\n",
    "    do i=nobs+1,n\n",
    "        if ( sig_mod > 0 ) then\n",
    "            if ( data(1,i) > s1 ) then\n",
    "                chi2 = chi2 + (data(1,i)-s1)**2/((data(1,i)-data(2,i))**2 + sig_mod**2)\n",
    "            else\n",
    "                chi2 = chi2 + (s1-data(1,i))**2/((data(3,i)-data(1,i))**2 + sig_mod**2)\n",
    "            end if\n",
    "        else\n",
    "            if ( data(1,i) > s1 ) then\n",
    "                chi2 = chi2 + ((data(1,i)-s1)/(data(1,i)-data(2,i)))**2\n",
    "            else\n",
    "                chi2 = chi2 + ((s1-data(1,i))/(data(3,i)-data(1,i)))**2\n",
    "            end if\n",
    "        end if\n",
    "    end do\n",
    "    chi2 = chi2*4 ! transformed to use 95%~2sigma CIs\n",
    "end subroutine getsynchi2\n",
    "```"
   ]
  },
  {
   "cell_type": "code",
   "execution_count": 27,
   "metadata": {},
   "outputs": [],
   "source": [
    "getsynmean <- function(data, sig_mod = -1) {    \n",
    "    \n",
    "    # calculate weight for each model (based on width of confidence interval)\n",
    "    if ( sig_mod > 0 ) {\n",
    "        w = 1/((data$upper - data$lower)^2 + (2*sig_mod)^2) # factor 2 for sig_mod transforms from 2sigma to 4sigma\n",
    "    } else {\n",
    "        w = 1/(data$upper - data$lower)^2\n",
    "    }\n",
    "    w1 = sum(w)\n",
    "\n",
    "    # weighted sum of squares & bounds\n",
    "    s1 <- sum(w*data$est) / w1\n",
    "    ss2 <- apply(data[,c(\"est\", \"lower\", \"upper\")], 2, function(b) sum((w*(data$est - b))^2))\n",
    "    ss2 <- sqrt(ss2) / w1\n",
    "                 \n",
    "    if (sig_mod > 0) { ss2 <- sqrt(ss2^2 + sig_mod^2) }\n",
    "    \n",
    "    return(s1 + (ss2 * c(0,-1,1)))\n",
    "}"
   ]
  },
  {
   "cell_type": "code",
   "execution_count": 29,
   "metadata": {},
   "outputs": [],
   "source": [
    "getsynchi2 <- function(data, sig_mod) {\n",
    "    \n",
    "    # get best estimate of weighted mean\n",
    "    s1 <- getsynmean(data, sig_mod)[\"est\"]\n",
    "    \n",
    "    # determine adjustment to sigma, if any\n",
    "    if(sig_mod < 0) {sig_adj = 0} else {sig_adj = sig_mod}\n",
    "    \n",
    "    # compute chi2 based on model intervals & sigma adjustment\n",
    "    chi2 <- sum(apply(data[,c(\"est\", \"lower\", \"upper\")], 1, function(x) {\n",
    "        if(x[\"est\"] > s1) {\n",
    "            (x[\"est\"] - s1)^2 / ((x[\"est\"] - x[\"lower\"])^2 + sig_adj^2)\n",
    "        } else {\n",
    "            (x[\"est\"] - s1)^2 / ((x[\"est\"] - x[\"upper\"])^2 + sig_adj^2)\n",
    "        }\n",
    "    }))\n",
    "    chi2 = chi2 * 4 # transform to give 95%~2sigma CIs\n",
    "    return(chi2)\n",
    "}"
   ]
  },
  {
   "cell_type": "code",
   "execution_count": 43,
   "metadata": {},
   "outputs": [
    {
     "name": "stdout",
     "output_type": "stream",
     "text": [
      "[1] 11.85206\n"
     ]
    }
   ],
   "source": [
    "# get initial estimate of model mean & calculate chi^2\n",
    "mmean_1 <- getsynmean(models_in, sig_mod = -1)\n",
    "chi2_1 <- getsynchi2(models_in, sig_mod = -1)\n",
    "mdof <- nrow(models_in)-1\n",
    "print(chi2_1 / mdof)\n",
    "\n",
    "# estimate sig_mod such that chi^2/dof = 1\n",
    "# function to be minimized in order to \n",
    "find_sigmod <- function(x) {\n",
    "    \n",
    "    chi2 <- getsynchi2(models_in, sig_mod = x)\n",
    "    dof <- nrow(models_in)-1\n",
    "    return(abs(chi2 - dof))\n",
    "}"
   ]
  },
  {
   "cell_type": "code",
   "execution_count": 44,
   "metadata": {},
   "outputs": [],
   "source": [
    "sigmod <- optim(-1, find_sigmod, method = \"Brent\", lower = 0, upper = 5)$par"
   ]
  },
  {
   "cell_type": "code",
   "execution_count": 46,
   "metadata": {},
   "outputs": [
    {
     "data": {
      "text/html": [
       "2.08894275624883"
      ],
      "text/latex": [
       "2.08894275624883"
      ],
      "text/markdown": [
       "2.08894275624883"
      ],
      "text/plain": [
       "[1] 2.088943"
      ]
     },
     "metadata": {},
     "output_type": "display_data"
    }
   ],
   "source": [
    "sigmod"
   ]
  },
  {
   "cell_type": "code",
   "execution_count": 66,
   "metadata": {},
   "outputs": [
    {
     "data": {
      "text/html": [
       "165.928824866738"
      ],
      "text/latex": [
       "165.928824866738"
      ],
      "text/markdown": [
       "165.928824866738"
      ],
      "text/plain": [
       "[1] 165.9288"
      ]
     },
     "metadata": {},
     "output_type": "display_data"
    }
   ],
   "source": [
    "    if ( lweighted .and. .not.lnoave .and. chi2/(n-nobs-1) > 1 .and. sig_mod < 0 ) then\n",
    "        ! compute sig_mod to make chi2/dof = 1\n",
    "        syn_n = n ! copy to common as I am a F77 programmer and do not feel comfortable with f90 global variables\n",
    "        syn_nobs = nobs\n",
    "        syn_data(:,1:n) = data(:,1:n)\n",
    "        s1 = 0\n",
    "        s2 = data(3,n+1) - data(2,n+1)\n",
    "        if ( syn_func(s1) <= 0 ) then\n",
    "            write(0,*) 'synthesis: internal error: syn_func(0) should be > 0, not ',syn_func(s1)\n",
    "            call exit(-1)\n",
    "        end if\n",
    "        s = syn_func(s2)\n",
    "        do while ( s2 < 1e10 )\n",
    "            s2 = 2*s2\n",
    "            if ( s2 > 1e10 ) then\n",
    "                write(0,*) 'synthesis: error: cannot find zero: ',s2\n",
    "                call exit(-1)\n",
    "            end if\n",
    "            s = syn_func(s2)\n",
    "            if ( s < 0 ) exit\n",
    "        end do\n",
    "        if ( lwrite ) print *,'bracketed sig_mod by ',s1,s2,', calling Brent'\n",
    "        sig_mod = zbrent(syn_func,s1,s2,1e-4)\n",
    "        !!!write(names(n)(len_trim(names(n))+1:),'(a,f4.2)') ' added ',sig_mod\n",
    "        ! copy results back\n",
    "        mod(1:3) = syn_data(1:3,n+1)\n",
    "    else\n",
    "        sig_mod = 0\n",
    "        mod(1:3) = data(1:3,n+1)\n",
    "    end if"
   ]
  },
  {
   "cell_type": "code",
   "execution_count": null,
   "metadata": {},
   "outputs": [],
   "source": []
  },
  {
   "cell_type": "code",
   "execution_count": 6,
   "metadata": {},
   "outputs": [],
   "source": [
    "# get mean of intervals to estimate natural variability component\n",
    "models = apply(models_in[,c(\"est\", \"lower\", \"upper\")], 2, mean)\n",
    "\n",
    "# compute representation error from scatter of mean\n",
    "nmod = nrow(models_in)\n",
    "s2 = sum((models_in$est - models_in[1])^2)\n",
    "sig_mod = -1  # initial value - will be updated later"
   ]
  },
  {
   "cell_type": "code",
   "execution_count": 7,
   "metadata": {},
   "outputs": [
    {
     "data": {
      "text/html": [
       "3934.71021969733"
      ],
      "text/latex": [
       "3934.71021969733"
      ],
      "text/markdown": [
       "3934.71021969733"
      ],
      "text/plain": [
       "[1] 3934.71"
      ]
     },
     "metadata": {},
     "output_type": "display_data"
    }
   ],
   "source": [
    "    sig_mod = x\n",
    "    call getsynmean(.true.,syn_data,syn_n,syn_nobs,sig_mod)\n",
    "    call getsynchi2(syn_data,syn_n,syn_nobs,sig_mod,chi2)\n",
    "    syn_func = chi2 - (syn_n-syn_nobs-1)\n"
   ]
  },
  {
   "cell_type": "code",
   "execution_count": null,
   "metadata": {},
   "outputs": [],
   "source": []
  }
 ],
 "metadata": {
  "kernelspec": {
   "display_name": "R [conda env:r_env]",
   "language": "R",
   "name": "conda-env-r_env-r"
  },
  "language_info": {
   "codemirror_mode": "r",
   "file_extension": ".r",
   "mimetype": "text/x-r-source",
   "name": "R",
   "pygments_lexer": "r",
   "version": "4.2.2"
  }
 },
 "nbformat": 4,
 "nbformat_minor": 5
}
