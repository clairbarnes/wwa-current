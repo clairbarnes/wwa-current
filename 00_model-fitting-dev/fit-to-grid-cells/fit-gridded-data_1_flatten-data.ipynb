{
 "cells": [
  {
   "cell_type": "markdown",
   "metadata": {},
   "source": [
    "# Flatten gridded data for trend fitting"
   ]
  },
  {
   "cell_type": "code",
   "execution_count": 1,
   "metadata": {},
   "outputs": [],
   "source": [
    "# import sys; sys.path.append('/rds/general/user/cb2714/home/wwa'); from wwa import *\n",
    "import xarray as xr, regionmask"
   ]
  },
  {
   "cell_type": "code",
   "execution_count": 2,
   "metadata": {},
   "outputs": [],
   "source": [
    "# load daily data\n",
    "da = xr.open_dataset(\"era5_tmax_daily_extended_-125--75E_9-37N_su.nc\").tmax"
   ]
  },
  {
   "cell_type": "code",
   "execution_count": 3,
   "metadata": {},
   "outputs": [
    {
     "name": "stderr",
     "output_type": "stream",
     "text": [
      "ERROR 1: PROJ: proj_create_from_database: Open of /rds/general/user/cb2714/home/anaconda3/envs/wwa/share/proj failed\n"
     ]
    }
   ],
   "source": [
    "# mask land only\n",
    "rm = regionmask.defined_regions.natural_earth_v5_0_0.land_10.mask(da.lon, da.lat)\n",
    "da = da.where(rm == 0)\n",
    "\n",
    "# resample to annual\n",
    "da = da.rolling(time = 5).mean().resample(time = \"AS\").max()\n",
    "\n",
    "# relabel dates as years\n",
    "da = da.assign_coords(time = da.time.dt.year).rename(time = \"year\")\n",
    "\n",
    "# save the map for easier reconstruction later\n",
    "da.mean(\"year\").to_netcdf(\"map-tmplt_tx5x_era5.nc\")\n",
    "\n",
    "# flatten & convert to data.frame\n",
    "df = da.stack(xy = [\"lat\", \"lon\"]).dropna(\"xy\", \"all\").to_pandas()\n",
    "\n",
    "# save data.frame as .csv (split into chunks if really large)\n",
    "ncols = 2500\n",
    "if df.shape[1] > ncols:\n",
    "    for i in range(int(np.ceil(df.shape[1] / ncols))):\n",
    "        df.iloc[:,slice(i*ncols,(i+1)*ncols)].to_csv(\"flattened/tx5x-flattened_era5_\"+str(i+1).rjust(2,\"0\")+\".csv\")\n",
    "else:\n",
    "    df.to_csv(\"flattened/tx5x-flattened_era5.csv\")"
   ]
  },
  {
   "cell_type": "code",
   "execution_count": null,
   "metadata": {},
   "outputs": [],
   "source": []
  }
 ],
 "metadata": {
  "kernelspec": {
   "display_name": "wwa",
   "language": "python",
   "name": "wwa"
  },
  "language_info": {
   "codemirror_mode": {
    "name": "ipython",
    "version": 3
   },
   "file_extension": ".py",
   "mimetype": "text/x-python",
   "name": "python",
   "nbconvert_exporter": "python",
   "pygments_lexer": "ipython3",
   "version": "3.10.8"
  }
 },
 "nbformat": 4,
 "nbformat_minor": 2
}
