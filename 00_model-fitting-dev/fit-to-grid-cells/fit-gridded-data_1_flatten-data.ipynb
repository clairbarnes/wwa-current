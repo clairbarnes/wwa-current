{
 "cells": [
  {
   "cell_type": "markdown",
   "metadata": {},
   "source": [
    "# Flatten gridded data for trend fitting"
   ]
  },
  {
   "cell_type": "code",
   "execution_count": 7,
   "metadata": {},
   "outputs": [],
   "source": [
    "# import sys; sys.path.append('/rds/general/user/cb2714/home/wwa'); from wwa import *\n",
    "import xarray as xr, regionmask\n",
    "\n",
    "# make a new directory to store the data & results\n",
    "! mkdir -p flattened; mkdir -p flattened-res"
   ]
  },
  {
   "cell_type": "code",
   "execution_count": 8,
   "metadata": {},
   "outputs": [],
   "source": [
    "# load daily data\n",
    "da = xr.open_dataset(\"era5_tmax_daily_extended_-125--75E_9-37N_su.nc\").tmax\n",
    "\n",
    "# mask land only\n",
    "rm = regionmask.defined_regions.natural_earth_v5_0_0.land_10.mask(da.lon, da.lat)\n",
    "da = da.where(rm == 0, drop = True)"
   ]
  },
  {
   "cell_type": "markdown",
   "metadata": {},
   "source": [
    "## Edit the cell below to reflect your data & event definition"
   ]
  },
  {
   "cell_type": "code",
   "execution_count": 9,
   "metadata": {},
   "outputs": [],
   "source": [
    "# use your event definition to get an annual time series at each grid cell\n",
    "da = da.rolling(time = 5).mean().resample(time = \"YS\").max()\n",
    "\n",
    "# set a file description that will be used to save all the data\n",
    "fnm_root = \"tx5x-era5\""
   ]
  },
  {
   "cell_type": "markdown",
   "metadata": {},
   "source": [
    "## Run the cell below to flatten the data and save ready for processing"
   ]
  },
  {
   "cell_type": "code",
   "execution_count": 10,
   "metadata": {},
   "outputs": [],
   "source": [
    "# relabel dates as years\n",
    "da = da.assign_coords(time = da.time.dt.year).rename(time = \"year\")\n",
    "\n",
    "# save the map for easier reconstruction later\n",
    "da.mean(\"year\").to_netcdf(\"map-tmplt_\"+fnm_root+\".nc\")\n",
    "\n",
    "# flatten & convert to data.frame\n",
    "df = da.stack(xy = [\"lat\", \"lon\"]).dropna(dim = \"xy\", how = \"all\").to_pandas()\n",
    "\n",
    "# save data.frame as .csv (split into chunks if really large)\n",
    "ncols = 2500\n",
    "if df.shape[1] > ncols:\n",
    "    for i in range(int(np.ceil(df.shape[1] / ncols))):\n",
    "        df.iloc[:,slice(i*ncols,(i+1)*ncols)].to_csv(\"flattened/\"+fnm_root+\"-flattened_\"+str(i+1).rjust(2,\"0\")+\".csv\")\n",
    "else:\n",
    "    df.to_csv(\"flattened/\"+fnm_root+\"-flattened.csv\")"
   ]
  },
  {
   "cell_type": "markdown",
   "metadata": {},
   "source": [
    "**Now open the next workbook (using R) to fit the statistical model over each grid cell**"
   ]
  },
  {
   "cell_type": "code",
   "execution_count": null,
   "metadata": {},
   "outputs": [],
   "source": []
  }
 ],
 "metadata": {
  "kernelspec": {
   "display_name": "WWA (new)",
   "language": "python",
   "name": "wwa"
  },
  "language_info": {
   "codemirror_mode": {
    "name": "ipython",
    "version": 3
   },
   "file_extension": ".py",
   "mimetype": "text/x-python",
   "name": "python",
   "nbconvert_exporter": "python",
   "pygments_lexer": "ipython3",
   "version": "3.13.5"
  }
 },
 "nbformat": 4,
 "nbformat_minor": 4
}
