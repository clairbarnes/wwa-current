{
 "cells": [
  {
   "cell_type": "markdown",
   "metadata": {},
   "source": [
    "# Maps of trend per grid cell"
   ]
  },
  {
   "cell_type": "code",
   "execution_count": 18,
   "metadata": {},
   "outputs": [],
   "source": [
    "import sys; sys.path.append('/rds/general/user/cb2714/home/wwa'); from wwa import *\n",
    "warnings.filterwarnings(\"ignore\", category = FutureWarning) # otherwise there will be a LOT of warnings\n",
    "\n",
    "def merge_byindex(dfs): return pd.concat(dfs, axis=0)"
   ]
  },
  {
   "cell_type": "markdown",
   "metadata": {},
   "source": [
    "## Reshape dataframe into maps"
   ]
  },
  {
   "cell_type": "code",
   "execution_count": 19,
   "metadata": {},
   "outputs": [],
   "source": [
    "def vec2map(x, mask):\n",
    "    \n",
    "    # reconstruct vector into map\n",
    "    # create an empty map with NA in same cells as masks\n",
    "    arr = mask.where(np.isnan(mask), 0)\n",
    "    \n",
    "    # get coordinates of non-empty cells\n",
    "    px = np.argwhere(~np.isnan(mask.values))\n",
    "    \n",
    "    # Transfer vector values into non-empty cells in array\n",
    "    if len(px) == len(x):\n",
    "        for i in list(range(len(px))): arr[px[i,0], px[i,1]] = x[i]\n",
    "        return arr\n",
    "    else:\n",
    "        print(str(len(x))+\" values, but \"+str(len(px))+\" cells\")\n",
    "        return"
   ]
  },
  {
   "cell_type": "code",
   "execution_count": 20,
   "metadata": {},
   "outputs": [],
   "source": [
    "# load target map showing original shape of data\n",
    "tmplt = xr.open_dataset(\"map-tmplt_tx5x_era5.nc\").tmax"
   ]
  },
  {
   "cell_type": "code",
   "execution_count": 21,
   "metadata": {},
   "outputs": [],
   "source": [
    "# load all the flattened results and compile into a single dataframe\n",
    "df = merge_byindex([pd.read_csv(fnm, index_col = 0) for fnm in sorted(glob.glob(\"flattened-res/*.csv\"))])"
   ]
  },
  {
   "cell_type": "code",
   "execution_count": 32,
   "metadata": {},
   "outputs": [],
   "source": [
    "# reconstruct map\n",
    "res = xr.merge([vec2map(df.loc[r], tmplt).rename(r) for r in df.index])\n",
    "\n",
    "# replace infinite values with very high value\n",
    "res[\"PR\"] = res.PR.where(np.isfinite(res.PR), 100).where(~np.isnan(res.PR))"
   ]
  },
  {
   "cell_type": "code",
   "execution_count": 33,
   "metadata": {},
   "outputs": [],
   "source": [
    "# save\n",
    "res.to_netcdf(\"gridded-trend_tx5x_era5.nc\")"
   ]
  },
  {
   "cell_type": "markdown",
   "metadata": {},
   "source": [
    "## Plot maps"
   ]
  },
  {
   "cell_type": "code",
   "execution_count": 36,
   "metadata": {},
   "outputs": [],
   "source": [
    "plot_kwargs = {\"event_magnitude\" : {\"cmap\" : \"YlOrRd\", \"vmin\" : 30, \"vmax\" : 45},\n",
    "               \"return_period\"   : {\"cmap\" : \"viridis\", \"norm\" : matplotlib.colors.LogNorm(vmin = 1, vmax = 1000)},\n",
    "               \"PR\"     : {\"cmap\" : \"RdPu\", \"vmin\" : 0, \"vmax\": 10},\n",
    "               \"dI_abs\" : {\"cmap\" : \"RdBu_r\", \"vmin\" : -2, \"vmax\" : 2},\n",
    "              }\n",
    "\n",
    "main = {\n",
    "        \"alpha_gmst\" : \"Change in Tx5X (°C) per 1C increase in GMST\",\n",
    "        \"dI_abs\" : \"Change in Tx5X\\ndue to 1.3C increase in GMST\",\n",
    "        \"event_magnitude\" : \"Hottest 5-day period\\nduring May-June 2024\",\n",
    "        \"PR\" : \"Change in likelihood\\ndue to 1.3C increase in GMST\",\n",
    "        \"return_period\" : \"Return period of\\nhottest 5-day period\",\n",
    "       }\n",
    "\n",
    "cbar_details = {\n",
    "         \"alpha_gmst\" : {\"label\" : \"Change in temperature (°C)\", \"extend\" : \"both\"},\n",
    "         \"dI_abs\" : {\"label\" : \"Change in temperature (°C)\", \"extend\" : \"both\"},\n",
    "         \"event_magnitude\" : {\"label\" : \"Temperature (°C)\", \"extend\" : \"both\"},\n",
    "         \"PR\" : {\"label\" : \"Probability ratio\", \"extend\" : \"max\"},\n",
    "         \"return_period\" : {\"label\" : \"Return period (years)\", \"extend\" : \"max\", \"format\" : lambda x, pos: str(int(x))},\n",
    "        }"
   ]
  },
  {
   "cell_type": "code",
   "execution_count": null,
   "metadata": {},
   "outputs": [
    {
     "data": {
      "text/plain": [
       "<cartopy.mpl.gridliner.Gridliner at 0x14a3eb8eb730>"
      ]
     },
     "execution_count": 37,
     "metadata": {},
     "output_type": "execute_result"
    }
   ],
   "source": [
    "fig, axs = plt.subplots(ncols = 4, figsize = (16,5), dpi = 100, subplot_kw={\"projection\" : cartopy.crs.PlateCarree()})\n",
    "plt.subplots_adjust(wspace = 0.05)\n",
    "\n",
    "cbar_kwargs = {\"location\" : \"bottom\", \"fraction\" : 0.065, \"shrink\" : 0.9, \"pad\" : 0.1, \"extend\" : \"both\"}\n",
    "\n",
    "plot_vars = [\"event_magnitude\", \"return_period\", \"dI_abs\", \"PR\"]\n",
    "\n",
    "for i in range(4):\n",
    "    \n",
    "    ax = axs[i]\n",
    "    pv = plot_vars[i]\n",
    "    \n",
    "    res[pv].plot(ax = ax, **plot_kwargs[pv], cbar_kwargs = cbar_kwargs | cbar_details[pv])\n",
    "    \n",
    "    ax.coastlines()\n",
    "    ax.add_feature(cartopy.feature.BORDERS, color = \"k\", ls = \"--\", alpha = 0.5)\n",
    "    \n",
    "    ax.set_title(main[pv])\n",
    "    \n",
    "    ax.gridlines(color = \"k\", alpha = 0.1, xlocs = range(-120,-80,5), draw_labels = [\"bottom\"])\n",
    "    \n",
    "axs[0].gridlines(alpha = 0, draw_labels = [\"left\"])\n"
   ]
  },
  {
   "cell_type": "code",
   "execution_count": null,
   "metadata": {},
   "outputs": [],
   "source": []
  }
 ],
 "metadata": {
  "kernelspec": {
   "display_name": "wwa",
   "language": "python",
   "name": "wwa"
  },
  "language_info": {
   "codemirror_mode": {
    "name": "ipython",
    "version": 3
   },
   "file_extension": ".py",
   "mimetype": "text/x-python",
   "name": "python",
   "nbconvert_exporter": "python",
   "pygments_lexer": "ipython3",
   "version": "3.10.8"
  }
 },
 "nbformat": 4,
 "nbformat_minor": 2
}
