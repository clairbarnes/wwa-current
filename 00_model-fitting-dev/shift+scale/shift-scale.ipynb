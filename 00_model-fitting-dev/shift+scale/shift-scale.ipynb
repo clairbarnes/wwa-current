{
 "cells": [
  {
   "cell_type": "markdown",
   "id": "8cd0ee82-af3e-48ce-8fd6-5bf5ff6ab891",
   "metadata": {
    "tags": []
   },
   "source": [
    "# **Testing implementation of shift + scale fitting on Climate Explorer**\n",
    "\n",
    "**Check results & plots obtained using Climate Explorer against those obtained using extRemes package**\n",
    "\n",
    "_Always assume that 2023 is year of interest, with counterfactual covariate -0.93514 (so that mu0 and sigma0 are at GMST = 0)_"
   ]
  },
  {
   "cell_type": "code",
   "execution_count": 1,
   "id": "cea49fd7-3919-4df8-be36-df9d82f1c9e2",
   "metadata": {},
   "outputs": [],
   "source": [
    "source(\"../methods_extRemes.r\")\n",
    "\n",
    "gmst <- read.fwf(\"ts/gmst.txt\", comment.char = \"#\", widths = c(5,20), col.names = c(\"year\", \"gmst\"))\n",
    "gmst_2023 <- gmst$gmst[gmst$year == 2023]\n",
    "gmst_cf <- 0\n",
    "\n",
    "# method to extract parameter estimates from Climate Explorer output\n",
    "cx_par_ests <- function(parstring) {\n",
    "    cols <- gsub(\"\\\\.\\\\.\\\\.\", \"\",unlist(strsplit(paste0(unlist(strsplit(cx[grepl(parstring, cx)], \"(<.+?>)\")), collapse = \"\"), \" +\")))\n",
    "    setNames(as.numeric(cols[length(cols) - (2:0)]), c(\"bestimate\", \"lower\", \"upper\"))[c(2,1,3)]\n",
    "}\n",
    "\n",
    "# method to modify size of plotting area\n",
    "prep_window <- function(rc = c(1,1), w = 4, h = 4, ...) { options(repr.plot.width = rc[2]*w, repr.plot.height = rc[1]*h, repr.plot.res = 200); par(mfrow = rc, pch = 20, ...) }\n",
    "\n",
    "# method to quickly transform observations to a given covariate\n",
    "stransf <- function(mdl, qcov) {\n",
    "    pars <- findpars(mdl, qcov = qcov)\n",
    "    sort(revtrans.evd(trans(mdl), loc = sum(pars$loc), scale = sum(pars$scale), shape = pars$shape))\n",
    "}"
   ]
  },
  {
   "cell_type": "markdown",
   "id": "ef79efee-2f0d-4ef1-af40-d6d4f397c7e1",
   "metadata": {},
   "source": [
    "## **GEV - maximum temperatures**"
   ]
  },
  {
   "cell_type": "code",
   "execution_count": 2,
   "id": "64c309ec-eabc-4dbc-923c-9aa867e2a8bd",
   "metadata": {},
   "outputs": [],
   "source": [
    "dist <- \"GEV\"\n",
    "data <- \"TXx-deBilt\"\n",
    "\n",
    "# load time series & fit model using extRemes package\n",
    "df <- merge(gmst, read.fwf(paste0(\"ts/\",data,\".txt\"), comment.char = \"#\", widths = c(5,20), col.names = c(\"year\", \"var\")))\n",
    "mdl <- fevd(var, df, location.fun = ~gmst, scale.fun = ~gmst, type = dist)\n",
    "\n",
    "# extract parameters from Climate Explorer output & R fitted model\n",
    "cx <- readLines(paste0(\"cx/cx_\",tolower(dist),\"_\",data,\".txt\")) \n",
    "cx_res <- t(sapply(c(\"mu0\" = \"mu;':</td><td>  -0.94\", \"mu1\" = \"alpha;:\", \"sigma0\" = \"sigma;':</td><td>  -0.94\", \"sigma1\" = \"beta;:\", \"shape\" = \"xi;:\"), cx_par_ests))\n",
    "r_res <- matrix(ci(mdl, type = \"parameter\"), dim(cx_res))"
   ]
  },
  {
   "cell_type": "markdown",
   "id": "c654c094-6e8c-4757-bd8a-655130225cd0",
   "metadata": {},
   "source": [
    "### **Parameter estimates**\n",
    "_Update parameter selection according to model fitted_"
   ]
  },
  {
   "cell_type": "code",
   "execution_count": 3,
   "id": "55f410b0-e066-4ced-b8a4-125af7a7f4a1",
   "metadata": {},
   "outputs": [],
   "source": [
    "# extract parameters from Climate Explorer output & R fitted model\n",
    "cx <- readLines(paste0(\"cx/cx_\",tolower(dist),\"_\",data,\".txt\")) \n",
    "cx_res <- t(sapply(c(\"mu0\" = \"mu;':</td><td>  -0.94\", \"mu1\" = \"alpha;:\", \"sigma0\" = \"sigma;':</td><td>  -0.94\", \"sigma1\" = \"beta;:\", \"shape\" = \"xi;:\"), cx_par_ests))\n",
    "r_res <- matrix(ci(mdl, type = \"parameter\"), dim(cx_res))"
   ]
  },
  {
   "cell_type": "code",
   "execution_count": 4,
   "id": "37cb7253-f6e5-4f2d-9ffd-29837727aabc",
   "metadata": {},
   "outputs": [
    {
     "data": {
      "text/html": [
       "<strong>png:</strong> 2"
      ],
      "text/latex": [
       "\\textbf{png:} 2"
      ],
      "text/markdown": [
       "**png:** 2"
      ],
      "text/plain": [
       "png \n",
       "  2 "
      ]
     },
     "metadata": {},
     "output_type": "display_data"
    }
   ],
   "source": [
    "k <- nrow(cx_res) # number of parameters, to sort out plot size\n",
    "prep_window(c(1,k / 2.5))\n",
    "\n",
    "png(paste0(\"fig/\", tolower(dist),\"_\",data,\"_par-ests.png\"), height = 360, width = 480 * 2); par(cex.main = 1.4); {\n",
    "    par(mfrow = c(1,k), oma = c(0,0,2,0))\n",
    "    for (i in 1:k) {\n",
    "        plot(rep(1,3), cx_res[i,], type = \"l\", lwd = 5, col = adjustcolor(\"blue\", 0.4), xlim = c(0.5, 2.5), ylim = range(pretty(c(cx_res[i,], r_res[i,]))),\n",
    "             main = rownames(cx_res)[i], xlab = \"\", ylab = \"\", xaxt = \"n\")\n",
    "        lines(rep(2,3), r_res[i,], type = \"l\", lwd = 5, col = adjustcolor(\"red\", 0.4))\n",
    "        points(1,cx_res[i,2], pch = 20, lwd = 5, col = \"darkblue\")\n",
    "        points(2,r_res[i,2], pch = 20, lwd = 5, col = \"darkred\")\n",
    "        axis(1, at = c(1,2), labels = c(\"CX\", \"R\"))\n",
    "    }\n",
    "    mtext(paste0(\"Comparison of parameter estimates - \",dist,\", \",data), outer = T, font = 2)\n",
    "}; dev.off()"
   ]
  },
  {
   "cell_type": "markdown",
   "id": "5e528622-fb42-482d-ad33-aab4f6a34902",
   "metadata": {},
   "source": [
    "### **Transformed observations & return level plots**\n",
    "_Convert fitted values to negative if necessary_"
   ]
  },
  {
   "cell_type": "code",
   "execution_count": 5,
   "id": "81e7d205-5baf-4aa5-a1fd-c33d036fd489",
   "metadata": {},
   "outputs": [],
   "source": [
    "# read Climate Explorer output & split into factual/counterfactual\n",
    "cx <- read.table(paste0(\"cx/cx_\",tolower(dist),\"_\",data,\".txt\"), col.names = c(\"n\", \"gumbel\", \"Y\", \"fit\", \"rp\", \"date\"), na.strings = \"-999.900\")\n",
    "\n",
    "cx_cf <- cx[1:((nrow(cx)-2) / 2),]\n",
    "cx_f <- cx[-c(1:((nrow(cx)-2) / 2),nrow(cx)-(0:1)),]\n",
    "cx_obs <- cx[nrow(cx),\"fit\"]\n",
    "\n",
    "# calculate the necessary return levels from model fitted in R (NB sign correction needed on fitted values)\n",
    "qcov_f <- make.qcov(mdl, vals = list(\"mu1\" = gmst_2023, \"sigma1\" = gmst_2023))\n",
    "qcov_cf <- make.qcov(mdl, vals = list(\"mu1\" = gmst_cf, \"sigma1\" = gmst_cf))\n",
    "\n",
    "obs_f <- stransf(mdl, qcov = qcov_f)\n",
    "obs_cf <- stransf(mdl, qcov = qcov_cf)\n",
    "\n",
    "exp_cf <- return.level(mdl, cx_cf[-(1:20),c(\"rp\")], qcov = qcov_cf)\n",
    "exp_f <- return.level(mdl, cx_f[-(1:20),c(\"rp\")], qcov = qcov_f)"
   ]
  },
  {
   "cell_type": "code",
   "execution_count": 6,
   "id": "e5e0651c-8fe0-4e71-bf85-9d4e5f8e6232",
   "metadata": {},
   "outputs": [
    {
     "data": {
      "text/html": [
       "<strong>png:</strong> 2"
      ],
      "text/latex": [
       "\\textbf{png:} 2"
      ],
      "text/markdown": [
       "**png:** 2"
      ],
      "text/plain": [
       "png \n",
       "  2 "
      ]
     },
     "metadata": {},
     "output_type": "display_data"
    }
   ],
   "source": [
    "# compare transformed observations\n",
    "\n",
    "prep_window(c(1,2))\n",
    "\n",
    "xylim <- range(pretty(c(exp_f, exp_cf, cx_cf$fit[-(1:20)], cx_f$fit[-(1:20)])))\n",
    "\n",
    "png(paste0(\"fig/\", tolower(dist),\"_\",data,\"_plotted-values.png\"), height = 480 * 1, width = 480 * 2); par(cex.main = 1.4); {\n",
    "    par(mfrow = c(1,2), oma = c(0,0,2,0), pch = 20)\n",
    "\n",
    "    plot(0, type = \"n\", xlim = xylim, ylim = xylim, xlab = \"Calculated in R\", ylab = \"Calculated in Climate Explorer\", main = \"Transformed observations\")\n",
    "    points(obs_cf, cx_cf[cx_cf$date > 0,c(\"Y\")], col = \"blue\")\n",
    "    points(obs_f, cx_f[cx_f$date > 0,c(\"Y\")], col = \"firebrick\")\n",
    "    abline(0,1)\n",
    "\n",
    "    plot(0, type = \"n\", xlim = xylim, ylim = xylim, xlab = \"Calculated in R\", ylab = \"Calculated in Climate Explorer\", main = \"Expected values\")\n",
    "    points(exp_cf, cx_cf[-(1:20),c(\"fit\")], col = \"blue\")\n",
    "    points(exp_f, cx_f[-(1:20),c(\"fit\")], col = \"firebrick\")\n",
    "    abline(0,1)\n",
    "\n",
    "    mtext(paste0(\"Comparison of plotted values - \",dist,\", \",data), outer = T, font = 2)\n",
    "}; dev.off()"
   ]
  },
  {
   "cell_type": "code",
   "execution_count": 7,
   "id": "f9ec94e5-bcd3-4079-b316-f886ad0d0749",
   "metadata": {},
   "outputs": [
    {
     "data": {
      "text/html": [
       "<strong>png:</strong> 2"
      ],
      "text/latex": [
       "\\textbf{png:} 2"
      ],
      "text/markdown": [
       "**png:** 2"
      ],
      "text/plain": [
       "png \n",
       "  2 "
      ]
     },
     "metadata": {},
     "output_type": "display_data"
    }
   ],
   "source": [
    "## Return level plots\n",
    "\n",
    "prep_window(c(1,2))\n",
    "png(paste0(\"fig/\", tolower(dist),\"_\",data,\"_return_levels.png\"), height = 480 * 1, width = 480 * 2); par(cex.main = 1.4); {\n",
    "    par(mfrow = c(1,2), oma = c(0,0,2,0), pch = 20)\n",
    "\n",
    "    plot(0, type = \"n\", xlim = range(cx_cf$rp), ylim = xylim, log = \"x\", xlab = \"Return period (years)\", ylab = data, main = \"Climate Explorer\")\n",
    "        lines(cx_cf[-(1:20),c(\"rp\", \"fit\")], col = \"blue\", lwd = 2)\n",
    "        lines(cx_f[-(1:20),c(\"rp\", \"fit\")], col = \"firebrick\", lwd = 2)\n",
    "\n",
    "        points(cx_cf[cx_cf$date > 0,c(\"rp\",\"Y\")], col = \"blue\", pch = 4, lwd = 2, cex = 0.7)\n",
    "        points(cx_f[cx_f$date > 0,c(\"rp\",\"Y\")], col = \"firebrick\", pch = 4, lwd = 2, cex = 0.7)\n",
    "\n",
    "    plot(0, type = \"n\", xlim = range(cx_cf$rp), ylim = xylim, log = \"x\", xlab = \"Return period (years)\", ylab = data, main = \"Calculated in R\")\n",
    "        lines(cx_cf[-(1:20),c(\"rp\")], exp_cf, col = \"blue\", lwd = 2)\n",
    "        lines(cx_f[-(1:20),c(\"rp\")], exp_f, col = \"firebrick\", lwd = 2)\n",
    "\n",
    "        points(cx_cf[cx_cf$date > 0,c(\"rp\")], obs_cf, col = \"blue\", pch = 4, lwd = 2, cex = 0.7)\n",
    "        points(cx_f[cx_f$date > 0,c(\"rp\")], obs_f, col = \"firebrick\", pch = 4, lwd = 2, cex = 0.7)\n",
    "\n",
    "    mtext(paste0(\"Return level plots - \",dist,\", \",data), outer = T, font = 2)\n",
    "}; dev.off()"
   ]
  },
  {
   "cell_type": "markdown",
   "id": "ef6ed2ce-0d3c-4367-a6be-b9208e28a616",
   "metadata": {},
   "source": [
    "### **GMST trend**\n",
    "_Convert fitted values to negative if necessary_"
   ]
  },
  {
   "cell_type": "code",
   "execution_count": 12,
   "id": "5542035a-544a-4b0b-a293-149587b842d1",
   "metadata": {},
   "outputs": [
    {
     "data": {
      "text/html": [
       "<strong>png:</strong> 2"
      ],
      "text/latex": [
       "\\textbf{png:} 2"
      ],
      "text/markdown": [
       "**png:** 2"
      ],
      "text/plain": [
       "png \n",
       "  2 "
      ]
     },
     "metadata": {},
     "output_type": "display_data"
    }
   ],
   "source": [
    "# load fitted GMST trend from Climate Explorer\n",
    "cx_fit <- read.table(paste0(\"cx/cx_\",tolower(dist),\"_\",data,\"_obsplot.txt\"), comment.char = \"#\", skip = nrow(df)+5,\n",
    "                    col.names = c(\"gmst\", \"var\", \"rl6\", \"rl40\"))\n",
    "\n",
    "## GMST trend plots\n",
    "prep_window(c(1,2)); par(mfrow = c(1,1))\n",
    "png(paste0(\"fig/\", tolower(dist),\"_\",data,\"_gmsttrend.png\"), height = 480 * 1, width = 480 * 2); par(cex.main = 1.4); {\n",
    "    plot(df[,c(\"gmst\", \"var\")], pch = 20, ylim = range(pretty(c(unlist(cx_fit[,-1]), df$var))), xlab = \"GMST\", ylab = data,\n",
    "        main = paste0(\"Fitted trend - \",dist,\", \",data))\n",
    "    matplot(cx_fit[1:101,1], cx_fit[1:101,-1], type = \"l\", lty = 1, add = T, col = \"black\", lwd = 3:1)\n",
    "\n",
    "    lines(sort(df$gmst), findpars(mdl)$location[order(df$gmst)], col = \"red\", lty = 2, lwd = 3)\n",
    "    matplot(sort(df$gmst), return.level(mdl, c(6,40))[order(df$gmst),], type = \"l\", lty = 2, add = T, col = \"red\", lwd = 2:1)\n",
    "}; dev.off()"
   ]
  },
  {
   "cell_type": "markdown",
   "id": "821e1fbb-add1-4ca3-a1dd-57e353a4faff",
   "metadata": {},
   "source": [
    "## **GEV - minimum temperatures**"
   ]
  },
  {
   "cell_type": "code",
   "execution_count": 29,
   "id": "1688fad7-56ea-4210-bfda-709c3dfba462",
   "metadata": {},
   "outputs": [],
   "source": [
    "dist <- \"GEV\"\n",
    "data <- \"TNn-deBilt\"\n",
    "\n",
    "# load time series & fit model using extRemes package\n",
    "df <- merge(gmst, read.fwf(paste0(\"ts/\",data,\".txt\"), comment.char = \"#\", widths = c(5,20), col.names = c(\"year\", \"var\")))\n",
    "\n",
    "# fit model to negative temperatures so that we can still look at block maxima\n",
    "df$nvar <- -df$var\n",
    "mdl <- fevd(nvar, df, location.fun = ~gmst, scale.fun = ~gmst, type = dist)"
   ]
  },
  {
   "cell_type": "markdown",
   "id": "45d8b9de-8e42-47b3-a4e3-4fbd16d5147d",
   "metadata": {},
   "source": [
    "### **Parameter estimates**\n",
    "_Update parameter selection according to model fitted_"
   ]
  },
  {
   "cell_type": "code",
   "execution_count": 30,
   "id": "42e2a9bf-6ab3-4e39-80a8-c525a12c89e1",
   "metadata": {},
   "outputs": [],
   "source": [
    "# extract parameters from Climate Explorer output & R fitted model\n",
    "cx <- readLines(paste0(\"cx/cx_\",tolower(dist),\"_\",data,\".txt\")) \n",
    "cx_res <- t(sapply(c(\"mu0\" = \"mu;':</td><td>  -0.94\", \"mu1\" = \"alpha;:\", \"sigma0\" = \"sigma;':</td><td>  -0.94\", \"sigma1\" = \"beta;:\", \"shape\" = \"xi;:\"), cx_par_ests))\n",
    "r_res <- matrix(ci(mdl, type = \"parameter\"), dim(cx_res))\n",
    "\n",
    "# correct signs of parameter estimates\n",
    "cx_res[\"sigma0\",] <- -cx_res[\"sigma0\",]\n",
    "cx_res[\"sigma1\",] <- -cx_res[\"sigma1\",]\n",
    "r_res[1:2,] <- -r_res[1:2,]"
   ]
  },
  {
   "cell_type": "code",
   "execution_count": 30,
   "id": "3d33e90a-054b-4bca-ac64-b452c5d1a30b",
   "metadata": {},
   "outputs": [
    {
     "data": {
      "text/html": [
       "<strong>png:</strong> 2"
      ],
      "text/latex": [
       "\\textbf{png:} 2"
      ],
      "text/markdown": [
       "**png:** 2"
      ],
      "text/plain": [
       "png \n",
       "  2 "
      ]
     },
     "metadata": {},
     "output_type": "display_data"
    }
   ],
   "source": [
    "k <- nrow(cx_res) # number of parameters, to sort out plot size\n",
    "prep_window(c(1,k / 2.5))\n",
    "\n",
    "png(paste0(\"fig/\", tolower(dist),\"_\",data,\"_par-ests.png\"), height = 360, width = 480 * 2); par(cex.main = 1.4); {\n",
    "    par(mfrow = c(1,k), oma = c(0,0,2,0))\n",
    "    for (i in 1:k) {\n",
    "        plot(rep(1,3), cx_res[i,], type = \"l\", lwd = 5, col = adjustcolor(\"blue\", 0.4), xlim = c(0.5, 2.5), ylim = range(pretty(c(cx_res[i,], r_res[i,]))),\n",
    "             main = rownames(cx_res)[i], xlab = \"\", ylab = \"\", xaxt = \"n\")\n",
    "        lines(rep(2,3), r_res[i,], type = \"l\", lwd = 5, col = adjustcolor(\"red\", 0.4))\n",
    "        points(1,cx_res[i,2], pch = 20, lwd = 5, col = \"darkblue\")\n",
    "        points(2,r_res[i,2], pch = 20, lwd = 5, col = \"darkred\")\n",
    "        axis(1, at = c(1,2), labels = c(\"CX\", \"R\"))\n",
    "    }\n",
    "    mtext(paste0(\"Comparison of parameter estimates - \",dist,\", \",data), outer = T, font = 2)\n",
    "}; dev.off()"
   ]
  },
  {
   "cell_type": "markdown",
   "id": "1e3c2b58-12de-4db6-bb3e-c50e0272e8eb",
   "metadata": {},
   "source": [
    "### **Transformed observations & return level plots**\n",
    "_Convert fitted values to negative if necessary_"
   ]
  },
  {
   "cell_type": "code",
   "execution_count": 31,
   "id": "43f0fe52-5098-49d4-a3e8-281dc3e633e1",
   "metadata": {},
   "outputs": [],
   "source": [
    "# read Climate Explorer output & split into factual/counterfactual\n",
    "cx <- read.table(paste0(\"cx/cx_\",tolower(dist),\"_\",data,\".txt\"), col.names = c(\"n\", \"gumbel\", \"Y\", \"fit\", \"rp\", \"date\"), na.strings = \"-999.900\")\n",
    "\n",
    "cx_cf <- cx[1:((nrow(cx)-2) / 2),]\n",
    "cx_f <- cx[-c(1:((nrow(cx)-2) / 2),nrow(cx)-(0:1)),]\n",
    "cx_obs <- cx[nrow(cx),\"fit\"]\n",
    "\n",
    "# calculate the necessary return levels from model fitted in R (NB sign correction needed on fitted values)\n",
    "qcov_f <- make.qcov(mdl, vals = list(\"mu1\" = gmst_2023, \"sigma1\" = gmst_2023))\n",
    "qcov_cf <- make.qcov(mdl, vals = list(\"mu1\" = gmst_cf, \"sigma1\" = gmst_cf))\n",
    "\n",
    "obs_f <- -stransf(mdl, qcov = qcov_f)\n",
    "obs_cf <- -stransf(mdl, qcov = qcov_cf)\n",
    "\n",
    "exp_cf <- -return.level(mdl, cx_cf[-(1:20),c(\"rp\")], qcov = qcov_cf)\n",
    "exp_f <- -return.level(mdl, cx_f[-(1:20),c(\"rp\")], qcov = qcov_f)"
   ]
  },
  {
   "cell_type": "code",
   "execution_count": 33,
   "id": "d3b4b654-f1c2-4215-911c-0ed0d8606238",
   "metadata": {},
   "outputs": [
    {
     "data": {
      "text/html": [
       "<strong>png:</strong> 2"
      ],
      "text/latex": [
       "\\textbf{png:} 2"
      ],
      "text/markdown": [
       "**png:** 2"
      ],
      "text/plain": [
       "png \n",
       "  2 "
      ]
     },
     "metadata": {},
     "output_type": "display_data"
    }
   ],
   "source": [
    "# compare transformed observations\n",
    "\n",
    "prep_window(c(1,2))\n",
    "\n",
    "xylim <- range(pretty(c(exp_f, exp_cf, cx_cf$fit[-(1:20)], cx_f$fit[-(1:20)])))\n",
    "\n",
    "png(paste0(\"fig/\", tolower(dist),\"_\",data,\"_plotted-values.png\"), height = 480 * 1, width = 480 * 2); par(cex.main = 1.4); {\n",
    "    par(mfrow = c(1,2), oma = c(0,0,2,0), pch = 20)\n",
    "\n",
    "    plot(0, type = \"n\", xlim = xylim, ylim = xylim, xlab = \"Calculated in R\", ylab = \"Calculated in Climate Explorer\", main = \"Transformed observations\")\n",
    "    points(obs_cf, cx_cf[cx_cf$date > 0,c(\"Y\")], col = \"blue\")\n",
    "    points(obs_f, cx_f[cx_f$date > 0,c(\"Y\")], col = \"firebrick\")\n",
    "    abline(0,1)\n",
    "\n",
    "    plot(0, type = \"n\", xlim = xylim, ylim = xylim, xlab = \"Calculated in R\", ylab = \"Calculated in Climate Explorer\", main = \"Expected values\")\n",
    "    points(exp_cf, cx_cf[-(1:20),c(\"fit\")], col = \"blue\")\n",
    "    points(exp_f, cx_f[-(1:20),c(\"fit\")], col = \"firebrick\")\n",
    "    abline(0,1)\n",
    "\n",
    "    mtext(paste0(\"Comparison of plotted values - \",dist,\", \",data), outer = T, font = 2)\n",
    "}; dev.off()"
   ]
  },
  {
   "cell_type": "code",
   "execution_count": 34,
   "id": "80e20ab6-95d3-4b44-ab91-86db598944ff",
   "metadata": {},
   "outputs": [
    {
     "data": {
      "text/html": [
       "<strong>png:</strong> 2"
      ],
      "text/latex": [
       "\\textbf{png:} 2"
      ],
      "text/markdown": [
       "**png:** 2"
      ],
      "text/plain": [
       "png \n",
       "  2 "
      ]
     },
     "metadata": {},
     "output_type": "display_data"
    }
   ],
   "source": [
    "## Return level plots\n",
    "\n",
    "prep_window(c(1,2)); par(mfrow = c(1,1))\n",
    "png(paste0(\"fig/\", tolower(dist),\"_\",data,\"_return_levels.png\"), height = 480 * 1, width = 480 * 2); par(cex.main = 1.4); {\n",
    "    par(mfrow = c(1,2), oma = c(0,0,2,0), pch = 20)\n",
    "\n",
    "    plot(0, type = \"n\", xlim = range(cx_cf$rp), ylim = xylim, log = \"x\", xlab = \"Return period (years)\", ylab = data, main = \"Climate Explorer\")\n",
    "        lines(cx_cf[-(1:20),c(\"rp\", \"fit\")], col = \"blue\", lwd = 2)\n",
    "        lines(cx_f[-(1:20),c(\"rp\", \"fit\")], col = \"firebrick\", lwd = 2)\n",
    "\n",
    "        points(cx_cf[cx_cf$date > 0,c(\"rp\",\"Y\")], col = \"blue\", pch = 4, lwd = 2, cex = 0.7)\n",
    "        points(cx_f[cx_f$date > 0,c(\"rp\",\"Y\")], col = \"firebrick\", pch = 4, lwd = 2, cex = 0.7)\n",
    "\n",
    "    plot(0, type = \"n\", xlim = range(cx_cf$rp), ylim = xylim, log = \"x\", xlab = \"Return period (years)\", ylab = data, main = \"Calculated in R\")\n",
    "        lines(cx_cf[-(1:20),c(\"rp\")], exp_cf, col = \"blue\", lwd = 2)\n",
    "        lines(cx_f[-(1:20),c(\"rp\")], exp_f, col = \"firebrick\", lwd = 2)\n",
    "\n",
    "        points(cx_cf[cx_cf$date > 0,c(\"rp\")], obs_cf, col = \"blue\", pch = 4, lwd = 2, cex = 0.7)\n",
    "        points(cx_f[cx_f$date > 0,c(\"rp\")], obs_f, col = \"firebrick\", pch = 4, lwd = 2, cex = 0.7)\n",
    "\n",
    "    mtext(paste0(\"Return level plots - \",dist,\", \",data), outer = T, font = 2)\n",
    "}; dev.off()"
   ]
  },
  {
   "cell_type": "markdown",
   "id": "5f175d07-ae50-4395-b5ea-2ff4339cbd05",
   "metadata": {},
   "source": [
    "### **GMST trend**\n",
    "_Convert fitted values to negative if necessary_"
   ]
  },
  {
   "cell_type": "code",
   "execution_count": 110,
   "id": "84264b8e-4633-4b0c-b84b-8c212ef477c5",
   "metadata": {},
   "outputs": [],
   "source": [
    "# load fitted GMST trend from Climate Explorer\n",
    "cx_fit <- read.table(paste0(\"cx/cx_\",tolower(dist),\"_\",data,\"_obsplot.txt\"), comment.char = \"#\", skip = nrow(df)+5,\n",
    "                    col.names = c(\"gmst\", \"var\", \"rl6\", \"rl40\"))\n",
    "\n",
    "## GMST trend plots\n",
    "prep_window(c(1,2))\n",
    "png(paste0(\"fig/\", tolower(dist),\"_\",data,\"_gmsttrend.png\"), height = 480 * 1, width = 480 * 2); par(cex.main = 1.4); {\n",
    "    plot(df[,c(\"gmst\", \"var\")], pch = 20, ylim = range(pretty(c(unlist(cx_fit[,-1]), df$var))), xlab = \"GMST\", ylab = data,\n",
    "        main = paste0(\"Fitted trend - \",dist,\", \",data))\n",
    "    matplot(cx_fit[1:101,1], cx_fit[1:101,-1], type = \"l\", lty = 1, add = T, col = \"black\", lwd = 3:1)\n",
    "\n",
    "    lines(sort(df$gmst), -findpars(mdl)$location[order(df$gmst)], col = \"red\", lty = 2, lwd = 3)\n",
    "    matplot(sort(df$gmst), -return.level(mdl, c(6,40))[order(df$gmst),], type = \"l\", lty = 2, add = T, col = \"red\", lwd = 2:1)\n",
    "}; dev.off()"
   ]
  },
  {
   "cell_type": "markdown",
   "id": "6ff72a85-04ca-4507-9410-54169b2ff173",
   "metadata": {},
   "source": [
    "# **Custom optimisation**"
   ]
  },
  {
   "cell_type": "code",
   "execution_count": 242,
   "id": "5b4922fd-9b21-4553-829f-576e06202885",
   "metadata": {},
   "outputs": [],
   "source": [
    "source(\"../../wwa_model-fitting.R\")\n",
    "\n",
    "# method to get a quick parametric confidence interval on parameters\n",
    "par_ci_normal <- function(mdl, alpha = 0.05) {\n",
    "    \n",
    "    z.alpha <- qnorm(alpha/2, lower.tail = FALSE)\n",
    "    \n",
    "    p <- mdl$par\n",
    "    \n",
    "    cov.theta <- solve(mdl$hessian)\n",
    "    var.theta <- diag(cov.theta)\n",
    "    if (any(var.theta < 0)) \n",
    "        stop(\"ci: negative Std. Err. estimates obtained.  Not trusting any of them.\")\n",
    "    \n",
    "    cbind(\"lower\" = p - z.alpha * sqrt(var.theta), \"est\" = p, \"upper\" = p + z.alpha * sqrt(var.theta))\n",
    "}"
   ]
  },
  {
   "cell_type": "markdown",
   "id": "89d68622-b80e-441e-b9dd-a647065f159f",
   "metadata": {},
   "source": [
    "## **Test my code against FEVD**"
   ]
  },
  {
   "cell_type": "code",
   "execution_count": 243,
   "id": "517cca30-0b5c-4312-816c-8417b56c5fb7",
   "metadata": {},
   "outputs": [],
   "source": [
    "dist <- \"GEV\"\n",
    "data <- \"TXx-deBilt\"\n",
    "\n",
    "# load time series & fit model\n",
    "df <- merge(gmst, read.fwf(paste0(\"ts/\",data,\".txt\"), comment.char = \"#\", widths = c(5,20), col.names = c(\"year\", \"var\")))\n",
    "mdl_fevd <- fevd(var, df, location.fun = ~gmst, scale.fun = ~gmst, type = dist, optim.args = list(\"method\" = \"BFGS\"))\n",
    "mdl_cb <- fit_ns(tolower(dist), \"shiftscale\", df, \"var\", \"gmst\", method = \"BFGS\")"
   ]
  },
  {
   "cell_type": "code",
   "execution_count": 244,
   "id": "e91e5096-3187-4de5-8e27-d9b45f359f6d",
   "metadata": {},
   "outputs": [
    {
     "data": {
      "text/html": [
       "247.954561572428"
      ],
      "text/latex": [
       "247.954561572428"
      ],
      "text/markdown": [
       "247.954561572428"
      ],
      "text/plain": [
       "[1] 247.9546"
      ]
     },
     "metadata": {},
     "output_type": "display_data"
    },
    {
     "data": {
      "text/html": [
       "247.954559419086"
      ],
      "text/latex": [
       "247.954559419086"
      ],
      "text/markdown": [
       "247.954559419086"
      ],
      "text/plain": [
       "[1] 247.9546"
      ]
     },
     "metadata": {},
     "output_type": "display_data"
    },
    {
     "data": {
      "text/html": [
       "<style>\n",
       ".dl-inline {width: auto; margin:0; padding: 0}\n",
       ".dl-inline>dt, .dl-inline>dd {float: none; width: auto; display: inline-block}\n",
       ".dl-inline>dt::after {content: \":\\0020\"; padding-right: .5ex}\n",
       ".dl-inline>dt:not(:first-of-type) {padding-left: .5ex}\n",
       "</style><dl class=dl-inline><dt>mu0</dt><dd>1e-04</dd><dt>mu1</dt><dd>4e-04</dd><dt>sigma0</dt><dd>2e-04</dd><dt>sigma1</dt><dd>-2e-04</dd><dt>shape</dt><dd>0</dd></dl>\n"
      ],
      "text/latex": [
       "\\begin{description*}\n",
       "\\item[mu0] 1e-04\n",
       "\\item[mu1] 4e-04\n",
       "\\item[sigma0] 2e-04\n",
       "\\item[sigma1] -2e-04\n",
       "\\item[shape] 0\n",
       "\\end{description*}\n"
      ],
      "text/markdown": [
       "mu0\n",
       ":   1e-04mu1\n",
       ":   4e-04sigma0\n",
       ":   2e-04sigma1\n",
       ":   -2e-04shape\n",
       ":   0\n",
       "\n"
      ],
      "text/plain": [
       "   mu0    mu1 sigma0 sigma1  shape \n",
       " 1e-04  4e-04  2e-04 -2e-04  0e+00 "
      ]
     },
     "metadata": {},
     "output_type": "display_data"
    }
   ],
   "source": [
    "# check that function gives same results against extRemes - looks good enough to use for Gaussian model fitting\n",
    "mdl_fevd$results$value\n",
    "mdl_cb$value\n",
    "\n",
    "round(mdl_fevd$results$par - mdl_cb$par[c(\"mu0\", \"alpha\", \"sigma0\", \"beta\", \"shape\")], 4)"
   ]
  },
  {
   "cell_type": "code",
   "execution_count": 251,
   "id": "447746be-ed92-49f3-9b33-ecded4f6ea49",
   "metadata": {},
   "outputs": [
    {
     "data": {
      "text/html": [
       "<table class=\"dataframe\">\n",
       "<caption>A matrix: 5 × 3 of type dbl</caption>\n",
       "<thead>\n",
       "\t<tr><th></th><th scope=col>95% lower CI</th><th scope=col>Estimate</th><th scope=col>95% upper CI</th></tr>\n",
       "</thead>\n",
       "<tbody>\n",
       "\t<tr><th scope=row>mu0</th><td> 0e+00</td><td> 1e-04</td><td> 1e-04</td></tr>\n",
       "\t<tr><th scope=row>sigma0</th><td> 1e-04</td><td> 2e-04</td><td> 2e-04</td></tr>\n",
       "\t<tr><th scope=row>mu1</th><td> 4e-04</td><td> 4e-04</td><td> 4e-04</td></tr>\n",
       "\t<tr><th scope=row>sigma1</th><td>-3e-04</td><td>-2e-04</td><td>-1e-04</td></tr>\n",
       "\t<tr><th scope=row>shape</th><td> 0e+00</td><td> 0e+00</td><td> 1e-04</td></tr>\n",
       "</tbody>\n",
       "</table>\n"
      ],
      "text/latex": [
       "A matrix: 5 × 3 of type dbl\n",
       "\\begin{tabular}{r|lll}\n",
       "  & 95\\% lower CI & Estimate & 95\\% upper CI\\\\\n",
       "\\hline\n",
       "\tmu0 &  0e+00 &  1e-04 &  1e-04\\\\\n",
       "\tsigma0 &  1e-04 &  2e-04 &  2e-04\\\\\n",
       "\tmu1 &  4e-04 &  4e-04 &  4e-04\\\\\n",
       "\tsigma1 & -3e-04 & -2e-04 & -1e-04\\\\\n",
       "\tshape &  0e+00 &  0e+00 &  1e-04\\\\\n",
       "\\end{tabular}\n"
      ],
      "text/markdown": [
       "\n",
       "A matrix: 5 × 3 of type dbl\n",
       "\n",
       "| <!--/--> | 95% lower CI | Estimate | 95% upper CI |\n",
       "|---|---|---|---|\n",
       "| mu0 |  0e+00 |  1e-04 |  1e-04 |\n",
       "| sigma0 |  1e-04 |  2e-04 |  2e-04 |\n",
       "| mu1 |  4e-04 |  4e-04 |  4e-04 |\n",
       "| sigma1 | -3e-04 | -2e-04 | -1e-04 |\n",
       "| shape |  0e+00 |  0e+00 |  1e-04 |\n",
       "\n"
      ],
      "text/plain": [
       "       95% lower CI Estimate 95% upper CI\n",
       "mu0     0e+00        1e-04    1e-04      \n",
       "sigma0  1e-04        2e-04    2e-04      \n",
       "mu1     4e-04        4e-04    4e-04      \n",
       "sigma1 -3e-04       -2e-04   -1e-04      \n",
       "shape   0e+00        0e+00    1e-04      "
      ]
     },
     "metadata": {},
     "output_type": "display_data"
    }
   ],
   "source": [
    "# check estimated confidence intervals\n",
    "round(ci.fevd(mdl_fevd, type = \"parameter\")[c(1,3,2,4,5),] - par_ci_normal(mdl_cb), 4)"
   ]
  },
  {
   "cell_type": "markdown",
   "id": "1f2f2c7b-927a-462e-8a15-81549f530fb4",
   "metadata": {},
   "source": [
    "## **Gaussian - mean temperatures**"
   ]
  },
  {
   "cell_type": "code",
   "execution_count": 252,
   "id": "26f1e1a6-c877-474f-9a8a-ef08053251d9",
   "metadata": {},
   "outputs": [],
   "source": [
    "dist <- \"norm\"\n",
    "data <- \"TGg-deBilt\"\n",
    "\n",
    "# load time series & fit model using extRemes package\n",
    "df <- merge(gmst, read.fwf(paste0(\"ts/\",data,\".txt\"), comment.char = \"#\", widths = c(5,20), col.names = c(\"year\", \"var\")))\n",
    "mdl <- fit_ns(tolower(dist), \"shiftscale\", df, \"var\", \"gmst\")"
   ]
  },
  {
   "cell_type": "markdown",
   "id": "b82dc074-883d-4cb0-bdb6-97d8b060c617",
   "metadata": {},
   "source": [
    "### **Parameter estimates**\n",
    "_Update parameter selection according to model fitted_"
   ]
  },
  {
   "cell_type": "code",
   "execution_count": 253,
   "id": "de27a70a-cc05-49fa-b65e-23d0ee59a339",
   "metadata": {},
   "outputs": [],
   "source": [
    "# extract parameters from Climate Explorer output & R fitted model\n",
    "cx <- readLines(paste0(\"cx/cx_\",tolower(dist),\"_\",data,\".txt\")) \n",
    "cx_res <- t(sapply(c(\"mu0\" = \"mu;':</td><td> -999\", \"mu1\" = \"alpha;:\", \"sigma0\" = \"sigma;':</td><td> -999\", \"sigma1\" = \"beta;:\"), cx_par_ests))\n",
    "r_res <- par_ci_normal(mdl)[c(\"mu0\",\"alpha\",\"sigma0\",\"beta\"),]"
   ]
  },
  {
   "cell_type": "code",
   "execution_count": 254,
   "id": "362153ca-9fc3-471a-a369-48c515c5729e",
   "metadata": {},
   "outputs": [
    {
     "data": {
      "text/html": [
       "<strong>png:</strong> 2"
      ],
      "text/latex": [
       "\\textbf{png:} 2"
      ],
      "text/markdown": [
       "**png:** 2"
      ],
      "text/plain": [
       "png \n",
       "  2 "
      ]
     },
     "metadata": {},
     "output_type": "display_data"
    }
   ],
   "source": [
    "k <- nrow(cx_res) # number of parameters, to sort out plot size\n",
    "prep_window(c(1,k / 2.5))\n",
    "\n",
    "png(paste0(\"fig/\", tolower(dist),\"_\",data,\"_par-ests.png\"), height = 360, width = 480 * 2); par(cex.main = 1.4); {\n",
    "    par(mfrow = c(1,k), oma = c(0,0,2,0))\n",
    "    for (i in 1:k) {\n",
    "        plot(rep(1,3), cx_res[i,], type = \"l\", lwd = 5, col = adjustcolor(\"blue\", 0.4), xlim = c(0.5, 2.5), ylim = range(pretty(c(cx_res[i,], r_res[i,]))),\n",
    "             main = rownames(cx_res)[i], xlab = \"\", ylab = \"\", xaxt = \"n\")\n",
    "        lines(rep(2,3), r_res[i,], type = \"l\", lwd = 5, col = adjustcolor(\"red\", 0.4))\n",
    "        points(1,cx_res[i,2], pch = 20, lwd = 5, col = \"darkblue\")\n",
    "        points(2,r_res[i,2], pch = 20, lwd = 5, col = \"darkred\")\n",
    "        axis(1, at = c(1,2), labels = c(\"CX\", \"R\"))\n",
    "    }\n",
    "    mtext(paste0(\"Comparison of parameter estimates - \",dist,\", \",data), outer = T, font = 2)\n",
    "}; dev.off()"
   ]
  },
  {
   "cell_type": "markdown",
   "id": "0d8a571d-6a22-4d8c-9b64-83dfbe5ba854",
   "metadata": {},
   "source": [
    "### **Transformed observations & return level plots**\n",
    "_Convert fitted values to negative if necessary_"
   ]
  },
  {
   "cell_type": "code",
   "execution_count": 255,
   "id": "f9beb94b-59f7-47d0-ae91-76d0c80caab0",
   "metadata": {},
   "outputs": [],
   "source": [
    "# read Climate Explorer output & split into factual/counterfactual\n",
    "cx <- read.table(paste0(\"cx/cx_\",tolower(dist),\"_\",data,\".txt\"), col.names = c(\"n\", \"gumbel\", \"Y\", \"fit\", \"rp\", \"date\"), na.strings = \"-999.900\")\n",
    "\n",
    "cx_cf <- cx[1:((nrow(cx)-2) / 2),]\n",
    "cx_f <- cx[-c(1:((nrow(cx)-2) / 2),nrow(cx)-(0:1)),]\n",
    "cx_obs <- cx[nrow(cx),\"fit\"]"
   ]
  },
  {
   "cell_type": "code",
   "execution_count": 261,
   "id": "4a6e06fd-9281-4ff2-a623-6894c0e5c9a2",
   "metadata": {},
   "outputs": [],
   "source": [
    "# calculate the necessary return levels from model fitted in R (NB sign correction needed on fitted values)\n",
    "obs_f <- sort(stransform(mdl, fixed_cov = gmst_2023))\n",
    "obs_cf <- sort(stransform(mdl, fixed_cov = gmst_cf))\n",
    "\n",
    "exp_cf <- eff_return_level(cx_cf[-(1:20),c(\"rp\")], mdl, fixed_cov = gmst_cf)\n",
    "exp_f <- eff_return_level(cx_f[-(1:20),c(\"rp\")], mdl, fixed_cov = gmst_2023)"
   ]
  },
  {
   "cell_type": "code",
   "execution_count": 262,
   "id": "77248e52-b539-462e-aa95-cc7758bb8522",
   "metadata": {},
   "outputs": [
    {
     "data": {
      "text/html": [
       "<strong>png:</strong> 2"
      ],
      "text/latex": [
       "\\textbf{png:} 2"
      ],
      "text/markdown": [
       "**png:** 2"
      ],
      "text/plain": [
       "png \n",
       "  2 "
      ]
     },
     "metadata": {},
     "output_type": "display_data"
    }
   ],
   "source": [
    "# compare transformed observations\n",
    "\n",
    "prep_window(c(1,2))\n",
    "\n",
    "xylim <- range(pretty(c(exp_f, exp_cf, cx_cf$fit[-(1:20)], cx_f$fit[-(1:20)])))\n",
    "\n",
    "png(paste0(\"fig/\", tolower(dist),\"_\",data,\"_plotted-values.png\"), height = 480 * 1, width = 480 * 2); par(cex.main = 1.4); {\n",
    "    par(mfrow = c(1,2), oma = c(0,0,2,0), pch = 20)\n",
    "\n",
    "    plot(0, type = \"n\", xlim = xylim, ylim = xylim, xlab = \"Calculated in R\", ylab = \"Calculated in Climate Explorer\", main = \"Transformed observations\")\n",
    "    points(obs_cf, cx_cf[cx_cf$date > 0,c(\"Y\")], col = \"blue\")\n",
    "    points(obs_f, cx_f[cx_f$date > 0,c(\"Y\")], col = \"firebrick\")\n",
    "    abline(0,1)\n",
    "\n",
    "    plot(0, type = \"n\", xlim = xylim, ylim = xylim, xlab = \"Calculated in R\", ylab = \"Calculated in Climate Explorer\", main = \"Expected values\")\n",
    "    points(exp_cf, cx_cf[-(1:20),c(\"fit\")], col = \"blue\")\n",
    "    points(exp_f, cx_f[-(1:20),c(\"fit\")], col = \"firebrick\")\n",
    "    abline(0,1)\n",
    "\n",
    "    mtext(paste0(\"Comparison of plotted values - \",dist,\", \",data), outer = T, font = 2)\n",
    "}; dev.off()"
   ]
  },
  {
   "cell_type": "code",
   "execution_count": 267,
   "id": "857bf891-61d5-4161-b850-4642dd165fae",
   "metadata": {},
   "outputs": [
    {
     "data": {
      "text/html": [
       "<strong>png:</strong> 2"
      ],
      "text/latex": [
       "\\textbf{png:} 2"
      ],
      "text/markdown": [
       "**png:** 2"
      ],
      "text/plain": [
       "png \n",
       "  2 "
      ]
     },
     "metadata": {},
     "output_type": "display_data"
    }
   ],
   "source": [
    "## Return level plots\n",
    "\n",
    "prep_window(c(1,2))\n",
    "png(paste0(\"fig/\", tolower(dist),\"_\",data,\"_return_levels.png\"), height = 480 * 1, width = 480 * 2); par(cex.main = 1.4); {\n",
    "    par(mfrow = c(1,2), oma = c(0,0,2,0), pch = 20)\n",
    "\n",
    "    plot(0, type = \"n\", xlim = range(cx_cf$rp), ylim = xylim, log = \"x\", xlab = \"Return period (years)\", ylab = data, main = \"Climate Explorer\")\n",
    "        lines(cx_cf[-(1:20),c(\"rp\", \"fit\")], col = \"blue\", lwd = 2)\n",
    "        lines(cx_f[-(1:20),c(\"rp\", \"fit\")], col = \"firebrick\", lwd = 2)\n",
    "\n",
    "        points(cx_cf[cx_cf$date > 0,c(\"rp\",\"Y\")], col = \"blue\", pch = 4, lwd = 2, cex = 0.7)\n",
    "        points(cx_f[cx_f$date > 0,c(\"rp\",\"Y\")], col = \"firebrick\", pch = 4, lwd = 2, cex = 0.7)\n",
    "\n",
    "    plot(0, type = \"n\", xlim = range(cx_cf$rp), ylim = xylim, log = \"x\", xlab = \"Return period (years)\", ylab = data, main = \"Calculated in R\")\n",
    "        lines(cx_cf[-(1:20),c(\"rp\")], exp_cf, col = \"blue\", lwd = 2)\n",
    "        lines(cx_f[-(1:20),c(\"rp\")], exp_f, col = \"firebrick\", lwd = 2)\n",
    "\n",
    "        points(cx_cf[cx_cf$date > 0,c(\"rp\")], obs_cf, col = \"blue\", pch = 4, lwd = 2, cex = 0.7)\n",
    "        points(cx_f[cx_f$date > 0,c(\"rp\")], obs_f, col = \"firebrick\", pch = 4, lwd = 2, cex = 0.7)\n",
    "\n",
    "    mtext(paste0(\"Return level plots - \",dist,\", \",data), outer = T, font = 2)\n",
    "}; dev.off()"
   ]
  },
  {
   "cell_type": "markdown",
   "id": "017a4b34-1dd6-48f1-b045-ab6100f85c83",
   "metadata": {},
   "source": [
    "### **GMST trend**\n",
    "_Convert fitted values to negative if necessary_"
   ]
  },
  {
   "cell_type": "code",
   "execution_count": 266,
   "id": "7bf08163-8739-4965-8294-0ae6c832be01",
   "metadata": {},
   "outputs": [
    {
     "data": {
      "text/html": [
       "<strong>png:</strong> 2"
      ],
      "text/latex": [
       "\\textbf{png:} 2"
      ],
      "text/markdown": [
       "**png:** 2"
      ],
      "text/plain": [
       "png \n",
       "  2 "
      ]
     },
     "metadata": {},
     "output_type": "display_data"
    }
   ],
   "source": [
    "# load fitted GMST trend from Climate Explorer\n",
    "cx_fit <- read.table(paste0(\"cx/cx_\",tolower(dist),\"_\",data,\"_obsplot.txt\"), comment.char = \"#\", skip = nrow(df)+5,\n",
    "                    col.names = c(\"gmst\", \"var\", \"rl6\", \"rl40\"))\n",
    "\n",
    "## GMST trend plots\n",
    "prep_window(c(1,2)); par(mfrow = c(1,1))\n",
    "png(paste0(\"fig/\", tolower(dist),\"_\",data,\"_gmsttrend.png\"), height = 480 * 1, width = 480 * 2); par(cex.main = 1.4); {\n",
    "    plot(df[,c(\"gmst\", \"var\")], pch = 20, ylim = range(pretty(c(unlist(cx_fit[,-1]), df$var))), xlab = \"GMST\", ylab = data,\n",
    "        main = paste0(\"Fitted trend - \",dist,\", \",data))\n",
    "    matplot(cx_fit[1:101,1], cx_fit[1:101,-1], type = \"l\", lty = 1, add = T, col = \"black\", lwd = 3:1)\n",
    "\n",
    "    lines(sort(df$gmst), ns_pars(mdl)$loc[order(df$gmst)], col = \"red\", lty = 2, lwd = 3)\n",
    "    matplot(sort(df$gmst), eff_return_level(c(6,40), mdl)[order(df$gmst),], type = \"l\", lty = 2, add = T, col = \"red\", lwd = 2:1)\n",
    "}; dev.off()"
   ]
  },
  {
   "cell_type": "code",
   "execution_count": null,
   "id": "8664e989-ec37-4488-8971-d80ca299e9aa",
   "metadata": {},
   "outputs": [],
   "source": []
  }
 ],
 "metadata": {
  "kernelspec": {
   "display_name": "R [conda env:r_env]",
   "language": "R",
   "name": "conda-env-r_env-r"
  },
  "language_info": {
   "codemirror_mode": "r",
   "file_extension": ".r",
   "mimetype": "text/x-r-source",
   "name": "R",
   "pygments_lexer": "r",
   "version": "4.2.3"
  }
 },
 "nbformat": 4,
 "nbformat_minor": 5
}
