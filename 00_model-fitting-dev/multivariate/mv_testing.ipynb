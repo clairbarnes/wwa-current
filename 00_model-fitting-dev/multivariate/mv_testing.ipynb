{
 "cells": [
  {
   "cell_type": "markdown",
   "id": "32ec45ce-b013-4025-96a2-deb2caf4a1a2",
   "metadata": {},
   "source": [
    "# **Testing of multivariate extension to nonstationary model fitting**\n",
    "\n",
    "- aim: make all methods compatible with 0, 1 or n>1 covariates"
   ]
  },
  {
   "cell_type": "code",
   "execution_count": 1,
   "id": "3f514c04-b734-456f-aaec-7f249ad70b04",
   "metadata": {},
   "outputs": [],
   "source": [
    "# all functions are taken from original model fitting script unless superseded below\n",
    "source(\"../../wwa_model-fitting.R\")"
   ]
  },
  {
   "cell_type": "markdown",
   "id": "54b867e9-8906-4803-839e-8fbd15dc568a",
   "metadata": {
    "tags": []
   },
   "source": [
    "---\n",
    "# **Modified functions**"
   ]
  },
  {
   "cell_type": "markdown",
   "id": "f9ddec60-ba83-4042-acc7-89f1ade3ea2e",
   "metadata": {},
   "source": [
    "## **Parameter estimation**"
   ]
  },
  {
   "cell_type": "markdown",
   "id": "cfb30ff7-5b22-4c2c-a251-6c2a766b21cc",
   "metadata": {},
   "source": [
    "### `ns_loglik`\n",
    "\n",
    "_Needs rewriting so that nonstationary location & scale all come from the `ns_pars` method_"
   ]
  },
  {
   "cell_type": "code",
   "execution_count": 2,
   "id": "c3a09e1c-c1a5-421a-8a0c-72812bd57f4f",
   "metadata": {},
   "outputs": [],
   "source": [
    "ns_loglik <- function(pars, cov, x, dist, fittype) {\n",
    "\n",
    "    effect <- rowSums(sapply(names(cov), function(cnm) pars[paste0(\"alpha_\",cnm)] * cov[,cnm]))\n",
    "    \n",
    "    # compute nonstationary location & scale\n",
    "    if(fittype == \"fixeddisp\") {\n",
    "        const = exp(effect / pars[\"mu0\"])\n",
    "        loc = pars[\"mu0\"] * const\n",
    "        scale = pars[\"sigma0\"] * const\n",
    "    } else if(fittype == \"shift\") {\n",
    "        loc = pars[\"mu0\"] + effect\n",
    "        scale = pars[\"sigma0\"]\n",
    "    } else {\n",
    "        print(paste(fittype, \"not implemented\"))\n",
    "        return()\n",
    "    }\n",
    "\n",
    "    # constrain variance to be strictly positive\n",
    "    if(any(scale <= 0)) return(NA)\n",
    "        \n",
    "    # return negative log-likelihood\n",
    "    if(dist == \"norm\") {\n",
    "        return(-sum(dnorm(x, mean = loc, sd = scale, log = T)))\n",
    "    } else if(dist == \"gev\") {\n",
    "        shape = pars[\"shape\"]\n",
    "        return(-sum(devd(x, loc = loc, scale = scale, shape = shape, log = T)))\n",
    "    } else {\n",
    "        print(paste(dist, \"not implemented\"))\n",
    "        return()\n",
    "    }\n",
    "}"
   ]
  },
  {
   "cell_type": "markdown",
   "id": "f15deb76-371e-4edc-8462-346058fd1497",
   "metadata": {},
   "source": [
    "### `fit_ns`"
   ]
  },
  {
   "cell_type": "code",
   "execution_count": 3,
   "id": "b76b8caa-0293-487d-8667-607bb59cd448",
   "metadata": {},
   "outputs": [],
   "source": [
    "fit_ns <- function(dist, type = \"fixeddisp\", data, varnm, covnm, lower = F, mintemps = F, ev = NA, method = \"BFGS\", ...) {\n",
    "    \n",
    "    # currently only works for distributions fully specified by mean & sd: only tested for normal, lognormal\n",
    "    if(! dist %in% c(\"norm\", \"gev\")) {\n",
    "        print(\"Not yet implemented: use norm or gev\")\n",
    "        return()\n",
    "    }\n",
    "    \n",
    "    # add something here to automatically handle no covariates\n",
    "    \n",
    "    # if looking at minimum temperatures (or minima of negative values generally), need to flip data for stable model fitting\n",
    "    x <- data[,varnm]; if(mintemps) x <- -x\n",
    "    cov <- data[, covnm, drop = F]\n",
    "    k <- length(covnm)\n",
    "    \n",
    "    # fit model with appropriate number of parameters, pad if necessary\n",
    "    init <- c(\"mu0\" = mean(x), \"sigma0\" = sd(x), setNames(rep(0,k), paste0(\"alpha_\", covnm)))\n",
    "\n",
    "    if(dist == \"gev\") init <- c(init, \"shape\" = 0)\n",
    "    fitted <- suppressWarnings(optim(par = init, ns_loglik, cov = cov, x = x, dist = dist, fittype = type, method = method))\n",
    "    \n",
    "    # if looking at minimum temperatures (or minima of negative values generally), so trend & location parameters have been flipped. This may cause some confusion so may have to modify later!\n",
    "    if(mintemps) {\n",
    "        fitted[[\"NOTE\"]] <- \"NB: model parameters are estimated for negative values\"\n",
    "        fitted$par[\"mu0\"] <- -fitted$par[\"mu0\"]\n",
    "        fitted$par[grepl(\"alpha\", names(fitted$par))] <- -fitted$par[grepl(\"alpha\", names(fitted$par))]\n",
    "        x <- -x\n",
    "    }\n",
    "            \n",
    "    # attach assorted useful information\n",
    "    fitted[[\"dist\"]] <- dist\n",
    "    fitted[[\"type\"]] <- type\n",
    "    fitted[[\"varnm\"]] <- varnm\n",
    "    fitted[[\"covnm\"]] <- covnm\n",
    "    fitted[[\"data\"]] <- data\n",
    "    fitted[[\"x\"]] <- x\n",
    "    fitted[[\"cov\"]] <- cov\n",
    "    \n",
    "    fitted[[\"lower\"]] <- lower               # saves having to specify every time later on\n",
    "    fitted[[\"mintemps\"]] <- mintemps         # look at maxima of 0-temps, rather than minima of observed temps\n",
    "    \n",
    "    if(is.na(ev)) { ev <- x[length(x)] } # event value: assume that event of interest is most recent, unless told otherwise (used in later plotting functions)\n",
    "    fitted[[\"ev\"]] <- ev\n",
    "\n",
    "    return(fitted)\n",
    "}"
   ]
  },
  {
   "cell_type": "markdown",
   "id": "6bd1a1ce-51cf-4699-bede-755ee4ff301c",
   "metadata": {},
   "source": [
    "### `refit`"
   ]
  },
  {
   "cell_type": "code",
   "execution_count": 4,
   "id": "c2d2f919-f159-43c7-8de7-50827406da8d",
   "metadata": {},
   "outputs": [],
   "source": [
    "refit <- function(mdl, new_df) {\n",
    "    fit_ns(dist = mdl$dist, type = mdl$type, data = new_df, varnm = mdl$varnm, covnm = mdl$covnm, lower = mdl$lower, mintemps = mdl$mintemps, ev = mdl$ev)\n",
    "}"
   ]
  },
  {
   "cell_type": "markdown",
   "id": "4f66247c-881c-4cc7-a45c-ee943d1068ce",
   "metadata": {},
   "source": [
    "### `aic`"
   ]
  },
  {
   "cell_type": "code",
   "execution_count": 5,
   "id": "4e0be60b-0aba-4751-bec5-0a0d6e8479ca",
   "metadata": {},
   "outputs": [],
   "source": [
    "    \n",
    "aic <- function(mdl) 2 * length(mdl$par) + 2 * mdl$value"
   ]
  },
  {
   "cell_type": "markdown",
   "id": "0ba9f05c-a116-48e3-9f22-fa3db1c432cd",
   "metadata": {},
   "source": [
    "## **Extract model output**"
   ]
  },
  {
   "cell_type": "markdown",
   "id": "a332bc13-bb48-4a5e-bd44-611353746cbd",
   "metadata": {},
   "source": [
    "### `ns_pars`"
   ]
  },
  {
   "cell_type": "code",
   "execution_count": null,
   "id": "02762f4e-c0f7-44ba-aac5-e44d8061ea34",
   "metadata": {},
   "outputs": [],
   "source": [
    "ns_pars <- function(mdl, fixed_cov = NA) {\n",
    "    \n",
    "    # if no covariate value given, evaluate at all covariate values\n",
    "    if(is.na(unlist(fixed_cov)[1])) fixed_cov <- mdl$cov\n",
    "    \n",
    "    # calculate the nonstationary parameter values\n",
    "    pars <- mdl$par\n",
    "    effect <- rowSums(matrix(sapply(names(fixed_cov), function(cnm) pars[paste0(\"alpha_\",cnm)] * fixed_cov[,cnm]), nrow = nrow(fixed_cov)))\n",
    "    \n",
    "    if(mdl$type == \"fixeddisp\") {\n",
    "        \n",
    "        ns_const = exp(effect / pars[\"mu0\"])\n",
    "        loc = pars[\"mu0\"] * ns_const\n",
    "        scale = pars[\"sigma0\"] * ns_const\n",
    "        \n",
    "    } else if(mdl$type == \"shift\") {\n",
    "        loc = pars[\"mu0\"] + effect\n",
    "        scale = rep(pars[\"sigma0\"], length(loc))\n",
    "    } else {\n",
    "        print(paste(mdl$type,\"not implemented\"))\n",
    "        return()\n",
    "    }\n",
    "        \n",
    "    # return the list of named parameters: location, scale, shape (if applicable)\n",
    "    if(\"shape\" %in% names(pars)) {\n",
    "        return(lapply(list(\"loc\" = loc, \"scale\" = scale, \"shape\" = rep(pars[\"shape\"], length(scale))), unname))\n",
    "    } else {\n",
    "        return(lapply(list(\"loc\" = loc, \"scale\" = scale), unname))\n",
    "    }\n",
    "}"
   ]
  },
  {
   "cell_type": "markdown",
   "id": "84cfeb41-49fb-4056-b9fc-d39dc885d00c",
   "metadata": {},
   "source": [
    "## **Return periods & probability ratios**"
   ]
  },
  {
   "cell_type": "markdown",
   "id": "5b192ea4-bd81-40e1-a939-e74d84f1d0c4",
   "metadata": {},
   "source": [
    "### `map_to_u`"
   ]
  },
  {
   "cell_type": "code",
   "execution_count": 10,
   "id": "b8bfdead-7641-48ef-9841-2446552fd007",
   "metadata": {},
   "outputs": [],
   "source": [
    "map_to_u <- function(mdl, x, fixed_cov = NA) {\n",
    "    \n",
    "    pars <- ns_pars(mdl, fixed_cov = fixed_cov)\n",
    "    if(missing(x)) x <- mdl$x\n",
    "    \n",
    "    # retrieve the actual fitted model parameters if they were flipped for fitting\n",
    "    if(mdl$mintemps) {\n",
    "        pars$loc <- -pars$loc\n",
    "        x = -x\n",
    "        mdl$lower <- !mdl$lower # also have to look at the opposite tail\n",
    "    }\n",
    "    \n",
    "    # get exceedance probability\n",
    "    if(mdl$dist == \"norm\") {\n",
    "        pit <- pnorm(x, mean = pars$loc, sd = pars$scale, lower.tail = mdl$lower)\n",
    "    } else if(mdl$dist == \"gev\") {\n",
    "        pit <- sapply(1:length(pars$loc), function(i) pevd(x[i], loc = pars$loc[i], scale = pars$scale[i], shape = pars$shape[i], lower.tail = mdl$lower))\n",
    "    } else {\n",
    "        return(NULL)\n",
    "    }\n",
    "    return(pit)\n",
    "}\n",
    "           "
   ]
  },
  {
   "cell_type": "markdown",
   "id": "02de2ce5-afab-4195-9844-1287a929a439",
   "metadata": {},
   "source": [
    "### `return_period`"
   ]
  },
  {
   "cell_type": "code",
   "execution_count": 11,
   "id": "67de2881-e98b-479c-a179-eb8bff252043",
   "metadata": {},
   "outputs": [],
   "source": [
    "return_period <- function(mdl, x, fixed_cov = NA) {\n",
    "    \n",
    "    1 / map_to_u(mdl, x, fixed_cov)\n",
    "}"
   ]
  },
  {
   "cell_type": "markdown",
   "id": "d2dfaf2f-aab1-4034-aa48-d066c48494c2",
   "metadata": {},
   "source": [
    "### `prob_ratio`"
   ]
  },
  {
   "cell_type": "code",
   "execution_count": 12,
   "id": "9557a605-7448-48a8-8879-7aa2a41c4896",
   "metadata": {},
   "outputs": [],
   "source": [
    "prob_ratio <- function(mdl, ev, cov, cov_cf) {\n",
    "    \n",
    "    if(missing(ev)) ev <- mdl$ev\n",
    "    \n",
    "    ep_f <- map_to_u(mdl, ev, fixed_cov = cov)\n",
    "    ep_cf <- map_to_u(mdl, ev, fixed_cov = cov_cf)\n",
    "    \n",
    "    ep_f / ep_cf\n",
    "}"
   ]
  },
  {
   "cell_type": "markdown",
   "id": "e459ee93-8e6c-4c0e-9ec7-715731d22522",
   "metadata": {},
   "source": [
    "## **Plotting methods**"
   ]
  },
  {
   "cell_type": "markdown",
   "id": "866c5d37-0b8b-477d-9ef6-a61ee98afeeb",
   "metadata": {},
   "source": [
    "### `plot_returnlevels`"
   ]
  },
  {
   "cell_type": "code",
   "execution_count": 7,
   "id": "04703766-d280-4836-9d02-6d8367985ea1",
   "metadata": {},
   "outputs": [],
   "source": [
    "plot_returnlevels <- function(mdl, cov, cov_cf, ev, ylim = NA, pch = 20, ylab = NA, legend_pos = \"topright\", main = \"\", \n",
    "                              xlim = c(1,10000), legend_labels = c(\"Present climate\", \"Counterfactual climate\"), seed = 42, nsamp = 500, ...) {\n",
    "    \n",
    "    x <- mdl$x\n",
    "    if(missing(ev)) { ev <- mdl$ev }\n",
    "    \n",
    "    rp_x <- unique(c(seq(1.1,2,0.1), seq(2,100,1), seq(100,1000,10), seq(100,1000,100), seq(1000,10000,1000)))     # return periods at which to calculate values for curves\n",
    "    rp_th <- 1/seq(1,0,length.out = length(x)+2)[2:(length(x)+1)]                                                  # quantiles to map against observations to check fit\n",
    "\n",
    "    #~~~~~~~~~~~~~~~~~~~~~~~~~~~~~~~~~~~~~~~~~~~~~~~~~~~~~~~~~~~~~~~~~~~~~~~~~~~~~\n",
    "    # calculate return periods & return levels\n",
    "    \n",
    "    rl_curve_pres <- map_from_u(1/rp_x, mdl, fixed_cov = cov)\n",
    "    rl_curve_cf <- map_from_u(1/rp_x, mdl, fixed_cov = cov_cf)\n",
    "\n",
    "    rl_obs_pres <- map_from_u(map_to_u(mdl), mdl, fixed_cov = cov)\n",
    "    rl_obs_cf <- map_from_u(map_to_u(mdl), mdl, fixed_cov = cov_cf)\n",
    "\n",
    "    rp_event_pres <- 1/map_to_u(mdl, ev, fixed_cov = cov)\n",
    "    rp_event_cf <- 1/map_to_u(mdl, ev, fixed_cov = cov_cf)\n",
    "\n",
    "    #~~~~~~~~~~~~~~~~~~~~~~~~~~~~~~~~~~~~~~~~~~~~~~~~~~~~~~~~~~~~~~~~~~~~~~~~~~~~~\n",
    "    # prep axes\n",
    "    \n",
    "    if(is.na(ylim[1])) { ylim <- range(pretty(c(x, rl_curve_pres, rl_curve_cf))) }\n",
    "    if(is.na(ylab)) {ylab <- mdl$varnm}\n",
    "    # if((substr(mdl$varnm,1,3) == \"log\") & (ylim[1] <= 0)) { ylim[1] <- 0.01 }\n",
    "    \n",
    "    # plot\n",
    "    plot(0,type = \"n\", xlim = xlim, ylim = ylim, log = \"x\", xlab = \"\", ylab = \"\", main = main)\n",
    "    mtext(\"Return period (years)\", side = 1, line = 2.5, cex = par(\"cex\"))\n",
    "    mtext(ylab, side = 2, line = 2.5, cex = par(\"cex\"))\n",
    "    \n",
    "    legend(legend_pos, legend = c(legend_labels, \"Observed event\"), col = c(\"firebrick\", \"blue\", \"magenta\"), lty = 1, pch = c(pch,pch,NA), bty = \"n\")\n",
    "\n",
    "    #~~~~~~~~~~~~~~~~~~~~~~~~~~~~~~~~~~~~~~~~~~~~~~~~~~~~~~~~~~~~~~~~~~~~~~~~~~~~~\n",
    "    \n",
    "    # return period curves\n",
    "    lines(rp_x, rl_curve_pres, lwd = 2, col = \"firebrick\", lty = 1)       # present climate\n",
    "    lines(rp_x, rl_curve_cf, lwd = 2, col = \"blue\", lty = 1)              # counterfactual\n",
    "    \n",
    "    # expected return periods vs return levels transformed to stationarity at that covariate value\n",
    "    points(rp_th, sort(rl_obs_pres, decreasing = mdl$lower), col = \"firebrick\", pch = pch)      # present\n",
    "    points(rp_th, sort(rl_obs_cf, decreasing = mdl$lower), col = \"blue\", pch = pch)             # counterfactual\n",
    "    \n",
    "    # horizontal line showing observed event, plus ticks showing return periods\n",
    "    abline(h = ev, col = \"magenta\", lty = 2)\n",
    "    suppressWarnings(rug(rp_event_pres, lwd = 3, col = \"firebrick\"))   # present\n",
    "    suppressWarnings(rug(rp_event_cf, lwd = 3, col = \"blue\"))          # counterfactual\n",
    "    \n",
    "    #~~~~~~~~~~~~~~~~~~~~~~~~~~~~~~~~~~~~~~~~~~~~~~~~~~~~~~~~~~~~~~~~~~~~~~~~~~~~~\n",
    "    # Add confidence intervals to return periods\n",
    "    \n",
    "    if(!is.na(nsamp)) {\n",
    "        x_ci <- c(5,10,20,50,100,200,500,1000,2000,5000,10000)\n",
    "        set.seed(seed)\n",
    "\n",
    "        mdl_df <- mdl$data[,c(mdl$varnm, mdl$covnm)]\n",
    "        boot_res <- sapply(1:nsamp, function(i) {\n",
    "            boot_df <- mdl_df[sample(1:nrow(mdl_df), nrow(mdl_df), replace = T),]\n",
    "            tryCatch({\n",
    "                boot_mdl <- refit(mdl, boot_df)\n",
    "                # print(boot_mdl$par)\n",
    "                c(map_from_u(1/x_ci, boot_mdl, fixed_cov = cov), map_from_u(1/x_ci, boot_mdl, fixed_cov = cov_cf))\n",
    "            }, error = function(cond) {return(rep(NA, length(x_ci)*2))})\n",
    "        })\n",
    "        est_ci <- apply(boot_res, 1, quantile, c(0.025, 0.975), na.rm = T)\n",
    "        \n",
    "        # lines bounding confidence intervals\n",
    "        # matplot(x_ci, t(est_ci[,1:length(x_ci)]), type = \"l\", lty = 1, lwd = 2, col = adjustcolor(\"firebrick\", alpha = 0.3), add = T)\n",
    "        # matplot(x_ci, t(est_ci[,-(1:length(x_ci))]), type = \"l\", lty = 1, lwd = 2, col = adjustcolor(\"blue\", alpha = 0.3), add = T)\n",
    "        \n",
    "        # shaded region for confidence intervals\n",
    "        polygon(x = c(x_ci, rev(x_ci)), y = c(est_ci[1,1:length(x_ci)], rev(est_ci[2,1:length(x_ci)])), density = NULL, border = NA, col = adjustcolor(\"firebrick\", alpha = 0.1))\n",
    "        polygon(x = c(x_ci, rev(x_ci)), y = c(est_ci[1,-(1:length(x_ci))], rev(est_ci[2,-(1:length(x_ci))])), density = NULL, border = NA, col = adjustcolor(\"blue\", alpha = 0.1))\n",
    "    }\n",
    "}"
   ]
  },
  {
   "cell_type": "markdown",
   "id": "9d2447b6-f9f9-44c8-905c-e03fd2f38966",
   "metadata": {},
   "source": [
    "### `plot_trend`"
   ]
  },
  {
   "cell_type": "code",
   "execution_count": 8,
   "id": "cf595411-a4a9-42e0-8d68-23f0d7797964",
   "metadata": {},
   "outputs": [],
   "source": [
    "plot_trend <- function(mdl, ev, ev_year, ylab = NA, legend_pos = \"topleft\", main = \"\", ylim = NA, lwd = 2, ...) {\n",
    "    \n",
    "    if(is.na(ylab)) {ylab <- mdl$varnm}\n",
    "    if(is.na(ylim[1])) { ylim <- range(pretty(mdl$x)) }\n",
    "    if(missing(ev)) { ev <- mdl$ev }\n",
    "    if(missing(ev_year)) { ev_year <- mdl$data$year[which.min(abs(mdl$x - ev))] }\n",
    "    \n",
    "    plot(mdl$data$year, mdl$x, type = \"S\", lwd = lwd, col = adjustcolor(\"black\", alpha = 1), xlab = \"Year\", ylab = ylab, main = main, ylim = ylim, ...)\n",
    "    \n",
    "    lines(mdl$data$year-0.5, ns_pars(mdl)$loc, col = adjustcolor(\"black\", alpha = 0.5), lwd = lwd)\n",
    "    matplot(mdl$data$year-0.5, eff_return_level(c(6,40), mdl), type = \"l\", lty = 1, add = T, col = adjustcolor(\"blue\", alpha = 0.5), lwd = c(lwd, max(1,lwd -1)))\n",
    "    \n",
    "    points(ev_year-0.5, ev, col = \"magenta\", lwd = 2, pch = 0)\n",
    "    \n",
    "    # add legend\n",
    "    legend(legend_pos, legend = c(\"location\", \"1-in-6-year event\", \"1-in-40-year event\"), lty = 1, col = c(\"black\", \"blue\", \"blue\"), lwd = c(lwd,lwd,max(1,lwd -1)))\n",
    "}\n",
    "\n",
    "#~~~~~~~~~~~~~~~~~~~~~~~~~~~~~~~~~~~~~~~~~~~~~~~~~~~~~~~~~~~~~~~~~~~~~~~~~~~~~~~~~~~~~~~~~~~~~~~~~~~~~~~~~~~~~~~~~~~~~~~~~~~~~~~~~~~~~~~~~~~~~~~~~~~~~~"
   ]
  },
  {
   "cell_type": "markdown",
   "id": "e642ab53-1b6c-4b79-8060-39397aa51664",
   "metadata": {},
   "source": [
    "### `plot_covtrend`"
   ]
  },
  {
   "cell_type": "code",
   "execution_count": 9,
   "id": "be297f9e-d444-4a4a-8af4-9c8dad21bcc1",
   "metadata": {},
   "outputs": [],
   "source": [
    "plot_covtrend <- function(mdl, xcov, cov, cov_cf, fixed_cov = NA, ev, ylim = NA, xlab = NA, ylab = NA, \n",
    "                          legend_pos = \"topleft\", main = \"\", seed = 42, nsamp = 1000, lwd = 3) {\n",
    "\n",
    "    if(is.na(xlab)) { xlab <- toupper(xcov)}\n",
    "    if(is.na(ylab)) { ylab <- mdl$varnm}\n",
    "    if(is.na(ylim[1])) { ylim <- range(pretty(mdl$x)) }\n",
    "    if(missing(ev)) ev <- mdl$ev\n",
    "    \n",
    "    x <- mdl$cov[,xcov]\n",
    "    o <- order(x)\n",
    "    \n",
    "    plot(x, mdl$x, pch = 20, main = main, xlab = \"\", ylab = \"\", ylim = ylim, xlim = range(c(x, cov[xcov], cov_cf[xcov])))\n",
    "    mtext(xlab, side = 1, line = 2.5, cex = par(\"cex\"))\n",
    "    mtext(ylab, side = 2, line = 2.5, cex = par(\"cex\"))\n",
    "    \n",
    "    points(cov[,xcov], ev, col = \"magenta\", lwd = 2, pch = 0)\n",
    "    \n",
    "    # trend lines\n",
    "    lines(x[o], ns_pars(mdl, fixed_cov = fixed_cov)$loc[o], lwd = 3, col = \"black\", lty = 1)\n",
    "    lines(x[o], eff_return_level(6, mdl, fixed_cov = fixed_cov)[o], col = \"blue\", lwd = 3, lty = 1)\n",
    "    lines(x[o], eff_return_level(40, mdl, fixed_cov = fixed_cov)[o], col = \"blue\", lwd = 2, lty = 1)\n",
    "    \n",
    "    # # get confidence interval for mu'\n",
    "    # mdl_df <- mdl$data\n",
    "    # set.seed(seed)\n",
    "    # mu_ci <- apply(sapply(1:nsamp, function(i) {\n",
    "    #     boot_df <- mdl_df[sample(1:nrow(mdl_df), nrow(mdl_df), replace = T),]\n",
    "    #     tryCatch({\n",
    "    #         boot_mdl <- refit(mdl, boot_df)\n",
    "    #         c(\"mu_ev\" = ns_pars(boot_mdl, fixed_cov = cov)$loc,\n",
    "    #           \"mu_cf\" = ns_pars(boot_mdl, fixed_cov = cov_cf)$loc)\n",
    "    #     }, error = function(cond) {return(rep(NA, 2))})\n",
    "    # }), 1, quantile, c(0.025, 0.975), na.rm = T)\n",
    "    \n",
    "    # confidence interval & markers for mu' at factual & counterfactual covariates\n",
    "    # lines(rep(cov[,xcov], 3), c(ns_pars(mdl, fixed_cov = cov)$loc, mu_ci[,\"mu_ev\"]), col = \"black\", lwd = 2, type = \"o\", pch = \"_\")\n",
    "    # lines(rep(cov_cf[,xcov], 3), c(ns_pars(mdl, fixed_cov = cov_cf)$loc, mu_ci[,\"mu_cf\"]), col = \"black\", lwd = 2, type = \"o\", pch = \"_\")\n",
    "    \n",
    "    # add legend\n",
    "    legend(legend_pos, legend = c(\"location\", \"1-in-6-year event\", \"1-in-40-year event\"), lty = 1, col = c(\"black\", \"blue\", \"blue\"), lwd = c(2,2,1))\n",
    "}"
   ]
  },
  {
   "cell_type": "markdown",
   "id": "58cd6251-2d9c-424a-9777-57d6a967e5bf",
   "metadata": {},
   "source": [
    "---\n",
    "# **Test syntax**"
   ]
  },
  {
   "cell_type": "markdown",
   "id": "7ad5c9c1-b8f2-4ffe-921c-033d9b058712",
   "metadata": {},
   "source": [
    "## **Single covariate**"
   ]
  },
  {
   "cell_type": "code",
   "execution_count": 13,
   "id": "026d8f84-4aab-42a1-93b9-43851352d54b",
   "metadata": {},
   "outputs": [
    {
     "name": "stderr",
     "output_type": "stream",
     "text": [
      "Warning message in file(file, \"rt\"):\n",
      "“cannot open file 'df_normal_shift.csv': No such file or directory”\n"
     ]
    },
    {
     "ename": "ERROR",
     "evalue": "Error in file(file, \"rt\"): cannot open the connection\n",
     "output_type": "error",
     "traceback": [
      "Error in file(file, \"rt\"): cannot open the connection\nTraceback:\n",
      "1. read.csv(\"df_normal_shift.csv\")",
      "2. read.table(file = file, header = header, sep = sep, quote = quote, \n .     dec = dec, fill = fill, comment.char = comment.char, ...)",
      "3. file(file, \"rt\")"
     ]
    }
   ],
   "source": [
    "df <- read.csv(\"df_normal_shift.csv\")"
   ]
  },
  {
   "cell_type": "markdown",
   "id": "89a3aa4a-4f41-4acd-93e4-f1c7ff9ab2a2",
   "metadata": {},
   "source": [
    "---\n",
    "# **Test model fitting**"
   ]
  },
  {
   "cell_type": "markdown",
   "id": "be43b9cf-de20-4ad9-83ff-dbf18309e226",
   "metadata": {},
   "source": [
    "## **Normal distribution, shift**\n",
    "- Example taken from Amazon drought study: SPI ~ GMST + Nino3.4\n",
    "- Fitted parameters should be essentially the same as those from a linear model"
   ]
  },
  {
   "cell_type": "code",
   "execution_count": 20,
   "id": "8a2402f2-2639-4f0a-8467-1daf5ce04f27",
   "metadata": {},
   "outputs": [],
   "source": [
    "df <- read.csv(\"df_normal_shift.csv\")\n",
    "\n",
    "# check that fitting works ok with both one and two parameters (to check that internal syntax works ok for both)\n",
    "mdl1_lm <- lm(spi ~ gmst, df)\n",
    "mdl1_ns <- fit_ns(\"norm\", type = \"shift\", data = df, varnm = \"spi\", covnm = c(\"gmst\"), lower = T)\n",
    "\n",
    "mdl2_lm <- lm(spi ~ gmst + nino, df)\n",
    "mdl2_ns <- fit_ns(\"norm\", type = \"shift\", data = df, varnm = \"spi\", covnm = c(\"gmst\", \"nino\"), lower = T)"
   ]
  },
  {
   "cell_type": "markdown",
   "id": "377136c2-c317-4313-8898-4a0941370855",
   "metadata": {},
   "source": [
    "### **Visual check that fitted trend is correct**"
   ]
  },
  {
   "cell_type": "code",
   "execution_count": null,
   "id": "3873f3fb-5ae3-499a-a167-1c8fb6efce4a",
   "metadata": {},
   "outputs": [
    {
     "data": {
      "image/png": "[encoded data removed]",
      "text/plain": [
       "Plot with title “Compare fitted models (2 covariates)”"
      ]
     },
     "metadata": {
      "image/png": {
       "height": 400,
       "width": 1200
      }
     },
     "output_type": "display_data"
    }
   ],
   "source": [
    "prep_window(c(1,3)); par(mfrow = c(1,2))\n",
    "\n",
    "#~~~~~~~~~~~~~~~~~~~~~~~~~~~~~~~~~~~~~~~~~~~~~~~~~~~~~~~~~~~~~~~~~~~~~~~~~~~~~~~~~~~~~~~~~~~~~~~~~~~~~~~~~~~~~~~~~~~~~~~~\n",
    "plot(df$year+0.5, df$spi, type = \"S\", lwd = 2, col = adjustcolor(\"black\", 0.4), xlab = \"Year\", ylab = \"SPI\", main = \"Compare fitted models (1 covariate)\")\n",
    "\n",
    "lines(df$year, ns_pars(mdl1_ns)$loc, lwd = 2)\n",
    "lines(df$year, predict(mdl1_lm, newdata = data.frame(gmst = df$gmst, nino = 0)), lwd = 2, lty = 2, col = \"red3\")\n",
    "abline(h = 0, lty = 2, lwd = 0.5)\n",
    "\n",
    "#~~~~~~~~~~~~~~~~~~~~~~~~~~~~~~~~~~~~~~~~~~~~~~~~~~~~~~~~~~~~~~~~~~~~~~~~~~~~~~~~~~~~~~~~~~~~~~~~~~~~~~~~~~~~~~~~~~~~~~~~\n",
    "plot(df$year+0.5, df$spi, type = \"S\", lwd = 2, col = adjustcolor(\"black\", 0.4), xlab = \"Year\", ylab = \"SPI\", main = \"Compare fitted models (2 covariates)\")\n",
    "\n",
    "lines(df$year, ns_pars(mdl2_ns)$loc, lwd = 2)\n",
    "lines(df$year, predict(mdl2_lm), lwd = 2, lty = 2, col = \"red3\")\n",
    "abline(h = 0, lty = 2, lwd = 0.5)"
   ]
  },
  {
   "cell_type": "markdown",
   "id": "d148137f-915c-4002-8e69-596f5932996a",
   "metadata": {},
   "source": [
    "### **Test that all sub-functions work ok**"
   ]
  },
  {
   "cell_type": "code",
   "execution_count": 30,
   "id": "a7f1de54-e480-4c95-b682-73ef5980996b",
   "metadata": {},
   "outputs": [
    {
     "data": {
      "text/html": [
       "<dl>\n",
       "\t<dt>$loc</dt>\n",
       "\t\t<dd><style>\n",
       ".list-inline {list-style: none; margin:0; padding: 0}\n",
       ".list-inline>li {display: inline-block}\n",
       ".list-inline>li:not(:last-child)::after {content: \"\\00b7\"; padding: 0 .5ex}\n",
       "</style>\n",
       "<ol class=list-inline><li>0.564493053644316</li><li>0.523435113825939</li><li>0.475658617054307</li><li>0.519329325039796</li><li>0.489095759626721</li><li>0.537245511553111</li><li>0.529407171219393</li><li>0.46670050408984</li><li>0.386450914559826</li><li>0.226698213560171</li><li>0.161378830220458</li><li>0.130025497551491</li><li>0.0647059350498763</li><li>0.109869783692869</li><li>0.202063452177412</li><li>0.183400694439536</li><li>0.178921646915398</li><li>0.0747837919791871</li><li>0.00498536111533543</li><li>-0.114082592514035</li><li>-0.151781302229498</li><li>-0.0771304504398959</li><li>-0.0588410661036324</li><li>0.000132940189585207</li><li>-0.0177830707450661</li><li>-0.0677991611519085</li><li>-0.171563821848408</li><li>-0.302949156169159</li><li>-0.274208541501972</li><li>-0.301082826646801</li><li>-0.333555921196802</li><li>-0.342514016245078</li><li>-0.44926476834497</li><li>-0.511598060281291</li><li>-0.573931531379513</li><li>-0.578410578903651</li><li>-0.598939666163885</li><li>-0.602672146046699</li><li>-0.593714050998423</li><li>-0.63253252259492</li><li>-0.607897761212161</li><li>-0.655674148695033</li><li>-0.665752005624344</li><li>-0.675456668313943</li><li>-0.804229284632914</li><li>-0.9692074753847</li><li>-1.07969070736741</li><li>-1.12597413872953</li><li>-1.16180651892264</li><li>-1.1606867570416</li><li>-1.12672070637086</li><li>-1.14575665834844</li><li>-1.21157375344904</li><li>-1.18532151842436</li></ol>\n",
       "</dd>\n",
       "\t<dt>$scale</dt>\n",
       "\t\t<dd><style>\n",
       ".list-inline {list-style: none; margin:0; padding: 0}\n",
       ".list-inline>li {display: inline-block}\n",
       ".list-inline>li:not(:last-child)::after {content: \"\\00b7\"; padding: 0 .5ex}\n",
       "</style>\n",
       "<ol class=list-inline><li>1.30464457226356</li><li>1.30464457226356</li><li>1.30464457226356</li><li>1.30464457226356</li><li>1.30464457226356</li><li>1.30464457226356</li><li>1.30464457226356</li><li>1.30464457226356</li><li>1.30464457226356</li><li>1.30464457226356</li><li>1.30464457226356</li><li>1.30464457226356</li><li>1.30464457226356</li><li>1.30464457226356</li><li>1.30464457226356</li><li>1.30464457226356</li><li>1.30464457226356</li><li>1.30464457226356</li><li>1.30464457226356</li><li>1.30464457226356</li><li>1.30464457226356</li><li>1.30464457226356</li><li>1.30464457226356</li><li>1.30464457226356</li><li>1.30464457226356</li><li>1.30464457226356</li><li>1.30464457226356</li><li>1.30464457226356</li><li>1.30464457226356</li><li>1.30464457226356</li><li>1.30464457226356</li><li>1.30464457226356</li><li>1.30464457226356</li><li>1.30464457226356</li><li>1.30464457226356</li><li>1.30464457226356</li><li>1.30464457226356</li><li>1.30464457226356</li><li>1.30464457226356</li><li>1.30464457226356</li><li>1.30464457226356</li><li>1.30464457226356</li><li>1.30464457226356</li><li>1.30464457226356</li><li>1.30464457226356</li><li>1.30464457226356</li><li>1.30464457226356</li><li>1.30464457226356</li><li>1.30464457226356</li><li>1.30464457226356</li><li>1.30464457226356</li><li>1.30464457226356</li><li>1.30464457226356</li><li>1.30464457226356</li></ol>\n",
       "</dd>\n",
       "</dl>\n"
      ],
      "text/latex": [
       "\\begin{description}\n",
       "\\item[\\$loc] \\begin{enumerate*}\n",
       "\\item 0.564493053644316\n",
       "\\item 0.523435113825939\n",
       "\\item 0.475658617054307\n",
       "\\item 0.519329325039796\n",
       "\\item 0.489095759626721\n",
       "\\item 0.537245511553111\n",
       "\\item 0.529407171219393\n",
       "\\item 0.46670050408984\n",
       "\\item 0.386450914559826\n",
       "\\item 0.226698213560171\n",
       "\\item 0.161378830220458\n",
       "\\item 0.130025497551491\n",
       "\\item 0.0647059350498763\n",
       "\\item 0.109869783692869\n",
       "\\item 0.202063452177412\n",
       "\\item 0.183400694439536\n",
       "\\item 0.178921646915398\n",
       "\\item 0.0747837919791871\n",
       "\\item 0.00498536111533543\n",
       "\\item -0.114082592514035\n",
       "\\item -0.151781302229498\n",
       "\\item -0.0771304504398959\n",
       "\\item -0.0588410661036324\n",
       "\\item 0.000132940189585207\n",
       "\\item -0.0177830707450661\n",
       "\\item -0.0677991611519085\n",
       "\\item -0.171563821848408\n",
       "\\item -0.302949156169159\n",
       "\\item -0.274208541501972\n",
       "\\item -0.301082826646801\n",
       "\\item -0.333555921196802\n",
       "\\item -0.342514016245078\n",
       "\\item -0.44926476834497\n",
       "\\item -0.511598060281291\n",
       "\\item -0.573931531379513\n",
       "\\item -0.578410578903651\n",
       "\\item -0.598939666163885\n",
       "\\item -0.602672146046699\n",
       "\\item -0.593714050998423\n",
       "\\item -0.63253252259492\n",
       "\\item -0.607897761212161\n",
       "\\item -0.655674148695033\n",
       "\\item -0.665752005624344\n",
       "\\item -0.675456668313943\n",
       "\\item -0.804229284632914\n",
       "\\item -0.9692074753847\n",
       "\\item -1.07969070736741\n",
       "\\item -1.12597413872953\n",
       "\\item -1.16180651892264\n",
       "\\item -1.1606867570416\n",
       "\\item -1.12672070637086\n",
       "\\item -1.14575665834844\n",
       "\\item -1.21157375344904\n",
       "\\item -1.18532151842436\n",
       "\\end{enumerate*}\n",
       "\n",
       "\\item[\\$scale] \\begin{enumerate*}\n",
       "\\item 1.30464457226356\n",
       "\\item 1.30464457226356\n",
       "\\item 1.30464457226356\n",
       "\\item 1.30464457226356\n",
       "\\item 1.30464457226356\n",
       "\\item 1.30464457226356\n",
       "\\item 1.30464457226356\n",
       "\\item 1.30464457226356\n",
       "\\item 1.30464457226356\n",
       "\\item 1.30464457226356\n",
       "\\item 1.30464457226356\n",
       "\\item 1.30464457226356\n",
       "\\item 1.30464457226356\n",
       "\\item 1.30464457226356\n",
       "\\item 1.30464457226356\n",
       "\\item 1.30464457226356\n",
       "\\item 1.30464457226356\n",
       "\\item 1.30464457226356\n",
       "\\item 1.30464457226356\n",
       "\\item 1.30464457226356\n",
       "\\item 1.30464457226356\n",
       "\\item 1.30464457226356\n",
       "\\item 1.30464457226356\n",
       "\\item 1.30464457226356\n",
       "\\item 1.30464457226356\n",
       "\\item 1.30464457226356\n",
       "\\item 1.30464457226356\n",
       "\\item 1.30464457226356\n",
       "\\item 1.30464457226356\n",
       "\\item 1.30464457226356\n",
       "\\item 1.30464457226356\n",
       "\\item 1.30464457226356\n",
       "\\item 1.30464457226356\n",
       "\\item 1.30464457226356\n",
       "\\item 1.30464457226356\n",
       "\\item 1.30464457226356\n",
       "\\item 1.30464457226356\n",
       "\\item 1.30464457226356\n",
       "\\item 1.30464457226356\n",
       "\\item 1.30464457226356\n",
       "\\item 1.30464457226356\n",
       "\\item 1.30464457226356\n",
       "\\item 1.30464457226356\n",
       "\\item 1.30464457226356\n",
       "\\item 1.30464457226356\n",
       "\\item 1.30464457226356\n",
       "\\item 1.30464457226356\n",
       "\\item 1.30464457226356\n",
       "\\item 1.30464457226356\n",
       "\\item 1.30464457226356\n",
       "\\item 1.30464457226356\n",
       "\\item 1.30464457226356\n",
       "\\item 1.30464457226356\n",
       "\\item 1.30464457226356\n",
       "\\end{enumerate*}\n",
       "\n",
       "\\end{description}\n"
      ],
      "text/markdown": [
       "$loc\n",
       ":   1. 0.564493053644316\n",
       "2. 0.523435113825939\n",
       "3. 0.475658617054307\n",
       "4. 0.519329325039796\n",
       "5. 0.489095759626721\n",
       "6. 0.537245511553111\n",
       "7. 0.529407171219393\n",
       "8. 0.46670050408984\n",
       "9. 0.386450914559826\n",
       "10. 0.226698213560171\n",
       "11. 0.161378830220458\n",
       "12. 0.130025497551491\n",
       "13. 0.0647059350498763\n",
       "14. 0.109869783692869\n",
       "15. 0.202063452177412\n",
       "16. 0.183400694439536\n",
       "17. 0.178921646915398\n",
       "18. 0.0747837919791871\n",
       "19. 0.00498536111533543\n",
       "20. -0.114082592514035\n",
       "21. -0.151781302229498\n",
       "22. -0.0771304504398959\n",
       "23. -0.0588410661036324\n",
       "24. 0.000132940189585207\n",
       "25. -0.0177830707450661\n",
       "26. -0.0677991611519085\n",
       "27. -0.171563821848408\n",
       "28. -0.302949156169159\n",
       "29. -0.274208541501972\n",
       "30. -0.301082826646801\n",
       "31. -0.333555921196802\n",
       "32. -0.342514016245078\n",
       "33. -0.44926476834497\n",
       "34. -0.511598060281291\n",
       "35. -0.573931531379513\n",
       "36. -0.578410578903651\n",
       "37. -0.598939666163885\n",
       "38. -0.602672146046699\n",
       "39. -0.593714050998423\n",
       "40. -0.63253252259492\n",
       "41. -0.607897761212161\n",
       "42. -0.655674148695033\n",
       "43. -0.665752005624344\n",
       "44. -0.675456668313943\n",
       "45. -0.804229284632914\n",
       "46. -0.9692074753847\n",
       "47. -1.07969070736741\n",
       "48. -1.12597413872953\n",
       "49. -1.16180651892264\n",
       "50. -1.1606867570416\n",
       "51. -1.12672070637086\n",
       "52. -1.14575665834844\n",
       "53. -1.21157375344904\n",
       "54. -1.18532151842436\n",
       "\n",
       "\n",
       "\n",
       "$scale\n",
       ":   1. 1.30464457226356\n",
       "2. 1.30464457226356\n",
       "3. 1.30464457226356\n",
       "4. 1.30464457226356\n",
       "5. 1.30464457226356\n",
       "6. 1.30464457226356\n",
       "7. 1.30464457226356\n",
       "8. 1.30464457226356\n",
       "9. 1.30464457226356\n",
       "10. 1.30464457226356\n",
       "11. 1.30464457226356\n",
       "12. 1.30464457226356\n",
       "13. 1.30464457226356\n",
       "14. 1.30464457226356\n",
       "15. 1.30464457226356\n",
       "16. 1.30464457226356\n",
       "17. 1.30464457226356\n",
       "18. 1.30464457226356\n",
       "19. 1.30464457226356\n",
       "20. 1.30464457226356\n",
       "21. 1.30464457226356\n",
       "22. 1.30464457226356\n",
       "23. 1.30464457226356\n",
       "24. 1.30464457226356\n",
       "25. 1.30464457226356\n",
       "26. 1.30464457226356\n",
       "27. 1.30464457226356\n",
       "28. 1.30464457226356\n",
       "29. 1.30464457226356\n",
       "30. 1.30464457226356\n",
       "31. 1.30464457226356\n",
       "32. 1.30464457226356\n",
       "33. 1.30464457226356\n",
       "34. 1.30464457226356\n",
       "35. 1.30464457226356\n",
       "36. 1.30464457226356\n",
       "37. 1.30464457226356\n",
       "38. 1.30464457226356\n",
       "39. 1.30464457226356\n",
       "40. 1.30464457226356\n",
       "41. 1.30464457226356\n",
       "42. 1.30464457226356\n",
       "43. 1.30464457226356\n",
       "44. 1.30464457226356\n",
       "45. 1.30464457226356\n",
       "46. 1.30464457226356\n",
       "47. 1.30464457226356\n",
       "48. 1.30464457226356\n",
       "49. 1.30464457226356\n",
       "50. 1.30464457226356\n",
       "51. 1.30464457226356\n",
       "52. 1.30464457226356\n",
       "53. 1.30464457226356\n",
       "54. 1.30464457226356\n",
       "\n",
       "\n",
       "\n",
       "\n",
       "\n"
      ],
      "text/plain": [
       "$loc\n",
       " [1]  0.5644930536  0.5234351138  0.4756586171  0.5193293250  0.4890957596\n",
       " [6]  0.5372455116  0.5294071712  0.4667005041  0.3864509146  0.2266982136\n",
       "[11]  0.1613788302  0.1300254976  0.0647059350  0.1098697837  0.2020634522\n",
       "[16]  0.1834006944  0.1789216469  0.0747837920  0.0049853611 -0.1140825925\n",
       "[21] -0.1517813022 -0.0771304504 -0.0588410661  0.0001329402 -0.0177830707\n",
       "[26] -0.0677991612 -0.1715638218 -0.3029491562 -0.2742085415 -0.3010828266\n",
       "[31] -0.3335559212 -0.3425140162 -0.4492647683 -0.5115980603 -0.5739315314\n",
       "[36] -0.5784105789 -0.5989396662 -0.6026721460 -0.5937140510 -0.6325325226\n",
       "[41] -0.6078977612 -0.6556741487 -0.6657520056 -0.6754566683 -0.8042292846\n",
       "[46] -0.9692074754 -1.0796907074 -1.1259741387 -1.1618065189 -1.1606867570\n",
       "[51] -1.1267207064 -1.1457566583 -1.2115737534 -1.1853215184\n",
       "\n",
       "$scale\n",
       " [1] 1.304645 1.304645 1.304645 1.304645 1.304645 1.304645 1.304645 1.304645\n",
       " [9] 1.304645 1.304645 1.304645 1.304645 1.304645 1.304645 1.304645 1.304645\n",
       "[17] 1.304645 1.304645 1.304645 1.304645 1.304645 1.304645 1.304645 1.304645\n",
       "[25] 1.304645 1.304645 1.304645 1.304645 1.304645 1.304645 1.304645 1.304645\n",
       "[33] 1.304645 1.304645 1.304645 1.304645 1.304645 1.304645 1.304645 1.304645\n",
       "[41] 1.304645 1.304645 1.304645 1.304645 1.304645 1.304645 1.304645 1.304645\n",
       "[49] 1.304645 1.304645 1.304645 1.304645 1.304645 1.304645\n"
      ]
     },
     "metadata": {},
     "output_type": "display_data"
    }
   ],
   "source": [
    "ns_pars(mdl1_ns)"
   ]
  },
  {
   "cell_type": "code",
   "execution_count": null,
   "id": "1f4cfb71-5380-4b61-b093-00a7dfde344e",
   "metadata": {},
   "outputs": [],
   "source": []
  }
 ],
 "metadata": {
  "kernelspec": {
   "display_name": "R [conda env:r_env]",
   "language": "R",
   "name": "conda-env-r_env-r"
  },
  "language_info": {
   "codemirror_mode": "r",
   "file_extension": ".r",
   "mimetype": "text/x-r-source",
   "name": "R",
   "pygments_lexer": "r",
   "version": "4.2.2"
  }
 },
 "nbformat": 4,
 "nbformat_minor": 5
}
