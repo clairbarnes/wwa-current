{
 "cells": [
  {
   "cell_type": "code",
   "execution_count": 1,
   "metadata": {},
   "outputs": [],
   "source": [
    "suppressMessages(library(\"rwwa\"))"
   ]
  },
  {
   "cell_type": "markdown",
   "metadata": {},
   "source": [
    "# DSR attribution"
   ]
  },
  {
   "cell_type": "code",
   "execution_count": 2,
   "metadata": {},
   "outputs": [],
   "source": [
    "nsamp = 1000\n",
    "rp <- 35\n",
    "varnm <- \"dsr-june\""
   ]
  },
  {
   "cell_type": "markdown",
   "metadata": {},
   "source": [
    "## CORDEX"
   ]
  },
  {
   "cell_type": "code",
   "execution_count": 3,
   "metadata": {},
   "outputs": [],
   "source": [
    "fl <- list.files(\"ts_cordex\", pattern = varnm, full.names = T)\n",
    "for (fnm in fl) {\n",
    "    \n",
    "    mnm <- paste0(gsub(\".dat\",\"\",strsplit(fnm, \"_\")[[1]][4:7]), collapse = \"_\")\n",
    "    gmst_fnm <- list.files(\"ts_cordex\", pattern = paste0(\"smoothed-gsat_\", strsplit(fnm, \"_\")[[1]][5],\"_rcp85_\",substr(strsplit(fnm, \"_\")[[1]][6],1,2)), full.names = T)\n",
    "    if(length(gmst_fnm) == 0) { cat(\"GMST missing:\", mnm); next }\n",
    "    \n",
    "    # load data & combine all covariates with time series\n",
    "    df <- merge(load_ts(fnm, col.names = c(\"year\", \"dsr\")), load_ts(gmst_fnm, col.names = c(\"year\", \"gmst\")))\n",
    "    df$log_dsr <- log(df$dsr)\n",
    "    mdl <- fit_ns(\"norm\", \"shift\", df, \"log_dsr\", \"gmst\", lower = F)\n",
    "    res_fnm <- paste0(\"res/res-cordex_logdsr_\",mnm,\".csv\")\n",
    "    \n",
    "    if(!file.exists(res_fnm)) {\n",
    "        \n",
    "        # use model's 2023 GMST & observed Nino to define factual climate        \n",
    "        cov_now <- df[df$year == 2024,\"gmst\",drop = F]\n",
    "        cov_hist <- cov_now - 1.2\n",
    "        cov_fut <- cov_now + 0.8\n",
    "\n",
    "        # bootstrap results\n",
    "        res <- cmodel_results(mdl, rp = rp, cov_f = cov_now, cov_hist = cov_hist, cov_fut = cov_fut,\n",
    "                             y_now = 2024, y_start = 1979, y_fut = 2050, nsamp = nsamp, di_relative = T) # relative change in intensity is already adjusted back to original variable\n",
    "        write.csv(res, res_fnm)\n",
    "    }\n",
    "    \n",
    "    # quick return level plots to check fit\n",
    "    rlplot_fnm <- gsub(\"csv\", \"png\", gsub(\"res/\", \"mdl-eval/rlplot_\", res_fnm))\n",
    "    if(!file.exists(rlplot_fnm)) {\n",
    "        png(rlplot_fnm, h = 360, w = 480); par(cex.main = 1.4); {\n",
    "            plot_returnlevels(mdl, cov_f = cov_now, cov_cf = cov_hist, nsamp = 100, main = mnm)\n",
    "        }; dev.off()\n",
    "    }\n",
    "}"
   ]
  },
  {
   "cell_type": "code",
   "execution_count": 6,
   "metadata": {},
   "outputs": [],
   "source": [
    "# compile results\n",
    "res <- t(sapply(list.files(\"res\", pattern = \"cordex_logdsr\", full.names = T), read.csv, row.names = \"X\"))\n",
    "rownames(res) <- sapply(rownames(res), function(r) gsub(\".csv\",\"\",paste0(strsplit(r, \"_\")[[1]][c(3,4,6)], collapse = \"_\")))\n",
    "write.csv(res, \"res-cordex_dsr-june.csv\")"
   ]
  },
  {
   "cell_type": "markdown",
   "metadata": {},
   "source": [
    "## CMIP6"
   ]
  },
  {
   "cell_type": "code",
   "execution_count": null,
   "metadata": {},
   "outputs": [],
   "source": [
    "fl <- list.files(\"ts_cmip6\", pattern = varnm, full.names = T)\n",
    "for (fnm in fl[1]) {\n",
    "    \n",
    "    mnm <- gsub(\".dat\",\"\",strsplit(fnm, \"_\")[[1]][5])\n",
    "    gmst_fnm <- list.files(\"ts_cmip6\", pattern = paste0(\"SGSAT2023.\", mnm), full.names = T)\n",
    "    if(length(gmst_fnm) == 0) { cat(\"GMST missing:\", mnm,\"\\n\"); next }\n",
    "    \n",
    "    # load data & combine all covariates with time series\n",
    "    df <- merge(load_ts(fnm, col.names = c(\"year\", \"dsr\")), load_ts(gmst_fnm, col.names = c(\"year\", \"gmst\")))\n",
    "    df$log_dsr <- log(df$dsr)\n",
    "    mdl <- fit_ns(\"norm\", \"shift\", df, \"log_dsr\", \"gmst\", lower = F)\n",
    "    res_fnm <- paste0(\"res/res-cmip6_logdsr_\",mnm,\".csv\")\n",
    "    \n",
    "    if(!file.exists(res_fnm)) {\n",
    "        \n",
    "        # use model's 2023 GMST & observed Nino to define factual climate        \n",
    "        cov_now <- df[df$year == 2024,\"gmst\",drop = F]\n",
    "        cov_hist <- cov_now - 1.2\n",
    "        cov_fut <- cov_now + 0.8\n",
    "\n",
    "        # bootstrap results\n",
    "        res <- cmodel_results(mdl, rp = rp, cov_f = cov_now, cov_hist = cov_hist, cov_fut = cov_fut,\n",
    "                             y_now = 2024, y_start = 1979, y_fut = 2050, nsamp = nsamp, di_relative = T) # relative change in intensity is already adjusted back to original variable\n",
    "        write.csv(res, res_fnm)\n",
    "    }\n",
    "    \n",
    "    # quick return level plots to check fit\n",
    "    rlplot_fnm <- gsub(\"csv\", \"png\", gsub(\"res/\", \"mdl-eval/rlplot_\", res_fnm))\n",
    "    if(!file.exists(rlplot_fnm)) {\n",
    "        png(rlplot_fnm, h = 360, w = 480); par(cex.main = 1.4); {\n",
    "            plot_returnlevels(mdl, cov_f = cov_now, cov_cf = cov_hist, nsamp = 100, main = mnm)\n",
    "        }; dev.off()\n",
    "    }\n",
    "}"
   ]
  },
  {
   "cell_type": "code",
   "execution_count": 8,
   "metadata": {},
   "outputs": [],
   "source": [
    "# compile results\n",
    "res <- t(sapply(list.files(\"res\", pattern = \"cmip6_logdsr\", full.names = T), read.csv, row.names = \"X\"))\n",
    "rownames(res) <- sapply(rownames(res), function(r) gsub(\".csv\",\"\",paste0(strsplit(r, \"_\")[[1]][3], collapse = \"_\")))\n",
    "write.csv(res, \"res-cmip6_dsr-june.csv\")"
   ]
  },
  {
   "cell_type": "markdown",
   "metadata": {},
   "source": [
    "---\n",
    "# JJ-precip attribution"
   ]
  },
  {
   "cell_type": "code",
   "execution_count": 2,
   "metadata": {},
   "outputs": [],
   "source": [
    "nsamp = 1000\n",
    "rp <- 100"
   ]
  },
  {
   "cell_type": "markdown",
   "metadata": {},
   "source": [
    "## CORDEX"
   ]
  },
  {
   "cell_type": "code",
   "execution_count": null,
   "metadata": {},
   "outputs": [],
   "source": [
    "fl <- list.files(\"ts_cordex\", pattern = \"pr-jj\", full.names = T)\n",
    "for (fnm in fl) {\n",
    "    \n",
    "    mnm <- paste0(gsub(\".dat\",\"\",strsplit(fnm, \"_\")[[1]][4:7]), collapse = \"_\")\n",
    "    gmst_fnm <- list.files(\"ts_cordex\", pattern = paste0(\"smoothed-gsat_\", strsplit(fnm, \"_\")[[1]][5],\"_rcp85_\",substr(strsplit(fnm, \"_\")[[1]][6],1,2)), full.names = T)\n",
    "    if(length(gmst_fnm) == 0) { cat(\"GMST missing:\", mnm); next }\n",
    "    \n",
    "    # load data & combine all covariates with time series\n",
    "    df <- merge(load_ts(fnm, col.names = c(\"year\", \"pr\")), load_ts(gmst_fnm, col.names = c(\"year\", \"gmst\")))\n",
    "    mdl <- fit_ns(\"norm\", \"fixeddisp\", df, \"pr\", \"gmst\", lower = F)\n",
    "    res_fnm <- paste0(\"res/res-cordex_pr-jj_\",mnm,\".csv\")\n",
    "    \n",
    "    if(!file.exists(res_fnm)) {\n",
    "        \n",
    "        # use model's 2023 GMST & observed Nino to define factual climate        \n",
    "        cov_now <- df[df$year == 2024,\"gmst\",drop = F]\n",
    "        cov_hist <- cov_now - 1.2\n",
    "        cov_fut <- cov_now + 0.8\n",
    "\n",
    "        # bootstrap results\n",
    "        res <- cmodel_results(mdl, rp = rp, cov_f = cov_now, cov_hist = cov_hist, cov_fut = cov_fut,\n",
    "                             y_now = 2024, y_start = 1979, y_fut = 2050, nsamp = nsamp)\n",
    "        write.csv(res, res_fnm)\n",
    "    }\n",
    "    \n",
    "    # quick return level plots to check fit\n",
    "    rlplot_fnm <- gsub(\"csv\", \"png\", gsub(\"res/\", \"mdl-eval/rlplot_\", res_fnm))\n",
    "    if(!file.exists(rlplot_fnm)) {\n",
    "        png(rlplot_fnm, h = 360, w = 480); par(cex.main = 1.4); {\n",
    "            plot_returnlevels(mdl, cov_f = cov_now, cov_cf = cov_hist, nsamp = 100, main = mnm)\n",
    "        }; dev.off()\n",
    "    }\n",
    "}"
   ]
  },
  {
   "cell_type": "code",
   "execution_count": 104,
   "metadata": {},
   "outputs": [],
   "source": [
    "# compile results\n",
    "res <- t(sapply(list.files(\"res\", pattern = \"cordex_pr-jj\", full.names = T), read.csv, row.names = \"X\"))\n",
    "rownames(res) <- sapply(rownames(res), function(r) gsub(\".csv\",\"\",paste0(strsplit(r, \"_\")[[1]][c(3,4,6)], collapse = \"_\")))\n",
    "write.csv(res, \"res-cordex_pr-jj.csv\")"
   ]
  },
  {
   "cell_type": "code",
   "execution_count": 104,
   "metadata": {},
   "outputs": [],
   "source": []
  }
 ],
 "metadata": {
  "kernelspec": {
   "display_name": "R [conda env:r_env]",
   "language": "R",
   "name": "conda-env-r_env-r"
  },
  "language_info": {
   "codemirror_mode": "r",
   "file_extension": ".r",
   "mimetype": "text/x-r-source",
   "name": "R",
   "pygments_lexer": "r",
   "version": "4.2.2"
  }
 },
 "nbformat": 4,
 "nbformat_minor": 2
}
