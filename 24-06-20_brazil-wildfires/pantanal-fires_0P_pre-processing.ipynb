{
 "cells": [
  {
   "cell_type": "code",
   "execution_count": 5,
   "metadata": {},
   "outputs": [],
   "source": [
    "import sys; sys.path.append('..'); from wwa import *\n",
    "\n",
    "Xn, Xx, Yn, Yx = [-67,-47,-27,-7]\n",
    "xn, xx, yn, yx = [-60,-54,-23,-15]\n",
    "mapproj = cartopy.crs.PlateCarree()"
   ]
  },
  {
   "cell_type": "markdown",
   "metadata": {},
   "source": [
    "# Pantanal shapefile\n",
    "Region of interest is the flood plain of the upper Paraguay river - use hydrobasin to refine area, then cut to within Brazil (could also include part of Bolivia?) & possibly use elevation to further restrict to just the floodplain"
   ]
  },
  {
   "cell_type": "code",
   "execution_count": 21,
   "metadata": {},
   "outputs": [
    {
     "name": "stderr",
     "output_type": "stream",
     "text": [
      "/rds/general/user/cb2714/home/anaconda3/envs/wwa/lib/python3.10/site-packages/geopandas/geodataframe.py:2233: UserWarning: CRS mismatch between the CRS of left geometries and the CRS of right geometries.\n",
      "Use `to_crs()` to reproject one of the input geometries to match the CRS of the other.\n",
      "\n",
      "Left CRS: GEOGCS[\"WGS 84\",DATUM[\"WGS_1984\",SPHEROID[\"WGS 84\" ...\n",
      "Right CRS: EPSG:4326\n",
      "\n",
      "  return geopandas.clip(self, mask=mask, keep_geom_type=keep_geom_type)\n",
      "/rds/general/user/cb2714/home/wwa/24-06-20_brazil-wildfires/../wwa.py:364: UserWarning: Geometry is in a geographic CRS. Results from 'area' are likely incorrect. Use 'GeoSeries.to_crs()' to re-project geometries to a projected CRS before this operation.\n",
      "\n",
      "  gdf = gdf.loc[gdf.geometry.area == gdf.geometry.area.max()]\n"
     ]
    }
   ],
   "source": [
    "# clip shapefile to just Brazil\n",
    "sf_hybas = gpd.read_file(\"sf/hybas04\").loc[[83]]\n",
    "\n",
    "gdf_br = regionmask.defined_regions.natural_earth_v5_0_0.countries_50.to_geodataframe().set_crs(epsg = 4326).set_index(\"abbrevs\").loc[[\"BR\", \"BO\"]]\n",
    "sf_hybas_pan = main_polygon(sf_hybas.clip(gdf_br)).clip([-60.75,-23,-50,-10])\n",
    "\n",
    "sf_hybas_pan.to_file(\"sf/hybas_br-bo\")"
   ]
  },
  {
   "cell_type": "code",
   "execution_count": 6,
   "metadata": {},
   "outputs": [],
   "source": [
    "# Pantanal biome shapefile\n",
    "# ! cd data; wget http://geoftp.ibge.gov.br/informacoes_ambientais/estudos_ambientais/biomas/vetores/Biomas_250mil.zip; unzip data/Biomas_250mil.zip -d sf/biomas"
   ]
  },
  {
   "cell_type": "code",
   "execution_count": 3,
   "metadata": {},
   "outputs": [],
   "source": [
    "# shapefile of Brazilian Pantanal from https://brasil.mapbiomas.org/en/mapas-de-referencia/\n",
    "sf_biomas = gpd.read_file(\"sf/biomas\").loc[[5]].to_crs(epsg = 4326)\n",
    "sf_biomas.to_file(\"sf/pantanal\")"
   ]
  },
  {
   "cell_type": "markdown",
   "metadata": {},
   "source": [
    "## Compile & filter active fire data"
   ]
  },
  {
   "cell_type": "code",
   "execution_count": 2,
   "metadata": {},
   "outputs": [],
   "source": [
    "# MODIS active fire pixels\n",
    "# ! cd data; wget https://firms.modaps.eosdis.nasa.gov/data/download/DL_FIRE_M-C61_489623.zip; unzip data/DL_FIRE_M-C61_489623.zip -d data"
   ]
  },
  {
   "cell_type": "code",
   "execution_count": 9,
   "metadata": {},
   "outputs": [],
   "source": [
    "# load all active fire data\n",
    "df = pd.concat([pd.read_csv(fnm, parse_dates = [\"acq_date\"], index_col = \"acq_date\") for fnm in glob.glob(\"data/*M-C61*.csv\")])\n",
    "\n",
    "# filter out low-confidence points\n",
    "df = df.loc[(df.confidence >= 80), [\"latitude\", \"longitude\"]]\n",
    "\n",
    "df.to_csv(\"data/modis_conf-80.csv\")"
   ]
  },
  {
   "cell_type": "markdown",
   "metadata": {},
   "source": [
    "# ERA5 FWI download via API"
   ]
  },
  {
   "cell_type": "code",
   "execution_count": null,
   "metadata": {},
   "outputs": [],
   "source": [
    "xn, xx, yn, yx = [-60,-54,-23,-15]"
   ]
  },
  {
   "cell_type": "code",
   "execution_count": null,
   "metadata": {},
   "outputs": [
    {
     "name": "stderr",
     "output_type": "stream",
     "text": [
      "2024-07-16 10:52:32,295 INFO Welcome to the CDS\n",
      "2024-07-16 10:52:32,295 INFO Sending request to https://cds.climate.copernicus.eu/api/v2/resources/cems-fire-historical-v1\n",
      "2024-07-16 10:52:32,384 INFO Request is queued\n"
     ]
    }
   ],
   "source": [
    "import cdsapi\n",
    "\n",
    "c = cdsapi.Client()\n",
    "\n",
    "for y in range(2023, 1949,-1):\n",
    "    \n",
    "    c.retrieve(\n",
    "        'cems-fire-historical-v1',\n",
    "        {\n",
    "            'product_type': 'reanalysis',\n",
    "            'variable': [\n",
    "                'build_up_index', 'drought_code', 'duff_moisture_code',\n",
    "                'fine_fuel_moisture_code', 'initial_fire_spread_index',\n",
    "                'keetch_byram_drought_index',\n",
    "            ],\n",
    "            'dataset_type': 'consolidated_dataset',\n",
    "            'system_version': '4_1',\n",
    "            'year': str(y),\n",
    "            'month': [\n",
    "                '01', '02', '03',\n",
    "                '04', '05', '06',\n",
    "                '07', '08', '09',\n",
    "                '10', '11', '12',\n",
    "            ],\n",
    "            'day': [\n",
    "                '01', '02', '03',\n",
    "                '04', '05', '06',\n",
    "                '07', '08', '09',\n",
    "                '10', '11', '12',\n",
    "                '13', '14', '15',\n",
    "                '16', '17', '18',\n",
    "                '19', '20', '21',\n",
    "                '22', '23', '24',\n",
    "                '25', '26', '27',\n",
    "                '28', '29', '30',\n",
    "                '31',\n",
    "            ],\n",
    "            'grid': '0.25/0.25',\n",
    "            'format': 'netcdf',\n",
    "            'area': [\n",
    "                yx, xn, yn, xx,\n",
    "            ],\n",
    "        },\n",
    "        'data/era5-fire/fwi-subindices_cons_'+str(y)+'.nc')"
   ]
  },
  {
   "cell_type": "code",
   "execution_count": null,
   "metadata": {},
   "outputs": [
    {
     "name": "stderr",
     "output_type": "stream",
     "text": [
      "2024-07-16 10:52:32,295 INFO Welcome to the CDS\n",
      "2024-07-16 10:52:32,295 INFO Sending request to https://cds.climate.copernicus.eu/api/v2/resources/cems-fire-historical-v1\n",
      "2024-07-16 10:52:32,384 INFO Request is queued\n"
     ]
    }
   ],
   "source": [
    "import cdsapi\n",
    "\n",
    "c = cdsapi.Client()\n",
    "\n",
    "for y in range(2023, 2025):\n",
    "    \n",
    "    c.retrieve(\n",
    "        'cems-fire-historical-v1',\n",
    "        {\n",
    "            'product_type': 'reanalysis',\n",
    "            'variable': [\n",
    "                'build_up_index', 'drought_code', 'duff_moisture_code',\n",
    "                'fine_fuel_moisture_code', 'initial_fire_spread_index',\n",
    "                'keetch_byram_drought_index',\n",
    "            ],\n",
    "            'dataset_type': 'intermediate_dataset',\n",
    "            'system_version': '4_1',\n",
    "            'year': str(y),\n",
    "            'month': [\n",
    "                '01', '02', '03',\n",
    "                '04', '05', '06',\n",
    "                '07', '08', '09',\n",
    "                '10', '11', '12',\n",
    "            ],\n",
    "            'day': [\n",
    "                '01', '02', '03',\n",
    "                '04', '05', '06',\n",
    "                '07', '08', '09',\n",
    "                '10', '11', '12',\n",
    "                '13', '14', '15',\n",
    "                '16', '17', '18',\n",
    "                '19', '20', '21',\n",
    "                '22', '23', '24',\n",
    "                '25', '26', '27',\n",
    "                '28', '29', '30',\n",
    "                '31',\n",
    "            ],\n",
    "            'grid': '0.25/0.25',\n",
    "            'format': 'netcdf',\n",
    "            'area': [\n",
    "                yx, xn, yn, xx,\n",
    "            ],\n",
    "        },\n",
    "        'data/era5-fire/fwi-subindices_int_'+str(y)+'.nc')"
   ]
  },
  {
   "cell_type": "code",
   "execution_count": 1,
   "metadata": {},
   "outputs": [
    {
     "name": "stdout",
     "output_type": "stream",
     "text": [
      "--2024-07-16 09:42:05--  https://download-0005-clone.copernicus-climate.eu/cache-compute-0005/cache/data1/adaptor.mars.external-1721119058.7953396-3576-7-659d00ad-cc77-4c91-a11a-23e1d2bc86fd.nc\n",
      "Resolving download-0005-clone.copernicus-climate.eu (download-0005-clone.copernicus-climate.eu)... 2a0c:5bc0:4c:ff::889c:9986, 136.156.153.134\n",
      "Connecting to download-0005-clone.copernicus-climate.eu (download-0005-clone.copernicus-climate.eu)|2a0c:5bc0:4c:ff::889c:9986|:443... connected.\n",
      "HTTP request sent, awaiting response... 200 OK\n",
      "Length: 221138 (216K) [application/x-netcdf]\n",
      "Saving to: ‘adaptor.mars.external-1721119058.7953396-3576-7-659d00ad-cc77-4c91-a11a-23e1d2bc86fd.nc’\n",
      "\n",
      "adaptor.mars.extern 100%[===================>] 215.96K  --.-KB/s    in 0.1s    \n",
      "\n",
      "2024-07-16 09:42:06 (1.84 MB/s) - ‘adaptor.mars.external-1721119058.7953396-3576-7-659d00ad-cc77-4c91-a11a-23e1d2bc86fd.nc’ saved [221138/221138]\n",
      "\n"
     ]
    }
   ],
   "source": [
    "# KBDI from ERA5\n",
    "\n",
    "! cd data; wget https://download-0005-clone.copernicus-climate.eu/cache-compute-0005/cache/data1/adaptor.mars.external-1721119058.7953396-3576-7-659d00ad-cc77-4c91-a11a-23e1d2bc86fd.nc"
   ]
  },
  {
   "cell_type": "markdown",
   "metadata": {},
   "source": [
    "# Get DSR"
   ]
  },
  {
   "cell_type": "code",
   "execution_count": 8,
   "metadata": {},
   "outputs": [],
   "source": [
    "# Compile FWI data into a single file\n",
    "fl = sorted(glob.glob(\"../../00_WWA_project_folder/live/data/era5_fire/*consolidated*.nc\"))\n",
    "\n",
    "fwi_cns = [wrap_lon(xr.open_dataset(fnm)).fwinx.sel(longitude = slice(xn, xx), latitude = slice(yn, yx)).reset_coords(drop = True) for fnm in fl]\n",
    "\n",
    "int_start = (fwi_cns[-1].time[-1]+1)\n",
    "\n",
    "fwi_int = wrap_lon(xr.open_dataset(\"../../00_WWA_project_folder/live/data/era5_fire/era5_025_fwi_intermediate.nc\"))\n",
    "fwi_int = fwi_int.fwinx.sel(longitude = slice(xn, xx), latitude = slice(yn, yx), time = slice(int_start, None)).reset_coords(drop = True)\n",
    "\n",
    "fwi = xr.concat(fwi_cns + [fwi_int], \"time\")\n",
    "fwi = fwi.assign_attrs(note = \"Intermediate data after \"+str(fwi_int.time.min().values)[:10])\n",
    "\n",
    "fwi.to_netcdf(\"data/era5_fwi_\"+\"_\".join([str(d) for d in [xn,xx,yn,yx]])+\".nc\")"
   ]
  },
  {
   "cell_type": "code",
   "execution_count": 5,
   "metadata": {},
   "outputs": [],
   "source": [
    "dsr = (0.0272 * (fwi ** 1.71)).rename(\"dsr\")"
   ]
  },
  {
   "cell_type": "code",
   "execution_count": 6,
   "metadata": {},
   "outputs": [],
   "source": [
    "dsr.to_netcdf(\"data/era5_dsr.nc\")"
   ]
  },
  {
   "cell_type": "code",
   "execution_count": null,
   "metadata": {},
   "outputs": [],
   "source": []
  },
  {
   "cell_type": "code",
   "execution_count": null,
   "metadata": {},
   "outputs": [],
   "source": []
  }
 ],
 "metadata": {
  "kernelspec": {
   "display_name": "wwa",
   "language": "python",
   "name": "wwa"
  },
  "language_info": {
   "codemirror_mode": {
    "name": "ipython",
    "version": 3
   },
   "file_extension": ".py",
   "mimetype": "text/x-python",
   "name": "python",
   "nbconvert_exporter": "python",
   "pygments_lexer": "ipython3",
   "version": "3.10.8"
  }
 },
 "nbformat": 4,
 "nbformat_minor": 2
}
