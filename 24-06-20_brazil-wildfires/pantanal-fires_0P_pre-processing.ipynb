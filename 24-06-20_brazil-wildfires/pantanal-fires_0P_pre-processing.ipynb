{
 "cells": [
  {
   "cell_type": "code",
   "execution_count": 1,
   "metadata": {},
   "outputs": [],
   "source": [
    "import sys; sys.path.append('..'); from wwa import *\n",
    "\n",
    "Xn, Xx, Yn, Yx = [-67,-47,-27,-7]\n",
    "xn, xx, yn, yx = [-60,-54,-23,-15]\n",
    "mapproj = cartopy.crs.PlateCarree()"
   ]
  },
  {
   "cell_type": "code",
   "execution_count": 2,
   "metadata": {},
   "outputs": [],
   "source": [
    "sf = gpd.read_file(\"sf/pantanal\")"
   ]
  },
  {
   "cell_type": "markdown",
   "metadata": {},
   "source": [
    "# Pantanal shapefile\n",
    "Region of interest is the flood plain of the upper Paraguay river - use hydrobasin to refine area, then cut to within Brazil (could also include part of Bolivia?) & possibly use elevation to further restrict to just the floodplain"
   ]
  },
  {
   "cell_type": "code",
   "execution_count": 21,
   "metadata": {},
   "outputs": [
    {
     "name": "stderr",
     "output_type": "stream",
     "text": [
      "/rds/general/user/cb2714/home/anaconda3/envs/wwa/lib/python3.10/site-packages/geopandas/geodataframe.py:2233: UserWarning: CRS mismatch between the CRS of left geometries and the CRS of right geometries.\n",
      "Use `to_crs()` to reproject one of the input geometries to match the CRS of the other.\n",
      "\n",
      "Left CRS: GEOGCS[\"WGS 84\",DATUM[\"WGS_1984\",SPHEROID[\"WGS 84\" ...\n",
      "Right CRS: EPSG:4326\n",
      "\n",
      "  return geopandas.clip(self, mask=mask, keep_geom_type=keep_geom_type)\n",
      "/rds/general/user/cb2714/home/wwa/24-06-20_brazil-wildfires/../wwa.py:364: UserWarning: Geometry is in a geographic CRS. Results from 'area' are likely incorrect. Use 'GeoSeries.to_crs()' to re-project geometries to a projected CRS before this operation.\n",
      "\n",
      "  gdf = gdf.loc[gdf.geometry.area == gdf.geometry.area.max()]\n"
     ]
    }
   ],
   "source": [
    "# clip shapefile to just Brazil\n",
    "sf_hybas = gpd.read_file(\"sf/hybas04\").loc[[83]]\n",
    "\n",
    "gdf_br = regionmask.defined_regions.natural_earth_v5_0_0.countries_50.to_geodataframe().set_crs(epsg = 4326).set_index(\"abbrevs\").loc[[\"BR\", \"BO\"]]\n",
    "sf_hybas_pan = main_polygon(sf_hybas.clip(gdf_br)).clip([-60.75,-23,-50,-10])\n",
    "\n",
    "sf_hybas_pan.to_file(\"sf/hybas_br-bo\")"
   ]
  },
  {
   "cell_type": "code",
   "execution_count": 6,
   "metadata": {},
   "outputs": [],
   "source": [
    "# Pantanal biome shapefile\n",
    "# ! cd data; wget http://geoftp.ibge.gov.br/informacoes_ambientais/estudos_ambientais/biomas/vetores/Biomas_250mil.zip; unzip data/Biomas_250mil.zip -d sf/biomas"
   ]
  },
  {
   "cell_type": "code",
   "execution_count": 3,
   "metadata": {},
   "outputs": [],
   "source": [
    "# shapefile of Brazilian Pantanal from https://brasil.mapbiomas.org/en/mapas-de-referencia/\n",
    "sf_biomas = gpd.read_file(\"sf/biomas\").loc[[5]].to_crs(epsg = 4326)\n",
    "sf_biomas.to_file(\"sf/pantanal\")"
   ]
  },
  {
   "cell_type": "markdown",
   "metadata": {},
   "source": [
    "## Compile & filter active fire data"
   ]
  },
  {
   "cell_type": "code",
   "execution_count": 2,
   "metadata": {},
   "outputs": [],
   "source": [
    "# MODIS active fire pixels\n",
    "# ! cd data; wget https://firms.modaps.eosdis.nasa.gov/data/download/DL_FIRE_M-C61_489623.zip; unzip data/DL_FIRE_M-C61_489623.zip -d data"
   ]
  },
  {
   "cell_type": "code",
   "execution_count": 9,
   "metadata": {},
   "outputs": [],
   "source": [
    "# load all active fire data\n",
    "df = pd.concat([pd.read_csv(fnm, parse_dates = [\"acq_date\"], index_col = \"acq_date\") for fnm in glob.glob(\"data/*M-C61*.csv\")])\n",
    "\n",
    "# filter out low-confidence points\n",
    "df = df.loc[(df.confidence >= 80), [\"latitude\", \"longitude\"]]\n",
    "\n",
    "df.to_csv(\"data/modis_conf-80.csv\")"
   ]
  },
  {
   "cell_type": "markdown",
   "metadata": {},
   "source": [
    "### Count of daily active pixel area"
   ]
  },
  {
   "cell_type": "code",
   "execution_count": 65,
   "metadata": {},
   "outputs": [
    {
     "name": "stderr",
     "output_type": "stream",
     "text": [
      "/rds/general/user/cb2714/home/anaconda3/envs/wwa/lib/python3.10/site-packages/geopandas/geodataframe.py:2233: UserWarning: CRS mismatch between the CRS of left geometries and the CRS of right geometries.\n",
      "Use `to_crs()` to reproject one of the input geometries to match the CRS of the other.\n",
      "\n",
      "Left CRS: EPSG:4326\n",
      "Right CRS: GEOGCS[\"WGS 84\",DATUM[\"WGS_1984\",SPHEROID[\"WGS 84\" ...\n",
      "\n",
      "  return geopandas.clip(self, mask=mask, keep_geom_type=keep_geom_type)\n"
     ]
    }
   ],
   "source": [
    "df = pd.read_csv(\"data/modis_conf-80.csv\", parse_dates = [\"acq_date\"], index_col = \"acq_date\")\n",
    "df = gpd.GeoDataFrame(df, geometry = gpd.points_from_xy(x=df.longitude, y=df.latitude), crs = \"EPSG:4326\").clip(sf)\n",
    "\n",
    "px_daily = df.resample(\"D\").count()[[\"geometry\"]]\n",
    "px_daily.rename(columns = {\"geometry\" : \"px\"}).to_csv(\"data/modis-active-pixels_pantanal.csv\")"
   ]
  },
  {
   "cell_type": "markdown",
   "metadata": {},
   "source": [
    "# ERA5 FWI & subindices"
   ]
  },
  {
   "cell_type": "markdown",
   "metadata": {},
   "source": [
    "## Download via API"
   ]
  },
  {
   "cell_type": "code",
   "execution_count": 12,
   "metadata": {},
   "outputs": [],
   "source": [
    "xn, xx, yn, yx = [-60,-54,-23,-15]"
   ]
  },
  {
   "cell_type": "code",
   "execution_count": null,
   "metadata": {},
   "outputs": [
    {
     "name": "stderr",
     "output_type": "stream",
     "text": [
      "2024-07-18 17:45:45,699 INFO Welcome to the CDS\n",
      "2024-07-18 17:45:45,700 INFO Sending request to https://cds.climate.copernicus.eu/api/v2/resources/cems-fire-historical-v1\n"
     ]
    },
    {
     "name": "stdout",
     "output_type": "stream",
     "text": [
      "1992\n"
     ]
    },
    {
     "name": "stderr",
     "output_type": "stream",
     "text": [
      "2024-07-18 17:45:45,834 INFO Request is queued\n"
     ]
    }
   ],
   "source": [
    "import cdsapi\n",
    "\n",
    "c = cdsapi.Client()\n",
    "\n",
    "for y in range(1992, 1949,-1):\n",
    "    \n",
    "    print(y)\n",
    "    new_fnm = 'data/era5-fire/fwi-subindices_cons_'+str(y)+'.nc'\n",
    "    if os.path.exists(new_fnm): continue\n",
    "    \n",
    "    c.retrieve(\n",
    "        'cems-fire-historical-v1',\n",
    "        {\n",
    "            'product_type': 'reanalysis',\n",
    "            'variable': [\n",
    "                'build_up_index', 'drought_code', 'duff_moisture_code',\n",
    "                'fine_fuel_moisture_code', 'initial_fire_spread_index',\n",
    "                'keetch_byram_drought_index',\n",
    "            ],\n",
    "            'dataset_type': 'consolidated_dataset',\n",
    "            'system_version': '4_1',\n",
    "            'year': str(y),\n",
    "            'month': [\n",
    "                '01', '02', '03',\n",
    "                '04', '05', '06',\n",
    "                '07', '08', '09',\n",
    "                '10', '11', '12',\n",
    "            ],\n",
    "            'day': [\n",
    "                '01', '02', '03',\n",
    "                '04', '05', '06',\n",
    "                '07', '08', '09',\n",
    "                '10', '11', '12',\n",
    "                '13', '14', '15',\n",
    "                '16', '17', '18',\n",
    "                '19', '20', '21',\n",
    "                '22', '23', '24',\n",
    "                '25', '26', '27',\n",
    "                '28', '29', '30',\n",
    "                '31',\n",
    "            ],\n",
    "            'grid': '0.25/0.25',\n",
    "            'format': 'netcdf',\n",
    "            'area': [\n",
    "                yx, xn, yn, xx,\n",
    "            ],\n",
    "        },\n",
    "        new_fnm)\n",
    "    clear_output(wait = False)"
   ]
  },
  {
   "cell_type": "code",
   "execution_count": null,
   "metadata": {},
   "outputs": [],
   "source": [
    "import cdsapi\n",
    "\n",
    "c = cdsapi.Client()\n",
    "\n",
    "for y in range(2023, 2025):\n",
    "    \n",
    "    c.retrieve(\n",
    "        'cems-fire-historical-v1',\n",
    "        {\n",
    "            'product_type': 'reanalysis',\n",
    "            'variable': [\n",
    "                'build_up_index', 'drought_code', 'duff_moisture_code',\n",
    "                'fine_fuel_moisture_code', 'initial_fire_spread_index',\n",
    "                'keetch_byram_drought_index',\n",
    "            ],\n",
    "            'dataset_type': 'intermediate_dataset',\n",
    "            'system_version': '4_1',\n",
    "            'year': str(y),\n",
    "            'month': [\n",
    "                '01', '02', '03',\n",
    "                '04', '05', '06',\n",
    "                '07', '08', '09',\n",
    "                '10', '11', '12',\n",
    "            ],\n",
    "            'day': [\n",
    "                '01', '02', '03',\n",
    "                '04', '05', '06',\n",
    "                '07', '08', '09',\n",
    "                '10', '11', '12',\n",
    "                '13', '14', '15',\n",
    "                '16', '17', '18',\n",
    "                '19', '20', '21',\n",
    "                '22', '23', '24',\n",
    "                '25', '26', '27',\n",
    "                '28', '29', '30',\n",
    "                '31',\n",
    "            ],\n",
    "            'grid': '0.25/0.25',\n",
    "            'format': 'netcdf',\n",
    "            'area': [\n",
    "                yx, xn, yn, xx,\n",
    "            ],\n",
    "        },\n",
    "        'data/era5-fire/fwi-subindices_int_'+str(y)+'.nc')\n",
    "    clear_output(wait = False)"
   ]
  },
  {
   "cell_type": "markdown",
   "metadata": {},
   "source": [
    "## Get DSR\n",
    "Downloaded to project drive via API"
   ]
  },
  {
   "cell_type": "code",
   "execution_count": 21,
   "metadata": {},
   "outputs": [],
   "source": [
    "# Compile FWI data into a single file\n",
    "fl = sorted(glob.glob(\"../../00_WWA_project_folder/live/data/era5_fire/*consolidated*.nc\"))\n",
    "\n",
    "fwi_cns = [wrap_lon(xr.open_dataset(fnm)).fwinx.sel(longitude = slice(xn, xx), latitude = slice(yn, yx)).reset_coords(drop = True) for fnm in fl]\n",
    "\n",
    "int_start = (fwi_cns[-1].time[-1]+1)\n",
    "\n",
    "fwi_int = wrap_lon(xr.open_dataset(\"../../00_WWA_project_folder/live/data/era5_fire/era5_025_fwi_intermediate.nc\"))\n",
    "fwi_int = fwi_int.fwinx.sel(longitude = slice(xn, xx), latitude = slice(yn, yx), time = slice(int_start, None)).reset_coords(drop = True)\n",
    "\n",
    "fwi = xr.concat(fwi_cns + [fwi_int], \"time\")\n",
    "fwi = fwi.assign_attrs(note = \"Intermediate data after \"+str(fwi_int.time.min().values)[:10])\n",
    "fwi = fwi.assign_coords(time = fwi.time.dt.floor(\"D\")).rename(\"fwi\")\n",
    "fwi.to_netcdf(\"data/era5_fwi_\"+\"_\".join([str(d) for d in [xn,xx,yn,yx]])+\".nc\")\n",
    "\n",
    "dsr = (0.0272 * (fwi ** 1.77)).rename(\"dsr\")\n",
    "dsr.to_netcdf(\"data/era5_dsr_\"+\"_\".join([str(d) for d in [xn,xx,yn,yx]])+\".nc\")"
   ]
  },
  {
   "cell_type": "markdown",
   "metadata": {},
   "source": [
    "## Compile DSR & sub-indices into daily time series over study region"
   ]
  },
  {
   "cell_type": "code",
   "execution_count": 22,
   "metadata": {},
   "outputs": [],
   "source": [
    "fl = sorted(glob.glob(\"data/era5-fire/*cons*.nc\"))\n",
    "\n",
    "# make generic regionmask\n",
    "ds = xr.open_dataset(fl[0]).reset_coords(drop = True)\n",
    "rm = regionmask.mask_geopandas(sf, ds.longitude, ds.latitude)\n",
    "\n",
    "fwi_cns = xr.concat([xr.open_dataset(fnm).reset_coords(drop = True).where(rm == 0).mean([\"latitude\", \"longitude\"]) for fnm in fl], \"time\")\n",
    "\n",
    "int_start = fwi_cns.time[-1]+1\n",
    "\n",
    "fwi_int = xr.concat([xr.open_dataset(fnm).reset_coords(drop = True).where(rm == 0).mean([\"latitude\", \"longitude\"]) for fnm in sorted(glob.glob(\"data/era5-fire/*int*.nc\"))], \"time\")\n",
    "\n",
    "fwi_si = xr.concat([fwi_cns, fwi_int.sel(time = slice(fwi_cns.time[-1]+1, None))], \"time\")\n",
    "fwi_si = fwi_si.assign_attrs(note = \"Intermediate data after \"+str(fwi_cns.time[-1].time.min().values)[:10])"
   ]
  },
  {
   "cell_type": "code",
   "execution_count": 23,
   "metadata": {},
   "outputs": [],
   "source": [
    "# merge with FWI & DSR, relabel & save as a single netcdf\n",
    "\n",
    "fwi = xr.open_dataset(\"data/era5_fwi_\"+\"_\".join([str(d) for d in [xn,xx,yn,yx]])+\".nc\").fwi\n",
    "fwi_ts = fwi.where(regionmask.mask_geopandas(sf, fwi.longitude, fwi.latitude) == 0).mean([\"latitude\", \"longitude\"])\n",
    "\n",
    "dsr = xr.open_dataset(\"data/era5_dsr_\"+\"_\".join([str(d) for d in [xn,xx,yn,yx]])+\".nc\").dsr\n",
    "dsr_ts = dsr.where(regionmask.mask_geopandas(sf, dsr.longitude, dsr.latitude) == 0).mean([\"latitude\", \"longitude\"])"
   ]
  },
  {
   "cell_type": "code",
   "execution_count": 24,
   "metadata": {},
   "outputs": [],
   "source": [
    "ds_era5 = xr.merge([fwi_si, fwi_ts, dsr_ts], join = \"outer\")\n",
    "ds_era5 = ds_era5.rename({\"fbupinx\" : \"bui\", \"drtcode\" : \"dc\", \"dufmcode\" : \"dmc\", \"ffmcode\" : \"ffmc\", \"infsinx\": \"isi\"})\n",
    "\n",
    "ds_era5.to_netcdf(\"data/fwi_daily_pantanal_era5.nc\")"
   ]
  },
  {
   "cell_type": "markdown",
   "metadata": {},
   "source": [
    "## Contributing variables"
   ]
  },
  {
   "cell_type": "markdown",
   "metadata": {},
   "source": [
    "### Relative humidity"
   ]
  },
  {
   "cell_type": "code",
   "execution_count": null,
   "metadata": {},
   "outputs": [],
   "source": [
    "for y in range(2024, 1949,-1):\n",
    "    \n",
    "    print(y)\n",
    "    new_fnm = '/rds/general/user/cb2714/home/99_ephemera/pantanal-fires/era5/rhum_1000hpa_'+str(y)+'.nc'\n",
    "    if os.path.exists(new_fnm): continue\n",
    "        \n",
    "    c.retrieve(\n",
    "        'reanalysis-era5-pressure-levels',\n",
    "        {\n",
    "            'product_type': 'reanalysis',\n",
    "            'format': 'netcdf',\n",
    "            'variable': 'relative_humidity',\n",
    "            'pressure_level': '1000',\n",
    "            'year': str(y),\n",
    "            'day': [\n",
    "                '01', '02', '03',\n",
    "                '04', '05', '06',\n",
    "                '07', '08', '09',\n",
    "                '10', '11', '12',\n",
    "                '13', '14', '15',\n",
    "                '16', '17', '18',\n",
    "                '19', '20', '21',\n",
    "                '22', '23', '24',\n",
    "                '25', '26', '27',\n",
    "                '28', '29', '30',\n",
    "                '31',\n",
    "            ],\n",
    "            'month': [\n",
    "                '01', '02', '03',\n",
    "                '04', '05', '06',\n",
    "                '07', '08', '09',\n",
    "                '10', '11', '12',\n",
    "            ],\n",
    "            'time': [\n",
    "                '00:00', '01:00', '02:00',\n",
    "                '03:00', '04:00', '05:00',\n",
    "                '06:00', '07:00', '08:00',\n",
    "                '09:00', '10:00', '11:00',\n",
    "                '12:00', '13:00', '14:00',\n",
    "                '15:00', '16:00', '17:00',\n",
    "                '18:00', '19:00', '20:00',\n",
    "                '21:00', '22:00', '23:00',\n",
    "            ],\n",
    "            'area': [\n",
    "                -15, -60, -23,\n",
    "                -54,\n",
    "            ],\n",
    "        },\n",
    "        new_fnm)\n",
    "    clear_output(wait = False)"
   ]
  },
  {
   "cell_type": "markdown",
   "metadata": {},
   "source": [
    "### Subset of daily min & daily mean rh"
   ]
  },
  {
   "cell_type": "code",
   "execution_count": 3,
   "metadata": {},
   "outputs": [],
   "source": [
    "fpath = \"/rds/general/user/cb2714/home/99_ephemera/pantanal-fires/era5/\""
   ]
  },
  {
   "cell_type": "code",
   "execution_count": 21,
   "metadata": {},
   "outputs": [],
   "source": [
    "for y in range(1950,2025):\n",
    "    ds = xr.open_dataset(fpath+\"rhum_1000hpa_\"+str(y)+\".nc\").r\n",
    "    if \"expver\" in ds.dims: ds = ds.sum(\"expver\")\n",
    "        \n",
    "    ds.resample(time = \"D\").mean().to_netcdf(fpath+\"daily/rhum-mean_1000hpa_\"+str(y)+\".nc\")\n",
    "    ds.resample(time = \"D\").min().to_netcdf(fpath+\"daily/rhum-min_1000hpa_\"+str(y)+\".nc\")"
   ]
  },
  {
   "cell_type": "code",
   "execution_count": 4,
   "metadata": {},
   "outputs": [],
   "source": [
    "rmean = xr.open_mfdataset(fpath+\"daily/rhum-mean_*.nc\")\n",
    "rmin = xr.open_mfdataset(fpath+\"daily/rhum-min_*.nc\")"
   ]
  },
  {
   "cell_type": "code",
   "execution_count": 5,
   "metadata": {},
   "outputs": [],
   "source": [
    "rmean.to_netcdf(\"data/rhum-mean_era5.nc\")\n",
    "rmin.to_netcdf(\"data/rhum-min_era5.nc\")"
   ]
  },
  {
   "cell_type": "markdown",
   "metadata": {},
   "source": [
    "### Compile daily time series of all variables"
   ]
  },
  {
   "cell_type": "code",
   "execution_count": 6,
   "metadata": {},
   "outputs": [],
   "source": [
    "# data at 0.5deg from Climate Explorer\n",
    "tmax = xr.open_dataset(\"data/era5_tmax_daily_-60--54E_-23--15N_su.nc\").tmax\n",
    "tmax = tmax.where(regionmask.mask_geopandas(sf, tmax.lon, tmax.lat) == 0).mean([\"lat\", \"lon\"])\n",
    "\n",
    "t2m = xr.open_dataset(\"data/era5_t2m_daily_-60--54E_-23--15N_su.nc\").t2m\n",
    "t2m = t2m.where(regionmask.mask_geopandas(sf, t2m.lon, t2m.lat) == 0).mean([\"lat\", \"lon\"]).rename(\"tas\")\n",
    "\n",
    "tp = xr.open_dataset(\"data/era5_tp_daily_-60--54E_-23--15N_su.nc\").tp\n",
    "tp = tp.where(regionmask.mask_geopandas(sf, tp.lon, tp.lat) == 0).mean([\"lat\", \"lon\"]).rename(\"pr\")\n",
    "\n",
    "sfcWind = xr.open_dataset(\"data/era5_sfcWind_daily_-60--54E_-23--15N_su.nc\").sfcWind\n",
    "sfcWind = sfcWind.where(regionmask.mask_geopandas(sf, sfcWind.lon, sfcWind.lat) == 0).mean([\"lat\", \"lon\"])"
   ]
  },
  {
   "cell_type": "code",
   "execution_count": 13,
   "metadata": {},
   "outputs": [],
   "source": [
    "# data at 0.25deg from CDS hourly at 1000hpa\n",
    "rhmean = xr.open_dataset(\"data/rhum-mean_era5.nc\").r\n",
    "rhmean = rhmean.where(regionmask.mask_geopandas(sf, rhmean.longitude, rhmean.latitude) == 0).mean([\"latitude\", \"longitude\"]).rename(\"rh_mean\")\n",
    "\n",
    "rhmin = xr.open_dataset(\"data/rhum-min_era5.nc\").r\n",
    "rhmin = rhmin.where(regionmask.mask_geopandas(sf, rhmin.longitude, rhmin.latitude) == 0).mean([\"latitude\", \"longitude\"]).rename(\"rh_min\")"
   ]
  },
  {
   "cell_type": "code",
   "execution_count": 14,
   "metadata": {},
   "outputs": [],
   "source": [
    "era5_vars = xr.merge([t2m, tmax, tp, sfcWind, rhmean, rhmin], join = \"inner\")\n",
    "era5_vars.to_netcdf(\"data/vars_daily_pantanal_era5.nc\")"
   ]
  },
  {
   "cell_type": "markdown",
   "metadata": {},
   "source": [
    "### Monthly variables"
   ]
  },
  {
   "cell_type": "code",
   "execution_count": 65,
   "metadata": {},
   "outputs": [],
   "source": [
    "ds = xr.open_dataset(\"data/era5_monthly_pr-t-wspd.nc\").sum(\"expver\")\n",
    "\n",
    "# mask off region\n",
    "rm = regionmask.mask_geopandas(sf, ds.longitude, ds.latitude)\n",
    "ds = ds.where(rm == 0).mean([\"latitude\", \"longitude\"])\n",
    "\n",
    "# sort out units\n",
    "ds[\"t2m\"] = convert_units_to(ds[\"t2m\"], \"degC\")\n",
    "ds[\"tp\"] = convert_units_to(ds[\"tp\"], \"mm\")\n",
    "ds[\"si10\"] = convert_units_to(ds[\"si10\"], \"m/s\")"
   ]
  },
  {
   "cell_type": "code",
   "execution_count": 67,
   "metadata": {},
   "outputs": [],
   "source": [
    "# get monthly means & save as .csv\n",
    "ts_mj = ds.rolling(time = 2).mean().groupby(\"time.month\")[6]\n",
    "ts_mj.assign_coords(time = ts_mj.time.dt.year).rename(time = \"year\").to_dataframe().to_csv(\"data/era5_variables_may-june.csv\")\n",
    "\n",
    "ts_jun = ds.groupby(\"time.month\")[6]\n",
    "ts_jun.assign_coords(time = ts_jun.time.dt.year).rename(time = \"year\").to_dataframe().to_csv(\"data/era5_variables_june.csv\")"
   ]
  },
  {
   "cell_type": "markdown",
   "metadata": {},
   "source": [
    "# MSWX"
   ]
  },
  {
   "cell_type": "markdown",
   "metadata": {},
   "source": [
    "## Extract data\n"
   ]
  },
  {
   "cell_type": "code",
   "execution_count": 4,
   "metadata": {},
   "outputs": [],
   "source": [
    "fpath = \"/rds/general/user/cb2714/home/00_WWA_project_folder/live/data/mswx/\"\n",
    "outpath = \"/rds/general/user/cb2714/home/99_ephemera/pantanal-fires/mswx/\"\n",
    "\n",
    "xn, xx, yn, yx = [-62,-52,-24,-12]"
   ]
  },
  {
   "cell_type": "code",
   "execution_count": 4,
   "metadata": {},
   "outputs": [],
   "source": [
    "for varnm in [\"P\", \"Tmax\", \"Tmin\", \"Wind\", \"RelHum\"]:\n",
    "    print(varnm)\n",
    "    for y in range(1979,2025):\n",
    "        \n",
    "        print(\"  \"+str(y))\n",
    "        \n",
    "        new_fnm = outpath+varnm+\"_\"+str(y)+\".nc\"\n",
    "        if os.path.exists(new_fnm): continue\n",
    "        \n",
    "        da = wrap_lon(xr.open_mfdataset(fpath+varnm+\"/\"+str(y)+\"/*.nc\")).sel(lon = slice(xn,xx), lat = slice(yn,yx))\n",
    "        da.to_netcdf(new_fnm)\n",
    "        \n",
    "    clear_output(wait = False)"
   ]
  },
  {
   "cell_type": "markdown",
   "metadata": {},
   "source": [
    "## Compile each variable"
   ]
  },
  {
   "cell_type": "code",
   "execution_count": 3,
   "metadata": {},
   "outputs": [],
   "source": [
    "convert_units_to(xr.open_mfdataset(outpath+\"P_*.nc\").precipitation, \"mm/day\").rename(\"pr\").to_netcdf(\"data/mswx/pr_mswx.nc\")"
   ]
  },
  {
   "cell_type": "code",
   "execution_count": 4,
   "metadata": {},
   "outputs": [],
   "source": [
    "convert_units_to(xr.open_mfdataset(outpath+\"Tmax_*.nc\").air_temperature, \"degC\").rename(\"tasmax\").to_netcdf(\"data/mswx/tasmax_mswx.nc\")"
   ]
  },
  {
   "cell_type": "code",
   "execution_count": 5,
   "metadata": {},
   "outputs": [],
   "source": [
    "convert_units_to(xr.open_mfdataset(outpath+\"Wind_*.nc\").wind_speed, \"m/s\").rename(\"sfcWind\").to_netcdf(\"data/mswx/sfcWind_mswx.nc\")"
   ]
  },
  {
   "cell_type": "code",
   "execution_count": 6,
   "metadata": {},
   "outputs": [],
   "source": [
    "convert_units_to(xr.open_mfdataset(outpath+\"RelHum_*.nc\").relative_humidity, \"%\").rename(\"hurs\").to_netcdf(\"data/mswx/hurs_mswx.nc\")"
   ]
  },
  {
   "cell_type": "markdown",
   "metadata": {},
   "source": [
    "## Compute FWI\n"
   ]
  },
  {
   "cell_type": "code",
   "execution_count": 8,
   "metadata": {},
   "outputs": [],
   "source": [
    "from xclim.indicators.atmos import cffwis_indices\n",
    "\n",
    "ds = xr.merge([xr.open_dataset(\"data/mswx/\"+varnm+\"_mswx.nc\") for varnm in [\"pr\", \"tasmax\", \"sfcWind\", \"hurs\"]])\n",
    "fwi = cffwis_indices(ds = ds.rename(tasmax = \"tas\"))\n",
    "xr.merge(fwi).to_netcdf(\"data/mswx/fwi-subindices_mswx.nc\")"
   ]
  },
  {
   "cell_type": "code",
   "execution_count": 28,
   "metadata": {},
   "outputs": [],
   "source": [
    "fwi = xr.open_dataset(\"data/mswx/fwi-subindices_mswx.nc\")\n",
    "\n",
    "# daily time series of FWI/DSR & subindices\n",
    "fwi[\"dsr\"] = (0.0272 * (fwi.fwi ** 1.77))\n",
    "\n",
    "rm = regionmask.mask_geopandas(sf, fwi.lon, fwi.lat)\n",
    "ts = fwi.where(rm == 0).mean([\"lat\", \"lon\"])\n",
    "ts.to_netcdf(\"data/fwi_daily_pantanal_mswx.nc\")"
   ]
  },
  {
   "cell_type": "code",
   "execution_count": 19,
   "metadata": {},
   "outputs": [],
   "source": [
    "# save variables as daily time series\n",
    "rm = regionmask.mask_geopandas(sf, ds.lon, ds.lat)\n",
    "ts = ds.where(rm == 0).mean([\"lat\", \"lon\"])\n",
    "ts.to_netcdf(\"data/vars_daily_pantanal_mswx.nc\")"
   ]
  },
  {
   "cell_type": "markdown",
   "metadata": {},
   "source": [
    "# MERRA2 (corrected)\n",
    "\n",
    "_FWI data downloaded from https://data.giss.nasa.gov/impacts/gfwed/_"
   ]
  },
  {
   "cell_type": "code",
   "execution_count": null,
   "metadata": {},
   "outputs": [],
   "source": [
    "import os\n",
    "from IPython.display import clear_output\n",
    "\n",
    "# download all monthly files from NASA\n",
    "for y in [str(y) for y in range(2024,1979,-1)]:\n",
    "    \n",
    "    ! mkdir -p /rds/general/user/cb2714/home/99_ephemera/merra_corrected/$y\n",
    "    \n",
    "    for m in [str(m).rjust(2, \"0\") for m in range(1,13)]:\n",
    "        \n",
    "        for d in [str(d).rjust(2, \"0\") for d in range(1,32)]:\n",
    "            \n",
    "            url = \"https://portal.nccs.nasa.gov/datashare/GlobalFWI/v2.0/fwiCalcs.MERRA2/Default/MERRA2.CORRECTED/\"+str(y)+\"/FWI.MERRA2.CORRECTED.Daily.Default.\"+y+m+d+\".nc\"\n",
    "            outfile = \"/rds/general/user/cb2714/home/99_ephemera/merra_corrected/\"+y+\"/\"+url.split(\"/\")[-1]\n",
    "\n",
    "            if os.path.exists(outfile): continue\n",
    "            ! wget $url -O $outfile\n",
    "\n",
    "            clear_output(wait = False)\n",
    "            \n",
    "    # delete any files of size zero (nonexistent dates)\n",
    "    ! find /rds/general/user/cb2714/home/99_ephemera/merra_corrected/$y/ -size 0 -delete\n",
    "    \n",
    "print(\"Done.\")"
   ]
  },
  {
   "cell_type": "code",
   "execution_count": 17,
   "metadata": {},
   "outputs": [
    {
     "data": {
      "text/html": [
       "<div><svg style=\"position: absolute; width: 0; height: 0; overflow: hidden\">\n",
       "<defs>\n",
       "<symbol id=\"icon-database\" viewBox=\"0 0 32 32\">\n",
       "<path d=\"M16 0c-8.837 0-16 2.239-16 5v4c0 2.761 7.163 5 16 5s16-2.239 16-5v-4c0-2.761-7.163-5-16-5z\"></path>\n",
       "<path d=\"M16 17c-8.837 0-16-2.239-16-5v6c0 2.761 7.163 5 16 5s16-2.239 16-5v-6c0 2.761-7.163 5-16 5z\"></path>\n",
       "<path d=\"M16 26c-8.837 0-16-2.239-16-5v6c0 2.761 7.163 5 16 5s16-2.239 16-5v-6c0 2.761-7.163 5-16 5z\"></path>\n",
       "</symbol>\n",
       "<symbol id=\"icon-file-text2\" viewBox=\"0 0 32 32\">\n",
       "<path d=\"M28.681 7.159c-0.694-0.947-1.662-2.053-2.724-3.116s-2.169-2.030-3.116-2.724c-1.612-1.182-2.393-1.319-2.841-1.319h-15.5c-1.378 0-2.5 1.121-2.5 2.5v27c0 1.378 1.122 2.5 2.5 2.5h23c1.378 0 2.5-1.122 2.5-2.5v-19.5c0-0.448-0.137-1.23-1.319-2.841zM24.543 5.457c0.959 0.959 1.712 1.825 2.268 2.543h-4.811v-4.811c0.718 0.556 1.584 1.309 2.543 2.268zM28 29.5c0 0.271-0.229 0.5-0.5 0.5h-23c-0.271 0-0.5-0.229-0.5-0.5v-27c0-0.271 0.229-0.5 0.5-0.5 0 0 15.499-0 15.5 0v7c0 0.552 0.448 1 1 1h7v19.5z\"></path>\n",
       "<path d=\"M23 26h-14c-0.552 0-1-0.448-1-1s0.448-1 1-1h14c0.552 0 1 0.448 1 1s-0.448 1-1 1z\"></path>\n",
       "<path d=\"M23 22h-14c-0.552 0-1-0.448-1-1s0.448-1 1-1h14c0.552 0 1 0.448 1 1s-0.448 1-1 1z\"></path>\n",
       "<path d=\"M23 18h-14c-0.552 0-1-0.448-1-1s0.448-1 1-1h14c0.552 0 1 0.448 1 1s-0.448 1-1 1z\"></path>\n",
       "</symbol>\n",
       "</defs>\n",
       "</svg>\n",
       "<style>/* CSS stylesheet for displaying xarray objects in jupyterlab.\n",
       " *\n",
       " */\n",
       "\n",
       ":root {\n",
       "  --xr-font-color0: var(--jp-content-font-color0, rgba(0, 0, 0, 1));\n",
       "  --xr-font-color2: var(--jp-content-font-color2, rgba(0, 0, 0, 0.54));\n",
       "  --xr-font-color3: var(--jp-content-font-color3, rgba(0, 0, 0, 0.38));\n",
       "  --xr-border-color: var(--jp-border-color2, #e0e0e0);\n",
       "  --xr-disabled-color: var(--jp-layout-color3, #bdbdbd);\n",
       "  --xr-background-color: var(--jp-layout-color0, white);\n",
       "  --xr-background-color-row-even: var(--jp-layout-color1, white);\n",
       "  --xr-background-color-row-odd: var(--jp-layout-color2, #eeeeee);\n",
       "}\n",
       "\n",
       "html[theme=dark],\n",
       "body[data-theme=dark],\n",
       "body.vscode-dark {\n",
       "  --xr-font-color0: rgba(255, 255, 255, 1);\n",
       "  --xr-font-color2: rgba(255, 255, 255, 0.54);\n",
       "  --xr-font-color3: rgba(255, 255, 255, 0.38);\n",
       "  --xr-border-color: #1F1F1F;\n",
       "  --xr-disabled-color: #515151;\n",
       "  --xr-background-color: #111111;\n",
       "  --xr-background-color-row-even: #111111;\n",
       "  --xr-background-color-row-odd: #313131;\n",
       "}\n",
       "\n",
       ".xr-wrap {\n",
       "  display: block !important;\n",
       "  min-width: 300px;\n",
       "  max-width: 700px;\n",
       "}\n",
       "\n",
       ".xr-text-repr-fallback {\n",
       "  /* fallback to plain text repr when CSS is not injected (untrusted notebook) */\n",
       "  display: none;\n",
       "}\n",
       "\n",
       ".xr-header {\n",
       "  padding-top: 6px;\n",
       "  padding-bottom: 6px;\n",
       "  margin-bottom: 4px;\n",
       "  border-bottom: solid 1px var(--xr-border-color);\n",
       "}\n",
       "\n",
       ".xr-header > div,\n",
       ".xr-header > ul {\n",
       "  display: inline;\n",
       "  margin-top: 0;\n",
       "  margin-bottom: 0;\n",
       "}\n",
       "\n",
       ".xr-obj-type,\n",
       ".xr-array-name {\n",
       "  margin-left: 2px;\n",
       "  margin-right: 10px;\n",
       "}\n",
       "\n",
       ".xr-obj-type {\n",
       "  color: var(--xr-font-color2);\n",
       "}\n",
       "\n",
       ".xr-sections {\n",
       "  padding-left: 0 !important;\n",
       "  display: grid;\n",
       "  grid-template-columns: 150px auto auto 1fr 20px 20px;\n",
       "}\n",
       "\n",
       ".xr-section-item {\n",
       "  display: contents;\n",
       "}\n",
       "\n",
       ".xr-section-item input {\n",
       "  display: none;\n",
       "}\n",
       "\n",
       ".xr-section-item input + label {\n",
       "  color: var(--xr-disabled-color);\n",
       "}\n",
       "\n",
       ".xr-section-item input:enabled + label {\n",
       "  cursor: pointer;\n",
       "  color: var(--xr-font-color2);\n",
       "}\n",
       "\n",
       ".xr-section-item input:enabled + label:hover {\n",
       "  color: var(--xr-font-color0);\n",
       "}\n",
       "\n",
       ".xr-section-summary {\n",
       "  grid-column: 1;\n",
       "  color: var(--xr-font-color2);\n",
       "  font-weight: 500;\n",
       "}\n",
       "\n",
       ".xr-section-summary > span {\n",
       "  display: inline-block;\n",
       "  padding-left: 0.5em;\n",
       "}\n",
       "\n",
       ".xr-section-summary-in:disabled + label {\n",
       "  color: var(--xr-font-color2);\n",
       "}\n",
       "\n",
       ".xr-section-summary-in + label:before {\n",
       "  display: inline-block;\n",
       "  content: '►';\n",
       "  font-size: 11px;\n",
       "  width: 15px;\n",
       "  text-align: center;\n",
       "}\n",
       "\n",
       ".xr-section-summary-in:disabled + label:before {\n",
       "  color: var(--xr-disabled-color);\n",
       "}\n",
       "\n",
       ".xr-section-summary-in:checked + label:before {\n",
       "  content: '▼';\n",
       "}\n",
       "\n",
       ".xr-section-summary-in:checked + label > span {\n",
       "  display: none;\n",
       "}\n",
       "\n",
       ".xr-section-summary,\n",
       ".xr-section-inline-details {\n",
       "  padding-top: 4px;\n",
       "  padding-bottom: 4px;\n",
       "}\n",
       "\n",
       ".xr-section-inline-details {\n",
       "  grid-column: 2 / -1;\n",
       "}\n",
       "\n",
       ".xr-section-details {\n",
       "  display: none;\n",
       "  grid-column: 1 / -1;\n",
       "  margin-bottom: 5px;\n",
       "}\n",
       "\n",
       ".xr-section-summary-in:checked ~ .xr-section-details {\n",
       "  display: contents;\n",
       "}\n",
       "\n",
       ".xr-array-wrap {\n",
       "  grid-column: 1 / -1;\n",
       "  display: grid;\n",
       "  grid-template-columns: 20px auto;\n",
       "}\n",
       "\n",
       ".xr-array-wrap > label {\n",
       "  grid-column: 1;\n",
       "  vertical-align: top;\n",
       "}\n",
       "\n",
       ".xr-preview {\n",
       "  color: var(--xr-font-color3);\n",
       "}\n",
       "\n",
       ".xr-array-preview,\n",
       ".xr-array-data {\n",
       "  padding: 0 5px !important;\n",
       "  grid-column: 2;\n",
       "}\n",
       "\n",
       ".xr-array-data,\n",
       ".xr-array-in:checked ~ .xr-array-preview {\n",
       "  display: none;\n",
       "}\n",
       "\n",
       ".xr-array-in:checked ~ .xr-array-data,\n",
       ".xr-array-preview {\n",
       "  display: inline-block;\n",
       "}\n",
       "\n",
       ".xr-dim-list {\n",
       "  display: inline-block !important;\n",
       "  list-style: none;\n",
       "  padding: 0 !important;\n",
       "  margin: 0;\n",
       "}\n",
       "\n",
       ".xr-dim-list li {\n",
       "  display: inline-block;\n",
       "  padding: 0;\n",
       "  margin: 0;\n",
       "}\n",
       "\n",
       ".xr-dim-list:before {\n",
       "  content: '(';\n",
       "}\n",
       "\n",
       ".xr-dim-list:after {\n",
       "  content: ')';\n",
       "}\n",
       "\n",
       ".xr-dim-list li:not(:last-child):after {\n",
       "  content: ',';\n",
       "  padding-right: 5px;\n",
       "}\n",
       "\n",
       ".xr-has-index {\n",
       "  font-weight: bold;\n",
       "}\n",
       "\n",
       ".xr-var-list,\n",
       ".xr-var-item {\n",
       "  display: contents;\n",
       "}\n",
       "\n",
       ".xr-var-item > div,\n",
       ".xr-var-item label,\n",
       ".xr-var-item > .xr-var-name span {\n",
       "  background-color: var(--xr-background-color-row-even);\n",
       "  margin-bottom: 0;\n",
       "}\n",
       "\n",
       ".xr-var-item > .xr-var-name:hover span {\n",
       "  padding-right: 5px;\n",
       "}\n",
       "\n",
       ".xr-var-list > li:nth-child(odd) > div,\n",
       ".xr-var-list > li:nth-child(odd) > label,\n",
       ".xr-var-list > li:nth-child(odd) > .xr-var-name span {\n",
       "  background-color: var(--xr-background-color-row-odd);\n",
       "}\n",
       "\n",
       ".xr-var-name {\n",
       "  grid-column: 1;\n",
       "}\n",
       "\n",
       ".xr-var-dims {\n",
       "  grid-column: 2;\n",
       "}\n",
       "\n",
       ".xr-var-dtype {\n",
       "  grid-column: 3;\n",
       "  text-align: right;\n",
       "  color: var(--xr-font-color2);\n",
       "}\n",
       "\n",
       ".xr-var-preview {\n",
       "  grid-column: 4;\n",
       "}\n",
       "\n",
       ".xr-index-preview {\n",
       "  grid-column: 2 / 5;\n",
       "  color: var(--xr-font-color2);\n",
       "}\n",
       "\n",
       ".xr-var-name,\n",
       ".xr-var-dims,\n",
       ".xr-var-dtype,\n",
       ".xr-preview,\n",
       ".xr-attrs dt {\n",
       "  white-space: nowrap;\n",
       "  overflow: hidden;\n",
       "  text-overflow: ellipsis;\n",
       "  padding-right: 10px;\n",
       "}\n",
       "\n",
       ".xr-var-name:hover,\n",
       ".xr-var-dims:hover,\n",
       ".xr-var-dtype:hover,\n",
       ".xr-attrs dt:hover {\n",
       "  overflow: visible;\n",
       "  width: auto;\n",
       "  z-index: 1;\n",
       "}\n",
       "\n",
       ".xr-var-attrs,\n",
       ".xr-var-data,\n",
       ".xr-index-data {\n",
       "  display: none;\n",
       "  background-color: var(--xr-background-color) !important;\n",
       "  padding-bottom: 5px !important;\n",
       "}\n",
       "\n",
       ".xr-var-attrs-in:checked ~ .xr-var-attrs,\n",
       ".xr-var-data-in:checked ~ .xr-var-data,\n",
       ".xr-index-data-in:checked ~ .xr-index-data {\n",
       "  display: block;\n",
       "}\n",
       "\n",
       ".xr-var-data > table {\n",
       "  float: right;\n",
       "}\n",
       "\n",
       ".xr-var-name span,\n",
       ".xr-var-data,\n",
       ".xr-index-name div,\n",
       ".xr-index-data,\n",
       ".xr-attrs {\n",
       "  padding-left: 25px !important;\n",
       "}\n",
       "\n",
       ".xr-attrs,\n",
       ".xr-var-attrs,\n",
       ".xr-var-data,\n",
       ".xr-index-data {\n",
       "  grid-column: 1 / -1;\n",
       "}\n",
       "\n",
       "dl.xr-attrs {\n",
       "  padding: 0;\n",
       "  margin: 0;\n",
       "  display: grid;\n",
       "  grid-template-columns: 125px auto;\n",
       "}\n",
       "\n",
       ".xr-attrs dt,\n",
       ".xr-attrs dd {\n",
       "  padding: 0;\n",
       "  margin: 0;\n",
       "  float: left;\n",
       "  padding-right: 10px;\n",
       "  width: auto;\n",
       "}\n",
       "\n",
       ".xr-attrs dt {\n",
       "  font-weight: normal;\n",
       "  grid-column: 1;\n",
       "}\n",
       "\n",
       ".xr-attrs dt:hover span {\n",
       "  display: inline-block;\n",
       "  background: var(--xr-background-color);\n",
       "  padding-right: 10px;\n",
       "}\n",
       "\n",
       ".xr-attrs dd {\n",
       "  grid-column: 2;\n",
       "  white-space: pre-wrap;\n",
       "  word-break: break-all;\n",
       "}\n",
       "\n",
       ".xr-icon-database,\n",
       ".xr-icon-file-text2,\n",
       ".xr-no-icon {\n",
       "  display: inline-block;\n",
       "  vertical-align: middle;\n",
       "  width: 1em;\n",
       "  height: 1.5em !important;\n",
       "  stroke-width: 0;\n",
       "  stroke: currentColor;\n",
       "  fill: currentColor;\n",
       "}\n",
       "</style><pre class='xr-text-repr-fallback'>&lt;xarray.Dataset&gt;\n",
       "Dimensions:                (lat: 267, lon: 576, time: 1)\n",
       "Coordinates:\n",
       "  * lat                    (lat) float64 -58.0 -57.5 -57.0 ... 74.0 74.5 75.0\n",
       "  * lon                    (lon) float64 -180.0 -179.4 -178.8 ... 178.8 179.4\n",
       "  * time                   (time) float64 1.0\n",
       "Data variables:\n",
       "    MERRA2.CORRECTED_DC    (time, lat, lon) float32 ...\n",
       "    MERRA2.CORRECTED_DMC   (time, lat, lon) float32 ...\n",
       "    MERRA2.CORRECTED_FFMC  (time, lat, lon) float32 ...\n",
       "    MERRA2.CORRECTED_ISI   (time, lat, lon) float32 ...\n",
       "    MERRA2.CORRECTED_BUI   (time, lat, lon) float32 ...\n",
       "    MERRA2.CORRECTED_FWI   (time, lat, lon) float32 ...\n",
       "    MERRA2.CORRECTED_DSR   (time, lat, lon) float32 ...\n",
       "Attributes: (12/46)\n",
       "    History::            history\n",
       "    History:             08-Feb-2024 21:29:03\n",
       "    Source::             source\n",
       "    Source:              Robert Field\n",
       "    Title::              title\n",
       "    Title:               Global Fire Weather Database\n",
       "    ...                  ...\n",
       "    DCDryStartFactor::   DC number of days since precip mult factor for dry s...\n",
       "    DCDryStartFactor:    5.0\n",
       "    DMCDryStartFactor::  DMC number of days since precip mult factor for dry ...\n",
       "    DMCDryStartFactor:   2.0\n",
       "    nClimSkipYears::     Use this number of years as startup, during which co...\n",
       "    nClimSkipYears:      1.0</pre><div class='xr-wrap' style='display:none'><div class='xr-header'><div class='xr-obj-type'>xarray.Dataset</div></div><ul class='xr-sections'><li class='xr-section-item'><input id='section-931a6c89-de4a-48b8-ba39-f2e964329ab5' class='xr-section-summary-in' type='checkbox' disabled ><label for='section-931a6c89-de4a-48b8-ba39-f2e964329ab5' class='xr-section-summary'  title='Expand/collapse section'>Dimensions:</label><div class='xr-section-inline-details'><ul class='xr-dim-list'><li><span class='xr-has-index'>lat</span>: 267</li><li><span class='xr-has-index'>lon</span>: 576</li><li><span class='xr-has-index'>time</span>: 1</li></ul></div><div class='xr-section-details'></div></li><li class='xr-section-item'><input id='section-867dd20a-43a7-4018-99e9-b8606761935a' class='xr-section-summary-in' type='checkbox'  checked><label for='section-867dd20a-43a7-4018-99e9-b8606761935a' class='xr-section-summary' >Coordinates: <span>(3)</span></label><div class='xr-section-inline-details'></div><div class='xr-section-details'><ul class='xr-var-list'><li class='xr-var-item'><div class='xr-var-name'><span class='xr-has-index'>lat</span></div><div class='xr-var-dims'>(lat)</div><div class='xr-var-dtype'>float64</div><div class='xr-var-preview xr-preview'>-58.0 -57.5 -57.0 ... 74.5 75.0</div><input id='attrs-f12ac9f6-2808-4de6-8999-097dc803d2a6' class='xr-var-attrs-in' type='checkbox' ><label for='attrs-f12ac9f6-2808-4de6-8999-097dc803d2a6' title='Show/Hide attributes'><svg class='icon xr-icon-file-text2'><use xlink:href='#icon-file-text2'></use></svg></label><input id='data-150d51d6-807e-40a1-b4c5-33e9bc5099d6' class='xr-var-data-in' type='checkbox'><label for='data-150d51d6-807e-40a1-b4c5-33e9bc5099d6' title='Show/Hide data repr'><svg class='icon xr-icon-database'><use xlink:href='#icon-database'></use></svg></label><div class='xr-var-attrs'><dl class='xr-attrs'><dt><span>units :</span></dt><dd>degrees_north</dd></dl></div><div class='xr-var-data'><pre>array([-58. , -57.5, -57. , ...,  74. ,  74.5,  75. ])</pre></div></li><li class='xr-var-item'><div class='xr-var-name'><span class='xr-has-index'>lon</span></div><div class='xr-var-dims'>(lon)</div><div class='xr-var-dtype'>float64</div><div class='xr-var-preview xr-preview'>-180.0 -179.4 ... 178.8 179.4</div><input id='attrs-5d2e69cf-1e88-477e-ae79-d25f13d72125' class='xr-var-attrs-in' type='checkbox' ><label for='attrs-5d2e69cf-1e88-477e-ae79-d25f13d72125' title='Show/Hide attributes'><svg class='icon xr-icon-file-text2'><use xlink:href='#icon-file-text2'></use></svg></label><input id='data-de5cab9e-ee0c-408f-be80-fde1a5a0f8df' class='xr-var-data-in' type='checkbox'><label for='data-de5cab9e-ee0c-408f-be80-fde1a5a0f8df' title='Show/Hide data repr'><svg class='icon xr-icon-database'><use xlink:href='#icon-database'></use></svg></label><div class='xr-var-attrs'><dl class='xr-attrs'><dt><span>units :</span></dt><dd>degrees_east</dd></dl></div><div class='xr-var-data'><pre>array([-180.   , -179.375, -178.75 , ...,  178.125,  178.75 ,  179.375])</pre></div></li><li class='xr-var-item'><div class='xr-var-name'><span class='xr-has-index'>time</span></div><div class='xr-var-dims'>(time)</div><div class='xr-var-dtype'>float64</div><div class='xr-var-preview xr-preview'>1.0</div><input id='attrs-adcb92aa-1cf0-44fc-8e61-c4863009cd8d' class='xr-var-attrs-in' type='checkbox' ><label for='attrs-adcb92aa-1cf0-44fc-8e61-c4863009cd8d' title='Show/Hide attributes'><svg class='icon xr-icon-file-text2'><use xlink:href='#icon-file-text2'></use></svg></label><input id='data-628f49da-a268-4724-91ba-9cebe78c825e' class='xr-var-data-in' type='checkbox'><label for='data-628f49da-a268-4724-91ba-9cebe78c825e' title='Show/Hide data repr'><svg class='icon xr-icon-database'><use xlink:href='#icon-database'></use></svg></label><div class='xr-var-attrs'><dl class='xr-attrs'><dt><span>standard_name :</span></dt><dd>time</dd><dt><span>long_name :</span></dt><dd>time</dd><dt><span>units :</span></dt><dd>day</dd><dt><span>calendar :</span></dt><dd>none</dd></dl></div><div class='xr-var-data'><pre>array([1.])</pre></div></li></ul></div></li><li class='xr-section-item'><input id='section-f1dcb38d-5e66-4b17-a3d5-053ef3ddc003' class='xr-section-summary-in' type='checkbox'  checked><label for='section-f1dcb38d-5e66-4b17-a3d5-053ef3ddc003' class='xr-section-summary' >Data variables: <span>(7)</span></label><div class='xr-section-inline-details'></div><div class='xr-section-details'><ul class='xr-var-list'><li class='xr-var-item'><div class='xr-var-name'><span>MERRA2.CORRECTED_DC</span></div><div class='xr-var-dims'>(time, lat, lon)</div><div class='xr-var-dtype'>float32</div><div class='xr-var-preview xr-preview'>...</div><input id='attrs-f8b30c03-fad7-426b-81bf-137dcc84bdb8' class='xr-var-attrs-in' type='checkbox' ><label for='attrs-f8b30c03-fad7-426b-81bf-137dcc84bdb8' title='Show/Hide attributes'><svg class='icon xr-icon-file-text2'><use xlink:href='#icon-file-text2'></use></svg></label><input id='data-2511940e-222b-4187-8e77-86781cb38d7d' class='xr-var-data-in' type='checkbox'><label for='data-2511940e-222b-4187-8e77-86781cb38d7d' title='Show/Hide data repr'><svg class='icon xr-icon-database'><use xlink:href='#icon-database'></use></svg></label><div class='xr-var-attrs'><dl class='xr-attrs'><dt><span>short_name :</span></dt><dd>MERRA2.CORRECTED_DC</dd><dt><span>long_name :</span></dt><dd>MERRA2.CORRECTED Drought Code</dd><dt><span>units :</span></dt><dd></dd></dl></div><div class='xr-var-data'><pre>[153792 values with dtype=float32]</pre></div></li><li class='xr-var-item'><div class='xr-var-name'><span>MERRA2.CORRECTED_DMC</span></div><div class='xr-var-dims'>(time, lat, lon)</div><div class='xr-var-dtype'>float32</div><div class='xr-var-preview xr-preview'>...</div><input id='attrs-08a078d9-9a8a-429d-ae21-370610f4df44' class='xr-var-attrs-in' type='checkbox' ><label for='attrs-08a078d9-9a8a-429d-ae21-370610f4df44' title='Show/Hide attributes'><svg class='icon xr-icon-file-text2'><use xlink:href='#icon-file-text2'></use></svg></label><input id='data-e1fe0f5f-772c-4d8d-a95a-8f0b1678ed27' class='xr-var-data-in' type='checkbox'><label for='data-e1fe0f5f-772c-4d8d-a95a-8f0b1678ed27' title='Show/Hide data repr'><svg class='icon xr-icon-database'><use xlink:href='#icon-database'></use></svg></label><div class='xr-var-attrs'><dl class='xr-attrs'><dt><span>short_name :</span></dt><dd>MERRA2.CORRECTED_DMC</dd><dt><span>long_name :</span></dt><dd>MERRA2.CORRECTED Duff Moisture Code</dd><dt><span>units :</span></dt><dd></dd></dl></div><div class='xr-var-data'><pre>[153792 values with dtype=float32]</pre></div></li><li class='xr-var-item'><div class='xr-var-name'><span>MERRA2.CORRECTED_FFMC</span></div><div class='xr-var-dims'>(time, lat, lon)</div><div class='xr-var-dtype'>float32</div><div class='xr-var-preview xr-preview'>...</div><input id='attrs-4dc6a593-8b9a-45d6-bfbb-6d4a0692a6ca' class='xr-var-attrs-in' type='checkbox' ><label for='attrs-4dc6a593-8b9a-45d6-bfbb-6d4a0692a6ca' title='Show/Hide attributes'><svg class='icon xr-icon-file-text2'><use xlink:href='#icon-file-text2'></use></svg></label><input id='data-ee6d6f81-4737-4c16-91b3-8d6724e2a8d5' class='xr-var-data-in' type='checkbox'><label for='data-ee6d6f81-4737-4c16-91b3-8d6724e2a8d5' title='Show/Hide data repr'><svg class='icon xr-icon-database'><use xlink:href='#icon-database'></use></svg></label><div class='xr-var-attrs'><dl class='xr-attrs'><dt><span>short_name :</span></dt><dd>MERRA2.CORRECTED_FFMC</dd><dt><span>long_name :</span></dt><dd>MERRA2.CORRECTED Fine Fuel Moisture Code</dd><dt><span>units :</span></dt><dd></dd></dl></div><div class='xr-var-data'><pre>[153792 values with dtype=float32]</pre></div></li><li class='xr-var-item'><div class='xr-var-name'><span>MERRA2.CORRECTED_ISI</span></div><div class='xr-var-dims'>(time, lat, lon)</div><div class='xr-var-dtype'>float32</div><div class='xr-var-preview xr-preview'>...</div><input id='attrs-63e6f48c-262f-49de-b028-3be4d6d77358' class='xr-var-attrs-in' type='checkbox' ><label for='attrs-63e6f48c-262f-49de-b028-3be4d6d77358' title='Show/Hide attributes'><svg class='icon xr-icon-file-text2'><use xlink:href='#icon-file-text2'></use></svg></label><input id='data-b46e393e-6c69-4c65-8180-434feb6d44c3' class='xr-var-data-in' type='checkbox'><label for='data-b46e393e-6c69-4c65-8180-434feb6d44c3' title='Show/Hide data repr'><svg class='icon xr-icon-database'><use xlink:href='#icon-database'></use></svg></label><div class='xr-var-attrs'><dl class='xr-attrs'><dt><span>short_name :</span></dt><dd>MERRA2.CORRECTED_ISI</dd><dt><span>long_name :</span></dt><dd>MERRA2.CORRECTED Initial Spread Index</dd><dt><span>units :</span></dt><dd></dd></dl></div><div class='xr-var-data'><pre>[153792 values with dtype=float32]</pre></div></li><li class='xr-var-item'><div class='xr-var-name'><span>MERRA2.CORRECTED_BUI</span></div><div class='xr-var-dims'>(time, lat, lon)</div><div class='xr-var-dtype'>float32</div><div class='xr-var-preview xr-preview'>...</div><input id='attrs-b400e6dc-adfe-4ce1-9106-df64678792de' class='xr-var-attrs-in' type='checkbox' ><label for='attrs-b400e6dc-adfe-4ce1-9106-df64678792de' title='Show/Hide attributes'><svg class='icon xr-icon-file-text2'><use xlink:href='#icon-file-text2'></use></svg></label><input id='data-c08f0bf0-d25b-4053-ae93-4ccb5a33e571' class='xr-var-data-in' type='checkbox'><label for='data-c08f0bf0-d25b-4053-ae93-4ccb5a33e571' title='Show/Hide data repr'><svg class='icon xr-icon-database'><use xlink:href='#icon-database'></use></svg></label><div class='xr-var-attrs'><dl class='xr-attrs'><dt><span>short_name :</span></dt><dd>MERRA2.CORRECTED_BUI</dd><dt><span>long_name :</span></dt><dd>MERRA2.CORRECTED Buildup Index</dd><dt><span>units :</span></dt><dd></dd></dl></div><div class='xr-var-data'><pre>[153792 values with dtype=float32]</pre></div></li><li class='xr-var-item'><div class='xr-var-name'><span>MERRA2.CORRECTED_FWI</span></div><div class='xr-var-dims'>(time, lat, lon)</div><div class='xr-var-dtype'>float32</div><div class='xr-var-preview xr-preview'>...</div><input id='attrs-db13711f-d8f8-45c5-8e6e-a4779db45429' class='xr-var-attrs-in' type='checkbox' ><label for='attrs-db13711f-d8f8-45c5-8e6e-a4779db45429' title='Show/Hide attributes'><svg class='icon xr-icon-file-text2'><use xlink:href='#icon-file-text2'></use></svg></label><input id='data-e311fb17-52cd-478e-b705-3af823bef46f' class='xr-var-data-in' type='checkbox'><label for='data-e311fb17-52cd-478e-b705-3af823bef46f' title='Show/Hide data repr'><svg class='icon xr-icon-database'><use xlink:href='#icon-database'></use></svg></label><div class='xr-var-attrs'><dl class='xr-attrs'><dt><span>short_name :</span></dt><dd>MERRA2.CORRECTED_FWI</dd><dt><span>long_name :</span></dt><dd>MERRA2.CORRECTED Fire Weather Index</dd><dt><span>units :</span></dt><dd></dd></dl></div><div class='xr-var-data'><pre>[153792 values with dtype=float32]</pre></div></li><li class='xr-var-item'><div class='xr-var-name'><span>MERRA2.CORRECTED_DSR</span></div><div class='xr-var-dims'>(time, lat, lon)</div><div class='xr-var-dtype'>float32</div><div class='xr-var-preview xr-preview'>...</div><input id='attrs-81935532-1375-4e1e-8e7c-ffbd88772640' class='xr-var-attrs-in' type='checkbox' ><label for='attrs-81935532-1375-4e1e-8e7c-ffbd88772640' title='Show/Hide attributes'><svg class='icon xr-icon-file-text2'><use xlink:href='#icon-file-text2'></use></svg></label><input id='data-a7ca35f8-b223-4f3f-b145-064bce27979b' class='xr-var-data-in' type='checkbox'><label for='data-a7ca35f8-b223-4f3f-b145-064bce27979b' title='Show/Hide data repr'><svg class='icon xr-icon-database'><use xlink:href='#icon-database'></use></svg></label><div class='xr-var-attrs'><dl class='xr-attrs'><dt><span>short_name :</span></dt><dd>MERRA2.CORRECTED_DSR</dd><dt><span>long_name :</span></dt><dd>MERRA2.CORRECTED Daily Severity Rating</dd><dt><span>units :</span></dt><dd></dd></dl></div><div class='xr-var-data'><pre>[153792 values with dtype=float32]</pre></div></li></ul></div></li><li class='xr-section-item'><input id='section-f72c0d4a-1608-445e-893f-654693b06ca3' class='xr-section-summary-in' type='checkbox'  ><label for='section-f72c0d4a-1608-445e-893f-654693b06ca3' class='xr-section-summary' >Indexes: <span>(3)</span></label><div class='xr-section-inline-details'></div><div class='xr-section-details'><ul class='xr-var-list'><li class='xr-var-item'><div class='xr-index-name'><div>lat</div></div><div class='xr-index-preview'>PandasIndex</div><div></div><input id='index-1ca48a85-8325-4833-8e52-924e521cb6f0' class='xr-index-data-in' type='checkbox'/><label for='index-1ca48a85-8325-4833-8e52-924e521cb6f0' title='Show/Hide index repr'><svg class='icon xr-icon-database'><use xlink:href='#icon-database'></use></svg></label><div class='xr-index-data'><pre>PandasIndex(Float64Index([-58.0, -57.5, -57.0, -56.5, -56.0, -55.5, -55.0, -54.5, -54.0,\n",
       "              -53.5,\n",
       "              ...\n",
       "               70.5,  71.0,  71.5,  72.0,  72.5,  73.0,  73.5,  74.0,  74.5,\n",
       "               75.0],\n",
       "             dtype=&#x27;float64&#x27;, name=&#x27;lat&#x27;, length=267))</pre></div></li><li class='xr-var-item'><div class='xr-index-name'><div>lon</div></div><div class='xr-index-preview'>PandasIndex</div><div></div><input id='index-fc173f4b-2f40-49df-a833-818b02a90c33' class='xr-index-data-in' type='checkbox'/><label for='index-fc173f4b-2f40-49df-a833-818b02a90c33' title='Show/Hide index repr'><svg class='icon xr-icon-database'><use xlink:href='#icon-database'></use></svg></label><div class='xr-index-data'><pre>PandasIndex(Float64Index([  -180.0, -179.375,  -178.75, -178.125,   -177.5, -176.875,\n",
       "               -176.25, -175.625,   -175.0, -174.375,\n",
       "              ...\n",
       "                173.75,  174.375,    175.0,  175.625,   176.25,  176.875,\n",
       "                 177.5,  178.125,   178.75,  179.375],\n",
       "             dtype=&#x27;float64&#x27;, name=&#x27;lon&#x27;, length=576))</pre></div></li><li class='xr-var-item'><div class='xr-index-name'><div>time</div></div><div class='xr-index-preview'>PandasIndex</div><div></div><input id='index-5d0e41b8-e68b-49a1-9040-32c10dd03471' class='xr-index-data-in' type='checkbox'/><label for='index-5d0e41b8-e68b-49a1-9040-32c10dd03471' title='Show/Hide index repr'><svg class='icon xr-icon-database'><use xlink:href='#icon-database'></use></svg></label><div class='xr-index-data'><pre>PandasIndex(Float64Index([1.0], dtype=&#x27;float64&#x27;, name=&#x27;time&#x27;))</pre></div></li></ul></div></li><li class='xr-section-item'><input id='section-86808304-226a-4788-9475-fa80f781593a' class='xr-section-summary-in' type='checkbox'  ><label for='section-86808304-226a-4788-9475-fa80f781593a' class='xr-section-summary' >Attributes: <span>(46)</span></label><div class='xr-section-inline-details'></div><div class='xr-section-details'><dl class='xr-attrs'><dt><span>History: :</span></dt><dd>history</dd><dt><span>History :</span></dt><dd>08-Feb-2024 21:29:03</dd><dt><span>Source: :</span></dt><dd>source</dd><dt><span>Source :</span></dt><dd>Robert Field</dd><dt><span>Title: :</span></dt><dd>title</dd><dt><span>Title :</span></dt><dd>Global Fire Weather Database</dd><dt><span>Center: :</span></dt><dd>center</dd><dt><span>Center :</span></dt><dd>NASA GISS / Columbia University</dd><dt><span>Name: :</span></dt><dd>Descriptive name for configuration</dd><dt><span>Name :</span></dt><dd>Default</dd><dt><span>minLat: :</span></dt><dd>Min latitude for analysis</dd><dt><span>minLat :</span></dt><dd>-58.0</dd><dt><span>maxLat: :</span></dt><dd>Max latitude for analysis</dd><dt><span>maxLat :</span></dt><dd>75.0</dd><dt><span>minLandFrac: :</span></dt><dd>Minimum grid cell land fraction for analysis</dd><dt><span>minLandFrac :</span></dt><dd>0.1</dd><dt><span>minT: :</span></dt><dd>Mask out anything with mean annual Tsurf less than this</dd><dt><span>minT :</span></dt><dd>-10.0</dd><dt><span>minPrec: :</span></dt><dd>Mask out anything with mean annual prec less than this</dd><dt><span>minPrec :</span></dt><dd>0.25</dd><dt><span>snoDThresh: :</span></dt><dd>Minimum depth (m) for there to be considered snow on ground at any given time</dd><dt><span>snoDThresh :</span></dt><dd>0.01</dd><dt><span>snowCoverDaysCalc: :</span></dt><dd>Number of days prior to spring over which to determine if winter had substantial snow cover</dd><dt><span>snowCoverDaysCalc :</span></dt><dd>60.0</dd><dt><span>minWinterSnoD: :</span></dt><dd>Minimum mean depth (m) during past snowCoverDaysCalc days for winter to be considered having had substantial snow cover</dd><dt><span>minWinterSnoD :</span></dt><dd>0.1</dd><dt><span>minSnowDayFrac: :</span></dt><dd>Minimum fraction of days during snowCoverDaysCalc where snow cover was greater than snoDThresh for winter to be considered having had substantial snow cover</dd><dt><span>minSnowDayFrac :</span></dt><dd>0.75</dd><dt><span>startShutDays: :</span></dt><dd>Number of previous days over which to consider start or end of winter</dd><dt><span>startShutDays :</span></dt><dd>2.0</dd><dt><span>tempThresh: :</span></dt><dd>Temp thresh (C) to define start and end of winter</dd><dt><span>tempThresh :</span></dt><dd>6.0</dd><dt><span>precThresh: :</span></dt><dd>Min precip (mm/day) when determining if last three days had any precip</dd><dt><span>precThresh :</span></dt><dd>1.0</dd><dt><span>DCStart: :</span></dt><dd>DC starting value after wet winter</dd><dt><span>DCStart :</span></dt><dd>15.0</dd><dt><span>DMCStart: :</span></dt><dd>DMC starting value after wet winter</dd><dt><span>DMCStart :</span></dt><dd>6.0</dd><dt><span>FFMCStart: :</span></dt><dd>FFMC starting value after any winter</dd><dt><span>FFMCStart :</span></dt><dd>85.0</dd><dt><span>DCDryStartFactor: :</span></dt><dd>DC number of days since precip mult factor for dry start.</dd><dt><span>DCDryStartFactor :</span></dt><dd>5.0</dd><dt><span>DMCDryStartFactor: :</span></dt><dd>DMC number of days since precip mult factor for dry start.</dd><dt><span>DMCDryStartFactor :</span></dt><dd>2.0</dd><dt><span>nClimSkipYears: :</span></dt><dd>Use this number of years as startup, during which computed values are excluded from any output</dd><dt><span>nClimSkipYears :</span></dt><dd>1.0</dd></dl></div></li></ul></div></div>"
      ],
      "text/plain": [
       "<xarray.Dataset>\n",
       "Dimensions:                (lat: 267, lon: 576, time: 1)\n",
       "Coordinates:\n",
       "  * lat                    (lat) float64 -58.0 -57.5 -57.0 ... 74.0 74.5 75.0\n",
       "  * lon                    (lon) float64 -180.0 -179.4 -178.8 ... 178.8 179.4\n",
       "  * time                   (time) float64 1.0\n",
       "Data variables:\n",
       "    MERRA2.CORRECTED_DC    (time, lat, lon) float32 ...\n",
       "    MERRA2.CORRECTED_DMC   (time, lat, lon) float32 ...\n",
       "    MERRA2.CORRECTED_FFMC  (time, lat, lon) float32 ...\n",
       "    MERRA2.CORRECTED_ISI   (time, lat, lon) float32 ...\n",
       "    MERRA2.CORRECTED_BUI   (time, lat, lon) float32 ...\n",
       "    MERRA2.CORRECTED_FWI   (time, lat, lon) float32 ...\n",
       "    MERRA2.CORRECTED_DSR   (time, lat, lon) float32 ...\n",
       "Attributes: (12/46)\n",
       "    History::            history\n",
       "    History:             08-Feb-2024 21:29:03\n",
       "    Source::             source\n",
       "    Source:              Robert Field\n",
       "    Title::              title\n",
       "    Title:               Global Fire Weather Database\n",
       "    ...                  ...\n",
       "    DCDryStartFactor::   DC number of days since precip mult factor for dry s...\n",
       "    DCDryStartFactor:    5.0\n",
       "    DMCDryStartFactor::  DMC number of days since precip mult factor for dry ...\n",
       "    DMCDryStartFactor:   2.0\n",
       "    nClimSkipYears::     Use this number of years as startup, during which co...\n",
       "    nClimSkipYears:      1.0"
      ]
     },
     "execution_count": 17,
     "metadata": {},
     "output_type": "execute_result"
    }
   ],
   "source": [
    "xr.open_dataset(\"/rds/general/user/cb2714/home/99_ephemera/merra_corrected/2024/FWI.MERRA2.CORRECTED.Daily.Default.20240101.nc\")"
   ]
  },
  {
   "cell_type": "markdown",
   "metadata": {},
   "source": [
    "## Compile & subset yearly data"
   ]
  },
  {
   "cell_type": "code",
   "execution_count": 10,
   "metadata": {},
   "outputs": [],
   "source": [
    "for y in [fp[-4:] for fp in sorted(glob.glob(\"/rds/general/user/cb2714/home/99_ephemera/merra_corrected/*\"))[1:]]:\n",
    "    \n",
    "    print(y)\n",
    "    new_fnm = \"data/merra/merra-corrected_fwi_\"+y+\".nc\"\n",
    "    if os.path.exists(new_fnm): continue\n",
    "    \n",
    "    fl = sorted(glob.glob(\"/rds/general/user/cb2714/home/99_ephemera/merra_corrected/\"+y+\"/*\"))\n",
    "    \n",
    "    # open files for a single year, assign dates & relabel\n",
    "    ds = xr.concat([xr.open_dataset(fnm).assign_coords(time = [pd.to_datetime(fnm[-11:-3], format='%Y%m%d').to_numpy()]) for fnm in fl], \"time\")\n",
    "    \n",
    "    # relabel variables to something less unwieldy\n",
    "    ds = ds.rename({k : k.split(\"_\")[-1].lower() for k in list(ds.data_vars)})\n",
    "    \n",
    "    da = ds.sel(lon = slice(xn, xx), lat = slice(yn,yx)).to_netcdf(new_fnm)\n",
    "    \n",
    "clear_output(wait = False)"
   ]
  },
  {
   "cell_type": "markdown",
   "metadata": {},
   "source": [
    "## Compile all years & extract daily time series over study region"
   ]
  },
  {
   "cell_type": "code",
   "execution_count": 14,
   "metadata": {},
   "outputs": [],
   "source": [
    "ds = xr.open_mfdataset(\"data/merra/*.nc\")\n",
    "rm = regionmask.mask_geopandas(sf, ds.lon, ds.lat)\n",
    "ds = ds.where(rm == 0).mean([\"lat\", \"lon\"])\n",
    "\n",
    "ds.to_netcdf(\"data/fwi_daily_pantanal_merra2-corrected.nc\")"
   ]
  },
  {
   "cell_type": "markdown",
   "metadata": {},
   "source": [
    "# MERRA2 (not bias corrected)\n",
    "\n",
    "_FWI data downloaded from https://data.giss.nasa.gov/impacts/gfwed/_\n",
    "\n",
    "**Currently only at monthly resolution**"
   ]
  },
  {
   "cell_type": "code",
   "execution_count": 39,
   "metadata": {},
   "outputs": [
    {
     "name": "stderr",
     "output_type": "stream",
     "text": [
      "/rds/general/user/cb2714/home/anaconda3/envs/wwa/lib/python3.10/site-packages/xarray/coding/variables.py:147: FutureWarning: elementwise comparison failed; returning scalar instead, but in the future will perform elementwise comparison\n",
      "  condition |= data == fv\n"
     ]
    }
   ],
   "source": [
    "fl = sorted(glob.glob(\"/rds/general/user/cb2714/home/02_wwa-private/canada-wildfires/data/merra/FWI.MERRA2*.nc\"))\n",
    "zz = [xr.open_dataset(fnm).assign_coords(time = [pd.to_datetime(fnm[-9:-3]+\"01\", format = \"%Y%m%d\")]) for fnm in fl]\n",
    "ds = xr.concat(zz, \"time\").rename({k : k.split(\"_\")[-1].lower() for k in list(ds.data_vars)})"
   ]
  },
  {
   "cell_type": "code",
   "execution_count": null,
   "metadata": {},
   "outputs": [],
   "source": [
    "ds.sel(lon = slice(xn, xx), lat = slice(yn,yx)).to_netcdf(\"data/merra-monthly.nc\")"
   ]
  },
  {
   "cell_type": "code",
   "execution_count": 45,
   "metadata": {},
   "outputs": [],
   "source": [
    "rm = regionmask.mask_geopandas(sf, ds.lon, ds.lat)\n",
    "ts = ds.where(rm == 0).mean([\"lat\", \"lon\"])\n",
    "ts.to_netcdf(\"data/fwi_monthly_pantanal_merra2.nc\")"
   ]
  },
  {
   "cell_type": "markdown",
   "metadata": {},
   "source": [
    "### Compare corrected vs uncorrected"
   ]
  },
  {
   "cell_type": "code",
   "execution_count": 52,
   "metadata": {},
   "outputs": [],
   "source": [
    "unc = xr.open_dataset(\"data/fwi_monthly_pantanal_merra2.nc\").groupby(\"time.month\")[6]\n",
    "bc = xr.open_dataset(\"data/fwi_daily_pantanal_merra2-corrected.nc\").resample(time = \"MS\").mean().groupby(\"time.month\")[6]"
   ]
  },
  {
   "cell_type": "code",
   "execution_count": 64,
   "metadata": {},
   "outputs": [
    {
     "data": {
      "image/png": "[encoded data removed]",
      "text/plain": [
       "<Figure size 1800x700 with 8 Axes>"
      ]
     },
     "metadata": {},
     "output_type": "display_data"
    }
   ],
   "source": [
    "nc = 4; nr = 2\n",
    "fig, axs = plt.subplots(ncols = nc, nrows = nr, figsize = (nc*4.5, nr*3.5), dpi = 100, sharex = True)\n",
    "\n",
    "varbls = [\"fwi\", \"dsr\", \"bui\", \"isi\", \"dc\", \"dmc\", \"ffmc\"]\n",
    "\n",
    "for i in range(len(varbls)):\n",
    "    ax = fig.axes[i]\n",
    "    vnm = varbls[i]\n",
    "    \n",
    "    unc[vnm].plot(ax = ax, drawstyle = \"steps-mid\", label = \"Uncorrected\")\n",
    "    bc[vnm].plot(ax = ax, drawstyle = \"steps-mid\", label = \"Bias-corrected\")\n",
    "    ax.set_title(vnm.upper())\n",
    "    ax.set_ylabel(\"\")\n",
    "    ax.set_xlabel(\"\")\n",
    "\n",
    "for i in [1,6]: fig.axes[i].legend()\n",
    "for i in range(len(varbls), len(fig.axes)): fig.axes[i].set_axis_off()"
   ]
  },
  {
   "cell_type": "markdown",
   "metadata": {},
   "source": [
    "## CHIRPS"
   ]
  },
  {
   "cell_type": "code",
   "execution_count": 3,
   "metadata": {},
   "outputs": [],
   "source": [
    "chirps = wrap_lon(xr.open_mfdataset(\"/rds/general/user/cb2714/home/00_WWA_project_folder/live/data/chirps_05/*.nc\")).precip.rename(\"pr\")\n",
    "chirps = chirps.sel(longitude = slice(xn,xx), latitude = slice(yn,yx))\n",
    "chirps.to_netcdf(\"data/chirps.nc\")"
   ]
  },
  {
   "cell_type": "code",
   "execution_count": 4,
   "metadata": {},
   "outputs": [],
   "source": [
    "rm = regionmask.mask_geopandas(sf, chirps.longitude, chirps.latitude)\n",
    "chirps_ts = chirps.where(rm == 0).mean([\"latitude\", \"longitude\"])\n",
    "chirps_ts.to_netcdf(\"data/pr_daily_pantanal_chirps.nc\")"
   ]
  },
  {
   "cell_type": "markdown",
   "metadata": {},
   "source": [
    "## MERGE"
   ]
  },
  {
   "cell_type": "markdown",
   "metadata": {},
   "source": [
    "### Download data"
   ]
  },
  {
   "cell_type": "code",
   "execution_count": 3,
   "metadata": {},
   "outputs": [],
   "source": [
    "import os\n",
    "from IPython.display import clear_output\n",
    "\n",
    "# download all monthly files from NASA\n",
    "for y in [str(y) for y in range(2023,1999,-1)]:\n",
    "    \n",
    "    ! mkdir -p /rds/general/user/cb2714/home/99_ephemera/pantanal-fires/merge/$y\n",
    "    \n",
    "    for m in [str(m).rjust(2, \"0\") for m in range(1,13)]:\n",
    "        \n",
    "        for d in [str(d).rjust(2, \"0\") for d in range(1,32)]:\n",
    "            \n",
    "            url = \"https://ftp.cptec.inpe.br/modelos/tempo/MERGE/GPM/DAILY/\"+y+\"/\"+m+\"/MERGE_CPTEC_\"+y+m+d+\".grib2\"\n",
    "            outfile = \"/rds/general/user/cb2714/home/99_ephemera/pantanal-fires/merge/\"+y+\"/\"+url.split(\"/\")[-1]\n",
    "\n",
    "            if os.path.exists(outfile): continue\n",
    "            ! wget $url -O $outfile\n",
    "\n",
    "            clear_output(wait = False)\n",
    "            \n",
    "    # delete any files of size zero (nonexistent dates)\n",
    "    ! find /rds/general/user/cb2714/home/99_ephemera/pantanal-fires/merge/$y/ -size 0 -delete\n",
    "    \n",
    "print(\"Done.\")"
   ]
  },
  {
   "cell_type": "code",
   "execution_count": 1,
   "metadata": {},
   "outputs": [
    {
     "name": "stdout",
     "output_type": "stream",
     "text": [
      "--2024-08-01 17:26:29--  https://ftp.cptec.inpe.br/modelos/tempo/MERGE/GPM/SPI/MERGE_CPTEC_spi_gamma_12.nc\n",
      "Resolving ftp.cptec.inpe.br (ftp.cptec.inpe.br)... 2a0c:5bc0:4c:ff::96a3:c026, 150.163.192.38\n",
      "Connecting to ftp.cptec.inpe.br (ftp.cptec.inpe.br)|2a0c:5bc0:4c:ff::96a3:c026|:443... connected.\n",
      "HTTP request sent, awaiting response... 200 OK\n",
      "Length: 379978442 (362M) [application/x-netcdf]\n",
      "Saving to: ‘MERGE_CPTEC_spi_gamma_12.nc.1’\n",
      "\n",
      "MERGE_CPTEC_spi_gam 100%[===================>] 362.38M  8.84MB/s    in 51s     \n",
      "\n",
      "2024-08-01 17:27:21 (7.06 MB/s) - ‘MERGE_CPTEC_spi_gamma_12.nc.1’ saved [379978442/379978442]\n",
      "\n"
     ]
    }
   ],
   "source": [
    "! cd data; wget https://ftp.cptec.inpe.br/modelos/tempo/MERGE/GPM/SPI/MERGE_CPTEC_spi_gamma_12.nc"
   ]
  },
  {
   "cell_type": "markdown",
   "metadata": {},
   "source": [
    "### Compile for each year"
   ]
  },
  {
   "cell_type": "code",
   "execution_count": null,
   "metadata": {},
   "outputs": [],
   "source": [
    "# get subregion for each year\n",
    "for y in [fp[-4:] for fp in sorted(glob.glob(\"/rds/general/user/cb2714/home/99_ephemera/pantanal-fires/merge/*\"))][-1:]:\n",
    "    \n",
    "    print(y)\n",
    "    new_fnm = \"/rds/general/user/cb2714/home/99_ephemera/pantanal-fires/merge/merge_\"+y+\".nc\"\n",
    "    if os.path.exists(new_fnm): continue\n",
    "    \n",
    "    fl = sorted(glob.glob(\"/rds/general/user/cb2714/home/99_ephemera/pantanal-fires/merge/\"+y+\"/*.grib2\"))\n",
    "    ds_list = [xr.open_dataset(fnm).expand_dims(\"time\").reset_coords(drop = True).prec for fnm in fl]\n",
    "    ds = wrap_lon(xr.concat(ds_list, \"time\")).sel(longitude = slice(xn,xx), latitude = slice(yn,yx))\n",
    "    ds = convert_units_to(wrap_lon(ds), \"mm\", context = \"hydro\").rename(\"pr\")\n",
    "    ds.to_netcdf(\"/rds/general/user/cb2714/home/99_ephemera/pantanal-fires/merge/merge_\"+y+\".nc\")\n",
    "    \n",
    "clear_output(wait = False)\n",
    "print(\"Done.\")"
   ]
  },
  {
   "cell_type": "code",
   "execution_count": 9,
   "metadata": {},
   "outputs": [],
   "source": [
    "ds = wrap_lon(xr.open_dataset(glob.glob(\"/rds/general/user/cb2714/home/99_ephemera/pantanal-fires/merge/2024/*.grib2\")[0]))"
   ]
  },
  {
   "cell_type": "code",
   "execution_count": 16,
   "metadata": {},
   "outputs": [
    {
     "data": {
      "text/plain": [
       "<cartopy.mpl.feature_artist.FeatureArtist at 0x14a5a4e70130>"
      ]
     },
     "execution_count": 16,
     "metadata": {},
     "output_type": "execute_result"
    },
    {
     "data": {
      "image/png": "[encoded data removed]",
      "text/plain": [
       "<Figure size 640x480 with 2 Axes>"
      ]
     },
     "metadata": {},
     "output_type": "display_data"
    }
   ],
   "source": [
    "ds.prec.plot(subplot_kws = {\"projection\" : mapproj}, cmap = \"YlGnBu\")\n",
    "plt.gca().coastlines()"
   ]
  },
  {
   "cell_type": "markdown",
   "metadata": {},
   "source": [
    "### Compile all years & extract daily time series over shapefile"
   ]
  },
  {
   "cell_type": "code",
   "execution_count": null,
   "metadata": {},
   "outputs": [],
   "source": [
    "ds = xr.open_mfdataset(\"/rds/general/user/cb2714/home/99_ephemera/pantanal-fires/merge/*.nc\")\n",
    "rm = regionmask.mask_geopandas(sf, ds.longitude, ds.latitude)\n",
    "ts = ds.where(rm == 0).mean([\"latitude\", \"longitude\"])\n",
    "ts.to_netcdf(\"data/pr_daily_pantanal_merge.nc\")"
   ]
  },
  {
   "cell_type": "markdown",
   "metadata": {},
   "source": [
    "---\n"
   ]
  },
  {
   "cell_type": "markdown",
   "metadata": {},
   "source": [
    "---\n",
    "# Time series for climate explorer"
   ]
  },
  {
   "cell_type": "markdown",
   "metadata": {},
   "source": [
    "## June DSR"
   ]
  },
  {
   "cell_type": "code",
   "execution_count": 31,
   "metadata": {},
   "outputs": [],
   "source": [
    "for ds in [\"era5\", \"mswx\", \"merra2-corrected\"]:\n",
    "    \n",
    "    ds_name = {\"era5\" : \"ERA5\", \"mswx\" : \"MSWX\", \"merra2-corrected\" : \"MERRA2 (corrected)\"}[ds]\n",
    "    \n",
    "    dsr = xr.open_dataset(\"data/fwi_daily_pantanal_\"+ds+\".nc\")[\"dsr\"]\n",
    "    dsr_jun = dsr.resample(time = \"MS\").sum().groupby(\"time.month\")[6]\n",
    "    dsr_jun = dsr_jun.assign_coords(time = dsr_jun.time.dt.year).rename(time = \"year\").to_dataframe()\n",
    "    \n",
    "    csv_fnm = \"pantanal-fires_dsr-june_\"+ds\n",
    "        \n",
    "    csv_fullpath = \"ts_obs/\"+csv_fnm+\".dat\"\n",
    "    if len(csv_fnm) > 61: print(\"! Filename too long: \", csv_fnm)\n",
    "        \n",
    "    # create extra header lines for upload to Climate Explorer \n",
    "    str1 = \"# contact :: \"+ds_name+\" June DSR in the Brazilian Pantanal - Pantanal wildfires 2024, c.barnes22@imperial.ac.uk\"\n",
    "    str2 = \"# dsr [] June accumulated daily severity rating averaged over the Brazilian Pantanal at \"+csv_fnm+\".dat\"\n",
    "    head = \"# year dsr\"\n",
    "    \n",
    "    # make .dat file\n",
    "    ! echo \"$str1 \" > $csv_fullpath\n",
    "    ! echo \"$str2\" >> $csv_fullpath\n",
    "    ! echo \"$head\" >> $csv_fullpath\n",
    "    dsr_jun.to_csv(csv_fullpath, sep = \" \", mode = \"a\", header = False)\n",
    "\n",
    "    clear_output(wait = False)"
   ]
  },
  {
   "cell_type": "markdown",
   "metadata": {},
   "source": [
    "## DJF precip"
   ]
  },
  {
   "cell_type": "code",
   "execution_count": 71,
   "metadata": {},
   "outputs": [],
   "source": [
    "for ds in [\"mswx\", \"era5-05\", \"chirps\"]:\n",
    "    \n",
    "    ds_name = {\"era5-05\" : \"ERA5\", \"mswx\" : \"MSWX\", \"chirps\" : \"CHIRPS\"}[ds]\n",
    "    pr = xr.open_dataset(\"data/pr_daily_pantanal_\"+ds+\".nc\").pr\n",
    "\n",
    "    pr_djf = pr.resample(time = \"QS-DEC\").sum().groupby(\"time.season\")[\"DJF\"]\n",
    "    pr_djf = pr_djf.where(pr.resample(time = \"MS\").mean().resample(time = \"QS-DEC\").count().groupby(\"time.season\")[\"DJF\"] == 3).dropna(\"time\", \"any\")\n",
    "    pr_djf = pr_djf.assign_coords(time = pr_djf.time.dt.year + 1).rename(time = \"year\").to_dataframe()\n",
    "    \n",
    "    csv_fnm = \"pantanal-fires_pr-djf_\"+ds\n",
    "        \n",
    "    csv_fullpath = \"ts_obs/\"+csv_fnm+\".dat\"\n",
    "    if len(csv_fnm) > 61: print(\"! Filename too long: \", csv_fnm)\n",
    "        \n",
    "    # create extra header lines for upload to Climate Explorer \n",
    "    str1 = \"# contact :: \"+ds_name+\" DJF precipitation in the Brazilian Pantanal - Pantanal wildfires 2024, c.barnes22@imperial.ac.uk\"\n",
    "    str2 = \"# pr [mm/season] December-Februrary accumulated precipitation (labelled in February) averaged over the Brazilian Pantanal at \"+csv_fnm+\".dat\"\n",
    "    head = \"# year pr\"\n",
    "    \n",
    "    # make .dat file\n",
    "    ! echo \"$str1 \" > $csv_fullpath\n",
    "    ! echo \"$str2\" >> $csv_fullpath\n",
    "    ! echo \"$head\" >> $csv_fullpath\n",
    "    pr_djf.to_csv(csv_fullpath, sep = \" \", mode = \"a\", header = False)\n",
    "\n",
    "    clear_output(wait = False)"
   ]
  },
  {
   "cell_type": "markdown",
   "metadata": {},
   "source": [
    "## July-June precip"
   ]
  },
  {
   "cell_type": "code",
   "execution_count": 6,
   "metadata": {},
   "outputs": [],
   "source": [
    "for ds in [\"mswx\", \"era5\", \"chirps\", \"merge\"]:\n",
    "    \n",
    "    ds_name = {\"era5\" : \"ERA5\", \"mswx\" : \"MSWX\", \"chirps\" : \"CHIRPS\", \"merge\" : \"MERGE\"}[ds]\n",
    "    \n",
    "    pr = xr.open_dataset(\"data/pr_daily_pantanal_\"+ds+\".nc\").pr.sel(time = slice(None, \"2024-06-30\"))\n",
    "    pr_jj = pr.resample(time = \"AS-JUL\").sum()\n",
    "    pr_jj = pr_jj.where(pr.resample(time = \"MS\").mean().resample(time = \"AS-JUL\").count() == 12).dropna(\"time\", \"any\")\n",
    "    pr_jj = pr_jj.assign_coords(time = pr_jj.time.dt.year + 1).rename(time = \"year\").to_dataframe()\n",
    "    \n",
    "    csv_fnm = \"pantanal-fires_pr-jj_\"+ds\n",
    "        \n",
    "    csv_fullpath = \"ts_obs/\"+csv_fnm+\".dat\"\n",
    "    if len(csv_fnm) > 61: print(\"! Filename too long: \", csv_fnm)\n",
    "        \n",
    "    # create extra header lines for upload to Climate Explorer \n",
    "    str1 = \"# contact :: \"+ds_name+\" July-June precipitation in the Brazilian Pantanal - Pantanal wildfires 2024, c.barnes22@imperial.ac.uk\"\n",
    "    str2 = \"# pr [mm/year] July-June accumulated precipitation (labelled in June) averaged over the Brazilian Pantanal at \"+csv_fnm+\".dat\"\n",
    "    head = \"# year pr\"\n",
    "    \n",
    "    # make .dat file\n",
    "    ! echo \"$str1 \" > $csv_fullpath\n",
    "    ! echo \"$str2\" >> $csv_fullpath\n",
    "    ! echo \"$head\" >> $csv_fullpath\n",
    "    pr_jj.to_csv(csv_fullpath, sep = \" \", mode = \"a\", header = False)\n",
    "\n",
    "    clear_output(wait = False)"
   ]
  },
  {
   "cell_type": "markdown",
   "metadata": {},
   "source": [
    "## DJF Nino"
   ]
  },
  {
   "cell_type": "code",
   "execution_count": 7,
   "metadata": {},
   "outputs": [],
   "source": [
    "ts = pd.read_csv(\"/rds/general/user/cb2714/home/01_wwa/10_misc/detrended_nino34/nino_djf.csv\", index_col = \"year\")\n",
    "\n",
    "csv_fnm = \"pantanal-fires_nino-djf_ersst\"\n",
    "\n",
    "csv_fullpath = \"ts_obs/\"+csv_fnm+\".dat\"\n",
    "if len(csv_fnm) > 61: print(\"! Filename too long: \", csv_fnm)\n",
    "\n",
    "# create extra header lines for upload to Climate Explorer \n",
    "str1 = \"# contact :: DJF mean of detrended Nino3.4 index (2024 denotes 2023-24) - Pantanal wildfires 2024, c.barnes22@imperial.ac.uk\"\n",
    "str2 = \"# nino [degC] December-February mean of Nino3.4 detrended by subtracting mean of tropical SSTs at \"+csv_fnm+\".dat\"\n",
    "head = \"# year nino\"\n",
    "\n",
    "# make .dat file\n",
    "! echo \"$str1 \" > $csv_fullpath\n",
    "! echo \"$str2\" >> $csv_fullpath\n",
    "! echo \"$head\" >> $csv_fullpath\n",
    "ts.to_csv(csv_fullpath, sep = \" \", mode = \"a\", header = False)\n",
    "\n",
    "clear_output(wait = False)"
   ]
  },
  {
   "cell_type": "markdown",
   "metadata": {},
   "source": [
    "## SAMST\n",
    "South American mean surface temperature"
   ]
  },
  {
   "cell_type": "code",
   "execution_count": 47,
   "metadata": {},
   "outputs": [],
   "source": [
    "samst = xr.open_dataset(\"data/iera5_t2m_daily_IPBES_South_America_su.nc\").t2m\n",
    "\n",
    "# 4-year smooth of July-June mean temperature\n",
    "samst_4y = samst.resample(time = \"AS-JUL\").mean().rolling(time = 4, min_periods = 3, center = True).mean().dropna(\"time\", \"any\")\n",
    "samst_4y = samst_4y.assign_coords(time = samst_4y.time.dt.year + 1).rename(\"samst\", time = \"year\").to_dataframe()"
   ]
  },
  {
   "cell_type": "code",
   "execution_count": 51,
   "metadata": {},
   "outputs": [],
   "source": [
    "csv_fnm = \"pantanal-fires_samst_era5\"\n",
    "        \n",
    "csv_fullpath = \"ts_obs/samst_era5.dat\"\n",
    "if len(csv_fnm) > 61: print(\"! Filename too long: \", csv_fnm)\n",
    "\n",
    "# create extra header lines for upload to Climate Explorer \n",
    "str1 = \"# contact :: ERA5 smoothed mean of South American air temperatures - Pantanal wildfires 2024, c.barnes22@imperial.ac.uk\"\n",
    "str2 = \"# samst [degC] 4-year smoothed July-June average of air temperatures over the IPBES South America region at \"+csv_fnm+\".dat\"\n",
    "head = \"# year samst\"\n",
    "\n",
    "# make .dat file\n",
    "! echo \"$str1 \" > $csv_fullpath\n",
    "! echo \"$str2\" >> $csv_fullpath\n",
    "! echo \"$head\" >> $csv_fullpath\n",
    "samst_4y.to_csv(csv_fullpath, sep = \" \", mode = \"a\", header = False)\n",
    "\n",
    "clear_output(wait = False)"
   ]
  },
  {
   "cell_type": "markdown",
   "metadata": {},
   "source": [
    "---\n",
    "# Vapour-pressure deficit"
   ]
  },
  {
   "cell_type": "code",
   "execution_count": 11,
   "metadata": {},
   "outputs": [],
   "source": [
    "A = -1.0440397e+4\n",
    "B = -11.29465\n",
    "C = -2.7022355e-2\n",
    "D = 1.289036e-5\n",
    "E = -2.4780681e-9\n",
    "F = 6.5459673"
   ]
  },
  {
   "cell_type": "code",
   "execution_count": 27,
   "metadata": {},
   "outputs": [],
   "source": [
    "rh = xr.open_dataset(\"data/mswx/hurs_mswx.nc\").hurs\n",
    "t = convert_units_to(xr.open_dataset(\"data/mswx/tasmax_mswx.nc\").tasmax, \"degF\") + 459.67\n",
    "\n",
    "vp_sat = np.exp(A/t + B + C*t + D*(t**2) + E*(t**3) + F*np.log(t))\n",
    "vpd = vp_sat * (1 - rh.max() / 100)\n",
    "\n",
    "vpd.rename(\"vpd\").to_netcdf(\"data/mswx/vpd_mswx.nc\")"
   ]
  },
  {
   "cell_type": "code",
   "execution_count": 29,
   "metadata": {},
   "outputs": [],
   "source": [
    "vpd_ts = vpd.where(regionmask.mask_geopandas(sf, vpd.lon, vpd.lat) == 0).mean([\"lat\", \"lon\"])"
   ]
  },
  {
   "cell_type": "code",
   "execution_count": 36,
   "metadata": {},
   "outputs": [],
   "source": [
    "vpd_june = vpd_ts.resample(time = \"MS\").mean().groupby(\"time.month\")[6]\n",
    "rh_june = rh.where(regionmask.mask_geopandas(sf, rh.lon, rh.lat) == 0).mean([\"lat\", \"lon\"]).resample(time = \"MS\").mean().groupby(\"time.month\")[6]"
   ]
  },
  {
   "cell_type": "code",
   "execution_count": 39,
   "metadata": {},
   "outputs": [
    {
     "data": {
      "text/plain": [
       "[<matplotlib.lines.Line2D at 0x14e066386200>]"
      ]
     },
     "execution_count": 39,
     "metadata": {},
     "output_type": "execute_result"
    },
    {
     "data": {
      "image/png": "[encoded data removed]",
      "text/plain": [
       "<Figure size 640x480 with 1 Axes>"
      ]
     },
     "metadata": {},
     "output_type": "display_data"
    }
   ],
   "source": [
    "vpd_june.plot(drawstyle = \"steps\")"
   ]
  },
  {
   "cell_type": "code",
   "execution_count": 38,
   "metadata": {},
   "outputs": [
    {
     "data": {
      "text/plain": [
       "[<matplotlib.lines.Line2D at 0x14e066319240>]"
      ]
     },
     "execution_count": 38,
     "metadata": {},
     "output_type": "execute_result"
    },
    {
     "data": {
      "image/png": "[encoded data removed]",
      "text/plain": [
       "<Figure size 640x480 with 1 Axes>"
      ]
     },
     "metadata": {},
     "output_type": "display_data"
    }
   ],
   "source": [
    "rh_june.plot(drawstyle = \"steps\")"
   ]
  },
  {
   "cell_type": "markdown",
   "metadata": {},
   "source": [
    "---\n",
    "---\n",
    "# CMIP6"
   ]
  },
  {
   "cell_type": "markdown",
   "metadata": {},
   "source": [
    "## Check available models\n",
    "```\n",
    "synda search variable=pr,hurs,tasmax,sfcWind -l 10000 > cmip6-models.txt\n",
    "```"
   ]
  },
  {
   "cell_type": "code",
   "execution_count": 7,
   "metadata": {},
   "outputs": [],
   "source": [
    "df = pd.read_table(\"cmip6-models.txt\", sep = \"\\.\", engine = \"python\", header = None,\n",
    "                  names = [0,\"activity\", \"source_id\", \"experiment\", \"variant_label\", \"frequency\", \"variable\", \"grid\", \"version\"])"
   ]
  },
  {
   "cell_type": "code",
   "execution_count": 8,
   "metadata": {},
   "outputs": [],
   "source": [
    "# identify models with all four variables available in both historical & SSP experiments\n",
    "mdl_xvar = df[[\"source_id\", \"variant_label\", \"variable\", \"experiment\"]].drop_duplicates()\n",
    "mdl_xvar = mdl_xvar.groupby([\"source_id\", \"variant_label\"]).count().reset_index()\n",
    "\n",
    "mdl_xvar = mdl_xvar.loc[mdl_xvar.variable == 8]"
   ]
  },
  {
   "cell_type": "code",
   "execution_count": 9,
   "metadata": {},
   "outputs": [
    {
     "data": {
      "text/plain": [
       "'CMCC-ESM2,CanESM5,EC-Earth3,EC-Earth3-Veg,FGOALS-g3,INM-CM4-8,INM-CM5-0,IPSL-CM6A-LR,KACE-1-0-G,MIROC6,MPI-ESM1-2-HR,MPI-ESM1-2-LR,MRI-ESM2-0,NorESM2-LM,NorESM2-MM,TaiESM1'"
      ]
     },
     "execution_count": 9,
     "metadata": {},
     "output_type": "execute_result"
    }
   ],
   "source": [
    "# filter models to show only those with all four variables\n",
    "df = pd.merge(df, mdl_xvar, left_on = [\"source_id\", \"variant_label\"], right_on = [\"source_id\", \"variant_label\"], how = \"inner\")\n",
    "\n",
    "# get list of model variants to include in synda download\n",
    "\",\".join(sorted(df.source_id.drop_duplicates().to_list()))"
   ]
  },
  {
   "cell_type": "code",
   "execution_count": 10,
   "metadata": {},
   "outputs": [
    {
     "data": {
      "text/html": [
       "<div>\n",
       "<style scoped>\n",
       "    .dataframe tbody tr th:only-of-type {\n",
       "        vertical-align: middle;\n",
       "    }\n",
       "\n",
       "    .dataframe tbody tr th {\n",
       "        vertical-align: top;\n",
       "    }\n",
       "\n",
       "    .dataframe thead th {\n",
       "        text-align: right;\n",
       "    }\n",
       "</style>\n",
       "<table border=\"1\" class=\"dataframe\">\n",
       "  <thead>\n",
       "    <tr style=\"text-align: right;\">\n",
       "      <th></th>\n",
       "      <th>source_id</th>\n",
       "    </tr>\n",
       "    <tr>\n",
       "      <th>variant_label</th>\n",
       "      <th></th>\n",
       "    </tr>\n",
       "  </thead>\n",
       "  <tbody>\n",
       "    <tr>\n",
       "      <th>r101i1p1f1</th>\n",
       "      <td>1.00</td>\n",
       "    </tr>\n",
       "    <tr>\n",
       "      <th>r150i1p1f1</th>\n",
       "      <td>1.00</td>\n",
       "    </tr>\n",
       "    <tr>\n",
       "      <th>r14i1p2f1</th>\n",
       "      <td>1.00</td>\n",
       "    </tr>\n",
       "    <tr>\n",
       "      <th>r149i1p1f1</th>\n",
       "      <td>1.00</td>\n",
       "    </tr>\n",
       "    <tr>\n",
       "      <th>r148i1p1f1</th>\n",
       "      <td>1.00</td>\n",
       "    </tr>\n",
       "    <tr>\n",
       "      <th>...</th>\n",
       "      <td>...</td>\n",
       "    </tr>\n",
       "    <tr>\n",
       "      <th>r6i1p1f1</th>\n",
       "      <td>5.00</td>\n",
       "    </tr>\n",
       "    <tr>\n",
       "      <th>r4i1p1f1</th>\n",
       "      <td>7.00</td>\n",
       "    </tr>\n",
       "    <tr>\n",
       "      <th>r2i1p1f1</th>\n",
       "      <td>7.25</td>\n",
       "    </tr>\n",
       "    <tr>\n",
       "      <th>r3i1p1f1</th>\n",
       "      <td>8.75</td>\n",
       "    </tr>\n",
       "    <tr>\n",
       "      <th>r1i1p1f1</th>\n",
       "      <td>16.25</td>\n",
       "    </tr>\n",
       "  </tbody>\n",
       "</table>\n",
       "<p>126 rows × 1 columns</p>\n",
       "</div>"
      ],
      "text/plain": [
       "               source_id\n",
       "variant_label           \n",
       "r101i1p1f1          1.00\n",
       "r150i1p1f1          1.00\n",
       "r14i1p2f1           1.00\n",
       "r149i1p1f1          1.00\n",
       "r148i1p1f1          1.00\n",
       "...                  ...\n",
       "r6i1p1f1            5.00\n",
       "r4i1p1f1            7.00\n",
       "r2i1p1f1            7.25\n",
       "r3i1p1f1            8.75\n",
       "r1i1p1f1           16.25\n",
       "\n",
       "[126 rows x 1 columns]"
      ]
     },
     "execution_count": 10,
     "metadata": {},
     "output_type": "execute_result"
    }
   ],
   "source": [
    "# which variant labels provide most runs?\n",
    "nmod = df.groupby([\"variant_label\"]).count()[[\"source_id\"]] / 8\n",
    "nmod.sort_values(\"source_id\")"
   ]
  },
  {
   "cell_type": "code",
   "execution_count": 11,
   "metadata": {},
   "outputs": [
    {
     "data": {
      "text/html": [
       "<div>\n",
       "<style scoped>\n",
       "    .dataframe tbody tr th:only-of-type {\n",
       "        vertical-align: middle;\n",
       "    }\n",
       "\n",
       "    .dataframe tbody tr th {\n",
       "        vertical-align: top;\n",
       "    }\n",
       "\n",
       "    .dataframe thead th {\n",
       "        text-align: right;\n",
       "    }\n",
       "</style>\n",
       "<table border=\"1\" class=\"dataframe\">\n",
       "  <thead>\n",
       "    <tr style=\"text-align: right;\">\n",
       "      <th></th>\n",
       "      <th>source_id</th>\n",
       "      <th>grid</th>\n",
       "    </tr>\n",
       "  </thead>\n",
       "  <tbody>\n",
       "    <tr>\n",
       "      <th>1890</th>\n",
       "      <td>CMCC-ESM2</td>\n",
       "      <td>gn</td>\n",
       "    </tr>\n",
       "    <tr>\n",
       "      <th>828</th>\n",
       "      <td>CanESM5</td>\n",
       "      <td>gn</td>\n",
       "    </tr>\n",
       "    <tr>\n",
       "      <th>204</th>\n",
       "      <td>EC-Earth3</td>\n",
       "      <td>gr</td>\n",
       "    </tr>\n",
       "    <tr>\n",
       "      <th>84</th>\n",
       "      <td>EC-Earth3-Veg</td>\n",
       "      <td>gr</td>\n",
       "    </tr>\n",
       "    <tr>\n",
       "      <th>540</th>\n",
       "      <td>FGOALS-g3</td>\n",
       "      <td>gn</td>\n",
       "    </tr>\n",
       "    <tr>\n",
       "      <th>1770</th>\n",
       "      <td>INM-CM4-8</td>\n",
       "      <td>gr1</td>\n",
       "    </tr>\n",
       "    <tr>\n",
       "      <th>1778</th>\n",
       "      <td>INM-CM5-0</td>\n",
       "      <td>gr1</td>\n",
       "    </tr>\n",
       "    <tr>\n",
       "      <th>8</th>\n",
       "      <td>IPSL-CM6A-LR</td>\n",
       "      <td>gr</td>\n",
       "    </tr>\n",
       "    <tr>\n",
       "      <th>916</th>\n",
       "      <td>KACE-1-0-G</td>\n",
       "      <td>gr</td>\n",
       "    </tr>\n",
       "    <tr>\n",
       "      <th>1074</th>\n",
       "      <td>MIROC6</td>\n",
       "      <td>gn</td>\n",
       "    </tr>\n",
       "    <tr>\n",
       "      <th>1570</th>\n",
       "      <td>MPI-ESM1-2-HR</td>\n",
       "      <td>gn</td>\n",
       "    </tr>\n",
       "    <tr>\n",
       "      <th>1762</th>\n",
       "      <td>MPI-ESM1-2-LR</td>\n",
       "      <td>gn</td>\n",
       "    </tr>\n",
       "    <tr>\n",
       "      <th>962</th>\n",
       "      <td>MRI-ESM2-0</td>\n",
       "      <td>gn</td>\n",
       "    </tr>\n",
       "    <tr>\n",
       "      <th>64</th>\n",
       "      <td>NorESM2-LM</td>\n",
       "      <td>gn</td>\n",
       "    </tr>\n",
       "    <tr>\n",
       "      <th>56</th>\n",
       "      <td>NorESM2-MM</td>\n",
       "      <td>gn</td>\n",
       "    </tr>\n",
       "    <tr>\n",
       "      <th>1578</th>\n",
       "      <td>TaiESM1</td>\n",
       "      <td>gn</td>\n",
       "    </tr>\n",
       "  </tbody>\n",
       "</table>\n",
       "</div>"
      ],
      "text/plain": [
       "          source_id grid\n",
       "1890      CMCC-ESM2   gn\n",
       "828         CanESM5   gn\n",
       "204       EC-Earth3   gr\n",
       "84    EC-Earth3-Veg   gr\n",
       "540       FGOALS-g3   gn\n",
       "1770      INM-CM4-8  gr1\n",
       "1778      INM-CM5-0  gr1\n",
       "8      IPSL-CM6A-LR   gr\n",
       "916      KACE-1-0-G   gr\n",
       "1074         MIROC6   gn\n",
       "1570  MPI-ESM1-2-HR   gn\n",
       "1762  MPI-ESM1-2-LR   gn\n",
       "962      MRI-ESM2-0   gn\n",
       "64       NorESM2-LM   gn\n",
       "56       NorESM2-MM   gn\n",
       "1578        TaiESM1   gn"
      ]
     },
     "execution_count": 11,
     "metadata": {},
     "output_type": "execute_result"
    }
   ],
   "source": [
    "# list models with all available data for run r1i1p1f1 (this is the single most commonly used label)\n",
    "df.loc[df.variant_label == \"r1i1p1f1\", [\"source_id\", \"grid\"]].drop_duplicates().sort_values(\"source_id\")"
   ]
  },
  {
   "cell_type": "code",
   "execution_count": 12,
   "metadata": {},
   "outputs": [
    {
     "data": {
      "text/html": [
       "<div>\n",
       "<style scoped>\n",
       "    .dataframe tbody tr th:only-of-type {\n",
       "        vertical-align: middle;\n",
       "    }\n",
       "\n",
       "    .dataframe tbody tr th {\n",
       "        vertical-align: top;\n",
       "    }\n",
       "\n",
       "    .dataframe thead th {\n",
       "        text-align: right;\n",
       "    }\n",
       "</style>\n",
       "<table border=\"1\" class=\"dataframe\">\n",
       "  <thead>\n",
       "    <tr style=\"text-align: right;\">\n",
       "      <th></th>\n",
       "      <th>variant_label</th>\n",
       "    </tr>\n",
       "    <tr>\n",
       "      <th>source_id</th>\n",
       "      <th></th>\n",
       "    </tr>\n",
       "  </thead>\n",
       "  <tbody>\n",
       "    <tr>\n",
       "      <th>CMCC-ESM2</th>\n",
       "      <td>1</td>\n",
       "    </tr>\n",
       "    <tr>\n",
       "      <th>CanESM5</th>\n",
       "      <td>50</td>\n",
       "    </tr>\n",
       "    <tr>\n",
       "      <th>EC-Earth3</th>\n",
       "      <td>58</td>\n",
       "    </tr>\n",
       "    <tr>\n",
       "      <th>EC-Earth3-Veg</th>\n",
       "      <td>1</td>\n",
       "    </tr>\n",
       "    <tr>\n",
       "      <th>FGOALS-g3</th>\n",
       "      <td>3</td>\n",
       "    </tr>\n",
       "    <tr>\n",
       "      <th>INM-CM4-8</th>\n",
       "      <td>1</td>\n",
       "    </tr>\n",
       "    <tr>\n",
       "      <th>INM-CM5-0</th>\n",
       "      <td>1</td>\n",
       "    </tr>\n",
       "    <tr>\n",
       "      <th>IPSL-CM6A-LR</th>\n",
       "      <td>7</td>\n",
       "    </tr>\n",
       "    <tr>\n",
       "      <th>KACE-1-0-G</th>\n",
       "      <td>3</td>\n",
       "    </tr>\n",
       "    <tr>\n",
       "      <th>MIROC6</th>\n",
       "      <td>50</td>\n",
       "    </tr>\n",
       "    <tr>\n",
       "      <th>MPI-ESM1-2-HR</th>\n",
       "      <td>2</td>\n",
       "    </tr>\n",
       "    <tr>\n",
       "      <th>MPI-ESM1-2-LR</th>\n",
       "      <td>50</td>\n",
       "    </tr>\n",
       "    <tr>\n",
       "      <th>MRI-ESM2-0</th>\n",
       "      <td>6</td>\n",
       "    </tr>\n",
       "    <tr>\n",
       "      <th>NorESM2-LM</th>\n",
       "      <td>1</td>\n",
       "    </tr>\n",
       "    <tr>\n",
       "      <th>NorESM2-MM</th>\n",
       "      <td>1</td>\n",
       "    </tr>\n",
       "    <tr>\n",
       "      <th>TaiESM1</th>\n",
       "      <td>1</td>\n",
       "    </tr>\n",
       "  </tbody>\n",
       "</table>\n",
       "</div>"
      ],
      "text/plain": [
       "               variant_label\n",
       "source_id                   \n",
       "CMCC-ESM2                  1\n",
       "CanESM5                   50\n",
       "EC-Earth3                 58\n",
       "EC-Earth3-Veg              1\n",
       "FGOALS-g3                  3\n",
       "INM-CM4-8                  1\n",
       "INM-CM5-0                  1\n",
       "IPSL-CM6A-LR               7\n",
       "KACE-1-0-G                 3\n",
       "MIROC6                    50\n",
       "MPI-ESM1-2-HR              2\n",
       "MPI-ESM1-2-LR             50\n",
       "MRI-ESM2-0                 6\n",
       "NorESM2-LM                 1\n",
       "NorESM2-MM                 1\n",
       "TaiESM1                    1"
      ]
     },
     "execution_count": 12,
     "metadata": {},
     "output_type": "execute_result"
    }
   ],
   "source": [
    "# count of model variants\n",
    "df[[\"source_id\", \"variant_label\"]].drop_duplicates().groupby([\"source_id\"]).count()"
   ]
  },
  {
   "cell_type": "markdown",
   "metadata": {},
   "source": [
    "## Check downloaded data"
   ]
  },
  {
   "cell_type": "code",
   "execution_count": 13,
   "metadata": {},
   "outputs": [],
   "source": [
    "fl = sorted(glob.glob(\"/rds/general/user/cb2714/home/00_WWA_project_folder/ephemeral/synda_clair/data/CMIP6/*/*/*.nc\"))\n",
    "df = pd.DataFrame([fnm.split(\"/\")[-1].split(\"_\") for fnm in fl], columns = [\"variable\", \"frequency\", \"source_id\", \"experiment\", \"ensemble_id\", \"grid\", \"timeslice\"])"
   ]
  },
  {
   "cell_type": "code",
   "execution_count": 14,
   "metadata": {},
   "outputs": [],
   "source": [
    "df[\"ys\"] = [int(t[:4]) for t in df.timeslice]\n",
    "df[\"ye\"] = [int(t[9:13]) for t in df.timeslice]"
   ]
  },
  {
   "cell_type": "code",
   "execution_count": 15,
   "metadata": {},
   "outputs": [],
   "source": [
    "df = merge_byindex([df[[\"source_id\", \"variable\", \"ys\"]].groupby([\"source_id\", \"variable\"]).min(),\n",
    "                       df[[\"source_id\", \"variable\", \"ye\"]].groupby([\"source_id\", \"variable\"]).max()]).reset_index()"
   ]
  },
  {
   "cell_type": "code",
   "execution_count": 16,
   "metadata": {},
   "outputs": [
    {
     "data": {
      "text/plain": [
       "['CMCC-ESM2',\n",
       " 'CanESM5',\n",
       " 'EC-Earth3',\n",
       " 'INM-CM4-8',\n",
       " 'INM-CM5-0',\n",
       " 'IPSL-CM6A-LR',\n",
       " 'MIROC6',\n",
       " 'MPI-ESM1-2-HR',\n",
       " 'MPI-ESM1-2-LR',\n",
       " 'MRI-ESM2-0',\n",
       " 'NorESM2-MM']"
      ]
     },
     "execution_count": 16,
     "metadata": {},
     "output_type": "execute_result"
    }
   ],
   "source": [
    "# list models with data spanning the minimum period required for all four variables\n",
    "mcount = df.loc[(df.ys <= 1900) & (df.ye >= 2050)].groupby([\"source_id\"]).count()[[\"variable\"]]\n",
    "mlist = mcount.loc[mcount.variable == 4].index.to_list()\n",
    "mlist"
   ]
  },
  {
   "cell_type": "markdown",
   "metadata": {},
   "source": [
    "## Extract subset for FWI variables\n",
    "\n",
    "16 unique models for which all necessary variables are available for both historical and SSP585 runs (see above)"
   ]
  },
  {
   "cell_type": "code",
   "execution_count": 18,
   "metadata": {},
   "outputs": [],
   "source": [
    "fpath = \"/rds/general/user/cb2714/home/00_WWA_project_folder/ephemeral/synda_clair/data/CMIP6/\"\n",
    "outpath = \"/rds/general/user/cb2714/home/99_ephemera/pantanal-fires/cmip6/\""
   ]
  },
  {
   "cell_type": "code",
   "execution_count": 14,
   "metadata": {},
   "outputs": [],
   "source": [
    "units = {\"hurs\" : \"%\", \"pr\" : \"mm/day\", \"tasmax\" : \"degC\", \"sfcWind\" : \"m/s\"}"
   ]
  },
  {
   "cell_type": "code",
   "execution_count": 15,
   "metadata": {},
   "outputs": [],
   "source": [
    "for mdl in mlist:\n",
    "        \n",
    "    print(mdl, end = \": \")\n",
    "    for varnm in [\"hurs\", \"pr\", \"sfcWind\", \"tasmax\"]:\n",
    "        \n",
    "        print(varnm, end = \" \")\n",
    "        \n",
    "        new_fnm = outpath+varnm+\"_\"+mdl+\"_r1i1p1f1.nc\"\n",
    "        if os.path.exists(new_fnm): continue\n",
    "        \n",
    "        fl = sorted(glob.glob(fpath+\"/\"+mdl+\"/\"+varnm+\"/*.nc\"))\n",
    "        ds = wrap_lon(xr.open_mfdataset(fl)[varnm].reset_coords(drop = True))\n",
    "        \n",
    "        ds = ds.sel(lon = slice(Xn,Xx), lat = slice(Yn,Yx))\n",
    "        ds = convert_units_to(ds, units[varnm])\n",
    "        \n",
    "        ds.to_netcdf(new_fnm)\n",
    "        \n",
    "    print(\"\")\n",
    "clear_output(wait = False)"
   ]
  },
  {
   "cell_type": "markdown",
   "metadata": {},
   "source": [
    "## Compile & compute FWI"
   ]
  },
  {
   "cell_type": "code",
   "execution_count": 19,
   "metadata": {},
   "outputs": [],
   "source": [
    "from xclim.indicators.atmos import cffwis_indices"
   ]
  },
  {
   "cell_type": "code",
   "execution_count": null,
   "metadata": {},
   "outputs": [],
   "source": [
    "mlist = sorted([fp.split(\"_\")[2] for fp in glob.glob(outpath+\"hurs*.nc\")])\n",
    "for mdl in mlist:\n",
    "    \n",
    "    print(mdl)\n",
    "    new_fnm = \"data/cmip6/fwi_\"+mdl+\"_r1i1p1f1.nc\"\n",
    "    if os.path.exists(new_fnm): continue\n",
    "        \n",
    "    ds = xr.merge([xr.open_dataset(outpath + varnm+\"_\"+mdl+\"_r1i1p1f1.nc\") for varnm in [\"pr\", \"tasmax\", \"sfcWind\", \"hurs\"]])\n",
    "    fwi = xr.merge(cffwis_indices(ds = ds.rename(tasmax = \"tas\")))\n",
    "    fwi.to_netcdf(new_fnm)"
   ]
  },
  {
   "cell_type": "markdown",
   "metadata": {},
   "source": [
    "## Spatial pattern & seasonal cycle for validation"
   ]
  },
  {
   "cell_type": "code",
   "execution_count": 33,
   "metadata": {},
   "outputs": [],
   "source": [
    "fpath = \"/rds/general/user/cb2714/home/99_ephemera/pantanal-fires/cmip6/\"\n",
    "\n",
    "mlist = [fp.split(\"_\")[2] for fp in glob.glob(fpath+\"pr_*.nc\")]"
   ]
  },
  {
   "cell_type": "code",
   "execution_count": 6,
   "metadata": {},
   "outputs": [],
   "source": [
    "for mdl in mlist:\n",
    "    \n",
    "    print(mdl, end = \": \")\n",
    "    for varnm in [\"pr\", \"tasmax\"]:\n",
    "        \n",
    "        print(varnm, end = \" \")\n",
    "        \n",
    "        new_fnm = \"data/cmip6/\"+varnm+\"-spatial_\"+mdl+\"_r1i1p1f1.nc\"\n",
    "        if os.path.exists(re.sub(\"spatial\", \"seasonal\", new_fnm)): continue\n",
    "            \n",
    "        da = xr.open_dataset(fpath+varnm+\"_\"+mdl+\"_r1i1p1f1.nc\")[varnm].sel(time = slice(\"1990\", \"2020\")).load()\n",
    "        \n",
    "        # spatial pattern\n",
    "        sp = da.groupby(\"time.month\").mean()\n",
    "        sp.to_netcdf(new_fnm)\n",
    "        \n",
    "        # seasonal cycle\n",
    "        rm = regionmask.mask_geopandas(sf, da.lon, da.lat)\n",
    "        ts = da.where(rm == 0).mean([\"lat\", \"lon\"])\n",
    "        sc = ts.groupby(\"time.dayofyear\").mean()\n",
    "        sc.to_netcdf(re.sub(\"spatial\", \"seasonal\", new_fnm))\n",
    "        \n",
    "    print(\"\")\n",
    "clear_output(wait = False)"
   ]
  },
  {
   "cell_type": "markdown",
   "metadata": {},
   "source": [
    "### Daily time series"
   ]
  },
  {
   "cell_type": "code",
   "execution_count": 38,
   "metadata": {},
   "outputs": [],
   "source": [
    "for mdl in mlist:\n",
    "    \n",
    "    print(mdl, end = \": \")\n",
    "    for varnm in [\"pr\", \"tasmax\"]:\n",
    "        \n",
    "        print(varnm, end = \" \")\n",
    "        \n",
    "        new_fnm = \"data/cmip6/\"+varnm+\"_\"+mdl+\"_r1i1p1f1.nc\"\n",
    "        if os.path.exists(new_fnm): continue\n",
    "            \n",
    "        da = xr.open_dataset(fpath+varnm+\"_\"+mdl+\"_r1i1p1f1.nc\")[varnm]\n",
    "               \n",
    "        # seasonal cycle\n",
    "        rm = regionmask.mask_geopandas(sf, da.lon, da.lat)\n",
    "        ts = da.where(rm == 0).mean([\"lat\", \"lon\"])\n",
    "        ts.to_netcdf(new_fnm)\n",
    "        \n",
    "    print(\"\")\n",
    "clear_output(wait = False)"
   ]
  },
  {
   "cell_type": "markdown",
   "metadata": {},
   "source": [
    "## Time series for climate explorer"
   ]
  },
  {
   "cell_type": "code",
   "execution_count": 29,
   "metadata": {},
   "outputs": [],
   "source": [
    "for fnm in sorted(glob.glob(\"data/cmip6/fwi_*.nc\")):\n",
    "    \n",
    "    mdl = fnm.split(\"_\")[1]\n",
    "    \n",
    "    fwi = xr.open_dataset(fnm).fwi\n",
    "    dsr = (0.0272 * (fwi ** 1.77)).rename(\"dsr\")\n",
    "    rm = regionmask.mask_geopandas(sf, fwi.lon, fwi.lat)\n",
    "    ts = dsr.where(rm == 0).mean([\"lat\", \"lon\"])\n",
    "    ts_jun = ts.resample(time= \"MS\").sum().groupby(\"time.month\")[6]\n",
    "    ts_jun = ts_jun.assign_coords(time = ts_jun.time.dt.year).rename(time = \"year\").to_dataframe()\n",
    "    \n",
    "    csv_fnm = \"pantanal-fires_dsr-june_cmip6_\"+mdl\n",
    "        \n",
    "    csv_fullpath = \"ts_cmip6/\"+csv_fnm+\".dat\"\n",
    "    if len(csv_fnm) > 61: print(\"! Filename too long: \", csv_fnm)\n",
    "        \n",
    "    # create extra header lines for upload to Climate Explorer \n",
    "    str1 = \"# contact :: CMIP6 \"+mdl+\" r1i1p1f1 June DSR in the Brazilian Pantanal - Pantanal wildfires 2024, c.barnes22@imperial.ac.uk\"\n",
    "    str2 = \"# dsr [] June accumulated daily severity rating averaged over the Brazilian Pantanal at \"+csv_fnm+\".dat\"\n",
    "    head = \"# year dsr\"\n",
    "    \n",
    "    # make .dat file\n",
    "    ! echo \"$str1 \" > $csv_fullpath\n",
    "    ! echo \"$str2\" >> $csv_fullpath\n",
    "    ! echo \"$head\" >> $csv_fullpath\n",
    "    ts_jun.to_csv(csv_fullpath, sep = \" \", mode = \"a\", header = False)\n",
    "\n",
    "    clear_output(wait = False)"
   ]
  },
  {
   "cell_type": "code",
   "execution_count": 45,
   "metadata": {},
   "outputs": [],
   "source": [
    "for fnm in sorted(glob.glob(\"data/cmip6/pr_*.nc\")):\n",
    "    \n",
    "    mdl = fnm.split(\"_\")[1]\n",
    "    \n",
    "    ts = xr.open_dataset(fnm).pr.resample(time = \"MS\").sum()\n",
    "    ts_jun = ts.resample(time= \"AS-JUL\").sum().where(ts.resample(time = \"AS-JUL\").count() == 12).dropna(\"time\", \"any\")\n",
    "    ts_jun = ts_jun.assign_coords(time = ts_jun.time.dt.year).rename(time = \"year\").to_dataframe()\n",
    "\n",
    "    csv_fnm = \"pantanal-fires_pr-jj_cmip6_\"+mdl\n",
    "        \n",
    "    csv_fullpath = \"ts_cmip6/\"+csv_fnm+\".dat\"\n",
    "    if len(csv_fnm) > 61: print(\"! Filename too long: \", csv_fnm)\n",
    "        \n",
    "    # create extra header lines for upload to Climate Explorer \n",
    "    str1 = \"# contact :: CMIP6 \"+mdl+\" r1i1p1f1 July-June precipitation in the Brazilian Pantanal - Pantanal wildfires 2024, c.barnes22@imperial.ac.uk\"\n",
    "    str2 = \"# pr [mm/year] July-June accumulated precipitation (labelled in June) averaged over the Brazilian Pantanal at \"+csv_fnm+\".dat\"\n",
    "    head = \"# year pr\"\n",
    "    \n",
    "    # make .dat file\n",
    "    ! echo \"$str1 \" > $csv_fullpath\n",
    "    ! echo \"$str2\" >> $csv_fullpath\n",
    "    ! echo \"$head\" >> $csv_fullpath\n",
    "    ts_jun.to_csv(csv_fullpath, sep = \" \", mode = \"a\", header = False)\n",
    "\n",
    "    clear_output(wait = False)"
   ]
  },
  {
   "cell_type": "markdown",
   "metadata": {},
   "source": [
    "---\n",
    "# CORDEX"
   ]
  },
  {
   "cell_type": "markdown",
   "metadata": {},
   "source": [
    "## Check available models\n",
    "```\n",
    "synda search domain=SAM-22,SAM-44 variable=pr,hurs,tasmax,sfcWind -l 10000 > cordex-models.txt\n",
    "```"
   ]
  },
  {
   "cell_type": "code",
   "execution_count": 4,
   "metadata": {},
   "outputs": [],
   "source": [
    "df = pd.read_table(\"cordex-models.txt\", sep = \"\\.\", engine = \"python\", header = None,\n",
    "                   names = [0,1,\"domain\", \"institute\", \"driving_model\", \"experiment\", \"ensemble\", \"rcm_name\",\"rcm_version\", \"frequency\", \"variable\", \"version\"])"
   ]
  },
  {
   "cell_type": "code",
   "execution_count": 5,
   "metadata": {},
   "outputs": [
    {
     "data": {
      "text/html": [
       "<div>\n",
       "<style scoped>\n",
       "    .dataframe tbody tr th:only-of-type {\n",
       "        vertical-align: middle;\n",
       "    }\n",
       "\n",
       "    .dataframe tbody tr th {\n",
       "        vertical-align: top;\n",
       "    }\n",
       "\n",
       "    .dataframe thead th {\n",
       "        text-align: right;\n",
       "    }\n",
       "</style>\n",
       "<table border=\"1\" class=\"dataframe\">\n",
       "  <thead>\n",
       "    <tr style=\"text-align: right;\">\n",
       "      <th></th>\n",
       "      <th>domain</th>\n",
       "      <th>driving_model</th>\n",
       "      <th>ensemble</th>\n",
       "      <th>rcm_name</th>\n",
       "      <th>variable</th>\n",
       "      <th>experiment</th>\n",
       "    </tr>\n",
       "  </thead>\n",
       "  <tbody>\n",
       "    <tr>\n",
       "      <th>0</th>\n",
       "      <td>SAM-22</td>\n",
       "      <td>MOHC-HadGEM2-ES</td>\n",
       "      <td>r1i1p1</td>\n",
       "      <td>REMO2015</td>\n",
       "      <td>8</td>\n",
       "      <td>8</td>\n",
       "    </tr>\n",
       "    <tr>\n",
       "      <th>1</th>\n",
       "      <td>SAM-22</td>\n",
       "      <td>MOHC-HadGEM2-ES</td>\n",
       "      <td>r1i1p1</td>\n",
       "      <td>RegCM4-7</td>\n",
       "      <td>8</td>\n",
       "      <td>8</td>\n",
       "    </tr>\n",
       "    <tr>\n",
       "      <th>2</th>\n",
       "      <td>SAM-22</td>\n",
       "      <td>MPI-M-MPI-ESM-LR</td>\n",
       "      <td>r1i1p1</td>\n",
       "      <td>REMO2015</td>\n",
       "      <td>8</td>\n",
       "      <td>8</td>\n",
       "    </tr>\n",
       "    <tr>\n",
       "      <th>3</th>\n",
       "      <td>SAM-22</td>\n",
       "      <td>MPI-M-MPI-ESM-MR</td>\n",
       "      <td>r1i1p1</td>\n",
       "      <td>RegCM4-7</td>\n",
       "      <td>8</td>\n",
       "      <td>8</td>\n",
       "    </tr>\n",
       "    <tr>\n",
       "      <th>4</th>\n",
       "      <td>SAM-22</td>\n",
       "      <td>NCC-NorESM1-M</td>\n",
       "      <td>r1i1p1</td>\n",
       "      <td>REMO2015</td>\n",
       "      <td>8</td>\n",
       "      <td>8</td>\n",
       "    </tr>\n",
       "    <tr>\n",
       "      <th>5</th>\n",
       "      <td>SAM-22</td>\n",
       "      <td>NCC-NorESM1-M</td>\n",
       "      <td>r1i1p1</td>\n",
       "      <td>RegCM4-7</td>\n",
       "      <td>8</td>\n",
       "      <td>8</td>\n",
       "    </tr>\n",
       "    <tr>\n",
       "      <th>6</th>\n",
       "      <td>SAM-44</td>\n",
       "      <td>CCCma-CanESM2</td>\n",
       "      <td>r1i1p1</td>\n",
       "      <td>RCA4</td>\n",
       "      <td>8</td>\n",
       "      <td>8</td>\n",
       "    </tr>\n",
       "    <tr>\n",
       "      <th>7</th>\n",
       "      <td>SAM-44</td>\n",
       "      <td>CCCma-CanESM2</td>\n",
       "      <td>r1i1p1</td>\n",
       "      <td>WRF341I</td>\n",
       "      <td>8</td>\n",
       "      <td>8</td>\n",
       "    </tr>\n",
       "    <tr>\n",
       "      <th>8</th>\n",
       "      <td>SAM-44</td>\n",
       "      <td>CNRM-CERFACS-CNRM-CM5</td>\n",
       "      <td>r1i1p1</td>\n",
       "      <td>RCA4</td>\n",
       "      <td>8</td>\n",
       "      <td>8</td>\n",
       "    </tr>\n",
       "    <tr>\n",
       "      <th>9</th>\n",
       "      <td>SAM-44</td>\n",
       "      <td>CSIRO-QCCCE-CSIRO-Mk3-6-0</td>\n",
       "      <td>r1i1p1</td>\n",
       "      <td>RCA4</td>\n",
       "      <td>8</td>\n",
       "      <td>8</td>\n",
       "    </tr>\n",
       "    <tr>\n",
       "      <th>10</th>\n",
       "      <td>SAM-44</td>\n",
       "      <td>ICHEC-EC-EARTH</td>\n",
       "      <td>r12i1p1</td>\n",
       "      <td>RCA4</td>\n",
       "      <td>8</td>\n",
       "      <td>8</td>\n",
       "    </tr>\n",
       "    <tr>\n",
       "      <th>11</th>\n",
       "      <td>SAM-44</td>\n",
       "      <td>IPSL-IPSL-CM5A-MR</td>\n",
       "      <td>r1i1p1</td>\n",
       "      <td>RCA4</td>\n",
       "      <td>8</td>\n",
       "      <td>8</td>\n",
       "    </tr>\n",
       "    <tr>\n",
       "      <th>12</th>\n",
       "      <td>SAM-44</td>\n",
       "      <td>MIROC-MIROC5</td>\n",
       "      <td>r1i1p1</td>\n",
       "      <td>RCA4</td>\n",
       "      <td>8</td>\n",
       "      <td>8</td>\n",
       "    </tr>\n",
       "    <tr>\n",
       "      <th>13</th>\n",
       "      <td>SAM-44</td>\n",
       "      <td>MOHC-HadGEM2-ES</td>\n",
       "      <td>r1i1p1</td>\n",
       "      <td>RCA4</td>\n",
       "      <td>8</td>\n",
       "      <td>8</td>\n",
       "    </tr>\n",
       "    <tr>\n",
       "      <th>15</th>\n",
       "      <td>SAM-44</td>\n",
       "      <td>MPI-M-MPI-ESM-LR</td>\n",
       "      <td>r1i1p1</td>\n",
       "      <td>RCA4</td>\n",
       "      <td>8</td>\n",
       "      <td>8</td>\n",
       "    </tr>\n",
       "    <tr>\n",
       "      <th>18</th>\n",
       "      <td>SAM-44</td>\n",
       "      <td>NCC-NorESM1-M</td>\n",
       "      <td>r1i1p1</td>\n",
       "      <td>RCA4</td>\n",
       "      <td>8</td>\n",
       "      <td>8</td>\n",
       "    </tr>\n",
       "    <tr>\n",
       "      <th>19</th>\n",
       "      <td>SAM-44</td>\n",
       "      <td>NOAA-GFDL-GFDL-ESM2M</td>\n",
       "      <td>r1i1p1</td>\n",
       "      <td>RCA4</td>\n",
       "      <td>8</td>\n",
       "      <td>8</td>\n",
       "    </tr>\n",
       "  </tbody>\n",
       "</table>\n",
       "</div>"
      ],
      "text/plain": [
       "    domain              driving_model ensemble  rcm_name  variable  experiment\n",
       "0   SAM-22            MOHC-HadGEM2-ES   r1i1p1  REMO2015         8           8\n",
       "1   SAM-22            MOHC-HadGEM2-ES   r1i1p1  RegCM4-7         8           8\n",
       "2   SAM-22           MPI-M-MPI-ESM-LR   r1i1p1  REMO2015         8           8\n",
       "3   SAM-22           MPI-M-MPI-ESM-MR   r1i1p1  RegCM4-7         8           8\n",
       "4   SAM-22              NCC-NorESM1-M   r1i1p1  REMO2015         8           8\n",
       "5   SAM-22              NCC-NorESM1-M   r1i1p1  RegCM4-7         8           8\n",
       "6   SAM-44              CCCma-CanESM2   r1i1p1      RCA4         8           8\n",
       "7   SAM-44              CCCma-CanESM2   r1i1p1   WRF341I         8           8\n",
       "8   SAM-44      CNRM-CERFACS-CNRM-CM5   r1i1p1      RCA4         8           8\n",
       "9   SAM-44  CSIRO-QCCCE-CSIRO-Mk3-6-0   r1i1p1      RCA4         8           8\n",
       "10  SAM-44             ICHEC-EC-EARTH  r12i1p1      RCA4         8           8\n",
       "11  SAM-44          IPSL-IPSL-CM5A-MR   r1i1p1      RCA4         8           8\n",
       "12  SAM-44               MIROC-MIROC5   r1i1p1      RCA4         8           8\n",
       "13  SAM-44            MOHC-HadGEM2-ES   r1i1p1      RCA4         8           8\n",
       "15  SAM-44           MPI-M-MPI-ESM-LR   r1i1p1      RCA4         8           8\n",
       "18  SAM-44              NCC-NorESM1-M   r1i1p1      RCA4         8           8\n",
       "19  SAM-44       NOAA-GFDL-GFDL-ESM2M   r1i1p1      RCA4         8           8"
      ]
     },
     "execution_count": 5,
     "metadata": {},
     "output_type": "execute_result"
    }
   ],
   "source": [
    "# identify models with all four variables available in both historical & SSP experiments\n",
    "mdl_xvar = df[[\"domain\", \"driving_model\", \"ensemble\", \"rcm_name\", \"variable\", \"experiment\"]].drop_duplicates()\n",
    "mdl_xvar = mdl_xvar.groupby([\"domain\", \"driving_model\", \"ensemble\", \"rcm_name\"]).count().reset_index()\n",
    "\n",
    "mdl_xvar.loc[mdl_xvar.variable == 8]"
   ]
  },
  {
   "cell_type": "code",
   "execution_count": 6,
   "metadata": {},
   "outputs": [],
   "source": [
    "# filter models to show only those with all four variables\n",
    "df = pd.merge(df, mdl_xvar.loc[mdl_xvar.variable == 8], left_on = [\"domain\", \"driving_model\", \"ensemble\", \"rcm_name\"], right_on = [\"domain\", \"driving_model\", \"ensemble\", \"rcm_name\"], how = \"inner\")"
   ]
  },
  {
   "cell_type": "code",
   "execution_count": 20,
   "metadata": {},
   "outputs": [
    {
     "data": {
      "text/plain": [
       "{'RCA4', 'REMO2009', 'RegCM4-3', 'WRF341I'}"
      ]
     },
     "execution_count": 20,
     "metadata": {},
     "output_type": "execute_result"
    }
   ],
   "source": [
    "# count models used\n",
    "(set(mdl_xvar.loc[mdl_xvar.domain == \"SAM-44\"].rcm_name))"
   ]
  },
  {
   "cell_type": "markdown",
   "metadata": {},
   "source": [
    "## Check downloaded data"
   ]
  },
  {
   "cell_type": "code",
   "execution_count": 5,
   "metadata": {},
   "outputs": [],
   "source": [
    "fl = sorted(glob.glob(\"/rds/general/user/cb2714/home/00_WWA_project_folder/ephemeral/synda_clair/data/cordex/*/*/*/*/*/*\"))\n",
    "df = pd.DataFrame([fnm.split(\"/\")[-1].split(\"_\") for fnm in fl], columns = [\"variable\", \"domain\", \"driving_model\", \"experiment\", \"ensemble\", \"rcm_name\", \"rcm_version\", \"frequency\", \"timeslice\"])\n",
    "df[\"ys\"] = [int(t[:4]) for t in df.timeslice]\n",
    "df[\"ye\"] = [int(t.split(\"-\")[-1][:4]) for t in df.timeslice]"
   ]
  },
  {
   "cell_type": "code",
   "execution_count": 6,
   "metadata": {},
   "outputs": [],
   "source": [
    "key = [\"domain\", \"driving_model\", \"rcm_name\", \"ensemble\", \"rcm_version\"]\n",
    "\n",
    "# checked using full key & found no duplicated ercm version, so can drop from key\n",
    "key = [\"domain\", \"driving_model\", \"ensemble\", \"rcm_name\"]\n",
    "df = merge_byindex([df[key + [\"variable\", \"ys\"]].groupby(key + [\"variable\"]).min(),\n",
    "                       df[key + [\"variable\", \"ye\"]].groupby(key + [\"variable\"]).max()]).reset_index()"
   ]
  },
  {
   "cell_type": "code",
   "execution_count": 8,
   "metadata": {},
   "outputs": [
    {
     "data": {
      "text/plain": [
       "[('SAM-44', 'MOHC-HadGEM2-ES', 'r1i1p1', 'ICTP-RegCM4-3'),\n",
       " ('SAM-44', 'MPI-M-MPI-ESM-LR', 'r1i1p1', 'MPI-CSC-REMO2009'),\n",
       " ('SAM-44', 'NOAA-GFDL-GFDL-ESM2M', 'r1i1p1', 'ICTP-RegCM4-3')]"
      ]
     },
     "execution_count": 8,
     "metadata": {},
     "output_type": "execute_result"
    }
   ],
   "source": [
    "# list models with data spanning the minimum period required for all four variables\n",
    "mcount = df.loc[(df.ys <= 1980) & (df.ye >= 2050)].groupby(key).count()[[\"variable\"]]\n",
    "mlist = mcount.loc[mcount.variable < 4].index.to_list()\n",
    "mlist"
   ]
  },
  {
   "cell_type": "code",
   "execution_count": 2,
   "metadata": {},
   "outputs": [],
   "source": [
    "# manual list of models to skip (slightly easier than automating due to modelling centre in RCM name)\n",
    "skip_models = [\"SAM-44/MOHC-HadGEM2-ES/r1i1p1/RegCM4-3\",\n",
    "               \"SAM-44/MPI-M-MPI-ESM-LR/r1i1p1/REMO2009\",\n",
    "               \"SAM-44/NOAA-GFDL-GFDL-ESM2M/r1i1p1/RegCM4-3\",\n",
    "               \"SAM-44/MPI-M-MPI-ESM-MR/r1i1p1/RegCM4-3\"]"
   ]
  },
  {
   "cell_type": "markdown",
   "metadata": {},
   "source": [
    "## Extract subset for FWI variables\n",
    "\n",
    "18 unique model combinations for which all necessary variables are available for both historical and RCP85 runs (see above)"
   ]
  },
  {
   "cell_type": "code",
   "execution_count": 3,
   "metadata": {},
   "outputs": [],
   "source": [
    "fpath = \"/rds/general/user/cb2714/home/00_WWA_project_folder/ephemeral/synda_clair/data/cordex/\"\n",
    "outpath = \"/rds/general/user/cb2714/home/99_ephemera/pantanal-fires/cordex/\""
   ]
  },
  {
   "cell_type": "code",
   "execution_count": 4,
   "metadata": {},
   "outputs": [],
   "source": [
    "units = {\"hurs\" : \"%\", \"pr\" : \"mm/day\", \"tasmax\" : \"degC\", \"sfcWind\" : \"m/s\"}"
   ]
  },
  {
   "cell_type": "code",
   "execution_count": 5,
   "metadata": {},
   "outputs": [],
   "source": [
    "# list models with all available data\n",
    "model_list = glob.glob(fpath+\"*/*/*/*\")\n",
    "model_list = [mpath for mpath in model_list if not \"/\".join(mpath.split(\"/\")[-4:]) in skip_models]"
   ]
  },
  {
   "cell_type": "code",
   "execution_count": 16,
   "metadata": {},
   "outputs": [],
   "source": [
    "for mpath in [m for m in model_list if \"REMO\" in m]:\n",
    "        \n",
    "    mdl = \"_\".join(mpath.split(\"/\")[-4:])\n",
    "    print(mdl, end = \": \")\n",
    "    \n",
    "    for varnm in [\"hurs\", \"pr\", \"sfcWind\", \"tasmax\"]:\n",
    "        \n",
    "        print(varnm, end = \" \")\n",
    "        new_fnm = outpath+varnm+\"_\"+mdl+\".nc\"\n",
    "        if os.path.exists(new_fnm): continue\n",
    "\n",
    "        fl = sorted(glob.glob(mpath+\"/\"+varnm+\"/*.nc\"))\n",
    "        \n",
    "        ds = wrap_lon(xr.concat([xr.open_dataset(fnm)[varnm] for fnm in fl], \"time\"))\n",
    "        \n",
    "        if \"height\" in ds.coords: ds = ds.reset_coords(\"height\", drop = True)\n",
    "            \n",
    "        if \"rlon\" in ds.dims:\n",
    "            xdim, ydim = [\"rlon\", \"rlat\"]\n",
    "        elif \"x\" in ds.dims:\n",
    "            xdim, ydim = [\"x\", \"y\"]\n",
    "        else:\n",
    "            print(\"Check coordinates: \", ds.dims)\n",
    "            continue\n",
    "            \n",
    "        # mask region of interest\n",
    "        rm = np.logical_and(np.logical_and(ds.lon >= Xn, ds.lon <= Xx), np.logical_and(ds.lat >= Yn, ds.lat <= Yx))\n",
    "        rm = rm.where(rm == 1).dropna(xdim, \"all\").dropna(ydim, \"all\")\n",
    "\n",
    "        ds = ds.sel({xdim : rm[xdim], ydim : rm[ydim]})\n",
    "        \n",
    "        # convert units & save\n",
    "        ds = convert_units_to(ds, units[varnm])\n",
    "        ds.to_netcdf(new_fnm)\n",
    "        \n",
    "    print(\"\")\n",
    "        \n",
    "clear_output(wait = False)"
   ]
  },
  {
   "cell_type": "markdown",
   "metadata": {},
   "source": [
    "## Compile & compute FWI"
   ]
  },
  {
   "cell_type": "code",
   "execution_count": 20,
   "metadata": {},
   "outputs": [],
   "source": [
    "from xclim.indicators.atmos import cffwis_indices\n",
    "import xclim"
   ]
  },
  {
   "cell_type": "code",
   "execution_count": 21,
   "metadata": {},
   "outputs": [],
   "source": [
    "outpath = \"/rds/general/user/cb2714/home/99_ephemera/pantanal-fires/cordex/\"\n",
    "mlist = sorted([\"_\".join(fp.split(\"_\")[2:]) for fp in glob.glob(outpath+\"hurs*.nc\")])"
   ]
  },
  {
   "cell_type": "code",
   "execution_count": 22,
   "metadata": {},
   "outputs": [
    {
     "name": "stdout",
     "output_type": "stream",
     "text": [
      "Done.\n"
     ]
    }
   ],
   "source": [
    "for mdl in mlist:\n",
    "    \n",
    "    print(mdl)\n",
    "    new_fnm = \"data/cordex/fwi_\"+mdl\n",
    "    if os.path.exists(new_fnm): continue\n",
    "    \n",
    "    ds_list = {varnm : xr.open_dataset(outpath + varnm+\"_\"+mdl) for varnm in [\"pr\", \"tasmax\", \"sfcWind\", \"hurs\"]}\n",
    "    ds = xr.merge([ds_list[varnm][varnm] for varnm in [\"pr\", \"tasmax\", \"sfcWind\", \"hurs\"]])\n",
    "    ds = ds.assign_coords(lon = ds_list[\"pr\"][\"lon\"], lat = ds_list[\"pr\"][\"lat\"])\n",
    "    \n",
    "    with xclim.set_options(\n",
    "        data_validation=\"log\",\n",
    "    ):\n",
    "        fwi = xr.merge(cffwis_indices(ds = ds.rename(tasmax = \"tas\")))\n",
    "    \n",
    "    fwi.to_netcdf(new_fnm)\n",
    "    \n",
    "clear_output(wait = False)\n",
    "print(\"Done.\")"
   ]
  },
  {
   "cell_type": "markdown",
   "metadata": {},
   "source": [
    "## Daily time series"
   ]
  },
  {
   "cell_type": "code",
   "execution_count": 4,
   "metadata": {},
   "outputs": [],
   "source": [
    "fpath = \"/rds/general/user/cb2714/home/99_ephemera/pantanal-fires/cordex/\"\n",
    "\n",
    "mlist = [\"_\".join(fp.split(\"_\")[-4:]) for fp in glob.glob(fpath+\"pr_*.nc\")]"
   ]
  },
  {
   "cell_type": "code",
   "execution_count": 6,
   "metadata": {},
   "outputs": [
    {
     "name": "stdout",
     "output_type": "stream",
     "text": [
      "Done.\n"
     ]
    }
   ],
   "source": [
    "for mdl in mlist:\n",
    "    \n",
    "    print(mdl, end = \": \")\n",
    "    \n",
    "    for varnm in [\"tasmax\"]:\n",
    "        \n",
    "        print(varnm, end = \" \")\n",
    "        \n",
    "        new_fnm = \"data/cordex/\"+varnm+\"_\"+mdl\n",
    "        if os.path.exists(new_fnm): continue\n",
    "            \n",
    "        da = xr.open_dataset(fpath+varnm+\"_\"+mdl)[varnm]\n",
    "        \n",
    "        if varnm == \"tasmax\":\n",
    "            tmplt = xr.open_dataset(fpath+\"pr_\"+mdl)\n",
    "            rm = regionmask.mask_geopandas(sf, tmplt.lon, tmplt.lat)\n",
    "        else:\n",
    "            rm = regionmask.mask_geopandas(sf, da.lon, da.lat)\n",
    "        \n",
    "        # seasonal cycle\n",
    "        ts = da.where(rm == 0).mean([d for d in da.dims if not d == \"time\"])\n",
    "        ts.to_netcdf(new_fnm)\n",
    "        \n",
    "    print(\"\")\n",
    "clear_output(wait = False)\n",
    "print(\"Done.\")"
   ]
  },
  {
   "cell_type": "markdown",
   "metadata": {},
   "source": [
    "## Spatial pattern & seasonal cycle for validation"
   ]
  },
  {
   "cell_type": "code",
   "execution_count": 19,
   "metadata": {},
   "outputs": [],
   "source": [
    "fpath = \"/rds/general/user/cb2714/home/99_ephemera/pantanal-fires/cordex/\"\n",
    "\n",
    "mlist = [\"_\".join(fp.split(\"_\")[-4:]) for fp in glob.glob(fpath+\"pr_*.nc\")]"
   ]
  },
  {
   "cell_type": "code",
   "execution_count": 64,
   "metadata": {},
   "outputs": [
    {
     "name": "stdout",
     "output_type": "stream",
     "text": [
      "Done.\n"
     ]
    }
   ],
   "source": [
    "for mdl in mlist:\n",
    "    \n",
    "    print(mdl, end = \": \")\n",
    "    \n",
    "    for varnm in [\"pr\", \"tasmax\"]:\n",
    "        \n",
    "        print(varnm, end = \" \")\n",
    "        \n",
    "        new_fnm = \"data/cordex/\"+varnm+\"-spatial_\"+mdl\n",
    "        if os.path.exists(re.sub(\"spatial\", \"seasonal\", new_fnm)): continue\n",
    "            \n",
    "        da = xr.open_dataset(fpath+varnm+\"_\"+mdl)[varnm].sel(time = slice(\"1990\", \"2020\")).load()\n",
    "        \n",
    "        # spatial pattern\n",
    "        sp = da.groupby(\"time.month\").mean()\n",
    "        sp.to_netcdf(new_fnm)\n",
    "        \n",
    "        # seasonal cycle\n",
    "        rm = regionmask.mask_geopandas(sf, da.lon, da.lat)\n",
    "        ts = da.where(rm == 0).mean([d for d in da.dims if not d == \"time\"])\n",
    "        sc = ts.groupby(\"time.dayofyear\").mean()\n",
    "        sc.to_netcdf(re.sub(\"spatial\", \"seasonal\", new_fnm))\n",
    "        \n",
    "    print(\"\")\n",
    "clear_output(wait = False)\n",
    "print(\"Done.\")"
   ]
  },
  {
   "cell_type": "code",
   "execution_count": 63,
   "metadata": {},
   "outputs": [],
   "source": [
    "# fix where temperature data has no lat/lon coordinates\n",
    "pr = xr.open_dataset(fpath+\"pr_\"+mdl)\n",
    "da = da.assign_coords({\"lat\" : pr.lat, \"lon\" : pr.lon})\n",
    "\n",
    "# spatial pattern\n",
    "sp = da.groupby(\"time.month\").mean()\n",
    "sp.to_netcdf(new_fnm)\n",
    "\n",
    "# seasonal cycle\n",
    "rm = regionmask.mask_geopandas(sf, da.lon, da.lat)\n",
    "ts = da.where(rm == 0).mean([d for d in da.dims if not d == \"time\"])\n",
    "sc = ts.groupby(\"time.dayofyear\").mean()\n",
    "sc.to_netcdf(re.sub(\"spatial\", \"seasonal\", new_fnm))"
   ]
  },
  {
   "cell_type": "markdown",
   "metadata": {},
   "source": [
    "## DSR time series for climate explorer"
   ]
  },
  {
   "cell_type": "code",
   "execution_count": 30,
   "metadata": {},
   "outputs": [],
   "source": [
    "for fnm in sorted(glob.glob(\"data/cordex/fwi_*.nc\")):\n",
    "    \n",
    "    mdl = \"_\".join(re.sub(\"i1p1\",\"\",re.sub(\".nc\",\"\",fnm)).split(\"_\")[1:])\n",
    "    csv_fnm = \"pantanal-fires_dsr-june_\"+mdl\n",
    "        \n",
    "    csv_fullpath = \"ts_cordex/\"+csv_fnm+\".dat\"\n",
    "    if len(csv_fnm) > 61: print(\"! Filename too long: \", csv_fnm)\n",
    "\n",
    "    fwi = xr.open_dataset(fnm).fwi\n",
    "    dsr = (0.0272 * (fwi ** 1.77)).rename(\"dsr\")\n",
    "    rm = regionmask.mask_geopandas(sf, fwi.lon, fwi.lat)\n",
    "    ts = dsr.where(rm == 0).mean([d for d in dsr.dims if not d == \"time\"])\n",
    "    ts_jun = ts.resample(time = \"MS\").sum().groupby(\"time.month\")[6]\n",
    "    ts_jun = ts_jun.assign_coords(time = ts_jun.time.dt.year).rename(time = \"year\").to_dataframe()\n",
    "        \n",
    "    # create extra header lines for upload to Climate Explorer \n",
    "    str1 = \"# contact :: CORDEX \"+mdl+\" June DSR in the Brazilian Pantanal - Pantanal wildfires 2024, c.barnes22@imperial.ac.uk\"\n",
    "    str2 = \"# dsr [] June accumulated daily severity rating averaged over the Brazilian Pantanal at \"+csv_fnm+\".dat\"\n",
    "    head = \"# year dsr\"\n",
    "    \n",
    "    # make .dat file\n",
    "    ! echo \"$str1 \" > $csv_fullpath\n",
    "    ! echo \"$str2\" >> $csv_fullpath\n",
    "    ! echo \"$head\" >> $csv_fullpath\n",
    "    ts_jun.to_csv(csv_fullpath, sep = \" \", mode = \"a\", header = False)\n",
    "\n",
    "    clear_output(wait = False)"
   ]
  },
  {
   "cell_type": "markdown",
   "metadata": {},
   "source": [
    "## Precip time series for climate explorer"
   ]
  },
  {
   "cell_type": "code",
   "execution_count": 46,
   "metadata": {},
   "outputs": [],
   "source": [
    "for fnm in sorted(glob.glob(\"data/cordex/pr_*.nc\")):\n",
    "    \n",
    "    mdl = \"_\".join(re.sub(\"i1p1\",\"\",re.sub(\".nc\",\"\",fnm)).split(\"_\")[1:])\n",
    "    csv_fnm = \"pantanal-fires_pr-jj_\"+mdl\n",
    "        \n",
    "    csv_fullpath = \"ts_cordex/\"+csv_fnm+\".dat\"\n",
    "    if len(csv_fnm) > 61: print(\"! Filename too long: \", csv_fnm)\n",
    "\n",
    "    ts = xr.open_dataset(fnm).pr.resample(time = \"MS\").sum()\n",
    "    ts_jun = ts.resample(time= \"AS-JUL\").sum().where(ts.resample(time = \"AS-JUL\").count() == 12).dropna(\"time\", \"any\") # whole years only\n",
    "    ts_jun = ts_jun.assign_coords(time = ts_jun.time.dt.year).rename(time = \"year\").to_dataframe()\n",
    "    \n",
    "    csv_fnm = \"pantanal-fires_pr-jj_\"+mdl\n",
    "        \n",
    "    csv_fullpath = \"ts_cordex/\"+csv_fnm+\".dat\"\n",
    "    if len(csv_fnm) > 61: print(\"! Filename too long: \", csv_fnm)\n",
    "        \n",
    "    # create extra header lines for upload to Climate Explorer \n",
    "    str1 = \"# contact :: CORDEX \"+mdl+\" July-June precipitation in the Brazilian Pantanal - Pantanal wildfires 2024, c.barnes22@imperial.ac.uk\"\n",
    "    str2 = \"# pr [mm/year] July-June accumulated precipitation (labelled in June) averaged over the Brazilian Pantanal at \"+csv_fnm+\".dat\"\n",
    "    head = \"# year pr\"\n",
    "    \n",
    "    # make .dat file\n",
    "    ! echo \"$str1 \" > $csv_fullpath\n",
    "    ! echo \"$str2\" >> $csv_fullpath\n",
    "    ! echo \"$head\" >> $csv_fullpath\n",
    "    ts_jun.to_csv(csv_fullpath, sep = \" \", mode = \"a\", header = False)\n",
    "\n",
    "    clear_output(wait = False)"
   ]
  }
 ],
 "metadata": {
  "kernelspec": {
   "display_name": "wwa",
   "language": "python",
   "name": "wwa"
  },
  "language_info": {
   "codemirror_mode": {
    "name": "ipython",
    "version": 3
   },
   "file_extension": ".py",
   "mimetype": "text/x-python",
   "name": "python",
   "nbconvert_exporter": "python",
   "pygments_lexer": "ipython3",
   "version": "3.10.8"
  }
 },
 "nbformat": 4,
 "nbformat_minor": 2
}
