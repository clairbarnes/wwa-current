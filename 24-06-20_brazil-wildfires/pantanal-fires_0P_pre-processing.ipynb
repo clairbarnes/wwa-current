{
 "cells": [
  {
   "cell_type": "code",
   "execution_count": 2,
   "metadata": {},
   "outputs": [],
   "source": [
    "import sys; sys.path.append('..'); from wwa import *\n",
    "\n",
    "xn, xx, yn, yx = [-67,-47,-27,-7]\n",
    "mapproj = cartopy.crs.PlateCarree()"
   ]
  },
  {
   "cell_type": "markdown",
   "metadata": {},
   "source": [
    "# ERA5 FWI download via API"
   ]
  },
  {
   "cell_type": "code",
   "execution_count": null,
   "metadata": {},
   "outputs": [],
   "source": [
    "import cdsapi\n",
    "\n",
    "c = cdsapi.Client()\n",
    "\n",
    "for y in range(1950,2023):\n",
    "    \n",
    "    c.retrieve(\n",
    "        'cems-fire-historical-v1',\n",
    "        {\n",
    "            'product_type': 'reanalysis',\n",
    "            'variable': [\n",
    "                'build_up_index', 'drought_code', 'duff_moisture_code',\n",
    "                'fine_fuel_moisture_code', 'initial_fire_spread_index',\n",
    "                'keetch_byram_drought_index',\n",
    "            ],\n",
    "            'dataset_type': 'consolidated_dataset',\n",
    "            'system_version': '4_1',\n",
    "            'year': str(y),\n",
    "            'month': [\n",
    "                '01', '02', '03',\n",
    "                '04', '05', '06',\n",
    "                '07', '08', '09',\n",
    "                '10', '11', '12',\n",
    "            ],\n",
    "            'day': [\n",
    "                '01', '02', '03',\n",
    "                '04', '05', '06',\n",
    "                '07', '08', '09',\n",
    "                '10', '11', '12',\n",
    "                '13', '14', '15',\n",
    "                '16', '17', '18',\n",
    "                '19', '20', '21',\n",
    "                '22', '23', '24',\n",
    "                '25', '26', '27',\n",
    "                '28', '29', '30',\n",
    "                '31',\n",
    "            ],\n",
    "            'grid': '0.25/0.25',\n",
    "            'format': 'netcdf',\n",
    "            'area': [\n",
    "                -12, -62, -22,\n",
    "                -52,\n",
    "            ],\n",
    "        },\n",
    "        'data/era5-fire/fwi-subindices_'+str(y)+'.nc')"
   ]
  },
  {
   "cell_type": "markdown",
   "metadata": {},
   "source": [
    "# Get DSR"
   ]
  },
  {
   "cell_type": "code",
   "execution_count": 5,
   "metadata": {},
   "outputs": [],
   "source": [
    "# Compile FWI data into a single file\n",
    "fl = sorted(glob.glob(\"../../00_WWA_project_folder/live/data/era5_fire/*consolidated*.nc\"))\n",
    "\n",
    "fwi_cns = [wrap_lon(xr.open_dataset(fnm)).fwinx.sel(longitude = slice(xn, xx), latitude = slice(yn, yx)).reset_coords(drop = True) for fnm in fl]\n",
    "\n",
    "int_start = (fwi_cns[-1].time[-1]+1)\n",
    "\n",
    "fwi_int = wrap_lon(xr.open_dataset(\"../../00_WWA_project_folder/live/data/era5_fire/era5_025_fwi_intermediate.nc\"))\n",
    "fwi_int = fwi_int.fwinx.sel(longitude = slice(xn, xx), latitude = slice(yn, yx), time = slice(int_start, None)).reset_coords(drop = True)\n",
    "\n",
    "fwi = xr.concat(fwi_cns + [fwi_int], \"time\")\n",
    "fwi = fwi.assign_attrs(note = \"Intermediate data after \"+str(fwi_int.time.min().values)[:10])\n",
    "\n",
    "fwi.to_netcdf(\"data/era5_fwi_\"+\"_\".join([str(d) for d in [xn,xx,yn,yx]])+\".nc\")"
   ]
  },
  {
   "cell_type": "code",
   "execution_count": 10,
   "metadata": {},
   "outputs": [],
   "source": [
    "dsr = (0.0272 * (fwi ** 1.71)).rename(\"dsr\")"
   ]
  },
  {
   "cell_type": "code",
   "execution_count": 12,
   "metadata": {},
   "outputs": [],
   "source": [
    "dsr.to_netcdf(\"data/era5_dsr.nc\")"
   ]
  },
  {
   "cell_type": "code",
   "execution_count": null,
   "metadata": {},
   "outputs": [],
   "source": []
  }
 ],
 "metadata": {
  "kernelspec": {
   "display_name": "wwa",
   "language": "python",
   "name": "wwa"
  },
  "language_info": {
   "codemirror_mode": {
    "name": "ipython",
    "version": 3
   },
   "file_extension": ".py",
   "mimetype": "text/x-python",
   "name": "python",
   "nbconvert_exporter": "python",
   "pygments_lexer": "ipython3",
   "version": "3.10.8"
  }
 },
 "nbformat": 4,
 "nbformat_minor": 2
}
