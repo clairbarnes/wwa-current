{
 "cells": [
  {
   "cell_type": "code",
   "execution_count": 2,
   "id": "33ddb602",
   "metadata": {},
   "outputs": [
    {
     "name": "stderr",
     "output_type": "stream",
     "text": [
      "ERROR 1: PROJ: proj_create_from_database: Open of /rds/general/user/cb2714/home/miniforge3/envs/wwa/share/proj failed\n"
     ]
    }
   ],
   "source": [
    "import xarray as xr, geopandas as gpd, matplotlib.pyplot as plt, regionmask, pandas as pd, numpy as np\n",
    "import glob, re, os\n",
    "from functools import reduce\n",
    "\n",
    "from xclim.indices import uas_vas_to_sfcwind, cffwis_indices\n",
    "from xclim.core.units import convert_units_to\n",
    "from xclim.indicators.atmos import relative_humidity_from_dewpoint, vapor_pressure_deficit\n",
    "\n",
    "import warnings; warnings.filterwarnings(\"ignore\", category = FutureWarning)\n",
    "\n",
    "fpath = \"/rds/general/user/cb2714/home/00_WWA_project_folder/ephemeral/IB_fire\""
   ]
  },
  {
   "cell_type": "markdown",
   "id": "148265ac",
   "metadata": {},
   "source": [
    "# Download from ClimExp"
   ]
  },
  {
   "cell_type": "code",
   "execution_count": 55,
   "id": "5956833e-ac96-4ece-b1bb-2fad2d99f605",
   "metadata": {},
   "outputs": [
    {
     "name": "stdout",
     "output_type": "stream",
     "text": [
      "--2025-08-27 17:34:23--  https://climexp.knmi.nl/data/era5_t2m_daily_eu_extended_-10-3.5E_36-44N_-999-lastyear_su.nc\n",
      "Resolving climexp.knmi.nl (climexp.knmi.nl)... 2a0c:5bc0:4c:ff::9126:ce95, 145.38.206.149\n",
      "Connecting to climexp.knmi.nl (climexp.knmi.nl)|2a0c:5bc0:4c:ff::9126:ce95|:443... connected.\n",
      "HTTP request sent, awaiting response... 200 OK\n",
      "Length: 149473219 (143M) [application/x-netcdf]\n",
      "Saving to: ‘/rds/general/user/cb2714/home/00_WWA_project_folder/ephemeral/IB_fire/t2m_era5_1950-2025.nc’\n",
      "\n",
      "/rds/general/user/c 100%[===================>] 142.55M   269MB/s    in 0.5s    \n",
      "\n",
      "2025-08-27 17:34:23 (269 MB/s) - ‘/rds/general/user/cb2714/home/00_WWA_project_folder/ephemeral/IB_fire/t2m_era5_1950-2025.nc’ saved [149473219/149473219]\n",
      "\n"
     ]
    }
   ],
   "source": [
    "# ! wget https://climexp.knmi.nl/data/era5_tmax_daily_eu_extended_-10-3.5E_36-44N_firstyear-lastyear_su.nc -O $fpath/tmax_era5_1950-2025.nc\n",
    "# ! wget https://climexp.knmi.nl/data/era5_tp_daily_eu_extended_-10-3.5E_36-44N_-999-lastyear_su.nc -O $fpath/tp_era5_1950-2025.nc\n",
    "# ! wget https://climexp.knmi.nl/data/era5_t2m_daily_eu_extended_-10-3.5E_36-44N_-999-lastyear_su.nc -O $fpath/t2m_era5_1950-2025.nc"
   ]
  },
  {
   "cell_type": "markdown",
   "id": "0d33f18e",
   "metadata": {},
   "source": [
    "# Tidy up Copernicus data"
   ]
  },
  {
   "cell_type": "code",
   "execution_count": null,
   "id": "984fd456",
   "metadata": {},
   "outputs": [],
   "source": [
    "! wget https://object-store.os-api.cci2.ecmwf.int/cci2-prod-cache-3/2025-08-27/83413fca775c34d235d491904d3ef952.nc -O $fpath/chunks/dasmax_era5_2025.nc"
   ]
  },
  {
   "cell_type": "code",
   "execution_count": 45,
   "id": "fd3a5813",
   "metadata": {},
   "outputs": [
    {
     "name": "stdout",
     "output_type": "stream",
     "text": [
      "--2025-08-27 10:46:22--  https://object-store.os-api.cci2.ecmwf.int/cci2-prod-cache-3/2025-08-27/d440ba68983c62ac19d3f8a85885aa18.grib\n",
      "Resolving object-store.os-api.cci2.ecmwf.int (object-store.os-api.cci2.ecmwf.int)... 2a0c:5bc0:4c:ff::889c:8803, 136.156.136.3\n",
      "connected. to object-store.os-api.cci2.ecmwf.int (object-store.os-api.cci2.ecmwf.int)|2a0c:5bc0:4c:ff::889c:8803|:443... \n",
      "HTTP request sent, awaiting response... 200 OK\n",
      "Length: 41880552 (40M) [application/x-grib]\n",
      "Saving to: ‘/rds/general/user/cb2714/home/00_WWA_project_folder/ephemeral/IB_fire/chunks/uv10-hourly_era5_2025.grib’\n",
      "\n",
      "/rds/general/user/c 100%[===================>]  39.94M  12.8MB/s    in 3.1s    \n",
      "\n",
      "2025-08-27 10:46:25 (12.8 MB/s) - ‘/rds/general/user/cb2714/home/00_WWA_project_folder/ephemeral/IB_fire/chunks/uv10-hourly_era5_2025.grib’ saved [41880552/41880552]\n",
      "\n"
     ]
    }
   ],
   "source": [
    "! wget https://object-store.os-api.cci2.ecmwf.int/cci2-prod-cache-3/2025-08-27/d440ba68983c62ac19d3f8a85885aa18.grib -O $fpath/chunks/uv10-hourly_era5_2025.grib"
   ]
  },
  {
   "cell_type": "code",
   "execution_count": null,
   "id": "db45688a",
   "metadata": {},
   "outputs": [],
   "source": [
    "uv = xr.open_dataset(\"data/6508f23967e7b0f498cae88fef1bd95e.nc\").reset_coords(drop = True)\n",
    "sfcWind, windDir = uas_vas_to_sfcwind(uas = uv.u10, vas = uv.v10)\n",
    "sfcWindmax = sfcWind.resample(valid_time = \"D\").max().rename(\"sfcWindmax\")\n",
    "sfcWindmax.rename(valid_time = \"time\", latitude = \"lat\", longitude = \"lon\").to_netcdf(\"data/sfcWindmax_era5_250601-250817.nc\")"
   ]
  },
  {
   "cell_type": "code",
   "execution_count": null,
   "id": "7fe22aba",
   "metadata": {},
   "outputs": [],
   "source": [
    "tp = xr.open_dataset(\"data/b407000e7807cf903ff96738f2eb2721.nc\").reset_coords(drop = True)\n",
    "tp.rename(valid_time = \"time\", latitude = \"lat\", longitude = \"lon\").to_netcdf(\"data/tpmax_era5_250601-250816.nc\")"
   ]
  },
  {
   "cell_type": "code",
   "execution_count": 27,
   "id": "5544d9fc",
   "metadata": {},
   "outputs": [],
   "source": [
    "d2m = xr.open_dataset(\"data/cf84353383fdc2250bf2f1bb95c2b43a.nc\").reset_coords(drop = True).d2m\n",
    "d2m.rename(\"dasmax\", valid_time = \"time\", latitude = \"lat\", longitude = \"lon\").to_netcdf(\"data/dasmax_era5_250601-250816.nc\")"
   ]
  },
  {
   "cell_type": "code",
   "execution_count": 28,
   "id": "40ddaf34",
   "metadata": {},
   "outputs": [],
   "source": [
    "t2m = xr.open_dataset(\"data/f85b73816f3d6f07b998348c1400a6c2.nc\").reset_coords(drop = True).t2m\n",
    "t2m.rename(valid_time = \"time\", latitude = \"lat\", longitude = \"lon\").to_netcdf(\"data/tasmax_era5_250601-250816.nc\")"
   ]
  },
  {
   "cell_type": "code",
   "execution_count": 31,
   "id": "5f1a9202",
   "metadata": {},
   "outputs": [],
   "source": [
    "tp = xr.open_dataset(\"data/6a64c0acad88587385f51c960bc85dda.nc\").reset_coords(drop = True).tp\n",
    "tp.rename(valid_time = \"time\", latitude = \"lat\", longitude = \"lon\").to_netcdf(\"data/tpsum_era5_250601-250817.nc\")"
   ]
  },
  {
   "cell_type": "code",
   "execution_count": 34,
   "id": "7f95bf24",
   "metadata": {},
   "outputs": [],
   "source": [
    "tp = xr.open_dataset(\"data/678f9da359be0d1bfddd82c034942b9d.nc\").reset_coords(drop = True).tp\n",
    "tp.rename(valid_time = \"time\", latitude = \"lat\", longitude = \"lon\").to_netcdf(\"data/tphourlysum_era5_250601-250818.nc\")"
   ]
  },
  {
   "cell_type": "markdown",
   "id": "006f7886",
   "metadata": {},
   "source": [
    "# Compile all data"
   ]
  },
  {
   "cell_type": "markdown",
   "id": "a8e9c2d8",
   "metadata": {},
   "source": [
    "## dasmax"
   ]
  },
  {
   "cell_type": "code",
   "execution_count": null,
   "id": "5ecb2256",
   "metadata": {},
   "outputs": [],
   "source": [
    "da_dkrz = xr.open_dataset(fpath+\"/chunks/dasmax_era5_1950-2024.grb\").d2m.reset_coords(drop = True)\n",
    "\n",
    "da_2025 = xr.open_dataset(fpath+\"/chunks/dasmax_era5_2025.nc\").d2m.reset_coords(drop = True).rename(valid_time = \"time\")\n",
    "\n",
    "da = xr.concat([convert_units_to(da, \"degC\") for da in [da_dkrz, da_2025]], \"time\").rename(\"dasmax\", latitude = \"lat\", longitude = \"lon\")\n",
    "da = da.assign_coords(time = da.time.dt.floor(\"D\"))\n",
    "da.to_netcdf(fpath+\"/dasmax_era5_1950-2025.nc\")"
   ]
  },
  {
   "cell_type": "markdown",
   "id": "8fc93fde",
   "metadata": {},
   "source": [
    "## sfcWindmax"
   ]
  },
  {
   "cell_type": "code",
   "execution_count": 2,
   "id": "c92a7687",
   "metadata": {},
   "outputs": [],
   "source": [
    "uv_2025 = xr.open_dataset(fpath+\"/chunks/uv10-hourly_era5_2025.grib\")\n",
    "wspd, wdir = uas_vas_to_sfcwind(uas = uv_2025.u10, vas = uv_2025.v10)\n",
    "da_2025 = wspd.resample(time = \"D\").max().reset_coords(drop = True).rename(\"sfcWindmax\", latitude = \"lat\", longitude = \"lon\")\n",
    "\n",
    "da_2025.to_netcdf(fpath+\"/chunks/sfcWindmax_era5_2025.nc\")"
   ]
  },
  {
   "cell_type": "code",
   "execution_count": null,
   "id": "264d33d9",
   "metadata": {},
   "outputs": [],
   "source": [
    "da_dkrz = xr.open_dataset(fpath+\"/chunks/sfcWindmax_era5_1950-2024.grb\").sfcWindmax.rename(latitude = \"lat\", longitude = \"lon\")\n",
    "da_2025 = xr.open_dataset(fpath+\"/chunks/sfcWindmax_era5_2025.nc\").sfcWindmax\n",
    "\n",
    "da = xr.concat([da_dkrz, da_2025], \"time\")\n",
    "da.to_netcdf(fpath+\"/sfcWindmax_era5_1950-2025.nc\")"
   ]
  },
  {
   "cell_type": "markdown",
   "id": "675383f6",
   "metadata": {},
   "source": [
    "## tasmax"
   ]
  },
  {
   "cell_type": "code",
   "execution_count": 71,
   "id": "ea0b9948",
   "metadata": {},
   "outputs": [],
   "source": [
    "tasmax = xr.open_dataset(fpath+\"/chunks/tasmax_era5_1950-2024.grb\").mx2t\n",
    "tasmax = convert_units_to(tasmax, \"degC\").rename(\"tmax\").reset_coords(drop = True)\n",
    "tasmax = tasmax.assign_coords(time = tasmax.time.dt.floor(\"D\"))\n",
    "tasmax.to_netcdf(fpath+\"/tmax_era5-regridded_1950-2024.nc\")"
   ]
  },
  {
   "cell_type": "markdown",
   "id": "0231223c",
   "metadata": {},
   "source": [
    "## tp"
   ]
  },
  {
   "cell_type": "code",
   "execution_count": null,
   "id": "24193e40",
   "metadata": {},
   "outputs": [],
   "source": [
    "tp = xr.open_dataset(fpath+\"/chunks/tp_era5_1950-2024.grb\").tp\n",
    "tp = convert_units_to(tp, \"mm\").rename(\"tp\").reset_coords(drop = True)\n",
    "tp = tp.assign_coords(time = tp.time.dt.floor(\"D\"))\n",
    "tp.to_netcdf(fpath+\"/tp_era5-regridded_1950-2024.nc\")"
   ]
  },
  {
   "cell_type": "markdown",
   "id": "cfdc1c4f",
   "metadata": {},
   "source": [
    "# Derived variables\n",
    "_NB. run on old cluster, new cluster keeps falling over_"
   ]
  },
  {
   "cell_type": "markdown",
   "id": "8c3ef2ae",
   "metadata": {},
   "source": [
    "## Hursmin"
   ]
  },
  {
   "cell_type": "code",
   "execution_count": 4,
   "id": "354f48a1",
   "metadata": {},
   "outputs": [],
   "source": [
    "ds_hurs = xr.merge([xr.open_dataset(fpath+\"/\"+varnm+\"_era5_1950-2025.nc\").sel(time = slice(None, \"2025-08-21\")) for varnm in [\"dasmax\", \"tmax\"]])"
   ]
  },
  {
   "cell_type": "code",
   "execution_count": null,
   "id": "368a6f7a-aa3a-429f-93df-f1a99b34ce79",
   "metadata": {},
   "outputs": [],
   "source": [
    "hursmin = relative_humidity_from_dewpoint(tas = ds.tmax, tdps = ds.dasmax)\n",
    "hursmin.rename(\"hursmin\").to_netcdf(fpath+\"/hursmin_era5_1950-2025.nc\")"
   ]
  },
  {
   "cell_type": "code",
   "execution_count": null,
   "id": "1eaf96f6-8d2b-4f18-9c79-72d375e62698",
   "metadata": {},
   "outputs": [
    {
     "name": "stderr",
     "output_type": "stream",
     "text": [
      "/rds/general/user/cb2714/home/miniforge3/envs/wwa/lib/python3.13/site-packages/xclim/core/cfchecks.py:79: UserWarning: Variable does not have a `standard_name` attribute.\n",
      "  check_valid(vardata, \"standard_name\", data[\"standard_name\"])\n",
      "/rds/general/user/cb2714/home/miniforge3/envs/wwa/lib/python3.13/site-packages/xclim/core/cfchecks.py:79: UserWarning: Variable has a non-conforming standard_name: Got `unknown`, expected `['dew_point_temperature']`\n",
      "  check_valid(vardata, \"standard_name\", data[\"standard_name\"])\n"
     ]
    }
   ],
   "source": []
  },
  {
   "cell_type": "markdown",
   "id": "51830754",
   "metadata": {},
   "source": [
    "## FWI"
   ]
  },
  {
   "cell_type": "code",
   "execution_count": 5,
   "id": "1ffc73e6",
   "metadata": {},
   "outputs": [],
   "source": [
    "ds_fwi = xr.merge([xr.open_dataset(fpath+\"/\"+varnm+\"_era5_1950-2025.nc\").sel(time = slice(None, \"2025-08-21\")) for varnm in [\"tmax\",\"sfcWindmax\",\"tp\",\"hursmin\"]])"
   ]
  },
  {
   "cell_type": "code",
   "execution_count": 9,
   "id": "471da054",
   "metadata": {},
   "outputs": [
    {
     "name": "stderr",
     "output_type": "stream",
     "text": [
      "/rds/general/user/cb2714/home/miniforge3/envs/wwa/lib/python3.13/site-packages/numba/np/ufunc/dufunc.py:288: RuntimeWarning: invalid value encountered in _duff_moisture_code\n",
      "  return super().__call__(*args, **kws)\n",
      "/rds/general/user/cb2714/home/miniforge3/envs/wwa/lib/python3.13/site-packages/numba/np/ufunc/dufunc.py:288: RuntimeWarning: invalid value encountered in _duff_moisture_code\n",
      "  return super().__call__(*args, **kws)\n",
      "/rds/general/user/cb2714/home/miniforge3/envs/wwa/lib/python3.13/site-packages/xclim/indices/fire/_cffwis.py:475: RuntimeWarning: invalid value encountered in divide\n",
      "  (0.8 * dc * dmc) / (dmc + 0.4 * dc),  # *Eq.27a*#\n",
      "/rds/general/user/cb2714/home/miniforge3/envs/wwa/lib/python3.13/site-packages/xclim/indices/fire/_cffwis.py:476: RuntimeWarning: invalid value encountered in divide\n",
      "  dmc - (1.0 - 0.8 * dc / (dmc + 0.4 * dc)) * (0.92 + (0.0114 * dmc) ** 1.7),\n"
     ]
    }
   ],
   "source": [
    "fwi_out = cffwis_indices(tas = ds_fwi.tmax, pr = ds_fwi.tp, sfcWind = ds_fwi.sfcWindmax, hurs = ds_fwi.hursmin, lat = ds_fwi.lat)"
   ]
  },
  {
   "cell_type": "code",
   "execution_count": 16,
   "id": "fd21ba0a",
   "metadata": {},
   "outputs": [],
   "source": [
    "fwi_vars = [\"dc\", \"dmc\", \"ffmc\", \"isi\", \"bui\", \"fwi\"]\n",
    "\n",
    "for i in range(6):\n",
    "    fwi_out[i].rename(fwi_vars[i]).to_netcdf(fpath+\"/\"+fwi_vars[i]+\"_era5_1950-2025.nc\")"
   ]
  },
  {
   "cell_type": "code",
   "execution_count": 26,
   "id": "e33306a2",
   "metadata": {},
   "outputs": [],
   "source": [
    "dsr = (0.0272 * (fwi_out[-1] ** 1.77)).rename(\"dsr\")"
   ]
  },
  {
   "cell_type": "code",
   "execution_count": 28,
   "id": "d8f6332b",
   "metadata": {},
   "outputs": [],
   "source": [
    "dsr.to_netcdf(fpath+\"/dsr_era5_1950-2025.nc\")"
   ]
  },
  {
   "cell_type": "markdown",
   "id": "9d2f9f53",
   "metadata": {},
   "source": [
    "## VPD & HDWI"
   ]
  },
  {
   "cell_type": "code",
   "execution_count": 25,
   "id": "62dffff1",
   "metadata": {},
   "outputs": [],
   "source": [
    "vpd = vapor_pressure_deficit(tas = ds_fwi.tmax, hurs = ds_fwi.hursmin)\n",
    "vpd.rename(\"vpd\").to_netcdf(fpath+\"/vpd_era5_1950-2025.nc\")"
   ]
  },
  {
   "cell_type": "code",
   "execution_count": 30,
   "id": "0b2c6088",
   "metadata": {},
   "outputs": [],
   "source": [
    "hdwi = vpd * ds_fwi.sfcWindmax"
   ]
  },
  {
   "cell_type": "code",
   "execution_count": 33,
   "id": "1a5e8627",
   "metadata": {},
   "outputs": [],
   "source": [
    "hdwi.rename(\"hdwi\").to_netcdf(fpath+\"/hdwi_era5_1950-2025.nc\")"
   ]
  },
  {
   "cell_type": "markdown",
   "id": "8832b048-b213-4dba-89b6-2df995605722",
   "metadata": {},
   "source": [
    "# Shapefile"
   ]
  },
  {
   "cell_type": "code",
   "execution_count": 16,
   "id": "6349d4ba-6758-424b-9543-552f5dcca1e4",
   "metadata": {},
   "outputs": [],
   "source": [
    "from shapely.geometry import Point, Polygon\n",
    "\n",
    "xn,xx,yn,yx = [-10,-4,40,44]\n",
    "\n",
    "kg = xr.open_dataset(\"/rds/general/user/cb2714/home/00_WWA_project_folder/live/data/koppen-geiger/kg_classifications.nc\").kg_cat.sel(lon = slice(xn,xx), lat = slice(yn,yx))\n",
    "\n",
    "sf_adm1 = gpd.read_file(fpath+\"/sf_adm1\").clip((-12,5,34,44))"
   ]
  },
  {
   "cell_type": "code",
   "execution_count": 19,
   "id": "90b00c53-6086-4c74-8daf-4ca11de09a40",
   "metadata": {},
   "outputs": [],
   "source": [
    "iberia = regionmask.defined_regions.natural_earth_v5_1_2.countries_50.to_geodataframe().set_index(\"abbrevs\").loc[[\"P\",\"E\"]].dissolve().explode(index_parts = False)\n",
    "iberia = iberia.loc[iberia.geometry.area == iberia.geometry.area.max()]\n",
    "iberia.set_crs(\"epsg:4326\").to_file(fpath+\"/sf_iberia\")\n",
    "\n",
    "sf_outer = iberia.clip((xn,yn,xx,yx))\n",
    "sf_inner = gpd.GeoDataFrame({'geometry': gpd.GeoSeries([Polygon([(-6,39), (-3,39), (-3,42.5), (-6,42.5)])]), 'df':[1]})"
   ]
  },
  {
   "cell_type": "code",
   "execution_count": 64,
   "id": "d2b04e94-3a03-46d5-9c75-8c986e20cd4e",
   "metadata": {},
   "outputs": [
    {
     "data": {
      "text/plain": [
       "<Axes: >"
      ]
     },
     "execution_count": 64,
     "metadata": {},
     "output_type": "execute_result"
    },
    {
     "data": {
      "image/png": "[encoded data removed]",
      "text/plain": [
       "<Figure size 640x480 with 1 Axes>"
      ]
     },
     "metadata": {},
     "output_type": "display_data"
    }
   ],
   "source": [
    "iberia.plot()\n",
    "sf_outer.boundary.plot(ax = plt.gca(), color = \"k\")\n",
    "sf_inner.boundary.plot(ax = plt.gca(), color = \"red\")"
   ]
  },
  {
   "cell_type": "code",
   "execution_count": 66,
   "id": "f52485a6-a967-44b5-9f58-19efc42d1117",
   "metadata": {},
   "outputs": [],
   "source": [
    "sf_l = sf_outer.overlay(sf_inner, how='difference')"
   ]
  },
  {
   "cell_type": "code",
   "execution_count": 70,
   "id": "a2d23fff-f4a6-4296-93b2-bb6e751fd3ec",
   "metadata": {},
   "outputs": [],
   "source": [
    "sf_l.set_crs(\"epsg:4326\").to_file(fpath+\"/sf_nw-iberia\")"
   ]
  },
  {
   "cell_type": "code",
   "execution_count": 71,
   "id": "8d40a13d-86e5-478d-beff-c0e16132d668",
   "metadata": {},
   "outputs": [
    {
     "data": {
      "text/plain": [
       "<Axes: xlabel='lon', ylabel='lat'>"
      ]
     },
     "execution_count": 71,
     "metadata": {},
     "output_type": "execute_result"
    },
    {
     "data": {
      "image/png": "[encoded data removed]",
      "text/plain": [
       "<Figure size 640x480 with 2 Axes>"
      ]
     },
     "metadata": {},
     "output_type": "display_data"
    }
   ],
   "source": [
    "kg.plot()\n",
    "sf_l.boundary.plot(ax = plt.gca(), color = \"darkred\")"
   ]
  },
  {
   "cell_type": "code",
   "execution_count": null,
   "id": "8d9910d0-ecf6-4e12-829b-4f70810fc5af",
   "metadata": {},
   "outputs": [],
   "source": [
    "box_outer = gpd.GeoDataFrame({'geometry': gpd.GeoSeries([Polygon([(-10,40), (-4,40), (-4,44), (-10,44)])]), 'df':[1]})\n",
    "sf_inner = gpd.GeoDataFrame({'geometry': gpd.GeoSeries([Polygon([(-6,39), (-3,39), (-3,42.5), (-6,42.5)])]), 'df':[1]})\n",
    "\n",
    "sf_box = box_outer.overlay(sf_inner, how='difference')\n",
    "sf_box.set_crs(\"epsg:4326\").to_file(fpath+\"/sf_box/\")"
   ]
  },
  {
   "cell_type": "code",
   "execution_count": 74,
   "id": "a6613700-3623-4f59-b9c0-15a427123d69",
   "metadata": {},
   "outputs": [
    {
     "data": {
      "text/plain": [
       "<Axes: xlabel='lon', ylabel='lat'>"
      ]
     },
     "execution_count": 74,
     "metadata": {},
     "output_type": "execute_result"
    },
    {
     "data": {
      "image/png": "[encoded data removed]",
      "text/plain": [
       "<Figure size 640x480 with 2 Axes>"
      ]
     },
     "metadata": {},
     "output_type": "display_data"
    }
   ],
   "source": [
    "kg.plot()\n",
    "sf_box.boundary.plot(ax = plt.gca(), color = \"darkred\")"
   ]
  },
  {
   "cell_type": "code",
   "execution_count": null,
   "id": "3f831b4e-48ff-468c-8103-8891f9103e21",
   "metadata": {},
   "outputs": [],
   "source": [
    "sf1 = gpd.read_file(fpath+\"/sf_box\")"
   ]
  },
  {
   "cell_type": "markdown",
   "id": "09d992a6-f7a4-4652-9739-c3fb9886a325",
   "metadata": {},
   "source": [
    "## netcdf mask using ERA5 lsm"
   ]
  },
  {
   "cell_type": "code",
   "execution_count": null,
   "id": "058d242f-3de1-49cd-81fa-eece7100c8d8",
   "metadata": {},
   "outputs": [],
   "source": [
    "# ! wget https://climexp.knmi.nl/ERA5/era5_000000_lsm_eu.nc -O data/era5-lsm.nc\n",
    "\n",
    "# create a land-sea mask using ERA5 LSM and box\n",
    "lsm = xr.open_dataset(\"data/era5-lsm.nc\").squeeze(drop = True).lsm.rename(latitude = \"lat\", longitude = \"lon\")\n",
    "sf_box = gpd.read_file(fpath+\"/sf_box\")\n",
    "\n",
    "rm = xr.ones_like(lsm).where(lsm >= 0.5, drop = True)\n",
    "rm = rm.where(regionmask.mask_geopandas(sf_box, rm) == 0, drop = True)\n",
    "\n",
    "rm.to_netcdf(fpath+\"/regionmask.nc\")"
   ]
  },
  {
   "cell_type": "markdown",
   "id": "29788016-4fec-4ff3-8f66-baa75b759454",
   "metadata": {},
   "source": [
    "# Daily time series"
   ]
  },
  {
   "cell_type": "code",
   "execution_count": 6,
   "id": "846e82e3-d4e3-4bec-965c-8256e8a62aa5",
   "metadata": {},
   "outputs": [],
   "source": [
    "rm = xr.open_dataset(fpath+\"/regionmask.nc\").lsm\n",
    "\n",
    "for fnm in sorted(glob.glob(fpath+\"/*_era5_1950-2025.nc\")):\n",
    "    new_fnm = fpath+\"/ts-daily/ts-\"+fnm.split(\"/\")[-1]\n",
    "    if os.path.exists(new_fnm): continue\n",
    "        \n",
    "    da = xr.open_dataset(fnm).where(rm == 1, drop = True)\n",
    "    ts = da.mean([\"lat\", \"lon\"])\n",
    "    ts.to_netcdf(fpath+\"/ts-daily/ts-\"+fnm.split(\"/\")[-1])"
   ]
  },
  {
   "cell_type": "code",
   "execution_count": null,
   "id": "25c41bfb-7b3d-469c-a418-2bd56225f256",
   "metadata": {},
   "outputs": [],
   "source": [
    "# compile into dataframe for easier reference\n",
    "df = reduce(lambda left, right: pd.merge(left, right, left_index = True, right_index = True, how = 'outer'), \n",
    "            [xr.open_dataset(fnm).to_dataframe() for fnm in sorted(glob.glob(fpath+\"/ts-daily/*.nc\"))]).dropna(axis = 0, how = \"any\")\n",
    "\n",
    "df = df.rename(columns = {\"__xarray_dataarray_variable___x\" : \"hursmin\", \"__xarray_dataarray_variable___y\" : \"vpd\"})\n",
    "\n",
    "df.to_csv(fpath+\"/ts-daily_era5_allvars.csv\")"
   ]
  },
  {
   "cell_type": "code",
   "execution_count": null,
   "id": "c91d3f24-befe-4f44-9fcd-be90bffc458b",
   "metadata": {},
   "outputs": [],
   "source": [
    "tmax = xr.open_dataset(fpath+\"/tmax_era5_1950-2025.nc\").tmax\n",
    "\n",
    "spain = regionmask.defined_regions.natural_earth_v5_1_2.countries_50.to_geodataframe().set_index(\"abbrevs\").loc[[\"E\"]].dissolve().explode(index_parts = False)\n",
    "spain = spain.loc[spain.geometry.area == spain.geometry.area.max()]\n",
    "rm = regionmask.mask_geopandas(spain, tmax)\n",
    "tmax = tmax.where(rm == 0, drop = True).mean([\"lat\", \"lon\"])\n",
    "\n",
    "tx10x = tmax.rolling(time = 10).mean().resample(time = \"YS\").max()\n",
    "tx10x.assign_coords(time = tx10x.time.dt.year).rename(time = \"year\").to_dataframe().to_csv(\"ts/tx10x-spain.csv\")"
   ]
  },
  {
   "cell_type": "markdown",
   "id": "f0d2e15c-e302-4d3e-b32d-d81208381634",
   "metadata": {},
   "source": [
    "## Annual time series"
   ]
  },
  {
   "cell_type": "code",
   "execution_count": null,
   "id": "041b5746-64d8-4fd2-aab0-029240bdd9c3",
   "metadata": {},
   "outputs": [],
   "source": [
    "da = xr.open_dataset(\"data/tp-jja_era5_1950-2025.nc\").tp\n",
    "\n",
    "rm = xr.open_dataset(fpath+\"/regionmask.nc\").lsm\n",
    "\n",
    "tp_jja = da.where(rm == 1).mean([\"lat\", \"lon\"])\n",
    "tp_jja.to_dataframe().to_csv(\"data/ts_tp-jja_era5_1950-2025.csv\")"
   ]
  },
  {
   "cell_type": "code",
   "execution_count": null,
   "id": "6c7b9fd7-7f7f-4eaa-b541-5be28901364d",
   "metadata": {},
   "outputs": [],
   "source": [
    "da = xr.open_dataset(\"data/t2m-jja_era5_1950-2025.nc\").t2m\n",
    "\n",
    "rm = xr.open_dataset(fpath+\"/regionmask.nc\").lsm\n",
    "\n",
    "tp_jja = da.where(rm == 1).mean([\"lat\", \"lon\"])\n",
    "tp_jja.to_dataframe().to_csv(\"data/ts_t2m-jja_era5_1950-2025.csv\")"
   ]
  },
  {
   "cell_type": "code",
   "execution_count": null,
   "id": "cd81a603-434e-481a-86c1-164ab5abde56",
   "metadata": {},
   "outputs": [],
   "source": [
    "dsr = xr.open_dataset(fpath+\"/ts-daily/ts-dsr_era5_1950-2025.nc\")\n",
    "dsrNx = dsr.rolling(time = 16).mean().resample(time = \"AS\").max()\n",
    "dsrNx.assign_coords(time = dsrNx.time.dt.year).rename(time = \"year\").to_dataframe().to_csv(\"ts/dsr16x.csv\")"
   ]
  },
  {
   "cell_type": "markdown",
   "id": "90bc7fc5-d0f2-4832-9d64-69e7a69f6f31",
   "metadata": {},
   "source": [
    "# Prep data for pointwise trend analysis"
   ]
  },
  {
   "cell_type": "markdown",
   "id": "962a021b-7fc1-4809-989b-294a7b30f65f",
   "metadata": {},
   "source": [
    "## Compute annual indices"
   ]
  },
  {
   "cell_type": "code",
   "execution_count": 60,
   "id": "37d800b7-8918-4301-bbc1-97a284472c95",
   "metadata": {},
   "outputs": [],
   "source": [
    "for varnm in [\"tp\", \"tmax\", \"dsr\", \"t2m\"]:\n",
    "    da = xr.open_dataset(fpath+\"/\"+varnm+\"_era5_1950-2025.nc\")[varnm]\n",
    "    da_jja = da.groupby(\"time.season\")[\"JJA\"].resample(time = \"AS\").mean()\n",
    "    da_jja = da_jja.assign_coords(time = da_jja.time.dt.year).rename(time = \"year\")\n",
    "    da_jja.to_netcdf(\"data/\"+varnm+\"-jja_era5_1950-2025.nc\")"
   ]
  },
  {
   "cell_type": "code",
   "execution_count": 2,
   "id": "6fe14677-7588-4d9f-8ff3-453ad2b8771a",
   "metadata": {},
   "outputs": [],
   "source": [
    "varnm = \"dsr\"\n",
    "ndays = 10\n",
    "da = xr.open_dataset(fpath+\"/\"+varnm+\"_era5_1950-2025.nc\")[varnm]\n",
    "da_nday = da.rolling(time = ndays).mean().resample(time = \"AS\").max().rename(varnm+str(ndays)+\"x\")\n",
    "da_nday = da_nday.assign_coords(time = da_nday.time.dt.year).rename(time = \"year\")\n",
    "da_nday.to_netcdf(\"data/\"+varnm+str(ndays)+\"x_era5_1950-2025.nc\")"
   ]
  },
  {
   "cell_type": "markdown",
   "id": "c63d1204-9a67-48a9-af3f-bd9bda8a00f8",
   "metadata": {},
   "source": [
    "## Flatten data for full pointwise analysis"
   ]
  },
  {
   "cell_type": "code",
   "execution_count": 3,
   "id": "b185ec26-4f83-42b7-adff-128e3e2ac67f",
   "metadata": {},
   "outputs": [],
   "source": [
    "for varnm in [\"t2m-jja\", \"tmax-jja\", \"tp-jja\", \"dsr5x\", \"dsr10x\"][-1:]:\n",
    "\n",
    "    # load pre-computed index\n",
    "    da = xr.open_dataset(\"data/\"+varnm+\"_era5_1950-2025.nc\")[varnm.split(\"-\")[0]]\n",
    "    rm = regionmask.defined_regions.natural_earth_v5_1_2.land_50.mask(da)\n",
    "    da = da.where(rm == 0)\n",
    "\n",
    "    # save the map for easier reconstruction later\n",
    "    da.mean(\"year\").to_netcdf(\"pointwise/map-tmplt_\"+varnm+\"_era5.nc\")\n",
    "\n",
    "    # flatten & convert to data.frame\n",
    "    df = da.stack(xy = [\"lat\", \"lon\"]).dropna(dim = \"xy\", how = \"all\").to_pandas()\n",
    "\n",
    "    df.to_csv(\"pointwise/\"+varnm+\"-flattened_era5.csv\")"
   ]
  },
  {
   "cell_type": "code",
   "execution_count": null,
   "id": "07cf587b-cc1d-405a-9630-8f4ad5f38cd6",
   "metadata": {},
   "outputs": [],
   "source": [
    "varnm = \"tp-jja\"\n",
    "da = xr.open_dataset(\"data/\"+varnm+\"_era5_1950-2025.nc\")[varnm.split(\"-\")[0]]\n",
    "da = np.log(da); varnm = \"logtp-jja\"\n",
    "\n",
    "rm = regionmask.defined_regions.natural_earth_v5_1_2.land_50.mask(da)\n",
    "da = da.where(rm == 0)\n",
    "\n",
    "# save the map for easier reconstruction later\n",
    "da.mean(\"year\").to_netcdf(\"pointwise/map-tmplt_\"+varnm+\"_era5.nc\")\n",
    "\n",
    "# flatten & convert to data.frame\n",
    "df = da.stack(xy = [\"lat\", \"lon\"]).dropna(dim = \"xy\", how = \"all\").to_pandas()\n",
    "\n",
    "df.to_csv(\"pointwise/\"+varnm+\"-flattened_era5.csv\")"
   ]
  },
  {
   "cell_type": "markdown",
   "id": "47c63efe-cf2c-4cac-875f-b5e149b44440",
   "metadata": {},
   "source": [
    "# tx10x for whole of Spain & Portugal"
   ]
  },
  {
   "cell_type": "code",
   "execution_count": 40,
   "id": "8c792563-1b47-46f5-b242-e8171013f77b",
   "metadata": {},
   "outputs": [],
   "source": [
    "varnm = \"tmax\"\n",
    "txnm = {\"tmax\" : \"tx\", \"t2m\" : \"tg\"}[varnm]\n",
    "ndays = 10\n",
    "\n",
    "sf = gpd.read_file(fpath+\"/sf_iberia\")\n",
    "da = xr.open_dataset(fpath+\"/\"+varnm+\"_era5_1950-2025.nc\")[varnm]\n",
    "\n",
    "rm = regionmask.mask_geopandas(sf, da)\n",
    "\n",
    "ts = da.where(rm == 0, drop = True).mean([\"lat\", \"lon\"])\n",
    "tx10x = ts.rolling(time = ndays).mean().resample(time = \"AS\").max()\n",
    "tx10x.assign_coords(time = tx10x.time.dt.year).rename(varnm, time = \"year\").to_dataframe().to_csv(\"ts/\"+txnm+str(ndays)+\"x-iberia.csv\")"
   ]
  },
  {
   "cell_type": "code",
   "execution_count": null,
   "id": "17d740fa-57d0-4a05-b649-ff97befb9ca1",
   "metadata": {},
   "outputs": [],
   "source": []
  },
  {
   "cell_type": "code",
   "execution_count": null,
   "id": "19e6be2a-3d5a-4906-a219-fb25a75a847b",
   "metadata": {},
   "outputs": [],
   "source": []
  }
 ],
 "metadata": {
  "kernelspec": {
   "display_name": "wwa (new)",
   "language": "python",
   "name": "wwa"
  },
  "language_info": {
   "codemirror_mode": {
    "name": "ipython",
    "version": 3
   },
   "file_extension": ".py",
   "mimetype": "text/x-python",
   "name": "python",
   "nbconvert_exporter": "python",
   "pygments_lexer": "ipython3",
   "version": "3.13.5"
  }
 },
 "nbformat": 4,
 "nbformat_minor": 5
}
