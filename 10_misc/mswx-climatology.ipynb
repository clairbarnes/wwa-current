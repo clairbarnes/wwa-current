{
 "cells": [
  {
   "cell_type": "code",
   "execution_count": 1,
   "metadata": {},
   "outputs": [],
   "source": [
    "import sys; sys.path.append('../'); from wwa import *"
   ]
  },
  {
   "cell_type": "markdown",
   "metadata": {},
   "source": [
    "---\n",
    "# **Compile historic data**"
   ]
  },
  {
   "cell_type": "markdown",
   "metadata": {},
   "source": [
    "## **MSWEP monthly data**"
   ]
  },
  {
   "cell_type": "code",
   "execution_count": 4,
   "metadata": {},
   "outputs": [],
   "source": [
    "mswep_fpath = \"/rds/general/project/wwa/live/data/mswep_*/\"\n",
    "tmp_fpath = \"/rds/general/project/wwa/ephemeral/mswx_climatology/\""
   ]
  },
  {
   "cell_type": "code",
   "execution_count": 6,
   "metadata": {},
   "outputs": [
    {
     "name": "stdout",
     "output_type": "stream",
     "text": [
      "1979 1980 1981 1982 1983 1984 1985 1986 1987 1988 1989 1990 1991 1992 1993 1994 1995 1996 1997 1998 1999 2000 2001 2002 2003 2004 2005 2006 2007 2008 2009 2010 2011 2012 2013 2014 2015 2016 2017 2018 2019 2020 2021 2022 2023 2024 "
     ]
    }
   ],
   "source": [
    "for y in range(1979,2025):\n",
    "    print(y, end = \" \")\n",
    "    new_fnm = tmp_fpath+\"mswep_\"+str(y)+\".nc\"\n",
    "    if os.path.exists(new_fnm): continue\n",
    "    ds = xr.open_mfdataset(mswep_fpath+str(y)+\"*.nc\")\n",
    "    ds = ds.resample(time = \"MS\").mean().rename(precipitation = \"pr\")\n",
    "    ds.to_netcdf(new_fnm)\n",
    "\n",
    "mswep_clim = xr.open_mfdataset(tmp_fpath+\"mswep*.nc\")\n",
    "mswep_clim.to_netcdf(\"/rds/general/project/wwa/live/data/mswx/monthly/pr_monthly_mswep.nc\")"
   ]
  },
  {
   "cell_type": "markdown",
   "metadata": {},
   "source": [
    "## **MSWX monthly data**"
   ]
  },
  {
   "cell_type": "code",
   "execution_count": null,
   "metadata": {},
   "outputs": [],
   "source": [
    "mswx_fpath = \"/rds/general/project/wwa/live/data/mswx/\"\n",
    "tmp_fpath = \"/rds/general/project/wwa/ephemeral/mswx_climatology/\""
   ]
  },
  {
   "cell_type": "code",
   "execution_count": null,
   "metadata": {},
   "outputs": [],
   "source": [
    "for varnm in [\"tmax\", \"tmin\", \"Wind\", \"slp\", \"RelHum\"][-1:]:\n",
    "    print(varnm)\n",
    "    \n",
    "    for y in range(1979,2025):\n",
    "        print(y, end = \" \")\n",
    "        new_fnm = tmp_fpath+varnm+\"_\"+str(y)+\".nc\"\n",
    "        if os.path.exists(new_fnm): continue\n",
    "        ds = xr.open_mfdataset(mswx_fpath+varnm+\"_past/\"+str(y)+\"*.nc\")\n",
    "        ds = ds.resample(time = \"MS\").sum()\n",
    "        ds.to_netcdf(new_fnm)\n",
    "        \n",
    "    print(\"\")\n",
    "    \n",
    "    clim = xr.open_mfdataset(tmp_fpath+varnm+\"*.nc\")\n",
    "    clim.to_netcdf(\"/rds/general/project/wwa/live/data/mswx/monthly/\"+varnm+\"_monthly_mswx.nc\")                    "
   ]
  },
  {
   "cell_type": "markdown",
   "metadata": {},
   "source": [
    "---\n",
    "# **Update current year**"
   ]
  },
  {
   "cell_type": "code",
   "execution_count": null,
   "metadata": {},
   "outputs": [],
   "source": []
  }
 ],
 "metadata": {
  "kernelspec": {
   "display_name": "wwa",
   "language": "python",
   "name": "wwa"
  },
  "language_info": {
   "codemirror_mode": {
    "name": "ipython",
    "version": 3
   },
   "file_extension": ".py",
   "mimetype": "text/x-python",
   "name": "python",
   "nbconvert_exporter": "python",
   "pygments_lexer": "ipython3",
   "version": "3.10.8"
  }
 },
 "nbformat": 4,
 "nbformat_minor": 2
}
