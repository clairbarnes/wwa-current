{
 "cells": [
  {
   "cell_type": "code",
   "execution_count": 1,
   "metadata": {},
   "outputs": [
    {
     "name": "stdout",
     "output_type": "stream",
     "text": [
      "/bin/bash: which: line 1: syntax error: unexpected end of file\n",
      "/bin/bash: error importing function definition for `which'\n",
      "/bin/bash: module: line 1: syntax error: unexpected end of file\n",
      "/bin/bash: error importing function definition for `module'\n",
      "/bin/bash: scl: line 1: syntax error: unexpected end of file\n",
      "/bin/bash: error importing function definition for `scl'\n",
      "/bin/bash: ml: line 1: syntax error: unexpected end of file\n",
      "/bin/bash: error importing function definition for `ml'\n",
      "/rds/general/user/cb2714/home/wwa/10_misc\n"
     ]
    }
   ],
   "source": [
    "!pwd"
   ]
  },
  {
   "cell_type": "code",
   "execution_count": 2,
   "metadata": {},
   "outputs": [
    {
     "name": "stdout",
     "output_type": "stream",
     "text": [
      "/bin/bash: which: line 1: syntax error: unexpected end of file\n",
      "/bin/bash: error importing function definition for `which'\n",
      "/bin/bash: module: line 1: syntax error: unexpected end of file\n",
      "/bin/bash: error importing function definition for `module'\n",
      "/bin/bash: scl: line 1: syntax error: unexpected end of file\n",
      "/bin/bash: error importing function definition for `scl'\n",
      "/bin/bash: ml: line 1: syntax error: unexpected end of file\n",
      "/bin/bash: error importing function definition for `ml'\n",
      "--2024-04-03 14:37:46--  https://dap.ceda.ac.uk/badc/ukmo-hadobs/data/insitu/MOHC/HadOBS/HadUK-Grid/v1.2.0.ceda/12km/rainfall/day/v20230328/rainfall_hadukgrid_uk_12km_day_18910101-18910131.nc\n",
      "Resolving dap.ceda.ac.uk (dap.ceda.ac.uk)... 2a0c:5bc0:4c:ff::82f6:8045, 130.246.128.69\n",
      "Connecting to dap.ceda.ac.uk (dap.ceda.ac.uk)|2a0c:5bc0:4c:ff::82f6:8045|:443... connected.\n",
      "HTTP request sent, awaiting response... 302 Moved Temporarily\n",
      "Location: https://auth.ceda.ac.uk/account/signin?r=https%3A%2F%2Fdap.ceda.ac.uk%2Fbadc%2Fukmo-hadobs%2Fdata%2Finsitu%2FMOHC%2FHadOBS%2FHadUK-Grid%2Fv1.2.0.ceda%2F12km%2Frainfall%2Fday%2Fv20230328%2Frainfall_hadukgrid_uk_12km_day_18910101-18910131.nc&rd=https://dap.ceda.ac.uk%2Fbadc%2Fukmo-hadobs%2Fdata%2Finsitu%2FMOHC%2FHadOBS%2FHadUK-Grid%2Fv1.2.0.ceda%2F12km%2Frainfall%2Fday%2Fv20230328%2Frainfall_hadukgrid_uk_12km_day_18910101-18910131.nc [following]\n",
      "--2024-04-03 14:37:47--  https://auth.ceda.ac.uk/account/signin?r=https%3A%2F%2Fdap.ceda.ac.uk%2Fbadc%2Fukmo-hadobs%2Fdata%2Finsitu%2FMOHC%2FHadOBS%2FHadUK-Grid%2Fv1.2.0.ceda%2F12km%2Frainfall%2Fday%2Fv20230328%2Frainfall_hadukgrid_uk_12km_day_18910101-18910131.nc&rd=https://dap.ceda.ac.uk%2Fbadc%2Fukmo-hadobs%2Fdata%2Finsitu%2FMOHC%2FHadOBS%2FHadUK-Grid%2Fv1.2.0.ceda%2F12km%2Frainfall%2Fday%2Fv20230328%2Frainfall_hadukgrid_uk_12km_day_18910101-18910131.nc\n",
      "Resolving auth.ceda.ac.uk (auth.ceda.ac.uk)... 2a0c:5bc0:4c:ff::82f6:8243, 130.246.130.67\n",
      "Connecting to auth.ceda.ac.uk (auth.ceda.ac.uk)|2a0c:5bc0:4c:ff::82f6:8243|:443... connected.\n",
      "HTTP request sent, awaiting response... 301 Moved Permanently\n",
      "Location: /account/signin/?r=https%3A%2F%2Fdap.ceda.ac.uk%2Fbadc%2Fukmo-hadobs%2Fdata%2Finsitu%2FMOHC%2FHadOBS%2FHadUK-Grid%2Fv1.2.0.ceda%2F12km%2Frainfall%2Fday%2Fv20230328%2Frainfall_hadukgrid_uk_12km_day_18910101-18910131.nc&rd=https://dap.ceda.ac.uk%2Fbadc%2Fukmo-hadobs%2Fdata%2Finsitu%2FMOHC%2FHadOBS%2FHadUK-Grid%2Fv1.2.0.ceda%2F12km%2Frainfall%2Fday%2Fv20230328%2Frainfall_hadukgrid_uk_12km_day_18910101-18910131.nc [following]\n",
      "--2024-04-03 14:37:47--  https://auth.ceda.ac.uk/account/signin/?r=https%3A%2F%2Fdap.ceda.ac.uk%2Fbadc%2Fukmo-hadobs%2Fdata%2Finsitu%2FMOHC%2FHadOBS%2FHadUK-Grid%2Fv1.2.0.ceda%2F12km%2Frainfall%2Fday%2Fv20230328%2Frainfall_hadukgrid_uk_12km_day_18910101-18910131.nc&rd=https://dap.ceda.ac.uk%2Fbadc%2Fukmo-hadobs%2Fdata%2Finsitu%2FMOHC%2FHadOBS%2FHadUK-Grid%2Fv1.2.0.ceda%2F12km%2Frainfall%2Fday%2Fv20230328%2Frainfall_hadukgrid_uk_12km_day_18910101-18910131.nc\n",
      "Reusing existing connection to [auth.ceda.ac.uk]:443.\n",
      "HTTP request sent, awaiting response... 200 OK\n",
      "Length: 7956 (7.8K) [text/html]\n",
      "Saving to: ‘rainfall_hadukgrid_uk_12km_day_18910101-18910131.nc’\n",
      "\n",
      "rainfall_hadukgrid_ 100%[===================>]   7.77K  --.-KB/s    in 0s      \n",
      "\n",
      "2024-04-03 14:37:47 (41.3 MB/s) - ‘rainfall_hadukgrid_uk_12km_day_18910101-18910131.nc’ saved [7956/7956]\n",
      "\n"
     ]
    }
   ],
   "source": [
    "! wget https://dap.ceda.ac.uk/badc/ukmo-hadobs/data/insitu/MOHC/HadOBS/HadUK-Grid/v1.2.0.ceda/12km/rainfall/day/v20230328/rainfall_hadukgrid_uk_12km_day_18910101-18910131.nc"
   ]
  },
  {
   "cell_type": "code",
   "execution_count": 3,
   "metadata": {},
   "outputs": [
    {
     "ename": "ValueError",
     "evalue": "did not find a match in any of xarray's currently installed IO backends ['netcdf4', 'scipy', 'cfgrib']. Consider explicitly selecting one of the installed engines via the ``engine`` parameter, or installing additional IO dependencies, see:\nhttps://docs.xarray.dev/en/stable/getting-started-guide/installing.html\nhttps://docs.xarray.dev/en/stable/user-guide/io.html",
     "output_type": "error",
     "traceback": [
      "\u001b[0;31m---------------------------------------------------------------------------\u001b[0m",
      "\u001b[0;31mValueError\u001b[0m                                Traceback (most recent call last)",
      "Cell \u001b[0;32mIn[3], line 2\u001b[0m\n\u001b[1;32m      1\u001b[0m \u001b[38;5;28;01mimport\u001b[39;00m \u001b[38;5;21;01mxarray\u001b[39;00m \u001b[38;5;28;01mas\u001b[39;00m \u001b[38;5;21;01mxr\u001b[39;00m\n\u001b[0;32m----> 2\u001b[0m \u001b[43mxr\u001b[49m\u001b[38;5;241;43m.\u001b[39;49m\u001b[43mopen_dataset\u001b[49m\u001b[43m(\u001b[49m\u001b[38;5;124;43m\"\u001b[39;49m\u001b[38;5;124;43mrainfall_hadukgrid_uk_12km_day_18910101-18910131.nc\u001b[39;49m\u001b[38;5;124;43m\"\u001b[39;49m\u001b[43m)\u001b[49m\n",
      "File \u001b[0;32m~/anaconda3/envs/wwa/lib/python3.10/site-packages/xarray/backends/api.py:525\u001b[0m, in \u001b[0;36mopen_dataset\u001b[0;34m(filename_or_obj, engine, chunks, cache, decode_cf, mask_and_scale, decode_times, decode_timedelta, use_cftime, concat_characters, decode_coords, drop_variables, inline_array, backend_kwargs, **kwargs)\u001b[0m\n\u001b[1;32m    522\u001b[0m     kwargs\u001b[38;5;241m.\u001b[39mupdate(backend_kwargs)\n\u001b[1;32m    524\u001b[0m \u001b[38;5;28;01mif\u001b[39;00m engine \u001b[38;5;129;01mis\u001b[39;00m \u001b[38;5;28;01mNone\u001b[39;00m:\n\u001b[0;32m--> 525\u001b[0m     engine \u001b[38;5;241m=\u001b[39m \u001b[43mplugins\u001b[49m\u001b[38;5;241;43m.\u001b[39;49m\u001b[43mguess_engine\u001b[49m\u001b[43m(\u001b[49m\u001b[43mfilename_or_obj\u001b[49m\u001b[43m)\u001b[49m\n\u001b[1;32m    527\u001b[0m backend \u001b[38;5;241m=\u001b[39m plugins\u001b[38;5;241m.\u001b[39mget_backend(engine)\n\u001b[1;32m    529\u001b[0m decoders \u001b[38;5;241m=\u001b[39m _resolve_decoders_kwargs(\n\u001b[1;32m    530\u001b[0m     decode_cf,\n\u001b[1;32m    531\u001b[0m     open_backend_dataset_parameters\u001b[38;5;241m=\u001b[39mbackend\u001b[38;5;241m.\u001b[39mopen_dataset_parameters,\n\u001b[0;32m   (...)\u001b[0m\n\u001b[1;32m    537\u001b[0m     decode_coords\u001b[38;5;241m=\u001b[39mdecode_coords,\n\u001b[1;32m    538\u001b[0m )\n",
      "File \u001b[0;32m~/anaconda3/envs/wwa/lib/python3.10/site-packages/xarray/backends/plugins.py:177\u001b[0m, in \u001b[0;36mguess_engine\u001b[0;34m(store_spec)\u001b[0m\n\u001b[1;32m    169\u001b[0m \u001b[38;5;28;01melse\u001b[39;00m:\n\u001b[1;32m    170\u001b[0m     error_msg \u001b[38;5;241m=\u001b[39m (\n\u001b[1;32m    171\u001b[0m         \u001b[38;5;124m\"\u001b[39m\u001b[38;5;124mfound the following matches with the input file in xarray\u001b[39m\u001b[38;5;124m'\u001b[39m\u001b[38;5;124ms IO \u001b[39m\u001b[38;5;124m\"\u001b[39m\n\u001b[1;32m    172\u001b[0m         \u001b[38;5;124mf\u001b[39m\u001b[38;5;124m\"\u001b[39m\u001b[38;5;124mbackends: \u001b[39m\u001b[38;5;132;01m{\u001b[39;00mcompatible_engines\u001b[38;5;132;01m}\u001b[39;00m\u001b[38;5;124m. But their dependencies may not be installed, see:\u001b[39m\u001b[38;5;130;01m\\n\u001b[39;00m\u001b[38;5;124m\"\u001b[39m\n\u001b[1;32m    173\u001b[0m         \u001b[38;5;124m\"\u001b[39m\u001b[38;5;124mhttps://docs.xarray.dev/en/stable/user-guide/io.html \u001b[39m\u001b[38;5;130;01m\\n\u001b[39;00m\u001b[38;5;124m\"\u001b[39m\n\u001b[1;32m    174\u001b[0m         \u001b[38;5;124m\"\u001b[39m\u001b[38;5;124mhttps://docs.xarray.dev/en/stable/getting-started-guide/installing.html\u001b[39m\u001b[38;5;124m\"\u001b[39m\n\u001b[1;32m    175\u001b[0m     )\n\u001b[0;32m--> 177\u001b[0m \u001b[38;5;28;01mraise\u001b[39;00m \u001b[38;5;167;01mValueError\u001b[39;00m(error_msg)\n",
      "\u001b[0;31mValueError\u001b[0m: did not find a match in any of xarray's currently installed IO backends ['netcdf4', 'scipy', 'cfgrib']. Consider explicitly selecting one of the installed engines via the ``engine`` parameter, or installing additional IO dependencies, see:\nhttps://docs.xarray.dev/en/stable/getting-started-guide/installing.html\nhttps://docs.xarray.dev/en/stable/user-guide/io.html"
     ]
    }
   ],
   "source": [
    "import xarray as xr\n",
    "xr.open_dataset(\"rainfall_hadukgrid_uk_12km_day_18910101-18910131.nc\")"
   ]
  },
  {
   "cell_type": "code",
   "execution_count": null,
   "metadata": {},
   "outputs": [],
   "source": []
  }
 ],
 "metadata": {
  "kernelspec": {
   "display_name": "Python [conda env:wwa]",
   "language": "python",
   "name": "conda-env-wwa-py"
  },
  "language_info": {
   "codemirror_mode": {
    "name": "ipython",
    "version": 3
   },
   "file_extension": ".py",
   "mimetype": "text/x-python",
   "name": "python",
   "nbconvert_exporter": "python",
   "pygments_lexer": "ipython3",
   "version": "3.10.8"
  }
 },
 "nbformat": 4,
 "nbformat_minor": 2
}
