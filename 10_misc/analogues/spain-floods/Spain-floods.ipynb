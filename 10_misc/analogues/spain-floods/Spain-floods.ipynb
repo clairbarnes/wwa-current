{
 "cells": [
  {
   "cell_type": "markdown",
   "metadata": {},
   "source": [
    "# Analogues from Climate Explorer\n",
    "\n",
    "- only 22 analogues found - is there some quality threshold? How is it computed?"
   ]
  },
  {
   "cell_type": "code",
   "execution_count": 3,
   "metadata": {},
   "outputs": [],
   "source": [
    "import sys; sys.path.append('/rds/general/user/cb2714/home/wwa/'); from wwa import *"
   ]
  },
  {
   "cell_type": "code",
   "execution_count": 2,
   "metadata": {},
   "outputs": [],
   "source": [
    "dates_past = ['19721105', '19590920', '19691002', '19611102', '19731019', '19771025', '19571015', '19501017', '19701029', '19621018', '19641124', '19791020', '19630915', '19711024', '19530926', '19551015', '19510911', '19741025', '19651015', '19781122', '19671110', '19660914']\n",
    "dates_pres = ['20181019', '20011010', '19970929', '19940929', '20090929', '20041105', '20001024', '20061027', '20081010', '19921108', '19991007', '19960910', '20071027', '20150929', '20120928', '20211119', '20221011', '19951021', '20051014', '20111124', '20031118', '20171030', '19931019', '20140922', '20161115']"
   ]
  },
  {
   "cell_type": "code",
   "execution_count": 2,
   "metadata": {},
   "outputs": [
    {
     "name": "stdout",
     "output_type": "stream",
     "text": [
      "--2024-11-28 11:49:35--  https://climexp.knmi.nl/data/analogues_slp_comp_past_350663.nc\n",
      "Resolving climexp.knmi.nl (climexp.knmi.nl)... 2a0c:5bc0:4c:ff::9126:ce95, 145.38.206.149\n",
      "Connecting to climexp.knmi.nl (climexp.knmi.nl)|2a0c:5bc0:4c:ff::9126:ce95|:443... connected.\n",
      "HTTP request sent, awaiting response... 200 OK\n",
      "Length: 54302 (53K) [application/x-netcdf]\n",
      "Saving to: ‘analogues_slp_comp_past_350663.nc’\n",
      "\n",
      "analogues_slp_comp_ 100%[===================>]  53.03K  --.-KB/s    in 0.01s   \n",
      "\n",
      "2024-11-28 11:49:35 (3.46 MB/s) - ‘analogues_slp_comp_past_350663.nc’ saved [54302/54302]\n",
      "\n"
     ]
    }
   ],
   "source": [
    "! wget https://climexp.knmi.nl/data/analogues_slp_comp_past_350663.nc"
   ]
  },
  {
   "cell_type": "code",
   "execution_count": 4,
   "metadata": {},
   "outputs": [
    {
     "name": "stdout",
     "output_type": "stream",
     "text": [
      "--2024-11-28 11:52:52--  https://climexp.knmi.nl/data/analogues_tp_comp_present_350663.nc\n",
      "Resolving climexp.knmi.nl (climexp.knmi.nl)... 2a0c:5bc0:4c:ff::9126:ce95, 145.38.206.149\n",
      "Connecting to climexp.knmi.nl (climexp.knmi.nl)|2a0c:5bc0:4c:ff::9126:ce95|:443... connected.\n",
      "HTTP request sent, awaiting response... 200 OK\n",
      "Length: 50985 (50K) [application/x-netcdf]\n",
      "Saving to: ‘analogues_tp_comp_present_350663.nc’\n",
      "\n",
      "analogues_tp_comp_p 100%[===================>]  49.79K  --.-KB/s    in 0.01s   \n",
      "\n",
      "2024-11-28 11:52:52 (3.25 MB/s) - ‘analogues_tp_comp_present_350663.nc’ saved [50985/50985]\n",
      "\n"
     ]
    }
   ],
   "source": [
    "!wget https://climexp.knmi.nl/data/analogues_tp_comp_present_350663.nc"
   ]
  },
  {
   "cell_type": "code",
   "execution_count": null,
   "metadata": {},
   "outputs": [],
   "source": [
    "xr.open_dataset(\"analogues_slp_comp_past_350663.nc\")"
   ]
  }
 ],
 "metadata": {
  "kernelspec": {
   "display_name": "wwa",
   "language": "python",
   "name": "wwa"
  },
  "language_info": {
   "codemirror_mode": {
    "name": "ipython",
    "version": 3
   },
   "file_extension": ".py",
   "mimetype": "text/x-python",
   "name": "python",
   "nbconvert_exporter": "python",
   "pygments_lexer": "ipython3",
   "version": "3.10.8"
  }
 },
 "nbformat": 4,
 "nbformat_minor": 2
}
