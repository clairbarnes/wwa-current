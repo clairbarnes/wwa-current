{
 "cells": [
  {
   "cell_type": "code",
   "execution_count": 1,
   "metadata": {},
   "outputs": [
    {
     "name": "stderr",
     "output_type": "stream",
     "text": [
      "Loading required package: extRemes\n",
      "\n",
      "Loading required package: Lmoments\n",
      "\n",
      "Loading required package: distillery\n",
      "\n",
      "\n",
      "Attaching package: ‘extRemes’\n",
      "\n",
      "\n",
      "The following objects are masked from ‘package:stats’:\n",
      "\n",
      "    qqnorm, qqplot\n",
      "\n",
      "\n",
      "Loading required package: plyr\n",
      "\n",
      "\n",
      "Attaching package: ‘plyr’\n",
      "\n",
      "\n",
      "The following object is masked from ‘package:distillery’:\n",
      "\n",
      "    is.formula\n",
      "\n",
      "\n",
      "Loading required package: copula\n",
      "\n",
      "Loading required package: MASS\n",
      "\n"
     ]
    }
   ],
   "source": [
    "library(\"rwwa\")"
   ]
  },
  {
   "cell_type": "code",
   "execution_count": 6,
   "metadata": {},
   "outputs": [],
   "source": [
    "varnm <- \"tasmin\"\n",
    "nsamp <- 1000\n",
    "rp <- 3\n",
    "\n",
    "fpath = paste0(\"~/00_WWA_project_folder/ephemeral/Central-asia-heat/highresmip/dat-\",varnm,\"/\")\n",
    "fl = list.files(fpath, full.names = F)"
   ]
  },
  {
   "cell_type": "code",
   "execution_count": 7,
   "metadata": {},
   "outputs": [
    {
     "name": "stdout",
     "output_type": "stream",
     "text": [
      "[1] \"CNRM-CM6-1\"\n",
      "[1] \"CNRM-CM6-1-HR\"\n",
      "[1] \"EC-Earth3P\"\n",
      "[1] \"EC-Earth3P-HR\"\n",
      "[1] \"FGOALS-f3-L\"\n",
      "[1] \"HadGEM3-GC31-HM\"\n",
      "[1] \"HadGEM3-GC31-LM\"\n",
      "[1] \"HadGEM3-GC31-MM\"\n",
      "[1] \"HiRAM-SIT-HR\"\n",
      "[1] \"HiRAM-SIT-LR\"\n",
      "[1] \"MPI-ESM1-2-HR\"\n",
      "[1] \"MPI-ESM1-2-XR\"\n",
      "[1] \"NICAM16-7S\"\n",
      "[1] \"NICAM16-8S\"\n"
     ]
    }
   ],
   "source": [
    "for(fnm in fl) {\n",
    "    \n",
    "    gcm <- strsplit(fnm, \"_\")[[1]][2]\n",
    "    print(gcm)\n",
    "\n",
    "    res_fnm <- paste0(\"~/01_wwa/10_misc/c-asia-res/res_\",varnm,\"_\",gcm,\".csv\")\n",
    "    if(!file.exists(res_fnm)) {\n",
    "        \n",
    "        gmst_fnm <- list.files(\"~/00_WWA_project_folder/live/data/highresmip/GSAT/\", pattern = paste0(gcm,\"_\"))\n",
    "        if(length(gmst_fnm) == 0) { next }\n",
    "        \n",
    "        # combine into single dataframe\n",
    "        gmst <- load_ts(paste0(\"~/00_WWA_project_folder/live/data/highresmip/GSAT/\", gmst_fnm[1]), col.names = c(\"year\", \"gmst\"))\n",
    "        df <- merge(gmst, load_ts(paste0(fpath,fnm), col.names = c(\"year\", varnm)))\n",
    "        mdl <- fit_ns(\"gev\", \"shift\", df, varnm, c(\"gmst\"), lower = F)\n",
    "        \n",
    "        cov_now <- gmst[gmst$year == 2025,,drop = F]\n",
    "        cov_hist <- cov_now - 1.3\n",
    "        cov_fut <- cov_now + 1.3\n",
    "\n",
    "        # bootstrap results\n",
    "        res <- cmodel_results(mdl, rp = rp, cov_f = cov_now, cov_hist = cov_hist, cov_fut = cov_fut, \n",
    "                              y_now = 2025, y_start = 1950, y_fut = 2070, nsamp = nsamp, di_relative = F)\n",
    "        write.csv(res, res_fnm)\n",
    "        \n",
    "        # quick return level plots to check fit\n",
    "        rlplot_fnm <- gsub(\"csv\", \"png\", gsub(\"res/\", \"res/rlplot_\", res_fnm))\n",
    "        if(!file.exists(rlplot_fnm)) {\n",
    "            png(rlplot_fnm, h = 360, w = 480); par(cex.main = 1.4); {\n",
    "                plot_returnlevels(mdl, cov_f = cov_now, cov_cf = cov_hist, nsamp = 100, main = gsub(\"ts/\", \"\", gsub(\".csv\", \"\", fnm)))\n",
    "            }; dev.off()\n",
    "        }\n",
    "    }\n",
    "}"
   ]
  },
  {
   "cell_type": "code",
   "execution_count": 8,
   "metadata": {},
   "outputs": [],
   "source": [
    "# compile results\n",
    "res <- t(sapply(list.files(\"~/01_wwa/10_misc/c-asia-res\", pattern = paste0(\"^res_\",varnm), full.names = T), read.csv, row.names = \"X\"))\n",
    "rownames(res) <- sapply(strsplit(gsub(\".csv\", \"\", rownames(res)), \"_\"), \"[\", 5)\n",
    "write.csv(res, paste0(\"res-models_highresSST_\",varnm,\"_gmst.csv\"))"
   ]
  },
  {
   "cell_type": "code",
   "execution_count": null,
   "metadata": {},
   "outputs": [],
   "source": []
  }
 ],
 "metadata": {
  "kernelspec": {
   "display_name": "R [conda env:r_env]",
   "language": "R",
   "name": "conda-env-r_env-r"
  },
  "language_info": {
   "codemirror_mode": "r",
   "file_extension": ".r",
   "mimetype": "text/x-r-source",
   "name": "R",
   "pygments_lexer": "r",
   "version": "4.2.2"
  }
 },
 "nbformat": 4,
 "nbformat_minor": 2
}
