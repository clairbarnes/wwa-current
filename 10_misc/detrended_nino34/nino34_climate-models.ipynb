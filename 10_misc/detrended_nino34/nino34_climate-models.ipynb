{
 "cells": [
  {
   "cell_type": "markdown",
   "metadata": {},
   "source": [
    "---\n",
    "# **Compute Nino3.4 index from CMIP5 SSTs**"
   ]
  },
  {
   "cell_type": "code",
   "execution_count": 1,
   "metadata": {},
   "outputs": [],
   "source": [
    "import sys; sys.path.append('/rds/general/user/cb2714/home/01_wwa/'); from wwa import *\n",
    "\n",
    "synda_path = \"/rds/general/project/wwa/ephemeral/synda_clair/data/cmip5/output1/\""
   ]
  },
  {
   "cell_type": "markdown",
   "metadata": {},
   "source": [
    "## **Download model SSTs**\n",
    "_Using daily files rather than monthly, since these were available for more of the required models_"
   ]
  },
  {
   "cell_type": "markdown",
   "metadata": {},
   "source": [
    "SSTs downloaded using synda - modify synda defaults file to contain\n",
    "```\n",
    "# Defaults for CMIP5 download\n",
    "\n",
    "project=CMIP5\n",
    "model=CM5A-LR CM5A-MR CNRM-CM5 CSIRO-Mk3-6-0 CanESM2 EC-EARTH GFDL-ESM2M GFDL-ESM2G HadGEM2-ES IPSL-CM5A-MR MIROC5 MPI-ESM-LR MPI-ESM-MR NorESM1-M \n",
    "experiment=rcp85 historical\n",
    "\n",
    "latest=true\n",
    "local_path_format=custom\n",
    "timeslice=19000101-20501231\n",
    "local_path_drs_template=CMIP5/%(model)s/%(ensemble)s/\n",
    "```\n",
    "Then\n",
    "```\n",
    "synda install variable=tos frequency=day ensemble=r1i1p1\n",
    "synda install variable=tos frequency=day ensemble=r12i1p1 model=EC-EARTH \n",
    "```\n",
    "CanESM2 has an extra historical file, which needs to be deleted before compiling  \n",
    "IPSL-CM5A-MR_r1i1p1 downloaded manually (monthly res)  \n",
    "EC-EARTH_r12i1p1 doesn't seem to be available at all for historical period"
   ]
  },
  {
   "cell_type": "code",
   "execution_count": 107,
   "metadata": {},
   "outputs": [],
   "source": [
    "# list the models for which SSTs are required\n",
    "models_needed = sorted(list(set([\"_\".join(fnm.split(\"_\")[3:5]) for fnm in glob.glob(\"/rds/general/project/wwa/ephemeral/amazon_drought/cordex/spi/*.dat\")])))"
   ]
  },
  {
   "cell_type": "code",
   "execution_count": 109,
   "metadata": {},
   "outputs": [
    {
     "data": {
      "text/plain": [
       "['EC-EARTH_r12i1p1', 'IPSL-CM5A-MR_r1i1p1']"
      ]
     },
     "execution_count": 109,
     "metadata": {},
     "output_type": "execute_result"
    }
   ],
   "source": [
    "# check models for which daily TOS was available\n",
    "fl_day = glob.glob(synda_path+\"*/*/*/day/*/*/*/\")\n",
    "models_day = sorted(list(set([fp.split(\"/\")[11]+\"_\"+fp.split(\"/\")[-2] for fp in fl_day])))\n",
    "\n",
    "# how many models lack SSTs?\n",
    "sorted([m for m in models_needed if not m in models_day])"
   ]
  },
  {
   "cell_type": "markdown",
   "metadata": {},
   "source": [
    "# **Compute Nino3.4 and tropical SSTs**"
   ]
  },
  {
   "cell_type": "markdown",
   "metadata": {},
   "source": [
    "##  **Extract SST time series**"
   ]
  },
  {
   "cell_type": "code",
   "execution_count": 144,
   "metadata": {},
   "outputs": [
    {
     "name": "stdout",
     "output_type": "stream",
     "text": [
      "CNRM-CM5_r1i1p1\n",
      "CSIRO-Mk3-6-0_r1i1p1\n",
      "CanESM2_r1i1p1\n",
      "GFDL-ESM2G_r1i1p1\n",
      "GFDL-ESM2M_r1i1p1\n",
      "HadGEM2-ES_r1i1p1\n",
      "MIROC5_r1i1p1\n",
      "MPI-ESM-LR_r1i1p1\n",
      "MPI-ESM-MR_r1i1p1\n",
      "NorESM1-M_r1i1p1\n"
     ]
    }
   ],
   "source": [
    "# loop over raw files & save monthly SST series\n",
    "for m in models_day:\n",
    "    \n",
    "    print(m)\n",
    "    fl = glob.glob(synda_path+\"*/\"+m.split(\"_\")[0]+\"/*/day/*/*/\"+m.split(\"_\")[1]+\"/*/*/*.nc\")\n",
    "    \n",
    "    for fnm in fl:\n",
    "        new_fnm = \"cmip5_sst/nino34_\"+\"_\".join(fnm.split(\"_\")[3:])\n",
    "        if os.path.exists(new_fnm): continue\n",
    "            \n",
    "        da = convert_units_to(wrap_lon(xr.open_dataset(fnm).tos.resample(time = \"MS\").mean()), \"degC\")\n",
    "        \n",
    "        if \"latitude\" in da.dims:\n",
    "            da = da.rename(latitude = \"lat\", longitude = \"lon\")\n",
    "            \n",
    "        xydims = da.cf.axes[\"X\"] + da.cf.axes[\"Y\"]\n",
    "        \n",
    "        nino_box = np.logical_and(np.logical_and(da.lon >= -180, da.lon <= -120), np.logical_and(da.lat >= -5, da.lat <= 5))\n",
    "        pm20_box = np.logical_and(da.lat >= -20, da.lat <= 20)\n",
    "        nino34 = da.where(nino_box).mean(xydims)\n",
    "        pm20 = da.where(pm20_box).mean(xydims)\n",
    "        \n",
    "        xr.merge([nino34.rename(\"nino34\"), pm20.rename(\"pm20\")]).to_netcdf(new_fnm)"
   ]
  },
  {
   "cell_type": "code",
   "execution_count": 140,
   "metadata": {},
   "outputs": [],
   "source": [
    "# loop over manually uploaded files\n",
    "for fnm in glob.glob(\"tmp/*.nc\"):\n",
    "    \n",
    "    new_fnm = \"cmip5_sst/nino34_\"+\"_\".join(fnm.split(\"_\")[3:])\n",
    "    if os.path.exists(new_fnm): continue\n",
    "    \n",
    "    da = convert_units_to(wrap_lon(xr.open_dataset(fnm).tos), \"degC\")\n",
    "    da = da.assign_coords(time = pd.date_range(start = fnm[-16:-12]+\"-\"+fnm[-12:-10]+\"-01\", end = fnm[-9:-5]+\"-\"+fnm[-5:-3]+\"-01\", freq = \"MS\"))\n",
    "\n",
    "    if \"latitude\" in da.dims:\n",
    "        da = da.rename(latitude = \"lat\", longitude = \"lon\")\n",
    "\n",
    "    xydims = da.cf.axes[\"X\"] + da.cf.axes[\"Y\"]\n",
    "\n",
    "    nino_box = np.logical_and(np.logical_and(da.lon >= -180, da.lon <= -120), np.logical_and(da.lat >= -5, da.lat <= 5))\n",
    "    pm20_box = np.logical_and(da.lat >= -20, da.lat <= 20)\n",
    "    nino34 = da.where(nino_box).mean(xydims)\n",
    "    pm20 = da.where(pm20_box).mean(xydims)\n",
    "\n",
    "    xr.merge([nino34.rename(\"nino34\"), pm20.rename(\"pm20\")]).to_netcdf(new_fnm)"
   ]
  },
  {
   "cell_type": "markdown",
   "metadata": {},
   "source": [
    "## **Compile into Nino & detrended Nino time series**"
   ]
  },
  {
   "cell_type": "code",
   "execution_count": 2,
   "metadata": {},
   "outputs": [],
   "source": [
    "fpath = \"/rds/general/project/wwa/live/data/cmip5-nino34/\""
   ]
  },
  {
   "cell_type": "code",
   "execution_count": 69,
   "metadata": {},
   "outputs": [],
   "source": [
    "fl = list(set([fnm.split(\"_\")[2]+\"_\"+fnm.split(\"_\")[4] for fnm in glob.glob(\"cmip5_sst/*.nc\")]))\n",
    "\n",
    "for fnm in fl:\n",
    "\n",
    "    hist = convert_calendar(xr.open_mfdataset(\"cmip5_sst/*\"+\"_historical_\".join(fnm.split(\"_\"))+\"*.nc\"), \"default\", align_on = \"date\").load()\n",
    "    rcp85 = convert_calendar(xr.open_mfdataset(\"cmip5_sst/*\"+\"_rcp85_\".join(fnm.split(\"_\"))+\"*.nc\"), \"default\", align_on = \"date\").load()\n",
    "\n",
    "    if hist.time.max() >= rcp85.time.min():\n",
    "        ds = xr.concat([hist.sel(time = slice(None, rcp85.time.min()-1)), rcp85], \"time\")\n",
    "    else:\n",
    "        ds = xr.concat([hist, rcp85], \"time\")\n",
    "\n",
    "    # normalise Nino index to 1980-2010\n",
    "    nino = ds.nino34.assign_attrs(note = \"Mean of tos from 170W-120W, 5S-5N\")\n",
    "    nino = nino - nino.sel(time = slice(\"1980\", \"2010\")).mean()\n",
    "    \n",
    "    # normalise tropical SSTs to 1980-2010\n",
    "    pm20 = ds.pm20\n",
    "    pm20 = pm20 - pm20.sel(time = slice(\"1980\", \"2010\")).mean()\n",
    "    \n",
    "    # save Nino & detrended Nino as single dataset\n",
    "    nino_det = (nino - pm20).rename(\"nino34_det\").assign_attrs(note = \"Nino3.4 detrended by subtracting mean of tos from 20S-20N\")\n",
    "    \n",
    "    xr.merge([nino, nino_det]).to_netcdf(fpath+\"nino34det_cmip5_\"+fnm+\".nc\")"
   ]
  },
  {
   "cell_type": "markdown",
   "metadata": {},
   "source": [
    "---\n",
    "# **Compute Nino3.4 index from monthly CMIP6 SSTs**"
   ]
  },
  {
   "cell_type": "code",
   "execution_count": 4,
   "metadata": {},
   "outputs": [],
   "source": [
    "import sys; sys.path.append('/rds/general/user/cb2714/home/01_wwa/'); from wwa import *\n",
    "\n",
    "synda_path = \"/rds/general/project/wwa/ephemeral/synda_clair/data/CMIP6/\""
   ]
  },
  {
   "cell_type": "code",
   "execution_count": 17,
   "metadata": {},
   "outputs": [],
   "source": [
    "mdl_list = sorted(glob.glob(synda_path+\"*\"))"
   ]
  },
  {
   "cell_type": "markdown",
   "metadata": {},
   "source": [
    "##  **Extract SST time series**"
   ]
  },
  {
   "cell_type": "code",
   "execution_count": 72,
   "metadata": {},
   "outputs": [
    {
     "name": "stdout",
     "output_type": "stream",
     "text": [
      "Done.\n"
     ]
    }
   ],
   "source": [
    "# loop over raw files & save monthly SST series\n",
    "for m in mdl_list:\n",
    "    \n",
    "    print(m.split(\"/\")[-1])\n",
    "    fl = glob.glob(m+\"/tos_*.nc\")\n",
    "    \n",
    "    for fnm in fl:\n",
    "        new_fnm = \"cmip6_sst/nino34_\"+\"_\".join(fnm.split(\"_\")[3:])\n",
    "        if os.path.exists(new_fnm): continue\n",
    "            \n",
    "        da = convert_calendar(convert_units_to(wrap_lon(xr.open_dataset(fnm).tos), \"degC\"), \"default\", align_on = \"year\")\n",
    "        if \"latitude\" in da.dims: da = da.rename(latitude = \"lat\", longitude = \"lon\")\n",
    "        \n",
    "        if not \"lat\" in da.dims: continue\n",
    "                    \n",
    "        nino_box = np.logical_and(np.logical_and(da.lon >= -180, da.lon <= -120), np.logical_and(da.lat >= -5, da.lat <= 5))\n",
    "        nino34 = da.where(nino_box).mean([\"lat\", \"lon\"])\n",
    "\n",
    "        pm20_box = np.logical_and(da.lat >= -20, da.lat <= 20)\n",
    "        pm20 = da.where(pm20_box).mean([\"lat\", \"lon\"])\n",
    "        \n",
    "        xr.merge([nino34.rename(\"nino34\"), pm20.rename(\"pm20\")]).to_netcdf(new_fnm)\n",
    "        \n",
    "clear_output(wait = False)\n",
    "print(\"Done.\")"
   ]
  },
  {
   "cell_type": "markdown",
   "metadata": {},
   "source": [
    "## **Compile into Nino & detrended Nino time series**"
   ]
  },
  {
   "cell_type": "code",
   "execution_count": 90,
   "metadata": {},
   "outputs": [],
   "source": [
    "fl = list(set([fnm.split(\"_\")[2]+\"_\"+fnm.split(\"_\")[4] for fnm in glob.glob(\"cmip6_sst/*.nc\")]))\n",
    "\n",
    "for fnm in fl:\n",
    "    \n",
    "    ds = xr.open_mfdataset(\"cmip6_sst/*\"+fnm.split(\"_\")[0]+\"*.nc\")\n",
    "    \n",
    "    # normalise Nino index to 1980-2010\n",
    "    nino = ds.nino34.assign_attrs(note = \"Mean of tos from 170W-120W, 5S-5N\")\n",
    "    nino = nino - nino.sel(time = slice(\"1980\", \"2010\")).mean()\n",
    "    \n",
    "    # normalise tropical SSTs to 1980-2010\n",
    "    pm20 = ds.pm20\n",
    "    pm20 = pm20 - pm20.sel(time = slice(\"1980\", \"2010\")).mean()\n",
    "    \n",
    "    # save Nino & detrended Nino as single dataset\n",
    "    nino_det = (nino - pm20).rename(\"nino34_det\").assign_attrs(note = \"Nino3.4 detrended by subtracting mean of tos from 20S-20N\")\n",
    "    \n",
    "    xr.merge([nino, nino_det]).to_netcdf(\"cmip6-nino34/nino34det_cmip6_\"+fnm+\".nc\")"
   ]
  },
  {
   "cell_type": "markdown",
   "metadata": {},
   "source": [
    "# CMIP6 "
   ]
  },
  {
   "cell_type": "code",
   "execution_count": null,
   "metadata": {},
   "outputs": [],
   "source": [
    "! wget https://object-store.os-api.cci2.ecmwf.int/cci2-prod-cache-1/2025-03-04/4f22debdd9dc638a31b28cbd7addf341.zip\n",
    "! wget https://object-store.os-api.cci2.ecmwf.int/cci2-prod-cache-1/2025-03-04/f8b3ff81c7527a7d955b65399411341e.zip\n",
    "! unzip f8b3ff81c7527a7d955b65399411341e.zip"
   ]
  },
  {
   "cell_type": "code",
   "execution_count": 9,
   "metadata": {},
   "outputs": [],
   "source": [
    "ds = xr.open_mfdataset(\"tos_Omon_*.nc\").tos.load()"
   ]
  },
  {
   "cell_type": "code",
   "execution_count": 35,
   "metadata": {},
   "outputs": [],
   "source": [
    "rm_tropics = np.logical_and(ds.latitude >= -20, ds.latitude <= 20)\n",
    "rm_nino34 = np.logical_and(np.logical_and(ds.latitude >= -5, ds.latitude <= 5), np.logical_and(ds.longitude >= -180, ds.longitude <= -120))"
   ]
  },
  {
   "cell_type": "code",
   "execution_count": 36,
   "metadata": {},
   "outputs": [],
   "source": [
    "ts_tropics = ds.where(rm_tropics == 1).mean([\"i\",\"j\"])\n",
    "ts_nino34 = ds.where(rm_nino34 == 1).mean([\"i\",\"j\"])\n",
    "ts_det = ts_nino34 - ts_tropics"
   ]
  },
  {
   "cell_type": "code",
   "execution_count": 52,
   "metadata": {},
   "outputs": [],
   "source": [
    "ts_det = ts_det.convert_calendar(\"standard\")\n",
    "ts_det = ts_det.assign_coords(time = ts_det.time.dt.floor(\"D\"))\n",
    "ts_det.to_netcdf(\"/rds/general/user/cb2714/home/00_WWA_project_folder/live/data/cmip6-modes-of-variability_CVDP/nino34_cmip6/nino34_cmip6_FGOALS-G3_r1i1p1f1.nc\")"
   ]
  }
 ],
 "metadata": {
  "kernelspec": {
   "display_name": "wwa",
   "language": "python",
   "name": "wwa"
  },
  "language_info": {
   "codemirror_mode": {
    "name": "ipython",
    "version": 3
   },
   "file_extension": ".py",
   "mimetype": "text/x-python",
   "name": "python",
   "nbconvert_exporter": "python",
   "pygments_lexer": "ipython3",
   "version": "3.10.8"
  }
 },
 "nbformat": 4,
 "nbformat_minor": 2
}
