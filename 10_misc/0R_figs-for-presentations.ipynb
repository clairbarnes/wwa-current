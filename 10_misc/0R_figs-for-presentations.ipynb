{
 "cells": [
  {
   "cell_type": "markdown",
   "id": "13e4dbe8-b135-46c2-bf02-858003dddac0",
   "metadata": {},
   "source": [
    "# Figures for attribution presentations"
   ]
  },
  {
   "cell_type": "markdown",
   "id": "356cc59b-2fa9-4177-8c28-d1678f4f9479",
   "metadata": {},
   "source": [
    "## pdf shift plot"
   ]
  },
  {
   "cell_type": "markdown",
   "id": "b16d946d-5419-4d62-9410-be571a04153f",
   "metadata": {},
   "source": [
    "### Gaussian"
   ]
  },
  {
   "cell_type": "code",
   "execution_count": 210,
   "id": "e0b52425-eb57-4f1d-9f7a-d4122df7dd85",
   "metadata": {},
   "outputs": [
    {
     "data": {
      "text/html": [
       "<strong>png:</strong> 2"
      ],
      "text/latex": [
       "\\textbf{png:} 2"
      ],
      "text/markdown": [
       "**png:** 2"
      ],
      "text/plain": [
       "png \n",
       "  2 "
      ]
     },
     "metadata": {},
     "output_type": "display_data"
    }
   ],
   "source": [
    "library(shape)\n",
    "\n",
    "x <- seq(24,35,0.1)\n",
    "\n",
    "mean_f <- 30.562; sd_f <- 1.343\n",
    "mean_cf <- mean_f - 1.2; sd_cf <- sd_f - 0.1\n",
    "\n",
    "obs <- 32 #qnorm(0.8, mean_f, sd_f)\n",
    "xx <- seq(obs,35,0.01)\n",
    "\n",
    "png(\"pdf_gaussian_shiftscale.png\", height = 480, width = 480); {\n",
    "\n",
    "    # set plot parameters (scale text by 1.5x, set outer margins to remove whitespace)\n",
    "    par(cex = 1.5, mar = c(4,2,1,1))\n",
    "    \n",
    "    # create an empty plot - will probably need to change height of y-axis via second value in ylim\n",
    "    plot(0, type = \"n\", xaxs = \"i\", yaxs = \"i\", bty = \"n\", yaxt = \"n\", xlim = c(min(x) - 0.2, max(x)), ylim = c(0,0.425), xlab = \"\", ylab = \"\")\n",
    "    ymax <- par(\"usr\")[4]*0.925\n",
    "\n",
    "    # axes & axis labels\n",
    "    mtext(expression(\"Temperature (\"*degree*\"C)\"), side = 1, line = 2.5, cex = 1.5)\n",
    "    mtext(\"Likelihood\", side = 2, cex = 1.5)\n",
    "    Arrows(min(x),0,min(x),ymax, lwd = 3)\n",
    "    Arrows(min(x),0,max(x),0, lwd = 3)\n",
    "\n",
    "    # add lines showing counterfactual & factual densities\n",
    "    lines(x, dnorm(x, mean = mean_cf, sd = sd_cf), type = \"l\", lwd = 3, col = \"blue\")\n",
    "    lines(x, dnorm(x, mean = mean_f, sd = sd_f), type = \"l\", lwd = 3, col = \"red3\")\n",
    "    abline(h = 0, lwd = 3)\n",
    "\n",
    "    # add shaded polygons - currently non-overlapping \n",
    "    polygon(c(xx, rev(xx)), c(rep(0,length(xx)), rev(dnorm(xx, mean = mean_cf, sd = sd_cf))), col = adjustcolor(\"blue\", alpha = 0.3), border = NA)\n",
    "    polygon(c(xx, rev(xx)), c(dnorm(xx, mean = mean_cf, sd = sd_cf), rev(dnorm(xx, mean = mean_f, sd = sd_f))), col = adjustcolor(\"red\", alpha = 0.3), border = NA)\n",
    "\n",
    "    # line marking observed temperature\n",
    "    lines(rep(obs,2), c(0,ymax), col = \"dimgrey\", lty = 2, lwd = 3)\n",
    "    text(obs, ymax, \"Observed\", col = \"dimgrey\", pos = 3)\n",
    "    \n",
    "\n",
    "    # add labels (will need to play around with x & y coordinates to get best location)\n",
    "    text(28.3,.225, \"Cooler\\nclimate\", pos = 2, col = \"blue\")\n",
    "    # text(26.5,.2, expression(cooler), pos = 2, col = \"blue\")\n",
    "\n",
    "    text(30.6,.33, \"Current\\nclimate\", col = \"red3\")\n",
    "\n",
    "    text(33.3,.07, \"P1\", col = \"red3\")\n",
    "    text(33,.02, \"P0\", col = \"blue\")\n",
    "\n",
    "}; dev.off()"
   ]
  },
  {
   "cell_type": "markdown",
   "id": "4c8fa0ed-8621-4e19-ada7-1a25dc5e5e9e",
   "metadata": {},
   "source": [
    "### GEV"
   ]
  },
  {
   "cell_type": "code",
   "execution_count": 226,
   "id": "6cedbd75-14da-4f42-90dd-3f31cafbfa05",
   "metadata": {},
   "outputs": [
    {
     "data": {
      "text/html": [
       "<strong>png:</strong> 2"
      ],
      "text/latex": [
       "\\textbf{png:} 2"
      ],
      "text/markdown": [
       "**png:** 2"
      ],
      "text/plain": [
       "png \n",
       "  2 "
      ]
     },
     "metadata": {},
     "output_type": "display_data"
    }
   ],
   "source": [
    "library(shape)\n",
    "\n",
    "x <- seq(25,36,0.1)\n",
    "\n",
    "mean_f <- 30.562; sd_f <- 1.343; xi <- -0.2\n",
    "mean_cf <- mean_f - 1.2; sd_cf <- sd_f - 0.1\n",
    "\n",
    "obs <- 32\n",
    "xx <- seq(obs,max(x),0.01)\n",
    "\n",
    "png(\"pdf_gev_shiftscale.png\", height = 480, width = 480); {\n",
    "\n",
    "    # set plot parameters (scale text by 1.5x, set outer margins to remove whitespace)\n",
    "    par(cex = 1.5, mar = c(4,2,1,1))\n",
    "    \n",
    "    # create an empty plot - will probably need to change height of y-axis via second value in ylim\n",
    "    plot(0, type = \"n\", xaxs = \"i\", yaxs = \"i\", bty = \"n\", yaxt = \"n\", xlim = c(min(x) - 0.2, max(x)), ylim = c(0,0.465), xlab = \"\", ylab = \"\")\n",
    "    ymax <- par(\"usr\")[4]*0.925\n",
    "\n",
    "    # axes & axis labels\n",
    "    mtext(expression(\"Temperature (\"*degree*\"C)\"), side = 1, line = 2.5, cex = 1.5)\n",
    "    mtext(\"Likelihood\", side = 2, cex = 1.5)\n",
    "    Arrows(min(x),0,min(x),ymax, lwd = 3)\n",
    "    Arrows(min(x),0,max(x),0, lwd = 3)\n",
    "\n",
    "    # add lines showing counterfactual & factual densities\n",
    "    lines(x, devd(x, loc = mean_cf, scale = sd_cf, shape = xi), type = \"l\", lwd = 3, col = \"blue\")\n",
    "    lines(x, devd(x, loc = mean_f, scale = sd_f, shape = xi), type = \"l\", lwd = 3, col = \"red3\")\n",
    "    abline(h = 0, lwd = 3)\n",
    "\n",
    "    # add shaded polygons - currently non-overlapping \n",
    "    polygon(c(xx, rev(xx)), c(rep(0,length(xx)), rev(devd(xx, loc = mean_cf, scale = sd_cf, shape = xi))), col = adjustcolor(\"blue\", alpha = 0.3), border = NA)\n",
    "    polygon(c(xx, rev(xx)), c(devd(xx, loc = mean_cf, scale = sd_cf, shape = xi), rev(devd(xx, loc = mean_f, scale = sd_f, shape = xi))), col = adjustcolor(\"red\", alpha = 0.3), border = NA)\n",
    "\n",
    "    # line marking observed temperature\n",
    "    lines(rep(obs,2), c(0,ymax), col = \"dimgrey\", lty = 2, lwd = 3)\n",
    "    text(obs, ymax, \"Observed\", col = \"dimgrey\", pos = 3)\n",
    "    \n",
    "\n",
    "    # add labels (will need to play around with x & y coordinates to get best location)\n",
    "    text(28.3,.225, \"Cooler\\nclimate\", pos = 2, col = \"blue\")\n",
    "    # text(26.5,.2, expression(cooler), pos = 2, col = \"blue\")\n",
    "\n",
    "    text(30.6,.33, \"Current\\nclimate\", col = \"red3\")\n",
    "\n",
    "    text(33,.07, \"P1\", col = \"red3\")\n",
    "    text(32.4,.02, \"P0\", col = \"blue\")\n",
    "\n",
    "}; dev.off()"
   ]
  },
  {
   "cell_type": "markdown",
   "id": "affad8eb-dc42-466e-9eb0-75ae60d5093e",
   "metadata": {},
   "source": [
    "# CET time series plots"
   ]
  },
  {
   "cell_type": "code",
   "execution_count": 115,
   "id": "0830dcd1-7dbc-4c43-9bb9-e838b027a0ca",
   "metadata": {},
   "outputs": [],
   "source": [
    "suppressMessages(library(rwwa))\n",
    "library(shape)\n",
    "\n",
    "df <- merge(read.csv(\"cet_tx1x.csv\", col.names = c(\"year\", \"tmax\")), read.csv(\"gmst.csv\", col.names = c(\"year\", \"gmst\")))\n",
    "df$gmst <- df$gmst - df$gmst[df$year == 2022]\n",
    "df <- df[df$year < 2025,]\n",
    "\n",
    "mdl <- fit_ns(\"gev\", \"shift\", df, \"tmax\",\"gmst\", lower = F, ev_year = 2022)\n",
    "y_pi <- ns_pars(mdl, fixed_cov = data.frame(\"gmst\" = -1.3))$loc\n",
    "y_2022 <- ns_pars(mdl, fixed_cov = data.frame(\"gmst\" = 0))$loc\n",
    "\n",
    "loess_fit <- fitted(loess(tmax ~ gmst, df))\n",
    "\n",
    "erl_10 <- eff_return_level(mdl, 10)[order(df$gmst)]"
   ]
  },
  {
   "cell_type": "code",
   "execution_count": 116,
   "id": "49135be1-033b-488a-a858-be5170386497",
   "metadata": {},
   "outputs": [
    {
     "data": {
      "text/html": [
       "<strong>png:</strong> 2"
      ],
      "text/latex": [
       "\\textbf{png:} 2"
      ],
      "text/markdown": [
       "**png:** 2"
      ],
      "text/plain": [
       "png \n",
       "  2 "
      ]
     },
     "metadata": {},
     "output_type": "display_data"
    }
   ],
   "source": [
    "png(\"cet-timeseries-1.png\", height = 480, width = 480*2); {\n",
    "    plot(df[,c(\"year\", \"tmax\")], type = \"S\", lwd = 2, xlab = \"\", ylab = \"Maximum temperature (degC)\",\n",
    "        main = \"Central England Temperature series\")\n",
    "    points(df[df$year == 2022,c(\"year\", \"tmax\")], pch = 21, bg = \"magenta\", cex = 1.5)\n",
    "}; dev.off()"
   ]
  },
  {
   "cell_type": "code",
   "execution_count": 117,
   "id": "8a827a04-5b09-46e6-88b2-9cb2d4c65cf8",
   "metadata": {},
   "outputs": [
    {
     "data": {
      "text/html": [
       "<strong>png:</strong> 2"
      ],
      "text/latex": [
       "\\textbf{png:} 2"
      ],
      "text/markdown": [
       "**png:** 2"
      ],
      "text/plain": [
       "png \n",
       "  2 "
      ]
     },
     "metadata": {},
     "output_type": "display_data"
    }
   ],
   "source": [
    "png(\"cet-timeseries-2_tmax-vs-gmst.png\", height = 480, width = 480*2); {\n",
    "    plot_covtrend(mdl, \"gmst\", lwd = 2, xlab = \"Global mean surface temperature (GMST) anomaly vs 2022\", ylab =  \"Maximum temperature (degC)\",\n",
    "        main = \"Central England Temperature series\", add_loess = F)\n",
    "}; dev.off()"
   ]
  },
  {
   "cell_type": "code",
   "execution_count": 118,
   "id": "6380aecf-39f0-4dbc-99d8-6d006659fada",
   "metadata": {},
   "outputs": [
    {
     "data": {
      "text/html": [
       "<strong>png:</strong> 2"
      ],
      "text/latex": [
       "\\textbf{png:} 2"
      ],
      "text/markdown": [
       "**png:** 2"
      ],
      "text/plain": [
       "png \n",
       "  2 "
      ]
     },
     "metadata": {},
     "output_type": "display_data"
    }
   ],
   "source": [
    "png(\"cet-timeseries-3_tmax-vs-gmst-with-loess.png\", height = 480, width = 480*2); {\n",
    "    plot_covtrend(mdl, \"gmst\", lwd = 2, xlab = \"Global mean surface temperature (GMST) anomaly vs 2022\", ylab =  \"Maximum temperature (degC)\",\n",
    "        main = \"Central England Temperature series\", add_loess = T)\n",
    "}; dev.off()"
   ]
  },
  {
   "cell_type": "code",
   "execution_count": 119,
   "id": "e147c04a-ad23-486e-a640-e577a6c7c864",
   "metadata": {},
   "outputs": [
    {
     "data": {
      "text/html": [
       "<strong>png:</strong> 2"
      ],
      "text/latex": [
       "\\textbf{png:} 2"
      ],
      "text/markdown": [
       "**png:** 2"
      ],
      "text/plain": [
       "png \n",
       "  2 "
      ]
     },
     "metadata": {},
     "output_type": "display_data"
    }
   ],
   "source": [
    "png(\"cet-timeseries-4_tmax-vs-gmst-factual-counterfactual.png\", height = 480, width = 480*2); {\n",
    "    plot_covtrend(mdl, \"gmst\", lwd = 2, xlab = \"Global mean surface temperature (GMST) anomaly vs 2022\", ylab =  \"Maximum temperature (degC)\",\n",
    "        main = \"Central England Temperature series\", add_loess = T, ci_cov = data.frame(gmst = c(0, -1.3)))\n",
    "}; dev.off()"
   ]
  },
  {
   "cell_type": "code",
   "execution_count": 120,
   "id": "74c4d2a9-8816-4bce-ab0c-733f9d860768",
   "metadata": {},
   "outputs": [
    {
     "data": {
      "text/html": [
       "<strong>png:</strong> 2"
      ],
      "text/latex": [
       "\\textbf{png:} 2"
      ],
      "text/markdown": [
       "**png:** 2"
      ],
      "text/plain": [
       "png \n",
       "  2 "
      ]
     },
     "metadata": {},
     "output_type": "display_data"
    }
   ],
   "source": [
    "png(\"cet-timeseries-5_returnlevelplots.png\", height = 480, width = 480*2); {\n",
    "    plot_returnlevels(mdl, cov_f =  data.frame(gmst = 0), cov_cf = data.frame(gmst = -1.3), \n",
    "                      xlab = \"Global mean surface temperature (GMST) anomaly vs 2022\", ylab =  \"Maximum temperature (degC)\",\n",
    "                      main = \"Central England Temperature series\", model_desc = F, ylim = c(20,40), legend_pos = \"right\")\n",
    "}; dev.off()"
   ]
  },
  {
   "cell_type": "code",
   "execution_count": 121,
   "id": "d11301ee-5ef8-4125-842a-2cbc200b8449",
   "metadata": {},
   "outputs": [
    {
     "data": {
      "text/html": [
       "<strong>png:</strong> 2"
      ],
      "text/latex": [
       "\\textbf{png:} 2"
      ],
      "text/markdown": [
       "**png:** 2"
      ],
      "text/plain": [
       "png \n",
       "  2 "
      ]
     },
     "metadata": {},
     "output_type": "display_data"
    }
   ],
   "source": [
    "png(\"cet-timeseries-6_density-plots.png\", height = 360, width = 360); {\n",
    "\n",
    "    # it can also extract the model parameters for a fixed value of the covariates\n",
    "    pars_factual <- ns_pars(mdl, fixed_cov = data.frame(gmst = 0))\n",
    "    pars_counterfactual <- ns_pars(mdl, fixed_cov = data.frame(gmst = -1.3))\n",
    "    \n",
    "    #~~~~~~~~~~~~~~~~~~~~~~~~~~~~~~~~~~~~~~~~~~~~~~~~~~~~~~~~~~~~~~~~\n",
    "    # we can therefore plot the density of the temperatures as they would have been in today's climate, or in the counterfactual climate\n",
    "    par(lwd = 2, mar = c(4,4,1,1))\n",
    "    # plot(density(y_factual), col = \"red3\", ylim = c(0,0.175), main = \"\", xlab = \"Maximum temperature (degC)\")\n",
    "    plot(x <- seq(20,42,0.1), devd(x, loc = pars_factual$loc, scale = pars_factual$scale, shape = pars_factual$shape),\n",
    "         type = \"l\", col = \"red3\", lty = 1, xlab = \"Maximum temperature (degC)\", ylab = \"Density\", ylim = c(0,0.25))\n",
    "    \n",
    "    # lines(density(y_counterfactual), col = \"blue2\")\n",
    "    lines(x, devd(x, loc = pars_counterfactual$loc, scale = pars_counterfactual$scale, shape = pars_counterfactual$shape),\n",
    "         type = \"l\", col = \"blue2\", lty = 1)\n",
    "    \n",
    "    # add ticks to show temperatures that were actually observed\n",
    "    rug(df$tmax, lwd = 3)\n",
    "\n",
    "    legend(\"topright\", c(\"2024 climate\", \"Preindustrial climate\"), col = c(\"red3\", \"blue2\"), lwd = 3)\n",
    "    \n",
    "}; dev.off()"
   ]
  },
  {
   "cell_type": "code",
   "execution_count": 122,
   "id": "8df9e562-baca-424c-92fe-9d35d7b019fe",
   "metadata": {},
   "outputs": [],
   "source": [
    "boot_res <- boot_ci(mdl, cov_f = data.frame(gmst = 0), cov_cf = data.frame(gmst = -1.3))"
   ]
  },
  {
   "cell_type": "code",
   "execution_count": 124,
   "id": "05fd913b-d9ae-4eec-bfd5-afd3f56b781f",
   "metadata": {},
   "outputs": [
    {
     "data": {
      "text/html": [
       "<table class=\"dataframe\">\n",
       "<caption>A matrix: 10 × 3 of type dbl</caption>\n",
       "<thead>\n",
       "\t<tr><th></th><th scope=col>est</th><th scope=col>2.5%</th><th scope=col>97.5%</th></tr>\n",
       "</thead>\n",
       "<tbody>\n",
       "\t<tr><th scope=row>mu0</th><td> 29.555</td><td> 28.559</td><td>30.698</td></tr>\n",
       "\t<tr><th scope=row>sigma0</th><td>  2.014</td><td>  1.727</td><td> 2.246</td></tr>\n",
       "\t<tr><th scope=row>alpha_gmst</th><td>  2.614</td><td>  1.576</td><td> 3.724</td></tr>\n",
       "\t<tr><th scope=row>shape</th><td> -0.183</td><td> -0.327</td><td>-0.071</td></tr>\n",
       "\t<tr><th scope=row>disp</th><td>  0.068</td><td>  0.059</td><td> 0.076</td></tr>\n",
       "\t<tr><th scope=row>event_magnitude</th><td> 37.300</td><td> 37.300</td><td>37.300</td></tr>\n",
       "\t<tr><th scope=row>return_period</th><td>767.000</td><td>118.158</td><td>   Inf</td></tr>\n",
       "\t<tr><th scope=row>PR</th><td>    Inf</td><td>  9.766</td><td>   Inf</td></tr>\n",
       "\t<tr><th scope=row>dI_abs</th><td>  3.398</td><td>  2.183</td><td> 4.876</td></tr>\n",
       "\t<tr><th scope=row>dI_rel</th><td> 10.022</td><td>  6.218</td><td>15.038</td></tr>\n",
       "</tbody>\n",
       "</table>\n"
      ],
      "text/latex": [
       "A matrix: 10 × 3 of type dbl\n",
       "\\begin{tabular}{r|lll}\n",
       "  & est & 2.5\\% & 97.5\\%\\\\\n",
       "\\hline\n",
       "\tmu0 &  29.555 &  28.559 & 30.698\\\\\n",
       "\tsigma0 &   2.014 &   1.727 &  2.246\\\\\n",
       "\talpha\\_gmst &   2.614 &   1.576 &  3.724\\\\\n",
       "\tshape &  -0.183 &  -0.327 & -0.071\\\\\n",
       "\tdisp &   0.068 &   0.059 &  0.076\\\\\n",
       "\tevent\\_magnitude &  37.300 &  37.300 & 37.300\\\\\n",
       "\treturn\\_period & 767.000 & 118.158 &    Inf\\\\\n",
       "\tPR &     Inf &   9.766 &    Inf\\\\\n",
       "\tdI\\_abs &   3.398 &   2.183 &  4.876\\\\\n",
       "\tdI\\_rel &  10.022 &   6.218 & 15.038\\\\\n",
       "\\end{tabular}\n"
      ],
      "text/markdown": [
       "\n",
       "A matrix: 10 × 3 of type dbl\n",
       "\n",
       "| <!--/--> | est | 2.5% | 97.5% |\n",
       "|---|---|---|---|\n",
       "| mu0 |  29.555 |  28.559 | 30.698 |\n",
       "| sigma0 |   2.014 |   1.727 |  2.246 |\n",
       "| alpha_gmst |   2.614 |   1.576 |  3.724 |\n",
       "| shape |  -0.183 |  -0.327 | -0.071 |\n",
       "| disp |   0.068 |   0.059 |  0.076 |\n",
       "| event_magnitude |  37.300 |  37.300 | 37.300 |\n",
       "| return_period | 767.000 | 118.158 |    Inf |\n",
       "| PR |     Inf |   9.766 |    Inf |\n",
       "| dI_abs |   3.398 |   2.183 |  4.876 |\n",
       "| dI_rel |  10.022 |   6.218 | 15.038 |\n",
       "\n"
      ],
      "text/plain": [
       "                est     2.5%    97.5% \n",
       "mu0              29.555  28.559 30.698\n",
       "sigma0            2.014   1.727  2.246\n",
       "alpha_gmst        2.614   1.576  3.724\n",
       "shape            -0.183  -0.327 -0.071\n",
       "disp              0.068   0.059  0.076\n",
       "event_magnitude  37.300  37.300 37.300\n",
       "return_period   767.000 118.158    Inf\n",
       "PR                  Inf   9.766    Inf\n",
       "dI_abs            3.398   2.183  4.876\n",
       "dI_rel           10.022   6.218 15.038"
      ]
     },
     "metadata": {},
     "output_type": "display_data"
    }
   ],
   "source": [
    "round(boot_res, 3)"
   ]
  },
  {
   "cell_type": "markdown",
   "id": "4363f4a5-6125-401a-8bdc-99e37bb07bb9",
   "metadata": {},
   "source": [
    "---"
   ]
  },
  {
   "cell_type": "code",
   "execution_count": 9,
   "id": "33506c9a-ad74-4d8a-9562-0b68b5821f7d",
   "metadata": {},
   "outputs": [
    {
     "data": {
      "text/html": [
       "<strong>png:</strong> 2"
      ],
      "text/latex": [
       "\\textbf{png:} 2"
      ],
      "text/markdown": [
       "**png:** 2"
      ],
      "text/plain": [
       "png \n",
       "  2 "
      ]
     },
     "metadata": {},
     "output_type": "display_data"
    }
   ],
   "source": [
    "png(\"cet-timeseries-2.png\", height = 480, width = 480*2); {\n",
    "    plot(df[,c(\"year\", \"tmax\")], type = \"S\", lwd = 2, xlab = \"\", ylab = \"Maximum temperature (degC)\",\n",
    "        main = \"Central England Temperature series\")\n",
    "    points(df[df$year == 2022,c(\"year\", \"tmax\")], pch = 21, bg = \"magenta\", cex = 1.5)\n",
    "    lines(df$year, fitted(loess(tmax ~ year, df)), col = \"forestgreen\", lw = 2)\n",
    "}; dev.off()"
   ]
  },
  {
   "cell_type": "code",
   "execution_count": 10,
   "id": "943efb5b-6bc5-4fed-8a02-f94a72e814db",
   "metadata": {},
   "outputs": [
    {
     "data": {
      "text/html": [
       "<strong>png:</strong> 2"
      ],
      "text/latex": [
       "\\textbf{png:} 2"
      ],
      "text/markdown": [
       "**png:** 2"
      ],
      "text/plain": [
       "png \n",
       "  2 "
      ]
     },
     "metadata": {},
     "output_type": "display_data"
    }
   ],
   "source": [
    "png(\"cet-timeseries-3_vs-gmst.png\", height = 480, width = 480*2); {\n",
    "    plot(df[,c(\"gmst\", \"tmax\")], pch = 20, lwd = 2, xlab = \"Global mean surface temperature (GMST) anomaly vs 2022\", ylab = \"Maximum temperature (degC)\",\n",
    "        main = \"Central England Temperature series\", xlim = c(-1.45,0.25))\n",
    "    points(df[df$year == 2022,c(\"gmst\", \"tmax\")], pch = 21, bg = \"magenta\", cex = 1.5)\n",
    "}; dev.off()"
   ]
  },
  {
   "cell_type": "code",
   "execution_count": null,
   "id": "7d5875e6-2b00-4168-b07d-a337489cc2ed",
   "metadata": {},
   "outputs": [],
   "source": [
    "png(\"cet-timeseries-4_loess.png\", height = 480, width = 480*2); {\n",
    "    plot(df[,c(\"gmst\", \"tmax\")], pch = 20, lwd = 2, xlab = \"Global mean surface temperature (GMST) anomaly vs 2022\", ylab = \"Maximum temperature (degC)\",\n",
    "        main = \"Central England Temperature series\", xlim = c(-1.45,0.25))\n",
    "    points(df[df$year == 2022,c(\"gmst\", \"tmax\")], pch = 21, bg = \"magenta\", cex = 1.5)\n",
    "    lines(df$gmst, loess_fit, col = \"forestgreen\", lw = 2)\n",
    "}; dev.off()"
   ]
  },
  {
   "cell_type": "code",
   "execution_count": 12,
   "id": "fd851888-07c1-485a-a63d-31163c047066",
   "metadata": {},
   "outputs": [
    {
     "data": {
      "text/html": [
       "<strong>png:</strong> 2"
      ],
      "text/latex": [
       "\\textbf{png:} 2"
      ],
      "text/markdown": [
       "**png:** 2"
      ],
      "text/plain": [
       "png \n",
       "  2 "
      ]
     },
     "metadata": {},
     "output_type": "display_data"
    }
   ],
   "source": [
    "png(\"cet-timeseries-4_vs-gmst-loess.png\", height = 480, width = 480*2); {\n",
    "    plot(df[,c(\"gmst\", \"tmax\")], pch = 20, lwd = 2, xlab = \"Global mean surface temperature (GMST) anomaly vs 2022\", ylab = \"Maximum temperature (degC)\",\n",
    "        main = \"Central England Temperature series\", xlim = c(-1.45,0.25))\n",
    "    points(df[df$year == 2022,c(\"gmst\", \"tmax\")], pch = 21, bg = \"magenta\", cex = 1.5)\n",
    "    lines(df$gmst, loess_fit, col = \"forestgreen\", lw = 2)\n",
    "}; dev.off()"
   ]
  },
  {
   "cell_type": "code",
   "execution_count": 13,
   "id": "a13dd648-4b44-4ebf-89ff-2e75ef29a36f",
   "metadata": {},
   "outputs": [
    {
     "data": {
      "text/html": [
       "<strong>png:</strong> 2"
      ],
      "text/latex": [
       "\\textbf{png:} 2"
      ],
      "text/markdown": [
       "**png:** 2"
      ],
      "text/plain": [
       "png \n",
       "  2 "
      ]
     },
     "metadata": {},
     "output_type": "display_data"
    }
   ],
   "source": [
    "png(\"cet-timeseries-5_linear-model.png\", height = 480, width = 480*2); {\n",
    "    plot(df[,c(\"gmst\", \"tmax\")], pch = 20, lwd = 2, xlab = \"Global mean surface temperature (GMST) anomaly vs 2022\", ylab = \"Maximum temperature (degC)\",\n",
    "        main = \"Central England Temperature series\", xlim = c(-1.45,0.25))\n",
    "    points(df[df$year == 2022,c(\"gmst\", \"tmax\")], pch = 21, bg = \"magenta\", cex = 1.5)\n",
    "    lines(df$gmst, loess_fit, col = \"forestgreen\", lw = 2)\n",
    "    lines(df$gmst[order(df$gmst)], ns_pars(mdl)$loc[order(df$gmst)], col = \"darkred\", lw = 2)\n",
    "}; dev.off()"
   ]
  },
  {
   "cell_type": "code",
   "execution_count": 14,
   "id": "53399c1d-0621-4871-b942-f56948d6d7f5",
   "metadata": {},
   "outputs": [
    {
     "data": {
      "text/html": [
       "<strong>png:</strong> 2"
      ],
      "text/latex": [
       "\\textbf{png:} 2"
      ],
      "text/markdown": [
       "**png:** 2"
      ],
      "text/plain": [
       "png \n",
       "  2 "
      ]
     },
     "metadata": {},
     "output_type": "display_data"
    }
   ],
   "source": [
    "png(\"cet-timeseries-4_linear-model-only.png\", height = 480, width = 480*2); {\n",
    "    plot(df[,c(\"gmst\", \"tmax\")], pch = 20, lwd = 2, xlab = \"Global mean surface temperature (GMST) anomaly vs 2022\", ylab = \"Maximum temperature (degC)\",\n",
    "        main = \"Central England Temperature series\", xlim = c(-1.45,0.25))\n",
    "    points(df[df$year == 2022,c(\"gmst\", \"tmax\")], pch = 21, bg = \"magenta\", cex = 1.5)\n",
    "    lines(df$gmst[order(df$gmst)], ns_pars(mdl)$loc[order(df$gmst)], col = \"darkred\", lw = 2)\n",
    "}; dev.off()"
   ]
  },
  {
   "cell_type": "code",
   "execution_count": 15,
   "id": "b31e0aa8-7ebd-4452-958e-feac680be37b",
   "metadata": {},
   "outputs": [
    {
     "data": {
      "text/html": [
       "<strong>png:</strong> 2"
      ],
      "text/latex": [
       "\\textbf{png:} 2"
      ],
      "text/markdown": [
       "**png:** 2"
      ],
      "text/plain": [
       "png \n",
       "  2 "
      ]
     },
     "metadata": {},
     "output_type": "display_data"
    }
   ],
   "source": [
    "png(\"cet-timeseries-6_gmst-change.png\", height = 480, width = 480*2); {\n",
    "    plot(df[,c(\"gmst\", \"tmax\")], pch = 20, lwd = 2, xlab = \"Global mean surface temperature (GMST) anomaly vs 2022\", ylab = \"Maximum temperature (degC)\",\n",
    "        main = \"Central England Temperature series\", xlim = c(-1.45,0.25))\n",
    "    points(df[df$year == 2022,c(\"gmst\", \"tmax\")], pch = 21, bg = \"magenta\", cex = 1.5)\n",
    "    lines(df$gmst, loess_fit, col = \"forestgreen\", lw = 2)\n",
    "    Arrows(-1.2,y_pi,0,y_pi, col = \"orange\", lw = 2, arr.adj = 1, arr.type = \"curved\")\n",
    "    text(-0.4, y_pi-1, \"GMST has increased by 1.2C\", col = \"orange\", font = 2)\n",
    "\n",
    "    lines(df$gmst[order(df$gmst)], ns_pars(mdl)$loc[order(df$gmst)], col = \"darkred\", lw = 2)\n",
    "}; dev.off()"
   ]
  },
  {
   "cell_type": "code",
   "execution_count": 16,
   "id": "e82825c6-681a-4e7a-beac-4461fea63f26",
   "metadata": {},
   "outputs": [
    {
     "data": {
      "text/html": [
       "<strong>png:</strong> 2"
      ],
      "text/latex": [
       "\\textbf{png:} 2"
      ],
      "text/markdown": [
       "**png:** 2"
      ],
      "text/plain": [
       "png \n",
       "  2 "
      ]
     },
     "metadata": {},
     "output_type": "display_data"
    }
   ],
   "source": [
    "png(\"cet-timeseries-7_tmax-change.png\", height = 480, width = 480*2); {\n",
    "    plot(df[,c(\"gmst\", \"tmax\")], pch = 20, lwd = 2, xlab = \"Global mean surface temperature (GMST) anomaly vs 2022\", ylab = \"Maximum temperature (degC)\",\n",
    "        main = \"Central England Temperature series\", xlim = c(-1.45,0.25))\n",
    "    points(df[df$year == 2022,c(\"gmst\", \"tmax\")], pch = 21, bg = \"magenta\", cex = 1.5)\n",
    "    lines(df$gmst, loess_fit, col = \"forestgreen\", lw = 2)\n",
    "    Arrows(-1.2,y_pi,0,y_pi, col = \"orange\", lw = 2, arr.adj = 1, arr.type = \"curved\")\n",
    "    text(-0.4, y_pi-1, \"GMST has increased by 1.2C\", col = \"orange\", font = 2)\n",
    "    Arrows(0,y_pi,0,y_2022, col = \"orange\", lw = 2, arr.adj = 1, arr.type = \"curved\")\n",
    "    lines(df$gmst[order(df$gmst)], ns_pars(mdl)$loc[order(df$gmst)], col = \"darkred\", lw = 2)\n",
    "    text(0.02, y_2022-2.5, \"Average\\ntmax\\n increases\\nby 3C\", col = \"orange\", font = 2, adj = 0)\n",
    "\n",
    "}; dev.off()"
   ]
  },
  {
   "cell_type": "code",
   "execution_count": 17,
   "id": "ffe365c1-edc5-45a5-93d6-aa1306c77879",
   "metadata": {},
   "outputs": [
    {
     "data": {
      "text/html": [
       "<strong>png:</strong> 2"
      ],
      "text/latex": [
       "\\textbf{png:} 2"
      ],
      "text/markdown": [
       "**png:** 2"
      ],
      "text/plain": [
       "png \n",
       "  2 "
      ]
     },
     "metadata": {},
     "output_type": "display_data"
    }
   ],
   "source": [
    "png(\"cet-timeseries-8_return-levels.png\", height = 480, width = 480*2); {\n",
    "    plot(df[,c(\"gmst\", \"tmax\")], pch = 20, lwd = 2, xlab = \"Global mean surface temperature (GMST) anomaly vs 2022\", ylab = \"Maximum temperature (degC)\",\n",
    "        main = \"Central England Temperature series\", xlim = c(-1.45,0.25))\n",
    "    points(df[df$year == 2022,c(\"gmst\", \"tmax\")], pch = 21, bg = \"magenta\", cex = 1.5)\n",
    "    lines(df$gmst, loess_fit, col = \"forestgreen\", lw = 2)\n",
    "    lines(df$gmst[order(df$gmst)], ns_pars(mdl)$loc[order(df$gmst)], col = \"darkred\", lw = 2)\n",
    "    lines(df$gmst[order(df$gmst)], erl_10, col = \"darkred\", lw = 2, lty = 2)\n",
    "    text(0.05, erl_10[length(erl_10)], \"1-in-10-year\\nevent\", adj = 0, col = \"darkred\", font = 2)\n",
    "}; dev.off()"
   ]
  },
  {
   "cell_type": "code",
   "execution_count": 18,
   "id": "87f5e762-bd53-41ee-aa52-59ec6d05c7ab",
   "metadata": {},
   "outputs": [
    {
     "data": {
      "text/html": [
       "<strong>png:</strong> 2"
      ],
      "text/latex": [
       "\\textbf{png:} 2"
      ],
      "text/markdown": [
       "**png:** 2"
      ],
      "text/plain": [
       "png \n",
       "  2 "
      ]
     },
     "metadata": {},
     "output_type": "display_data"
    }
   ],
   "source": [
    "png(\"cet-timeseries-9_event-probability.png\", height = 480, width = 480*2); {\n",
    "    plot(df[,c(\"gmst\", \"tmax\")], pch = 20, lwd = 2, xlab = \"Global mean surface temperature (GMST) anomaly vs 2022\", ylab = \"Maximum temperature (degC)\",\n",
    "        main = \"Central England Temperature series\", xlim = c(-1.45,0.25))\n",
    "    points(df[df$year == 2022,c(\"gmst\", \"tmax\")], pch = 21, bg = \"magenta\", cex = 1.5)\n",
    "    lines(df$gmst, loess_fit, col = \"forestgreen\", lw = 2)\n",
    "    lines(df$gmst[order(df$gmst)], ns_pars(mdl)$loc[order(df$gmst)], col = \"darkred\", lw = 2)\n",
    "    lines(df$gmst[order(df$gmst)], erl_10, col = \"darkred\", lw = 2, lty = 2)\n",
    "    text(0.05, erl_10[length(erl_10)], \"1-in-10-year\\nevent\", adj = 0, col = \"darkred\", font = 2)\n",
    "    text(0.035, mdl$ev-0.2, \"1-in-800-year\\nevent\", adj = 0, col = \"darkred\", font = 2)\n",
    "}; dev.off()"
   ]
  },
  {
   "cell_type": "code",
   "execution_count": 19,
   "id": "294f3679-f9be-49e7-8d77-c6ed0a575001",
   "metadata": {},
   "outputs": [
    {
     "data": {
      "text/html": [
       "<strong>png:</strong> 2"
      ],
      "text/latex": [
       "\\textbf{png:} 2"
      ],
      "text/markdown": [
       "**png:** 2"
      ],
      "text/plain": [
       "png \n",
       "  2 "
      ]
     },
     "metadata": {},
     "output_type": "display_data"
    }
   ],
   "source": [
    "png(\"cet-timeseries-9_event-probability2.png\", height = 480, width = 480*2); {\n",
    "    plot(df[,c(\"gmst\", \"tmax\")], pch = 20, lwd = 2, xlab = \"Global mean surface temperature (GMST) anomaly vs 2022\", ylab = \"Maximum temperature (degC)\",\n",
    "        main = \"Central England Temperature series\", xlim = c(-1.45,0.25))\n",
    "    points(df[df$year == 2022,c(\"gmst\", \"tmax\")], pch = 21, bg = \"magenta\", cex = 1.5)\n",
    "    lines(df$gmst, loess_fit, col = \"forestgreen\", lw = 2)\n",
    "    lines(df$gmst[order(df$gmst)], ns_pars(mdl)$loc[order(df$gmst)], col = \"darkred\", lw = 2)\n",
    "    lines(df$gmst[order(df$gmst)], erl_10, col = \"darkred\", lw = 2, lty = 2)\n",
    "    text(0.05, erl_10[length(erl_10)], \"1-in-10-year\\nevent\", adj = 0, col = \"darkred\", font = 2)\n",
    "    text(0.035, mdl$ev-0.2, \"1-in-800-year\\nevent\", adj = 0, col = \"darkred\", font = 2)\n",
    "}; dev.off()"
   ]
  },
  {
   "cell_type": "markdown",
   "id": "f7ab2c79-eb51-4993-a570-41a4022d1374",
   "metadata": {},
   "source": [
    "# Scotland rainfall time series plots\n",
    "https://www.metoffice.gov.uk/hadobs/hadukp/data/download.html"
   ]
  },
  {
   "cell_type": "code",
   "execution_count": 78,
   "id": "f89b08cf-c28e-4b96-9188-d544e82c5292",
   "metadata": {},
   "outputs": [],
   "source": [
    "suppressMessages(library(rwwa))\n",
    "library(shape)\n",
    "\n",
    "df <- merge(read.csv(\"scotland_rx1x.csv\", col.names = c(\"year\", \"rx1x\")), read.csv(\"gmst.csv\", col.names = c(\"year\", \"gmst\")))\n",
    "df$gmst <- df$gmst - df$gmst[df$year == 2024]\n",
    "df <- df[df$year < 2025,]\n",
    "\n",
    "mdl <- fit_ns(\"gev\", \"fixeddisp\", df, \"rx1x\", \"gmst\", lower = F, ev_year = 2020)\n",
    "y_pi <- ns_pars(mdl, fixed_cov = data.frame(\"gmst\" = -1.2))$loc\n",
    "y_2022 <- ns_pars(mdl, fixed_cov = data.frame(\"gmst\" = 0))$loc\n",
    "\n",
    "loess_fit <- fitted(loess(rx1x ~ gmst, df))\n",
    "\n",
    "erl_10 <- eff_return_level(mdl, 10)[order(df$gmst)]"
   ]
  },
  {
   "cell_type": "code",
   "execution_count": 80,
   "id": "4648149f-8c41-4a9b-87c4-95fb7d3f0161",
   "metadata": {},
   "outputs": [
    {
     "data": {
      "text/html": [
       "<strong>png:</strong> 2"
      ],
      "text/latex": [
       "\\textbf{png:} 2"
      ],
      "text/markdown": [
       "**png:** 2"
      ],
      "text/plain": [
       "png \n",
       "  2 "
      ]
     },
     "metadata": {},
     "output_type": "display_data"
    }
   ],
   "source": [
    "png(\"scotpr-timeseries-2_rx1x-vs-gmst.png\", height = 480, width = 480*2); {\n",
    "    plot_covtrend(mdl, \"gmst\", lwd = 2, xlab = \"Global mean surface temperature (GMST) anomaly vs 2022\", ylab = \"Annual maximum daily rainfall (mm)\",\n",
    "        main = \"Daily rainfall accumulated over eastern Scotland\")\n",
    "}; dev.off()"
   ]
  },
  {
   "cell_type": "markdown",
   "id": "96b67369-d74a-4cf6-9b63-c253342f5a29",
   "metadata": {},
   "source": [
    "# Figures for NAS panel"
   ]
  },
  {
   "cell_type": "markdown",
   "id": "7c4e3bf6-c568-45db-9f0c-47334650b029",
   "metadata": {},
   "source": [
    "# Quick pdf plot\n"
   ]
  },
  {
   "cell_type": "code",
   "execution_count": 92,
   "id": "55b5b483-9200-4a11-8beb-9975da97f8fc",
   "metadata": {},
   "outputs": [],
   "source": [
    "library(shape)\n",
    "\n",
    "mean_f <- 30.562; sd_f <- 1.343\n",
    "mean_cf <- mean_f - 1.2; sd_cf <- sd_f - 0.1\n",
    "obs <- 32 #qnorm(0.8, mean_f, sd_f)\n",
    "x <- seq(24,35,0.1)"
   ]
  },
  {
   "cell_type": "code",
   "execution_count": 119,
   "id": "356f8928-d48b-455a-9de8-ad7032a4dd72",
   "metadata": {},
   "outputs": [
    {
     "data": {
      "text/html": [
       "<strong>png:</strong> 2"
      ],
      "text/latex": [
       "\\textbf{png:} 2"
      ],
      "text/markdown": [
       "**png:** 2"
      ],
      "text/plain": [
       "png \n",
       "  2 "
      ]
     },
     "metadata": {},
     "output_type": "display_data"
    }
   ],
   "source": [
    "qpdf_norm <- function(mean_f, sd_f, mean_cf, sd_cf, obs, x, xlab = \"\") {\n",
    "\n",
    "    if(missing(x)) {\n",
    "        xlim <- range(mean_f + 4*sd_f*c(-1,1), mean_cf + 4*sd_cf*c(-1,1))\n",
    "        x <- seq(xlim[1],xlim[2], 0.01)\n",
    "    }\n",
    "    xx <- seq(obs,max(x),diff(x)[1]/10)\n",
    "\n",
    "    dns_f <- dnorm(x, mean = mean_f, sd = sd_f)\n",
    "    dns_cf <- dnorm(x, mean = mean_cf, sd = sd_cf)\n",
    "\n",
    "    # create an empty plot - will probably need to change height of y-axis via second value in ylim\n",
    "    plot(0, type = \"n\", xaxs = \"i\", yaxs = \"i\", bty = \"n\", yaxt = \"n\", xlim = c(min(x) - 0.2, max(x)), ylim = c(0,max(dns_f, dns_cf) * 1.2), xlab = \"\", ylab = \"\")\n",
    "    ymax <- par(\"usr\")[4]*0.925\n",
    "\n",
    "    mtext(xlab, side = 1, line = 2.5, cex = 1.5)\n",
    "    mtext(\"Likelihood\", side = 2, cex = 1.5)\n",
    "\n",
    "    # add lines showing counterfactual & factual densities\n",
    "    lines(x, dns_cf, type = \"l\", lwd = 3, col = \"blue\")\n",
    "    lines(x, dns_f, type = \"l\", lwd = 3, col = \"red3\")\n",
    "    abline(h = 0, lwd = 3)\n",
    "\n",
    "    # add shaded polygons - currently non-overlapping \n",
    "    polygon(c(xx, rev(xx)), c(rep(0,length(xx)), rev(dnorm(xx, mean = mean_cf, sd = sd_cf))), col = adjustcolor(\"blue\", alpha = 0.3), border = NA)\n",
    "    polygon(c(xx, rev(xx)), c(dnorm(xx, mean = mean_cf, sd = sd_cf), rev(dnorm(xx, mean = mean_f, sd = sd_f))), col = adjustcolor(\"red\", alpha = 0.3), border = NA)\n",
    "\n",
    "    # line marking observed temperature\n",
    "    lines(rep(obs,2), c(0,ymax), col = \"dimgrey\", lty = 2, lwd = 3)\n",
    "    text(obs, ymax, \"Observed\", col = \"dimgrey\", pos = 3)\n",
    "\n",
    "    Arrows(min(x),0,min(x),ymax, lwd = 3)\n",
    "    Arrows(min(x),0,max(x),0, lwd = 3, arr.adj = 1)\n",
    "\n",
    "}\n"
   ]
  },
  {
   "cell_type": "markdown",
   "id": "fbe825a4-085e-4301-96e0-90feb4f0d187",
   "metadata": {},
   "source": [
    "## Madagascar heatwave"
   ]
  },
  {
   "cell_type": "code",
   "execution_count": null,
   "id": "f5ab8df1-4c9f-4c9c-b7b6-2dad58c9143d",
   "metadata": {},
   "outputs": [],
   "source": [
    "suppressMessages(library(rwwa))\n",
    "library(shape)\n",
    "\n",
    "df <- merge(read.table(\"gmst.txt\", col.names = c(\"year\", \"gmst\")), read.table(\"madagascar-heat.txt\", col.names = c(\"year\", \"tx\")))\n",
    "df$gmst <- df$gmst - df$gmst[df$year == 2023]\n",
    "\n",
    "cov_2023 <- df[df$year == 2023,\"gmst\",drop=F]\n",
    "cov_pi <- cov_2023 - 1.2"
   ]
  },
  {
   "cell_type": "code",
   "execution_count": 31,
   "id": "1c0619b1-3131-4cb9-a5c7-99ac4ff4a031",
   "metadata": {},
   "outputs": [],
   "source": [
    "mdl <- fit_ns(\"norm\", \"shift\", data = df[df$year >= 1950,], varnm = \"tx\", covnm = \"gmst\")"
   ]
  },
  {
   "cell_type": "code",
   "execution_count": 151,
   "id": "410e43de-73ae-4a0b-90f5-448423a45f87",
   "metadata": {},
   "outputs": [
    {
     "data": {
      "text/html": [
       "<strong>png:</strong> 2"
      ],
      "text/latex": [
       "\\textbf{png:} 2"
      ],
      "text/markdown": [
       "**png:** 2"
      ],
      "text/plain": [
       "png \n",
       "  2 "
      ]
     },
     "metadata": {},
     "output_type": "display_data"
    }
   ],
   "source": [
    "png(\"gmsttrend_madagascar.png\", height = 360, width = 620); par(mar = c(4,4,1,1)); {\n",
    "    plot_covtrend(mdl, \"gmst\", add_loess = F, ylab = \"October mean temperature (ERA5)\", ci_cov = rbind(cov_2023, cov_pi), xlab = \"GMST (degrees cooler than 2023)\")\n",
    "}; dev.off()"
   ]
  },
  {
   "cell_type": "code",
   "execution_count": 126,
   "id": "84a222de-4cac-429d-9391-a513e8c1bd70",
   "metadata": {
    "scrolled": true
   },
   "outputs": [
    {
     "data": {
      "text/html": [
       "<strong>png:</strong> 2"
      ],
      "text/latex": [
       "\\textbf{png:} 2"
      ],
      "text/markdown": [
       "**png:** 2"
      ],
      "text/plain": [
       "png \n",
       "  2 "
      ]
     },
     "metadata": {},
     "output_type": "display_data"
    }
   ],
   "source": [
    "png(\"pdf_madagascar.png\", height = 480, width = 480); par(mar = c(4,2,1,1)); {\n",
    "qpdf_norm(mean_f = ns_pars(mdl, fixed_cov = cov_2023)$loc, sd_f = ns_pars(mdl, fixed_cov = cov_2023)$scale,\n",
    "          mean_cf = ns_pars(mdl, fixed_cov = cov_pi)$loc, sd_cf = ns_pars(mdl, fixed_cov = cov_pi)$scale,\n",
    "          obs = mdl$ev, xlab = \"October mean temperature (degC)\")\n",
    "    }; dev.off()"
   ]
  },
  {
   "cell_type": "code",
   "execution_count": 128,
   "id": "83f50ed7-0eb8-4fc4-a694-a2f7e028ca08",
   "metadata": {},
   "outputs": [
    {
     "data": {
      "text/html": [
       "<strong>png:</strong> 2"
      ],
      "text/latex": [
       "\\textbf{png:} 2"
      ],
      "text/markdown": [
       "**png:** 2"
      ],
      "text/plain": [
       "png \n",
       "  2 "
      ]
     },
     "metadata": {},
     "output_type": "display_data"
    }
   ],
   "source": [
    "png(\"rlplot_madagascar.png\", height = 480, width = 480); par(mar = c(4,4,1,1)); {\n",
    "    plot_returnlevels(mdl, cov_f = cov_2023, cov_cf = cov_pi, legend_pos = \"topleft\", ylab = \"October mean temperature (degC)\")\n",
    "}; dev.off()"
   ]
  },
  {
   "cell_type": "markdown",
   "id": "1282c39e-1415-40e0-b2c0-3763c8315211",
   "metadata": {},
   "source": [
    "## Horn of Africa rainfall"
   ]
  },
  {
   "cell_type": "code",
   "execution_count": 46,
   "id": "f9fa4ff6-3678-4978-b0c3-a50b303ee012",
   "metadata": {},
   "outputs": [],
   "source": [
    "suppressMessages(library(rwwa))\n",
    "\n",
    "df <- merge(merge(read.table(\"gmst.txt\", col.names = c(\"year\", \"gmst\")),\n",
    "                  read.table(\"iod_son.txt\", col.names = c(\"year\", \"iod\"))), \n",
    "            read.table(\"hoa-ond.txt\", col.names = c(\"year\", \"pr\")))\n",
    "df$gmst <- df$gmst - df$gmst[df$year == 2023]\n",
    "df$pr <- df$pr * 30 # correct to mm/30day\n",
    "\n",
    "cov_2023 <- df[df$year == 2023,c(\"gmst\", \"iod\"),drop=F]\n",
    "cov_pi <- cov_2023 - c(1.2, 0)"
   ]
  },
  {
   "cell_type": "code",
   "execution_count": 47,
   "id": "d2aa56f8-7aaa-42dc-b541-2d9309b32c18",
   "metadata": {},
   "outputs": [],
   "source": [
    "mdl <- fit_ns(\"norm\", \"fixeddisp\", data = df[df$year >= 1950,], varnm = \"pr\", covnm = c(\"gmst\", \"iod\"))"
   ]
  },
  {
   "cell_type": "code",
   "execution_count": 56,
   "id": "2c709bb1-8ecf-4913-826f-9d301b345f39",
   "metadata": {},
   "outputs": [
    {
     "data": {
      "text/html": [
       "<strong>png:</strong> 2"
      ],
      "text/latex": [
       "\\textbf{png:} 2"
      ],
      "text/markdown": [
       "**png:** 2"
      ],
      "text/plain": [
       "png \n",
       "  2 "
      ]
     },
     "metadata": {},
     "output_type": "display_data"
    }
   ],
   "source": [
    "png(\"hoa_rx30day-vs-year.png\", h = 360, w = 540); {\n",
    "\n",
    "    plot_trend(mdl, ylim = c(0,400), ylab = \"rx30day in the Horn of Africa (mm)\", main = \"rx30day ~ GMST + IOD_SON\")\n",
    "}; dev.off()"
   ]
  },
  {
   "cell_type": "code",
   "execution_count": 57,
   "id": "b3a87ffd-8f41-4cbb-b090-6332e940511c",
   "metadata": {},
   "outputs": [
    {
     "data": {
      "text/html": [
       "<strong>png:</strong> 2"
      ],
      "text/latex": [
       "\\textbf{png:} 2"
      ],
      "text/markdown": [
       "**png:** 2"
      ],
      "text/plain": [
       "png \n",
       "  2 "
      ]
     },
     "metadata": {},
     "output_type": "display_data"
    }
   ],
   "source": [
    "png(\"hoa_rx30day-vs-iod.png\", h = 360, w = 540); {\n",
    "    plot_covtrend(mdl, \"iod\", ylim = c(0,400), ylab = \"rx30day in the Horn of Africa (mm)\", main = \"rx30day ~ GMST + IOD_SON\")\n",
    "    abline(v = 0, lty = 2)\n",
    "}; dev.off()\n"
   ]
  },
  {
   "cell_type": "code",
   "execution_count": null,
   "id": "bd01f43c-7af7-4aeb-9e07-4fc6555d2c48",
   "metadata": {},
   "outputs": [],
   "source": []
  }
 ],
 "metadata": {
  "kernelspec": {
   "display_name": "R [conda env:r_env]",
   "language": "R",
   "name": "conda-env-r_env-r"
  },
  "language_info": {
   "codemirror_mode": "r",
   "file_extension": ".r",
   "mimetype": "text/x-r-source",
   "name": "R",
   "pygments_lexer": "r",
   "version": "4.2.3"
  }
 },
 "nbformat": 4,
 "nbformat_minor": 5
}
