{
 "cells": [
  {
   "cell_type": "markdown",
   "id": "13e4dbe8-b135-46c2-bf02-858003dddac0",
   "metadata": {},
   "source": [
    "# Figures for attribution presentation"
   ]
  },
  {
   "cell_type": "markdown",
   "id": "356cc59b-2fa9-4177-8c28-d1678f4f9479",
   "metadata": {},
   "source": [
    "## pdf shift plot"
   ]
  },
  {
   "cell_type": "markdown",
   "id": "b16d946d-5419-4d62-9410-be571a04153f",
   "metadata": {},
   "source": [
    "### Gaussian"
   ]
  },
  {
   "cell_type": "code",
   "execution_count": 210,
   "id": "e0b52425-eb57-4f1d-9f7a-d4122df7dd85",
   "metadata": {},
   "outputs": [
    {
     "data": {
      "text/html": [
       "<strong>png:</strong> 2"
      ],
      "text/latex": [
       "\\textbf{png:} 2"
      ],
      "text/markdown": [
       "**png:** 2"
      ],
      "text/plain": [
       "png \n",
       "  2 "
      ]
     },
     "metadata": {},
     "output_type": "display_data"
    }
   ],
   "source": [
    "library(shape)\n",
    "\n",
    "x <- seq(24,35,0.1)\n",
    "\n",
    "mean_f <- 30.562; sd_f <- 1.343\n",
    "mean_cf <- mean_f - 1.2; sd_cf <- sd_f - 0.1\n",
    "\n",
    "obs <- 32 #qnorm(0.8, mean_f, sd_f)\n",
    "xx <- seq(obs,35,0.01)\n",
    "\n",
    "png(\"pdf_gaussian_shiftscale.png\", height = 480, width = 480); {\n",
    "\n",
    "    # set plot parameters (scale text by 1.5x, set outer margins to remove whitespace)\n",
    "    par(cex = 1.5, mar = c(4,2,1,1))\n",
    "    \n",
    "    # create an empty plot - will probably need to change height of y-axis via second value in ylim\n",
    "    plot(0, type = \"n\", xaxs = \"i\", yaxs = \"i\", bty = \"n\", yaxt = \"n\", xlim = c(min(x) - 0.2, max(x)), ylim = c(0,0.425), xlab = \"\", ylab = \"\")\n",
    "    ymax <- par(\"usr\")[4]*0.925\n",
    "\n",
    "    # axes & axis labels\n",
    "    mtext(expression(\"Temperature (\"*degree*\"C)\"), side = 1, line = 2.5, cex = 1.5)\n",
    "    mtext(\"Likelihood\", side = 2, cex = 1.5)\n",
    "    Arrows(min(x),0,min(x),ymax, lwd = 3)\n",
    "    Arrows(min(x),0,max(x),0, lwd = 3)\n",
    "\n",
    "    # add lines showing counterfactual & factual densities\n",
    "    lines(x, dnorm(x, mean = mean_cf, sd = sd_cf), type = \"l\", lwd = 3, col = \"blue\")\n",
    "    lines(x, dnorm(x, mean = mean_f, sd = sd_f), type = \"l\", lwd = 3, col = \"red3\")\n",
    "    abline(h = 0, lwd = 3)\n",
    "\n",
    "    # add shaded polygons - currently non-overlapping \n",
    "    polygon(c(xx, rev(xx)), c(rep(0,length(xx)), rev(dnorm(xx, mean = mean_cf, sd = sd_cf))), col = adjustcolor(\"blue\", alpha = 0.3), border = NA)\n",
    "    polygon(c(xx, rev(xx)), c(dnorm(xx, mean = mean_cf, sd = sd_cf), rev(dnorm(xx, mean = mean_f, sd = sd_f))), col = adjustcolor(\"red\", alpha = 0.3), border = NA)\n",
    "\n",
    "    # line marking observed temperature\n",
    "    lines(rep(obs,2), c(0,ymax), col = \"dimgrey\", lty = 2, lwd = 3)\n",
    "    text(obs, ymax, \"Observed\", col = \"dimgrey\", pos = 3)\n",
    "    \n",
    "\n",
    "    # add labels (will need to play around with x & y coordinates to get best location)\n",
    "    text(28.3,.225, \"Cooler\\nclimate\", pos = 2, col = \"blue\")\n",
    "    # text(26.5,.2, expression(cooler), pos = 2, col = \"blue\")\n",
    "\n",
    "    text(30.6,.33, \"Current\\nclimate\", col = \"red3\")\n",
    "\n",
    "    text(33.3,.07, \"P1\", col = \"red3\")\n",
    "    text(33,.02, \"P0\", col = \"blue\")\n",
    "\n",
    "}; dev.off()"
   ]
  },
  {
   "cell_type": "markdown",
   "id": "4c8fa0ed-8621-4e19-ada7-1a25dc5e5e9e",
   "metadata": {},
   "source": [
    "### GEV"
   ]
  },
  {
   "cell_type": "code",
   "execution_count": 226,
   "id": "6cedbd75-14da-4f42-90dd-3f31cafbfa05",
   "metadata": {},
   "outputs": [
    {
     "data": {
      "text/html": [
       "<strong>png:</strong> 2"
      ],
      "text/latex": [
       "\\textbf{png:} 2"
      ],
      "text/markdown": [
       "**png:** 2"
      ],
      "text/plain": [
       "png \n",
       "  2 "
      ]
     },
     "metadata": {},
     "output_type": "display_data"
    }
   ],
   "source": [
    "library(shape)\n",
    "\n",
    "x <- seq(25,36,0.1)\n",
    "\n",
    "mean_f <- 30.562; sd_f <- 1.343; xi <- -0.2\n",
    "mean_cf <- mean_f - 1.2; sd_cf <- sd_f - 0.1\n",
    "\n",
    "obs <- 32\n",
    "xx <- seq(obs,max(x),0.01)\n",
    "\n",
    "png(\"pdf_gev_shiftscale.png\", height = 480, width = 480); {\n",
    "\n",
    "    # set plot parameters (scale text by 1.5x, set outer margins to remove whitespace)\n",
    "    par(cex = 1.5, mar = c(4,2,1,1))\n",
    "    \n",
    "    # create an empty plot - will probably need to change height of y-axis via second value in ylim\n",
    "    plot(0, type = \"n\", xaxs = \"i\", yaxs = \"i\", bty = \"n\", yaxt = \"n\", xlim = c(min(x) - 0.2, max(x)), ylim = c(0,0.465), xlab = \"\", ylab = \"\")\n",
    "    ymax <- par(\"usr\")[4]*0.925\n",
    "\n",
    "    # axes & axis labels\n",
    "    mtext(expression(\"Temperature (\"*degree*\"C)\"), side = 1, line = 2.5, cex = 1.5)\n",
    "    mtext(\"Likelihood\", side = 2, cex = 1.5)\n",
    "    Arrows(min(x),0,min(x),ymax, lwd = 3)\n",
    "    Arrows(min(x),0,max(x),0, lwd = 3)\n",
    "\n",
    "    # add lines showing counterfactual & factual densities\n",
    "    lines(x, devd(x, loc = mean_cf, scale = sd_cf, shape = xi), type = \"l\", lwd = 3, col = \"blue\")\n",
    "    lines(x, devd(x, loc = mean_f, scale = sd_f, shape = xi), type = \"l\", lwd = 3, col = \"red3\")\n",
    "    abline(h = 0, lwd = 3)\n",
    "\n",
    "    # add shaded polygons - currently non-overlapping \n",
    "    polygon(c(xx, rev(xx)), c(rep(0,length(xx)), rev(devd(xx, loc = mean_cf, scale = sd_cf, shape = xi))), col = adjustcolor(\"blue\", alpha = 0.3), border = NA)\n",
    "    polygon(c(xx, rev(xx)), c(devd(xx, loc = mean_cf, scale = sd_cf, shape = xi), rev(devd(xx, loc = mean_f, scale = sd_f, shape = xi))), col = adjustcolor(\"red\", alpha = 0.3), border = NA)\n",
    "\n",
    "    # line marking observed temperature\n",
    "    lines(rep(obs,2), c(0,ymax), col = \"dimgrey\", lty = 2, lwd = 3)\n",
    "    text(obs, ymax, \"Observed\", col = \"dimgrey\", pos = 3)\n",
    "    \n",
    "\n",
    "    # add labels (will need to play around with x & y coordinates to get best location)\n",
    "    text(28.3,.225, \"Cooler\\nclimate\", pos = 2, col = \"blue\")\n",
    "    # text(26.5,.2, expression(cooler), pos = 2, col = \"blue\")\n",
    "\n",
    "    text(30.6,.33, \"Current\\nclimate\", col = \"red3\")\n",
    "\n",
    "    text(33,.07, \"P1\", col = \"red3\")\n",
    "    text(32.4,.02, \"P0\", col = \"blue\")\n",
    "\n",
    "}; dev.off()"
   ]
  },
  {
   "cell_type": "markdown",
   "id": "affad8eb-dc42-466e-9eb0-75ae60d5093e",
   "metadata": {},
   "source": [
    "# CET time series plots"
   ]
  },
  {
   "cell_type": "code",
   "execution_count": 9,
   "id": "d2fec5b6-5bd6-4132-a70e-4a96d41f9435",
   "metadata": {},
   "outputs": [],
   "source": [
    "suppressMessages(library(rwwa))\n",
    "library(shape)\n",
    "\n",
    "df <- merge(read.csv(\"cet_tx1x.csv\", col.names = c(\"year\", \"tmax\")), read.csv(\"gmst.csv\", col.names = c(\"year\", \"gmst\")))\n",
    "df$gmst <- df$gmst - df$gmst[df$year == 2022]\n",
    "\n",
    "mdl <- fit_ns(\"gev\", \"shift\", df, \"tmax\",\"gmst\", lower = F, ev_year = 2022)\n",
    "y_pi <- ns_pars(mdl, fixed_cov = data.frame(\"gmst\" = -1.2))$loc\n",
    "y_2022 <- ns_pars(mdl, fixed_cov = data.frame(\"gmst\" = 0))$loc\n",
    "\n",
    "loess_fit <- fitted(loess(tmax ~ gmst, df))\n",
    "\n",
    "erl_10 <- eff_return_level(mdl, 10)[order(df$gmst)]"
   ]
  },
  {
   "cell_type": "code",
   "execution_count": 198,
   "id": "49135be1-033b-488a-a858-be5170386497",
   "metadata": {},
   "outputs": [
    {
     "data": {
      "text/html": [
       "<strong>png:</strong> 2"
      ],
      "text/latex": [
       "\\textbf{png:} 2"
      ],
      "text/markdown": [
       "**png:** 2"
      ],
      "text/plain": [
       "png \n",
       "  2 "
      ]
     },
     "metadata": {},
     "output_type": "display_data"
    }
   ],
   "source": [
    "png(\"cet-timeseries-1.png\", height = 480, width = 480*2); {\n",
    "    plot(df[,c(\"year\", \"tmax\")], type = \"S\", lwd = 2, xlab = \"\", ylab = \"Maximum temperature (degC)\",\n",
    "        main = \"Central England Temperature series\")\n",
    "    points(df[df$year == 2022,c(\"year\", \"tmax\")], pch = 21, bg = \"magenta\", cex = 1.5)\n",
    "}; dev.off()"
   ]
  },
  {
   "cell_type": "code",
   "execution_count": 199,
   "id": "33506c9a-ad74-4d8a-9562-0b68b5821f7d",
   "metadata": {},
   "outputs": [
    {
     "data": {
      "text/html": [
       "<strong>png:</strong> 2"
      ],
      "text/latex": [
       "\\textbf{png:} 2"
      ],
      "text/markdown": [
       "**png:** 2"
      ],
      "text/plain": [
       "png \n",
       "  2 "
      ]
     },
     "metadata": {},
     "output_type": "display_data"
    }
   ],
   "source": [
    "png(\"cet-timeseries-2.png\", height = 480, width = 480*2); {\n",
    "    plot(df[,c(\"year\", \"tmax\")], type = \"S\", lwd = 2, xlab = \"\", ylab = \"Maximum temperature (degC)\",\n",
    "        main = \"Central England Temperature series\")\n",
    "    points(df[df$year == 2022,c(\"year\", \"tmax\")], pch = 21, bg = \"magenta\", cex = 1.5)\n",
    "    lines(df$year, fitted(loess(tmax ~ year, df)), col = \"forestgreen\", lw = 2)\n",
    "}; dev.off()"
   ]
  },
  {
   "cell_type": "code",
   "execution_count": 200,
   "id": "943efb5b-6bc5-4fed-8a02-f94a72e814db",
   "metadata": {},
   "outputs": [
    {
     "data": {
      "text/html": [
       "<strong>png:</strong> 2"
      ],
      "text/latex": [
       "\\textbf{png:} 2"
      ],
      "text/markdown": [
       "**png:** 2"
      ],
      "text/plain": [
       "png \n",
       "  2 "
      ]
     },
     "metadata": {},
     "output_type": "display_data"
    }
   ],
   "source": [
    "png(\"cet-timeseries-3_vs-gmst.png\", height = 480, width = 480*2); {\n",
    "    plot(df[,c(\"gmst\", \"tmax\")], pch = 20, lwd = 2, xlab = \"Global mean surface temperature (GMST) anomaly vs 2022\", ylab = \"Maximum temperature (degC)\",\n",
    "        main = \"Central England Temperature series\", xlim = c(-1.45,0.25))\n",
    "    points(df[df$year == 2022,c(\"gmst\", \"tmax\")], pch = 21, bg = \"magenta\", cex = 1.5)\n",
    "}; dev.off()"
   ]
  },
  {
   "cell_type": "code",
   "execution_count": 201,
   "id": "fd851888-07c1-485a-a63d-31163c047066",
   "metadata": {},
   "outputs": [
    {
     "data": {
      "text/html": [
       "<strong>png:</strong> 2"
      ],
      "text/latex": [
       "\\textbf{png:} 2"
      ],
      "text/markdown": [
       "**png:** 2"
      ],
      "text/plain": [
       "png \n",
       "  2 "
      ]
     },
     "metadata": {},
     "output_type": "display_data"
    }
   ],
   "source": [
    "png(\"cet-timeseries-4_vs-gmst-loess.png\", height = 480, width = 480*2); {\n",
    "    plot(df[,c(\"gmst\", \"tmax\")], pch = 20, lwd = 2, xlab = \"Global mean surface temperature (GMST) anomaly vs 2022\", ylab = \"Maximum temperature (degC)\",\n",
    "        main = \"Central England Temperature series\", xlim = c(-1.45,0.25))\n",
    "    points(df[df$year == 2022,c(\"gmst\", \"tmax\")], pch = 21, bg = \"magenta\", cex = 1.5)\n",
    "    lines(df$gmst, loess_fit, col = \"forestgreen\", lw = 2)\n",
    "}; dev.off()"
   ]
  },
  {
   "cell_type": "code",
   "execution_count": null,
   "id": "a13dd648-4b44-4ebf-89ff-2e75ef29a36f",
   "metadata": {},
   "outputs": [],
   "source": [
    "png(\"cet-timeseries-5_linear-model.png\", height = 480, width = 480*2); {\n",
    "    plot(df[,c(\"gmst\", \"tmax\")], pch = 20, lwd = 2, xlab = \"Global mean surface temperature (GMST) anomaly vs 2022\", ylab = \"Maximum temperature (degC)\",\n",
    "        main = \"Central England Temperature series\", xlim = c(-1.45,0.25))\n",
    "    points(df[df$year == 2022,c(\"gmst\", \"tmax\")], pch = 21, bg = \"magenta\", cex = 1.5)\n",
    "    lines(df$gmst, loess_fit, col = \"forestgreen\", lw = 2)\n",
    "    lines(df$gmst[order(df$gmst)], ns_pars(mdl)$loc[order(df$gmst)], col = \"darkred\", lw = 2)\n",
    "}; dev.off()"
   ]
  },
  {
   "cell_type": "code",
   "execution_count": 3,
   "id": "53399c1d-0621-4871-b942-f56948d6d7f5",
   "metadata": {},
   "outputs": [
    {
     "data": {
      "text/html": [
       "<strong>png:</strong> 2"
      ],
      "text/latex": [
       "\\textbf{png:} 2"
      ],
      "text/markdown": [
       "**png:** 2"
      ],
      "text/plain": [
       "png \n",
       "  2 "
      ]
     },
     "metadata": {},
     "output_type": "display_data"
    }
   ],
   "source": [
    "png(\"cet-timeseries-4_linear-model-only.png\", height = 480, width = 480*2); {\n",
    "    plot(df[,c(\"gmst\", \"tmax\")], pch = 20, lwd = 2, xlab = \"Global mean surface temperature (GMST) anomaly vs 2022\", ylab = \"Maximum temperature (degC)\",\n",
    "        main = \"Central England Temperature series\", xlim = c(-1.45,0.25))\n",
    "    points(df[df$year == 2022,c(\"gmst\", \"tmax\")], pch = 21, bg = \"magenta\", cex = 1.5)\n",
    "    lines(df$gmst[order(df$gmst)], ns_pars(mdl)$loc[order(df$gmst)], col = \"darkred\", lw = 2)\n",
    "}; dev.off()"
   ]
  },
  {
   "cell_type": "code",
   "execution_count": 203,
   "id": "b31e0aa8-7ebd-4452-958e-feac680be37b",
   "metadata": {},
   "outputs": [
    {
     "data": {
      "text/html": [
       "<strong>png:</strong> 2"
      ],
      "text/latex": [
       "\\textbf{png:} 2"
      ],
      "text/markdown": [
       "**png:** 2"
      ],
      "text/plain": [
       "png \n",
       "  2 "
      ]
     },
     "metadata": {},
     "output_type": "display_data"
    }
   ],
   "source": [
    "png(\"cet-timeseries-6_gmst-change.png\", height = 480, width = 480*2); {\n",
    "    plot(df[,c(\"gmst\", \"tmax\")], pch = 20, lwd = 2, xlab = \"Global mean surface temperature (GMST) anomaly vs 2022\", ylab = \"Maximum temperature (degC)\",\n",
    "        main = \"Central England Temperature series\", xlim = c(-1.45,0.25))\n",
    "    points(df[df$year == 2022,c(\"gmst\", \"tmax\")], pch = 21, bg = \"magenta\", cex = 1.5)\n",
    "    lines(df$gmst, loess_fit, col = \"forestgreen\", lw = 2)\n",
    "    Arrows(-1.2,y_pi,0,y_pi, col = \"orange\", lw = 2, arr.adj = 1, arr.type = \"curved\")\n",
    "    text(-0.4, y_pi-1, \"GMST has increased by 1.2C\", col = \"orange\", font = 2)\n",
    "\n",
    "    lines(df$gmst[order(df$gmst)], ns_pars(mdl)$loc[order(df$gmst)], col = \"darkred\", lw = 2)\n",
    "}; dev.off()"
   ]
  },
  {
   "cell_type": "code",
   "execution_count": 204,
   "id": "e82825c6-681a-4e7a-beac-4461fea63f26",
   "metadata": {},
   "outputs": [
    {
     "data": {
      "text/html": [
       "<strong>png:</strong> 2"
      ],
      "text/latex": [
       "\\textbf{png:} 2"
      ],
      "text/markdown": [
       "**png:** 2"
      ],
      "text/plain": [
       "png \n",
       "  2 "
      ]
     },
     "metadata": {},
     "output_type": "display_data"
    }
   ],
   "source": [
    "png(\"cet-timeseries-7_tmax-change.png\", height = 480, width = 480*2); {\n",
    "    plot(df[,c(\"gmst\", \"tmax\")], pch = 20, lwd = 2, xlab = \"Global mean surface temperature (GMST) anomaly vs 2022\", ylab = \"Maximum temperature (degC)\",\n",
    "        main = \"Central England Temperature series\", xlim = c(-1.45,0.25))\n",
    "    points(df[df$year == 2022,c(\"gmst\", \"tmax\")], pch = 21, bg = \"magenta\", cex = 1.5)\n",
    "    lines(df$gmst, loess_fit, col = \"forestgreen\", lw = 2)\n",
    "    Arrows(-1.2,y_pi,0,y_pi, col = \"orange\", lw = 2, arr.adj = 1, arr.type = \"curved\")\n",
    "    text(-0.4, y_pi-1, \"GMST has increased by 1.2C\", col = \"orange\", font = 2)\n",
    "    Arrows(0,y_pi,0,y_2022, col = \"orange\", lw = 2, arr.adj = 1, arr.type = \"curved\")\n",
    "    lines(df$gmst[order(df$gmst)], ns_pars(mdl)$loc[order(df$gmst)], col = \"darkred\", lw = 2)\n",
    "    text(0.02, y_2022-2.5, \"Average\\ntmax\\n increases\\nby 3C\", col = \"orange\", font = 2, adj = 0)\n",
    "\n",
    "}; dev.off()"
   ]
  },
  {
   "cell_type": "code",
   "execution_count": 206,
   "id": "ffe365c1-edc5-45a5-93d6-aa1306c77879",
   "metadata": {},
   "outputs": [
    {
     "data": {
      "text/html": [
       "<strong>png:</strong> 2"
      ],
      "text/latex": [
       "\\textbf{png:} 2"
      ],
      "text/markdown": [
       "**png:** 2"
      ],
      "text/plain": [
       "png \n",
       "  2 "
      ]
     },
     "metadata": {},
     "output_type": "display_data"
    }
   ],
   "source": [
    "png(\"cet-timeseries-8_return-levels.png\", height = 480, width = 480*2); {\n",
    "    plot(df[,c(\"gmst\", \"tmax\")], pch = 20, lwd = 2, xlab = \"Global mean surface temperature (GMST) anomaly vs 2022\", ylab = \"Maximum temperature (degC)\",\n",
    "        main = \"Central England Temperature series\", xlim = c(-1.45,0.25))\n",
    "    points(df[df$year == 2022,c(\"gmst\", \"tmax\")], pch = 21, bg = \"magenta\", cex = 1.5)\n",
    "    lines(df$gmst, loess_fit, col = \"forestgreen\", lw = 2)\n",
    "    lines(df$gmst[order(df$gmst)], ns_pars(mdl)$loc[order(df$gmst)], col = \"darkred\", lw = 2)\n",
    "    lines(df$gmst[order(df$gmst)], erl_10, col = \"darkred\", lw = 2, lty = 2)\n",
    "    text(0.05, erl_10[length(erl_10)], \"1-in-10-year\\nevent\", adj = 0, col = \"darkred\", font = 2)\n",
    "}; dev.off()"
   ]
  },
  {
   "cell_type": "code",
   "execution_count": 13,
   "id": "87f5e762-bd53-41ee-aa52-59ec6d05c7ab",
   "metadata": {},
   "outputs": [
    {
     "data": {
      "text/html": [
       "<strong>png:</strong> 2"
      ],
      "text/latex": [
       "\\textbf{png:} 2"
      ],
      "text/markdown": [
       "**png:** 2"
      ],
      "text/plain": [
       "png \n",
       "  2 "
      ]
     },
     "metadata": {},
     "output_type": "display_data"
    }
   ],
   "source": [
    "png(\"cet-timeseries-9_event-probability.png\", height = 480, width = 480*2); {\n",
    "    plot(df[,c(\"gmst\", \"tmax\")], pch = 20, lwd = 2, xlab = \"Global mean surface temperature (GMST) anomaly vs 2022\", ylab = \"Maximum temperature (degC)\",\n",
    "        main = \"Central England Temperature series\", xlim = c(-1.45,0.25))\n",
    "    points(df[df$year == 2022,c(\"gmst\", \"tmax\")], pch = 21, bg = \"magenta\", cex = 1.5)\n",
    "    lines(df$gmst, loess_fit, col = \"forestgreen\", lw = 2)\n",
    "    lines(df$gmst[order(df$gmst)], ns_pars(mdl)$loc[order(df$gmst)], col = \"darkred\", lw = 2)\n",
    "    lines(df$gmst[order(df$gmst)], erl_10, col = \"darkred\", lw = 2, lty = 2)\n",
    "    text(0.05, erl_10[length(erl_10)], \"1-in-10-year\\nevent\", adj = 0, col = \"darkred\", font = 2)\n",
    "    text(0.035, mdl$ev-0.2, \"1-in-800-year\\nevent\", adj = 0, col = \"darkred\", font = 2)\n",
    "}; dev.off()"
   ]
  },
  {
   "cell_type": "code",
   "execution_count": 5,
   "id": "b53820f8-ef74-455d-be73-e0cc2e508e58",
   "metadata": {},
   "outputs": [
    {
     "data": {
      "text/html": [
       "<style>\n",
       ".list-inline {list-style: none; margin:0; padding: 0}\n",
       ".list-inline>li {display: inline-block}\n",
       ".list-inline>li:not(:last-child)::after {content: \"\\00b7\"; padding: 0 .5ex}\n",
       "</style>\n",
       "<ol class=list-inline><li>1.00945421430986</li><li>1.9976406318095</li><li>3.88211767367523</li><li>1.04498176776667</li><li>1.07194362418473</li><li>5.63793162905397</li><li>4.29789250701217</li><li>2.1473842668232</li><li>3.22801725335722</li><li>1.62532443245224</li><li>1.12818577693758</li><li>1.02557918739501</li><li>1.35375339843533</li><li>1.30470584102412</li><li>5.08815140746648</li><li>2.30670797801466</li><li>1.78102136942116</li><li>1.88735189353284</li><li>3.56912272502556</li><li>1.85429524120558</li><li>2.9995839830622</li><li>4.1244003832656</li><li>5.4885636897303</li><li>2.26191791844711</li><li>1.2045715059259</li><li>1.88571643878923</li><li>1.50330265995736</li><li>27.6293016641931</li><li>1.12601977102459</li><li>2.56789115356639</li><li>1.83635742447292</li><li>1.3306856256756</li><li>26.3756582354206</li><li>6.90560922114986</li><li>1.42340543552761</li><li>3.71075721568585</li><li>1.22991623671873</li><li>1.48834409437467</li><li>3.12919109669952</li><li>1.82532043509112</li><li>2.23018130716019</li><li>1.15969380175828</li><li>10.6074137315406</li><li>1.92619196135502</li><li>19.4044464000386</li><li>3.75018519935091</li><li>3.37128751919565</li><li>3.67779183730595</li><li>1.23988397070726</li><li>1.43628340899048</li><li>3.45505736596396</li><li>12.0225919644834</li><li>1.01450243773237</li><li>9.86436970835812</li><li>3.87826213234913</li><li>4.24048769592353</li><li>2.95943648216482</li><li>1.98287208434776</li><li>2.0006730224096</li><li>1.35797630297996</li><li>2.56465255936634</li><li>2.23362055522954</li><li>4.2424203426084</li><li>4.56886524572779</li><li>8.75868332604635</li><li>2.89091327316431</li><li>1.24849163610852</li><li>1.71262318179059</li><li>6.37016581860786</li><li>20.6286589314553</li><li>8.2083301122065</li><li>6.87491918280944</li><li>1.15593882634357</li><li>3.48307484071476</li><li>5.65512599984904</li><li>1.46125888555839</li><li>2.56127112922643</li><li>1.03533888604885</li><li>2.67328250225772</li><li>1.11607222731226</li><li>2.91488758903156</li><li>2.15585758097722</li><li>4.66796835135942</li><li>1.00298570859537</li><li>1.50763673534286</li><li>1.33614871686792</li><li>1.32337510249976</li><li>1.17740037127509</li><li>1.71323733604896</li><li>1.37661516254324</li><li>2.43113057422068</li><li>6.74382282082224</li><li>1.57786349863306</li><li>1.15882419225609</li><li>2.73887679548714</li><li>1.07541256432142</li><li>24.9449883774027</li><li>78.3012648548775</li><li>1.39207634555968</li><li>1.2743974814785</li><li>1.52802552804451</li><li>1.57543887090605</li><li>1.0949384181612</li><li>1.60547150631484</li><li>2.9048120018716</li><li>4.4326578193467</li><li>1.27850545215356</li><li>1.92489932245237</li><li>1.31749880937165</li><li>1.52406150002578</li><li>3.02652391518193</li><li>40.5808845327957</li><li>1.37306786184951</li><li>1.77802440274305</li><li>1.03568439173601</li><li>1.55319486873488</li><li>12.680339210022</li><li>2.66116205195461</li><li>4.18436393953269</li><li>1.12297761207148</li><li>2.68400987712411</li><li>2.22457943354534</li><li>1.84114920081744</li><li>1.39918497625654</li><li>15.7051361950009</li><li>1.8268105206114</li><li>2.82456033592502</li><li>16.6997190894039</li><li>1.11549090819427</li><li>1.11706123701031</li><li>1.44965747879004</li><li>1.03333488386708</li><li>1.28576120271546</li><li>1.06589570524603</li><li>2.24485968658185</li><li>1.19601940068655</li><li>9.79110419236871</li><li>2.9590442237392</li><li>1.72709686744524</li><li>2.68233615420717</li><li>23.4945442229033</li><li>11.128708088624</li><li>1.52147607703327</li><li>814.425160681583</li><li>1.39014517939588</li><li>1.06154417441659</li></ol>\n"
      ],
      "text/latex": [
       "\\begin{enumerate*}\n",
       "\\item 1.00945421430986\n",
       "\\item 1.9976406318095\n",
       "\\item 3.88211767367523\n",
       "\\item 1.04498176776667\n",
       "\\item 1.07194362418473\n",
       "\\item 5.63793162905397\n",
       "\\item 4.29789250701217\n",
       "\\item 2.1473842668232\n",
       "\\item 3.22801725335722\n",
       "\\item 1.62532443245224\n",
       "\\item 1.12818577693758\n",
       "\\item 1.02557918739501\n",
       "\\item 1.35375339843533\n",
       "\\item 1.30470584102412\n",
       "\\item 5.08815140746648\n",
       "\\item 2.30670797801466\n",
       "\\item 1.78102136942116\n",
       "\\item 1.88735189353284\n",
       "\\item 3.56912272502556\n",
       "\\item 1.85429524120558\n",
       "\\item 2.9995839830622\n",
       "\\item 4.1244003832656\n",
       "\\item 5.4885636897303\n",
       "\\item 2.26191791844711\n",
       "\\item 1.2045715059259\n",
       "\\item 1.88571643878923\n",
       "\\item 1.50330265995736\n",
       "\\item 27.6293016641931\n",
       "\\item 1.12601977102459\n",
       "\\item 2.56789115356639\n",
       "\\item 1.83635742447292\n",
       "\\item 1.3306856256756\n",
       "\\item 26.3756582354206\n",
       "\\item 6.90560922114986\n",
       "\\item 1.42340543552761\n",
       "\\item 3.71075721568585\n",
       "\\item 1.22991623671873\n",
       "\\item 1.48834409437467\n",
       "\\item 3.12919109669952\n",
       "\\item 1.82532043509112\n",
       "\\item 2.23018130716019\n",
       "\\item 1.15969380175828\n",
       "\\item 10.6074137315406\n",
       "\\item 1.92619196135502\n",
       "\\item 19.4044464000386\n",
       "\\item 3.75018519935091\n",
       "\\item 3.37128751919565\n",
       "\\item 3.67779183730595\n",
       "\\item 1.23988397070726\n",
       "\\item 1.43628340899048\n",
       "\\item 3.45505736596396\n",
       "\\item 12.0225919644834\n",
       "\\item 1.01450243773237\n",
       "\\item 9.86436970835812\n",
       "\\item 3.87826213234913\n",
       "\\item 4.24048769592353\n",
       "\\item 2.95943648216482\n",
       "\\item 1.98287208434776\n",
       "\\item 2.0006730224096\n",
       "\\item 1.35797630297996\n",
       "\\item 2.56465255936634\n",
       "\\item 2.23362055522954\n",
       "\\item 4.2424203426084\n",
       "\\item 4.56886524572779\n",
       "\\item 8.75868332604635\n",
       "\\item 2.89091327316431\n",
       "\\item 1.24849163610852\n",
       "\\item 1.71262318179059\n",
       "\\item 6.37016581860786\n",
       "\\item 20.6286589314553\n",
       "\\item 8.2083301122065\n",
       "\\item 6.87491918280944\n",
       "\\item 1.15593882634357\n",
       "\\item 3.48307484071476\n",
       "\\item 5.65512599984904\n",
       "\\item 1.46125888555839\n",
       "\\item 2.56127112922643\n",
       "\\item 1.03533888604885\n",
       "\\item 2.67328250225772\n",
       "\\item 1.11607222731226\n",
       "\\item 2.91488758903156\n",
       "\\item 2.15585758097722\n",
       "\\item 4.66796835135942\n",
       "\\item 1.00298570859537\n",
       "\\item 1.50763673534286\n",
       "\\item 1.33614871686792\n",
       "\\item 1.32337510249976\n",
       "\\item 1.17740037127509\n",
       "\\item 1.71323733604896\n",
       "\\item 1.37661516254324\n",
       "\\item 2.43113057422068\n",
       "\\item 6.74382282082224\n",
       "\\item 1.57786349863306\n",
       "\\item 1.15882419225609\n",
       "\\item 2.73887679548714\n",
       "\\item 1.07541256432142\n",
       "\\item 24.9449883774027\n",
       "\\item 78.3012648548775\n",
       "\\item 1.39207634555968\n",
       "\\item 1.2743974814785\n",
       "\\item 1.52802552804451\n",
       "\\item 1.57543887090605\n",
       "\\item 1.0949384181612\n",
       "\\item 1.60547150631484\n",
       "\\item 2.9048120018716\n",
       "\\item 4.4326578193467\n",
       "\\item 1.27850545215356\n",
       "\\item 1.92489932245237\n",
       "\\item 1.31749880937165\n",
       "\\item 1.52406150002578\n",
       "\\item 3.02652391518193\n",
       "\\item 40.5808845327957\n",
       "\\item 1.37306786184951\n",
       "\\item 1.77802440274305\n",
       "\\item 1.03568439173601\n",
       "\\item 1.55319486873488\n",
       "\\item 12.680339210022\n",
       "\\item 2.66116205195461\n",
       "\\item 4.18436393953269\n",
       "\\item 1.12297761207148\n",
       "\\item 2.68400987712411\n",
       "\\item 2.22457943354534\n",
       "\\item 1.84114920081744\n",
       "\\item 1.39918497625654\n",
       "\\item 15.7051361950009\n",
       "\\item 1.8268105206114\n",
       "\\item 2.82456033592502\n",
       "\\item 16.6997190894039\n",
       "\\item 1.11549090819427\n",
       "\\item 1.11706123701031\n",
       "\\item 1.44965747879004\n",
       "\\item 1.03333488386708\n",
       "\\item 1.28576120271546\n",
       "\\item 1.06589570524603\n",
       "\\item 2.24485968658185\n",
       "\\item 1.19601940068655\n",
       "\\item 9.79110419236871\n",
       "\\item 2.9590442237392\n",
       "\\item 1.72709686744524\n",
       "\\item 2.68233615420717\n",
       "\\item 23.4945442229033\n",
       "\\item 11.128708088624\n",
       "\\item 1.52147607703327\n",
       "\\item 814.425160681583\n",
       "\\item 1.39014517939588\n",
       "\\item 1.06154417441659\n",
       "\\end{enumerate*}\n"
      ],
      "text/markdown": [
       "1. 1.00945421430986\n",
       "2. 1.9976406318095\n",
       "3. 3.88211767367523\n",
       "4. 1.04498176776667\n",
       "5. 1.07194362418473\n",
       "6. 5.63793162905397\n",
       "7. 4.29789250701217\n",
       "8. 2.1473842668232\n",
       "9. 3.22801725335722\n",
       "10. 1.62532443245224\n",
       "11. 1.12818577693758\n",
       "12. 1.02557918739501\n",
       "13. 1.35375339843533\n",
       "14. 1.30470584102412\n",
       "15. 5.08815140746648\n",
       "16. 2.30670797801466\n",
       "17. 1.78102136942116\n",
       "18. 1.88735189353284\n",
       "19. 3.56912272502556\n",
       "20. 1.85429524120558\n",
       "21. 2.9995839830622\n",
       "22. 4.1244003832656\n",
       "23. 5.4885636897303\n",
       "24. 2.26191791844711\n",
       "25. 1.2045715059259\n",
       "26. 1.88571643878923\n",
       "27. 1.50330265995736\n",
       "28. 27.6293016641931\n",
       "29. 1.12601977102459\n",
       "30. 2.56789115356639\n",
       "31. 1.83635742447292\n",
       "32. 1.3306856256756\n",
       "33. 26.3756582354206\n",
       "34. 6.90560922114986\n",
       "35. 1.42340543552761\n",
       "36. 3.71075721568585\n",
       "37. 1.22991623671873\n",
       "38. 1.48834409437467\n",
       "39. 3.12919109669952\n",
       "40. 1.82532043509112\n",
       "41. 2.23018130716019\n",
       "42. 1.15969380175828\n",
       "43. 10.6074137315406\n",
       "44. 1.92619196135502\n",
       "45. 19.4044464000386\n",
       "46. 3.75018519935091\n",
       "47. 3.37128751919565\n",
       "48. 3.67779183730595\n",
       "49. 1.23988397070726\n",
       "50. 1.43628340899048\n",
       "51. 3.45505736596396\n",
       "52. 12.0225919644834\n",
       "53. 1.01450243773237\n",
       "54. 9.86436970835812\n",
       "55. 3.87826213234913\n",
       "56. 4.24048769592353\n",
       "57. 2.95943648216482\n",
       "58. 1.98287208434776\n",
       "59. 2.0006730224096\n",
       "60. 1.35797630297996\n",
       "61. 2.56465255936634\n",
       "62. 2.23362055522954\n",
       "63. 4.2424203426084\n",
       "64. 4.56886524572779\n",
       "65. 8.75868332604635\n",
       "66. 2.89091327316431\n",
       "67. 1.24849163610852\n",
       "68. 1.71262318179059\n",
       "69. 6.37016581860786\n",
       "70. 20.6286589314553\n",
       "71. 8.2083301122065\n",
       "72. 6.87491918280944\n",
       "73. 1.15593882634357\n",
       "74. 3.48307484071476\n",
       "75. 5.65512599984904\n",
       "76. 1.46125888555839\n",
       "77. 2.56127112922643\n",
       "78. 1.03533888604885\n",
       "79. 2.67328250225772\n",
       "80. 1.11607222731226\n",
       "81. 2.91488758903156\n",
       "82. 2.15585758097722\n",
       "83. 4.66796835135942\n",
       "84. 1.00298570859537\n",
       "85. 1.50763673534286\n",
       "86. 1.33614871686792\n",
       "87. 1.32337510249976\n",
       "88. 1.17740037127509\n",
       "89. 1.71323733604896\n",
       "90. 1.37661516254324\n",
       "91. 2.43113057422068\n",
       "92. 6.74382282082224\n",
       "93. 1.57786349863306\n",
       "94. 1.15882419225609\n",
       "95. 2.73887679548714\n",
       "96. 1.07541256432142\n",
       "97. 24.9449883774027\n",
       "98. 78.3012648548775\n",
       "99. 1.39207634555968\n",
       "100. 1.2743974814785\n",
       "101. 1.52802552804451\n",
       "102. 1.57543887090605\n",
       "103. 1.0949384181612\n",
       "104. 1.60547150631484\n",
       "105. 2.9048120018716\n",
       "106. 4.4326578193467\n",
       "107. 1.27850545215356\n",
       "108. 1.92489932245237\n",
       "109. 1.31749880937165\n",
       "110. 1.52406150002578\n",
       "111. 3.02652391518193\n",
       "112. 40.5808845327957\n",
       "113. 1.37306786184951\n",
       "114. 1.77802440274305\n",
       "115. 1.03568439173601\n",
       "116. 1.55319486873488\n",
       "117. 12.680339210022\n",
       "118. 2.66116205195461\n",
       "119. 4.18436393953269\n",
       "120. 1.12297761207148\n",
       "121. 2.68400987712411\n",
       "122. 2.22457943354534\n",
       "123. 1.84114920081744\n",
       "124. 1.39918497625654\n",
       "125. 15.7051361950009\n",
       "126. 1.8268105206114\n",
       "127. 2.82456033592502\n",
       "128. 16.6997190894039\n",
       "129. 1.11549090819427\n",
       "130. 1.11706123701031\n",
       "131. 1.44965747879004\n",
       "132. 1.03333488386708\n",
       "133. 1.28576120271546\n",
       "134. 1.06589570524603\n",
       "135. 2.24485968658185\n",
       "136. 1.19601940068655\n",
       "137. 9.79110419236871\n",
       "138. 2.9590442237392\n",
       "139. 1.72709686744524\n",
       "140. 2.68233615420717\n",
       "141. 23.4945442229033\n",
       "142. 11.128708088624\n",
       "143. 1.52147607703327\n",
       "144. 814.425160681583\n",
       "145. 1.39014517939588\n",
       "146. 1.06154417441659\n",
       "\n",
       "\n"
      ],
      "text/plain": [
       "  [1]   1.009454   1.997641   3.882118   1.044982   1.071944   5.637932\n",
       "  [7]   4.297893   2.147384   3.228017   1.625324   1.128186   1.025579\n",
       " [13]   1.353753   1.304706   5.088151   2.306708   1.781021   1.887352\n",
       " [19]   3.569123   1.854295   2.999584   4.124400   5.488564   2.261918\n",
       " [25]   1.204572   1.885716   1.503303  27.629302   1.126020   2.567891\n",
       " [31]   1.836357   1.330686  26.375658   6.905609   1.423405   3.710757\n",
       " [37]   1.229916   1.488344   3.129191   1.825320   2.230181   1.159694\n",
       " [43]  10.607414   1.926192  19.404446   3.750185   3.371288   3.677792\n",
       " [49]   1.239884   1.436283   3.455057  12.022592   1.014502   9.864370\n",
       " [55]   3.878262   4.240488   2.959436   1.982872   2.000673   1.357976\n",
       " [61]   2.564653   2.233621   4.242420   4.568865   8.758683   2.890913\n",
       " [67]   1.248492   1.712623   6.370166  20.628659   8.208330   6.874919\n",
       " [73]   1.155939   3.483075   5.655126   1.461259   2.561271   1.035339\n",
       " [79]   2.673283   1.116072   2.914888   2.155858   4.667968   1.002986\n",
       " [85]   1.507637   1.336149   1.323375   1.177400   1.713237   1.376615\n",
       " [91]   2.431131   6.743823   1.577863   1.158824   2.738877   1.075413\n",
       " [97]  24.944988  78.301265   1.392076   1.274397   1.528026   1.575439\n",
       "[103]   1.094938   1.605472   2.904812   4.432658   1.278505   1.924899\n",
       "[109]   1.317499   1.524062   3.026524  40.580885   1.373068   1.778024\n",
       "[115]   1.035684   1.553195  12.680339   2.661162   4.184364   1.122978\n",
       "[121]   2.684010   2.224579   1.841149   1.399185  15.705136   1.826811\n",
       "[127]   2.824560  16.699719   1.115491   1.117061   1.449657   1.033335\n",
       "[133]   1.285761   1.065896   2.244860   1.196019   9.791104   2.959044\n",
       "[139]   1.727097   2.682336  23.494544  11.128708   1.521476 814.425161\n",
       "[145]   1.390145   1.061544"
      ]
     },
     "metadata": {},
     "output_type": "display_data"
    }
   ],
   "source": [
    "return_period(m,dl)"
   ]
  },
  {
   "cell_type": "code",
   "execution_count": null,
   "id": "f89b08cf-c28e-4b96-9188-d544e82c5292",
   "metadata": {},
   "outputs": [],
   "source": []
  }
 ],
 "metadata": {
  "kernelspec": {
   "display_name": "R [conda env:r_env]",
   "language": "R",
   "name": "conda-env-r_env-r"
  },
  "language_info": {
   "codemirror_mode": "r",
   "file_extension": ".r",
   "mimetype": "text/x-r-source",
   "name": "R",
   "pygments_lexer": "r",
   "version": "4.2.3"
  }
 },
 "nbformat": 4,
 "nbformat_minor": 5
}
