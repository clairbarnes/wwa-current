{
 "cells": [
  {
   "cell_type": "code",
   "execution_count": 3,
   "id": "9433f189",
   "metadata": {},
   "outputs": [
    {
     "name": "stderr",
     "output_type": "stream",
     "text": [
      "Skipping install of 'rwwa' from a github remote, the SHA1 (a428e9e0) has not changed since last install.\n",
      "  Use `force = TRUE` to force installation\n",
      "\n"
     ]
    }
   ],
   "source": [
    "devtools::install_github(\"clairbarnes/rwwa\")\n",
    "library(rwwa)\n",
    "library(ellipse)\n",
    "library(shape)"
   ]
  },
  {
   "cell_type": "code",
   "execution_count": 2,
   "id": "46dd2979-1a14-4a64-a0ba-bed9d1426e26",
   "metadata": {},
   "outputs": [],
   "source": [
    "gmst <- read.table(\"gmst.dat\", col.names = c(\"year\", \"gmst\"))\n",
    "gmst$gmst <- gmst$gmst - gmst$gmst[gmst$year == 2021]\n",
    "\n",
    "df <- merge(gmst, read.table(\"maxtmax_ghcn-portland.dat\", col.names = c(\"year\", \"tmax\")))\n",
    "df <- df[order(df$gmst),]\n",
    "\n",
    "cov_f <- df[df$year == 2021, c(\"gmst\"), drop = F]\n",
    "cov_cf <- cov_f - 1.2\n",
    "\n",
    "mdl <- fit_ns(\"gev\", \"shift\", df, \"tmax\", \"gmst\", lower = F, ev_year = 2021)\n",
    "\n",
    "pars_2021 <- ns_pars(mdl, fixed_cov = cov_f)"
   ]
  },
  {
   "cell_type": "code",
   "execution_count": 4,
   "id": "cc9831fc-9986-4866-b5ae-2b2a3960a5dc",
   "metadata": {},
   "outputs": [],
   "source": [
    "# get confidence interval for mu'\n",
    "nsamp <- 100\n",
    "set.seed(42)\n",
    "mu_ci <- apply(sapply(1:nsamp, function(i) {\n",
    "    boot_df <- df[sample(1:nrow(df), nrow(df), replace = T),]\n",
    "    tryCatch({\n",
    "        boot_mdl <- refit(mdl, boot_df)\n",
    "        c(\"mu_ev\" = ns_pars(boot_mdl, fixed_cov = cov_f)$loc,\n",
    "          \"mu_cf\" = ns_pars(boot_mdl, fixed_cov = cov_cf)$loc)\n",
    "    }, error = function(cond) {return(rep(NA, 2))})\n",
    "}), 1, quantile, c(0.025, 0.975), na.rm = T)"
   ]
  },
  {
   "cell_type": "code",
   "execution_count": 6,
   "id": "3800d8fa",
   "metadata": {},
   "outputs": [
    {
     "data": {
      "text/html": [
       "<strong>png:</strong> 2"
      ],
      "text/latex": [
       "\\textbf{png:} 2"
      ],
      "text/markdown": [
       "**png:** 2"
      ],
      "text/plain": [
       "png \n",
       "  2 "
      ]
     },
     "metadata": {},
     "output_type": "display_data"
    }
   ],
   "source": [
    "prep_window(c(1,3))\n",
    "\n",
    "png(\"fig_wcrp-statistics.png\", height = 480, width = 480 * 3); par(mfrow = c(1,3), cex = 1.4, mar = c(4,4,2,0)); {\n",
    "    \n",
    "    #~~~~~~~~~~~~~~~~~~~~~~~~~~~~~~~~~~~~~~~~~~~~~~~~~~~~~~~~~~~~~~~~~~~~~~~~~~\n",
    "    # GMST trend\n",
    "\n",
    "    plot(df$gmst, df$tmax, pch = 20, main = \"\", xlab = \"\", ylab = \"\", ylim = c(30,50), xlim = range(c(df$gmst, cov_f, cov_cf)))\n",
    "    mtext(expression(\"GMST anomaly wrt 2021 (\"*degree*\"C)\"), side = 1, line = 2.5, cex = par(\"cex\"))\n",
    "    mtext(expression(\"Maximum temperature (\"*degree*\"C)\"), side = 2, line = 2.5, cex = par(\"cex\"))\n",
    "    mtext(\"(a)\", side = 3, line = 0.5, cex = par(\"cex\"), adj = 0, font = 2)\n",
    "\n",
    "    points(cov_f, mdl$ev, col = \"magenta\", lwd = 2, pch = 0)\n",
    "\n",
    "    # trend lines\n",
    "    lines(df$gmst, ns_pars(mdl)$loc, lwd = 3, col = \"black\", lty = 1)\n",
    "    lines(df$gmst, eff_return_level(mdl, 6), col = \"blue\", lwd = 2, lty = 1)\n",
    "    lines(df$gmst, eff_return_level(mdl, 40), col = \"blue\", lwd = 1, lty = 1)\n",
    "\n",
    "    # confidence interval & markers for mu' at factual & counterfactual covariates\n",
    "    lines(rep(cov_f, 3), c(ns_pars(mdl, fixed_cov = cov_f)$loc, mu_ci[,\"mu_ev\"]), col = \"black\", lwd = 3, type = \"o\", pch = \"_\", cex = 1.3)\n",
    "    lines(rep(cov_cf, 3), c(ns_pars(mdl, fixed_cov = cov_cf)$loc, mu_ci[,\"mu_cf\"]), col = \"black\", lwd = 3, type = \"o\", pch = \"_\", cex = 1.3)\n",
    "\n",
    "    # add legend\n",
    "    legend(\"topleft\", legend = c(\"location\", \"1-in-6-year event\", \"1-in-40-year event\"), lty = 1, col = c(\"black\", \"blue\", \"blue\"), lwd = c(2,2,1), bty = \"n\")\n",
    "\n",
    "    #~~~~~~~~~~~~~~~~~~~~~~~~~~~~~~~~~~~~~~~~~~~~~~~~~~~~~~~~~~~~~~~~~~~~~~~~~~\n",
    "    # Schematic of pdfs\n",
    "    \n",
    "    obs <- 43\n",
    "    x <- seq(28,49,0.1)\n",
    "    xx <- seq(obs,49,0.01)\n",
    "    \n",
    "    dns_2021 <- function(x) devd(x, loc = pars_2021$loc, shape = pars_2021$shape, scale = pars_2021$scale)\n",
    "    dns_hist <- function(x) devd(x, loc = pars_2021$loc-2, shape = pars_2021$shape, scale = pars_2021$scale)\n",
    "        \n",
    "    plot(0, type = \"n\", xaxs = \"i\", yaxs = \"i\", xaxt = \"n\", yaxt = \"n\", bty = \"n\", xlim = c(min(x), max(x)), ylim = c(0,0.22), xlab = \"\", ylab = \"\")\n",
    "    ymax <- par(\"usr\")[4]*0.85\n",
    "    \n",
    "    # axes & axis labels\n",
    "    mtext(expression(\"Temperature\"), side = 1, line = 0.5, cex = 1.5)\n",
    "    mtext(\"Probability density\", side = 2, cex = 1.5, line = 0.5)\n",
    "    mtext(\"(b)\", side = 3, line = 0.5, cex = par(\"cex\"), adj = 0, font = 2)\n",
    "    \n",
    "    # add lines showing counterfactual & factual densities\n",
    "    lines(x, dns_2021(x), type = \"l\", lwd = 3, col = \"black\")\n",
    "    lines(x, dns_hist(x), type = \"l\", lwd = 3, col = \"black\", lty = 3)\n",
    "    \n",
    "    abline(h = 0, v = min(x), lwd = 3)\n",
    "    # Arrows(min(x),0,min(x),ymax, lwd = 3)\n",
    "    # Arrows(min(x),0,max(x)-0.2,0, lwd = 3)\n",
    "    \n",
    "    # line marking observed temperature\n",
    "    lines(rep(obs,2), c(0,par(\"usr\")[4]), col = \"dimgrey\", lty = 2, lwd = 3)\n",
    "    # text(obs, ymax, \"Observed\", col = \"dimgrey\", pos = 3)\n",
    "    \n",
    "    # add shaded polygons\n",
    "    polygon(c(xx, rev(xx)), c(dns_2021(xx), rep(0,length(xx))), col = adjustcolor(\"red\", alpha = 0.3), border = NA)\n",
    "    polygon(c(xx, rev(xx)), c(rep(0,length(xx)), rev(dns_hist(xx))), col = adjustcolor(\"blue\", alpha = 0.3), border = NA)\n",
    "    \n",
    "    # add labels (will need to play around with x & y coordinates to get best location)\n",
    "    text(45,.055, \"p1\", font = 2)\n",
    "    lines(c(44.75, 44),c(.05, .02), lwd = 3)\n",
    "    text(46,.02, \"p0\", font = 2)\n",
    "    lines(c(45.3, 43.5),c(.02, .0051), lwd = 3)\n",
    "    \n",
    "    # add label for change in intensity\n",
    "    max_dns <- max(dns_2021(x))\n",
    "    Arrows(x[which(dns_hist(x) == max_dns)], max_dns+.0025, x[which(dns_2021(x) == max_dns)], max_dns+.0025, arr.adj = 1, lwd = 3)\n",
    "    text(39.5, max_dns+.01, expression(Delta*\"I\"), font = 2)\n",
    "    \n",
    "    legend(\"topleft\", legend = c(\"Present climate\", \"Counterfactual climate\"), lty = c(1,3), lwd = 3, bty = \"n\")\n",
    "\n",
    "    #~~~~~~~~~~~~~~~~~~~~~~~~~~~~~~~~~~~~~~~~~~~~~~~~~~~~~~~~~~~~~~~~~~~~~~~~~~\n",
    "    # Schematic of joint pdfs\n",
    "    \n",
    "    x_obs <- 1\n",
    "    y_obs <- -2\n",
    "    \n",
    "    ell_cf <- ellipse(-0.7, center = c(-0.8,0), npoints = 200)\n",
    "    ell_f <- ellipse(-0.7, center = c(0,-0.1), npoints = 300)\n",
    "    \n",
    "    xy_f <- ell_f[(ell_f[,\"x\"] >= x_obs) & (ell_f[,\"y\"] <= y_obs),]\n",
    "    xy_cf <- ell_cf[(ell_cf[,\"x\"] >= x_obs) & (ell_cf[,\"y\"] <= y_obs),]\n",
    "\n",
    "    par(mar = c(4,4,2,1))\n",
    "    x <- y <- seq(-4,4,0.01)\n",
    "    plot(0, type = \"n\", xaxs = \"i\", yaxs = \"i\", xaxt = \"n\", yaxt = \"n\", bty = \"n\", xlim = range(x), ylim = range(y), xlab = \"\", ylab = \"\")\n",
    "\n",
    "    # axes & axis labels\n",
    "    mtext(expression(\"Temperature\"), side = 1, line = 0.5, cex = 1.5)\n",
    "    mtext(\"Precipitation\", side = 2, cex = 1.5, line = 0.5)\n",
    "    mtext(\"(c)\", side = 3, line = 0.5, cex = par(\"cex\"), adj = 0, font = 2)\n",
    "    abline(h = min(y), v = min(x), lwd = 3)\n",
    "    \n",
    "    lines(ell_f, type = \"l\", lwd = 3, lty = 1, col = \"black\")\n",
    "    lines(ell_cf, type = \"l\", lwd = 3, lty = 2, col = \"black\")\n",
    "    \n",
    "    lines(rep(x_obs,2), c(y_obs,-5), col = \"dimgrey\", lty = 2, lwd = 3)\n",
    "    lines(c(x_obs,5), rep(y_obs,2), col = \"dimgrey\", lty = 2, lwd = 3)\n",
    "    \n",
    "    polygon(c(xy_f[,\"x\"], rev(xy_f[,\"x\"])), c(xy_f[,\"y\"], rep(y_obs, nrow(xy_f))), col = adjustcolor(\"red\", 0.3), border = NA)\n",
    "    polygon(c(xy_cf[,\"x\"], rev(xy_cf[,\"x\"])), c(xy_cf[,\"y\"], rep(y_obs, nrow(xy_cf))), col = adjustcolor(\"blue\", 0.3), border = NA)\n",
    "    \n",
    "    Arrows(-0.8,0,0,-0.1, arr.adj = 1, lwd = 3)\n",
    "    text(-0.5,0.25, expression(Delta*\"I\"), font = 2)\n",
    "    \n",
    "    text(1.5,-3.5, \"p0\", font = 2)\n",
    "    lines(c(1.3, 1.2),c(-3.25, -2.2), lwd = 3)\n",
    "    text(2.5,-3, \"p1\", font = 2)\n",
    "    lines(c(2.3, 2),c(-2.75,-2.2), lwd = 3)\n",
    "    \n",
    "    legend(\"topright\", legend = c(\"Present climate\", \"Counterfactual climate\"), lty = c(1,3), lwd = 3, bty = \"n\")\n",
    "\n",
    "}; dev.off()"
   ]
  },
  {
   "cell_type": "code",
   "execution_count": null,
   "id": "ad05a7e3",
   "metadata": {},
   "outputs": [],
   "source": []
  },
  {
   "cell_type": "code",
   "execution_count": null,
   "id": "7988f219-8936-4d77-874d-6ec2659e6c97",
   "metadata": {},
   "outputs": [],
   "source": []
  }
 ],
 "metadata": {
  "kernelspec": {
   "display_name": "R [conda env:r_env]",
   "language": "R",
   "name": "conda-env-r_env-r"
  },
  "language_info": {
   "codemirror_mode": "r",
   "file_extension": ".r",
   "mimetype": "text/x-r-source",
   "name": "R",
   "pygments_lexer": "r",
   "version": "4.2.3"
  }
 },
 "nbformat": 4,
 "nbformat_minor": 5
}
