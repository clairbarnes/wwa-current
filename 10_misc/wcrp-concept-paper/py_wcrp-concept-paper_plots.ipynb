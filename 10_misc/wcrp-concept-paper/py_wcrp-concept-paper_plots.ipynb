{
 "cells": [
  {
   "cell_type": "code",
   "execution_count": 6,
   "metadata": {},
   "outputs": [],
   "source": [
    "import sys; sys.path.append('../../../wwa'); from wwa import *\n",
    "\n",
    "xn,xx,yn,yx = [25,34,-7,6]\n",
    "\n",
    "mapproj = cartopy.crs.PlateCarree()"
   ]
  },
  {
   "cell_type": "markdown",
   "metadata": {},
   "source": [
    "# Subset data"
   ]
  },
  {
   "cell_type": "code",
   "execution_count": 7,
   "metadata": {},
   "outputs": [],
   "source": [
    "# MSWEP subset\n",
    "da = wrap_lon(xr.open_mfdataset(\"../../../00_WWA_project_folder/live/data/mswep_nrt/20231*.nc\")).precipitation.sel(lon = slice(xn,xx), lat = slice(yn,yx))\n",
    "da.sel(time = slice(\"2023-05-01\", \"2023-05-05\")).rename(\"pr\").to_netcdf(\"mswep_may1-may5.nc\")"
   ]
  },
  {
   "cell_type": "code",
   "execution_count": 16,
   "metadata": {},
   "outputs": [],
   "source": [
    "# CHIRPS subset\n",
    "da = wrap_lon(xr.open_dataset(\"../../../00_WWA_project_folder/live/data/chirps_05/chirps-v2.0.2023.days_p05.nc\")).precip.sel(longitude = slice(xn,xx), latitude = slice(yn,yx))\n",
    "da.sel(time = slice(\"2023-05-01\", \"2023-05-05\")).rename(\"pr\", longitude = \"lon\", latitude = \"lat\").to_netcdf(\"chirps_may1-may5.nc\")"
   ]
  },
  {
   "cell_type": "code",
   "execution_count": 20,
   "metadata": {},
   "outputs": [],
   "source": [
    "da = wrap_lon(xr.open_dataset(\"../../../00_WWA_project_folder/live/data/cpc/precip.2023.nc\")).precip.sel(lon = slice(xn,xx), lat = slice(yn,yx))\n",
    "da.sel(time = slice(\"2023-05-01\", \"2023-05-05\")).rename(\"pr\").to_netcdf(\"cpc_may1-may5.nc\")"
   ]
  },
  {
   "cell_type": "markdown",
   "metadata": {},
   "source": [
    "# Event maps"
   ]
  },
  {
   "cell_type": "code",
   "execution_count": 29,
   "metadata": {},
   "outputs": [],
   "source": [
    "era5 = wrap_lon(convert_units_to(xr.open_dataset(\"adaptor.mars.internal-1716299681.020658-10884-2-f25714ef-d906-4470-a89e-784e69760a83.nc\").tp, \"mm\")).rename(longitude = \"lon\", latitude = \"lat\")\n",
    "era5 = era5.sel(time = slice(\"2023-05-01\", \"2023-05-05\"), lon = slice(xn,xx), lat = slice(yn,yx)).sum(\"time\")\n",
    "\n",
    "mswep = xr.open_dataset(\"mswep_may1-may5.nc\").pr.sel(time = slice(\"2023-05-01\", \"2023-05-05\"), lon = slice(xn,xx), lat = slice(yn,yx)).sum(\"time\")\n",
    "\n",
    "chirps = xr.open_dataset(\"chirps_may1-may5.nc\").pr.sel(time = slice(\"2023-05-01\", \"2023-05-05\"), lon = slice(xn,xx), lat = slice(yn,yx)).sum(\"time\")\n",
    "\n",
    "cpc = xr.open_dataset(\"cpc_may1-may5.nc\").pr.sel(time = slice(\"2023-05-01\", \"2023-05-05\"), lon = slice(xn,xx), lat = slice(yn,yx)).sum(\"time\")\n",
    "\n",
    "tamsat = wrap_lon(xr.open_dataset(\"01-tamsatDaily.v3.1-20230401-20230515-20240521_25.0_34.0_-7.0_6.0.nc\")).rfe.sel(time = slice(\"2023-05-01\", \"2023-05-05\"), lon = slice(xn,xx), lat = slice(yn,yx)).sum(\"time\")\n",
    "\n",
    "obs = {ds : eval(ds) for ds in [\"chirps\", \"cpc\", \"era5\", \"mswep\", \"tamsat\"]}\n",
    "letters = [\"a\",\"b\",\"c\",\"d\",\"e\"]"
   ]
  },
  {
   "cell_type": "code",
   "execution_count": 34,
   "metadata": {},
   "outputs": [],
   "source": [
    "sf = gpd.read_file(\"sf\").to_crs(mapproj)\n",
    "\n",
    "xn,xx,yn,yx = [26,33,-6,2]"
   ]
  },
  {
   "cell_type": "code",
   "execution_count": null,
   "metadata": {},
   "outputs": [],
   "source": [
    "plot_kwargs = {\"cmap\" : \"YlGnBu\", \"vmin\" : 0, \"vmax\" : 150}\n",
    "\n",
    "nc = 5; nr = 1\n",
    "fig, axs = plt.subplots(ncols = nc, nrows = nr, figsize = (3 * nc, 4 * nr), dpi = 100, sharex = True, sharey = True,\n",
    "                        subplot_kw = {\"projection\" : mapproj, \"extent\" : [xn,xx,yn,yx]})\n",
    "\n",
    "plt.subplots_adjust(wspace = 0.01)\n",
    "\n",
    "for i in range(5):\n",
    "    ds = list(obs.keys())[i]\n",
    "    ax = fig.axes[i]\n",
    "    \n",
    "    da = obs[ds]\n",
    "    cbar = da.plot(ax = ax, **plot_kwargs, add_colorbar = False)\n",
    "    ax.set_title(\"(\"+letters[i]+\") \"+ds.upper())\n",
    "\n",
    "    ax.coastlines()\n",
    "    ax.add_feature(cartopy.feature.BORDERS, color = \"k\", alpha = 0.5, ls = \"--\")\n",
    "    sf.boundary.plot(ax = ax, color = \"darkred\", lw = 2)\n",
    "    \n",
    "    ax.gridlines(color='black', alpha=0.1, xlocs = range(26,40), ylocs = range(-6,4))\n",
    "    ax.gridlines(color='black', alpha=0, xlocs = range(26,40,2), draw_labels = [\"bottom\"])\n",
    "\n",
    "axs[0].gridlines(color='black', alpha=0, ylocs = range(-6,4,2), draw_labels = [\"left\"])\n",
    "plt.colorbar(cbar, ax = axs, location = \"bottom\", extend = \"max\", label = \"Accumulated precipitation (mm)\", fraction = 0.05)\n",
    "\n",
    "plt.savefig(\"wcrp-obs-figure.png\")"
   ]
  },
  {
   "cell_type": "code",
   "execution_count": null,
   "metadata": {},
   "outputs": [],
   "source": []
  }
 ],
 "metadata": {
  "kernelspec": {
   "display_name": "wwa",
   "language": "python",
   "name": "wwa"
  },
  "language_info": {
   "codemirror_mode": {
    "name": "ipython",
    "version": 3
   },
   "file_extension": ".py",
   "mimetype": "text/x-python",
   "name": "python",
   "nbconvert_exporter": "python",
   "pygments_lexer": "ipython3",
   "version": "3.10.8"
  }
 },
 "nbformat": 4,
 "nbformat_minor": 2
}
