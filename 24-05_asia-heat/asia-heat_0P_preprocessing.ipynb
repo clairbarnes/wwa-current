{
 "cells": [
  {
   "cell_type": "code",
   "execution_count": 1,
   "metadata": {},
   "outputs": [],
   "source": [
    "import sys; sys.path.append('../../wwa'); from wwa import *"
   ]
  },
  {
   "cell_type": "markdown",
   "metadata": {},
   "source": [
    "## Extract gridded data for model fitting"
   ]
  },
  {
   "cell_type": "code",
   "execution_count": 3,
   "metadata": {},
   "outputs": [],
   "source": [
    "fl = glob.glob(\"../../00_WWA_project_folder/ephemeral/Asia_Heatwave/obs/obs_fields/*.nc\")\n",
    "\n",
    "domain = {\"EA\" : [118,130,4,20], \"WA\" : [30,50,25,40]}"
   ]
  },
  {
   "cell_type": "code",
   "execution_count": 49,
   "metadata": {},
   "outputs": [],
   "source": [
    "# ERA5\n",
    "for fnm in glob.glob(\"../../00_WWA_project_folder/ephemeral/Asia_Heatwave/obs/obs_fields/era5*.nc\"):\n",
    "    \n",
    "    xn,xx,yn,yx = domain[fnm[-5:-3]]\n",
    "    \n",
    "    da = xr.open_dataset(fnm).sel(lon = slice(xn,xx), lat = slice(yn,yx)).tmax\n",
    "    da = da.assign_coords(time = da.time.dt.year).rename(time = \"year\")\n",
    "    \n",
    "    # mask off the sea\n",
    "    rm = regionmask.defined_regions.natural_earth_v5_0_0.land_10.mask(da.lon, da.lat)\n",
    "    da = da.where(rm)\n",
    "    \n",
    "    # flatten & save as .csv for transfer to R\n",
    "    da.stack(xy = [\"lat\", \"lon\"]).dropna(\"xy\", \"all\").to_pandas().to_csv(\"data/\"+fnm.split(\"/\")[-1].split(\"_\")[0]+\"_\"+fnm[-5:-3]+\"_flattened.csv\")\n",
    "    \n",
    "    # save map for easier reconstruction\n",
    "    da.mean(\"year\").to_netcdf(\"data/\"+fnm.split(\"/\")[-1].split(\"_\")[0]+\"_tmplt.nc\")"
   ]
  },
  {
   "cell_type": "code",
   "execution_count": 50,
   "metadata": {},
   "outputs": [],
   "source": [
    "# CPC\n",
    "for fnm in glob.glob(\"../../00_WWA_project_folder/ephemeral/Asia_Heatwave/obs/obs_fields/cpc*.nc\"):\n",
    "    \n",
    "    xn,xx,yn,yx = domain[fnm[-5:-3]]\n",
    "    \n",
    "    da = xr.open_dataset(fnm).sel(lon = slice(xn,xx), lat = slice(yn,yx)).tmax\n",
    "    da = da.assign_coords(time = da.time.dt.year).rename(time = \"year\")\n",
    "\n",
    "    # mask off the sea\n",
    "    rm = regionmask.defined_regions.natural_earth_v5_0_0.land_10.mask(da.lon, da.lat)\n",
    "    da = da.where(rm)\n",
    "    \n",
    "    # flatten & save as .csv for transfer to R\n",
    "    da.stack(xy = [\"lat\", \"lon\"]).dropna(\"xy\", \"all\").to_pandas().to_csv(\"data/\"+fnm.split(\"/\")[-1].split(\"_\")[0]+\"_\"+fnm[-5:-3]+\"_flattened.csv\")\n",
    "    \n",
    "    # save map for easier reconstruction\n",
    "    da.mean(\"year\").to_netcdf(\"data/\"+fnm.split(\"/\")[-1].split(\"_\")[0]+\"_tmplt.nc\")"
   ]
  },
  {
   "cell_type": "code",
   "execution_count": 51,
   "metadata": {},
   "outputs": [],
   "source": [
    "# MSWX\n",
    "for fnm in glob.glob(\"../../00_WWA_project_folder/ephemeral/Asia_Heatwave/obs/obs_fields/msw*.nc\"):\n",
    "    \n",
    "    xn,xx,yn,yx = domain[fnm[-5:-3]]\n",
    "    \n",
    "    da = xr.open_dataset(fnm).sel(lon = slice(xn,xx), lat = slice(yn,yx)).air_temperature\n",
    "    da = da.assign_coords(time = da.time.dt.year).rename(time = \"year\")\n",
    "\n",
    "    # mask off the sea\n",
    "    rm = regionmask.defined_regions.natural_earth_v5_0_0.land_10.mask(da.lon, da.lat)\n",
    "    da = da.where(rm)\n",
    "    \n",
    "    # flatten & save as .csv for transfer to R\n",
    "    da.stack(xy = [\"lat\", \"lon\"]).dropna(\"xy\", \"all\").to_pandas().to_csv(\"data/\"+fnm.split(\"/\")[-1].split(\"_\")[0]+\"_\"+fnm[-5:-3]+\"_flattened.csv\")\n",
    "    \n",
    "    # save map for easier reconstruction\n",
    "    da.mean(\"year\").to_netcdf(\"data/\"+fnm.split(\"/\")[-1].split(\"_\")[0]+\"_tmplt.nc\")"
   ]
  },
  {
   "cell_type": "code",
   "execution_count": null,
   "metadata": {},
   "outputs": [],
   "source": []
  }
 ],
 "metadata": {
  "kernelspec": {
   "display_name": "wwa",
   "language": "python",
   "name": "wwa"
  },
  "language_info": {
   "codemirror_mode": {
    "name": "ipython",
    "version": 3
   },
   "file_extension": ".py",
   "mimetype": "text/x-python",
   "name": "python",
   "nbconvert_exporter": "python",
   "pygments_lexer": "ipython3",
   "version": "3.10.8"
  }
 },
 "nbformat": 4,
 "nbformat_minor": 2
}
