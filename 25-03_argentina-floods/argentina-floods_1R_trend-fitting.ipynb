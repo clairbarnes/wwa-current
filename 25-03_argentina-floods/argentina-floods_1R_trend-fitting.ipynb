{
 "cells": [
  {
   "cell_type": "code",
   "execution_count": 1,
   "metadata": {},
   "outputs": [],
   "source": [
    "suppressMessages(library(rwwa))"
   ]
  },
  {
   "cell_type": "markdown",
   "metadata": {},
   "source": [
    "# Fit linear model to gridded data"
   ]
  },
  {
   "cell_type": "code",
   "execution_count": 2,
   "metadata": {},
   "outputs": [],
   "source": [
    "ds_nm = \"mswep\"\n",
    "\n",
    "# load covariate data\n",
    "gmst = read.table(\"gmst.txt\", col.names = c(\"year\", \"gmst\"))\n",
    "gmst$gmst <- gmst$gmst - gmst$gmst[gmst$year == 2025]\n",
    "\n",
    "# define factual & counterfactual covariates\n",
    "cov_f <- gmst[gmst$year == 2025,\"gmst\", drop = F]\n",
    "cov_cf <- rbind(\"pi\" = cov_f - 1.3)"
   ]
  },
  {
   "cell_type": "code",
   "execution_count": 3,
   "metadata": {
    "tags": []
   },
   "outputs": [],
   "source": [
    "# loop over all flattened data & fit nonstationary model to each - NB no bootstrapping\n",
    "fl = list.files(\"flattened\", pattern = ds_nm, full.names = T)\n",
    "for(fnm in fl) {\n",
    "    \n",
    "    res_fnm <- gsub(\"flattened\", \"flattened-res\", fnm)\n",
    "    \n",
    "    if (!file.exists(res_fnm)) {\n",
    "        \n",
    "        # load the .csv\n",
    "        df <- read.csv(fnm, skip = 3, header = F)\n",
    "        colnames(df)[1] <- \"year\"\n",
    "        ev <- df[df$year == 2026,]\n",
    "        df <- merge(gmst, df)\n",
    "\n",
    "        # fit nonstationary model to all columns\n",
    "        models <- sapply(colnames(df)[grepl(\"V\", colnames(df))], function(cnm) {\n",
    "            df_c <- df[,c(\"year\", \"gmst\", cnm)]\n",
    "            ev_c <- ev[,cnm]\n",
    "            tryCatch({\n",
    "                fit_ns(\"gev\", \"fixeddisp\", df_c, cnm, c(\"gmst\"), lower = F, ev = ev_c)\n",
    "            }, error = function(cond) { return(NULL) })\n",
    "        }, simplify = F)\n",
    "\n",
    "        # get all model results & save as .csv to be reconstructed & plotted in python\n",
    "        fitted_res <- sapply(models, function(mdl) {\n",
    "            if(!is.null(unlist(mdl)[1])) {\n",
    "                mdl_ests(mdl, cov_f = cov_f, cov_cf = cov_cf)\n",
    "            } else {\n",
    "                rep(NA, 10)\n",
    "            }})\n",
    "        write.csv(fitted_res, res_fnm)\n",
    "    }\n",
    "}"
   ]
  },
  {
   "cell_type": "markdown",
   "metadata": {},
   "source": [
    "# Fit linear model to station data"
   ]
  },
  {
   "cell_type": "code",
   "execution_count": 49,
   "metadata": {
    "tags": []
   },
   "outputs": [],
   "source": [
    "# load covariate data\n",
    "gmst = read.table(\"gmst.txt\", col.names = c(\"year\", \"gmst\"))\n",
    "gmst$gmst <- gmst$gmst - gmst$gmst[gmst$year == 2025]\n",
    "\n",
    "# define factual & counterfactual covariates\n",
    "cov_f <- gmst[gmst$year == 2025,\"gmst\", drop = F]\n",
    "cov_cf <- rbind(\"pi\" = cov_f - 1.3)"
   ]
  },
  {
   "cell_type": "code",
   "execution_count": 54,
   "metadata": {},
   "outputs": [],
   "source": [
    "df <- read.csv(\"stations_rx7day.csv\")\n",
    "df <- merge(gmst, df)\n",
    "\n",
    "# fit nonstationary model to all columns\n",
    "models <- sapply(colnames(df)[grepl(\"X\", colnames(df))], function(cnm) {\n",
    "    df_c <- df[,c(\"year\", \"gmst\", cnm)]\n",
    "    df_c <- df_c[!is.na(df_c[,cnm]),]\n",
    "    tryCatch({\n",
    "        fit_ns(\"gev\", \"fixeddisp\", df_c, cnm, c(\"gmst\"), lower = F)\n",
    "    }, error = function(cond) { return(NULL) })\n",
    "}, simplify = F)\n",
    "\n",
    "# get all model results & save as .csv to be reconstructed & plotted in python\n",
    "fitted_res <- sapply(models, function(mdl) {\n",
    "    if(!is.null(unlist(mdl)[1])) {\n",
    "        c(mdl_ests(mdl, cov_f = cov_f, cov_cf = cov_cf), \"nobs\" = length(mdl$x))\n",
    "    } else {\n",
    "        c(rep(NA, 11))\n",
    "    }})\n",
    "\n",
    "write.csv(fitted_res, \"fitted-res_stations-rx7day.csv\")"
   ]
  },
  {
   "cell_type": "markdown",
   "metadata": {},
   "source": [
    "## Station average"
   ]
  },
  {
   "cell_type": "code",
   "execution_count": null,
   "metadata": {},
   "outputs": [],
   "source": []
  }
 ],
 "metadata": {
  "kernelspec": {
   "display_name": "R [conda env:r_env]",
   "language": "R",
   "name": "conda-env-r_env-r"
  },
  "language_info": {
   "codemirror_mode": "r",
   "file_extension": ".r",
   "mimetype": "text/x-r-source",
   "name": "R",
   "pygments_lexer": "r",
   "version": "4.2.2"
  }
 },
 "nbformat": 4,
 "nbformat_minor": 2
}
