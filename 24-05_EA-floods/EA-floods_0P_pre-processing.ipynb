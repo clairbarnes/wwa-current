{
 "cells": [
  {
   "cell_type": "code",
   "execution_count": 1,
   "id": "a8036d62",
   "metadata": {},
   "outputs": [],
   "source": [
    "import sys; sys.path.append('..'); from wwa import *\n",
    "\n",
    "xn,xx,yn,yx = [27,41,-13,2]\n",
    "rxn,rxx,ryn,ryx = [34.5,38,-2,1]\n",
    "mapproj = cartopy.crs.PlateCarree()\n",
    "\n",
    "sf = gpd.read_file(\"sf\")"
   ]
  },
  {
   "cell_type": "code",
   "execution_count": 2,
   "id": "507b561e",
   "metadata": {},
   "outputs": [],
   "source": [
    "sf_lv = gpd.read_file(\"sf_lvictoria\")\n",
    "sf_lt = gpd.read_file(\"sf_ltanganyika\")\n",
    "# sf_tc = gpd.read_file(\"sf_tanzaniaCoast\")\n",
    "# sf_ch = gpd.read_file(\"sf_centralHighlands\")\n",
    "sf_box = gpd.GeoDataFrame(pd.DataFrame(data = {\"region\" : [\"box\"]}, index = [0]), geometry = [Polygon(zip([rxn,rxn,rxx,rxx,rxn], [ryn,ryx,ryx,ryn,ryn]))], crs = \"EPSG:4326\")\n",
    "\n",
    "# sf_vt = gpd.read_file(\"sf_lvictoriaTanganyika\")\n",
    "sf_org = gpd.read_file(\"sf\")\n",
    "\n",
    "sf_names = {\"lv\" : \"Lake Victoria basin\", \"lt\" : \"Lake Tanganyika basin\", \"tc\" : \"southeast Tanzania\",\n",
    "            \"ch\" : \"Central Highlands to coast\", \"box\" : \"Central Highlands\", \"vt\" : \"Lake Victoria & Tanganyika basins\", \"org\" : \"Tanzania/Burundi/SW Kenya\"}"
   ]
  },
  {
   "cell_type": "markdown",
   "id": "e124a741",
   "metadata": {},
   "source": [
    "# Climate models"
   ]
  },
  {
   "cell_type": "markdown",
   "id": "5ff099e8-f652-4193-9df6-c46b2a168700",
   "metadata": {},
   "source": [
    "## HighResMIP"
   ]
  },
  {
   "cell_type": "markdown",
   "id": "f84c6e42",
   "metadata": {},
   "source": [
    "### Extract data over the region"
   ]
  },
  {
   "cell_type": "code",
   "execution_count": 4,
   "id": "81196b12",
   "metadata": {},
   "outputs": [],
   "source": [
    "ml = sorted(glob.glob(\"/rds/general/user/cb2714/home/00_WWA_project_folder/ephemeral/synda_Mariam/data/highresmip/*/pr/\"))\n",
    "outpath = \"/rds/general/user/cb2714/home/00_WWA_project_folder/ephemeral/eastAfrica_floods/highresmip/\""
   ]
  },
  {
   "cell_type": "code",
   "execution_count": 7,
   "id": "62fcb65f",
   "metadata": {},
   "outputs": [
    {
     "name": "stdout",
     "output_type": "stream",
     "text": [
      "/rds/general/user/cb2714/home/00_WWA_project_folder/ephemeral/eastAfrica_floods/highresmip/pr_day_CMCC-CM2-HR4_r1i1p1f1_gn.nc 2050-12-31 12:00:00\n",
      "/rds/general/user/cb2714/home/00_WWA_project_folder/ephemeral/eastAfrica_floods/highresmip/pr_day_FGOALS-f3-L_r1i1p1f1_gr.nc 2024-12-31 12:00:00\n",
      "/rds/general/user/cb2714/home/00_WWA_project_folder/ephemeral/eastAfrica_floods/highresmip/pr_day_FGOALS-f3-H_r1i1p1f1_gr.nc 2024-12-31 12:00:00\n",
      "/rds/general/user/cb2714/home/00_WWA_project_folder/ephemeral/eastAfrica_floods/highresmip/pr_day_NICAM16-8S_r1i1p1f1_gr.nc 2024-12-31T12:00:00.000000000\n",
      "/rds/general/user/cb2714/home/00_WWA_project_folder/ephemeral/eastAfrica_floods/highresmip/pr_day_NICAM16-7S_r1i1p1f1_gr.nc 2024-12-31T12:00:00.000000000\n",
      "/rds/general/user/cb2714/home/00_WWA_project_folder/ephemeral/eastAfrica_floods/highresmip/pr_day_HadGEM3-GC31-LM_r1i1p1f1_gn.nc 2024-12-30 12:00:00\n",
      "/rds/general/user/cb2714/home/00_WWA_project_folder/ephemeral/eastAfrica_floods/highresmip/pr_day_EC-Earth3P-HR_r1i1p1f1_gr.nc 2024-12-31T12:00:00.000000000\n",
      "/rds/general/user/cb2714/home/00_WWA_project_folder/ephemeral/eastAfrica_floods/highresmip/pr_day_MPI-ESM1-2-XR_r1i1p1f1_gn.nc 2024-12-31T23:58:00.000000000\n",
      "/rds/general/user/cb2714/home/00_WWA_project_folder/ephemeral/eastAfrica_floods/highresmip/pr_day_HiRAM-SIT-HR_r1i1p1f1_gn.nc 2024-12-31T12:00:00.000000000\n",
      "/rds/general/user/cb2714/home/00_WWA_project_folder/ephemeral/eastAfrica_floods/highresmip/pr_day_NICAM16-9S_r1i1p1f1_gr.nc 2050-12-31T12:00:00.000000000\n",
      "/rds/general/user/cb2714/home/00_WWA_project_folder/ephemeral/eastAfrica_floods/highresmip/pr_day_HiRAM-SIT-LR_r1i1p1f1_gn.nc 2024-12-31T12:00:00.000000000\n",
      "/rds/general/user/cb2714/home/00_WWA_project_folder/ephemeral/eastAfrica_floods/highresmip/pr_day_HadGEM3-GC31-MM_r1i1p1f1_gn.nc 2050-12-30 12:00:00\n",
      "/rds/general/user/cb2714/home/00_WWA_project_folder/ephemeral/eastAfrica_floods/highresmip/pr_day_CMCC-CM2-VHR4_r1i1p1f1_gn.nc 2024-12-31 12:00:00\n",
      "/rds/general/user/cb2714/home/00_WWA_project_folder/ephemeral/eastAfrica_floods/highresmip/pr_day_MPI-ESM1-2-HR_r1i1p1f1_gn.nc 2050-12-31T23:56:00.000000000\n",
      "/rds/general/user/cb2714/home/00_WWA_project_folder/ephemeral/eastAfrica_floods/highresmip/pr_day_EC-Earth3P_r1i1p1f1_gr.nc 2024-12-31T12:00:00.000000000\n",
      "/rds/general/user/cb2714/home/00_WWA_project_folder/ephemeral/eastAfrica_floods/highresmip/pr_day_HadGEM3-GC31-HM_r1i1p1f1_gn.nc 2024-12-30 12:00:00\n",
      "/rds/general/user/cb2714/home/00_WWA_project_folder/ephemeral/eastAfrica_floods/highresmip/pr_day_MRI-AGCM3-2-S_r1i1p1f1_gn.nc 2024-12-31T12:00:00.000000000\n",
      "/rds/general/user/cb2714/home/00_WWA_project_folder/ephemeral/eastAfrica_floods/highresmip/pr_day_MRI-AGCM3-2-H_r1i1p1f1_gn.nc 2024-12-31T12:00:00.000000000\n"
     ]
    }
   ],
   "source": [
    "for fnm in glob.glob(outpath+\"*\"):\n",
    "    print(fnm, xr.open_dataset(fnm).time.max().values)"
   ]
  },
  {
   "cell_type": "code",
   "execution_count": 57,
   "id": "805d9ffe",
   "metadata": {},
   "outputs": [],
   "source": [
    "for mpath in ml:\n",
    "    \n",
    "    print(mpath.split(\"/\")[-3])\n",
    "    fl_hist = sorted(glob.glob(mpath+\"*present*[0-9].nc\"))\n",
    "    fl_fut = sorted(glob.glob(mpath+\"*future*[0-9].nc\"))\n",
    "\n",
    "    # filter file list to remove duplicated years\n",
    "    last_hist = fl_hist[-1][-11:-3]\n",
    "    fl_fut = [fnm for fnm in fl_fut if fnm[-20:-12] > last_hist]\n",
    "\n",
    "    new_fnm = outpath + \"pr_day_\"+\"_\".join(fl_hist[0].split(\"_\")[6:7]+fl_hist[0].split(\"_\")[-3:-1])+\".nc\"\n",
    "    \n",
    "    if os.path.exists(new_fnm): continue\n",
    "    da = xr.open_mfdataset(fl_hist + fl_fut).pr.sel(lon = slice(xn-2,xx+2), lat = slice(yn-2,yx+2))\n",
    "\n",
    "    da.to_netcdf(new_fnm)\n",
    "    \n",
    "clear_output(wait = False)\n",
    "print(\"Done.\")"
   ]
  },
  {
   "cell_type": "code",
   "execution_count": null,
   "id": "a5b2427f",
   "metadata": {},
   "outputs": [],
   "source": [
    "# time series, spatial & seasonal patterns\n",
    "for fnm in glob.glob(outpath+\"*.nc\"):\n",
    "    \n",
    "    mdl = \"_\".join(fnm.split(\"_\")[-3:-1])\n",
    "    da = convert_units_to(xr.open_dataset(fnm).pr, \"mm/day\")\n",
    "    \n",
    "    if len(da.sel(time = slice(\"1990\",\"2020\")).time) == 0: continue\n",
    "    \n",
    "    # spatial pattern\n",
    "    sp = da.resample(time = \"QS-DEC\").sum().groupby(\"time.season\")[\"MAM\"].sel(time = slice(\"1990\", \"2020\")).mean(\"time\")\n",
    "    sp.to_netcdf(\"data/highresMIP/\"+re.sub(\"day\", \"spatial\", fnm.split(\"/\")[-1]))\n",
    "    \n",
    "    # daily time series\n",
    "    for sf_nm in list(sf_names.keys()):\n",
    "        sf = eval(\"sf_\"+sf_nm)\n",
    "        rm = regionmask.mask_geopandas(sf, da.lon, da.lat)\n",
    "        ts = da.where(rm == 0).mean([\"lat\", \"lon\"])\n",
    "    \n",
    "        # seasonal cycle\n",
    "        sc = ts.sel(time = slice(\"1990\",\"2020\")).groupby(\"time.dayofyear\").mean()\n",
    "        sc.to_netcdf(\"data/highresMIP/\"+re.sub(\"_day\", \"-\"+sf_nm+\"_seasonal-cycle\", fnm.split(\"/\")[-1]))\n",
    "    \n",
    "        # create time series for Climate Explorer\n",
    "        for ndays in [30]:\n",
    "\n",
    "            rxnday = ts.rolling(time = ndays).sum().resample(time = \"QS-DEC\").max().groupby(\"time.season\")[\"MAM\"]\n",
    "            rxnday = rxnday.assign_coords(time = rxnday.time.dt.year).rename(time = \"year\").to_dataframe()\n",
    "\n",
    "            csv_fnm = \"EA-floods_rx\"+str(ndays)+\"day-\"+sf_nm+\"_highresmip_\"+mdl\n",
    "            csv_fullpath = \"ts_highresmip/\"+csv_fnm+\".dat\"\n",
    "            if len(csv_fnm) > 61: print(\"! Filename too long: \", csv_fnm)\n",
    "\n",
    "            # create extra header lines for upload to Climate Explorer \n",
    "            str1 = \"# contact :: HighResMIP \"+mdl+\" MAM maxima of rx\"+str(ndays)+\"day - East Africa floods 2024, c.barnes22@imperial.ac.uk\"\n",
    "            str2 = \"# rx\"+str(ndays)+\"day [mm] March-May maximum of \"+str(ndays)+\"-day accumulated precipitation over \"+sf_names[sf_nm]+\" at \"+csv_fnm+\".dat\"\n",
    "            head = \"# year rx\"+str(ndays)+\"day\"\n",
    "\n",
    "            # make .dat file\n",
    "            ! echo \"$str1 \" > $csv_fullpath\n",
    "            ! echo \"$str2\" >> $csv_fullpath\n",
    "            ! echo \"$head\" >> $csv_fullpath\n",
    "            rxnday.to_csv(csv_fullpath, sep = \" \", mode = \"a\", header = False)\n",
    "\n",
    "            clear_output(wait = False)"
   ]
  },
  {
   "cell_type": "markdown",
   "id": "1004404f",
   "metadata": {},
   "source": [
    "## CORDEX"
   ]
  },
  {
   "cell_type": "code",
   "execution_count": 29,
   "id": "8e88d5ef",
   "metadata": {},
   "outputs": [],
   "source": [
    "abridge_gcm = {'CCCma-CanESM2' : \"CanESM2\",\n",
    "               \"CNRM-CERFACS-CNRM-CM5\" : \"CNRM-CM5\",\n",
    "               'CSIRO-QCCCE-CSIRO-Mk3-6-0' : 'CSIRO-Mk3-6-0',\n",
    "               \"ICHEC-EC-EARTH\" : \"EC-EARTH\",\n",
    "               'IPSL-IPSL-CM5A-LR' : 'IPSL-CM5A-LR',\n",
    "               'IPSL-IPSL-CM5A-MR' : 'IPSL-CM5A-MR',\n",
    "               'MIROC-MIROC5' : 'MIROC5',\n",
    "               'MOHC-HadGEM2-ES' : 'HadGEM2-ES',\n",
    "               'MPI-M-MPI-ESM-LR' : 'MPI-ESM-LR',\n",
    "               'MPI-M-MPI-ESM-MR' : 'MPI-ESM-MR',\n",
    "               'NCC-NorESM1-M' : 'NorESM1-M',\n",
    "               'NOAA-GFDL-GFDL-ESM2G' : 'GFDL-ESM2G',\n",
    "               'NOAA-GFDL-GFDL-ESM2M' : 'GFDL-ESM2M'}\n",
    "\n",
    "abridge_rcm = {'CCCma-CanRCM4' : \"CanRCM4\",\n",
    "               'CLMcom-CCLM4-8-17': \"CCLM4-8-17\",\n",
    "                 'CLMcom-ETH-COSMO-crCLIM-v1-1': \"COSMO-crCLIM-v1-1\",\n",
    "                 'CNRM-ALADIN63':\"ALADIN63\",\n",
    "                 'DMI-HIRHAM5':\"HIRHAM5\",\n",
    "                 'GERICS-REMO2015':\"REMO2015\",\n",
    "                 'ICTP-RegCM4-3':\"RegCM4-3\",\n",
    "                 'ICTP-RegCM4-6':\"RegCM4-6\",\n",
    "                 'ICTP-RegCM4-7':\"RegCM4-7\",\n",
    "                 'IPSL-WRF381P':\"WRF381P\",\n",
    "                 'KNMI-RACMO22E':\"RACMO22E\",\n",
    "               'KNMI-RACMO22T':\"RACMO22T\",\n",
    "                 'MOHC-HadREM3-GA7-05':\"HadREM3-GA7-05\",\n",
    "                 'MPI-CSC-REMO2009':\"REMO2009\",\n",
    "                 'SMHI-RCA4':\"RCA4\",\n",
    "                 'UCAN-WRF341I':\"WRF341I\",\n",
    "                 'UHOH-WRF361H':\"WRF361H\"}"
   ]
  },
  {
   "cell_type": "code",
   "execution_count": 34,
   "id": "ff25e73a",
   "metadata": {},
   "outputs": [],
   "source": [
    "ml = sorted(glob.glob(\"/rds/general/user/cb2714/home/00_WWA_project_folder/ephemeral/eastAfrica_floods/CORDEX/*.nc\"))\n",
    "for fnm in ml:\n",
    "    \n",
    "    mdl = abridge_gcm[fnm.split(\"_\")[8]]+\"_\"+abridge_rcm[fnm.split(\"_\")[11]]\n",
    "    ts = convert_units_to(xr.open_dataset(fnm).pr, \"mm/day\")\n",
    "\n",
    "    for ndays in [30]:\n",
    "\n",
    "        rxnday = ts.rolling(time = ndays).sum().resample(time = \"QS-DEC\").max().groupby(\"time.season\")[\"MAM\"]\n",
    "        rxnday = rxnday.assign_coords(time = rxnday.time.dt.year).rename(time = \"year\").to_dataframe()\n",
    "        \n",
    "        csv_fnm = \"EA-floods_rx\"+str(ndays)+\"day-org_cordex_\"+mdl\n",
    "        csv_fullpath = \"ts_cordex/\"+csv_fnm+\".dat\"\n",
    "        if len(csv_fnm) > 61: print(\"! Filename too long: \", csv_fnm)\n",
    "\n",
    "        # create extra header lines for upload to Climate Explorer \n",
    "        str1 = \"# contact :: CORDEX \"+mdl+\" MAM maxima of rx\"+str(ndays)+\"day - East Africa floods 2024, c.barnes22@imperial.ac.uk\"\n",
    "        str2 = \"# rx\"+str(ndays)+\"day [mm] March-May maximum of \"+str(ndays)+\"-day accumulated precipitation over Tanzania/Burundi/SW Kenya at \"+csv_fnm+\".dat\"\n",
    "        head = \"# year rx\"+str(ndays)+\"day\"\n",
    "\n",
    "        # make .dat file\n",
    "        ! echo \"$str1 \" > $csv_fullpath\n",
    "        ! echo \"$str2\" >> $csv_fullpath\n",
    "        ! echo \"$head\" >> $csv_fullpath\n",
    "        rxnday.to_csv(csv_fullpath, sep = \" \", mode = \"a\", header = False)\n",
    "\n",
    "        clear_output(wait = False)"
   ]
  },
  {
   "cell_type": "markdown",
   "id": "4d16a5c9",
   "metadata": {},
   "source": [
    "## CMIP6"
   ]
  },
  {
   "cell_type": "markdown",
   "id": "50e1e699-8472-4cbb-8b6b-b5617396eed0",
   "metadata": {},
   "source": [
    "### Daily time series"
   ]
  },
  {
   "cell_type": "code",
   "execution_count": 34,
   "id": "ff072b96-cb14-446d-ba0a-d21279e07bd8",
   "metadata": {},
   "outputs": [],
   "source": [
    "for fnm in sorted(glob.glob(\"data/cmip6/*_mon_*.nc\")):\n",
    "    \n",
    "    print(fnm)\n",
    "    da = decode_times(xr.open_dataset(fnm, decode_times = False))\n",
    "    \n",
    "    if \"longitude\" in da.dims: da = da.rename(longitude = \"lon\", latitude = \"lat\")\n",
    "    \n",
    "    rm = regionmask.mask_geopandas(sf, da.lon, da.lat)\n",
    "    ts = da.pr.where(rm == 0).mean([\"lat\", \"lon\"])\n",
    "    \n",
    "    mdl = da.source_id+\"_\"+da.variant_label\n",
    "    new_fnm = \"data/cmip6/pr-org_day_\"+mdl+\".nc\"\n",
    "    \n",
    "    ts.to_netcdf(new_fnm)\n",
    "    \n",
    "clear_output(wait = False)"
   ]
  },
  {
   "cell_type": "markdown",
   "id": "464582c0-32a3-4afb-9b4e-e08c6108ee7c",
   "metadata": {},
   "source": [
    "### Spatial pattern"
   ]
  },
  {
   "cell_type": "code",
   "execution_count": 39,
   "id": "101209bb-943e-4808-b3af-6c922df0845e",
   "metadata": {},
   "outputs": [],
   "source": [
    "for fnm in sorted(glob.glob(\"data/cmip6/*_mon_*.nc\")):\n",
    "    \n",
    "    print(fnm)\n",
    "    da = decode_times(xr.open_dataset(fnm, decode_times = False))\n",
    "        \n",
    "    sp = da.resample(time = \"QS-DEC\").sum().groupby(\"time.season\")[\"MAM\"].sel(time = slice(\"1990\",\"2020\")).mean(\"time\")\n",
    "    \n",
    "    mdl = da.source_id+\"_\"+da.variant_label\n",
    "    new_fnm = \"data/cmip6/pr_spatial_\"+mdl+\".nc\"\n",
    "    \n",
    "    sp.to_netcdf(new_fnm)\n",
    "    \n",
    "clear_output(wait = False)"
   ]
  },
  {
   "cell_type": "markdown",
   "id": "c57251b7-be00-49a3-b4fa-80d34dc0cbbd",
   "metadata": {},
   "source": [
    "### Seasonal cycle"
   ]
  },
  {
   "cell_type": "code",
   "execution_count": 35,
   "id": "377e8df8-8738-41cb-8119-caa5c73b02a4",
   "metadata": {},
   "outputs": [],
   "source": [
    "for fnm in sorted(glob.glob(\"data/cmip6/*_EAF_*.nc\")):\n",
    "    \n",
    "    print(fnm)\n",
    "    \n",
    "    mdl = fnm.split(\"_\")[4]+\"_\"+fnm.split(\"_\")[6]\n",
    "    ts = convert_units_to(xr.open_dataset(fnm).pr, \"mm/day\")\n",
    "    sc = ts.sel(time = slice(\"1990\",\"2020\")).groupby(\"time.dayofyear\").mean()\n",
    "    \n",
    "    sc.to_netcdf(\"data/cmip6/pr-org_seasonal-cycle_\"+mdl+\".nc\")\n",
    "    \n",
    "clear_output(wait = False)"
   ]
  },
  {
   "cell_type": "markdown",
   "id": "e9f598e9-b57f-42da-94b8-038b69cfd85a",
   "metadata": {},
   "source": [
    "### Time series for climate explorer "
   ]
  },
  {
   "cell_type": "code",
   "execution_count": 30,
   "id": "dda7e5f9-df42-4fc2-b533-9dbddb371924",
   "metadata": {},
   "outputs": [],
   "source": [
    "ndays = 30\n",
    "ml = sorted(glob.glob(\"data/cmip6/*EAF*.nc\"))\n",
    "for fnm in ml:\n",
    "    \n",
    "    mdl = fnm.split(\"_\")[4]+\"_\"+fnm.split(\"_\")[6]\n",
    "    ts = convert_units_to(xr.open_dataset(fnm).pr, \"mm/day\")\n",
    "    ts = ts.rolling(time = 30).sum().resample(time = \"QS-DEC\").max().groupby(\"time.season\")[\"MAM\"]\n",
    "    ts = ts.assign_coords(time = ts.time.dt.year).rename(\"pr\", time = \"year\").to_dataframe()\n",
    "    \n",
    "    csv_fnm = \"EA-floods_rx30day-org_cmip6_\"+mdl\n",
    "    csv_fullpath = \"ts_cmip6/\"+csv_fnm+\".dat\"\n",
    "    if len(csv_fnm) > 61: print(\"! Filename too long: \", csv_fnm)\n",
    "\n",
    "    # create extra header lines for upload to Climate Explorer \n",
    "    str1 = \"# contact :: CMIP6 \"+mdl+\" MAM maxima of rx\"+str(ndays)+\"day - East Africa floods 2024, c.barnes22@imperial.ac.uk\"\n",
    "    str2 = \"# pr [mm] March-May maximum of \"+str(ndays)+\"-day accumulated precipitation over Tanzania/Burundi/SW Kenya at \"+csv_fnm+\".dat\"\n",
    "    head = \"# year pr\"\n",
    "\n",
    "    # make .dat file\n",
    "    ! echo \"$str1 \" > $csv_fullpath\n",
    "    ! echo \"$str2\" >> $csv_fullpath\n",
    "    ! echo \"$head\" >> $csv_fullpath\n",
    "    ts.to_csv(csv_fullpath, sep = \" \", mode = \"a\", header = False)\n",
    "\n",
    "    clear_output(wait = False)"
   ]
  },
  {
   "cell_type": "markdown",
   "id": "fb9a8fe6",
   "metadata": {},
   "source": [
    "# Gridded observational products"
   ]
  },
  {
   "cell_type": "code",
   "execution_count": 4,
   "id": "2e4c5055",
   "metadata": {},
   "outputs": [],
   "source": [
    "# ds = \"chirps\"; da = wrap_lon(xr.open_dataset(\"/rds/general/user/cb2714/home/00_WWA_project_folder/ephemeral/eastAfrica_floods/precip_chirps_1981-2024_EA.nc\")).precip.rename(\"pr\", longitude = \"lon\", latitude = \"lat\")\n",
    "# ds = \"tamsat\"; da = wrap_lon(xr.open_dataset(\"/rds/general/user/cb2714/home/00_WWA_project_folder/ephemeral/eastAfrica_floods/precip_tamsat_1983-2024_EA.nc\")).rfe.rename(\"pr\")\n",
    "# ds = \"mswep\"; da = wrap_lon(xr.open_mfdataset(\"/rds/general/user/cb2714/home/00_WWA_project_folder/ephemeral/eastAfrica_floods/MSWEP/mswep_EA_*.nc\")).precipitation.rename(\"pr\")\n",
    "# ds = \"cpc\"; da = wrap_lon(xr.open_mfdataset(\"/rds/general/user/cb2714/home/00_WWA_project_folder/live/data/cpc/precip*.nc\")).precip.rename(\"pr\")"
   ]
  },
  {
   "cell_type": "code",
   "execution_count": 42,
   "id": "10cfeb4e",
   "metadata": {},
   "outputs": [],
   "source": [
    "ds = \"era5\"; da = wrap_lon(xr.open_dataset(\"data/era5_tp_daily_af_27-41E_-12-2N_su.nc\")).tp.rename(\"pr\")"
   ]
  },
  {
   "cell_type": "code",
   "execution_count": 43,
   "id": "fc2ddec7",
   "metadata": {},
   "outputs": [],
   "source": [
    "# Daily time series from shapefiles\n",
    "for sf_nm in list(sf_names.keys()):\n",
    "    sf = eval(\"sf_\"+sf_nm)\n",
    "    rm = regionmask.mask_geopandas(sf, da.lon, da.lat)\n",
    "    ts = da.where(rm == 0).mean([\"lat\", \"lon\"])\n",
    "    ts.to_netcdf(\"data/daily-ts_\"+sf_nm+\"_\"+ds+\".nc\")"
   ]
  },
  {
   "cell_type": "code",
   "execution_count": 6,
   "id": "5b5cba52",
   "metadata": {},
   "outputs": [],
   "source": [
    "# gridded n-day seasonal maxima\n",
    "for ndays in [30]:\n",
    "    da = da.sel(lon = slice(xn,xx), lat = slice(yn,yx))\n",
    "    rxnday = da.rolling(time = ndays, center = False).sum().resample(time = \"QS-DEC\").max().groupby(\"time.season\")[\"MAM\"]\n",
    "    rxnday.to_netcdf(\"data/rx\"+str(ndays)+\"day-MAM_gridded_\"+ds+\".nc\")"
   ]
  },
  {
   "cell_type": "code",
   "execution_count": null,
   "id": "ba82059c",
   "metadata": {},
   "outputs": [],
   "source": [
    "# 2024 event\n",
    "fpath = \"/rds/general/user/cb2714/home/00_WWA_project_folder/ephemeral/eastAfrica_floods/\"\n",
    "\n",
    "for ds in [\"chirps\", \"cpc\", \"era5\", \"mswep\", \"tamsat\"]:\n",
    "    if ds == \"chirps\": \n",
    "        da = wrap_lon(xr.open_dataset(fpath+\"precip_chirps_1981-2024_EA.nc\")).precip.rename(\"pr\", longitude = \"lon\", latitude = \"lat\").sel(time = \"2024\")\n",
    "    elif ds == \"cpc\" : \n",
    "        da = wrap_lon(xr.open_mfdataset(\"/rds/general/user/cb2714/home/00_WWA_project_folder/live/data/cpc/precip*.nc\")).precip.rename(\"pr\")\n",
    "    elif ds == \"era5\" : \n",
    "        da = wrap_lon(xr.open_dataset(\"data/era5_tp_daily_af_27-41E_-12-2N_su.nc\")).tp.rename(\"pr\")\n",
    "    elif ds == \"mswep\" : \n",
    "        da = wrap_lon(xr.open_mfdataset(\"/rds/general/user/cb2714/home/00_WWA_project_folder/ephemeral/eastAfrica_floods/MSWEP/mswep_EA_*.nc\")).precipitation.rename(\"pr\")\n",
    "    elif ds == \"tamsat\" : \n",
    "        da = wrap_lon(xr.open_dataset(\"/rds/general/user/cb2714/home/00_WWA_project_folder/ephemeral/eastAfrica_floods/precip_tamsat_1983-2024_EA.nc\")).rfe.rename(\"pr\")\n",
    "        \n",
    "    whichmax = xr.open_dataset(\"data/daily-ts_org_\"+ds+\".nc\").pr.sel(time = \"2024\").rolling(time = 30, center = False).sum().sel(time = slice(\"2024-03\",None)).idxmax()\n",
    "    event = da.rolling(time = 30, center = False).sum().sel(time = whichmax).sel(lon = slice(xn, xx), lat = slice(yn,yx))\n",
    "    event.to_netcdf(\"data/event-map_\"+ds+\".nc\")"
   ]
  },
  {
   "cell_type": "markdown",
   "id": "2e52c57b",
   "metadata": {},
   "source": [
    "## Time series for climate explorer"
   ]
  },
  {
   "cell_type": "code",
   "execution_count": 8,
   "id": "c58c9831",
   "metadata": {},
   "outputs": [],
   "source": [
    "datasets = [\"chirps\", \"cpc\", \"era5\", \"mswep\", \"tamsat\"]\n",
    "for ndays in [3]:\n",
    "    for region in [\"box\"]: #list(sf_names.keys()):\n",
    "        for ds in datasets:\n",
    "\n",
    "            ts = xr.open_dataset(\"data/daily-ts_\"+region+\"_\"+ds+\".nc\").pr\n",
    "            ts = ts.rolling(time = ndays, center = False).sum().resample(time = \"QS-DEC\").max().groupby(\"time.season\")[\"MAM\"]\n",
    "            ts = ts.assign_coords(time = ts.time.dt.year).rename(time = \"year\").to_dataframe()\n",
    "\n",
    "            csv_fnm = \"EA-floods_rx\"+str(ndays)+\"day_obs-\"+region+\"_\"+ds\n",
    "            csv_fullpath = \"ts_obs/\"+csv_fnm+\".dat\"\n",
    "\n",
    "            if len(csv_fnm) > 61: print(\"! Filename too long: \", csv_fnm)\n",
    "                \n",
    "            rnm = sf_names[region]\n",
    "\n",
    "            # create extra header lines for upload to Climate Explorer \n",
    "            str1 = \"# contact :: \"+ds.upper()+\" MAM maxima of rx\"+str(ndays)+\"day averaged over \"+rnm+\" - East Africa floods 2024, c.barnes22@imperial.ac.uk\"\n",
    "            str2 = \"# rx\"+str(ndays)+\"day [mm] March-May maxima of \"+str(ndays)+\"-day accumulated precipitation at \"+csv_fnm+\".dat\"\n",
    "            head = \"# year rx\"+str(ndays)+\"day\"\n",
    "\n",
    "            # make .dat file\n",
    "            ! echo \"$str1 \" > $csv_fullpath\n",
    "            ! echo \"$str2\" >> $csv_fullpath\n",
    "            ! echo \"$head\" >> $csv_fullpath\n",
    "            ts.to_csv(csv_fullpath, sep = \" \", mode = \"a\", header = False)\n",
    "\n",
    "            clear_output(wait = False)"
   ]
  },
  {
   "cell_type": "markdown",
   "id": "8ad8cb47",
   "metadata": {},
   "source": [
    "# MAM climatology 1990-2020"
   ]
  },
  {
   "cell_type": "code",
   "execution_count": 10,
   "id": "223d979a",
   "metadata": {},
   "outputs": [],
   "source": [
    "# ds = \"chirps\"; da = wrap_lon(xr.open_dataset(\"/rds/general/user/cb2714/home/00_WWA_project_folder/ephemeral/eastAfrica_floods/precip_chirps_1981-2024_EA.nc\")).precip.rename(\"pr\", longitude = \"lon\", latitude = \"lat\")\n",
    "# ds = \"tamsat\"; da = wrap_lon(xr.open_dataset(\"/rds/general/user/cb2714/home/00_WWA_project_folder/ephemeral/eastAfrica_floods/precip_tamsat_1983-2024_EA.nc\")).rfe.rename(\"pr\")\n",
    "# ds = \"mswep\"; da = wrap_lon(xr.open_mfdataset(\"/rds/general/user/cb2714/home/00_WWA_project_folder/ephemeral/eastAfrica_floods/MSWEP/mswep_EA_*.nc\")).precipitation.rename(\"pr\")\n",
    "ds = \"cpc\"; da = wrap_lon(xr.open_mfdataset(\"/rds/general/user/cb2714/home/00_WWA_project_folder/live/data/cpc/precip*.nc\")).precip.rename(\"pr\")"
   ]
  },
  {
   "cell_type": "code",
   "execution_count": null,
   "id": "1489e0cf",
   "metadata": {},
   "outputs": [],
   "source": [
    "clim = da.resample(time = \"QS-DEC\").sum().groupby(\"time.season\")[\"MAM\"].sel(time = slice(\"1990\", \"2020\")).mean(\"time\")\n",
    "clim = clim.where(clim > 0)\n",
    "clim.to_netcdf(\"data/mam-climatology_\"+ds+\".nc\")"
   ]
  },
  {
   "cell_type": "markdown",
   "id": "c64922f0",
   "metadata": {},
   "source": [
    "## Flatten gridded data for trend fitting"
   ]
  },
  {
   "cell_type": "code",
   "execution_count": 8,
   "id": "a4ef6667",
   "metadata": {},
   "outputs": [],
   "source": [
    "# gridded n-day seasonal maxima over study region only\n",
    "ndays = 30\n",
    "for ds in [\"chirps\", \"cpc\", \"mswep\", \"tamsat\"][:1]:\n",
    "    \n",
    "    da = xr.open_dataset(\"data/rx\"+str(ndays)+\"day-MAM_gridded_\"+ds+\".nc\").pr\n",
    "    da = da.assign_coords(time = da.time.dt.year).rename(time = \"year\")\n",
    "    \n",
    "    if ds in [\"mswep\"]:\n",
    "        # mask out the sea\n",
    "        rm = regionmask.defined_regions.natural_earth_v5_0_0.land_10.mask(da.lon, da.lat)\n",
    "        da = da.where(rm == 0)\n",
    "\n",
    "    # save the map for easier reconstruction later\n",
    "    da.mean(\"year\").to_netcdf(\"data/map-tmplt_\"+ds+\".nc\")\n",
    "    \n",
    "    # flatten & save as .csv for transfer to R\n",
    "    da_df = da.stack(xy = [\"lat\", \"lon\"]).dropna(\"xy\", \"all\").to_pandas()\n",
    "    \n",
    "    if da_df.shape[1] > 2500:\n",
    "        for i in range(int(np.ceil(da_df.shape[1] / 2500))):\n",
    "            da_df.iloc[:,slice(i*2500,(i+1)*2500)].to_csv(\"data/flattened/rx\"+str(ndays)+\"days-flattened_\"+ds+\"_\"+str(i+1).rjust(2,\"0\")+\".csv\")\n",
    "    else:\n",
    "        da_df.to_csv(\"data/flattened/rx\"+str(ndays)+\"days-flattened_\"+ds+\".csv\")\n",
    "    "
   ]
  },
  {
   "cell_type": "markdown",
   "id": "9f788b59",
   "metadata": {},
   "source": [
    "## Reshape dataframe into maps"
   ]
  },
  {
   "cell_type": "code",
   "execution_count": 36,
   "id": "02804e4b",
   "metadata": {},
   "outputs": [],
   "source": [
    "warnings.filterwarnings(\"ignore\", category = FutureWarning) # otherwise there will be a LOT of warnings\n",
    "\n",
    "def vec2map(x, mask):\n",
    "    \n",
    "    # reconstruct vector into map\n",
    "    # create an empty map with NA in same cells as masks\n",
    "    arr = mask.where(np.isnan(mask), 0)\n",
    "    \n",
    "    # get coordinates of non-empty cells\n",
    "    px = np.argwhere(~np.isnan(mask.values))\n",
    "    \n",
    "    # Transfer vector values into non-empty cells in array\n",
    "    if len(px) == len(x):\n",
    "        for i in list(range(len(px))): arr[px[i,0], px[i,1]] = x[i]\n",
    "        return arr\n",
    "    else:\n",
    "        print(str(len(x))+\" values, but \"+str(len(px))+\" cells\")\n",
    "        return"
   ]
  },
  {
   "cell_type": "code",
   "execution_count": 38,
   "id": "05419284",
   "metadata": {},
   "outputs": [],
   "source": [
    "ndays = 30\n",
    "datasets = [\"tamsat\", \"chirps\", \"cpc\", \"mswep\"]\n",
    "for ds in datasets:\n",
    "    \n",
    "    new_fnm = \"res/res-gridded_rx\"+str(ndays)+\"day_\"+ds+\".nc\"\n",
    "    if os.path.exists(new_fnm): continue\n",
    "    \n",
    "    # load map to be used to reshape\n",
    "    tmplt = xr.open_dataset(\"data/map-tmplt_\"+ds+\".nc\").pr\n",
    "    \n",
    "    df = merge_byindex([pd.read_csv(fnm, index_col = 0) for fnm in sorted(glob.glob(\"data/gridded-res/rx\"+str(ndays)+\"day*_\"+ds+\"*.csv\"))])\n",
    "    mdl_res = xr.merge([vec2map(df.loc[r], tmplt).rename(r) for r in df.index])\n",
    "    mdl_res.to_netcdf(new_fnm)"
   ]
  },
  {
   "cell_type": "markdown",
   "id": "3445d7fc",
   "metadata": {},
   "source": [
    "# Covariates"
   ]
  },
  {
   "cell_type": "markdown",
   "id": "9115dfbf",
   "metadata": {},
   "source": [
    "## MAM IOD"
   ]
  },
  {
   "cell_type": "code",
   "execution_count": 45,
   "id": "62b67a8e",
   "metadata": {},
   "outputs": [],
   "source": [
    "iod = decode_times(xr.open_dataset(\"data/idmi_ersst.nc\", decode_times = False))[\"diff\"].rename(\"IOD\")\n",
    "\n",
    "iod_mam = iod.resample(time = \"QS-DEC\").mean().groupby(\"time.season\")[\"MAM\"]\n",
    "iod_mam = iod_mam.assign_coords(time = iod_mam.time.dt.year).rename(time = \"year\").to_dataframe()\n",
    "ts = iod_mam"
   ]
  },
  {
   "cell_type": "code",
   "execution_count": 29,
   "id": "9652ab55",
   "metadata": {},
   "outputs": [],
   "source": [
    "csv_fnm = \"EA-floods_iod-mam_obs_ersst\"\n",
    "csv_fullpath = \"ts/\"+csv_fnm+\".dat\"\n",
    "\n",
    "if len(csv_fnm) > 61: print(\"! Filename too long: \", csv_fnm)\n",
    "\n",
    "# create extra header lines for upload to Climate Explorer \n",
    "str1 = \"# contact :: MAM IOD (ERSST) - East Africa floods 2024, c.barnes22@imperial.ac.uk\"\n",
    "str2 = \"# iod [degC] March-May mean of IOD at \"+csv_fnm+\".dat\"\n",
    "head = \"# year iod\"\n",
    "\n",
    "# make .dat file\n",
    "! echo \"$str1 \" > $csv_fullpath\n",
    "! echo \"$str2\" >> $csv_fullpath\n",
    "! echo \"$head\" >> $csv_fullpath\n",
    "iod_mam.to_csv(csv_fullpath, sep = \" \", mode = \"a\", header = False)\n",
    "\n",
    "clear_output(wait = False)"
   ]
  },
  {
   "cell_type": "markdown",
   "id": "e206925c",
   "metadata": {},
   "source": [
    "## DJF detrended Nino3.4"
   ]
  },
  {
   "cell_type": "code",
   "execution_count": 48,
   "id": "2b5a1855",
   "metadata": {},
   "outputs": [],
   "source": [
    "nino = xr.open_dataset(\"../10_misc/detrended_nino34/ersst_nino34_detrended.nc\").nino34\n",
    "nino_djf = nino.resample(time = \"QS-DEC\").mean().groupby(\"time.season\")[\"DJF\"]\n",
    "nino_djf = nino_djf.assign_coords(time = nino_djf.time.dt.year + 1).rename(time = \"year\").to_dataframe()\n",
    "ts = nino_djf\n",
    "\n",
    "csv_fnm = \"EA-floods_nino-djf_obs_ersst\"\n",
    "csv_fullpath = \"ts/\"+csv_fnm+\".dat\"\n",
    "\n",
    "if len(csv_fnm) > 61: print(\"! Filename too long: \", csv_fnm)\n",
    "\n",
    "# create extra header lines for upload to Climate Explorer \n",
    "str1 = \"# contact :: DJF detrended Nino3.4 (ERSST) - East Africa floods 2024, c.barnes22@imperial.ac.uk\"\n",
    "str2 = \"# nino [degC] December-February mean of Nino3.4 detrended by subtracting mean of tropical SSTs at \"+csv_fnm+\".dat\"\n",
    "head = \"# year nino\"\n",
    "\n",
    "# make .dat file\n",
    "! echo \"$str1 \" > $csv_fullpath\n",
    "! echo \"$str2\" >> $csv_fullpath\n",
    "! echo \"$head\" >> $csv_fullpath\n",
    "ts.to_csv(csv_fullpath, sep = \" \", mode = \"a\", header = False)\n",
    "\n",
    "clear_output(wait = False)"
   ]
  },
  {
   "cell_type": "markdown",
   "id": "aaf60c37",
   "metadata": {},
   "source": [
    "## Mean 850hPa geopotential height during May"
   ]
  },
  {
   "cell_type": "code",
   "execution_count": 34,
   "id": "5c5ad9fb",
   "metadata": {},
   "outputs": [],
   "source": [
    "z = decode_times(xr.open_dataset(\"data/iera5_z850_50-75E_10-25N_n_su_5_.nc\", decode_times = False)).z\n",
    "z = z.assign_coords(time = z.time.dt.year).rename(time = \"year\")\n",
    "z.to_pandas().to_csv(\"data/850hPa-geopotential-height.csv\")"
   ]
  },
  {
   "cell_type": "code",
   "execution_count": 33,
   "id": "0a63a625",
   "metadata": {},
   "outputs": [
    {
     "data": {
      "text/plain": [
       "[<matplotlib.lines.Line2D at 0x14cc19fa82b0>]"
      ]
     },
     "execution_count": 33,
     "metadata": {},
     "output_type": "execute_result"
    },
    {
     "data": {
      "image/png": "[encoded data removed]",
      "text/plain": [
       "<Figure size 640x480 with 1 Axes>"
      ]
     },
     "metadata": {},
     "output_type": "display_data"
    }
   ],
   "source": [
    "z.plot()"
   ]
  },
  {
   "cell_type": "markdown",
   "id": "24160f76",
   "metadata": {},
   "source": [
    "## Mean SST gradient over Arabian Sea during May"
   ]
  },
  {
   "cell_type": "code",
   "execution_count": 12,
   "id": "a4af2a39",
   "metadata": {},
   "outputs": [],
   "source": [
    "sst_n = decode_times(xr.open_dataset(\"data/iersstv5_60-70E_18-24N_n_su.nc\", decode_times = False)).sst\n",
    "sst_s = decode_times(xr.open_dataset(\"data/iersstv5_50-78E_6-12N_n_su.nc\", decode_times = False)).sst"
   ]
  },
  {
   "cell_type": "code",
   "execution_count": 39,
   "id": "e707f3d1",
   "metadata": {},
   "outputs": [],
   "source": [
    "sst_gradient = (sst_s - sst_n).groupby(\"time.month\")[5].resample(time = \"AS-MAY\").mean()\n",
    "sst_gradient = sst_gradient.assign_coords(time = sst_gradient.time.dt.year).rename(time = \"year\")\n",
    "sst_gradient.to_pandas().to_csv(\"data/sst-gradient.csv\")\n",
    "\n",
    "sst_gradient.rolling(year = 4, center = True, min_periods = 2).mean().to_pandas().to_csv(\"data/sst-gradient-sm4y.csv\")"
   ]
  },
  {
   "cell_type": "code",
   "execution_count": 29,
   "id": "3efd6270",
   "metadata": {},
   "outputs": [
    {
     "data": {
      "text/plain": [
       "[<matplotlib.lines.Line2D at 0x14cc1a075780>]"
      ]
     },
     "execution_count": 29,
     "metadata": {},
     "output_type": "execute_result"
    },
    {
     "data": {
      "image/png": "[encoded data removed]",
      "text/plain": [
       "<Figure size 640x480 with 1 Axes>"
      ]
     },
     "metadata": {},
     "output_type": "display_data"
    }
   ],
   "source": [
    "sst_gradient = sst_gradient.sel(year = slice(1940, 2024))\n",
    "\n",
    "sst_gradient.plot(drawstyle = \"steps\")\n",
    "sst_gradient.rolling(year = 10, center = True).mean().plot()"
   ]
  },
  {
   "cell_type": "code",
   "execution_count": null,
   "id": "a076d443",
   "metadata": {},
   "outputs": [],
   "source": []
  }
 ],
 "metadata": {
  "kernelspec": {
   "display_name": "Python [conda env:wwa]",
   "language": "python",
   "name": "conda-env-wwa-py"
  },
  "language_info": {
   "codemirror_mode": {
    "name": "ipython",
    "version": 3
   },
   "file_extension": ".py",
   "mimetype": "text/x-python",
   "name": "python",
   "nbconvert_exporter": "python",
   "pygments_lexer": "ipython3",
   "version": "3.10.8"
  }
 },
 "nbformat": 4,
 "nbformat_minor": 5
}
