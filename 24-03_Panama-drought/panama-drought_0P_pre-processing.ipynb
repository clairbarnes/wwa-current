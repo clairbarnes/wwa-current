{
 "cells": [
  {
   "cell_type": "code",
   "execution_count": 5,
   "metadata": {},
   "outputs": [],
   "source": [
    "import sys; sys.path.append('..'); from wwa import *\n",
    "cproj = cartopy.crs.PlateCarree()\n",
    "\n",
    "xn, xx, yn, yx = [-85,-75,6,10]\n",
    "Xn, Xx, Yn, Yx = [-85,-75,5,15]\n",
    "\n",
    "units = {\"pr\" : \"mm/day\", \"tasmin\" : \"degC\", \"tasmax\" : \"degC\"}"
   ]
  },
  {
   "cell_type": "markdown",
   "metadata": {},
   "source": [
    "---\n",
    "---\n",
    "# Observational datasets"
   ]
  },
  {
   "cell_type": "markdown",
   "metadata": {},
   "source": [
    "---\n",
    "## CHIRPS"
   ]
  },
  {
   "cell_type": "code",
   "execution_count": null,
   "metadata": {},
   "outputs": [],
   "source": [
    "chirps = xr.open_mfdataset(\"../../00_WWA_project_folder/live/data/chirps_05/*.nc\").sel(longitude = slice(xn,xx), latitude = slice(yn, yx)).rename(\"pr\", latitude = \"lat\", longitude = \"lon\")\n",
    "chirps.to_netcdf(\"data/chirps05_panama.nc\")"
   ]
  },
  {
   "cell_type": "code",
   "execution_count": null,
   "metadata": {},
   "outputs": [],
   "source": [
    "chirps = xr.open_dataset(\"data/chirps05_panama.nc\")\n",
    "\n",
    "# daily & monthly time series\n",
    "chirps_ts = chirps.mean([\"lat\", \"lon\"])\n",
    "chirps_ts.to_netcdf(\"data/chirps_panama_ts.nc\")\n",
    "chirps_ts.resample(time = \"MS\").mean().to_netcdf(\"data/pr_monthly_chirps.nc\")\n",
    "\n",
    "# monthly maps\n",
    "chirps = chirps.resample(time = \"MS\").sum()\n",
    "chirps = chirps.where(chirps.sum(\"time\") > 0)\n",
    "chirps.to_netcdf(\"data/chirps05_panama_monthly.nc\")"
   ]
  },
  {
   "cell_type": "code",
   "execution_count": 148,
   "metadata": {},
   "outputs": [],
   "source": [
    "bci_px = {\"lon\" : -79.838234, \"lat\" : 9.163114}\n",
    "gamboa_px = {\"lon\" : -79.693889, \"lat\" : 9.112222}\n",
    "chirps.sel(time = slice(None, \"2023\")).sel(lon = bci_px[\"lon\"], lat = bci_px[\"lat\"], method = \"nearest\", drop = True).to_netcdf(\"data/pr_monthly_chirps-bci.nc\")\n",
    "chirps.sel(time = slice(None, \"2023\")).sel(lon = gamboa_px[\"lon\"], lat = gamboa_px[\"lat\"], method = \"nearest\", drop = True).to_netcdf(\"data/pr_monthly_chirps-gamboa.nc\")"
   ]
  },
  {
   "cell_type": "markdown",
   "metadata": {},
   "source": [
    "## MSWEP/MSWX"
   ]
  },
  {
   "cell_type": "markdown",
   "metadata": {},
   "source": [
    "### Compile"
   ]
  },
  {
   "cell_type": "code",
   "execution_count": null,
   "metadata": {},
   "outputs": [],
   "source": [
    "# cut out yearly slices\n",
    "for y in range(2024, 1978, -1)[:2]:\n",
    "    \n",
    "    new_fnm = \"mswep/mswep_panama_\"+str(y)+\".nc\"\n",
    "    if os.path.exists(new_fnm): continue\n",
    "    \n",
    "    print(y)\n",
    "    da = xr.open_mfdataset(\"../../00_WWA_project_folder/live/data/mswep_*/\"+str(y)+\"*.nc\").sel(lon = slice(xn,xx), lat = slice(yx, yn))\n",
    "    wrap_lon(da).rename(precipitation = \"pr\").to_netcdf(new_fnm)\n",
    "\n",
    "# compile into single file\n",
    "xr.open_mfdataset(\"mswep/mswep_panama_*.nc\").to_netcdf(\"data/mswep_panama.nc\")"
   ]
  },
  {
   "cell_type": "code",
   "execution_count": null,
   "metadata": {},
   "outputs": [],
   "source": [
    "varnm = \"tmin\"\n",
    "\n",
    "# cut out yearly slices\n",
    "for y in range(2024, 1978, -1):\n",
    "    \n",
    "    new_fnm = \"mswep/mswx_\"+varnm+\"_panama_\"+str(y)+\".nc\"\n",
    "    if os.path.exists(new_fnm): continue\n",
    "    \n",
    "    print(y)\n",
    "    da = xr.open_mfdataset(\"../00_WWA_project_folder/live/data/mswx/\"+varnm+\"_*/\"+str(y)+\"*.nc\").sel(lon = slice(xn,xx), lat = slice(yx, yn))\n",
    "    wrap_lon(da).rename(air_temperature = varnm).to_netcdf(new_fnm)\n",
    "\n",
    "# compile into single file\n",
    "xr.open_mfdataset(\"mswep/mswx_\"+varnm+\"_panama_*.nc\").to_netcdf(\"data/mswx_\"+varnm+\"_panama.nc\")"
   ]
  },
  {
   "cell_type": "markdown",
   "metadata": {},
   "source": [
    "### Extract time series"
   ]
  },
  {
   "cell_type": "code",
   "execution_count": 3,
   "metadata": {},
   "outputs": [],
   "source": [
    "mswep = xr.open_dataset(\"data/mswep_panama.nc\").pr.sel(lon = slice(xn,xx), lat = slice(yn, yx))\n",
    "\n",
    "# land surface only\n",
    "mswep = mswep.where(regionmask.defined_regions.natural_earth_v5_0_0.countries_110.mask_3D(mswep.lon, mswep.lat).squeeze(drop = True))\n",
    "\n",
    "# daily & monthly time series\n",
    "mswep_ts = mswep.mean([\"lat\", \"lon\"])\n",
    "mswep_ts.to_netcdf(\"data/mswep_panama_ts.nc\")\n",
    "mswep_ts.resample(time = \"MS\").mean().to_netcdf(\"data/pr_monthly_mswep.nc\")\n",
    "\n",
    "# monthly maps\n",
    "mswep = mswep.resample(time = \"MS\").sum()\n",
    "mswep = mswep.where(mswep.sum(\"time\") > 0)\n",
    "mswep.to_netcdf(\"data/mswep_panama_monthly.nc\")"
   ]
  },
  {
   "cell_type": "code",
   "execution_count": 50,
   "metadata": {},
   "outputs": [],
   "source": [
    "vnm = \"tmin\"\n",
    "\n",
    "mswx = xr.open_dataset(\"data/mswx_\"+vnm+\"_panama.nc\")[vnm].sel(lon = slice(xn,xx), lat = slice(yn, yx))\n",
    "\n",
    "# land surface only\n",
    "mswx = mswx.where(regionmask.defined_regions.natural_earth_v5_0_0.countries_110.mask_3D(mswx.lon, mswx.lat).squeeze(drop = True))\n",
    "\n",
    "# daily & monthly time series\n",
    "mswx_ts = mswx.mean([\"lat\", \"lon\"])\n",
    "mswx_ts.to_netcdf(\"data/mswx-\"+vnm+\"_panama_ts.nc\")\n",
    "mswx_ts.resample(time = \"MS\").mean().to_dataframe().to_csv(\"data/mswx-\"+vnm+\"_ts_monthly.csv\")\n",
    "\n",
    "# monthly maps\n",
    "mswx = mswx.resample(time = \"MS\").sum()\n",
    "mswx = mswx.where(mswx.sum(\"time\") > 0)\n",
    "mswx.to_netcdf(\"data/mswx-\"+vnm+\"_panama_monthly.nc\")"
   ]
  },
  {
   "cell_type": "code",
   "execution_count": 149,
   "metadata": {},
   "outputs": [],
   "source": [
    "bci_px = {\"lon\" : -79.838234, \"lat\" : 9.163114}\n",
    "gamboa_px = {\"lon\" : -79.693889, \"lat\" : 9.112222}\n",
    "mswep.sel(time = slice(None, \"2023\")).sel(lon = bci_px[\"lon\"], lat = bci_px[\"lat\"], method = \"nearest\", drop = True).to_netcdf(\"data/pr_monthly_mswep-bci.nc\")\n",
    "mswep.sel(time = slice(None, \"2023\")).sel(lon = gamboa_px[\"lon\"], lat = gamboa_px[\"lat\"], method = \"nearest\", drop = True).to_netcdf(\"data/pr_monthly_mswep-gamboa.nc\")"
   ]
  },
  {
   "cell_type": "markdown",
   "metadata": {},
   "source": [
    "### Compute PET"
   ]
  },
  {
   "cell_type": "code",
   "execution_count": null,
   "metadata": {},
   "outputs": [],
   "source": [
    "tmin = xr.open_dataset(\"data/mswx_tmin_panama.nc\").tmin\n",
    "tmax = xr.open_dataset(\"data/mswx_tmax_panama.nc\").tmax"
   ]
  },
  {
   "cell_type": "code",
   "execution_count": null,
   "metadata": {},
   "outputs": [],
   "source": [
    "methods = [\"BR65\", \"HG85\", \"MB05\"]\n",
    "\n",
    "# compute PET, convert to mm/day, and save for later reference\n",
    "for mthd in methods:\n",
    "    pet = potential_evapotranspiration(tasmin = tmin, tasmax = tmax, method = mthd)\n",
    "    pet = convert_units_to(pet, \"mm/day\", context = \"hydro\").rename(\"pet\")\n",
    "    pet = pet.resample(time = \"MS\").sum()\n",
    "    pet.to_netcdf(\"data/pet-\"+mthd.lower()+\"_mswx_panama_monthly.nc\")"
   ]
  },
  {
   "cell_type": "code",
   "execution_count": null,
   "metadata": {},
   "outputs": [],
   "source": [
    "pet = xr.open_dataset(\"data/pet-hg85_mswx_panama_monthly.nc\").pet\n",
    "\n",
    "rm = regionmask.defined_regions.natural_earth_v5_0_0.land_10.mask_3D(pet.lon, pet.lat).squeeze(drop = True)\n",
    "\n",
    "[xr.open_dataset(fnm).pet.sel(time = slice(None, \"2023\")).where(rm == 1).mean([\"lat\", \"lon\"]).to_netcdf(\"data/pet_monthly_mswx_\"+fnm[9:13]+\".nc\") for fnm in glob.glob(\"data/pet-*_mswx*.nc\")]"
   ]
  },
  {
   "cell_type": "code",
   "execution_count": 110,
   "metadata": {},
   "outputs": [
    {
     "data": {
      "text/plain": [
       "[None, None, None]"
      ]
     },
     "execution_count": 110,
     "metadata": {},
     "output_type": "execute_result"
    }
   ],
   "source": [
    "bci_px = {\"lon\" : -79.838234, \"lat\" : 9.163114}\n",
    "[xr.open_dataset(fnm).pet.sel(time = slice(None, \"2023\")).sel(lon = bci_px[\"lon\"], lat = bci_px[\"lat\"], method = \"nearest\", drop = True).to_netcdf(\"data/pet_monthly_mswx-bci_\"+fnm[9:13]+\".nc\") for fnm in glob.glob(\"data/pet-*_mswx*.nc\")]"
   ]
  },
  {
   "cell_type": "markdown",
   "metadata": {},
   "source": [
    "---\n",
    "## ERA5land"
   ]
  },
  {
   "cell_type": "markdown",
   "metadata": {},
   "source": [
    "### Download"
   ]
  },
  {
   "cell_type": "code",
   "execution_count": null,
   "metadata": {},
   "outputs": [],
   "source": [
    "import os\n",
    "import cdsapi\n",
    "\n",
    "c = cdsapi.Client()\n",
    "\n",
    "for y in [str(y) for y in range(2023,1950,-1)]:\n",
    "#     for m in [str(m).rjust(2, \"0\") for m in range(13)[1:]]:\n",
    "        \n",
    "        new_fnm = 'era5-land/era5land_panama_tp_'+y+'.nc'\n",
    "        if os.path.exists(new_fnm): continue\n",
    "        print(new_fnm)\n",
    "\n",
    "        c.retrieve(\n",
    "            'reanalysis-era5-land',\n",
    "            {\n",
    "                'variable': [\n",
    "                    'total_precipitation',\n",
    "                ],\n",
    "                'year': y,\n",
    "                'month': [\n",
    "                    '01', '02', '03',\n",
    "                    '04', '05', '06',\n",
    "                    '07', '08', '09',\n",
    "                    '10', '11', '12'],\n",
    "                'day': [\n",
    "                    '01', '02', '03',\n",
    "                    '04', '05', '06',\n",
    "                    '07', '08', '09',\n",
    "                    '10', '11', '12',\n",
    "                    '13', '14', '15',\n",
    "                    '16', '17', '18',\n",
    "                    '19', '20', '21',\n",
    "                    '22', '23', '24',\n",
    "                    '25', '26', '27',\n",
    "                    '28', '29', '30', '31',\n",
    "                ],\n",
    "                'time': [\n",
    "                    '00:00', '01:00', '02:00',\n",
    "                    '03:00', '04:00', '05:00',\n",
    "                    '06:00', '07:00', '08:00',\n",
    "                    '09:00', '10:00', '11:00',\n",
    "                    '12:00', '13:00', '14:00',\n",
    "                    '15:00', '16:00', '17:00',\n",
    "                    '18:00', '19:00', '20:00',\n",
    "                    '21:00', '22:00', '23:00',\n",
    "                ],\n",
    "                'area': [\n",
    "                    9.7, -80.25, 8.7,\n",
    "                    -79.25,\n",
    "                ],\n",
    "                'format': 'netcdf',\n",
    "            },\n",
    "            new_fnm)\n",
    "        "
   ]
  },
  {
   "cell_type": "markdown",
   "metadata": {},
   "source": [
    "### Compile"
   ]
  },
  {
   "cell_type": "code",
   "execution_count": 8,
   "metadata": {},
   "outputs": [],
   "source": [
    "ds = xr.open_mfdataset([fnm for fnm in glob.glob(\"era5-land/*.nc\")]).max(\"expver\").tp\n",
    "ds = ds.resample(time = \"D\").sum()\n",
    "ds.to_netcdf(\"data/era5land_panama.nc\")"
   ]
  },
  {
   "cell_type": "markdown",
   "metadata": {},
   "source": [
    "---\n",
    "# Station data"
   ]
  },
  {
   "cell_type": "markdown",
   "metadata": {},
   "source": [
    "## Panama Canal Authority sites"
   ]
  },
  {
   "cell_type": "code",
   "execution_count": 18,
   "metadata": {},
   "outputs": [],
   "source": [
    "## PRIOR TO 2023 (monthly resolution) ##\n",
    "\n",
    "# load data, create headers from first three rows\n",
    "acp_pr = pd.read_excel(\"data/Monthly Rain_ACP_Vertical.xlsx\", sheet_name = \"Rain.All\", header = None)\n",
    "acp_pr.columns = [\" \".join([re.sub(\"nan\", \"\", str(n)) for n in list(r)]).strip() for k, r in acp_pr.iloc[:3].items()]\n",
    "\n",
    "# clean empty rows\n",
    "acp_pr = acp_pr.iloc[3:]\n",
    "acp_pr = acp_pr.loc[~acp_pr.Year.isna()]\n",
    "\n",
    "# index by date & select columns of interest\n",
    "acp_pr.index = [datetime.strptime(str(int(r[\"Year\"])) + \"-\" +str(int(r[\"Month\"])), \"%Y-%m\") for k,r in acp_pr.iterrows()]\n",
    "acp_pr = acp_pr[[c for c in acp_pr.columns if not c in [\"Year\", \"Month\", \"Yr.Mon\", \"Average\", \"1-yr\", \"3-yr\", \"5-year Running Average\"]]]\n",
    "\n",
    "# modify column names to match station data\n",
    "acp_pr = acp_pr.rename(columns = {\"CAÑO\" : \"CANO\",\n",
    "                                  \"HODGESHILL GOLD HILL\" : \"GOLD HILL\",\n",
    "                                  \"CRISTOBAL COCOSOLO LIMONBAY\" : \"LIMONBAY\",\n",
    "                                  \"MONTELIRIO\" : \"MONTE LIRIO\",\n",
    "                                  \"SAN PEDRO\" : \"SANPEDRO\",\n",
    "                                  \"VALLECENTRALGATUN\" : \"VALLEGATUN\",\n",
    "                                  \"CERROCOCOLI\" : \"COCOLI\",\n",
    "                                  \"PEDROMIGEL\" : \"PEDROMIGUEL\"})\n",
    "\n",
    "acp_pr.to_csv(\"data/pr_stations_acp_monthly.csv\")"
   ]
  },
  {
   "cell_type": "code",
   "execution_count": null,
   "metadata": {},
   "outputs": [],
   "source": [
    "acp_stations = pd.read_excel(\"data/Monthly_Rain_ACP_Vertical.xlsx\", sheet_name = \"Locations\", skiprows = 1)\n",
    "acp_stations.index = [str(s).strip() for s in acp_stations[\"STRI Name\"]]\n",
    "\n",
    "# label stations as active/inactive & clean rows\n",
    "acp_stations[\"STATUS\"] = \"Active\"\n",
    "acp_stations.iloc[list(acp_stations[\"ACP Name\"].values).index(\"Deactivated Stations\"):,-1] = \"Deactivated\"\n",
    "acp_stations = acp_stations.loc[(~acp_stations[\"ACP Name\"].isna()) & (acp_stations[\"ACP Name\"] != \"Deactivated Stations\")]\n",
    "\n",
    "# remove duplicate stations\n",
    "acp_stations = acp_stations.loc[~((acp_stations.index == \"PEDROMIGUEL\") & (acp_stations.STATUS == \"Deactivated\"))]\n",
    "acp_stations = acp_stations.loc[~((acp_stations.index == \"RIOPIEDRAS\") & (acp_stations.STATUS == \"Deactivated\"))]\n",
    "\n",
    "# relabel lat & lon\n",
    "acp_stations = acp_stations.rename(columns = {\"LAT (N).1\" : \"lat\", \"LONG (W).1\" : \"lon\"})\n",
    "\n",
    "acp_stations.to_csv(\"data/acp_stations.csv\")"
   ]
  },
  {
   "cell_type": "markdown",
   "metadata": {},
   "source": [
    "## STRI sites"
   ]
  },
  {
   "cell_type": "markdown",
   "metadata": {},
   "source": [
    "### Precipitation"
   ]
  },
  {
   "cell_type": "code",
   "execution_count": null,
   "metadata": {},
   "outputs": [],
   "source": [
    "bocas = pd.read_excel(\"data/Monthly summaries_Bocas.xlsx\", sheet_name = \"Daily_Previous\", index_col = \"date\", parse_dates = [\"date\"])\n",
    "bocas = bocas.rename(columns = {\"Rain\" : \"bocas\"})[[\"bocas\"]]\n",
    "\n",
    "celestino = pd.read_excel(\"data/Monthly summaries_celestino.xlsx\", sheet_name = \"Daily_Prev\", parse_dates = [0], skiprows = 3, header = None)\n",
    "celestino = celestino.rename(columns = {0: \"date\", 1: \"celestino\"})[[\"date\", \"celestino\"]].set_index(\"date\")\n",
    "\n",
    "culebra = pd.read_excel(\"data/Monthly summaries_culebra.xlsx\", sheet_name = \"Daily_Prev\", skiprows = 4, parse_dates = [0], index_col = 0)\n",
    "culebra = culebra.rename(columns = {\"ra_sum\": \"culebra\"})[[\"culebra\"]]\n",
    "\n",
    "galeta = pd.read_excel(\"data/Monthly summaries_galeta.xlsx\", sheet_name = \"Daily_Previous\", skiprows = 3, header = None, parse_dates = [0])\n",
    "galeta = galeta.rename(columns = {0: \"date\", 1: \"galeta\"})[[\"date\", \"galeta\"]].set_index(\"date\")\n",
    "\n",
    "pnm = pd.read_excel(\"data/Monthly summaries_PNM.xlsx\", sheet_name = \"Daily_Prevous\", parse_dates = [0], skiprows = 3, header = None)\n",
    "pnm = pnm.rename(columns = {0: \"date\", 1: \"pnm\"})[[\"date\", \"pnm\"]].set_index(\"date\")\n",
    "\n",
    "psl = pd.read_excel(\"data/Monthly summaries_PSL.xlsx\", sheet_name = \"Daily_previous\", parse_dates = [0], skiprows = 2, header = None)\n",
    "psl = psl.rename(columns = {0: \"date\", 1: \"psl\"})[[\"date\", \"psl\"]].set_index(\"date\")"
   ]
  },
  {
   "cell_type": "code",
   "execution_count": 371,
   "metadata": {},
   "outputs": [],
   "source": [
    "# compile & save\n",
    "stri_pr = merge_byindex([bocas, celestino, culebra, galeta, pnm, psl])\n",
    "stri_pr = stri_pr.dropna(axis = 0, how = \"all\")\n",
    "stri_pr.to_csv(\"data/pr_stations_stri_daily.csv\")"
   ]
  },
  {
   "cell_type": "code",
   "execution_count": null,
   "metadata": {},
   "outputs": [],
   "source": [
    "# stri metadata\n",
    "stn_stri = pd.DataFrame.from_dict({\"bci\" : {\"lon\" : -82.256565, \"lat\" : 9.351553},\n",
    "                                   \"bocas\" : {\"lon\" : -82.256565, \"lat\" : 9.351553},\n",
    "                                     \"celestino\" : {\"lon\" : 79.72656, \"lat\" : 9.21142},\n",
    "                                     \"culebra\" : {\"lon\" : -79.528919, \"lat\" : 8.910718},\n",
    "                                     \"galeta\" : {\"lon\" : -79.860837, \"lat\" : 9.402742},\n",
    "                                     \"pnm\" : {\"lon\" : -79.543000, \"lat\" : 8.994410},\n",
    "                                     \"psl\" : {\"lon\" : -79.974518, \"lat\" : 9.281031},}).transpose()\n",
    "stn_stri.to_csv(\"data/stations_stri.csv\")"
   ]
  },
  {
   "cell_type": "markdown",
   "metadata": {},
   "source": [
    "## Station composites"
   ]
  },
  {
   "cell_type": "code",
   "execution_count": 16,
   "metadata": {},
   "outputs": [],
   "source": [
    "acp = pd.read_csv(\"data/pr_stations_acp_monthly.csv\", index_col = 0, parse_dates = [0])\n",
    "\n",
    "acp_nmonths = acp.resample(\"AS-JAN\").count().where(acp.resample(\"AS-JAN\").count() > 0)\n",
    "\n",
    "acp_sat = acp.loc[slice(\"1979\",None)].loc[:,acp_nmonths.loc[slice(\"1979\",None)].count(axis = 0) > 40]\n",
    "acp_mid = acp.loc[slice(\"1970\",None)].loc[:,acp_nmonths.loc[slice(\"1970\",None)].count(axis = 0) > 50]\n",
    "acp_long = acp.loc[slice(\"1925\",None)].loc[:,acp_nmonths.loc[slice(\"1925\",None)].count(axis = 0) > 95]"
   ]
  },
  {
   "cell_type": "code",
   "execution_count": null,
   "metadata": {},
   "outputs": [],
   "source": [
    "# save composite means as monthly time series\n",
    "acp_sat.mean(axis = 1).to_xarray().rename(\"pr\", index = \"time\").to_netcdf(\"data/pr_monthly_acp-sat.nc\")\n",
    "acp_mid.mean(axis = 1).to_xarray().rename(\"pr\", index = \"time\").to_netcdf(\"data/pr_monthly_acp-mid.nc\")\n",
    "acp_long.mean(axis = 1).to_xarray().rename(\"pr\", index = \"time\").to_netcdf(\"data/pr_monthly_acp-long.nc\")"
   ]
  },
  {
   "cell_type": "code",
   "execution_count": 59,
   "metadata": {},
   "outputs": [],
   "source": [
    "(acp.loc[slice(\"1882\",None), \"GAMBOA\"].to_xarray().rename(\"pr\", index = \"time\")).to_netcdf(\"data/pr_monthly_acp-GAMBOA.nc\")\n",
    "(acp.loc[slice(\"1926\",None), \"BCI\"].to_xarray().rename(\"pr\", index = \"time\")).to_netcdf(\"data/pr_monthly_acp-BCI.nc\")"
   ]
  },
  {
   "cell_type": "code",
   "execution_count": 34,
   "metadata": {},
   "outputs": [
    {
     "data": {
      "image/png": "[encoded data removed]",
      "text/plain": [
       "<Figure size 2400x400 with 4 Axes>"
      ]
     },
     "metadata": {},
     "output_type": "display_data"
    }
   ],
   "source": [
    "# how many stations are we left with when only complete stations are considered?\n",
    "fig, axs = plt.subplots(ncols = 4, figsize = (24,4), dpi = 100)\n",
    "\n",
    "for i in range(4):\n",
    "    ax = axs[i]\n",
    "    df = ([acp, acp_sat, acp_mid, acp_long][i]).resample(\"AS-JAN\").count()\n",
    "\n",
    "    ax.pcolormesh(df)\n",
    "    ax.set_title(str(df.index.year.min())+\"-\"+str(df.index.year.max()) + \" (\"+str(len(df.columns))+\")\", fontweight = \"bold\")\n",
    "    ax.set_yticks([df.index.year.tolist().index(y) for y in range(int(np.ceil(df.index.year.min() / 10) * 10), 2030, 10)])\n",
    "    ax.set_yticklabels(range(int(np.ceil(df.index.year.min() / 10) * 10), 2030, 10))"
   ]
  },
  {
   "cell_type": "code",
   "execution_count": 39,
   "metadata": {},
   "outputs": [
    {
     "data": {
      "text/plain": [
       "<cartopy.mpl.gridliner.Gridliner at 0x7f16d031ac50>"
      ]
     },
     "execution_count": 39,
     "metadata": {},
     "output_type": "execute_result"
    },
    {
     "data": {
      "image/png": "[encoded data removed]",
      "text/plain": [
       "<Figure size 750x600 with 1 Axes>"
      ]
     },
     "metadata": {},
     "output_type": "display_data"
    }
   ],
   "source": [
    "# which stations are we left with?\n",
    "stn_data = pd.read_csv(\"data/acp_stations.csv\", index_col = 0)\n",
    "\n",
    "fig, ax = plt.subplots(ncols = 1, figsize = (7.5,6), dpi = 100, subplot_kw = {\"projection\" : cproj}, sharex = True, sharey = True)\n",
    "plt.subplots_adjust(wspace = 0.05)\n",
    "\n",
    "stn_data[[\"lon\", \"lat\"]].plot(ax = ax, kind = \"scatter\", x = \"lon\", y = \"lat\", color = \"k\", alpha = 0.2, marker = \"x\")\n",
    "\n",
    "stn_data.loc[acp_sat.columns, [\"lon\", \"lat\"]].plot(ax = ax, kind = \"scatter\", x = \"lon\", y = \"lat\", color = \"blue\", alpha = 0.4)\n",
    "stn_data.loc[acp_mid.columns, [\"lon\", \"lat\"]].plot(ax = ax, kind = \"scatter\", x = \"lon\", y = \"lat\", color = \"green\", alpha = 0.4)\n",
    "stn_data.loc[acp_long.columns, [\"lon\", \"lat\"]].plot(ax = ax, kind = \"scatter\", x = \"lon\", y = \"lat\", color = \"red\", marker = \"x\", facecolor = \"None\")\n",
    "stn_data.loc[[\"GAMBOA\"], [\"lon\", \"lat\"]].plot(ax = ax, kind = \"scatter\", x = \"lon\", y = \"lat\", color = \"k\", marker = \"x\", facecolor = \"None\")\n",
    "\n",
    "ax.coastlines()\n",
    "ax.add_feature(cartopy.feature.LAKES, color = \"darkblue\", alpha = 0.3)\n",
    "ax.add_feature(cartopy.feature.RIVERS, color = \"blue\", alpha = 0.3)\n",
    "ax.gridlines(color = \"k\", alpha = 0.2, draw_labels = [\"left\", \"bottom\"], xlocs = np.arange(np.floor(xn),xx+0.5,0.5), ylocs = np.arange(np.floor(yn),yx+0.5,0.5))"
   ]
  },
  {
   "cell_type": "code",
   "execution_count": 61,
   "metadata": {},
   "outputs": [
    {
     "data": {
      "text/plain": [
       "<AxesSubplot: >"
      ]
     },
     "execution_count": 61,
     "metadata": {},
     "output_type": "execute_result"
    },
    {
     "data": {
      "image/png": "[encoded data removed]",
      "text/plain": [
       "<Figure size 640x480 with 1 Axes>"
      ]
     },
     "metadata": {},
     "output_type": "display_data"
    }
   ],
   "source": [
    "[ds.mean(axis = 1).resample(\"AS-JAN\").sum().plot() for ds in [acp_sat, acp_mid, acp_long]]\n",
    "acp.GAMBOA.loc[slice(\"1882\",None)].resample(\"AS-JAN\").sum().plot(color = \"k\")\n",
    "acp.BCI.loc[slice(\"1926\",None)].resample(\"AS-JAN\").sum().plot(color = \"darkred\")"
   ]
  },
  {
   "cell_type": "markdown",
   "metadata": {},
   "source": [
    "## Barro Colorado Island"
   ]
  },
  {
   "cell_type": "code",
   "execution_count": 62,
   "metadata": {},
   "outputs": [],
   "source": [
    "# monthly precipitation\n",
    "bci_pr = pd.read_excel(\"data/Monthly summaries_BCI_vertical.xlsx\", sheet_name = \"Rain_monthly\", skiprows=1)\n",
    "bci_pr.index = [datetime.strptime(str(r[\"Unnamed: 0\"]) + \"-\" +r[\"Month\"], \"%Y-%b\") for k,r in bci_pr.iterrows()]\n",
    "bci_pr = bci_pr[[\"(mm)\"]].rename(columns = {\"(mm)\" : \"pr\"})\n",
    "\n",
    "# monthly evaporation\n",
    "bci_evap = pd.read_excel(\"data/Monthly summaries_BCI_vertical.xlsx\", sheet_name = \"Evapor\", skiprows=2)\n",
    "bci_evap.index = [datetime.strptime(str(r[\"Unnamed: 0\"]) + \"-\" +r[\"Unnamed: 2\"], \"%Y-%b\") for k,r in bci_evap.iterrows()]\n",
    "bci_evap = bci_evap[[\"(mm)\", \"(mm).1\"]].rename(columns = {\"(mm)\" : \"evap_claro\", \"(mm).1\" : \"evap_42m\"})\n",
    "\n",
    "# monthly temperatures - manual records (monthly mean of tmax & tmin - maxima & minima also available if needed)\n",
    "bci_temps_manual = pd.read_excel(\"data/Monthly summaries_BCI_vertical.xlsx\", sheet_name = \"Temps_manual\", skiprows=2)\n",
    "bci_temps_manual.index = [datetime.strptime(str(r[\"Unnamed: 0\"]) + \"-\" +r[\"Month\"], \"%Y-%b\") for k,r in bci_temps_manual.iterrows()]\n",
    "bci_temps_manual = bci_temps_manual[[\"Max..5\", \"Min..5\"]].rename(columns = {\"Max..5\" : \"tmax_manual\", \"Min..5\" : \"tmin_manual\"})\n",
    "\n",
    "# monthly temperatures - automatic records (monthly mean of tmean, tmax & tmin - maxima & minima also available if needed)\n",
    "bci_temps_elec = pd.read_excel(\"data/Monthly summaries_BCI_vertical.xlsx\", sheet_name = \"Temps_elect\", skiprows=2)\n",
    "bci_temps_elec.index = [datetime.strptime(str(r[\"Unnamed: 0\"]) + \"-\" +r[\"Unnamed: 2\"], \"%Y-%b\") for k,r in bci_temps_elec.iterrows()]\n",
    "bci_temps_elec = bci_temps_elec.rename(columns = {\"Avg\" : \"tmean_elec\", \"Avg.1\" : \"tmin_elec\", \"Avg.2\" : \"tmax_elec\"})[[\"tmean_elec\", \"tmin_elec\", \"tmax_elec\"]]\n",
    "\n",
    "bci = merge_byindex([bci_pr, bci_evap, bci_temps_manual, bci_temps_elec])\n",
    "bci.to_csv(\"data/bci_monthly.csv\")"
   ]
  },
  {
   "cell_type": "code",
   "execution_count": null,
   "metadata": {},
   "outputs": [],
   "source": [
    "px = {\"bci\" : {\"lon\" : -79.838234, \"lat\" : 9.163114}}\n",
    "px = pd.DataFrame(px).transpose()"
   ]
  },
  {
   "cell_type": "code",
   "execution_count": 106,
   "metadata": {},
   "outputs": [],
   "source": [
    "bci_evap.evap_claro.to_xarray().rename(\"pet\", index = \"time\").to_netcdf(\"data/pet_monthly_acp-BCI_claro.nc\")\n",
    "bci_evap.evap_42m.to_xarray().rename(\"pet\", index = \"time\").to_netcdf(\"data/pet_monthly_acp-BCI_42m.nc\")"
   ]
  },
  {
   "cell_type": "markdown",
   "metadata": {},
   "source": [
    "---\n",
    "# Climate models"
   ]
  },
  {
   "cell_type": "markdown",
   "metadata": {},
   "source": [
    "## HighResMIP"
   ]
  },
  {
   "cell_type": "markdown",
   "metadata": {},
   "source": [
    "### Extract subset of data"
   ]
  },
  {
   "cell_type": "code",
   "execution_count": 2,
   "metadata": {},
   "outputs": [],
   "source": [
    "# list & filter models\n",
    "synda_path = \"/rds/general/project/wwa/ephemeral/synda_clair/data/HighResMIP/\"\n",
    "out_path = \"/rds/general/user/cb2714/home/01_wwa/24-01_Panama-drought/highresmip/tmp/\"\n",
    "\n",
    "mdl_list = {varnm : list() for varnm in [\"pr\", \"tasmin\", \"tasmax\"]}"
   ]
  },
  {
   "cell_type": "code",
   "execution_count": 6,
   "metadata": {},
   "outputs": [
    {
     "name": "stdout",
     "output_type": "stream",
     "text": [
      "Done.\n"
     ]
    }
   ],
   "source": [
    "for fp in glob.glob(synda_path+\"*/r1i1*\"):\n",
    "    print(\"_\".join(fp.split(\"/\")[-2:]))\n",
    "    \n",
    "    for varnm in list(mdl_list.keys()):\n",
    "        \n",
    "        fl = sorted(glob.glob(fp+\"/\"+varnm+\"_*.nc\"))\n",
    "        print(\"  \"+varnm+\" (\"+str(len(fl))+\") \", end = \"\")\n",
    "        \n",
    "        if len(fl) == 0: \n",
    "            print(\"No data\")\n",
    "            continue\n",
    "            \n",
    "        # filter to remove any runs that don't cover the required period\n",
    "        if min([fnm[-20:-16] for fnm in fl]) > \"1980\" or max([fnm[-11:-7] for fnm in fl]) < \"2023\": \n",
    "            print(str(min([fnm[-20:-16] for fnm in fl]))+\"-\"+str(max([fnm[-11:-7] for fnm in fl]))+\" only\")\n",
    "            continue\n",
    "            \n",
    "        print(\"KEEP\")\n",
    "        mdl_list[varnm].append(fp)\n",
    "      \n",
    "    print(\"\")\n",
    "clear_output(wait = False)\n",
    "print(\"Done.\")"
   ]
  },
  {
   "cell_type": "code",
   "execution_count": 7,
   "metadata": {},
   "outputs": [
    {
     "name": "stdout",
     "output_type": "stream",
     "text": [
      "Done.\n"
     ]
    }
   ],
   "source": [
    "# extract subset of data for easier handling\n",
    "for varnm in mdl_list.keys():\n",
    "    ml = mdl_list[varnm]\n",
    "    \n",
    "    for fp in ml:\n",
    "        print(fp.split(\"/\")[-2] + \" (\"+str(ml.index(fp)+1)+\"/\"+str(len(ml))+\")\")\n",
    "        \n",
    "        fl = sorted(glob.glob(fp+\"/\"+varnm+\"_*.nc\"))\n",
    "        print(\"  \"+varnm+\" (\"+str(len(fl))+\") \", end = \"\")\n",
    "        \n",
    "        for fnm in fl:\n",
    "        \n",
    "            new_fnm = out_path + re.sub(\"-present\", \"\", re.sub(\"-future\", \"\", fnm.split(\"/\")[-1]))\n",
    "            if os.path.exists(new_fnm): continue\n",
    "                \n",
    "            # if not already done, load the data & cut out the required region\n",
    "            da = wrap_lon(convert_units_to(xr.open_dataset(fnm)[varnm].reset_coords(drop = True), units[varnm]))\n",
    "            \n",
    "            # fix dimension names if necessary\n",
    "            if \"longitude\" in da.coords: da = da.rename(longitude = \"lon\", latitude = \"lat\")\n",
    "            \n",
    "            # save daily data over slightly larger region\n",
    "            box = np.logical_and(np.logical_and(da.lon >= Xn, da.lon <= Xx), np.logical_and(da.lat >= Yn, da.lat <= Yx))\n",
    "            box = box.where(box == 1).dropna(\"lon\", \"all\").dropna(\"lat\", \"all\")\n",
    "            sp = da.sel({\"lon\" : box.lon, \"lat\" : box.lat})\n",
    "            sp.to_netcdf(new_fnm)\n",
    "            \n",
    "            print(\".\", end = \"\")\n",
    "\n",
    "        print(\"\")\n",
    "    clear_output(wait = False)\n",
    "print(\"Done.\")"
   ]
  },
  {
   "cell_type": "markdown",
   "metadata": {},
   "source": [
    "### Compile into single dataset"
   ]
  },
  {
   "cell_type": "code",
   "execution_count": 2,
   "metadata": {},
   "outputs": [],
   "source": []
  },
  {
   "cell_type": "markdown",
   "metadata": {},
   "source": [
    "---\n",
    "## CMIP6"
   ]
  },
  {
   "cell_type": "markdown",
   "metadata": {},
   "source": [
    "Downloaded via synda:\n",
    "`synda search project=CMIP6 variant_label=r1i1p1f1 experiment_id='ssp585,historical' frequency=day variable='pr,tasmin,tasmax'  local_path_drs_template=CMIP6/%(source_id)s/%(variable)s`"
   ]
  },
  {
   "cell_type": "markdown",
   "metadata": {},
   "source": [
    "---\n",
    "## CORDEX (SAM)\n",
    "_Downloaded via synda_"
   ]
  },
  {
   "cell_type": "code",
   "execution_count": 14,
   "metadata": {},
   "outputs": [],
   "source": [
    "synda_path = \"/rds/general/project/wwa/ephemeral/synda_clair/data/\"\n",
    "out_path = \"/rds/general/user/cb2714/home/01_wwa/24-01_Panama-drought/cordex/tmp/\""
   ]
  },
  {
   "cell_type": "code",
   "execution_count": 58,
   "metadata": {},
   "outputs": [],
   "source": [
    "# filter out any models that don't have both historical & rcp85\n",
    "model_list = [m for m in sorted(glob.glob(synda_path+\"*/*/*\")) if not \"HighResMIP\" in m and not \"CMIP6\" in m]\n",
    "\n",
    "mdl_list = {k : list() for k in [\"pr\", \"tasmin\", \"tasmax\"]}\n",
    "for fp in model_list:\n",
    "    for varnm in mdl_list.keys():\n",
    "        fl_hist = glob.glob(fp+\"/\"+varnm+\"/*hist*.nc\")\n",
    "        fl_rcp = glob.glob(fp+\"/\"+varnm+\"/*rcp85*.nc\")\n",
    "        \n",
    "        if len(fl_hist) == 0 or len(fl_rcp) == 0: continue\n",
    "        mdl_list[varnm].append(fp)"
   ]
  },
  {
   "cell_type": "code",
   "execution_count": 77,
   "metadata": {},
   "outputs": [],
   "source": [
    "abridge_gcm = {'CCCma-CanESM2' : \"CanESM2\",\n",
    "               \"CNRM-CERFACS-CNRM-CM5\" : \"CNRM-CM5\",\n",
    "               'CSIRO-QCCCE-CSIRO-Mk3-6-0' : 'CSIRO-Mk3-6-0',\n",
    "               \"ICHEC-EC-EARTH\" : \"EC-EARTH\",\n",
    "               'IPSL-IPSL-CM5A-LR' : 'IPSL-CM5A-LR',\n",
    "               'IPSL-IPSL-CM5A-MR' : 'IPSL-CM5A-MR',\n",
    "               'MIROC-MIROC5' : 'MIROC5',\n",
    "               'MOHC-HadGEM2-ES' : 'HadGEM2-ES',\n",
    "               'MPI-M-MPI-ESM-LR' : 'MPI-ESM-LR',\n",
    "               'MPI-M-MPI-ESM-MR' : 'MPI-ESM-MR',\n",
    "               'NCC-NorESM1-M' : 'NorESM1-M',\n",
    "               'NOAA-GFDL-GFDL-ESM2G' : 'GFDL-ESM2G',\n",
    "               'NOAA-GFDL-GFDL-ESM2M' : 'GFDL-ESM2M'}"
   ]
  },
  {
   "cell_type": "code",
   "execution_count": 104,
   "metadata": {},
   "outputs": [
    {
     "name": "stdout",
     "output_type": "stream",
     "text": [
      "Done.\n"
     ]
    }
   ],
   "source": [
    "# extract subset of data for easier handling\n",
    "for varnm in mdl_list.keys():\n",
    "    ml = mdl_list[varnm]\n",
    "    \n",
    "    for fp in ml:\n",
    "        mdl = \"_\".join([abridge_gcm[fp.split(\"/\")[-3]]] + fp.split(\"/\")[-2:])\n",
    "        print(mdl + \" (\"+str(ml.index(fp)+1)+\"/\"+str(len(ml))+\")\")\n",
    "        \n",
    "        # something wrong with time bounds in this one, can't open the files\n",
    "        if mdl in ['HadGEM2-ES_r1i1p1_RegCM4-3']: continue\n",
    "        \n",
    "        fl = sorted(glob.glob(fp+\"/\"+varnm+\"/\"+varnm+\"_*.nc\"))\n",
    "        print(\"  \"+varnm+\" (\"+str(len(fl))+\") \", end = \"\")\n",
    "        \n",
    "        for fnm in fl:\n",
    "            print(\".\", end = \"\")\n",
    "            new_fnm = out_path+\"_\".join([varnm, fnm.split(\"_\")[2], mdl, fnm.split(\"_\")[-1]])\n",
    "            \n",
    "            # skip if file has already been processed\n",
    "            if os.path.exists(new_fnm): continue\n",
    "            \n",
    "            # load data, convert to correct units\n",
    "            da = xr.open_dataset(fnm)[varnm]\n",
    "            da = convert_units_to(da, units[varnm])\n",
    "            if \"height\" in da.coords: da.reset_coords(\"height\", drop = True)  # clean up unwanted extra coordinates\n",
    "                \n",
    "            # identify primary coordinates\n",
    "            if \"rlon\" in da.dims:\n",
    "                xdim, ydim = [\"rlat\", \"rlon\"]\n",
    "            elif \"x\" in da.dims:\n",
    "                xdim, ydim = [\"x\", \"y\"]\n",
    "            else:\n",
    "                print(da.dims)\n",
    "                continue\n",
    "            \n",
    "            # cut out smaller region & save as temp file\n",
    "            box = np.logical_and(np.logical_and(da.lon >= Xn, da.lon <= Xx), np.logical_and(da.lat >= Yn, da.lat <= Yx))\n",
    "            box = box.where(box == 1).dropna(xdim, \"all\").dropna(ydim, \"all\")\n",
    "            da = da.sel({xdim : box[xdim], ydim : box[ydim]})\n",
    "            da.to_netcdf(new_fnm)\n",
    "            \n",
    "            print(\".\", end = \"\")\n",
    "        print(\"\")\n",
    "    clear_output(wait = False)\n",
    "print(\"Done.\")"
   ]
  },
  {
   "cell_type": "markdown",
   "metadata": {},
   "source": [
    "---\n",
    "## CORDEX (CAM)\n",
    "_Downloaded via synda_"
   ]
  },
  {
   "cell_type": "code",
   "execution_count": 2,
   "metadata": {},
   "outputs": [],
   "source": [
    "synda_path = \"/rds/general/project/wwa/ephemeral/synda_clair/data/\"\n",
    "out_path = \"/rds/general/user/cb2714/home/01_wwa/24-01_Panama-drought/cordex/tmp/\""
   ]
  },
  {
   "cell_type": "code",
   "execution_count": 12,
   "metadata": {},
   "outputs": [],
   "source": [
    "# filter out any models that don't have both historical & rcp85\n",
    "model_list = [m for m in sorted(glob.glob(synda_path+\"*/*/*/*\")) if \"CAM-\" in m]\n",
    "mdl_list = {k : list() for k in [\"pr\", \"tasmin\", \"tasmax\"]}\n",
    "for fp in model_list:\n",
    "    for varnm in mdl_list.keys():\n",
    "        fl_hist = glob.glob(fp+\"/\"+varnm+\"/*hist*.nc\")\n",
    "        fl_rcp = glob.glob(fp+\"/\"+varnm+\"/*rcp85*.nc\")\n",
    "        \n",
    "        if len(fl_hist) == 0 or len(fl_rcp) == 0: continue\n",
    "        mdl_list[varnm].append(fp)"
   ]
  },
  {
   "cell_type": "code",
   "execution_count": 17,
   "metadata": {},
   "outputs": [],
   "source": [
    "abridge_gcm = {'CCCma-CanESM2' : \"CanESM2\",\n",
    "               \"CNRM-CERFACS-CNRM-CM5\" : \"CNRM-CM5\",\n",
    "               'CSIRO-QCCCE-CSIRO-Mk3-6-0' : 'CSIRO-Mk3-6-0',\n",
    "               \"ICHEC-EC-EARTH\" : \"EC-EARTH\",\n",
    "               'IPSL-IPSL-CM5A-LR' : 'IPSL-CM5A-LR',\n",
    "               'IPSL-IPSL-CM5A-MR' : 'IPSL-CM5A-MR',\n",
    "               'MIROC-MIROC5' : 'MIROC5',\n",
    "               'MOHC-HadGEM2-ES' : 'HadGEM2-ES',\n",
    "               'MPI-M-MPI-ESM-LR' : 'MPI-ESM-LR',\n",
    "               'MPI-M-MPI-ESM-MR' : 'MPI-ESM-MR',\n",
    "               'NCC-NorESM1-M' : 'NorESM1-M',\n",
    "               'NOAA-GFDL-GFDL-ESM2G' : 'GFDL-ESM2G',\n",
    "               'NOAA-GFDL-GFDL-ESM2M' : 'GFDL-ESM2M'}"
   ]
  },
  {
   "cell_type": "code",
   "execution_count": 20,
   "metadata": {},
   "outputs": [
    {
     "name": "stdout",
     "output_type": "stream",
     "text": [
      "Done.\n"
     ]
    }
   ],
   "source": [
    "# extract subset of data for easier handling\n",
    "for varnm in mdl_list.keys():\n",
    "    ml = mdl_list[varnm]\n",
    "    \n",
    "    for fp in ml:\n",
    "        mdl = \"_\".join([abridge_gcm[fp.split(\"/\")[-3]]] + fp.split(\"/\")[-2:])\n",
    "        print(mdl + \" (\"+str(ml.index(fp)+1)+\"/\"+str(len(ml))+\")\")\n",
    "        \n",
    "        # something wrong with time bounds in this one, can't open the files\n",
    "        if mdl in ['HadGEM2-ES_r1i1p1_RegCM4-3', 'MPI-ESM-MR_r1i1p1_RegCM4-3']: continue\n",
    "        \n",
    "        fl = sorted(glob.glob(fp+\"/\"+varnm+\"/\"+varnm+\"_*.nc\"))\n",
    "        print(\"  \"+varnm+\" (\"+str(len(fl))+\") \", end = \"\")\n",
    "        \n",
    "        for fnm in fl:\n",
    "            print(\".\", end = \"\")\n",
    "            new_fnm = out_path+\"_\".join([varnm, fnm.split(\"_\")[2], mdl, fnm.split(\"_\")[-1]])\n",
    "            \n",
    "            # skip if file has already been processed\n",
    "            if os.path.exists(new_fnm): continue\n",
    "            \n",
    "            # load data, convert to correct units\n",
    "            da = xr.open_dataset(fnm)[varnm]\n",
    "            da = convert_units_to(da, units[varnm])\n",
    "            if \"height\" in da.coords: da.reset_coords(\"height\", drop = True)  # clean up unwanted extra coordinates\n",
    "                \n",
    "            # identify primary coordinates\n",
    "            if \"rlon\" in da.dims:\n",
    "                xdim, ydim = [\"rlat\", \"rlon\"]\n",
    "            elif \"x\" in da.dims:\n",
    "                xdim, ydim = [\"x\", \"y\"]\n",
    "            else:\n",
    "                print(da.dims)\n",
    "                continue\n",
    "            \n",
    "            # cut out smaller region & save as temp file\n",
    "            box = np.logical_and(np.logical_and(da.lon >= Xn, da.lon <= Xx), np.logical_and(da.lat >= Yn, da.lat <= Yx))\n",
    "            box = box.where(box == 1).dropna(xdim, \"all\").dropna(ydim, \"all\")\n",
    "            da = da.sel({xdim : box[xdim], ydim : box[ydim]})\n",
    "            da.to_netcdf(new_fnm)\n",
    "            \n",
    "            print(\".\", end = \"\")\n",
    "        print(\"\")\n",
    "    clear_output(wait = False)\n",
    "print(\"Done.\")"
   ]
  },
  {
   "cell_type": "markdown",
   "metadata": {},
   "source": [
    "### Compile"
   ]
  },
  {
   "cell_type": "code",
   "execution_count": null,
   "metadata": {
    "scrolled": true
   },
   "outputs": [],
   "source": [
    "glob.glob(\"cordex/tmp/pr*.nc\")"
   ]
  },
  {
   "cell_type": "markdown",
   "metadata": {},
   "source": [
    "---\n",
    "# Time series for climate explorer"
   ]
  },
  {
   "cell_type": "code",
   "execution_count": 152,
   "metadata": {},
   "outputs": [],
   "source": [
    "pr_ds = {\"chirps\" : \"CHIRPS\", \"mswep\" : \"MSWEP\",\n",
    "            \"acp-long\" : \"mean of long-running ACP stations\", \"acp-mid\" : \"mean of ACP stations running since 1970\", \"acp-sat\" : \"mean of ACP stations running since 1979\",\n",
    "            \"acp-BCI\" : \"ACP station BCI\", \"acp-GAMBOA\" : \"ACP station GAMBOA\",\n",
    "            \"mswep-bci\" : \"MSWEP BCI\", \"mswep-gamboa\" : \"MSWEP GAMBOA\", \"chirps-bci\" : \"CHIRPS BCI\", \"chirps-gamboa\" : \"CHIRPS GAMBOA\"}\n",
    "\n",
    "pet_ds = {\"mswx\" : \"MSWX averaged over central Panama\",\n",
    "                \"mswx-bci\" : \"MSWX at grid cell containing Barro Colorado Island\",\n",
    "                \"acp-BCI\" : \"ACP station at Barro Colorado Island\"}\n",
    "pet_types = {\"br65\" : \"Baier-Robertson\", \"mb05\" : \"McGuinness-Bordne\", \"hg85\" : \"Hargreaves\", \"claro\" : \"claro\", \"42m\" : \"42m\"}"
   ]
  },
  {
   "cell_type": "markdown",
   "metadata": {},
   "source": [
    "## Wet-season precip"
   ]
  },
  {
   "cell_type": "code",
   "execution_count": 153,
   "metadata": {},
   "outputs": [],
   "source": [
    "for ds in [fnm[16:-3] for fnm in glob.glob(\"data/pr_monthly_*.nc\")]:\n",
    "    \n",
    "    ts = xr.open_dataset(\"data/pr_monthly_\"+ds+\".nc\").pr.resample(time = \"MS\").sum().sel(time = slice(None, \"2023\"))\n",
    "\n",
    "    ts = ts.sel(time = [m > 4 for m in ts.time.dt.month.values]).resample(time = \"AS-JAN\").sum()    \n",
    "    ts = ts.assign_coords(time = ts.time.dt.year).rename(\"pr\", time = \"year\").to_dataframe()\n",
    "\n",
    "    csv_fnm = \"panama_pr-wetseason_\"+ds\n",
    "    csv_fullpath = \"ts/\"+csv_fnm+\".dat\"\n",
    "    if len(csv_fnm) > 61: print(\"! Filename too long: \", csv_fnm)\n",
    "    \n",
    "    # create extra header lines for upload to Climate Explorer \n",
    "    str1 = \"# contact :: \"+pr_ds[ds]+\" wet-season precipitation - Panama drought 2023, c.barnes22@imperial.ac.uk\"\n",
    "    str2 = \"# pr [mm] annual mean of May-December precipitation at \"+csv_fnm+\".dat\"\n",
    "    head = \"# year pr\"\n",
    "\n",
    "    # make .dat file\n",
    "    ! echo \"$str1 \" > $csv_fullpath\n",
    "    ! echo \"$str2\" >> $csv_fullpath\n",
    "    ! echo \"$head\" >> $csv_fullpath\n",
    "    ts.to_csv(csv_fullpath, sep = \" \", mode = \"a\", header = False)"
   ]
  },
  {
   "cell_type": "markdown",
   "metadata": {},
   "source": [
    "## Dry-season precip"
   ]
  },
  {
   "cell_type": "code",
   "execution_count": 154,
   "metadata": {},
   "outputs": [],
   "source": [
    "for ds in [fnm[16:-3] for fnm in glob.glob(\"data/pr_monthly_*.nc\")]:\n",
    "    \n",
    "    ts = xr.open_dataset(\"data/pr_monthly_\"+ds+\".nc\").pr.resample(time = \"MS\").sum().sel(time = slice(None, \"2023\"))\n",
    "\n",
    "    ts = ts.sel(time = [m <= 4 for m in ts.time.dt.month.values]).resample(time = \"AS-JAN\").sum()    \n",
    "    ts = ts.assign_coords(time = ts.time.dt.year).rename(\"pr\", time = \"year\").to_dataframe()\n",
    "\n",
    "    csv_fnm = \"panama_pr-dryseason_\"+ds\n",
    "    csv_fullpath = \"ts/\"+csv_fnm+\".dat\"\n",
    "    if len(csv_fnm) > 61: print(\"! Filename too long: \", csv_fnm)\n",
    "    \n",
    "    # create extra header lines for upload to Climate Explorer \n",
    "    str1 = \"# contact :: \"+pr_ds[ds]+\" dry-season precipitation - Panama drought 2023, c.barnes22@imperial.ac.uk\"\n",
    "    str2 = \"# pr [mm] annual mean of January-April precipitation at \"+csv_fnm+\".dat\"\n",
    "    head = \"# year pr\"\n",
    "\n",
    "    # make .dat file\n",
    "    ! echo \"$str1 \" > $csv_fullpath\n",
    "    ! echo \"$str2\" >> $csv_fullpath\n",
    "    ! echo \"$head\" >> $csv_fullpath\n",
    "    ts.to_csv(csv_fullpath, sep = \" \", mode = \"a\", header = False)"
   ]
  },
  {
   "cell_type": "markdown",
   "metadata": {},
   "source": [
    "## Dry-season PET\n"
   ]
  },
  {
   "cell_type": "code",
   "execution_count": 137,
   "metadata": {},
   "outputs": [],
   "source": [
    "for ds in [fnm[17:-3] for fnm in glob.glob(\"data/pet_monthly_*.nc\")]:\n",
    "    \n",
    "    ts = xr.open_dataset(\"data/pet_monthly_\"+ds+\".nc\").pet.resample(time = \"MS\").sum().sel(time = slice(None, \"2023\"))\n",
    "\n",
    "    ts = ts.sel(time = [m <= 4 for m in ts.time.dt.month.values]).resample(time = \"AS-JAN\").sum()    \n",
    "    ts = ts.assign_coords(time = ts.time.dt.year).rename(\"pr\", time = \"year\").to_dataframe()\n",
    "\n",
    "    csv_fnm = \"panama_pet-dryseason_\"+ds\n",
    "    csv_fullpath = \"ts/\"+csv_fnm+\".dat\"\n",
    "    if len(csv_fnm) > 61: print(\"! Filename too long: \", csv_fnm)\n",
    "    \n",
    "    # create extra header lines for upload to Climate Explorer \n",
    "    str1 = \"# contact :: dry-season potential evapotranspiration (\"+pet_ds[ds.split(\"_\")[0]]+\", \"+pet_types[ds.split(\"_\")[1]]+\") - Panama drought 2023, c.barnes22@imperial.ac.uk\"\n",
    "    str2 = \"# pr [mm] annual mean of January-April PET at \"+csv_fnm+\".dat\"\n",
    "    head = \"# year pet\"\n",
    "\n",
    "    # make .dat file\n",
    "    ! echo \"$str1 \" > $csv_fullpath\n",
    "    ! echo \"$str2\" >> $csv_fullpath\n",
    "    ! echo \"$head\" >> $csv_fullpath\n",
    "    ts.to_csv(csv_fullpath, sep = \" \", mode = \"a\", header = False)"
   ]
  },
  {
   "cell_type": "markdown",
   "metadata": {},
   "source": [
    "## Wet-season PET\n"
   ]
  },
  {
   "cell_type": "code",
   "execution_count": 138,
   "metadata": {},
   "outputs": [],
   "source": [
    "for ds in [fnm[17:-3] for fnm in glob.glob(\"data/pet_monthly_*.nc\")]:\n",
    "    \n",
    "    ts = xr.open_dataset(\"data/pet_monthly_\"+ds+\".nc\").pet.resample(time = \"MS\").sum().sel(time = slice(None, \"2023\"))\n",
    "\n",
    "    ts = ts.sel(time = [m > 4 for m in ts.time.dt.month.values]).resample(time = \"AS-JAN\").sum()    \n",
    "    ts = ts.assign_coords(time = ts.time.dt.year).rename(\"pr\", time = \"year\").to_dataframe()\n",
    "\n",
    "    csv_fnm = \"panama_pet-wetseason_\"+ds\n",
    "    csv_fullpath = \"ts/\"+csv_fnm+\".dat\"\n",
    "    if len(csv_fnm) > 61: print(\"! Filename too long: \", csv_fnm)\n",
    "    \n",
    "    # create extra header lines for upload to Climate Explorer \n",
    "    str1 = \"# contact :: wet-season potential evapotranspiration (\"+pet_ds[ds.split(\"_\")[0]]+\", \"+pet_types[ds.split(\"_\")[1]]+\") - Panama drought 2023, c.barnes22@imperial.ac.uk\"\n",
    "    str2 = \"# pr [mm] annual mean of May-December PET at \"+csv_fnm+\".dat\"\n",
    "    head = \"# year pet\"\n",
    "\n",
    "    # make .dat file\n",
    "    ! echo \"$str1 \" > $csv_fullpath\n",
    "    ! echo \"$str2\" >> $csv_fullpath\n",
    "    ! echo \"$head\" >> $csv_fullpath\n",
    "    ts.to_csv(csv_fullpath, sep = \" \", mode = \"a\", header = False)"
   ]
  },
  {
   "cell_type": "code",
   "execution_count": null,
   "metadata": {},
   "outputs": [],
   "source": []
  }
 ],
 "metadata": {
  "kernelspec": {
   "display_name": "Python [conda env:wwa]",
   "language": "python",
   "name": "conda-env-wwa-py"
  },
  "language_info": {
   "codemirror_mode": {
    "name": "ipython",
    "version": 3
   },
   "file_extension": ".py",
   "mimetype": "text/x-python",
   "name": "python",
   "nbconvert_exporter": "python",
   "pygments_lexer": "ipython3",
   "version": "3.10.8"
  }
 },
 "nbformat": 4,
 "nbformat_minor": 4
}
