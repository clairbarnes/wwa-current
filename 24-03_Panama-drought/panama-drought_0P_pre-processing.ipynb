{
 "cells": [
  {
   "cell_type": "code",
   "execution_count": 2,
   "id": "c621cca8-6ed6-41aa-870b-46430fb9bddb",
   "metadata": {},
   "outputs": [],
   "source": [
    "import sys; sys.path.append('..'); from wwa import *\n",
    "cproj = cartopy.crs.PlateCarree()\n",
    "\n",
    "Xn, Xx, Yn, Yx = [-85,-75,5,15]\n",
    "xn, xx, yn, yx = [-80.25,-79.25,8.7,9.7]    # resized to focus more closely on Gatun catchment\n",
    "\n",
    "region = \"Lake Gatun region (lon \"+str(xn)+\":\"+str(xx)+\", lat \"+str(yn)+\":\"+str(yx)+\")\"\n",
    "\n",
    "units = {\"pr\" : \"mm/day\", \"tasmin\" : \"degC\", \"tasmax\" : \"degC\"}"
   ]
  },
  {
   "cell_type": "markdown",
   "id": "ecac8060-edfe-40ba-8f7f-5acd86db3273",
   "metadata": {
    "tags": []
   },
   "source": [
    "Data sources:\n",
    "- Gridded data from CHIRPS, MSWEP and ERA5Land\n",
    "- Monthly precipitation data from [Panama Canal Authority stations](https://biogeodb.stri.si.edu/physical_monitoring/research/panamacanalauthority#download), [Barro Colorado](https://biogeodb.stri.si.edu/physical_monitoring/research/barrocolorado) and other stations; 2023 data provided by ACP directly; filled data provided by Robert Stallard\n",
    "- lake level data from [Panama Canal Authority](https://evtms-rpts.pancanal.com/eng/h2o/index.html) (https://pancanal.com/en/)"
   ]
  },
  {
   "cell_type": "markdown",
   "id": "061e19bd-d425-41a7-91e4-c59855256dd9",
   "metadata": {},
   "source": [
    "---\n",
    "---\n",
    "# Observational datasets"
   ]
  },
  {
   "cell_type": "markdown",
   "id": "df16e095-de09-4ae1-9269-76ed72a15e13",
   "metadata": {},
   "source": [
    "## Pre-processing"
   ]
  },
  {
   "cell_type": "markdown",
   "id": "f0a3aff8-fd6a-45ea-9393-3d74807a34c5",
   "metadata": {
    "tags": []
   },
   "source": [
    "### CHIRPS"
   ]
  },
  {
   "cell_type": "code",
   "execution_count": null,
   "id": "be428f01-9731-4178-9779-dd1e677d2a1f",
   "metadata": {},
   "outputs": [],
   "source": [
    "chirps = xr.open_mfdataset(\"../../00_WWA_project_folder/live/data/chirps_05/*.nc\").sel(longitude = slice(Xn,Xx), latitude = slice(Yn, Yx)).rename(\"pr\", latitude = \"lat\", longitude = \"lon\")\n",
    "chirps.to_netcdf(\"data/chirps05_panama.nc\")"
   ]
  },
  {
   "cell_type": "code",
   "execution_count": 14,
   "id": "e38a2363-ba0b-4750-a35b-0029613bb970",
   "metadata": {},
   "outputs": [],
   "source": [
    "chirps = xr.open_dataset(\"data/chirps05_panama.nc\")\n",
    "\n",
    "# daily & monthly time series\n",
    "chirps_ts = chirps.mean([\"lat\", \"lon\"])\n",
    "chirps_ts.to_netcdf(\"data/chirps_panama_ts.nc\")\n",
    "chirps_ts.resample(time = \"MS\").sum().to_netcdf(\"data/pr_monthly_chirps.nc\")\n",
    "\n",
    "# monthly maps\n",
    "chirps = chirps.resample(time = \"MS\").sum()\n",
    "chirps = chirps.where(chirps.sum(\"time\") > 0)\n",
    "chirps.to_netcdf(\"data/chirps_panama_monthly.nc\")"
   ]
  },
  {
   "cell_type": "code",
   "execution_count": 148,
   "id": "253f6b68-93cf-4407-b931-5048cd9d1765",
   "metadata": {},
   "outputs": [],
   "source": [
    "bci_px = {\"lon\" : -79.838234, \"lat\" : 9.163114}\n",
    "gamboa_px = {\"lon\" : -79.693889, \"lat\" : 9.112222}\n",
    "chirps.sel(time = slice(None, \"2023\")).sel(lon = bci_px[\"lon\"], lat = bci_px[\"lat\"], method = \"nearest\", drop = True).to_netcdf(\"data/pr_monthly_chirps-bci.nc\")\n",
    "chirps.sel(time = slice(None, \"2023\")).sel(lon = gamboa_px[\"lon\"], lat = gamboa_px[\"lat\"], method = \"nearest\", drop = True).to_netcdf(\"data/pr_monthly_chirps-gamboa.nc\")"
   ]
  },
  {
   "cell_type": "code",
   "execution_count": 30,
   "id": "7fb396d8-0da3-4349-a976-36ededadf4d5",
   "metadata": {},
   "outputs": [],
   "source": [
    "# smaller region to check effect of excluding drier region to west of catchment\n",
    "chirps = xr.open_dataset(\"data/chirps05_panama.nc\").pr.sel(lon = slice(xn,xx), lat = slice(yn, yx)).mean([\"lon\", \"lat\"])\n",
    "chirps = chirps.assign_attrs(region = region)\n",
    "chirps.resample(time = \"MS\").sum().to_netcdf(\"data/pr_monthly_chirps-catchment.nc\")"
   ]
  },
  {
   "cell_type": "markdown",
   "id": "e948f6e5-05d9-44c8-ad27-c4004d565f57",
   "metadata": {
    "tags": []
   },
   "source": [
    "### MSWEP/MSWX"
   ]
  },
  {
   "cell_type": "markdown",
   "id": "43badf4c-7cf3-4ae2-9cac-63d390c19017",
   "metadata": {},
   "source": [
    "#### Compile"
   ]
  },
  {
   "cell_type": "code",
   "execution_count": null,
   "id": "c76dbe6d-92db-40a7-bb43-99b465e74221",
   "metadata": {},
   "outputs": [],
   "source": [
    "# cut out yearly slices\n",
    "for y in range(2024, 1978, -1)[:2]:\n",
    "    \n",
    "    new_fnm = \"mswep/mswep_panama_\"+str(y)+\".nc\"\n",
    "    if os.path.exists(new_fnm): continue\n",
    "    \n",
    "    print(y)\n",
    "    da = xr.open_mfdataset(\"../../00_WWA_project_folder/live/data/mswep_*/\"+str(y)+\"*.nc\").sel(lon = slice(xn,xx), lat = slice(yx, yn))\n",
    "    wrap_lon(da).rename(precipitation = \"pr\").to_netcdf(new_fnm)\n",
    "\n",
    "# compile into single file\n",
    "xr.open_mfdataset(\"mswep/mswep_panama_*.nc\").to_netcdf(\"data/mswep_panama.nc\")"
   ]
  },
  {
   "cell_type": "code",
   "execution_count": null,
   "id": "7c20fc6b-1afd-46cf-be12-ee3fa165a584",
   "metadata": {},
   "outputs": [],
   "source": [
    "varnm = \"tmin\"\n",
    "\n",
    "# cut out yearly slices\n",
    "for y in range(2024, 1978, -1):\n",
    "    \n",
    "    new_fnm = \"mswep/mswx_\"+varnm+\"_panama_\"+str(y)+\".nc\"\n",
    "    if os.path.exists(new_fnm): continue\n",
    "    \n",
    "    print(y)\n",
    "    da = xr.open_mfdataset(\"../00_WWA_project_folder/live/data/mswx/\"+varnm+\"_*/\"+str(y)+\"*.nc\").sel(lon = slice(xn,xx), lat = slice(yx, yn))\n",
    "    wrap_lon(da).rename(air_temperature = varnm).to_netcdf(new_fnm)\n",
    "\n",
    "# compile into single file\n",
    "xr.open_mfdataset(\"mswep/mswx_\"+varnm+\"_panama_*.nc\").to_netcdf(\"data/mswx_\"+varnm+\"_panama.nc\")"
   ]
  },
  {
   "cell_type": "markdown",
   "id": "9a1e0692-6d04-4da1-bfab-ec157cc704c1",
   "metadata": {},
   "source": [
    "#### Extract time series"
   ]
  },
  {
   "cell_type": "code",
   "execution_count": 18,
   "id": "cd8a1627-b8e0-46e1-995a-2f54f9c4f4ed",
   "metadata": {},
   "outputs": [],
   "source": [
    "mswep = xr.open_dataset(\"data/mswep_panama.nc\").pr.sel(lon = slice(xn,xx), lat = slice(yn, yx))\n",
    "mswep_rm = regionmask.defined_regions.natural_earth_v5_0_0.countries_110.mask_3D(mswep.lon, mswep.lat).sum(\"region\")\n",
    "\n",
    "# land surface only\n",
    "mswep = mswep.where(mswep_rm == 1)"
   ]
  },
  {
   "cell_type": "code",
   "execution_count": 19,
   "id": "fb68bd15-b630-406f-8d8f-10d6f07b10d3",
   "metadata": {},
   "outputs": [],
   "source": [
    "# daily & monthly time series\n",
    "mswep_ts = mswep.mean([\"lat\", \"lon\"])\n",
    "mswep_ts.to_netcdf(\"data/mswep_panama_ts.nc\")\n",
    "mswep_ts.resample(time = \"MS\").sum().to_netcdf(\"data/pr_monthly_mswep.nc\")\n",
    "\n",
    "# monthly maps\n",
    "mswep = mswep.resample(time = \"MS\").sum()\n",
    "mswep = mswep.where(mswep.sum(\"time\") > 0)\n",
    "mswep.to_netcdf(\"data/mswep_panama_monthly.nc\")"
   ]
  },
  {
   "cell_type": "code",
   "execution_count": 31,
   "id": "3dd30959-404d-463e-8b6e-58c7d3660287",
   "metadata": {},
   "outputs": [],
   "source": [
    "# smaller region to check effect of excluding drier region to west of catchment\n",
    "mswep_sm = mswep.sel(lon = slice(xn,xx), lat = slice(yn, yx)).mean([\"lon\", \"lat\"])\n",
    "mswep_sm = mswep_sm.assign_attrs(region = region)\n",
    "mswep_sm.to_netcdf(\"data/pr_monthly_mswep-catchment.nc\")"
   ]
  },
  {
   "cell_type": "code",
   "execution_count": 50,
   "id": "572d0113-43b6-4ff8-9b44-b2507c9ce1b1",
   "metadata": {},
   "outputs": [],
   "source": [
    "vnm = \"tmin\"\n",
    "\n",
    "mswx = xr.open_dataset(\"data/mswx_\"+vnm+\"_panama.nc\")[vnm].sel(lon = slice(xn,xx), lat = slice(yn, yx))\n",
    "\n",
    "# land surface only\n",
    "mswx = mswx.where(mswep_rm == 1)\n",
    "\n",
    "# daily & monthly time series\n",
    "mswx_ts = mswx.mean([\"lat\", \"lon\"])\n",
    "mswx_ts.to_netcdf(\"data/mswx-\"+vnm+\"_panama_ts.nc\")\n",
    "mswx_ts.resample(time = \"MS\").mean().to_dataframe().to_csv(\"data/mswx-\"+vnm+\"_ts_monthly.csv\")\n",
    "\n",
    "# monthly maps\n",
    "mswx = mswx.resample(time = \"MS\").sum()\n",
    "mswx = mswx.where(mswx.sum(\"time\") > 0)\n",
    "mswx.to_netcdf(\"data/mswx-\"+vnm+\"_panama_monthly.nc\")"
   ]
  },
  {
   "cell_type": "code",
   "execution_count": 149,
   "id": "f6606c31-3bd7-4af0-a52c-b497f95dd4c6",
   "metadata": {},
   "outputs": [],
   "source": [
    "bci_px = {\"lon\" : -79.838234, \"lat\" : 9.163114}\n",
    "gamboa_px = {\"lon\" : -79.693889, \"lat\" : 9.112222}\n",
    "mswep.sel(time = slice(None, \"2023\")).sel(lon = bci_px[\"lon\"], lat = bci_px[\"lat\"], method = \"nearest\", drop = True).to_netcdf(\"data/pr_monthly_mswep-bci.nc\")\n",
    "mswep.sel(time = slice(None, \"2023\")).sel(lon = gamboa_px[\"lon\"], lat = gamboa_px[\"lat\"], method = \"nearest\", drop = True).to_netcdf(\"data/pr_monthly_mswep-gamboa.nc\")"
   ]
  },
  {
   "cell_type": "markdown",
   "id": "649cc621-1a7e-4a80-9fb4-e179eeb189df",
   "metadata": {},
   "source": [
    "#### Compute PET"
   ]
  },
  {
   "cell_type": "code",
   "execution_count": null,
   "id": "739c88ea-8ce7-410f-9d54-3f577ae55953",
   "metadata": {},
   "outputs": [],
   "source": [
    "tmin = xr.open_dataset(\"data/mswx_tmin_panama.nc\").tmin\n",
    "tmax = xr.open_dataset(\"data/mswx_tmax_panama.nc\").tmax"
   ]
  },
  {
   "cell_type": "code",
   "execution_count": null,
   "id": "baf464ae-920e-43ba-81e7-4e14accf0721",
   "metadata": {},
   "outputs": [],
   "source": [
    "methods = [\"BR65\", \"HG85\", \"MB05\"]\n",
    "\n",
    "# compute PET, convert to mm/day, and save for later reference\n",
    "for mthd in methods:\n",
    "    pet = potential_evapotranspiration(tasmin = tmin, tasmax = tmax, method = mthd)\n",
    "    pet = convert_units_to(pet, \"mm/day\", context = \"hydro\").rename(\"pet\")\n",
    "    pet = pet.resample(time = \"MS\").sum()\n",
    "    pet.to_netcdf(\"data/pet-\"+mthd.lower()+\"_mswx_panama_monthly.nc\")"
   ]
  },
  {
   "cell_type": "code",
   "execution_count": null,
   "id": "265de5c9-33b2-42c1-a303-0d9ab2086d41",
   "metadata": {},
   "outputs": [],
   "source": [
    "pet = xr.open_dataset(\"data/pet-hg85_mswx_panama_monthly.nc\").pet\n",
    "\n",
    "rm = regionmask.defined_regions.natural_earth_v5_0_0.land_10.mask_3D(pet.lon, pet.lat).squeeze(drop = True)\n",
    "\n",
    "[xr.open_dataset(fnm).pet.sel(time = slice(None, \"2023\")).where(rm == 1).mean([\"lat\", \"lon\"]).to_netcdf(\"data/pet_monthly_mswx_\"+fnm[9:13]+\".nc\") for fnm in glob.glob(\"data/pet-*_mswx*.nc\")]"
   ]
  },
  {
   "cell_type": "code",
   "execution_count": 110,
   "id": "0e521e69-a7d2-4f46-8de6-270c8d7a37b5",
   "metadata": {},
   "outputs": [
    {
     "data": {
      "text/plain": [
       "[None, None, None]"
      ]
     },
     "execution_count": 110,
     "metadata": {},
     "output_type": "execute_result"
    }
   ],
   "source": [
    "bci_px = {\"lon\" : -79.838234, \"lat\" : 9.163114}\n",
    "[xr.open_dataset(fnm).pet.sel(time = slice(None, \"2023\")).sel(lon = bci_px[\"lon\"], lat = bci_px[\"lat\"], method = \"nearest\", drop = True).to_netcdf(\"data/pet_monthly_mswx-bci_\"+fnm[9:13]+\".nc\") for fnm in glob.glob(\"data/pet-*_mswx*.nc\")]"
   ]
  },
  {
   "cell_type": "markdown",
   "id": "fa8e3ab4-0c32-4bbf-a3a2-a04f971c6e2a",
   "metadata": {
    "tags": []
   },
   "source": [
    "---\n",
    "### ERA5land"
   ]
  },
  {
   "cell_type": "code",
   "execution_count": 7,
   "id": "fc488102-bf43-4198-b3ec-803560185410",
   "metadata": {},
   "outputs": [],
   "source": [
    "# smaller region to check effect of excluding drier region to west of catchment\n",
    "era5l = xr.open_dataset(\"data/era5land_panama_monthly.nc\").pr\n",
    "era5l = era5l.sel(lon = slice(xn,xx), lat = slice(yn, yx), time = slice(None, \"2023\")).mean([\"lon\", \"lat\"])\n",
    "era5l = era5l.assign_attrs(region = region)\n",
    "era5l.to_netcdf(\"data/pr_monthly_era5land-catchment.nc\")"
   ]
  },
  {
   "cell_type": "code",
   "execution_count": 11,
   "id": "2be70b4b-13e6-4e57-a3a2-2144bcd3cbdc",
   "metadata": {},
   "outputs": [],
   "source": [
    "era5l.sel(time = slice(\"1979\", \"2021\")).to_netcdf(\"data/pr_monthly_era5land-1979-2021-catchment.nc\")"
   ]
  },
  {
   "cell_type": "code",
   "execution_count": 10,
   "id": "adb924a4-4f9e-44c1-aa68-c7005c8b366d",
   "metadata": {},
   "outputs": [],
   "source": [
    "era5l = convert_units_to(xr.open_dataset(\"data/era5land_pev_monthly.nc\").pev, \"mm\")\n",
    "era5l = era5l * era5l.time.dt.days_in_month / 4"
   ]
  },
  {
   "cell_type": "code",
   "execution_count": 31,
   "id": "fed622b1-1723-48b7-b553-ff6552055f7f",
   "metadata": {},
   "outputs": [],
   "source": [
    "era5l_ts = -era5l.sel(longitude = slice(xn,xx), latitude = slice(yx,yn)).mean([\"latitude\", \"longitude\"]).resample(time = \"AS-JAN\").sum()\n",
    "era5l_ts.assign_coords(time = era5l_ts.time.dt.year).rename(\"pet\", time = \"year\").to_dataframe().to_csv(\"data/annual-oet-era5land.csv\")"
   ]
  },
  {
   "cell_type": "code",
   "execution_count": 21,
   "id": "5e8a5b41-d547-4f1d-8312-329a7a030229",
   "metadata": {},
   "outputs": [
    {
     "data": {
      "text/plain": [
       "<matplotlib.collections.QuadMesh at 0x7fb3a1bdc130>"
      ]
     },
     "execution_count": 21,
     "metadata": {},
     "output_type": "execute_result"
    },
    {
     "data": {
      "image/png": "[encoded data removed]",
      "text/plain": [
       "<Figure size 640x480 with 2 Axes>"
      ]
     },
     "metadata": {},
     "output_type": "display_data"
    }
   ],
   "source": [
    "era5l.sel(time = slice(\"2022-01\", \"2022-04\")).sum(\"time\").plot()"
   ]
  },
  {
   "cell_type": "markdown",
   "id": "c9ac4887-bb03-4b6e-8445-aef67ac7d23a",
   "metadata": {},
   "source": [
    "## Extract gridded data for model fitting"
   ]
  },
  {
   "cell_type": "code",
   "execution_count": 33,
   "id": "856d4b01-473d-43b7-8055-33c2cdd96c70",
   "metadata": {},
   "outputs": [],
   "source": [
    "ds = \"chirps\"\n",
    "\n",
    "# accumulated rainy season precip\n",
    "da = xr.open_dataset(\"data/\"+ds+\"_panama_monthly.nc\").pr.sel(lon = slice(xn,xx), lat = slice(yn, yx), time = slice(None, \"2023\"))\n",
    "\n",
    "if ds == \"era5land\": \n",
    "    da = da.sel(time = slice(\"1979\", \"2021\"))\n",
    "    ds = \"era5land-1979-2021\"\n",
    "rs = da.sel(time = [m > 4 for m in da.time.dt.month.values]).resample(time = \"AS-JAN\").sum()\n",
    "\n",
    "# flatten & save as .csv for transfer to R\n",
    "rs = rs.where(rs > 0).assign_coords(time = rs.time.dt.year).rename(time = \"year\")\n",
    "rs.mean(\"year\").to_netcdf(\"data/\"+ds+\"_pr-rs_tmplt.nc\")\n",
    "\n",
    "# also save the map for easier reconstruction\n",
    "rs.stack(xy = [\"lat\", \"lon\"]).dropna(\"xy\", \"all\").to_pandas().to_csv(\"data/\"+ds+\"_pr-rs_flattened.csv\")"
   ]
  },
  {
   "cell_type": "markdown",
   "id": "73801c78-9886-4b0a-9723-7cc8fe216e70",
   "metadata": {},
   "source": [
    "## Time series for climate explorer"
   ]
  },
  {
   "cell_type": "markdown",
   "id": "89f8e5cc-d17d-48b8-8b61-38fdac322b6e",
   "metadata": {},
   "source": [
    "### Rainy-season precip"
   ]
  },
  {
   "cell_type": "code",
   "execution_count": 12,
   "id": "b957d1a6-19e1-434f-acc4-e2f248baa1bf",
   "metadata": {},
   "outputs": [],
   "source": [
    "for ds in [\"chirps\", \"mswep\", \"era5land\", \"era5land-1979-2021\"]:\n",
    "    \n",
    "    ts = xr.open_dataset(\"data/pr_monthly_\"+ds+\"-catchment.nc\").pr.resample(time = \"MS\").sum().sel(time = slice(None, \"2023\"))\n",
    "    extent = ts.region\n",
    "\n",
    "    ts = ts.sel(time = [m > 4 for m in ts.time.dt.month.values]).resample(time = \"AS-JAN\").sum()    \n",
    "    ts = ts.assign_coords(time = ts.time.dt.year).rename(\"pr\", time = \"year\").to_dataframe()\n",
    "\n",
    "    csv_fnm = \"panama_pr-rs_\"+ds\n",
    "    csv_fullpath = \"ts/\"+csv_fnm+\".dat\"\n",
    "    if len(csv_fnm) > 61: print(\"! Filename too long: \", csv_fnm)\n",
    "    \n",
    "    # create extra header lines for upload to Climate Explorer \n",
    "    str1 = \"# contact :: \"+ds+\" wet-season precipitation - Panama drought 2023, c.barnes22@imperial.ac.uk\"\n",
    "    str2 = \"# pr [mm] annual mean of May-December precipitation in \"+extent+\" at \"+csv_fnm+\".dat\"\n",
    "    head = \"# year pr\"\n",
    "\n",
    "    # make .dat file\n",
    "    ! echo \"$str1 \" > $csv_fullpath\n",
    "    ! echo \"$str2\" >> $csv_fullpath\n",
    "    ! echo \"$head\" >> $csv_fullpath\n",
    "    ts.to_csv(csv_fullpath, sep = \" \", mode = \"a\", header = False)"
   ]
  },
  {
   "cell_type": "markdown",
   "id": "a4f7c16c-0301-49c4-9af5-c529edf28fa8",
   "metadata": {},
   "source": [
    "### Dry-season precip"
   ]
  },
  {
   "cell_type": "code",
   "execution_count": 5,
   "id": "66cd3d51-7d18-4409-9571-141135347c06",
   "metadata": {},
   "outputs": [],
   "source": [
    "for ds in [\"chirps\", \"mswep\", \"era5land\", \"era5land-1979-2021\"]:\n",
    "    \n",
    "    ts = xr.open_dataset(\"data/pr_monthly_\"+ds+\"-catchment.nc\").pr.resample(time = \"MS\").sum().sel(time = slice(None, \"2023\"))\n",
    "    extent = ts.region\n",
    "\n",
    "    ts = ts.sel(time = [m <= 4 for m in ts.time.dt.month.values]).resample(time = \"AS-JAN\").sum()    \n",
    "    ts = ts.assign_coords(time = ts.time.dt.year).rename(\"pr\", time = \"year\").to_dataframe()\n",
    "\n",
    "    csv_fnm = \"panama_pr-ds_\"+ds\n",
    "    csv_fullpath = \"ts/\"+csv_fnm+\".dat\"\n",
    "    if len(csv_fnm) > 61: print(\"! Filename too long: \", csv_fnm)\n",
    "    \n",
    "    # create extra header lines for upload to Climate Explorer \n",
    "    str1 = \"# contact :: \"+ds+\" dry-season precipitation - Panama drought 2023, c.barnes22@imperial.ac.uk\"\n",
    "    str2 = \"# pr [mm] annual mean of January-April precipitation in \"+extent+\" at \"+csv_fnm+\".dat\"\n",
    "    head = \"# year pr\"\n",
    "\n",
    "    # make .dat file\n",
    "    ! echo \"$str1 \" > $csv_fullpath\n",
    "    ! echo \"$str2\" >> $csv_fullpath\n",
    "    ! echo \"$head\" >> $csv_fullpath\n",
    "    ts.to_csv(csv_fullpath, sep = \" \", mode = \"a\", header = False)"
   ]
  },
  {
   "cell_type": "markdown",
   "id": "79ef2a9b-6971-4eee-b622-875fb7eab100",
   "metadata": {},
   "source": [
    "---\n",
    "# Climate models"
   ]
  },
  {
   "cell_type": "markdown",
   "id": "cf3fba5d-a60e-49a4-a7a6-8f9bd5a6adda",
   "metadata": {
    "tags": []
   },
   "source": [
    "\n",
    "## CORDEX\n",
    "_Downloaded via synda_"
   ]
  },
  {
   "cell_type": "code",
   "execution_count": null,
   "id": "b5937798-1271-4cc2-8521-40e9ba20a5b4",
   "metadata": {
    "scrolled": true
   },
   "outputs": [],
   "source": [
    "# remove files that only provide one annoying extra month that makes open_mfdataset fail\n",
    "! rm wwa/24-03_Panama-drought/cordex/tmp/*20051101*.nc"
   ]
  },
  {
   "cell_type": "code",
   "execution_count": 107,
   "id": "61c18791-d72c-48e7-ba21-f78fc385c706",
   "metadata": {},
   "outputs": [],
   "source": [
    "synda_path = \"/rds/general/project/wwa/ephemeral/synda_clair/data/\"\n",
    "out_path = \"/rds/general/user/cb2714/home/01_wwa/24-01_Panama-drought/cordex/tmp/\""
   ]
  },
  {
   "cell_type": "code",
   "execution_count": 108,
   "id": "d6c7c667-3a0d-4c14-9f95-29b2b2d099be",
   "metadata": {},
   "outputs": [],
   "source": [
    "# filter out any models that don't have both historical & rcp85\n",
    "model_list = [m for m in sorted(glob.glob(synda_path+\"*/*/*/*\")) if \"CAM-\" in m or \"SAM- in m\"]\n",
    "mdl_list = {k : list() for k in [\"pr\", \"tasmin\", \"tasmax\"]}\n",
    "for fp in model_list:\n",
    "    for varnm in mdl_list.keys():\n",
    "        fl_hist = glob.glob(fp+\"/\"+varnm+\"/*hist*.nc\")\n",
    "        fl_rcp = glob.glob(fp+\"/\"+varnm+\"/*rcp85*.nc\")\n",
    "        \n",
    "        if len(fl_hist) == 0 or len(fl_rcp) == 0: continue\n",
    "        mdl_list[varnm].append(fp)"
   ]
  },
  {
   "cell_type": "code",
   "execution_count": 20,
   "id": "ef5a1aa7-3972-4112-bfa8-85a396e1261e",
   "metadata": {},
   "outputs": [],
   "source": [
    "# extract subset of data for easier handling\n",
    "for varnm in mdl_list.keys():\n",
    "    ml = mdl_list[varnm]\n",
    "    \n",
    "    for fp in ml:\n",
    "        mdl = \"_\".join([abridge_gcm[fp.split(\"/\")[-3]]] + fp.split(\"/\")[-2:])\n",
    "        print(mdl + \" (\"+str(ml.index(fp)+1)+\"/\"+str(len(ml))+\")\")\n",
    "        \n",
    "        # something wrong with time bounds in this one, can't open the files\n",
    "        if mdl in ['HadGEM2-ES_r1i1p1_RegCM4-3', 'MPI-ESM-MR_r1i1p1_RegCM4-3']: continue\n",
    "        \n",
    "        fl = sorted(glob.glob(fp+\"/\"+varnm+\"/\"+varnm+\"_*.nc\"))\n",
    "        print(\"  \"+varnm+\" (\"+str(len(fl))+\") \", end = \"\")\n",
    "        \n",
    "        for fnm in fl:\n",
    "            print(\".\", end = \"\")\n",
    "            new_fnm = out_path+\"_\".join([varnm, fnm.split(\"_\")[2], mdl, fnm.split(\"_\")[-1]])\n",
    "            \n",
    "            # skip if file has already been processed\n",
    "            if os.path.exists(new_fnm): continue\n",
    "            \n",
    "            # load data, convert to correct units\n",
    "            da = wrap_lon(xr.open_dataset(fnm))[varnm]\n",
    "            da = convert_units_to(da, units[varnm])\n",
    "            if \"height\" in da.coords: da.reset_coords(\"height\", drop = True)  # clean up unwanted extra coordinates\n",
    "                \n",
    "            # identify primary coordinates\n",
    "            if \"rlon\" in da.dims:\n",
    "                xdim, ydim = [\"rlat\", \"rlon\"]\n",
    "            elif \"x\" in da.dims:\n",
    "                xdim, ydim = [\"x\", \"y\"]\n",
    "            else:\n",
    "                print(da.dims)\n",
    "                continue\n",
    "            \n",
    "            # cut out smaller region & save as temp file\n",
    "            box = np.logical_and(np.logical_and(da.lon >= Xn, da.lon <= Xx), np.logical_and(da.lat >= Yn, da.lat <= Yx))\n",
    "            box = box.where(box == 1).dropna(xdim, \"all\").dropna(ydim, \"all\")\n",
    "            da = da.sel({xdim : box[xdim], ydim : box[ydim]})\n",
    "            da.to_netcdf(new_fnm)\n",
    "            \n",
    "            print(\".\", end = \"\")\n",
    "        print(\"\")\n",
    "    clear_output(wait = False)\n",
    "print(\"Done.\")"
   ]
  },
  {
   "cell_type": "markdown",
   "id": "906b03e6-0259-470d-ba99-0221e37697cf",
   "metadata": {},
   "source": [
    "### Compile daily data"
   ]
  },
  {
   "cell_type": "code",
   "execution_count": 29,
   "id": "2e42579f-ea72-4df8-b2e6-b7270b3ec7a3",
   "metadata": {
    "scrolled": true
   },
   "outputs": [],
   "source": [
    "fl = np.unique([\"_\".join(fnm.split(\"_\")[:-1]) for fnm in glob.glob(\"cordex/tmp/pr*.nc\")])"
   ]
  },
  {
   "cell_type": "code",
   "execution_count": 30,
   "id": "c3045e71-bd85-4d13-89ad-84b59af1716e",
   "metadata": {
    "scrolled": true
   },
   "outputs": [],
   "source": [
    "for fnm in fl:\n",
    "    \n",
    "    if fnm in ['cordex/tmp/pr_SAM-44_MPI-ESM-MR_r1i1p1_RegCM4-3']: continue\n",
    "    \n",
    "    ts_fnm = \"cordex/ts/\"+fnm.split(\"/\")[-1]+\".nc\"\n",
    "    \n",
    "    if not os.path.exists(ts_fnm):\n",
    "        \n",
    "        # load data\n",
    "        da = xr.open_mfdataset(fnm+\"*.nc\").pr\n",
    "        \n",
    "        if any([s == 0 for s in da.shape]): \n",
    "            print(fnm+\" - no data\")\n",
    "            continue\n",
    "\n",
    "        # select only box covering panama\n",
    "        if \"rlon\" in da.dims:\n",
    "            xdim, ydim = \"rlon\", \"rlat\"\n",
    "        elif \"x\" in da.dims:\n",
    "            xdim, ydim = \"x\", \"y\"\n",
    "\n",
    "        box = np.logical_and(np.logical_and(da.lon >= xn, da.lon <= xx), np.logical_and(da.lat >= yn, da.lat <= yx))\n",
    "        box = box.where(box == 1).dropna(xdim, \"all\").dropna(ydim, \"all\")\n",
    "        panama = da.sel({xdim : box[xdim], ydim : box[ydim]})\n",
    "\n",
    "        if \"time\" in panama.lon.dims: panama[\"lon\"] = panama.lon.isel(time = 0, drop = True)\n",
    "        if \"time\" in panama.lat.dims: panama[\"lat\"] = panama.lat.isel(time = 0, drop = True)\n",
    "            \n",
    "        # select only land cells over panama\n",
    "        lsm = regionmask.defined_regions.natural_earth_v5_0_0.land_10.mask(panama.lon, panama.lat)\n",
    "        panama = panama.where(lsm == 0)\n",
    "\n",
    "        # get daily mean & save to netcdf\n",
    "        panama_ts = panama.mean([xdim, ydim])\n",
    "        panama_ts = panama_ts.assign_attrs(region = region)\n",
    "        panama_ts.to_netcdf(ts_fnm)\n",
    "        \n",
    "print(\"Done.\")"
   ]
  },
  {
   "cell_type": "markdown",
   "id": "9c1cb224-cff8-481c-a2fb-9274d116808f",
   "metadata": {},
   "source": [
    "### Compile seasonal patterns"
   ]
  },
  {
   "cell_type": "code",
   "execution_count": 82,
   "id": "6b63d357-a715-4ddd-9e43-b244909c363f",
   "metadata": {
    "scrolled": true
   },
   "outputs": [],
   "source": [
    "fl = np.unique([\"_\".join(fnm.split(\"_\")[:-1]) for fnm in glob.glob(\"cordex/tmp/pr*.nc\")])"
   ]
  },
  {
   "cell_type": "code",
   "execution_count": null,
   "id": "2be7dffd-fff9-4c06-81cd-d197d1da75e7",
   "metadata": {
    "scrolled": true
   },
   "outputs": [],
   "source": [
    "for fnm in fl:\n",
    "    \n",
    "    if fnm in ['cordex/tmp/pr_SAM-44_MPI-ESM-MR_r1i1p1_RegCM4-3']: continue\n",
    "    \n",
    "    sp_fnm = \"cordex/sp/\"+fnm.split(\"/\")[-1]+\"-spatial.nc\"\n",
    "    \n",
    "    if not os.path.exists(sp_fnm):\n",
    "        \n",
    "        # load data\n",
    "        da = xr.open_mfdataset(fnm+\"*.nc\").pr.sel(time = slice(\"1980\", \"2020\"))\n",
    "        \n",
    "        if any([s == 0 for s in da.shape]): \n",
    "            print(fnm+\" - no data\")\n",
    "            continue\n",
    "            \n",
    "        rs_pattern = da.sel(time = [m > 4 for m in da.time.dt.month]).mean(\"time\").expand_dims(season = [\"wet\"])\n",
    "        ds_pattern = da.sel(time = [m <= 4 for m in da.time.dt.month]).mean(\"time\").expand_dims(season = [\"dry\"])\n",
    "        \n",
    "        xr.concat([rs_pattern, ds_pattern], \"season\").to_netcdf(sp_fnm)"
   ]
  },
  {
   "cell_type": "markdown",
   "id": "dafc7786-ee2a-40cf-9535-e6485e4df9bf",
   "metadata": {},
   "source": [
    "### Time series for climate explorer"
   ]
  },
  {
   "cell_type": "markdown",
   "id": "49fbec75-6cce-4c0c-8782-2aef687f3930",
   "metadata": {},
   "source": [
    "#### Rainy-season precip"
   ]
  },
  {
   "cell_type": "code",
   "execution_count": null,
   "id": "d120e601-dcd2-4844-8841-0c332fb371c4",
   "metadata": {},
   "outputs": [],
   "source": [
    "for fnm in glob.glob(\"cordex/ts/pr_*.nc\"):\n",
    "    \n",
    "    ds = re.sub(\".nc\", \"\", \"_\".join(fnm.split(\"_\")[1:]))\n",
    "    ts = xr.open_dataset(fnm).pr.resample(time = \"MS\").sum().sel(time = slice(None, \"2023\"))\n",
    "    ts = ts.sel(time = [m > 4 for m in ts.time.dt.month.values])\n",
    "    region = ts.region\n",
    "        \n",
    "    ts = ts.resample(time = \"AS-JAN\").sum()\n",
    "    ts = ts.assign_coords(time = ts.time.dt.year).rename(time = \"year\").to_dataframe()\n",
    "    \n",
    "    csv_fnm = \"panama_pr-rs_\"+ds\n",
    "    csv_fullpath = \"ts/\"+csv_fnm+\".dat\"\n",
    "    if len(csv_fnm) > 61: print(\"! Filename too long: \", csv_fnm)\n",
    "        \n",
    "    # create extra header lines for upload to Climate Explorer \n",
    "    str1 = \"# contact :: CORDEX \"+ds+\" wet-season precipitation - Panama drought 2023, c.barnes22@imperial.ac.uk\"\n",
    "    str2 = \"# pr [mm] annual mean of May-December precipitation in \"+region + \" at \"+csv_fnm+\".dat\"\n",
    "    head = \"# year pr\"\n",
    "    \n",
    "    # make .dat file\n",
    "    ! echo \"$str1 \" > $csv_fullpath\n",
    "    ! echo \"$str2\" >> $csv_fullpath\n",
    "    ! echo \"$head\" >> $csv_fullpath\n",
    "    ts.to_csv(csv_fullpath, sep = \" \", mode = \"a\", header = False)\n",
    "    \n",
    "    clear_output(wait = False)"
   ]
  },
  {
   "cell_type": "markdown",
   "id": "2799b953-72fb-4c4f-944f-fa1c1e391784",
   "metadata": {},
   "source": [
    "#### Detrended Nino3.4"
   ]
  },
  {
   "cell_type": "code",
   "execution_count": 65,
   "id": "96499f9d-1943-49ff-9866-6930dc134648",
   "metadata": {},
   "outputs": [],
   "source": [
    "for fnm in glob.glob(\"data/nino34det_cmip5_*.nc\"):\n",
    "    \n",
    "    mdl = re.sub(\".nc\", \"\", \"_\".join(fnm.split(\"_\")[2:]))\n",
    "    \n",
    "    # load model Nino time series & get rainy season mean\n",
    "    nino = xr.open_dataset(fnm).nino34_det\n",
    "    nino_rs = nino.rolling(time = 8).mean().groupby(\"time.month\")[12]\n",
    "        \n",
    "    # standardise to have mean 0 and sd 1 during observational time period (1979-2023)\n",
    "    nino_rs = (nino_rs - nino_rs.sel(time = slice(\"1979\", \"2023\")).mean()) / nino_rs.sel(time = slice(\"1979\", \"2023\")).std()\n",
    "\n",
    "    ts = nino_rs.assign_coords(time = nino_rs.time.dt.year).rename(time = \"year\").to_dataframe()\n",
    "\n",
    "    csv_fnm = \"panama_nino-rs_\"+mdl\n",
    "    csv_fullpath = \"ts/\"+csv_fnm+\".dat\"\n",
    "    if len(csv_fnm) > 61: print(\"! Filename too long: \", csv_fnm)\n",
    "    \n",
    "    # create extra header lines for upload to Climate Explorer \n",
    "    str1 = \"# contact :: CMIP5 \"+mdl+\" rainy season mean of standardised detrended Nino3.4 index - Panama drought 2023, c.barnes22@imperial.ac.uk\"\n",
    "    str2 = \"# nino3.4 [degC] annual mean of May-December detrended Nino3.4 (standardised wrt 1979-2023) at \"+csv_fnm+\".dat\"\n",
    "    head = \"# year nino\"\n",
    "    \n",
    "    # make .dat file\n",
    "    ! echo \"$str1 \" > $csv_fullpath\n",
    "    ! echo \"$str2\" >> $csv_fullpath\n",
    "    ! echo \"$head\" >> $csv_fullpath\n",
    "    ts.to_csv(csv_fullpath, sep = \" \", mode = \"a\", header = False)"
   ]
  },
  {
   "cell_type": "markdown",
   "id": "e1bfeb94-7b58-4de2-96de-4f3b52a4ca97",
   "metadata": {},
   "source": [
    "---\n",
    "# Station data"
   ]
  },
  {
   "cell_type": "markdown",
   "id": "0daacb05-7528-4bb7-9969-493b6adfc02d",
   "metadata": {},
   "source": [
    "## Panama Canal Authority station locations"
   ]
  },
  {
   "cell_type": "code",
   "execution_count": 29,
   "id": "ffea654a-8108-43cf-8bac-2ceae281a08f",
   "metadata": {},
   "outputs": [],
   "source": [
    "# get station datas\n",
    "acp_stations = pd.read_excel(\"data/Monthly_Rain_ACP_Vertical.xlsx\", sheet_name = \"Locations\", skiprows = 1)\n",
    "acp_stations.index = [str(s).strip() for s in acp_stations[\"STRI Name\"]]\n",
    "\n",
    "# label stations as active/inactive & clean rows\n",
    "acp_stations[\"STATUS\"] = \"Active\"\n",
    "acp_stations.iloc[list(acp_stations[\"ACP Name\"].values).index(\"Deactivated Stations\"):,-1] = \"Deactivated\"\n",
    "acp_stations = acp_stations.loc[(~acp_stations[\"ACP Name\"].isna()) & (acp_stations[\"ACP Name\"] != \"Deactivated Stations\")]\n",
    "\n",
    "# remove duplicate stations\n",
    "acp_stations = acp_stations.loc[~((acp_stations.index == \"PEDROMIGUEL\") & (acp_stations.STATUS == \"Deactivated\"))]\n",
    "acp_stations = acp_stations.loc[~((acp_stations.index == \"RIOPIEDRAS\") & (acp_stations.STATUS == \"Deactivated\"))]\n",
    "\n",
    "# remove station with no location data\n",
    "acp_stations = acp_stations.loc[~((acp_stations.index == \"NUEVOSANJUAN\") & (acp_stations.STATUS == \"Deactivated\"))]\n",
    "\n",
    "# relabel lat & lon\n",
    "acp_stations = acp_stations.rename(columns = {\"LAT (N).1\" : \"lat\", \"LONG (W).1\" : \"lon\"})\n",
    "\n",
    "# fill in missing lat & lon where required\n",
    "def dms2ll(dms, direction = \"N\"):\n",
    "    d,m,s = [float(n) for n in re.split('[°\\'\"]', dms)[:3]]\n",
    "    return (float(d) + float(m)/60 + float(s)/(60*60)) * (-1 if direction in ['W', 'S'] else 1)\n",
    "\n",
    "acp_stations.loc[\"HODGESHILL\", \"lat\"] = dms2ll(acp_stations.loc[\"HODGESHILL\", \"LAT (N)\"])\n",
    "acp_stations.loc[\"HODGESHILL\", \"lon\"] = dms2ll(acp_stations.loc[\"HODGESHILL\", \"LONG (W)\"], direction = \"W\")\n",
    "\n",
    "acp_stations.to_csv(\"data/acp_stations.csv\")"
   ]
  },
  {
   "cell_type": "code",
   "execution_count": 3,
   "id": "370da9b3-69ce-4dbf-b741-bf9cdd44e0b5",
   "metadata": {},
   "outputs": [],
   "source": [
    "# load data, create headers from first three rows\n",
    "acp_pr = pd.read_excel(\"data/Monthly Rain_ACP_Vertical.xlsx\", sheet_name = \"Rain.All\", header = None)\n",
    "acp_pr.columns = [\" \".join([re.sub(\"nan\", \"\", str(n)) for n in list(r)]).strip() for k, r in acp_pr.iloc[:3].items()]\n",
    "\n",
    "# clean empty rows\n",
    "acp_pr = acp_pr.iloc[3:]\n",
    "acp_pr = acp_pr.loc[~acp_pr.Year.isna()]\n",
    "\n",
    "# index by date & select columns of interest\n",
    "acp_pr.index = [datetime.strptime(str(int(r[\"Year\"])) + \"-\" +str(int(r[\"Month\"])), \"%Y-%m\") for k,r in acp_pr.iterrows()]\n",
    "acp_pr = acp_pr[[c for c in acp_pr.columns if not c in [\"Year\", \"Month\", \"Yr.Mon\", \"Average\", \"1-yr\", \"3-yr\", \"5-year Running Average\"]]]\n",
    "\n",
    "# modify column names to match station data\n",
    "acp_pr = acp_pr.rename(columns = {\"CAÑO\" : \"CANO\",\n",
    "                                  \"HODGESHILL GOLD HILL\" : \"GOLD HILL\",\n",
    "                                  \"CRISTOBAL COCOSOLO LIMONBAY\" : \"LIMONBAY\",\n",
    "                                  \"MONTELIRIO\" : \"MONTE LIRIO\",\n",
    "                                  \"SAN PEDRO\" : \"SANPEDRO\",\n",
    "                                  \"VALLECENTRALGATUN\" : \"VALLEGATUN\",\n",
    "                                  \"CERROCOCOLI\" : \"COCOLI\",\n",
    "                                  \"PEDROMIGEL\" : \"PEDROMIGUEL\"})\n",
    "\n",
    "acp_pr.to_csv(\"data/pr_stations_acp_monthly.csv\")"
   ]
  },
  {
   "cell_type": "markdown",
   "id": "cfb2be6d-6084-4c1c-acd7-9380b7ef3f11",
   "metadata": {},
   "source": [
    "## Use complete years only"
   ]
  },
  {
   "cell_type": "markdown",
   "id": "fd4ec8ce-612f-405b-9e76-70810686fd3b",
   "metadata": {},
   "source": [
    "- how many stations are left when only mostly-complete stations are considered?\n",
    "- quite a lot of missing data during the 1960s and 2010s - insisting on completeness at all stations will remove a lot of recent years\n",
    "- instead of compositing, fit model at each station to complete years only & compare to model fitted to gap-filled "
   ]
  },
  {
   "cell_type": "code",
   "execution_count": 124,
   "id": "4a33d10f-226f-49b8-8a50-0f601964e1d3",
   "metadata": {},
   "outputs": [],
   "source": [
    "acp = pd.read_csv(\"data/pr_stations_acp_monthly.csv\", index_col = 0, parse_dates = [0])\n",
    "acp = acp.loc[acp.index.month > 4]                                                                 # only consider rainy season months\n",
    "\n",
    "# get wet season accumulation but drop any years with missing months\n",
    "acp_rs_complete = acp.resample(\"AS-JAN\").sum().where(np.isnan(acp).resample(\"AS-JAN\").sum() == 0)\n",
    "acp_rs_complete.index = acp_rs_complete.index.year\n",
    "acp_rs_complete.to_csv(\"data/acp-complete_pr-rs.csv\")"
   ]
  },
  {
   "cell_type": "markdown",
   "id": "40e24051-8b7a-4886-b392-c546098571cd",
   "metadata": {},
   "source": [
    "### Identify mostly-complete subsets"
   ]
  },
  {
   "cell_type": "code",
   "execution_count": 80,
   "id": "85c44a67-ab13-448c-9585-d4e8c9ed9b7c",
   "metadata": {},
   "outputs": [],
   "source": [
    "# function to pick out stations with > 1month data in more than 90% of years \n",
    "acp_nmonths = acp.resample(\"AS-JAN\").count().where(acp.resample(\"AS-JAN\").count() > 0) \n",
    "\n",
    "def filter_acp(ys):\n",
    "    min_years = np.ceil((2023 - ys)*0.98)\n",
    "    return acp.loc[slice(str(ys),None)].loc[:,acp_nmonths.loc[slice(str(ys),None)].count(axis = 0) > min_years]"
   ]
  },
  {
   "cell_type": "code",
   "execution_count": 125,
   "id": "a3af64b0-5583-4936-a74a-b91e5eb977fa",
   "metadata": {},
   "outputs": [
    {
     "data": {
      "image/png": "[encoded data removed]",
      "text/plain": [
       "<Figure size 2400x400 with 4 Axes>"
      ]
     },
     "metadata": {},
     "output_type": "display_data"
    }
   ],
   "source": [
    "# identify subsets of data to consider\n",
    "subsets = {\"all years\" : acp} | {str(ys) : filter_acp(ys) for ys in [1925, 1945, 1979]}\n",
    "\n",
    "# how many stations are we left with when only mostly-complete stations are considered?\n",
    "fig, axs = plt.subplots(ncols = 4, figsize = (24,4), dpi = 100)\n",
    "\n",
    "for i in range(4):\n",
    "    ax = axs[i]\n",
    "    ds = list(subsets.keys())[i]\n",
    "    \n",
    "    df = (subsets[ds]).resample(\"AS-JAN\").count()\n",
    "\n",
    "    ax.pcolormesh(df)\n",
    "    ax.set_title(str(df.index.year.min())+\"-\"+str(df.index.year.max()) + \" (\"+str(len(df.columns))+\")\", fontweight = \"bold\")\n",
    "    ax.set_yticks([df.index.year.tolist().index(y) for y in range(int(np.ceil(df.index.year.min() / 10) * 10), 2030, 10)])\n",
    "    ax.set_yticklabels(range(int(np.ceil(df.index.year.min() / 10) * 10), 2030, 10))"
   ]
  },
  {
   "cell_type": "markdown",
   "id": "d4427c34-c887-4d26-8c44-b7e52cdbacd2",
   "metadata": {},
   "source": [
    "## Gap-filled data from Bob Stallard"
   ]
  },
  {
   "cell_type": "code",
   "execution_count": 7,
   "id": "dda7cbd6-7680-402d-a258-066b8e440162",
   "metadata": {},
   "outputs": [],
   "source": [
    "acp_filled = pd.read_csv(\"data/acp-filled_monthly-pr.csv\", parse_dates = [\"Date\"], index_col = \"Date\")\n",
    "\n",
    "# fix names to match station data\n",
    "acp_filled = acp_filled.rename(columns = {\"CRISTOBAL\" : \"LIMONBAY\",\n",
    "                                          \"MONTELIRIO\" : \"MONTE LIRIO\",\n",
    "                                          \"PEDROMIGEL\" : \"PEDROMIGUEL\"})\n",
    "\n",
    "# save rainy season precip at all stations\n",
    "acp_filled_rs = acp_filled.rolling(8).sum().loc[acp_filled.index.month == 12]\n",
    "acp_filled_rs.index = acp_filled_rs.index.year\n",
    "acp_filled_rs.to_csv(\"data/acp-filled_pr-rs.csv\")"
   ]
  },
  {
   "cell_type": "markdown",
   "id": "820a1ec9-ad13-4760-a5e9-37c68335f875",
   "metadata": {},
   "source": [
    "### Time series for climate explorer"
   ]
  },
  {
   "cell_type": "code",
   "execution_count": 17,
   "id": "0016dcb1-4be8-48a9-9dff-03e1d6b8ba43",
   "metadata": {},
   "outputs": [],
   "source": [
    "# average over all available stations for now \n",
    "ts = acp_filled_rs.mean(axis = 1)\n",
    "\n",
    "csv_fnm = \"panama_pr-rs_acp-filled-allstations\"\n",
    "csv_fullpath = \"ts/\"+csv_fnm+\".dat\"\n",
    "if len(csv_fnm) > 61: print(\"! Filename too long: \", csv_fnm)\n",
    "\n",
    "# create extra header lines for upload to Climate Explorer \n",
    "str1 = \"# contact :: ACP wet-season precipitation (infilled data) - Panama drought 2023, c.barnes22@imperial.ac.uk\"\n",
    "str2 = \"# pr [mm] annual mean of infilled May-December precipitation averaged over all ACP stations at \"+csv_fnm+\".dat\"\n",
    "head = \"# year pr\"\n",
    "\n",
    "# make .dat file\n",
    "! echo \"$str1 \" > $csv_fullpath\n",
    "! echo \"$str2\" >> $csv_fullpath\n",
    "! echo \"$head\" >> $csv_fullpath\n",
    "ts.to_csv(csv_fullpath, sep = \" \", mode = \"a\", header = False)\n",
    "\n",
    "clear_output(wait = False)"
   ]
  },
  {
   "cell_type": "code",
   "execution_count": 19,
   "id": "04730085-ece3-4961-b62d-c45009a9b70f",
   "metadata": {},
   "outputs": [],
   "source": [
    "# save shorter time series (easier to loop over files & compare results this way)\n",
    "for ys in [\"1979\", \"1950\", \"1925\", \"1900\", \"1881\"]:\n",
    "    tmp_fullpath = re.sub(\".dat\", \"-\"+ys+\".dat\", csv_fullpath)\n",
    "    ! echo \"$str1 \" > $tmp_fullpath\n",
    "    ! echo \"$str2\" >> $tmp_fullpath\n",
    "    ! echo \"$head\" >> $tmp_fullpath\n",
    "    ts.loc[slice(ys,None)].to_csv(tmp_fullpath, sep = \" \", mode = \"a\", header = False)"
   ]
  },
  {
   "cell_type": "markdown",
   "id": "500b8081-0472-4593-9463-a83c1e33c9f3",
   "metadata": {},
   "source": [
    "### Dry-season precip"
   ]
  },
  {
   "cell_type": "code",
   "execution_count": 34,
   "id": "05a6e54c-fc3e-4d13-ae7a-6b54fe5aef7d",
   "metadata": {},
   "outputs": [],
   "source": [
    "# save rainy season precip at all stations\n",
    "acp_filled_ds = acp_filled.rolling(4).sum().loc[acp_filled.index.month == 4]\n",
    "acp_filled_ds.index = acp_filled_ds.index.year\n",
    "acp_filled_ds.to_csv(\"data/acp-filled_pr-ds.csv\")"
   ]
  },
  {
   "cell_type": "code",
   "execution_count": 35,
   "id": "8959adae-f643-44e7-bf63-4e1c0556eef7",
   "metadata": {},
   "outputs": [],
   "source": [
    "# average over all available stations for now \n",
    "ts = acp_filled_ds.mean(axis = 1)\n",
    "\n",
    "csv_fnm = \"panama_pr-ds_acp-filled-allstations\"\n",
    "csv_fullpath = \"ts/\"+csv_fnm+\".dat\"\n",
    "if len(csv_fnm) > 61: print(\"! Filename too long: \", csv_fnm)\n",
    "\n",
    "# create extra header lines for upload to Climate Explorer \n",
    "str1 = \"# contact :: ACP dry-season precipitation (infilled data) - Panama drought 2023, c.barnes22@imperial.ac.uk\"\n",
    "str2 = \"# pr [mm] annual mean of infilled January-April precipitation averaged over all ACP stations at \"+csv_fnm+\".dat\"\n",
    "head = \"# year pr\"\n",
    "\n",
    "# make .dat file\n",
    "! echo \"$str1 \" > $csv_fullpath\n",
    "! echo \"$str2\" >> $csv_fullpath\n",
    "! echo \"$head\" >> $csv_fullpath\n",
    "ts.to_csv(csv_fullpath, sep = \" \", mode = \"a\", header = False)\n",
    "\n",
    "clear_output(wait = False)"
   ]
  },
  {
   "cell_type": "markdown",
   "id": "4d10c29b-9566-4d49-9d27-65a9917e343e",
   "metadata": {},
   "source": [
    "# Other data\n"
   ]
  },
  {
   "cell_type": "markdown",
   "id": "e2d322b0-2ad9-4df3-a17b-56ecaee93768",
   "metadata": {},
   "source": [
    "## Nino3.4 covariate"
   ]
  },
  {
   "cell_type": "code",
   "execution_count": 34,
   "id": "ea13c3ea-f030-4dd3-9c4a-326a84d6a34c",
   "metadata": {},
   "outputs": [],
   "source": [
    "# rainy season (May-Dec) Nino3.4\n",
    "nino_rs = xr.open_dataset(\"../10_misc/detrended_nino34/ersst_nino34_detrended.nc\").nino34.rolling(time = 8).mean().groupby(\"time.month\")[12]\n",
    "ts = nino_rs.assign_coords(time = nino_rs.time.dt.year).rename(time = \"year\").to_dataframe()\n",
    "\n",
    "csv_fnm = \"panama_nino-rs\"\n",
    "csv_fullpath = \"ts/\"+csv_fnm+\".dat\"\n",
    "if len(csv_fnm) > 61: print(\"! Filename too long: \", csv_fnm)\n",
    "    \n",
    "# create extra header lines for upload to Climate Explorer \n",
    "str1 = \"# contact :: rainy season mean of detrended Nino3.4 index - Panama drought 2023, c.barnes22@imperial.ac.uk\"\n",
    "str2 = \"# nino3.4 [degC] annual mean of May-December detrended Nino3.4 at \"+csv_fnm+\".dat\"\n",
    "head = \"# year nino\"\n",
    "\n",
    "# make .dat file\n",
    "! echo \"$str1 \" > $csv_fullpath\n",
    "! echo \"$str2\" >> $csv_fullpath\n",
    "! echo \"$head\" >> $csv_fullpath\n",
    "ts.to_csv(csv_fullpath, sep = \" \", mode = \"a\", header = False)"
   ]
  },
  {
   "cell_type": "code",
   "execution_count": 33,
   "id": "93f10432-0450-46bf-bad0-8c30eb1137f4",
   "metadata": {},
   "outputs": [],
   "source": [
    "# rainy season (May-Dec) Nino3.4\n",
    "nino_ds = xr.open_dataset(\"../10_misc/detrended_nino34/ersst_nino34_detrended.nc\").nino34.rolling(time = 4).mean().groupby(\"time.month\")[4]\n",
    "ts = nino_ds.assign_coords(time = nino_ds.time.dt.year).rename(time = \"year\").to_dataframe()\n",
    "\n",
    "csv_fnm = \"panama_nino-ds\"\n",
    "csv_fullpath = \"ts/\"+csv_fnm+\".dat\"\n",
    "if len(csv_fnm) > 61: print(\"! Filename too long: \", csv_fnm)\n",
    "    \n",
    "# create extra header lines for upload to Climate Explorer \n",
    "str1 = \"# contact :: dry season mean of detrended Nino3.4 index - Panama drought 2023, c.barnes22@imperial.ac.uk\"\n",
    "str2 = \"# nino3.4 [degC] annual mean of January-April detrended Nino3.4 at \"+csv_fnm+\".dat\"\n",
    "head = \"# year nino\"\n",
    "\n",
    "# make .dat file\n",
    "! echo \"$str1 \" > $csv_fullpath\n",
    "! echo \"$str2\" >> $csv_fullpath\n",
    "! echo \"$head\" >> $csv_fullpath\n",
    "ts.to_csv(csv_fullpath, sep = \" \", mode = \"a\", header = False)"
   ]
  },
  {
   "cell_type": "code",
   "execution_count": null,
   "id": "3ff7e339-a0a6-4f9c-8c44-2de6a415dbc1",
   "metadata": {},
   "outputs": [],
   "source": []
  }
 ],
 "metadata": {
  "kernelspec": {
   "display_name": "Python [conda env:wwa]",
   "language": "python",
   "name": "conda-env-wwa-py"
  },
  "language_info": {
   "codemirror_mode": {
    "name": "ipython",
    "version": 3
   },
   "file_extension": ".py",
   "mimetype": "text/x-python",
   "name": "python",
   "nbconvert_exporter": "python",
   "pygments_lexer": "ipython3",
   "version": "3.10.8"
  }
 },
 "nbformat": 4,
 "nbformat_minor": 5
}
