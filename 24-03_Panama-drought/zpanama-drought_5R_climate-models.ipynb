{
 "cells": [
  {
   "cell_type": "code",
   "execution_count": 1,
   "id": "57d74c43-7bbb-4572-b380-932867e27908",
   "metadata": {},
   "outputs": [
    {
     "name": "stderr",
     "output_type": "stream",
     "text": [
      "Skipping install of 'rwwa' from a github remote, the SHA1 (d52021fc) has not changed since last install.\n",
      "  Use `force = TRUE` to force installation\n",
      "\n",
      "Loading required package: extRemes\n",
      "\n",
      "Loading required package: Lmoments\n",
      "\n",
      "Loading required package: distillery\n",
      "\n",
      "\n",
      "Attaching package: ‘extRemes’\n",
      "\n",
      "\n",
      "The following objects are masked from ‘package:stats’:\n",
      "\n",
      "    qqnorm, qqplot\n",
      "\n",
      "\n",
      "Loading required package: plyr\n",
      "\n",
      "\n",
      "Attaching package: ‘plyr’\n",
      "\n",
      "\n",
      "The following object is masked from ‘package:distillery’:\n",
      "\n",
      "    is.formula\n",
      "\n",
      "\n"
     ]
    }
   ],
   "source": [
    "devtools::install_github(\"clairbarnes/rwwa\")\n",
    "library(rwwa)"
   ]
  },
  {
   "cell_type": "markdown",
   "id": "07480352-d65e-4d33-b537-72d2ec31a41a",
   "metadata": {},
   "source": [
    "# Trend fitting for climate models"
   ]
  },
  {
   "cell_type": "markdown",
   "id": "b2387688-ff2c-474b-aebc-526d9d926a0b",
   "metadata": {},
   "source": [
    "## CORDEX"
   ]
  },
  {
   "cell_type": "markdown",
   "id": "9ba60089-7ce7-4973-9431-c23050d2dce2",
   "metadata": {},
   "source": [
    "### GMST only"
   ]
  },
  {
   "cell_type": "code",
   "execution_count": 14,
   "id": "6dde29ab-231f-4356-ad09-906ce5de0e2b",
   "metadata": {},
   "outputs": [],
   "source": [
    "for (fnm in list.files(\"ts\", pattern = \"wetseason_.AM-[0-9]{2}\", full.names = T)) {\n",
    "    \n",
    "    res_fnm <- gsub(\".dat\", \".csv\", gsub(\"ts/\", \"res/\", fnm))\n",
    "    if(!file.exists(res_fnm)) {\n",
    "        ts <- load_ts(fnm, col.names = c(\"year\", \"pr\"))\n",
    "        gmst <- load_ts(list.files(\"ts\", pattern = paste0(\"smoothed-gsat_\", strsplit(fnm, \"_\")[[1]][4]), full.names = T), col.names = c(\"year\", \"gmst\"))\n",
    "\n",
    "        df <- merge(ts, gmst)\n",
    "\n",
    "        cov_2023 <- df[df$year == 2023, \"gmst\", drop = F]\n",
    "        cov_hist <- df[df$year == 2023, \"gmst\", drop = F] - 1.2\n",
    "        cov_fut <- df[df$year == 2023, \"gmst\", drop = F] + 0.8\n",
    "\n",
    "        mdl <- fit_ns(\"norm\", \"fixeddisp\", df, \"pr\", \"gmst\", lower = T)\n",
    "\n",
    "        res <- cmodel_results(mdl, rp = 10, cov_f = cov_2023, cov_hist = cov_hist, cov_fut = cov_fut,\n",
    "                             y_now = 2023, y_start = 1979, y_fut = 2050, nsamp = 500)\n",
    "\n",
    "        write.csv(res, res_fnm)\n",
    "    }\n",
    "}"
   ]
  },
  {
   "cell_type": "markdown",
   "id": "766ef849-a3c6-4484-9df7-f233b88abb7f",
   "metadata": {},
   "source": [
    "### GMST + Nino3.4"
   ]
  },
  {
   "cell_type": "code",
   "execution_count": 2,
   "id": "49f33eb7-cba2-49a1-aee1-f7e8fe9e34b4",
   "metadata": {},
   "outputs": [],
   "source": [
    "rp = 10\n",
    "nsamp = 1000\n",
    "\n",
    "# use 2023 observed value of Nino3.4 as factual covariate\n",
    "nino_obs <- load_ts(\"ts/panama_nino-rs.dat\", col.names = c(\"year\", \"nino\"))\n",
    "nino_2023 <- nino_obs$nino[nino_obs$year == 2023]\n",
    "\n",
    "# currently no Nino data for EC-EARTH\n",
    "fl <- list.files(\"ts\", pattern = \"wetseason_.AM-[0-9]{2}\", full.names = T)\n",
    "fl <- fl[!grepl(\"EC-EARTH\", fl)]"
   ]
  },
  {
   "cell_type": "code",
   "execution_count": 6,
   "id": "400184e3-c2a0-430a-a527-b0220d3e396f",
   "metadata": {},
   "outputs": [],
   "source": [
    "for (fnm in fl) {\n",
    "    \n",
    "    nino_fnm <- list.files(\"ts\", pattern = paste0(\"nino-rs_\", paste0(strsplit(fnm, \"_\")[[1]][4:5], collapse = \"_\")), full.names = T)\n",
    "    if(length(nino_fnm) == 0) next\n",
    "\n",
    "    # load data & fit model\n",
    "    ts <- load_ts(fnm, col.names = c(\"year\", \"pr\"))\n",
    "    gmst <- load_ts(list.files(\"ts\", pattern = paste0(\"smoothed-gsat_\", strsplit(fnm, \"_\")[[1]][4]), full.names = T), col.names = c(\"year\", \"gmst\"))\n",
    "    nino <- load_ts(nino_fnm, col.names = c(\"year\", \"nino\"))\n",
    "    df <- merge(ts, merge(gmst, nino))\n",
    "    \n",
    "    mdl <- fit_ns(\"norm\", \"fixeddisp\", df, \"pr\", c(\"gmst\", \"nino\"), lower = T)\n",
    "\n",
    "    res_fnm <- gsub(\"pr-wetseason\", \"pr-wetseason-nino\", gsub(\".dat\", \".csv\", gsub(\"ts/\", \"res/\", fnm)))\n",
    "    if(!file.exists(res_fnm)) {\n",
    "        \n",
    "        # use model's 2023 GMST & observed Nino to define factual climate\n",
    "        gmst_2023 <- df$gmst[df$year == 2023]\n",
    "        \n",
    "        cov_2023 <- data.frame(gmst = gmst_2023, nino = nino_2023)\n",
    "        cov_cf <- rbind(\"pi\" = data.frame(\"gmst\" = gmst_2023 - 1.2, \"nino\" = nino_2023), \n",
    "                        \"neut\" = data.frame(\"gmst\" = gmst_2023, \"nino\" = 0))\n",
    "        cov_fut <- data.frame(gmst = gmst_2023 + 0.8, nino = nino_2023)\n",
    "\n",
    "        # bootstrap results\n",
    "        res <- cmodel_results(mdl, rp = rp, cov_f = cov_2023, cov_hist = cov_cf, cov_fut = cov_fut,\n",
    "                             y_now = 2023, y_start = 1979, y_fut = 2050, nsamp = nsamp)\n",
    "        \n",
    "        # bootstrap correlation between Nino & precip in this region\n",
    "        set.seed(42)\n",
    "        nino_corr <- c(cor(df$nino, df$pr), \n",
    "                       quantile(sapply(1:nsamp, function(i) cor(df[sample(1:nrow(mdl$data), replace = T), c(\"nino\", \"pr\")])[1,2]), c(0.025, 0.975)))\n",
    "        nino_corr <- setNames(data.frame(t(nino_corr)), paste0(\"nino-corr_\", c(\"est\", \"lower\", \"upper\")))\n",
    "                                       \n",
    "        res <- cbind(nino_corr, res)\n",
    "        write.csv(res, res_fnm)\n",
    "    }\n",
    "                                       \n",
    "    # quick return level plots to check fit\n",
    "    rlplot_fnm <- gsub(\"csv\", \"png\", gsub(\"res/\", \"mdl-eval/rlplot_\", res_fnm))\n",
    "    if(!file.exists(rlplot_fnm)) {\n",
    "        png(rlplot_fnm, h = 480, w = 480 * 2); par(cex.main = 1.4, mfrow = c(1,2), oma = c(0,0,2,0)); {\n",
    "            plot_returnlevels(mdl, cov_f = cov_2023, cov_cf = cov_cf[\"pi\",,drop = F], nsamp = 100, main = \"Present vs PI\")\n",
    "            plot_returnlevels(mdl, cov_f = cov_2023, cov_cf = cov_cf[\"neut\",,drop = F], nsamp = 100, main =\"Present vs neutral Nino3.4\")\n",
    "            mtext(outer = T, gsub(\".dat\",\"\",paste0(strsplit(fnm, \"_\")[[1]][4:6], collapse = \"_\")), font = 2, cex = 1.5)\n",
    "        }; dev.off()\n",
    "    }\n",
    "}"
   ]
  },
  {
   "cell_type": "code",
   "execution_count": 27,
   "id": "5c420140-6867-48ee-9f7b-9db775cb6efb",
   "metadata": {},
   "outputs": [],
   "source": [
    "# compile results\n",
    "res <- t(sapply(list.files(\"res\", pattern = \"pr-wetseason-nino_.AM-[0-9]{2}\", full.names = T), read.csv, row.names = \"X\"))\n",
    "rownames(res) <- sapply(rownames(res), function(rnm) gsub(\".csv\", \"\", paste0(strsplit(rnm, \"_\")[[1]][3:6], collapse = \"_\")))"
   ]
  },
  {
   "cell_type": "code",
   "execution_count": 29,
   "id": "3e4ee486-a02e-44a6-a3d3-48e7b2c29129",
   "metadata": {},
   "outputs": [],
   "source": [
    "write.csv(res, \"res_pr-wetseason-nino_cordex.csv\")"
   ]
  },
  {
   "cell_type": "code",
   "execution_count": null,
   "id": "d6aa01dc-c0df-4ba6-bf78-ff7bb10e31bc",
   "metadata": {},
   "outputs": [],
   "source": []
  }
 ],
 "metadata": {
  "kernelspec": {
   "display_name": "R [conda env:r_env]",
   "language": "R",
   "name": "conda-env-r_env-r"
  },
  "language_info": {
   "codemirror_mode": "r",
   "file_extension": ".r",
   "mimetype": "text/x-r-source",
   "name": "R",
   "pygments_lexer": "r",
   "version": "4.2.3"
  }
 },
 "nbformat": 4,
 "nbformat_minor": 5
}
