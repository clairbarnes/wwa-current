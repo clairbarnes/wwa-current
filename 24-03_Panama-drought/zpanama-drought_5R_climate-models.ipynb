{
 "cells": [
  {
   "cell_type": "code",
   "execution_count": 1,
   "id": "57d74c43-7bbb-4572-b380-932867e27908",
   "metadata": {},
   "outputs": [
    {
     "name": "stderr",
     "output_type": "stream",
     "text": [
      "Skipping install of 'rwwa' from a github remote, the SHA1 (d8887905) has not changed since last install.\n",
      "  Use `force = TRUE` to force installation\n",
      "\n",
      "Loading required package: extRemes\n",
      "\n",
      "Loading required package: Lmoments\n",
      "\n",
      "Loading required package: distillery\n",
      "\n",
      "\n",
      "Attaching package: ‘extRemes’\n",
      "\n",
      "\n",
      "The following objects are masked from ‘package:stats’:\n",
      "\n",
      "    qqnorm, qqplot\n",
      "\n",
      "\n"
     ]
    }
   ],
   "source": [
    "devtools::install_github(\"clairbarnes/rwwa\")\n",
    "library(rwwa)"
   ]
  },
  {
   "cell_type": "markdown",
   "id": "07480352-d65e-4d33-b537-72d2ec31a41a",
   "metadata": {},
   "source": [
    "# Trend fitting for climate models"
   ]
  },
  {
   "cell_type": "markdown",
   "id": "66b7e877-fe52-4828-a328-12a6d6cf085e",
   "metadata": {},
   "source": [
    "## CORDEX\n",
    "\n",
    "_GMST only_"
   ]
  },
  {
   "cell_type": "code",
   "execution_count": 14,
   "id": "6dde29ab-231f-4356-ad09-906ce5de0e2b",
   "metadata": {},
   "outputs": [],
   "source": [
    "for (fnm in list.files(\"ts\", pattern = \"wetseason_.AM-[0-9]{2}\", full.names = T)) {\n",
    "    \n",
    "    res_fnm <- gsub(\".dat\", \".csv\", gsub(\"ts/\", \"res/\", fnm))\n",
    "    if(!file.exists(res_fnm)) {\n",
    "        ts <- load_ts(fnm, col.names = c(\"year\", \"pr\"))\n",
    "        gmst <- load_ts(list.files(\"ts\", pattern = paste0(\"smoothed-gsat_\", strsplit(fnm, \"_\")[[1]][4]), full.names = T), col.names = c(\"year\", \"gmst\"))\n",
    "\n",
    "        df <- merge(ts, gmst)\n",
    "\n",
    "        cov_2023 <- df[df$year == 2023, \"gmst\", drop = F]\n",
    "        cov_hist <- df[df$year == 2023, \"gmst\", drop = F] - 1.2\n",
    "        cov_fut <- df[df$year == 2023, \"gmst\", drop = F] + 0.8\n",
    "\n",
    "        mdl <- fit_ns(\"norm\", \"fixeddisp\", df, \"pr\", \"gmst\", lower = T)\n",
    "\n",
    "        res <- cmodel_results(mdl, rp = 10, cov_f = cov_2023, cov_hist = cov_hist, cov_fut = cov_fut,\n",
    "                             y_now = 2023, y_start = 1979, y_fut = 2050, nsamp = 500)\n",
    "\n",
    "        write.csv(res, res_fnm)\n",
    "    }\n",
    "}"
   ]
  },
  {
   "cell_type": "code",
   "execution_count": null,
   "id": "5e519e10-8df9-47d9-b639-108c3194b128",
   "metadata": {},
   "outputs": [],
   "source": []
  }
 ],
 "metadata": {
  "kernelspec": {
   "display_name": "R [conda env:r_env]",
   "language": "R",
   "name": "conda-env-r_env-r"
  },
  "language_info": {
   "codemirror_mode": "r",
   "file_extension": ".r",
   "mimetype": "text/x-r-source",
   "name": "R",
   "pygments_lexer": "r",
   "version": "4.2.3"
  }
 },
 "nbformat": 4,
 "nbformat_minor": 5
}
