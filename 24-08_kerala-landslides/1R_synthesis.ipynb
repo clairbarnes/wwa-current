{
 "cells": [
  {
   "cell_type": "markdown",
   "metadata": {},
   "source": [
    "# Synthesis of results for Kerala landslide study"
   ]
  },
  {
   "cell_type": "code",
   "execution_count": 1,
   "metadata": {},
   "outputs": [],
   "source": [
    "suppressMessages(library(\"rwwa\"))"
   ]
  },
  {
   "cell_type": "code",
   "execution_count": 2,
   "metadata": {},
   "outputs": [],
   "source": [
    "# function to fill infinite probability ratios\n",
    "infer_infinite <- function(models_in) {\n",
    "    \n",
    "    # split out the columns for easier reference\n",
    "    est <- est_n <- models_in[,1]\n",
    "    l <- l_n <- models_in[,2]\n",
    "    u <- u_n <- models_in[,3]\n",
    "    \n",
    "    # relabel where infinite best estimate / upper bound occurs\n",
    "    mnames <- rownames(models_in)\n",
    "    mnames <- paste0(mnames, c(\"*\",\"\")[is.finite(est)+1])\n",
    "    mnames <- paste0(mnames, c(\"*\",\"\")[is.finite(u)+1])\n",
    "    \n",
    "    #~~~~~~~~~~~~~~~~~~~~~~~~~~~~~~~~~~~~~~~~~~~~~~~~~~~~~~~~~~~~~~~~~~~~~~~~~~~~~~~~~~~~~~~~~~~\n",
    "    # INFINITE BEST ESTIMATES / UPPER BOUNDS\n",
    "    # get upper bound where best estimate is infinite\n",
    "    u_n[!is.finite(u_n)] <- (exp(log(est) + 3 * (log(est) - log(l))))[!is.finite(u_n)]\n",
    "\n",
    "    # get best estimate, if infinite\n",
    "    if(any(is.finite(u))) {\n",
    "        # if any estimated upper bounds are finite, use the maximum upper bound to infer infinite best estimates\n",
    "        f_upper <- max(u[is.finite(u)])\n",
    "    } else {\n",
    "        # otherwise, use the maximum inferred upper bound to infer infinite best estimates\n",
    "        f_upper <- max(u_n[is.finite(u_n)])\n",
    "    }\n",
    "    est_n[!is.finite(est_n)] <- f_upper\n",
    "\n",
    "    # repeat estimation of upper bound using inferred best estimate\n",
    "    u_n[!is.finite(u_n)] <- (exp(log(est_n) + 3 * (log(est_n) - log(l))))[!is.finite(u_n)]\n",
    "    \n",
    "    #~~~~~~~~~~~~~~~~~~~~~~~~~~~~~~~~~~~~~~~~~~~~~~~~~~~~~~~~~~~~~~~~~~~~~~~~~~~~~~~~~~~~~~~~~~~\n",
    "    # INFINITE LOWER BOUNDS NOT YET IMPLEMENTED\n",
    "\n",
    "    return(data.frame(\"est\" = est_n, \"lower\" = l_n, \"upper\" = u_n, row.names = mnames))   \n",
    "}"
   ]
  },
  {
   "cell_type": "markdown",
   "metadata": {},
   "source": [
    "## Synthesis"
   ]
  },
  {
   "cell_type": "code",
   "execution_count": 3,
   "metadata": {},
   "outputs": [],
   "source": [
    "varnm <- \"rx1day\"\n",
    "st <- \"rel\"\n",
    "\n",
    "obs_in <- read.csv(paste0(\"res-obs_\",varnm,\".csv\"), row.names = \"Dataset\")\n",
    "# obs_in <- obs_in[c(\"IMD (1979-2024)\", \"CPC\"),]\n",
    "obs_in <- obs_in[c(\"IMD (1901-2024)\", \"CPC\"),]\n",
    "\n",
    "models_in <- read.csv(paste0(\"res-models_\",varnm,\"-obsgmst.csv\"), row.names = \"Model\")\n",
    "models_in <- models_in[models_in$include == \"y\",]\n",
    "rownames(models_in) <- gsub(\"rcp85_r1i1p1_\",\"\",rownames(models_in))"
   ]
  },
  {
   "cell_type": "code",
   "execution_count": 4,
   "metadata": {},
   "outputs": [],
   "source": [
    "synth_dI_attr <- synthesis(obs_in[,grepl(\"dI\", colnames(obs_in))],\n",
    "                           models_in[,grepl(\"^di\", colnames(models_in))],\n",
    "                           synth_type = st)\n",
    "\n",
    "synth_dI_proj <- synthesis(obs = NA, models_in[,grepl(\"fdi\", colnames(models_in))], synth_type = st)\n",
    "\n",
    "synth_PR_attr <- synthesis(infer_infinite(obs_in[,grepl(\"pr\", colnames(obs_in))]),\n",
    "                           infer_infinite(models_in[,grepl(\"^pr\", colnames(models_in))]), synth_type = \"PR\")\n",
    "\n",
    "synth_PR_proj <- synthesis(obs = NA, models_in[,grepl(\"fpr\", colnames(models_in))], synth_type = \"PR\")\n",
    "\n",
    "# save everything as .csv for easier plotting in Python\n",
    "for(a in c(\"dI\", \"PR\")) for (b in c(\"attr\", \"proj\")) {\n",
    "    s <- paste0(\"synth_\",a,\"_\",b)\n",
    "    write.csv(get(s)$df, paste0(\"synthesis/\",s,\"_\",varnm,\"-obsgmst-1901.csv\"), row.names = F)\n",
    "}"
   ]
  },
  {
   "cell_type": "markdown",
   "metadata": {},
   "source": [
    "## Synthesis of projected changes excluding HighResMIP"
   ]
  },
  {
   "cell_type": "code",
   "execution_count": 5,
   "metadata": {},
   "outputs": [],
   "source": [
    "# remove HighResMIP models\n",
    "hrmip <- c('FGOALS-f3-L','FGOALS-f3-H','MRI-AGCM3-2-H','MRI-AGCM3-2-S','IPSL-CM6A-ATM-HR')\n",
    "models_in <- models_in[!sapply(rownames(models_in), \"%in%\", hrmip),]"
   ]
  },
  {
   "cell_type": "code",
   "execution_count": 6,
   "metadata": {},
   "outputs": [],
   "source": [
    "synth_dI_proj <- synthesis(obs = NA, models_in[,grepl(\"fdi\", colnames(models_in))], synth_type = st)\n",
    "synth_PR_proj <- synthesis(obs = NA, models_in[,grepl(\"fpr\", colnames(models_in))], synth_type = \"PR\")\n"
   ]
  },
  {
   "cell_type": "code",
   "execution_count": 22,
   "metadata": {},
   "outputs": [],
   "source": [
    "# save everything as .csv for easier plotting in Python\n",
    "for(a in c(\"dI\", \"PR\")) for (b in c(\"proj\")) {\n",
    "    s <- paste0(\"synth_\",a,\"_\",b)\n",
    "    write.csv(get(s)$df, paste0(\"synthesis/\",s,\"_\",varnm,\"-obsgmst-no-highresmip.csv\"), row.names = F)\n",
    "}"
   ]
  },
  {
   "cell_type": "markdown",
   "metadata": {},
   "source": [
    "## Synthesis with IMD 1901-2024"
   ]
  },
  {
   "cell_type": "code",
   "execution_count": 8,
   "metadata": {},
   "outputs": [],
   "source": [
    "varnm <- \"rx1day\"\n",
    "st <- \"rel\"\n",
    "\n",
    "obs_in <- read.csv(paste0(\"res-obs_\",varnm,\".csv\"), row.names = \"Dataset\")\n",
    "obs_in <- obs_in[c(\"IMD (1901-2024)\", \"CPC\"),]\n",
    "\n",
    "models_in <- read.csv(paste0(\"res-models_\",varnm,\"-obsgmst.csv\"), row.names = \"Model\")\n",
    "models_in <- models_in[models_in$include == \"y\",]\n",
    "rownames(models_in) <- gsub(\"rcp85_r1i1p1_\",\"\",rownames(models_in))"
   ]
  },
  {
   "cell_type": "code",
   "execution_count": 9,
   "metadata": {},
   "outputs": [],
   "source": [
    "synth_dI_attr <- synthesis(obs_in[,grepl(\"dI\", colnames(obs_in))],\n",
    "                           models_in[,grepl(\"^di\", colnames(models_in))],\n",
    "                           synth_type = st)\n",
    "\n",
    "synth_PR_attr <- synthesis(infer_infinite(obs_in[,grepl(\"pr\", colnames(obs_in))]),\n",
    "                           infer_infinite(models_in[,grepl(\"^pr\", colnames(models_in))]), synth_type = \"PR\")\n",
    "\n",
    "# save everything as .csv for easier plotting in Python\n",
    "for(a in c(\"dI\", \"PR\")) for (b in c(\"attr\")) {\n",
    "    s <- paste0(\"synth_\",a,\"_\",b)\n",
    "    write.csv(get(s)$df, paste0(\"synthesis/\",s,\"_\",varnm,\"-obsgmst-1901.csv\"), row.names = F)\n",
    "}"
   ]
  },
  {
   "cell_type": "code",
   "execution_count": null,
   "metadata": {},
   "outputs": [],
   "source": []
  }
 ],
 "metadata": {
  "kernelspec": {
   "display_name": "R [conda env:r_env]",
   "language": "R",
   "name": "conda-env-r_env-r"
  },
  "language_info": {
   "codemirror_mode": "r",
   "file_extension": ".r",
   "mimetype": "text/x-r-source",
   "name": "R",
   "pygments_lexer": "r",
   "version": "4.2.2"
  }
 },
 "nbformat": 4,
 "nbformat_minor": 2
}
