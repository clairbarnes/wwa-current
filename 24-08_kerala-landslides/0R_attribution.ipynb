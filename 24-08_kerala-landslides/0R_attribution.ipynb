{
 "cells": [
  {
   "cell_type": "code",
   "execution_count": 1,
   "metadata": {},
   "outputs": [],
   "source": [
    "suppressMessages(library(\"rwwa\"))"
   ]
  },
  {
   "cell_type": "markdown",
   "metadata": {},
   "source": [
    "# Obs attribution"
   ]
  },
  {
   "cell_type": "code",
   "execution_count": 41,
   "metadata": {},
   "outputs": [],
   "source": [
    "nsamp = 1000\n",
    "rp <- 50\n",
    "varnm <- \"1daymax\""
   ]
  },
  {
   "cell_type": "code",
   "execution_count": 42,
   "metadata": {},
   "outputs": [],
   "source": [
    "# use ensemble mean GSAT\n",
    "gmst <- read.table(\"ts/gmst.txt\", col.names = c(\"year\", \"gmst\"))\n",
    "gmst$gmst <- gmst$gmst - gmst$gmst[gmst$year == 2024]"
   ]
  },
  {
   "cell_type": "code",
   "execution_count": 43,
   "metadata": {},
   "outputs": [
    {
     "data": {
      "text/html": [
       "-0.515435281818182"
      ],
      "text/latex": [
       "-0.515435281818182"
      ],
      "text/markdown": [
       "-0.515435281818182"
      ],
      "text/plain": [
       "[1] -0.5154353"
      ]
     },
     "metadata": {},
     "output_type": "display_data"
    }
   ],
   "source": [
    "mean(gmst$gmst[(gmst$year >= 1995) & (gmst$year <= 2005)])"
   ]
  },
  {
   "cell_type": "code",
   "execution_count": 44,
   "metadata": {},
   "outputs": [],
   "source": [
    "# use model's 2024 GMST to define factual climate        \n",
    "cov_now <- gmst[gmst$year == 2024,\"gmst\",drop = F]\n",
    "cov_cf <- rbind(\"pi\" = cov_now - 1.3,\n",
    "                \"1980\" = mean(gmst$gmst[(gmst$year >= 1975) & (gmst$year <= 1985)]),\n",
    "                \"2000\" = mean(gmst$gmst[(gmst$year >= 1995) & (gmst$year <= 2005)]))"
   ]
  },
  {
   "cell_type": "code",
   "execution_count": 47,
   "metadata": {},
   "outputs": [],
   "source": [
    "# now run the attribution\n",
    "fl <- list.files(\"ts\", pattern = varnm, full.names = T)\n",
    "\n",
    "for (fnm in fl) {\n",
    "    \n",
    "    mnm <- substr(fnm,4,6)\n",
    "    res_fnm <- paste0(\"res/res-obs_\",varnm,\"_\",mnm,\".csv\")\n",
    "    \n",
    "    if(!file.exists(res_fnm)) {\n",
    "    \n",
    "        # load data & combine all covariates with time series\n",
    "        df <- merge(load_ts(fnm, col.names = c(\"year\", \"rx1day\")), gmst)\n",
    "        df <- df[df$year >= 1979,]\n",
    "        \n",
    "        # fit the model\n",
    "        mdl <- fit_ns(\"gev\", \"fixeddisp\", df, \"rx1day\", \"gmst\", lower = F)\n",
    "\n",
    "        # bootstrap results\n",
    "        res <- boot_ci(mdl, cov_f = cov_now, cov_cf = cov_cf, nsamp = 1000)\n",
    "        write.csv(res, res_fnm)\n",
    "    }\n",
    "}"
   ]
  },
  {
   "cell_type": "markdown",
   "metadata": {},
   "source": [
    "# HighResMIP attribution"
   ]
  },
  {
   "cell_type": "code",
   "execution_count": 2,
   "metadata": {},
   "outputs": [],
   "source": [
    "nsamp = 1000\n",
    "rp <- 50\n",
    "varnm <- \"rx1day\""
   ]
  },
  {
   "cell_type": "code",
   "execution_count": 3,
   "metadata": {},
   "outputs": [],
   "source": [
    "# use ensemble mean GSAT\n",
    "gmst <- read.table(\"ts/gmst.txt\", col.names = c(\"year\", \"gmst\"))\n",
    "gmst$gmst <- gmst$gmst - gmst$gmst[gmst$year == 2024]"
   ]
  },
  {
   "cell_type": "code",
   "execution_count": 4,
   "metadata": {},
   "outputs": [],
   "source": [
    "# use model's 2024 GMST to define factual climate        \n",
    "cov_now <- gmst[gmst$year == 2024,\"gmst\",drop = F]\n",
    "cov_hist <- cov_now - 1.3\n",
    "cov_fut <- cov_now + 0.7"
   ]
  },
  {
   "cell_type": "code",
   "execution_count": 5,
   "metadata": {},
   "outputs": [],
   "source": [
    "# now run the attribution\n",
    "fl <- list.files(\"ts\", pattern = varnm, full.names = T)\n",
    "\n",
    "for (fnm in fl) {\n",
    "    \n",
    "    mnm <- gsub(\".dat\", \"\", strsplit(fnm, \"_\")[[1]][2])\n",
    "    res_fnm <- paste0(\"res/res-highresmip-obsgmst_\",varnm,\"_\",mnm,\".csv\")\n",
    "    \n",
    "    if(!file.exists(res_fnm)) {\n",
    "    \n",
    "        # load data & combine all covariates with time series\n",
    "        df <- merge(load_ts(fnm, col.names = c(\"year\", varnm)), gmst)\n",
    "        \n",
    "        # fit the model\n",
    "        mdl <- fit_ns(\"gev\", \"fixeddisp\", df, varnm, \"gmst\", lower = F)\n",
    "\n",
    "        # bootstrap results\n",
    "        res <- cbind(cmodel_results(mdl, rp = rp, cov_f = cov_now, cov_hist = cov_hist, cov_fut = cov_fut,\n",
    "                             y_now = 2024, y_start = 1979, y_fut = 2050, nsamp = nsamp), \"n_years\" = nrow(df))\n",
    "        write.csv(res, res_fnm)\n",
    "    }\n",
    "    \n",
    "    # quick return level plots to check fit\n",
    "    rlplot_fnm <- gsub(\"csv\", \"png\", gsub(\"res/\", \"mdl-eval/rlplot_\", res_fnm))\n",
    "    if(!file.exists(rlplot_fnm)) {\n",
    "        png(rlplot_fnm, h = 360, w = 480); par(cex.main = 1.4); {\n",
    "            plot_returnlevels(mdl, cov_f = cov_now, cov_cf = cov_hist, nsamp = 100, main = mnm)\n",
    "        }; dev.off()\n",
    "    }\n",
    "}"
   ]
  },
  {
   "cell_type": "code",
   "execution_count": 16,
   "metadata": {},
   "outputs": [],
   "source": [
    "# compile results\n",
    "res <- t(sapply(list.files(\"res\", pattern = \"highresmip-obsgmst_rx1day\", full.names = T), read.csv, row.names = \"X\"))\n",
    "\n",
    "rownames(res) <- sapply(rownames(res), function(r) gsub(\".csv\",\"\",paste0(strsplit(r, \"_\")[[1]][c(3)], collapse = \"_\")))\n",
    "\n",
    "# colnames(res) <- c(colnames(cmodel_results(mdl, rp = rp, cov_f = cov_now, cov_hist = cov_hist, cov_fut = cov_fut,\n",
    "#                              y_now = 2024, y_start = 1979, y_fut = 2050, nsamp = 1)), \"n_years\")\n",
    "\n",
    "write.csv(res, paste0(\"res-highresmip-obsgmst_\",varnm,\".csv\"))"
   ]
  },
  {
   "cell_type": "code",
   "execution_count": null,
   "metadata": {},
   "outputs": [],
   "source": []
  }
 ],
 "metadata": {
  "kernelspec": {
   "display_name": "R [conda env:r_env]",
   "language": "R",
   "name": "conda-env-r_env-r"
  },
  "language_info": {
   "codemirror_mode": "r",
   "file_extension": ".r",
   "mimetype": "text/x-r-source",
   "name": "R",
   "pygments_lexer": "r",
   "version": "4.2.2"
  }
 },
 "nbformat": 4,
 "nbformat_minor": 2
}
