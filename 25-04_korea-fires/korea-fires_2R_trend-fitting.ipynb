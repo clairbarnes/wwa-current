{
 "cells": [
  {
   "cell_type": "code",
   "execution_count": 10,
   "metadata": {},
   "outputs": [],
   "source": [
    "suppressMessages(library(rwwa))"
   ]
  },
  {
   "cell_type": "markdown",
   "metadata": {},
   "source": [
    "# Check effect of choice of VPD calculation on fitted trend in HDWI"
   ]
  },
  {
   "cell_type": "markdown",
   "metadata": {},
   "source": [
    "## GEV"
   ]
  },
  {
   "cell_type": "code",
   "execution_count": 70,
   "metadata": {},
   "outputs": [],
   "source": [
    "gmst <- read.table(\"ts/gmst.txt\", col.names = c(\"year\", \"gmst\"))\n",
    "\n",
    "cov_2025 <- gmst[gmst$year == 2025,\"gmst\",drop = F]\n",
    "cov_pi <- cov_2025 - 1.3\n",
    "\n",
    "rnm = \"korea\"\n",
    "for(fnm in list.files(\"ts\", pattern = paste0(\"hdwi.+ERA5land_\",rnm), full.names = T)) {\n",
    "    res_fnm <- gsub(\".dat\", \"_gev.csv\", gsub(\"ts/korea-fires\", \"res/res-obs\", fnm))\n",
    "    \n",
    "    if(!file.exists(res_fnm)) {\n",
    "        ts <- load_ts(fnm, col.names = c(\"year\", \"hdwi5x\"))\n",
    "        df <- merge(gmst, ts)\n",
    "        mdl <- fit_ns(\"gev\", \"shift\", data = df, varnm = \"hdwi5x\", covnm = c(\"gmst\"), lower = F)\n",
    "        boot_res <- boot_ci(mdl, cov_f = cov_2025, cov_cf = cov_pi)\n",
    "        write.csv(boot_res, res_fnm)\n",
    "    }\n",
    "}"
   ]
  },
  {
   "cell_type": "markdown",
   "metadata": {},
   "source": [
    "## lognormal"
   ]
  },
  {
   "cell_type": "code",
   "execution_count": 72,
   "metadata": {},
   "outputs": [],
   "source": [
    "gmst <- read.table(\"ts/gmst.txt\", col.names = c(\"year\", \"gmst\"))\n",
    "\n",
    "cov_2025 <- gmst[gmst$year == 2025,\"gmst\",drop = F]\n",
    "cov_pi <- cov_2025 - 1.3\n",
    "\n",
    "rnm = \"korea\"\n",
    "for(fnm in list.files(\"ts\", pattern = paste0(\"hdwi.+ERA5land_\",rnm), full.names = T)) {\n",
    "    res_fnm <- gsub(\".dat\", \"_lnorm.csv\", gsub(\"ts/korea-fires\", \"res/res-obs\", fnm))\n",
    "    \n",
    "    if(!file.exists(res_fnm)) {\n",
    "        ts <- load_ts(fnm, col.names = c(\"year\", \"hdwi5x\"))\n",
    "        ts$hdwi5x <- log(ts$hdwi5x)\n",
    "        df <- merge(gmst, ts)\n",
    "        mdl <- fit_ns(\"norm\", \"shift\", data = df, varnm = \"hdwi5x\", covnm = c(\"gmst\"), lower = F)\n",
    "        boot_res <- boot_ci(mdl, cov_f = cov_2025, cov_cf = cov_pi)\n",
    "        write.csv(boot_res, res_fnm)\n",
    "    }\n",
    "}"
   ]
  },
  {
   "cell_type": "code",
   "execution_count": null,
   "metadata": {},
   "outputs": [],
   "source": [
    "prep_window(c(1,2))\n",
    "\n",
    "plot(density(ts$hdwi5x), ylim = c(0,2))\n",
    "mdl <- strip(fevd(ts$hdwi5x))\n",
    "lines(x <- seq(0,3,0.01), devd(x, loc = mdl[\"location\"], shape = mdl[\"shape\"], scale = mdl[\"scale\"]), col = \"blue\")\n",
    "\n",
    "plot(density(log(ts$hdwi5x)), ylim = c(0,2))\n",
    "lines(x <- seq(-0.5,1.5,0.01), dnorm(x, mean(log(ts$hdwi5x)), sd(log(ts$hdwi5x))), col = \"blue\")"
   ]
  },
  {
   "cell_type": "code",
   "execution_count": null,
   "metadata": {},
   "outputs": [],
   "source": []
  }
 ],
 "metadata": {
  "kernelspec": {
   "display_name": "R [conda env:r_env]",
   "language": "R",
   "name": "conda-env-r_env-r"
  },
  "language_info": {
   "codemirror_mode": "r",
   "file_extension": ".r",
   "mimetype": "text/x-r-source",
   "name": "R",
   "pygments_lexer": "r",
   "version": "4.2.2"
  }
 },
 "nbformat": 4,
 "nbformat_minor": 2
}
