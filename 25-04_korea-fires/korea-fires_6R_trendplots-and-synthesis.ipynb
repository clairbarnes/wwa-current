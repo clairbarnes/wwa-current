{
 "cells": [
  {
   "cell_type": "code",
   "execution_count": 1,
   "metadata": {},
   "outputs": [],
   "source": [
    "suppressMessages(library(rwwa))\n",
    "\n",
    "rnm <- \"kr\"\n",
    "nsamp <- 1000\n",
    "\n",
    "#~~~~~~~~~~~~~~~~~~~~~~~~~~~~~~~~~~~~~~~~~~~~~~~~~~~~~~~~~~~~~~~~~~~~~~~~~~~~~~~~~~~~~~~~~~\n",
    "\n",
    "# specify arguments for all models\n",
    "hdwi_args <- list(dist = \"gev\", type = \"shift\", varnm = \"x\", covnm = c(\"gmst\"), lower = F)\n",
    "pr_args <- list(dist = \"norm\", type = \"shift\", varnm = \"logx\", covnm = c(\"gmst\"), lower = T)\n",
    "tx_args <- list(dist = \"gev\", type = \"shift\", varnm = \"x\", covnm = c(\"gmst\"), lower = F)\n",
    "wind_args <- list(dist = \"gev\", type = \"shift\", varnm = \"x\", covnm = c(\"gmst\"), lower = F)\n",
    "vpd_args <- list(dist = \"gev\", type = \"shift\", varnm = \"x\", covnm = c(\"gmst\"), lower = F)\n",
    "hursmin_args <- list(dist = \"gev\", type = \"shift\", varnm = \"x\", covnm = c(\"gmst\"), lower = T)\n",
    "\n",
    "rp_list <- list(\"hdwi\" = 100, \"tx5x\" = 100, \"pr-fm\" = 5, \"sfcWindmax5x\" = 5)"
   ]
  },
  {
   "cell_type": "markdown",
   "metadata": {},
   "source": [
    "# 3.1 - trends in HDWI"
   ]
  },
  {
   "cell_type": "code",
   "execution_count": 6,
   "metadata": {},
   "outputs": [],
   "source": [
    "varnm <- \"hdwi\"\n",
    "\n",
    "gmst <- read.table(\"ts-kr/gmst.txt\", col.names = c(\"year\", \"gmst\"))\n",
    "gmst$gmst <- gmst$gmst - gmst$gmst[gmst$year == 2025]\n",
    "\n",
    "cov_2025 <- gmst[gmst$year == 2025,\"gmst\",drop = F]\n",
    "cov_pi <- cov_2025 - 1.3\n",
    "\n",
    "ts <- load_ts(\"ts-kr/korea-fires_hdwi5x_ERA5land_kr.dat\", col.names = c(\"year\", \"x\"))\n",
    "df <- merge(gmst, ts)\n",
    "\n",
    "mdl_args <- switch(varnm, \"hdwi\" = hdwi_args, \"pr-fm\" = pr_args, \"tx5x\" = tx_args, \"sfcWindmax5x\" = wind_args)\n",
    "mdl <- do.call(fit_ns, append(mdl_args, list(\"data\" = df)))\n",
    "\n",
    "# # not sure why confidence region for return level plot isn't working, will compute manually\n",
    "x_ci <- c(5, 10, 20, 50, 100, 200, 500, 1000, 2000, 5000, 10000)\n",
    "# cov_f <- cov_2025; cov_cf <- cov_pi\n",
    "# nsamp <- 1000\n",
    "# set.seed(42)\n",
    "# mdl_df <- mdl$data\n",
    "# boot_res <- sapply(1:nsamp, function(i) {\n",
    "#     boot_df <- mdl_df[sample(1:nrow(mdl_df), nrow(mdl_df), replace = T), ]\n",
    "#     z <- tryCatch({\n",
    "#         boot_mdl <- refit(mdl, boot_df)\n",
    "#         c(map_from_u(boot_mdl, 1/x_ci, fixed_cov = cov_f), \n",
    "#           map_from_u(boot_mdl, 1/x_ci, fixed_cov = cov_cf))\n",
    "#     }, error = function(cond) {\n",
    "#         return(rep(NA, length(x_ci) * 2))\n",
    "#     })\n",
    "# })\n",
    "# write.csv(boot_res, \"boostrap-for-rlplot-ci_hdwi5x.csv\", row.names = F)\n",
    "\n",
    "boot_res <- read.csv(\"boostrap-for-rlplot-ci_hdwi5x.csv\")\n",
    "est_ci <- apply(boot_res, 1, quantile, c(0.025, 0.975), na.rm = T)"
   ]
  },
  {
   "cell_type": "code",
   "execution_count": 7,
   "metadata": {},
   "outputs": [
    {
     "data": {
      "text/html": [
       "<strong>png:</strong> 2"
      ],
      "text/latex": [
       "\\textbf{png:} 2"
      ],
      "text/markdown": [
       "**png:** 2"
      ],
      "text/plain": [
       "png \n",
       "  2 "
      ]
     },
     "metadata": {},
     "output_type": "display_data"
    }
   ],
   "source": [
    "png(\"fig/fig2-1_trend-in-hdwi.png\", height = 360, width = 360 * 7/5*2); {\n",
    "    prep_window(c(1,2), mar = c(3,4,3,1), lwd = 2)\n",
    "\n",
    "    plot_trend(mdl, add_loess = T, xlab = \"\", ylab = \"HDWI5x\", main = \"(a) Trend in March HDWI5x as a function of time\")\n",
    "    plot_covtrend(mdl, \"gmst\", add_loess = T, xlab = \"\", ylab = \"HDWI5x\", main = \"(a) Trend in March HDWI5x as a function of GMST\")\n",
    "}; dev.off()"
   ]
  },
  {
   "cell_type": "code",
   "execution_count": 15,
   "metadata": {},
   "outputs": [
    {
     "data": {
      "text/html": [
       "<strong>png:</strong> 2"
      ],
      "text/latex": [
       "\\textbf{png:} 2"
      ],
      "text/markdown": [
       "**png:** 2"
      ],
      "text/plain": [
       "png \n",
       "  2 "
      ]
     },
     "metadata": {},
     "output_type": "display_data"
    }
   ],
   "source": [
    "png(\"fig/fig2-1_trend-in-hdwi_with-RLplot.png\", height = 240, width = 240 * 7/5*3); {\n",
    "    prep_window(c(1,3), mar = c(4,4,3,1), lwd = 2)\n",
    "\n",
    "    plot_trend(mdl, add_loess = T, xlab = \"\", ylab = \"\", main = \"(a) Trend in March HDWI5x as a function of time\")\n",
    "    mtext(\"Year\", line = 2.5, side = 1)\n",
    "    mtext(\"HDWI5x\", line = 2.5, side = 2)\n",
    "    plot_covtrend(mdl, \"gmst\", add_loess = T, xlab = \"GMST anomaly (degC)\", ylab = \"HDWI5x\", main = \"(a) Trend in March HDWI5x as a function of GMST\")\n",
    "    plot_returnlevels(mdl, cov_f = cov_2025, cov_cf = cov_pi, nsamp = NA, ylab = \"HDWI5x\", main = \"(c) Return level curves for fitted model\")\n",
    "    polygon(x = c(x_ci, rev(x_ci)), y = c(est_ci[1, 1:length(x_ci)], \n",
    "        rev(est_ci[2, 1:length(x_ci)])), density = NULL, \n",
    "        border = NA, col = adjustcolor(\"firebrick\", 0.1))\n",
    "    polygon(x = c(x_ci, rev(x_ci)), y = c(est_ci[1, -(1:length(x_ci))], \n",
    "        rev(est_ci[2, -(1:length(x_ci))])), density = NULL, \n",
    "        border = NA, col = adjustcolor(\"blue\", 0.1))\n",
    "}; dev.off()"
   ]
  },
  {
   "cell_type": "markdown",
   "metadata": {},
   "source": [
    "# 3.2 - trends in HDWI components"
   ]
  },
  {
   "cell_type": "code",
   "execution_count": 11,
   "metadata": {},
   "outputs": [],
   "source": [
    "gmst <- read.table(\"ts-kr/gmst.txt\", col.names = c(\"year\", \"gmst\"))\n",
    "gmst$gmst <- gmst$gmst - gmst$gmst[gmst$year == 2025]\n",
    "\n",
    "cov_2025 <- gmst[gmst$year == 2025,\"gmst\",drop = F]\n",
    "cov_pi <- cov_2025 - 1.3\n",
    "\n",
    "hdwi <- load_ts(\"ts-kr/korea-fires_hdwi5x_ERA5land_kr.dat\", col.names = c(\"year\", \"x\"))\n",
    "vpd <- load_ts(\"ts-kr/korea-fires_vpd5x_ERA5land_kr.dat\", col.names = c(\"year\", \"x\"))\n",
    "tasmax <- load_ts(\"ts-kr/korea-fires_tx5x_ERA5land_kr.dat\", col.names = c(\"year\", \"x\"))\n",
    "sfcWindmax1x <- load_ts(\"ts-kr/korea-fires_sfcWindmax1x_ERA5land_kr.dat\", col.names = c(\"year\", \"x\"))\n",
    "sfcWindmax5x <- load_ts(\"ts-kr/korea-fires_sfcWindmax5x_ERA5land_kr.dat\", col.names = c(\"year\", \"x\"))\n",
    "hursmin <- load_ts(\"ts-kr/korea-fires_hursmin5n_ERA5land_kr.dat\", col.names = c(\"year\", \"x\"))"
   ]
  },
  {
   "cell_type": "code",
   "execution_count": 12,
   "metadata": {},
   "outputs": [],
   "source": [
    "# get actual values during HDWI spike\n",
    "df <- read.csv(\"data/hdwi-vars_era5land_kr.csv\")"
   ]
  },
  {
   "cell_type": "code",
   "execution_count": 13,
   "metadata": {},
   "outputs": [],
   "source": [
    "event_values <- as.list(colMeans(df[(df$time >= \"2025-03-22\") & (df$time <= \"2025-03-26\") ,-1]))"
   ]
  },
  {
   "cell_type": "code",
   "execution_count": 14,
   "metadata": {},
   "outputs": [],
   "source": [
    "ev1x <- df[df$time == \"2025-03-25\",]"
   ]
  },
  {
   "cell_type": "code",
   "execution_count": 15,
   "metadata": {},
   "outputs": [],
   "source": [
    "mdl_vpd <- do.call(fit_ns, append(vpd_args, list(\"data\" = merge(gmst, vpd), \"ev\" = event_values$vpdmax, \"ev_year\" = 2025)))\n",
    "mdl_tasmax <- do.call(fit_ns, append(tx_args, list(\"data\" = merge(gmst, tasmax), \"ev\" = event_values$tasmax, \"ev_year\" = 2025)))\n",
    "mdl_wind <- do.call(fit_ns, append(wind_args, list(\"data\" = merge(gmst, sfcWindmax1x))))\n",
    "mdl_wind5x <- do.call(fit_ns, append(wind_args, list(\"data\" = merge(gmst, sfcWindmax5x), \"ev\" = event_values$sfcWindmax, \"ev_year\" = 2025)))\n",
    "mdl_hursmin <- do.call(fit_ns, append(hursmin_args, list(\"data\" = merge(gmst, hursmin), \"ev\" = event_values$hursmin, \"ev_year\" = 2025)))"
   ]
  },
  {
   "cell_type": "code",
   "execution_count": 9,
   "metadata": {},
   "outputs": [
    {
     "data": {
      "text/html": [
       "<strong>png:</strong> 2"
      ],
      "text/latex": [
       "\\textbf{png:} 2"
      ],
      "text/markdown": [
       "**png:** 2"
      ],
      "text/plain": [
       "png \n",
       "  2 "
      ]
     },
     "metadata": {},
     "output_type": "display_data"
    }
   ],
   "source": [
    "res = 200\n",
    "png(\"fig/fig2-2_trends-in-hdwi-components.png\", height = res*2, width = res * 2.5); {\n",
    "    \n",
    "    prep_window(c(2,2), mar = c(3,4,3,1), lwd = 2)\n",
    "\n",
    "    plot_trend(mdl_wind, main = \"(a) sfcWindmax1x\", ylim = c(4,11), ylab = \"\", ev = ev1x$sfcWindmax, ev_year = 2025, add_loess = T, legend_pos = NA)\n",
    "    mtext(\"Maximum daily windspeed (m/s)\", line = 2.5, side = 2)\n",
    "    plot_trend(mdl_vpd, main = \"(b) vpd5x\", ylim = c(0.5,3), ylab = \"\", ev = event_values$vpdmax, ev_year = 2025, add_loess = T, legend_pos = NA)\n",
    "    mtext(\"Vapour-pressure deficit (kPa)\", line = 2.5, side = 2)\n",
    "    plot_trend(mdl_tasmax, main = \"(c) tx5x\", ylim = c(8,22), ylab = \"\", ev = event_values$tasmax, ev_year = 2025, add_loess = T, legend_pos = NA)\n",
    "    mtext(\"Daily maximum temperatures (C)\", line = 2.5, side = 2)\n",
    "    plot_trend(mdl_hursmin, main = \"(d) hursmin5n\", ylim = c(20,50), ylab = \"\", ev = event_values$hursmin, ev_year = 2025, add_loess = T, legend_pos = NA)\n",
    "    mtext(\"Relative humidity (%)\", line = 2.5, side = 2)\n",
    "    \n",
    "}; dev.off()"
   ]
  },
  {
   "cell_type": "code",
   "execution_count": 16,
   "metadata": {},
   "outputs": [
    {
     "data": {
      "text/html": [
       "<strong>png:</strong> 2"
      ],
      "text/latex": [
       "\\textbf{png:} 2"
      ],
      "text/markdown": [
       "**png:** 2"
      ],
      "text/plain": [
       "png \n",
       "  2 "
      ]
     },
     "metadata": {},
     "output_type": "display_data"
    }
   ],
   "source": [
    "res = 200\n",
    "png(\"fig/fig2-3_gmsttrends-in-hdwi-components.png\", height = res*2, width = res * 2.5); {\n",
    "    \n",
    "    prep_window(c(2,2), mar = c(3.5,4,3,1), lwd = 2)\n",
    "\n",
    "    plot_covtrend(mdl_wind, \"gmst\", main = \"(a) sfcWindmax1x\", ylim = c(4,11), ylab = \"\", ev = ev1x$sfcWindmax, ev_x = 0, add_loess = T, legend_pos = NA)\n",
    "    mtext(\"Maximum daily windspeed (m/s)\", line = 2.5, side = 2, cex = 0.8)\n",
    "    plot_covtrend(mdl_vpd, \"gmst\", main = \"(b) vpd5x\", ylim = c(0.5,3), ylab = \"\", ev = event_values$vpdmax, ev_x = 0, add_loess = T, legend_pos = NA)\n",
    "    mtext(\"Vapour-pressure deficit (kPa)\", line = 2.5, side = 2, cex = 0.8)\n",
    "    plot_covtrend(mdl_tasmax, \"gmst\", main = \"(c) tx5x\", ylim = c(8,22), ylab = \"\", ev = event_values$tasmax, ev_x = 0, add_loess = T, legend_pos = NA)\n",
    "    mtext(\"Daily maximum temperatures (C)\", line = 2.5, side = 2, cex = 0.8)\n",
    "    plot_covtrend(mdl_hursmin, \"gmst\", main = \"(d) hursmin5n\", ylim = c(20,50), ylab = \"\", ev = event_values$hursmin, ev_x = 0, add_loess = T, legend_pos = NA)\n",
    "    mtext(\"Relative humidity (%)\", line = 2.5, side = 2, cex = 0.8)\n",
    "    \n",
    "}; dev.off()"
   ]
  },
  {
   "cell_type": "code",
   "execution_count": 14,
   "metadata": {},
   "outputs": [
    {
     "data": {
      "text/html": [
       "<table class=\"dataframe\">\n",
       "<caption>A matrix: 6 × 6 of type dbl</caption>\n",
       "<thead>\n",
       "\t<tr><th></th><th scope=col>hdwi</th><th scope=col>vpd</th><th scope=col>tx</th><th scope=col>wind</th><th scope=col>wind5x</th><th scope=col>hurs</th></tr>\n",
       "</thead>\n",
       "<tbody>\n",
       "\t<tr><th scope=row>hdwi</th><td> 1.0000000</td><td> 0.73786239</td><td> 0.6198040</td><td> 0.25480276</td><td> 0.3296821</td><td>-0.43309758</td></tr>\n",
       "\t<tr><th scope=row>vpd</th><td> 0.7378624</td><td> 1.00000000</td><td> 0.8662305</td><td> 0.09302409</td><td> 0.1780678</td><td>-0.35632525</td></tr>\n",
       "\t<tr><th scope=row>tx</th><td> 0.6198040</td><td> 0.86623048</td><td> 1.0000000</td><td> 0.06221210</td><td> 0.1027548</td><td>-0.16797654</td></tr>\n",
       "\t<tr><th scope=row>wind</th><td> 0.2548028</td><td> 0.09302409</td><td> 0.0622121</td><td> 1.00000000</td><td> 0.6058526</td><td>-0.08033584</td></tr>\n",
       "\t<tr><th scope=row>wind5x</th><td> 0.3296821</td><td> 0.17806783</td><td> 0.1027548</td><td> 0.60585263</td><td> 1.0000000</td><td>-0.34544693</td></tr>\n",
       "\t<tr><th scope=row>hurs</th><td>-0.4330976</td><td>-0.35632525</td><td>-0.1679765</td><td>-0.08033584</td><td>-0.3454469</td><td> 1.00000000</td></tr>\n",
       "</tbody>\n",
       "</table>\n"
      ],
      "text/latex": [
       "A matrix: 6 × 6 of type dbl\n",
       "\\begin{tabular}{r|llllll}\n",
       "  & hdwi & vpd & tx & wind & wind5x & hurs\\\\\n",
       "\\hline\n",
       "\thdwi &  1.0000000 &  0.73786239 &  0.6198040 &  0.25480276 &  0.3296821 & -0.43309758\\\\\n",
       "\tvpd &  0.7378624 &  1.00000000 &  0.8662305 &  0.09302409 &  0.1780678 & -0.35632525\\\\\n",
       "\ttx &  0.6198040 &  0.86623048 &  1.0000000 &  0.06221210 &  0.1027548 & -0.16797654\\\\\n",
       "\twind &  0.2548028 &  0.09302409 &  0.0622121 &  1.00000000 &  0.6058526 & -0.08033584\\\\\n",
       "\twind5x &  0.3296821 &  0.17806783 &  0.1027548 &  0.60585263 &  1.0000000 & -0.34544693\\\\\n",
       "\thurs & -0.4330976 & -0.35632525 & -0.1679765 & -0.08033584 & -0.3454469 &  1.00000000\\\\\n",
       "\\end{tabular}\n"
      ],
      "text/markdown": [
       "\n",
       "A matrix: 6 × 6 of type dbl\n",
       "\n",
       "| <!--/--> | hdwi | vpd | tx | wind | wind5x | hurs |\n",
       "|---|---|---|---|---|---|---|\n",
       "| hdwi |  1.0000000 |  0.73786239 |  0.6198040 |  0.25480276 |  0.3296821 | -0.43309758 |\n",
       "| vpd |  0.7378624 |  1.00000000 |  0.8662305 |  0.09302409 |  0.1780678 | -0.35632525 |\n",
       "| tx |  0.6198040 |  0.86623048 |  1.0000000 |  0.06221210 |  0.1027548 | -0.16797654 |\n",
       "| wind |  0.2548028 |  0.09302409 |  0.0622121 |  1.00000000 |  0.6058526 | -0.08033584 |\n",
       "| wind5x |  0.3296821 |  0.17806783 |  0.1027548 |  0.60585263 |  1.0000000 | -0.34544693 |\n",
       "| hurs | -0.4330976 | -0.35632525 | -0.1679765 | -0.08033584 | -0.3454469 |  1.00000000 |\n",
       "\n"
      ],
      "text/plain": [
       "       hdwi       vpd         tx         wind        wind5x     hurs       \n",
       "hdwi    1.0000000  0.73786239  0.6198040  0.25480276  0.3296821 -0.43309758\n",
       "vpd     0.7378624  1.00000000  0.8662305  0.09302409  0.1780678 -0.35632525\n",
       "tx      0.6198040  0.86623048  1.0000000  0.06221210  0.1027548 -0.16797654\n",
       "wind    0.2548028  0.09302409  0.0622121  1.00000000  0.6058526 -0.08033584\n",
       "wind5x  0.3296821  0.17806783  0.1027548  0.60585263  1.0000000 -0.34544693\n",
       "hurs   -0.4330976 -0.35632525 -0.1679765 -0.08033584 -0.3454469  1.00000000"
      ]
     },
     "metadata": {},
     "output_type": "display_data"
    }
   ],
   "source": [
    "cor(merge(merge(merge(merge(merge(load_ts(\"ts-kr/korea-fires_hdwi5x_ERA5land_kr.dat\", col.names = c(\"year\", \"hdwi\")),\n",
    "      load_ts(\"ts-kr/korea-fires_vpd5x_ERA5land_kr.dat\", col.names = c(\"year\", \"vpd\"))),\n",
    "                        load_ts(\"ts-kr/korea-fires_tx5x_ERA5land_kr.dat\", col.names = c(\"year\", \"tx\"))),\n",
    "                  load_ts(\"ts-kr/korea-fires_sfcWindmax1x_ERA5land_kr.dat\", col.names = c(\"year\", \"wind\"))),\n",
    "            load_ts(\"ts-kr/korea-fires_sfcWindmax5x_ERA5land_kr.dat\", col.names = c(\"year\", \"wind5x\"))),\n",
    "      load_ts(\"ts-kr/korea-fires_hursmin5n_ERA5land_kr.dat\", col.names = c(\"year\", \"hurs\")))[,-1])"
   ]
  },
  {
   "cell_type": "code",
   "execution_count": null,
   "metadata": {},
   "outputs": [],
   "source": [
    "res_wind <- boot_ci(mdl_wind, cov_f = cov_2025, cov_cf = cov_pi)\n",
    "\n",
    "res_vpd <- boot_ci(mdl_vpd, cov_f = cov_2025, cov_cf = cov_pi)\n",
    "res_tasmax <- boot_ci(mdl_tasmax, cov_f = cov_2025, cov_cf = cov_pi)\n",
    "res_hursmin <- boot_ci(mdl_hursmin, cov_f = cov_2025, cov_cf = cov_pi)\n",
    "\n",
    "# compile results\n",
    "obs_res <- t(sapply(list(\"sfcWindmax1x\" = res_wind, \"vpd5x\" = res_vpd, \"tx5x\" = res_tasmax, \"hursmin5n\" = res_hursmin), function(res) {\n",
    "    unlist(lapply(rownames(res), function(cnm) setNames(res[cnm,], paste(gsub(\"_\", \"-\", cnm), c(\"est\", \"lower\", \"upper\"), sep = \"_\"))))\n",
    "}))\n",
    "\n",
    "write.csv(obs_res, \"component-res.csv\")"
   ]
  },
  {
   "cell_type": "markdown",
   "metadata": {},
   "source": [
    "# 3.6 - trends in precip"
   ]
  },
  {
   "cell_type": "code",
   "execution_count": 16,
   "metadata": {},
   "outputs": [],
   "source": [
    "varnm <- \"pr-fm\"\n",
    "\n",
    "gmst <- read.table(\"ts-kr/gmst.txt\", col.names = c(\"year\", \"gmst\"))\n",
    "gmst$gmst <- gmst$gmst - gmst$gmst[gmst$year == 2025]\n",
    "\n",
    "cov_2025 <- gmst[gmst$year == 2025,\"gmst\",drop = F]\n",
    "cov_pi <- cov_2025 - 1.3\n",
    "\n",
    "ts <- load_ts(\"ts-kr/korea-fires_pr-fm_ERA5land_kr.dat\", col.names = c(\"year\", \"x\"))\n",
    "df <- merge(gmst, ts)\n",
    "df$logx = log(df$x)\n",
    "\n",
    "mdl_args <- switch(varnm, \"hdwi\" = hdwi_args, \"pr-fm\" = pr_args, \"tx5x\" = tx_args, \"sfcWindmax5x\" = wind_args)\n",
    "mdl <- do.call(fit_ns, append(mdl_args, list(\"data\" = df)))\n",
    "\n",
    "# not sure why confidence region for return level plot isn't working, will compute manually\n",
    "x_ci <- c(5, 10, 20, 50, 100, 200, 500, 1000, 2000, 5000, 10000)\n",
    "# cov_f <- cov_2025; cov_cf <- cov_pi\n",
    "# nsamp <- 1000\n",
    "# set.seed(42)\n",
    "# mdl_df <- mdl$data\n",
    "# boot_res <- sapply(1:nsamp, function(i) {\n",
    "#     boot_df <- mdl_df[sample(1:nrow(mdl_df), nrow(mdl_df), replace = T), ]\n",
    "#     z <- tryCatch({\n",
    "#         boot_mdl <- refit(mdl, boot_df)\n",
    "#         c(map_from_u(boot_mdl, 1/x_ci, fixed_cov = cov_f), \n",
    "#           map_from_u(boot_mdl, 1/x_ci, fixed_cov = cov_cf))\n",
    "#     }, error = function(cond) {\n",
    "#         return(rep(NA, length(x_ci) * 2))\n",
    "#     })\n",
    "# })\n",
    "# write.csv(boot_res, \"boostrap-for-rlplot-ci_pr-fm.csv\", row.names = F)\n",
    "\n",
    "boot_res <- read.csv(\"boostrap-for-rlplot-ci_pr-fm.csv\")\n",
    "est_ci <- apply(boot_res, 1, quantile, c(0.025, 0.975), na.rm = T)"
   ]
  },
  {
   "cell_type": "code",
   "execution_count": 74,
   "metadata": {},
   "outputs": [
    {
     "data": {
      "text/html": [
       "<strong>png:</strong> 2"
      ],
      "text/latex": [
       "\\textbf{png:} 2"
      ],
      "text/markdown": [
       "**png:** 2"
      ],
      "text/plain": [
       "png \n",
       "  2 "
      ]
     },
     "metadata": {},
     "output_type": "display_data"
    }
   ],
   "source": [
    "png(\"fig/fig3-6_trend-in-logpr_with-RLplot.png\", height = 240, width = 240 * 7/5*3); {\n",
    "    prep_window(c(1,3), mar = c(4,4,3,1), lwd = 2)\n",
    "\n",
    "    plot_trend(mdl, add_loess = T, xlab = \"\", ylab = \"\", main = \"(a) Trend in log(PR-FM) as a function of time\")\n",
    "    mtext(\"Year\", line = 2.5, side = 1)\n",
    "    mtext(\"log(PR-FM)\", line = 2.5, side = 2)\n",
    "    plot_covtrend(mdl, \"gmst\", add_loess = T, xlab = \"GMST anomaly (degC)\", ylab = \"log(PR-FM)\", main = \"(a) Trend in log(PR-FM) as a function of GMST\")\n",
    "    plot_returnlevels(mdl, cov_f = cov_2025, cov_cf = cov_pi, nsamp = NA, ylab = \"log(PR-FM)\", main = \"(c) Return level curves for fitted model\")\n",
    "    polygon(x = c(x_ci, rev(x_ci)), y = c(est_ci[1, 1:length(x_ci)], \n",
    "        rev(est_ci[2, 1:length(x_ci)])), density = NULL, \n",
    "        border = NA, col = adjustcolor(\"firebrick\", 0.1))\n",
    "    polygon(x = c(x_ci, rev(x_ci)), y = c(est_ci[1, -(1:length(x_ci))], \n",
    "        rev(est_ci[2, -(1:length(x_ci))])), density = NULL, \n",
    "        border = NA, col = adjustcolor(\"blue\", 0.1))\n",
    "}; dev.off()"
   ]
  },
  {
   "cell_type": "code",
   "execution_count": 75,
   "metadata": {},
   "outputs": [
    {
     "data": {
      "text/html": [
       "<strong>png:</strong> 2"
      ],
      "text/latex": [
       "\\textbf{png:} 2"
      ],
      "text/markdown": [
       "**png:** 2"
      ],
      "text/plain": [
       "png \n",
       "  2 "
      ]
     },
     "metadata": {},
     "output_type": "display_data"
    }
   ],
   "source": [
    "png(\"fig/fig3-7_trend-in-pr_with-RLplot.png\", height = 240, width = 240 * 7/5*3); {\n",
    "    \n",
    "    x <- mdl$x\n",
    "    ev <- mdl$ev\n",
    "    rp_x <- unique(c(seq(1.1, 2, 0.1), seq(2, 100, 1), seq(100, \n",
    "            1000, 10), seq(100, 1000, 100), seq(1000, 10000, 1000)))\n",
    "    rp_th <- 1/seq(1, 0, length.out = length(x) + 2)[2:(length(x) + \n",
    "        1)]\n",
    "    rl_curve_pres <- map_from_u(mdl, 1/rp_x, fixed_cov = cov_f)\n",
    "    rl_curve_cf <- map_from_u(mdl, 1/rp_x, fixed_cov = cov_cf)\n",
    "    rl_obs_pres <- map_from_u(mdl, map_to_u(mdl), fixed_cov = cov_f)\n",
    "    rl_obs_cf <- map_from_u(mdl, map_to_u(mdl), fixed_cov = cov_cf)\n",
    "    rp_event_pres <- 1/map_to_u(mdl, ev, fixed_cov = cov_f)\n",
    "    rp_event_cf <- 1/map_to_u(mdl, ev, fixed_cov = cov_cf)\n",
    "    \n",
    "    #~~~~~~~~~~~~~~~~~~~~~~~~~~~~~~~~~~~~~~~~~~~~~~~~~~~~~~~~~~~~~~~~~~~~~~~~~~~~~~~~~~~~~~~~~~~~~~~~~~~~~~~~~~~~~~~~~~~~~~~~~~\n",
    "    prep_window(c(1,3), mar = c(4,4,3,1), lwd = 2)\n",
    "    ylim = c(0,250)\n",
    "\n",
    "    plot(df$year, df$x, type = \"S\", col = adjustcolor(\"black\", 0.5), xlab = \"\", ylab = \"\", ylim = ylim, main = \"(a) Trend in PR-FM as a function of time\")\n",
    "    lines(mdl$data$year - 0.5, exp(ns_pars(mdl)$loc), col = adjustcolor(\"black\", 1), lwd = 2)\n",
    "\n",
    "    lines(mdl$data$year - 0.5, exp(eff_return_level(mdl, 6)), type = \"l\", lty = 1, col = adjustcolor(\"blue\", 1), lwd = 2)\n",
    "    lines(mdl$data$year - 0.5, exp(eff_return_level(mdl, 40)), type = \"l\", lty = 1, col = adjustcolor(\"blue\", 1), lwd = 1)\n",
    "\n",
    "    points(2025, df$x[df$year == 2025], col = \"magenta\", lwd = 2, pch = 0)\n",
    "    mtext(\"Year\", line = 2.5, side = 1)\n",
    "    mtext(\"Feb-March rainfall (mm)\", line = 2.5, side = 2)\n",
    "\n",
    "    #~~~~~~~~~~~~~~~~~~~~~~~~~~~~~~~~~~~~~~~~~~~~~~~~~~~~~~~~~~~~~~~~~~~~~~~~~~~~~~~~~~~~~~~~~~~~~~~~~~~~~~~~~~~~~~~~~~~~~~~~~~\n",
    "    plot(df$gmst, df$x, pch = 20, xlab = \"\", ylab = \"\", col = adjustcolor(\"black\", 0.6), ylim = ylim, main = \"(a) Trend in PR-FM as a function of GMST\")\n",
    "    lines(mdl$data$gmst, exp(ns_pars(mdl)$loc), col = adjustcolor(\"black\", 1), lwd = 2)\n",
    "\n",
    "    lines(mdl$data$gmst, exp(eff_return_level(mdl, 6)), type = \"l\", lty = 1, col = adjustcolor(\"blue\", 1), lwd = 2)\n",
    "    lines(mdl$data$gmst, exp(eff_return_level(mdl, 40)), type = \"l\", lty = 1, col = adjustcolor(\"blue\", 1), lwd = 1)\n",
    "\n",
    "    points(0, df$x[df$year == 2025], col = \"magenta\", lwd = 2, pch = 0)\n",
    "    mtext(\"GMST\", line = 2.5, side = 1)\n",
    "    mtext(\"Feb-March rainfall (mm)\", line = 2.5, side = 2)\n",
    "    #~~~~~~~~~~~~~~~~~~~~~~~~~~~~~~~~~~~~~~~~~~~~~~~~~~~~~~~~~~~~~~~~~~~~~~~~~~~~~~~~~~~~~~~~~~~~~~~~~~~~~~~~~~~~~~~~~~~~~~~~~~\n",
    "    plot(0, type = \"n\", log = \"x\", xlab = \"\", ylab = \"\", ylim = ylim, xlim = c(1, 10000), main = \"(c) Return level curves for fitted model\")\n",
    "\n",
    "    lines(rp_x, exp(rl_curve_pres), lwd = 2, col = \"firebrick\", lty = 1)\n",
    "    lines(rp_x, exp(rl_curve_cf), lwd = 2, col = \"blue\", lty = 1)\n",
    "    points(rp_th, exp(sort(rl_obs_pres, decreasing = mdl$lower)), col = \"firebrick\")\n",
    "    points(rp_th, exp(sort(rl_obs_cf, decreasing = mdl$lower)), col = \"blue\")\n",
    "    abline(h = exp(ev), col = \"magenta\", lty = 2)\n",
    "    suppressWarnings(rug(rp_event_pres, lwd = 3, col = \"firebrick\"))\n",
    "    suppressWarnings(rug(rp_event_cf, lwd = 3, col = \"blue\"))\n",
    "\n",
    "    polygon(x = c(x_ci, rev(x_ci)), y = exp(c(est_ci[1, 1:length(x_ci)], rev(est_ci[2, 1:length(x_ci)]))), density = NULL, border = NA, col = adjustcolor(\"firebrick\", 0.1))\n",
    "    polygon(x = c(x_ci, rev(x_ci)), y = exp(c(est_ci[1, -(1:length(x_ci))], rev(est_ci[2, -(1:length(x_ci))]))), density = NULL, border = NA, col = adjustcolor(\"blue\", 0.1))\n",
    "\n",
    "    mtext(\"Return period\", side = 1, line = 2.5, cex = par(\"cex.lab\"))\n",
    "    mtext(\"Feb-March rainfall (mm)\", side = 2, line = 2.5, cex = par(\"cex.lab\"))\n",
    "\n",
    "}; dev.off()"
   ]
  },
  {
   "cell_type": "code",
   "execution_count": 89,
   "metadata": {},
   "outputs": [
    {
     "ename": "ERROR",
     "evalue": "Error in `[.data.frame`(df, substr(df$date, 6, 7) %in% c(\"02\", \"03\")): undefined columns selected\n",
     "output_type": "error",
     "traceback": [
      "Error in `[.data.frame`(df, substr(df$date, 6, 7) %in% c(\"02\", \"03\")): undefined columns selected\nTraceback:\n",
      "1. df[substr(df$date, 6, 7) %in% c(\"02\", \"03\")]",
      "2. `[.data.frame`(df, substr(df$date, 6, 7) %in% c(\"02\", \"03\"))",
      "3. stop(\"undefined columns selected\")"
     ]
    }
   ],
   "source": [
    "df = read.csv(\"data/stations//stn_136_Andong_19730101-20250407.csv\")\n",
    "df[substr(df$date,6,7) %in% c(\"02\",\"03\")]"
   ]
  },
  {
   "cell_type": "code",
   "execution_count": null,
   "metadata": {},
   "outputs": [],
   "source": []
  }
 ],
 "metadata": {
  "kernelspec": {
   "display_name": "R [conda env:r_env]",
   "language": "R",
   "name": "conda-env-r_env-r"
  },
  "language_info": {
   "codemirror_mode": "r",
   "file_extension": ".r",
   "mimetype": "text/x-r-source",
   "name": "R",
   "pygments_lexer": "r",
   "version": "4.2.2"
  }
 },
 "nbformat": 4,
 "nbformat_minor": 2
}
