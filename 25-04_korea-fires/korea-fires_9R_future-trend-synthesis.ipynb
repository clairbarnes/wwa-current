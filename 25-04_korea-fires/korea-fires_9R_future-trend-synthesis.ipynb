{
 "cells": [
  {
   "cell_type": "code",
   "execution_count": 81,
   "metadata": {},
   "outputs": [],
   "source": [
    "suppressMessages(devtools::install_github(\"clairbarnes/rwwa\"))\n",
    "suppressMessages(library(rwwa))\n",
    "\n",
    "varnm <- \"tx5x\"\n",
    "rnm <- \"kr\"\n",
    "nsamp <- 1000\n",
    "\n",
    "#~~~~~~~~~~~~~~~~~~~~~~~~~~~~~~~~~~~~~~~~~~~~~~~~~~~~~~~~~~~~~~~~~~~~~~~~~~~~~~~~~~~~~~~~~~\n",
    "\n",
    "# specify arguments for all models\n",
    "hdwi_args <- list(dist = \"gev\", type = \"shift\", varnm = \"x\", covnm = c(\"gmst\"), lower = F)\n",
    "pr_args <- list(dist = \"norm\", type = \"shift\", varnm = \"logx\", covnm = c(\"gmst\"), lower = T)\n",
    "tx_args <- list(dist = \"gev\", type = \"shift\", varnm = \"x\", covnm = c(\"gmst\"), lower = F)\n",
    "wind_args <- list(dist = \"gev\", type = \"shift\", varnm = \"x\", covnm = c(\"gmst\"), lower = F)\n",
    "hurs_args <- list(dist = \"gev\", type = \"shift\", varnm = \"x\", covnm = c(\"gmst\"), lower = T)\n",
    "vpd_args <- list(dist = \"gev\", type = \"shift\", varnm = \"x\", covnm = c(\"gmst\"), lower = F)\n",
    "\n",
    "mdl_args <- switch(varnm, \"hdwi\" = hdwi_args, \"pr-fm\" = pr_args, \"tx5x\" = tx_args, \"sfcWindmax5x\" = wind_args, \"vpd5x\" = vpd_args)\n",
    "rp <- switch(varnm, \"hdwi\" = 100, \"tx5x\" = 100, \"pr-fm\" = 5, \"sfcWindmax5x\" = 5, \"vpd5x\" = 50)\n",
    "\n",
    "#~~~~~~~~~~~~~~~~~~~~~~~~~~~~~~~~~~~~~~~~~~~~~~~~~~~~~~~~~~~~~~~~~~~~~~~~~~~~~~~~~~~~~~~~~~\n",
    "# function to fill infinite probability ratios\n",
    "infer_infinite <- function(models_in) {\n",
    "    \n",
    "    # split out the columns for easier reference\n",
    "    est <- est_n <- models_in[,1]\n",
    "    l <- l_n <- models_in[,2]\n",
    "    u <- u_n <- models_in[,3]\n",
    "    \n",
    "    # relabel where infinite best estimate / upper bound occurs\n",
    "    mnames <- rownames(models_in)\n",
    "    mnames <- paste0(mnames, c(\"*\",\"\")[is.finite(est)+1])\n",
    "    mnames <- paste0(mnames, c(\"*\",\"\")[is.finite(u)+1])\n",
    "    \n",
    "    #~~~~~~~~~~~~~~~~~~~~~~~~~~~~~~~~~~~~~~~~~~~~~~~~~~~~~~~~~~~~~~~~~~~~~~~~~~~~~~~~~~~~~~~~~~~\n",
    "    # INFINITE BEST ESTIMATES / UPPER BOUNDS\n",
    "    # get upper bound where best estimate is infinite\n",
    "    u_n[!is.finite(u_n)] <- (exp(log(est) + 3 * (log(est) - log(l))))[!is.finite(u_n)]\n",
    "\n",
    "    # get best estimate, if infinite\n",
    "    if(any(is.finite(u))) {\n",
    "        # if any estimated upper bounds are finite, use the maximum upper bound to infer infinite best estimates\n",
    "        f_upper <- max(u[is.finite(u)])\n",
    "    } else {\n",
    "        # otherwise, use the maximum inferred upper bound to infer infinite best estimates\n",
    "        f_upper <- max(u_n[is.finite(u_n)])\n",
    "    }\n",
    "    est_n[!is.finite(est_n)] <- f_upper\n",
    "\n",
    "    # repeat estimation of upper bound using inferred best estimate\n",
    "    u_n[!is.finite(u_n)] <- (exp(log(est_n) + 3 * (log(est_n) - log(l))))[!is.finite(u_n)]\n",
    "    \n",
    "    #~~~~~~~~~~~~~~~~~~~~~~~~~~~~~~~~~~~~~~~~~~~~~~~~~~~~~~~~~~~~~~~~~~~~~~~~~~~~~~~~~~~~~~~~~~~\n",
    "    # INFINITE LOWER BOUNDS NOT YET IMPLEMENTED\n",
    "\n",
    "    return(data.frame(\"est\" = est_n, \"lower\" = l_n, \"upper\" = u_n, row.names = mnames))   \n",
    "}"
   ]
  },
  {
   "cell_type": "markdown",
   "metadata": {},
   "source": [
    "# Trend in obs"
   ]
  },
  {
   "cell_type": "code",
   "execution_count": 16,
   "metadata": {},
   "outputs": [],
   "source": [
    "gmst <- read.table(\"ts-kr/gmst.txt\", col.names = c(\"year\", \"gmst\"))\n",
    "\n",
    "cov_2025 <- gmst[gmst$year == 2025,\"gmst\",drop = F]\n",
    "cov_pi <- cov_2025 - 1.3\n",
    "cov_fut <- cov_2025 + 1.3"
   ]
  },
  {
   "cell_type": "code",
   "execution_count": 17,
   "metadata": {},
   "outputs": [],
   "source": [
    "for(fnm in list.files(\"ts-kr\", pattern = paste0(varnm,\".+ERA5land_\",rnm), full.names = T)) {\n",
    "    if (varnm == \"pr-fm\") {mtype <- \"lnorm\"} else {mtype <- mdl_args$dist}\n",
    "    res_fnm <- gsub(\".dat\", paste0(\"_\",mtype,\".csv\"), gsub(\"ts-kr/korea-fires\", \"res-obs/res-fut\", fnm))\n",
    "    \n",
    "    if(!file.exists(res_fnm)) {\n",
    "        ts <- load_ts(fnm, col.names = c(\"year\", \"x\"))\n",
    "        df <- merge(gmst, ts)\n",
    "        df$logx <- log(df$x)\n",
    "                \n",
    "        # get model parameters for selected model\n",
    "        mdl <- do.call(fit_ns, append(mdl_args, list(\"data\" = df)))\n",
    "        boot_res <- boot_ci(mdl, cov_f = cov_2025, cov_cf = rbind(\"pi\" = cov_pi, \"fut\" = cov_fut))\n",
    "        write.csv(boot_res, res_fnm)\n",
    "    }\n",
    "}"
   ]
  },
  {
   "cell_type": "code",
   "execution_count": 82,
   "metadata": {},
   "outputs": [],
   "source": [
    "# compile results\n",
    "obs_res <- t(sapply(list.files(\"res-obs\", pattern = paste0(\"res-fut_\",varnm,\".+\",rnm,\"_.+\"), full.names = T), function(fnm) {\n",
    "    res <- read.csv(fnm, row.names = \"X\")\n",
    "    unlist(lapply(rownames(res), function(cnm) setNames(res[cnm,], paste(gsub(\"_\", \"-\", cnm), c(\"est\", \"lower\", \"upper\"), sep = \"_\"))))\n",
    "}))\n",
    "\n",
    "# rownames(obs_res) <- sapply(strsplit(rownames(obs_res), \"_\"), \"[\", 2)\n",
    "rownames(obs_res) <- \"ERA5land\"\n",
    "write.csv(obs_res, paste0(\"res-fut_\",varnm,\"_\",rnm,\".csv\"))"
   ]
  },
  {
   "cell_type": "markdown",
   "metadata": {},
   "source": [
    "# Synthesise future changes with models"
   ]
  },
  {
   "cell_type": "code",
   "execution_count": 101,
   "metadata": {},
   "outputs": [],
   "source": [
    "varnm <- \"tx5x\"\n",
    "\n",
    "stype <- switch(varnm, \"tx5x\" = \"abs\", \"rel\")\n",
    "rnm <- \"kr\""
   ]
  },
  {
   "cell_type": "code",
   "execution_count": 102,
   "metadata": {},
   "outputs": [],
   "source": [
    "stitle <- paste0(switch(stype, \"abs\" = \"Change in \", \"rel\" = \"% change in \"), toupper(varnm))\n",
    "\n",
    "dI_xlim <- switch(paste0(varnm,stype), \"hdwiabs\" = c(-4,6), \"hdwirel\" = c(-25,50), \"tx5xabs\" = c(-1,7), \"pr-fmrel\" = c(-50,150), \"pr-fmabs\" = c(-25,80))\n",
    "PR_xlim <- switch(varnm, \"hdwi\" = c(1e-3,1e5), \"tx5x\" = c(0.1,100000))"
   ]
  },
  {
   "cell_type": "code",
   "execution_count": 103,
   "metadata": {},
   "outputs": [],
   "source": [
    "# res_obs <- read.csv(paste0(\"res-rp100_\",varnm,\"_\",rnm,\".csv\"), row.names = \"X\")\n",
    "res_obs <- read.csv(paste0(\"res-fut_\",varnm,\"_\",rnm,\".csv\"), row.names = \"X\")\n",
    "\n",
    "res_models <- read.csv(list.files(pattern = paste0(\"res-models_\",varnm,\".+\",rnm,\".csv\")), row.names = \"X\")\n",
    "res_models <- res_models[res_models[,\"include\"] == \"Y\",]"
   ]
  },
  {
   "cell_type": "code",
   "execution_count": 106,
   "metadata": {},
   "outputs": [],
   "source": [
    "res_princeton <- read.csv(paste0(\"res-princeton_\",varnm,\"_kr.csv\"), row.names = \"X\")\n",
    "\n",
    "am25_dI_attr <- synthesis(obs_in = NA,\n",
    "                          models_in = infer_infinite(res_princeton[grepl(\"AM2\", rownames(res_princeton)), grepl(paste0(\"attr_dI.\",stype), colnames(res_princeton))]),\n",
    "                          synth_type = stype)\n",
    "\n",
    "am25_PR_attr <- synthesis(obs_in = NA,\n",
    "                          models_in = infer_infinite(res_princeton[grepl(\"AM2\", rownames(res_princeton)), grepl(\"attr_PR\", colnames(res_princeton))]),\n",
    "                          synth_type = \"PR\")\n",
    "\n",
    "am25_dI_proj <- synthesis(obs_in = NA,\n",
    "                          models_in = infer_infinite(res_princeton[grepl(\"AM2\", rownames(res_princeton)), grepl(paste0(\"proj_dI.\",stype), colnames(res_princeton))]),\n",
    "                          synth_type = stype)\n",
    "\n",
    "am25_PR_proj <- synthesis(obs_in = NA,\n",
    "                          models_in = infer_infinite(res_princeton[grepl(\"AM2\", rownames(res_princeton)), grepl(\"proj_PR\", colnames(res_princeton))]),\n",
    "                          synth_type = \"PR\")\n",
    "\n",
    "flor_dI_attr <- synthesis(obs_in = NA,\n",
    "                          models_in = infer_infinite(res_princeton[grepl(\"FLOR\", rownames(res_princeton)), grepl(paste0(\"attr_dI.\",stype), colnames(res_princeton))]),\n",
    "                          synth_type = stype)\n",
    "\n",
    "flor_PR_attr <- synthesis(obs_in = NA,\n",
    "                          models_in = infer_infinite(res_princeton[grepl(\"FLOR\", rownames(res_princeton)), grepl(\"attr_PR\", colnames(res_princeton))]),\n",
    "                          synth_type = \"PR\")\n",
    "\n",
    "flor_dI_proj <- synthesis(obs_in = NA,\n",
    "                          models_in = infer_infinite(res_princeton[grepl(\"FLOR\", rownames(res_princeton)), grepl(paste0(\"proj_dI.\",stype), colnames(res_princeton))]),\n",
    "                          synth_type = stype)\n",
    "\n",
    "flor_PR_proj <- synthesis(obs_in = NA,\n",
    "                          models_in = infer_infinite(res_princeton[grepl(\"FLOR\", rownames(res_princeton)), grepl(\"proj_PR\", colnames(res_princeton))]),\n",
    "                          synth_type = \"PR\")\n",
    "\n",
    "res_flor <- data.frame(c(setNames(flor_PR_attr$df[nrow(flor_PR_attr$df),3:5], paste0(\"attr_PR_\",c(\"est\", \"lower\", \"upper\"))),\n",
    "                         setNames(flor_dI_attr$df[nrow(flor_dI_attr$df),3:5], paste0(\"attr_dI.\",stype, \"_\",c(\"est\", \"lower\", \"upper\"))),\n",
    "                         setNames(flor_PR_proj$df[nrow(flor_PR_proj$df),3:5], paste0(\"proj_PR_\",c(\"est\", \"lower\", \"upper\"))),\n",
    "                         setNames(flor_dI_proj$df[nrow(flor_dI_proj$df),3:5], paste0(\"proj_dI.\",stype, \"_\",c(\"est\", \"lower\", \"upper\")))), \n",
    "                       row.names = \"FLOR (10)\")\n",
    "\n",
    "res_am25 <- data.frame(c(setNames(am25_PR_attr$df[nrow(am25_PR_attr$df),3:5], paste0(\"attr_PR_\",c(\"est\", \"lower\", \"upper\"))),\n",
    "                         setNames(am25_dI_attr$df[nrow(am25_dI_attr$df),3:5], paste0(\"attr_dI.\",stype, \"_\",c(\"est\", \"lower\", \"upper\"))),\n",
    "                         setNames(am25_PR_proj$df[nrow(am25_PR_proj$df),3:5], paste0(\"proj_PR_\",c(\"est\", \"lower\", \"upper\"))),\n",
    "                         setNames(am25_dI_proj$df[nrow(am25_dI_proj$df),3:5], paste0(\"proj_dI.\",stype, \"_\",c(\"est\", \"lower\", \"upper\")))), \n",
    "                       row.names = \"AM2.5C360 (3)\")\n",
    "\n",
    "res_allmodels <- rbind(res_models[,colnames(res_flor)], res_flor, res_am25)"
   ]
  },
  {
   "cell_type": "code",
   "execution_count": 107,
   "metadata": {},
   "outputs": [
    {
     "name": "stderr",
     "output_type": "stream",
     "text": [
      "Warning message in max(u_n[is.finite(u_n)]):\n",
      "“no non-missing arguments to max; returning -Inf”\n",
      "Warning message in log(est_n):\n",
      "“NaNs produced”\n",
      "Warning message in log(est_n):\n",
      "“NaNs produced”\n",
      "Warning message in FUN(X[[i]], ...):\n",
      "“NaNs produced”\n",
      "Warning message in max(u_n[is.finite(u_n)]):\n",
      "“no non-missing arguments to max; returning -Inf”\n",
      "Warning message in log(est_n):\n",
      "“NaNs produced”\n",
      "Warning message in log(est_n):\n",
      "“NaNs produced”\n",
      "Warning message in FUN(X[[i]], ...):\n",
      "“NaNs produced”\n"
     ]
    }
   ],
   "source": [
    "synth_dI_attr <- synthesis(obs_in = res_obs[,grepl(paste0(stype, \".pi\"), colnames(res_obs)),drop = F],\n",
    "                           models_in = res_allmodels[,grepl(paste0(\"attr_dI.\",stype), colnames(res_allmodels))],\n",
    "                           synth_type = stype)\n",
    "\n",
    "synth_PR_attr <- synthesis(obs_in = infer_infinite(res_obs[,grepl(\"PR.pi\", colnames(res_obs)),drop = F]),\n",
    "                           models_in = infer_infinite(res_allmodels[,grepl(\"attr_PR\", colnames(res_allmodels))]),\n",
    "                           synth_type = \"PR\")\n",
    "\n",
    "synth_dI_proj <- synthesis(obs_in = res_obs[,grepl(paste0(stype, \".pi\"), colnames(res_obs)),drop = F],\n",
    "                           models_in = res_allmodels[,grepl(paste0(\"proj_dI.\",stype), colnames(res_allmodels))],\n",
    "                           synth_type = stype)\n",
    "\n",
    "synth_PR_proj <- synthesis(obs_in = infer_infinite(res_obs[,grepl(\"PR.pi\", colnames(res_obs)),drop = F]),\n",
    "                           models_in = infer_infinite(res_allmodels[,grepl(\"proj_PR\", colnames(res_allmodels))]),\n",
    "                           synth_type = \"PR\")\n",
    "\n",
    "# rename models with infinite values\n",
    "synth_dI_proj$df$model <- synth_PR_proj$df$model \n",
    "synth_dI_attr$df$model <- synth_PR_attr$df$model"
   ]
  },
  {
   "cell_type": "code",
   "execution_count": 108,
   "metadata": {},
   "outputs": [],
   "source": [
    "write.csv(synth_dI_attr$df, paste0(\"synth/synth-fut_\",varnm,\"_\",rnm,\"_dI-\",stype,\"_attr.csv\"), row.names = F)\n",
    "write.csv(synth_PR_attr$df, paste0(\"synth/synth-fut_\",varnm,\"_\",rnm,\"_PR_attr.csv\"), row.names = F)\n",
    "write.csv(synth_dI_proj$df, paste0(\"synth/synth-fut_\",varnm,\"_\",rnm,\"_dI-\",stype,\"_proj.csv\"), row.names = F)\n",
    "write.csv(synth_PR_proj$df, paste0(\"synth/synth-fut_\",varnm,\"_\",rnm,\"_PR_proj.csv\"), row.names = F)"
   ]
  },
  {
   "cell_type": "code",
   "execution_count": 109,
   "metadata": {},
   "outputs": [
    {
     "data": {
      "text/html": [
       "<strong>png:</strong> 2"
      ],
      "text/latex": [
       "\\textbf{png:} 2"
      ],
      "text/markdown": [
       "**png:** 2"
      ],
      "text/plain": [
       "png \n",
       "  2 "
      ]
     },
     "metadata": {},
     "output_type": "display_data"
    }
   ],
   "source": [
    "png(paste0(\"fig/synth-fut_\",varnm,\"_\",rnm,\"_attr-\",stype,\".png\"), width = 3 * 240); {\n",
    "    prep_window(c(1,2), h = 8, w = 5, oma = c(0,18,0,0), mar = c(3,0.5,2,0.5))\n",
    "\n",
    "    plot_synthesis(synth_dI_attr, main = stitle, xlim = dI_xlim)\n",
    "    plot_synthesis(synth_PR_attr, hide_labels = T, main = \"Change in likelihood\", xlim = PR_xlim)\n",
    "}; dev.off()"
   ]
  },
  {
   "cell_type": "code",
   "execution_count": 110,
   "metadata": {},
   "outputs": [
    {
     "data": {
      "text/html": [
       "<strong>png:</strong> 2"
      ],
      "text/latex": [
       "\\textbf{png:} 2"
      ],
      "text/markdown": [
       "**png:** 2"
      ],
      "text/plain": [
       "png \n",
       "  2 "
      ]
     },
     "metadata": {},
     "output_type": "display_data"
    }
   ],
   "source": [
    "png(paste0(\"fig/synth-fut_\",varnm,\"_\",rnm,\"_proj-\",stype,\".png\"), width = 3 * 240); {\n",
    "    prep_window(c(1,2), h = 8, oma = c(0,18,0,0), mar = c(3,0.5,2,0.5))\n",
    "\n",
    "    plot_synthesis(synth_dI_proj, main = stitle, add_space = F, xlim = dI_xlim)\n",
    "    plot_synthesis(synth_PR_proj, hide_labels = T, main = \"Change in likelihood\", add_space = F, xlim = PR_xlim)\n",
    "}; dev.off()"
   ]
  },
  {
   "cell_type": "code",
   "execution_count": null,
   "metadata": {},
   "outputs": [],
   "source": []
  }
 ],
 "metadata": {
  "kernelspec": {
   "display_name": "R [conda env:r_env]",
   "language": "R",
   "name": "conda-env-r_env-r"
  },
  "language_info": {
   "codemirror_mode": "r",
   "file_extension": ".r",
   "mimetype": "text/x-r-source",
   "name": "R",
   "pygments_lexer": "r",
   "version": "4.2.2"
  }
 },
 "nbformat": 4,
 "nbformat_minor": 2
}
