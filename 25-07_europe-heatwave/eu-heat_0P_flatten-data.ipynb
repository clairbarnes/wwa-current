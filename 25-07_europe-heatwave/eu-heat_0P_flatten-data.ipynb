{
 "cells": [
  {
   "cell_type": "code",
   "execution_count": 17,
   "metadata": {},
   "outputs": [],
   "source": [
    "# import sys; sys.path.append('/rds/general/user/cb2714/home/wwa'); from wwa import *\n",
    "import xarray as xr, regionmask, numpy as np\n",
    "\n",
    "xn,xx,yn,yx = [-15,30,35,60]"
   ]
  },
  {
   "cell_type": "code",
   "execution_count": 18,
   "metadata": {},
   "outputs": [],
   "source": [
    "# load daily data\n",
    "da = xr.open_dataset(\"/rds/general/user/cb2714/home/00_WWA_project_folder/ephemeral/EUR_heat/era5_t2m.nc\").t2m\n",
    "da = da.sel(lon = slice(xn,xx), lat = slice(yx,yn))"
   ]
  },
  {
   "cell_type": "code",
   "execution_count": 19,
   "metadata": {},
   "outputs": [],
   "source": [
    "# mask land only\n",
    "rm = regionmask.defined_regions.natural_earth_v5_0_0.land_10.mask(da.lon, da.lat)\n",
    "da = da.where(rm == 0)\n",
    "\n",
    "# resample to annual\n",
    "da = da.rolling(time = 5).mean().groupby(\"time.season\")[\"JJA\"].resample(time = \"AS\").max()\n",
    "\n",
    "# relabel dates as years\n",
    "da = da.assign_coords(time = da.time.dt.year).rename(time = \"year\")\n",
    "\n",
    "# save the map for easier reconstruction later\n",
    "da.mean(\"year\").to_netcdf(\"map-tmplt_tg5x_era5.nc\")\n",
    "\n",
    "# flatten & convert to data.frame\n",
    "df = da.stack(xy = [\"lat\", \"lon\"]).dropna(\"xy\", \"all\").to_pandas()\n",
    "\n",
    "# save data.frame as .csv (split into chunks if really large)\n",
    "ncols = 2500\n",
    "if df.shape[1] > ncols:\n",
    "    for i in range(int(np.ceil(df.shape[1] / ncols))):\n",
    "        df.iloc[:,slice(i*ncols,(i+1)*ncols)].to_csv(\"flattened/tg5x-flattened_era5_\"+str(i+1).rjust(2,\"0\")+\".csv\")\n",
    "else:\n",
    "    df.to_csv(\"flattened/tg5x-flattened_era5.csv\")"
   ]
  },
  {
   "cell_type": "code",
   "execution_count": null,
   "metadata": {},
   "outputs": [],
   "source": []
  }
 ],
 "metadata": {
  "kernelspec": {
   "display_name": "wwa",
   "language": "python",
   "name": "wwa"
  },
  "language_info": {
   "codemirror_mode": {
    "name": "ipython",
    "version": 3
   },
   "file_extension": ".py",
   "mimetype": "text/x-python",
   "name": "python",
   "nbconvert_exporter": "python",
   "pygments_lexer": "ipython3",
   "version": "3.10.8"
  }
 },
 "nbformat": 4,
 "nbformat_minor": 2
}
