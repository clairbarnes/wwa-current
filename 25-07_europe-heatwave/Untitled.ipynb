{
 "cells": [
  {
   "cell_type": "code",
   "execution_count": 1,
   "metadata": {},
   "outputs": [],
   "source": [
    "suppressMessages(library(\"rwwa\"))"
   ]
  },
  {
   "cell_type": "code",
   "execution_count": 11,
   "metadata": {},
   "outputs": [],
   "source": [
    "gmst <- read.table(\"gmst.txt\", col.names = c(\"year\", \"gmst\"))"
   ]
  },
  {
   "cell_type": "code",
   "execution_count": 28,
   "metadata": {},
   "outputs": [],
   "source": [
    "df <- read.csv(\"tx5x-monthly_era5_cities.csv\")\n",
    "\n",
    "df$year <- as.integer(substr(df$time,1,4))\n",
    "df$month <- as.integer(substr(df$time,6,7))"
   ]
  },
  {
   "cell_type": "code",
   "execution_count": 20,
   "metadata": {},
   "outputs": [],
   "source": [
    "for(cnm in colnames(df)[-1][1]) {\n",
    "    df_c <- merge(gmst, df[,c(\"year\", \"month\", cnm)])\n",
    "    \n",
    "    df_jun <- df_c[df_c$month == 6,]\n",
    "    df_jul <- df_c[df_c$month == 7,]\n",
    "    \n",
    "    mdl_jun <- fit_ns(\"gev\", \"shift\", df_jun, varnm = cnm, covnm = \"gmst\", lower = F)\n",
    "    mdl_jul <- fit_ns(\"gev\", \"shift\", df_jul, varnm = cnm, covnm = \"gmst\", lower = F)\n",
    "    \n",
    "    # bootstrap whole years to get difference in trends\n",
    "    set.seed(42)\n",
    "    boot_res <- sapply(1:5, function(i) {\n",
    "        ysamp <- sample(1:nrow(df_c[df_c$month == 6,]), replace = T)\n",
    "        boot_df <- mdl$data[sample(1:nrow(mdl$data), replace = T), \n",
    "            ]\n",
    "        tryCatch({\n",
    "            boot_mdl <- refit(mdl, new_data = boot_df)\n",
    "            mdl_ests(boot_mdl, cov_f, cov_cf, ev = ev, rp = rp)\n",
    "        }, error = function(cond) {\n",
    "            return(rep(NA, length(obs_res)))\n",
    "        })\n",
    "    })\n",
    "}"
   ]
  },
  {
   "cell_type": "code",
   "execution_count": 31,
   "metadata": {},
   "outputs": [],
   "source": [
    "        ysamp <- sample(1:nrow(df_c[df_c$month == 6,]), replace = T)\n"
   ]
  },
  {
   "cell_type": "code",
   "execution_count": null,
   "metadata": {},
   "outputs": [],
   "source": []
  }
 ],
 "metadata": {
  "kernelspec": {
   "display_name": "R [conda env:r_env]",
   "language": "R",
   "name": "conda-env-r_env-r"
  },
  "language_info": {
   "codemirror_mode": "r",
   "file_extension": ".r",
   "mimetype": "text/x-r-source",
   "name": "R",
   "pygments_lexer": "r",
   "version": "4.2.2"
  }
 },
 "nbformat": 4,
 "nbformat_minor": 2
}
