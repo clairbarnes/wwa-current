{
 "cells": [
  {
   "cell_type": "code",
   "execution_count": 1,
   "metadata": {},
   "outputs": [],
   "source": [
    "suppressMessages(library(\"rwwa\"))"
   ]
  },
  {
   "cell_type": "code",
   "execution_count": 2,
   "metadata": {},
   "outputs": [],
   "source": [
    "gmst <- read.table(\"gmst.txt\", col.names = c(\"year\", \"gmst\"))\n",
    "gmst$gmst <- gmst$gmst - gmst$gmst[gmst$year == 2025]\n",
    "\n",
    "cov_2025 <- gmst[gmst$year == 2025,\"gmst\",drop = F]\n",
    "cov_cf <- rbind(\"pi\" = cov_2025 - 1.3, \"2000\" = cov_2025 - 0.65)"
   ]
  },
  {
   "cell_type": "code",
   "execution_count": 3,
   "metadata": {},
   "outputs": [],
   "source": [
    "df <- read.csv(\"tx5x-monthly_era5_cities.csv\")\n",
    "\n",
    "df$year <- as.integer(substr(df$time,1,4))\n",
    "df$month <- as.integer(substr(df$time,6,7))"
   ]
  },
  {
   "cell_type": "code",
   "execution_count": 4,
   "metadata": {},
   "outputs": [],
   "source": [
    "# m_rates <- rep(c(1,1,1,1,1,3,2,1,1,1,1,1), 76)\n",
    "# gmst_y <- rep(gmst$gmst[(gmst$year >= 1950) & (gmst$year <= 2025)], each = 12)\n",
    "# tmean <- 25 + gmst_y * m_rates\n",
    "\n",
    "# df <- data.frame(year = rep(1950:2025, each = 12),\n",
    "#                  t2m = revd(12*76, loc = tmean),\n",
    "#                  month = rep(1:12, 76))"
   ]
  },
  {
   "cell_type": "code",
   "execution_count": 6,
   "metadata": {},
   "outputs": [],
   "source": [
    "jj_res <- function(m_jun, m_jul) {\n",
    "    res_6 <- mdl_ests(m_jun, cov_f = cov_2025, cov_cf = cov_cf)\n",
    "    res_7 <- mdl_ests(m_jul, cov_f = cov_2025, cov_cf = cov_cf)\n",
    "    c(setNames(res_6, paste0(\"jun_\", names(res_6))), setNames(res_7, paste0(\"jul_\", names(res_7))),\n",
    "      res_6[grepl(\"dI_abs\", names(res_6))] - res_7[grepl(\"dI_abs\", names(res_7))],\n",
    "      res_6[grepl(\"alpha_gmst\", names(res_6))] - res_7[grepl(\"alpha_gmst\", names(res_7))])\n",
    "}"
   ]
  },
  {
   "cell_type": "code",
   "execution_count": 93,
   "metadata": {},
   "outputs": [],
   "source": [
    "for(cnm in  colnames(df)[2:(ncol(df)-2)]) {\n",
    "    \n",
    "    res_fnm <- paste0(\"compare-jun-july-change_tg5x_\",cnm,\"_era5.csv\")\n",
    "    if (file.exists(res_fnm)) next\n",
    "    \n",
    "    df_c <- merge(gmst, df[,c(\"year\", \"month\", cnm)])\n",
    "    \n",
    "    df_jun <- df_c[df_c$month == 6,]\n",
    "    df_jul <- df_c[df_c$month == 7,]\n",
    "    \n",
    "    mdl_jun <- tryCatch(fit_ns(\"gev\", \"shift\", df_jun, varnm = cnm, covnm = \"gmst\", lower = F),\n",
    "                        error = function(cond) {fit_ns(\"gev\", \"shift\", df_jun[df_jun$year < 2025,], varnm = cnm, covnm = \"gmst\", lower = F, ev = df_jun[df_jun$year == 2025,cnm])})\n",
    "    mdl_jul <- fit_ns(\"gev\", \"shift\", df_jul, varnm = cnm, covnm = \"gmst\", lower = F)\n",
    "\n",
    "    obs_res <- jj_res(mdl_jun, mdl_jul)\n",
    "    \n",
    "    write.csv(data.frame(\"year\" = df_jun$year, \n",
    "                         \"june\" = ns_pars(mdl_jun, fixed_cov = df_jun[,\"gmst\",drop = F])$loc,\n",
    "                         \"july\" = ns_pars(mdl_jul, fixed_cov = df_jun[,\"gmst\",drop = F])$loc),\n",
    "                         gsub(\"compare-jun-july-change\", \"fitted-values-jj\", res_fnm), row.names = F)\n",
    "    \n",
    "    # bootstrap whole years to get difference in trends\n",
    "    set.seed(42)\n",
    "    boot_res <- list()\n",
    "    i <- 1\n",
    "    f <- 0\n",
    "    while(length(boot_res) < 1000) {\n",
    "        ysamp <- sample(1:nrow(df_c[df_c$month == 6,]), replace = T)\n",
    "        boot_df_jun <- df_jun[ysamp, ]\n",
    "        boot_df_jul <- df_jul[ysamp, ]\n",
    "        tryCatch({\n",
    "            boot_jun <- refit(mdl_jun, new_data = boot_df_jun)\n",
    "            boot_jul <- refit(mdl_jul, new_data = boot_df_jul)\n",
    "            boot_res[[i]] <- jj_res(boot_jun, boot_jul)\n",
    "            i <- i+1\n",
    "        }, error = function(cond) {\n",
    "            f <- f+1\n",
    "            return(rep(NA, length(obs_res)))\n",
    "        })\n",
    "    }\n",
    "    boot_res <- do.call(\"cbind\",boot_res)\n",
    "    \n",
    "    write.csv(rbind(\"est\" = obs_res, apply(boot_res,1,quantile,c(0.025,0.5,0.975), na.rm = T)), res_fnm)\n",
    "    write.csv(boot_res, gsub(\"compare-\", \"full-bootstrap_\", res_fnm))\n",
    "}"
   ]
  },
  {
   "cell_type": "code",
   "execution_count": 88,
   "metadata": {},
   "outputs": [],
   "source": []
  },
  {
   "cell_type": "code",
   "execution_count": null,
   "metadata": {},
   "outputs": [],
   "source": []
  }
 ],
 "metadata": {
  "kernelspec": {
   "display_name": "R [conda env:r_env]",
   "language": "R",
   "name": "conda-env-r_env-r"
  },
  "language_info": {
   "codemirror_mode": "r",
   "file_extension": ".r",
   "mimetype": "text/x-r-source",
   "name": "R",
   "pygments_lexer": "r",
   "version": "4.2.2"
  }
 },
 "nbformat": 4,
 "nbformat_minor": 4
}
