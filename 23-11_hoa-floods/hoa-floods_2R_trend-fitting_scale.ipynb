{
 "cells": [
  {
   "cell_type": "markdown",
   "id": "68732942-1e03-430a-bae6-0140db3d6941",
   "metadata": {},
   "source": [
    "# **Trend fitting for Horn of Africa flood study**\n",
    "\n",
    "Use scale fit with GMST and IOD as covariates"
   ]
  },
  {
   "cell_type": "code",
   "execution_count": 1,
   "id": "69923ff5-2df8-4155-b11e-0dcbbf59c05b",
   "metadata": {},
   "outputs": [],
   "source": [
    "source(\"../wwa_model-fitting.R\")"
   ]
  },
  {
   "cell_type": "markdown",
   "id": "73348c68-8adc-488c-ba6b-57766c744931",
   "metadata": {
    "tags": []
   },
   "source": [
    "## **Modified code for multiple linear regression**\n"
   ]
  },
  {
   "cell_type": "markdown",
   "id": "f0b582bb-0fa5-4fd7-90b0-d3b3905e0e2d",
   "metadata": {},
   "source": [
    "### **Model fitting**"
   ]
  },
  {
   "cell_type": "code",
   "execution_count": 93,
   "id": "3e26be49-9021-416d-b02d-5ebf0deb342c",
   "metadata": {},
   "outputs": [],
   "source": [
    "ns_loglik <- function(pars, cov, x, dist, fittype) {\n",
    "\n",
    "    effect <- rowSums(pars[grepl(\"alpha\", names(pars))] * cov)\n",
    "    \n",
    "    # compute nonstationary location & scale\n",
    "    if(fittype == \"fixeddisp\") {\n",
    "        const = exp(effect / pars[\"mu0\"])\n",
    "        loc = pars[\"mu0\"] * const\n",
    "        scale = pars[\"sigma0\"] * const\n",
    "    } else if(fittype == \"shift\") {\n",
    "        loc = pars[\"mu0\"] + effect\n",
    "        scale = pars[\"sigma0\"]\n",
    "    } else {\n",
    "        print(paste(fittype, \"not implemented\"))\n",
    "        return()\n",
    "    }\n",
    "\n",
    "    # constrain variance to be strictly positive\n",
    "    if(any(scale <= 0)) return(NA)\n",
    "        \n",
    "    # return negative log-likelihood\n",
    "    if(dist == \"norm\") {\n",
    "        return(-sum(dnorm(x, mean = loc, sd = scale, log = T)))\n",
    "    } else if(dist == \"gev\") {\n",
    "        shape = pars[\"shape\"]\n",
    "        return(-sum(devd(x, loc = loc, scale = scale, shape = shape, log = T)))\n",
    "    } else {\n",
    "        print(paste(dist, \"not implemented\"))\n",
    "        return()\n",
    "    }\n",
    "}"
   ]
  },
  {
   "cell_type": "code",
   "execution_count": 94,
   "id": "8ac235e9-3331-4f9f-9265-b3d056a21f62",
   "metadata": {},
   "outputs": [],
   "source": [
    "fit_ns <- function(dist, type = \"fixeddisp\", data, varnm, covnm, lower = F, mintemps = F, ev = NA, method = \"BFGS\", ...) {\n",
    "    \n",
    "    # currently only works for distributions fully specified by mean & sd: only tested for normal, lognormal\n",
    "    if(! dist %in% c(\"norm\", \"gev\")) {\n",
    "        print(\"Not yet implemented: use norm or gev\")\n",
    "        return()\n",
    "    }\n",
    "    \n",
    "    # add something here to automatically handle no covariates\n",
    "    \n",
    "    # if looking at minimum temperatures (or minima of negative values generally), need to flip data for stable model fitting\n",
    "    x <- data[,varnm]; if(mintemps) x <- -x\n",
    "    cov <- data[, covnm, drop = F]\n",
    "    k <- length(covnm)\n",
    "    \n",
    "    # fit model with appropriate number of parameters, pad if necessary\n",
    "    init <- c(\"mu0\" = mean(x), \"sigma0\" = sd(x), setNames(rep(0,k), paste0(\"alpha_\", covnm)))\n",
    "\n",
    "    if(dist == \"gev\") init <- c(init, \"shape\" = 0)\n",
    "    fitted <- suppressWarnings(optim(par = init, ns_loglik, cov = cov, x = x, dist = dist, fittype = type, method = method))\n",
    "    \n",
    "    # if looking at minimum temperatures (or minima of negative values generally), so trend & location parameters have been flipped. This may cause some confusion so may have to modify later!\n",
    "    if(mintemps) {\n",
    "        fitted[[\"NOTE\"]] <- \"NB: model parameters are estimated for negative values\"\n",
    "        fitted$par[\"mu0\"] <- -fitted$par[\"mu0\"]\n",
    "        fitted$par[grepl(\"alpha\", names(fitted$par))] <- -fitted$par[grepl(\"alpha\", names(fitted$par))]\n",
    "        x <- -x\n",
    "    }\n",
    "            \n",
    "    # attach assorted useful information\n",
    "    fitted[[\"dist\"]] <- dist\n",
    "    fitted[[\"type\"]] <- type\n",
    "    fitted[[\"varnm\"]] <- varnm\n",
    "    fitted[[\"covnm\"]] <- covnm\n",
    "    fitted[[\"data\"]] <- data\n",
    "    fitted[[\"x\"]] <- x\n",
    "    fitted[[\"cov\"]] <- cov\n",
    "    \n",
    "    fitted[[\"lower\"]] <- lower               # saves having to specify every time later on\n",
    "    fitted[[\"mintemps\"]] <- mintemps         # look at maxima of 0-temps, rather than minima of observed temps\n",
    "    \n",
    "    if(is.na(ev)) { ev <- x[length(x)] } # event value: assume that event of interest is most recent, unless told otherwise (used in later plotting functions)\n",
    "    fitted[[\"ev\"]] <- ev\n",
    "\n",
    "    return(fitted)\n",
    "}"
   ]
  },
  {
   "cell_type": "code",
   "execution_count": 95,
   "id": "e0f3c406-9669-45ed-a8dc-559a1781d43e",
   "metadata": {},
   "outputs": [],
   "source": [
    "refit <- function(mdl, new_df) {\n",
    "    fit_ns(dist = mdl$dist, type = mdl$type, data = new_df, varnm = mdl$varnm, covnm = mdl$covnm, lower = mdl$lower, mintemps = mdl$mintemps, ev = mdl$ev)\n",
    "}"
   ]
  },
  {
   "cell_type": "markdown",
   "id": "cea1ded8-0453-4e19-b55e-0ff5c0069c27",
   "metadata": {},
   "source": [
    "### **Parameter estimates**"
   ]
  },
  {
   "cell_type": "code",
   "execution_count": 96,
   "id": "3146ce35-b30d-4b97-bf93-53deb4899ecd",
   "metadata": {},
   "outputs": [],
   "source": [
    "ns_pars <- function(mdl, fixed_cov = NA) {\n",
    "    \n",
    "    # if no covariate value given, evaluate at all covariate values\n",
    "    if(is.na(unlist(fixed_cov)[1])) fixed_cov <- mdl$cov\n",
    "    \n",
    "    # calculate the nonstationary parameter values\n",
    "    pars <- mdl$par\n",
    "    \n",
    "    effect <- rowSums(pars[grepl(\"alpha\", names(pars)), drop = F] * fixed_cov)\n",
    "    \n",
    "    if(mdl$type == \"fixeddisp\") {\n",
    "        \n",
    "        ns_const = exp(effect / pars[\"mu0\"])\n",
    "        loc = pars[\"mu0\"] * ns_const\n",
    "        scale = pars[\"sigma0\"] * ns_const\n",
    "        \n",
    "    } else if(mdl$type == \"shift\") {\n",
    "        loc = pars[\"mu0\"] + effect\n",
    "        scale = rep(pars[\"sigma0\"], length(loc))\n",
    "    } else {\n",
    "        print(paste(mdl$type,\"not implemented\"))\n",
    "        return()\n",
    "    }\n",
    "        \n",
    "    # return the list of named parameters: location, scale, shape (if applicable)\n",
    "    if(\"shape\" %in% names(pars)) {\n",
    "        return(lapply(list(\"loc\" = loc, \"scale\" = scale, \"shape\" = rep(pars[\"shape\"], length(scale))), unname))\n",
    "    } else {\n",
    "        return(lapply(list(\"loc\" = loc, \"scale\" = scale), unname))\n",
    "    }\n",
    "}"
   ]
  },
  {
   "cell_type": "code",
   "execution_count": 97,
   "id": "964aa13e-a5c8-4db4-b1a5-8f520d5a3fb6",
   "metadata": {},
   "outputs": [],
   "source": [
    "mdl_ests <- function(mdl) {\n",
    "        \n",
    "    pars <- mdl$par\n",
    "    event_2023 <- mdl$ev\n",
    "    \n",
    "    cov_2023 = data.frame(\"gmst\" = gmst_2023, \"iod\" = iod_2023)\n",
    "    cov_hist = data.frame(\"gmst\" = gmst_2023 - 1.2, \"iod\" = iod_2023)\n",
    "    cov_neut = data.frame(\"gmst\" = gmst_2023, \"iod\" = 0)\n",
    "    cov_neuthist = data.frame(\"gmst\" = gmst_2023 - 1.2, \"iod\" = 0)\n",
    "\n",
    "    rp_2023 <- return_period(mdl, event_2023, fixed_cov = cov_2023)\n",
    "    rp_hist <- return_period(mdl, event_2023, fixed_cov = cov_hist)\n",
    "    rp_neut <- return_period(mdl, event_2023, fixed_cov = cov_neut)\n",
    "    rp_neuthist <- return_period(mdl, event_2023, fixed_cov = cov_neuthist)\n",
    "\n",
    "    # hacky, but better than nothing - will give correct abs/relative value depending on fit type\n",
    "    if(is.infinite(rp_2023)) rp_2023 <- 100\n",
    "\n",
    "    rl_hist <- eff_return_level(rp_2023, mdl, cov_hist)\n",
    "    rl_neut <- eff_return_level(rp_2023, mdl, cov_neut)\n",
    "    rl_neuthist <- eff_return_level(rp_2023, mdl, cov_neuthist)\n",
    "\n",
    "    pr_hist <- prob_ratio(mdl, event_2023, cov_2023, cov_hist)\n",
    "    pr_neut <- prob_ratio(mdl, event_2023, cov_2023, cov_neut)\n",
    "    pr_neuthist <- prob_ratio(mdl, event_2023, cov_2023, cov_neuthist)\n",
    "\n",
    "    dI_hist <- int_change(mdl, rp_2023, cov_2023, cov_hist, rel = F)\n",
    "    dI_neut <- int_change(mdl, rp_2023, cov_2023, cov_neut, rel = F)\n",
    "    dI_neuthist <- int_change(mdl, rp_2023, cov_2023, cov_neuthist, rel = F)\n",
    "\n",
    "    rdI_hist <- int_change(mdl, rp_2023, cov_2023, cov_hist, rel = T)\n",
    "    rdI_neut <- int_change(mdl, rp_2023, cov_2023, cov_neut, rel = T)\n",
    "    rdI_neuthist <- int_change(mdl, rp_2023, cov_2023, cov_neuthist, rel = T)\n",
    "\n",
    "    lss <- ns_pars(mdl, fixed_cov = cov_2023)\n",
    "    disp <- lss$scale / lss$loc\n",
    "    \n",
    "    rp_unc <- 1/(mean(sapply(df$iod[df$year >= 1980], function(i) {\n",
    "        1/return_period(mdl, x = event_2023, fixed_cov = data.frame(\"gmst\" = gmst_2023, \"iod\" = i))\n",
    "    })))\n",
    "    rp_unc_hist <- 1/(mean(sapply(df$iod[df$year >= 1980], function(i) {\n",
    "        1/return_period(mdl, x = event_2023, fixed_cov = data.frame(\"gmst\" = gmst_2023 - 1.2, \"iod\" = i))\n",
    "    })))\n",
    "    \n",
    "    pr_unc <- rp_unc_hist / rp_unc\n",
    "    \n",
    "    c(pars, sapply(c(\"disp\", \"event_2023\", \"rl_hist\", \"rl_neut\", \"rl_neuthist\", \"dI_hist\", \"dI_neut\", \"dI_neuthist\", \"rdI_hist\", \"rdI_neut\", \n",
    "                     \"rdI_neuthist\", \"rp_2023\", \"rp_hist\", \"rp_neut\", \"rp_neuthist\", \"rp_unc\", \"pr_unc\", \"pr_hist\", \"pr_neut\", \"pr_neuthist\"), \n",
    "                   get, envir = environment()))\n",
    "}"
   ]
  },
  {
   "cell_type": "code",
   "execution_count": 98,
   "id": "9005cd2b-84e5-4f77-9e92-12c36896a914",
   "metadata": {},
   "outputs": [],
   "source": [
    "boot_ci <- function(mdl, nsamp = 1000, seed = 42) {\n",
    "    \n",
    "    set.seed(seed)\n",
    "    mdl_df <- mdl$data\n",
    "    res <- sapply(1:nsamp, function(i) {\n",
    "        # print(i)\n",
    "        lres <- NA\n",
    "        while(is.na(lres[1])) {\n",
    "            boot_df <- mdl_df[sample(1:nrow(mdl_df), replace = T),]\n",
    "            lres <- tryCatch({\n",
    "                boot_mdl <- suppressWarnings(refit(mdl, boot_df))\n",
    "                mdl_ests(boot_mdl)\n",
    "            }, error = function(cond) {return(NA)})\n",
    "        }\n",
    "        lres\n",
    "    })\n",
    "    rbind(\"est\" = mdl_ests(mdl), apply(res, 1, quantile, c(0.025, 0.975), na.rm = T))\n",
    "}"
   ]
  },
  {
   "cell_type": "code",
   "execution_count": 105,
   "id": "feaa5d6d-63ab-4533-bb5b-25ba1afde70b",
   "metadata": {},
   "outputs": [],
   "source": [
    "cmdl_ests <- function(mdl, rp_2023 = 10) {\n",
    "        \n",
    "    pars <- mdl$par\n",
    "    event_2023 <- mdl$ev\n",
    "    \n",
    "    cov_2023 = data.frame(\"gmst\" = gmst_2023, \"iod\" = iod_2023)\n",
    "    cov_hist = data.frame(\"gmst\" = gmst_2023 - 1.2, \"iod\" = iod_2023)\n",
    "    cov_neut = data.frame(\"gmst\" = gmst_2023, \"iod\" = 0)\n",
    "    cov_neuthist = data.frame(\"gmst\" = gmst_2023 - 1.2, \"iod\" = 0)\n",
    "\n",
    "    # rp_2023 <- return_period(mdl, event_2023, fixed_cov = cov_2023)\n",
    "    rp_hist <- return_period(mdl, event_2023, fixed_cov = cov_hist)\n",
    "    rp_neut <- return_period(mdl, event_2023, fixed_cov = cov_neut)\n",
    "    rp_neuthist <- return_period(mdl, event_2023, fixed_cov = cov_neuthist)\n",
    "\n",
    "    # hacky, but better than nothing - will give correct abs/relative value depending on fit type\n",
    "    # if(is.infinite(rp_2023)) rp_2023 <- 100\n",
    "\n",
    "    rl_hist <- eff_return_level(rp_2023, mdl, cov_hist)\n",
    "    rl_neut <- eff_return_level(rp_2023, mdl, cov_neut)\n",
    "    rl_neuthist <- eff_return_level(rp_2023, mdl, cov_neuthist)\n",
    "\n",
    "    pr_hist <- prob_ratio(mdl, event_2023, cov_2023, cov_hist)\n",
    "    pr_neut <- prob_ratio(mdl, event_2023, cov_2023, cov_neut)\n",
    "    pr_neuthist <- prob_ratio(mdl, event_2023, cov_2023, cov_neuthist)\n",
    "\n",
    "    dI_hist <- int_change(mdl, rp_2023, cov_2023, cov_hist, rel = F)\n",
    "    dI_neut <- int_change(mdl, rp_2023, cov_2023, cov_neut, rel = F)\n",
    "    dI_neuthist <- int_change(mdl, rp_2023, cov_2023, cov_neuthist, rel = F)\n",
    "\n",
    "    rdI_hist <- int_change(mdl, rp_2023, cov_2023, cov_hist, rel = T)\n",
    "    rdI_neut <- int_change(mdl, rp_2023, cov_2023, cov_neut, rel = T)\n",
    "    rdI_neuthist <- int_change(mdl, rp_2023, cov_2023, cov_neuthist, rel = T)\n",
    "\n",
    "    lss <- ns_pars(mdl, fixed_cov = cov_2023)\n",
    "    disp <- lss$scale / lss$loc\n",
    "    \n",
    "    rp_unc <- 1/(mean(sapply(df$iod[df$year >= 1980], function(i) {\n",
    "        1/return_period(mdl, x = event_2023, fixed_cov = data.frame(\"gmst\" = gmst_2023, \"iod\" = i))\n",
    "    })))\n",
    "    rp_unc_hist <- 1/(mean(sapply(df$iod[df$year >= 1980], function(i) {\n",
    "        1/return_period(mdl, x = event_2023, fixed_cov = data.frame(\"gmst\" = gmst_2023 - 1.2, \"iod\" = i))\n",
    "    })))\n",
    "    \n",
    "    pr_unc <- rp_unc_hist / rp_unc\n",
    "    \n",
    "    c(pars, sapply(c(\"disp\", \"event_2023\", \"rl_hist\", \"rl_neut\", \"rl_neuthist\", \"dI_hist\", \"dI_neut\", \"dI_neuthist\", \"rdI_hist\", \"rdI_neut\", \n",
    "                     \"rdI_neuthist\", \"rp_2023\", \"rp_hist\", \"rp_neut\", \"rp_neuthist\", \"rp_unc\", \"pr_unc\", \"pr_hist\", \"pr_neut\", \"pr_neuthist\"), \n",
    "                   get, envir = environment()))\n",
    "}"
   ]
  },
  {
   "cell_type": "code",
   "execution_count": 110,
   "id": "d97bbdcd-72c3-41c8-bada-bc6e7e1a3a79",
   "metadata": {},
   "outputs": [],
   "source": [
    "cmdl_boot_ci <- function(mdl, rp = 10, nsamp = 1000, seed = 42) {\n",
    "    \n",
    "    set.seed(seed)\n",
    "    mdl_df <- mdl$data\n",
    "    res <- sapply(1:nsamp, function(i) {\n",
    "        print(i)\n",
    "        lres <- NA\n",
    "        while(is.na(lres[1])) {\n",
    "            boot_df <- mdl_df[sample(1:nrow(mdl_df), replace = T),]\n",
    "            lres <- tryCatch({\n",
    "                boot_mdl <- suppressWarnings(refit(mdl, boot_df))\n",
    "                cmdl_ests(boot_mdl, rp = rp)\n",
    "            }, error = function(cond) {return(NA)})\n",
    "        }\n",
    "        lres\n",
    "    })\n",
    "    rbind(\"est\" = cmdl_ests(mdl, rp = rp), apply(res, 1, quantile, c(0.025, 0.975), na.rm = T))\n",
    "}"
   ]
  },
  {
   "cell_type": "markdown",
   "id": "2ea64844-6063-40a3-832d-94dcd5a26d87",
   "metadata": {},
   "source": [
    "### **Plotting methods**"
   ]
  },
  {
   "cell_type": "code",
   "execution_count": 99,
   "id": "a962fa38-69ef-41b3-81e9-0754ae4d6366",
   "metadata": {},
   "outputs": [],
   "source": [
    "plot_returnlevels <- function(mdl, cov, cov_cf, ev, ylim = NA, pch = 20, ylab = NA, legend_pos = \"topright\", main = \"\", \n",
    "                              xlim = c(1,10000), legend_labels = c(\"Present climate\", \"Counterfactual climate\"), seed = 42, nsamp = 500, ...) {\n",
    "    \n",
    "    x <- mdl$x\n",
    "    if(missing(ev)) { ev <- mdl$ev }\n",
    "    \n",
    "    rp_x <- unique(c(seq(1.1,2,0.1), seq(2,100,1), seq(100,1000,10), seq(100,1000,100), seq(1000,10000,1000)))     # return periods at which to calculate values for curves\n",
    "    rp_th <- 1/seq(1,0,length.out = length(x)+2)[2:(length(x)+1)]                                                  # quantiles to map against observations to check fit\n",
    "\n",
    "    #~~~~~~~~~~~~~~~~~~~~~~~~~~~~~~~~~~~~~~~~~~~~~~~~~~~~~~~~~~~~~~~~~~~~~~~~~~~~~\n",
    "    # calculate return periods & return levels\n",
    "    \n",
    "    rl_curve_pres <- map_from_u(1/rp_x, mdl, fixed_cov = cov)\n",
    "    rl_curve_cf <- map_from_u(1/rp_x, mdl, fixed_cov = cov_cf)\n",
    "\n",
    "    rl_obs_pres <- map_from_u(map_to_u(mdl), mdl, fixed_cov = cov)\n",
    "    rl_obs_cf <- map_from_u(map_to_u(mdl), mdl, fixed_cov = cov_cf)\n",
    "\n",
    "    rp_event_pres <- 1/map_to_u(mdl, ev, fixed_cov = cov)\n",
    "    rp_event_cf <- 1/map_to_u(mdl, ev, fixed_cov = cov_cf)\n",
    "\n",
    "    #~~~~~~~~~~~~~~~~~~~~~~~~~~~~~~~~~~~~~~~~~~~~~~~~~~~~~~~~~~~~~~~~~~~~~~~~~~~~~\n",
    "    # prep axes\n",
    "    \n",
    "    if(is.na(ylim[1])) { ylim <- range(pretty(c(x, rl_curve_pres, rl_curve_cf))) }\n",
    "    if(is.na(ylab)) {ylab <- mdl$varnm}\n",
    "    # if((substr(mdl$varnm,1,3) == \"log\") & (ylim[1] <= 0)) { ylim[1] <- 0.01 }\n",
    "    \n",
    "    # plot\n",
    "    plot(0,type = \"n\", xlim = xlim, ylim = ylim, log = \"x\", xlab = \"\", ylab = \"\", main = main)\n",
    "    mtext(\"Return period (years)\", side = 1, line = 2.5, cex = par(\"cex\"))\n",
    "    mtext(ylab, side = 2, line = 2.5, cex = par(\"cex\"))\n",
    "    \n",
    "    legend(legend_pos, legend = c(legend_labels, \"Observed event\"), col = c(\"firebrick\", \"blue\", \"magenta\"), lty = 1, pch = c(pch,pch,NA), bty = \"n\")\n",
    "\n",
    "    #~~~~~~~~~~~~~~~~~~~~~~~~~~~~~~~~~~~~~~~~~~~~~~~~~~~~~~~~~~~~~~~~~~~~~~~~~~~~~\n",
    "    \n",
    "    # return period curves\n",
    "    lines(rp_x, rl_curve_pres, lwd = 2, col = \"firebrick\", lty = 1)       # present climate\n",
    "    lines(rp_x, rl_curve_cf, lwd = 2, col = \"blue\", lty = 1)              # counterfactual\n",
    "    \n",
    "    # expected return periods vs return levels transformed to stationarity at that covariate value\n",
    "    points(rp_th, sort(rl_obs_pres, decreasing = mdl$lower), col = \"firebrick\", pch = pch)      # present\n",
    "    points(rp_th, sort(rl_obs_cf, decreasing = mdl$lower), col = \"blue\", pch = pch)             # counterfactual\n",
    "    \n",
    "    # horizontal line showing observed event, plus ticks showing return periods\n",
    "    abline(h = ev, col = \"magenta\", lty = 2)\n",
    "    suppressWarnings(rug(rp_event_pres, lwd = 3, col = \"firebrick\"))   # present\n",
    "    suppressWarnings(rug(rp_event_cf, lwd = 3, col = \"blue\"))          # counterfactual\n",
    "    \n",
    "    #~~~~~~~~~~~~~~~~~~~~~~~~~~~~~~~~~~~~~~~~~~~~~~~~~~~~~~~~~~~~~~~~~~~~~~~~~~~~~\n",
    "    # Add confidence intervals to return periods\n",
    "    \n",
    "    if(!is.na(nsamp)) {\n",
    "        x_ci <- c(5,10,20,50,100,200,500,1000,2000,5000,10000)\n",
    "        set.seed(seed)\n",
    "\n",
    "        mdl_df <- mdl$data[,c(mdl$varnm, mdl$covnm)]\n",
    "        boot_res <- sapply(1:nsamp, function(i) {\n",
    "            boot_df <- mdl_df[sample(1:nrow(mdl_df), nrow(mdl_df), replace = T),]\n",
    "            tryCatch({\n",
    "                boot_mdl <- refit(mdl, boot_df)\n",
    "                c(map_from_u(1/x_ci, boot_mdl, fixed_cov = cov), map_from_u(1/x_ci, boot_mdl, fixed_cov = cov_cf))\n",
    "            }, error = function(cond) {return(rep(NA, length(x_ci)*2))})\n",
    "        })\n",
    "        est_ci <- apply(boot_res, 1, quantile, c(0.025, 0.975), na.rm = T)\n",
    "        \n",
    "        # lines bounding confidence intervals\n",
    "        # matplot(x_ci, t(est_ci[,1:length(x_ci)]), type = \"l\", lty = 1, lwd = 2, col = adjustcolor(\"firebrick\", alpha = 0.3), add = T)\n",
    "        # matplot(x_ci, t(est_ci[,-(1:length(x_ci))]), type = \"l\", lty = 1, lwd = 2, col = adjustcolor(\"blue\", alpha = 0.3), add = T)\n",
    "        \n",
    "        # shaded region for confidence intervals\n",
    "        polygon(x = c(x_ci, rev(x_ci)), y = c(est_ci[1,1:length(x_ci)], rev(est_ci[2,1:length(x_ci)])), density = NULL, border = NA, col = adjustcolor(\"firebrick\", alpha = 0.1))\n",
    "        polygon(x = c(x_ci, rev(x_ci)), y = c(est_ci[1,-(1:length(x_ci))], rev(est_ci[2,-(1:length(x_ci))])), density = NULL, border = NA, col = adjustcolor(\"blue\", alpha = 0.1))\n",
    "    }\n",
    "}"
   ]
  },
  {
   "cell_type": "code",
   "execution_count": 100,
   "id": "f69d96fd-d60a-4635-a0c6-cd609b1b4517",
   "metadata": {},
   "outputs": [],
   "source": [
    "plot_trend <- function(mdl, ev, ev_year, ylab = NA, legend_pos = \"topleft\", main = \"\", ylim = NA, ...) {\n",
    "    \n",
    "    if(is.na(ylab)) {ylab <- mdl$varnm}\n",
    "    if(is.na(ylim[1])) { ylim <- range(pretty(mdl$x)) }\n",
    "    if(missing(ev)) { ev <- mdl$ev }\n",
    "    if(missing(ev_year)) { ev_year <- mdl$data$year[which.min(abs(mdl$x - ev))] }\n",
    "    \n",
    "    plot(mdl$data$year, mdl$x, type = \"S\", lwd = 2, col = adjustcolor(\"black\", alpha = 1), xlab = \"Year\", ylab = ylab, main = main, ylim = ylim, ...)\n",
    "    \n",
    "    lines(mdl$data$year-0.5, ns_pars(mdl)$loc, col = adjustcolor(\"black\", alpha = 0.5), lwd = 2)\n",
    "    matplot(mdl$data$year-0.5, eff_return_level(c(6,40), mdl), type = \"l\", lty = 1, add = T, col = adjustcolor(\"blue\", alpha = 0.5), lwd = c(2,1))\n",
    "    \n",
    "    points(ev_year-0.5, ev, col = \"magenta\", lwd = 2, pch = 0)\n",
    "    \n",
    "    # add legend\n",
    "    legend(legend_pos, legend = c(\"location\", \"1-in-6-year event\", \"1-in-40-year event\"), lty = 1, col = c(\"black\", \"blue\", \"blue\"), lwd = c(2,2,1))\n",
    "}"
   ]
  },
  {
   "cell_type": "code",
   "execution_count": 101,
   "id": "2bd583e4-8ac3-4f4d-be98-a907623a8e05",
   "metadata": {},
   "outputs": [],
   "source": [
    "plot_covtrend <- function(mdl, xcov, cov, cov_cf, fixed_cov = NA, ev, ylim = NA, xlab = NA, ylab = NA, \n",
    "                          legend_pos = \"topleft\", main = \"\", seed = 42, nsamp = 1000) {\n",
    "\n",
    "    if(is.na(xlab)) { xlab <- toupper(xcov)}\n",
    "    if(is.na(ylab)) { ylab <- mdl$varnm}\n",
    "    if(is.na(ylim[1])) { ylim <- range(pretty(mdl$x)) }\n",
    "    if(missing(ev)) ev <- mdl$ev\n",
    "    \n",
    "    x <- mdl$cov[,xcov]\n",
    "    o <- order(x)\n",
    "    \n",
    "    plot(x, mdl$x, pch = 20, main = main, xlab = \"\", ylab = \"\", ylim = ylim, xlim = range(c(x, cov[xcov], cov_cf[xcov])))\n",
    "    mtext(xlab, side = 1, line = 2.5, cex = par(\"cex\"))\n",
    "    mtext(ylab, side = 2, line = 2.5, cex = par(\"cex\"))\n",
    "    \n",
    "    points(cov[,xcov], ev, col = \"magenta\", lwd = 2, pch = 0)\n",
    "    \n",
    "    # trend lines\n",
    "    lines(x[o], ns_pars(mdl, fixed_cov = fixed_cov)$loc[o], lwd = 3, col = \"black\", lty = 1)\n",
    "    lines(x[o], eff_return_level(6, mdl, fixed_cov = fixed_cov)[o], col = \"blue\", lwd = 2, lty = 1)\n",
    "    lines(x[o], eff_return_level(40, mdl, fixed_cov = fixed_cov)[o], col = \"blue\", lwd = 1, lty = 1)\n",
    "    \n",
    "    # # get confidence interval for mu'\n",
    "    # mdl_df <- mdl$data\n",
    "    # set.seed(seed)\n",
    "    # mu_ci <- apply(sapply(1:nsamp, function(i) {\n",
    "    #     boot_df <- mdl_df[sample(1:nrow(mdl_df), nrow(mdl_df), replace = T),]\n",
    "    #     tryCatch({\n",
    "    #         boot_mdl <- refit(mdl, boot_df)\n",
    "    #         c(\"mu_ev\" = ns_pars(boot_mdl, fixed_cov = cov)$loc,\n",
    "    #           \"mu_cf\" = ns_pars(boot_mdl, fixed_cov = cov_cf)$loc)\n",
    "    #     }, error = function(cond) {return(rep(NA, 2))})\n",
    "    # }), 1, quantile, c(0.025, 0.975), na.rm = T)\n",
    "    \n",
    "    # confidence interval & markers for mu' at factual & counterfactual covariates\n",
    "    # lines(rep(cov[,xcov], 3), c(ns_pars(mdl, fixed_cov = cov)$loc, mu_ci[,\"mu_ev\"]), col = \"black\", lwd = 2, type = \"o\", pch = \"_\")\n",
    "    # lines(rep(cov_cf[,xcov], 3), c(ns_pars(mdl, fixed_cov = cov_cf)$loc, mu_ci[,\"mu_cf\"]), col = \"black\", lwd = 2, type = \"o\", pch = \"_\")\n",
    "    \n",
    "    # add legend\n",
    "    legend(legend_pos, legend = c(\"location\", \"1-in-6-year event\", \"1-in-40-year event\"), lty = 1, col = c(\"black\", \"blue\", \"blue\"), lwd = c(2,2,1))\n",
    "}"
   ]
  },
  {
   "cell_type": "markdown",
   "id": "662d095d-dcaa-49f1-bc4e-818613d34319",
   "metadata": {},
   "source": [
    "---\n",
    "# **Scale fit**"
   ]
  },
  {
   "cell_type": "markdown",
   "id": "d49e5e0e-e70f-461b-bb90-80c980666d52",
   "metadata": {},
   "source": [
    "## **Observations**"
   ]
  },
  {
   "cell_type": "code",
   "execution_count": 2,
   "id": "cb2939f8-5ac3-4b24-8f39-329d3c44e468",
   "metadata": {},
   "outputs": [],
   "source": [
    "cov_lag <- \"SON\"\n",
    "\n",
    "gmst <- load_ts(\"ts/gmst.dat\", col.names = c(\"year\", \"gmst\"))\n",
    "iod <- load_ts(paste0(\"ts/iod_\", toupper(cov_lag), \".dat\"), col.names = c(\"year\", \"iod\"))\n",
    "nino <- load_ts(paste0(\"ts/nino3.4-detrended_\", toupper(cov_lag), \".dat\"), col.names = c(\"year\", \"nino34\"))\n",
    "\n",
    "gmst_2023 <- gmst$gmst[gmst$year == 2023]\n",
    "iod_2023 <- iod$iod[iod$year == 2023]"
   ]
  },
  {
   "cell_type": "markdown",
   "id": "4e3fcdd1-85a2-4f1d-8841-28df92e95f8a",
   "metadata": {},
   "source": [
    "\n",
    "### **Properties of IOD for validation**"
   ]
  },
  {
   "cell_type": "code",
   "execution_count": 12,
   "id": "89073eed-5b55-401f-a3e8-0080d3dbd46a",
   "metadata": {},
   "outputs": [
    {
     "data": {
      "text/html": [
       "<table class=\"dataframe\">\n",
       "<caption>A matrix: 2 × 3 of type dbl</caption>\n",
       "<thead>\n",
       "\t<tr><th></th><th scope=col>est</th><th scope=col>5%</th><th scope=col>95%</th></tr>\n",
       "</thead>\n",
       "<tbody>\n",
       "\t<tr><th scope=row>mean</th><td>0.002921575</td><td>-0.06370119</td><td>0.0669238</td></tr>\n",
       "\t<tr><th scope=row>sd</th><td>0.512850929</td><td> 0.44919538</td><td>0.5754951</td></tr>\n",
       "</tbody>\n",
       "</table>\n"
      ],
      "text/latex": [
       "A matrix: 2 × 3 of type dbl\n",
       "\\begin{tabular}{r|lll}\n",
       "  & est & 5\\% & 95\\%\\\\\n",
       "\\hline\n",
       "\tmean & 0.002921575 & -0.06370119 & 0.0669238\\\\\n",
       "\tsd & 0.512850929 &  0.44919538 & 0.5754951\\\\\n",
       "\\end{tabular}\n"
      ],
      "text/markdown": [
       "\n",
       "A matrix: 2 × 3 of type dbl\n",
       "\n",
       "| <!--/--> | est | 5% | 95% |\n",
       "|---|---|---|---|\n",
       "| mean | 0.002921575 | -0.06370119 | 0.0669238 |\n",
       "| sd | 0.512850929 |  0.44919538 | 0.5754951 |\n",
       "\n"
      ],
      "text/plain": [
       "     est         5%          95%      \n",
       "mean 0.002921575 -0.06370119 0.0669238\n",
       "sd   0.512850929  0.44919538 0.5754951"
      ]
     },
     "metadata": {},
     "output_type": "display_data"
    }
   ],
   "source": [
    "iod_ts <- iod$iod\n",
    "\n",
    "set.seed(42)\n",
    "iod_ci <- sapply(1:1000, function(i) {\n",
    "    iod_boot <- sample(iod_ts, replace = T)\n",
    "    c(\"mean\" = mean(iod_boot), \"sd\" = sd(iod_boot))\n",
    "})\n",
    "t(rbind(\"est\" = c(\"mean\" = mean(iod_ts), \"sd\" = sd(iod_ts)), apply(iod_ci, 1, quantile, c(0.05, 0.95))))"
   ]
  },
  {
   "cell_type": "markdown",
   "id": "ab45fae9-c2ec-4185-846b-5ba75e078780",
   "metadata": {
    "tags": []
   },
   "source": [
    "### **Fitted model**"
   ]
  },
  {
   "cell_type": "code",
   "execution_count": 9,
   "id": "3c6f635c-4f77-4a1d-9155-ebc34aef7c2e",
   "metadata": {},
   "outputs": [],
   "source": [
    "# hangs if run within sapply loop so will set datasets & variables separately\n",
    "dataset <- \"tamsat\"; varnm <- \"rx30day\"\n",
    "             \n",
    "ts <- merge(load_ts(paste0(\"ts/HoA-flooding_\", dataset, \"_OND_rx3day.dat\"), col.names = c(\"year\", \"rx3day\")),\n",
    "            load_ts(paste0(\"ts/HoA-flooding_\", dataset, \"_OND_30day_mean.dat\"), col.names = c(\"year\", \"rx30day\")))\n",
    "\n",
    "df <- merge(merge(merge(gmst, iod), nino), ts)\n",
    "\n",
    "# mdl_fd <- fit_ns(\"gev\", \"fixeddisp\", df, varnm, c(\"gmst\", \"iod\"))\n",
    "# res <- boot_ci(mdl_fd)\n",
    "\n",
    "# write.csv(res, paste0(\"res/res-obs_scale-fit_\", varnm, \"_\", dataset, \"_\", cov_lag, \".csv\"))"
   ]
  },
  {
   "cell_type": "code",
   "execution_count": 10,
   "id": "0a97bf63-1e2e-4c0d-82e6-0eadd891396e",
   "metadata": {},
   "outputs": [
    {
     "data": {
      "text/html": [
       "<table class=\"dataframe\">\n",
       "<caption>A matrix: 6 × 6 of type dbl</caption>\n",
       "<thead>\n",
       "\t<tr><th></th><th scope=col>year</th><th scope=col>gmst</th><th scope=col>iod</th><th scope=col>nino34</th><th scope=col>rx3day</th><th scope=col>rx30day</th></tr>\n",
       "</thead>\n",
       "<tbody>\n",
       "\t<tr><th scope=row>year</th><td> 1.00000000</td><td> 0.98079427</td><td>0.2038910</td><td>-0.09556189</td><td>0.2947493</td><td>0.3599578</td></tr>\n",
       "\t<tr><th scope=row>gmst</th><td> 0.98079427</td><td> 1.00000000</td><td>0.2117309</td><td>-0.08855255</td><td>0.2933323</td><td>0.3470168</td></tr>\n",
       "\t<tr><th scope=row>iod</th><td> 0.20389100</td><td> 0.21173093</td><td>1.0000000</td><td> 0.62038285</td><td>0.6539866</td><td>0.7665630</td></tr>\n",
       "\t<tr><th scope=row>nino34</th><td>-0.09556189</td><td>-0.08855255</td><td>0.6203828</td><td> 1.00000000</td><td>0.3408072</td><td>0.4306047</td></tr>\n",
       "\t<tr><th scope=row>rx3day</th><td> 0.29474932</td><td> 0.29333231</td><td>0.6539866</td><td> 0.34080719</td><td>1.0000000</td><td>0.8771311</td></tr>\n",
       "\t<tr><th scope=row>rx30day</th><td> 0.35995782</td><td> 0.34701682</td><td>0.7665630</td><td> 0.43060469</td><td>0.8771311</td><td>1.0000000</td></tr>\n",
       "</tbody>\n",
       "</table>\n"
      ],
      "text/latex": [
       "A matrix: 6 × 6 of type dbl\n",
       "\\begin{tabular}{r|llllll}\n",
       "  & year & gmst & iod & nino34 & rx3day & rx30day\\\\\n",
       "\\hline\n",
       "\tyear &  1.00000000 &  0.98079427 & 0.2038910 & -0.09556189 & 0.2947493 & 0.3599578\\\\\n",
       "\tgmst &  0.98079427 &  1.00000000 & 0.2117309 & -0.08855255 & 0.2933323 & 0.3470168\\\\\n",
       "\tiod &  0.20389100 &  0.21173093 & 1.0000000 &  0.62038285 & 0.6539866 & 0.7665630\\\\\n",
       "\tnino34 & -0.09556189 & -0.08855255 & 0.6203828 &  1.00000000 & 0.3408072 & 0.4306047\\\\\n",
       "\trx3day &  0.29474932 &  0.29333231 & 0.6539866 &  0.34080719 & 1.0000000 & 0.8771311\\\\\n",
       "\trx30day &  0.35995782 &  0.34701682 & 0.7665630 &  0.43060469 & 0.8771311 & 1.0000000\\\\\n",
       "\\end{tabular}\n"
      ],
      "text/markdown": [
       "\n",
       "A matrix: 6 × 6 of type dbl\n",
       "\n",
       "| <!--/--> | year | gmst | iod | nino34 | rx3day | rx30day |\n",
       "|---|---|---|---|---|---|---|\n",
       "| year |  1.00000000 |  0.98079427 | 0.2038910 | -0.09556189 | 0.2947493 | 0.3599578 |\n",
       "| gmst |  0.98079427 |  1.00000000 | 0.2117309 | -0.08855255 | 0.2933323 | 0.3470168 |\n",
       "| iod |  0.20389100 |  0.21173093 | 1.0000000 |  0.62038285 | 0.6539866 | 0.7665630 |\n",
       "| nino34 | -0.09556189 | -0.08855255 | 0.6203828 |  1.00000000 | 0.3408072 | 0.4306047 |\n",
       "| rx3day |  0.29474932 |  0.29333231 | 0.6539866 |  0.34080719 | 1.0000000 | 0.8771311 |\n",
       "| rx30day |  0.35995782 |  0.34701682 | 0.7665630 |  0.43060469 | 0.8771311 | 1.0000000 |\n",
       "\n"
      ],
      "text/plain": [
       "        year        gmst        iod       nino34      rx3day    rx30day  \n",
       "year     1.00000000  0.98079427 0.2038910 -0.09556189 0.2947493 0.3599578\n",
       "gmst     0.98079427  1.00000000 0.2117309 -0.08855255 0.2933323 0.3470168\n",
       "iod      0.20389100  0.21173093 1.0000000  0.62038285 0.6539866 0.7665630\n",
       "nino34  -0.09556189 -0.08855255 0.6203828  1.00000000 0.3408072 0.4306047\n",
       "rx3day   0.29474932  0.29333231 0.6539866  0.34080719 1.0000000 0.8771311\n",
       "rx30day  0.35995782  0.34701682 0.7665630  0.43060469 0.8771311 1.0000000"
      ]
     },
     "metadata": {},
     "output_type": "display_data"
    }
   ],
   "source": [
    "cor(df)"
   ]
  },
  {
   "cell_type": "code",
   "execution_count": 13,
   "id": "c8db6c25-9e79-439b-b013-9376d96ddf78",
   "metadata": {},
   "outputs": [],
   "source": [
    "# compile results into a single file\n",
    "incl <- c(\"disp\", \"shape\", \"event_2023\", \"rp_2023\", \"rp_unc\", \"pr_hist\", \"pr_neut\", \"dI_hist\", \"dI_neut\", \"rdI_hist\", \"rdI_neut\")\n",
    "res_compiled <- t(sapply(list.files(\"res\", pattern = \"res-obs_scale-fit_\", full.names = T), function(fnm) setNames(unlist(c(read.csv(fnm)[,incl])), paste0(rep(incl, each = 3), c(\"_est\", \"_lower\", \"_upper\")))))\n",
    "rownames(res_compiled) <- sapply(rownames(res_compiled), function(s) paste0(strsplit(s, \"_\")[[1]][3:4], collapse = \"_\"))\n",
    "write.csv(res_compiled, \"res/res-obs_scale-fit.csv\")"
   ]
  },
  {
   "cell_type": "markdown",
   "id": "afa09420-af4e-418a-8c65-fcb30ecd8df7",
   "metadata": {},
   "source": [
    "### **Plots of fitted models**"
   ]
  },
  {
   "cell_type": "code",
   "execution_count": 14,
   "id": "ac214214-8a86-46b5-bb46-354c40e1fa0e",
   "metadata": {},
   "outputs": [],
   "source": [
    "df_mswep <- merge(merge(merge(gmst, iod), nino), load_ts(paste0(\"ts/HoA-flooding_mswep_OND_rx3day.dat\"), col.names = c(\"year\", \"rx3day\")))\n",
    "df_tamsat <- merge(merge(merge(gmst, iod), nino), load_ts(paste0(\"ts/HoA-flooding_tamsat_OND_rx3day.dat\"), col.names = c(\"year\", \"rx3day\")))\n",
    "\n",
    "mdl_mswep <- fit_ns(\"gev\", \"fixeddisp\", df_mswep, \"rx3day\", c(\"gmst\", \"iod\"))\n",
    "mdl_tamsat <- fit_ns(\"gev\", \"fixeddisp\", df_tamsat, \"rx3day\", c(\"gmst\", \"iod\"))\n",
    "\n",
    "gmst_2023 <- df_mswep$gmst[df_mswep$year == 2023]\n",
    "iod_2023 <- df_mswep$iod[df_mswep$year == 2023]\n",
    "iod_clim <- mean(df_mswep$iod[(df_mswep$year >= 1990) & (df_mswep$year <= 2020)])\n",
    "gmst_clim <- mean(df_mswep$gmst[(df_mswep$year >= 1990) & (df_mswep$year <= 2020)])\n",
    "\n",
    "yl <- c(0,120)"
   ]
  },
  {
   "cell_type": "code",
   "execution_count": 15,
   "id": "e03a6314-e498-4589-8ccd-d71c881ee5da",
   "metadata": {},
   "outputs": [
    {
     "data": {
      "text/html": [
       "<strong>png:</strong> 2"
      ],
      "text/latex": [
       "\\textbf{png:} 2"
      ],
      "text/markdown": [
       "**png:** 2"
      ],
      "text/plain": [
       "png \n",
       "  2 "
      ]
     },
     "metadata": {},
     "output_type": "display_data"
    }
   ],
   "source": [
    "prep_window(c(1,3)); par(mfrow = c(1,2))\n",
    "\n",
    "png(\"fig/rx3day_trend-vs-time.png\", height = 480, width = 480 * 3); par(mfrow = c(1,2), cex = 1.4); {\n",
    "    plot_trend(mdl_mswep, main = \"MSWEP\", xlim = c(1979, 2023), ylim = yl)\n",
    "    plot_trend(mdl_tamsat, main = \"TAMSAT\", xlim = c(1979, 2023), ylim = yl)\n",
    "}; dev.off()"
   ]
  },
  {
   "cell_type": "code",
   "execution_count": 16,
   "id": "3200cf30-65d9-4ea6-a360-6ea91f7ca4d0",
   "metadata": {},
   "outputs": [
    {
     "data": {
      "text/html": [
       "<strong>png:</strong> 2"
      ],
      "text/latex": [
       "\\textbf{png:} 2"
      ],
      "text/markdown": [
       "**png:** 2"
      ],
      "text/plain": [
       "png \n",
       "  2 "
      ]
     },
     "metadata": {},
     "output_type": "display_data"
    }
   ],
   "source": [
    "prep_window(c(1,3)); par(mfrow = c(1,2))\n",
    "\n",
    "png(\"fig/rx3day_trend-vs-gmst.png\", height = 480, width = 480 * 3); par(mfrow = c(1,2), cex = 1.4); {\n",
    "    plot_covtrend(mdl_mswep, xcov = \"gmst\", cov = data.frame(\"gmst\" = gmst_2023, \"iod\" = 0), cov_cf = data.frame(\"gmst\" = gmst_2023 - 1.2, \"iod\" = 0), \n",
    "                  ylim = yl, nsamp = 10, fixed_cov = cbind(df_mswep[,c(\"gmst\")], iod_clim), main = \"MSWEP\")\n",
    "    plot_covtrend(mdl_tamsat, xcov = \"gmst\", cov = data.frame(\"gmst\" = gmst_2023, \"iod\" = 0), cov_cf = data.frame(\"gmst\" = gmst_2023 - 1.2, \"iod\" = 0), \n",
    "                      ylim = yl, nsamp = 10, fixed_cov = cbind(df_tamsat[,c(\"gmst\")], iod_clim), main = \"TAMSAT\")\n",
    "}; dev.off()"
   ]
  },
  {
   "cell_type": "code",
   "execution_count": 17,
   "id": "e3c6b839-3335-4e78-92eb-f84e49bafbaa",
   "metadata": {},
   "outputs": [
    {
     "data": {
      "text/html": [
       "<strong>png:</strong> 2"
      ],
      "text/latex": [
       "\\textbf{png:} 2"
      ],
      "text/markdown": [
       "**png:** 2"
      ],
      "text/plain": [
       "png \n",
       "  2 "
      ]
     },
     "metadata": {},
     "output_type": "display_data"
    }
   ],
   "source": [
    "prep_window(c(1,3)); par(mfrow = c(1,2))\n",
    "\n",
    "png(\"fig/rx3day_trend-vs-iod.png\", height = 480, width = 480 * 3); par(mfrow = c(1,2), cex = 1.4); {\n",
    "    plot_covtrend(mdl_mswep, xcov = \"iod\", cov = data.frame(\"gmst\" = gmst_2023, \"iod\" = iod_2023), cov_cf = data.frame(\"gmst\" = gmst_2023, \"iod\" = 0), \n",
    "                  ylim = yl, nsamp = 10, fixed_cov = cbind(gmst_clim, df_mswep[,c(\"iod\")]), main = \"MSWEP\")\n",
    "    plot_covtrend(mdl_tamsat, xcov = \"iod\", cov = data.frame(\"gmst\" = gmst_2023, \"iod\" = iod_2023), cov_cf = data.frame(\"gmst\" = gmst_2023, \"iod\" = 0), \n",
    "                      ylim = yl, nsamp = 10, fixed_cov = cbind(gmst_clim, df_tamsat[,c(\"iod\")]), main = \"TAMSAT\")\n",
    "}; dev.off()"
   ]
  },
  {
   "cell_type": "code",
   "execution_count": 18,
   "id": "788bb61b-760f-4b53-95a4-f214a3db2a89",
   "metadata": {},
   "outputs": [
    {
     "data": {
      "text/html": [
       "<strong>png:</strong> 2"
      ],
      "text/latex": [
       "\\textbf{png:} 2"
      ],
      "text/markdown": [
       "**png:** 2"
      ],
      "text/plain": [
       "png \n",
       "  2 "
      ]
     },
     "metadata": {},
     "output_type": "display_data"
    }
   ],
   "source": [
    "prep_window(c(1,3)); par(mfrow = c(1,2))\n",
    "\n",
    "png(\"fig/rx3day_returnlevels.png\", height = 480, width = 480 * 3); par(mfrow = c(1,2), cex = 1.4); {\n",
    "    plot_returnlevels(mdl_mswep, cov = data.frame(\"gmst\" = gmst_2023, \"iod\" = iod_clim), cov_cf = data.frame(\"gmst\" = gmst_2023 - 1.2, \"iod\" = iod_clim),\n",
    "                      main = \"MSWEP\", ylim = yl, legend_pos = \"topleft\")\n",
    "    points(1/seq(1,0,length.out = nrow(df_mswep)+2)[2:(nrow(df_mswep)+1)], sort(df_mswep$rx3day), pch = 20, col = adjustcolor(\"black\", 0.5))\n",
    "    plot_returnlevels(mdl_tamsat, cov = data.frame(\"gmst\" = gmst_2023, \"iod\" = iod_clim), cov_cf = data.frame(\"gmst\" = gmst_2023 - 1.2, \"iod\" = iod_clim),\n",
    "                      main = \"TAMSAT\", ylim = yl, legend_pos = \"topleft\")\n",
    "    points(1/seq(1,0,length.out = nrow(df_tamsat)+2)[2:(nrow(df_tamsat)+1)], sort(df_tamsat$rx3day), pch = 20, col = adjustcolor(\"black\", 0.5))\n",
    "}; dev.off()"
   ]
  },
  {
   "cell_type": "markdown",
   "id": "a47d7d51-802e-46cd-b972-e0d29522f362",
   "metadata": {},
   "source": [
    "## **Climate models**"
   ]
  },
  {
   "cell_type": "code",
   "execution_count": 6,
   "id": "223270d7-16b7-4126-ba1e-67fd745e6912",
   "metadata": {},
   "outputs": [],
   "source": [
    "# tailored code for climate model results"
   ]
  },
  {
   "cell_type": "markdown",
   "id": "64abf75e-b314-4146-8e32-d8f3808e9f1c",
   "metadata": {},
   "source": [
    "### **CORDEX**"
   ]
  },
  {
   "cell_type": "code",
   "execution_count": 281,
   "id": "6fb2524a-ada5-4bf0-870b-8a1e0b4929cf",
   "metadata": {},
   "outputs": [
    {
     "data": {
      "text/html": [
       "'ts/cordex/rx3day-ond_HoA_AFR-44_MPI-ESM-LR_r1i1p1_CLMcom-CCLM4-8-17.dat'"
      ],
      "text/latex": [
       "'ts/cordex/rx3day-ond\\_HoA\\_AFR-44\\_MPI-ESM-LR\\_r1i1p1\\_CLMcom-CCLM4-8-17.dat'"
      ],
      "text/markdown": [
       "'ts/cordex/rx3day-ond_HoA_AFR-44_MPI-ESM-LR_r1i1p1_CLMcom-CCLM4-8-17.dat'"
      ],
      "text/plain": [
       "[1] \"ts/cordex/rx3day-ond_HoA_AFR-44_MPI-ESM-LR_r1i1p1_CLMcom-CCLM4-8-17.dat\""
      ]
     },
     "metadata": {},
     "output_type": "display_data"
    }
   ],
   "source": [
    "# list of models without covariates/that failed to converge for historical data\n",
    "excl <- c(\"ts/cordex/rx3day-ond_HoA_AFR-44_MPI-ESM-MR_r1i1p1_ICTP-RegCM4-3.dat\",\n",
    "          \"ts/cordex/rx3day-ond_HoA_AFR-44_EC-EARTH_r12i1p1_CLMcom-CCLM4-8-17.dat\",\n",
    "          \"ts/cordex/rx3day-ond_HoA_AFR-44_EC-EARTH_r12i1p1_KNMI-RACMO22T.dat\",\n",
    "          \"ts/cordex/rx3day-ond_HoA_AFR-44_EC-EARTH_r12i1p1_MPI-CSC-REMO2009.dat\",\n",
    "          \"ts/cordex/rx3day-ond_HoA_AFR-44_EC-EARTH_r3i1p1_DMI-HIRHAM5.dat\",\n",
    "          \"ts/cordex/rx3day-ond_HoA_AFR-44_GFDL-ESM2G_r1i1p1_GERICS-REMO2009.dat\",\n",
    "          \"ts/cordex/rx3day-ond_HoA_AFR-44_HadGEM2-ES_r1i1p1_ICTP-RegCM4-3.dat\",\n",
    "          \"ts/cordex/rx3day-ond_HoA_AFR-44_CM5A-LR_r1i1p1_GERICS-REMO2009.dat\",\n",
    "          \"ts/cordex/rx3day-ond_HoA_AFR-44_EC-EARTH_r1i1p1_KNMI-RACMO22T.dat\")\n",
    "\n",
    "fl <- list.files(\"ts/cordex\", pattern = \"rx3day-ond\", full.names = T)\n",
    "fl <- unlist(unname(sapply(fl, function(fnm) {\n",
    "    res_fnm <- paste0(\"res/res-cordex_rx3day_\", paste0(gsub(\".dat\",\"\",strsplit(fnm, \"_\")[[1]][3:6]), collapse = \"_\"), \"_hist.csv\")\n",
    "    if(file.exists(res_fnm)) { return(NULL) } else {return(fnm) }\n",
    "})))\n",
    "fl <- unlist(unname(sapply(fl, function(fnm) {\n",
    "    if(fnm %in% excl) { return(NULL) } else {return(fnm)}\n",
    "})))\n",
    "fl"
   ]
  },
  {
   "cell_type": "code",
   "execution_count": 283,
   "id": "a11e486c-038f-456b-8bdb-5fa1cc56f652",
   "metadata": {},
   "outputs": [
    {
     "name": "stdout",
     "output_type": "stream",
     "text": [
      "[1] \"ts/cordex/rx3day-ond_HoA_AFR-44_MPI-ESM-LR_r1i1p1_CLMcom-CCLM4-8-17.dat\"\n",
      "[1] \"done.\"\n"
     ]
    }
   ],
   "source": [
    "fnm = fl[1]\n",
    "\n",
    "res_fnm <- paste0(\"res/res-cordex_rx3day_\", paste0(gsub(\".dat\",\"\",strsplit(fnm, \"_\")[[1]][3:6]), collapse = \"_\"), \"_hist.csv\")\n",
    "print(fnm)\n",
    "# print(res_fnm)\n",
    "\n",
    "if(!file.exists(res_fnm)) {\n",
    "    gcm <- strsplit(fnm, \"_\")[[1]][4]\n",
    "\n",
    "    gmst_fnm <- list.files(\"ts/gmst\", pattern = paste0(\"cmip5.+\", strsplit(fnm, \"_\")[[1]][4], \".+\", substr(strsplit(fnm, \"_\")[[1]][5],1,2)), full.names = T)\n",
    "    iod_fnm <- list.files(\"ts/iod\", pattern = paste0(\"cmip5_\", strsplit(fnm, \"_\")[[1]][4], \"_\", substr(strsplit(fnm, \"_\")[[1]][5],2,2)), full.names = T)\n",
    "    \n",
    "    if((length(gmst_fnm) == 0) | (length(iod_fnm) == 0)) {\n",
    "        if(length(gmst_fnm) == 0) print(\"No GMST\")\n",
    "        if(length(iod_fnm) == 0) print(\"No IOD\")\n",
    "    } else {\n",
    "        ts <- load_ts(fnm, col.names = c(\"year\", \"pr\"))\n",
    "        if(max(ts) < 1) {ts$pr <- ts$pr * 86400}\n",
    "        gmst <- load_ts(gmst_fnm, col.names = c(\"year\", \"gmst\"))\n",
    "        iod <- load_ts(iod_fnm, col.names = c(\"year\", \"iod\"))\n",
    "\n",
    "        df <- merge(merge(gmst, iod), ts)\n",
    "        df <- df[df$year <= 2023,]\n",
    "                    \n",
    "        mdl_fd <- tryCatch({\n",
    "            fit_ns(\"gev\", \"fixeddisp\", df, \"pr\", c(\"gmst\", \"iod\"))\n",
    "        }, error = function(cond) {return(NULL)})\n",
    "        if(is.null(mdl_fd)) {\n",
    "            print(\"Model fitting failed\")\n",
    "        } else {\n",
    "            res <- cmdl_boot_ci(mdl_fd, rp = 5)\n",
    "            write.csv(res, res_fnm)\n",
    "            print(\"done.\")\n",
    "        }\n",
    "    }\n",
    "}"
   ]
  },
  {
   "cell_type": "code",
   "execution_count": 284,
   "id": "c9e2f3e2-3a00-4a8e-9c7f-748d452ae444",
   "metadata": {},
   "outputs": [],
   "source": [
    "# compile results into a single file\n",
    "incl <- c(\"disp\", \"shape\", \"event_2023\", \"rp_2023\", \"rp_unc\", \"pr_hist\", \"pr_neut\", \"dI_hist\", \"dI_neut\", \"rdI_hist\", \"rdI_neut\")\n",
    "res_compiled <- t(sapply(list.files(\"res\", pattern = \"res-cordex_rx3day.+hist\", full.names = T), function(fnm) setNames(unlist(c(read.csv(fnm)[,incl])), paste0(rep(incl, each = 3), c(\"_est\", \"_lower\", \"_upper\")))))\n",
    "rownames(res_compiled) <- sapply(rownames(res_compiled), function(s) paste0(strsplit(s, \"_\")[[1]][3:6], collapse = \"_\"))\n",
    "write.csv(res_compiled, \"res/res-cordex_scale-fit.csv\")"
   ]
  },
  {
   "cell_type": "markdown",
   "id": "2f7d2c3b-aac3-49ca-8ada-20564441c9d7",
   "metadata": {},
   "source": [
    "#### **IOD characteristics**"
   ]
  },
  {
   "cell_type": "code",
   "execution_count": 27,
   "id": "ac974d40-e3c4-421a-9853-1546bf326231",
   "metadata": {},
   "outputs": [],
   "source": [
    "res_fl <- list.files(\"res\", pattern = \"res-cordex_rx3day.+hist\", full.names = T)\n",
    "iod_df <- list()\n",
    "for (res_fnm in res_fl) {\n",
    "    \n",
    "    fnm <- list.files(\"ts/cordex\", pattern = paste0(\"rx3day.+\", paste0(strsplit(res_fnm, \"_\")[[1]][3:6], collapse = \"_\")), full.names = T)\n",
    "    iod_fnm <- list.files(\"ts/iod\", pattern = paste0(\"cmip5_\", strsplit(fnm, \"_\")[[1]][4], \"_\", substr(strsplit(fnm, \"_\")[[1]][5],2,2)), full.names = T)\n",
    "    \n",
    "    iod <- load_ts(iod_fnm, col.names = c(\"year\", \"iod\"))\n",
    "    rx3day <- load_ts(fnm, col.names = c(\"year\", \"rx3day\"))\n",
    "    if(file.exists(gsub(\"3day\", \"30day\", fnm))) {\n",
    "        rx30day <- load_ts(gsub(\"3day\", \"30day\", fnm), col.names = c(\"year\", \"rx30day\"))\n",
    "    } else {\n",
    "        rx30day <- data.frame(year = rx3day$year, rx30day = NA)\n",
    "    }\n",
    "    df <- merge(iod, merge(rx3day, rx30day))\n",
    "     \n",
    "    z <- unlist(sapply(c(2023, 2050), function(y) {\n",
    "        df_y <- df[df$year <= y,]\n",
    "        \n",
    "        setNames(c(mean(df_y$iod), sd(df_y$iod), cor(df_y$iod, df_y$rx3day), cor(df_y$iod, df_y$rx30day)),\n",
    "                 paste0(c(\"iod_mean\", \"iod_sd\", \"iod_rx3d\", \"iod_rx30d\"), \"_\", y))\n",
    "    }, simplify = F))\n",
    "    iod_df[[paste0(strsplit(res_fnm, \"_\")[[1]][3:6], collapse = \"_\")]] <- z\n",
    "}\n",
    "iod_df <- t(data.frame(iod_df))\n",
    "write.csv(iod_df, \"res/res-cordex_iod.csv\")"
   ]
  },
  {
   "cell_type": "markdown",
   "id": "71f10dd5-89d2-4044-b13f-06bd0b3431fa",
   "metadata": {},
   "source": [
    "### **HighResMIP**"
   ]
  },
  {
   "cell_type": "code",
   "execution_count": 198,
   "id": "57f0cfad-dbff-47d7-b059-4ebd57a4fde3",
   "metadata": {},
   "outputs": [
    {
     "data": {
      "text/html": [
       "<style>\n",
       ".list-inline {list-style: none; margin:0; padding: 0}\n",
       ".list-inline>li {display: inline-block}\n",
       ".list-inline>li:not(:last-child)::after {content: \"\\00b7\"; padding: 0 .5ex}\n",
       "</style>\n",
       "<ol class=list-inline><li>'ts/highresmip/rx30day-ond_HoA_CMCC-CM2-HR4.dat'</li><li>'ts/highresmip/rx30day-ond_HoA_CMCC-CM2-VHR4.dat'</li><li>'ts/highresmip/rx30day-ond_HoA_EC-Earth3P-HR.dat'</li><li>'ts/highresmip/rx30day-ond_HoA_EC-Earth3P.dat'</li><li>'ts/highresmip/rx30day-ond_HoA_GFDL-CM4C192.dat'</li><li>'ts/highresmip/rx30day-ond_HoA_HadGEM3-GC31-HM.dat'</li><li>'ts/highresmip/rx30day-ond_HoA_HadGEM3-GC31-LM.dat'</li><li>'ts/highresmip/rx30day-ond_HoA_HadGEM3-GC31-MM.dat'</li><li>'ts/highresmip/rx30day-ond_HoA_HiRAM-SIT-HR.dat'</li><li>'ts/highresmip/rx30day-ond_HoA_HiRAM-SIT-LR.dat'</li><li>'ts/highresmip/rx30day-ond_HoA_MPI-ESM1-2-HR.dat'</li><li>'ts/highresmip/rx30day-ond_HoA_MPI-ESM1-2-XR.dat'</li><li>'ts/highresmip/rx30day-ond_HoA_MRI-AGCM3-2-H.dat'</li><li>'ts/highresmip/rx30day-ond_HoA_MRI-AGCM3-2-S.dat'</li><li>'ts/highresmip/rx30day-ond_HoA_NICAM16-7S.dat'</li><li>'ts/highresmip/rx30day-ond_HoA_NICAM16-8S.dat'</li></ol>\n"
      ],
      "text/latex": [
       "\\begin{enumerate*}\n",
       "\\item 'ts/highresmip/rx30day-ond\\_HoA\\_CMCC-CM2-HR4.dat'\n",
       "\\item 'ts/highresmip/rx30day-ond\\_HoA\\_CMCC-CM2-VHR4.dat'\n",
       "\\item 'ts/highresmip/rx30day-ond\\_HoA\\_EC-Earth3P-HR.dat'\n",
       "\\item 'ts/highresmip/rx30day-ond\\_HoA\\_EC-Earth3P.dat'\n",
       "\\item 'ts/highresmip/rx30day-ond\\_HoA\\_GFDL-CM4C192.dat'\n",
       "\\item 'ts/highresmip/rx30day-ond\\_HoA\\_HadGEM3-GC31-HM.dat'\n",
       "\\item 'ts/highresmip/rx30day-ond\\_HoA\\_HadGEM3-GC31-LM.dat'\n",
       "\\item 'ts/highresmip/rx30day-ond\\_HoA\\_HadGEM3-GC31-MM.dat'\n",
       "\\item 'ts/highresmip/rx30day-ond\\_HoA\\_HiRAM-SIT-HR.dat'\n",
       "\\item 'ts/highresmip/rx30day-ond\\_HoA\\_HiRAM-SIT-LR.dat'\n",
       "\\item 'ts/highresmip/rx30day-ond\\_HoA\\_MPI-ESM1-2-HR.dat'\n",
       "\\item 'ts/highresmip/rx30day-ond\\_HoA\\_MPI-ESM1-2-XR.dat'\n",
       "\\item 'ts/highresmip/rx30day-ond\\_HoA\\_MRI-AGCM3-2-H.dat'\n",
       "\\item 'ts/highresmip/rx30day-ond\\_HoA\\_MRI-AGCM3-2-S.dat'\n",
       "\\item 'ts/highresmip/rx30day-ond\\_HoA\\_NICAM16-7S.dat'\n",
       "\\item 'ts/highresmip/rx30day-ond\\_HoA\\_NICAM16-8S.dat'\n",
       "\\end{enumerate*}\n"
      ],
      "text/markdown": [
       "1. 'ts/highresmip/rx30day-ond_HoA_CMCC-CM2-HR4.dat'\n",
       "2. 'ts/highresmip/rx30day-ond_HoA_CMCC-CM2-VHR4.dat'\n",
       "3. 'ts/highresmip/rx30day-ond_HoA_EC-Earth3P-HR.dat'\n",
       "4. 'ts/highresmip/rx30day-ond_HoA_EC-Earth3P.dat'\n",
       "5. 'ts/highresmip/rx30day-ond_HoA_GFDL-CM4C192.dat'\n",
       "6. 'ts/highresmip/rx30day-ond_HoA_HadGEM3-GC31-HM.dat'\n",
       "7. 'ts/highresmip/rx30day-ond_HoA_HadGEM3-GC31-LM.dat'\n",
       "8. 'ts/highresmip/rx30day-ond_HoA_HadGEM3-GC31-MM.dat'\n",
       "9. 'ts/highresmip/rx30day-ond_HoA_HiRAM-SIT-HR.dat'\n",
       "10. 'ts/highresmip/rx30day-ond_HoA_HiRAM-SIT-LR.dat'\n",
       "11. 'ts/highresmip/rx30day-ond_HoA_MPI-ESM1-2-HR.dat'\n",
       "12. 'ts/highresmip/rx30day-ond_HoA_MPI-ESM1-2-XR.dat'\n",
       "13. 'ts/highresmip/rx30day-ond_HoA_MRI-AGCM3-2-H.dat'\n",
       "14. 'ts/highresmip/rx30day-ond_HoA_MRI-AGCM3-2-S.dat'\n",
       "15. 'ts/highresmip/rx30day-ond_HoA_NICAM16-7S.dat'\n",
       "16. 'ts/highresmip/rx30day-ond_HoA_NICAM16-8S.dat'\n",
       "\n",
       "\n"
      ],
      "text/plain": [
       " [1] \"ts/highresmip/rx30day-ond_HoA_CMCC-CM2-HR4.dat\"   \n",
       " [2] \"ts/highresmip/rx30day-ond_HoA_CMCC-CM2-VHR4.dat\"  \n",
       " [3] \"ts/highresmip/rx30day-ond_HoA_EC-Earth3P-HR.dat\"  \n",
       " [4] \"ts/highresmip/rx30day-ond_HoA_EC-Earth3P.dat\"     \n",
       " [5] \"ts/highresmip/rx30day-ond_HoA_GFDL-CM4C192.dat\"   \n",
       " [6] \"ts/highresmip/rx30day-ond_HoA_HadGEM3-GC31-HM.dat\"\n",
       " [7] \"ts/highresmip/rx30day-ond_HoA_HadGEM3-GC31-LM.dat\"\n",
       " [8] \"ts/highresmip/rx30day-ond_HoA_HadGEM3-GC31-MM.dat\"\n",
       " [9] \"ts/highresmip/rx30day-ond_HoA_HiRAM-SIT-HR.dat\"   \n",
       "[10] \"ts/highresmip/rx30day-ond_HoA_HiRAM-SIT-LR.dat\"   \n",
       "[11] \"ts/highresmip/rx30day-ond_HoA_MPI-ESM1-2-HR.dat\"  \n",
       "[12] \"ts/highresmip/rx30day-ond_HoA_MPI-ESM1-2-XR.dat\"  \n",
       "[13] \"ts/highresmip/rx30day-ond_HoA_MRI-AGCM3-2-H.dat\"  \n",
       "[14] \"ts/highresmip/rx30day-ond_HoA_MRI-AGCM3-2-S.dat\"  \n",
       "[15] \"ts/highresmip/rx30day-ond_HoA_NICAM16-7S.dat\"     \n",
       "[16] \"ts/highresmip/rx30day-ond_HoA_NICAM16-8S.dat\"     "
      ]
     },
     "metadata": {},
     "output_type": "display_data"
    }
   ],
   "source": [
    "iod <- load_ts(\"ts/iod_SON.dat\", col.names = c(\"year\", \"iod\"))\n",
    "gmst <- load_ts(\"ts/gmst.dat\", col.names = c(\"year\", \"gmst\"))\n",
    "\n",
    "gmst_2023 <- gmst$gmst[gmst$year == 2023]\n",
    "iod_2023 <- iod$iod[iod$year == 2023]\n",
    "\n",
    "# list of models without covariates/that failed to converge for historical data\n",
    "excl <- c('BCC-CSM2-HR','CAMS-CSM1-0','ECMWF-IFS-HR','ECMWF-IFS-LR','FGOALS-f3-H','FGOALS-f3-L','INM-CM5-H',\n",
    "          'IPSL-CM6A-ATM-HR','IPSL-CM6A-LR','NICAM16-9S')\n",
    "\n",
    "fl <- list.files(\"ts/highresmip\", pattern = \"rx30day-ond\", full.names = T)\n",
    "fl <- unlist(unname(sapply(fl, function(fnm) {\n",
    "    res_fnm <- paste0(\"res/res-highresmip_rx30day_\", paste0(gsub(\".dat\",\"\",strsplit(fnm, \"_\")[[1]][3]), collapse = \"_\"), \"_hist.csv\")\n",
    "    if(file.exists(res_fnm)) { return(NULL) } else {return(fnm) }\n",
    "})))\n",
    "fl <- unlist(unname(sapply(fl, function(fnm) {\n",
    "    if(gsub(\".dat\", \"\", strsplit(fnm, \"_\")[[1]][3]) %in% excl) { return(NULL) } else { return(fnm) }\n",
    "})))\n",
    "fl"
   ]
  },
  {
   "cell_type": "code",
   "execution_count": 199,
   "id": "64cfc6c5-759c-4f5d-bcb9-afbab9c9a743",
   "metadata": {},
   "outputs": [],
   "source": [
    "nsamp <- 500\n",
    "rp <- 5\n",
    "\n",
    "for(fnm in fl) {\n",
    "\n",
    "\n",
    "    print(fnm)\n",
    "    res_fnm <- paste0(\"res/res-highresmip_rx30day_\", paste0(gsub(\".dat\",\"\",strsplit(fnm, \"_\")[[1]][3]), collapse = \"_\"), \"_hist.csv\")\n",
    "\n",
    "    if(!file.exists(res_fnm)) {\n",
    "\n",
    "        mdl <- gsub(\".dat\", \"\", strsplit(\"ts/highresmip/rx3day-ond_HoA_BCC-CSM2-HR.dat\", \"_\")[[1]][3])\n",
    "\n",
    "        ts <- load_ts(fnm, col.names = c(\"year\", \"pr\"))\n",
    "        if(max(ts) < 1) {ts$pr <- ts$pr * 86400}\n",
    "\n",
    "        df <- merge(merge(gmst, iod), ts)\n",
    "        df <- df[df$year <= 2023,]\n",
    "\n",
    "        mdl_fd <- tryCatch({\n",
    "            fit_ns(\"gev\", \"fixeddisp\", df, \"pr\", c(\"gmst\", \"iod\"))\n",
    "        }, error = function(cond) {return(NULL)})\n",
    "\n",
    "        if(is.null(mdl_fd)) {\n",
    "            print(\"Model fitting failed\")\n",
    "        } else {\n",
    "            set.seed(42)\n",
    "            res <- sapply(1:nsamp, function(i) {\n",
    "                # print(i)\n",
    "                # lres <- NA\n",
    "                # while(is.na(lres[1])) {\n",
    "                    boot_df <- df[sample(1:nrow(df), replace = T),]\n",
    "                    lres <- tryCatch({\n",
    "                        boot_mdl <- suppressWarnings(refit(mdl_fd, boot_df))\n",
    "                        cmdl_ests(boot_mdl, rp = rp)\n",
    "                    }, error = function(cond) {return(rep(NA, 25))})\n",
    "                # }\n",
    "                lres\n",
    "            })\n",
    "            res <- rbind(\"est\" = cmdl_ests(mdl_fd, rp = rp),\n",
    "                         apply(res, 1, quantile, c(0.025, 0.975), na.rm = T), \n",
    "                         \"nmissing\" = sum(is.na(res[\"mu0\",])))\n",
    "            # # res <- cmdl_boot_ci(mdl_fd, rp = 5, nsamp = 5)\n",
    "            write.csv(res, res_fnm)\n",
    "            # print(\"done.\")\n",
    "        }\n",
    "    }\n",
    "}"
   ]
  },
  {
   "cell_type": "code",
   "execution_count": 197,
   "id": "fa5b2376-e49c-40b7-9caa-aa556f90e5c1",
   "metadata": {},
   "outputs": [],
   "source": [
    "# compile results into a single file\n",
    "incl <- c(\"disp\", \"shape\", \"event_2023\", \"rp_2023\", \"rp_unc\", \"pr_hist\", \"pr_neut\", \"dI_hist\", \"dI_neut\", \"rdI_hist\", \"rdI_neut\")\n",
    "res_compiled <- t(sapply(list.files(\"res\", pattern = \"res-highresmip_rx3day.+hist\", full.names = T), \n",
    "                         function(fnm) setNames(unlist(c(read.csv(fnm)[1:3,incl])), paste0(rep(incl, each = 3), c(\"_est\", \"_lower\", \"_upper\")))))\n",
    "rownames(res_compiled) <- sapply(rownames(res_compiled), function(s) paste0(strsplit(s, \"_\")[[1]][3], collapse = \"_\"))\n",
    "write.csv(res_compiled, \"res/res-highresmip_scale-fit.csv\")"
   ]
  },
  {
   "cell_type": "markdown",
   "id": "7579abdc-32a0-48ae-ae9f-4fb0b575499d",
   "metadata": {},
   "source": [
    "#### **IOD characteristics**"
   ]
  },
  {
   "cell_type": "code",
   "execution_count": 67,
   "id": "9a2968bf-cf28-46b2-9e79-85aa008f3d38",
   "metadata": {},
   "outputs": [],
   "source": [
    "fl <- list.files(\"ts/highresmip\", pattern = \"rx3day\", full.names = T)\n",
    "iod <- load_ts(\"ts/iod_SON.dat\", col.names = c(\"year\", \"iod\"))\n",
    "iod_df <- list()\n",
    "\n",
    "for (fnm in fl) {\n",
    "    \n",
    "    rx3day <- load_ts(fnm, col.names = c(\"year\", \"rx3day\"))\n",
    "    if(file.exists(gsub(\"3day\", \"30day\", fnm))) {\n",
    "        rx30day <- load_ts(gsub(\"3day\", \"30day\", fnm), col.names = c(\"year\", \"rx30day\"))\n",
    "    } else {\n",
    "        rx30day <- data.frame(year = rx3day$year, rx30day = NA)\n",
    "    }\n",
    "    df <- merge(iod, merge(rx3day, rx30day))\n",
    "     \n",
    "    z <- c(min_yr = min(df$year), max_yr = max(df$year), unlist(sapply(c(2023, 2050), function(y) {\n",
    "        df_y <- df[df$year <= y,]\n",
    "        \n",
    "        setNames(c(cor(df_y$iod, df_y$rx3day), cor(df_y$iod, df_y$rx30day)),\n",
    "                 paste0(c(\"iod_rx3d\", \"iod_rx30d\"), \"_\", y))\n",
    "    }, simplify = F)))\n",
    "    iod_df[[paste0(strsplit(fnm, \"_\")[[1]][3], collapse = \"_\")]] <- z\n",
    "}\n",
    "rn <- gsub(\".dat\", \"\", names(iod_df))\n",
    "iod_df <- plyr::rbind.fill(lapply(lapply(iod_df, t), data.frame))\n",
    "rownames(iod_df) <- rn\n",
    "write.csv(iod_df, \"res/res-highresmip_iod.csv\")"
   ]
  },
  {
   "cell_type": "code",
   "execution_count": null,
   "id": "34e82e39-4e66-4b1f-a05b-b0452f14fa07",
   "metadata": {},
   "outputs": [
    {
     "data": {
      "text/html": [
       "<style>\n",
       ".list-inline {list-style: none; margin:0; padding: 0}\n",
       ".list-inline>li {display: inline-block}\n",
       ".list-inline>li:not(:last-child)::after {content: \"\\00b7\"; padding: 0 .5ex}\n",
       "</style>\n",
       "<ol class=list-inline><li>'BCC-CSM2-HR'</li><li>'CAMS-CSM1-0'</li><li>'ECMWF-IFS-HR'</li><li>'ECMWF-IFS-LR'</li><li>'FGOALS-f3-H'</li><li>'FGOALS-f3-L'</li><li>'INM-CM5-H'</li><li>'IPSL-CM6A-ATM-HR'</li><li>'IPSL-CM6A-LR'</li><li>'NICAM16-9S'</li></ol>\n"
      ],
      "text/latex": [
       "\\begin{enumerate*}\n",
       "\\item 'BCC-CSM2-HR'\n",
       "\\item 'CAMS-CSM1-0'\n",
       "\\item 'ECMWF-IFS-HR'\n",
       "\\item 'ECMWF-IFS-LR'\n",
       "\\item 'FGOALS-f3-H'\n",
       "\\item 'FGOALS-f3-L'\n",
       "\\item 'INM-CM5-H'\n",
       "\\item 'IPSL-CM6A-ATM-HR'\n",
       "\\item 'IPSL-CM6A-LR'\n",
       "\\item 'NICAM16-9S'\n",
       "\\end{enumerate*}\n"
      ],
      "text/markdown": [
       "1. 'BCC-CSM2-HR'\n",
       "2. 'CAMS-CSM1-0'\n",
       "3. 'ECMWF-IFS-HR'\n",
       "4. 'ECMWF-IFS-LR'\n",
       "5. 'FGOALS-f3-H'\n",
       "6. 'FGOALS-f3-L'\n",
       "7. 'INM-CM5-H'\n",
       "8. 'IPSL-CM6A-ATM-HR'\n",
       "9. 'IPSL-CM6A-LR'\n",
       "10. 'NICAM16-9S'\n",
       "\n",
       "\n"
      ],
      "text/plain": [
       " [1] \"BCC-CSM2-HR\"      \"CAMS-CSM1-0\"      \"ECMWF-IFS-HR\"     \"ECMWF-IFS-LR\"    \n",
       " [5] \"FGOALS-f3-H\"      \"FGOALS-f3-L\"      \"INM-CM5-H\"        \"IPSL-CM6A-ATM-HR\"\n",
       " [9] \"IPSL-CM6A-LR\"     \"NICAM16-9S\"      "
      ]
     },
     "metadata": {},
     "output_type": "display_data"
    }
   ],
   "source": [
    "row.names(iod_df[iod_df$max_yr < 2023,])"
   ]
  },
  {
   "cell_type": "code",
   "execution_count": null,
   "id": "dfb8c0d8-877b-4b56-b79b-5cc5c6aa597f",
   "metadata": {},
   "outputs": [],
   "source": []
  }
 ],
 "metadata": {
  "kernelspec": {
   "display_name": "R [conda env:r_env]",
   "language": "R",
   "name": "conda-env-r_env-r"
  },
  "language_info": {
   "codemirror_mode": "r",
   "file_extension": ".r",
   "mimetype": "text/x-r-source",
   "name": "R",
   "pygments_lexer": "r",
   "version": "4.2.2"
  }
 },
 "nbformat": 4,
 "nbformat_minor": 5
}
