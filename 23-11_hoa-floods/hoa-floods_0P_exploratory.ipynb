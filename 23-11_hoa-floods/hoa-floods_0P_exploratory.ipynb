{
 "cells": [
  {
   "cell_type": "code",
   "execution_count": 1,
   "id": "32862b77-9327-404d-a91f-f444c5e8bf67",
   "metadata": {},
   "outputs": [],
   "source": [
    "import sys; sys.path.append('/home/clair/wwa'); from wwa import *"
   ]
  },
  {
   "cell_type": "markdown",
   "id": "bf39c332-0d4b-45ef-8254-c84473a596cd",
   "metadata": {},
   "source": [
    "# **Data pre-processing**"
   ]
  },
  {
   "cell_type": "markdown",
   "id": "6589214d-7096-4268-8ce6-633df636bde7",
   "metadata": {},
   "source": [
    "## **GMST**\n",
    "Downloaded from [climate explorer](https://climexp.knmi.nl/getindices.cgi?WMO=NASAData/giss_al_gl_a_4yrlo&STATION=smoothed_GMST&TYPE=i&id=62f4b5a82fde776a4c64f0ca33646aa0) on November 27th"
   ]
  },
  {
   "cell_type": "code",
   "execution_count": 21,
   "id": "41f54fd0-3d11-4234-b639-00cf98c199f8",
   "metadata": {},
   "outputs": [],
   "source": [
    "# load data\n",
    "gmst = pd.read_csv(\"data/gmst.txt\", comment = \"#\", sep = \" +\", engine = \"python\", names = [\"year\", \"gmst\"], index_col = 0)\n",
    "\n",
    "# convert to anomaly wrt 2023 & only retain years prior to 2023\n",
    "gmst = gmst.loc[slice(None, \"2023\")] - gmst.loc[2023]"
   ]
  },
  {
   "cell_type": "code",
   "execution_count": 22,
   "id": "8345dfc7-ab40-4d65-a4a2-f6322832ff5d",
   "metadata": {},
   "outputs": [],
   "source": [
    "# specify filename\n",
    "csv_fnm = \"ts/gmst.dat\"\n",
    "if len(csv_fnm.split(\"/\")[-1]) > 65: print(\"! Filename too long: \", csv_fnm)\n",
    "\n",
    "# create extra header lines for upload to Climate Explorer \n",
    "str1 = \"# contact :: smoothed GMST - Horn of Africa flooding 2023, c.barnes22@imperial.ac.uk\"\n",
    "str2 = \"# gmst [degC] anomaly wrt 2023 of 4-year smoothed GMST at \"+re.sub(\".dat\", \"\", csv_fnm.split(\"/\")[-1])\n",
    "head = \"# year gmst\"\n",
    "\n",
    "# make .dat file\n",
    "! echo \"$str1 \" > $csv_fnm\n",
    "! echo \"$str2\" >> $csv_fnm\n",
    "! echo \"$head\" >> $csv_fnm\n",
    "gmst.to_csv(csv_fnm, sep = \" \", mode = \"a\", header = False)"
   ]
  },
  {
   "cell_type": "markdown",
   "id": "db8d0d4b-be9e-4d93-a0db-dee9de36eb64",
   "metadata": {},
   "source": [
    "## **Detrended Nino3.4**\n",
    "Nino3.4 detrended using mean of SSTs from -20:20 - no scaling applied per calendar month  \n",
    "[Nino3.4](https://climexp.knmi.nl/getindices.cgi?WMO=NCDCData/ersst_nino3.4a&STATION=NINO3.4&TYPE=i) and [SSTs](https://climexp.knmi.nl/select.cgi?field=ersstv5) downloaded from climate explorer on November 27th  \n"
   ]
  },
  {
   "cell_type": "code",
   "execution_count": 47,
   "id": "f1c5ae8e-3cec-4629-8575-6754fdb564a3",
   "metadata": {},
   "outputs": [],
   "source": [
    "# get detrended Nino3.4 index from indices on Climate Explorer\n",
    "nino = decode_times(xr.open_dataset(\"data/iersst_nino3.4a.nc\", decode_times = False))[\"Nino3.4\"]\n",
    "sst = decode_times(xr.open_dataset(\"data/iersstv5_0-360E_-20-20N_n.nc\", decode_times = False)).sst\n",
    "nino_detrended = (nino - (sst - sst.sel(time = slice(\"1980\", \"2010\")).mean())).rename(\"nino_dt\")\n",
    "\n",
    "# get 3-month mean of detrended Nino3.4\n",
    "nino_3m = nino_detrended.rolling(time = 3, center = False, min_periods = 1).mean()"
   ]
  },
  {
   "cell_type": "code",
   "execution_count": 50,
   "id": "40bab8ed-5910-46e6-9f8e-42ff59379fca",
   "metadata": {},
   "outputs": [],
   "source": [
    "# December data not year available; also not clear which lag is most important, so check several.\n",
    "nino_ond = nino_3m.groupby(\"time.month\")[12]\n",
    "nino_son = nino_3m.groupby(\"time.month\")[11]\n",
    "nino_jasond = nino_detrended.rolling(time = 6, center = False, min_periods = 4).mean().groupby(\"time.month\")[12]"
   ]
  },
  {
   "cell_type": "code",
   "execution_count": 72,
   "id": "48a26a35-50df-4ebf-b630-b718fac8609c",
   "metadata": {},
   "outputs": [],
   "source": [
    "# specify filename\n",
    "csv_fnm = \"ts/nino3.4-detrended_JASOND.dat\"\n",
    "ts = nino_jasond\n",
    "\n",
    "if len(csv_fnm.split(\"/\")[-1]) > 65: print(\"! Filename too long: \", csv_fnm)\n",
    "\n",
    "# create extra header lines for upload to Climate Explorer \n",
    "str1 = \"# contact :: mean detrended Nino3.4 index for JASOND - Horn of Africa flooding 2023, c.barnes22@imperial.ac.uk\"\n",
    "str2 = \"# nino34 [degC] November 2023 snapshot of iersst_nino3.4a detrended with iersstv5_0-360E_-20-20N_n_su from KNMI Climate Explorer at \"+re.sub(\".dat\", \"\", csv_fnm.split(\"/\")[-1])\n",
    "head = \"# year nino34\"\n",
    "\n",
    "# make .dat file\n",
    "! echo \"$str1 \" > $csv_fnm\n",
    "! echo \"$str2\" >> $csv_fnm\n",
    "! echo \"$head\" >> $csv_fnm\n",
    "\n",
    "ts = ts.assign_coords(time = ts.time.dt.year).rename(time = \"year\").dropna(\"year\", \"any\")\n",
    "\n",
    "ts.to_dataframe().to_csv(csv_fnm, sep = \" \", mode = \"a\", header = False)"
   ]
  },
  {
   "cell_type": "code",
   "execution_count": 90,
   "id": "f9ce7a6c-986e-49fc-a146-9709be1de348",
   "metadata": {},
   "outputs": [],
   "source": [
    "# save 3-month mean time series to check cross-correlations in R\n",
    "nino_3m.to_dataframe().to_csv(\"data/nino3.4rel_3month.csv\")"
   ]
  },
  {
   "cell_type": "markdown",
   "id": "10dce9fc-0f26-4d4e-91e6-b187716ebaba",
   "metadata": {},
   "source": [
    "## **IOD/DMI**\n",
    "[IOD](https://climexp.knmi.nl/getindices.cgi?WMO=NCDCData/dmi_ersst&STATION=DMI_ERSST&TYPE=i) downloaded from climate explorer on November 27th  \n"
   ]
  },
  {
   "cell_type": "code",
   "execution_count": 83,
   "id": "208843d4-ff0a-4880-b1a1-73cbea45c01d",
   "metadata": {},
   "outputs": [],
   "source": [
    "iod = decode_times(xr.open_dataset(\"data/idmi_ersst.nc\", decode_times = False))[\"diff\"].rename(\"iod\")\n",
    "\n",
    "iod_3m = iod.rolling(time = 3, center = False, min_periods = 1).mean()\n",
    "\n",
    "# again, test a few aggregations\n",
    "iod_ond = iod_3m.groupby(\"time.month\")[12]\n",
    "iod_son = iod_3m.groupby(\"time.month\")[11]\n",
    "iod_jasond = iod.rolling(time = 6, center = False, min_periods = 4).mean().groupby(\"time.month\")[12]"
   ]
  },
  {
   "cell_type": "code",
   "execution_count": 86,
   "id": "d82a27be-5b32-4fc7-aea3-43f686c2e980",
   "metadata": {},
   "outputs": [],
   "source": [
    "# specify filename\n",
    "csv_fnm = \"ts/iod_SON.dat\"\n",
    "ts = iod_son\n",
    "\n",
    "if len(csv_fnm.split(\"/\")[-1]) > 65: print(\"! Filename too long: \", csv_fnm)\n",
    "\n",
    "# create extra header lines for upload to Climate Explorer \n",
    "str1 = \"# contact :: mean Indian Ocean Dipole index for SON - Horn of Africa flooding 2023, c.barnes22@imperial.ac.uk\"\n",
    "str2 = \"# iod [degC] November 2023 snapshot of dmi_ersst from KNMI Climate Explorer at \"+re.sub(\".dat\", \"\", csv_fnm.split(\"/\")[-1])\n",
    "head = \"# year iod\"\n",
    "\n",
    "# make .dat file\n",
    "! echo \"$str1 \" > $csv_fnm\n",
    "! echo \"$str2\" >> $csv_fnm\n",
    "! echo \"$head\" >> $csv_fnm\n",
    "\n",
    "ts = ts.assign_coords(time = ts.time.dt.year).rename(time = \"year\").dropna(\"year\", \"any\")\n",
    "\n",
    "ts.to_dataframe().to_csv(csv_fnm, sep = \" \", mode = \"a\", header = False)"
   ]
  },
  {
   "cell_type": "code",
   "execution_count": 91,
   "id": "775b6af0-6fea-4d6a-a6af-c602e6c9aec9",
   "metadata": {},
   "outputs": [],
   "source": [
    "# save 3-month mean time series to check cross-correlations in R\n",
    "iod_3m.to_dataframe().to_csv(\"data/iod_3month.csv\")"
   ]
  },
  {
   "cell_type": "code",
   "execution_count": null,
   "id": "efdd5b28-c86b-40a4-af43-3e48813b05b3",
   "metadata": {},
   "outputs": [],
   "source": []
  }
 ],
 "metadata": {
  "kernelspec": {
   "display_name": "Python [conda env:wwa]",
   "language": "python",
   "name": "conda-env-wwa-py"
  },
  "language_info": {
   "codemirror_mode": {
    "name": "ipython",
    "version": 3
   },
   "file_extension": ".py",
   "mimetype": "text/x-python",
   "name": "python",
   "nbconvert_exporter": "python",
   "pygments_lexer": "ipython3",
   "version": "3.10.13"
  }
 },
 "nbformat": 4,
 "nbformat_minor": 5
}
