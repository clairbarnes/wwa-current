{
 "cells": [
  {
   "cell_type": "markdown",
   "id": "75415cf2-f5d8-4d7d-a539-c8a99d68c339",
   "metadata": {},
   "source": [
    "# **Trend fitting for Horn of Africa flood study**\n",
    "\n",
    "Use shift fit with GMST and IOD as covariates"
   ]
  },
  {
   "cell_type": "markdown",
   "id": "05910508-7c90-470a-90f2-dc7511248a50",
   "metadata": {},
   "source": [
    "## **Additional functions**"
   ]
  },
  {
   "cell_type": "code",
   "execution_count": 1,
   "id": "0cfea05f-64fa-47bd-ac13-12849aeb3fa6",
   "metadata": {},
   "outputs": [],
   "source": [
    "source(\"../../wwa-archive/methods_extRemes.r\")\n",
    "\n",
    "prep_window <- function(rc = c(1,1), w = 4, h = 4, ...) { options(repr.plot.width = rc[2]*w, repr.plot.height = rc[1]*h, repr.plot.res = 200); par(mfrow = rc, pch = 20, ...) }\n",
    "load_ts <- function(fnm, col.names) { read.csv(fnm, comment.char = \"#\", sep = \" \", header = F, col.names = col.names) }"
   ]
  },
  {
   "cell_type": "code",
   "execution_count": 2,
   "id": "b8b66075-3346-434f-b6c4-55b58824ef2f",
   "metadata": {},
   "outputs": [],
   "source": [
    "rp <- function(mdl, ev, qcov) unname(1/pextRemes(mdl, ev, qcov = qcov, lower.tail = F))\n",
    "rl <- function(mdl, rp, qcov) {\n",
    "    pars <- findpars(mdl, qcov = qcov)\n",
    "    unname(rlevd(rp, loc = sum(pars$location), scale = pars$scale, shape = pars$shape))\n",
    "}\n",
    "dI <- function(mdl, rp, qc1, qc2, rel = F) if(rel) { (rl(mdl, rp, qc1) - rl(mdl, rp, qc2)) / rl(mdl, rp, qc2) * 100 } else { rl(mdl, rp, qc1) - rl(mdl, rp, qc2) }\n",
    "pr <- function(mdl, ev, qc1, qc2) rp(mdl, ev, qc2) / rp(mdl, ev, qc1)"
   ]
  },
  {
   "cell_type": "code",
   "execution_count": 16,
   "id": "4fe025db-a097-4c8c-b174-ff64b39a6f62",
   "metadata": {},
   "outputs": [],
   "source": [
    "mdl_res <- function(mdl) {\n",
    "        \n",
    "    pars <- strip(mdl)\n",
    "    event_2023 <- mdl$x[mdl$cov.data$year == 2023]\n",
    "    \n",
    "    qcov_2023 = make.qcov(mdl, vals = list(mu1 = gmst_2023, mu2 = iod_2023))\n",
    "    qcov_hist = make.qcov(mdl, vals = list(mu1 = gmst_2023 - 1.2, mu2 = iod_2023))\n",
    "    qcov_neut = make.qcov(mdl, vals = list(mu1 = gmst_2023, mu2 = 0))\n",
    "    qcov_neuthist = make.qcov(mdl, vals = list(mu1 = gmst_2023 - 1.2, mu2 = 0))\n",
    "\n",
    "    rp_2023 <- rp(mdl, event_2023, qcov = qcov_2023)\n",
    "    rp_hist <- rp(mdl, event_2023, qcov = qcov_hist)\n",
    "    rp_neut <- rp(mdl, event_2023, qcov = qcov_neut)\n",
    "    rp_neuthist <- rp(mdl, event_2023, qcov = qcov_neuthist)\n",
    "\n",
    "    # hacky, but better than nothing - will give correct abs/relative value depending on fit type\n",
    "    if(is.infinite(rp_2023)) rp_2023 <- 100\n",
    "\n",
    "    rl_hist <- rl(mdl, rp_2023, qcov_hist)\n",
    "    rl_neut <- rl(mdl, rp_2023, qcov_neut)\n",
    "    rl_neuthist <- rl(mdl, rp_2023, qcov_neuthist)\n",
    "\n",
    "    pr_hist <- pr(mdl, event_2023, qcov_2023, qcov_hist)\n",
    "    pr_neut <- pr(mdl, event_2023, qcov_2023, qcov_neut)\n",
    "    pr_neuthist <- pr(mdl, event_2023, qcov_2023, qcov_neuthist)\n",
    "\n",
    "    dI_hist <- dI(mdl, rp_2023, qcov_2023, qcov_hist, rel = F)\n",
    "    dI_neut <- dI(mdl, rp_2023, qcov_2023, qcov_neut, rel = F)\n",
    "    dI_neuthist <- dI(mdl, rp_2023, qcov_2023, qcov_neuthist, rel = F)\n",
    "\n",
    "    rdI_hist <- dI(mdl, rp_2023, qcov_2023, qcov_hist, rel = T)\n",
    "    rdI_neut <- dI(mdl, rp_2023, qcov_2023, qcov_neut, rel = T)\n",
    "    rdI_neuthist <- dI(mdl, rp_2023, qcov_2023, qcov_neuthist, rel = T)\n",
    "\n",
    "    c(pars, sapply(c(\"event_2023\", \"rl_hist\", \"rl_neut\", \"rl_neuthist\", \"dI_hist\", \"dI_neut\", \"dI_neuthist\", \"rdI_hist\", \"rdI_neut\", \"rdI_neuthist\", \"rp_2023\", \"rp_hist\", \"rp_neut\", \"rp_neuthist\", \"pr_hist\", \"pr_neut\", \"pr_neuthist\"), \n",
    "                   get, envir = environment()))\n",
    "}"
   ]
  },
  {
   "cell_type": "code",
   "execution_count": 20,
   "id": "158c5334-24af-4751-b603-be34ec6df6a4",
   "metadata": {
    "tags": []
   },
   "outputs": [],
   "source": [
    "boot_res <- function(mdl, nsamp = 1000, seed = 42) {\n",
    "    \n",
    "    set.seed(seed)\n",
    "    mdl_df <- mdl$cov.data\n",
    "    res <- sapply(1:nsamp, function(i) {\n",
    "        # print(i)\n",
    "        lres <- NA\n",
    "        while(is.na(lres[1])) {\n",
    "            boot_df <- mdl_df[sample(1:nrow(mdl_df), replace = T),]\n",
    "            lres <- tryCatch({\n",
    "                boot_mdl <- suppressWarnings(fevd(unlist(boot_df[varnm]), boot_df, location.fun = ~ gmst + iod))\n",
    "                mdl_res(boot_mdl)\n",
    "            }, error = function(cond) {return(NA)})\n",
    "        }\n",
    "        lres\n",
    "    })\n",
    "    rbind(\"est\" = mdl_res(mdl), apply(res, 1, quantile, c(0.025, 0.975), na.rm = T))\n",
    "}"
   ]
  },
  {
   "cell_type": "markdown",
   "id": "7a2c183f-0b83-4d29-a659-2c8df06a4767",
   "metadata": {},
   "source": [
    "\n",
    "## **Properties of IOD for validation**"
   ]
  },
  {
   "cell_type": "code",
   "execution_count": 109,
   "id": "008a527c-8da0-4f23-8661-6410770e3358",
   "metadata": {},
   "outputs": [
    {
     "data": {
      "text/html": [
       "<table class=\"dataframe\">\n",
       "<caption>A matrix: 2 × 3 of type dbl</caption>\n",
       "<thead>\n",
       "\t<tr><th></th><th scope=col>est</th><th scope=col>5%</th><th scope=col>95%</th></tr>\n",
       "</thead>\n",
       "<tbody>\n",
       "\t<tr><th scope=row>mean</th><td>0.002921575</td><td>-0.06370119</td><td>0.0669238</td></tr>\n",
       "\t<tr><th scope=row>sd</th><td>0.512850929</td><td> 0.44919538</td><td>0.5754951</td></tr>\n",
       "</tbody>\n",
       "</table>\n"
      ],
      "text/latex": [
       "A matrix: 2 × 3 of type dbl\n",
       "\\begin{tabular}{r|lll}\n",
       "  & est & 5\\% & 95\\%\\\\\n",
       "\\hline\n",
       "\tmean & 0.002921575 & -0.06370119 & 0.0669238\\\\\n",
       "\tsd & 0.512850929 &  0.44919538 & 0.5754951\\\\\n",
       "\\end{tabular}\n"
      ],
      "text/markdown": [
       "\n",
       "A matrix: 2 × 3 of type dbl\n",
       "\n",
       "| <!--/--> | est | 5% | 95% |\n",
       "|---|---|---|---|\n",
       "| mean | 0.002921575 | -0.06370119 | 0.0669238 |\n",
       "| sd | 0.512850929 |  0.44919538 | 0.5754951 |\n",
       "\n"
      ],
      "text/plain": [
       "     est         5%          95%      \n",
       "mean 0.002921575 -0.06370119 0.0669238\n",
       "sd   0.512850929  0.44919538 0.5754951"
      ]
     },
     "metadata": {},
     "output_type": "display_data"
    }
   ],
   "source": [
    "iod_ts <- iod$iod\n",
    "\n",
    "set.seed(42)\n",
    "iod_ci <- sapply(1:1000, function(i) {\n",
    "    iod_boot <- sample(iod_ts, replace = T)\n",
    "    c(\"mean\" = mean(iod_boot), \"sd\" = sd(iod_boot))\n",
    "})\n",
    "t(rbind(\"est\" = c(\"mean\" = mean(iod_ts), \"sd\" = sd(iod_ts)), apply(iod_ci, 1, quantile, c(0.05, 0.95))))"
   ]
  },
  {
   "cell_type": "markdown",
   "id": "dce4acab-0f01-4f8d-becb-5c164ae7c523",
   "metadata": {},
   "source": [
    "---\n",
    "# **Shift fit**"
   ]
  },
  {
   "cell_type": "markdown",
   "id": "4529bbf4-ef0c-455c-b12a-d482d3fa20fd",
   "metadata": {},
   "source": [
    "## **Observations**"
   ]
  },
  {
   "cell_type": "code",
   "execution_count": null,
   "id": "d504833e-1e55-4ce4-a4f8-26d511076059",
   "metadata": {},
   "outputs": [],
   "source": [
    "cov_lag <- \"SON\"\n",
    "\n",
    "gmst <- load_ts(\"ts/gmst.dat\", col.names = c(\"year\", \"gmst\"))\n",
    "iod <- load_ts(paste0(\"ts/iod_\", toupper(cov_lag), \".dat\"), col.names = c(\"year\", \"iod\"))\n",
    "nino <- load_ts(paste0(\"ts/nino3.4-detrended_\", toupper(cov_lag), \".dat\"), col.names = c(\"year\", \"nino34\"))\n",
    "\n",
    "gmst_2023 <- gmst$gmst[gmst$year == 2023]\n",
    "iod_2023 <- iod$iod[iod$year == 2023]"
   ]
  },
  {
   "cell_type": "code",
   "execution_count": 22,
   "id": "f9eb30a1-6b07-4741-8911-8a047dbd96f2",
   "metadata": {},
   "outputs": [],
   "source": [
    "dataset <- \"tamsat\"; varnm <- \"rx30day\"\n",
    "\n",
    "# invisible(sapply(c(\"mswep\", \"tamsat\")[1], function(dataset) {\n",
    "#     invisible(sapply(c(\"rx3day\", \"rx30day\")[1], function(varnm) {\n",
    "                \n",
    "        ts <- merge(load_ts(paste0(\"ts/HoA-flooding_\", dataset, \"_OND_rx3day.dat\"), col.names = c(\"year\", \"rx3day\")),\n",
    "                    load_ts(paste0(\"ts/HoA-flooding_\", dataset, \"_OND_30day_mean.dat\"), col.names = c(\"year\", \"rx30day\")))\n",
    "\n",
    "        df <- merge(merge(merge(gmst, iod), nino), ts)\n",
    "\n",
    "        event_2023 <- df[df$year == 2023, varnm]\n",
    "        \n",
    "        mdl_shift <- fevd(unlist(df[varnm]), df, location.fun = ~ gmst + iod)\n",
    "\n",
    "        res <- boot_res(mdl_shift)\n",
    "        \n",
    "        write.csv(res, paste0(\"res/res-obs_shift-fit_\", varnm, \"_\", dataset, \"_\", cov_lag, \".csv\"))\n",
    "#     }))\n",
    "# }))"
   ]
  },
  {
   "cell_type": "code",
   "execution_count": 76,
   "id": "68a90f15-5a34-4d79-893a-a17eadff8bac",
   "metadata": {},
   "outputs": [],
   "source": [
    "# compile results into a single file\n",
    "incl <- c(\"scale\", \"shape\", \"event_2023\", \"rp_2023\", \"pr_hist\", \"pr_neut\", \"dI_hist\", \"dI_neut\", \"rdI_hist\", \"rdI_neut\")\n",
    "res_compiled <- t(sapply(list.files(\"res\", pattern = \"res-obs_shift-fit_\", full.names = T), function(fnm) setNames(unlist(c(read.csv(fnm)[,incl])), paste0(rep(incl, each = 3), c(\"_est\", \"_lower\", \"_upper\")))))\n",
    "rownames(res_compiled) <- sapply(rownames(res_compiled), function(s) paste0(strsplit(s, \"_\")[[1]][3:4], collapse = \"_\"))\n",
    "write.csv(res_compiled, \"res/res-obs_shift-fit.csv\")"
   ]
  },
  {
   "cell_type": "code",
   "execution_count": 108,
   "id": "011e5ac5-419b-4945-a8c3-23642a673b09",
   "metadata": {},
   "outputs": [
    {
     "data": {
      "text/html": [
       "<table class=\"dataframe\">\n",
       "<caption>A matrix: 2 × 3 of type dbl</caption>\n",
       "<thead>\n",
       "\t<tr><th></th><th scope=col>est</th><th scope=col>5%</th><th scope=col>95%</th></tr>\n",
       "</thead>\n",
       "<tbody>\n",
       "\t<tr><th scope=row>mean</th><td>0.002921575</td><td>-0.06370119</td><td>0.0669238</td></tr>\n",
       "\t<tr><th scope=row>sd</th><td>0.512850929</td><td> 0.44919538</td><td>0.5754951</td></tr>\n",
       "</tbody>\n",
       "</table>\n"
      ],
      "text/latex": [
       "A matrix: 2 × 3 of type dbl\n",
       "\\begin{tabular}{r|lll}\n",
       "  & est & 5\\% & 95\\%\\\\\n",
       "\\hline\n",
       "\tmean & 0.002921575 & -0.06370119 & 0.0669238\\\\\n",
       "\tsd & 0.512850929 &  0.44919538 & 0.5754951\\\\\n",
       "\\end{tabular}\n"
      ],
      "text/markdown": [
       "\n",
       "A matrix: 2 × 3 of type dbl\n",
       "\n",
       "| <!--/--> | est | 5% | 95% |\n",
       "|---|---|---|---|\n",
       "| mean | 0.002921575 | -0.06370119 | 0.0669238 |\n",
       "| sd | 0.512850929 |  0.44919538 | 0.5754951 |\n",
       "\n"
      ],
      "text/plain": [
       "     est         5%          95%      \n",
       "mean 0.002921575 -0.06370119 0.0669238\n",
       "sd   0.512850929  0.44919538 0.5754951"
      ]
     },
     "metadata": {},
     "output_type": "display_data"
    }
   ],
   "source": []
  },
  {
   "cell_type": "code",
   "execution_count": null,
   "id": "0f91f0b2-0bae-4a16-8df9-fd992c51a175",
   "metadata": {},
   "outputs": [],
   "source": []
  }
 ],
 "metadata": {
  "kernelspec": {
   "display_name": "R [conda env:r_env]",
   "language": "R",
   "name": "conda-env-r_env-r"
  },
  "language_info": {
   "codemirror_mode": "r",
   "file_extension": ".r",
   "mimetype": "text/x-r-source",
   "name": "R",
   "pygments_lexer": "r",
   "version": "4.2.2"
  }
 },
 "nbformat": 4,
 "nbformat_minor": 5
}
