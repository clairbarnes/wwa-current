{
 "cells": [
  {
   "cell_type": "code",
   "execution_count": 1,
   "metadata": {},
   "outputs": [],
   "source": [
    "suppressMessages(library(\"rwwa\"))"
   ]
  },
  {
   "cell_type": "code",
   "execution_count": 3,
   "metadata": {},
   "outputs": [],
   "source": [
    "gmst <- read.table(\"gmst.txt\", col.names = c(\"year\", \"gmst\"))\n",
    "gmst$gmst <- gmst$gmst - gmst$gmst[gmst$year == 2025]\n",
    "cov_2025 <- data.frame(gmst = 0)\n",
    "cov_pi <- data.frame(gmst = c(\"pi\" = -1.3, \"2000\" = -0.66))"
   ]
  },
  {
   "cell_type": "markdown",
   "metadata": {},
   "source": [
    "# Loop over all files & fit GEV to both"
   ]
  },
  {
   "cell_type": "code",
   "execution_count": 7,
   "metadata": {},
   "outputs": [
    {
     "name": "stdout",
     "output_type": "stream",
     "text": [
      "[1] \"cov_cf has more than one row: only first row will be used as counterfactual covariates\"\n"
     ]
    }
   ],
   "source": [
    "fl <- list.files(\"/rds/general/user/cb2714/home/00_WWA_project_folder/ephemeral/UK_heat\", pattern = \"tx3x_.+csv\", full.names = T)\n",
    "for(fnm in fl) {\n",
    "    if (file.exists(paste0(\"res/res_\", strsplit(fnm, \"/\")[[1]][10]))) next\n",
    "    \n",
    "    varnm <- strsplit(strsplit(fnm, \"/\")[[1]][10], \"_\")[[1]][1]\n",
    "    rp_est <- switch(varnm, \"tx1x\" = 25, \"tx3x\" = 5, \"tx1x-jja\" = 25, \"tx3x-jja\" = 5)\n",
    "    \n",
    "    df <- merge(gmst, read.csv(fnm, col.names = c(\"year\", \"tx\")))\n",
    "    df <- df[!is.na(df$tx),]\n",
    "    \n",
    "    mdl <- fit_ns(\"gev\", \"shift\", df, varnm = \"tx\", covnm = \"gmst\", lower = F)\n",
    "    exp_ev <- eff_return_level(mdl, rp = rp_est, fixed_cov = cov_2025)\n",
    "    mdl <- fit_ns(\"gev\", \"shift\", df, varnm = \"tx\", covnm = \"gmst\", lower = F, ev = exp_ev, ev_year = 2025)\n",
    "    \n",
    "    res <- boot_ci(mdl, cov_f = cov_2025, cov_cf = cov_pi, rp = rp_est)\n",
    "    write.csv(res, paste0(\"res/res_\", strsplit(fnm, \"/\")[[1]][10]))\n",
    "    \n",
    "    png(paste0(\"fig/\",gsub(\"csv\", \"png\", strsplit(fnm, \"/\")[[1]][10])), height = 360, width = 360*3); {\n",
    "        prep_window(c(1,3))\n",
    "            ylim <- switch(varnm, \"tx1x\" = c(15,40), \"tx3x\" = c(15,40), \"tx1x-jja\" = c(15,40), \"tx3x-jja\" = c(15,40))\n",
    "        plot_trend(mdl, ev = mdl$ev, ev_year = mdl$ev_year, ylim = ylim)\n",
    "        plot_covtrend(mdl, \"gmst\", ev = mdl$ev, ev_x = 0, ylim = ylim)\n",
    "        plot_returnlevels(mdl, cov_f = cov_2025, cov_cf = cov_pi, ylim = ylim, ev = mdl$ev)\n",
    "    }; dev.off()\n",
    "}"
   ]
  },
  {
   "cell_type": "code",
   "execution_count": 54,
   "metadata": {},
   "outputs": [],
   "source": [
    "# compile all the results\n",
    "obs_res <- t(sapply(list.files(\"res\", pattern = \"hw28\", full.names = T), function(fnm) {\n",
    "    res <- read.csv(fnm, row.names = \"X\")\n",
    "    unlist(lapply(rownames(res), function(cnm) setNames(res[cnm,], paste(gsub(\"_\", \"-\", cnm), c(\"est\", \"lower\", \"upper\"), sep = \"_\"))))\n",
    "}))\n",
    "\n",
    "rownames(obs_res) <- sapply(gsub(\".csv\",\"\",rownames(obs_res)), function(rnm) paste0(strsplit(rnm,\"_\")[[1]][c(2,4)], collapse = \"_\"))\n",
    "write.csv(obs_res,\"res-obs_tx3x-2000.csv\")"
   ]
  },
  {
   "cell_type": "markdown",
   "metadata": {},
   "source": [
    "# Heathrow"
   ]
  },
  {
   "cell_type": "code",
   "execution_count": 12,
   "metadata": {},
   "outputs": [],
   "source": [
    "ts <- read.csv(\"tx3x_heathrow.csv\", col.names = c(\"year\", \"tx\"))\n",
    "df <- merge(gmst, ts)"
   ]
  },
  {
   "cell_type": "code",
   "execution_count": 13,
   "metadata": {},
   "outputs": [],
   "source": [
    "mdl <- fit_ns(\"gev\", \"shift\", df, varnm = \"tx\", covnm = \"gmst\", lower = F)"
   ]
  },
  {
   "cell_type": "code",
   "execution_count": 16,
   "metadata": {},
   "outputs": [],
   "source": [
    "res <- boot_ci(mdl, cov_f = cov_2025, cov_cf = cov_pi, rp = 5)\n",
    "write.csv(res, \"res/res_tx3x_heathrow.csv\")"
   ]
  },
  {
   "cell_type": "code",
   "execution_count": 47,
   "metadata": {},
   "outputs": [],
   "source": [
    "fl <- list.files(pattern = \"tx3x.+csv\", full.names = T)"
   ]
  },
  {
   "cell_type": "code",
   "execution_count": 50,
   "metadata": {},
   "outputs": [],
   "source": [
    "for(fnm in fl) {\n",
    "    \n",
    "    res_fnm <- paste0(\"res/res_\", strsplit(fnm, \"_\")[[1]][2])\n",
    "    if (file.exists(res_fnm)) next\n",
    "    \n",
    "    varnm <- strsplit(strsplit(fnm, \"/\")[[1]][2], \"_\")[[1]][1]\n",
    "    rp_est <- switch(varnm, \"tx1x\" = 25, \"tx3x\" = 5, \"tx1x-jja\" = 25, \"tx3x-jja\" = 5)\n",
    "    \n",
    "    df <- merge(gmst, read.csv(fnm, col.names = c(\"year\", \"tx\")))\n",
    "    df <- df[!is.na(df$tx),]\n",
    "    \n",
    "    mdl <- fit_ns(\"gev\", \"shift\", df, varnm = \"tx\", covnm = \"gmst\", lower = F)\n",
    "    exp_ev <- eff_return_level(mdl, rp = rp_est, fixed_cov = cov_2025)\n",
    "    mdl <- fit_ns(\"gev\", \"shift\", df, varnm = \"tx\", covnm = \"gmst\", lower = F, ev = exp_ev, ev_year = 2025)\n",
    "    \n",
    "    res <- boot_ci(mdl, cov_f = cov_2025, cov_cf = cov_pi, rp = rp_est)\n",
    "    write.csv(res, res_fnm)\n",
    "    \n",
    "    png(paste0(\"fig/\",gsub(\"csv\", \"png\", strsplit(fnm, \"/\")[[1]][10])), height = 360, width = 360*3); {\n",
    "        prep_window(c(1,3))\n",
    "            ylim <- switch(varnm, \"tx1x\" = c(15,40), \"tx3x\" = c(15,40), \"tx1x-jja\" = c(15,40), \"tx3x-jja\" = c(15,40))\n",
    "        plot_trend(mdl, ev = mdl$ev, ev_year = mdl$ev_year, ylim = ylim)\n",
    "        plot_covtrend(mdl, \"gmst\", ev = mdl$ev, ev_x = 0, ylim = ylim)\n",
    "        plot_returnlevels(mdl, cov_f = cov_2025, cov_cf = cov_pi, ylim = ylim, ev = mdl$ev)\n",
    "    }; dev.off()\n",
    "}"
   ]
  },
  {
   "cell_type": "code",
   "execution_count": 49,
   "metadata": {},
   "outputs": [
    {
     "data": {
      "text/html": [
       "'./tx3x_HEATHROW.csv'"
      ],
      "text/latex": [
       "'./tx3x\\_HEATHROW.csv'"
      ],
      "text/markdown": [
       "'./tx3x_HEATHROW.csv'"
      ],
      "text/plain": [
       "[1] \"./tx3x_HEATHROW.csv\""
      ]
     },
     "metadata": {},
     "output_type": "display_data"
    }
   ],
   "source": [
    "fnm"
   ]
  },
  {
   "cell_type": "code",
   "execution_count": null,
   "metadata": {},
   "outputs": [],
   "source": []
  },
  {
   "cell_type": "code",
   "execution_count": 74,
   "metadata": {},
   "outputs": [],
   "source": [
    "fl <- list.files(\"res\", full.names = T)\n",
    "fl <- fl[!grepl(\"hw28\", fl)]\n",
    "obs_res <- t(sapply(fl, function(fnm) {\n",
    "    res <- read.csv(fnm, row.names = \"X\")\n",
    "    unlist(lapply(rownames(res), function(cnm) setNames(res[cnm,], paste(gsub(\"_\", \"-\", cnm), c(\"est\", \"lower\", \"upper\"), sep = \"_\"))))\n",
    "}))\n",
    "rownames(obs_res) <- gsub(\".+tx3x_|.csv\", \"\", rownames(obs_res))\n",
    "write.csv(obs_res, \"res-stn.csv\")"
   ]
  },
  {
   "cell_type": "code",
   "execution_count": 82,
   "metadata": {},
   "outputs": [],
   "source": [
    "res_obs <- read.csv(\"res-obs.csv\", row.names = \"X\")\n",
    "res_stn <- read.csv(\"res-stn.csv\", row.names = \"X\")"
   ]
  },
  {
   "cell_type": "code",
   "execution_count": 91,
   "metadata": {},
   "outputs": [],
   "source": [
    "res_tx3x <- rbind(res_obs[grepl(\"tx3x_\", rownames(res_obs)), grepl(\"alpha\", colnames(res_obs))],\n",
    "                  res_stn[, grepl(\"alpha\", colnames(res_stn))])"
   ]
  },
  {
   "cell_type": "code",
   "execution_count": 126,
   "metadata": {},
   "outputs": [
    {
     "data": {
      "image/png": "[encoded data removed]",
      "text/plain": [
       "plot without title"
      ]
     },
     "metadata": {
      "image/png": {
       "height": 500,
       "width": 500
      }
     },
     "output_type": "display_data"
    }
   ],
   "source": [
    "prep_window(c(1,1), mar = c(7,4,1,1), h = 5, w = 5)\n",
    "plot(1:6, res_tx3x[,1], xlim = c(0.5,6.5), ylim = range(pretty(unlist(res_tx3x))), xaxt = \"n\", xlab = \"\", ylab = \"Change per deg GMST\")\n",
    "segments(x0 = c(1:6), y0 = res_tx3x[,2], y1 = res_tx3x[,3], lwd = 6, col = adjustcolor(c(rep(\"red\", 3), rep(\"orange\", 3)), alpha = 0.5))\n",
    "points(1:6, res_tx3x[,1])\n",
    "abline(h = 0:6, col = adjustcolor(\"black\", 0.1))\n",
    "abline(h = 0, col = \"black\", lty = 2)\n",
    "axis(1, at = 1:6, labels = rownames(res_tx3x), las = 2)"
   ]
  },
  {
   "cell_type": "code",
   "execution_count": 96,
   "metadata": {},
   "outputs": [
    {
     "data": {
      "text/html": [
       "<table class=\"dataframe\">\n",
       "<caption>A data.frame: 6 × 3</caption>\n",
       "<thead>\n",
       "\t<tr><th></th><th scope=col>alpha.gmst_est</th><th scope=col>alpha.gmst_lower</th><th scope=col>alpha.gmst_upper</th></tr>\n",
       "\t<tr><th></th><th scope=col>&lt;dbl&gt;</th><th scope=col>&lt;dbl&gt;</th><th scope=col>&lt;dbl&gt;</th></tr>\n",
       "</thead>\n",
       "<tbody>\n",
       "\t<tr><th scope=row>tx3x_eobs</th><td>2.869177</td><td>1.5612579</td><td>4.068543</td></tr>\n",
       "\t<tr><th scope=row>tx3x_era5</th><td>3.078710</td><td>1.5033709</td><td>4.451603</td></tr>\n",
       "\t<tr><th scope=row>tx3x_haduk</th><td>2.079029</td><td>0.2484639</td><td>3.520800</td></tr>\n",
       "\t<tr><th scope=row>HEATHROW</th><td>3.746136</td><td>1.7090863</td><td>5.619782</td></tr>\n",
       "\t<tr><th scope=row>ROTHAMSTED</th><td>2.514040</td><td>0.9630404</td><td>3.777651</td></tr>\n",
       "\t<tr><th scope=row>WISLEY</th><td>2.746466</td><td>1.3063057</td><td>4.088631</td></tr>\n",
       "</tbody>\n",
       "</table>\n"
      ],
      "text/latex": [
       "A data.frame: 6 × 3\n",
       "\\begin{tabular}{r|lll}\n",
       "  & alpha.gmst\\_est & alpha.gmst\\_lower & alpha.gmst\\_upper\\\\\n",
       "  & <dbl> & <dbl> & <dbl>\\\\\n",
       "\\hline\n",
       "\ttx3x\\_eobs & 2.869177 & 1.5612579 & 4.068543\\\\\n",
       "\ttx3x\\_era5 & 3.078710 & 1.5033709 & 4.451603\\\\\n",
       "\ttx3x\\_haduk & 2.079029 & 0.2484639 & 3.520800\\\\\n",
       "\tHEATHROW & 3.746136 & 1.7090863 & 5.619782\\\\\n",
       "\tROTHAMSTED & 2.514040 & 0.9630404 & 3.777651\\\\\n",
       "\tWISLEY & 2.746466 & 1.3063057 & 4.088631\\\\\n",
       "\\end{tabular}\n"
      ],
      "text/markdown": [
       "\n",
       "A data.frame: 6 × 3\n",
       "\n",
       "| <!--/--> | alpha.gmst_est &lt;dbl&gt; | alpha.gmst_lower &lt;dbl&gt; | alpha.gmst_upper &lt;dbl&gt; |\n",
       "|---|---|---|---|\n",
       "| tx3x_eobs | 2.869177 | 1.5612579 | 4.068543 |\n",
       "| tx3x_era5 | 3.078710 | 1.5033709 | 4.451603 |\n",
       "| tx3x_haduk | 2.079029 | 0.2484639 | 3.520800 |\n",
       "| HEATHROW | 3.746136 | 1.7090863 | 5.619782 |\n",
       "| ROTHAMSTED | 2.514040 | 0.9630404 | 3.777651 |\n",
       "| WISLEY | 2.746466 | 1.3063057 | 4.088631 |\n",
       "\n"
      ],
      "text/plain": [
       "           alpha.gmst_est alpha.gmst_lower alpha.gmst_upper\n",
       "tx3x_eobs  2.869177       1.5612579        4.068543        \n",
       "tx3x_era5  3.078710       1.5033709        4.451603        \n",
       "tx3x_haduk 2.079029       0.2484639        3.520800        \n",
       "HEATHROW   3.746136       1.7090863        5.619782        \n",
       "ROTHAMSTED 2.514040       0.9630404        3.777651        \n",
       "WISLEY     2.746466       1.3063057        4.088631        "
      ]
     },
     "metadata": {},
     "output_type": "display_data"
    }
   ],
   "source": [
    "res_tx3x"
   ]
  },
  {
   "cell_type": "markdown",
   "metadata": {},
   "source": [
    "# Gridded trend"
   ]
  },
  {
   "cell_type": "code",
   "execution_count": 15,
   "metadata": {},
   "outputs": [],
   "source": [
    "# loop over all flattened data & fit nonstationary model to each - NB no bootstrapping\n",
    "fl = list.files(pattern = \"flattened\", full.names = T)\n",
    "cov_cf <- data.frame(gmst = c(\"pi\" = -1.3, \"2000\" = -0.66))\n",
    "\n",
    "for(fnm in fl) {\n",
    "    \n",
    "    res_fnm <- gsub(\"flattened\", \"flattened-res\", fnm)\n",
    "    \n",
    "    if (!file.exists(res_fnm)) {\n",
    "        \n",
    "        # load the .csv and \n",
    "        df <- read.csv(fnm, skip = 3, header = F)\n",
    "        colnames(df)[1] <- \"year\"\n",
    "        df <- merge(gmst, df)\n",
    "\n",
    "        # fit nonstationary model to all columns\n",
    "        models <- sapply(colnames(df)[grepl(\"V\", colnames(df))], function(cnm) {\n",
    "            df_c <- df[,c(\"year\", \"gmst\", cnm)]\n",
    "            tryCatch({\n",
    "                fit_ns(\"gev\", \"shift\", df_c, cnm, c(\"gmst\"), lower = F)\n",
    "            }, error = function(cond) { return(NULL) })\n",
    "        }, simplify = F)\n",
    "\n",
    "        # get all model results & save as .csv to be reconstructed & plotted in python\n",
    "        fitted_res <- sapply(models, function(mdl) {\n",
    "            if(!is.null(unlist(mdl)[1])) {\n",
    "                mdl_ests(mdl, cov_f = cov_2025, cov_cf = cov_cf, rp = 5)\n",
    "            } else {\n",
    "                rep(NA, 14)\n",
    "            }})\n",
    "        write.csv(fitted_res, res_fnm)\n",
    "    }\n",
    "}"
   ]
  },
  {
   "cell_type": "code",
   "execution_count": 13,
   "metadata": {},
   "outputs": [],
   "source": []
  },
  {
   "cell_type": "code",
   "execution_count": null,
   "metadata": {},
   "outputs": [],
   "source": []
  }
 ],
 "metadata": {
  "kernelspec": {
   "display_name": "R [conda env:r_env]",
   "language": "R",
   "name": "conda-env-r_env-r"
  },
  "language_info": {
   "codemirror_mode": "r",
   "file_extension": ".r",
   "mimetype": "text/x-r-source",
   "name": "R",
   "pygments_lexer": "r",
   "version": "4.2.2"
  }
 },
 "nbformat": 4,
 "nbformat_minor": 2
}
