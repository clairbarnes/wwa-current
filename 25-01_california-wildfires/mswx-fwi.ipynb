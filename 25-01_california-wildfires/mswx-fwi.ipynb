{
 "cells": [
  {
   "cell_type": "code",
   "execution_count": 1,
   "metadata": {},
   "outputs": [],
   "source": [
    "import sys; sys.path.append('/rds/general/user/cb2714/home/wwa/'); from wwa import *\n",
    "\n",
    "xn, xx, yn, yx = [-125,-110,30,40]"
   ]
  },
  {
   "cell_type": "markdown",
   "metadata": {},
   "source": [
    "---\n",
    "# MSWX"
   ]
  },
  {
   "cell_type": "markdown",
   "metadata": {},
   "source": [
    "## Extract FWI variables"
   ]
  },
  {
   "cell_type": "code",
   "execution_count": 2,
   "metadata": {},
   "outputs": [],
   "source": [
    "fpath = \"/rds/general/user/cb2714/home/00_WWA_project_folder/live/data/mswx/\"\n",
    "outpath = \"/rds/general/user/cb2714/home/00_WWA_project_folder/ephemeral/cali-wildfires/mswx/\""
   ]
  },
  {
   "cell_type": "code",
   "execution_count": 3,
   "metadata": {},
   "outputs": [
    {
     "name": "stdout",
     "output_type": "stream",
     "text": [
      "Done.\n"
     ]
    }
   ],
   "source": [
    "for y in range(2025,1978,-1):\n",
    "    print(y, end = \" \")\n",
    "    \n",
    "    for varnm in [\"P\", \"RelHum\", \"Tmax\", \"Wind\"]:\n",
    "        \n",
    "        new_fnm = outpath+varnm+\"_\"+str(y)+\".nc\"\n",
    "        if os.path.exists(new_fnm): continue\n",
    "            \n",
    "        print(varnm, end = \" \")\n",
    "        \n",
    "        da = wrap_lon(xr.open_mfdataset(fpath+varnm+\"/\"+str(y)+\"/*.nc\")).sel(lon = slice(xn,xx), lat = slice(yn,yx))\n",
    "        da.to_netcdf(new_fnm)\n",
    "    print(\"\")\n",
    "clear_output(wait = False)\n",
    "print(\"Done.\")"
   ]
  },
  {
   "cell_type": "markdown",
   "metadata": {},
   "source": [
    "## Compute FWI"
   ]
  },
  {
   "cell_type": "code",
   "execution_count": 3,
   "metadata": {},
   "outputs": [
    {
     "name": "stderr",
     "output_type": "stream",
     "text": [
      "/rds/general/user/cb2714/home/anaconda3/envs/wwa/lib/python3.10/site-packages/xclim/core/cfchecks.py:42: UserWarning: Variable does not have a `cell_methods` attribute.\n",
      "  _check_cell_methods(\n",
      "/rds/general/user/cb2714/home/anaconda3/envs/wwa/lib/python3.10/site-packages/xclim/core/cfchecks.py:46: UserWarning: Variable does not have a `standard_name` attribute.\n",
      "  check_valid(vardata, \"standard_name\", data[\"standard_name\"])\n",
      "/rds/general/user/cb2714/home/anaconda3/envs/wwa/lib/python3.10/site-packages/xclim/indices/fire/_cffwis.py:840: RuntimeWarning: invalid value encountered in _drought_code\n",
      "  out[\"DC\"][..., it] = _drought_code(\n",
      "/rds/general/user/cb2714/home/anaconda3/envs/wwa/lib/python3.10/site-packages/xclim/indices/fire/_cffwis.py:844: RuntimeWarning: invalid value encountered in _duff_moisture_code\n",
      "  out[\"DMC\"][..., it] = _duff_moisture_code(\n",
      "/rds/general/user/cb2714/home/anaconda3/envs/wwa/lib/python3.10/site-packages/xclim/indices/fire/_cffwis.py:853: RuntimeWarning: invalid value encountered in _fine_fuel_moisture_code\n",
      "  out[\"FFMC\"][..., it] = _fine_fuel_moisture_code(\n",
      "/rds/general/user/cb2714/home/anaconda3/envs/wwa/lib/python3.10/site-packages/xclim/indices/fire/_cffwis.py:840: RuntimeWarning: invalid value encountered in _drought_code\n",
      "  out[\"DC\"][..., it] = _drought_code(\n",
      "/rds/general/user/cb2714/home/anaconda3/envs/wwa/lib/python3.10/site-packages/xclim/indices/fire/_cffwis.py:483: RuntimeWarning: invalid value encountered in divide\n",
      "  (0.8 * dc * dmc) / (dmc + 0.4 * dc),  # *Eq.27a*#\n",
      "/rds/general/user/cb2714/home/anaconda3/envs/wwa/lib/python3.10/site-packages/xclim/indices/fire/_cffwis.py:484: RuntimeWarning: invalid value encountered in divide\n",
      "  dmc - (1.0 - 0.8 * dc / (dmc + 0.4 * dc)) * (0.92 + (0.0114 * dmc) ** 1.7),\n"
     ]
    }
   ],
   "source": [
    "from xclim.indicators.atmos import cffwis_indices\n",
    "\n",
    "ds = xr.merge([xr.open_mfdataset(outpath+\"*\"+varnm+\"*.nc\") for varnm in [\"P\", \"RelHum\", \"Tmax\", \"Wind\"]]).load()\n",
    "ds = ds.rename(precipitation = \"pr\", relative_humidity = \"hurs\", air_temperature = \"tas\", wind_speed = \"sfcWind\")\n",
    "\n",
    "# mask to land surface only\n",
    "ds = ds.where(regionmask.defined_regions.natural_earth_v5_0_0.land_50.mask(ds) == 0)\n",
    "\n",
    "fwi = cffwis_indices(ds = ds, overwintering = False)\n",
    "fwi = xr.merge(fwi)\n",
    "\n",
    "fwi.to_netcdf(outpath+\"fwi_mswx_1979-2025.nc\")"
   ]
  },
  {
   "cell_type": "code",
   "execution_count": null,
   "metadata": {},
   "outputs": [],
   "source": []
  }
 ],
 "metadata": {
  "kernelspec": {
   "display_name": "wwa",
   "language": "python",
   "name": "wwa"
  },
  "language_info": {
   "codemirror_mode": {
    "name": "ipython",
    "version": 3
   },
   "file_extension": ".py",
   "mimetype": "text/x-python",
   "name": "python",
   "nbconvert_exporter": "python",
   "pygments_lexer": "ipython3",
   "version": "3.10.8"
  }
 },
 "nbformat": 4,
 "nbformat_minor": 2
}
