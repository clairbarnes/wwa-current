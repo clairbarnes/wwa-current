{
 "cells": [
  {
   "cell_type": "code",
   "execution_count": 1,
   "metadata": {},
   "outputs": [],
   "source": [
    "import sys; sys.path.append('/rds/general/user/cb2714/home/wwa/'); from wwa import *\n",
    "\n",
    "xn, xx, yn, yx = [-125,-110,30,40]"
   ]
  },
  {
   "cell_type": "markdown",
   "metadata": {},
   "source": [
    "---\n",
    "# CDS download requests"
   ]
  },
  {
   "cell_type": "code",
   "execution_count": 1,
   "metadata": {},
   "outputs": [
    {
     "name": "stderr",
     "output_type": "stream",
     "text": [
      "2025-01-13 08:46:52,726 WARNING [2025-01-08T00:00:00] Please be informed that Beta URL (cds-beta) have been now discontinued. If you still need to migrate, please follow [available instructions here](https://forum.ecmwf.int/t/goodbye-legacy-climate-data-store-hello-new-climate-data-store-cds/6380)\n",
      "2025-01-13 08:46:52,727 INFO [2024-09-28T00:00:00] **Welcome to the New Climate Data Store (CDS)!** This new system is in its early days of full operations and still undergoing enhancements and fine tuning. Some disruptions are to be expected. Your \n",
      "[feedback](https://jira.ecmwf.int/plugins/servlet/desk/portal/1/create/202) is key to improve the user experience on the new CDS for the benefit of everyone. Thank you.\n",
      "2025-01-13 08:46:52,728 INFO [2024-09-26T00:00:00] Watch our [Forum](https://forum.ecmwf.int/) for Announcements, news and other discussed topics.\n",
      "2025-01-13 08:46:52,728 INFO [2024-09-16T00:00:00] Remember that you need to have an ECMWF account to use the new CDS. **Your old CDS credentials will not work in new CDS!**\n",
      "2025-01-13 08:46:52,729 WARNING [2024-06-16T00:00:00] CDS API syntax is changed and some keys or parameter names may have also changed. To avoid requests failing, please use the \"Show API request code\" tool on the dataset Download Form to check you are using the correct syntax for your API request.\n"
     ]
    }
   ],
   "source": [
    "import os, cdsapi\n",
    "from IPython.display import clear_output\n",
    "\n",
    "client = cdsapi.Client()"
   ]
  },
  {
   "cell_type": "markdown",
   "metadata": {},
   "source": [
    "## Noon FWI variables - ERA5"
   ]
  },
  {
   "cell_type": "code",
   "execution_count": 3,
   "metadata": {},
   "outputs": [
    {
     "name": "stdout",
     "output_type": "stream",
     "text": [
      "Done.\n"
     ]
    }
   ],
   "source": [
    "for y in range(2024,1949,-1):\n",
    "        \n",
    "        y = str(y)\n",
    "        \n",
    "        new_fnm = \"/rds/general/user/cb2714/home/00_WWA_project_folder/ephemeral/cali-wildfires/era5/era5_noon-vars_\"+y+\".nc\"\n",
    "        print(y)\n",
    "        if os.path.exists(new_fnm): continue\n",
    "                \n",
    "        dataset = \"reanalysis-era5-single-levels\"\n",
    "        request = {\n",
    "            \"product_type\": [\"reanalysis\"],\n",
    "            \"variable\": [\n",
    "                \"10m_u_component_of_wind\",\n",
    "                \"10m_v_component_of_wind\",\n",
    "                \"2m_dewpoint_temperature\",\n",
    "                \"2m_temperature\"\n",
    "            ],\n",
    "            \"year\": [y],\n",
    "            \"month\": [\n",
    "                \"01\", \"02\", \"03\",\n",
    "                \"04\", \"05\", \"06\",\n",
    "                \"07\", \"08\", \"09\",\n",
    "                \"10\", \"11\", \"12\"\n",
    "            ],\n",
    "            \"day\": [\n",
    "                \"01\", \"02\", \"03\",\n",
    "                \"04\", \"05\", \"06\",\n",
    "                \"07\", \"08\", \"09\",\n",
    "                \"10\", \"11\", \"12\",\n",
    "                \"13\", \"14\", \"15\",\n",
    "                \"16\", \"17\", \"18\",\n",
    "                \"19\", \"20\", \"21\",\n",
    "                \"22\", \"23\", \"24\",\n",
    "                \"25\", \"26\", \"27\",\n",
    "                \"28\", \"29\", \"30\",\n",
    "                \"31\"\n",
    "            ],\n",
    "            \"time\": [\"20:00\"],\n",
    "            \"data_format\": \"netcdf\",\n",
    "            \"download_format\": \"unarchived\",\n",
    "            \"area\": [40, -125, 30, -110]\n",
    "        }\n",
    "\n",
    "        client.retrieve(dataset, request, new_fnm)\n",
    "        \n",
    "clear_output(wait = False)\n",
    "print(\"Done.\")"
   ]
  },
  {
   "cell_type": "markdown",
   "metadata": {},
   "source": [
    "## 24h accumulated precip - ERA5"
   ]
  },
  {
   "cell_type": "code",
   "execution_count": null,
   "metadata": {},
   "outputs": [],
   "source": [
    "for y in range(2023,1950,-1):\n",
    "        \n",
    "        y = str(y)\n",
    "        \n",
    "        new_fnm = \"/rds/general/user/cb2714/projects/wwa/ephemeral/cali-wildfires/era5/era5_pr24h_\"+y+\".nc\"\n",
    "        print(y)\n",
    "        if os.path.exists(new_fnm): continue\n",
    "        \n",
    "        dataset = \"derived-era5-single-levels-daily-statistics\"\n",
    "        request = {\n",
    "            \"product_type\": \"reanalysis\",\n",
    "            \"variable\": [\"total_precipitation\"],\n",
    "            \"year\": y,\n",
    "            \"month\": [\n",
    "                \"01\", \"02\", \"03\",\n",
    "                \"04\", \"05\", \"06\",\n",
    "                \"07\", \"08\", \"09\",\n",
    "                \"10\", \"11\", \"12\"\n",
    "            ],\n",
    "            \"day\": [\n",
    "                \"01\", \"02\", \"03\",\n",
    "                \"04\", \"05\", \"06\",\n",
    "                \"07\", \"08\", \"09\",\n",
    "                \"10\", \"11\", \"12\",\n",
    "                \"13\", \"14\", \"15\",\n",
    "                \"16\", \"17\", \"18\",\n",
    "                \"19\", \"20\", \"21\",\n",
    "                \"22\", \"23\", \"24\",\n",
    "                \"25\", \"26\", \"27\",\n",
    "                \"28\", \"29\", \"30\",\n",
    "                \"31\"\n",
    "            ],\n",
    "            \"daily_statistic\": \"daily_sum\",\n",
    "            \"time_zone\": \"utc-08:00\",\n",
    "            \"frequency\": \"1_hourly\",\n",
    "            \"area\": [40, -125, 30, -110],\n",
    "            'format': 'netcdf'\n",
    "        }\n",
    "\n",
    "        client.retrieve(dataset, request, new_fnm)\n",
    "        clear_output(wait = False)\n",
    "        \n",
    "print(\"Done.\")"
   ]
  },
  {
   "cell_type": "markdown",
   "metadata": {},
   "source": [
    "## Hourly VPD variables - ERA5Land"
   ]
  },
  {
   "cell_type": "code",
   "execution_count": null,
   "metadata": {},
   "outputs": [
    {
     "name": "stdout",
     "output_type": "stream",
     "text": [
      "196801\n"
     ]
    },
    {
     "name": "stderr",
     "output_type": "stream",
     "text": [
      "2025-01-13 11:01:11,581 INFO [2025-01-09T00:00:00] Please be aware that ERA5 data from 1st January 2025 was degraded and is being corrected. Watch the [Forum announcement](https://forum.ecmwf.int/t/era5-data-from-1st-january-2025-was-degraded-and-is-being-corrected/10689) for updates.\n",
      "2025-01-13 11:01:11,582 INFO Request ID is d64941a3-fc47-4b47-b868-4e512e08db07\n",
      "2025-01-13 11:01:11,633 INFO status has been updated to accepted\n",
      "2025-01-13 11:03:05,725 INFO status has been updated to running\n"
     ]
    }
   ],
   "source": [
    "for y in range(1980,1949,-1):\n",
    "    for m in range(1,13):\n",
    "\n",
    "        y = str(y)\n",
    "        m = str(m).rjust(2,\"0\")\n",
    "        new_fnm = \"/rds/general/user/cb2714/home/00_WWA_project_folder/ephemeral/cali-wildfires/era5land/era5land_vpd-vars_\"+y+\"-\"+m+\".nc\"\n",
    "        print(y+m)\n",
    "        if os.path.exists(new_fnm): continue\n",
    "\n",
    "        dataset = \"reanalysis-era5-land\"\n",
    "        request = {\n",
    "        \"variable\": [\n",
    "            \"2m_dewpoint_temperature\",\n",
    "            \"2m_temperature\",\n",
    "            \"10m_u_component_of_wind\",\n",
    "            \"10m_v_component_of_wind\"\n",
    "        ],\n",
    "        \"year\": y,\n",
    "        \"month\": m,\n",
    "        \"day\": [\n",
    "            \"01\", \"02\", \"03\",\n",
    "            \"04\", \"05\", \"06\",\n",
    "            \"07\", \"08\", \"09\",\n",
    "            \"10\", \"11\", \"12\",\n",
    "            \"13\", \"14\", \"15\",\n",
    "            \"16\", \"17\", \"18\",\n",
    "            \"19\", \"20\", \"21\",\n",
    "            \"22\", \"23\", \"24\",\n",
    "            \"25\", \"26\", \"27\",\n",
    "            \"28\", \"29\", \"30\",\n",
    "            \"31\"\n",
    "        ],\n",
    "        \"time\": [\n",
    "            \"00:00\", \"01:00\", \"02:00\",\n",
    "            \"03:00\", \"04:00\", \"05:00\",\n",
    "            \"06:00\", \"07:00\", \"08:00\",\n",
    "            \"09:00\", \"10:00\", \"11:00\",\n",
    "            \"12:00\", \"13:00\", \"14:00\",\n",
    "            \"15:00\", \"16:00\", \"17:00\",\n",
    "            \"18:00\", \"19:00\", \"20:00\",\n",
    "            \"21:00\", \"22:00\", \"23:00\"\n",
    "        ],\n",
    "        \"data_format\": \"netcdf\",\n",
    "        \"download_format\": \"unarchived\",\n",
    "        \"area\": [40, -125, 30, -110]\n",
    "        }\n",
    "        client.retrieve(dataset, request, new_fnm)\n",
    "        clear_output(wait = False)\n",
    "\n",
    "print(\"Done.\")"
   ]
  },
  {
   "cell_type": "markdown",
   "metadata": {},
   "source": [
    "---\n",
    "# MSWX FWI"
   ]
  },
  {
   "cell_type": "markdown",
   "metadata": {},
   "source": [
    "## Extract FWI variables"
   ]
  },
  {
   "cell_type": "code",
   "execution_count": 13,
   "metadata": {},
   "outputs": [],
   "source": [
    "fpath = \"/rds/general/user/cb2714/home/00_WWA_project_folder/live/data/mswx/\"\n",
    "outpath = \"/rds/general/user/cb2714/home/00_WWA_project_folder/ephemeral/cali-wildfires/mswx/\""
   ]
  },
  {
   "cell_type": "code",
   "execution_count": 18,
   "metadata": {},
   "outputs": [
    {
     "name": "stdout",
     "output_type": "stream",
     "text": [
      "2024 RelHum Tmax Wind \n",
      "2025 P RelHum Tmax Wind \n"
     ]
    }
   ],
   "source": [
    "for y in range(2024, 2026):\n",
    "    print(y, end = \" \")\n",
    "    \n",
    "    for varnm in [\"P\", \"RelHum\", \"Tmax\", \"Wind\"]:\n",
    "        \n",
    "        new_fnm = outpath+varnm+\"_\"+str(y)+\".nc\"\n",
    "        if os.path.exists(new_fnm): continue\n",
    "            \n",
    "        print(varnm, end = \" \")\n",
    "        \n",
    "        da = wrap_lon(xr.open_mfdataset(fpath+varnm+\"/\"+str(y)+\"/*.nc\")).sel(lon = slice(xn,xx), lat = slice(yn,yx))\n",
    "        da.to_netcdf(new_fnm)\n",
    "    print(\"\")"
   ]
  },
  {
   "cell_type": "markdown",
   "metadata": {},
   "source": [
    "## Compute FWI"
   ]
  },
  {
   "cell_type": "code",
   "execution_count": 34,
   "metadata": {},
   "outputs": [],
   "source": [
    "from xclim.indicators.atmos import cffwis_indices\n",
    "\n",
    "# compile all the variables\n",
    "ds = xr.merge([xr.open_mfdataset([fnm for fnm in glob.glob(outpath+\"*\"+varnm+\"*.nc\") if fnm[-7:-3] >= \"2024\"]) for varnm in [\"P\", \"RelHum\", \"Tmax\", \"Wind\"]]).load()  # 2024-25 only\n",
    "# ds = xr.merge([xr.open_mfdataset(outpath+\"*\"+varnm+\"*.nc\") for varnm in [\"P\", \"RelHum\", \"Tmax\", \"Wind\"]]).load()\n",
    "ds = ds.rename(precipitation = \"pr\", relative_humidity = \"hurs\", air_temperature = \"tas\", wind_speed = \"sfcWind\")\n",
    "\n",
    "fwi = cffwis_indices(ds = ds, overwintering = False)\n",
    "fwi = xr.merge(fwi)\n",
    "\n",
    "fwi.to_netcdf(outpath+\"fwi_mswx_2024-2025.nc\")"
   ]
  },
  {
   "cell_type": "markdown",
   "metadata": {},
   "source": [
    "# Compile VPD variables"
   ]
  },
  {
   "cell_type": "code",
   "execution_count": null,
   "metadata": {},
   "outputs": [],
   "source": [
    "fpath = \"/rds/general/user/cb2714/home/00_WWA_project_folder/ephemeral/cali-wildfires/\""
   ]
  },
  {
   "cell_type": "code",
   "execution_count": 13,
   "metadata": {},
   "outputs": [],
   "source": [
    "fl = sorted(glob.glob(fpath+\"era5land/era5land_vpd-vars_*.nc\"))\n",
    "fl = [fnm for fnm in fl if int(fnm[-10:-6]) >= 1970]"
   ]
  },
  {
   "cell_type": "code",
   "execution_count": 14,
   "metadata": {},
   "outputs": [],
   "source": [
    "ds = wrap_lon(xr.open_mfdataset(fl))\n",
    "ds = ds.reset_coords(drop = True).rename(valid_time = \"time\")"
   ]
  },
  {
   "cell_type": "code",
   "execution_count": 16,
   "metadata": {},
   "outputs": [],
   "source": [
    "d2m = convert_units_to(ds.d2m, \"degC\").load()\n",
    "t2m = convert_units_to(ds.t2m, \"degC\").load()\n",
    "        \n",
    "vpd = np.exp(17.25*t2m / (243.04 + t2m)) - np.exp(17.25*d2m / (243.04 + d2m))\n",
    "vpd_max = vpd.resample(time = \"D\").max().rename(\"vpd\")\n",
    "\n",
    "tas_max = t2m.resample(time = \"D\").max()\n",
    "\n",
    "wspd = (np.sqrt(ds.u10**2 + ds.v10**2)).rename(\"sfcWind\")\n",
    "wspd_max = wspd.resample(time = \"D\").max()"
   ]
  },
  {
   "cell_type": "code",
   "execution_count": 17,
   "metadata": {},
   "outputs": [
    {
     "name": "stderr",
     "output_type": "stream",
     "text": [
      "/rds/general/user/cb2714/home/anaconda3/envs/wwa/lib/python3.10/site-packages/dask/array/reductions.py:640: RuntimeWarning: All-NaN slice encountered\n",
      "  return np.nanmax(x_chunk, axis=axis, keepdims=keepdims)\n"
     ]
    }
   ],
   "source": [
    "vpd_max.to_netcdf(fpath+\"era5-land_vpdmax_197001-198012.nc\")\n",
    "tas_max.to_netcdf(fpath+\"era5-land_tasmax_197001-198012.nc\")\n",
    "wspd_max.to_netcdf(fpath+\"era5-land_sfcWindmax_197001-198012.nc\")"
   ]
  },
  {
   "cell_type": "markdown",
   "metadata": {},
   "source": [
    "---\n",
    "# Get time series - obs"
   ]
  },
  {
   "cell_type": "markdown",
   "metadata": {},
   "source": [
    "## Nino indices"
   ]
  },
  {
   "cell_type": "markdown",
   "metadata": {},
   "source": [
    "### Detrended Nino3.4\n",
    "\n",
    "Use monthly mean SST from 20S:20N to detrend [Nino3.4](https://climexp.knmi.nl/getindices.cgi?WMO=NCDCData/ersst_nino3.4a&STATION=NINO3.4&TYPE=i&id=someone@somewhere)"
   ]
  },
  {
   "cell_type": "code",
   "execution_count": null,
   "metadata": {},
   "outputs": [],
   "source": [
    "# download latest SST data from ERSST\n",
    "! wget https://downloads.psl.noaa.gov/Datasets/noaa.ersst.v5/sst.mnmean.nc\n",
    "clear_output(wait = False)\n",
    "\n",
    "ersst = wrap_lon(xr.open_dataset(\"sst.mnmean.nc\").sst)\n",
    "\n",
    "# quick method for area-weighted averaging (will add to WWA main but need to generalise dims first)\n",
    "def awmean(da): return da.weighted(np.cos(np.deg2rad(da.lat))).mean([\"lat\", \"lon\"])"
   ]
  },
  {
   "cell_type": "code",
   "execution_count": 4,
   "metadata": {},
   "outputs": [],
   "source": [
    "nino34 = awmean(ersst.sel(lat = slice(-5,5), lon = slice(-170,-120)))\n",
    "sst_tropical = awmean(ersst.sel(lat = slice(-20,20)))\n",
    "\n",
    "nino34_det = (nino34 - sst_tropical).rename(\"nino34\")\n",
    "nino34_det.to_netcdf(\"data/ersst_nino34_detrended.nc\")"
   ]
  },
  {
   "cell_type": "markdown",
   "metadata": {},
   "source": [
    "### Nino modoki\n",
    "\n",
    "$EMI = SST_{C} - 0.5SST_E - 0.5SST_W$\n",
    "\n",
    "where\n",
    "$SST_C$ is the SST anomaly from 10S-10N, 165W-140W; $SST_E$ is the SST anomaly from 10S-20N, 125E-145E; and $SST_W$ is the SST anomaly from 15S-5N, 110W-70W.\n"
   ]
  },
  {
   "cell_type": "code",
   "execution_count": 5,
   "metadata": {},
   "outputs": [],
   "source": [
    "sst_c = awmean(ersst.sel(lat = slice(-10,20), lon = slice(-165,-145)))\n",
    "sst_e = awmean(ersst.sel(lat = slice(-10,20), lon = slice(-145,-125)))\n",
    "sst_w = awmean(ersst.sel(lat = slice(-15,5), lon = slice(-110,-70)))\n",
    "\n",
    "emi = sst_c - (0.5 * sst_e) - (0.5 * sst_w)\n",
    "\n",
    "emi.to_dataframe().to_csv(\"data/nino-modoki.csv\")"
   ]
  },
  {
   "cell_type": "markdown",
   "metadata": {},
   "source": [
    "## Precip & PET"
   ]
  },
  {
   "cell_type": "code",
   "execution_count": 7,
   "metadata": {},
   "outputs": [],
   "source": [
    "era5l = wrap_lon(xr.open_dataset(\"data/era5-land_precip-pet_monthly.nc\").rename(valid_time = \"time\", latitude = \"lat\", longitude = \"lon\"))[[\"tp\", \"pev\", \"e\"]]\n",
    "era5l_rm = (regionmask.mask_geopandas(sf, era5l.lon, era5l.lat) == 8)\n",
    "era5l_ts = era5l.where(era5l_rm).mean([\"lat\", \"lon\"])\n",
    "era5l_ts.to_netcdf(\"data/era5land_precip-pet_monthly_se-cali.nc\")"
   ]
  },
  {
   "cell_type": "code",
   "execution_count": 5,
   "metadata": {},
   "outputs": [
    {
     "ename": "NameError",
     "evalue": "name 'wrap_lon' is not defined",
     "output_type": "error",
     "traceback": [
      "\u001b[0;31m---------------------------------------------------------------------------\u001b[0m",
      "\u001b[0;31mNameError\u001b[0m                                 Traceback (most recent call last)",
      "Cell \u001b[0;32mIn[5], line 1\u001b[0m\n\u001b[0;32m----> 1\u001b[0m era5 \u001b[38;5;241m=\u001b[39m \u001b[43mwrap_lon\u001b[49m(xr\u001b[38;5;241m.\u001b[39mopen_dataset(\u001b[38;5;124m\"\u001b[39m\u001b[38;5;124mdata/era5_precip-pet_monthly.nc\u001b[39m\u001b[38;5;124m\"\u001b[39m)\u001b[38;5;241m.\u001b[39mrename(valid_time \u001b[38;5;241m=\u001b[39m \u001b[38;5;124m\"\u001b[39m\u001b[38;5;124mtime\u001b[39m\u001b[38;5;124m\"\u001b[39m, latitude \u001b[38;5;241m=\u001b[39m \u001b[38;5;124m\"\u001b[39m\u001b[38;5;124mlat\u001b[39m\u001b[38;5;124m\"\u001b[39m, longitude \u001b[38;5;241m=\u001b[39m \u001b[38;5;124m\"\u001b[39m\u001b[38;5;124mlon\u001b[39m\u001b[38;5;124m\"\u001b[39m))\u001b[38;5;241m.\u001b[39mreset_coords(drop \u001b[38;5;241m=\u001b[39m \u001b[38;5;28;01mTrue\u001b[39;00m)\n\u001b[1;32m      2\u001b[0m era5_rm \u001b[38;5;241m=\u001b[39m (regionmask\u001b[38;5;241m.\u001b[39mmask_geopandas(sf, era5\u001b[38;5;241m.\u001b[39mlon, era5\u001b[38;5;241m.\u001b[39mlat) \u001b[38;5;241m==\u001b[39m \u001b[38;5;241m8\u001b[39m)\n\u001b[1;32m      3\u001b[0m era5_ts \u001b[38;5;241m=\u001b[39m era5\u001b[38;5;241m.\u001b[39mwhere(era5_rm)\u001b[38;5;241m.\u001b[39mmean([\u001b[38;5;124m\"\u001b[39m\u001b[38;5;124mlat\u001b[39m\u001b[38;5;124m\"\u001b[39m, \u001b[38;5;124m\"\u001b[39m\u001b[38;5;124mlon\u001b[39m\u001b[38;5;124m\"\u001b[39m])\n",
      "\u001b[0;31mNameError\u001b[0m: name 'wrap_lon' is not defined"
     ]
    }
   ],
   "source": [
    "era5 = wrap_lon(xr.open_dataset(\"data/era5_precip-pet_monthly.nc\").rename(valid_time = \"time\", latitude = \"lat\", longitude = \"lon\")).reset_coords(drop = True)\n",
    "era5_rm = (regionmask.mask_geopandas(sf, era5.lon, era5.lat) == 8)\n",
    "era5_ts = era5.where(era5_rm).mean([\"lat\", \"lon\"])\n",
    "era5_ts.to_netcdf(\"data/era5_precip-pet_monthly_se-cali.nc\")"
   ]
  },
  {
   "cell_type": "code",
   "execution_count": null,
   "metadata": {},
   "outputs": [],
   "source": []
  }
 ],
 "metadata": {
  "kernelspec": {
   "display_name": "Python [conda env:wwa]",
   "language": "python",
   "name": "conda-env-wwa-py"
  },
  "language_info": {
   "codemirror_mode": {
    "name": "ipython",
    "version": 3
   },
   "file_extension": ".py",
   "mimetype": "text/x-python",
   "name": "python",
   "nbconvert_exporter": "python",
   "pygments_lexer": "ipython3",
   "version": "3.10.8"
  }
 },
 "nbformat": 4,
 "nbformat_minor": 2
}
