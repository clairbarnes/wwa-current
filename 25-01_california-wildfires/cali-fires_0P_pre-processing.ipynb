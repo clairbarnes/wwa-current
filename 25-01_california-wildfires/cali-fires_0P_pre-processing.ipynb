{
 "cells": [
  {
   "cell_type": "code",
   "execution_count": 89,
   "metadata": {},
   "outputs": [],
   "source": [
    "import sys, os\n",
    "if os.path.exists(\"/home/cb2714/wwa/wwa.py\"): \n",
    "     sys.path.append('/home/cb2714/wwa/')\n",
    "else:\n",
    "     sys.path.append('/rds/general/user/cb2714/home/wwa/')\n",
    "from wwa import *\n",
    "\n",
    "from xclim.indices.stats import fit\n",
    "from scipy.stats import norm, gamma\n",
    "\n",
    "from xclim.indicators.atmos import drought_code\n",
    "\n",
    "rnm = \"socal-baja\"\n",
    "\n",
    "# import rioxarray as rxr"
   ]
  },
  {
   "cell_type": "code",
   "execution_count": 3,
   "metadata": {},
   "outputs": [],
   "source": [
    "xn, xx, yn, yx = [-125,-110,30,40]\n",
    "sf = gpd.read_file(\"sf_socal-baja\").to_crs(epsg = 4326)\n",
    "\n",
    "fpath = \"/rds/general/user/cb2714/home/00_WWA_project_folder/ephemeral/cali-wildfires/\""
   ]
  },
  {
   "cell_type": "code",
   "execution_count": 25,
   "metadata": {},
   "outputs": [],
   "source": [
    "def awmean(da, to_sf, da_crs = \"EPSG:4326\"):\n",
    "    \n",
    "    da = da.rio.write_crs(da_crs)\n",
    "    da = da.rio.clip(to_sf.geometry.values, to_sf.crs, all_touched = True)\n",
    "    \n",
    "    # get area weights\n",
    "    if \"rlat\" in da.dims:\n",
    "        lats = da.rlat.data\n",
    "        lons = da.rlon.data\n",
    "        xydims = [\"rlat\", \"rlon\"]\n",
    "    elif \"x\" in da.dims:\n",
    "        lats = da.y.data\n",
    "        lons = da.x.data\n",
    "        xydims = [\"x\", \"y\"]\n",
    "    else:\n",
    "        lats = da.lat.data\n",
    "        lons = da.lon.data\n",
    "        xydims = [\"lat\", \"lon\"]        \n",
    "    \n",
    "    lat_width = np.abs(lats[1] - lats[0]) / 2\n",
    "    lon_width = np.abs(lons[1] - lons[0]) / 2\n",
    "    \n",
    "    area_weights = np.zeros_like(da.isel(time = 0))\n",
    "    for i,lat in enumerate(lats):\n",
    "        for j,lon in enumerate(lons):\n",
    "            cell = Polygon([(lon + lon_width, lat + lat_width),\n",
    "                            (lon - lon_width, lat + lat_width),\n",
    "                            (lon - lon_width, lat - lat_width),\n",
    "                            (lon + lon_width, lat - lat_width)])\n",
    "            area_weights[i,j] = cell.intersection(to_sf.geometry).area / cell.area\n",
    "    area_weights = xr.DataArray(data = area_weights, dims = da.isel(time = 0).dims, coords = da.isel(time = 0).coords)\n",
    "            \n",
    "    weighted_da = da.weighted(area_weights).mean(xydims).rename(\"dc\").reset_coords(drop = True)\n",
    "\n",
    "    return weighted_da"
   ]
  },
  {
   "cell_type": "code",
   "execution_count": 5,
   "metadata": {},
   "outputs": [],
   "source": [
    "def hydro_days(ds):\n",
    "    \n",
    "    hydro_yrs = []\n",
    "    for yr in range(int(ds.time.dt.year.min()), int(ds.time.dt.year.max())):\n",
    "        temp = ds.dc.sel(time = np.logical_or(\n",
    "            np.logical_and(ds.time.dt.year == yr, ds.time.dt.month >= 9),\n",
    "            np.logical_and(ds.time.dt.year == yr+1, ds.time.dt.month <= 8)))\n",
    "#         temp = temp.mean(dim = ['latitude','longitude'])\n",
    "        hydro_yrs.append(temp)\n",
    "    \n",
    "    hydro_doys = []\n",
    "    for i, data in enumerate(hydro_yrs):\n",
    "        temp = data.rolling(time = 7).mean()#.resample(time = 'W').mean()\n",
    "        drop = list([np.nan]*7) + list(temp.data[7:] - temp.data[:-7])\n",
    "        min_arg = np.nanargmin(drop)\n",
    "        doy_hydro = int(temp.time[min_arg].dt.dayofyear)\n",
    "        start_doy = int(data.time[0].dt.dayofyear)\n",
    "        if doy_hydro >= start_doy:\n",
    "            output = doy_hydro - start_doy\n",
    "        else:\n",
    "            eoy = pd.to_datetime(f'{int(temp.time.dt.year[0])}-12-31').dayofyear\n",
    "            output = (eoy - start_doy) + doy_hydro\n",
    "        hydro_doys.append(output)\n",
    "\n",
    "    yrs = np.arange(int(ds.time.dt.year.min()), int(ds.time.dt.year.max()))\n",
    "    \n",
    "    df = pd.DataFrame(\n",
    "        np.array([yrs, hydro_doys]).T,\n",
    "        columns = [\"year\", \"dc_doy\"])\n",
    "    df = df.set_index(\"year\")\n",
    "    return df"
   ]
  },
  {
   "cell_type": "markdown",
   "metadata": {},
   "source": [
    "---\n",
    "# CDS download requests"
   ]
  },
  {
   "cell_type": "code",
   "execution_count": 3,
   "metadata": {},
   "outputs": [
    {
     "ename": "ModuleNotFoundError",
     "evalue": "No module named 'cdsapi'",
     "output_type": "error",
     "traceback": [
      "\u001b[0;31m---------------------------------------------------------------------------\u001b[0m",
      "\u001b[0;31mModuleNotFoundError\u001b[0m                       Traceback (most recent call last)",
      "Cell \u001b[0;32mIn[3], line 1\u001b[0m\n\u001b[0;32m----> 1\u001b[0m \u001b[38;5;28;01mimport\u001b[39;00m \u001b[38;5;21;01mos\u001b[39;00m\u001b[38;5;241m,\u001b[39m \u001b[38;5;21;01mcdsapi\u001b[39;00m\n\u001b[1;32m      2\u001b[0m \u001b[38;5;28;01mfrom\u001b[39;00m \u001b[38;5;21;01mIPython\u001b[39;00m\u001b[38;5;21;01m.\u001b[39;00m\u001b[38;5;21;01mdisplay\u001b[39;00m \u001b[38;5;28;01mimport\u001b[39;00m clear_output\n\u001b[1;32m      4\u001b[0m client \u001b[38;5;241m=\u001b[39m cdsapi\u001b[38;5;241m.\u001b[39mClient()\n",
      "\u001b[0;31mModuleNotFoundError\u001b[0m: No module named 'cdsapi'"
     ]
    }
   ],
   "source": [
    "import os, cdsapi\n",
    "from IPython.display import clear_output\n",
    "\n",
    "client = cdsapi.Client()"
   ]
  },
  {
   "cell_type": "markdown",
   "metadata": {},
   "source": [
    "## Noon FWI variables - ERA5"
   ]
  },
  {
   "cell_type": "code",
   "execution_count": 3,
   "metadata": {},
   "outputs": [
    {
     "name": "stdout",
     "output_type": "stream",
     "text": [
      "Done.\n"
     ]
    }
   ],
   "source": [
    "for y in range(2024,1949,-1):\n",
    "        \n",
    "        y = str(y)\n",
    "        \n",
    "        new_fnm = \"/rds/general/user/cb2714/home/00_WWA_project_folder/ephemeral/cali-wildfires/era5/era5_noon-vars_\"+y+\".nc\"\n",
    "        print(y)\n",
    "        if os.path.exists(new_fnm): continue\n",
    "                \n",
    "        dataset = \"reanalysis-era5-single-levels\"\n",
    "        request = {\n",
    "            \"product_type\": [\"reanalysis\"],\n",
    "            \"variable\": [\n",
    "                \"10m_u_component_of_wind\",\n",
    "                \"10m_v_component_of_wind\",\n",
    "                \"2m_dewpoint_temperature\",\n",
    "                \"2m_temperature\"\n",
    "            ],\n",
    "            \"year\": [y],\n",
    "            \"month\": [\n",
    "                \"01\", \"02\", \"03\",\n",
    "                \"04\", \"05\", \"06\",\n",
    "                \"07\", \"08\", \"09\",\n",
    "                \"10\", \"11\", \"12\"\n",
    "            ],\n",
    "            \"day\": [\n",
    "                \"01\", \"02\", \"03\",\n",
    "                \"04\", \"05\", \"06\",\n",
    "                \"07\", \"08\", \"09\",\n",
    "                \"10\", \"11\", \"12\",\n",
    "                \"13\", \"14\", \"15\",\n",
    "                \"16\", \"17\", \"18\",\n",
    "                \"19\", \"20\", \"21\",\n",
    "                \"22\", \"23\", \"24\",\n",
    "                \"25\", \"26\", \"27\",\n",
    "                \"28\", \"29\", \"30\",\n",
    "                \"31\"\n",
    "            ],\n",
    "            \"time\": [\"20:00\"],\n",
    "            \"data_format\": \"netcdf\",\n",
    "            \"download_format\": \"unarchived\",\n",
    "            \"area\": [40, -125, 30, -110]\n",
    "        }\n",
    "\n",
    "        client.retrieve(dataset, request, new_fnm)\n",
    "        \n",
    "clear_output(wait = False)\n",
    "print(\"Done.\")"
   ]
  },
  {
   "cell_type": "markdown",
   "metadata": {},
   "source": [
    "## 24h accumulated precip - ERA5"
   ]
  },
  {
   "cell_type": "code",
   "execution_count": 1,
   "metadata": {},
   "outputs": [
    {
     "name": "stdout",
     "output_type": "stream",
     "text": [
      "2023\n"
     ]
    },
    {
     "ename": "NameError",
     "evalue": "name 'os' is not defined",
     "output_type": "error",
     "traceback": [
      "\u001b[0;31m---------------------------------------------------------------------------\u001b[0m",
      "\u001b[0;31mNameError\u001b[0m                                 Traceback (most recent call last)",
      "Cell \u001b[0;32mIn[1], line 7\u001b[0m\n\u001b[1;32m      5\u001b[0m new_fnm \u001b[38;5;241m=\u001b[39m \u001b[38;5;124m\"\u001b[39m\u001b[38;5;124m/rds/general/user/cb2714/projects/wwa/ephemeral/cali-wildfires/era5/era5_pr24h_\u001b[39m\u001b[38;5;124m\"\u001b[39m\u001b[38;5;241m+\u001b[39my\u001b[38;5;241m+\u001b[39m\u001b[38;5;124m\"\u001b[39m\u001b[38;5;124m.nc\u001b[39m\u001b[38;5;124m\"\u001b[39m\n\u001b[1;32m      6\u001b[0m \u001b[38;5;28mprint\u001b[39m(y)\n\u001b[0;32m----> 7\u001b[0m \u001b[38;5;28;01mif\u001b[39;00m os\u001b[38;5;241m.\u001b[39mpath\u001b[38;5;241m.\u001b[39mexists(new_fnm): \u001b[38;5;28;01mcontinue\u001b[39;00m\n\u001b[1;32m      9\u001b[0m dataset \u001b[38;5;241m=\u001b[39m \u001b[38;5;124m\"\u001b[39m\u001b[38;5;124mderived-era5-single-levels-daily-statistics\u001b[39m\u001b[38;5;124m\"\u001b[39m\n\u001b[1;32m     10\u001b[0m request \u001b[38;5;241m=\u001b[39m {\n\u001b[1;32m     11\u001b[0m     \u001b[38;5;124m\"\u001b[39m\u001b[38;5;124mproduct_type\u001b[39m\u001b[38;5;124m\"\u001b[39m: \u001b[38;5;124m\"\u001b[39m\u001b[38;5;124mreanalysis\u001b[39m\u001b[38;5;124m\"\u001b[39m,\n\u001b[1;32m     12\u001b[0m     \u001b[38;5;124m\"\u001b[39m\u001b[38;5;124mvariable\u001b[39m\u001b[38;5;124m\"\u001b[39m: [\u001b[38;5;124m\"\u001b[39m\u001b[38;5;124mtotal_precipitation\u001b[39m\u001b[38;5;124m\"\u001b[39m],\n\u001b[0;32m   (...)\u001b[0m\n\u001b[1;32m     37\u001b[0m     \u001b[38;5;124m'\u001b[39m\u001b[38;5;124mformat\u001b[39m\u001b[38;5;124m'\u001b[39m: \u001b[38;5;124m'\u001b[39m\u001b[38;5;124mnetcdf\u001b[39m\u001b[38;5;124m'\u001b[39m\n\u001b[1;32m     38\u001b[0m }\n",
      "\u001b[0;31mNameError\u001b[0m: name 'os' is not defined"
     ]
    }
   ],
   "source": [
    "for y in range(2023,1950,-1):\n",
    "        \n",
    "        y = str(y)\n",
    "        \n",
    "        new_fnm = \"/rds/general/user/cb2714/projects/wwa/ephemeral/cali-wildfires/era5/era5_pr24h_\"+y+\".nc\"\n",
    "        print(y)\n",
    "        if os.path.exists(new_fnm): continue\n",
    "        \n",
    "        dataset = \"derived-era5-single-levels-daily-statistics\"\n",
    "        request = {\n",
    "            \"product_type\": \"reanalysis\",\n",
    "            \"variable\": [\"total_precipitation\"],\n",
    "            \"year\": y,\n",
    "            \"month\": [\n",
    "                \"01\", \"02\", \"03\",\n",
    "                \"04\", \"05\", \"06\",\n",
    "                \"07\", \"08\", \"09\",\n",
    "                \"10\", \"11\", \"12\"\n",
    "            ],\n",
    "            \"day\": [\n",
    "                \"01\", \"02\", \"03\",\n",
    "                \"04\", \"05\", \"06\",\n",
    "                \"07\", \"08\", \"09\",\n",
    "                \"10\", \"11\", \"12\",\n",
    "                \"13\", \"14\", \"15\",\n",
    "                \"16\", \"17\", \"18\",\n",
    "                \"19\", \"20\", \"21\",\n",
    "                \"22\", \"23\", \"24\",\n",
    "                \"25\", \"26\", \"27\",\n",
    "                \"28\", \"29\", \"30\",\n",
    "                \"31\"\n",
    "            ],\n",
    "            \"daily_statistic\": \"daily_sum\",\n",
    "            \"time_zone\": \"utc-08:00\",\n",
    "            \"frequency\": \"1_hourly\",\n",
    "            \"area\": [40, -125, 30, -110],\n",
    "            'format': 'netcdf'\n",
    "        }\n",
    "\n",
    "        client.retrieve(dataset, request, new_fnm)\n",
    "        clear_output(wait = False)\n",
    "        \n",
    "print(\"Done.\")"
   ]
  },
  {
   "cell_type": "markdown",
   "metadata": {},
   "source": [
    "## Hourly VPD variables - ERA5Land"
   ]
  },
  {
   "cell_type": "code",
   "execution_count": null,
   "metadata": {},
   "outputs": [
    {
     "name": "stdout",
     "output_type": "stream",
     "text": [
      "196801\n"
     ]
    },
    {
     "name": "stderr",
     "output_type": "stream",
     "text": [
      "2025-01-13 11:01:11,581 INFO [2025-01-09T00:00:00] Please be aware that ERA5 data from 1st January 2025 was degraded and is being corrected. Watch the [Forum announcement](https://forum.ecmwf.int/t/era5-data-from-1st-january-2025-was-degraded-and-is-being-corrected/10689) for updates.\n",
      "2025-01-13 11:01:11,582 INFO Request ID is d64941a3-fc47-4b47-b868-4e512e08db07\n",
      "2025-01-13 11:01:11,633 INFO status has been updated to accepted\n",
      "2025-01-13 11:03:05,725 INFO status has been updated to running\n"
     ]
    }
   ],
   "source": [
    "for y in range(1980,1949,-1):\n",
    "    for m in range(1,13):\n",
    "\n",
    "        y = str(y)\n",
    "        m = str(m).rjust(2,\"0\")\n",
    "        new_fnm = \"/rds/general/user/cb2714/home/00_WWA_project_folder/ephemeral/cali-wildfires/era5land/era5land_vpd-vars_\"+y+\"-\"+m+\".nc\"\n",
    "        print(y+m)\n",
    "        if os.path.exists(new_fnm): continue\n",
    "\n",
    "        dataset = \"reanalysis-era5-land\"\n",
    "        request = {\n",
    "        \"variable\": [\n",
    "            \"2m_dewpoint_temperature\",\n",
    "            \"2m_temperature\",\n",
    "            \"10m_u_component_of_wind\",\n",
    "            \"10m_v_component_of_wind\"\n",
    "        ],\n",
    "        \"year\": y,\n",
    "        \"month\": m,\n",
    "        \"day\": [\n",
    "            \"01\", \"02\", \"03\",\n",
    "            \"04\", \"05\", \"06\",\n",
    "            \"07\", \"08\", \"09\",\n",
    "            \"10\", \"11\", \"12\",\n",
    "            \"13\", \"14\", \"15\",\n",
    "            \"16\", \"17\", \"18\",\n",
    "            \"19\", \"20\", \"21\",\n",
    "            \"22\", \"23\", \"24\",\n",
    "            \"25\", \"26\", \"27\",\n",
    "            \"28\", \"29\", \"30\",\n",
    "            \"31\"\n",
    "        ],\n",
    "        \"time\": [\n",
    "            \"00:00\", \"01:00\", \"02:00\",\n",
    "            \"03:00\", \"04:00\", \"05:00\",\n",
    "            \"06:00\", \"07:00\", \"08:00\",\n",
    "            \"09:00\", \"10:00\", \"11:00\",\n",
    "            \"12:00\", \"13:00\", \"14:00\",\n",
    "            \"15:00\", \"16:00\", \"17:00\",\n",
    "            \"18:00\", \"19:00\", \"20:00\",\n",
    "            \"21:00\", \"22:00\", \"23:00\"\n",
    "        ],\n",
    "        \"data_format\": \"netcdf\",\n",
    "        \"download_format\": \"unarchived\",\n",
    "        \"area\": [40, -125, 30, -110]\n",
    "        }\n",
    "        client.retrieve(dataset, request, new_fnm)\n",
    "        clear_output(wait = False)\n",
    "\n",
    "print(\"Done.\")"
   ]
  },
  {
   "cell_type": "markdown",
   "metadata": {},
   "source": [
    "---\n",
    "# MSWX FWI"
   ]
  },
  {
   "cell_type": "markdown",
   "metadata": {},
   "source": [
    "## Extract FWI variables"
   ]
  },
  {
   "cell_type": "code",
   "execution_count": 74,
   "metadata": {},
   "outputs": [],
   "source": [
    "fpath = \"/rds/general/user/cb2714/home/00_WWA_project_folder/live/data/mswx/\"\n",
    "outpath = \"/rds/general/user/cb2714/home/00_WWA_project_folder/ephemeral/cali-wildfires/mswx/\""
   ]
  },
  {
   "cell_type": "code",
   "execution_count": 21,
   "metadata": {},
   "outputs": [
    {
     "name": "stdout",
     "output_type": "stream",
     "text": [
      "2024 \n",
      "2025 P RelHum Tmax Wind \n"
     ]
    }
   ],
   "source": [
    "for y in range(2024, 2026):\n",
    "    print(y, end = \" \")\n",
    "    \n",
    "    for varnm in [\"P\", \"RelHum\", \"Tmax\", \"Wind\"]:\n",
    "        \n",
    "        new_fnm = outpath+varnm+\"_\"+str(y)+\".nc\"\n",
    "        if os.path.exists(new_fnm): continue\n",
    "            \n",
    "        print(varnm, end = \" \")\n",
    "        \n",
    "        da = wrap_lon(xr.open_mfdataset(fpath+varnm+\"/\"+str(y)+\"/*.nc\")).sel(lon = slice(xn,xx), lat = slice(yn,yx))\n",
    "        da.to_netcdf(new_fnm)\n",
    "    print(\"\")"
   ]
  },
  {
   "cell_type": "markdown",
   "metadata": {},
   "source": [
    "## Compute FWI"
   ]
  },
  {
   "cell_type": "code",
   "execution_count": 75,
   "metadata": {},
   "outputs": [],
   "source": [
    "from xclim.indicators.atmos import cffwis_indices\n",
    "\n",
    "# compile all the variables\n",
    "# ds = xr.merge([xr.open_mfdataset([fnm for fnm in glob.glob(outpath+\"*\"+varnm+\"*.nc\") if fnm[-7:-3] >= \"2024\"]) for varnm in [\"P\", \"RelHum\", \"Tmax\", \"Wind\"]]).load()  # 2024-25 only\n",
    "ds = xr.merge([xr.open_mfdataset(outpath+\"*\"+varnm+\"*.nc\") for varnm in [\"P\", \"RelHum\", \"Tmax\", \"Wind\"]]).load()\n",
    "ds = ds.rename(precipitation = \"pr\", relative_humidity = \"hurs\", air_temperature = \"tas\", wind_speed = \"sfcWind\")\n",
    "\n",
    "# mask to land surface only\n",
    "ds = ds.where(regionmask.defined_regions.natural_earth_v5_0_0.land_50.mask(ds) == 0)\n",
    "\n",
    "fwi = cffwis_indices(ds = ds, overwintering = False)\n",
    "fwi = xr.merge(fwi)\n",
    "\n",
    "fwi.to_netcdf(outpath+\"fwi_mswx_1979-2025.nc\")"
   ]
  },
  {
   "cell_type": "markdown",
   "metadata": {},
   "source": [
    "## Daily time series"
   ]
  },
  {
   "cell_type": "code",
   "execution_count": 103,
   "metadata": {},
   "outputs": [],
   "source": [
    "da = fwi.rio.write_crs(sf.crs).rename(lat = \"y\", lon = \"x\")\n",
    "da_ts = da.rio.clip(sf.geometry.values, all_touched = True).mean([\"x\", \"y\"]).reset_coords(drop = True)\n",
    "for varnm in list(da_ts.data_vars): da_ts[varnm].to_netcdf(\"data/mswx_\"+varnm+\"_\"+rnm+\".nc\")"
   ]
  },
  {
   "cell_type": "markdown",
   "metadata": {},
   "source": [
    "# Compile VPD variables"
   ]
  },
  {
   "cell_type": "code",
   "execution_count": null,
   "metadata": {},
   "outputs": [],
   "source": [
    "fpath = \"/rds/general/user/cb2714/home/00_WWA_project_folder/ephemeral/cali-wildfires/\""
   ]
  },
  {
   "cell_type": "code",
   "execution_count": 13,
   "metadata": {},
   "outputs": [],
   "source": [
    "fl = sorted(glob.glob(fpath+\"era5land/era5land_vpd-vars_*.nc\"))\n",
    "fl = [fnm for fnm in fl if int(fnm[-10:-6]) >= 1970]"
   ]
  },
  {
   "cell_type": "code",
   "execution_count": 14,
   "metadata": {},
   "outputs": [],
   "source": [
    "ds = wrap_lon(xr.open_mfdataset(fl))\n",
    "ds = ds.reset_coords(drop = True).rename(valid_time = \"time\")"
   ]
  },
  {
   "cell_type": "code",
   "execution_count": 16,
   "metadata": {},
   "outputs": [],
   "source": [
    "d2m = convert_units_to(ds.d2m, \"degC\").load()\n",
    "t2m = convert_units_to(ds.t2m, \"degC\").load()\n",
    "        \n",
    "vpd = np.exp(17.25*t2m / (243.04 + t2m)) - np.exp(17.25*d2m / (243.04 + d2m))\n",
    "vpd_max = vpd.resample(time = \"D\").max().rename(\"vpd\")\n",
    "\n",
    "tas_max = t2m.resample(time = \"D\").max()\n",
    "\n",
    "wspd = (np.sqrt(ds.u10**2 + ds.v10**2)).rename(\"sfcWind\")\n",
    "wspd_max = wspd.resample(time = \"D\").max()"
   ]
  },
  {
   "cell_type": "code",
   "execution_count": 17,
   "metadata": {},
   "outputs": [
    {
     "name": "stderr",
     "output_type": "stream",
     "text": [
      "/rds/general/user/cb2714/home/anaconda3/envs/wwa/lib/python3.10/site-packages/dask/array/reductions.py:640: RuntimeWarning: All-NaN slice encountered\n",
      "  return np.nanmax(x_chunk, axis=axis, keepdims=keepdims)\n"
     ]
    }
   ],
   "source": [
    "vpd_max.to_netcdf(fpath+\"era5-land_vpdmax_197001-198012.nc\")\n",
    "tas_max.to_netcdf(fpath+\"era5-land_tasmax_197001-198012.nc\")\n",
    "wspd_max.to_netcdf(fpath+\"era5-land_sfcWindmax_197001-198012.nc\")"
   ]
  },
  {
   "cell_type": "markdown",
   "metadata": {},
   "source": [
    "---\n",
    "# Get time series - obs"
   ]
  },
  {
   "cell_type": "markdown",
   "metadata": {},
   "source": [
    "## Nino indices"
   ]
  },
  {
   "cell_type": "markdown",
   "metadata": {},
   "source": [
    "### Detrended Nino3.4\n",
    "\n",
    "Use monthly mean SST from 20S:20N to detrend [Nino3.4](https://climexp.knmi.nl/getindices.cgi?WMO=NCDCData/ersst_nino3.4a&STATION=NINO3.4&TYPE=i&id=someone@somewhere)"
   ]
  },
  {
   "cell_type": "code",
   "execution_count": 92,
   "metadata": {},
   "outputs": [],
   "source": [
    "# download latest SST data from ERSST\n",
    "! wget https://downloads.psl.noaa.gov/Datasets/noaa.ersst.v5/sst.mnmean.nc\n",
    "clear_output(wait = False)"
   ]
  },
  {
   "cell_type": "code",
   "execution_count": 2,
   "metadata": {},
   "outputs": [],
   "source": [
    "ersst = wrap_lon(xr.open_dataset(\"sst.mnmean.nc\").sst)\n",
    "\n",
    "# quick method for area-weighted averaging (will add to WWA main but need to generalise dims first)\n",
    "def awmean(da): return da.weighted(np.cos(np.deg2rad(da.lat))).mean([\"lat\", \"lon\"])"
   ]
  },
  {
   "cell_type": "code",
   "execution_count": 123,
   "metadata": {},
   "outputs": [],
   "source": [
    "nino34 = awmean(ersst.sel(lat = slice(-5,5), lon = slice(-170,-120)))\n",
    "sst_tropical = awmean(ersst.sel(lat = slice(-20,20)))\n",
    "\n",
    "nino34_det = (nino34 - sst_tropical).rename(\"nino34\")\n",
    "nino34_det.to_netcdf(\"data/ersst_nino34_detrended.nc\")"
   ]
  },
  {
   "cell_type": "code",
   "execution_count": 116,
   "metadata": {},
   "outputs": [
    {
     "data": {
      "text/plain": [
       "[<matplotlib.lines.Line2D at 0x14aea27c1a50>]"
      ]
     },
     "execution_count": 116,
     "metadata": {},
     "output_type": "execute_result"
    },
    {
     "data": {
      "image/png": "[encoded data removed]",
      "text/plain": [
       "<Figure size 640x480 with 1 Axes>"
      ]
     },
     "metadata": {},
     "output_type": "display_data"
    }
   ],
   "source": [
    "nino34.plot()\n",
    "sst_tropical.plot(color = \"darkblue\")"
   ]
  },
  {
   "cell_type": "markdown",
   "metadata": {},
   "source": [
    "### Nino modoki\n",
    "\n",
    "$EMI = SST_{C} - 0.5SST_E - 0.5SST_W$\n",
    "\n",
    "where\n",
    "$SST_C$ is the SST anomaly from 10S-10N, 165W-140W; $SST_E$ is the SST anomaly from 10S-20N, 125E-145E; and $SST_W$ is the SST anomaly from 15S-5N, 110W-70W.\n"
   ]
  },
  {
   "cell_type": "code",
   "execution_count": 11,
   "metadata": {},
   "outputs": [],
   "source": [
    "sst_c = ersst.sel(lat = slice(-10,10), lon = slice(-145,165))\n",
    "sst_e = ersst.sel(lat = slice(-10,20), lon = slice(125,145))\n",
    "sst_w = ersst.sel(lat = slice(-15,5), lon = slice(-110,-70))"
   ]
  },
  {
   "cell_type": "code",
   "execution_count": 12,
   "metadata": {},
   "outputs": [],
   "source": [
    "sst_c_ts = sst_c.mean([\"lat\", \"lon\"])\n",
    "sst_e_ts = sst_e.mean([\"lat\", \"lon\"])\n",
    "sst_w_ts = sst_w.mean([\"lat\", \"lon\"])"
   ]
  },
  {
   "cell_type": "code",
   "execution_count": null,
   "metadata": {},
   "outputs": [],
   "source": [
    "emi = sst_c_ts - (0.5 * sst_e_ts) - (0.5 * sst_w_ts)\n",
    "emi.to_dataframe().to_csv(\"data/nino-modoki.csv\")"
   ]
  },
  {
   "cell_type": "markdown",
   "metadata": {},
   "source": [
    "# OND indices"
   ]
  },
  {
   "cell_type": "code",
   "execution_count": 16,
   "metadata": {},
   "outputs": [],
   "source": [
    "nino34 = xr.open_dataset(\"data/ersst_nino34_detrended.nc\").nino34\n",
    "\n",
    "nino34_ond = nino34.rolling(time = 3).mean().groupby(\"time.month\")[12]\n",
    "nino34_ond.assign_coords(time = nino34_ond.time.dt.year).rename(\"nino34_ond\", time = \"year\").to_dataframe().to_csv(\"ts/nino34_ond.csv\")\n",
    "\n",
    "nino34_nd = nino34.rolling(time = 2).mean().groupby(\"time.month\")[12]\n",
    "nino34_nd.assign_coords(time = nino34_nd.time.dt.year).rename(\"nino34_nd\", time = \"year\").to_dataframe().to_csv(\"ts/nino34_nd.csv\")"
   ]
  },
  {
   "cell_type": "markdown",
   "metadata": {},
   "source": [
    "# AMO"
   ]
  },
  {
   "cell_type": "code",
   "execution_count": 21,
   "metadata": {},
   "outputs": [],
   "source": [
    "amo = decode_times(xr.open_dataset(\"data/iamo_ersst_ts.nc\", decode_times = False)).AMO\n",
    "\n",
    "amo_ond = amo.rolling(time = 3).mean().groupby(\"time.month\")[12]\n",
    "amo_ond.assign_coords(time = amo_ond.time.dt.year).rename(\"amo_ond\", time = \"year\").to_dataframe().to_csv(\"ts/amo_ond.csv\")"
   ]
  },
  {
   "cell_type": "markdown",
   "metadata": {},
   "source": [
    "---\n",
    "# Extract region from rotated-pole data"
   ]
  },
  {
   "cell_type": "code",
   "execution_count": 30,
   "metadata": {},
   "outputs": [],
   "source": [
    "import rioxarray as rxr\n",
    "\n",
    "nam44 = xr.open_dataset(\"sftlf_NAM-44_ICHEC-EC-EARTH_historical_r0i0p0_SMHI-RCA4_v1_fx.nc\").sftlf\n",
    "\n",
    "# trim data down to larger region of interest\n",
    "box = np.logical_and(np.logical_and(nam44.lon >= xn, nam44.lon <= xx), np.logical_and(nam44.lat >= yn, nam44.lat <= yx))\n",
    "box = box.where(box == 1).dropna(\"rlon\", \"all\").dropna(\"rlat\", \"all\")\n",
    "nam44 = nam44.sel(rlon = box.rlon, rlat = box.rlat)\n",
    "nam44 = nam44.where(nam44 > 0.75)"
   ]
  },
  {
   "cell_type": "code",
   "execution_count": 48,
   "metadata": {},
   "outputs": [],
   "source": [
    "# specify the CRS for this domain\n",
    "crs_nam = cartopy.crs.RotatedPole(pole_longitude = -277.0, pole_latitude = 42.5)\n",
    "\n",
    "# project the shapefile onto the rotated-pole grid\n",
    "baja_rpole = baja.to_crs(crs_nam)\n",
    "\n",
    "# relabel the rotated-pole coords and add a CRS\n",
    "# nam44_rl = nam44.reset_coords(drop = True).rename(rlat = \"lat\", rlon = \"lon\").rio.write_crs(crs_nam)"
   ]
  },
  {
   "cell_type": "code",
   "execution_count": 49,
   "metadata": {},
   "outputs": [],
   "source": [
    "nam44_clipped = nam44.rio.clip(baja_rpole.geometry.values, baja_rpole.crs, all_touched = True)"
   ]
  },
  {
   "cell_type": "code",
   "execution_count": 59,
   "metadata": {},
   "outputs": [
    {
     "data": {
      "text/plain": [
       "<GeoAxesSubplot: >"
      ]
     },
     "execution_count": 59,
     "metadata": {},
     "output_type": "execute_result"
    },
    {
     "data": {
      "image/png": "[encoded data removed]",
      "text/plain": [
       "<Figure size 640x480 with 1 Axes>"
      ]
     },
     "metadata": {},
     "output_type": "display_data"
    }
   ],
   "source": [
    "fig, ax = plt.subplots(subplot_kw = {\"projection\" : mapproj})\n",
    "\n",
    "ax.pcolormesh(nam44_clipped.lon, nam44_clipped.lat, nam44_clipped)\n",
    "baja.boundary.plot(ax = ax, color = \"k\")"
   ]
  },
  {
   "cell_type": "markdown",
   "metadata": {},
   "source": [
    "---\n",
    "# Compile variables & compute FWI"
   ]
  },
  {
   "cell_type": "code",
   "execution_count": 3,
   "metadata": {},
   "outputs": [],
   "source": [
    "pr = xr.open_dataset(fpath+\"era5/era5_pr_1940-2025.nc\").pr\n",
    "pr = pr.assign_attrs(units = \"mm d-1\", long_name = \"Precipitation\").rename(latitude = \"lat\", longitude = \"lon\")\n",
    "pr = pr.assign_coords(time = pr.time.dt.floor(\"D\"))\n",
    "pr.to_netcdf(\"data/era5_pr.nc\")"
   ]
  },
  {
   "cell_type": "code",
   "execution_count": 4,
   "metadata": {},
   "outputs": [],
   "source": [
    "hurs = xr.open_dataset(fpath+\"era5/era5_hurs_1940-2025.nc\").hurs\n",
    "hurs = hurs.assign_attrs(units = \"%\", long_name = \"Relative humidity\").rename(latitude = \"lat\", longitude = \"lon\")\n",
    "hurs = hurs.assign_coords(time = hurs.time.dt.floor(\"D\"))\n",
    "hurs.to_netcdf(\"data/era5_hurs.nc\")"
   ]
  },
  {
   "cell_type": "code",
   "execution_count": 5,
   "metadata": {},
   "outputs": [],
   "source": [
    "sfcWind = xr.open_dataset(fpath+\"era5/era5_sfcWind_1940-2025.nc\").sfcWind\n",
    "sfcWind = sfcWind.assign_attrs(units = \"km h-1\", long_name = \"Wind speed\").rename(latitude = \"lat\", longitude = \"lon\")\n",
    "sfcWind = sfcWind.assign_coords(time = sfcWind.time.dt.floor(\"D\"))\n",
    "sfcWind.to_netcdf(\"data/era5_sfcWind.nc\")"
   ]
  },
  {
   "cell_type": "code",
   "execution_count": 6,
   "metadata": {},
   "outputs": [],
   "source": [
    "tas = xr.open_dataset(fpath+\"era5/era5_tas_1940-2025.nc\").tas\n",
    "tas = tas.assign_attrs(units = \"degC\", long_name = \"Noon temperature\").rename(latitude = \"lat\", longitude = \"lon\")\n",
    "tas = tas.assign_coords(time = tas.time.dt.floor(\"D\"))\n",
    "tas.to_netcdf(\"data/era5_tas.nc\")"
   ]
  },
  {
   "cell_type": "code",
   "execution_count": 11,
   "metadata": {},
   "outputs": [],
   "source": [
    "from xclim.indicators.atmos import cffwis_indices\n",
    "\n",
    "ds = xr.merge([pr, hurs, sfcWind, tas])\n",
    "# mask to land surface only\n",
    "ds = ds.where(regionmask.defined_regions.natural_earth_v5_0_0.land_50.mask(ds) == 0)"
   ]
  },
  {
   "cell_type": "code",
   "execution_count": null,
   "metadata": {},
   "outputs": [],
   "source": [
    "fwi = cffwis_indices(ds = ds, overwintering = False)"
   ]
  },
  {
   "cell_type": "markdown",
   "metadata": {},
   "source": [
    "---\n",
    "# Daily time series from gridded data"
   ]
  },
  {
   "cell_type": "markdown",
   "metadata": {},
   "source": [
    "## ERA5"
   ]
  },
  {
   "cell_type": "code",
   "execution_count": 6,
   "metadata": {},
   "outputs": [],
   "source": [
    "for varnm in [\"BUI\", \"DC\", \"DMC\", \"DSR\", \"FFMC\", \"FWI\", \"ISI\"]:\n",
    "    da = xr.open_dataset(fpath+\"era5_\"+varnm+\"_1940-2025.nc\")[varnm].rio.write_crs(sf.crs)\n",
    "    da_ts = da.rio.clip(sf.geometry.values, all_touched = True).mean([\"latitude\", \"longitude\"])\n",
    "    \n",
    "    da_ts = da_ts.rename(varnm.lower()).reset_coords(drop = True)\n",
    "    da_ts.to_netcdf(\"data/era5_\"+varnm.lower()+\"_\"+rnm+\".nc\")\n",
    "    \n",
    "    "
   ]
  },
  {
   "cell_type": "code",
   "execution_count": 8,
   "metadata": {},
   "outputs": [],
   "source": [
    "for varnm in [\"pr\", \"tas\", \"hurs\", \"sfcWind\"]:\n",
    "    da = xr.open_dataset(fpath+\"era5/era5_\"+varnm+\"_1940-2025.nc\")[varnm].rio.write_crs(sf.crs)\n",
    "    da_ts = da.rio.clip(sf.geometry.values, all_touched = True).mean([\"latitude\", \"longitude\"])\n",
    "    \n",
    "    da_ts = da_ts.rename(varnm).reset_coords(drop = True)\n",
    "    da_ts.to_netcdf(\"data/era5_\"+varnm+\"_\"+rnm+\".nc\")"
   ]
  },
  {
   "cell_type": "code",
   "execution_count": 28,
   "metadata": {},
   "outputs": [],
   "source": [
    "varnm = \"FWI\"\n",
    "da = xr.open_dataset(fpath+\"era5_\"+varnm+\"_1940-2025.nc\")[varnm].rio.write_crs(sf.crs)\n",
    "da_rm = da.rio.clip(sf.geometry.values, all_touched = True).rename(\"fwi\")\n",
    "\n",
    "fwi_max = da_rm.max([\"latitude\", \"longitude\"]).rename(\"fwimax\")\n",
    "fwi_max.to_netcdf(\"data/era5_fwimax_\"+rnm+\".nc\")\n",
    "\n",
    "fwi_q95 = da_rm.quantile(.95, dim = [\"latitude\", \"longitude\"]).rename(\"fwiq95\")\n",
    "fwi_q95.to_netcdf(\"data/era5_fwiq95_\"+rnm+\".nc\")"
   ]
  },
  {
   "cell_type": "code",
   "execution_count": 72,
   "metadata": {},
   "outputs": [],
   "source": [
    "varnm = \"HDWI\"\n",
    "da = xr.open_dataset(fpath+\"era5_noon_\"+varnm+\"_1940-2025.nc\")[varnm].rio.write_crs(sf.crs)\n",
    "da_rm = da.rio.clip(sf.geometry.values, all_touched = True).rename(\"hdwi\")\n",
    "\n",
    "da_mean = da_rm.mean([\"latitude\", \"longitude\"]).rename(\"hdwi\")\n",
    "da_mean.to_netcdf(\"data/era5_hdwi_\"+rnm+\".nc\")\n",
    "\n",
    "da_max = da_rm.max([\"latitude\", \"longitude\"]).rename(\"hdwimax\")\n",
    "da_max.to_netcdf(\"data/era5_hdwimax_\"+rnm+\".nc\")"
   ]
  },
  {
   "cell_type": "markdown",
   "metadata": {},
   "source": [
    "# Time series for analysis"
   ]
  },
  {
   "cell_type": "markdown",
   "metadata": {},
   "source": [
    "## OND mean precip"
   ]
  },
  {
   "cell_type": "code",
   "execution_count": 50,
   "metadata": {},
   "outputs": [],
   "source": [
    "pr = xr.open_dataset(\"data/era5_pr_socal-baja.nc\").pr\n",
    "\n",
    "pr_d = pr.resample(time = \"MS\").sum().rolling(time = 1).mean().groupby(\"time.month\")[12]\n",
    "pr_d.assign_coords(time = pr_d.time.dt.year).rename(\"pr_d\", time = \"year\").to_dataframe().to_csv(\"ts/era5_pr-d_\"+rnm+\".csv\")\n",
    "\n",
    "pr_nd = pr.resample(time = \"MS\").sum().rolling(time = 2).mean().groupby(\"time.month\")[12]\n",
    "pr_nd.assign_coords(time = pr_nd.time.dt.year).rename(\"pr_nd\", time = \"year\").to_dataframe().to_csv(\"ts/era5_pr-nd_\"+rnm+\".csv\")\n",
    "\n",
    "pr_ond = pr.resample(time = \"MS\").sum().rolling(time = 3).mean().groupby(\"time.month\")[12]\n",
    "pr_ond.assign_coords(time = pr_ond.time.dt.year).rename(\"pr_ond\", time = \"year\").to_dataframe().to_csv(\"ts/era5_pr-ond_\"+rnm+\".csv\")\n",
    "\n",
    "pr_son = pr.resample(time = \"MS\").sum().rolling(time = 3).mean().groupby(\"time.month\")[11]\n",
    "pr_son.assign_coords(time = pr_son.time.dt.year).rename(\"pr_son\", time = \"year\").to_dataframe().to_csv(\"ts/era5_pr-son_\"+rnm+\".csv\")\n",
    "\n",
    "pr_sond = pr.resample(time = \"MS\").sum().rolling(time = 4).mean().groupby(\"time.month\")[12]\n",
    "pr_sond.assign_coords(time = pr_sond.time.dt.year).rename(\"pr_sond\", time = \"year\").to_dataframe().to_csv(\"ts/era5_pr-sond_\"+rnm+\".csv\")"
   ]
  },
  {
   "cell_type": "markdown",
   "metadata": {},
   "source": [
    "## OND SPI\n",
    "Might be better for statistical modelling, but keep conversion parameters to map results back to precip afterwards"
   ]
  },
  {
   "cell_type": "code",
   "execution_count": 12,
   "metadata": {},
   "outputs": [
    {
     "ename": "NameError",
     "evalue": "name 'pr_ond' is not defined",
     "output_type": "error",
     "traceback": [
      "\u001b[0;31m---------------------------------------------------------------------------\u001b[0m",
      "\u001b[0;31mNameError\u001b[0m                                 Traceback (most recent call last)",
      "Cell \u001b[0;32mIn[12], line 4\u001b[0m\n\u001b[1;32m      1\u001b[0m \u001b[38;5;28;01mfrom\u001b[39;00m \u001b[38;5;21;01mxclim\u001b[39;00m\u001b[38;5;21;01m.\u001b[39;00m\u001b[38;5;21;01mindices\u001b[39;00m\u001b[38;5;21;01m.\u001b[39;00m\u001b[38;5;21;01mstats\u001b[39;00m \u001b[38;5;28;01mimport\u001b[39;00m fit\n\u001b[1;32m      2\u001b[0m \u001b[38;5;28;01mfrom\u001b[39;00m \u001b[38;5;21;01mscipy\u001b[39;00m\u001b[38;5;21;01m.\u001b[39;00m\u001b[38;5;21;01mstats\u001b[39;00m \u001b[38;5;28;01mimport\u001b[39;00m norm, gamma\n\u001b[0;32m----> 4\u001b[0m pr_m \u001b[38;5;241m=\u001b[39m \u001b[43mpr_ond\u001b[49m\u001b[38;5;241m.\u001b[39mcopy()\n\u001b[1;32m      5\u001b[0m pr_cal \u001b[38;5;241m=\u001b[39m pr_m\u001b[38;5;241m.\u001b[39msel(time \u001b[38;5;241m=\u001b[39m \u001b[38;5;28mslice\u001b[39m(\u001b[38;5;124m\"\u001b[39m\u001b[38;5;124m1991\u001b[39m\u001b[38;5;124m\"\u001b[39m, \u001b[38;5;124m\"\u001b[39m\u001b[38;5;124m2020\u001b[39m\u001b[38;5;124m\"\u001b[39m))\u001b[38;5;241m.\u001b[39mcopy()\n\u001b[1;32m      6\u001b[0m pars \u001b[38;5;241m=\u001b[39m fit(pr_cal\u001b[38;5;241m.\u001b[39mdropna(\u001b[38;5;124m\"\u001b[39m\u001b[38;5;124mtime\u001b[39m\u001b[38;5;124m\"\u001b[39m, \u001b[38;5;124m\"\u001b[39m\u001b[38;5;124mall\u001b[39m\u001b[38;5;124m\"\u001b[39m), dist \u001b[38;5;241m=\u001b[39m \u001b[38;5;124m\"\u001b[39m\u001b[38;5;124mgamma\u001b[39m\u001b[38;5;124m\"\u001b[39m, method \u001b[38;5;241m=\u001b[39m \u001b[38;5;124m\"\u001b[39m\u001b[38;5;124mPWM\u001b[39m\u001b[38;5;124m\"\u001b[39m)\n",
      "\u001b[0;31mNameError\u001b[0m: name 'pr_ond' is not defined"
     ]
    }
   ],
   "source": [
    "from xclim.indices.stats import fit\n",
    "from scipy.stats import norm, gamma\n",
    "\n",
    "pr_m = pr_ond.copy()\n",
    "pr_cal = pr_m.sel(time = slice(\"1991\", \"2020\")).copy()\n",
    "pars = fit(pr_cal.dropna(\"time\", \"all\"), dist = \"gamma\", method = \"PWM\")"
   ]
  },
  {
   "cell_type": "code",
   "execution_count": 10,
   "metadata": {},
   "outputs": [],
   "source": [
    "spi_m = xr.apply_ufunc(lambda pr, dparams : norm.ppf(gamma.cdf(pr, *dparams)), pr_m, pars, \n",
    "                               input_core_dims = [[\"time\"],[\"dparams\"]], output_core_dims = [[\"time\"]], vectorize = True).assign_coords(time = pr_m.time)\n",
    "\n",
    "spi_m = spi_m.assign_attrs(gamma_a = pars.sel(dparams = \"a\").values, \n",
    "                           gamma_scale = pars.sel(dparams = \"scale\").values,\n",
    "                           calibration = \"Calibrated against 1991-2020\").rename(\"spi_ond\")\n",
    "\n",
    "spi_m.assign_coords(time = pr_ond.time.dt.year).rename(time = \"year\").to_dataframe().to_csv(\"ts/era5_spi-ond_\"+rnm+\".csv\")"
   ]
  },
  {
   "cell_type": "code",
   "execution_count": 13,
   "metadata": {},
   "outputs": [],
   "source": [
    "def quick_spi(fnm):\n",
    "    \n",
    "    # load data\n",
    "    df = pd.read_csv(fnm, index_col = \"year\")\n",
    "    da = df.to_xarray()[df.columns[0]].assign_attrs(year = [datetime(y,1,1) for y in df.index]).rename(year = \"time\")\n",
    "    \n",
    "    pr_m = da.copy()\n",
    "    pr_cal = pr_m.sel(time = slice(1991, 2020)).copy()\n",
    "    pars = fit(pr_cal.dropna(\"time\", \"all\"), dist = \"gamma\", method = \"PWM\")\n",
    "    \n",
    "    spi_m = xr.apply_ufunc(lambda pr, dparams : norm.ppf(gamma.cdf(pr, *dparams)), pr_m, pars, \n",
    "                               input_core_dims = [[\"time\"],[\"dparams\"]], output_core_dims = [[\"time\"]], vectorize = True).assign_coords(time = pr_m.time)\n",
    "    \n",
    "    spi_m = spi_m.assign_attrs(gamma_a = pars.sel(dparams = \"a\").values, \n",
    "                           gamma_scale = pars.sel(dparams = \"scale\").values,\n",
    "                           calibration = \"Calibrated against 1991-2020\").rename(\"spi_\"+fnm.split(\"_\")[1][3:])\n",
    "    \n",
    "    spi_m.rename(time = \"year\").to_dataframe().to_csv(re.sub(\"pr\", \"spi\", fnm))"
   ]
  },
  {
   "cell_type": "code",
   "execution_count": 14,
   "metadata": {},
   "outputs": [],
   "source": [
    "for fnm in glob.glob(\"ts/era5_pr-*_\"+rnm+\".csv\"): quick_spi(fnm)"
   ]
  },
  {
   "cell_type": "code",
   "execution_count": 16,
   "metadata": {},
   "outputs": [
    {
     "data": {
      "text/plain": [
       "['ts/era5_spi-son_socal-baja.csv',\n",
       " 'ts/era5_spi-d_socal-baja.csv',\n",
       " 'ts/era5_spi-nd_socal-baja.csv',\n",
       " 'ts/era5_spi-ond_socal-baja.csv',\n",
       " 'ts/era5_spi-sond_socal-baja.csv']"
      ]
     },
     "execution_count": 16,
     "metadata": {},
     "output_type": "execute_result"
    }
   ],
   "source": [
    "glob.glob(\"ts/era5_spi-*_\"+rnm+\".csv\")"
   ]
  },
  {
   "cell_type": "markdown",
   "metadata": {},
   "source": [
    "## FWI indices"
   ]
  },
  {
   "cell_type": "code",
   "execution_count": 5,
   "metadata": {},
   "outputs": [],
   "source": [
    "ts = xr.open_dataset(\"data/era5_fwimax_socal-baja.nc\").fwimax.reset_coords(drop = True)\n",
    "\n",
    "ts_max = ts.sel(time = ts.time.dt.month.isin([12,1])).resample(time = \"AS-DEC\").max()\n",
    "ts_max.assign_coords(time = ts_max.time.dt.year+1).rename(time = \"year\").to_dataframe().to_csv(\"ts/era5_maxfwimax_socal-baja.csv\")"
   ]
  },
  {
   "cell_type": "code",
   "execution_count": 9,
   "metadata": {},
   "outputs": [],
   "source": [
    "ts = xr.open_dataset(\"data/era5_fwi_socal-baja.nc\").fwi\n",
    "\n",
    "for ndays in [1,2,3,5,7]:\n",
    "    fwinx = ts.rolling(time = ndays).mean().sel(time = ts.time.dt.month.isin([12,1])).resample(time = \"AS-DEC\").max()\n",
    "    fwinx.assign_coords(time = fwinx.time.dt.year).rename(\"fwi\"+str(ndays)+\"x\", time = \"year\").to_dataframe().to_csv(\"ts/era5_fwi\"+str(ndays)+\"x-dj_socal-baja.csv\")"
   ]
  },
  {
   "cell_type": "code",
   "execution_count": 12,
   "metadata": {},
   "outputs": [],
   "source": [
    "ts = xr.open_dataset(\"data/era5_dsr_socal-baja.nc\").dsr\n",
    "\n",
    "for ndays in [1,2,3,5,7]:\n",
    "    dsrnx = ts.rolling(time = ndays).mean().sel(time = ts.time.dt.month.isin([12,1])).resample(time = \"AS-DEC\").max()\n",
    "    dsrnx.assign_coords(time = dsrnx.time.dt.year).rename(\"dsr\"+str(ndays)+\"x\", time = \"year\").to_dataframe().to_csv(\"ts/era5_dsr\"+str(ndays)+\"x-dj_socal-baja.csv\")"
   ]
  },
  {
   "cell_type": "code",
   "execution_count": 11,
   "metadata": {},
   "outputs": [
    {
     "data": {
      "image/png": "[encoded data removed]",
      "text/plain": [
       "<Figure size 640x480 with 1 Axes>"
      ]
     },
     "metadata": {},
     "output_type": "display_data"
    }
   ],
   "source": [
    "# fairly clear increase since 1960 but if we include 1959 and earlier, there's a big difference\n",
    "fwi3x = pd.read_csv(\"ts/era5_fwi3x-dj_socal-baja.csv\", index_col = \"year\")\n",
    "fwi3x = fwi3x.loc[fwi3x.index >= 1960]\n",
    "\n",
    "fwi3x.plot()\n",
    "xyline(fwi3x.index, fwi3x.fwi3x, ax = plt.gca())\n",
    "\n",
    "# pull out source variables associated with those FWI events and try to identify where this is coming from - is there some inhomogeneity in the data?"
   ]
  },
  {
   "cell_type": "markdown",
   "metadata": {},
   "source": [
    "# Final time series"
   ]
  },
  {
   "cell_type": "code",
   "execution_count": 24,
   "metadata": {},
   "outputs": [],
   "source": [
    "# fwi = xr.open_dataset(\"data/era5_fwi_socal-baja.nc\").fwi\n",
    "# for ndays in [1,3,5,7]:\n",
    "#     fwinx = fwi.rolling(time = ndays).mean().groupby(\"time.month\")[1].resample(time = \"AS-JAN\").max().rename(\"fwi\"+str(ndays)+\"x\")\n",
    "#     fwinx.assign_coords(time = fwinx.time.dt.year).rename(time = \"year\").to_dataframe().to_csv(\"ts/era5_fwi\"+str(ndays)+\"x-jan_socal-baja.csv\")"
   ]
  },
  {
   "cell_type": "code",
   "execution_count": 79,
   "metadata": {},
   "outputs": [],
   "source": [
    "# area-weighted data from Theo\n",
    "fwi = pd.read_csv(\"/rds/general/user/cb2714/home/00_WWA_project_folder/ephemeral/cali-wildfires/timeseries/FWI_1day_J_ERA5.csv\", index_col = \"time\", parse_dates = [\"time\"])\n",
    "\n",
    "fwi.index = fwi.index.year\n",
    "fwi.index.name = \"year\"\n",
    "fwi = fwi.rename(columns = {\"J_FWI_1day\" : \"fwi1x\"})\n",
    "\n",
    "fwi.to_csv(\"ts/era5_fwi1x-jan_socal-baja.csv\")"
   ]
  },
  {
   "cell_type": "code",
   "execution_count": 83,
   "metadata": {},
   "outputs": [],
   "source": [
    "pr = pd.read_csv(\"/rds/general/user/cb2714/home/00_WWA_project_folder/ephemeral/cali-wildfires/timeseries/PR_daily_totals_ERA5.csv\", index_col = \"valid_time\",  parse_dates = [\"valid_time\"])\n",
    "pr = pr.to_xarray().PR.rename(\"pr\", valid_time = \"time\")"
   ]
  },
  {
   "cell_type": "code",
   "execution_count": 87,
   "metadata": {},
   "outputs": [],
   "source": [
    "from xclim.indices.stats import fit\n",
    "from scipy.stats import norm, gamma\n",
    "\n",
    "# original data, using generous area selection algorithm - DO NOT USE\n",
    "# pr = xr.open_dataset(\"data/era5_pr_socal-baja.nc\").pr\n",
    "\n",
    "# area-weighted data from Theo\n",
    "pr = pd.read_csv(\"/rds/general/user/cb2714/home/00_WWA_project_folder/ephemeral/cali-wildfires/timeseries/PR_daily_totals_ERA5.csv\", index_col = \"valid_time\",  parse_dates = [\"valid_time\"])\n",
    "pr = pr.to_xarray().PR.rename(\"pr\", valid_time = \"time\")\n",
    "\n",
    "pr_ond = pr.sel(time = pr.time.dt.month.isin([10,11,12])).resample(time = \"AS-OCT\").sum()\n",
    "\n",
    "pr_cal = pr_ond.sel(time = slice(\"1991\", \"2020\")).copy()\n",
    "pars = fit(pr_cal.dropna(\"time\", \"all\"), dist = \"gamma\", method = \"PWM\")\n",
    "\n",
    "spi_m = xr.apply_ufunc(lambda pr, dparams : norm.ppf(gamma.cdf(pr, *dparams)), pr_ond, pars, \n",
    "                               input_core_dims = [[\"time\"],[\"dparams\"]], output_core_dims = [[\"time\"]], vectorize = True).assign_coords(time = pr_ond.time)\n",
    "\n",
    "spi_m = spi_m.assign_attrs(gamma_a = pars.sel(dparams = \"a\").values, \n",
    "                           gamma_scale = pars.sel(dparams = \"scale\").values,\n",
    "                           calibration = \"Calibrated against 1991-2020\").rename(\"spi_ond\")\n",
    "\n",
    "spi_m.to_netcdf(\"data/era5_spi-ond_\"+rnm+\".nc\")\n",
    "spi_m.assign_coords(time = pr_ond.time.dt.year).rename(time = \"year\").to_dataframe().to_csv(\"ts/era5_spi-ond_\"+rnm+\".csv\")"
   ]
  },
  {
   "cell_type": "code",
   "execution_count": 96,
   "metadata": {},
   "outputs": [
    {
     "data": {
      "text/plain": [
       "array([0.89940897, 0.67582725, 0.09817945, 0.67062166, 0.62048858,\n",
       "       0.82033156, 0.93653767, 0.44009514, 0.60624629, 0.74930353,\n",
       "       0.29272008, 0.83092545, 0.85355131, 0.14319405, 0.26092324,\n",
       "       0.46835193, 0.03017731, 0.80071538, 0.11520536, 0.32588872,\n",
       "       0.52234569, 0.77204636, 0.14687887, 0.61345557, 0.56406975,\n",
       "       0.9886692 , 0.91308704, 0.83462565, 0.36842468, 0.32943095,\n",
       "       0.87046931, 0.90900846, 0.75687866, 0.35323097, 0.66140302,\n",
       "       0.20138049, 0.2618221 , 0.43151941, 0.83989961, 0.31215116,\n",
       "       0.16945161, 0.49928659, 0.8326164 , 0.91534373, 0.8711621 ,\n",
       "       0.85579581, 0.40973009, 0.91159893, 0.66602641, 0.0835213 ,\n",
       "       0.15758856, 0.52619825, 0.79524049, 0.40646148, 0.42399018,\n",
       "       0.1312661 , 0.84283944, 0.80683336, 0.29945904, 0.01778648,\n",
       "       0.19989964, 0.41242863, 0.68611887, 0.39246492, 0.97891295,\n",
       "       0.23687343, 0.19141737, 0.40619806, 0.78256284, 0.60731471,\n",
       "       0.98661929, 0.59455147, 0.49711859, 0.28437251, 0.65521885,\n",
       "       0.41809101, 0.74700172, 0.01284479, 0.65175757, 0.89111737,\n",
       "       0.1973    , 0.87540284, 0.7336269 , 0.45696678, 0.03529631])"
      ]
     },
     "execution_count": 96,
     "metadata": {},
     "output_type": "execute_result"
    }
   ],
   "source": [
    "gamma.cdf(pr_ond, *pars)"
   ]
  },
  {
   "cell_type": "code",
   "execution_count": 88,
   "metadata": {},
   "outputs": [],
   "source": [
    "pars2 = fit(pr_ond.dropna(\"time\", \"all\"), dist = \"gamma\", method = \"PWM\")\n",
    "\n",
    "spi_2 = xr.apply_ufunc(lambda pr, dparams : norm.ppf(gamma.cdf(pr, *dparams)), pr_ond, pars2, \n",
    "                               input_core_dims = [[\"time\"],[\"dparams\"]], output_core_dims = [[\"time\"]], vectorize = True).assign_coords(time = pr_ond.time)\n"
   ]
  },
  {
   "cell_type": "code",
   "execution_count": 89,
   "metadata": {},
   "outputs": [
    {
     "data": {
      "text/plain": [
       "Text(0.5, 0, 'SPI')"
      ]
     },
     "execution_count": 89,
     "metadata": {},
     "output_type": "execute_result"
    },
    {
     "data": {
      "image/png": "[encoded data removed]",
      "text/plain": [
       "<Figure size 640x480 with 1 Axes>"
      ]
     },
     "metadata": {},
     "output_type": "display_data"
    }
   ],
   "source": [
    "spi_m.plot(label = \"Calibrated against 1991-2020\")\n",
    "spi_2.plot(label = \"Calibrated against 1940-2025\")\n",
    "plt.legend()\n",
    "plt.xlabel(\"SPI\")"
   ]
  },
  {
   "cell_type": "markdown",
   "metadata": {},
   "source": [
    "# CORDEX"
   ]
  },
  {
   "cell_type": "markdown",
   "metadata": {},
   "source": [
    "## Compile time series"
   ]
  },
  {
   "cell_type": "code",
   "execution_count": 48,
   "metadata": {},
   "outputs": [],
   "source": [
    "varnm = \"FWI_1day_J\"\n",
    "\n",
    "fl = glob.glob(\"/rds/general/user/cb2714/home/00_WWA_project_folder/ephemeral/cali-wildfires/timeseries/\"+varnm+\"_rcp85*\")\n",
    "\n",
    "for fnm in fl:\n",
    "    df_rcp = pd.read_csv(fnm, index_col = \"time\", parse_dates = [\"time\"])\n",
    "    df_hist = pd.read_csv(re.sub(\"rcp85\", \"hist\", fnm), index_col = \"time\", parse_dates = [\"time\"])\n",
    "    \n",
    "    df = pd.concat([df_hist, df_rcp])\n",
    "    df.index = df.index.year\n",
    "    df.index.name = \"year\"\n",
    "    df = df.rename(columns = {\"J_FWI_1day\" : \"fwi1x\"})\n",
    "    df.to_csv(\"ts/NAM-22i_fwi1x_\"+\"_\".join(fnm.split(\"_\")[-5:-3])+\".csv\")"
   ]
  },
  {
   "cell_type": "markdown",
   "metadata": {},
   "source": [
    "## Detrended Nino3.4 index"
   ]
  },
  {
   "cell_type": "code",
   "execution_count": 103,
   "metadata": {},
   "outputs": [],
   "source": [
    "gcm_list = ['CanESM2','EC-EARTH','GFDL-ESM2M','HadGEM2-ES','MPI-ESM-LR','MPI-ESM-MR', \"CNRM-CM5\", \"NorESM1-M\"]\n",
    "for gcm in gcm_list:\n",
    "    if os.path.exists(\"/rds/general/user/cb2714/home/00_WWA_project_folder/live/data/cmip5-nino34/nino34det_cmip5_\"+gcm+\"_r1i1p1.nc\"):\n",
    "        da = xr.open_dataset(\"/rds/general/user/cb2714/home/00_WWA_project_folder/live/data/cmip5-nino34/nino34det_cmip5_\"+gcm+\"_r1i1p1.nc\").nino34_det\n",
    "        ts = da.sel(time = da.time.dt.month.isin([10,11,12])).resample(time = \"AS-OCT\").mean()\n",
    "        ts = ts.assign_coords(time = ts.time.dt.year).rename(time = \"year\")\n",
    "        ts.to_dataframe().to_csv(\"ts/nino34det_cmip5_\"+gcm+\".nc\", sep = \" \")"
   ]
  },
  {
   "cell_type": "markdown",
   "metadata": {},
   "source": [
    "## Daily precip time series"
   ]
  },
  {
   "cell_type": "code",
   "execution_count": 80,
   "metadata": {},
   "outputs": [],
   "source": [
    "import rioxarray as rxr\n",
    "\n",
    "fl = sorted(glob.glob(fpath+\"cordex-data/NAM-*/*/*/*/pr/\"))\n",
    "\n",
    "# need to confirm that these are correct\n",
    "crs_nam = {\"CRCM5\": cartopy.crs.RotatedPole(pole_longitude = 83.0, pole_latitude = 42.5),\n",
    "           'CanRCM4': cartopy.crs.RotatedPole(pole_longitude = 83.0, pole_latitude = 42.5),\n",
    "           'HIRHAM5': cartopy.crs.RotatedPole(pole_longitude = 83.0, pole_latitude = 42.5),\n",
    "#            'RCA4', # no precip data\n",
    "           'REMO2015': cartopy.crs.RotatedPole(pole_longitude = 83.0, pole_latitude = 42.5), \n",
    "#            'RegCM4', # ObliqueMercator projection\n",
    "           'WRF' : cartopy.crs.LambertConformal(central_longitude = -96.0, central_latitude = 46.0, standard_parallels = (35,60),\n",
    "                                                false_easting = 3700000.0, false_northing = 3500000.0),\n",
    "          }\n",
    "\n",
    "for fp in fl:\n",
    "    \n",
    "    new_fnm = \"data/\"+\"_\".join(fp.split(\"/\")[10:14])+\"_pr-daily.nc\"\n",
    "    print(new_fnm)\n",
    "    \n",
    "    if os.path.exists(new_fnm): continue\n",
    "    if new_fnm in [\"data/NAM-22_MPI-M-MPI-ESM-LR_r1i1p1_CRCM5_pr-daily.nc\"]: continue\n",
    "        \n",
    "    rcm = fp.split(\"/\")[-3]\n",
    "    if not rcm in crs_nam.keys(): continue\n",
    "    rcm_crs = crs_nam[rcm]\n",
    "    \n",
    "    # load dataset\n",
    "    da = xr.open_mfdataset(sorted(glob.glob(fp+\"*.nc\")))\n",
    "    \n",
    "    if \"rlon\" in da.dims:\n",
    "        da = da.rename(rlon =\"x\", rlat = \"y\")\n",
    "        \n",
    "    sf_rpole = sf.to_crs(rcm_crs)\n",
    "\n",
    "    # assign CRS & rename dims for mapping\n",
    "    da = da.pr.reset_coords(drop = True).rio.write_crs(rcm_crs)\n",
    "    \n",
    "    # clip to region\n",
    "    da_clipped = da.rio.clip(sf_rpole.geometry.values, sf_rpole.crs, all_touched = True)\n",
    "    \n",
    "    # get time series\n",
    "    ts = convert_units_to(da_clipped.mean([\"x\", \"y\"]), \"mm/day\").reset_coords(drop = True)\n",
    "    ts.to_netcdf(new_fnm)"
   ]
  },
  {
   "cell_type": "code",
   "execution_count": 82,
   "metadata": {},
   "outputs": [],
   "source": [
    "da_list = [xr.open_dataset(fnm) for fnm in sorted(glob.glob(fp+\"*.nc\"))]"
   ]
  },
  {
   "cell_type": "code",
   "execution_count": null,
   "metadata": {},
   "outputs": [],
   "source": [
    "xr.concat(da_list, \"time\")"
   ]
  },
  {
   "cell_type": "markdown",
   "metadata": {},
   "source": [
    "## daily DC time series"
   ]
  },
  {
   "cell_type": "code",
   "execution_count": 5,
   "metadata": {},
   "outputs": [],
   "source": [
    "import rioxarray as rxr\n",
    "fl = sorted(glob.glob(fpath+\"dc-source/DC-southern-california*.nc\"))"
   ]
  },
  {
   "cell_type": "code",
   "execution_count": 17,
   "metadata": {},
   "outputs": [],
   "source": [
    "# need to confirm that these are correct\n",
    "crs_nam = {\"CRCM5\": cartopy.crs.RotatedPole(pole_longitude = 83.0, pole_latitude = 42.5),\n",
    "           'CanRCM4': cartopy.crs.RotatedPole(pole_longitude = 83.0, pole_latitude = 42.5),\n",
    "           'HIRHAM5': cartopy.crs.RotatedPole(pole_longitude = 83.0, pole_latitude = 42.5),\n",
    "#            'RCA4', # no precip data\n",
    "           'REMO2015': cartopy.crs.RotatedPole(pole_longitude = 83.0, pole_latitude = 42.5), \n",
    "#            'RegCM4', # ObliqueMercator projection\n",
    "           'WRF' : cartopy.crs.LambertConformal(central_longitude = -96.0, central_latitude = 46.0, standard_parallels = (35,60),\n",
    "                                                false_easting = 3700000.0, false_northing = 3500000.0),\n",
    "          }"
   ]
  },
  {
   "cell_type": "code",
   "execution_count": 18,
   "metadata": {},
   "outputs": [
    {
     "name": "stdout",
     "output_type": "stream",
     "text": [
      "data/NAM-44_CCCma-CanESM2_r1i1p1_CRCM5_dc-daily.nc\n",
      "data/NAM-44_CCCma-CanESM2_r1i1p1_CanRCM4_dc-daily.nc\n",
      "data/NAM-44_MOHC-HadGEM2-ES_r1i1p1_RegCM4_dc-daily.nc\n",
      "data/NAM-44_MOHC-HadGEM2-ES_r1i1p1_WRF_dc-daily.nc\n",
      "data/NAM-44_MPI-M-MPI-ESM-LR_r1i1p1_CRCM5_dc-daily.nc\n",
      "data/NAM-44_MPI-M-MPI-ESM-LR_r1i1p1_RegCM4_dc-daily.nc\n",
      "data/NAM-44_MPI-M-MPI-ESM-LR_r1i1p1_WRF_dc-daily.nc\n",
      "data/NAM-44_MPI-M-MPI-ESM-MR_r1i1p1_CRCM5_dc-daily.nc\n",
      "data/NAM-44_NOAA-GFDL-GFDL-ESM2M_r1i1p1_RegCM4_dc-daily.nc\n",
      "data/NAM-44_NOAA-GFDL-GFDL-ESM2M_r1i1p1_WRF_dc-daily.nc\n"
     ]
    }
   ],
   "source": [
    "for fnm in fl:\n",
    "    \n",
    "    new_fnm = \"data/\"+\"_\".join(fnm.split(\"_\")[4:-1])+\"_dc-daily.nc\"\n",
    "    print(new_fnm)\n",
    "    \n",
    "    if os.path.exists(new_fnm): continue\n",
    "    \n",
    "    rcm = fnm.split(\"_\")[-2]\n",
    "    if not rcm in crs_nam.keys(): continue\n",
    "    rcm_crs = crs_nam[rcm]\n",
    "    \n",
    "    sf_rpole = sf.to_crs(rcm_crs)\n",
    "    \n",
    "    # load data, assign CRS & rename dims for mapping\n",
    "    da = xr.open_dataset(fnm).dc\n",
    "    if \"rlon\" in da.dims:\n",
    "        da = da.rename(rlon =\"x\", rlat = \"y\")\n",
    "    da = da.reset_coords(drop = True).rio.write_crs(rcm_crs)\n",
    "    \n",
    "    # clip to region\n",
    "    da_clipped = da.rio.clip(sf_rpole.geometry.values, sf_rpole.crs, all_touched = True)\n",
    "    \n",
    "    # get time series\n",
    "    ts = da_clipped.mean([\"x\", \"y\"]).reset_coords(drop = True)\n",
    "    ts.to_netcdf(new_fnm)"
   ]
  },
  {
   "cell_type": "markdown",
   "metadata": {},
   "source": [
    "### Largest drop in drought code"
   ]
  },
  {
   "cell_type": "code",
   "execution_count": 15,
   "metadata": {},
   "outputs": [],
   "source": [
    "def hydro_days(ds):\n",
    "    \n",
    "    hydro_yrs = []\n",
    "    for yr in range(int(ds.time.dt.year.min()), int(ds.time.dt.year.max())):\n",
    "        temp = ds.dc.sel(time = np.logical_or(\n",
    "            np.logical_and(ds.time.dt.year == yr, ds.time.dt.month >= 9),\n",
    "            np.logical_and(ds.time.dt.year == yr+1, ds.time.dt.month <= 8)))\n",
    "#         temp = temp.mean(dim = ['latitude','longitude'])\n",
    "        hydro_yrs.append(temp)\n",
    "    \n",
    "    hydro_doys = []\n",
    "    for i, data in enumerate(hydro_yrs):\n",
    "        temp = data.rolling(time = 7).mean()#.resample(time = 'W').mean()\n",
    "        drop = list([np.nan]*7) + list(temp.data[7:] - temp.data[:-7])\n",
    "        min_arg = np.nanargmin(drop)\n",
    "        doy_hydro = int(temp.time[min_arg].dt.dayofyear)\n",
    "        start_doy = int(data.time[0].dt.dayofyear)\n",
    "        if doy_hydro >= start_doy:\n",
    "            output = doy_hydro - start_doy\n",
    "        else:\n",
    "            eoy = pd.to_datetime(f'{int(temp.time.dt.year[0])}-12-31').dayofyear\n",
    "            output = (eoy - start_doy) + doy_hydro\n",
    "        hydro_doys.append(output)\n",
    "\n",
    "    yrs = np.arange(int(ds.time.dt.year.min()), int(ds.time.dt.year.max()))\n",
    "    \n",
    "    df = pd.DataFrame(\n",
    "        np.array([yrs, hydro_doys]).T,\n",
    "        columns = [\"year\", \"dc_doy\"])\n",
    "    return df"
   ]
  },
  {
   "cell_type": "code",
   "execution_count": 23,
   "metadata": {},
   "outputs": [],
   "source": [
    "gcm_names = {'CNRM-CERFACS-CNRM-CM5':\"CNRM-CM5\",\n",
    "             'MOHC-HadGEM2-ES':\"HadGEM2-ES\",\n",
    "             'MPI-M-MPI-ESM-LR':\"MPI-ESM-LR\",\n",
    "             'MPI-M-MPI-ESM-MR':\"MPI-ESM-MR\",\n",
    "             'NCC-NorESM1-M':\"NorESM1-M\",\n",
    "             'NOAA-GFDL-GFDL-ESM2M':\"GFDL-ESM2M\",\n",
    "             'CCCma-CanESM2':\"CanESM2\",\n",
    "             'ICHEC-EC-EARTH':\"EC-EARTH\"}"
   ]
  },
  {
   "cell_type": "code",
   "execution_count": 17,
   "metadata": {},
   "outputs": [],
   "source": [
    "fl = sorted(glob.glob(fpath+\"dc-source/DC-southern-california*.nc\"))[:1]"
   ]
  },
  {
   "cell_type": "code",
   "execution_count": 18,
   "metadata": {},
   "outputs": [],
   "source": [
    "for fnm in fl:\n",
    "    da = xr.open_dataset(fl[0]).dc\n",
    "    \n",
    "    if \"rlon\" in da.dims:\n",
    "        dc = da.mean([\"rlat\", \"rlon\"])\n",
    "    else:\n",
    "        dc = da.mean([\"x\", \"y\"])"
   ]
  },
  {
   "cell_type": "code",
   "execution_count": 76,
   "metadata": {},
   "outputs": [],
   "source": [
    "for fnm in fl:\n",
    "    \n",
    "#     if fnm in ['data/NAM-44_CCCma-CanESM2_r1i1p1_CRCM5_pr-daily.nc']:\n",
    "#         print(\"-\")\n",
    "#         continue\n",
    "        \n",
    "    gcm = fnm.split(\"_\")[-4]\n",
    "    new_fnm = re.sub(gcm, gcm_names[gcm], \"ts/cordex_dc7-doy_\"+fnm[5:-12]+\".csv\")\n",
    "    print(new_fnm)\n",
    "    if os.path.exists(new_fnm): continue\n",
    "    \n",
    "    dc = convert_calendar(xr.open_dataset(fnm), \"default\").dropna(\"time\", \"any\")\n",
    "    df = hydro_days(dc).set_index(\"year\")\n",
    "    df.to_csv(new_fnm)"
   ]
  },
  {
   "cell_type": "markdown",
   "metadata": {},
   "source": [
    "## OND proportion & drought onset timing"
   ]
  },
  {
   "cell_type": "code",
   "execution_count": 29,
   "metadata": {},
   "outputs": [],
   "source": [
    "gcm_names = {'CNRM-CERFACS-CNRM-CM5':\"CNRM-CM5\",\n",
    "             'MOHC-HadGEM2-ES':\"HadGEM2-ES\",\n",
    "             'MPI-M-MPI-ESM-LR':\"MPI-ESM-LR\",\n",
    "             'MPI-M-MPI-ESM-MR':\"MPI-ESM-MR\",\n",
    "             'NCC-NorESM1-M':\"NorESM1-M\",\n",
    "             'NOAA-GFDL-GFDL-ESM2M':\"GFDL-ESM2M\",\n",
    "             'CCCma-CanESM2':\"CanESM2\",\n",
    "             'ICHEC-EC-EARTH':\"EC-EARTH\"}"
   ]
  },
  {
   "cell_type": "code",
   "execution_count": 32,
   "metadata": {},
   "outputs": [],
   "source": [
    "fl = sorted(glob.glob(\"data/NAM*_pr-daily.nc\"))"
   ]
  },
  {
   "cell_type": "code",
   "execution_count": 37,
   "metadata": {},
   "outputs": [
    {
     "name": "stdout",
     "output_type": "stream",
     "text": [
      "ts/cordex_doy-clim30pc_NAM-22_CNRM-CM5_r1i1p1_CRCM5.csv: 0.3160197\n",
      "ts/cordex_doy-clim30pc_NAM-22_HadGEM2-ES_r1i1p1_REMO2015.csv: 0.31253123\n",
      "ts/cordex_doy-clim30pc_NAM-22_HadGEM2-ES_r1i1p1_WRF.csv: 0.35341305\n",
      "ts/cordex_doy-clim30pc_NAM-22_MPI-ESM-LR_r1i1p1_REMO2015.csv: 0.26497677\n",
      "ts/cordex_doy-clim30pc_NAM-22_MPI-ESM-LR_r1i1p1_WRF.csv: 0.2639446\n",
      "ts/cordex_doy-clim30pc_NAM-22_MPI-ESM-MR_r1i1p1_CRCM5.csv: 0.2718925\n",
      "ts/cordex_doy-clim30pc_NAM-22_NorESM1-M_r1i1p1_REMO2015.csv: 0.3108272\n",
      "ts/cordex_doy-clim30pc_NAM-22_GFDL-ESM2M_r1i1p1_CRCM5.csv: 0.26315978\n",
      "ts/cordex_doy-clim30pc_NAM-22_GFDL-ESM2M_r1i1p1_WRF.csv: 0.28400254\n",
      "ts/cordex_doy-clim30pc_NAM-44_CanESM2_r1i1p1_CRCM5.csv: 0.27297726\n",
      "ts/cordex_doy-clim30pc_NAM-44_CanESM2_r1i1p1_CanRCM4.csv: 0.24618974\n",
      "ts/cordex_doy-clim30pc_NAM-44_EC-EARTH_r3i1p1_HIRHAM5.csv: 0.32168436\n",
      "ts/cordex_doy-clim30pc_NAM-44_HadGEM2-ES_r1i1p1_WRF.csv: 0.3450511\n"
     ]
    }
   ],
   "source": [
    "for fnm in fl:\n",
    "    \n",
    "#     if fnm in ['data/NAM-44_CCCma-CanESM2_r1i1p1_CRCM5_pr-daily.nc']:\n",
    "#         print(\"-\")\n",
    "#         continue\n",
    "        \n",
    "    gcm = fnm.split(\"_\")[1]\n",
    "    new_fnm = re.sub(gcm, gcm_names[gcm], \"ts/cordex_doy-clim30pc_\"+fnm[5:-12]+\".csv\")\n",
    "    print(new_fnm, end = \": \")\n",
    "    \n",
    "    pr = convert_calendar(xr.open_dataset(fnm).pr, \"default\", align_on = \"date\")\n",
    "    pr_clim = pr.resample(time = \"AS-OCT\").sum().sel(time = slice(\"1990\", \"2019\")).mean()\n",
    "    pr = pr.assign_coords(offset_time = (\"time\", pr.time.shift(time = -92).data))\n",
    "    \n",
    "    prop_ond = (pr.sel(time = pr.time.dt.month.isin([10,11,12])).resample(time = \"AS-OCT\").sum() / pr_clim).mean()\n",
    "    print(prop_ond.values)\n",
    "\n",
    "    doy = pr.offset_time.dt.dayofyear.where(pr.resample(time = \"AS-OCT\").cumsum() >= (0.30 * pr_clim)).dropna(\"time\", \"any\").resample(time = \"AS-OCT\").min()\n",
    "    doy = doy.assign_coords(time = doy.time.dt.year+1).rename(time = \"year\")\n",
    "    \n",
    "    doy.to_dataframe().to_csv(new_fnm)"
   ]
  },
  {
   "cell_type": "markdown",
   "metadata": {},
   "source": [
    "## OND SPI"
   ]
  },
  {
   "cell_type": "code",
   "execution_count": 85,
   "metadata": {},
   "outputs": [],
   "source": [
    "from xclim.indices.stats import fit\n",
    "from scipy.stats import norm, gamma"
   ]
  },
  {
   "cell_type": "markdown",
   "metadata": {},
   "source": [
    "### CORDEX"
   ]
  },
  {
   "cell_type": "code",
   "execution_count": 85,
   "metadata": {},
   "outputs": [],
   "source": [
    "fl = sorted(glob.glob(\"data/NAM*_pr-daily.nc\"))"
   ]
  },
  {
   "cell_type": "code",
   "execution_count": 6,
   "metadata": {},
   "outputs": [],
   "source": [
    "gcm_names = {'CNRM-CERFACS-CNRM-CM5':\"CNRM-CM5\",\n",
    "             'MOHC-HadGEM2-ES':\"HadGEM2-ES\",\n",
    "             'MPI-M-MPI-ESM-LR':\"MPI-ESM-LR\",\n",
    "             'MPI-M-MPI-ESM-MR':\"MPI-ESM-MR\",\n",
    "             'NCC-NorESM1-M':\"NorESM1-M\",\n",
    "             'NOAA-GFDL-GFDL-ESM2M':\"GFDL-ESM2M\",\n",
    "             'CCCma-CanESM2':\"CanESM2\",\n",
    "             'ICHEC-EC-EARTH':\"EC-EARTH\"}"
   ]
  },
  {
   "cell_type": "code",
   "execution_count": 117,
   "metadata": {},
   "outputs": [],
   "source": [
    "for fnm in fl:\n",
    "    pr = xr.open_dataset(fnm).pr\n",
    "    if np.isnan(pr.max()): continue\n",
    "        \n",
    "    gcm = fnm.split(\"_\")[1]\n",
    "    new_fnm = re.sub(gcm, gcm_names[gcm], \"data/spi-ond_\"+fnm.split(\"/\")[1][:-12]+\".nc\")\n",
    "    \n",
    "    pr_ond = pr.sel(time = pr.time.dt.month.isin([10,11,12])).resample(time = \"AS-OCT\").mean()\n",
    "    \n",
    "    pr_cal = pr_ond.sel(time = slice(\"1991\", \"2020\")).copy()\n",
    "    pars = fit(pr_cal.dropna(\"time\", \"all\"), dist = \"gamma\", method = \"PWM\")\n",
    "\n",
    "    spi_m = xr.apply_ufunc(lambda pr, dparams : norm.ppf(gamma.cdf(pr, *dparams)), pr_ond, pars, \n",
    "                                   input_core_dims = [[\"time\"],[\"dparams\"]], output_core_dims = [[\"time\"]], vectorize = True).assign_coords(time = pr_ond.time)\n",
    "\n",
    "    spi_m = spi_m.assign_attrs(gamma_a = pars.sel(dparams = \"a\").values, \n",
    "                               gamma_scale = pars.sel(dparams = \"scale\").values,\n",
    "                               calibration = \"Calibrated against 1991-2020\").rename(\"spi_ond\")\n",
    "    \n",
    "    spi_m.to_netcdf(new_fnm)\n",
    "    spi_m.assign_coords(time = pr_ond.time.dt.year).rename(time = \"year\").to_dataframe().to_csv(re.sub(\"nc\", \"csv\", re.sub(\"data\", \"ts\", new_fnm)))"
   ]
  },
  {
   "cell_type": "markdown",
   "metadata": {},
   "source": [
    "### HighResMIP"
   ]
  },
  {
   "cell_type": "code",
   "execution_count": 11,
   "metadata": {},
   "outputs": [],
   "source": [
    "fl = sorted(glob.glob(\"data/pr-ond_IPSL*.nc\"))"
   ]
  },
  {
   "cell_type": "code",
   "execution_count": 60,
   "metadata": {},
   "outputs": [],
   "source": [
    "for fnm in fl:\n",
    "    \n",
    "    new_fnm = re.sub(\"pr-ond\", \"spi-ond\", fnm)\n",
    "    if os.path.exists(new_fnm): continue\n",
    "    \n",
    "    # load data, get area-weighted mean\n",
    "    da = convert_units_to(xr.open_dataset(fnm).pr, \"mm/day\")\n",
    "    pr_ond = awmean(da).reset_coords(drop = True)\n",
    "    \n",
    "    pr_cal = pr_ond.sel(time = slice(\"1980\", \"2010\")).copy()\n",
    "    pars = fit(pr_cal.dropna(\"time\", \"all\"), dist = \"gamma\", method = \"PWM\")\n",
    "\n",
    "    spi_m = xr.apply_ufunc(lambda pr, dparams : norm.ppf(gamma.cdf(pr, *dparams)), pr_ond, pars, \n",
    "                                   input_core_dims = [[\"time\"],[\"dparams\"]], output_core_dims = [[\"time\"]], vectorize = True).assign_coords(time = pr_ond.time)\n",
    "\n",
    "    spi_m = spi_m.assign_attrs(gamma_a = pars.sel(dparams = \"a\").values, \n",
    "                               gamma_scale = pars.sel(dparams = \"scale\").values,\n",
    "                               calibration = \"Calibrated against 1981-2010\").rename(\"spi_ond\")\n",
    "    \n",
    "    spi_m.to_netcdf(new_fnm)\n",
    "    spi_m.assign_coords(time = pr_ond.time.dt.year).rename(time = \"year\").to_dataframe().to_csv(re.sub(\"nc\", \"csv\", re.sub(\"data\", \"ts\", new_fnm)))"
   ]
  },
  {
   "cell_type": "markdown",
   "metadata": {},
   "source": [
    "# Compute drought code from CORDEX data"
   ]
  },
  {
   "cell_type": "code",
   "execution_count": 3,
   "metadata": {},
   "outputs": [],
   "source": [
    "from xclim.indicators.atmos import drought_code\n",
    "\n",
    "fpath = \"/rds/general/user/cb2714/home/00_WWA_project_folder/ephemeral/cali-wildfires/dc-source/\"\n",
    "\n",
    "xn,xx,yn,yx = [-121,-116,32.5,34.6]"
   ]
  },
  {
   "cell_type": "code",
   "execution_count": 4,
   "metadata": {},
   "outputs": [],
   "source": [
    "gcm_names = {'CNRM-CERFACS-CNRM-CM5':\"CNRM-CM5\",\n",
    "             'MOHC-HadGEM2-ES':\"HadGEM2-ES\",\n",
    "             'MPI-M-MPI-ESM-LR':\"MPI-ESM-LR\",\n",
    "             'MPI-M-MPI-ESM-MR':\"MPI-ESM-MR\",\n",
    "             'NCC-NorESM1-M':\"NorESM1-M\",\n",
    "             'NOAA-GFDL-GFDL-ESM2M':\"GFDL-ESM2M\",\n",
    "             'CCCma-CanESM2':\"CanESM2\",\n",
    "             'ICHEC-EC-EARTH':\"EC-EARTH\"}"
   ]
  },
  {
   "cell_type": "code",
   "execution_count": 5,
   "metadata": {},
   "outputs": [],
   "source": [
    "fl = sorted(glob.glob(fpath+\"pr_daily*.nc\"))"
   ]
  },
  {
   "cell_type": "code",
   "execution_count": 7,
   "metadata": {},
   "outputs": [],
   "source": [
    "for fnm in fl:\n",
    "    \n",
    "    mdl = \"_\".join(fnm.split(\"_\")[-5:-1])\n",
    "    print(mdl, end = \" \")\n",
    "    \n",
    "    if mdl in [\"NAM-44_ICHEC-EC-EARTH_r3i1p1_HIRHAM5\"]:\n",
    "        print(\"Model hang\")\n",
    "        continue\n",
    "    \n",
    "    new_fnm = fpath+\"dc-daily_\"+re.sub(fnm.split(\"_\")[-4], gcm_names[fnm.split(\"_\")[-4]], mdl)\n",
    "    if len(glob.glob(new_fnm+\"*.nc\")) > 0: \n",
    "        print(\"\")\n",
    "        continue\n",
    "\n",
    "    tmax_fnm = glob.glob(fpath+\"tasmax_daily_\"+mdl+\"*.nc\")\n",
    "    if len(tmax_fnm) == 0: \n",
    "        print(\"No tasmax\")\n",
    "        continue\n",
    "    \n",
    "    #~~~~~~~~~~~~~~~~~~~~~~~~~~~~~~~~~~~~~~~~~~~~~~~~~~~~~~~~~~~~~~~~~~~~~~~\n",
    "    pr = xr.open_dataset(fnm).pr.dropna(\"time\", \"any\")\n",
    "\n",
    "    if \"rlat\" in pr.dims:\n",
    "        xdim, ydim = [\"rlat\", \"rlon\"]\n",
    "    else:\n",
    "        xdim, ydim = [\"x\", \"y\"]\n",
    "    \n",
    "    tmax = xr.open_dataset(tmax_fnm[0]).tasmax.drop_duplicates(\"time\", keep = \"first\")\n",
    "    \n",
    "    rm = np.logical_and(np.logical_and(pr.lon >= xn, pr.lon <= xx), np.logical_and(pr.lat >= yn, pr.lat <= yx))\n",
    "    rm = rm.where(rm == 1).dropna(xdim, \"all\").dropna(ydim, \"all\")\n",
    "    \n",
    "    pr = pr.sel({xdim : rm[xdim], ydim : rm[ydim]})\n",
    "    tmax = tmax.sel({xdim : rm[xdim], ydim : rm[ydim]})\n",
    "    \n",
    "    pr = convert_units_to(pr, \"mm/day\")\n",
    "    tmax = convert_units_to(tmax, \"degC\")\n",
    "    \n",
    "    pr = pr.resample(time = \"D\").mean()\n",
    "    tmax = tmax.resample(time = \"D\").mean()\n",
    "    \n",
    "    dc = drought_code(ds = xr.merge([tmax.rename(\"tas\"), pr])).dropna(\"time\", \"any\")\n",
    "    \n",
    "    new_fnm = new_fnm + \"_\"+str(dc.time[0].dt.year.values) + \"-\" + str(dc.time[-1].dt.year.values) + \".nc\"\n",
    "    dc.to_netcdf(new_fnm)\n",
    "    print(\"\")\n",
    "    \n",
    "clear_output(wait = False)\n",
    "print(\"Done.\")"
   ]
  },
  {
   "cell_type": "code",
   "execution_count": 7,
   "metadata": {},
   "outputs": [
    {
     "name": "stdout",
     "output_type": "stream",
     "text": [
      "Done.\n"
     ]
    }
   ],
   "source": []
  },
  {
   "cell_type": "markdown",
   "metadata": {},
   "source": [
    "### DC time series"
   ]
  },
  {
   "cell_type": "code",
   "execution_count": 5,
   "metadata": {},
   "outputs": [],
   "source": [
    "fl = sorted(glob.glob(fpath+\"dc-source/dc-daily_*.nc\"))"
   ]
  },
  {
   "cell_type": "code",
   "execution_count": 6,
   "metadata": {},
   "outputs": [],
   "source": [
    "# need to confirm that these are correct\n",
    "crs_nam = {\"CRCM5\": cartopy.crs.RotatedPole(pole_longitude = 83.0, pole_latitude = 42.5),\n",
    "           'CanRCM4': cartopy.crs.RotatedPole(pole_longitude = 83.0, pole_latitude = 42.5),\n",
    "           'HIRHAM5': cartopy.crs.RotatedPole(pole_longitude = 83.0, pole_latitude = 42.5),\n",
    "#            'RCA4', # no precip data\n",
    "           'REMO2015': cartopy.crs.RotatedPole(pole_longitude = 83.0, pole_latitude = 42.5), \n",
    "           'RegCM4': cartopy.crs.TransverseMercator(central_longitude=263.0, central_latitude=46.0),\n",
    "           'WRF' : cartopy.crs.LambertConformal(central_longitude = -96.0, central_latitude = 46.0, standard_parallels = (35,60),\n",
    "                                                false_easting = 3700000.0, false_northing = 3500000.0),\n",
    "          }"
   ]
  },
  {
   "cell_type": "code",
   "execution_count": 7,
   "metadata": {},
   "outputs": [],
   "source": [
    "# extract area-weighted time series\n",
    "for fnm in fl:\n",
    "    \n",
    "    print(fnm)\n",
    "    \n",
    "    da = xr.open_dataset(fnm).dc\n",
    "    rcm_crs = crs_nam[fnm.split(\"_\")[-2]]\n",
    "    rcm_sf = sf.to_crs(rcm_crs)\n",
    "    \n",
    "    if \"rlat\" in da.dims: da = da.rename(rlat = \"y\", rlon = \"x\")\n",
    "        \n",
    "    ts = awmean(da, rcm_sf, rcm_crs)\n",
    "    ts.to_netcdf(re.sub(\"daily\", \"awdaily\", fnm))\n",
    "    \n",
    "clear_output(wait = False)"
   ]
  },
  {
   "cell_type": "code",
   "execution_count": 8,
   "metadata": {},
   "outputs": [],
   "source": [
    "fl = sorted(glob.glob(fpath+\"dc-source/dc-awdaily_*.nc\"))"
   ]
  },
  {
   "cell_type": "code",
   "execution_count": 33,
   "metadata": {},
   "outputs": [
    {
     "name": "stdout",
     "output_type": "stream",
     "text": [
      "dc-awdaily_NAM-22_GFDL-ESM2M_r1i1p1_CRCM5_1950-2100.nc \n",
      "dc-awdaily_NAM-22_GFDL-ESM2M_r1i1p1_WRF_1950-1991.nc \n",
      "dc-awdaily_NAM-44_CanESM2_r1i1p1_CRCM5_1950-2100.nc \n",
      "dc-awdaily_NAM-44_CanESM2_r1i1p1_CanRCM4_1950-2100.nc \n",
      "dc-awdaily_NAM-44_GFDL-ESM2M_r1i1p1_RegCM4_1950-2099.nc \n",
      "dc-awdaily_NAM-44_GFDL-ESM2M_r1i1p1_WRF_1950-1991.nc \n",
      "dc-awdaily_NAM-44_HadGEM2-ES_r1i1p1_RegCM4_1950-2099.nc \n",
      "dc-awdaily_NAM-44_HadGEM2-ES_r1i1p1_WRF_1950-1969.nc \n",
      "dc-awdaily_NAM-44_MPI-ESM-LR_r1i1p1_CRCM5_1949-2100.nc \n",
      "dc-awdaily_NAM-44_MPI-ESM-LR_r1i1p1_RegCM4_1949-2099.nc \n",
      "dc-awdaily_NAM-44_MPI-ESM-LR_r1i1p1_WRF_1950-1991.nc \n",
      "dc-awdaily_NAM-44_MPI-ESM-MR_r1i1p1_CRCM5_1949-2100.nc \n"
     ]
    }
   ],
   "source": [
    "for fnm in fl:\n",
    "    \n",
    "    print(fnm.split(\"/\")[-1], end = \" \")\n",
    "    \n",
    "    new_fnm = \"ts/cordex_dc7-doy_\"+\"_\".join(fnm.split(\"_\")[-5:-1])+\".csv\"\n",
    "    if os.path.exists(new_fnm): \n",
    "        print(\"\")\n",
    "        continue\n",
    "        \n",
    "    da = xr.open_dataset(fnm)\n",
    "    ts = hydro_days(da)\n",
    "    \n",
    "    # save the file as is\n",
    "    print(ts.dc_doy.max(), end = \" \")\n",
    "    ts.to_csv(new_fnm)\n",
    "    \n",
    "    # wrap at 300 days and save again - otherwise DOY getting earlier will be coded as more high values, & trend will go in wrong direction\n",
    "    # check of new max DOY suggests that after wrapping values > 300, max value is close to 200 (one model has 258), suggesting that this is an appropriate seasonal break\n",
    "    ts.loc[ts.dc_doy > 300] = ts.loc[ts.dc_doy > 300] - 365\n",
    "    ts.to_csv(re.sub(\"dc7-doy\", \"dc7-doy-wrapped\", new_fnm))\n",
    "    print(ts.dc_doy.max(), end = \" \")\n",
    "    \n",
    "    print(\"\")\n",
    "    "
   ]
  },
  {
   "cell_type": "markdown",
   "metadata": {},
   "source": [
    "# nclimgrid SPI"
   ]
  },
  {
   "cell_type": "code",
   "execution_count": 42,
   "metadata": {},
   "outputs": [],
   "source": [
    "pr = xr.open_dataset(fpath+\"nclimgrid_prcp.nc\").prcp\n",
    "pr = pr.rio.write_crs(\"EPSG:4326\")\n",
    "pr_clipped = pr.rio.clip(sf.geometry.values, sf.crs, all_touched = True)"
   ]
  },
  {
   "cell_type": "code",
   "execution_count": 46,
   "metadata": {},
   "outputs": [],
   "source": [
    "pr_ond = pr_clipped.sel(time = pr_clipped.time.dt.month.isin([10,11,12])).resample(time = \"AS-OCT\").mean().mean([\"lat\", \"lon\"])"
   ]
  },
  {
   "cell_type": "code",
   "execution_count": 51,
   "metadata": {},
   "outputs": [],
   "source": [
    "pr_cal = pr_ond.sel(time = slice(\"1991\", \"2020\")).copy()\n",
    "pars = fit(pr_cal.dropna(\"time\", \"all\"), dist = \"gamma\", method = \"PWM\")\n",
    "\n",
    "spi_m = xr.apply_ufunc(lambda pr, dparams : norm.ppf(gamma.cdf(pr, *dparams)), pr_ond, pars, \n",
    "                               input_core_dims = [[\"time\"],[\"dparams\"]], output_core_dims = [[\"time\"]], vectorize = True).assign_coords(time = pr_ond.time)\n",
    "\n",
    "spi_m = spi_m.assign_attrs(gamma_a = pars.sel(dparams = \"a\").values, \n",
    "                           gamma_scale = pars.sel(dparams = \"scale\").values,\n",
    "                           calibration = \"Calibrated against 1991-2020\").rename(\"spi_ond\")"
   ]
  },
  {
   "cell_type": "code",
   "execution_count": 58,
   "metadata": {},
   "outputs": [],
   "source": [
    "spi_m.to_netcdf(\"data/ngridclim_spi-ond_socal-baja.nc\")\n",
    "spi_m.assign_coords(time = pr_ond.time.dt.year).rename(time = \"year\").to_dataframe().to_csv(\"ts/ngridclim_spi-ond_socal-baja.csv\")"
   ]
  },
  {
   "cell_type": "code",
   "execution_count": 55,
   "metadata": {},
   "outputs": [
    {
     "data": {
      "text/plain": [
       "'ts/cordex_dc7-doy_NAM-44_MPI-ESM-MR_r1i1p1_CRCM5.csv'"
      ]
     },
     "execution_count": 55,
     "metadata": {},
     "output_type": "execute_result"
    }
   ],
   "source": [
    "new_fnm"
   ]
  },
  {
   "cell_type": "markdown",
   "metadata": {},
   "source": [
    "# HighResMIP from Synda"
   ]
  },
  {
   "cell_type": "markdown",
   "metadata": {},
   "source": [
    "## SPI-OND"
   ]
  },
  {
   "cell_type": "code",
   "execution_count": 73,
   "metadata": {},
   "outputs": [],
   "source": [
    "fl = glob.glob(\"/rds/general/user/cb2714/home/00_WWA_project_folder/ephemeral/cali-wildfires/highresmip/pr/cutdata/pr_*.nc\")"
   ]
  },
  {
   "cell_type": "code",
   "execution_count": 75,
   "metadata": {},
   "outputs": [
    {
     "name": "stdout",
     "output_type": "stream",
     "text": [
      "data/spi-ond_highresSST_CMCC-CM2-VHR4_r1i1p1f1.nc\n",
      "data/spi-ond_highresSST_MRI-AGCM3-2-S_r1i1p1f1.nc\n",
      "data/spi-ond_highresSST_MRI-AGCM3-2-H_r1i1p1f1.nc\n"
     ]
    }
   ],
   "source": [
    "for fnm in fl:\n",
    "    \n",
    "    new_fnm = \"data/spi-ond_highresSST_\"+fnm.split(\"_\")[5]+\"_\"+fnm.split(\"_\")[7]+\".nc\"\n",
    "    print(new_fnm)\n",
    "    if os.path.exists(new_fnm): continue\n",
    "        \n",
    "    pr = xr.open_dataset(fnm).pr\n",
    "    pr_ts = awmean(pr, to_sf = sf, da_crs = \"EPSG:4326\")\n",
    "\n",
    "    pr_ond = pr_ts.sel(time = pr_ts.time.dt.month.isin([10,11,12])).resample(time = \"AS-OCT\").mean()\n",
    "\n",
    "    pr_cal = pr_ond.sel(time = slice(\"1991\", \"2020\")).copy()\n",
    "    pars = fit(pr_cal.dropna(\"time\", \"all\"), dist = \"gamma\", method = \"PWM\")\n",
    "\n",
    "    spi_m = xr.apply_ufunc(lambda pr, dparams : norm.ppf(gamma.cdf(pr, *dparams)), pr_ond, pars, \n",
    "                                   input_core_dims = [[\"time\"],[\"dparams\"]], output_core_dims = [[\"time\"]], vectorize = True).assign_coords(time = pr_ond.time)\n",
    "\n",
    "    spi_m = spi_m.assign_attrs(gamma_a = pars.sel(dparams = \"a\").values, \n",
    "                               gamma_scale = pars.sel(dparams = \"scale\").values,\n",
    "                               calibration = \"Calibrated against 1991-2020\").rename(\"spi_ond\")\n",
    "\n",
    "    spi_m.to_netcdf(new_fnm)\n",
    "    spi_m.assign_coords(time = pr_ond.time.dt.year).rename(time = \"year\").to_dataframe().to_csv(re.sub(\"data\", \"ts\", re.sub(\"nc\",\"csv\", new_fnm)))"
   ]
  },
  {
   "cell_type": "markdown",
   "metadata": {},
   "source": [
    "# HighResMIP from JASMIN"
   ]
  },
  {
   "cell_type": "markdown",
   "metadata": {},
   "source": [
    "## SPI-OND"
   ]
  },
  {
   "cell_type": "code",
   "execution_count": 94,
   "metadata": {},
   "outputs": [],
   "source": [
    "fl = glob.glob(\"/rds/general/user/cb2714/home/00_WWA_project_folder/ephemeral/cali-wildfires/highresmip/la-fires_pr_day_*.nc\")"
   ]
  },
  {
   "cell_type": "code",
   "execution_count": 95,
   "metadata": {},
   "outputs": [
    {
     "name": "stdout",
     "output_type": "stream",
     "text": [
      "data/spi-ond_highresSST_CNRM-CM6-1_r1i1p1f2.nc\n",
      "data/spi-ond_highresSST_CNRM-CM6-1-HR_r1i1p1f2.nc\n",
      "data/spi-ond_highresSST_CNRM-CM6-1-HR_r1i1p1f2.nc\n",
      "data/spi-ond_highresSST_HadGEM3-GC31-HM_r1i1p1f1.nc\n",
      "data/spi-ond_highresSST_HadGEM3-GC31-LM_r1i14p1f1.nc\n",
      "data/spi-ond_highresSST_CMCC-CM2-HR4_r1i1p1f1.nc\n",
      "data/spi-ond_highresSST_HadGEM3-GC31-MM_r1i1p1f1.nc\n",
      "data/spi-ond_highresSST_EC-Earth3P_r1i1p1f1.nc\n",
      "data/spi-ond_highresSST_EC-Earth3P_r1i1p1f1.nc\n",
      "data/spi-ond_highresSST_MPI-ESM1-2-HR_r1i1p1f1.nc\n",
      "data/spi-ond_highresSST_MPI-ESM1-2-XR_r1i1p1f1.nc\n",
      "data/spi-ond_highresSST_HadGEM3-GC31-HM_r1i1p1f1.nc\n",
      "data/spi-ond_highresSST_MPI-ESM1-2-HR_r1i1p1f1.nc\n"
     ]
    }
   ],
   "source": [
    "for fnm in fl:\n",
    "    \n",
    "    new_fnm = \"data/spi-ond_highresSST_\"+fnm.split(\"_\")[6]+\"_\"+fnm.split(\"_\")[8]+\".nc\"\n",
    "    print(new_fnm)\n",
    "    if os.path.exists(new_fnm): continue\n",
    "        \n",
    "    pr = xr.open_dataset(fnm).pr\n",
    "    pr_ts = awmean(pr, to_sf = sf, da_crs = \"EPSG:4326\")\n",
    "    pr_ts = pr_ts.sortby(\"time\").drop_duplicates(\"time\")\n",
    "\n",
    "    pr_ond = pr_ts.sel(time = pr_ts.time.dt.month.isin([10,11,12])).resample(time = \"AS-OCT\").mean()\n",
    "\n",
    "    pr_cal = pr_ond.sel(time = slice(\"1991\", \"2020\")).copy()\n",
    "    pars = fit(pr_cal.dropna(\"time\", \"all\"), dist = \"gamma\", method = \"PWM\")\n",
    "\n",
    "    spi_m = xr.apply_ufunc(lambda pr, dparams : norm.ppf(gamma.cdf(pr, *dparams)), pr_ond, pars, \n",
    "                                   input_core_dims = [[\"time\"],[\"dparams\"]], output_core_dims = [[\"time\"]], vectorize = True).assign_coords(time = pr_ond.time)\n",
    "\n",
    "    spi_m = spi_m.assign_attrs(gamma_a = pars.sel(dparams = \"a\").values, \n",
    "                               gamma_scale = pars.sel(dparams = \"scale\").values,\n",
    "                               calibration = \"Calibrated against 1991-2020\").rename(\"spi_ond\")\n",
    "\n",
    "    spi_m.to_netcdf(new_fnm)\n",
    "    spi_m.assign_coords(time = pr_ond.time.dt.year).rename(time = \"year\").to_dataframe().to_csv(re.sub(\"data\", \"ts\", re.sub(\"nc\",\"csv\", new_fnm)))"
   ]
  },
  {
   "cell_type": "markdown",
   "metadata": {},
   "source": [
    "## Drought code & drought onset"
   ]
  },
  {
   "cell_type": "code",
   "execution_count": 192,
   "metadata": {},
   "outputs": [],
   "source": [
    "fl = glob.glob(\"/rds/general/user/cb2714/home/00_WWA_project_folder/ephemeral/cali-wildfires/highresmip/la-fires_tasmax_day_*.nc\")"
   ]
  },
  {
   "cell_type": "code",
   "execution_count": 193,
   "metadata": {},
   "outputs": [
    {
     "name": "stdout",
     "output_type": "stream",
     "text": [
      "data/dc_highresSST_MPI-ESM1-2-XR_r1i1p1f1.nc\n",
      "data/dc_highresSST_MPI-ESM1-2-HR_r1i1p1f1.nc\n",
      "data/dc_highresSST_HadGEM3-GC31-LM_r1i14p1f1.nc\n"
     ]
    },
    {
     "name": "stderr",
     "output_type": "stream",
     "text": [
      "/rds/general/user/cb2714/home/anaconda3/envs/wwa_xesmf/lib/python3.10/site-packages/xclim/core/cfchecks.py:44: UserWarning: Variable has a non-conforming cell_methods: Got `area: mean time: maximum`, which do not include the expected `time: mean`\n",
      "  _check_cell_methods(\n"
     ]
    },
    {
     "name": "stdout",
     "output_type": "stream",
     "text": [
      "data/dc_highresSST_HadGEM3-GC31-MM_r1i1p1f1.nc\n",
      "data/dc_highresSST_EC-Earth3P_r1i1p1f1.nc\n",
      "data/dc_highresSST_HadGEM3-GC31-HM_r1i1p1f1.nc\n",
      "data/dc_highresSST_CNRM-CM6-1_r1i1p1f2.nc\n"
     ]
    },
    {
     "name": "stderr",
     "output_type": "stream",
     "text": [
      "/rds/general/user/cb2714/home/anaconda3/envs/wwa_xesmf/lib/python3.10/site-packages/xclim/core/cfchecks.py:44: UserWarning: Variable has a non-conforming cell_methods: Got `area: mean time: maximum`, which do not include the expected `time: mean`\n",
      "  _check_cell_methods(\n"
     ]
    }
   ],
   "source": [
    "# get gridded drought code data\n",
    "for fnm in fl:\n",
    "    \n",
    "    new_fnm = \"data/dc_highresSST_\"+fnm.split(\"_\")[6]+\"_\"+fnm.split(\"_\")[8]+\".nc\"\n",
    "    print(new_fnm)\n",
    "\n",
    "    if os.path.exists(new_fnm): continue\n",
    "    \n",
    "    # where data was originally on 360-day calendar, fill missing days with preceding value - essentially persistence\n",
    "    tmax = xr.open_dataset(fnm).tasmax.drop_duplicates(\"time\").resample(time = \"D\").mean().ffill(\"time\")\n",
    "    pr = xr.open_dataset(re.sub(\"tasmax\", \"pr\", fnm)).pr.drop_duplicates(\"time\").resample(time = \"D\").mean().ffill(\"time\")\n",
    "    \n",
    "    dc = drought_code(ds = xr.merge([tmax.rename(\"tas\"), pr])).dropna(\"time\", \"any\")\n",
    "    dc.to_netcdf(new_fnm)"
   ]
  },
  {
   "cell_type": "code",
   "execution_count": 194,
   "metadata": {},
   "outputs": [],
   "source": [
    "# get sw time series & drought onset\n",
    "fl = glob.glob(\"data/dc_highresSST_*.nc\")"
   ]
  },
  {
   "cell_type": "code",
   "execution_count": 195,
   "metadata": {},
   "outputs": [],
   "source": [
    "def hydro_days(ds):\n",
    "    \n",
    "    hydro_yrs = []\n",
    "    for yr in range(int(ds.time.dt.year.min()), int(ds.time.dt.year.max())):\n",
    "        temp = ds.sel(time = np.logical_or(\n",
    "            np.logical_and(ds.time.dt.year == yr, ds.time.dt.month >= 9),\n",
    "            np.logical_and(ds.time.dt.year == yr+1, ds.time.dt.month <= 8)))\n",
    "#         temp = temp.mean(dim = ['latitude','longitude'])\n",
    "        hydro_yrs.append(temp)\n",
    "    \n",
    "    hydro_doys = []\n",
    "    for i, data in enumerate(hydro_yrs):\n",
    "        temp = data.rolling(time = 7).mean()#.resample(time = 'W').mean()\n",
    "        drop = list([np.nan]*7) + list(temp.data[7:] - temp.data[:-7])\n",
    "        min_arg = np.nanargmin(drop)\n",
    "        doy_hydro = int(temp.time[min_arg].dt.dayofyear)\n",
    "        start_doy = int(data.time[0].dt.dayofyear)\n",
    "        if doy_hydro >= start_doy:\n",
    "            output = doy_hydro - start_doy\n",
    "        else:\n",
    "            eoy = pd.to_datetime(f'{int(temp.time.dt.year[0])}-12-31').dayofyear\n",
    "            output = (eoy - start_doy) + doy_hydro\n",
    "        hydro_doys.append(output)\n",
    "\n",
    "    yrs = np.arange(int(ds.time.dt.year.min()), int(ds.time.dt.year.max()))\n",
    "    \n",
    "    df = pd.DataFrame(\n",
    "        np.array([yrs, hydro_doys]).T,\n",
    "        columns = [\"year\", \"dc_doy\"])\n",
    "    df = df.set_index(\"year\")\n",
    "    return df"
   ]
  },
  {
   "cell_type": "code",
   "execution_count": 196,
   "metadata": {},
   "outputs": [
    {
     "name": "stdout",
     "output_type": "stream",
     "text": [
      "ts/dc-doy_highresSST_EC-Earth3P_r1i1p1f1.csv \n",
      "ts/dc-doy_highresSST_CNRM-CM6-1_r1i1p1f2.csv \n",
      "ts/dc-doy_highresSST_MPI-ESM1-2-XR_r1i1p1f1.csv \n",
      "ts/dc-doy_highresSST_MPI-ESM1-2-HR_r1i1p1f1.csv \n",
      "ts/dc-doy_highresSST_HadGEM3-GC31-LM_r1i14p1f1.csv 364 184 \n",
      "ts/dc-doy_highresSST_HadGEM3-GC31-MM_r1i1p1f1.csv 196 196 \n",
      "ts/dc-doy_highresSST_HadGEM3-GC31-HM_r1i1p1f1.csv 208 208 \n"
     ]
    }
   ],
   "source": [
    "for fnm in fl:\n",
    "    \n",
    "    new_fnm = re.sub(\"nc\", \"csv\", re.sub(\"data\", \"ts\", re.sub(\"dc\", \"dc-doy\", fnm)))\n",
    "    print(new_fnm, end = \" \")\n",
    "    if os.path.exists(new_fnm):\n",
    "        print(\"\")\n",
    "        continue\n",
    "    \n",
    "    dc = xr.open_dataset(fnm).dc\n",
    "    dc_ts = awmean(dc.rename(lat = \"y\", lon = \"x\"), sf)\n",
    "    ts = hydro_days(dc_ts)\n",
    "    \n",
    "    # save the file as is\n",
    "    print(ts.dc_doy.max(), end = \" \")\n",
    "    ts.to_csv(new_fnm)\n",
    "    \n",
    "    # wrap at 300 days and save again - otherwise DOY getting earlier will be coded as more high values, & trend will go in wrong direction\n",
    "    # check of new max DOY suggests that after wrapping values > 300, max value is close to 200 (one model has 258), suggesting that this is an appropriate seasonal break\n",
    "    ts.loc[ts.dc_doy > 300] = ts.loc[ts.dc_doy > 300] - 365\n",
    "    ts.to_csv(re.sub(\"dc-doy\", \"dc-doy-wrapped\", new_fnm))\n",
    "    print(ts.dc_doy.max(), end = \" \")\n",
    "    \n",
    "    print(\"\")"
   ]
  },
  {
   "cell_type": "code",
   "execution_count": null,
   "metadata": {},
   "outputs": [],
   "source": []
  }
 ],
 "metadata": {
  "kernelspec": {
   "display_name": "Python [conda env:wwa_xesmf]",
   "language": "python",
   "name": "conda-env-wwa_xesmf-py"
  },
  "language_info": {
   "codemirror_mode": {
    "name": "ipython",
    "version": 3
   },
   "file_extension": ".py",
   "mimetype": "text/x-python",
   "name": "python",
   "nbconvert_exporter": "python",
   "pygments_lexer": "ipython3",
   "version": "3.10.8"
  }
 },
 "nbformat": 4,
 "nbformat_minor": 4
}
