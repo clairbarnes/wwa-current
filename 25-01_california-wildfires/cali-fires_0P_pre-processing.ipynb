{
 "cells": [
  {
   "cell_type": "code",
   "execution_count": 1,
   "metadata": {},
   "outputs": [],
   "source": [
    "import sys; sys.path.append('/home/cb2714/wwa/'); from wwa import *\n",
    "rnm = \"socal-baja\"\n",
    "\n",
    "# import rioxarray as rxr"
   ]
  },
  {
   "cell_type": "code",
   "execution_count": 2,
   "metadata": {},
   "outputs": [],
   "source": [
    "xn, xx, yn, yx = [-125,-110,30,40]\n",
    "sf = gpd.read_file(\"sf_socal-baja\").to_crs(epsg = 4326)\n",
    "\n",
    "\n",
    "fpath = \"/rds/general/user/cb2714/home/00_WWA_project_folder/ephemeral/cali-wildfires/\""
   ]
  },
  {
   "cell_type": "markdown",
   "metadata": {},
   "source": [
    "---\n",
    "# CDS download requests"
   ]
  },
  {
   "cell_type": "code",
   "execution_count": 1,
   "metadata": {},
   "outputs": [
    {
     "name": "stderr",
     "output_type": "stream",
     "text": [
      "2025-01-13 08:46:52,726 WARNING [2025-01-08T00:00:00] Please be informed that Beta URL (cds-beta) have been now discontinued. If you still need to migrate, please follow [available instructions here](https://forum.ecmwf.int/t/goodbye-legacy-climate-data-store-hello-new-climate-data-store-cds/6380)\n",
      "2025-01-13 08:46:52,727 INFO [2024-09-28T00:00:00] **Welcome to the New Climate Data Store (CDS)!** This new system is in its early days of full operations and still undergoing enhancements and fine tuning. Some disruptions are to be expected. Your \n",
      "[feedback](https://jira.ecmwf.int/plugins/servlet/desk/portal/1/create/202) is key to improve the user experience on the new CDS for the benefit of everyone. Thank you.\n",
      "2025-01-13 08:46:52,728 INFO [2024-09-26T00:00:00] Watch our [Forum](https://forum.ecmwf.int/) for Announcements, news and other discussed topics.\n",
      "2025-01-13 08:46:52,728 INFO [2024-09-16T00:00:00] Remember that you need to have an ECMWF account to use the new CDS. **Your old CDS credentials will not work in new CDS!**\n",
      "2025-01-13 08:46:52,729 WARNING [2024-06-16T00:00:00] CDS API syntax is changed and some keys or parameter names may have also changed. To avoid requests failing, please use the \"Show API request code\" tool on the dataset Download Form to check you are using the correct syntax for your API request.\n"
     ]
    }
   ],
   "source": [
    "import os, cdsapi\n",
    "from IPython.display import clear_output\n",
    "\n",
    "client = cdsapi.Client()"
   ]
  },
  {
   "cell_type": "markdown",
   "metadata": {},
   "source": [
    "## Noon FWI variables - ERA5"
   ]
  },
  {
   "cell_type": "code",
   "execution_count": 3,
   "metadata": {},
   "outputs": [
    {
     "name": "stdout",
     "output_type": "stream",
     "text": [
      "Done.\n"
     ]
    }
   ],
   "source": [
    "for y in range(2024,1949,-1):\n",
    "        \n",
    "        y = str(y)\n",
    "        \n",
    "        new_fnm = \"/rds/general/user/cb2714/home/00_WWA_project_folder/ephemeral/cali-wildfires/era5/era5_noon-vars_\"+y+\".nc\"\n",
    "        print(y)\n",
    "        if os.path.exists(new_fnm): continue\n",
    "                \n",
    "        dataset = \"reanalysis-era5-single-levels\"\n",
    "        request = {\n",
    "            \"product_type\": [\"reanalysis\"],\n",
    "            \"variable\": [\n",
    "                \"10m_u_component_of_wind\",\n",
    "                \"10m_v_component_of_wind\",\n",
    "                \"2m_dewpoint_temperature\",\n",
    "                \"2m_temperature\"\n",
    "            ],\n",
    "            \"year\": [y],\n",
    "            \"month\": [\n",
    "                \"01\", \"02\", \"03\",\n",
    "                \"04\", \"05\", \"06\",\n",
    "                \"07\", \"08\", \"09\",\n",
    "                \"10\", \"11\", \"12\"\n",
    "            ],\n",
    "            \"day\": [\n",
    "                \"01\", \"02\", \"03\",\n",
    "                \"04\", \"05\", \"06\",\n",
    "                \"07\", \"08\", \"09\",\n",
    "                \"10\", \"11\", \"12\",\n",
    "                \"13\", \"14\", \"15\",\n",
    "                \"16\", \"17\", \"18\",\n",
    "                \"19\", \"20\", \"21\",\n",
    "                \"22\", \"23\", \"24\",\n",
    "                \"25\", \"26\", \"27\",\n",
    "                \"28\", \"29\", \"30\",\n",
    "                \"31\"\n",
    "            ],\n",
    "            \"time\": [\"20:00\"],\n",
    "            \"data_format\": \"netcdf\",\n",
    "            \"download_format\": \"unarchived\",\n",
    "            \"area\": [40, -125, 30, -110]\n",
    "        }\n",
    "\n",
    "        client.retrieve(dataset, request, new_fnm)\n",
    "        \n",
    "clear_output(wait = False)\n",
    "print(\"Done.\")"
   ]
  },
  {
   "cell_type": "markdown",
   "metadata": {},
   "source": [
    "## 24h accumulated precip - ERA5"
   ]
  },
  {
   "cell_type": "code",
   "execution_count": null,
   "metadata": {},
   "outputs": [],
   "source": [
    "for y in range(2023,1950,-1):\n",
    "        \n",
    "        y = str(y)\n",
    "        \n",
    "        new_fnm = \"/rds/general/user/cb2714/projects/wwa/ephemeral/cali-wildfires/era5/era5_pr24h_\"+y+\".nc\"\n",
    "        print(y)\n",
    "        if os.path.exists(new_fnm): continue\n",
    "        \n",
    "        dataset = \"derived-era5-single-levels-daily-statistics\"\n",
    "        request = {\n",
    "            \"product_type\": \"reanalysis\",\n",
    "            \"variable\": [\"total_precipitation\"],\n",
    "            \"year\": y,\n",
    "            \"month\": [\n",
    "                \"01\", \"02\", \"03\",\n",
    "                \"04\", \"05\", \"06\",\n",
    "                \"07\", \"08\", \"09\",\n",
    "                \"10\", \"11\", \"12\"\n",
    "            ],\n",
    "            \"day\": [\n",
    "                \"01\", \"02\", \"03\",\n",
    "                \"04\", \"05\", \"06\",\n",
    "                \"07\", \"08\", \"09\",\n",
    "                \"10\", \"11\", \"12\",\n",
    "                \"13\", \"14\", \"15\",\n",
    "                \"16\", \"17\", \"18\",\n",
    "                \"19\", \"20\", \"21\",\n",
    "                \"22\", \"23\", \"24\",\n",
    "                \"25\", \"26\", \"27\",\n",
    "                \"28\", \"29\", \"30\",\n",
    "                \"31\"\n",
    "            ],\n",
    "            \"daily_statistic\": \"daily_sum\",\n",
    "            \"time_zone\": \"utc-08:00\",\n",
    "            \"frequency\": \"1_hourly\",\n",
    "            \"area\": [40, -125, 30, -110],\n",
    "            'format': 'netcdf'\n",
    "        }\n",
    "\n",
    "        client.retrieve(dataset, request, new_fnm)\n",
    "        clear_output(wait = False)\n",
    "        \n",
    "print(\"Done.\")"
   ]
  },
  {
   "cell_type": "markdown",
   "metadata": {},
   "source": [
    "## Hourly VPD variables - ERA5Land"
   ]
  },
  {
   "cell_type": "code",
   "execution_count": null,
   "metadata": {},
   "outputs": [
    {
     "name": "stdout",
     "output_type": "stream",
     "text": [
      "196801\n"
     ]
    },
    {
     "name": "stderr",
     "output_type": "stream",
     "text": [
      "2025-01-13 11:01:11,581 INFO [2025-01-09T00:00:00] Please be aware that ERA5 data from 1st January 2025 was degraded and is being corrected. Watch the [Forum announcement](https://forum.ecmwf.int/t/era5-data-from-1st-january-2025-was-degraded-and-is-being-corrected/10689) for updates.\n",
      "2025-01-13 11:01:11,582 INFO Request ID is d64941a3-fc47-4b47-b868-4e512e08db07\n",
      "2025-01-13 11:01:11,633 INFO status has been updated to accepted\n",
      "2025-01-13 11:03:05,725 INFO status has been updated to running\n"
     ]
    }
   ],
   "source": [
    "for y in range(1980,1949,-1):\n",
    "    for m in range(1,13):\n",
    "\n",
    "        y = str(y)\n",
    "        m = str(m).rjust(2,\"0\")\n",
    "        new_fnm = \"/rds/general/user/cb2714/home/00_WWA_project_folder/ephemeral/cali-wildfires/era5land/era5land_vpd-vars_\"+y+\"-\"+m+\".nc\"\n",
    "        print(y+m)\n",
    "        if os.path.exists(new_fnm): continue\n",
    "\n",
    "        dataset = \"reanalysis-era5-land\"\n",
    "        request = {\n",
    "        \"variable\": [\n",
    "            \"2m_dewpoint_temperature\",\n",
    "            \"2m_temperature\",\n",
    "            \"10m_u_component_of_wind\",\n",
    "            \"10m_v_component_of_wind\"\n",
    "        ],\n",
    "        \"year\": y,\n",
    "        \"month\": m,\n",
    "        \"day\": [\n",
    "            \"01\", \"02\", \"03\",\n",
    "            \"04\", \"05\", \"06\",\n",
    "            \"07\", \"08\", \"09\",\n",
    "            \"10\", \"11\", \"12\",\n",
    "            \"13\", \"14\", \"15\",\n",
    "            \"16\", \"17\", \"18\",\n",
    "            \"19\", \"20\", \"21\",\n",
    "            \"22\", \"23\", \"24\",\n",
    "            \"25\", \"26\", \"27\",\n",
    "            \"28\", \"29\", \"30\",\n",
    "            \"31\"\n",
    "        ],\n",
    "        \"time\": [\n",
    "            \"00:00\", \"01:00\", \"02:00\",\n",
    "            \"03:00\", \"04:00\", \"05:00\",\n",
    "            \"06:00\", \"07:00\", \"08:00\",\n",
    "            \"09:00\", \"10:00\", \"11:00\",\n",
    "            \"12:00\", \"13:00\", \"14:00\",\n",
    "            \"15:00\", \"16:00\", \"17:00\",\n",
    "            \"18:00\", \"19:00\", \"20:00\",\n",
    "            \"21:00\", \"22:00\", \"23:00\"\n",
    "        ],\n",
    "        \"data_format\": \"netcdf\",\n",
    "        \"download_format\": \"unarchived\",\n",
    "        \"area\": [40, -125, 30, -110]\n",
    "        }\n",
    "        client.retrieve(dataset, request, new_fnm)\n",
    "        clear_output(wait = False)\n",
    "\n",
    "print(\"Done.\")"
   ]
  },
  {
   "cell_type": "markdown",
   "metadata": {},
   "source": [
    "---\n",
    "# MSWX FWI"
   ]
  },
  {
   "cell_type": "markdown",
   "metadata": {},
   "source": [
    "## Extract FWI variables"
   ]
  },
  {
   "cell_type": "code",
   "execution_count": 74,
   "metadata": {},
   "outputs": [],
   "source": [
    "fpath = \"/rds/general/user/cb2714/home/00_WWA_project_folder/live/data/mswx/\"\n",
    "outpath = \"/rds/general/user/cb2714/home/00_WWA_project_folder/ephemeral/cali-wildfires/mswx/\""
   ]
  },
  {
   "cell_type": "code",
   "execution_count": 21,
   "metadata": {},
   "outputs": [
    {
     "name": "stdout",
     "output_type": "stream",
     "text": [
      "2024 \n",
      "2025 P RelHum Tmax Wind \n"
     ]
    }
   ],
   "source": [
    "for y in range(2024, 2026):\n",
    "    print(y, end = \" \")\n",
    "    \n",
    "    for varnm in [\"P\", \"RelHum\", \"Tmax\", \"Wind\"]:\n",
    "        \n",
    "        new_fnm = outpath+varnm+\"_\"+str(y)+\".nc\"\n",
    "        if os.path.exists(new_fnm): continue\n",
    "            \n",
    "        print(varnm, end = \" \")\n",
    "        \n",
    "        da = wrap_lon(xr.open_mfdataset(fpath+varnm+\"/\"+str(y)+\"/*.nc\")).sel(lon = slice(xn,xx), lat = slice(yn,yx))\n",
    "        da.to_netcdf(new_fnm)\n",
    "    print(\"\")"
   ]
  },
  {
   "cell_type": "markdown",
   "metadata": {},
   "source": [
    "## Compute FWI"
   ]
  },
  {
   "cell_type": "code",
   "execution_count": 75,
   "metadata": {},
   "outputs": [],
   "source": [
    "from xclim.indicators.atmos import cffwis_indices\n",
    "\n",
    "# compile all the variables\n",
    "# ds = xr.merge([xr.open_mfdataset([fnm for fnm in glob.glob(outpath+\"*\"+varnm+\"*.nc\") if fnm[-7:-3] >= \"2024\"]) for varnm in [\"P\", \"RelHum\", \"Tmax\", \"Wind\"]]).load()  # 2024-25 only\n",
    "ds = xr.merge([xr.open_mfdataset(outpath+\"*\"+varnm+\"*.nc\") for varnm in [\"P\", \"RelHum\", \"Tmax\", \"Wind\"]]).load()\n",
    "ds = ds.rename(precipitation = \"pr\", relative_humidity = \"hurs\", air_temperature = \"tas\", wind_speed = \"sfcWind\")\n",
    "\n",
    "# mask to land surface only\n",
    "ds = ds.where(regionmask.defined_regions.natural_earth_v5_0_0.land_50.mask(ds) == 0)\n",
    "\n",
    "fwi = cffwis_indices(ds = ds, overwintering = False)\n",
    "fwi = xr.merge(fwi)\n",
    "\n",
    "fwi.to_netcdf(outpath+\"fwi_mswx_1979-2025.nc\")"
   ]
  },
  {
   "cell_type": "markdown",
   "metadata": {},
   "source": [
    "## Daily time series"
   ]
  },
  {
   "cell_type": "code",
   "execution_count": 103,
   "metadata": {},
   "outputs": [],
   "source": [
    "da = fwi.rio.write_crs(sf.crs).rename(lat = \"y\", lon = \"x\")\n",
    "da_ts = da.rio.clip(sf.geometry.values, all_touched = True).mean([\"x\", \"y\"]).reset_coords(drop = True)\n",
    "for varnm in list(da_ts.data_vars): da_ts[varnm].to_netcdf(\"data/mswx_\"+varnm+\"_\"+rnm+\".nc\")"
   ]
  },
  {
   "cell_type": "markdown",
   "metadata": {},
   "source": [
    "# Compile VPD variables"
   ]
  },
  {
   "cell_type": "code",
   "execution_count": null,
   "metadata": {},
   "outputs": [],
   "source": [
    "fpath = \"/rds/general/user/cb2714/home/00_WWA_project_folder/ephemeral/cali-wildfires/\""
   ]
  },
  {
   "cell_type": "code",
   "execution_count": 13,
   "metadata": {},
   "outputs": [],
   "source": [
    "fl = sorted(glob.glob(fpath+\"era5land/era5land_vpd-vars_*.nc\"))\n",
    "fl = [fnm for fnm in fl if int(fnm[-10:-6]) >= 1970]"
   ]
  },
  {
   "cell_type": "code",
   "execution_count": 14,
   "metadata": {},
   "outputs": [],
   "source": [
    "ds = wrap_lon(xr.open_mfdataset(fl))\n",
    "ds = ds.reset_coords(drop = True).rename(valid_time = \"time\")"
   ]
  },
  {
   "cell_type": "code",
   "execution_count": 16,
   "metadata": {},
   "outputs": [],
   "source": [
    "d2m = convert_units_to(ds.d2m, \"degC\").load()\n",
    "t2m = convert_units_to(ds.t2m, \"degC\").load()\n",
    "        \n",
    "vpd = np.exp(17.25*t2m / (243.04 + t2m)) - np.exp(17.25*d2m / (243.04 + d2m))\n",
    "vpd_max = vpd.resample(time = \"D\").max().rename(\"vpd\")\n",
    "\n",
    "tas_max = t2m.resample(time = \"D\").max()\n",
    "\n",
    "wspd = (np.sqrt(ds.u10**2 + ds.v10**2)).rename(\"sfcWind\")\n",
    "wspd_max = wspd.resample(time = \"D\").max()"
   ]
  },
  {
   "cell_type": "code",
   "execution_count": 17,
   "metadata": {},
   "outputs": [
    {
     "name": "stderr",
     "output_type": "stream",
     "text": [
      "/rds/general/user/cb2714/home/anaconda3/envs/wwa/lib/python3.10/site-packages/dask/array/reductions.py:640: RuntimeWarning: All-NaN slice encountered\n",
      "  return np.nanmax(x_chunk, axis=axis, keepdims=keepdims)\n"
     ]
    }
   ],
   "source": [
    "vpd_max.to_netcdf(fpath+\"era5-land_vpdmax_197001-198012.nc\")\n",
    "tas_max.to_netcdf(fpath+\"era5-land_tasmax_197001-198012.nc\")\n",
    "wspd_max.to_netcdf(fpath+\"era5-land_sfcWindmax_197001-198012.nc\")"
   ]
  },
  {
   "cell_type": "markdown",
   "metadata": {},
   "source": [
    "---\n",
    "# Get time series - obs"
   ]
  },
  {
   "cell_type": "markdown",
   "metadata": {},
   "source": [
    "## Nino indices"
   ]
  },
  {
   "cell_type": "markdown",
   "metadata": {},
   "source": [
    "### Detrended Nino3.4\n",
    "\n",
    "Use monthly mean SST from 20S:20N to detrend [Nino3.4](https://climexp.knmi.nl/getindices.cgi?WMO=NCDCData/ersst_nino3.4a&STATION=NINO3.4&TYPE=i&id=someone@somewhere)"
   ]
  },
  {
   "cell_type": "code",
   "execution_count": 92,
   "metadata": {},
   "outputs": [],
   "source": [
    "# download latest SST data from ERSST\n",
    "! wget https://downloads.psl.noaa.gov/Datasets/noaa.ersst.v5/sst.mnmean.nc\n",
    "clear_output(wait = False)"
   ]
  },
  {
   "cell_type": "code",
   "execution_count": 2,
   "metadata": {},
   "outputs": [],
   "source": [
    "ersst = wrap_lon(xr.open_dataset(\"sst.mnmean.nc\").sst)\n",
    "\n",
    "# quick method for area-weighted averaging (will add to WWA main but need to generalise dims first)\n",
    "def awmean(da): return da.weighted(np.cos(np.deg2rad(da.lat))).mean([\"lat\", \"lon\"])"
   ]
  },
  {
   "cell_type": "code",
   "execution_count": 123,
   "metadata": {},
   "outputs": [],
   "source": [
    "nino34 = awmean(ersst.sel(lat = slice(-5,5), lon = slice(-170,-120)))\n",
    "sst_tropical = awmean(ersst.sel(lat = slice(-20,20)))\n",
    "\n",
    "nino34_det = (nino34 - sst_tropical).rename(\"nino34\")\n",
    "nino34_det.to_netcdf(\"data/ersst_nino34_detrended.nc\")"
   ]
  },
  {
   "cell_type": "code",
   "execution_count": 116,
   "metadata": {},
   "outputs": [
    {
     "data": {
      "text/plain": [
       "[<matplotlib.lines.Line2D at 0x14aea27c1a50>]"
      ]
     },
     "execution_count": 116,
     "metadata": {},
     "output_type": "execute_result"
    },
    {
     "data": {
      "image/png": "[encoded data removed]",
      "text/plain": [
       "<Figure size 640x480 with 1 Axes>"
      ]
     },
     "metadata": {},
     "output_type": "display_data"
    }
   ],
   "source": [
    "nino34.plot()\n",
    "sst_tropical.plot(color = \"darkblue\")"
   ]
  },
  {
   "cell_type": "markdown",
   "metadata": {},
   "source": [
    "### Nino modoki\n",
    "\n",
    "$EMI = SST_{C} - 0.5SST_E - 0.5SST_W$\n",
    "\n",
    "where\n",
    "$SST_C$ is the SST anomaly from 10S-10N, 165W-140W; $SST_E$ is the SST anomaly from 10S-20N, 125E-145E; and $SST_W$ is the SST anomaly from 15S-5N, 110W-70W.\n"
   ]
  },
  {
   "cell_type": "code",
   "execution_count": 11,
   "metadata": {},
   "outputs": [],
   "source": [
    "sst_c = ersst.sel(lat = slice(-10,10), lon = slice(-145,165))\n",
    "sst_e = ersst.sel(lat = slice(-10,20), lon = slice(125,145))\n",
    "sst_w = ersst.sel(lat = slice(-15,5), lon = slice(-110,-70))"
   ]
  },
  {
   "cell_type": "code",
   "execution_count": 12,
   "metadata": {},
   "outputs": [],
   "source": [
    "sst_c_ts = sst_c.mean([\"lat\", \"lon\"])\n",
    "sst_e_ts = sst_e.mean([\"lat\", \"lon\"])\n",
    "sst_w_ts = sst_w.mean([\"lat\", \"lon\"])"
   ]
  },
  {
   "cell_type": "code",
   "execution_count": null,
   "metadata": {},
   "outputs": [],
   "source": [
    "emi = sst_c_ts - (0.5 * sst_e_ts) - (0.5 * sst_w_ts)\n",
    "emi.to_dataframe().to_csv(\"data/nino-modoki.csv\")"
   ]
  },
  {
   "cell_type": "markdown",
   "metadata": {},
   "source": [
    "# OND indices"
   ]
  },
  {
   "cell_type": "code",
   "execution_count": 16,
   "metadata": {},
   "outputs": [],
   "source": [
    "nino34 = xr.open_dataset(\"data/ersst_nino34_detrended.nc\").nino34\n",
    "\n",
    "nino34_ond = nino34.rolling(time = 3).mean().groupby(\"time.month\")[12]\n",
    "nino34_ond.assign_coords(time = nino34_ond.time.dt.year).rename(\"nino34_ond\", time = \"year\").to_dataframe().to_csv(\"ts/nino34_ond.csv\")\n",
    "\n",
    "nino34_nd = nino34.rolling(time = 2).mean().groupby(\"time.month\")[12]\n",
    "nino34_nd.assign_coords(time = nino34_nd.time.dt.year).rename(\"nino34_nd\", time = \"year\").to_dataframe().to_csv(\"ts/nino34_nd.csv\")"
   ]
  },
  {
   "cell_type": "markdown",
   "metadata": {},
   "source": [
    "---\n",
    "# Extract region from rotated-pole data"
   ]
  },
  {
   "cell_type": "code",
   "execution_count": 30,
   "metadata": {},
   "outputs": [],
   "source": [
    "import rioxarray as rxr\n",
    "\n",
    "nam44 = xr.open_dataset(\"sftlf_NAM-44_ICHEC-EC-EARTH_historical_r0i0p0_SMHI-RCA4_v1_fx.nc\").sftlf\n",
    "\n",
    "# trim data down to larger region of interest\n",
    "box = np.logical_and(np.logical_and(nam44.lon >= xn, nam44.lon <= xx), np.logical_and(nam44.lat >= yn, nam44.lat <= yx))\n",
    "box = box.where(box == 1).dropna(\"rlon\", \"all\").dropna(\"rlat\", \"all\")\n",
    "nam44 = nam44.sel(rlon = box.rlon, rlat = box.rlat)\n",
    "nam44 = nam44.where(nam44 > 0.75)"
   ]
  },
  {
   "cell_type": "code",
   "execution_count": 48,
   "metadata": {},
   "outputs": [],
   "source": [
    "# specify the CRS for this domain\n",
    "crs_nam = cartopy.crs.RotatedPole(pole_longitude = -277.0, pole_latitude = 42.5)\n",
    "\n",
    "# project the shapefile onto the rotated-pole grid\n",
    "baja_rpole = baja.to_crs(crs_nam)\n",
    "\n",
    "# relabel the rotated-pole coords and add a CRS\n",
    "# nam44_rl = nam44.reset_coords(drop = True).rename(rlat = \"lat\", rlon = \"lon\").rio.write_crs(crs_nam)"
   ]
  },
  {
   "cell_type": "code",
   "execution_count": 49,
   "metadata": {},
   "outputs": [],
   "source": [
    "nam44_clipped = nam44.rio.clip(baja_rpole.geometry.values, baja_rpole.crs, all_touched = True)"
   ]
  },
  {
   "cell_type": "code",
   "execution_count": 59,
   "metadata": {},
   "outputs": [
    {
     "data": {
      "text/plain": [
       "<GeoAxesSubplot: >"
      ]
     },
     "execution_count": 59,
     "metadata": {},
     "output_type": "execute_result"
    },
    {
     "data": {
      "image/png": "[encoded data removed]",
      "text/plain": [
       "<Figure size 640x480 with 1 Axes>"
      ]
     },
     "metadata": {},
     "output_type": "display_data"
    }
   ],
   "source": [
    "fig, ax = plt.subplots(subplot_kw = {\"projection\" : mapproj})\n",
    "\n",
    "ax.pcolormesh(nam44_clipped.lon, nam44_clipped.lat, nam44_clipped)\n",
    "baja.boundary.plot(ax = ax, color = \"k\")"
   ]
  },
  {
   "cell_type": "markdown",
   "metadata": {},
   "source": [
    "---\n",
    "# Compile variables & compute FWI"
   ]
  },
  {
   "cell_type": "code",
   "execution_count": 7,
   "metadata": {},
   "outputs": [],
   "source": [
    "pr = xr.open_dataset(fpath+\"era5/era5_pr_1940-2025.nc\").pr\n",
    "pr = pr.assign_attrs(units = \"mm d-1\", long_name = \"Precipitation\").rename(latitude = \"lat\", longitude = \"lon\")\n",
    "pr = pr.assign_coords(time = pr.time.dt.floor(\"D\"))\n",
    "pr.to_netcdf(\"data/era5_pr.nc\")"
   ]
  },
  {
   "cell_type": "code",
   "execution_count": 8,
   "metadata": {},
   "outputs": [],
   "source": [
    "hurs = xr.open_dataset(fpath+\"era5/era5_hurs_1940-2025.nc\").hurs\n",
    "hurs = hurs.assign_attrs(units = \"%\", long_name = \"Relative humidity\").rename(latitude = \"lat\", longitude = \"lon\")\n",
    "hurs = hurs.assign_coords(time = hurs.time.dt.floor(\"D\"))\n",
    "hurs.to_netcdf(\"data/era5_hurs.nc\")"
   ]
  },
  {
   "cell_type": "code",
   "execution_count": 9,
   "metadata": {},
   "outputs": [],
   "source": [
    "sfcWind = xr.open_dataset(fpath+\"era5/era5_sfcWind_1940-2025.nc\").sfcWind\n",
    "sfcWind = sfcWind.assign_attrs(units = \"km h-1\", long_name = \"Wind speed\").rename(latitude = \"lat\", longitude = \"lon\")\n",
    "sfcWind = sfcWind.assign_coords(time = sfcWind.time.dt.floor(\"D\"))\n",
    "sfcWind.to_netcdf(\"data/era5_sfcWind.nc\")"
   ]
  },
  {
   "cell_type": "code",
   "execution_count": 10,
   "metadata": {},
   "outputs": [],
   "source": [
    "tas = xr.open_dataset(fpath+\"era5/era5_tas_1940-2025.nc\").tas\n",
    "tas = tas.assign_attrs(units = \"degC\", long_name = \"Noon temperature\").rename(latitude = \"lat\", longitude = \"lon\")\n",
    "tas = tas.assign_coords(time = tas.time.dt.floor(\"D\"))\n",
    "tas.to_netcdf(\"data/era5_tas.nc\")"
   ]
  },
  {
   "cell_type": "code",
   "execution_count": 11,
   "metadata": {},
   "outputs": [],
   "source": [
    "from xclim.indicators.atmos import cffwis_indices\n",
    "\n",
    "ds = xr.merge([pr, hurs, sfcWind, tas])\n",
    "# mask to land surface only\n",
    "ds = ds.where(regionmask.defined_regions.natural_earth_v5_0_0.land_50.mask(ds) == 0)"
   ]
  },
  {
   "cell_type": "code",
   "execution_count": 12,
   "metadata": {},
   "outputs": [
    {
     "name": "stderr",
     "output_type": "stream",
     "text": [
      "/rds/general/user/cb2714/home/anaconda3/envs/wwa_xesmf/lib/python3.10/site-packages/xclim/core/cfchecks.py:44: UserWarning: Variable does not have a `cell_methods` attribute.\n",
      "  _check_cell_methods(\n",
      "/rds/general/user/cb2714/home/anaconda3/envs/wwa_xesmf/lib/python3.10/site-packages/xclim/core/cfchecks.py:48: UserWarning: Variable does not have a `standard_name` attribute.\n",
      "  check_valid(vardata, \"standard_name\", data[\"standard_name\"])\n"
     ]
    },
    {
     "ename": "KeyError",
     "evalue": "'units'",
     "output_type": "error",
     "traceback": [
      "\u001b[0;31m---------------------------------------------------------------------------\u001b[0m",
      "\u001b[0;31mKeyError\u001b[0m                                  Traceback (most recent call last)",
      "Cell \u001b[0;32mIn[12], line 1\u001b[0m\n\u001b[0;32m----> 1\u001b[0m fwi \u001b[38;5;241m=\u001b[39m \u001b[43mcffwis_indices\u001b[49m\u001b[43m(\u001b[49m\u001b[43mds\u001b[49m\u001b[43m \u001b[49m\u001b[38;5;241;43m=\u001b[39;49m\u001b[43m \u001b[49m\u001b[43mds\u001b[49m\u001b[43m,\u001b[49m\u001b[43m \u001b[49m\u001b[43moverwintering\u001b[49m\u001b[43m \u001b[49m\u001b[38;5;241;43m=\u001b[39;49m\u001b[43m \u001b[49m\u001b[38;5;28;43;01mFalse\u001b[39;49;00m\u001b[43m)\u001b[49m\n",
      "File \u001b[0;32m~/anaconda3/envs/wwa_xesmf/lib/python3.10/site-packages/xclim/core/indicator.py:838\u001b[0m, in \u001b[0;36mIndicator.__call__\u001b[0;34m(self, *args, **kwds)\u001b[0m\n\u001b[1;32m    835\u001b[0m         kwargs[nm] \u001b[38;5;241m=\u001b[39m params[nm]\n\u001b[1;32m    837\u001b[0m \u001b[38;5;28;01mwith\u001b[39;00m xarray\u001b[38;5;241m.\u001b[39mset_options(keep_attrs\u001b[38;5;241m=\u001b[39m\u001b[38;5;28;01mFalse\u001b[39;00m):\n\u001b[0;32m--> 838\u001b[0m     outs \u001b[38;5;241m=\u001b[39m \u001b[38;5;28;43mself\u001b[39;49m\u001b[38;5;241;43m.\u001b[39;49m\u001b[43mcompute\u001b[49m\u001b[43m(\u001b[49m\u001b[38;5;241;43m*\u001b[39;49m\u001b[38;5;241;43m*\u001b[39;49m\u001b[43mcompute_das\u001b[49m\u001b[43m,\u001b[49m\u001b[43m \u001b[49m\u001b[38;5;241;43m*\u001b[39;49m\u001b[38;5;241;43m*\u001b[39;49m\u001b[43mkwargs\u001b[49m\u001b[43m,\u001b[49m\u001b[43m \u001b[49m\u001b[38;5;241;43m*\u001b[39;49m\u001b[38;5;241;43m*\u001b[39;49m\u001b[43mvar_kwargs\u001b[49m\u001b[43m)\u001b[49m\n\u001b[1;32m    840\u001b[0m \u001b[38;5;28;01mif\u001b[39;00m \u001b[38;5;28misinstance\u001b[39m(outs, DataArray):\n\u001b[1;32m    841\u001b[0m     outs \u001b[38;5;241m=\u001b[39m [outs]\n",
      "File \u001b[0;32m<boltons.funcutils.FunctionBuilder-150>:2\u001b[0m, in \u001b[0;36mcffwis_indices\u001b[0;34m(tas, pr, sfcWind, hurs, lat, snd, ffmc0, dmc0, dc0, season_mask, season_method, overwintering, dry_start, initial_start_up, **params)\u001b[0m\n",
      "File \u001b[0;32m~/anaconda3/envs/wwa_xesmf/lib/python3.10/site-packages/xclim/core/units.py:722\u001b[0m, in \u001b[0;36mdeclare_units.<locals>.dec.<locals>.wrapper\u001b[0;34m(*args, **kwargs)\u001b[0m\n\u001b[1;32m    720\u001b[0m bound_args \u001b[38;5;241m=\u001b[39m sig\u001b[38;5;241m.\u001b[39mbind(\u001b[38;5;241m*\u001b[39margs, \u001b[38;5;241m*\u001b[39m\u001b[38;5;241m*\u001b[39mkwargs)\n\u001b[1;32m    721\u001b[0m \u001b[38;5;28;01mfor\u001b[39;00m name, val \u001b[38;5;129;01min\u001b[39;00m bound_args\u001b[38;5;241m.\u001b[39marguments\u001b[38;5;241m.\u001b[39mitems():\n\u001b[0;32m--> 722\u001b[0m     \u001b[43mcheck_units\u001b[49m\u001b[43m(\u001b[49m\u001b[43mval\u001b[49m\u001b[43m,\u001b[49m\u001b[43m \u001b[49m\u001b[43mbound_units\u001b[49m\u001b[38;5;241;43m.\u001b[39;49m\u001b[43marguments\u001b[49m\u001b[38;5;241;43m.\u001b[39;49m\u001b[43mget\u001b[49m\u001b[43m(\u001b[49m\u001b[43mname\u001b[49m\u001b[43m,\u001b[49m\u001b[43m \u001b[49m\u001b[38;5;28;43;01mNone\u001b[39;49;00m\u001b[43m)\u001b[49m\u001b[43m)\u001b[49m\n\u001b[1;32m    724\u001b[0m out \u001b[38;5;241m=\u001b[39m func(\u001b[38;5;241m*\u001b[39margs, \u001b[38;5;241m*\u001b[39m\u001b[38;5;241m*\u001b[39mkwargs)\n\u001b[1;32m    726\u001b[0m \u001b[38;5;66;03m# Perform very basic sanity check on the output.\u001b[39;00m\n\u001b[1;32m    727\u001b[0m \u001b[38;5;66;03m# Indice are responsible for unit management.\u001b[39;00m\n\u001b[1;32m    728\u001b[0m \u001b[38;5;66;03m# If this fails, it's a developer's error.\u001b[39;00m\n",
      "File \u001b[0;32m<boltons.funcutils.FunctionBuilder-1>:2\u001b[0m, in \u001b[0;36mcheck_units\u001b[0;34m(val, dim)\u001b[0m\n",
      "File \u001b[0;32m~/anaconda3/envs/wwa_xesmf/lib/python3.10/site-packages/xclim/core/options.py:123\u001b[0m, in \u001b[0;36mdatacheck.<locals>.run_check\u001b[0;34m(*args, **kwargs)\u001b[0m\n\u001b[1;32m    121\u001b[0m \u001b[38;5;129m@wraps\u001b[39m(func)\n\u001b[1;32m    122\u001b[0m \u001b[38;5;28;01mdef\u001b[39;00m \u001b[38;5;21mrun_check\u001b[39m(\u001b[38;5;241m*\u001b[39margs, \u001b[38;5;241m*\u001b[39m\u001b[38;5;241m*\u001b[39mkwargs):\n\u001b[0;32m--> 123\u001b[0m     \u001b[38;5;28;01mreturn\u001b[39;00m \u001b[43m_run_check\u001b[49m\u001b[43m(\u001b[49m\u001b[43mfunc\u001b[49m\u001b[43m,\u001b[49m\u001b[43m \u001b[49m\u001b[43mDATA_VALIDATION\u001b[49m\u001b[43m,\u001b[49m\u001b[43m \u001b[49m\u001b[38;5;241;43m*\u001b[39;49m\u001b[43margs\u001b[49m\u001b[43m,\u001b[49m\u001b[43m \u001b[49m\u001b[38;5;241;43m*\u001b[39;49m\u001b[38;5;241;43m*\u001b[39;49m\u001b[43mkwargs\u001b[49m\u001b[43m)\u001b[49m\n",
      "File \u001b[0;32m~/anaconda3/envs/wwa_xesmf/lib/python3.10/site-packages/xclim/core/options.py:113\u001b[0m, in \u001b[0;36m_run_check\u001b[0;34m(func, option, *args, **kwargs)\u001b[0m\n\u001b[1;32m    111\u001b[0m \u001b[38;5;250m\u001b[39m\u001b[38;5;124;03m\"\"\"Run function and customize exception handling based on option.\"\"\"\u001b[39;00m\n\u001b[1;32m    112\u001b[0m \u001b[38;5;28;01mtry\u001b[39;00m:\n\u001b[0;32m--> 113\u001b[0m     \u001b[43mfunc\u001b[49m\u001b[43m(\u001b[49m\u001b[38;5;241;43m*\u001b[39;49m\u001b[43margs\u001b[49m\u001b[43m,\u001b[49m\u001b[43m \u001b[49m\u001b[38;5;241;43m*\u001b[39;49m\u001b[38;5;241;43m*\u001b[39;49m\u001b[43mkwargs\u001b[49m\u001b[43m)\u001b[49m\n\u001b[1;32m    114\u001b[0m \u001b[38;5;28;01mexcept\u001b[39;00m ValidationError \u001b[38;5;28;01mas\u001b[39;00m err:\n\u001b[1;32m    115\u001b[0m     raise_warn_or_log(err, OPTIONS[option], stacklevel\u001b[38;5;241m=\u001b[39m\u001b[38;5;241m4\u001b[39m)\n",
      "File \u001b[0;32m~/anaconda3/envs/wwa_xesmf/lib/python3.10/site-packages/xclim/core/units.py:664\u001b[0m, in \u001b[0;36mcheck_units\u001b[0;34m(val, dim)\u001b[0m\n\u001b[1;32m    662\u001b[0m     val_units \u001b[38;5;241m=\u001b[39m str2pint(val)\n\u001b[1;32m    663\u001b[0m \u001b[38;5;28;01melse\u001b[39;00m:  \u001b[38;5;66;03m# a DataArray\u001b[39;00m\n\u001b[0;32m--> 664\u001b[0m     val_units \u001b[38;5;241m=\u001b[39m \u001b[43munits2pint\u001b[49m\u001b[43m(\u001b[49m\u001b[43mval\u001b[49m\u001b[43m)\u001b[49m\n\u001b[1;32m    665\u001b[0m val_dim \u001b[38;5;241m=\u001b[39m val_units\u001b[38;5;241m.\u001b[39mdimensionality\n\u001b[1;32m    667\u001b[0m \u001b[38;5;28;01mif\u001b[39;00m val_dim \u001b[38;5;241m==\u001b[39m expected:\n",
      "File \u001b[0;32m~/anaconda3/envs/wwa_xesmf/lib/python3.10/site-packages/xclim/core/units.py:136\u001b[0m, in \u001b[0;36munits2pint\u001b[0;34m(value)\u001b[0m\n\u001b[1;32m    134\u001b[0m     unit \u001b[38;5;241m=\u001b[39m value\n\u001b[1;32m    135\u001b[0m \u001b[38;5;28;01melif\u001b[39;00m \u001b[38;5;28misinstance\u001b[39m(value, xr\u001b[38;5;241m.\u001b[39mDataArray):\n\u001b[0;32m--> 136\u001b[0m     unit \u001b[38;5;241m=\u001b[39m \u001b[43mvalue\u001b[49m\u001b[38;5;241;43m.\u001b[39;49m\u001b[43mattrs\u001b[49m\u001b[43m[\u001b[49m\u001b[38;5;124;43m\"\u001b[39;49m\u001b[38;5;124;43munits\u001b[39;49m\u001b[38;5;124;43m\"\u001b[39;49m\u001b[43m]\u001b[49m\n\u001b[1;32m    137\u001b[0m \u001b[38;5;28;01melif\u001b[39;00m \u001b[38;5;28misinstance\u001b[39m(value, units\u001b[38;5;241m.\u001b[39mQuantity):\n\u001b[1;32m    138\u001b[0m     \u001b[38;5;28;01mreturn\u001b[39;00m value\u001b[38;5;241m.\u001b[39munits\n",
      "\u001b[0;31mKeyError\u001b[0m: 'units'"
     ]
    }
   ],
   "source": [
    "fwi = cffwis_indices(ds = ds, overwintering = False)"
   ]
  },
  {
   "cell_type": "markdown",
   "metadata": {},
   "source": [
    "---\n",
    "# Daily time series from gridded data"
   ]
  },
  {
   "cell_type": "markdown",
   "metadata": {},
   "source": [
    "## ERA5"
   ]
  },
  {
   "cell_type": "code",
   "execution_count": 30,
   "metadata": {},
   "outputs": [],
   "source": [
    "for varnm in [\"pr\", \"BUI\", \"DC\", \"DMC\", \"DSR\", \"FFMC\", \"FWI\", \"ISI\"]:\n",
    "    da = xr.open_dataset(fpath+\"era5_\"+varnm+\"_1940-2025.nc\")[varnm].rio.write_crs(sf.crs)\n",
    "    da_ts = da.rio.clip(sf.geometry.values, all_touched = True).mean([\"latitude\", \"longitude\"])\n",
    "    \n",
    "    da_ts = da_ts.rename(varnm.lower()).reset_coords(drop = True)\n",
    "    da_ts.to_netcdf(\"data/era5_\"+varnm.lower()+\"_\"+rnm+\".nc\")\n",
    "    \n",
    "    "
   ]
  },
  {
   "cell_type": "code",
   "execution_count": 35,
   "metadata": {},
   "outputs": [],
   "source": [
    "for varnm in [\"tas\", \"hurs\", \"sfcWind\"]:\n",
    "    da = xr.open_dataset(fpath+\"era5/era5_\"+varnm+\"_1940-2025.nc\")[varnm].rio.write_crs(sf.crs)\n",
    "    da_ts = da.rio.clip(sf.geometry.values, all_touched = True).mean([\"latitude\", \"longitude\"])\n",
    "    \n",
    "    da_ts = da_ts.rename(varnm).reset_coords(drop = True)\n",
    "    da_ts.to_netcdf(\"data/era5_\"+varnm+\"_\"+rnm+\".nc\")"
   ]
  },
  {
   "cell_type": "code",
   "execution_count": 28,
   "metadata": {},
   "outputs": [],
   "source": [
    "varnm = \"FWI\"\n",
    "da = xr.open_dataset(fpath+\"era5_\"+varnm+\"_1940-2025.nc\")[varnm].rio.write_crs(sf.crs)\n",
    "da_rm = da.rio.clip(sf.geometry.values, all_touched = True).rename(\"fwi\")\n",
    "\n",
    "fwi_max = da_rm.max([\"latitude\", \"longitude\"]).rename(\"fwimax\")\n",
    "fwi_max.to_netcdf(\"data/era5_fwimax_\"+rnm+\".nc\")\n",
    "\n",
    "fwi_q95 = da_rm.quantile(.95, dim = [\"latitude\", \"longitude\"]).rename(\"fwiq95\")\n",
    "fwi_q95.to_netcdf(\"data/era5_fwiq95_\"+rnm+\".nc\")"
   ]
  },
  {
   "cell_type": "code",
   "execution_count": 72,
   "metadata": {},
   "outputs": [],
   "source": [
    "varnm = \"HDWI\"\n",
    "da = xr.open_dataset(fpath+\"era5_noon_\"+varnm+\"_1940-2025.nc\")[varnm].rio.write_crs(sf.crs)\n",
    "da_rm = da.rio.clip(sf.geometry.values, all_touched = True).rename(\"hdwi\")\n",
    "\n",
    "da_mean = da_rm.mean([\"latitude\", \"longitude\"]).rename(\"hdwi\")\n",
    "da_mean.to_netcdf(\"data/era5_hdwi_\"+rnm+\".nc\")\n",
    "\n",
    "da_max = da_rm.max([\"latitude\", \"longitude\"]).rename(\"hdwimax\")\n",
    "da_max.to_netcdf(\"data/era5_hdwimax_\"+rnm+\".nc\")"
   ]
  },
  {
   "cell_type": "markdown",
   "metadata": {},
   "source": [
    "# Time series for analysis"
   ]
  },
  {
   "cell_type": "markdown",
   "metadata": {},
   "source": [
    "## OND mean precip"
   ]
  },
  {
   "cell_type": "code",
   "execution_count": 8,
   "metadata": {},
   "outputs": [],
   "source": [
    "pr = xr.open_dataset(\"data/era5_pr_socal-baja.nc\").pr\n",
    "pr_ond = pr.resample(time = \"MS\").sum().rolling(time = 3).mean().groupby(\"time.month\")[12]\n",
    "pr_ond.assign_coords(time = pr_ond.time.dt.year).rename(\"pr_ond\", time = \"year\").to_dataframe().to_csv(\"ts/era5_pr-ond_\"+rnm+\".csv\")"
   ]
  },
  {
   "cell_type": "markdown",
   "metadata": {},
   "source": [
    "## OND SPI\n",
    "Might be better for statistical modelling, but keep conversion parameters to map results back to precip afterwards"
   ]
  },
  {
   "cell_type": "code",
   "execution_count": 9,
   "metadata": {},
   "outputs": [],
   "source": [
    "from xclim.indices.stats import fit\n",
    "from scipy.stats import norm, gamma\n",
    "\n",
    "pr_m = pr_ond.copy()\n",
    "pr_cal = pr_m.sel(time = slice(\"1991\", \"2020\")).copy()\n",
    "pars = fit(pr_cal.dropna(\"time\", \"all\"), dist = \"gamma\", method = \"PWM\")"
   ]
  },
  {
   "cell_type": "code",
   "execution_count": 10,
   "metadata": {},
   "outputs": [],
   "source": [
    "spi_m = xr.apply_ufunc(lambda pr, dparams : norm.ppf(gamma.cdf(pr, *dparams)), pr_m, pars, \n",
    "                               input_core_dims = [[\"time\"],[\"dparams\"]], output_core_dims = [[\"time\"]], vectorize = True).assign_coords(time = pr_m.time)\n",
    "\n",
    "spi_m = spi_m.assign_attrs(gamma_a = pars.sel(dparams = \"a\").values, \n",
    "                           gamma_scale = pars.sel(dparams = \"scale\").values,\n",
    "                           calibration = \"Calibrated against 1991-2020\").rename(\"spi_ond\")\n",
    "\n",
    "spi_m.assign_coords(time = pr_ond.time.dt.year).rename(time = \"year\").to_dataframe().to_csv(\"ts/era5_spi-ond_\"+rnm+\".csv\")"
   ]
  },
  {
   "cell_type": "markdown",
   "metadata": {},
   "source": [
    "## FWI indices"
   ]
  },
  {
   "cell_type": "code",
   "execution_count": 21,
   "metadata": {},
   "outputs": [],
   "source": [
    "ts = xr.open_dataset(\"data/era5_fwimax_socal-baja.nc\").fwimax.reset_coords(drop = True)\n",
    "\n",
    "ts_max = ts.sel(time = ts.time.dt.month.isin([12,1])).resample(time = \"AS-DEC\").max()\n",
    "ts_max.assign_coords(time = ts_max.time.dt.year+1).rename(time = \"year\").to_dataframe().to_csv(\"ts/era5_maxfwimax_socal-baja.csv\")"
   ]
  },
  {
   "cell_type": "code",
   "execution_count": 4,
   "metadata": {},
   "outputs": [],
   "source": [
    "ts = xr.open_dataset(\"data/era5_fwi_socal-baja.nc\").fwi\n",
    "\n",
    "for ndays in [1,2,3,5,7]:\n",
    "    fwinx = ts.rolling(time = ndays).mean().sel(time = ts.time.dt.month.isin([12,1])).resample(time = \"AS-DEC\").max()\n",
    "    fwinx.assign_coords(time = fwinx.time.dt.year+1).rename(\"fwi\"+str(ndays)+\"x\", time = \"year\").to_dataframe().to_csv(\"ts/era5_fwi\"+str(ndays)+\"x-dj_socal-baja.csv\")"
   ]
  },
  {
   "cell_type": "code",
   "execution_count": 3,
   "metadata": {},
   "outputs": [],
   "source": [
    "ts = xr.open_dataset(\"data/era5_dsr_socal-baja.nc\").dsr\n",
    "\n",
    "for ndays in [1,2,3,5,7]:\n",
    "    dsrnx = ts.rolling(time = ndays).mean().sel(time = ts.time.dt.month.isin([12,1])).resample(time = \"AS-DEC\").max()\n",
    "    dsrnx.assign_coords(time = dsrnx.time.dt.year+1).rename(\"dsr\"+str(ndays)+\"x\", time = \"year\").to_dataframe().to_csv(\"ts/era5_dsr\"+str(ndays)+\"x-dj_socal-baja.csv\")"
   ]
  },
  {
   "cell_type": "code",
   "execution_count": null,
   "metadata": {},
   "outputs": [],
   "source": []
  }
 ],
 "metadata": {
  "kernelspec": {
   "display_name": "Python [conda env:wwa]",
   "language": "python",
   "name": "conda-env-wwa-py"
  },
  "language_info": {
   "codemirror_mode": {
    "name": "ipython",
    "version": 3
   },
   "file_extension": ".py",
   "mimetype": "text/x-python",
   "name": "python",
   "nbconvert_exporter": "python",
   "pygments_lexer": "ipython3",
   "version": "3.10.8"
  }
 },
 "nbformat": 4,
 "nbformat_minor": 4
}
