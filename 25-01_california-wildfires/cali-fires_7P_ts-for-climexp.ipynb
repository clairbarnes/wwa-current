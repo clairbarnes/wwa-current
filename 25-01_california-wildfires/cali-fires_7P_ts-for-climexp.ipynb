{
 "cells": [
  {
   "cell_type": "code",
   "execution_count": 147,
   "metadata": {},
   "outputs": [],
   "source": [
    "import pandas as pd, xarray as xr\n",
    "import os, glob, re\n",
    "\n",
    "study_nm = \"la-fires\"\n",
    "study_desc = \"Los Angeles wildfires 2025\"\n",
    "extent = \"coastal southern California\"\n",
    "\n",
    "\n",
    "desc1 = {\"dc7-doy-wrapped\": \"day of year on which drought ended\",\n",
    "         \"fwi1x\" : \"peak January FWI\",\n",
    "         \"spi-ond\": \"October-December SPI\",\n",
    "         \"nino34det\" : \"OND detrended Nino3.4 index\"}\n",
    "\n",
    "desc2 = {\"dc7-doy-wrapped\": \"dc-doy [doy] DOY after September 1st on which single largest 1-week drop in drought code occurred in \"+extent,\n",
    "         \"fwi1x\" : \"fwi1x [] January maximum of one-day FWI in \"+extent,\n",
    "         \"spi-ond\": \"spi-ond [] SPI of October-December mean rainfall (calibrated against 1991-2020) in \"+extent,\n",
    "         \"nino34det\": \"nino34-ond [degC] Detrended Nino34 index averaged over October-December\"}\n",
    "\n",
    "short_varnm = {\"dc7-doy-wrapped\": \"dc-doy\",\n",
    "               \"fwi1x\": \"fwi1x\",\n",
    "               \"spi-ond\": \"spi-ond\",\n",
    "               \"nino34det\": \"nino34-ond\"}"
   ]
  },
  {
   "cell_type": "markdown",
   "metadata": {},
   "source": [
    "# Observations"
   ]
  },
  {
   "cell_type": "code",
   "execution_count": 148,
   "metadata": {},
   "outputs": [],
   "source": [
    "flist = [\"ts/nino34_ond.csv\", \"ts/era5_fwi1x-jan_socal-baja.csv\", \"ts/era5_spi-ond_socal-baja.csv\", \"ts/era5_drought-end-date.csv\"]"
   ]
  },
  {
   "cell_type": "code",
   "execution_count": 160,
   "metadata": {},
   "outputs": [],
   "source": [
    "for fnm in flist:\n",
    "    \n",
    "    varnm = {\"ts/nino34_ond.csv\" : \"nino34det\", \n",
    "             \"ts/era5_fwi1x-jan_socal-baja.csv\" : \"fwi1x\", \n",
    "             \"ts/era5_spi-ond_socal-baja.csv\" : \"spi-ond\", \n",
    "             \"ts/era5_drought-end-date.csv\" : \"dc7-doy-wrapped\"}[fnm]\n",
    "    \n",
    "    if fnm == \"ts/era5_drought-end-date.csv\":\n",
    "        df = pd.read_csv(fnm).rename(columns = {\"season_start_year\" : \"year\", \"biggest_DC_drop_from_1st_Sept\" : \"doy\"})\n",
    "        df = df.set_index(\"year\")[[\"doy\"]]\n",
    "    else:\n",
    "        df = pd.read_csv(fnm, index_col = \"year\")\n",
    "\n",
    "    csv_fnm = study_nm+\"_\"+short_varnm[varnm]+\"_ERA5\"\n",
    "    \n",
    "    csv_fullpath = \"ts-final/\"+csv_fnm+\".dat\"\n",
    "    if len(csv_fnm) > 61: print(\"! Filename too long: \", csv_fnm)\n",
    "        \n",
    "    # create extra header lines for upload to Climate Explorer \n",
    "    str1 = \"# contact :: ERA5 \"+desc1[varnm]+\" - \"+study_desc+\", c.barnes22@imperial.ac.uk\"\n",
    "    str2 = \"# \"+desc2[varnm]+\" in \"+extent+\" at \"+csv_fnm+\".dat\"\n",
    "    head = \"# year \"+short_varnm[varnm]\n",
    "    \n",
    "    # make .dat file\n",
    "    ! echo \"$str1 \" > $csv_fullpath\n",
    "    ! echo \"$str2\" >> $csv_fullpath\n",
    "    ! echo \"$head\" >> $csv_fullpath\n",
    "    df.to_csv(csv_fullpath, sep = \" \", mode = \"a\", header = False)"
   ]
  },
  {
   "cell_type": "code",
   "execution_count": 87,
   "metadata": {},
   "outputs": [],
   "source": [
    "varnm = \"dc7-doy-wrapped\"\n",
    "\n",
    "for fnm in glob.glob(\"ts/cordex_\"+varnm+\"_*.csv\"):\n",
    "    \n",
    "    mdl = \"_\".join(fnm[:-4].split(\"_\")[2:])\n",
    "    df = pd.read_csv(fnm, index_col = \"year\")\n",
    "    \n",
    "    csv_fnm = study_nm+\"_\"+short_varnm[varnm]+\"_\"+mdl\n",
    "    \n",
    "    csv_fullpath = \"ts-final/\"+csv_fnm+\".dat\"\n",
    "    if len(csv_fnm) > 61: print(\"! Filename too long: \", csv_fnm)\n",
    "        \n",
    "    # create extra header lines for upload to Climate Explorer \n",
    "    str1 = \"# contact :: CORDEX \"+mdl+\" \"+desc1[varnm]+\" - \"+study_desc+\", c.barnes22@imperial.ac.uk\"\n",
    "    str2 = \"# \"+desc2[varnm]+\" in \"+extent+\" at \"+csv_fnm+\".dat\"\n",
    "    head = \"# year \"+short_varnm[varnm]\n",
    "    \n",
    "    # make .dat file\n",
    "    ! echo \"$str1 \" > $csv_fullpath\n",
    "    ! echo \"$str2\" >> $csv_fullpath\n",
    "    ! echo \"$head\" >> $csv_fullpath\n",
    "    df.to_csv(csv_fullpath, sep = \" \", mode = \"a\", header = False)"
   ]
  },
  {
   "cell_type": "markdown",
   "metadata": {},
   "source": [
    "# CMIP5 (CORDEX global covariates)\n"
   ]
  },
  {
   "cell_type": "code",
   "execution_count": 104,
   "metadata": {},
   "outputs": [],
   "source": [
    "varnm = \"nino34det\"\n",
    "\n",
    "for fnm in glob.glob(\"ts/nino34det_cmip5_*.nc\"):\n",
    "    \n",
    "    mdl = \"_\".join(fnm[:-3].split(\"_\")[-1:])\n",
    "    df = pd.read_csv(fnm, sep = \" \", index_col = \"year\")\n",
    "    \n",
    "    csv_fnm = study_nm+\"_nino34-det_cmip5_\"+mdl\n",
    "    \n",
    "    csv_fullpath = \"ts-final/\"+csv_fnm+\".dat\"\n",
    "    if len(csv_fnm) > 61: print(\"! Filename too long: \", csv_fnm)\n",
    "        \n",
    "    # create extra header lines for upload to Climate Explorer \n",
    "    str1 = \"# contact :: CMIP5 \"+mdl+\" OND detrended Nino3.4 index - \"+study_desc+\", c.barnes22@imperial.ac.uk\"\n",
    "    str2 = \"# nino34-ond [degC] Detrended Nino34 index averaged over October-December at \"+csv_fnm+\".dat\"\n",
    "    head = \"# year nino34-ond\"\n",
    "    \n",
    "    # make .dat file\n",
    "    ! echo \"$str1 \" > $csv_fullpath\n",
    "    ! echo \"$str2\" >> $csv_fullpath\n",
    "    ! echo \"$head\" >> $csv_fullpath\n",
    "    df.to_csv(csv_fullpath, sep = \" \", mode = \"a\", header = False)"
   ]
  },
  {
   "cell_type": "markdown",
   "metadata": {},
   "source": [
    "# HighResMIP"
   ]
  },
  {
   "cell_type": "code",
   "execution_count": 134,
   "metadata": {},
   "outputs": [],
   "source": [
    "for varnm in [\"spi-ond\", \"dc7-doy-wrapped\"]:\n",
    "\n",
    "    for fnm in glob.glob(\"ts/spi-ond_highresSST*.csv\"):\n",
    "\n",
    "        mdl = \"_\".join(fnm[:-4].split(\"_\")[2:])\n",
    "        df = pd.read_csv(fnm, index_col = \"year\")\n",
    "\n",
    "        csv_fnm = study_nm+\"_\"+short_varnm[varnm]+\"_highresSST_\"+mdl\n",
    "\n",
    "        csv_fullpath = \"ts-final/\"+csv_fnm+\".dat\"\n",
    "        if len(csv_fnm) > 61: print(\"! Filename too long: \", csv_fnm)\n",
    "\n",
    "        # create extra header lines for upload to Climate Explorer \n",
    "        str1 = \"# contact :: HighResSST \"+mdl+\" \"+desc1[varnm]+\" - \"+study_desc+\", c.barnes22@imperial.ac.uk\"\n",
    "        str2 = \"# \"+desc2[varnm]+\" in \"+extent+\" at \"+csv_fnm+\".dat\"\n",
    "        head = \"# year \"+short_varnm[varnm]\n",
    "\n",
    "        # make .dat file\n",
    "        ! echo \"$str1 \" > $csv_fullpath\n",
    "        ! echo \"$str2\" >> $csv_fullpath\n",
    "        ! echo \"$head\" >> $csv_fullpath\n",
    "        df.to_csv(csv_fullpath, sep = \" \", mode = \"a\", header = False)"
   ]
  },
  {
   "cell_type": "code",
   "execution_count": 131,
   "metadata": {},
   "outputs": [],
   "source": [
    "for fnm in glob.glob(\"ts/spi-ond_IPSL*.csv\"):\n",
    "\n",
    "    mdl = fnm.split(\"_\")[1]+\"_\"+fnm[-12:-4]\n",
    "    df = pd.read_csv(fnm, index_col = \"year\")\n",
    "    \n",
    "    csv_fnm = study_nm+\"_\"+short_varnm[varnm]+\"_highresSST_\"+mdl\n",
    "    \n",
    "    csv_fullpath = \"ts-final/\"+csv_fnm+\".dat\"\n",
    "    if len(csv_fnm) > 61: print(\"! Filename too long: \", csv_fnm)\n",
    "        \n",
    "    # create extra header lines for upload to Climate Explorer \n",
    "    str1 = \"# contact :: HighResSST \"+mdl+\" \"+desc1[varnm]+\" - \"+study_desc+\", c.barnes22@imperial.ac.uk\"\n",
    "    str2 = \"# \"+desc2[varnm]+\" in \"+extent+\" at \"+csv_fnm+\".dat\"\n",
    "    head = \"# year \"+short_varnm[varnm]\n",
    "    \n",
    "    # make .dat file\n",
    "    ! echo \"$str1 \" > $csv_fullpath\n",
    "    ! echo \"$str2\" >> $csv_fullpath\n",
    "    ! echo \"$head\" >> $csv_fullpath\n",
    "    df.to_csv(csv_fullpath, sep = \" \", mode = \"a\", header = False)"
   ]
  },
  {
   "cell_type": "code",
   "execution_count": null,
   "metadata": {},
   "outputs": [],
   "source": []
  }
 ],
 "metadata": {
  "kernelspec": {
   "display_name": "wwa",
   "language": "python",
   "name": "wwa"
  },
  "language_info": {
   "codemirror_mode": {
    "name": "ipython",
    "version": 3
   },
   "file_extension": ".py",
   "mimetype": "text/x-python",
   "name": "python",
   "nbconvert_exporter": "python",
   "pygments_lexer": "ipython3",
   "version": "3.10.8"
  }
 },
 "nbformat": 4,
 "nbformat_minor": 2
}
