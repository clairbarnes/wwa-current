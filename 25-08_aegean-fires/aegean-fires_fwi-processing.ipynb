{
 "cells": [
  {
   "cell_type": "code",
   "execution_count": 5,
   "metadata": {},
   "outputs": [],
   "source": [
    "import xarray as xr, matplotlib.pyplot as plt\n",
    "import glob, re\n",
    "\n",
    "from  IPython.display import clear_output\n",
    "\n",
    "# define region to subset\n",
    "xn,xx,yn,yx = [19,38,33,46]\n",
    "\n",
    "fpath = \"/rds/general/user/cb2714/home/00_WWA_project_folder/ephemeral/synda_Mariam/data/EUR-11\"\n",
    "outpath = \"/rds/general/ephemeral/project/wwa/ephemeral/EUR_fire/cordex/sfcWindmax/uncompiled\"\n",
    "\n",
    "varnm = \"sfcWindmax\"\n",
    "units = \"m/s\""
   ]
  },
  {
   "cell_type": "code",
   "execution_count": null,
   "metadata": {},
   "outputs": [],
   "source": [
    "print(\"!\")"
   ]
  },
  {
   "cell_type": "markdown",
   "metadata": {},
   "source": [
    "# Pre-processing sfcWindmax downloaded from synda"
   ]
  },
  {
   "cell_type": "code",
   "execution_count": 6,
   "metadata": {},
   "outputs": [],
   "source": [
    "# get list of models for which both historical & rcp85 runs are available\n",
    "fl_rcp = glob.glob(fpath+\"/*/*/*/\"+varnm+\"/*rcp85*.nc\")\n",
    "fl_hist = glob.glob(fpath+\"/*/*/*/\"+varnm+\"/*historical*.nc\")\n",
    "\n",
    "mdl_rcp = list(set([\"/\".join(fnm.split(\"/\")[-5:-2]) for fnm in fl_rcp]))\n",
    "mdl_hist = list(set([re.sub(\"historical\", \"rcp85\", \"/\".join(fnm.split(\"/\")[-5:-2])) for fnm in fl_hist]))\n",
    "mlist = sorted([m for m in mdl_rcp if m in mdl_hist])"
   ]
  },
  {
   "cell_type": "code",
   "execution_count": 7,
   "metadata": {},
   "outputs": [],
   "source": [
    "# write as .csv for looping over later\n",
    "with open('cordex-models.txt', 'w+') as f:\n",
    "    for m in mlist:\n",
    "        f.write('%s\\n' %m)\n",
    "f.close()"
   ]
  },
  {
   "cell_type": "markdown",
   "metadata": {},
   "source": [
    "## Extract data subset with cdo"
   ]
  },
  {
   "cell_type": "code",
   "execution_count": null,
   "metadata": {},
   "outputs": [
    {
     "name": "stdout",
     "output_type": "stream",
     "text": [
      "CNRM-CERFACS-CNRM-CM5/r1i1p1/ALADIN63\n",
      "CNRM-CERFACS-CNRM-CM5/r1i1p1/COSMO-crCLIM-v1-1\n",
      "cdo sellonlatbox: Processed 318980288 values from 1 variable over 1826 timesteps ( 7.68s )\n",
      "cdo sellonlatbox: Processed 319154976 values from 1 variable over 1827 timesteps ( 7.68s )\n",
      "cdo sellonlatbox: Processed 318980288 values from 1 variable over 1826 timesteps ( 7.67s )\n",
      "cdo sellonlatbox: Processed 318980288 values from 1 variable over 1826 timesteps ( 7.66s )\n",
      "cdo sellonlatbox: Processed 318980288 values from 1 variable over 1826 timesteps ( 7.66s )\n",
      "cdo sellonlatbox: Processed 319154976 values from 1 variable over 1827 timesteps ( 7.68s )\n",
      "cdo sellonlatbox: Processed 318980288 values from 1 variable over 1826 timesteps ( 7.65s )\n",
      "cdo sellonlatbox: Processed 318980288 values from 1 variable over 1826 timesteps ( 7.68s )\n",
      "cdo sellonlatbox: Processed 318980288 values from 1 variable over 1826 timesteps ( 7.69s )\n",
      "cdo sellonlatbox: Processed 319154976 values from 1 variable over 1827 timesteps ( 7.66s )\n",
      "cdo sellonlatbox: Processed 318980288 values from 1 variable over 1826 timesteps ( 7.66s )\n",
      "cdo sellonlatbox: Processed 318980288 values from 1 variable over 1826 timesteps ( 7.65s )\n",
      "cdo sellonlatbox: Processed 318980288 values from 1 variable over 1826 timesteps ( 7.65s )\n",
      "cdo sellonlatbox: Processed 319154976 values from 1 variable over 1827 timesteps ( 7.66s )\n",
      "cdo sellonlatbox: Processed 318980288 values from 1 variable over 1826 timesteps ( 7.67s )\n",
      "cdo sellonlatbox: Processed 318980288 values from 1 variable over 1826 timesteps ( 7.67s )\n",
      "cdo sellonlatbox: Processed 318980288 values from 1 variable over 1826 timesteps ( 7.67s )\n",
      "cdo sellonlatbox: Processed 319154976 values from 1 variable over 1827 timesteps ( 7.67s )\n",
      "cdo sellonlatbox: Processed 318980288 values from 1 variable over 1826 timesteps ( 7.67s )\n",
      "cdo sellonlatbox: Processed 318980288 values from 1 variable over 1826 timesteps ( 7.65s )\n",
      "CNRM-CERFACS-CNRM-CM5/r1i1p1/HIRHAM5\n",
      "cdo sellonlatbox: Processed 318980288 values from 1 variable over 1826 timesteps ( 7.22s )\n",
      "cdo sellonlatbox: Processed 319154976 values from 1 variable over 1827 timesteps ( 7.20s )\n",
      "cdo sellonlatbox: Processed 318980288 values from 1 variable over 1826 timesteps ( 7.21s )\n",
      "cdo sellonlatbox: Processed 318980288 values from 1 variable over 1826 timesteps ( 7.20s )\n",
      "cdo sellonlatbox: Processed 318980288 values from 1 variable over 1826 timesteps ( 7.20s )\n",
      "cdo sellonlatbox: Processed 319154976 values from 1 variable over 1827 timesteps ( 7.22s )\n",
      "cdo sellonlatbox: Processed 318980288 values from 1 variable over 1826 timesteps ( 7.20s )\n",
      "cdo sellonlatbox: Processed 318980288 values from 1 variable over 1826 timesteps ( 7.20s )\n",
      "cdo sellonlatbox: Processed 318980288 values from 1 variable over 1826 timesteps ( 7.19s )\n",
      "cdo sellonlatbox: Processed 319154976 values from 1 variable over 1827 timesteps ( 7.21s )\n",
      "cdo sellonlatbox: Processed 318980288 values from 1 variable over 1826 timesteps ( 7.21s )\n",
      "cdo sellonlatbox: Processed 318980288 values from 1 variable over 1826 timesteps ( 7.21s )\n",
      "cdo sellonlatbox: Processed 318980288 values from 1 variable over 1826 timesteps ( 7.19s )\n",
      "cdo sellonlatbox: Processed 319154976 values from 1 variable over 1827 timesteps ( 7.22s )\n",
      "cdo sellonlatbox: Processed 318980288 values from 1 variable over 1826 timesteps ( 7.22s )\n",
      "cdo sellonlatbox: Processed 318980288 values from 1 variable over 1826 timesteps ( 7.19s )\n",
      "cdo sellonlatbox: Processed 318980288 values from 1 variable over 1826 timesteps ( 7.20s )\n",
      "cdo sellonlatbox: Processed 319154976 values from 1 variable over 1827 timesteps ( 7.21s )\n",
      "cdo sellonlatbox: Processed 318980288 values from 1 variable over 1826 timesteps ( 7.20s )\n",
      "cdo sellonlatbox: Processed 318980288 values from 1 variable over 1826 timesteps ( 7.19s )\n",
      "CNRM-CERFACS-CNRM-CM5/r1i1p1/HadREM3-GA7-05\n",
      "cdo sellonlatbox: Processed 261267104 values from 1 variable over 1492 timesteps ( 5.45s )\n",
      "cdo sellonlatbox: Processed 319929624 values from 1 variable over 1827 timesteps ( 6.69s )\n",
      "cdo sellonlatbox: Processed 319754512 values from 1 variable over 1826 timesteps ( 6.67s )\n",
      "cdo sellonlatbox: Processed 319754512 values from 1 variable over 1826 timesteps ( 6.65s )\n",
      "cdo sellonlatbox: Processed 319754512 values from 1 variable over 1826 timesteps ( 6.66s )\n",
      "cdo sellonlatbox: Processed 319929624 values from 1 variable over 1827 timesteps ( 6.66s )\n",
      "cdo sellonlatbox: Processed 319754512 values from 1 variable over 1826 timesteps ( 6.65s )\n",
      "cdo sellonlatbox: Processed 319754512 values from 1 variable over 1826 timesteps ( 6.66s )\n",
      "cdo sellonlatbox: Processed 319754512 values from 1 variable over 1826 timesteps ( 6.66s )\n",
      "cdo sellonlatbox: Processed 319929624 values from 1 variable over 1827 timesteps ( 6.66s )\n",
      "cdo sellonlatbox: Processed 319754512 values from 1 variable over 1826 timesteps ( 6.64s )\n",
      "cdo sellonlatbox: Processed 319754512 values from 1 variable over 1826 timesteps ( 6.64s )\n",
      "cdo sellonlatbox: Processed 319754512 values from 1 variable over 1826 timesteps ( 6.67s )\n",
      "cdo sellonlatbox: Processed 319754512 values from 1 variable over 1826 timesteps ( 6.66s )\n",
      "cdo sellonlatbox: Processed 319929624 values from 1 variable over 1827 timesteps ( 6.66s )\n",
      "cdo sellonlatbox: Processed 319754512 values from 1 variable over 1826 timesteps ( 6.66s )\n",
      "cdo sellonlatbox: Processed 319754512 values from 1 variable over 1826 timesteps ( 6.66s )\n",
      "cdo sellonlatbox: Processed 319754512 values from 1 variable over 1826 timesteps ( 6.65s )\n",
      "cdo sellonlatbox: Processed 319929624 values from 1 variable over 1827 timesteps ( 6.66s )\n",
      "cdo sellonlatbox: Processed 319754512 values from 1 variable over 1826 timesteps ( 6.66s )\n",
      "cdo sellonlatbox: Processed 319754512 values from 1 variable over 1826 timesteps ( 6.66s )\n",
      "CNRM-CERFACS-CNRM-CM5/r1i1p1/WRF381P\n",
      "cdo sellonlatbox: Processed 318980288 values from 1 variable over 1826 timesteps ( 5.20s )\n",
      "cdo sellonlatbox: Processed 319154976 values from 1 variable over 1827 timesteps ( 5.22s )\n",
      "cdo sellonlatbox: Processed 318980288 values from 1 variable over 1826 timesteps ( 5.21s )\n",
      "cdo sellonlatbox: Processed 318980288 values from 1 variable over 1826 timesteps ( 5.19s )\n",
      "cdo sellonlatbox: Processed 318980288 values from 1 variable over 1826 timesteps ( 5.20s )\n",
      "cdo sellonlatbox: Processed 319154976 values from 1 variable over 1827 timesteps ( 5.20s )\n",
      "cdo sellonlatbox: Processed 318980288 values from 1 variable over 1826 timesteps ( 5.21s )\n",
      "cdo sellonlatbox: Processed 318980288 values from 1 variable over 1826 timesteps ( 5.21s )\n",
      "cdo sellonlatbox: Processed 318980288 values from 1 variable over 1826 timesteps ( 5.17s )\n",
      "cdo sellonlatbox: Processed 319154976 values from 1 variable over 1827 timesteps ( 5.19s )\n",
      "cdo sellonlatbox: Processed 318980288 values from 1 variable over 1826 timesteps ( 5.17s )\n",
      "cdo sellonlatbox: Processed 318980288 values from 1 variable over 1826 timesteps ( 5.20s )\n",
      "cdo sellonlatbox: Processed 318980288 values from 1 variable over 1826 timesteps ( 5.20s )\n",
      "cdo sellonlatbox: Processed 319154976 values from 1 variable over 1827 timesteps ( 5.18s )\n",
      "cdo sellonlatbox: Processed 318980288 values from 1 variable over 1826 timesteps ( 5.20s )\n",
      "cdo sellonlatbox: Processed 318980288 values from 1 variable over 1826 timesteps ( 5.21s )\n",
      "cdo sellonlatbox: Processed 318980288 values from 1 variable over 1826 timesteps ( 5.22s )\n",
      "cdo sellonlatbox: Processed 319154976 values from 1 variable over 1827 timesteps ( 5.20s )\n",
      "cdo sellonlatbox: Processed 318980288 values from 1 variable over 1826 timesteps ( 5.21s )\n",
      "cdo sellonlatbox: Processed 318980288 values from 1 variable over 1826 timesteps ( 5.19s )\n",
      "ICHEC-EC-EARTH/r12i1p1/COSMO-crCLIM-v1-1\n",
      "cdo sellonlatbox: Processed 63761120 values from 1 variable over 365 timesteps ( 1.56s )\n",
      "cdo sellonlatbox: Processed 318980288 values from 1 variable over 1826 timesteps ( 7.75s )\n",
      "cdo sellonlatbox: Processed 319154976 values from 1 variable over 1827 timesteps ( 7.72s )\n",
      "cdo sellonlatbox: Processed 318980288 values from 1 variable over 1826 timesteps ( 7.70s )\n",
      "cdo sellonlatbox: Processed 318980288 values from 1 variable over 1826 timesteps ( 7.72s )\n",
      "cdo sellonlatbox: Processed 318980288 values from 1 variable over 1826 timesteps ( 7.71s )\n",
      "cdo sellonlatbox: Processed 319154976 values from 1 variable over 1827 timesteps ( 7.78s )\n",
      "cdo sellonlatbox: Processed 318980288 values from 1 variable over 1826 timesteps ( 7.74s )\n",
      "cdo sellonlatbox: Processed 318980288 values from 1 variable over 1826 timesteps ( 7.72s )\n",
      "cdo sellonlatbox: Processed 318980288 values from 1 variable over 1826 timesteps ( 7.72s )\n",
      "cdo sellonlatbox: Processed 319154976 values from 1 variable over 1827 timesteps ( 7.72s )\n",
      "cdo sellonlatbox: Processed 318980288 values from 1 variable over 1826 timesteps ( 7.73s )\n",
      "cdo sellonlatbox: Processed 318980288 values from 1 variable over 1826 timesteps ( 7.72s )\n",
      "cdo sellonlatbox: Processed 318980288 values from 1 variable over 1826 timesteps ( 7.73s )\n",
      "cdo sellonlatbox: Processed 319154976 values from 1 variable over 1827 timesteps ( 7.74s )\n",
      "cdo sellonlatbox: Processed 318980288 values from 1 variable over 1826 timesteps ( 7.74s )\n",
      "cdo sellonlatbox: Processed 318980288 values from 1 variable over 1826 timesteps ( 7.72s )\n",
      "cdo sellonlatbox: Processed 318980288 values from 1 variable over 1826 timesteps ( 7.74s )\n"
     ]
    }
   ],
   "source": [
    "! module load cdo; bash cdo_cordex.sh $varnm $xn $xx $yn $yx $fpath $outpath\n",
    "clear_output(wait = False)\n",
    "print(\"Done.\")"
   ]
  },
  {
   "cell_type": "markdown",
   "metadata": {},
   "source": [
    "## Compile & clean data"
   ]
  },
  {
   "cell_type": "code",
   "execution_count": null,
   "metadata": {},
   "outputs": [],
   "source": [
    "# remove weird annoying duplicated year\n",
    "! rm /scratchx/cbarnes/cordex/$snm/MOHC-HadGEM2-ES/$varnm\\_EUR-11_MOHC-HadGEM2-ES_rcp85_r1i1p1_ICTP-RegCM4-6_v1_day_20051201-20051230.nc"
   ]
  },
  {
   "cell_type": "code",
   "execution_count": null,
   "metadata": {},
   "outputs": [],
   "source": [
    "# specify how to shorten GCM & RCM names to keep filenames to manageable length\n",
    "gcm_short = {'CCCma-CanESM2' : 'CanESM2',\n",
    "             'CNRM-CERFACS-CNRM-CM5':'CNRM-CM5',\n",
    "             'ICHEC-EC-EARTH':'EC-EARTH',\n",
    "             'IPSL-IPSL-CM5A-MR':'IPSL-CM5A-MR',\n",
    "             'MIROC-MIROC5':'MIROC5',\n",
    "             'MOHC-HadGEM2-ES':'HadGEM2-ES',\n",
    "             'MPI-M-MPI-ESM-LR':'MPI-ESM-LR',\n",
    "             'NCC-NorESM1-M':'NorESM1-M'}\n",
    "\n",
    "rcm_short = {'CLMcom-CCLM4-8-17':'CCLM4-8-17',\n",
    "             'CLMcom-ETH-COSMO-crCLIM-v1-1':'COSMO-crCLIM-v1-1',\n",
    "             'CNRM-ALADIN53':'ALADIN53',\n",
    "             'CNRM-ALADIN63':'ALADIN63',\n",
    "             'DMI-HIRHAM5':'HIRHAM5',\n",
    "             'GERICS-REMO2015':'REMO2015',\n",
    "             'ICTP-RegCM4-6':'RegCM4-6',\n",
    "             'IPSL-WRF381P':'WRF381P',\n",
    "             'KNMI-RACMO22E':'RACMO22E',\n",
    "             'MOHC-HadREM3-GA7-05':'HadREM3-GA7-05',\n",
    "             'MPI-CSC-REMO2009':'REMO2009',\n",
    "             'SMHI-RCA4':'RCA4',\n",
    "             'UHOH-WRF361H':'WRF361H',\n",
    "             'RMIB-UGent-ALARO-0':\"ALARO-0\"}"
   ]
  },
  {
   "cell_type": "code",
   "execution_count": null,
   "metadata": {},
   "outputs": [],
   "source": [
    "# get list of models with available data\n",
    "mlist = sorted(list(set([\"_\".join(re.sub(\"historical|rcp85\", \"*\", fnm).split(\"_\")[2:-2]) for fnm in glob.glob(outpath+\"/\"+varnm+\"*.nc\")[:10]])))[:1]"
   ]
  },
  {
   "cell_type": "code",
   "execution_count": null,
   "metadata": {},
   "outputs": [],
   "source": [
    "# loop over models & compile\n",
    "for m in mlist:\n",
    "\n",
    "    # keeps crashing the whole process, so skipping (pr)\n",
    "    if varnm == \"pr\" and m in [\"MIROC-MIROC5_rcp85_r1i1p1_UHOH-WRF361H_v1\", \"MPI-M-MPI-ESM-LR_rcp85_r1i1p1_UHOH-WRF361H_v1\",\n",
    "                               \"MPI-M-MPI-ESM-LR_rcp85_r1i1p1_MPI-CSC-REMO2009_v1\"]: continue\n",
    "    \n",
    "    print(m, end = \" - \")\n",
    "    domain,gcm,sc,ens,rcm,rcmv = m.split(\"_\")\n",
    "    fl = sorted(glob.glob(outpath+\"/\"+varnm+\"*\"+ens+\"_\"+rcm+\"_\"+rcmv+\"_*.nc\"))\n",
    "    fl = [fnm for fnm in fl if int(fnm[-20:-16]) < 2070] # exclude runs starting after 2070\n",
    "    if len(fl) == 0:\n",
    "        print(\"no data\")\n",
    "        continue\n",
    "\n",
    "    new_fnm = \"/rds/general/ephemeral/project/wwa/ephemeral/EUR_fire/cordex/\"+varnm+\"/\"+varnm+\"_\"+domain+\"_\"+gcm_short[gcm]+\"_\"+ens+\"_\"+rcm_short[rcm]+\"_\"+fl[0][-20:-12]+\"-\"+fl[-1][-11:-3]+\".nc\"\n",
    "    if os.path.exists(new_fnm): \n",
    "        print(\"already processed\")\n",
    "        continue\n",
    "\n",
    "    print(new_fnm)\n",
    "\n",
    "    ds = convert_units_to(xr.open_mfdataset(fl, coords = \"minimal\", compat = \"override\")[varnm], units).squeeze(drop = True)\n",
    "\n",
    "    if ds.time.dt.year.min() > 1980 or ds.time.dt.year.max() < 2030: \n",
    "        print(\"only data from \"+fl[0][-20:-12]+\"-\"+fl[-1][-11:-3])\n",
    "        continue\n",
    "    \n",
    "    if \"height\" in ds.coords: ds = ds.reset_coords(\"height\", drop = True)\n",
    "    ds.to_netcdf(new_fnm)\n",
    "    print(\"complete\")\n",
    "clear_output(wait = False)\n",
    "print(\"Done.\")"
   ]
  },
  {
   "cell_type": "markdown",
   "metadata": {},
   "source": [
    "# Compute FWI"
   ]
  },
  {
   "cell_type": "code",
   "execution_count": null,
   "metadata": {},
   "outputs": [],
   "source": []
  }
 ],
 "metadata": {
  "kernelspec": {
   "display_name": "wwa (new)",
   "language": "python",
   "name": "wwa"
  },
  "language_info": {
   "codemirror_mode": {
    "name": "ipython",
    "version": 3
   },
   "file_extension": ".py",
   "mimetype": "text/x-python",
   "name": "python",
   "nbconvert_exporter": "python",
   "pygments_lexer": "ipython3",
   "version": "3.13.5"
  }
 },
 "nbformat": 4,
 "nbformat_minor": 5
}
