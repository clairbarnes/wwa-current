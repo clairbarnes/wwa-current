{
 "cells": [
  {
   "cell_type": "code",
   "execution_count": 137,
   "metadata": {},
   "outputs": [],
   "source": [
    "suppressMessages(library(\"rwwa\", \"lubridate\"))\n",
    "aic_fevd <- function(mdl) {\n",
    "    ll <- mdl$results$value\n",
    "    npars <- length(mdl$results$par)\n",
    "    return(2*npars + 2*ll)\n",
    "}\n",
    "\n",
    "rnm <- \"CM\"\n",
    "th <- \"99%\""
   ]
  },
  {
   "cell_type": "code",
   "execution_count": 138,
   "metadata": {},
   "outputs": [],
   "source": [
    "if(nchar(rnm) == 2) {\n",
    "    fnm <- paste0(\"data/ts-ES\",rnm,\"_era5.csv\")\n",
    "} else {\n",
    "    fnm <- paste0(\"data/ghcnd_\",rnm,\".csv\")\n",
    "}\n",
    "\n",
    "ires <- 250   # image size per panel, in pixels"
   ]
  },
  {
   "cell_type": "code",
   "execution_count": 139,
   "metadata": {},
   "outputs": [
    {
     "data": {
      "text/html": [
       "<table class=\"dataframe\">\n",
       "<caption>A matrix: 1 × 5 of type dbl</caption>\n",
       "<thead>\n",
       "\t<tr><th></th><th scope=col>95%</th><th scope=col>99%</th><th scope=col>99.5%</th><th scope=col>99.75%</th><th scope=col>99.9%</th></tr>\n",
       "</thead>\n",
       "<tbody>\n",
       "\t<tr><th scope=row>qq</th><td>7.5</td><td>14.2</td><td>17.2</td><td>19.5</td><td>22.3</td></tr>\n",
       "</tbody>\n",
       "</table>\n"
      ],
      "text/latex": [
       "A matrix: 1 × 5 of type dbl\n",
       "\\begin{tabular}{r|lllll}\n",
       "  & 95\\% & 99\\% & 99.5\\% & 99.75\\% & 99.9\\%\\\\\n",
       "\\hline\n",
       "\tqq & 7.5 & 14.2 & 17.2 & 19.5 & 22.3\\\\\n",
       "\\end{tabular}\n"
      ],
      "text/markdown": [
       "\n",
       "A matrix: 1 × 5 of type dbl\n",
       "\n",
       "| <!--/--> | 95% | 99% | 99.5% | 99.75% | 99.9% |\n",
       "|---|---|---|---|---|---|\n",
       "| qq | 7.5 | 14.2 | 17.2 | 19.5 | 22.3 |\n",
       "\n"
      ],
      "text/plain": [
       "   95% 99%  99.5% 99.75% 99.9%\n",
       "qq 7.5 14.2 17.2  19.5   22.3 "
      ]
     },
     "metadata": {},
     "output_type": "display_data"
    }
   ],
   "source": [
    "gmst <- read.table(\"ts/gmst.txt\", col.names = c(\"year\", \"gmst\"))\n",
    "df <- read.csv(fnm)\n",
    "\n",
    "df$year <- as.integer(substr(df$time,1,4))\n",
    "df$month <- as.integer(substr(df$time,6,7))\n",
    "\n",
    "df <- merge(df, gmst)\n",
    "\n",
    "qq <- quantile(df[(df$year >= 1991) & (df$year <= 2020),\"pr\"], c(0.95, .99, .995, .9975, .999))\n",
    "round(t(data.frame(qq)),1)"
   ]
  },
  {
   "cell_type": "code",
   "execution_count": 140,
   "metadata": {},
   "outputs": [],
   "source": [
    "# decluster data and add to data.frame for easier use later\n",
    "dc <- decluster(df$pr, threshold = qq[th], r = 1, method = \"runs\", clusterfun = \"max\") # clusters are separated by at least 1 day\n",
    "df$pr_dc <- c(dc)"
   ]
  },
  {
   "cell_type": "markdown",
   "metadata": {},
   "source": [
    "# Exploratory plots"
   ]
  },
  {
   "cell_type": "code",
   "execution_count": 141,
   "metadata": {},
   "outputs": [],
   "source": [
    "df_x <- df[df$pr >= qq[th],]\n",
    "n_peryear <- aggregate(df$pr >= qq[\"99%\"], by = list(\"year\" = df$year), FUN = \"sum\", simplify = T)\n",
    "n_perymonth <- aggregate(df$pr >= qq[\"99%\"], by = list(df$month, df$year), FUN = \"sum\", simplify = T)\n",
    "n_permonth <- aggregate(n_perymonth[,\"x\",drop = F], by = list(\"cmonth\" = n_perymonth$Group.1), FUN = \"mean\")\n",
    "n_permonth$m_offset <- ((n_permonth$cmonth + 4) %% 12) + 1 # adjust months to cut at start of August (driest part of year)"
   ]
  },
  {
   "cell_type": "code",
   "execution_count": 142,
   "metadata": {},
   "outputs": [
    {
     "data": {
      "text/html": [
       "<strong>png:</strong> 2"
      ],
      "text/latex": [
       "\\textbf{png:} 2"
      ],
      "text/markdown": [
       "**png:** 2"
      ],
      "text/plain": [
       "png \n",
       "  2 "
      ]
     },
     "metadata": {},
     "output_type": "display_data"
    }
   ],
   "source": [
    "nc <- 3\n",
    "png(paste0(\"fig_gpd/\",rnm,\"_q\",gsub(\"\\\\.\",\"-\",gsub(\"%\",\"\",th)),\"_summary.png\"), h = ires, w = ires * nc); {\n",
    "    prep_window(c(1,nc))\n",
    "\n",
    "    plot(dc, main = \"Declustered exceedances\")\n",
    "    title(\"Declustered exceedances\")\n",
    "\n",
    "    plot(df_x$year, df_x$pr, main = \"Exceedances\")\n",
    "    lines(df_x$year, fitted(loess(pr ~ year, df_x)), col = \"blue\", lty = \"22\", lwd = 2) # add a smoother through number of exceedances\n",
    "\n",
    "    plot(n_peryear, main = \"# excedances per year\", xlab = \"Year\")\n",
    "    lines(n_peryear$year, fitted(loess(x ~ year, n_peryear)), col = \"blue\", lty = \"22\", lwd = 2) # add a smoother through number of exceedances\n",
    "\n",
    "#     plot(n_permonth$m_offset, n_permonth$x, main = \"# exceedances per calendar month\", xaxt = \"n\", xlim = c(1,12), xlab = \"Calendar month\")\n",
    "#     axis(1, at = 1:12, labels = c(8:12,1:7))\n",
    "}; dev.off()"
   ]
  },
  {
   "cell_type": "markdown",
   "metadata": {},
   "source": [
    "## Test sensitivity to threshold"
   ]
  },
  {
   "cell_type": "code",
   "execution_count": 143,
   "metadata": {},
   "outputs": [
    {
     "data": {
      "text/html": [
       "<strong>png:</strong> 2"
      ],
      "text/latex": [
       "\\textbf{png:} 2"
      ],
      "text/markdown": [
       "**png:** 2"
      ],
      "text/plain": [
       "png \n",
       "  2 "
      ]
     },
     "metadata": {},
     "output_type": "display_data"
    }
   ],
   "source": [
    "nc <- 4\n",
    "png(paste0(\"fig_gpd/\",rnm,\"_threshrange-plot-PP.png\"), h = ires, w = ires * nc); {\n",
    "    prep_window(c(1,nc))\n",
    "\n",
    "    xlim = c(floor(qq[1]), ceiling(qq[length(qq)]))\n",
    "\n",
    "    threshrange.plot(df$pr, r = xlim, nint = xlim[2]-xlim[1], set.panels = F, type = \"PP\")\n",
    "    abline(v = qq, col = adjustcolor(\"red\", 0.5))\n",
    "\n",
    "    mrlplot(df$pr, xlim = xlim)\n",
    "    abline(v = qq, col = adjustcolor(\"red\", 0.5))\n",
    "    text(qq, y = 0, labels = names(qq), pos = 4, col = adjustcolor(\"red\", 0.5))\n",
    "\n",
    "    # anywhere up to ~24 should be pretty stable - somewhere between q99.5 and q99.75\n",
    "    # will use 99th percentile of 1990-2020 climatology for now\n",
    "}; dev.off()"
   ]
  },
  {
   "cell_type": "code",
   "execution_count": 144,
   "metadata": {},
   "outputs": [
    {
     "data": {
      "text/html": [
       "<strong>png:</strong> 2"
      ],
      "text/latex": [
       "\\textbf{png:} 2"
      ],
      "text/markdown": [
       "**png:** 2"
      ],
      "text/plain": [
       "png \n",
       "  2 "
      ]
     },
     "metadata": {},
     "output_type": "display_data"
    }
   ],
   "source": [
    "nc <- 4\n",
    "png(paste0(\"fig_gpd/\",rnm,\"_threshrange-plot-GP.png\"), h = ires, w = ires * nc); {\n",
    "    prep_window(c(1,nc))\n",
    "\n",
    "    xlim = c(floor(qq[1]), ceiling(qq[length(qq)]))\n",
    "\n",
    "    threshrange.plot(df$pr, r = xlim, nint = xlim[2]-xlim[1], set.panels = F, type = \"GP\")\n",
    "    abline(v = qq, col = adjustcolor(\"red\", 0.5))\n",
    "    \n",
    "    mrlplot(df$pr, xlim = xlim)\n",
    "    abline(v = qq, col = adjustcolor(\"red\", 0.5))\n",
    "    text(qq, y = 0, labels = names(qq), pos = 4, col = adjustcolor(\"red\", 0.5))\n",
    "\n",
    "    # anywhere up to ~24 should be pretty stable - somewhere between q99.5 and q99.75\n",
    "    # will use 99th percentile of 1990-2020 climatology for now\n",
    "}; dev.off()"
   ]
  },
  {
   "cell_type": "markdown",
   "metadata": {},
   "source": [
    "# Fit some example models"
   ]
  },
  {
   "cell_type": "markdown",
   "metadata": {},
   "source": [
    "## GPD without declustering"
   ]
  },
  {
   "cell_type": "code",
   "execution_count": 145,
   "metadata": {},
   "outputs": [],
   "source": [
    "mdl1 <- fevd(df$pr, data = df, threshold = qq[th], location.fun = ~gmst, type = \"GP\")"
   ]
  },
  {
   "cell_type": "code",
   "execution_count": 146,
   "metadata": {},
   "outputs": [
    {
     "data": {
      "text/html": [
       "<strong>png:</strong> 2"
      ],
      "text/latex": [
       "\\textbf{png:} 2"
      ],
      "text/markdown": [
       "**png:** 2"
      ],
      "text/plain": [
       "png \n",
       "  2 "
      ]
     },
     "metadata": {},
     "output_type": "display_data"
    }
   ],
   "source": [
    "nc <- 4\n",
    "png(paste0(\"fig_gpd/\",rnm,\"_q\",gsub(\"\\\\.\",\"-\",gsub(\"%\",\"\",th)),\"_GP-allpoints.png\"), h = ires, w = ires * nc); {\n",
    "    prep_window(c(1,nc), oma = c(0,0,2,0))\n",
    "    plot(df$pr, main = \"Exceedances\")\n",
    "    abline(h = qq[th], col = \"magenta\")\n",
    "    plot(mdl1, type = \"qq2\")\n",
    "    title(\"Q-Q plot\")\n",
    "    plot(mdl1, type = \"rl\", rperiods = c(5,20), main = \"Return levels\")\n",
    "    mtext(paste0(\"Generalised Pareto, exceedances of \", th, \" (no declustering) - \", rnm), side = 3, outer = T, font = 2)\n",
    "}; dev.off()"
   ]
  },
  {
   "cell_type": "markdown",
   "metadata": {},
   "source": [
    "## GPD, declustering"
   ]
  },
  {
   "cell_type": "code",
   "execution_count": 147,
   "metadata": {},
   "outputs": [],
   "source": [
    "mdl4 <- fevd(df$pr_dc, data = df, threshold = qq[th], location.fun = ~gmst, type = \"GP\")"
   ]
  },
  {
   "cell_type": "code",
   "execution_count": 148,
   "metadata": {},
   "outputs": [
    {
     "data": {
      "text/html": [
       "<strong>png:</strong> 2"
      ],
      "text/latex": [
       "\\textbf{png:} 2"
      ],
      "text/markdown": [
       "**png:** 2"
      ],
      "text/plain": [
       "png \n",
       "  2 "
      ]
     },
     "metadata": {},
     "output_type": "display_data"
    }
   ],
   "source": [
    "nc <- 4\n",
    "png(paste0(\"fig_gpd/\",rnm,\"_q\",gsub(\"\\\\.\",\"-\",gsub(\"%\",\"\",th)),\"_GP-declustered.png\"), h = ires, w = ires * nc); {\n",
    "    prep_window(c(1,nc), oma = c(0,0,2,0))\n",
    "    plot(dc, main = \"Declustered points\")\n",
    "    title(\"Declustered points\")\n",
    "    plot(mdl4, type = \"qq2\")\n",
    "    title(\"Q-Q plot\")\n",
    "    plot(mdl4, type = \"rl\", rperiods = c(5,20), main = \"Return levels\")\n",
    "    mtext(paste0(\"Generalised Pareto, exceedances of \", th, \" (declustered, 1 day between runs) - \", rnm), side = 3, outer = T, font = 2)\n",
    "\n",
    "}; dev.off()"
   ]
  },
  {
   "cell_type": "markdown",
   "metadata": {},
   "source": [
    "## Point process model, no declustering"
   ]
  },
  {
   "cell_type": "code",
   "execution_count": 149,
   "metadata": {},
   "outputs": [],
   "source": [
    "# point process model only\n",
    "mdl2 <- fevd(df$pr, data = df, threshold = qq[th], location.fun = ~gmst, type = \"PP\")"
   ]
  },
  {
   "cell_type": "code",
   "execution_count": 150,
   "metadata": {},
   "outputs": [
    {
     "data": {
      "text/html": [
       "<strong>png:</strong> 2"
      ],
      "text/latex": [
       "\\textbf{png:} 2"
      ],
      "text/markdown": [
       "**png:** 2"
      ],
      "text/plain": [
       "png \n",
       "  2 "
      ]
     },
     "metadata": {},
     "output_type": "display_data"
    }
   ],
   "source": [
    "nc <- 4\n",
    "png(paste0(\"fig_gpd/\",rnm,\"_q\",gsub(\"\\\\.\",\"-\",gsub(\"%\",\"\",th)),\"_PP-allpoints.png\"), h = ires, w = ires * nc); {\n",
    "    prep_window(c(1,nc), oma = c(0,0,2,0))\n",
    "    plot(df$pr, main = \"Exceedances\")\n",
    "    plot(mdl2, type = \"qq2\")\n",
    "    title(\"Q-Q plot\")\n",
    "    plot(mdl2, type = \"rl\", rperiods = c(5,20), main = \"Return levels\")\n",
    "    plot(mdl2, type = \"Zplot\")\n",
    "    title(\"Z plot\")\n",
    "    mtext(paste0(\"Point process, exceedances of \", th, \" (declustered, 1 day between runs) - \", rnm), side = 3, outer = T, font = 2)\n",
    "\n",
    "}; dev.off()"
   ]
  },
  {
   "cell_type": "markdown",
   "metadata": {},
   "source": [
    "## Point process model, declustering"
   ]
  },
  {
   "cell_type": "code",
   "execution_count": 151,
   "metadata": {},
   "outputs": [],
   "source": [
    "mdl3 <- fevd(df$pr_dc, data = df, threshold = qq[th], location.fun = ~gmst, type = \"PP\")"
   ]
  },
  {
   "cell_type": "code",
   "execution_count": 152,
   "metadata": {},
   "outputs": [
    {
     "data": {
      "text/html": [
       "<strong>png:</strong> 2"
      ],
      "text/latex": [
       "\\textbf{png:} 2"
      ],
      "text/markdown": [
       "**png:** 2"
      ],
      "text/plain": [
       "png \n",
       "  2 "
      ]
     },
     "metadata": {},
     "output_type": "display_data"
    }
   ],
   "source": [
    "nc <- 4\n",
    "png(paste0(\"fig_gpd/\",rnm,\"_q\",gsub(\"\\\\.\",\"-\",gsub(\"%\",\"\",th)),\"_PP-declustered.png\"), h = ires, w = ires * nc); {\n",
    "    prep_window(c(1,nc), oma = c(0,0,2,0))\n",
    "    plot(dc, main = \"Declustered points\")\n",
    "    plot(mdl3, type = \"qq2\")\n",
    "    title(\"Q-Q plot\")\n",
    "    plot(mdl3, type = \"rl\", rperiods = c(5,20), main = \"Return levels\")\n",
    "    plot(mdl3, type = \"Zplot\")\n",
    "    title(\"Z plot\")\n",
    "    mtext(paste0(\"Point process, exceedances of \", th, \" (declustered, 1 day between runs) - \", rnm), side = 3, outer = T, font = 2)\n",
    "}; dev.off()"
   ]
  },
  {
   "cell_type": "markdown",
   "metadata": {},
   "source": [
    "# Check model fits\n",
    "\n",
    "- extract model parameters for comparison (not clear how to do this from CI object)"
   ]
  },
  {
   "cell_type": "code",
   "execution_count": 153,
   "metadata": {},
   "outputs": [],
   "source": [
    "# Point process is always better than GP - but is this to do with how log-likelihood is calculated?\n",
    "mlist <- list(\"GPD, all\" = mdl1, \"PP, all\"= mdl2, \"GPD, declustered\" = mdl4, \"PP, declustered\" = mdl3)"
   ]
  }
 ],
 "metadata": {
  "kernelspec": {
   "display_name": "R [conda env:r_env]",
   "language": "R",
   "name": "conda-env-r_env-r"
  },
  "language_info": {
   "codemirror_mode": "r",
   "file_extension": ".r",
   "mimetype": "text/x-r-source",
   "name": "R",
   "pygments_lexer": "r",
   "version": "4.2.2"
  }
 },
 "nbformat": 4,
 "nbformat_minor": 2
}
